{
 "cells": [
  {
   "cell_type": "markdown",
   "id": "befafeaf-8f17-4f0e-939e-fdb335d50c07",
   "metadata": {},
   "source": [
    "## Data Manipulation with pandas\n",
    "\n",
    "\n"
   ]
  },
  {
   "cell_type": "markdown",
   "id": "5280fcc3-fb27-4b3d-b1d6-6a214e661281",
   "metadata": {},
   "source": [
    "# Course Description\n",
    "\n",
    "pandas is the world's most popular Python library, used for everything from data manipulation to data analysis. In this course, you'll learn how to manipulate DataFrames, as you extract, filter, and transform real-world datasets for analysis. Using pandas you’ll explore all the core data science concepts. Using real-world data, including Walmart sales figures and global temperature time series, you’ll learn how to import, clean, calculate statistics, and create visualizations—using pandas to add to the power of Python!"
   ]
  },
  {
   "cell_type": "markdown",
   "id": "c33776df-9dc5-4823-a39b-94495937ccb7",
   "metadata": {},
   "source": [
    "##  Transforming DataFrames\n",
    "Free\n",
    "0%\n",
    "\n",
    "Let’s master the pandas basics. Learn how to inspect DataFrames and perform fundamental manipulations, including sorting rows, subsetting, and adding new columns.\n",
    "\n",
    "    Introducing DataFrames    50 xp\n",
    "    Inspecting a DataFrame    100 xp\n",
    "    Parts of a DataFrame    100 xp\n",
    "    Sorting and subsetting    50 xp\n",
    "    Sorting rows    100 xp\n",
    "    Subsetting columns    100 xp\n",
    "    Subsetting rows    100 xp\n",
    "    Subsetting rows by categorical variables    100 xp\n",
    "    New columns    50 xp\n",
    "    Adding new columns    100 xp\n",
    "    Combo-attack!    100 xp\n"
   ]
  },
  {
   "cell_type": "markdown",
   "id": "78f0e75d-b849-4364-9e32-5fb97ce4372e",
   "metadata": {},
   "source": [
    "##  Aggregating DataFrames\n",
    "0%\n",
    "\n",
    "In this chapter, you’ll calculate summary statistics on DataFrame columns, and master grouped summary statistics and pivot tables.\n",
    "\n",
    "    Summary statistics    50 xp\n",
    "    Mean and median    100 xp\n",
    "    Summarizing dates    100 xp\n",
    "    Efficient summaries    100 xp\n",
    "    Cumulative statistics    100 xp\n",
    "    Counting    50 xp\n",
    "    Dropping duplicates    100 xp\n",
    "    Counting categorical variables    100 xp\n",
    "    Grouped summary statistics    50 xp\n",
    "    What percent of sales occurred at each store type?    100 xp\n",
    "    Calculations with .groupby()    100 xp\n",
    "    Multiple grouped summaries    100 xp\n",
    "    Pivot tables    50 xp\n",
    "    Pivoting on one variable    100 xp\n",
    "    Fill in missing values and sum values with pivot tables    100 xp\n"
   ]
  },
  {
   "cell_type": "markdown",
   "id": "59bb7cfb-9f51-4c1e-adeb-a2287cf1adb5",
   "metadata": {},
   "source": [
    "##  Slicing and Indexing DataFrames\n",
    "0%\n",
    "\n",
    "Indexes are supercharged row and column names. Learn how they can be combined with slicing for powerful DataFrame subsetting.\n",
    "\n",
    "    Explicit indexes    50 xp\n",
    "    Setting and removing indexes    100 xp\n",
    "    Subsetting with .loc[]    100 xp\n",
    "    Setting multi-level indexes    100 xp\n",
    "    Sorting by index values    100 xp\n",
    "    Slicing and subsetting with .loc and .iloc    50 xp\n",
    "    Slicing index values    100 xp\n",
    "    Slicing in both directions    100 xp\n",
    "    Slicing time series    100 xp\n",
    "    Subsetting by row/column number    100 xp\n",
    "    Working with pivot tables    50 xp\n",
    "    Pivot temperature by city and year    100 xp\n",
    "    Subsetting pivot tables    100 xp\n",
    "    Calculating on a pivot table    100 xp\n"
   ]
  },
  {
   "cell_type": "markdown",
   "id": "7fb50c75-8c60-4404-b445-42085f3b0974",
   "metadata": {},
   "source": [
    "##  Creating and Visualizing DataFrames\n",
    "0%\n",
    "\n",
    "Learn to visualize the contents of your DataFrames, handle missing data values, and import data from and export data to CSV files.\n",
    "\n",
    "    Visualizing your data    50 xp\n",
    "    Which avocado size is most popular?    100 xp\n",
    "    Changes in sales over time    100 xp\n",
    "    Avocado supply and demand    100 xp\n",
    "    Price of conventional vs. organic avocados    100 xp\n",
    "    Missing values    50 xp\n",
    "    Finding missing values    100 xp\n",
    "    Removing missing values    100 xp\n",
    "    Replacing missing values    100 xp\n",
    "    Creating DataFrames    50 xp\n",
    "    List of dictionaries    100 xp\n",
    "    Dictionary of lists    100 xp\n",
    "    Reading and writing CSVs    50 xp\n",
    "    CSV to DataFrame    100 xp\n",
    "    DataFrame to CSV    100 xp\n",
    "    Wrap-up    50 xp \n",
    "    "
   ]
  },
  {
   "cell_type": "code",
   "execution_count": null,
   "id": "8b9e4503-d858-4e19-ab40-c2350c301817",
   "metadata": {},
   "outputs": [],
   "source": []
  },
  {
   "cell_type": "markdown",
   "id": "c4c8971b-46a5-4a6b-b349-6b501ee43ca6",
   "metadata": {},
   "source": [
    "## Introducing DataFrames\n",
    "\n",
    "\n",
    "\n",
    "# *******************************************************************************************************************\n",
    "**Pandas is a Python package for data manipulation.  It can also be used for data visulation, which will be introduced in chapter4.  We'll start be talking about DataFrames, which form the core of Pandas.  In chapter2, we'll discuss aggregating data to gather insights.  In chapter3, we'll learn all about slicing and indexing to subset DataFrames.  Finally, we'll visualize our data, deal with missing data, and read data into a DataFrame.  \n",
    "\n",
    "\n",
    "# *******************************************************************************************************************\n",
    "Pandas is built on top of two essential Python packages (I thought just based on NumPy): NumPy and Matplotlib.  NumPy provides multidimensional array objects for easy data manipulation that Pandas uses to store data, and Matplotlib has powerful data visualization capabilities that Pandas takes advantage of.  \n",
    "\n",
    "# Almost the entire Python data science community using Pandas.  There are several ways to store data for analysis, but rectangular data, sometimes called tabular data is the most cmmon form.  \n",
    "\n",
    "In below example with dogs, each observation or each dog is a row, and each variable or each dog property is a column.  Pandas is designed to work with rectangular data like this.  In Pandas, rectangular data is represented as a DataFrame object.  Each programming language used for data analysis has something similar to this.  R also has DataFrames, while SQL has database tables.  Every value within a column has the same data type, either text or numeric, but different columns can contain different data types.  \n",
    "\n",
    "\n",
    "**When you first receive a new dataset, you want to quickly explore it and get a sense of its contents. \n",
    "# *******************************************************************************************************************\n",
    "Pandas provides several methods for this, the first is .head(), which returns the first few rows of the DataFrame.  With this method, we only had several rows to begain with, not super exciting, but it bocomes very useful if you have many rows.  \n",
    "The .info() method displays the names of columns, the data types they contain, and whether they have any missing values.  \n",
    "A DataFrame's .shape attribute contains a tuple that holds the number of rows followed by the number of columns.  Since this is an attribute instead of a method, you write it without parentheses.  \n",
    "The .describe() method computes some summary statistics for numerical columns, like mean and median.  the count is the number of non-missing values in each column.  Describe is good for a quick overview of numeric variables, but if you want more control, you'll see how to perform more specific calculations later in the course.  \n",
    "\n",
    "# *******************************************************************************************************************\n",
    "# DataFrame consist of 3 different components, accessible using attributes.  .values, .columns, .index\n",
    "The .values attribute as you might expect, contains the data values in a 2-dimensional NumPy array.  The other two components of a DataFrame are labels for columns and rows.  The .columns attributes contains column names, and the .index attribute contains row numbers or row names.  Be careful, since row labels are stored in .index not in .rows.  Notice that these are index objects, which we'll cover in chapter3.  This allows for flexibility in labels.  For example, the dogs data uses row numbers, but row names are also possible.  \n",
    "\n",
    "\n",
    "Python has a semi-official philosophy on how to write good code called The Zen of Python.  One suggestion is that given aprogramming problem, there should be one obvious solution.  As you go through this course, bear in mind that Pandas deliberately doesnt follow this philosopyh.  Instead there are often multiple ways to solve a problem, leaving you to choose the best.  \n",
    "\n",
    "In this respect, Pandas is like a Swiss Army Knife, giving you a variety of tools, making it increibly powerful, but more difficult to learn.  \n",
    "\n",
    "In this course, we aim for a more streamlined approach to Pandas, only covering the most important ways of doing things.  \n",
    "\n",
    "\n",
    "---------------------------------------------------------------------------------\n",
    "Name      | Breed       | Color   | Height(cm)  | Weight(kg)  | Dataof Birth\n",
    "Bella     | Labrador    | Brown   | 56          | 25          | 2013-07-01\n",
    "Charlie   | Poodle      | Black   | 43          | 23          | 2016-09-16\n",
    "Lucy      | Chow Chow   | Brown   | 46          | 22          | 2014-08-25\n",
    "Cooper    | Schnauzer   | Gray    | 49          | 17          | 2011-12-11\n",
    "Max       | Labrador    | Black   | 59          | 29          | 2017-01-20\n",
    "Stella    | Chihuahua   | Tan     | 18          | 2           | 2015-04-20\n",
    "Bernie    | St.Bernard  | White   | 77          | 74          | 2018-02-27\n",
    "\n",
    "\n"
   ]
  },
  {
   "cell_type": "code",
   "execution_count": 9,
   "id": "d90cd0cb-8a47-4849-9426-7ac2211d25be",
   "metadata": {},
   "outputs": [
    {
     "name": "stdout",
     "output_type": "stream",
     "text": [
      "      Name       Breed  Color  Height(cm)  Weight(kg) Dataof Birth\n",
      "0    Bella    Labrador  Brown          56          25   2013-07-01\n",
      "1  Charlie      Poodle  Black          43          23   2016-09-16\n",
      "2     Lucy   Chow Chow  Brown          46          22   2014-08-25\n",
      "3   Cooper   Schnauzer   Gray          49          17   2011-12-11\n",
      "4      Max    Labrador  Black          59          29   2017-01-20\n",
      "5   Stella   Chihuahua    Tan          18           2   2015-04-20\n",
      "6   Bernie  St.Bernard  White          77          74   2018-02-27\n",
      "\n",
      "<class 'pandas.core.frame.DataFrame'>\n",
      "RangeIndex: 7 entries, 0 to 6\n",
      "Data columns (total 6 columns):\n",
      " #   Column        Non-Null Count  Dtype \n",
      "---  ------        --------------  ----- \n",
      " 0   Name          7 non-null      object\n",
      " 1   Breed         7 non-null      object\n",
      " 2   Color         7 non-null      object\n",
      " 3   Height(cm)    7 non-null      int64 \n",
      " 4   Weight(kg)    7 non-null      int64 \n",
      " 5   Dataof Birth  7 non-null      object\n",
      "dtypes: int64(2), object(4)\n",
      "memory usage: 464.0+ bytes\n",
      "None\n",
      "\n",
      "       Height(cm)  Weight(kg)\n",
      "count    7.000000    7.000000\n",
      "mean    49.714286   27.428571\n",
      "std     17.960274   22.292429\n",
      "min     18.000000    2.000000\n",
      "25%     44.500000   19.500000\n",
      "50%     49.000000   23.000000\n",
      "75%     57.500000   27.000000\n",
      "max     77.000000   74.000000\n",
      "\n",
      "Index(['Name', 'Breed', 'Color', 'Height(cm)', 'Weight(kg)', 'Dataof Birth'], dtype='object')\n",
      "RangeIndex(start=0, stop=7, step=1)\n"
     ]
    }
   ],
   "source": [
    "import pandas as pd\n",
    "\n",
    "\n",
    "df = pd.read_csv('dogs.csv')\n",
    "\n",
    "print(df)\n",
    "print()\n",
    "\n",
    "\n",
    "print(df.info())\n",
    "print()\n",
    "\n",
    "\n",
    "print(df.describe())\n",
    "print()\n",
    "\n",
    "\n",
    "print(df.columns)\n",
    "print(df.index)"
   ]
  },
  {
   "cell_type": "markdown",
   "id": "57879607-698d-4dc4-8beb-ecc15a8c0edb",
   "metadata": {},
   "source": [
    "## Inspecting a DataFrame\n",
    "\n",
    "# *******************************************************************************************************************\n",
    "# When you get a new DataFrame to work with, the first thing you need to do is explore it and see what it contains. There are several useful methods and attributes for this.\n",
    "\n",
    "    .head() returns the first few rows (the “head” of the DataFrame).\n",
    "    .info() shows information on each of the columns, such as the data type and number of missing values.\n",
    "    .shape returns the number of rows and columns of the DataFrame.\n",
    "    .describe() calculates a few summary statistics for each column.\n",
    "\n",
    "homelessness is a DataFrame containing estimates of homelessness in each U.S. state in 2018. The individual column is the number of homeless individuals not part of a family with children. The family_members column is the number of homeless individuals part of a family with children. The state_pop column is the state's total population.\n",
    "\n",
    "pandas is imported for you.\n",
    "Instructions 1/4\n",
    "25 XP\n",
    "\n",
    "    Question 1\n",
    "    Print the head of the homelessness DataFrame.\n",
    "    \n",
    "    \n",
    "    \n",
    "    Question 2\n",
    "    Print information about the column types and missing values in homelessness.\n",
    "    \n",
    "    \n",
    "    \n",
    "    Question 3\n",
    "    Print the number of rows and columns in homelessness.\n",
    "    \n",
    "    \n",
    "    \n",
    "    Question 4\n",
    "    \n",
    "    Print some summary statistics that describe the homelessness DataFrame.\n"
   ]
  },
  {
   "cell_type": "code",
   "execution_count": 13,
   "id": "cf4f9397-c248-4e8a-84d4-e206e90033c6",
   "metadata": {},
   "outputs": [
    {
     "name": "stdout",
     "output_type": "stream",
     "text": [
      "             region       state  individuals  family_members  state_pop\n",
      "0  EastSouthCentral     Alabama       2570.0           864.0    4887681\n",
      "1           Pacific      Alaska       1434.0           582.0     735139\n",
      "2          Mountain     Arizona       7259.0          2606.0    7158024\n",
      "3  WestSouthCentral    Arkansas       2280.0           432.0    3009733\n",
      "4           Pacific  California     109008.0         20964.0   39461588\n",
      "<class 'pandas.core.frame.DataFrame'>\n",
      "RangeIndex: 51 entries, 0 to 50\n",
      "Data columns (total 5 columns):\n",
      " #   Column          Non-Null Count  Dtype  \n",
      "---  ------          --------------  -----  \n",
      " 0   region          51 non-null     object \n",
      " 1   state           51 non-null     object \n",
      " 2   individuals     51 non-null     float64\n",
      " 3   family_members  51 non-null     float64\n",
      " 4   state_pop       51 non-null     int64  \n",
      "dtypes: float64(2), int64(1), object(2)\n",
      "memory usage: 2.1+ KB\n",
      "None\n",
      "(51, 5)\n",
      "         individuals  family_members     state_pop\n",
      "count      51.000000       51.000000  5.100000e+01\n",
      "mean     7225.784314     3504.882353  6.405637e+06\n",
      "std     15991.025083     7805.411811  7.327258e+06\n",
      "min       434.000000       75.000000  5.776010e+05\n",
      "25%      1446.500000      592.000000  1.777414e+06\n",
      "50%      3082.000000     1482.000000  4.461153e+06\n",
      "75%      6781.500000     3196.000000  7.340946e+06\n",
      "max    109008.000000    52070.000000  3.946159e+07\n"
     ]
    }
   ],
   "source": [
    "import pandas as pd\n",
    "\n",
    "\n",
    "df = pd.read_csv('homelessness.csv')\n",
    "\n",
    "print(df.head())\n",
    "print(df.info())\n",
    "print(df.shape)\n",
    "print(df.describe())"
   ]
  },
  {
   "cell_type": "markdown",
   "id": "e1c2b935-8d2e-41ed-a7a9-4c79b1eda91a",
   "metadata": {},
   "source": [
    "## Parts of a DataFrame\n",
    "\n",
    "# *******************************************************************************************************************\n",
    "# To better understand DataFrame objects, it's useful to know that they consist of three components, stored as attributes:\n",
    "\n",
    "    .values: A two-dimensional NumPy array of values.\n",
    "    .columns: An index of columns: the column names.\n",
    "    .index: An index for the rows: either row numbers or row names.\n",
    "\n",
    "You can usually think of indexes as a list of strings or numbers, though the pandas Index data type allows for more sophisticated options. (These will be covered later in the course.)\n",
    "\n",
    "homelessness is available.\n",
    "Instructions\n",
    "100 XP\n",
    "\n",
    "    Import pandas using the alias pd.\n",
    "    Print a 2D NumPy array of the values in homelessness.\n",
    "    Print the column names of homelessness.\n",
    "    Print the index of homelessness.\n"
   ]
  },
  {
   "cell_type": "code",
   "execution_count": 30,
   "id": "b0143eef-f45e-472a-99c1-e66ef7cb7b17",
   "metadata": {},
   "outputs": [
    {
     "name": "stdout",
     "output_type": "stream",
     "text": [
      "[['EastSouthCentral' 'Alabama' 2570.0 864.0 4887681]\n",
      " ['Pacific' 'Alaska' 1434.0 582.0 735139]\n",
      " ['Mountain' 'Arizona' 7259.0 2606.0 7158024]\n",
      " ['WestSouthCentral' 'Arkansas' 2280.0 432.0 3009733]\n",
      " ['Pacific' 'California' 109008.0 20964.0 39461588]\n",
      " ['Mountain' 'Colorado' 7607.0 3250.0 5691287]\n",
      " ['NewEngland' 'Connecticut' 2280.0 1696.0 3571520]\n",
      " ['SouthAtlantic' 'Delaware' 708.0 374.0 965479]\n",
      " ['SouthAtlantic' 'DistrictofColumbia' 3770.0 3134.0 701547]\n",
      " ['SouthAtlantic' 'Florida' 21443.0 9587.0 21244317]\n",
      " ['SouthAtlantic' 'Georgia' 6943.0 2556.0 10511131]\n",
      " ['Pacific' 'Hawaii' 4131.0 2399.0 1420593]\n",
      " ['Mountain' 'Idaho' 1297.0 715.0 1750536]\n",
      " ['EastNorthCentral' 'Illinois' 6752.0 3891.0 12723071]\n",
      " ['EastNorthCentral' 'Indiana' 3776.0 1482.0 6695497]\n",
      " ['WestNorthCentral' 'Iowa' 1711.0 1038.0 3148618]\n",
      " ['WestNorthCentral' 'Kansas' 1443.0 773.0 2911359]\n",
      " ['EastSouthCentral' 'Kentucky' 2735.0 953.0 4461153]\n",
      " ['WestSouthCentral' 'Louisiana' 2540.0 519.0 4659690]\n",
      " ['NewEngland' 'Maine' 1450.0 1066.0 1339057]\n",
      " ['SouthAtlantic' 'Maryland' 4914.0 2230.0 6035802]\n",
      " ['NewEngland' 'Massachusetts' 6811.0 13257.0 6882635]\n",
      " ['EastNorthCentral' 'Michigan' 5209.0 3142.0 9984072]\n",
      " ['WestNorthCentral' 'Minnesota' 3993.0 3250.0 5606249]\n",
      " ['EastSouthCentral' 'Mississippi' 1024.0 328.0 2981020]\n",
      " ['WestNorthCentral' 'Missouri' 3776.0 2107.0 6121623]\n",
      " ['Mountain' 'Montana' 983.0 422.0 1060665]\n",
      " ['WestNorthCentral' 'Nebraska' 1745.0 676.0 1925614]\n",
      " ['Mountain' 'Nevada' 7058.0 486.0 3027341]\n",
      " ['NewEngland' 'NewHampshire' 835.0 615.0 1353465]\n",
      " ['Mid-Atlantic' 'NewJersey' 6048.0 3350.0 8886025]\n",
      " ['Mountain' 'NewMexico' 1949.0 602.0 2092741]\n",
      " ['Mid-Atlantic' 'NewYork' 39827.0 52070.0 19530351]\n",
      " ['SouthAtlantic' 'NorthCarolina' 6451.0 2817.0 10381615]\n",
      " ['WestNorthCentral' 'NorthDakota' 467.0 75.0 758080]\n",
      " ['EastNorthCentral' 'Ohio' 6929.0 3320.0 11676341]\n",
      " ['WestSouthCentral' 'Oklahoma' 2823.0 1048.0 3940235]\n",
      " ['Pacific' 'Oregon' 11139.0 3337.0 4181886]\n",
      " ['Mid-Atlantic' 'Pennsylvania' 8163.0 5349.0 12800922]\n",
      " ['NewEngland' 'RhodeIsland' 747.0 354.0 1058287]\n",
      " ['SouthAtlantic' 'SouthCarolina' 3082.0 851.0 5084156]\n",
      " ['WestNorthCentral' 'SouthDakota' 836.0 323.0 878698]\n",
      " ['EastSouthCentral' 'Tennessee' 6139.0 1744.0 6771631]\n",
      " ['WestSouthCentral' 'Texas' 19199.0 6111.0 28628666]\n",
      " ['Mountain' 'Utah' 1904.0 972.0 3153550]\n",
      " ['NewEngland' 'Vermont' 780.0 511.0 624358]\n",
      " ['SouthAtlantic' 'Virginia' 3928.0 2047.0 8501286]\n",
      " ['Pacific' 'Washington' 16424.0 5880.0 7523869]\n",
      " ['SouthAtlantic' 'WestVirginia' 1021.0 222.0 1804291]\n",
      " ['EastNorthCentral' 'Wisconsin' 2740.0 2167.0 5807406]\n",
      " ['Mountain' 'Wyoming' 434.0 205.0 577601]]\n",
      "<class 'numpy.ndarray'>\n",
      "Index(['region', 'state', 'individuals', 'family_members', 'state_pop'], dtype='object')\n",
      "RangeIndex(start=0, stop=51, step=1)\n"
     ]
    }
   ],
   "source": [
    "df = pd.read_csv('homelessness.csv')\n",
    "\n",
    "\n",
    "print(df.values)\n",
    "print(type(df.values))\n",
    "\n",
    "print(df.columns)\n",
    "print(df.index)"
   ]
  },
  {
   "cell_type": "markdown",
   "id": "e14805dc-2e52-43fc-ad52-da568b551981",
   "metadata": {},
   "source": [
    "## Sorting and subsetting\n",
    "\n",
    "\n",
    "\n",
    "# *******************************************************************************************************************\n",
    "**In this video, we'll cover 2 simple stand possibly most important ways to find interesting parts of your DataFrame.  The first thing you can do is change the order of rows by sorting them so that the most interesting data is at the top of the DataFrame.  \n",
    "\n",
    "\n",
    "**You can sort rows using the .sort_values() method, passing in a column name that you want to sort by.  Setting the ascending=False argument to False will sort the data the other way around.\n",
    "# *******************************************************************************************************************\n",
    "We can also sort by multiple variables by passing a list of column names to .sort_values() method.  To change the direction values are sorted in, pass a list to the ascending argument to specify which direction sorting should be done for each variable.  \n"
   ]
  },
  {
   "cell_type": "code",
   "execution_count": 111,
   "id": "bf3e51d4-fee6-4d65-95a3-2076e3189f64",
   "metadata": {},
   "outputs": [
    {
     "name": "stdout",
     "output_type": "stream",
     "text": [
      "              region               state  individuals  family_members  \\\n",
      "50          Mountain             Wyoming        434.0           205.0   \n",
      "45        NewEngland             Vermont        780.0           511.0   \n",
      "8      SouthAtlantic  DistrictofColumbia       3770.0          3134.0   \n",
      "1            Pacific              Alaska       1434.0           582.0   \n",
      "34  WestNorthCentral         NorthDakota        467.0            75.0   \n",
      "\n",
      "    state_pop  \n",
      "50     577601  \n",
      "45     624358  \n",
      "8      701547  \n",
      "1      735139  \n",
      "34     758080  \n",
      "              region          state  individuals  family_members  state_pop\n",
      "32      Mid-Atlantic        NewYork      39827.0         52070.0   19530351\n",
      "4            Pacific     California     109008.0         20964.0   39461588\n",
      "21        NewEngland  Massachusetts       6811.0         13257.0    6882635\n",
      "9      SouthAtlantic        Florida      21443.0          9587.0   21244317\n",
      "43  WestSouthCentral          Texas      19199.0          6111.0   28628666\n"
     ]
    }
   ],
   "source": [
    "df = pd.read_csv('homelessness.csv')\n",
    "\n",
    "\n",
    "print(df.sort_values('state_pop').head())\n",
    "\n",
    "print(df.sort_values('family_members', ascending=False).head())"
   ]
  },
  {
   "cell_type": "code",
   "execution_count": 112,
   "id": "bfa9d5bd-285c-4f83-94b6-2be07aebec4d",
   "metadata": {},
   "outputs": [
    {
     "name": "stdout",
     "output_type": "stream",
     "text": [
      "      name      breed  color  height_cn  weight_km data_of_birth\n",
      "0    Bella   Labrador  Brown         56         24    2013-07-01\n",
      "1  Charlie     Poodle  Black         43         24    2016-09-16\n",
      "2     Lucy  Chow Chow  Brown         46         24    2014-08-25\n",
      "3   Cooper  Schnauzer   Gray         49         17    2011-12-11\n",
      "4      Max   Labrador  Black         59         29    2017-01-20\n",
      "      name       breed  color  height_cn  weight_km data_of_birth\n",
      "6   Bernie  St.Bernard  White         77         74    2018-02-27\n",
      "4      Max    Labrador  Black         59         29    2017-01-20\n",
      "1  Charlie      Poodle  Black         43         24    2016-09-16\n",
      "2     Lucy   Chow Chow  Brown         46         24    2014-08-25\n",
      "0    Bella    Labrador  Brown         56         24    2013-07-01\n",
      "3   Cooper   Schnauzer   Gray         49         17    2011-12-11\n",
      "5   Stella   Chihuahua    Tan         18          2    2015-04-20\n"
     ]
    }
   ],
   "source": [
    "df = pd.read_csv('dogs2.csv')\n",
    "\n",
    "\n",
    "print(df.head())\n",
    "\n",
    "#####################################################################################################################\n",
    "print(df.sort_values(['weight_km', 'height_cn'], ascending=[False, True]))"
   ]
  },
  {
   "cell_type": "markdown",
   "id": "3428d8ac-d95b-44e3-8448-aff7e27be465",
   "metadata": {},
   "source": [
    "\n",
    "**We may want to zoom in on just one column.  We can do this using the name of the DataFrame, followed by square brackets with a column name inside.  \n",
    "\n",
    "\n",
    "To select multiple columns you need 2 pairs of square brackets.  In this condition, the inner and the outer square brackets are performing different tasks.  The outer square brackets are responsible for subsetting the DataFrame, and the inner square brackets are creating a list of column names to subset.  This means you could provide a separate list of column names as a variable and then use that list to perform the same subsetting.  Usually, its easier to do in one line.  \n",
    "\n"
   ]
  },
  {
   "cell_type": "code",
   "execution_count": 40,
   "id": "aa6c79ec-3d6c-47af-8e15-dae3a7fb7c5a",
   "metadata": {},
   "outputs": [
    {
     "name": "stdout",
     "output_type": "stream",
     "text": [
      "0      Bella\n",
      "1    Charlie\n",
      "2       Lucy\n",
      "3     Cooper\n",
      "4        Max\n",
      "5     Stella\n",
      "6     Bernie\n",
      "Name: name, dtype: object\n",
      "      name       breed  color\n",
      "0    Bella    Labrador  Brown\n",
      "1  Charlie      Poodle  Black\n",
      "2     Lucy   Chow Chow  Brown\n",
      "3   Cooper   Schnauzer   Gray\n",
      "4      Max    Labrador  Black\n",
      "5   Stella   Chihuahua    Tan\n",
      "6   Bernie  St.Bernard  White\n",
      "      name       breed  color  height_cn\n",
      "0    Bella    Labrador  Brown         56\n",
      "1  Charlie      Poodle  Black         43\n",
      "2     Lucy   Chow Chow  Brown         46\n",
      "3   Cooper   Schnauzer   Gray         49\n",
      "4      Max    Labrador  Black         59\n",
      "5   Stella   Chihuahua    Tan         18\n",
      "6   Bernie  St.Bernard  White         77\n"
     ]
    }
   ],
   "source": [
    "print(df['name'])\n",
    "\n",
    "\n",
    "print(df[['name', 'breed', 'color']])\n",
    "\n",
    "\n",
    "#####################################################################################################################\n",
    "what_i_need = ['name', 'breed', 'color', 'height_cn']\n",
    "\n",
    "print(df[what_i_need])"
   ]
  },
  {
   "cell_type": "markdown",
   "id": "699df515-5e3e-482d-a92a-a7d552984b59",
   "metadata": {},
   "source": [
    "# *******************************************************************************************************************\n",
    "# There are lots of different ways to subset rows, the most common way to do this is by creating a logical condition to filter against.  \n",
    "For example, lets find all the dogs whose height is greater than 50 centimeters.  Now we have a True or False value for every row.  We can use logical condition inside of square brackets to subset the rows we are interested in to get all of the dogs taller than 50 centimeters.  \n",
    "\n",
    "**We can also subset rows based on text data.  Here we use double equal sign in the logical condition to filter the dogs that are Labradors.  \n",
    "\n",
    "**We can also subset based on dates.  Here we filter all the dogs born before 2015.  Notice thdates are in quotes and are written as year-month-day, this is international standard date format.  \n",
    "\n",
    "\n",
    "# *******************************************************************************************************************\n",
    "**To subsetthe rows that meet multiple conditions, you can combine contitions using logical operators, such as and operator seen here.  This means that only rows that meet both of these conditions will be subsetted.  You can also do this in one line of code, but you'll also need to add parentheses around each condition.  \n",
    "\n",
    "\n",
    "\n",
    "# *******************************************************************************************************************\n",
    "# *******************************************************************************************************************\n",
    "**If you want to filter on multiple values of a categorical variable, the easiest way is to use .isin() method.  This method takes in a list of values to filter for.  \n"
   ]
  },
  {
   "cell_type": "code",
   "execution_count": 42,
   "id": "7e3bb8f4-1683-483d-a643-fe22290d770c",
   "metadata": {},
   "outputs": [
    {
     "name": "stdout",
     "output_type": "stream",
     "text": [
      "0     True\n",
      "1    False\n",
      "2    False\n",
      "3    False\n",
      "4     True\n",
      "5    False\n",
      "6     True\n",
      "Name: height_cn, dtype: bool\n",
      "     name       breed  color  height_cn  weight_km data_of_birth\n",
      "0   Bella    Labrador  Brown         56         24    2013-07-01\n",
      "4     Max    Labrador  Black         59         29    2017-01-20\n",
      "6  Bernie  St.Bernard  White         77         74    2018-02-27\n"
     ]
    }
   ],
   "source": [
    "above_50 = df['height_cn']>50\n",
    "\n",
    "print(above_50)\n",
    "\n",
    "\n",
    "print(df[above_50])"
   ]
  },
  {
   "cell_type": "code",
   "execution_count": 43,
   "id": "1075cad6-35b3-43ed-a72d-a683ea483152",
   "metadata": {},
   "outputs": [
    {
     "name": "stdout",
     "output_type": "stream",
     "text": [
      "    name     breed  color  height_cn  weight_km data_of_birth\n",
      "0  Bella  Labrador  Brown         56         24    2013-07-01\n",
      "4    Max  Labrador  Black         59         29    2017-01-20\n"
     ]
    }
   ],
   "source": [
    "labrador = df['breed'] == 'Labrador'\n",
    "\n",
    "\n",
    "print(df[labrador])"
   ]
  },
  {
   "cell_type": "code",
   "execution_count": 50,
   "id": "6c24bcdc-a161-4a8f-aa6f-08c520ad2ac8",
   "metadata": {},
   "outputs": [
    {
     "name": "stdout",
     "output_type": "stream",
     "text": [
      "<class 'str'>\n"
     ]
    }
   ],
   "source": [
    "print(type(df['data_of_birth'][0]))"
   ]
  },
  {
   "cell_type": "markdown",
   "id": "2e1ccd5c-ce61-4744-8879-f3b603bd683c",
   "metadata": {},
   "source": [
    "# *******************************************************************************************************************\n",
    "Important question, can we change the column data types? like here from string to data? or datetime\n"
   ]
  },
  {
   "cell_type": "code",
   "execution_count": 53,
   "id": "bd638ccb-9561-4464-842f-e56a278075ee",
   "metadata": {},
   "outputs": [
    {
     "name": "stdout",
     "output_type": "stream",
     "text": [
      "      name       breed  color  height_cn  weight_km data_of_birth\n",
      "1  Charlie      Poodle  Black         43         24    2016-09-16\n",
      "4      Max    Labrador  Black         59         29    2017-01-20\n",
      "5   Stella   Chihuahua    Tan         18          2    2015-04-20\n",
      "6   Bernie  St.Bernard  White         77         74    2018-02-27\n"
     ]
    }
   ],
   "source": [
    "after_2015 = df['data_of_birth'] > '2015'\n",
    "\n",
    "\n",
    "print(df[before_2015])"
   ]
  },
  {
   "cell_type": "code",
   "execution_count": 83,
   "id": "652d8d33-13e3-450e-bf83-36c15b1dcda5",
   "metadata": {},
   "outputs": [
    {
     "name": "stdout",
     "output_type": "stream",
     "text": [
      "      name       breed  color  height_cn  weight_km data_of_birth\n",
      "1  Charlie      Poodle  Black         43         24    2016-09-16\n",
      "4      Max    Labrador  Black         59         29    2017-01-20\n",
      "5   Stella   Chihuahua  Black         18          2    2015-04-20\n",
      "6   Bernie  St.Bernard  Black         77         74    2018-02-27\n",
      "\n",
      "      name       breed  color  height_cn  weight_km data_of_birth\n",
      "0    Bella    Labrador  Black         56         24    2013-07-01\n",
      "1  Charlie      Poodle  Black         43         24    2016-09-16\n",
      "2     Lucy   Chow Chow  Black         46         24    2014-08-25\n",
      "3   Cooper   Schnauzer  Black         49         17    2011-12-11\n",
      "4      Max    Labrador  Black         59         29    2017-01-20\n",
      "5   Stella   Chihuahua  Black         18          2    2015-04-20\n",
      "6   Bernie  St.Bernard  Black         77         74    2018-02-27\n",
      "\n",
      "      name       breed  color  height_cn  weight_km data_of_birth\n",
      "0    Bella    Labrador  Black         56         24    2013-07-01\n",
      "1  Charlie      Poodle  Black         43         24    2016-09-16\n",
      "2     Lucy   Chow Chow  Black         46         24    2014-08-25\n",
      "3   Cooper   Schnauzer  Black         49         17    2011-12-11\n",
      "4      Max    Labrador  Black         59         29    2017-01-20\n",
      "5   Stella   Chihuahua  Black         18          2    2015-04-20\n",
      "6   Bernie  St.Bernard  Black         77         74    2018-02-27\n",
      "\n",
      "      name       breed  color  height_cn  weight_km data_of_birth\n",
      "1  Charlie      Poodle  Black         43         24    2016-09-16\n",
      "4      Max    Labrador  Black         59         29    2017-01-20\n",
      "5   Stella   Chihuahua  Black         18          2    2015-04-20\n",
      "6   Bernie  St.Bernard  Black         77         74    2018-02-27\n"
     ]
    }
   ],
   "source": [
    "after_2015 = df['data_of_birth'] > '2015'\n",
    "black = df['color'] == 'Black'\n",
    "\n",
    "\n",
    "                                  ###################################################################################\n",
    "print(df[after_2015 & black])     # Why we cant replace & with and ???\n",
    "# This is because ‘and’ tests whether both expressions are logically True \n",
    "# while ‘&’ performs bitwise AND operation on the result of both statements.\n",
    "\n",
    "print()\n",
    "print(df[after_2015 + black])\n",
    "\n",
    "\n",
    "print()\n",
    "print(df[after_2015 | black])\n",
    "\n",
    "print()\n",
    "#####################################################################################################################\n",
    "print(df[(df['data_of_birth']>'2015') & (df['color']=='Black')])"
   ]
  },
  {
   "cell_type": "code",
   "execution_count": 115,
   "id": "15fa4a3c-a2b4-4287-ac45-09400e768214",
   "metadata": {},
   "outputs": [
    {
     "name": "stdout",
     "output_type": "stream",
     "text": [
      "      name      breed  color  height_cn  weight_km data_of_birth\n",
      "0    Bella   Labrador  Brown         56         24    2013-07-01\n",
      "1  Charlie     Poodle  Black         43         24    2016-09-16\n",
      "2     Lucy  Chow Chow  Brown         46         24    2014-08-25\n",
      "4      Max   Labrador  Black         59         29    2017-01-20\n",
      "      name      breed  color  height_cn  weight_km data_of_birth\n",
      "0    Bella   Labrador  Brown         56         24    2013-07-01\n",
      "1  Charlie     Poodle  Black         43         24    2016-09-16\n",
      "2     Lucy  Chow Chow  Brown         46         24    2014-08-25\n",
      "4      Max   Labrador  Black         59         29    2017-01-20\n"
     ]
    }
   ],
   "source": [
    "black_brown = df['color'].isin(['Black', 'Brown'])\n",
    "#####################################################################################################################\n",
    "\n",
    "\n",
    "print(df[black_brown])\n",
    "\n",
    "\n",
    "black_brown2 = df[(df['color']=='Black') | (df['color']=='Brown')]   # Using or operator\n",
    "print(black_brown2)"
   ]
  },
  {
   "cell_type": "markdown",
   "id": "c0c3a515-22fb-44a5-a9a5-57604ce6ee2b",
   "metadata": {},
   "source": [
    "## Sorting rows\n",
    "\n",
    "# Finding interesting bits of data in a DataFrame is often easier if you change the order of the rows. You can sort the rows by passing a column name to .sort_values().\n",
    "\n",
    "In cases where rows have the same value (this is common if you sort on a categorical variable), you may wish to break the ties by sorting on another column. You can sort on multiple columns in this way by passing a list of column names.\n",
    "Sort on … \tSyntax\n",
    "one column \tdf.sort_values(\"breed\")\n",
    "multiple columns \tdf.sort_values([\"breed\", \"weight_kg\"])\n",
    "\n",
    "By combining .sort_values() with .head(), you can answer questions in the form, \"What are the top cases where…?\".\n",
    "\n",
    "homelessness is available and pandas is loaded as pd.\n",
    "Instructions 1/3\n",
    "35 XP\n",
    "\n",
    "    Question 1\n",
    "    Sort homelessness by the number of homeless individuals, from smallest to largest, and save this as homelessness_ind.\n",
    "    Print the head of the sorted DataFrame.\n",
    "    \n",
    "    \n",
    "    \n",
    "    Question 2\n",
    "    Sort homelessness by the number of homeless family_members in descending order, and save this as homelessness_fam.\n",
    "    Print the head of the sorted DataFrame.\n",
    "    \n",
    "    \n",
    "    \n",
    "    Question 3\n",
    "#    Sort homelessness first by region (ascending), and then by number of family members (descending). Save this as homelessness_reg_fam.\n",
    "    Print the head of the sorted DataFrame.\n"
   ]
  },
  {
   "cell_type": "code",
   "execution_count": 99,
   "id": "c6ba4b47-268f-4622-8fb4-d368c6544b07",
   "metadata": {},
   "outputs": [
    {
     "name": "stdout",
     "output_type": "stream",
     "text": [
      "              region        state  individuals  family_members  state_pop\n",
      "50          Mountain      Wyoming        434.0           205.0     577601\n",
      "34  WestNorthCentral  NorthDakota        467.0            75.0     758080\n",
      "7      SouthAtlantic     Delaware        708.0           374.0     965479\n",
      "39        NewEngland  RhodeIsland        747.0           354.0    1058287\n",
      "45        NewEngland      Vermont        780.0           511.0     624358\n"
     ]
    }
   ],
   "source": [
    "import pandas as pd\n",
    "\n",
    "\n",
    "homelessness = pd.read_csv('homelessness.csv')\n",
    "\n",
    "# Sort homelessness by individual\n",
    "homelessness_ind = homelessness.sort_values('individuals')  #.ascending=False\n",
    "\n",
    "# Print the top few rows\n",
    "print(homelessness_ind.head())"
   ]
  },
  {
   "cell_type": "code",
   "execution_count": 100,
   "id": "07428abe-6782-4f74-827a-d1a247d2763e",
   "metadata": {},
   "outputs": [
    {
     "name": "stdout",
     "output_type": "stream",
     "text": [
      "              region          state  individuals  family_members  state_pop\n",
      "32      Mid-Atlantic        NewYork      39827.0         52070.0   19530351\n",
      "4            Pacific     California     109008.0         20964.0   39461588\n",
      "21        NewEngland  Massachusetts       6811.0         13257.0    6882635\n",
      "9      SouthAtlantic        Florida      21443.0          9587.0   21244317\n",
      "43  WestSouthCentral          Texas      19199.0          6111.0   28628666\n"
     ]
    }
   ],
   "source": [
    "# Sort homelessness by descending family members\n",
    "homelessness_fam = homelessness.sort_values('family_members', ascending=False)\n",
    "\n",
    "# Print the top few rows\n",
    "print(homelessness_fam.head())"
   ]
  },
  {
   "cell_type": "code",
   "execution_count": 107,
   "id": "9b6a027f-9222-4b8a-942d-579c26f93d93",
   "metadata": {},
   "outputs": [
    {
     "name": "stdout",
     "output_type": "stream",
     "text": [
      "              region      state  individuals  family_members  state_pop\n",
      "13  EastNorthCentral   Illinois       6752.0          3891.0   12723071\n",
      "35  EastNorthCentral       Ohio       6929.0          3320.0   11676341\n",
      "22  EastNorthCentral   Michigan       5209.0          3142.0    9984072\n",
      "49  EastNorthCentral  Wisconsin       2740.0          2167.0    5807406\n",
      "14  EastNorthCentral    Indiana       3776.0          1482.0    6695497\n"
     ]
    }
   ],
   "source": [
    "# Sort homelessness by region, then descending family members\n",
    "homelessness_reg_fam = homelessness.sort_values(['region', 'family_members'], ascending=[True, False])\n",
    "#####################################################################################################################\n",
    "\n",
    "\n",
    "# Print the top few rows\n",
    "print(homelessness_reg_fam.head())"
   ]
  },
  {
   "cell_type": "markdown",
   "id": "067db118-db3b-4e5d-aee5-7b75b8e91b22",
   "metadata": {},
   "source": [
    "## Subsetting columns\n",
    "\n",
    "When working with data, you may not need all of the variables in your dataset. Square brackets ([]) can be used to select only the columns that matter to you in an order that makes sense to you. To select only \"col_a\" of the DataFrame df, use\n",
    "\n",
    "df[\"col_a\"]\n",
    "\n",
    "To select \"col_a\" and \"col_b\" of df, use\n",
    "\n",
    "df[[\"col_a\", \"col_b\"]]\n",
    "\n",
    "homelessness is available and pandas is loaded as pd.\n",
    "Instructions 1/3\n",
    "35 XP\n",
    "\n",
    "    Question 1\n",
    "    Create a DataFrame called individuals that contains only the individuals column of homelessness.\n",
    "    Print the head of the result.\n",
    "    \n",
    "    \n",
    "    \n",
    "    Question 2\n",
    "    Create a DataFrame called state_fam that contains only the state and family_members columns of homelessness, in that order.\n",
    "    Print the head of the result.\n",
    "    \n",
    "    \n",
    "    \n",
    "    Question 3\n",
    "    Create a DataFrame called ind_state that contains the individuals and state columns of homelessness, in that order.\n",
    "    Print the head of the result.\n"
   ]
  },
  {
   "cell_type": "code",
   "execution_count": 108,
   "id": "89e74345-cde8-420a-bb19-47a5ce21fb2d",
   "metadata": {},
   "outputs": [
    {
     "name": "stdout",
     "output_type": "stream",
     "text": [
      "0      2570.0\n",
      "1      1434.0\n",
      "2      7259.0\n",
      "3      2280.0\n",
      "4    109008.0\n",
      "Name: individuals, dtype: float64\n"
     ]
    }
   ],
   "source": [
    "# Select the individuals column\n",
    "individuals = homelessness['individuals']\n",
    "\n",
    "# Print the head of the result\n",
    "print(individuals.head())"
   ]
  },
  {
   "cell_type": "code",
   "execution_count": 109,
   "id": "0935625e-63bb-4ff0-a740-7d94b6a55c36",
   "metadata": {},
   "outputs": [
    {
     "name": "stdout",
     "output_type": "stream",
     "text": [
      "        state  family_members\n",
      "0     Alabama           864.0\n",
      "1      Alaska           582.0\n",
      "2     Arizona          2606.0\n",
      "3    Arkansas           432.0\n",
      "4  California         20964.0\n"
     ]
    }
   ],
   "source": [
    "# Select the state and family_members columns\n",
    "state_fam = homelessness[['state', 'family_members']]\n",
    "\n",
    "# Print the head of the result\n",
    "print(state_fam.head())"
   ]
  },
  {
   "cell_type": "code",
   "execution_count": 110,
   "id": "83f2307e-c4a4-4371-87ad-9d650f449062",
   "metadata": {},
   "outputs": [
    {
     "name": "stdout",
     "output_type": "stream",
     "text": [
      "   individuals       state\n",
      "0       2570.0     Alabama\n",
      "1       1434.0      Alaska\n",
      "2       7259.0     Arizona\n",
      "3       2280.0    Arkansas\n",
      "4     109008.0  California\n"
     ]
    }
   ],
   "source": [
    "# Select only the individuals and state columns, in that order\n",
    "ind_state = homelessness[['individuals', 'state']]\n",
    "\n",
    "# Print the head of the result\n",
    "print(ind_state.head())"
   ]
  },
  {
   "cell_type": "markdown",
   "id": "0a50aaa3-70ff-4cb1-9f97-710ed2b9b9ed",
   "metadata": {},
   "source": [
    "## Subsetting rows\n",
    "\n",
    "A large part of data science is about finding which bits of your dataset are interesting. One of the simplest techniques for this is to find a subset of rows that match some criteria. This is sometimes known as filtering rows or selecting rows.\n",
    "\n",
    "There are many ways to subset a DataFrame, perhaps the most common is to use relational operators to return True or False for each row, then pass that inside square brackets.\n",
    "\n",
    "dogs[dogs[\"height_cm\"] > 60]\n",
    "dogs[dogs[\"color\"] == \"tan\"]\n",
    "\n",
    "You can filter for multiple conditions at once by using the \"bitwise and\" operator, &.\n",
    "\n",
    "dogs[(dogs[\"height_cm\"] > 60) & (dogs[\"color\"] == \"tan\")]\n",
    "\n",
    "homelessness is available and pandas is loaded as pd.\n",
    "Instructions 1/3\n",
    "35 XP\n",
    "\n",
    "    Question 1\n",
    "    Filter homelessness for cases where the number of individuals is greater than ten thousand, assigning to ind_gt_10k. View the printed result.\n",
    "    \n",
    "    \n",
    "    \n",
    "    Question 2\n",
    "    Filter homelessness for cases where the USA Census region is \"Mountain\", assigning to mountain_reg. View the printed result.\n",
    "    \n",
    "    \n",
    "    \n",
    "    Question 3\n",
    "    Filter homelessness for cases where the number of family_members is less than one thousand and the region is \"Pacific\", assigning to fam_lt_1k_pac. View the printed result.\n",
    "    "
   ]
  },
  {
   "cell_type": "code",
   "execution_count": 117,
   "id": "d9b28467-7ade-4ea3-a86b-dca8113995c6",
   "metadata": {},
   "outputs": [
    {
     "name": "stdout",
     "output_type": "stream",
     "text": [
      "              region       state  individuals  family_members  state_pop\n",
      "4            Pacific  California     109008.0         20964.0   39461588\n",
      "9      SouthAtlantic     Florida      21443.0          9587.0   21244317\n",
      "32      Mid-Atlantic     NewYork      39827.0         52070.0   19530351\n",
      "37           Pacific      Oregon      11139.0          3337.0    4181886\n",
      "43  WestSouthCentral       Texas      19199.0          6111.0   28628666\n",
      "47           Pacific  Washington      16424.0          5880.0    7523869\n"
     ]
    }
   ],
   "source": [
    "# Filter for rows where individuals is greater than 10000\n",
    "ind_gt_10k = homelessness[homelessness['individuals']>10000]\n",
    "\n",
    "# See the result\n",
    "print(ind_gt_10k)"
   ]
  },
  {
   "cell_type": "code",
   "execution_count": 118,
   "id": "b2e9e60e-1538-4bdf-8707-6b80df7479b3",
   "metadata": {},
   "outputs": [
    {
     "name": "stdout",
     "output_type": "stream",
     "text": [
      "      region     state  individuals  family_members  state_pop\n",
      "2   Mountain   Arizona       7259.0          2606.0    7158024\n",
      "5   Mountain  Colorado       7607.0          3250.0    5691287\n",
      "12  Mountain     Idaho       1297.0           715.0    1750536\n",
      "26  Mountain   Montana        983.0           422.0    1060665\n",
      "28  Mountain    Nevada       7058.0           486.0    3027341\n"
     ]
    }
   ],
   "source": [
    "# Filter for rows where region is Mountain\n",
    "mountain_reg = homelessness[homelessness['region']=='Mountain']\n",
    "\n",
    "# See the result\n",
    "print(mountain_reg.head())"
   ]
  },
  {
   "cell_type": "code",
   "execution_count": 119,
   "id": "9f86f88e-6b1c-400f-bb57-65675e6d533c",
   "metadata": {},
   "outputs": [
    {
     "name": "stdout",
     "output_type": "stream",
     "text": [
      "    region   state  individuals  family_members  state_pop\n",
      "1  Pacific  Alaska       1434.0           582.0     735139\n"
     ]
    }
   ],
   "source": [
    "# Filter for rows where family_members is less than 1000 \n",
    "# and region is Pacific\n",
    "fam_lt_1k_pac = homelessness[(homelessness['family_members']<1000) & (homelessness['region']=='Pacific')]\n",
    "\n",
    "# See the result\n",
    "print(fam_lt_1k_pac)"
   ]
  },
  {
   "cell_type": "markdown",
   "id": "ee347bb8-3053-4aa4-84b0-c2a5e6718afe",
   "metadata": {},
   "source": [
    "## Subsetting rows by categorical variables\n",
    "\n",
    "Subsetting data based on a categorical variable often involves using the \"or\" operator (|) to select rows from multiple categories. This can get tedious when you want all states in one of three different regions, for example. Instead, use the .isin() method, which will allow you to tackle this problem by writing one condition instead of three separate ones.\n",
    "\n",
    "colors = [\"brown\", \"black\", \"tan\"]\n",
    "condition = dogs[\"color\"].isin(colors)\n",
    "dogs[condition]\n",
    "\n",
    "homelessness is available and pandas is loaded as pd.\n",
    "Instructions 1/2\n",
    "50 XP\n",
    "\n",
    "    Question 1\n",
    "    Filter homelessness for cases where the USA census region is \"South Atlantic\" or it is \"Mid-Atlantic\", assigning to south_mid_atlantic. View the printed result.\n",
    "    \n",
    "    \n",
    "    \n",
    "    Question 2\n",
    "    Filter homelessness for cases where the USA census state is in the list of Mojave states, canu, assigning to mojave_homelessness. View the printed result.\n",
    "    "
   ]
  },
  {
   "cell_type": "code",
   "execution_count": 122,
   "id": "7da61d2b-1fe7-427e-bd7b-1748429b0094",
   "metadata": {},
   "outputs": [
    {
     "name": "stdout",
     "output_type": "stream",
     "text": [
      "           region               state  individuals  family_members  state_pop\n",
      "7   SouthAtlantic            Delaware        708.0           374.0     965479\n",
      "8   SouthAtlantic  DistrictofColumbia       3770.0          3134.0     701547\n",
      "9   SouthAtlantic             Florida      21443.0          9587.0   21244317\n",
      "10  SouthAtlantic             Georgia       6943.0          2556.0   10511131\n",
      "20  SouthAtlantic            Maryland       4914.0          2230.0    6035802\n",
      "30   Mid-Atlantic           NewJersey       6048.0          3350.0    8886025\n",
      "32   Mid-Atlantic             NewYork      39827.0         52070.0   19530351\n",
      "33  SouthAtlantic       NorthCarolina       6451.0          2817.0   10381615\n",
      "38   Mid-Atlantic        Pennsylvania       8163.0          5349.0   12800922\n",
      "40  SouthAtlantic       SouthCarolina       3082.0           851.0    5084156\n",
      "46  SouthAtlantic            Virginia       3928.0          2047.0    8501286\n",
      "48  SouthAtlantic        WestVirginia       1021.0           222.0    1804291\n"
     ]
    }
   ],
   "source": [
    "#print(homelessness)\n",
    "\n",
    "\n",
    "# Subset for rows in South Atlantic or Mid-Atlantic regions\n",
    "south_mid_atlantic = homelessness[homelessness['region'].isin(['SouthAtlantic', 'Mid-Atlantic'])]\n",
    "\n",
    "# See the result\n",
    "print(south_mid_atlantic)"
   ]
  },
  {
   "cell_type": "code",
   "execution_count": 123,
   "id": "0089217d-d1ef-4df0-8409-4ce6e0572df1",
   "metadata": {},
   "outputs": [
    {
     "name": "stdout",
     "output_type": "stream",
     "text": [
      "      region       state  individuals  family_members  state_pop\n",
      "2   Mountain     Arizona       7259.0          2606.0    7158024\n",
      "4    Pacific  California     109008.0         20964.0   39461588\n",
      "28  Mountain      Nevada       7058.0           486.0    3027341\n",
      "44  Mountain        Utah       1904.0           972.0    3153550\n"
     ]
    }
   ],
   "source": [
    "# The Mojave Desert states\n",
    "canu = [\"California\", \"Arizona\", \"Nevada\", \"Utah\"]\n",
    "\n",
    "# Filter for rows in the Mojave Desert states\n",
    "mojave_homelessness = homelessness[homelessness['state'].isin(canu)]\n",
    "\n",
    "# See the result\n",
    "print(mojave_homelessness)"
   ]
  },
  {
   "cell_type": "markdown",
   "id": "72bdf0a6-d91b-46e1-83a1-393ccf02ce3f",
   "metadata": {},
   "source": [
    "## New columns\n",
    "\n",
    "\n",
    "\n",
    "# *******************************************************************************************************************\n",
    "**In the last lesson, you saw how to subset and sort a DataFrame to extract interesting bits.  However, often when you first receive a DataFrame, the contents arent exactly what you want.  You may have to add new columns derived from existing columns.  Creating and adding new columns can go by many names, including mutating a DataFrame, transforming a DataFrame, and frature engineering.  \n",
    "\n",
    "Lets say we want to add a new column to our DataFrame that has each dog's height in meters instead of centimeters.  On the left-hand side of the equal sign, we use square brackets with the name of the new column we want to create.  On the right-hand side, we have the calculation.  Notice that both the existing column and the new column we just created are in the DataFrame.  \n",
    "Lets see what the results are if we calculate the body mass index (BMI), of those dogs.  BMI = Wieght in kg/(Height in m)^2.  \n",
    "\n",
    "\n",
    "# *******************************************************************************************************************\n",
    "# The real power of Pandas comes in when you combine all the skills you've learned so far.  \n",
    "\n",
    "Lets figure out the names of skinny, tall dogs.  First to define the skinny dogs, we take the subset of the dogs who have BMI under 100.  Next we sort the results in descending order of heightto get the tallest skinny dogs at the top.  Finally we keep only the columns we'vre interested in.  Here you can see that Max is the tallest dog with a BMI of under 100.  \n"
   ]
  },
  {
   "cell_type": "code",
   "execution_count": 156,
   "id": "4b27e6ab-a709-456e-933a-fa9bdfcb813b",
   "metadata": {},
   "outputs": [
    {
     "name": "stdout",
     "output_type": "stream",
     "text": [
      "      name       breed  color  height_cn  weight_km data_of_birth  height_m  \\\n",
      "0    Bella    Labrador  Brown         56         24    2013-07-01      0.56   \n",
      "1  Charlie      Poodle  Black         43         24    2016-09-16      0.43   \n",
      "2     Lucy   Chow Chow  Brown         46         24    2014-08-25      0.46   \n",
      "3   Cooper   Schnauzer   Gray         49         17    2011-12-11      0.49   \n",
      "4      Max    Labrador  Black         59         29    2017-01-20      0.59   \n",
      "5   Stella   Chihuahua    Tan         18          2    2015-04-20      0.18   \n",
      "6   Bernie  St.Bernard  White         77         74    2018-02-27      0.77   \n",
      "\n",
      "          BMI  \n",
      "0   76.530612  \n",
      "1  129.799892  \n",
      "2  113.421550  \n",
      "3   70.803832  \n",
      "4   83.309394  \n",
      "5   61.728395  \n",
      "6  124.810255  \n",
      "     name      breed  color  height_m        BMI\n",
      "4     Max   Labrador  Black      0.59  83.309394\n",
      "0   Bella   Labrador  Brown      0.56  76.530612\n",
      "3  Cooper  Schnauzer   Gray      0.49  70.803832\n",
      "5  Stella  Chihuahua    Tan      0.18  61.728395\n"
     ]
    }
   ],
   "source": [
    "import pandas as pd\n",
    "\n",
    "df = pd.read_csv('dogs2.csv')\n",
    "#print(df)\n",
    "\n",
    "\n",
    "#####################################################################################################################\n",
    "df['height_m'] = df['height_cn']/100\n",
    "df['BMI'] = df['weight_km']/df['height_m']**2\n",
    "\n",
    "\n",
    "print(df)\n",
    "\n",
    "\n",
    "bmi_under_100 = df[df['BMI']<100]\n",
    "#####################################################################################################################\n",
    "print(bmi_under_100.sort_values('height_m', ascending=False)[['name', 'breed', 'color', 'height_m', 'BMI']])"
   ]
  },
  {
   "cell_type": "markdown",
   "id": "34cb93b9-b6c6-4461-ab5c-feef82396d40",
   "metadata": {},
   "source": [
    "# DataCamp Object-Oriented Programming in Python"
   ]
  },
  {
   "cell_type": "code",
   "execution_count": 150,
   "id": "8479b86e-6e1a-4b83-b4b2-f7c24d9bf8c7",
   "metadata": {},
   "outputs": [
    {
     "name": "stdout",
     "output_type": "stream",
     "text": [
      "     col1    col2    col3    col4\n",
      "0  data11  data12  data13  data14\n",
      "1  data21  data22  data23  data24\n",
      "2  data31  data32  data33  data34\n",
      "3  data41  data42  data43  data44\n"
     ]
    }
   ],
   "source": [
    "import pandas as pd\n",
    "from datetime import datetime\n",
    "\n",
    "\n",
    "class LoggedDF(pd.DataFrame):\n",
    "    \n",
    "    def __init__(self, *args, **kwargs):\n",
    "        pd.DataFrame.__init__(self, *args, **kwargs)\n",
    "        self.created_at = datetime.today()\n",
    "    #################################################################################################################\n",
    "    # We've added .created_at attribute, but what to do if we want to add a .read_csv() method ????\n",
    "    #################################################################################################################\n",
    "\n",
    "\n",
    "\n",
    "ldf = LoggedDF([{'col1': 'data11', 'col2': 'data12', 'col3': 'data13', 'col4': 'data14'}, \n",
    "                {'col1': 'data21', 'col2': 'data22', 'col3': 'data23', 'col4': 'data24'}, \n",
    "                {'col1': 'data31', 'col2': 'data32', 'col3': 'data33', 'col4': 'data34'}, \n",
    "                {'col1': 'data41', 'col2': 'data42', 'col3': 'data43', 'col4': 'data44'}])\n",
    "\n",
    "print(ldf)"
   ]
  },
  {
   "cell_type": "markdown",
   "id": "8f39e12b-5955-4069-9471-fa039a51df15",
   "metadata": {},
   "source": [
    "## Adding new columns\n",
    "\n",
    "You aren't stuck with just the data you are given. Instead, you can add new columns to a DataFrame. \n",
    "# This has many names, such as transforming, mutating, and feature engineering.\n",
    "\n",
    "You can create new columns from scratch, but it is also common to derive them from other columns, for example, by adding columns together or by changing their units.\n",
    "\n",
    "homelessness is available and pandas is loaded as pd.\n",
    "Instructions\n",
    "100 XP\n",
    "\n",
    "    Add a new column to homelessness, named total, containing the sum of the individuals and family_members columns.\n",
    "    Add another column to homelessness, named p_individuals, containing the proportion of homeless people in each state who are individuals.\n"
   ]
  },
  {
   "cell_type": "code",
   "execution_count": 158,
   "id": "8c4c9853-1c70-4e4c-af18-d2bfa0c662b6",
   "metadata": {},
   "outputs": [
    {
     "name": "stdout",
     "output_type": "stream",
     "text": [
      "             region       state  individuals  family_members  state_pop  \\\n",
      "0  EastSouthCentral     Alabama       2570.0           864.0    4887681   \n",
      "1           Pacific      Alaska       1434.0           582.0     735139   \n",
      "2          Mountain     Arizona       7259.0          2606.0    7158024   \n",
      "3  WestSouthCentral    Arkansas       2280.0           432.0    3009733   \n",
      "4           Pacific  California     109008.0         20964.0   39461588   \n",
      "\n",
      "      total  p_invdividuals  \n",
      "0    3434.0        0.748398  \n",
      "1    2016.0        0.711310  \n",
      "2    9865.0        0.735834  \n",
      "3    2712.0        0.840708  \n",
      "4  129972.0        0.838704  \n"
     ]
    }
   ],
   "source": [
    "# Add total col as sum of individuals and family_members\n",
    "homelessness['total'] = homelessness['individuals'] + homelessness['family_members']\n",
    "\n",
    "# Add p_individuals col as proportion of individuals\n",
    "homelessness['p_invdividuals'] = homelessness['individuals']/homelessness['total']\n",
    "\n",
    "# See the result\n",
    "print(homelessness.head())"
   ]
  },
  {
   "cell_type": "markdown",
   "id": "3f32ee78-7715-4147-aa3f-b9c5737c0cd9",
   "metadata": {},
   "source": [
    "## Combo-attack!\n",
    "\n",
    "# *******************************************************************************************************************\n",
    "# You've seen the four most common types of data manipulation: sorting rows, subsetting columns, subsetting rows, and adding new columns. In a real-life data analysis, you can mix and match these four manipulations to answer a multitude of questions.\n",
    "\n",
    "# *******************************************************************************************************************\n",
    "In this exercise, you'll answer the question, \"Which state has the highest number of homeless individuals per 10,000 people in the state?\" Combine your new pandas skills to find out.\n",
    "Instructions\n",
    "100 XP\n",
    "\n",
    "    Add a column to homelessness, indiv_per_10k, containing the number of homeless individuals per ten thousand people in each state.\n",
    "    Subset rows where indiv_per_10k is higher than 20, assigning to high_homelessness.\n",
    "    Sort high_homelessness by descending indiv_per_10k, assigning to high_homelessness_srt.\n",
    "    Select only the state and indiv_per_10k columns of high_homelessness_srt and save as result. Look at the result.\n"
   ]
  },
  {
   "cell_type": "code",
   "execution_count": 159,
   "id": "9f852d7f-e80f-48d9-9018-0bc7a3126132",
   "metadata": {},
   "outputs": [
    {
     "name": "stdout",
     "output_type": "stream",
     "text": [
      "                 state  indiv_per_10k\n",
      "8   DistrictofColumbia      53.738381\n",
      "11              Hawaii      29.079406\n",
      "4           California      27.623825\n",
      "37              Oregon      26.636307\n",
      "28              Nevada      23.314189\n",
      "47          Washington      21.829195\n",
      "32             NewYork      20.392363\n"
     ]
    }
   ],
   "source": [
    "# Create indiv_per_10k col as homeless individuals per 10k state pop\n",
    "homelessness[\"indiv_per_10k\"] = 10000 * homelessness['individuals'] / homelessness['state_pop'] \n",
    "\n",
    "# Subset rows for indiv_per_10k greater than 20\n",
    "high_homelessness = homelessness[homelessness['indiv_per_10k']>20]\n",
    "\n",
    "# Sort high_homelessness by descending indiv_per_10k\n",
    "high_homelessness_srt = high_homelessness.sort_values('indiv_per_10k', ascending=False)\n",
    "\n",
    "# From high_homelessness_srt, select the state and indiv_per_10k cols\n",
    "result = high_homelessness_srt[['state', 'indiv_per_10k']]\n",
    "\n",
    "# See the result\n",
    "print(result)"
   ]
  },
  {
   "cell_type": "markdown",
   "id": "cc48a48a-7516-4852-aff4-2685582fb744",
   "metadata": {},
   "source": [
    "## Summary statistics\n",
    "\n",
    "\n",
    "\n",
    "**In the first chapter, you learned about DataFrames, how to sort and subset them, and how to add new columns to them.  In this chapter, we'll talk about aggregating data, starting with summary statistics.  \n",
    "\n",
    "Summary statistics as follows from their name, are numbers that summarize and tell you about your dataset.  One of the most common summary statistics for numeric data is the .mean(), which is one way of telling you where the center of your data is.  You can calculate the mean of a column by selecting the column with square brackets and calling .mean().  \n",
    "# *******************************************************************************************************************\n",
    "There are lots of other summary statistics that you can compute on columns, like .median(), .mode(), .min(), .max(), .var(), and .std().  You can also take .sum() and calculate the .quantile().  You can also get summary statistics for date columns.  For example we can find the oldest dog by taking the .min() on the date of birth column, dogs['date_of_birth'].min()\n",
    "\n",
    "To aggregate or .agg() method allows you to compute custom summary statistics.  Here we def a function called pct30 that computes the 30th percentile of a DataFrame column.  Now we can subset the weight column and call .agg(pct30) passing the name of our defined function.  The .agg() can also be used on more thann one column, by selecting the weight and height columns before calling agg, we get the answer of both required columns.  We can also use .agg() to get multiple summary statistics at once.  We can actually pass a list of functions into .agg() method. \n",
    "\n",
    "# *******************************************************************************************************************\n",
    "Pandas also has methods for computing cumulative statistics, for example the cumulative sum.  Calling .cumsum() on a column returns not just one number, but a number for each row of the DataFrame.  The first number is returned, or the number in the zeroth index, is the first dog's weight.  The next number is the sum of the first and second dog's weights.  The third number is the sum of the first, second, and the third dog's weights, and soon.  The last number is the sum of all the dog's weights.  \n",
    "Pandas also has methods for other cumulative statistics, such as the cumulative maximum - .cummax(), cumulative minimum - .cummin(), and the cumulative product - .cumprod().  These methods all returns an entire column of DF.  \n",
    "\n",
    "# *******************************************************************************************************************\n",
    "In this chapter, you'll be working with data on Walmart stores, which is a chain of department store in the US.  The dataset contains weekly sales in US dollars in various stores.  Each store has an ID number and a specific store type.  The sales are also separated by department ID.  Along with weekly sales, there is information about whether it was a holiday week or not, the average temperature during the week in that location, the average fuel price in dullars per liter that week, and the national unemployment rate that week.  \n",
    "\n",
    "\n",
    "def pct30(column):\n",
    "    return column.quantile(0.3)\n",
    "    \n",
    "def pct40(column):\n",
    "    return column.quantile(0.4)\n",
    "\n",
    "\n",
    "---------------------------------------------------------------------------------------------------------------\n",
    "store  | type   | dept    | date        | weekly_sales  | is_holiday   | temp_c    | fuel_price  | unemp\n",
    "1      | A      | 1       | 2010-02-05  | 24924.50      | False        | 5.73      | 0.679       | 8.106\n",
    "1      | A      | 2       | 2010-02-05  | 50605.27      | False        | 5.73      | 0.679       | 8.106\n",
    "1      | A      | 3       | 2010-02-05  | 13740.12      | False        | 5.73      | 0.679       | 8.106\n",
    "1      | A      | 4       | 2010-02-05  | 39954.04      | False        | 5.73      | 0.679       | 8.106\n",
    "1      | A      | 5       | 2010-02-05  | 32229.38      | False        | 5.73      | 0.679       | 8.106\n",
    "\n"
   ]
  },
  {
   "cell_type": "code",
   "execution_count": 188,
   "id": "0f33df67-157c-4045-96a4-f5f4ad93a1ec",
   "metadata": {},
   "outputs": [
    {
     "name": "stdout",
     "output_type": "stream",
     "text": [
      "10.430003339266477\n",
      "7.122409297196753\n",
      "0    6.0\n",
      "dtype: float64\n",
      "3.435065849943979\n",
      "53.73838103505538\n",
      "77.96469732888109\n",
      "8.829762019946012\n",
      "531.9301703025903\n",
      "7.122409297196753\n",
      "6.04980494709957\n",
      "9.99472105823659\n",
      "\n",
      "Help on function quantile in module pandas.core.series:\n",
      "\n",
      "quantile(self, q=0.5, interpolation='linear')\n",
      "    Return value at the given quantile.\n",
      "    \n",
      "    Parameters\n",
      "    ----------\n",
      "    q : float or array-like, default 0.5 (50% quantile)\n",
      "        The quantile(s) to compute, which can lie in range: 0 <= q <= 1.\n",
      "    interpolation : {'linear', 'lower', 'higher', 'midpoint', 'nearest'}\n",
      "        This optional parameter specifies the interpolation method to use,\n",
      "        when the desired quantile lies between two data points `i` and `j`:\n",
      "    \n",
      "            * linear: `i + (j - i) * fraction`, where `fraction` is the\n",
      "              fractional part of the index surrounded by `i` and `j`.\n",
      "            * lower: `i`.\n",
      "            * higher: `j`.\n",
      "            * nearest: `i` or `j` whichever is nearest.\n",
      "            * midpoint: (`i` + `j`) / 2.\n",
      "    \n",
      "    Returns\n",
      "    -------\n",
      "    float or Series\n",
      "        If ``q`` is an array, a Series will be returned where the\n",
      "        index is ``q`` and the values are the quantiles, otherwise\n",
      "        a float will be returned.\n",
      "    \n",
      "    See Also\n",
      "    --------\n",
      "    core.window.Rolling.quantile : Calculate the rolling quantile.\n",
      "    numpy.percentile : Returns the q-th percentile(s) of the array elements.\n",
      "    \n",
      "    Examples\n",
      "    --------\n",
      "    >>> s = pd.Series([1, 2, 3, 4])\n",
      "    >>> s.quantile(.5)\n",
      "    2.5\n",
      "    >>> s.quantile([.25, .5, .75])\n",
      "    0.25    1.75\n",
      "    0.50    2.50\n",
      "    0.75    3.25\n",
      "    dtype: float64\n",
      "\n",
      "None\n"
     ]
    }
   ],
   "source": [
    "print(homelessness['indiv_per_10k'].mean())\n",
    "\n",
    "print(homelessness['indiv_per_10k'].median())\n",
    "\n",
    "print(round(homelessness['indiv_per_10k']).mode())\n",
    "\n",
    "print(homelessness['indiv_per_10k'].min())\n",
    "\n",
    "print(homelessness['indiv_per_10k'].max())\n",
    "\n",
    "print(homelessness['indiv_per_10k'].var())\n",
    "\n",
    "print(homelessness['indiv_per_10k'].std())\n",
    "\n",
    "print(homelessness['indiv_per_10k'].sum())\n",
    "\n",
    "print(homelessness['indiv_per_10k'].quantile())\n",
    "print(homelessness['indiv_per_10k'].quantile(0.25))\n",
    "print(homelessness['indiv_per_10k'].quantile(0.75))\n",
    "\n",
    "\n",
    "print()\n",
    "print(help(pd.Series.quantile))"
   ]
  },
  {
   "cell_type": "code",
   "execution_count": 189,
   "id": "5fcac18a-1677-4a5a-aa09-e9496ba31948",
   "metadata": {},
   "outputs": [
    {
     "name": "stdout",
     "output_type": "stream",
     "text": [
      "[1, 3, 5, 6, 9, 11, 12, 13, 19, 21, 22, 32, 35, 36, 45, 44, 55, 68, 79, 80, 81, 88, 90, 91, 92, 100, 112, 113, 114, 120, 121, 132, 145, 146, 149, 150, 155, 180, 189, 190]\n",
      "78.85\n"
     ]
    }
   ],
   "source": [
    "values = '1 3 5 6 9 11 12 13 19 21 22 32 35 36 45 44 55 68 79 80 81 88 90 91 92 100 112 113 \\\n",
    "114 120 121 132 145 146 149 150 155 180 189 190'\n",
    "\n",
    "vals = values.split(' ')\n",
    "vals = [int(i) for i in vals]\n",
    "print(vals)\n",
    "\n",
    "\n",
    "import numpy as np\n",
    "np_vals = np.array(vals)\n",
    "\n",
    "print(np_vals.mean())\n",
    "#print(np_vals.quantile())   # This is a Pandas Series method, not NumPy Array method"
   ]
  },
  {
   "cell_type": "code",
   "execution_count": 199,
   "id": "f696d536-e2ae-47e0-b50a-fc652263278d",
   "metadata": {},
   "outputs": [
    {
     "name": "stdout",
     "output_type": "stream",
     "text": [
      "      name       breed  color  height_cn  weight_km data_of_birth\n",
      "0    Bella    Labrador  Brown         56         24    2013-07-01\n",
      "1  Charlie      Poodle  Black         43         24    2016-09-16\n",
      "2     Lucy   Chow Chow  Brown         46         24    2014-08-25\n",
      "3   Cooper   Schnauzer   Gray         49         17    2011-12-11\n",
      "4      Max    Labrador  Black         59         29    2017-01-20\n",
      "5   Stella   Chihuahua    Tan         18          2    2015-04-20\n",
      "6   Bernie  St.Bernard  White         77         74    2018-02-27\n",
      "\n",
      "pct30    45.4\n",
      "pct40    47.2\n",
      "Name: height_cn, dtype: float64\n"
     ]
    }
   ],
   "source": [
    "import pandas as pd\n",
    "\n",
    "\n",
    "df = pd.read_csv('dogs2.csv')\n",
    "print(df)\n",
    "print()\n",
    "\n",
    "#print(dir(df['height_cn']))   # agg is there, \n",
    "\n",
    "\n",
    "def pct30(column):\n",
    "    return column.quantile(0.3)\n",
    "\n",
    "def pct40(column):\n",
    "    return column.quantile(0.4)\n",
    "\n",
    "\n",
    "#####################################################################################################################\n",
    "print(df['height_cn'].agg([pct30, pct40]))"
   ]
  },
  {
   "cell_type": "markdown",
   "id": "192fc1bd-3b65-4a76-b12c-a10ab21b5a9b",
   "metadata": {},
   "source": [
    "## Mean and median\n",
    "\n",
    "Summary statistics are exactly what they sound like - they summarize many numbers in one statistic. For example, mean, median, minimum, maximum, and standard deviation are summary statistics. Calculating summary statistics allows you to get a better sense of your data, even if there's a lot of it.\n",
    "\n",
    "sales is available and pandas is loaded as pd.\n",
    "Instructions\n",
    "70 XP\n",
    "\n",
    "    Explore your new DataFrame first by printing the first few rows of the sales DataFrame.\n",
    "    Print information about the columns in sales.\n",
    "    Print the mean of the weekly_sales column.\n",
    "    Print the median of the weekly_sales column.\n"
   ]
  },
  {
   "cell_type": "code",
   "execution_count": 1,
   "id": "760d77ac-c847-4cd9-a013-ffa1a8adb689",
   "metadata": {},
   "outputs": [
    {
     "name": "stdout",
     "output_type": "stream",
     "text": [
      "   store type  department        date  weekly_sales  is_holiday  \\\n",
      "0      1    A           1  2010-02-05      24924.50       False   \n",
      "1      1    A           1  2010-03-05      21827.90       False   \n",
      "2      1    A           1  2010-04-02      57258.43       False   \n",
      "3      1    A           1  2010-05-07      17413.94       False   \n",
      "4      1    A           1  2010-06-04      17558.09       False   \n",
      "\n",
      "   temperature_c  fuel_price_usd_per_l  unemployment  \n",
      "0       5.727778              0.679451         8.106  \n",
      "1       8.055556              0.693452         8.106  \n",
      "2      16.816667              0.718284         7.808  \n",
      "3      22.527778              0.748928         7.808  \n",
      "4      27.050000              0.714586         7.808  \n",
      "\n",
      "<class 'pandas.core.frame.DataFrame'>\n",
      "Int64Index: 10774 entries, 0 to 10773\n",
      "Data columns (total 9 columns):\n",
      " #   Column                Non-Null Count  Dtype  \n",
      "---  ------                --------------  -----  \n",
      " 0   store                 10774 non-null  int64  \n",
      " 1   type                  10774 non-null  object \n",
      " 2   department            10774 non-null  int64  \n",
      " 3   date                  10774 non-null  object \n",
      " 4   weekly_sales          10774 non-null  float64\n",
      " 5   is_holiday            10774 non-null  bool   \n",
      " 6   temperature_c         10774 non-null  float64\n",
      " 7   fuel_price_usd_per_l  10774 non-null  float64\n",
      " 8   unemployment          10774 non-null  float64\n",
      "dtypes: bool(1), float64(4), int64(2), object(2)\n",
      "memory usage: 768.1+ KB\n",
      "None\n",
      "\n",
      "23843.95014850566\n",
      "12049.064999999999\n"
     ]
    }
   ],
   "source": [
    "import pandas as pd\n",
    "\n",
    "\n",
    "sales = pd.read_csv('sales_subset.csv', index_col=0)\n",
    "#print(sales.head())\n",
    "\n",
    "\n",
    "# Print the head of the sales DataFrame\n",
    "print(sales.head())\n",
    "print()\n",
    "\n",
    "# Print the info about the sales DataFrame\n",
    "print(sales.info())\n",
    "print()\n",
    "\n",
    "# Print the mean of weekly_sales\n",
    "print(sales['weekly_sales'].mean())\n",
    "\n",
    "# Print the median of weekly_sales\n",
    "print(sales['weekly_sales'].median())"
   ]
  },
  {
   "cell_type": "markdown",
   "id": "0f3c24ce-1093-404d-9559-bd85c242bc45",
   "metadata": {},
   "source": [
    "## Summarizing dates\n",
    "\n",
    "Summary statistics can also be calculated on date columns that have values with the data type datetime64. Some summary statistics — like mean — don't make a ton of sense on dates, but others are super helpful, for example, minimum and maximum, which allow you to see what time range your data covers.\n",
    "\n",
    "sales is available and pandas is loaded as pd.\n",
    "Instructions\n",
    "100 XP\n",
    "\n",
    "    Print the maximum of the date column.\n",
    "    Print the minimum of the date column.\n"
   ]
  },
  {
   "cell_type": "code",
   "execution_count": 2,
   "id": "7883e86f-1746-4cf8-b48e-08fee653b9bb",
   "metadata": {},
   "outputs": [
    {
     "name": "stdout",
     "output_type": "stream",
     "text": [
      "2012-10-26\n",
      "2010-02-05\n"
     ]
    }
   ],
   "source": [
    "# Print the maximum of the date column\n",
    "print(sales['date'].max())\n",
    "\n",
    "# Print the minimum of the date column\n",
    "print(sales['date'].min())"
   ]
  },
  {
   "cell_type": "markdown",
   "id": "b650b3f5-2ca0-452b-8734-b2acb33d1755",
   "metadata": {},
   "source": [
    "## Efficient summaries\n",
    "\n",
    "While pandas and NumPy have tons of functions, sometimes, you may need a different function to summarize your data.\n",
    "\n",
    "The .agg() method allows you to apply your own custom functions to a DataFrame, as well as apply functions to more than one column of a DataFrame at once, making your aggregations super-efficient. For example,\n",
    "\n",
    "df['column'].agg(function)\n",
    "\n",
    "In the custom function for this exercise, \"IQR\" is short for inter-quartile range, which is the 75th percentile minus the 25th percentile. It's an alternative to standard deviation that is helpful if your data contains outliers.\n",
    "\n",
    "sales is available and pandas is loaded as pd.\n",
    "Instructions 1/3\n",
    "35 XP\n",
    "\n",
    "    Question 1\n",
    "    Use the custom iqr function defined for you along with .agg() to print the IQR of the temperature_c column of sales.\n",
    "    \n",
    "    \n",
    "    \n",
    "    Question 2\n",
    "    Update the column selection to use the custom iqr function with .agg() to print the IQR of temperature_c, fuel_price_usd_per_l, and unemployment, in that order.\n",
    "    \n",
    "    \n",
    "    \n",
    "    Question 3\n",
    "    Update the aggregation functions called by .agg(): include iqr and np.median in that order.\n"
   ]
  },
  {
   "cell_type": "code",
   "execution_count": 3,
   "id": "de86d794-ea49-4de9-9798-bad292aee150",
   "metadata": {},
   "outputs": [
    {
     "name": "stdout",
     "output_type": "stream",
     "text": [
      "16.583333333333336\n"
     ]
    }
   ],
   "source": [
    "# A custom IQR function\n",
    "def iqr(column):\n",
    "    return column.quantile(0.75) - column.quantile(0.25)\n",
    "    \n",
    "# Print IQR of the temperature_c column\n",
    "print(sales['temperature_c'].agg(iqr))"
   ]
  },
  {
   "cell_type": "code",
   "execution_count": 4,
   "id": "a451cc41-4bc5-4633-abe9-7b1f7f220854",
   "metadata": {},
   "outputs": [
    {
     "name": "stdout",
     "output_type": "stream",
     "text": [
      "temperature_c           16.583333\n",
      "fuel_price_usd_per_l     0.073176\n",
      "unemployment             0.565000\n",
      "dtype: float64\n"
     ]
    }
   ],
   "source": [
    "# A custom IQR function\n",
    "def iqr(column):\n",
    "    return column.quantile(0.75) - column.quantile(0.25)\n",
    "\n",
    "\n",
    "# Print IQR of the temperature_c column\n",
    "print(sales[['temperature_c', 'fuel_price_usd_per_l', 'unemployment']].agg(iqr))"
   ]
  },
  {
   "cell_type": "code",
   "execution_count": 6,
   "id": "016c288f-f792-44af-89ef-e75bfcdd9c6e",
   "metadata": {},
   "outputs": [
    {
     "name": "stdout",
     "output_type": "stream",
     "text": [
      "        temperature_c  fuel_price_usd_per_l  unemployment\n",
      "iqr         16.583333              0.073176         0.565\n",
      "median      16.966667              0.743381         8.099\n"
     ]
    }
   ],
   "source": [
    "import numpy as np\n",
    "\n",
    "\n",
    "# A custom IQR function\n",
    "def iqr(column):\n",
    "    return column.quantile(0.75) - column.quantile(0.25)\n",
    "\n",
    "\n",
    "#####################################################################################################################\n",
    "# Print IQR of the temperature_c column\n",
    "print(sales[['temperature_c', 'fuel_price_usd_per_l', 'unemployment']].agg([iqr, np.median]))"
   ]
  },
  {
   "cell_type": "markdown",
   "id": "d65983e2-30f0-4652-8701-524853ab3735",
   "metadata": {},
   "source": [
    "## Cumulative statistics\n",
    "\n",
    "# *******************************************************************************************************************\n",
    "Cumulative statistics can also be helpful in tracking summary statistics over time. In this exercise, you'll calculate the cumulative sum and cumulative max of a department's weekly sales, which will allow you to identify what the total sales were so far as well as what the highest weekly sales were so far.\n",
    "\n",
    "A DataFrame called sales_1_1 has been created for you, which contains the sales data for department 1 of store 1. pandas is loaded as pd.\n",
    "Instructions\n",
    "100 XP\n",
    "\n",
    "    Sort the rows of sales_1_1 by the date column in ascending order.\n",
    "    Get the cumulative sum of weekly_sales and add it as a new column of sales_1_1 called cum_weekly_sales.\n",
    "    Get the cumulative maximum of weekly_sales, and add it as a column called cum_max_sales.\n",
    "    Print the date, weekly_sales, cum_weekly_sales, and cum_max_sales columns.\n"
   ]
  },
  {
   "cell_type": "code",
   "execution_count": 10,
   "id": "86b18a22-b6d7-4ea7-8e77-506824b6d37e",
   "metadata": {},
   "outputs": [
    {
     "name": "stdout",
     "output_type": "stream",
     "text": [
      "    store type  department        date  weekly_sales  is_holiday  \\\n",
      "0       1    A           1  2010-02-05      24924.50       False   \n",
      "1       1    A           1  2010-03-05      21827.90       False   \n",
      "2       1    A           1  2010-04-02      57258.43       False   \n",
      "3       1    A           1  2010-05-07      17413.94       False   \n",
      "4       1    A           1  2010-06-04      17558.09       False   \n",
      "5       1    A           1  2010-07-02      16333.14       False   \n",
      "6       1    A           1  2010-08-06      17508.41       False   \n",
      "7       1    A           1  2010-09-03      16241.78       False   \n",
      "8       1    A           1  2010-10-01      20094.19       False   \n",
      "9       1    A           1  2010-11-05      34238.88       False   \n",
      "10      1    A           1  2010-12-03      22517.56       False   \n",
      "11      1    A           1  2011-01-07      15984.24       False   \n",
      "\n",
      "    temperature_c  fuel_price_usd_per_l  unemployment  \n",
      "0        5.727778              0.679451         8.106  \n",
      "1        8.055556              0.693452         8.106  \n",
      "2       16.816667              0.718284         7.808  \n",
      "3       22.527778              0.748928         7.808  \n",
      "4       27.050000              0.714586         7.808  \n",
      "5       27.172222              0.705076         7.787  \n",
      "6       30.644444              0.693980         7.787  \n",
      "7       27.338889              0.680772         7.787  \n",
      "8       22.161111              0.687640         7.838  \n",
      "9       14.855556              0.710359         7.838  \n",
      "10       9.594444              0.715378         7.838  \n",
      "11       9.038889              0.786176         7.742  \n",
      "\n",
      "          date  weekly_sales  cum_weekly_sales  cum_max_sales\n",
      "0   2010-02-05      24924.50          24924.50       24924.50\n",
      "1   2010-03-05      21827.90          46752.40       24924.50\n",
      "2   2010-04-02      57258.43         104010.83       57258.43\n",
      "3   2010-05-07      17413.94         121424.77       57258.43\n",
      "4   2010-06-04      17558.09         138982.86       57258.43\n",
      "5   2010-07-02      16333.14         155316.00       57258.43\n",
      "6   2010-08-06      17508.41         172824.41       57258.43\n",
      "7   2010-09-03      16241.78         189066.19       57258.43\n",
      "8   2010-10-01      20094.19         209160.38       57258.43\n",
      "9   2010-11-05      34238.88         243399.26       57258.43\n",
      "10  2010-12-03      22517.56         265916.82       57258.43\n",
      "11  2011-01-07      15984.24         281901.06       57258.43\n"
     ]
    }
   ],
   "source": [
    "#####################################################################################################################\n",
    "#####################################################################################################################\n",
    "sales_1_1 = sales[(sales['store']==1) & (sales['department']==1)]\n",
    "\n",
    "print(sales_1_1)\n",
    "print()\n",
    "\n",
    "\n",
    "# Sort sales_1_1 by date\n",
    "sales_1_1 = sales_1_1.sort_values('date', ascending=True)\n",
    "\n",
    "# Get the cumulative sum of weekly_sales, add as cum_weekly_sales col\n",
    "sales_1_1['cum_weekly_sales'] = sales_1_1['weekly_sales'].cumsum()\n",
    "\n",
    "# Get the cumulative max of weekly_sales, add as cum_max_sales col\n",
    "sales_1_1['cum_max_sales'] = sales_1_1['weekly_sales'].cummax()\n",
    "\n",
    "# See the columns you calculated\n",
    "print(sales_1_1[[\"date\", \"weekly_sales\", \"cum_weekly_sales\", \"cum_max_sales\"]])"
   ]
  },
  {
   "cell_type": "markdown",
   "id": "8ffef7b1-6b2b-4e56-8f1f-38d0101efaa7",
   "metadata": {},
   "source": [
    "## Counting\n",
    "\n",
    "\n",
    "\n",
    "# *******************************************************************************************************************\n",
    "So far in this chapter, you've learned how to summarize numeric variables.  In this video you'll learn how to summarize categorical data using counting.  Counting dogs is no easy task when they're running around the park, its hard to keep track of who you have and havent counted.  \n",
    "\n",
    "# *******************************************************************************************************************\n",
    "# Here is a DataFrame that contains vet visits, the vet's office want to know how many dogs of each breed have visited their office.  However some dogs have been to the vet more than once, like Max and Stella, so we can't count the number of each breed in the breed column.  \n",
    "\n",
    "**Lets try to fix this by removing rows that contain a dog name already listed earlier in the dataset, or in other words, we'll extract a dog with each name from the dataset once.  We can do this using .drop_duplicates() method, it takes an argument - subset=, which is the column we want to find our duplicates based on.  Now we have a list of dogs where each one apperas once.  \n",
    "\n",
    "# *******************************************************************************************************************\n",
    "**We have Max the Chow Chow, but where did Max the Labrador go?  Because we have two different dogs with the same name, we'll need to consider more than just name when droping duplicates.  Since Max the Chow Chow and Max the Labrador are different breed, we can drop the rows with pairs of name and breed we listed earlier in the dataset.  To base our duplicate dropping on multiple columns, we can pass a list of column names to the subset= argument, now both Maxes have been included and we can start counting.  \n",
    "\n",
    "\n",
    "**To count the dogs of each breed, we'll subset the breed column and use the .value_counts() method.  We can also use the sort= argument to get the breeds with biggest counts on top.  Also the normalize= argument can be used to turn the counts into proportions of the total.\n",
    "\n",
    "\n",
    "print(vet_visits)\n",
    "-----------------------------------------------------\n",
    "date          | name      | breed       | weight_kg\n",
    "2018-09-02    | Bella     | Labrador    | 24.87\n",
    "2019-06-07    | Max       | Labrador    | 28.35\n",
    "2018-01-17    | Stella    | Chihuahua   | 1.51\n",
    "2019-10-19    | Lucy      | Chow Chow   | 24.07\n",
    "......\n",
    "2018-01-20    | Stella    | Chihuahua   | 2.83\n",
    "2019-06-07    | Max       | Chow Chow   | 24.01\n",
    "2018-08-20    | Lucy      | Chow Chow   | 24.40\n",
    "2019-04-22    | Max       | Labrador    | 28.54\n",
    "\n",
    "\n",
    "vet_visits.drop_duplicates(subset='name')\n",
    "-----------------------------------------------------\n",
    "date          | name      | breed       | weight_kg\n",
    "2018-09-02    | Bella     | Labrador    | 24.87\n",
    "2019-06-07    | Max       | Chow Chow   | 24.01\n",
    "2019-03-19    | Charlie   | Poodle      | 24.95\n",
    "2018-01-17    | Stella    | Chihuahua   | 1.51\n",
    "2019-10-19    | Lucy      | Chow Chow   | 24.07\n",
    "2019-03-30    | Cooper    | Schnauzer   | 16.91\n",
    "2019-01-04    | Bernie    | St. Bernard | 74.98\n",
    "\n",
    "\n",
    "vet_visits.drop_duplicates(['name', 'breed'])\n",
    "-----------------------------------------------------\n",
    "date          | name      | breed       | weight_kg\n",
    "2018-09-02    | Bella     | Labrador    | 24.87\n",
    "2019-03-13    | Max       | Chow Chow   | 24.13\n",
    "2019-03-19    | Charlie   | Poodle      | 24.95\n",
    "2018-01-17    | Stella    | Chihuahua   | 1.51\n",
    "2019-10-19    | Lucy      | Chow Chow   | 24.07\n",
    "2019-06-07    | Max       | Chow Chow   | 24.01\n",
    "2019-03-30    | Cooper    | Schnauzer   | 16.91\n",
    "2019-01-04    | Bernie    | St. Bernard | 74.98\n",
    "\n",
    "\n",
    "unique_dogs['breed'].value_counts(sort=True)\n",
    "----------------------------------------------------\n",
    "Labrador      2\n",
    "Chow Chow     2\n",
    "Schnauzer     1\n",
    "St. Bernard   1\n",
    "Poodle        1\n",
    "Chihuahua     1\n",
    "Name: breed, dtype: int64\n",
    "\n",
    "\n",
    "unique_dogs['breed'].value_counts(sort=True, normalize=True)\n",
    "----------------------------------------------------\n",
    "Labrador      0.250\n",
    "Chow Chow     0.250\n",
    "Schnauzer     0.125\n",
    "St. Bernard   0.125\n",
    "Poodle        0.125\n",
    "Chihuahua     0.125\n",
    "Name: breed, dtype: int64"
   ]
  },
  {
   "cell_type": "markdown",
   "id": "98ff945b-7d2a-4d89-9a41-aa16df665557",
   "metadata": {},
   "source": [
    "## Dropping duplicates\n",
    "\n",
    "Removing duplicates is an essential skill to get accurate counts because often, you don't want to count the same thing multiple times. In this exercise, you'll create some new DataFrames using unique values from sales.\n",
    "\n",
    "sales is available and pandas is imported as pd.\n",
    "Instructions\n",
    "100 XP\n",
    "\n",
    "    Remove rows of sales with duplicate pairs of store and type and save as store_types and print the head.\n",
    "    Remove rows of sales with duplicate pairs of store and department and save as store_depts and print the head.\n",
    "    Subset the rows that are holiday weeks using the is_holiday column, and drop the duplicate dates, saving as holiday_dates.\n",
    "    Select the date column of holiday_dates, and print.\n"
   ]
  },
  {
   "cell_type": "code",
   "execution_count": 3,
   "id": "c5d6698e-c4e9-4cf2-b630-c1958f2c1107",
   "metadata": {},
   "outputs": [
    {
     "name": "stdout",
     "output_type": "stream",
     "text": [
      "      store type  department        date  weekly_sales  is_holiday  \\\n",
      "0         1    A           1  2010-02-05      24924.50       False   \n",
      "901       2    A           1  2010-02-05      35034.06       False   \n",
      "1798      4    A           1  2010-02-05      38724.42       False   \n",
      "2699      6    A           1  2010-02-05      25619.00       False   \n",
      "3593     10    B           1  2010-02-05      40212.84       False   \n",
      "4495     13    A           1  2010-02-05      46761.90       False   \n",
      "5408     14    A           1  2010-02-05      32842.31       False   \n",
      "6293     19    A           1  2010-02-05      21500.58       False   \n",
      "7199     20    A           1  2010-02-05      46021.21       False   \n",
      "8109     27    A           1  2010-02-05      32313.79       False   \n",
      "9009     31    A           1  2010-02-05      18187.71       False   \n",
      "9899     39    A           1  2010-02-05      21244.50       False   \n",
      "\n",
      "      temperature_c  fuel_price_usd_per_l  unemployment  \n",
      "0          5.727778              0.679451         8.106  \n",
      "901        4.550000              0.679451         8.324  \n",
      "1798       6.533333              0.686319         8.623  \n",
      "2699       4.683333              0.679451         7.259  \n",
      "3593      12.411111              0.782478         9.765  \n",
      "4495      -0.261111              0.704283         8.316  \n",
      "5408      -2.605556              0.735455         8.992  \n",
      "6293      -6.133333              0.780365         8.350  \n",
      "7199      -3.377778              0.735455         8.187  \n",
      "8109      -2.672222              0.780365         8.237  \n",
      "9009       3.916667              0.679451         8.324  \n",
      "9899       6.833333              0.679451         8.554  \n",
      "       store type  department        date  weekly_sales  is_holiday  \\\n",
      "0          1    A           1  2010-02-05      24924.50       False   \n",
      "12         1    A           2  2010-02-05      50605.27       False   \n",
      "24         1    A           3  2010-02-05      13740.12       False   \n",
      "36         1    A           4  2010-02-05      39954.04       False   \n",
      "48         1    A           5  2010-02-05      32229.38       False   \n",
      "...      ...  ...         ...         ...           ...         ...   \n",
      "10715     39    A          95  2010-02-05      88385.24       False   \n",
      "10727     39    A          96  2010-02-05      21450.05       False   \n",
      "10739     39    A          97  2010-02-05      21162.05       False   \n",
      "10751     39    A          98  2010-02-05       9023.09       False   \n",
      "10763     39    A          99  2010-03-05          0.01       False   \n",
      "\n",
      "       temperature_c  fuel_price_usd_per_l  unemployment  \n",
      "0           5.727778              0.679451         8.106  \n",
      "12          5.727778              0.679451         8.106  \n",
      "24          5.727778              0.679451         8.106  \n",
      "36          5.727778              0.679451         8.106  \n",
      "48          5.727778              0.679451         8.106  \n",
      "...              ...                   ...           ...  \n",
      "10715       6.833333              0.679451         8.554  \n",
      "10727       6.833333              0.679451         8.554  \n",
      "10739       6.833333              0.679451         8.554  \n",
      "10751       6.833333              0.679451         8.554  \n",
      "10763      10.516667              0.693452         8.554  \n",
      "\n",
      "[929 rows x 9 columns]\n",
      "\n",
      "<class 'numpy.bool_'>\n",
      "\n",
      "      store type  department        date  weekly_sales  is_holiday  \\\n",
      "498       1    A          45  2010-09-10         11.47        True   \n",
      "691       1    A          77  2011-11-25       1431.00        True   \n",
      "2315      4    A          47  2010-02-12        498.00        True   \n",
      "6735     19    A          39  2012-09-07         13.41        True   \n",
      "6810     19    A          47  2010-12-31       -449.00        True   \n",
      "\n",
      "      temperature_c  fuel_price_usd_per_l  unemployment  \n",
      "498       25.938889              0.677602         7.787  \n",
      "691       15.633333              0.854861         7.866  \n",
      "2315      -1.755556              0.679715         8.623  \n",
      "6735      22.333333              1.076766         8.193  \n",
      "6810      -1.861111              0.881278         8.067  \n"
     ]
    }
   ],
   "source": [
    "import pandas as pd\n",
    "\n",
    "\n",
    "sales = pd.read_csv('sales_subset.csv', index_col=0)\n",
    "\n",
    "\n",
    "# Drop duplicate store/type combinations\n",
    "store_types = sales.drop_duplicates(subset=['store', 'type'])\n",
    "print(store_types)\n",
    "\n",
    "# Drop duplicate store/department combinations\n",
    "store_depts = sales.drop_duplicates(subset=['store', 'department'])\n",
    "print(store_depts)\n",
    "print()\n",
    "\n",
    "# Subset the rows where is_holiday is True and drop duplicate dates\n",
    "holiday_dates = sales[sales['is_holiday']==True].drop_duplicates(subset='date')\n",
    "#####################################################################################################################\n",
    "\n",
    "print(type(sales['is_holiday'][0]))\n",
    "print()\n",
    "\n",
    "# Print date col of holiday_dates\n",
    "print(holiday_dates.head())"
   ]
  },
  {
   "cell_type": "markdown",
   "id": "c58e7bea-7252-4a20-b560-833a6de7ae50",
   "metadata": {},
   "source": [
    "## Counting categorical variables\n",
    "\n",
    "Counting is a great way to get an overview of your data and to spot curiosities that you might not notice otherwise. In this exercise, you'll count the number of each type of store and the number of each department number using the DataFrames you created in the previous exercise:\n",
    "\n",
    "# Drop duplicate store/type combinations\n",
    "store_types = sales.drop_duplicates(subset=[\"store\", \"type\"])\n",
    "\n",
    "# Drop duplicate store/department combinations\n",
    "store_depts = sales.drop_duplicates(subset=[\"store\", \"department\"])\n",
    "\n",
    "The store_types and store_depts DataFrames you created in the last exercise are available, and pandas is imported as pd.\n",
    "Instructions\n",
    "100 XP\n",
    "\n",
    "# *******************************************************************************************************************\n",
    "#    Count the number of stores of each store type in store_types.\n",
    "    Count the proportion of stores of each store type in store_types.\n",
    "#    Count the number of different departments in store_depts, sorting the counts in descending order.\n",
    "    Count the proportion of different departments in store_depts, sorting the proportions in descending order.\n"
   ]
  },
  {
   "cell_type": "code",
   "execution_count": 10,
   "id": "6d937569-2bf7-4306-86c9-0397e733e7b1",
   "metadata": {},
   "outputs": [
    {
     "name": "stdout",
     "output_type": "stream",
     "text": [
      "A    11\n",
      "B     1\n",
      "Name: type, dtype: int64\n",
      "A    0.916667\n",
      "B    0.083333\n",
      "Name: type, dtype: float64\n",
      "1     12\n",
      "55    12\n",
      "72    12\n",
      "71    12\n",
      "67    12\n",
      "      ..\n",
      "37    10\n",
      "48     8\n",
      "50     6\n",
      "39     4\n",
      "43     2\n",
      "Name: department, Length: 80, dtype: int64\n",
      "1     0.012917\n",
      "55    0.012917\n",
      "72    0.012917\n",
      "71    0.012917\n",
      "67    0.012917\n",
      "        ...   \n",
      "37    0.010764\n",
      "48    0.008611\n",
      "50    0.006459\n",
      "39    0.004306\n",
      "43    0.002153\n",
      "Name: department, Length: 80, dtype: float64\n"
     ]
    }
   ],
   "source": [
    "import pandas as pd\n",
    "\n",
    "\n",
    "sales = pd.read_csv('sales_subset.csv', index_col=0)\n",
    "\n",
    "\n",
    "store_types = sales.drop_duplicates(subset=['store', 'type'])\n",
    "store_depts = sales.drop_duplicates(subset=['store', 'department'])\n",
    "\n",
    "\n",
    "store_counts = store_types['type'].value_counts()\n",
    "print(store_counts)\n",
    "\n",
    "store_props = store_types['type'].value_counts(normalize=True)\n",
    "print(store_props)\n",
    "\n",
    "dept_counts_sorted = store_depts['department'].value_counts(sort=True)\n",
    "print(dept_counts_sorted)\n",
    "\n",
    "dept_props_sorted = store_depts['department'].value_counts(sort=True, normalize=True)\n",
    "print(dept_props_sorted)"
   ]
  },
  {
   "cell_type": "markdown",
   "id": "c5773bc5-7433-4a09-bad3-b0f1dab886f7",
   "metadata": {},
   "source": [
    "## Grouped summary statistics\n",
    "\n",
    "\n",
    "\n",
    "# *******************************************************************************************************************\n",
    "**So far, you've been calculating summary statistics fro all rows of a dataset, but summary statistics can be useful to compare different groups.  While computing summary statistics of entire columns may be useful, you can gain many insights from summaries of individual groups.  \n",
    "\n",
    "# *******************************************************************************************************************\n",
    "**For example, does one color of dog weight more than another on average?  Are female dogs taller than males?  You can already answer these questions with what you've learned so far.  \n",
    "\n",
    "**We can subset the dogs into groups based on their color, and take the mean of each.  But thats a lot of work, and the duplicated code means you can easily introduce copy and paste bugs.  \n",
    "\n",
    "**Thats where the .groupby() method comes in.  We can group by the color variable, select the weight column and take the mean.  This will give us the mean weight for each dog color.  This was just one line of code compared to the five we had to write before to get the same results.  Just like with ungrouped summary statistics, we can use the .agg() method to get multiple statistics.  \n",
    "**You can also group by multiple columns and calculate summary statistics.  Here we group by color and breed, select the weight column and take the mean.  \n",
    "**You can also group by multiple columns and aggregate by multiple columns.  \n",
    "\n",
    "\n",
    "dogs[dogs['color']=='black']['weight_kg'].mean()\n",
    "dogs[dogs['color']=='brown']['weight_kg'].mean()\n",
    "dogs[dogs['color']=='Tan']['weight_kg'].mean()\n",
    ".........\n",
    "\n",
    "# *******************************************************************************************************************\n",
    "dogs.groupby('color')['weight_kg'].mean()\n",
    "\n",
    "# *******************************************************************************************************************\n",
    "dogs.groupby('color')['weight_kg'].agg([np.mean, np.median, pd.Series.quantile(0.7)])\n",
    "\n",
    "# *******************************************************************************************************************\n",
    "dogs.groupby(['color', 'breed'])['weight_kg'].mean()\n",
    "\n",
    "# *******************************************************************************************************************\n",
    "dogs.groupby(['color', 'breed'])[['weight_kg', 'height_cm']].mean()"
   ]
  },
  {
   "cell_type": "code",
   "execution_count": 40,
   "id": "8205e6f6-abfa-4922-ae26-c8edfa8ac4e1",
   "metadata": {},
   "outputs": [
    {
     "name": "stdout",
     "output_type": "stream",
     "text": [
      "      name      breed  color  height_cn  weight_km data_of_birth\n",
      "0    Bella   Labrador  Brown         56         24    2013-07-01\n",
      "1  Charlie     Poodle  Black         43         24    2016-09-16\n",
      "2     Lucy  Chow Chow  Brown         46         24    2014-08-25\n",
      "3   Cooper  Schnauzer   Gray         49         17    2011-12-11\n",
      "4      Max   Labrador  Black         59         29    2017-01-20\n"
     ]
    },
    {
     "data": {
      "text/html": [
       "<div>\n",
       "<style scoped>\n",
       "    .dataframe tbody tr th:only-of-type {\n",
       "        vertical-align: middle;\n",
       "    }\n",
       "\n",
       "    .dataframe tbody tr th {\n",
       "        vertical-align: top;\n",
       "    }\n",
       "\n",
       "    .dataframe thead th {\n",
       "        text-align: right;\n",
       "    }\n",
       "</style>\n",
       "<table border=\"1\" class=\"dataframe\">\n",
       "  <thead>\n",
       "    <tr style=\"text-align: right;\">\n",
       "      <th></th>\n",
       "      <th>mean</th>\n",
       "      <th>median</th>\n",
       "      <th>var</th>\n",
       "      <th>quantile75</th>\n",
       "    </tr>\n",
       "    <tr>\n",
       "      <th>color</th>\n",
       "      <th></th>\n",
       "      <th></th>\n",
       "      <th></th>\n",
       "      <th></th>\n",
       "    </tr>\n",
       "  </thead>\n",
       "  <tbody>\n",
       "    <tr>\n",
       "      <th>Black</th>\n",
       "      <td>26.5</td>\n",
       "      <td>26.5</td>\n",
       "      <td>12.5</td>\n",
       "      <td>27.75</td>\n",
       "    </tr>\n",
       "    <tr>\n",
       "      <th>Brown</th>\n",
       "      <td>24.0</td>\n",
       "      <td>24.0</td>\n",
       "      <td>0.0</td>\n",
       "      <td>24.00</td>\n",
       "    </tr>\n",
       "    <tr>\n",
       "      <th>Gray</th>\n",
       "      <td>17.0</td>\n",
       "      <td>17.0</td>\n",
       "      <td>NaN</td>\n",
       "      <td>17.00</td>\n",
       "    </tr>\n",
       "    <tr>\n",
       "      <th>Tan</th>\n",
       "      <td>2.0</td>\n",
       "      <td>2.0</td>\n",
       "      <td>NaN</td>\n",
       "      <td>2.00</td>\n",
       "    </tr>\n",
       "    <tr>\n",
       "      <th>White</th>\n",
       "      <td>74.0</td>\n",
       "      <td>74.0</td>\n",
       "      <td>NaN</td>\n",
       "      <td>74.00</td>\n",
       "    </tr>\n",
       "  </tbody>\n",
       "</table>\n",
       "</div>"
      ],
      "text/plain": [
       "       mean  median   var  quantile75\n",
       "color                                \n",
       "Black  26.5    26.5  12.5       27.75\n",
       "Brown  24.0    24.0   0.0       24.00\n",
       "Gray   17.0    17.0   NaN       17.00\n",
       "Tan     2.0     2.0   NaN        2.00\n",
       "White  74.0    74.0   NaN       74.00"
      ]
     },
     "execution_count": 40,
     "metadata": {},
     "output_type": "execute_result"
    }
   ],
   "source": [
    "import pandas as pd\n",
    "import numpy as np\n",
    "\n",
    "\n",
    "dogs = pd.read_csv('dogs2.csv')\n",
    "print(dogs.head())\n",
    "\n",
    "\n",
    "def quantile75(column):\n",
    "    return column.quantile(0.75)\n",
    "\n",
    "                                                                 ## pd.Series.quantile(0.75) approach failed\n",
    "dogs.groupby('color')['weight_km'].agg([np.mean, np.median, np.var, quantile75])\n",
    "#dogs.groupby('color')['weight_km'].agg([np.mean, np.median, np.var, np.quantile(self, 0.75)])   ### Its a function\n",
    "#####################################################################################################################\n",
    "# The purpoise of quantiles?  So we can imagine the destribution curve??\n",
    "\n",
    "\n",
    "#print(dir(pd.Series))   # quantile is included\n",
    "\n",
    "#print(help(pd.Series.quantile))\n",
    "\n",
    "#print(help(np.quantile))"
   ]
  },
  {
   "cell_type": "markdown",
   "id": "b24e6a96-0bde-45a8-a39a-9eb3e67999e1",
   "metadata": {},
   "source": [
    "## What percent of sales occurred at each store type?\n",
    "\n",
    "While .groupby() is useful, you can calculate grouped summary statistics without it.\n",
    "\n",
    "Walmart distinguishes three types of stores: \"supercenters,\" \"discount stores,\" and \"neighborhood markets,\" encoded in this dataset as type \"A,\" \"B,\" and \"C.\" In this exercise, you'll calculate the total sales made at each store type, without using .groupby(). You can then use these numbers to see what proportion of Walmart's total sales were made at each type.\n",
    "\n",
    "sales is available and pandas is imported as pd.\n",
    "Instructions\n",
    "100 XP\n",
    "\n",
    "    Calculate the total weekly_sales over the whole dataset.\n",
    "    Subset for type \"A\" stores, and calculate their total weekly sales.\n",
    "    Do the same for type \"B\" and type \"C\" stores.\n",
    "    Combine the A/B/C results into a list, and divide by sales_all to get the proportion of sales by type.\n"
   ]
  },
  {
   "cell_type": "code",
   "execution_count": 53,
   "id": "3d81865f-2ad1-45f2-ac71-bc401a703e3b",
   "metadata": {},
   "outputs": [
    {
     "name": "stdout",
     "output_type": "stream",
     "text": [
      "256894718.89999998\n",
      "<class 'list'>\n",
      "<class 'numpy.ndarray'>\n",
      "[0.9097747 0.0902253 0.       ]\n"
     ]
    }
   ],
   "source": [
    "import pandas as pd\n",
    "\n",
    "\n",
    "sales = pd.read_csv('sales_subset.csv')\n",
    "#print(sales.head())\n",
    "\n",
    "\n",
    "# Calc total weekly sales\n",
    "sales_all = sales['weekly_sales'].sum()\n",
    "print(sales_all)\n",
    "\n",
    "# Subset for type A stores, calc total weekly sales\n",
    "sales_A = sales[sales['type']=='A']['weekly_sales'].sum()\n",
    "\n",
    "# Subset for type B stores, calc total weekly sales\n",
    "sales_B = sales[sales['type']=='B']['weekly_sales'].sum()\n",
    "\n",
    "# Subset for type C stores, calc total weekly sales\n",
    "sales_C = sales[sales['type']=='C']['weekly_sales'].sum()\n",
    "\n",
    "# Get proportion for each type\n",
    "sales_propn_by_type = [sales_A, sales_B, sales_C]/sales_all\n",
    "#####################################################################################################################\n",
    "# I thought you put sales_A, sales_B sales_C into a list, it becomes a list object, broadcasting not working anymore\n",
    "\n",
    "question = [sales_A, sales_B, sales_C]\n",
    "print(type(question))  # <class 'list'>\n",
    "#####################################################################################################################\n",
    "print(type(sales_propn_by_type))    # So NumPy Array infected the list into working broadcasting?  Very Interesting\n",
    "\n",
    "\n",
    "print(sales_propn_by_type)"
   ]
  },
  {
   "cell_type": "markdown",
   "id": "0902b712-ff6e-4df8-9691-043596b38c51",
   "metadata": {},
   "source": [
    "## Calculations with .groupby()\n",
    "\n",
    "The .groupby() method makes life much easier. In this exercise, you'll perform the same calculations as last time, except you'll use the .groupby() method. You'll also perform calculations on data grouped by two variables to see if sales differ by store type depending on if it's a holiday week or not.\n",
    "\n",
    "sales is available and pandas is loaded as pd.\n",
    "Instructions 1/2\n",
    "50 XP\n",
    "\n",
    "    Question 1\n",
    "    Group sales by \"type\", take the sum of \"weekly_sales\", and store as sales_by_type.\n",
    "    Calculate the proportion of sales at each store type by dividing by the sum of sales_by_type. Assign to sales_propn_by_type.\n",
    "    \n",
    "    \n",
    "    \n",
    "    Question 2\n",
    "#    Group sales by \"type\" and \"is_holiday\", take the sum of weekly_sales, and store as sales_by_type_is_holiday\n"
   ]
  },
  {
   "cell_type": "code",
   "execution_count": 59,
   "id": "48534ca5-c702-43ac-b3d6-9562915d5f03",
   "metadata": {},
   "outputs": [
    {
     "name": "stdout",
     "output_type": "stream",
     "text": [
      "type\n",
      "A    0.909775\n",
      "B    0.090225\n",
      "Name: weekly_sales, dtype: float64\n",
      "type  is_holiday\n",
      "A     False         2.336927e+08\n",
      "      True          2.360181e+04\n",
      "B     False         2.317678e+07\n",
      "      True          1.621410e+03\n",
      "Name: weekly_sales, dtype: float64\n"
     ]
    }
   ],
   "source": [
    "import pandas as pd\n",
    "\n",
    "\n",
    "sales = pd.read_csv('sales_subset.csv')\n",
    "#print(sales.head())\n",
    "\n",
    "# Group by type; calc total weekly sales\n",
    "sales_by_type = sales.groupby('type')['weekly_sales'].sum()\n",
    "\n",
    "\n",
    "# Get proportion for each type\n",
    "sales_propn_by_type = sales_by_type/sum(sales_by_type)\n",
    "print(sales_propn_by_type)\n",
    "\n",
    "\n",
    "\n",
    "#####################################################################################################################\n",
    "#####################################################################################################################\n",
    "sales_by_type_is_holiday = sales.groupby(['type', 'is_holiday'])['weekly_sales'].sum()\n",
    "print(sales_by_type_is_holiday)\n",
    "\n",
    "\n",
    "# Think why we want this?  wha's the purpose of it?  \n",
    "#####################################################################################################################\n",
    "# So based on the prospective of Walmart, 1) weekly_sales means a lot for each store, 2) is_holiday had the\n",
    "# huge influence on weekly_sales (like unemployment_rate and fuel_price, those influence people's mind on shoping)\n",
    "# And we also want to know the performance of each type, 'supercenters', 'discount stores', 'neighborhood markets',"
   ]
  },
  {
   "cell_type": "markdown",
   "id": "7a069ead-21e3-418d-b4cd-e828ec670852",
   "metadata": {},
   "source": [
    "## Multiple grouped summaries\n",
    "\n",
    "Earlier in this chapter, you saw that the .agg() method is useful to compute multiple statistics on multiple variables. It also works with grouped data. NumPy, which is imported as np, has many different summary statistics functions, including: np.min, np.max, np.mean, and np.median.\n",
    "\n",
    "sales is available and pandas is imported as pd.\n",
    "Instructions\n",
    "100 XP\n",
    "\n",
    "    Import numpy with the alias np.\n",
    "    Get the min, max, mean, and median of weekly_sales for each store type using .groupby() and .agg(). Store this as sales_stats. Make sure to use numpy functions!\n",
    "#    Get the min, max, mean, and median of unemployment and fuel_price_usd_per_l for each store type. Store this as unemp_fuel_stats.\n"
   ]
  },
  {
   "cell_type": "code",
   "execution_count": 66,
   "id": "d3485706-d412-4336-bd6a-1f0dbb4f96bf",
   "metadata": {},
   "outputs": [
    {
     "name": "stdout",
     "output_type": "stream",
     "text": [
      "        amin       amax          mean    median\n",
      "type                                           \n",
      "A    -1098.0  293966.05  23674.667242  11943.92\n",
      "B     -798.0  232558.51  25696.678370  13336.08\n",
      "     unemployment                         fuel_price_usd_per_l            \\\n",
      "             amin   amax      mean median                 amin      amax   \n",
      "type                                                                       \n",
      "A           3.879  8.992  7.972611  8.067             0.664129  1.107410   \n",
      "B           7.170  9.765  9.279323  9.199             0.760023  1.107674   \n",
      "\n",
      "                          \n",
      "          mean    median  \n",
      "type                      \n",
      "A     0.744619  0.735455  \n",
      "B     0.805858  0.803348  \n"
     ]
    }
   ],
   "source": [
    "import numpy as np\n",
    "import pandas as pd\n",
    "\n",
    "\n",
    "sales = pd.read_csv('sales_subset.csv')\n",
    "#print(sales.head())\n",
    "\n",
    "\n",
    "sales_stats = sales.groupby('type')['weekly_sales'].agg([np.min, np.max, np.mean, np.median])\n",
    "print(sales_stats)\n",
    "\n",
    "\n",
    "#####################################################################################################################\n",
    "unemp_fuel_stats=sales.groupby('type')[['unemployment','fuel_price_usd_per_l']].agg([np.min,np.max,np.mean,np.median])\n",
    "print(unemp_fuel_stats)"
   ]
  },
  {
   "cell_type": "markdown",
   "id": "89be9c47-425a-4213-bcfa-c20283c1faee",
   "metadata": {},
   "source": [
    "## Pivot tables\n",
    "\n",
    "\n",
    "\n",
    "# *******************************************************************************************************************\n",
    "**Pivot tables are another way of calculating grouped summary statistics.  Lets see how to create pivot tables in Pandas.  In the last lesson, we grouped the dogs by color and calculated their mean weights.  We can do the same thing using the pivot table method.  \n",
    "\n",
    "\n",
    "\n",
    "dogs.groupby('color')['weight_kg'].mean()\n",
    "\n",
    "dogs\n",
    "\n"
   ]
  },
  {
   "cell_type": "code",
   "execution_count": null,
   "id": "ee5e7cf0-a97a-48dc-8a04-faecb6f9e281",
   "metadata": {},
   "outputs": [],
   "source": []
  },
  {
   "cell_type": "code",
   "execution_count": null,
   "id": "fc7bab29-e0ec-4dba-8ff8-0650f28dab03",
   "metadata": {},
   "outputs": [],
   "source": []
  },
  {
   "cell_type": "code",
   "execution_count": null,
   "id": "7d187a2a-ba36-4cc0-9593-f8922fc2e901",
   "metadata": {},
   "outputs": [],
   "source": []
  },
  {
   "cell_type": "code",
   "execution_count": null,
   "id": "2e615d5a-5c88-4bcc-8ea0-2fe6abc974f1",
   "metadata": {},
   "outputs": [],
   "source": []
  },
  {
   "cell_type": "code",
   "execution_count": null,
   "id": "b10c0a98-cc1f-46d2-af8c-82410ec543ea",
   "metadata": {},
   "outputs": [],
   "source": []
  },
  {
   "cell_type": "code",
   "execution_count": null,
   "id": "1078a045-9393-4a69-a3f7-0b04480f7564",
   "metadata": {},
   "outputs": [],
   "source": []
  },
  {
   "cell_type": "code",
   "execution_count": null,
   "id": "c15b8637-9994-4e0b-bfce-ed5b0c5e36e1",
   "metadata": {},
   "outputs": [],
   "source": []
  },
  {
   "cell_type": "code",
   "execution_count": null,
   "id": "c9b63333-6210-4407-b229-00dc433f497a",
   "metadata": {},
   "outputs": [],
   "source": []
  },
  {
   "cell_type": "code",
   "execution_count": null,
   "id": "ae438d53-2113-483d-bbdc-931b6b08e07e",
   "metadata": {},
   "outputs": [],
   "source": []
  },
  {
   "cell_type": "code",
   "execution_count": null,
   "id": "675f0f5e-e681-4688-a792-7b98db6cc070",
   "metadata": {},
   "outputs": [],
   "source": []
  },
  {
   "cell_type": "code",
   "execution_count": null,
   "id": "9102b1b3-e57b-4989-9d62-05b990646339",
   "metadata": {},
   "outputs": [],
   "source": []
  },
  {
   "cell_type": "code",
   "execution_count": null,
   "id": "b77c3d01-a20e-414e-b1fe-fe4a69b5a35f",
   "metadata": {},
   "outputs": [],
   "source": []
  },
  {
   "cell_type": "code",
   "execution_count": null,
   "id": "66dcd58e-03d2-4f3f-9193-ebe7abfec4f1",
   "metadata": {},
   "outputs": [],
   "source": []
  },
  {
   "cell_type": "code",
   "execution_count": null,
   "id": "bc19ce0e-271b-43ac-8521-f49979a21baf",
   "metadata": {},
   "outputs": [],
   "source": []
  },
  {
   "cell_type": "code",
   "execution_count": null,
   "id": "4de2c42b-16c2-4e3d-915d-24aa7386b724",
   "metadata": {},
   "outputs": [],
   "source": []
  },
  {
   "cell_type": "code",
   "execution_count": null,
   "id": "57d554b9-0153-4e7d-8598-24085fb83687",
   "metadata": {},
   "outputs": [],
   "source": []
  },
  {
   "cell_type": "code",
   "execution_count": null,
   "id": "fff3cbcf-6085-44f1-9b9e-11587013b2e0",
   "metadata": {},
   "outputs": [],
   "source": []
  },
  {
   "cell_type": "code",
   "execution_count": null,
   "id": "b2571bc9-8dc8-4ff8-98c2-e119d5c77b15",
   "metadata": {},
   "outputs": [],
   "source": []
  },
  {
   "cell_type": "code",
   "execution_count": null,
   "id": "91fbfcda-3ef8-4021-9db6-168aa7dcc34e",
   "metadata": {},
   "outputs": [],
   "source": []
  },
  {
   "cell_type": "code",
   "execution_count": null,
   "id": "ece63574-3756-4248-bd6c-d53f792e767c",
   "metadata": {},
   "outputs": [],
   "source": []
  },
  {
   "cell_type": "code",
   "execution_count": null,
   "id": "fcf04a2c-1d18-49b6-b5d1-a44fcc6b617c",
   "metadata": {},
   "outputs": [],
   "source": []
  },
  {
   "cell_type": "code",
   "execution_count": null,
   "id": "a954f582-2027-4bd9-928e-2790f641f185",
   "metadata": {},
   "outputs": [],
   "source": []
  },
  {
   "cell_type": "code",
   "execution_count": null,
   "id": "e7b9a146-2ad4-46fc-8173-c747f8ce09e1",
   "metadata": {},
   "outputs": [],
   "source": []
  },
  {
   "cell_type": "code",
   "execution_count": null,
   "id": "b9a1dcbb-486d-40ec-9e26-9a3382421ea6",
   "metadata": {},
   "outputs": [],
   "source": []
  },
  {
   "cell_type": "code",
   "execution_count": null,
   "id": "d4dc381f-63ca-477f-bb38-065f156be034",
   "metadata": {},
   "outputs": [],
   "source": []
  },
  {
   "cell_type": "code",
   "execution_count": null,
   "id": "6ad396d9-6eb9-478c-bab0-6e3b7846867f",
   "metadata": {},
   "outputs": [],
   "source": []
  },
  {
   "cell_type": "code",
   "execution_count": null,
   "id": "7698c6d6-f538-4db1-aa2b-c94e19ae31c1",
   "metadata": {},
   "outputs": [],
   "source": []
  },
  {
   "cell_type": "code",
   "execution_count": null,
   "id": "367fd11d-4f7a-42f7-af29-56d870cf91bc",
   "metadata": {},
   "outputs": [],
   "source": []
  },
  {
   "cell_type": "code",
   "execution_count": null,
   "id": "51865443-8373-434c-906f-fb7d9bc1c3fe",
   "metadata": {},
   "outputs": [],
   "source": []
  },
  {
   "cell_type": "code",
   "execution_count": null,
   "id": "53aa47b3-b3e9-4556-b4eb-5fab173972bc",
   "metadata": {},
   "outputs": [],
   "source": []
  },
  {
   "cell_type": "code",
   "execution_count": null,
   "id": "952907a3-adcb-414c-aaf6-4808a99c9c59",
   "metadata": {},
   "outputs": [],
   "source": []
  },
  {
   "cell_type": "code",
   "execution_count": null,
   "id": "37118890-7ff3-4a96-a9d3-fab3d175051c",
   "metadata": {},
   "outputs": [],
   "source": []
  },
  {
   "cell_type": "code",
   "execution_count": null,
   "id": "bd493228-7501-4d7c-8b0d-7cf4c003ce65",
   "metadata": {},
   "outputs": [],
   "source": []
  },
  {
   "cell_type": "code",
   "execution_count": null,
   "id": "c6a2bed8-60e6-4476-b5cf-cb6412cfc910",
   "metadata": {},
   "outputs": [],
   "source": []
  },
  {
   "cell_type": "code",
   "execution_count": null,
   "id": "ecdc544a-fe6e-402d-848a-84e2fd555265",
   "metadata": {},
   "outputs": [],
   "source": []
  },
  {
   "cell_type": "code",
   "execution_count": null,
   "id": "fee1a314-6d33-48f6-9e88-1e4be243f51b",
   "metadata": {},
   "outputs": [],
   "source": []
  },
  {
   "cell_type": "code",
   "execution_count": null,
   "id": "3d149970-eaf2-474c-957e-bd5847935480",
   "metadata": {},
   "outputs": [],
   "source": []
  },
  {
   "cell_type": "code",
   "execution_count": null,
   "id": "9f724499-8ab7-4bcd-a09a-cfcf5086fd91",
   "metadata": {},
   "outputs": [],
   "source": []
  },
  {
   "cell_type": "code",
   "execution_count": null,
   "id": "385500cd-847f-4f98-b9d2-4f5820cf2824",
   "metadata": {},
   "outputs": [],
   "source": []
  },
  {
   "cell_type": "code",
   "execution_count": null,
   "id": "39dc9c6b-cdaf-4594-b7e9-ae2182afe3ce",
   "metadata": {},
   "outputs": [],
   "source": []
  },
  {
   "cell_type": "code",
   "execution_count": null,
   "id": "72b00b33-a003-44f8-88ab-1a505c414e3b",
   "metadata": {},
   "outputs": [],
   "source": []
  },
  {
   "cell_type": "code",
   "execution_count": null,
   "id": "d809b241-fd62-438a-b45b-5c31d738eab5",
   "metadata": {},
   "outputs": [],
   "source": []
  },
  {
   "cell_type": "code",
   "execution_count": null,
   "id": "c29b4a3f-58e6-4921-854a-973ba7a232ed",
   "metadata": {},
   "outputs": [],
   "source": []
  },
  {
   "cell_type": "code",
   "execution_count": null,
   "id": "bee06efd-9234-4806-8fb5-506e7834486c",
   "metadata": {},
   "outputs": [],
   "source": []
  },
  {
   "cell_type": "code",
   "execution_count": null,
   "id": "1b1ff466-f501-47fb-9b37-8a658e9871e0",
   "metadata": {},
   "outputs": [],
   "source": []
  },
  {
   "cell_type": "code",
   "execution_count": null,
   "id": "7f93dcf4-4d9a-4140-a5f6-4a6d83afc72d",
   "metadata": {},
   "outputs": [],
   "source": []
  },
  {
   "cell_type": "code",
   "execution_count": null,
   "id": "0d30181c-e2ad-4aef-bb96-0a6b26ebf43a",
   "metadata": {},
   "outputs": [],
   "source": []
  },
  {
   "cell_type": "code",
   "execution_count": null,
   "id": "72dcfeff-81a4-43db-860e-b496a12b616d",
   "metadata": {},
   "outputs": [],
   "source": []
  },
  {
   "cell_type": "code",
   "execution_count": null,
   "id": "acaf7e51-80aa-4334-bc9e-a7a1f552b7c8",
   "metadata": {},
   "outputs": [],
   "source": []
  },
  {
   "cell_type": "code",
   "execution_count": null,
   "id": "e8cd41d0-b870-4410-aaf1-f4ddd588dff4",
   "metadata": {},
   "outputs": [],
   "source": []
  },
  {
   "cell_type": "code",
   "execution_count": null,
   "id": "d3e75132-3bfb-4573-be3c-2e3714ea9cbf",
   "metadata": {},
   "outputs": [],
   "source": []
  },
  {
   "cell_type": "code",
   "execution_count": null,
   "id": "4cf6394b-d61d-414c-b7db-65dddf38b4d2",
   "metadata": {},
   "outputs": [],
   "source": []
  },
  {
   "cell_type": "code",
   "execution_count": null,
   "id": "99ae6e97-52e4-4fce-b211-bce4ca070612",
   "metadata": {},
   "outputs": [],
   "source": []
  },
  {
   "cell_type": "code",
   "execution_count": null,
   "id": "42db4dc7-a138-4882-b85c-eb7b043c5bff",
   "metadata": {},
   "outputs": [],
   "source": []
  },
  {
   "cell_type": "code",
   "execution_count": null,
   "id": "1a6c460b-3d18-4fda-84b3-b0641fd80318",
   "metadata": {},
   "outputs": [],
   "source": []
  },
  {
   "cell_type": "code",
   "execution_count": null,
   "id": "bbb56a54-227d-43c8-b451-5e26e2d984bd",
   "metadata": {},
   "outputs": [],
   "source": []
  },
  {
   "cell_type": "code",
   "execution_count": null,
   "id": "5d580a41-285a-4c99-aa6b-c71a7b47d8f5",
   "metadata": {},
   "outputs": [],
   "source": []
  },
  {
   "cell_type": "code",
   "execution_count": null,
   "id": "9d08d512-b296-4c67-b438-d0ed87e5bdf6",
   "metadata": {},
   "outputs": [],
   "source": []
  },
  {
   "cell_type": "code",
   "execution_count": null,
   "id": "83f46ff2-92d5-4d82-932f-f7b9be795ee0",
   "metadata": {},
   "outputs": [],
   "source": []
  },
  {
   "cell_type": "code",
   "execution_count": null,
   "id": "786f20d7-e208-4e94-abb4-18e9c91efc0b",
   "metadata": {},
   "outputs": [],
   "source": []
  },
  {
   "cell_type": "code",
   "execution_count": null,
   "id": "e5915087-b737-4d00-8cdb-e6c3fec25359",
   "metadata": {},
   "outputs": [],
   "source": []
  },
  {
   "cell_type": "code",
   "execution_count": null,
   "id": "3ead8128-9be4-44c5-a208-e56300a53926",
   "metadata": {},
   "outputs": [],
   "source": []
  },
  {
   "cell_type": "code",
   "execution_count": null,
   "id": "7e989697-c1c9-4de1-a6f6-9284dc991eb6",
   "metadata": {},
   "outputs": [],
   "source": []
  },
  {
   "cell_type": "code",
   "execution_count": null,
   "id": "da082dfc-cc93-4e4c-8afe-a6ba56d1e562",
   "metadata": {},
   "outputs": [],
   "source": []
  },
  {
   "cell_type": "code",
   "execution_count": null,
   "id": "61743d44-9d0f-44c7-bc6e-b41e66e6f336",
   "metadata": {},
   "outputs": [],
   "source": []
  },
  {
   "cell_type": "code",
   "execution_count": null,
   "id": "7037f5ec-a3e9-431c-897f-dc5c762aadf5",
   "metadata": {},
   "outputs": [],
   "source": []
  },
  {
   "cell_type": "code",
   "execution_count": null,
   "id": "4a7306c1-36c8-4eb7-9bf9-649d6908d1b0",
   "metadata": {},
   "outputs": [],
   "source": []
  },
  {
   "cell_type": "code",
   "execution_count": null,
   "id": "372e5440-9e71-488d-b7bb-4440c8bf27a2",
   "metadata": {},
   "outputs": [],
   "source": []
  },
  {
   "cell_type": "code",
   "execution_count": null,
   "id": "fdf3f41f-3a77-4f3c-b586-cc8421699662",
   "metadata": {},
   "outputs": [],
   "source": []
  },
  {
   "cell_type": "code",
   "execution_count": null,
   "id": "9300203d-f5ff-415c-a52c-cf0c0a2d50af",
   "metadata": {},
   "outputs": [],
   "source": []
  },
  {
   "cell_type": "code",
   "execution_count": null,
   "id": "755fef93-045f-478f-8718-3238984c06a2",
   "metadata": {},
   "outputs": [],
   "source": []
  },
  {
   "cell_type": "code",
   "execution_count": null,
   "id": "11e422b2-6060-4e96-9edb-17178e10c98b",
   "metadata": {},
   "outputs": [],
   "source": []
  },
  {
   "cell_type": "code",
   "execution_count": null,
   "id": "1082cb7c-5327-44e6-98ef-357f40d883b3",
   "metadata": {},
   "outputs": [],
   "source": []
  },
  {
   "cell_type": "code",
   "execution_count": null,
   "id": "cada5aaa-b516-486a-867b-165b18f60a0c",
   "metadata": {},
   "outputs": [],
   "source": []
  },
  {
   "cell_type": "code",
   "execution_count": null,
   "id": "b364751d-9eb0-43a2-a882-a0542f21b032",
   "metadata": {},
   "outputs": [],
   "source": []
  },
  {
   "cell_type": "code",
   "execution_count": null,
   "id": "dc3eb78e-49c9-468d-9521-a9a93bf1ce69",
   "metadata": {},
   "outputs": [],
   "source": []
  },
  {
   "cell_type": "code",
   "execution_count": null,
   "id": "b031f0b1-661d-411f-8529-bca3223c10c6",
   "metadata": {},
   "outputs": [],
   "source": []
  },
  {
   "cell_type": "code",
   "execution_count": null,
   "id": "da1fa3d1-057e-46c1-8223-75da618b813f",
   "metadata": {},
   "outputs": [],
   "source": []
  },
  {
   "cell_type": "code",
   "execution_count": null,
   "id": "776806f2-c0c8-42fd-9bdc-fa7649c91c1a",
   "metadata": {},
   "outputs": [],
   "source": []
  },
  {
   "cell_type": "code",
   "execution_count": null,
   "id": "e6bd0c1f-ec1a-45be-a082-1e3926d027f5",
   "metadata": {},
   "outputs": [],
   "source": []
  },
  {
   "cell_type": "code",
   "execution_count": null,
   "id": "ba46ac6e-06d2-4ac4-b1be-b5f2858c07e8",
   "metadata": {},
   "outputs": [],
   "source": []
  },
  {
   "cell_type": "code",
   "execution_count": null,
   "id": "bd98395f-cde8-46bc-b67d-2de2dd287c25",
   "metadata": {},
   "outputs": [],
   "source": []
  },
  {
   "cell_type": "code",
   "execution_count": null,
   "id": "9a46ffc9-0ea1-402d-9066-a56fa0175c5c",
   "metadata": {},
   "outputs": [],
   "source": []
  },
  {
   "cell_type": "code",
   "execution_count": null,
   "id": "578d3828-e29f-4b59-beed-f1f290dc62fe",
   "metadata": {},
   "outputs": [],
   "source": []
  },
  {
   "cell_type": "code",
   "execution_count": null,
   "id": "c36f1bd4-b408-474a-bf64-e5feb6d37be2",
   "metadata": {},
   "outputs": [],
   "source": []
  },
  {
   "cell_type": "code",
   "execution_count": null,
   "id": "6ddd94a3-2a0d-4fdc-99ae-94bfdf0255e6",
   "metadata": {},
   "outputs": [],
   "source": []
  },
  {
   "cell_type": "code",
   "execution_count": null,
   "id": "80044a1b-31c6-4695-a38a-2183058746e1",
   "metadata": {},
   "outputs": [],
   "source": []
  },
  {
   "cell_type": "code",
   "execution_count": null,
   "id": "de3a6196-ad1f-4fdf-b5cd-2259c4ab6023",
   "metadata": {},
   "outputs": [],
   "source": []
  },
  {
   "cell_type": "code",
   "execution_count": null,
   "id": "ea0869e2-d768-43be-913e-b11424019491",
   "metadata": {},
   "outputs": [],
   "source": []
  },
  {
   "cell_type": "code",
   "execution_count": null,
   "id": "84acbd1c-0f81-4115-af5f-d71ede164314",
   "metadata": {},
   "outputs": [],
   "source": []
  },
  {
   "cell_type": "code",
   "execution_count": null,
   "id": "23669ddc-fafd-40e8-854b-83d873281d15",
   "metadata": {},
   "outputs": [],
   "source": []
  },
  {
   "cell_type": "code",
   "execution_count": null,
   "id": "90045686-6706-4965-92df-4241b40f9d4f",
   "metadata": {},
   "outputs": [],
   "source": []
  },
  {
   "cell_type": "code",
   "execution_count": null,
   "id": "5065639d-ff33-4466-a1f7-ee53603c8bd5",
   "metadata": {},
   "outputs": [],
   "source": []
  },
  {
   "cell_type": "code",
   "execution_count": null,
   "id": "18440cac-2a6b-42a2-888e-21122e8f7950",
   "metadata": {},
   "outputs": [],
   "source": []
  },
  {
   "cell_type": "code",
   "execution_count": null,
   "id": "6c1f68ac-968e-4e07-8334-f29a9597f739",
   "metadata": {},
   "outputs": [],
   "source": []
  },
  {
   "cell_type": "code",
   "execution_count": null,
   "id": "4679bd78-d0ca-46f7-92fd-797cb8905227",
   "metadata": {},
   "outputs": [],
   "source": []
  },
  {
   "cell_type": "code",
   "execution_count": null,
   "id": "d518ada9-c2f2-4850-b0dc-dde696e81dfe",
   "metadata": {},
   "outputs": [],
   "source": []
  },
  {
   "cell_type": "code",
   "execution_count": null,
   "id": "ca2aa6ca-488f-4144-8c46-746ef4212e5e",
   "metadata": {},
   "outputs": [],
   "source": []
  },
  {
   "cell_type": "code",
   "execution_count": null,
   "id": "8b817e68-f9cf-4d87-b0b4-60d5a02b9afd",
   "metadata": {},
   "outputs": [],
   "source": []
  },
  {
   "cell_type": "code",
   "execution_count": null,
   "id": "54a3d5ba-bbe0-4c65-8ef0-76cad4c2d11e",
   "metadata": {},
   "outputs": [],
   "source": []
  },
  {
   "cell_type": "code",
   "execution_count": null,
   "id": "2860e3c9-1cfa-43a5-a002-2a4785f70605",
   "metadata": {},
   "outputs": [],
   "source": []
  },
  {
   "cell_type": "code",
   "execution_count": null,
   "id": "9ea5eb5b-f1c2-4a0a-a78e-92de897422d1",
   "metadata": {},
   "outputs": [],
   "source": []
  },
  {
   "cell_type": "code",
   "execution_count": null,
   "id": "0310b3c6-3b5e-4014-94c7-934dae8aa450",
   "metadata": {},
   "outputs": [],
   "source": []
  },
  {
   "cell_type": "code",
   "execution_count": null,
   "id": "ae7896f7-1424-468e-984d-9a0ffa0fe14c",
   "metadata": {},
   "outputs": [],
   "source": []
  },
  {
   "cell_type": "code",
   "execution_count": null,
   "id": "f1614c1b-df65-4744-820e-c7c37e62844a",
   "metadata": {},
   "outputs": [],
   "source": []
  },
  {
   "cell_type": "code",
   "execution_count": null,
   "id": "251ca98d-1ee0-4d77-b81b-5222b284a4ea",
   "metadata": {},
   "outputs": [],
   "source": []
  },
  {
   "cell_type": "code",
   "execution_count": null,
   "id": "e46e4fd6-1cd3-46b5-bb90-248c53748a7f",
   "metadata": {},
   "outputs": [],
   "source": []
  },
  {
   "cell_type": "code",
   "execution_count": null,
   "id": "0b17beed-9018-402a-98ab-807d3654330f",
   "metadata": {},
   "outputs": [],
   "source": []
  },
  {
   "cell_type": "code",
   "execution_count": null,
   "id": "5ef77ee9-2b81-4823-8efa-34a3b33597cb",
   "metadata": {},
   "outputs": [],
   "source": []
  },
  {
   "cell_type": "code",
   "execution_count": null,
   "id": "9eda113d-1c67-464a-a7d8-650d377a8d5b",
   "metadata": {},
   "outputs": [],
   "source": []
  },
  {
   "cell_type": "code",
   "execution_count": null,
   "id": "5b674a0c-01c4-4f56-938c-73ee57e9cbba",
   "metadata": {},
   "outputs": [],
   "source": []
  },
  {
   "cell_type": "code",
   "execution_count": null,
   "id": "ee91a848-5f44-45d0-b7b7-3eedaa8853fe",
   "metadata": {},
   "outputs": [],
   "source": []
  },
  {
   "cell_type": "code",
   "execution_count": null,
   "id": "cce2217c-1b1e-42e5-b9f2-50a2aff3a891",
   "metadata": {},
   "outputs": [],
   "source": []
  },
  {
   "cell_type": "code",
   "execution_count": null,
   "id": "95b3b44c-4b99-44a8-b8ea-0c59492252e9",
   "metadata": {},
   "outputs": [],
   "source": []
  },
  {
   "cell_type": "code",
   "execution_count": null,
   "id": "949d3969-19d2-4964-b5a4-7f5e7a44843f",
   "metadata": {},
   "outputs": [],
   "source": []
  },
  {
   "cell_type": "code",
   "execution_count": null,
   "id": "1173e10c-db9d-422e-ab64-f3a2bc889769",
   "metadata": {},
   "outputs": [],
   "source": []
  },
  {
   "cell_type": "code",
   "execution_count": null,
   "id": "95e36712-feab-46d8-800f-2dd455eab8cf",
   "metadata": {},
   "outputs": [],
   "source": []
  },
  {
   "cell_type": "code",
   "execution_count": null,
   "id": "39f98ed5-7f9e-4286-932b-b88f94c5fbe6",
   "metadata": {},
   "outputs": [],
   "source": []
  },
  {
   "cell_type": "code",
   "execution_count": null,
   "id": "b499c977-2ead-4ff9-bc13-dd47e21817cc",
   "metadata": {},
   "outputs": [],
   "source": []
  },
  {
   "cell_type": "code",
   "execution_count": null,
   "id": "f20cd41e-a18b-4cb8-8bb3-e92bb4427b99",
   "metadata": {},
   "outputs": [],
   "source": []
  },
  {
   "cell_type": "code",
   "execution_count": null,
   "id": "f2ca1d78-b814-480b-aff1-c7750dc1802e",
   "metadata": {},
   "outputs": [],
   "source": []
  },
  {
   "cell_type": "code",
   "execution_count": null,
   "id": "c409f6a1-5182-4396-802e-ec42f17dbf61",
   "metadata": {},
   "outputs": [],
   "source": []
  },
  {
   "cell_type": "code",
   "execution_count": null,
   "id": "d0d0f36d-d2b3-4223-a1ba-5ab75ef5f02b",
   "metadata": {},
   "outputs": [],
   "source": []
  },
  {
   "cell_type": "code",
   "execution_count": null,
   "id": "5de1ce41-00c9-4f51-a235-1888166d8acf",
   "metadata": {},
   "outputs": [],
   "source": []
  },
  {
   "cell_type": "code",
   "execution_count": null,
   "id": "707210a0-abee-4696-9852-cc86e0809ff9",
   "metadata": {},
   "outputs": [],
   "source": []
  },
  {
   "cell_type": "code",
   "execution_count": null,
   "id": "aabbfbf8-8a4d-4afb-a6e0-fa01806e4524",
   "metadata": {},
   "outputs": [],
   "source": []
  },
  {
   "cell_type": "code",
   "execution_count": null,
   "id": "53197a3a-71c0-4aa2-a2d2-274ae8d84a8d",
   "metadata": {},
   "outputs": [],
   "source": []
  },
  {
   "cell_type": "code",
   "execution_count": null,
   "id": "d3bfa704-60e8-43b2-ac9f-bd611e0dd8fe",
   "metadata": {},
   "outputs": [],
   "source": []
  },
  {
   "cell_type": "code",
   "execution_count": null,
   "id": "24221ecf-1e45-4f83-b054-241fb64047da",
   "metadata": {},
   "outputs": [],
   "source": []
  },
  {
   "cell_type": "code",
   "execution_count": null,
   "id": "d184aebe-deec-4cd3-8c4a-c260de3bee8c",
   "metadata": {},
   "outputs": [],
   "source": []
  },
  {
   "cell_type": "code",
   "execution_count": null,
   "id": "ba4b1c48-4f4e-4b15-9c61-3d5a16ef5081",
   "metadata": {},
   "outputs": [],
   "source": []
  },
  {
   "cell_type": "code",
   "execution_count": null,
   "id": "e401cb02-2cb5-4e83-8c1e-e24df39c8ab7",
   "metadata": {},
   "outputs": [],
   "source": []
  },
  {
   "cell_type": "code",
   "execution_count": null,
   "id": "418f2f3f-b0b2-4981-bafc-fb314efb7626",
   "metadata": {},
   "outputs": [],
   "source": []
  },
  {
   "cell_type": "code",
   "execution_count": null,
   "id": "fc7cf02b-dd31-4680-a6e2-e5002880a800",
   "metadata": {},
   "outputs": [],
   "source": []
  },
  {
   "cell_type": "code",
   "execution_count": null,
   "id": "92244aa0-015e-416f-b02e-b90311bf4aac",
   "metadata": {},
   "outputs": [],
   "source": []
  },
  {
   "cell_type": "code",
   "execution_count": null,
   "id": "a538167d-9848-4aa2-a7e8-d114aa55fbb6",
   "metadata": {},
   "outputs": [],
   "source": []
  },
  {
   "cell_type": "code",
   "execution_count": null,
   "id": "45eb5d74-c4bc-44d6-915c-52e25645b50d",
   "metadata": {},
   "outputs": [],
   "source": []
  },
  {
   "cell_type": "code",
   "execution_count": null,
   "id": "5d3c0716-6ae8-48fa-a3d6-cd902587a714",
   "metadata": {},
   "outputs": [],
   "source": []
  },
  {
   "cell_type": "code",
   "execution_count": null,
   "id": "7413e6c5-c32c-4122-9ef3-99772d9235d5",
   "metadata": {},
   "outputs": [],
   "source": []
  },
  {
   "cell_type": "code",
   "execution_count": null,
   "id": "1db8c037-f0a9-4225-9b9b-8342ab4fee98",
   "metadata": {},
   "outputs": [],
   "source": []
  },
  {
   "cell_type": "code",
   "execution_count": null,
   "id": "7401d0b6-712f-41c3-be61-06faf42118f9",
   "metadata": {},
   "outputs": [],
   "source": []
  },
  {
   "cell_type": "code",
   "execution_count": null,
   "id": "2d2a5b57-3ead-4661-b42c-375d5d715f02",
   "metadata": {},
   "outputs": [],
   "source": []
  },
  {
   "cell_type": "code",
   "execution_count": null,
   "id": "48939e43-99e8-4f63-be35-86bb8ff59f61",
   "metadata": {},
   "outputs": [],
   "source": []
  },
  {
   "cell_type": "code",
   "execution_count": null,
   "id": "3d5da7eb-8297-4b2f-95f9-c91b79857026",
   "metadata": {},
   "outputs": [],
   "source": []
  },
  {
   "cell_type": "code",
   "execution_count": null,
   "id": "6396c920-4f32-4c35-bf59-907db762fce8",
   "metadata": {},
   "outputs": [],
   "source": []
  },
  {
   "cell_type": "code",
   "execution_count": null,
   "id": "fe562ee0-42ed-4dc4-bab3-616a47426a27",
   "metadata": {},
   "outputs": [],
   "source": []
  },
  {
   "cell_type": "code",
   "execution_count": null,
   "id": "6c0ca828-b426-47f9-b250-1763ecffde94",
   "metadata": {},
   "outputs": [],
   "source": []
  },
  {
   "cell_type": "code",
   "execution_count": null,
   "id": "27a62da1-5554-4045-9659-406b913b75d2",
   "metadata": {},
   "outputs": [],
   "source": []
  },
  {
   "cell_type": "code",
   "execution_count": null,
   "id": "336bdaf8-ee2b-42cd-aca5-d0616aaf08e8",
   "metadata": {},
   "outputs": [],
   "source": []
  },
  {
   "cell_type": "code",
   "execution_count": null,
   "id": "656be301-9525-4dc6-8fa5-b5a95ef20cc8",
   "metadata": {},
   "outputs": [],
   "source": []
  },
  {
   "cell_type": "code",
   "execution_count": null,
   "id": "073f31ee-a6f5-4abf-bb50-c4b46dbfc539",
   "metadata": {},
   "outputs": [],
   "source": []
  },
  {
   "cell_type": "code",
   "execution_count": null,
   "id": "3bac9723-0c67-4a19-9f30-7a12e08a047b",
   "metadata": {},
   "outputs": [],
   "source": []
  },
  {
   "cell_type": "code",
   "execution_count": null,
   "id": "fed6d1af-612a-4d1a-bb50-efa9833eab4d",
   "metadata": {},
   "outputs": [],
   "source": []
  },
  {
   "cell_type": "code",
   "execution_count": null,
   "id": "4666c9d1-8f7c-4b7d-9fda-1c92219dc363",
   "metadata": {},
   "outputs": [],
   "source": []
  },
  {
   "cell_type": "code",
   "execution_count": null,
   "id": "890d5ea0-5fbc-4159-b45f-6d75131c0b88",
   "metadata": {},
   "outputs": [],
   "source": []
  },
  {
   "cell_type": "code",
   "execution_count": null,
   "id": "6ff99aa7-e774-4973-8929-183943259d75",
   "metadata": {},
   "outputs": [],
   "source": []
  },
  {
   "cell_type": "code",
   "execution_count": null,
   "id": "2a05978c-20f6-4768-a08c-73251b239094",
   "metadata": {},
   "outputs": [],
   "source": []
  },
  {
   "cell_type": "code",
   "execution_count": null,
   "id": "250faefb-fe55-4823-8899-ef9c57459c26",
   "metadata": {},
   "outputs": [],
   "source": []
  },
  {
   "cell_type": "code",
   "execution_count": null,
   "id": "22627c91-ea5f-46d4-946a-2c89d228050b",
   "metadata": {},
   "outputs": [],
   "source": []
  },
  {
   "cell_type": "code",
   "execution_count": null,
   "id": "aa222a9b-2330-4d8e-a5e0-5e9eba4641bb",
   "metadata": {},
   "outputs": [],
   "source": []
  },
  {
   "cell_type": "code",
   "execution_count": null,
   "id": "ec8ed448-b489-4951-ad0d-daf2b7ce7bb4",
   "metadata": {},
   "outputs": [],
   "source": []
  },
  {
   "cell_type": "code",
   "execution_count": null,
   "id": "3c097275-30a0-44d1-88f6-477c48c4778b",
   "metadata": {},
   "outputs": [],
   "source": []
  },
  {
   "cell_type": "code",
   "execution_count": null,
   "id": "9726bcc0-200d-4afc-8aad-991a3d943f2c",
   "metadata": {},
   "outputs": [],
   "source": []
  },
  {
   "cell_type": "code",
   "execution_count": null,
   "id": "a20d49b0-3ea8-4e72-a68e-27358f82a348",
   "metadata": {},
   "outputs": [],
   "source": []
  },
  {
   "cell_type": "code",
   "execution_count": null,
   "id": "2c1051eb-4fa0-4cb4-8f2d-0b146ca8bff8",
   "metadata": {},
   "outputs": [],
   "source": []
  },
  {
   "cell_type": "code",
   "execution_count": null,
   "id": "3010066b-387a-4d79-b3a1-7827423ec252",
   "metadata": {},
   "outputs": [],
   "source": []
  },
  {
   "cell_type": "code",
   "execution_count": null,
   "id": "e0c15f12-d69e-46ae-b11c-2b9e30bf8024",
   "metadata": {},
   "outputs": [],
   "source": []
  },
  {
   "cell_type": "code",
   "execution_count": null,
   "id": "feb04337-a542-42cf-a864-255cbe51640a",
   "metadata": {},
   "outputs": [],
   "source": []
  },
  {
   "cell_type": "code",
   "execution_count": null,
   "id": "47302281-c0a1-41b4-b08c-abd81347fb38",
   "metadata": {},
   "outputs": [],
   "source": []
  },
  {
   "cell_type": "code",
   "execution_count": null,
   "id": "1cc4c1a5-7546-425c-b3fc-841f92ce1442",
   "metadata": {},
   "outputs": [],
   "source": []
  },
  {
   "cell_type": "code",
   "execution_count": null,
   "id": "608e9802-0d6e-498e-a133-cc7149a3ae7f",
   "metadata": {},
   "outputs": [],
   "source": []
  },
  {
   "cell_type": "code",
   "execution_count": null,
   "id": "ade59e5c-ce4f-4c13-9e15-8823791adeda",
   "metadata": {},
   "outputs": [],
   "source": []
  },
  {
   "cell_type": "code",
   "execution_count": null,
   "id": "b7a30f78-3cd0-4544-baf5-3b3570a4ed72",
   "metadata": {},
   "outputs": [],
   "source": []
  },
  {
   "cell_type": "code",
   "execution_count": null,
   "id": "bc3997ce-94d6-49d0-b377-80c5745ea490",
   "metadata": {},
   "outputs": [],
   "source": []
  },
  {
   "cell_type": "code",
   "execution_count": null,
   "id": "bf5af02b-8797-49a8-86fb-282f0936fb2e",
   "metadata": {},
   "outputs": [],
   "source": []
  },
  {
   "cell_type": "code",
   "execution_count": null,
   "id": "485a013d-1136-49ed-b03e-3301880ff127",
   "metadata": {},
   "outputs": [],
   "source": []
  },
  {
   "cell_type": "code",
   "execution_count": null,
   "id": "5d147077-6700-4a51-9a3c-278e38c6a60c",
   "metadata": {},
   "outputs": [],
   "source": []
  },
  {
   "cell_type": "code",
   "execution_count": null,
   "id": "cfc4c558-4a42-4cfe-85c8-34cc645ccc00",
   "metadata": {},
   "outputs": [],
   "source": []
  },
  {
   "cell_type": "code",
   "execution_count": null,
   "id": "20e764e8-a992-455b-9cc6-75ff3f04e8d2",
   "metadata": {},
   "outputs": [],
   "source": []
  },
  {
   "cell_type": "code",
   "execution_count": null,
   "id": "04bd3239-38c4-429e-9f34-1ab1a02b8a2e",
   "metadata": {},
   "outputs": [],
   "source": []
  },
  {
   "cell_type": "code",
   "execution_count": null,
   "id": "3768c319-84a8-4bce-b986-f0ef04cd948c",
   "metadata": {},
   "outputs": [],
   "source": []
  },
  {
   "cell_type": "code",
   "execution_count": null,
   "id": "9ab76a4b-94ab-4b45-85fa-035508606ff8",
   "metadata": {},
   "outputs": [],
   "source": []
  },
  {
   "cell_type": "code",
   "execution_count": null,
   "id": "a312eb5e-170c-45fa-86ee-cfb82983ef06",
   "metadata": {},
   "outputs": [],
   "source": []
  },
  {
   "cell_type": "code",
   "execution_count": null,
   "id": "07619f13-2c70-471b-98f3-0f794b027284",
   "metadata": {},
   "outputs": [],
   "source": []
  },
  {
   "cell_type": "code",
   "execution_count": null,
   "id": "cbfda7c5-5076-4b2b-a6b0-eefe080afad8",
   "metadata": {},
   "outputs": [],
   "source": []
  },
  {
   "cell_type": "code",
   "execution_count": null,
   "id": "307da22b-4c16-4061-9d04-b7f7d57b359d",
   "metadata": {},
   "outputs": [],
   "source": []
  },
  {
   "cell_type": "code",
   "execution_count": null,
   "id": "618ff9a1-1770-46c0-8379-7a940f54bf03",
   "metadata": {},
   "outputs": [],
   "source": []
  },
  {
   "cell_type": "code",
   "execution_count": null,
   "id": "11d356a8-b6a6-40a1-931b-caa98d34b2ee",
   "metadata": {},
   "outputs": [],
   "source": []
  },
  {
   "cell_type": "code",
   "execution_count": null,
   "id": "33fbe89a-c52f-441c-b85d-8bf98a3027f3",
   "metadata": {},
   "outputs": [],
   "source": []
  },
  {
   "cell_type": "code",
   "execution_count": null,
   "id": "304c252e-528c-4f03-a64c-c75f70d69c4b",
   "metadata": {},
   "outputs": [],
   "source": []
  },
  {
   "cell_type": "code",
   "execution_count": null,
   "id": "162de30f-44c2-49bb-8967-003cdbec77f6",
   "metadata": {},
   "outputs": [],
   "source": []
  },
  {
   "cell_type": "code",
   "execution_count": null,
   "id": "98c2d589-5a25-4cfc-8360-dda5d4e88105",
   "metadata": {},
   "outputs": [],
   "source": []
  },
  {
   "cell_type": "code",
   "execution_count": null,
   "id": "3d787cf2-e742-488d-837e-259711950198",
   "metadata": {},
   "outputs": [],
   "source": []
  },
  {
   "cell_type": "code",
   "execution_count": null,
   "id": "976cdd0d-73df-4d09-856d-4d32e0e11bc8",
   "metadata": {},
   "outputs": [],
   "source": []
  },
  {
   "cell_type": "code",
   "execution_count": null,
   "id": "b5ec292a-c8fc-4476-b591-00a9e35fb989",
   "metadata": {},
   "outputs": [],
   "source": []
  },
  {
   "cell_type": "code",
   "execution_count": null,
   "id": "e5994921-57f2-4efa-9566-0b7c5ff1c3e0",
   "metadata": {},
   "outputs": [],
   "source": []
  },
  {
   "cell_type": "code",
   "execution_count": null,
   "id": "4f434682-5c5a-45d4-9c52-d92b2ca108b4",
   "metadata": {},
   "outputs": [],
   "source": []
  },
  {
   "cell_type": "code",
   "execution_count": null,
   "id": "d349b123-8c63-4330-bc04-ba2b1049d4f3",
   "metadata": {},
   "outputs": [],
   "source": []
  },
  {
   "cell_type": "code",
   "execution_count": null,
   "id": "09a78386-1d7e-403e-a75d-609bd7edc98c",
   "metadata": {},
   "outputs": [],
   "source": []
  }
 ],
 "metadata": {
  "kernelspec": {
   "display_name": "Python 3 (ipykernel)",
   "language": "python",
   "name": "python3"
  },
  "language_info": {
   "codemirror_mode": {
    "name": "ipython",
    "version": 3
   },
   "file_extension": ".py",
   "mimetype": "text/x-python",
   "name": "python",
   "nbconvert_exporter": "python",
   "pygments_lexer": "ipython3",
   "version": "3.9.2"
  }
 },
 "nbformat": 4,
 "nbformat_minor": 5
}
