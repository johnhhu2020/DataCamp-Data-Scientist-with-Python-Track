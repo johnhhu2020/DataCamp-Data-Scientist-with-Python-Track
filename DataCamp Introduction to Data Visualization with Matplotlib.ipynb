{
 "cells": [
  {
   "cell_type": "markdown",
   "id": "0d3791ad-3af0-4cac-a8b4-fc0fc41dd35b",
   "metadata": {},
   "source": [
    "## Introduction to Data Visualization with Matplotlib\n",
    "\n",
    "\n",
    "\n"
   ]
  },
  {
   "cell_type": "markdown",
   "id": "3038d1bf-d593-422e-850d-b8bffb47c801",
   "metadata": {},
   "source": [
    "## Course Description\n",
    "\n",
    "Visualizing data in plots and figures exposes the underlying patterns in the data and provides insights. Good visualizations also help you communicate your data to others, and are useful to data analysts and other consumers of the data. In this course, you will learn how to use Matplotlib, a powerful Python data visualization library. Matplotlib provides the building blocks to create rich visualizations of many different kinds of datasets. You will learn how to create visualizations for different kinds of data and how to customize, automate, and share these visualizations.\n"
   ]
  },
  {
   "cell_type": "markdown",
   "id": "19c57637-dbff-4202-8e1c-9f7cec73d065",
   "metadata": {},
   "source": [
    "##  Introduction to Matplotlib\n",
    "Free\n",
    "0%\n",
    "\n",
    "This chapter introduces the Matplotlib visualization library and demonstrates how to use it with data.\n",
    "\n",
    "    Introduction to data visualization with Matplotlib    50 xp\n",
    "    Using the matplotlib.pyplot interface    100 xp\n",
    "    Adding data to an Axes object    100 xp\n",
    "    Customizing your plots    50 xp\n",
    "    Customizing data appearance    100 xp\n",
    "    Customizing axis labels and adding titles    100 xp\n",
    "    Small multiples    50 xp\n",
    "    Creating a grid of subplots    50 xp\n",
    "    Creating small multiples with plt.subplots    100 xp\n",
    "    Small multiples with shared y axis    100 xp \n",
    "    "
   ]
  },
  {
   "cell_type": "markdown",
   "id": "882e6938-c55f-4dad-a7da-c9b3b35b0386",
   "metadata": {},
   "source": [
    "##  Plotting time-series\n",
    "0%\n",
    "\n",
    "Time series data is data that is recorded. Visualizing this type of data helps clarify trends and illuminates relationships between data.\n",
    "\n",
    "    Plotting time-series data    50 xp\n",
    "    Read data with a time index    100 xp\n",
    "    Plot time-series data    100 xp\n",
    "    Using a time index to zoom in    100 xp\n",
    "    Plotting time-series with different variables    50 xp\n",
    "    Plotting two variables    100 xp\n",
    "    Defining a function that plots time-series data    100 xp\n",
    "    Using a plotting function    100 xp\n",
    "    Annotating time-series data    50 xp\n",
    "    Annotating a plot of time-series data    100 xp\n",
    "    Plotting time-series: putting it all together    100 xp\n"
   ]
  },
  {
   "cell_type": "markdown",
   "id": "7a81ae93-d2cd-47c8-956c-b6493a581f75",
   "metadata": {},
   "source": [
    "##  Quantitative comparisons and statistical visualizations\n",
    "0%\n",
    "\n",
    "Visualizations can be used to compare data in a quantitative manner. This chapter explains several methods for quantitative visualizations.\n",
    "\n",
    "    Quantitative comparisons: bar-charts    50 xp\n",
    "    Bar chart    100 xp\n",
    "    Stacked bar chart    100 xp\n",
    "    Quantitative comparisons: histograms    50 xp\n",
    "    Creating histograms    100 xp\n",
    "    \"Step\" histogram    100 xp\n",
    "    Statistical plotting    50 xp\n",
    "    Adding error-bars to a bar chart    100 xp\n",
    "    Adding error-bars to a plot    100 xp\n",
    "    Creating boxplots    100 xp\n",
    "    Quantitative comparisons: scatter plots    50 xp\n",
    "    Simple scatter plot    100 xp\n",
    "    Encoding time by color    100 xp\n"
   ]
  },
  {
   "cell_type": "code",
   "execution_count": null,
   "id": "62a8fefe-4261-4c7d-b63a-90b39af86181",
   "metadata": {},
   "outputs": [],
   "source": []
  },
  {
   "cell_type": "markdown",
   "id": "fd3876bd-bc92-44bd-9a79-c2607cbecd36",
   "metadata": {},
   "source": [
    "## Introduction to data visualization with Matplotlib\n",
    "\n",
    "\n",
    "\n",
    "\n",
    "**A picture is worth a thousand words.  Data visualization let you derive insights from data and let you communicate about the data with others.  \n",
    "\n",
    "For example some visualization can show an animated history of an outbreak of Eboa in West Africa.  This kind of plots offten shows in Tableau.  The amount of information in this complex visualization is simply staggering.  The visualization was created using Matplotlib, a Python library that is widely used to visualize data.  There are many software libraries that visualize data.  One of the main advantages of Matplotlib is thta it gives you complete control over the properties of your plot.  This allows you to customize and control the precise properties of your visualizations.  \n",
    "\n",
    "\n",
    "# *******************************************************************************************************************\n",
    "At the end of this course, you will know not only how to control your visualizations, but also how to create programs that automatically create visualizations based on your data.  \n",
    "\n",
    "There are many different ways to use Matplotlib.  In this course, we will use the main object-oriented interface.  This interface is provided through the pyplot submodule.  Here, we import the submodule and name it plt.  Its a strongly-followed convention, adn we will follow it here as well.  \n",
    "\n",
    "\n",
    "\n",
    "# *******************************************************************************************************************\n",
    "The plt.subplots() command, when called without any inputs, creates two different objects: a Figure object and and Axes object.  The Figure object is a container that holds everything that you see on the page.  Meanwhile, the Axes is the part of the page that holds the data.  It is the canvas on which we will draw with our data, to visualize it.  Here you can see a Figure with empty Axes.  No data has been added yet.  \n",
    "\n",
    "\n",
    "Lets add some data to our figure.  The 'seattle_weather' is a DF that contains information about the weather in the city of Seattle in the different months of the year.  The 'MONTH' column contains the three-letter names of the month of the year.  The \"MLY-TAVG-NORMAL\" - or 'monthly average normal temperature' column contains the temperatures in these months, in Fahrenheit degrees, averaged over a ten-year period.  \n",
    "\n",
    "To add the data to the Axes, we call 'ax.plot()' command, the .plot() command are methods of the Axes ( ax ) object.  In below example, we call the method with the 'MONTH' column as the first argument and the 'MLY-TAVG-NORMAL' column as the second argument.  Finally, we call the plt.show() function to show the effect of the plot command.  This adds a line to the plot, the horizontal dimension of the plot represents the months according to their order in first arg, and the height of the line at each month represents the avg temperature.  The trend in the data are now much clearer than they were just by reading off the temperatures from the table.  \n",
    "\n",
    "If you want, you can add more data to the plot.  For example, we also have a table that store data about the average temperature in the city of Austin, Texas.  We can add these data to the Axes by calling the 'ax.plot()' method again.  \n",
    "\n",
    "\n",
    "\n",
    "TO be clearer, \n",
    "\n",
    "# *******************************************************************************************************************\n",
    "First, we create the Figure and the Axes objects.  This is done by calling 'fig, ax = plt.subplot()'\n",
    "We call the '.plot()' method of 'ax' object with the 'MONTH' and 'MLY-TAVG-NORMAL' arguments, and this is repeatable. Finally, we ask Matploylib to show us the figure by calling 'plt.show()' \n",
    "\n",
    "\n"
   ]
  },
  {
   "cell_type": "code",
   "execution_count": 17,
   "id": "94a8ad8a-85eb-47ca-b704-f8ecada7678f",
   "metadata": {},
   "outputs": [
    {
     "data": {
      "image/png": "[encoded data removed]",
      "text/plain": [
       "<Figure size 432x288 with 1 Axes>"
      ]
     },
     "metadata": {
      "needs_background": "light"
     },
     "output_type": "display_data"
    },
    {
     "name": "stdout",
     "output_type": "stream",
     "text": [
      "   MONTH  MLY-TAVG-NORMAL\n",
      "0    jan             42.1\n",
      "1    Feb             43.4\n",
      "2    Mar             46.6\n",
      "3    Apr             50.5\n",
      "4    May             56.0\n",
      "5    Jun             61.0\n",
      "6    Jul             65.9\n",
      "7    Aug             66.5\n",
      "8    Sep             61.6\n",
      "9    Oct             53.3\n",
      "10   Nov             46.2\n",
      "11   Dec             41.1\n"
     ]
    },
    {
     "data": {
      "image/png": "[encoded data removed]",
      "text/plain": [
       "<Figure size 432x288 with 1 Axes>"
      ]
     },
     "metadata": {
      "needs_background": "light"
     },
     "output_type": "display_data"
    }
   ],
   "source": [
    "import matplotlib.pyplot as plt\n",
    "\n",
    "\n",
    "# ***************************************************************************************************************** #\n",
    "fig, ax = plt.subplots()\n",
    "\n",
    "plt.show()\n",
    "\n",
    "\n",
    "\n",
    "import pandas as pd\n",
    "\n",
    "\n",
    "seattle_weather = pd.DataFrame({'MONTH': ['jan', 'Feb', 'Mar', 'Apr', 'May', 'Jun', 'Jul', 'Aug', 'Sep', 'Oct', 'Nov', 'Dec'], \n",
    "                                'MLY-TAVG-NORMAL': [42.1, 43.4, 46.6, 50.5, 56.0, 61.0, 65.9, 66.5, 61.6, 53.3, 46.2, 41.1]})\n",
    "print(seattle_weather)\n",
    "\n",
    "\n",
    "\n",
    "austin_weather = pd.DataFrame({'MONTH': ['jan', 'Feb', 'Mar', 'Apr', 'May', 'Jun', 'Jul', 'Aug', 'Sep', 'Oct', 'Nov', 'Dec'], \n",
    "                                'MLY-TAVG-NORMAL': [49.1, 52.4, 57.6, 65.5, 70.0, 80.0, 83.9, 84.5, 75.6, 66.3, 55.2, 51.1]})\n",
    "\n",
    "\n",
    "\n",
    "\n",
    "fig, ax = plt.subplots()\n",
    "ax.plot(seattle_weather['MONTH'], seattle_weather['MLY-TAVG-NORMAL'])\n",
    "ax.plot(austin_weather['MONTH'], austin_weather['MLY-TAVG-NORMAL'])\n",
    "plt.show()\n",
    "\n",
    "\n",
    "\n",
    "\n",
    "seattle = pd.read_csv('seattle_weather.csv')\n",
    "#print(seattle.head())\n",
    "\n",
    "\n"
   ]
  },
  {
   "cell_type": "markdown",
   "id": "9af56403-3222-4073-8ca2-d023662012c1",
   "metadata": {},
   "source": [
    "## Using the matplotlib.pyplot interface\n",
    "\n",
    "There are many ways to use Matplotlib. In this course, we will focus on the pyplot interface, which provides the most flexibility in creating and customizing data visualizations.\n",
    "\n",
    "Initially, we will use the pyplot interface to create two kinds of objects: Figure objects and Axes objects.\n",
    "\n",
    "This course introduces a lot of new concepts, so if you ever need a quick refresher, download the Matplotlib Cheat Sheet and keep it handy!\n",
    "Instructions\n",
    "100 XP\n",
    "\n",
    "    Import the matplotlib.pyplot API, using the conventional name plt.\n",
    "    Create Figure and Axes objects using the plt.subplots function.\n",
    "    Show the results, an empty set of axes, using the plt.show function.\n"
   ]
  },
  {
   "cell_type": "code",
   "execution_count": 19,
   "id": "14a2e5f9-6432-4fce-958a-39b6dd1693a8",
   "metadata": {},
   "outputs": [
    {
     "data": {
      "image/png": "[encoded data removed]",
      "text/plain": [
       "<Figure size 432x288 with 1 Axes>"
      ]
     },
     "metadata": {
      "needs_background": "light"
     },
     "output_type": "display_data"
    }
   ],
   "source": [
    "import matplotlib.pyplot as plt\n",
    "\n",
    "\n",
    "fig, ax = plt.subplots()\n",
    "# ***************************************************************************************************************** #\n",
    "\n",
    "plt.show()"
   ]
  },
  {
   "cell_type": "markdown",
   "id": "237d3962-975b-4f1c-93ef-1be18e5aa358",
   "metadata": {},
   "source": [
    "## Adding data to an Axes object\n",
    "\n",
    "# Adding data to a figure is done by calling methods of the Axes object. \n",
    "In this exercise, we will use the plot method to add data about rainfall in two American cities: Seattle, WA and Austin, TX.\n",
    "\n",
    "The data are stored in two Pandas DataFrame objects that are already loaded into memory: 'seattle_weather' stores information about the weather in Seattle, and 'austin_weather' stores information about the weather in Austin. Each of the data frames has a \"MONTHS\" column that stores the three-letter name of the months. Each also has a column named \"MLY-PRCP-NORMAL\" that stores the average rainfall in each month during a ten-year period.\n",
    "\n",
    "In this exercise, you will create a visualization that will allow you to compare the rainfall in these two cities.\n",
    "Instructions\n",
    "100 XP\n",
    "\n",
    "    Import the matplotlib.pyplot submodule as plt.\n",
    "    Create a Figure and an Axes object by calling plt.subplots.\n",
    "    Add data from the seattle_weather DataFrame by calling the Axes plot method.\n",
    "    Add data from the austin_weather DataFrame in a similar manner and call plt.show to show the results.\n"
   ]
  },
  {
   "cell_type": "code",
   "execution_count": 33,
   "id": "6c7f4e84-0f03-458f-8e0f-4587ec8199ea",
   "metadata": {},
   "outputs": [
    {
     "data": {
      "image/png": "[encoded data removed]",
      "text/plain": [
       "<Figure size 432x288 with 1 Axes>"
      ]
     },
     "metadata": {
      "needs_background": "light"
     },
     "output_type": "display_data"
    },
    {
     "data": {
      "image/png": "[encoded data removed]",
      "text/plain": [
       "<Figure size 432x288 with 1 Axes>"
      ]
     },
     "metadata": {
      "needs_background": "light"
     },
     "output_type": "display_data"
    }
   ],
   "source": [
    "import matplotlib.pyplot as plt\n",
    "\n",
    "\n",
    "\n",
    "\n",
    "\n",
    "\n",
    "\n",
    "fig, ax = plt.subplots()\n",
    "\n",
    "ax.plot(seattle_weather['MONTH'], seattle_weather['MLY-TAVG-NORMAL'])\n",
    "ax.plot(austin_weather['MONTH'], austin_weather['MLY-TAVG-NORMAL'])\n",
    "plt.show()\n",
    "\n",
    "\n",
    "\n",
    "\n",
    "f_df = seattle_weather.merge(austin_weather, on='MONTH', suffixes=('_Seattle', '_Austin'))\n",
    "f_df.plot(kind='line')\n",
    "\n",
    "plt.title('MLY-TAVG-NORMAL temperature trend', fontsize=14)\n",
    "\n",
    "plt.show()"
   ]
  },
  {
   "cell_type": "code",
   "execution_count": null,
   "id": "4bb46470-b7a5-4d74-bce0-ebfe78efc455",
   "metadata": {},
   "outputs": [],
   "source": [
    "\n",
    "\n",
    "Index(['STATION', 'NAME', 'MLY-CLDD-BASE45', 'MLY-CLDD-BASE50', 'MLY-CLDD-BASE55', 'MLY-CLDD-BASE57', 'MLY-CLDD-BASE60', 'MLY-CLDD-BASE70', 'MLY-CLDD-BASE72', 'MLY-CLDD-NORMAL', 'MLY-DUTR-NORMAL',\n",
    "       'MLY-DUTR-STDDEV', 'MLY-GRDD-BASE40', 'MLY-GRDD-BASE45', 'MLY-GRDD-BASE50', 'MLY-GRDD-BASE55', 'MLY-GRDD-BASE57', 'MLY-GRDD-BASE60', 'MLY-GRDD-BASE65', 'MLY-GRDD-BASE70', 'MLY-GRDD-BASE72',\n",
    "       'MLY-GRDD-TB4886', 'MLY-GRDD-TB5086', 'MLY-HTDD-BASE40', 'MLY-HTDD-BASE45', 'MLY-HTDD-BASE50', 'MLY-HTDD-BASE55', 'MLY-HTDD-BASE57', 'MLY-HTDD-BASE60', 'MLY-HTDD-NORMAL', 'MLY-PRCP-25PCTL',\n",
    "       'MLY-PRCP-50PCTL', 'MLY-PRCP-75PCTL', 'MLY-PRCP-AVGNDS-GE001HI', 'MLY-PRCP-AVGNDS-GE010HI', 'MLY-PRCP-AVGNDS-GE050HI', 'MLY-PRCP-AVGNDS-GE100HI', 'MLY-PRCP-NORMAL', 'MLY-SNOW-25PCTL',\n",
    "       'MLY-SNOW-50PCTL', 'MLY-SNOW-75PCTL', 'MLY-SNOW-AVGNDS-GE001TI', 'MLY-SNOW-AVGNDS-GE010TI', 'MLY-SNOW-AVGNDS-GE030TI', 'MLY-SNOW-AVGNDS-GE050TI', 'MLY-SNOW-AVGNDS-GE100TI', 'MLY-SNOW-NORMAL',\n",
    "       'MLY-SNWD-AVGNDS-GE001WI', 'MLY-SNWD-AVGNDS-GE003WI', 'MLY-SNWD-AVGNDS-GE005WI', 'MLY-SNWD-AVGNDS-GE010WI', 'MLY-TAVG-NORMAL', 'MLY-TAVG-STDDEV', 'MLY-TMAX-AVGNDS-GRTH040',\n",
    "       'MLY-TMAX-AVGNDS-GRTH050', 'MLY-TMAX-AVGNDS-GRTH060', 'MLY-TMAX-AVGNDS-GRTH070', 'MLY-TMAX-AVGNDS-GRTH080', 'MLY-TMAX-AVGNDS-GRTH090', 'MLY-TMAX-AVGNDS-GRTH100', 'MLY-TMAX-AVGNDS-LSTH032',\n",
    "       'MLY-TMAX-NORMAL', 'MLY-TMAX-STDDEV', 'MLY-TMIN-AVGNDS-LSTH000', 'MLY-TMIN-AVGNDS-LSTH010', 'MLY-TMIN-AVGNDS-LSTH020', 'MLY-TMIN-AVGNDS-LSTH032', 'MLY-TMIN-AVGNDS-LSTH040',\n",
    "       'MLY-TMIN-AVGNDS-LSTH050', 'MLY-TMIN-AVGNDS-LSTH060', 'MLY-TMIN-AVGNDS-LSTH070', 'MLY-TMIN-NORMAL', 'MLY-TMIN-PRBOCC-LSTH016', 'MLY-TMIN-PRBOCC-LSTH020', 'MLY-TMIN-PRBOCC-LSTH024',\n",
    "       'MLY-TMIN-PRBOCC-LSTH028', 'MLY-TMIN-PRBOCC-LSTH032', 'MLY-TMIN-PRBOCC-LSTH036', 'MLY-TMIN-STDDEV', 'MONTH'],\n",
    "      dtype='object')\n",
    "\n",
    "          STATION                         NAME  MLY-CLDD-BASE45  MLY-CLDD-BASE50  MLY-CLDD-BASE55  ...  MLY-TMIN-PRBOCC-LSTH028  MLY-TMIN-PRBOCC-LSTH032  MLY-TMIN-PRBOCC-LSTH036  MLY-TMIN-STDDEV  \\\n",
    "DATE                                                                                               ...                                                                                               \n",
    "1     USW00094290  SEATTLE SAND PT WSFO, WA US             27.0              3.0          -7777.0  ...                    709.0                    959.0                   1000.0              2.3   \n",
    "2     USW00094290  SEATTLE SAND PT WSFO, WA US             31.0              3.0          -7777.0  ...                    616.0                    917.0                   1000.0              2.6   \n",
    "3     USW00094290  SEATTLE SAND PT WSFO, WA US             81.0             16.0              2.0  ...                    152.0                    670.0                    986.0              1.8   \n",
    "4     USW00094290  SEATTLE SAND PT WSFO, WA US            169.0             58.0             12.0  ...                      0.0                    114.0                    711.0              1.5   \n",
    "5     USW00094290  SEATTLE SAND PT WSFO, WA US            343.0            193.0             78.0  ...                      0.0                      0.0                     58.0              1.9   \n",
    "6     USW00094290  SEATTLE SAND PT WSFO, WA US            480.0            330.0            184.0  ...                      0.0                      0.0                      0.0              1.2   \n",
    "7     USW00094290  SEATTLE SAND PT WSFO, WA US            648.0            493.0            338.0  ...                      0.0                      0.0                      0.0              1.2   \n",
    "8     USW00094290  SEATTLE SAND PT WSFO, WA US            668.0            513.0            358.0  ...                      0.0                      0.0                      0.0              1.3   \n",
    "9     USW00094290  SEATTLE SAND PT WSFO, WA US            498.0            348.0            202.0  ...                      0.0                      0.0                      0.0              1.5   \n",
    "10    USW00094290  SEATTLE SAND PT WSFO, WA US            260.0            123.0             35.0  ...                      2.0                     58.0                    349.0              1.8   \n",
    "11    USW00094290  SEATTLE SAND PT WSFO, WA US             78.0             18.0              2.0  ...                    224.0                    566.0                    960.0              3.0   \n",
    "12    USW00094290  SEATTLE SAND PT WSFO, WA US             18.0              1.0          -7777.0  ...                    729.0                    980.0                   1000.0              2.3   \n",
    "\n",
    "      MONTH  \n",
    "DATE         \n",
    "1       Jan  \n",
    "2       Feb  \n",
    "3       Mar  \n",
    "4       Apr  \n",
    "5       May  \n",
    "6       Jun  \n",
    "7       Jul  \n",
    "8       Aug  \n",
    "9       Sep  \n",
    "10      Oct  \n",
    "11      Nov  \n",
    "12      Dec  \n",
    "\n",
    "[12 rows x 80 columns]\n",
    "\n",
    "\n",
    "\n",
    "\n",
    "\n",
    "Index(['STATION', 'NAME', 'MLY-CLDD-BASE45', 'MLY-CLDD-BASE50', 'MLY-CLDD-BASE55', 'MLY-CLDD-BASE57', 'MLY-CLDD-BASE60', 'MLY-CLDD-BASE70', 'MLY-CLDD-BASE72', 'MLY-CLDD-NORMAL', 'MLY-DUTR-NORMAL',\n",
    "       'MLY-DUTR-STDDEV', 'MLY-GRDD-BASE40', 'MLY-GRDD-BASE45', 'MLY-GRDD-BASE50', 'MLY-GRDD-BASE55', 'MLY-GRDD-BASE57', 'MLY-GRDD-BASE60', 'MLY-GRDD-BASE65', 'MLY-GRDD-BASE70', 'MLY-GRDD-BASE72',\n",
    "       'MLY-GRDD-TB4886', 'MLY-GRDD-TB5086', 'MLY-HTDD-BASE40', 'MLY-HTDD-BASE45', 'MLY-HTDD-BASE50', 'MLY-HTDD-BASE55', 'MLY-HTDD-BASE57', 'MLY-HTDD-BASE60', 'MLY-HTDD-NORMAL', 'MLY-PRCP-25PCTL',\n",
    "       'MLY-PRCP-50PCTL', 'MLY-PRCP-75PCTL', 'MLY-PRCP-AVGNDS-GE001HI', 'MLY-PRCP-AVGNDS-GE010HI', 'MLY-PRCP-AVGNDS-GE050HI', 'MLY-PRCP-AVGNDS-GE100HI', 'MLY-PRCP-NORMAL', 'MLY-TAVG-NORMAL',\n",
    "       'MLY-TAVG-STDDEV', 'MLY-TMAX-AVGNDS-GRTH040', 'MLY-TMAX-AVGNDS-GRTH050', 'MLY-TMAX-AVGNDS-GRTH060', 'MLY-TMAX-AVGNDS-GRTH070', 'MLY-TMAX-AVGNDS-GRTH080', 'MLY-TMAX-AVGNDS-GRTH090',\n",
    "       'MLY-TMAX-AVGNDS-GRTH100', 'MLY-TMAX-AVGNDS-LSTH032', 'MLY-TMAX-NORMAL', 'MLY-TMAX-STDDEV', 'MLY-TMIN-AVGNDS-LSTH000', 'MLY-TMIN-AVGNDS-LSTH010', 'MLY-TMIN-AVGNDS-LSTH020',\n",
    "       'MLY-TMIN-AVGNDS-LSTH032', 'MLY-TMIN-AVGNDS-LSTH040', 'MLY-TMIN-AVGNDS-LSTH050', 'MLY-TMIN-AVGNDS-LSTH060', 'MLY-TMIN-AVGNDS-LSTH070', 'MLY-TMIN-NORMAL', 'MLY-TMIN-PRBOCC-LSTH016',\n",
    "       'MLY-TMIN-PRBOCC-LSTH020', 'MLY-TMIN-PRBOCC-LSTH024', 'MLY-TMIN-PRBOCC-LSTH028', 'MLY-TMIN-PRBOCC-LSTH032', 'MLY-TMIN-PRBOCC-LSTH036', 'MLY-TMIN-STDDEV', 'MONTH'],\n",
    "      dtype='object')\n",
    "\n",
    "\n",
    "          STATION                                           NAME  MLY-CLDD-BASE45  MLY-CLDD-BASE50  MLY-CLDD-BASE55  ...  MLY-TMIN-PRBOCC-LSTH028  MLY-TMIN-PRBOCC-LSTH032  MLY-TMIN-PRBOCC-LSTH036  \\\n",
    "DATE                                                                                                                 ...                                                                              \n",
    "1     USW00013904  AUSTIN BERGSTROM INTERNATIONAL AIRPORT, TX US              190              103               50  ...                      967                      997                     1000   \n",
    "2     USW00013904  AUSTIN BERGSTROM INTERNATIONAL AIRPORT, TX US              228              132               68  ...                      867                      973                      999   \n",
    "3     USW00013904  AUSTIN BERGSTROM INTERNATIONAL AIRPORT, TX US              446              306              185  ...                      494                      761                      928   \n",
    "4     USW00013904  AUSTIN BERGSTROM INTERNATIONAL AIRPORT, TX US              668              519              373  ...                       48                      189                      453   \n",
    "5     USW00013904  AUSTIN BERGSTROM INTERNATIONAL AIRPORT, TX US              936              781              626  ...                        0                        0                        0   \n",
    "6     USW00013904  AUSTIN BERGSTROM INTERNATIONAL AIRPORT, TX US             1081              931              781  ...                        0                        0                        0   \n",
    "7     USW00013904  AUSTIN BERGSTROM INTERNATIONAL AIRPORT, TX US             1192             1037              882  ...                        0                        0                        0   \n",
    "8     USW00013904  AUSTIN BERGSTROM INTERNATIONAL AIRPORT, TX US             1199             1044              889  ...                        0                        0                        0   \n",
    "9     USW00013904  AUSTIN BERGSTROM INTERNATIONAL AIRPORT, TX US              985              835              685  ...                        0                        0                        0   \n",
    "10    USW00013904  AUSTIN BERGSTROM INTERNATIONAL AIRPORT, TX US              745              591              438  ...                       25                       96                      264   \n",
    "11    USW00013904  AUSTIN BERGSTROM INTERNATIONAL AIRPORT, TX US              412              281              172  ...                      530                      819                      969   \n",
    "12    USW00013904  AUSTIN BERGSTROM INTERNATIONAL AIRPORT, TX US              208              119               63  ...                      941                      991                      999   \n",
    "\n",
    "      MLY-TMIN-STDDEV  MONTH  \n",
    "DATE                          \n",
    "1                 2.9    Jan  \n",
    "2                 3.2    Feb  \n",
    "3                 3.6    Mar  \n",
    "4                 4.1    Apr  \n",
    "5                 2.5    May  \n",
    "6                 1.9    Jun  \n",
    "7                 1.3    Jul  \n",
    "8                 1.4    Aug  \n",
    "9                 2.5    Sep  \n",
    "10                3.7    Oct  \n",
    "11                2.9    Nov  \n",
    "12                4.0    Dec  \n",
    "\n",
    "[12 rows x 67 columns]"
   ]
  },
  {
   "cell_type": "markdown",
   "id": "34ed7f4d-3d74-48fb-95fe-6d2f284072fb",
   "metadata": {},
   "source": [
    "## Customizing your plots\n",
    "\n",
    "\n",
    "\n",
    "\n",
    "\n",
    "**Now that you know how to add data to your plot, lets start customizing your plots.  First, lets customize the appearance of the data in the plot.  One of the things you may want to improve about a plot is that the data appears to be continuous, but it was actually only measured in monthly intervals.  \n",
    "\n",
    "A way to indicate this would be to add markers to the plot that show us where the data exists and which parts are just lines that connect between the data points.  The 'ax.plot()' method takes an optional keyward argument 'marker=', which lets you indicate that you are interested in adding markers to the plot and also what kind of markers you'd like.  For example passing the lower-case letter 'o' indicates that you would like to use circles as markers.  If you were pass a lower case letter 'v' instead, you would get markers shaped like triangles pointing downwards.  To check full possible marker styles, you can visit Matplotlib online documentation or just print 'print(help(ax.plot))'.  \n",
    "\n",
    "In these versions of the plot, the measured data appears as markers of some shape, and it becomes more apparent that the lines are just connectors between them.  But you can go even further to emphasize this by changing the appearance of there connecting lines.  This is done by adding the linestyle keyward argument.  Here two dashes are used to indicateat the line should be dashed.  Like marker shapes, there are a few linestyles you can choose from.  You can even go so far as to aliminate the lines altogether, by passing the string 'None' as input to 'linestyle=' arg.  Finally, you can choose the color that you would like to use for the data.  For example, here we've chosen to show this data in red, indicated by the letter 'r' input in 'color=' arg.  \n",
    "\n",
    "\n",
    "Another important thing to customize are the axis labels.  If you want your visualization to communicate properly you need to always label the axes.  This is really important but is something that is often neglected.  In addition to the 'ax.plot()' method, the Axes object has several methods that start with the word set.  These are the methods that you can use to change certain properties of the object, before calling 'plt.show()' to display it.  For example, there is a 'ax.set_xlabel()' method that you can use to set the value of the label of the x-axis.  \n",
    "\n",
    "Note we capialize axis labels as we would capitalize a sentense, where only the first ward is always capitalized and subsequent words are capitalized only if they are proper nouns.  \n",
    "\n",
    "If you then call plt.show() you will see that the axis now has a label that indicates the values on the x-axis denote time in months.  Similarly, 'ax.set_ylabel()' method customize the label that is associated with the y-axis.  Finally, you can also add a title to your Asex object using 'ax.set_title()' method.  This add another source of information about the data to provide context for your visualization.  \n",
    "\n",
    "\n",
    "\n"
   ]
  },
  {
   "cell_type": "code",
   "execution_count": 48,
   "id": "ea91ec72-3ac9-4d76-b8d4-a75792c1d272",
   "metadata": {},
   "outputs": [
    {
     "data": {
      "image/png": "[encoded data removed]",
      "text/plain": [
       "<Figure size 432x288 with 1 Axes>"
      ]
     },
     "metadata": {
      "needs_background": "light"
     },
     "output_type": "display_data"
    },
    {
     "name": "stdout",
     "output_type": "stream",
     "text": [
      "Help on method plot in module matplotlib.axes._axes:\n",
      "\n",
      "plot(*args, scalex=True, scaley=True, data=None, **kwargs) method of matplotlib.axes._subplots.AxesSubplot instance\n",
      "    Plot y versus x as lines and/or markers.\n",
      "    \n",
      "    Call signatures::\n",
      "    \n",
      "        plot([x], y, [fmt], *, data=None, **kwargs)\n",
      "        plot([x], y, [fmt], [x2], y2, [fmt2], ..., **kwargs)\n",
      "    \n",
      "    The coordinates of the points or line nodes are given by *x*, *y*.\n",
      "    \n",
      "    The optional parameter *fmt* is a convenient way for defining basic\n",
      "    formatting like color, marker and linestyle. It's a shortcut string\n",
      "    notation described in the *Notes* section below.\n",
      "    \n",
      "    >>> plot(x, y)        # plot x and y using default line style and color\n",
      "    >>> plot(x, y, 'bo')  # plot x and y using blue circle markers\n",
      "    >>> plot(y)           # plot y using x as index array 0..N-1\n",
      "    >>> plot(y, 'r+')     # ditto, but with red plusses\n",
      "    \n",
      "    You can use `.Line2D` properties as keyword arguments for more\n",
      "    control on the appearance. Line properties and *fmt* can be mixed.\n",
      "    The following two calls yield identical results:\n",
      "    \n",
      "    >>> plot(x, y, 'go--', linewidth=2, markersize=12)\n",
      "    >>> plot(x, y, color='green', marker='o', linestyle='dashed',\n",
      "    ...      linewidth=2, markersize=12)\n",
      "    \n",
      "    When conflicting with *fmt*, keyword arguments take precedence.\n",
      "    \n",
      "    \n",
      "    **Plotting labelled data**\n",
      "    \n",
      "    There's a convenient way for plotting objects with labelled data (i.e.\n",
      "    data that can be accessed by index ``obj['y']``). Instead of giving\n",
      "    the data in *x* and *y*, you can provide the object in the *data*\n",
      "    parameter and just give the labels for *x* and *y*::\n",
      "    \n",
      "    >>> plot('xlabel', 'ylabel', data=obj)\n",
      "    \n",
      "    All indexable objects are supported. This could e.g. be a `dict`, a\n",
      "    `pandas.DataFrame` or a structured numpy array.\n",
      "    \n",
      "    \n",
      "    **Plotting multiple sets of data**\n",
      "    \n",
      "    There are various ways to plot multiple sets of data.\n",
      "    \n",
      "    - The most straight forward way is just to call `plot` multiple times.\n",
      "      Example:\n",
      "    \n",
      "      >>> plot(x1, y1, 'bo')\n",
      "      >>> plot(x2, y2, 'go')\n",
      "    \n",
      "    - If *x* and/or *y* are 2D arrays a separate data set will be drawn\n",
      "      for every column. If both *x* and *y* are 2D, they must have the\n",
      "      same shape. If only one of them is 2D with shape (N, m) the other\n",
      "      must have length N and will be used for every data set m.\n",
      "    \n",
      "      Example:\n",
      "    \n",
      "      >>> x = [1, 2, 3]\n",
      "      >>> y = np.array([[1, 2], [3, 4], [5, 6]])\n",
      "      >>> plot(x, y)\n",
      "    \n",
      "      is equivalent to:\n",
      "    \n",
      "      >>> for col in range(y.shape[1]):\n",
      "      ...     plot(x, y[:, col])\n",
      "    \n",
      "    - The third way is to specify multiple sets of *[x]*, *y*, *[fmt]*\n",
      "      groups::\n",
      "    \n",
      "      >>> plot(x1, y1, 'g^', x2, y2, 'g-')\n",
      "    \n",
      "      In this case, any additional keyword argument applies to all\n",
      "      datasets. Also this syntax cannot be combined with the *data*\n",
      "      parameter.\n",
      "    \n",
      "    By default, each line is assigned a different style specified by a\n",
      "    'style cycle'. The *fmt* and line property parameters are only\n",
      "    necessary if you want explicit deviations from these defaults.\n",
      "    Alternatively, you can also change the style cycle using\n",
      "    :rc:`axes.prop_cycle`.\n",
      "    \n",
      "    \n",
      "    Parameters\n",
      "    ----------\n",
      "    x, y : array-like or scalar\n",
      "        The horizontal / vertical coordinates of the data points.\n",
      "        *x* values are optional and default to ``range(len(y))``.\n",
      "    \n",
      "        Commonly, these parameters are 1D arrays.\n",
      "    \n",
      "        They can also be scalars, or two-dimensional (in that case, the\n",
      "        columns represent separate data sets).\n",
      "    \n",
      "        These arguments cannot be passed as keywords.\n",
      "    \n",
      "    fmt : str, optional\n",
      "        A format string, e.g. 'ro' for red circles. See the *Notes*\n",
      "        section for a full description of the format strings.\n",
      "    \n",
      "        Format strings are just an abbreviation for quickly setting\n",
      "        basic line properties. All of these and more can also be\n",
      "        controlled by keyword arguments.\n",
      "    \n",
      "        This argument cannot be passed as keyword.\n",
      "    \n",
      "    data : indexable object, optional\n",
      "        An object with labelled data. If given, provide the label names to\n",
      "        plot in *x* and *y*.\n",
      "    \n",
      "        .. note::\n",
      "            Technically there's a slight ambiguity in calls where the\n",
      "            second label is a valid *fmt*. ``plot('n', 'o', data=obj)``\n",
      "            could be ``plt(x, y)`` or ``plt(y, fmt)``. In such cases,\n",
      "            the former interpretation is chosen, but a warning is issued.\n",
      "            You may suppress the warning by adding an empty format string\n",
      "            ``plot('n', 'o', '', data=obj)``.\n",
      "    \n",
      "    Returns\n",
      "    -------\n",
      "    list of `.Line2D`\n",
      "        A list of lines representing the plotted data.\n",
      "    \n",
      "    Other Parameters\n",
      "    ----------------\n",
      "    scalex, scaley : bool, default: True\n",
      "        These parameters determine if the view limits are adapted to the\n",
      "        data limits. The values are passed on to `autoscale_view`.\n",
      "    \n",
      "    **kwargs : `.Line2D` properties, optional\n",
      "        *kwargs* are used to specify properties like a line label (for\n",
      "        auto legends), linewidth, antialiasing, marker face color.\n",
      "        Example::\n",
      "    \n",
      "        >>> plot([1, 2, 3], [1, 2, 3], 'go-', label='line 1', linewidth=2)\n",
      "        >>> plot([1, 2, 3], [1, 4, 9], 'rs', label='line 2')\n",
      "    \n",
      "        If you specify multiple lines with one plot call, the kwargs apply\n",
      "        to all those lines. In case the label object is iterable, each\n",
      "        element is used as labels for each set of data.\n",
      "    \n",
      "        Here is a list of available `.Line2D` properties:\n",
      "    \n",
      "        Properties:\n",
      "        agg_filter: a filter function, which takes a (m, n, 3) float array and a dpi value, and returns a (m, n, 3) array\n",
      "        alpha: scalar or None\n",
      "        animated: bool\n",
      "        antialiased or aa: bool\n",
      "        clip_box: `.Bbox`\n",
      "        clip_on: bool\n",
      "        clip_path: Patch or (Path, Transform) or None\n",
      "        color or c: color\n",
      "        dash_capstyle: `.CapStyle` or {'butt', 'projecting', 'round'}\n",
      "        dash_joinstyle: `.JoinStyle` or {'miter', 'round', 'bevel'}\n",
      "        dashes: sequence of floats (on/off ink in points) or (None, None)\n",
      "        data: (2, N) array or two 1D arrays\n",
      "        drawstyle or ds: {'default', 'steps', 'steps-pre', 'steps-mid', 'steps-post'}, default: 'default'\n",
      "        figure: `.Figure`\n",
      "        fillstyle: {'full', 'left', 'right', 'bottom', 'top', 'none'}\n",
      "        gid: str\n",
      "        in_layout: bool\n",
      "        label: object\n",
      "        linestyle or ls: {'-', '--', '-.', ':', '', (offset, on-off-seq), ...}\n",
      "        linewidth or lw: float\n",
      "        marker: marker style string, `~.path.Path` or `~.markers.MarkerStyle`\n",
      "        markeredgecolor or mec: color\n",
      "        markeredgewidth or mew: float\n",
      "        markerfacecolor or mfc: color\n",
      "        markerfacecoloralt or mfcalt: color\n",
      "        markersize or ms: float\n",
      "        markevery: None or int or (int, int) or slice or list[int] or float or (float, float) or list[bool]\n",
      "        path_effects: `.AbstractPathEffect`\n",
      "        picker: float or callable[[Artist, Event], tuple[bool, dict]]\n",
      "        pickradius: float\n",
      "        rasterized: bool\n",
      "        sketch_params: (scale: float, length: float, randomness: float)\n",
      "        snap: bool or None\n",
      "        solid_capstyle: `.CapStyle` or {'butt', 'projecting', 'round'}\n",
      "        solid_joinstyle: `.JoinStyle` or {'miter', 'round', 'bevel'}\n",
      "        transform: unknown\n",
      "        url: str\n",
      "        visible: bool\n",
      "        xdata: 1D array\n",
      "        ydata: 1D array\n",
      "        zorder: float\n",
      "    \n",
      "    See Also\n",
      "    --------\n",
      "    scatter : XY scatter plot with markers of varying size and/or color (\n",
      "        sometimes also called bubble chart).\n",
      "    \n",
      "    Notes\n",
      "    -----\n",
      "    **Format Strings**\n",
      "    \n",
      "    A format string consists of a part for color, marker and line::\n",
      "    \n",
      "        fmt = '[marker][line][color]'\n",
      "    \n",
      "    Each of them is optional. If not provided, the value from the style\n",
      "    cycle is used. Exception: If ``line`` is given, but no ``marker``,\n",
      "    the data will be a line without markers.\n",
      "    \n",
      "    Other combinations such as ``[color][marker][line]`` are also\n",
      "    supported, but note that their parsing may be ambiguous.\n",
      "    \n",
      "    **Markers**\n",
      "    \n",
      "    =============   ===============================\n",
      "    character       description\n",
      "    =============   ===============================\n",
      "    ``'.'``         point marker\n",
      "    ``','``         pixel marker\n",
      "    ``'o'``         circle marker\n",
      "    ``'v'``         triangle_down marker\n",
      "    ``'^'``         triangle_up marker\n",
      "    ``'<'``         triangle_left marker\n",
      "    ``'>'``         triangle_right marker\n",
      "    ``'1'``         tri_down marker\n",
      "    ``'2'``         tri_up marker\n",
      "    ``'3'``         tri_left marker\n",
      "    ``'4'``         tri_right marker\n",
      "    ``'8'``         octagon marker\n",
      "    ``'s'``         square marker\n",
      "    ``'p'``         pentagon marker\n",
      "    ``'P'``         plus (filled) marker\n",
      "    ``'*'``         star marker\n",
      "    ``'h'``         hexagon1 marker\n",
      "    ``'H'``         hexagon2 marker\n",
      "    ``'+'``         plus marker\n",
      "    ``'x'``         x marker\n",
      "    ``'X'``         x (filled) marker\n",
      "    ``'D'``         diamond marker\n",
      "    ``'d'``         thin_diamond marker\n",
      "    ``'|'``         vline marker\n",
      "    ``'_'``         hline marker\n",
      "    =============   ===============================\n",
      "    \n",
      "    **Line Styles**\n",
      "    \n",
      "    =============    ===============================\n",
      "    character        description\n",
      "    =============    ===============================\n",
      "    ``'-'``          solid line style\n",
      "    ``'--'``         dashed line style\n",
      "    ``'-.'``         dash-dot line style\n",
      "    ``':'``          dotted line style\n",
      "    =============    ===============================\n",
      "    \n",
      "    Example format strings::\n",
      "    \n",
      "        'b'    # blue markers with default shape\n",
      "        'or'   # red circles\n",
      "        '-g'   # green solid line\n",
      "        '--'   # dashed line with default color\n",
      "        '^k:'  # black triangle_up markers connected by a dotted line\n",
      "    \n",
      "    **Colors**\n",
      "    \n",
      "    The supported color abbreviations are the single letter codes\n",
      "    \n",
      "    =============    ===============================\n",
      "    character        color\n",
      "    =============    ===============================\n",
      "    ``'b'``          blue\n",
      "    ``'g'``          green\n",
      "    ``'r'``          red\n",
      "    ``'c'``          cyan\n",
      "    ``'m'``          magenta\n",
      "    ``'y'``          yellow\n",
      "    ``'k'``          black\n",
      "    ``'w'``          white\n",
      "    =============    ===============================\n",
      "    \n",
      "    and the ``'CN'`` colors that index into the default property cycle.\n",
      "    \n",
      "    If the color is the only part of the format string, you can\n",
      "    additionally use any  `matplotlib.colors` spec, e.g. full names\n",
      "    (``'green'``) or hex strings (``'#008000'``).\n",
      "\n",
      "None\n"
     ]
    }
   ],
   "source": [
    "import matplotlib.pyplot as plt\n",
    "\n",
    "\n",
    "fig, ax = plt.subplots()\n",
    "\n",
    "ax.plot(seattle_weather['MONTH'], seattle_weather['MLY-TAVG-NORMAL'], marker='o', linestyle='None', color='r')\n",
    "ax.plot(austin_weather['MONTH'], austin_weather['MLY-TAVG-NORMAL'], marker='v', linestyle='--')\n",
    "\n",
    "ax.set_xlabel('Time in monthes', fontsize=12)\n",
    "ax.set_ylabel('Temperature in F', fontsize=12)\n",
    "ax.set_title('10 year avg tem in each month', fontsize=14)\n",
    "\n",
    "plt.show()\n",
    "\n",
    "\n",
    "\n",
    "print(help(ax.plot))"
   ]
  },
  {
   "cell_type": "markdown",
   "id": "7173ad10-dff8-40f9-8712-61aacafb1ae6",
   "metadata": {},
   "source": [
    "## Customizing data appearance\n",
    "\n",
    "We can customize the appearance of data in our plots, while adding the data to the plot, using key-word arguments to the plot command.\n",
    "\n",
    "In this exercise, you will customize the appearance of the markers, the linestyle that is used, and the color of the lines and markers for your data.\n",
    "\n",
    "As before, the data is already provided in Pandas DataFrame objects loaded into memory: seattle_weather and austin_weather. These each have a \"MONTHS\" column and a \"MLY-PRCP-NORMAL\" that you will plot against each other.\n",
    "\n",
    "In addition, a Figure object named fig and an Axes object named ax have already been created for you.\n",
    "Instructions\n",
    "100 XP\n",
    "\n",
    "#    Call plt.plot to plot \"MLY-PRCP-NORMAL\" against \"MONTHS\" in both DataFrames.\n",
    "#    Pass the color key-word arguments to these commands to set the color of the Seattle data to blue ('b') and the Austin data to red ('r').\n",
    "#    Pass the marker key-word arguments to these commands to set the Seattle data to circle markers ('o') and the Austin markers to triangles pointing downwards ('v').\n",
    "#    Pass the linestyle key-word argument to use dashed lines for the data from both cities ('--').\n"
   ]
  },
  {
   "cell_type": "code",
   "execution_count": null,
   "id": "02f22351-540c-4f88-b575-17d918ca6ce1",
   "metadata": {},
   "outputs": [],
   "source": [
    "# Plot Seattle data, setting data appearance\n",
    "ax.plot(seattle_weather[\"MONTH\"], seattle_weather[\"MLY-PRCP-NORMAL\"], ____)\n",
    "\n",
    "# Plot Austin data, setting data appearance\n",
    "ax.plot(austin_weather[\"MONTH\"], austin_weather[\"MLY-PRCP-NORMAL\"], ____)\n",
    "\n",
    "# Call show to display the resulting plot\n",
    "plt.show()"
   ]
  },
  {
   "cell_type": "markdown",
   "id": "ace8d452-3b93-4ef3-9712-7211bfd90e3f",
   "metadata": {},
   "source": [
    "## Customizing axis labels and adding titles\n",
    "\n",
    "Customizing the axis labels requires using the set_xlabel and set_ylabel methods of the Axes object. Adding a title uses the set_title method.\n",
    "\n",
    "In this exercise, you will customize the content of the axis labels and add a title to a plot.\n",
    "\n",
    "As before, the data is already provided in Pandas DataFrame objects loaded into memory: seattle_weather and austin_weather. These each have a \"MONTH\" column and a \"MLY-PRCP-NORMAL\" column. These data are plotted against each other in the first two lines of the sample code provided.\n",
    "\n",
    "In addition, a Figure object named fig and an Axes object named ax have already been created for you.\n",
    "Instructions\n",
    "100 XP\n",
    "\n",
    "    Use the set_xlabel method to add the label: \"Time (months)\".\n",
    "    Use the set_ylabel method to add the label: \"Precipitation (inches)\".\n",
    "    Use the set_title method to add the title: \"Weather patterns in Austin and Seattle\".\n"
   ]
  },
  {
   "cell_type": "code",
   "execution_count": null,
   "id": "72be24cc-e907-424a-a22b-1929ebdca6cf",
   "metadata": {},
   "outputs": [],
   "source": [
    "import matplotlib.pyplot as plt\n",
    "\n",
    "\n",
    "fig, ax = plt.subplots()\n",
    "\n",
    "ax.plot(df1['MONTH'], df1['MLY-PRCP-NORMAL'], c='r', linestyle='None')\n",
    "\n",
    "\n",
    "ax.set_title('Weather patterns in Austin and Seattle')\n",
    "ax.set_xlabel('Bonjour this is xlabel')\n"
   ]
  },
  {
   "cell_type": "markdown",
   "id": "b726121a-b494-4fce-ae68-a04a83aa5fe4",
   "metadata": {},
   "source": [
    "## Small multiples\n",
    "\n",
    "\n",
    "\n",
    "\n",
    "\n",
    "**In some cases, adding more data to a plot can make the plot too busy, obscuring patterns rather than revealing them .  For example, lets explore the data we have about weather in Scattle \n",
    "\n"
   ]
  },
  {
   "cell_type": "code",
   "execution_count": null,
   "id": "7da9f5f2-1bf5-4f4d-adb3-771956d97f2a",
   "metadata": {},
   "outputs": [],
   "source": []
  },
  {
   "cell_type": "code",
   "execution_count": null,
   "id": "b1e187e6-0429-46cc-bc25-2986c06ca01c",
   "metadata": {},
   "outputs": [],
   "source": []
  },
  {
   "cell_type": "code",
   "execution_count": null,
   "id": "df683e11-0f56-4de9-a2e9-29ad448dd9d6",
   "metadata": {},
   "outputs": [],
   "source": []
  },
  {
   "cell_type": "code",
   "execution_count": null,
   "id": "b5588099-2b2a-4abc-a93a-7892db066399",
   "metadata": {},
   "outputs": [],
   "source": []
  },
  {
   "cell_type": "code",
   "execution_count": null,
   "id": "8ee32ace-c259-44b1-9b48-1263e14acd4c",
   "metadata": {},
   "outputs": [],
   "source": []
  },
  {
   "cell_type": "code",
   "execution_count": null,
   "id": "4c7b8838-690a-40bc-affc-461ae3471518",
   "metadata": {},
   "outputs": [],
   "source": []
  },
  {
   "cell_type": "code",
   "execution_count": null,
   "id": "6acfc8a2-a247-4cf5-97e8-b2c8bc3812df",
   "metadata": {},
   "outputs": [],
   "source": []
  },
  {
   "cell_type": "code",
   "execution_count": null,
   "id": "2c015f1f-cec2-4c0d-af3a-3bb01c7b4a86",
   "metadata": {},
   "outputs": [],
   "source": []
  },
  {
   "cell_type": "code",
   "execution_count": null,
   "id": "5dee8338-b6aa-44f5-8774-c190fc47587f",
   "metadata": {},
   "outputs": [],
   "source": []
  },
  {
   "cell_type": "code",
   "execution_count": null,
   "id": "8b351975-fea6-46fa-b4fa-fed045e3f662",
   "metadata": {},
   "outputs": [],
   "source": []
  },
  {
   "cell_type": "code",
   "execution_count": null,
   "id": "d538a72a-07b5-406b-a2d1-e9601c0084fa",
   "metadata": {},
   "outputs": [],
   "source": []
  },
  {
   "cell_type": "code",
   "execution_count": null,
   "id": "2e19c715-af46-4211-9746-23e2e7224004",
   "metadata": {},
   "outputs": [],
   "source": []
  },
  {
   "cell_type": "code",
   "execution_count": null,
   "id": "19f8494d-1f42-43f9-b840-ad0278fef0a5",
   "metadata": {},
   "outputs": [],
   "source": []
  },
  {
   "cell_type": "code",
   "execution_count": null,
   "id": "aa853f03-9fe3-4832-b458-d8d249ddd9df",
   "metadata": {},
   "outputs": [],
   "source": []
  },
  {
   "cell_type": "code",
   "execution_count": null,
   "id": "fe712a21-623f-4616-8311-56efd2d0f3c3",
   "metadata": {},
   "outputs": [],
   "source": []
  },
  {
   "cell_type": "code",
   "execution_count": null,
   "id": "4685dc1c-c1aa-422c-b7cb-d9de6158b224",
   "metadata": {},
   "outputs": [],
   "source": []
  },
  {
   "cell_type": "code",
   "execution_count": null,
   "id": "91aa666a-08b9-45c9-b980-1403d95e0990",
   "metadata": {},
   "outputs": [],
   "source": []
  },
  {
   "cell_type": "code",
   "execution_count": null,
   "id": "7391ac61-a426-42a9-a132-c804abfe31c0",
   "metadata": {},
   "outputs": [],
   "source": []
  },
  {
   "cell_type": "code",
   "execution_count": null,
   "id": "582751f1-3539-436d-a0d6-678740288f86",
   "metadata": {},
   "outputs": [],
   "source": []
  },
  {
   "cell_type": "code",
   "execution_count": null,
   "id": "c63a11d9-0df8-4d9c-9cba-ffa4902fd23c",
   "metadata": {},
   "outputs": [],
   "source": []
  },
  {
   "cell_type": "code",
   "execution_count": null,
   "id": "73d44c28-088a-4016-9917-51e99f9834a2",
   "metadata": {},
   "outputs": [],
   "source": []
  },
  {
   "cell_type": "code",
   "execution_count": null,
   "id": "8a7d7c96-7d52-4741-8c55-a394913704e4",
   "metadata": {},
   "outputs": [],
   "source": []
  },
  {
   "cell_type": "code",
   "execution_count": null,
   "id": "cbc5ef38-8e46-4201-86f2-6ed875a75adc",
   "metadata": {},
   "outputs": [],
   "source": []
  },
  {
   "cell_type": "code",
   "execution_count": null,
   "id": "d3d8fa4c-db70-421c-bbf1-2d1ac2c6b0be",
   "metadata": {},
   "outputs": [],
   "source": []
  },
  {
   "cell_type": "code",
   "execution_count": null,
   "id": "afc4dba1-10d9-447e-919e-62b70c81104f",
   "metadata": {},
   "outputs": [],
   "source": []
  },
  {
   "cell_type": "code",
   "execution_count": null,
   "id": "9dc4b90d-53e4-478d-8f17-002d68887901",
   "metadata": {},
   "outputs": [],
   "source": []
  },
  {
   "cell_type": "code",
   "execution_count": null,
   "id": "745b1931-8a69-4e70-9eb0-f1ec6ab46b17",
   "metadata": {},
   "outputs": [],
   "source": []
  },
  {
   "cell_type": "code",
   "execution_count": null,
   "id": "1c97d1d4-1cab-4f9b-b61c-b7ca3909bc88",
   "metadata": {},
   "outputs": [],
   "source": []
  },
  {
   "cell_type": "code",
   "execution_count": null,
   "id": "6abb46fa-bbf1-4707-8ff6-850301cd8751",
   "metadata": {},
   "outputs": [],
   "source": []
  },
  {
   "cell_type": "code",
   "execution_count": null,
   "id": "843a8811-3387-49a7-8d03-1c428ecd4ddb",
   "metadata": {},
   "outputs": [],
   "source": []
  },
  {
   "cell_type": "code",
   "execution_count": null,
   "id": "f416391e-a8a3-4173-9956-98c7e895800a",
   "metadata": {},
   "outputs": [],
   "source": []
  },
  {
   "cell_type": "code",
   "execution_count": null,
   "id": "a53a6d84-fb72-44c6-943a-7be1804e8f0b",
   "metadata": {},
   "outputs": [],
   "source": []
  },
  {
   "cell_type": "code",
   "execution_count": null,
   "id": "e23cd8b7-9c4c-4d84-b305-b8ffabdd5706",
   "metadata": {},
   "outputs": [],
   "source": []
  },
  {
   "cell_type": "code",
   "execution_count": null,
   "id": "c6b107d7-6caf-47e1-8e02-0d29babb24e0",
   "metadata": {},
   "outputs": [],
   "source": []
  },
  {
   "cell_type": "code",
   "execution_count": null,
   "id": "71f441e7-9c35-440d-be5a-f1dde7d910b2",
   "metadata": {},
   "outputs": [],
   "source": []
  },
  {
   "cell_type": "code",
   "execution_count": null,
   "id": "279e75cc-1d2c-42d7-ab1a-c3105315d62b",
   "metadata": {},
   "outputs": [],
   "source": []
  },
  {
   "cell_type": "code",
   "execution_count": null,
   "id": "51d64281-d326-4d10-b7e5-23d66b9f80e5",
   "metadata": {},
   "outputs": [],
   "source": []
  },
  {
   "cell_type": "code",
   "execution_count": null,
   "id": "02c8fd32-d40a-414c-9723-1ceee7955228",
   "metadata": {},
   "outputs": [],
   "source": []
  },
  {
   "cell_type": "code",
   "execution_count": null,
   "id": "e47eda46-c055-4e67-8c77-f4d06e46b13d",
   "metadata": {},
   "outputs": [],
   "source": []
  },
  {
   "cell_type": "code",
   "execution_count": null,
   "id": "de48d6fd-243c-4960-904a-0a99fded5bae",
   "metadata": {},
   "outputs": [],
   "source": []
  },
  {
   "cell_type": "code",
   "execution_count": null,
   "id": "3c45a4b6-fcf7-4be8-8063-433b110e785d",
   "metadata": {},
   "outputs": [],
   "source": []
  },
  {
   "cell_type": "code",
   "execution_count": null,
   "id": "ad023562-9a6e-4fef-b2ed-e913c3b227fd",
   "metadata": {},
   "outputs": [],
   "source": []
  },
  {
   "cell_type": "code",
   "execution_count": null,
   "id": "42ab259c-bb58-4375-8c19-af96bc0c86cf",
   "metadata": {},
   "outputs": [],
   "source": []
  },
  {
   "cell_type": "code",
   "execution_count": null,
   "id": "77640664-f2f5-4dab-85a8-d72b3cf30df3",
   "metadata": {},
   "outputs": [],
   "source": []
  },
  {
   "cell_type": "code",
   "execution_count": null,
   "id": "532d331a-e6fa-49c0-848d-93b09bbbff04",
   "metadata": {},
   "outputs": [],
   "source": []
  },
  {
   "cell_type": "code",
   "execution_count": null,
   "id": "aa48a1f6-b6bf-429c-bf6a-24f5c77b2b70",
   "metadata": {},
   "outputs": [],
   "source": []
  },
  {
   "cell_type": "code",
   "execution_count": null,
   "id": "4ec7ebd5-3d78-4877-8da5-ef5fe1bc2bee",
   "metadata": {},
   "outputs": [],
   "source": []
  },
  {
   "cell_type": "code",
   "execution_count": null,
   "id": "a7a0484a-1357-472e-b766-1c0a2c82980e",
   "metadata": {},
   "outputs": [],
   "source": []
  },
  {
   "cell_type": "code",
   "execution_count": null,
   "id": "b6ae1f9f-9a03-4539-a193-d60c09b0d94a",
   "metadata": {},
   "outputs": [],
   "source": []
  },
  {
   "cell_type": "code",
   "execution_count": null,
   "id": "72133047-0ca0-4de5-868e-6fae52ef1de3",
   "metadata": {},
   "outputs": [],
   "source": []
  },
  {
   "cell_type": "code",
   "execution_count": null,
   "id": "2282e8ef-fd14-486d-8439-6f65ede77212",
   "metadata": {},
   "outputs": [],
   "source": []
  },
  {
   "cell_type": "code",
   "execution_count": null,
   "id": "ca92c1cb-9ecc-40af-97e0-ea0c1848a843",
   "metadata": {},
   "outputs": [],
   "source": []
  },
  {
   "cell_type": "code",
   "execution_count": null,
   "id": "d2825b70-9c17-4fcc-98a1-23f88c0d688f",
   "metadata": {},
   "outputs": [],
   "source": []
  },
  {
   "cell_type": "code",
   "execution_count": null,
   "id": "e5068850-3f51-4731-9431-4d4e827f6b74",
   "metadata": {},
   "outputs": [],
   "source": []
  },
  {
   "cell_type": "code",
   "execution_count": null,
   "id": "768889df-e48c-4432-9c97-ab2cc22de028",
   "metadata": {},
   "outputs": [],
   "source": []
  },
  {
   "cell_type": "code",
   "execution_count": null,
   "id": "e95c317e-3f79-4d53-ab51-fc22f2eb2a1f",
   "metadata": {},
   "outputs": [],
   "source": []
  },
  {
   "cell_type": "code",
   "execution_count": null,
   "id": "794bc45d-a58b-49f3-b90f-ac78d69fa866",
   "metadata": {},
   "outputs": [],
   "source": []
  },
  {
   "cell_type": "code",
   "execution_count": null,
   "id": "36901ead-3982-4ff6-b9be-bf06b4fc132f",
   "metadata": {},
   "outputs": [],
   "source": []
  },
  {
   "cell_type": "code",
   "execution_count": null,
   "id": "8d412e74-3f1e-4458-8278-d562f4043a1a",
   "metadata": {},
   "outputs": [],
   "source": []
  },
  {
   "cell_type": "code",
   "execution_count": null,
   "id": "dc24a337-9943-48a9-afdf-7543980a67a4",
   "metadata": {},
   "outputs": [],
   "source": []
  },
  {
   "cell_type": "code",
   "execution_count": null,
   "id": "c347eef8-b3f9-4088-a2b6-5389f4d519b2",
   "metadata": {},
   "outputs": [],
   "source": []
  },
  {
   "cell_type": "code",
   "execution_count": null,
   "id": "2225fc05-411d-4f6e-b8be-9b103e9bca9e",
   "metadata": {},
   "outputs": [],
   "source": []
  },
  {
   "cell_type": "code",
   "execution_count": null,
   "id": "4f28b4fe-80cb-4ff5-bd83-c456119a9842",
   "metadata": {},
   "outputs": [],
   "source": []
  },
  {
   "cell_type": "code",
   "execution_count": null,
   "id": "d932b845-bb4e-4c12-9d44-d0a9d200ab7a",
   "metadata": {},
   "outputs": [],
   "source": []
  },
  {
   "cell_type": "code",
   "execution_count": null,
   "id": "d0a19acc-d747-45bb-9abf-67e8f46b6c92",
   "metadata": {},
   "outputs": [],
   "source": []
  },
  {
   "cell_type": "code",
   "execution_count": null,
   "id": "db119af1-3454-4d08-85c2-ed249dacda01",
   "metadata": {},
   "outputs": [],
   "source": []
  },
  {
   "cell_type": "code",
   "execution_count": null,
   "id": "edb952b3-552b-4f99-aa23-62335d76fb75",
   "metadata": {},
   "outputs": [],
   "source": []
  },
  {
   "cell_type": "code",
   "execution_count": null,
   "id": "df24f61b-7814-44d8-bab7-e09638d1b332",
   "metadata": {},
   "outputs": [],
   "source": []
  },
  {
   "cell_type": "code",
   "execution_count": null,
   "id": "1874515c-c816-43f2-bfbe-1b2b0c61195a",
   "metadata": {},
   "outputs": [],
   "source": []
  },
  {
   "cell_type": "code",
   "execution_count": null,
   "id": "3e9babef-a131-4092-8808-fbac8517c382",
   "metadata": {},
   "outputs": [],
   "source": []
  },
  {
   "cell_type": "code",
   "execution_count": null,
   "id": "1992ce33-0ec2-437f-a037-1ffc52046780",
   "metadata": {},
   "outputs": [],
   "source": []
  },
  {
   "cell_type": "code",
   "execution_count": null,
   "id": "424bb807-1c26-431e-85c5-51e6455b003b",
   "metadata": {},
   "outputs": [],
   "source": []
  },
  {
   "cell_type": "code",
   "execution_count": null,
   "id": "7e7b9d9c-c762-491f-9764-d4abc7895f60",
   "metadata": {},
   "outputs": [],
   "source": []
  },
  {
   "cell_type": "code",
   "execution_count": null,
   "id": "c1242921-d655-486c-a4c6-bd70ae4adef3",
   "metadata": {},
   "outputs": [],
   "source": []
  },
  {
   "cell_type": "code",
   "execution_count": null,
   "id": "9bd1c074-5ca8-4a38-acd7-f49dba324314",
   "metadata": {},
   "outputs": [],
   "source": []
  },
  {
   "cell_type": "code",
   "execution_count": null,
   "id": "8adf0e5d-9f11-45cd-a72d-fcbbaae7254a",
   "metadata": {},
   "outputs": [],
   "source": []
  },
  {
   "cell_type": "code",
   "execution_count": null,
   "id": "16ec2b7c-a360-4d93-b559-90cdd8adf4dc",
   "metadata": {},
   "outputs": [],
   "source": []
  },
  {
   "cell_type": "code",
   "execution_count": null,
   "id": "ade31216-07a4-44eb-a737-11821bf09d4d",
   "metadata": {},
   "outputs": [],
   "source": []
  },
  {
   "cell_type": "code",
   "execution_count": null,
   "id": "b95c7c36-a328-430b-a172-4fa43dbad94f",
   "metadata": {},
   "outputs": [],
   "source": []
  },
  {
   "cell_type": "code",
   "execution_count": null,
   "id": "ebe5cbe4-caf6-4cd3-84de-4fb6b839d3cf",
   "metadata": {},
   "outputs": [],
   "source": []
  },
  {
   "cell_type": "code",
   "execution_count": null,
   "id": "2bd9e9ad-7562-4935-ac0d-5c67adfe5c32",
   "metadata": {},
   "outputs": [],
   "source": []
  },
  {
   "cell_type": "code",
   "execution_count": null,
   "id": "bf369ddc-70c3-43bf-9efd-cbd175f8a923",
   "metadata": {},
   "outputs": [],
   "source": []
  },
  {
   "cell_type": "code",
   "execution_count": null,
   "id": "f710d5d6-16bc-43f0-a835-26937a599e6d",
   "metadata": {},
   "outputs": [],
   "source": []
  },
  {
   "cell_type": "code",
   "execution_count": null,
   "id": "cbba2d75-afde-4336-b5d5-b087518afc28",
   "metadata": {},
   "outputs": [],
   "source": []
  },
  {
   "cell_type": "code",
   "execution_count": null,
   "id": "83d8f8a0-fd0d-4a0a-aa6c-7198036b256c",
   "metadata": {},
   "outputs": [],
   "source": []
  },
  {
   "cell_type": "code",
   "execution_count": null,
   "id": "257a2ac4-808e-401a-af9c-8446f103a359",
   "metadata": {},
   "outputs": [],
   "source": []
  }
 ],
 "metadata": {
  "kernelspec": {
   "display_name": "Python 3 (ipykernel)",
   "language": "python",
   "name": "python3"
  },
  "language_info": {
   "codemirror_mode": {
    "name": "ipython",
    "version": 3
   },
   "file_extension": ".py",
   "mimetype": "text/x-python",
   "name": "python",
   "nbconvert_exporter": "python",
   "pygments_lexer": "ipython3",
   "version": "3.9.2"
  }
 },
 "nbformat": 4,
 "nbformat_minor": 5
}
