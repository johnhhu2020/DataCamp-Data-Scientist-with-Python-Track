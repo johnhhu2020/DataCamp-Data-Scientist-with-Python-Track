{
 "cells": [
  {
   "cell_type": "markdown",
   "id": "e7d47923-8d5d-4452-87aa-d54111eba404",
   "metadata": {},
   "source": [
    "## Python Data Science Toolbox (Part 1)\n",
    "&\n",
    "## Python Data Science Toolbox (Part 2)"
   ]
  },
  {
   "cell_type": "markdown",
   "id": "0e8f21b2-7ade-4721-9df1-e32cfa001d17",
   "metadata": {},
   "source": [
    "# Course Description\n",
    "\n",
    "It's time to push forward and develop your Python chops even further. There are tons of fantastic functions in Python and its library ecosystem. However, as a data scientist, you'll constantly need to write your own functions to solve problems that are dictated by your data. You will learn the art of function writing in this first Python Data Science Toolbox course. You'll come out of this course being able to write your very own custom functions, complete with multiple parameters and multiple return values, along with default arguments and variable-length arguments. You'll gain insight into scoping in Python and be able to write lambda functions and handle errors in your function writing practice. And you'll wrap up each chapter by using your new skills to write functions that analyze Twitter DataFrames."
   ]
  },
  {
   "cell_type": "markdown",
   "id": "720d5338-f97a-4f00-84e8-b84da1e1e3af",
   "metadata": {},
   "source": [
    "##  Writing your own functions\n",
    "Free\n",
    "7%\n",
    "\n",
    "In this chapter, you'll learn how to write simple functions, as well as functions that accept multiple arguments and return multiple values. You'll also have the opportunity to apply these new skills to questions commonly encountered by data scientists.\n",
    "\n",
    "    User-defined functions    50 xp\n",
    "    Strings in Python    50 xp\n",
    "    Recapping built-in functions    50 xp\n",
    "    Write a simple function    100 xp\n",
    "    Single-parameter functions    100 xp\n",
    "    Functions that return single values    100 xp\n",
    "    Multiple parameters and return values    50 xp\n",
    "    Functions with multiple parameters    100 xp\n",
    "    A brief introduction to tuples    100 xp\n",
    "    Functions that return multiple values    100 xp\n",
    "    Bringing it all together    50 xp\n",
    "    Bringing it all together (1)    100 xp\n",
    "    Bringing it all together (2)    100 xp\n",
    "    Congratulations!    50 xp \n",
    "    "
   ]
  },
  {
   "cell_type": "markdown",
   "id": "be8938f2-a1f9-45c3-9df2-fb79485596e1",
   "metadata": {},
   "source": [
    "##  Default arguments, variable-length arguments and scope\n",
    "0%\n",
    "\n",
    "In this chapter, you'll learn to write functions with default arguments so that the user doesn't always need to specify them, and variable-length arguments so they can pass an arbitrary number of arguments on to your functions. You'll also learn about the essential concept of scope.\n",
    "\n",
    "    Scope and user-defined functions    50 xp\n",
    "    Pop quiz on understanding scope    50 xp\n",
    "    The keyword global    100 xp\n",
    "    Python's built-in scope    50 xp\n",
    "    Nested functions    50 xp\n",
    "    Nested Functions I    100 xp\n",
    "    Nested Functions II    100 xp\n",
    "    The keyword nonlocal and nested functions    100 xp\n",
    "    Default and flexible arguments    50 xp\n",
    "    Functions with one default argument    100 xp\n",
    "    Functions with multiple default arguments    100 xp\n",
    "    Functions with variable-length arguments (*args)    100 xp\n",
    "    Functions with variable-length keyword arguments (**kwargs)    100 xp\n",
    "    Bringing it all together    50 xp\n",
    "    Bringing it all together (1)    100 xp\n",
    "    Bringing it all together (2)    100 xp \n",
    "    "
   ]
  },
  {
   "cell_type": "markdown",
   "id": "1d385243-06b4-405e-abe6-124e8a1af4de",
   "metadata": {},
   "source": [
    "##  Lambda functions and error-handling\n",
    "0%\n",
    "\n",
    "Learn about lambda functions, which allow you to write functions quickly and on the fly. You'll also practice handling errors in your functions, which is an essential skill. Then, apply your new skills to answer data science questions.\n",
    "\n",
    "    Lambda functions    50 xp\n",
    "    Pop quiz on lambda functions    50 xp\n",
    "    Writing a lambda function you already know    100 xp\n",
    "    Map() and lambda functions    100 xp\n",
    "    Filter() and lambda functions    100 xp\n",
    "    Reduce() and lambda functions    100 xp\n",
    "    Introduction to error handling    50 xp\n",
    "    Pop quiz about errors    50 xp\n",
    "    Error handling with try-except    100 xp\n",
    "    Error handling by raising an error    100 xp\n",
    "    Bringing it all together    50 xp\n",
    "    Bringing it all together (1)    100 xp\n",
    "    Bringing it all together (2)    100 xp\n",
    "    Bringing it all together (3)    100 xp\n",
    "    Bringing it all together: testing your error handling skills    50 xp\n",
    "    Congratulations!    50 xp\n"
   ]
  },
  {
   "cell_type": "code",
   "execution_count": null,
   "id": "fa8770cd-17b8-4922-94fd-09d8203d64b1",
   "metadata": {},
   "outputs": [],
   "source": []
  },
  {
   "cell_type": "markdown",
   "id": "4064b253-c4f0-42a1-b9a8-35b4d067a8b4",
   "metadata": {},
   "source": [
    "## Course Description\n",
    "\n",
    "In this second Python Data Science Toolbox course, you'll continue to build your Python data science skills. First, you'll learn about iterators, objects you have already encountered in the context of for loops. You'll then learn about list comprehensions, which are extremely handy tools for all data scientists working in Python. You'll end the course by working through a case study in which you'll apply all the techniques you learned in both parts of this course."
   ]
  },
  {
   "cell_type": "markdown",
   "id": "5eb59e77-1f04-49d2-a8b8-6a5aa9954c76",
   "metadata": {},
   "source": [
    "##  Using iterators in PythonLand\n",
    "Free\n",
    "0%\n",
    "\n",
    "You'll learn all about iterators and iterables, which you have already worked with when writing for loops. You'll learn some handy functions that will allow you to effectively work with iterators. And you’ll finish the chapter with a use case that is pertinent to the world of data science and dealing with large amounts of data—in this case, data from Twitter that you will load in chunks using iterators.\n",
    "\n",
    "    Introduction to iterators    50 xp\n",
    "    Iterators vs Iterables    50 xp\n",
    "    Iterating over iterables (1)    100 xp\n",
    "    Iterating over iterables (2)    100 xp\n",
    "    Iterators as function arguments    100 xp\n",
    "    Playing with iterators    50 xp\n",
    "    Using enumerate    100 xp\n",
    "    Using zip    100 xp\n",
    "    Using * and zip to 'unzip'    100 xp\n",
    "    Using iterators to load large files into memory    50 xp\n",
    "    Processing large amounts of Twitter data    100 xp\n",
    "    Extracting information for large amounts of Twitter data    100 xp\n",
    "    Congratulations!    50 xp \n",
    "    "
   ]
  },
  {
   "cell_type": "markdown",
   "id": "31232714-cd5f-4f8f-af20-b553970b2ca1",
   "metadata": {},
   "source": [
    "##  List comprehensions and generators\n",
    "0%\n",
    "\n",
    "In this chapter, you'll build on your knowledge of iterators and be introduced to list comprehensions, which allow you to create complicated lists—and lists of lists—in one line of code! List comprehensions can dramatically simplify your code and make it more efficient, and will become a vital part of your Python data science toolbox. You'll then learn about generators, which are extremely helpful when working with large sequences of data that you may not want to store in memory, but instead generate on the fly.\n",
    "\n",
    "    List comprehensions    50 xp\n",
    "    Write a basic list comprehension    50 xp\n",
    "    List comprehension over iterables    50 xp\n",
    "    Writing list comprehensions    100 xp\n",
    "    Nested list comprehensions    100 xp\n",
    "    Advanced comprehensions    50 xp\n",
    "    Using conditionals in comprehensions (1)    100 xp\n",
    "    Using conditionals in comprehensions (2)    100 xp\n",
    "    Dict comprehensions    100 xp\n",
    "    Introduction to generator expressions    50 xp\n",
    "    List comprehensions vs generators    50 xp\n",
    "    Write your own generator expressions    100 xp\n",
    "    Changing the output in generator expressions    100 xp\n",
    "    Build a generator    100 xp\n",
    "    Wrapping up comprehensions and generators.    50 xp\n",
    "    List comprehensions for time-stamped data    100 xp\n",
    "    Conditional list comprehensions for time-stamped data    100 xp \n",
    "    "
   ]
  },
  {
   "cell_type": "markdown",
   "id": "b741d9d5-27f4-4925-87d1-4966d9035680",
   "metadata": {},
   "source": [
    "##  Bringing it all together!\n",
    "0%\n",
    "\n",
    "This chapter will allow you to apply your newly acquired skills toward wrangling and extracting meaningful information from a real-world dataset—the World Bank's World Development Indicators. You'll have the chance to write your own functions and list comprehensions as you work with iterators and generators to solidify your Python data science chops.\n",
    "\n",
    "    Welcome to the case study!    50 xp\n",
    "    Dictionaries for data science    100 xp\n",
    "    Writing a function to help you    100 xp\n",
    "    Using a list comprehension    100 xp\n",
    "    Turning this all into a DataFrame    100 xp\n",
    "    Using Python generators for streaming data    50 xp\n",
    "    Processing data in chunks (1)    100 xp\n",
    "    Writing a generator to load data in chunks (2)    100 xp\n",
    "    Writing a generator to load data in chunks (3)    100 xp\n",
    "    Using pandas' read_csv iterator for streaming data    50 xp\n",
    "    Writing an iterator to load data in chunks (1)    100 xp\n",
    "    Writing an iterator to load data in chunks (2)    100 xp\n",
    "    Writing an iterator to load data in chunks (3)    100 xp\n",
    "    Writing an iterator to load data in chunks (4)    100 xp\n",
    "    Writing an iterator to load data in chunks (5)    100 xp\n",
    "    Final thoughts    50 xp\n"
   ]
  },
  {
   "cell_type": "code",
   "execution_count": null,
   "id": "fe10c7db-7757-42d2-9d01-cfd815215f60",
   "metadata": {},
   "outputs": [],
   "source": []
  },
  {
   "cell_type": "code",
   "execution_count": null,
   "id": "8ea4d176-0eab-482e-a309-587e3e8f3a72",
   "metadata": {},
   "outputs": [],
   "source": []
  },
  {
   "cell_type": "code",
   "execution_count": null,
   "id": "fb704fa5-82a0-4e9c-ba78-8dcba9519ec5",
   "metadata": {},
   "outputs": [],
   "source": []
  },
  {
   "cell_type": "code",
   "execution_count": null,
   "id": "8a4e88c0-94d4-4322-89c7-a620d0237c8e",
   "metadata": {},
   "outputs": [],
   "source": []
  },
  {
   "cell_type": "code",
   "execution_count": null,
   "id": "c25076e1-5c76-4231-a99f-0168ffb5c43d",
   "metadata": {},
   "outputs": [],
   "source": []
  },
  {
   "cell_type": "code",
   "execution_count": null,
   "id": "8dfacf21-3bc7-4348-86fd-6dab649e5eb4",
   "metadata": {},
   "outputs": [],
   "source": []
  },
  {
   "cell_type": "code",
   "execution_count": null,
   "id": "0508c61f-c29b-48de-a2fb-77f04e820a7d",
   "metadata": {},
   "outputs": [],
   "source": []
  },
  {
   "cell_type": "code",
   "execution_count": null,
   "id": "988d4b3b-526e-4a4f-b453-fe7105953646",
   "metadata": {},
   "outputs": [],
   "source": []
  },
  {
   "cell_type": "code",
   "execution_count": null,
   "id": "f61936fc-7244-4fbb-b31d-dd2203b11ea1",
   "metadata": {},
   "outputs": [],
   "source": []
  },
  {
   "cell_type": "code",
   "execution_count": null,
   "id": "09fc875c-a3ee-4081-8d07-443b9ade7ef3",
   "metadata": {},
   "outputs": [],
   "source": []
  },
  {
   "cell_type": "code",
   "execution_count": null,
   "id": "c6e4401f-0a6f-4158-ae95-feed129b9092",
   "metadata": {},
   "outputs": [],
   "source": []
  },
  {
   "cell_type": "code",
   "execution_count": null,
   "id": "01dd6dc9-d8b2-4497-8eea-fd79222f693e",
   "metadata": {},
   "outputs": [],
   "source": []
  },
  {
   "cell_type": "code",
   "execution_count": null,
   "id": "e5d88eb3-a94c-44cb-ac29-f918ff165e19",
   "metadata": {},
   "outputs": [],
   "source": []
  },
  {
   "cell_type": "code",
   "execution_count": null,
   "id": "3d15225a-3a13-4e28-bfc5-239f8efacb50",
   "metadata": {},
   "outputs": [],
   "source": []
  },
  {
   "cell_type": "code",
   "execution_count": null,
   "id": "687fe11a-c376-412a-b085-7192f1e4fdb3",
   "metadata": {},
   "outputs": [],
   "source": []
  },
  {
   "cell_type": "code",
   "execution_count": null,
   "id": "76a5da70-7804-4899-a487-be6e2fdf2588",
   "metadata": {},
   "outputs": [],
   "source": []
  },
  {
   "cell_type": "code",
   "execution_count": null,
   "id": "70ae3e84-89d1-4512-8299-76a87c3a8075",
   "metadata": {},
   "outputs": [],
   "source": []
  },
  {
   "cell_type": "code",
   "execution_count": null,
   "id": "fd7e4ce3-e8a2-44c4-8653-1eaa9f24ddd5",
   "metadata": {},
   "outputs": [],
   "source": []
  },
  {
   "cell_type": "code",
   "execution_count": null,
   "id": "14abf4c5-7159-4699-8a8e-ad77599f6e5e",
   "metadata": {},
   "outputs": [],
   "source": []
  },
  {
   "cell_type": "code",
   "execution_count": null,
   "id": "53e37aeb-dbc2-4341-a52e-5f818336b2e8",
   "metadata": {},
   "outputs": [],
   "source": []
  },
  {
   "cell_type": "code",
   "execution_count": null,
   "id": "cfecb79a-c6b5-4e5e-ad6e-7d5198c99da8",
   "metadata": {},
   "outputs": [],
   "source": []
  },
  {
   "cell_type": "code",
   "execution_count": null,
   "id": "6a8cf097-cbe5-4ffa-8549-0c4bfa0a3666",
   "metadata": {},
   "outputs": [],
   "source": []
  },
  {
   "cell_type": "code",
   "execution_count": null,
   "id": "0f5d61c8-4bbc-4c5f-9657-81fce452537b",
   "metadata": {},
   "outputs": [],
   "source": []
  },
  {
   "cell_type": "code",
   "execution_count": null,
   "id": "14524cad-ca27-4a28-a0f5-5e1e7b60e7ef",
   "metadata": {},
   "outputs": [],
   "source": []
  },
  {
   "cell_type": "code",
   "execution_count": null,
   "id": "245491df-df58-402b-9206-00bddfda556f",
   "metadata": {},
   "outputs": [],
   "source": []
  },
  {
   "cell_type": "code",
   "execution_count": null,
   "id": "76e7d395-4633-45aa-a59f-d8e243cf8aa2",
   "metadata": {},
   "outputs": [],
   "source": []
  },
  {
   "cell_type": "code",
   "execution_count": null,
   "id": "7250d96c-e4e9-48fc-8327-8ce633d48e0f",
   "metadata": {},
   "outputs": [],
   "source": []
  },
  {
   "cell_type": "code",
   "execution_count": null,
   "id": "2891f232-edca-488e-ba6e-8b13f1fdcf7f",
   "metadata": {},
   "outputs": [],
   "source": []
  },
  {
   "cell_type": "code",
   "execution_count": null,
   "id": "a08c7335-1a18-433b-899d-6926f8e8484d",
   "metadata": {},
   "outputs": [],
   "source": []
  },
  {
   "cell_type": "code",
   "execution_count": null,
   "id": "fb094d5f-c444-408e-81a9-3181608b2fc5",
   "metadata": {},
   "outputs": [],
   "source": []
  },
  {
   "cell_type": "code",
   "execution_count": null,
   "id": "fbe285c2-d9b7-40ed-9c43-b552514fb105",
   "metadata": {},
   "outputs": [],
   "source": []
  },
  {
   "cell_type": "code",
   "execution_count": null,
   "id": "947594a0-dadb-4915-9118-084a428da1d4",
   "metadata": {},
   "outputs": [],
   "source": []
  },
  {
   "cell_type": "code",
   "execution_count": null,
   "id": "7c8afe70-fe8f-4e6f-9b3d-eab595a0654c",
   "metadata": {},
   "outputs": [],
   "source": []
  },
  {
   "cell_type": "code",
   "execution_count": null,
   "id": "12c4bf5a-7439-4888-860f-057006eeb6e5",
   "metadata": {},
   "outputs": [],
   "source": []
  },
  {
   "cell_type": "code",
   "execution_count": null,
   "id": "2662500c-e7c8-4167-b7f9-f9ecbb6b761c",
   "metadata": {},
   "outputs": [],
   "source": []
  }
 ],
 "metadata": {
  "kernelspec": {
   "display_name": "Python 3 (ipykernel)",
   "language": "python",
   "name": "python3"
  },
  "language_info": {
   "codemirror_mode": {
    "name": "ipython",
    "version": 3
   },
   "file_extension": ".py",
   "mimetype": "text/x-python",
   "name": "python",
   "nbconvert_exporter": "python",
   "pygments_lexer": "ipython3",
   "version": "3.9.2"
  }
 },
 "nbformat": 4,
 "nbformat_minor": 5
}
