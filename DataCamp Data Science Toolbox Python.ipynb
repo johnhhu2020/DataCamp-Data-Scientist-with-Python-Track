{
 "cells": [
  {
   "cell_type": "markdown",
   "id": "e7d47923-8d5d-4452-87aa-d54111eba404",
   "metadata": {},
   "source": [
    "## Python Data Science Toolbox (Part 1)\n",
    "&\n",
    "## Python Data Science Toolbox (Part 2)"
   ]
  },
  {
   "cell_type": "markdown",
   "id": "0e8f21b2-7ade-4721-9df1-e32cfa001d17",
   "metadata": {},
   "source": [
    "# Course Description\n",
    "\n",
    "It's time to push forward and develop your Python chops even further. There are tons of fantastic functions in Python and its library ecosystem. However, as a data scientist, you'll constantly need to write your own functions to solve problems that are dictated by your data. You will learn the art of function writing in this first Python Data Science Toolbox course. You'll come out of this course being able to write your very own custom functions, complete with multiple parameters and multiple return values, along with default arguments and variable-length arguments. You'll gain insight into scoping in Python and be able to write lambda functions and handle errors in your function writing practice. And you'll wrap up each chapter by using your new skills to write functions that analyze Twitter DataFrames."
   ]
  },
  {
   "cell_type": "markdown",
   "id": "720d5338-f97a-4f00-84e8-b84da1e1e3af",
   "metadata": {},
   "source": [
    "##  Writing your own functions\n",
    "Free\n",
    "7%\n",
    "\n",
    "In this chapter, you'll learn how to write simple functions, as well as functions that accept multiple arguments and return multiple values. You'll also have the opportunity to apply these new skills to questions commonly encountered by data scientists.\n",
    "\n",
    "    User-defined functions    50 xp\n",
    "    Strings in Python    50 xp\n",
    "    Recapping built-in functions    50 xp\n",
    "    Write a simple function    100 xp\n",
    "    Single-parameter functions    100 xp\n",
    "    Functions that return single values    100 xp\n",
    "    Multiple parameters and return values    50 xp\n",
    "    Functions with multiple parameters    100 xp\n",
    "    A brief introduction to tuples    100 xp\n",
    "    Functions that return multiple values    100 xp\n",
    "    Bringing it all together    50 xp\n",
    "    Bringing it all together (1)    100 xp\n",
    "    Bringing it all together (2)    100 xp\n",
    "    Congratulations!    50 xp \n",
    "    "
   ]
  },
  {
   "cell_type": "markdown",
   "id": "be8938f2-a1f9-45c3-9df2-fb79485596e1",
   "metadata": {},
   "source": [
    "##  Default arguments, variable-length arguments and scope\n",
    "0%\n",
    "\n",
    "In this chapter, you'll learn to write functions with default arguments so that the user doesn't always need to specify them, and variable-length arguments so they can pass an arbitrary number of arguments on to your functions. You'll also learn about the essential concept of scope.\n",
    "\n",
    "    Scope and user-defined functions    50 xp\n",
    "    Pop quiz on understanding scope    50 xp\n",
    "    The keyword global    100 xp\n",
    "    Python's built-in scope    50 xp\n",
    "    Nested functions    50 xp\n",
    "    Nested Functions I    100 xp\n",
    "    Nested Functions II    100 xp\n",
    "    The keyword nonlocal and nested functions    100 xp\n",
    "    Default and flexible arguments    50 xp\n",
    "    Functions with one default argument    100 xp\n",
    "    Functions with multiple default arguments    100 xp\n",
    "    Functions with variable-length arguments (*args)    100 xp\n",
    "    Functions with variable-length keyword arguments (**kwargs)    100 xp\n",
    "    Bringing it all together    50 xp\n",
    "    Bringing it all together (1)    100 xp\n",
    "    Bringing it all together (2)    100 xp \n",
    "    "
   ]
  },
  {
   "cell_type": "markdown",
   "id": "1d385243-06b4-405e-abe6-124e8a1af4de",
   "metadata": {},
   "source": [
    "##  Lambda functions and error-handling\n",
    "0%\n",
    "\n",
    "Learn about lambda functions, which allow you to write functions quickly and on the fly. You'll also practice handling errors in your functions, which is an essential skill. Then, apply your new skills to answer data science questions.\n",
    "\n",
    "    Lambda functions    50 xp\n",
    "    Pop quiz on lambda functions    50 xp\n",
    "    Writing a lambda function you already know    100 xp\n",
    "    Map() and lambda functions    100 xp\n",
    "    Filter() and lambda functions    100 xp\n",
    "    Reduce() and lambda functions    100 xp\n",
    "    Introduction to error handling    50 xp\n",
    "    Pop quiz about errors    50 xp\n",
    "    Error handling with try-except    100 xp\n",
    "    Error handling by raising an error    100 xp\n",
    "    Bringing it all together    50 xp\n",
    "    Bringing it all together (1)    100 xp\n",
    "    Bringing it all together (2)    100 xp\n",
    "    Bringing it all together (3)    100 xp\n",
    "    Bringing it all together: testing your error handling skills    50 xp\n",
    "    Congratulations!    50 xp\n"
   ]
  },
  {
   "cell_type": "code",
   "execution_count": null,
   "id": "fa8770cd-17b8-4922-94fd-09d8203d64b1",
   "metadata": {},
   "outputs": [],
   "source": []
  },
  {
   "cell_type": "markdown",
   "id": "4064b253-c4f0-42a1-b9a8-35b4d067a8b4",
   "metadata": {},
   "source": [
    "## Course Description\n",
    "\n",
    "In this second Python Data Science Toolbox course, you'll continue to build your Python data science skills. First, you'll learn about iterators, objects you have already encountered in the context of for loops. You'll then learn about list comprehensions, which are extremely handy tools for all data scientists working in Python. You'll end the course by working through a case study in which you'll apply all the techniques you learned in both parts of this course."
   ]
  },
  {
   "cell_type": "markdown",
   "id": "5eb59e77-1f04-49d2-a8b8-6a5aa9954c76",
   "metadata": {},
   "source": [
    "##  Using iterators in PythonLand\n",
    "Free\n",
    "0%\n",
    "\n",
    "You'll learn all about iterators and iterables, which you have already worked with when writing for loops. You'll learn some handy functions that will allow you to effectively work with iterators. And you’ll finish the chapter with a use case that is pertinent to the world of data science and dealing with large amounts of data—in this case, data from Twitter that you will load in chunks using iterators.\n",
    "\n",
    "    Introduction to iterators    50 xp\n",
    "    Iterators vs Iterables    50 xp\n",
    "    Iterating over iterables (1)    100 xp\n",
    "    Iterating over iterables (2)    100 xp\n",
    "    Iterators as function arguments    100 xp\n",
    "    Playing with iterators    50 xp\n",
    "    Using enumerate    100 xp\n",
    "    Using zip    100 xp\n",
    "    Using * and zip to 'unzip'    100 xp\n",
    "    Using iterators to load large files into memory    50 xp\n",
    "    Processing large amounts of Twitter data    100 xp\n",
    "    Extracting information for large amounts of Twitter data    100 xp\n",
    "    Congratulations!    50 xp \n",
    "    "
   ]
  },
  {
   "cell_type": "markdown",
   "id": "31232714-cd5f-4f8f-af20-b553970b2ca1",
   "metadata": {},
   "source": [
    "##  List comprehensions and generators\n",
    "0%\n",
    "\n",
    "In this chapter, you'll build on your knowledge of iterators and be introduced to list comprehensions, which allow you to create complicated lists—and lists of lists—in one line of code! List comprehensions can dramatically simplify your code and make it more efficient, and will become a vital part of your Python data science toolbox. You'll then learn about generators, which are extremely helpful when working with large sequences of data that you may not want to store in memory, but instead generate on the fly.\n",
    "\n",
    "    List comprehensions    50 xp\n",
    "    Write a basic list comprehension    50 xp\n",
    "    List comprehension over iterables    50 xp\n",
    "    Writing list comprehensions    100 xp\n",
    "    Nested list comprehensions    100 xp\n",
    "    Advanced comprehensions    50 xp\n",
    "    Using conditionals in comprehensions (1)    100 xp\n",
    "    Using conditionals in comprehensions (2)    100 xp\n",
    "    Dict comprehensions    100 xp\n",
    "    Introduction to generator expressions    50 xp\n",
    "    List comprehensions vs generators    50 xp\n",
    "    Write your own generator expressions    100 xp\n",
    "    Changing the output in generator expressions    100 xp\n",
    "    Build a generator    100 xp\n",
    "    Wrapping up comprehensions and generators.    50 xp\n",
    "    List comprehensions for time-stamped data    100 xp\n",
    "    Conditional list comprehensions for time-stamped data    100 xp \n",
    "    "
   ]
  },
  {
   "cell_type": "markdown",
   "id": "b741d9d5-27f4-4925-87d1-4966d9035680",
   "metadata": {},
   "source": [
    "##  Bringing it all together!\n",
    "0%\n",
    "\n",
    "This chapter will allow you to apply your newly acquired skills toward wrangling and extracting meaningful information from a real-world dataset—the World Bank's World Development Indicators. You'll have the chance to write your own functions and list comprehensions as you work with iterators and generators to solidify your Python data science chops.\n",
    "\n",
    "    Welcome to the case study!    50 xp\n",
    "    Dictionaries for data science    100 xp\n",
    "    Writing a function to help you    100 xp\n",
    "    Using a list comprehension    100 xp\n",
    "    Turning this all into a DataFrame    100 xp\n",
    "    Using Python generators for streaming data    50 xp\n",
    "    Processing data in chunks (1)    100 xp\n",
    "    Writing a generator to load data in chunks (2)    100 xp\n",
    "    Writing a generator to load data in chunks (3)    100 xp\n",
    "    Using pandas' read_csv iterator for streaming data    50 xp\n",
    "    Writing an iterator to load data in chunks (1)    100 xp\n",
    "    Writing an iterator to load data in chunks (2)    100 xp\n",
    "    Writing an iterator to load data in chunks (3)    100 xp\n",
    "    Writing an iterator to load data in chunks (4)    100 xp\n",
    "    Writing an iterator to load data in chunks (5)    100 xp\n",
    "    Final thoughts    50 xp\n"
   ]
  },
  {
   "cell_type": "code",
   "execution_count": null,
   "id": "fe10c7db-7757-42d2-9d01-cfd815215f60",
   "metadata": {},
   "outputs": [],
   "source": []
  },
  {
   "cell_type": "markdown",
   "id": "e922c2ed-5a34-48a0-9f9b-ea24b7be1f84",
   "metadata": {},
   "source": [
    "## In this course, the first of the Python Data Science Toolbox courses, you'll learn how to write your very own functions and you'll have the opportunity to apply these newfound skills to questions that commonly arise in Data Science contexts.  \n",
    "\n",
    "Specifically,in this video and in the interactive exercises that follows it, you'll learn to do the following: Define a function without parameters, Define a function with single parameters, and Define a function that return a single value.  \n",
    "\n",
    "In the next section, you'll learn how to pass multiple arguments to functions, as well as return multiple values from them.  "
   ]
  },
  {
   "cell_type": "markdown",
   "id": "7a54b58e-1e33-4f5a-9ee3-974078abdf1d",
   "metadata": {},
   "source": [
    "Lets check out Python's build-in function str(), which accepts an object such as number and returns a string object.  \n",
    "\n",
    "As a data scientist, you'll need functions that have functionality specific to your needs.  (like I defined ff_sum() function in Efficient Python course last question.)  \n",
    "\n",
    "\n",
    "We'll now see how to define functions via an example, a function that squares a number.  \n",
    "  To define a function, we begin with the keyword def, followed by the function name (square in this example); This is then followed by a set of parentheses and a colon.  This piece of code is called function header.  \n",
    "  To complete the function definition, lets write the function body by squaring a value, say 4, and printing the output.  \n",
    "  Right now, our function does not have any parameters within the parentheses, we'll add them later.  \n",
    "  Now whenever this function is called, the code in the function body is run. "
   ]
  },
  {
   "cell_type": "code",
   "execution_count": 1,
   "id": "8a4e88c0-94d4-4322-89c7-a620d0237c8e",
   "metadata": {},
   "outputs": [
    {
     "name": "stdout",
     "output_type": "stream",
     "text": [
      "16\n"
     ]
    }
   ],
   "source": [
    "def square():    # <- Function Header\n",
    "    new_value = 4**2\n",
    "    print(new_value)\n",
    "    \n",
    "    \n",
    "square()"
   ]
  },
  {
   "cell_type": "markdown",
   "id": "ceccffcb-51ab-4f7b-be71-6d3d6994882c",
   "metadata": {},
   "source": [
    "We can add a parameter to the function definition in between the parentheses, here you see that we've added a parameter value and in the new function body, the new_value variable takes the square of value, which is then printed out.  We can now square any number that we pass to the function n_square as an argument.  \n",
    "\n",
    "# A quick word on parameters and arguments: when you define a function, you write parameters in the function header.  When you call the function, you pass arguments into the function.  \n"
   ]
  },
  {
   "cell_type": "code",
   "execution_count": 3,
   "id": "8dfacf21-3bc7-4348-86fd-6dab649e5eb4",
   "metadata": {},
   "outputs": [
    {
     "name": "stdout",
     "output_type": "stream",
     "text": [
      "144\n"
     ]
    }
   ],
   "source": [
    "def n_square(value):\n",
    "    new_value = value**2\n",
    "    print(new_value)\n",
    "    \n",
    "    \n",
    "n_square(12)"
   ]
  },
  {
   "cell_type": "markdown",
   "id": "0e0b0974-921d-4d17-aa1e-224dfed40151",
   "metadata": {},
   "source": [
    "you can have your function return the new value by adding the return keyword, followed by the value to return.  Now we can assign to a variable ss the result of the function call.  \n",
    "\n",
    "\n",
    "There is another essqntial aspectof writing functions in Python: docstrings.  It's used to describe what your function does, such as the computations it performs or its return values.  These descriptions serve as documentation for your function so that anyone who read your function's docstring understands what your function does, without having to trace through all the code in the function definition.  \n",
    "\n",
    "Function docstrings are placed in the immediate line after the function header and are placed in between triple quotation marks.  "
   ]
  },
  {
   "cell_type": "code",
   "execution_count": 6,
   "id": "988d4b3b-526e-4a4f-b453-fe7105953646",
   "metadata": {},
   "outputs": [
    {
     "name": "stdout",
     "output_type": "stream",
     "text": [
      "144\n"
     ]
    }
   ],
   "source": [
    "def n_square(value):\n",
    "    '''Return the square of a value\n",
    "    '''\n",
    "    new_value = value**2\n",
    "    return new_value\n",
    "    \n",
    "    \n",
    "ss = n_square(12)\n",
    "print(ss)"
   ]
  },
  {
   "cell_type": "markdown",
   "id": "2770067e-432e-4d56-bcf9-a9088f9fdcea",
   "metadata": {},
   "source": [
    "## Strings in Python\n",
    "\n",
    "In the video, you learned of another standard Python datatype, strings. Recall that these represent textual data. To assign the string 'DataCamp' to a variable company, you execute:\n",
    "\n",
    "company = 'DataCamp'\n",
    "\n",
    "You've also learned to use the operations + and * with strings. Unlike with numeric types such as ints and floats, the + operator concatenates strings together, while the * concatenates multiple copies of a string together. In this exercise, you will use the + and * operations on strings to answer the question below. Execute the following code in the shell:\n",
    "\n",
    "object1 = \"data\" + \"analysis\" + \"visualization\"\n",
    "object2 = 1 * 3\n",
    "object3 = \"1\" * 3\n",
    "\n",
    "What are the values in object1, object2, and object3, respectively?\n",
    "Instructions\n",
    "50 XP\n",
    "Possible Answers\n",
    "\n",
    "    object1 contains \"data + analysis + visualization\", object2 contains \"1*3\", object3 contains 13.\n",
    "    object1 contains \"data+analysis+visualization\", object2 contains 3, object3 contains \"13\".\n",
    "#    object1 contains \"dataanalysisvisualization\", object2 contains 3, object3 contains \"111\".\n"
   ]
  },
  {
   "cell_type": "markdown",
   "id": "00bf9094-7f89-42c2-9c52-14ba3d8866c2",
   "metadata": {},
   "source": [
    "## Recapping built-in functions\n",
    "\n",
    "In the video, Hugo briefly examined the return behavior of the built-in functions print() and str(). Here, you will use both functions and examine their return values. A variable x has been preloaded for this exercise. Run the code below in the console. Pay close attention to the results to answer the question that follows.\n",
    "\n",
    "    Assign str(x) to a variable y1: y1 = str(x)\n",
    "    Assign print(x) to a variable y2: y2 = print(x)\n",
    "    Check the types of the variables x, y1, and y2.\n",
    "\n",
    "What are the types of x, y1, and y2?\n",
    "Instructions\n",
    "50 XP\n",
    "Possible Answers\n",
    "\n",
    "    They are all str types.\n",
    "    x is a float, y1 is an float, and y2 is a str.\n",
    "#    x is a float, y1 is a str, and y2 is a NoneType.\n",
    "    They are all NoneType types.\n",
    "    \n",
    "In [1]:\n",
    "x\n",
    "Out[1]:\n",
    "4.89\n",
    "In [3]:\n",
    "y1 = str(x)\n",
    "In [4]:\n",
    "y2 = print(x)\n",
    "4.89\n",
    "In [5]:\n",
    "type(y2)\n",
    "Out[5]:\n",
    "NoneType"
   ]
  },
  {
   "cell_type": "markdown",
   "id": "60828f94-bdda-44f5-abf6-6efee0ff42bc",
   "metadata": {},
   "source": [
    "## Write a simple function\n",
    "\n",
    "In the last video, Hugo described the basics of how to define a function. You will now write your own function!\n",
    "\n",
    "Define a function, shout(), which simply prints out a string with three exclamation marks '!!!' at the end. The code for the square() function that we wrote earlier is found below. You can use it as a pattern to define shout().\n",
    "\n",
    "def square():\n",
    "    new_value = 4 ** 2\n",
    "    return new_value\n",
    "\n",
    "Note that the function body is indented 4 spaces already for you. Function bodies need to be indented by a consistent number of spaces and the choice of 4 is common.\n",
    "\n",
    "This course touches on a lot of concepts you may have forgotten, so if you ever need a quick refresher, download the Python for data science Cheat Sheet and keep it handy!\n",
    "Instructions\n",
    "100 XP\n",
    "\n",
    "    Complete the function header by adding the appropriate function name, shout.\n",
    "    In the function body, concatenate the string, 'congratulations' with another string, '!!!'. Assign the result to shout_word.\n",
    "    Print the value of shout_word.\n",
    "    Call the shout function.\n"
   ]
  },
  {
   "cell_type": "code",
   "execution_count": 7,
   "id": "01dd6dc9-d8b2-4497-8eea-fd79222f693e",
   "metadata": {},
   "outputs": [
    {
     "name": "stdout",
     "output_type": "stream",
     "text": [
      "congratulations!!!\n"
     ]
    }
   ],
   "source": [
    "# Define the function shout\n",
    "def shout():\n",
    "    \"\"\"Print a string with three exclamation marks\"\"\"\n",
    "    # Concatenate the strings: shout_word\n",
    "    shout_word = 'congratulations' + '!!!'\n",
    "\n",
    "    # Print shout_word\n",
    "    print(shout_word)\n",
    "\n",
    "# Call shout\n",
    "shout()"
   ]
  },
  {
   "cell_type": "markdown",
   "id": "90c4c27f-554c-462f-81d1-d9b8162e3156",
   "metadata": {},
   "source": [
    "## Single-parameter functions\n",
    "\n",
    "Congratulations! You have successfully defined and called your own function! That's pretty cool.\n",
    "\n",
    "In the previous exercise, you defined and called the function shout(), which printed out a string concatenated with '!!!'. You will now update shout() by adding a parameter so that it can accept and process any string argument passed to it. \n",
    "# Also note that shout(word), the part of the header that specifies the function name and parameter(s), is known as the signature of the function. You may encounter this term in the wild!\n",
    "Instructions\n",
    "100 XP\n",
    "\n",
    "    Complete the function header by adding the parameter name, word.\n",
    "    Assign the result of concatenating word with '!!!' to shout_word.\n",
    "    Print the value of shout_word.\n",
    "    Call the shout() function, passing to it the string, 'congratulations'.\n"
   ]
  },
  {
   "cell_type": "code",
   "execution_count": 11,
   "id": "3d15225a-3a13-4e28-bfc5-239f8efacb50",
   "metadata": {},
   "outputs": [
    {
     "name": "stdout",
     "output_type": "stream",
     "text": [
      "congratulations!!!\n"
     ]
    }
   ],
   "source": [
    "# Define shout with the parameter, word\n",
    "# *************************************************************************************************** #\n",
    "def shout(word):   # <- shout(word) is called the signature of the function\n",
    "    \"\"\"Print a string with three exclamation marks\"\"\"\n",
    "    # Concatenate the strings: shout_word\n",
    "    shout_word = word + '!!!'\n",
    "\n",
    "    # Print shout_word\n",
    "    print(shout_word)\n",
    "\n",
    "# Call shout with the string 'congratulations'\n",
    "shout('congratulations')"
   ]
  },
  {
   "cell_type": "markdown",
   "id": "749ff04c-cd84-4b8b-b724-1f65c94ffebc",
   "metadata": {},
   "source": [
    "## Functions that return single values\n",
    "\n",
    "You're getting very good at this! Try your hand at another modification to the shout() function so that it now returns a single value instead of printing within the function. Recall that the return keyword lets you return values from functions. Parts of the function shout(), which you wrote earlier, are shown. \n",
    "# Returning values is generally more desirable than printing them out because, as you saw earlier, a print() call assigned to a variable has type NoneType.\n",
    "Instructions\n",
    "100 XP\n",
    "\n",
    "    In the function body, concatenate the string in word with '!!!' and assign to shout_word.\n",
    "    Replace the print() statement with the appropriate return statement.\n",
    "    Call the shout() function, passing to it the string, 'congratulations', and assigning the call to the variable, yell.\n",
    "    To check if yell contains the value returned by shout(), print the value of yell.\n"
   ]
  },
  {
   "cell_type": "code",
   "execution_count": 13,
   "id": "76a5da70-7804-4899-a487-be6e2fdf2588",
   "metadata": {},
   "outputs": [
    {
     "name": "stdout",
     "output_type": "stream",
     "text": [
      "congratulations!!!\n",
      "<class 'str'>\n"
     ]
    }
   ],
   "source": [
    "# Define shout with the parameter, word\n",
    "def shout(word):\n",
    "    \"\"\"Return a string with three exclamation marks\"\"\"\n",
    "    # Concatenate the strings: shout_word\n",
    "    shout_word = word + '!!!'\n",
    "\n",
    "    # Replace print with return\n",
    "    return shout_word\n",
    "\n",
    "# Pass 'congratulations' to shout: yell\n",
    "yell = shout('congratulations')\n",
    "\n",
    "# Print yell\n",
    "print(yell)\n",
    "\n",
    "print(type(yell))"
   ]
  },
  {
   "cell_type": "markdown",
   "id": "50f38e18-69eb-4d31-8545-40e879a2e621",
   "metadata": {},
   "source": [
    "## Multiple parameters and return values\n",
    "\n",
    "\n",
    "\n",
    "# **At this point, you already know how to define your own functions and even return values from them.  What you'll learn next is how to pass multiple arguments to functions, as well as return not just one, but multiple values from them.  \n",
    "\n",
    "Let's tweak the square function we've been working on a little bit more.  Suppose that, instead of simply squaring a value, we'd like to raise a value to the power of another value that's also passed to the function.  We can do this by having our function accept two parameters instead of just one.  \n",
    "\n",
    "You should also changeyour function name and docstring to reflect this new behavior.  you can call the function by passing in two arguments because the function has two parameters, as declared in the function header.  The order in which the arguments are passed correspond to the order of the parameters in the function header.  \n",
    "This means that when we call raise_to_power(2, 3), when the function is executed, 2 would be assigned to value1 and 3 to value2.  Looking at the function body, this meansthat the computation value1 to the power of value2 translates to 2 to the power of 3.  This function call then returns the value 8.  \n",
    "\n"
   ]
  },
  {
   "cell_type": "code",
   "execution_count": 15,
   "id": "fd7e4ce3-e8a2-44c4-8653-1eaa9f24ddd5",
   "metadata": {},
   "outputs": [
    {
     "data": {
      "text/plain": [
       "81"
      ]
     },
     "execution_count": 15,
     "metadata": {},
     "output_type": "execute_result"
    }
   ],
   "source": [
    "def raise_to_power(value1, value2):\n",
    "    '''Raise value1 to the power of value2\n",
    "    '''\n",
    "    new_value = value1**value2\n",
    "    return new_value\n",
    "\n",
    "\n",
    "raise_to_power(3, 4)"
   ]
  },
  {
   "cell_type": "markdown",
   "id": "276c42f5-3afd-4fec-8822-d938bca913cd",
   "metadata": {},
   "source": [
    "# You can also make your function return multiple values, you can do that by constructing object known as tuples in your functions.  A tuple is like a list, in that it can contain multiple values.  There are some difference however. \n",
    "\n",
    "Firstly, unlike a list, a tuple is immutable, that is you cannot modify the values in a tuple once it has been constructed.  \n",
    "Secondly, while lists are defined using square brackets, tuples are constructed using a set of parentheses.  \n",
    "\n",
    "\n",
    "# Additionally, you can also access individual tuple elements like you do with lists.  \n",
    "Recall that with lists, you can use zero-indexing to access list elements. You can do the same thing with tuple. "
   ]
  },
  {
   "cell_type": "code",
   "execution_count": 20,
   "id": "53e37aeb-dbc2-4341-a52e-5f818336b2e8",
   "metadata": {},
   "outputs": [
    {
     "name": "stdout",
     "output_type": "stream",
     "text": [
      "1\n",
      "4\n",
      "[1, 2, 3, 4, 6, 8]\n",
      "4\n"
     ]
    }
   ],
   "source": [
    "my_tuple = (1, 2, 3, 4, 6, 8)\n",
    "[*aa] = my_tuple\n",
    "\n",
    "a,b,c,d,e,f = my_tuple\n",
    "\n",
    "print(a)\n",
    "print(d)\n",
    "print(aa)\n",
    "\n",
    "\n",
    "print(my_tuple[3])"
   ]
  },
  {
   "cell_type": "markdown",
   "id": "3fd7d87f-4d13-49f9-86e2-b33da6b7c16c",
   "metadata": {},
   "source": [
    "Lets now modify the behaviorof our raise function, insted of returning just the value1 raise to the power of value2, lets also return the value2 to the power of value1.  You thus need to make raise return two values insted of one.  We can now use what we know of tuples to do this.  \n",
    "\n",
    "\n",
    "We first change the name of our function and the docstring to reflect the new behavior of our function. \n",
    "We then in the function body, construct a tuple consisting of values we want the function to return, and also in the function body, we return the tuple.  \n",
    "\n",
    "Calling the function constructeddemonstrates that it does exactly what we want.  \n",
    "\n",
    "\n",
    "Now its your turn to play with writing functionthat accept multiple arguments and return multiple values.   "
   ]
  },
  {
   "cell_type": "code",
   "execution_count": 21,
   "id": "6a8cf097-cbe5-4ffa-8549-0c4bfa0a3666",
   "metadata": {},
   "outputs": [
    {
     "data": {
      "text/plain": [
       "(8, 9)"
      ]
     },
     "execution_count": 21,
     "metadata": {},
     "output_type": "execute_result"
    }
   ],
   "source": [
    "def raise_bose(value1, value2):\n",
    "    '''Raise value1 to the power of value2, and vice versa\n",
    "    '''\n",
    "    new_value1 = value1**value2\n",
    "    new_value2 = value2**value1\n",
    "    \n",
    "    new_tuple = (new_value1, new_value2)\n",
    "    \n",
    "    return new_tuple\n",
    "\n",
    "\n",
    "raise_bose(2, 3)"
   ]
  },
  {
   "cell_type": "markdown",
   "id": "dc1fcfbe-2275-4102-8c83-4c97d24a5268",
   "metadata": {},
   "source": [
    "## Functions with multiple parameters\n",
    "\n",
    "Hugo discussed the use of multiple parameters in defining functions in the last lecture. You are now going to use what you've learned to modify the shout() function further. Here, you will modify shout() to accept two arguments. Parts of the function shout(), which you wrote earlier, are shown.\n",
    "Instructions\n",
    "100 XP\n",
    "\n",
    "    Modify the function header such that it accepts two parameters, word1 and word2, in that order.\n",
    "    Concatenate each of word1 and word2 with '!!!' and assign to shout1 and shout2, respectively.\n",
    "    Concatenate shout1 and shout2 together, in that order, and assign to new_shout.\n",
    "    Pass the strings 'congratulations' and 'you', in that order, to a call to shout(). Assign the return value to yell.\n"
   ]
  },
  {
   "cell_type": "code",
   "execution_count": 23,
   "id": "14524cad-ca27-4a28-a0f5-5e1e7b60e7ef",
   "metadata": {},
   "outputs": [
    {
     "name": "stdout",
     "output_type": "stream",
     "text": [
      "('congratulations!!!', 'you!!!')\n"
     ]
    }
   ],
   "source": [
    "# Define shout with parameters word1 and word2\n",
    "def shout(word1, word2):\n",
    "    \"\"\"Concatenate strings with three exclamation marks\"\"\"\n",
    "    # Concatenate word1 with '!!!': shout1\n",
    "    shout1 = word1 + '!!!'\n",
    "    \n",
    "    # Concatenate word2 with '!!!': shout2\n",
    "    shout2 = word2 + '!!!'\n",
    "    \n",
    "    # Concatenate shout1 with shout2: new_shout\n",
    "    new_shout = (shout1, shout2)\n",
    "\n",
    "    # Return new_shout\n",
    "    return new_shout\n",
    "\n",
    "# Pass 'congratulations' and 'you' to shout(): yell\n",
    "yell = shout('congratulations', 'you')\n",
    "\n",
    "# Print yell\n",
    "print(yell)"
   ]
  },
  {
   "cell_type": "code",
   "execution_count": 27,
   "id": "245491df-df58-402b-9206-00bddfda556f",
   "metadata": {},
   "outputs": [
    {
     "name": "stdout",
     "output_type": "stream",
     "text": [
      "('congratulations!!!', 'you!!!')\n"
     ]
    }
   ],
   "source": [
    "# Define shout with parameters word1 and word2\n",
    "def shout(word1, word2):\n",
    "    \"\"\"Concatenate strings with three exclamation marks\"\"\"\n",
    "    # Concatenate word1 with '!!!': shout1\n",
    "    shout1 = word1 + '!!!'\n",
    "    \n",
    "    # Concatenate word2 with '!!!': shout2\n",
    "    shout2 = word2 + '!!!'\n",
    "    \n",
    "    # Concatenate shout1 with shout2: new_shout\n",
    "    new_shout = shout1, shout2     ### cause , is the key to construct a tuple, not the paretheses\n",
    "\n",
    "    # Return new_shout\n",
    "    return new_shout\n",
    "\n",
    "# Pass 'congratulations' and 'you' to shout(): yell\n",
    "yell = shout('congratulations', 'you')\n",
    "\n",
    "# Print yell\n",
    "print(yell)"
   ]
  },
  {
   "cell_type": "markdown",
   "id": "885805ee-7fe4-4bb5-bb7a-e5b5a4fcd248",
   "metadata": {},
   "source": [
    "## A brief introduction to tuples\n",
    "\n",
    "Alongside learning about functions, you've also learned about tuples! Here, you will practice what you've learned about tuples: how to construct, unpack, and access tuple elements. Recall how Hugo unpacked the tuple even_nums in the video:\n",
    "\n",
    "a, b, c = even_nums\n",
    "\n",
    "A three-element tuple named nums has been preloaded for this exercise. Before completing the script, perform the following:\n",
    "\n",
    "    Print out the value of nums in the IPython shell. Note the elements in the tuple.\n",
    "    In the IPython shell, try to change the first element of nums to the value 2 by doing an assignment: nums[0] = 2. What happens?\n",
    "\n",
    "Instructions\n",
    "100 XP\n",
    "\n",
    "    Unpack nums to the variables num1, num2, and num3.\n",
    "    Construct a new tuple, even_nums composed of the same elements in nums, but with the 1st element replaced with the value, 2.\n"
   ]
  },
  {
   "cell_type": "code",
   "execution_count": 32,
   "id": "7250d96c-e4e9-48fc-8327-8ce633d48e0f",
   "metadata": {},
   "outputs": [
    {
     "name": "stdout",
     "output_type": "stream",
     "text": [
      "(2, 4, 6)\n"
     ]
    }
   ],
   "source": [
    "nums = (3, 4, 6)\n",
    "\n",
    "\n",
    "num1, num2, num3 = nums\n",
    "\n",
    "\n",
    "\n",
    "# Construct even_nums\n",
    "even_nums = 2, num2, num3\n",
    "\n",
    "\n",
    "print(even_nums)"
   ]
  },
  {
   "cell_type": "markdown",
   "id": "bb6486a5-4933-4f06-a1c0-f6aadecc8d83",
   "metadata": {},
   "source": [
    "## Functions that return multiple values\n",
    "\n",
    "In the previous exercise, you constructed tuples, assigned tuples to variables, and unpacked tuples. Here you will return multiple values from a function using tuples. Let's now update our shout() function to return multiple values. Instead of returning just one string, we will return two strings with the string !!! concatenated to each.\n",
    "\n",
    "# ****************************************************************************************************\n",
    "# Note that the return statement return x, y has the same result as return (x, y): the former actually packs x and y into a tuple under the hood!\n",
    "Instructions\n",
    "100 XP\n",
    "\n",
    "    Modify the function header such that the function name is now shout_all, and it accepts two parameters, word1 and word2, in that order.\n",
    "    Concatenate the string '!!!' to each of word1 and word2 and assign to shout1 and shout2, respectively.\n",
    "    Construct a tuple shout_words, composed of shout1 and shout2.\n",
    "    Call shout_all() with the strings 'congratulations' and 'you' and assign the result to yell1 and yell2 (remember, shout_all() returns 2 variables!).\n"
   ]
  },
  {
   "cell_type": "code",
   "execution_count": 29,
   "id": "0c7992bd-13fa-4342-8bf7-349a1c5f4b23",
   "metadata": {},
   "outputs": [
    {
     "name": "stdout",
     "output_type": "stream",
     "text": [
      "congratulations!!!\n",
      "you!!!\n"
     ]
    }
   ],
   "source": [
    "# Define shout_all with parameters word1 and word2\n",
    "def shout_all(word1, word2):\n",
    "    '''Return a tuple of strings'''\n",
    "    # Concatenate word1 with '!!!': shout1\n",
    "    shout1 = word1 + '!!!'\n",
    "    \n",
    "    # Concatenate word2 with '!!!': shout2\n",
    "    shout2 = word2 + '!!!'\n",
    "    \n",
    "    # Construct a tuple with shout1 and shout2: shout_words\n",
    "    shout_words = shout1, shout2\n",
    "\n",
    "    # Return shout_words\n",
    "    return shout_words\n",
    "\n",
    "# Pass 'congratulations' and 'you' to shout_all(): yell1, yell2\n",
    "yell1, yell2 = shout_all('congratulations', 'you')\n",
    "\n",
    "# Print yell1 and yell2\n",
    "print(yell1)\n",
    "print(yell2)"
   ]
  },
  {
   "cell_type": "markdown",
   "id": "5e96b6d1-d40e-4688-b74d-70f7302a6474",
   "metadata": {},
   "source": [
    "## Bringing it all together\n",
    "\n",
    "\n",
    "\n",
    "**So now you're able to write functions that accept multiple parameters and return multiple values, it is time to see how these learnt skills can be valuable in a Data Science context.  In the following exercrises, you'll write a function that analyzes a DataFrame of Twitter data.  \n",
    "\n",
    "The function that you'll write will return a dictionary containing data of how many times each language was used across all the tweets in the DataFrame.  We'll see later in this course that we can generalize such a function to count occurances of any items in a DataFrame column.  \n",
    "\n",
    "\n",
    "\n",
    "Lets now recap the basic ingredients of a function.  \n",
    "We have a function header which begins with the keyword def, this is followedby the function name, parameters in parentheses and a colon.  \n",
    "We than have the function body, which contains docstrings enclosed in tiple quotation marks; docstrings describe what the function does; the rest of function body performs the computation that the function does; the function body then closes with the keyword return, followed by the value or values returned by the function.  \n",
    "\n",
    "\n",
    "Happy function writing\n"
   ]
  },
  {
   "cell_type": "markdown",
   "id": "55b72197-5bbe-400b-a162-9afed747c363",
   "metadata": {},
   "source": [
    "## Bringing it all together (1)\n",
    "\n",
    "You've got your first taste of writing your own functions in the previous exercises. You've learned how to add parameters to your own function definitions, return a value or multiple values with tuples, and how to call the functions you've defined.\n",
    "\n",
    "In this and the following exercise, you will bring together all these concepts and apply them to a simple data science problem. You will load a dataset and develop functionalities to extract simple insights from the data.\n",
    "\n",
    "For this exercise, your goal is to recall how to load a dataset into a DataFrame. The dataset contains Twitter data and you will iterate over entries in a column to build a dictionary in which the keys are the names of languages and the values are the number of tweets in the given language. The file tweets.csv is available in your current directory.\n",
    "\n",
    "Be aware that this is real data from Twitter and as such there is always a risk that it may contain profanity or other offensive content (in this exercise, and any following exercises that also use real Twitter data).\n",
    "Instructions\n",
    "100 XP\n",
    "\n",
    "    Import the pandas package with the alias pd.\n",
    "    Import the file 'tweets.csv' using the pandas function read_csv(). Assign the resulting DataFrame to df.\n",
    "    Complete the for loop by iterating over col, the 'lang' column in the DataFrame df.\n",
    "    Complete the bodies of the if-else statements in the for loop: if the key is in the dictionary langs_count, add 1 to the value corresponding to this key in the dictionary, else add the key to langs_count and set the corresponding value to 1. Use the loop variable entry in your code.\n"
   ]
  },
  {
   "cell_type": "code",
   "execution_count": null,
   "id": "7994d451-8b81-49c2-a30e-0ba141f042c1",
   "metadata": {},
   "outputs": [],
   "source": [
    "# Import pandas\n",
    "import pandas as pd\n",
    "\n",
    "# Import Twitter data as DataFrame: df\n",
    "df = pd.read_csv('tweets.csv')\n",
    "\n",
    "# Initialize an empty dictionary: langs_count\n",
    "langs_count = {}\n",
    "\n",
    "# Extract column from DataFrame: col\n",
    "col = df['lang']\n",
    "\n",
    "# Iterate over lang column in DataFrame\n",
    "for entry in col:\n",
    "\n",
    "    # If the language is in langs_count, add 1 \n",
    "    if entry in langs_count.keys():\n",
    "        langs_count[entry] += 1\n",
    "    # Else add the language to langs_count, set the value to 1\n",
    "    else:\n",
    "        langs_count[entry] = 1\n",
    "\n",
    "# Print the populated dictionary\n",
    "print(langs_count)\n",
    "\n",
    "\n",
    "# Return\n",
    "# {'en': 97, 'et': 1, 'und': 2}"
   ]
  },
  {
   "cell_type": "code",
   "execution_count": null,
   "id": "1747372e-a485-4eae-935c-78b04dce9e5e",
   "metadata": {},
   "outputs": [],
   "source": [
    "# df.columns\n",
    "\n",
    "# Return:\n",
    "#Index(['contributors', 'coordinates', 'created_at', 'entities', 'extended_entities', 'favorite_count', 'favorited', 'filter_level', 'geo', 'id', 'id_str', 'in_reply_to_screen_name',\n",
    "#       'in_reply_to_status_id', 'in_reply_to_status_id_str', 'in_reply_to_user_id', 'in_reply_to_user_id_str', 'is_quote_status', 'lang', 'place', 'possibly_sensitive', 'quoted_status',\n",
    "#       'quoted_status_id', 'quoted_status_id_str', 'retweet_count', 'retweeted', 'retweeted_status', 'source', 'text', 'timestamp_ms', 'truncated', 'user'],\n",
    "#      dtype='object')"
   ]
  },
  {
   "cell_type": "markdown",
   "id": "688874bb-5c9e-48bb-9a29-09c1135ea9fa",
   "metadata": {},
   "source": [
    "## Bringing it all together (2)\n",
    "\n",
    "Great job! You've now defined the functionality for iterating over entries in a column and building a dictionary with keys the names of languages and values the number of tweets in the given language.\n",
    "\n",
    "In this exercise, you will define a function with the functionality you developed in the previous exercise, return the resulting dictionary from within the function, and call the function with the appropriate arguments.\n",
    "\n",
    "For your convenience, the pandas package has been imported as pd and the 'tweets.csv' file has been imported into the tweets_df variable.\n",
    "Instructions\n",
    "100 XP\n",
    "\n",
    "    Define the function count_entries(), which has two parameters. The first parameter is df for the DataFrame and the second is col_name for the column name.\n",
    "    Complete the bodies of the if-else statements in the for loop: if the key is in the dictionary langs_count, add 1 to its current value, else add the key to langs_count and set its value to 1. Use the loop variable entry in your code.\n",
    "    Return the langs_count dictionary from inside the count_entries() function.\n",
    "    Call the count_entries() function by passing to it tweets_df and the name of the column, 'lang'. Assign the result of the call to the variable result.\n"
   ]
  },
  {
   "cell_type": "code",
   "execution_count": null,
   "id": "2a908459-923a-46a4-b793-624ea309fa8b",
   "metadata": {},
   "outputs": [],
   "source": [
    "# Define count_entries()\n",
    "# How can we take a DataFrame and a DF column name as input argument,  Think, Think, Think, \n",
    "# *************************************************************************************************** #\n",
    "def count_entries(df, col_name):\n",
    "    \"\"\"Return a dictionary with counts of \n",
    "    occurrences as value for each key.\"\"\"\n",
    "\n",
    "    # Initialize an empty dictionary: langs_count\n",
    "    langs_count = {}\n",
    "    \n",
    "    # Extract column from DataFrame: col\n",
    "    col = df[col_name]\n",
    "    \n",
    "    # Iterate over lang column in DataFrame\n",
    "    for entry in col:\n",
    "\n",
    "        # If the language is in langs_count, add 1\n",
    "        if entry in langs_count.keys():\n",
    "            langs_count[entry] += 1\n",
    "        # Else add the language to langs_count, set the value to 1\n",
    "        else:\n",
    "            langs_count[entry] = 1\n",
    "\n",
    "    # Return the langs_count dictionary\n",
    "    return langs_count\n",
    "\n",
    "# Call count_entries(): result\n",
    "result = count_entries(tweets_df, 'lang')\n",
    "\n",
    "# Print the result\n",
    "print(result)\n",
    "\n",
    "\n",
    "# Return:\n",
    "# {'en': 97, 'et': 1, 'und': 2}"
   ]
  },
  {
   "cell_type": "markdown",
   "id": "944fcdc9-15cf-42fd-afee-5afebda4cb50",
   "metadata": {},
   "source": [
    "## Congratulations!\n",
    "\n",
    "\n",
    "\n",
    "**Congratulations, you're now a bonafide Python function writer.  On top of that, you have just written you very first DataScience function.  At this point, although you can write basic functions, you've really touched the surface of function writing capabilities.  \n",
    "\n",
    "In the following chapter, you'll learn how to write functions that have default arguments so that when you call them, you dont always have to specify all the parameters, you'll learn how write functions that can accept an arbitrary number of parameters and how to nest functions within one another, on top of this, you'll learn how to handle errors when writing functions, which will make your functions as robust as they need to be.  \n",
    "\n",
    "Moreover, you'll see the importance of such techniques in DataScience by writing functions that are pertinent to the DataScience sphere like Twitter DataFrame analysis that you just performed.  \n"
   ]
  },
  {
   "cell_type": "code",
   "execution_count": null,
   "id": "05edd4bb-9eda-4dc2-b66e-f6df9d325ea8",
   "metadata": {},
   "outputs": [],
   "source": []
  },
  {
   "cell_type": "markdown",
   "id": "8435ae31-94d4-4ff9-9745-8f6684d65819",
   "metadata": {},
   "source": [
    "## Scope and user-defined functions\n",
    "\n",
    "\n",
    "\n",
    "**At this point, you know how to define your own functions - but not only that, you know how to write functions with multiple parameyters and can return multiple values using tuples.  \n",
    "\n",
    "\n",
    "# We'll now talk about the idea of scope in the context of user-defined functions. \n",
    "You've been defining variables in your programs and so far, you've been using these variables without any problems.  However, one of the thing you should know is that not all objects that you defined are always accessable everywhere in a program.  \n",
    "\n",
    "**Enter the idea of scope, which tells you which part of a program an object or a name may be accessed.  \n",
    "\n"
   ]
  },
  {
   "cell_type": "code",
   "execution_count": null,
   "id": "bb266ba0-39bc-4297-a583-b2687ccefcf8",
   "metadata": {},
   "outputs": [],
   "source": []
  },
  {
   "cell_type": "code",
   "execution_count": null,
   "id": "eb8b0f59-f56c-401e-8156-596d3b2b40c0",
   "metadata": {},
   "outputs": [],
   "source": []
  },
  {
   "cell_type": "code",
   "execution_count": null,
   "id": "6004a6e1-76fb-48d4-8f6c-43c803fa3488",
   "metadata": {},
   "outputs": [],
   "source": []
  },
  {
   "cell_type": "code",
   "execution_count": null,
   "id": "0ca070d1-8efe-4d44-85ad-bec50c329185",
   "metadata": {},
   "outputs": [],
   "source": []
  },
  {
   "cell_type": "code",
   "execution_count": null,
   "id": "fc748ed8-1f74-4c02-bada-99abfbf54351",
   "metadata": {},
   "outputs": [],
   "source": []
  },
  {
   "cell_type": "code",
   "execution_count": null,
   "id": "cbf7691e-9cda-4f07-8f3c-b9f29dfb5c06",
   "metadata": {},
   "outputs": [],
   "source": []
  },
  {
   "cell_type": "code",
   "execution_count": null,
   "id": "fd990bd5-f65a-4c5c-8ac4-784271335c1b",
   "metadata": {},
   "outputs": [],
   "source": []
  },
  {
   "cell_type": "code",
   "execution_count": null,
   "id": "008a56f7-0803-4d34-a234-e8d141e35b58",
   "metadata": {},
   "outputs": [],
   "source": []
  },
  {
   "cell_type": "code",
   "execution_count": null,
   "id": "ba1ddf59-b7f1-46cb-8db5-c6fe3342eea9",
   "metadata": {},
   "outputs": [],
   "source": []
  },
  {
   "cell_type": "code",
   "execution_count": null,
   "id": "02df706d-5366-4ceb-b33c-f35129c5cb5f",
   "metadata": {},
   "outputs": [],
   "source": []
  },
  {
   "cell_type": "code",
   "execution_count": null,
   "id": "7967a025-1a58-4190-ae9f-7b5ae8db8f90",
   "metadata": {},
   "outputs": [],
   "source": []
  },
  {
   "cell_type": "code",
   "execution_count": null,
   "id": "ab9460a1-c10c-4667-bc51-dc98a007096a",
   "metadata": {},
   "outputs": [],
   "source": []
  },
  {
   "cell_type": "code",
   "execution_count": null,
   "id": "4f48d692-449b-42b0-8d1e-16670d2651a3",
   "metadata": {},
   "outputs": [],
   "source": []
  },
  {
   "cell_type": "code",
   "execution_count": null,
   "id": "2630172f-c0b1-4ba9-819f-edebd4d4026f",
   "metadata": {},
   "outputs": [],
   "source": []
  },
  {
   "cell_type": "code",
   "execution_count": null,
   "id": "cbd4dea9-8197-44be-9939-6efcfce17bd3",
   "metadata": {},
   "outputs": [],
   "source": []
  },
  {
   "cell_type": "code",
   "execution_count": null,
   "id": "03a104b4-9c37-4990-a049-049cdec1a6e8",
   "metadata": {},
   "outputs": [],
   "source": []
  },
  {
   "cell_type": "code",
   "execution_count": null,
   "id": "c0dbe4c0-866d-4345-a589-eae610e66d2f",
   "metadata": {},
   "outputs": [],
   "source": []
  },
  {
   "cell_type": "code",
   "execution_count": null,
   "id": "47e4f15d-d57c-4352-9d6c-297619b61e70",
   "metadata": {},
   "outputs": [],
   "source": []
  },
  {
   "cell_type": "code",
   "execution_count": null,
   "id": "2b667e21-0bf5-45b3-9fd1-b8359b852a39",
   "metadata": {},
   "outputs": [],
   "source": []
  },
  {
   "cell_type": "code",
   "execution_count": null,
   "id": "9b5e8901-ace7-419c-9147-470a6dfd183d",
   "metadata": {},
   "outputs": [],
   "source": []
  },
  {
   "cell_type": "code",
   "execution_count": null,
   "id": "1b2316e6-bf8e-4d02-a80a-f36619bc516e",
   "metadata": {},
   "outputs": [],
   "source": []
  },
  {
   "cell_type": "code",
   "execution_count": null,
   "id": "e1112e4e-44bf-4d17-8cab-4c6a25e330bd",
   "metadata": {},
   "outputs": [],
   "source": []
  },
  {
   "cell_type": "code",
   "execution_count": null,
   "id": "aac5ef12-14f5-4565-ba88-68f5b0f82fde",
   "metadata": {},
   "outputs": [],
   "source": []
  },
  {
   "cell_type": "code",
   "execution_count": null,
   "id": "ecf1c3d3-41ae-4d4b-a705-2fe984ba4926",
   "metadata": {},
   "outputs": [],
   "source": []
  },
  {
   "cell_type": "code",
   "execution_count": null,
   "id": "5060be0a-95d2-4a71-a0da-17c2ff60b37c",
   "metadata": {},
   "outputs": [],
   "source": []
  },
  {
   "cell_type": "code",
   "execution_count": null,
   "id": "1d2a5fa5-272f-4093-8fed-5bdd77809e74",
   "metadata": {},
   "outputs": [],
   "source": []
  },
  {
   "cell_type": "code",
   "execution_count": null,
   "id": "0fb59eab-558c-41d0-954c-c7e04a535a4e",
   "metadata": {},
   "outputs": [],
   "source": []
  },
  {
   "cell_type": "code",
   "execution_count": null,
   "id": "6daf3525-0ef6-40d3-8561-152dcaf73814",
   "metadata": {},
   "outputs": [],
   "source": []
  },
  {
   "cell_type": "code",
   "execution_count": null,
   "id": "edf4afab-d711-4a8d-8b14-de2b4e9eb71a",
   "metadata": {},
   "outputs": [],
   "source": []
  },
  {
   "cell_type": "code",
   "execution_count": null,
   "id": "36dce30f-e6eb-432c-a140-a235cf763f41",
   "metadata": {},
   "outputs": [],
   "source": []
  },
  {
   "cell_type": "code",
   "execution_count": null,
   "id": "bf17a41f-b121-46a5-8f30-b2bf4d672a92",
   "metadata": {},
   "outputs": [],
   "source": []
  },
  {
   "cell_type": "code",
   "execution_count": null,
   "id": "91893d82-bb35-4357-bb20-013f6c9316af",
   "metadata": {},
   "outputs": [],
   "source": []
  },
  {
   "cell_type": "code",
   "execution_count": null,
   "id": "18e49e11-456c-49bb-a6e4-62a42e67ffa1",
   "metadata": {},
   "outputs": [],
   "source": []
  },
  {
   "cell_type": "code",
   "execution_count": null,
   "id": "ba2f8694-9251-48c4-bf60-71dd76f25d28",
   "metadata": {},
   "outputs": [],
   "source": []
  },
  {
   "cell_type": "code",
   "execution_count": null,
   "id": "bc2d3c62-0333-4af4-8d8d-cddb9bc67ce5",
   "metadata": {},
   "outputs": [],
   "source": []
  },
  {
   "cell_type": "code",
   "execution_count": null,
   "id": "ed3ce31b-e6e3-4433-9ff8-b2334ab1dae4",
   "metadata": {},
   "outputs": [],
   "source": []
  },
  {
   "cell_type": "code",
   "execution_count": null,
   "id": "25e799f0-7548-4300-8db6-b722723806dc",
   "metadata": {},
   "outputs": [],
   "source": []
  },
  {
   "cell_type": "code",
   "execution_count": null,
   "id": "5bd20c7e-755a-47b1-a123-4185d983cdf5",
   "metadata": {},
   "outputs": [],
   "source": []
  },
  {
   "cell_type": "code",
   "execution_count": null,
   "id": "eb65cd75-82c9-4056-a87b-08f83dc8022d",
   "metadata": {},
   "outputs": [],
   "source": []
  },
  {
   "cell_type": "code",
   "execution_count": null,
   "id": "ffc6240e-37ee-4e10-8db8-b96cadd25465",
   "metadata": {},
   "outputs": [],
   "source": []
  },
  {
   "cell_type": "code",
   "execution_count": null,
   "id": "0ee4698c-b07e-4d8b-8e84-3b9b8d01ff62",
   "metadata": {},
   "outputs": [],
   "source": []
  },
  {
   "cell_type": "code",
   "execution_count": null,
   "id": "056cb83e-c4cc-4339-9f7d-36918272934b",
   "metadata": {},
   "outputs": [],
   "source": []
  },
  {
   "cell_type": "code",
   "execution_count": null,
   "id": "29f220b7-771d-4723-83fb-af31e07e16bf",
   "metadata": {},
   "outputs": [],
   "source": []
  },
  {
   "cell_type": "code",
   "execution_count": null,
   "id": "a7a1dc9f-516d-4aa3-8ceb-fba10dd880f6",
   "metadata": {},
   "outputs": [],
   "source": []
  },
  {
   "cell_type": "code",
   "execution_count": null,
   "id": "d4a275b7-16c4-4698-bee6-e2188e854c05",
   "metadata": {},
   "outputs": [],
   "source": []
  },
  {
   "cell_type": "code",
   "execution_count": null,
   "id": "fde39cc3-31ce-46e3-a797-a1e78f081864",
   "metadata": {},
   "outputs": [],
   "source": []
  },
  {
   "cell_type": "code",
   "execution_count": null,
   "id": "d0e98d06-d2b2-48c5-84d9-33b2512a4029",
   "metadata": {},
   "outputs": [],
   "source": []
  },
  {
   "cell_type": "code",
   "execution_count": null,
   "id": "daba800d-a48c-40b0-936c-8f1304f48fa0",
   "metadata": {},
   "outputs": [],
   "source": []
  },
  {
   "cell_type": "code",
   "execution_count": null,
   "id": "7a327a44-1da8-422e-a1c6-98da37c6de67",
   "metadata": {},
   "outputs": [],
   "source": []
  },
  {
   "cell_type": "code",
   "execution_count": null,
   "id": "15274f5e-54aa-4e1b-b3e3-c1758d553276",
   "metadata": {},
   "outputs": [],
   "source": []
  },
  {
   "cell_type": "code",
   "execution_count": null,
   "id": "dafa8c59-7011-4822-9315-1292deb608f0",
   "metadata": {},
   "outputs": [],
   "source": []
  },
  {
   "cell_type": "code",
   "execution_count": null,
   "id": "c035478a-d3fe-49d3-8f4c-1c024b92900e",
   "metadata": {},
   "outputs": [],
   "source": []
  },
  {
   "cell_type": "code",
   "execution_count": null,
   "id": "5ac7c988-580e-41ee-942c-687317ecb8a5",
   "metadata": {},
   "outputs": [],
   "source": []
  },
  {
   "cell_type": "code",
   "execution_count": null,
   "id": "a8fbbd62-0df3-499a-b562-0d1185ea72e9",
   "metadata": {},
   "outputs": [],
   "source": []
  },
  {
   "cell_type": "code",
   "execution_count": null,
   "id": "ccce2dff-d3ec-4e96-a77a-062140c5d50e",
   "metadata": {},
   "outputs": [],
   "source": []
  },
  {
   "cell_type": "code",
   "execution_count": null,
   "id": "b9afe764-282a-47b6-bff5-285f81b11ff4",
   "metadata": {},
   "outputs": [],
   "source": []
  },
  {
   "cell_type": "code",
   "execution_count": null,
   "id": "9acff72c-c92d-41f7-942f-591a2b7c9629",
   "metadata": {},
   "outputs": [],
   "source": []
  },
  {
   "cell_type": "code",
   "execution_count": null,
   "id": "b0924032-cc98-4bc3-b4a5-bc10f88c372c",
   "metadata": {},
   "outputs": [],
   "source": []
  },
  {
   "cell_type": "code",
   "execution_count": null,
   "id": "9a06483d-0a8b-4b9f-bab8-bb7d9cbe9a99",
   "metadata": {},
   "outputs": [],
   "source": []
  },
  {
   "cell_type": "code",
   "execution_count": null,
   "id": "1e46e8f5-bfbf-43fa-86e2-a3ab86d99415",
   "metadata": {},
   "outputs": [],
   "source": []
  },
  {
   "cell_type": "code",
   "execution_count": null,
   "id": "84d63cd1-b67a-4ec5-9b44-d7fe88d15908",
   "metadata": {},
   "outputs": [],
   "source": []
  },
  {
   "cell_type": "code",
   "execution_count": null,
   "id": "d2ca21cd-ac76-4a39-b63c-82eceeaaf918",
   "metadata": {},
   "outputs": [],
   "source": []
  },
  {
   "cell_type": "code",
   "execution_count": null,
   "id": "467e7c04-a413-4b98-8e90-e027d4d55dfd",
   "metadata": {},
   "outputs": [],
   "source": []
  },
  {
   "cell_type": "code",
   "execution_count": null,
   "id": "1d79e507-f185-49dc-a3da-231326ab05ae",
   "metadata": {},
   "outputs": [],
   "source": []
  },
  {
   "cell_type": "code",
   "execution_count": null,
   "id": "2988f35e-b291-4488-8297-9641928d806d",
   "metadata": {},
   "outputs": [],
   "source": []
  },
  {
   "cell_type": "code",
   "execution_count": null,
   "id": "de426890-9a07-46be-8653-e29f9ac0948d",
   "metadata": {},
   "outputs": [],
   "source": []
  },
  {
   "cell_type": "code",
   "execution_count": null,
   "id": "05dfe3c7-7b98-42da-aac2-fa0e6c358f81",
   "metadata": {},
   "outputs": [],
   "source": []
  },
  {
   "cell_type": "code",
   "execution_count": null,
   "id": "9d0ad8c8-5439-40ff-aaf6-47c42d57e5f1",
   "metadata": {},
   "outputs": [],
   "source": []
  },
  {
   "cell_type": "code",
   "execution_count": null,
   "id": "e821659c-4f9f-440e-8c56-b2cc35b77182",
   "metadata": {},
   "outputs": [],
   "source": []
  },
  {
   "cell_type": "code",
   "execution_count": null,
   "id": "f94db16b-a945-4867-b491-78ede3730e68",
   "metadata": {},
   "outputs": [],
   "source": []
  },
  {
   "cell_type": "code",
   "execution_count": null,
   "id": "37296b50-c9d1-45df-aa6f-dc0995ce4c15",
   "metadata": {},
   "outputs": [],
   "source": []
  },
  {
   "cell_type": "code",
   "execution_count": null,
   "id": "37088909-6265-40fa-9bfd-050e374c91fe",
   "metadata": {},
   "outputs": [],
   "source": []
  },
  {
   "cell_type": "code",
   "execution_count": null,
   "id": "a91977ee-9551-414b-90f6-4666523c8b2f",
   "metadata": {},
   "outputs": [],
   "source": []
  },
  {
   "cell_type": "code",
   "execution_count": null,
   "id": "08bcc1d9-3d68-418f-98ae-0285898f9dd8",
   "metadata": {},
   "outputs": [],
   "source": []
  },
  {
   "cell_type": "code",
   "execution_count": null,
   "id": "64e0825e-f910-46b5-81e3-e960828cf9ce",
   "metadata": {},
   "outputs": [],
   "source": []
  },
  {
   "cell_type": "code",
   "execution_count": null,
   "id": "26c40a0f-cdd1-43bb-8902-d448f469f3a3",
   "metadata": {},
   "outputs": [],
   "source": []
  },
  {
   "cell_type": "code",
   "execution_count": null,
   "id": "8851eed9-4c26-4de2-9c44-150cb11c3b28",
   "metadata": {},
   "outputs": [],
   "source": []
  },
  {
   "cell_type": "code",
   "execution_count": null,
   "id": "31a133eb-b5bb-4290-bc6b-4685cf4eb0ce",
   "metadata": {},
   "outputs": [],
   "source": []
  },
  {
   "cell_type": "code",
   "execution_count": null,
   "id": "2e326198-f769-4a41-a242-f6a399a26491",
   "metadata": {},
   "outputs": [],
   "source": []
  },
  {
   "cell_type": "code",
   "execution_count": null,
   "id": "0b49521b-1f16-4a00-afc8-815e9af5e959",
   "metadata": {},
   "outputs": [],
   "source": []
  },
  {
   "cell_type": "code",
   "execution_count": null,
   "id": "64b3b550-86d9-4967-9463-4b1015df7b5b",
   "metadata": {},
   "outputs": [],
   "source": []
  },
  {
   "cell_type": "code",
   "execution_count": null,
   "id": "77055bbb-bd0c-4d69-9bf5-110be5e5f2d1",
   "metadata": {},
   "outputs": [],
   "source": []
  },
  {
   "cell_type": "code",
   "execution_count": null,
   "id": "e67c4c0f-c4bc-4e37-8a73-2a15bd4f9d2a",
   "metadata": {},
   "outputs": [],
   "source": []
  },
  {
   "cell_type": "code",
   "execution_count": null,
   "id": "1c6a309e-553e-4f36-a7e5-b79aa30c2332",
   "metadata": {},
   "outputs": [],
   "source": []
  },
  {
   "cell_type": "code",
   "execution_count": null,
   "id": "f7043e68-801f-4f62-862a-17b24bc7f924",
   "metadata": {},
   "outputs": [],
   "source": []
  },
  {
   "cell_type": "code",
   "execution_count": null,
   "id": "d9beceae-174b-4fa1-9003-213f850d2ac3",
   "metadata": {},
   "outputs": [],
   "source": []
  },
  {
   "cell_type": "code",
   "execution_count": null,
   "id": "acfb5d9b-cfa8-417d-93d9-6569019a284c",
   "metadata": {},
   "outputs": [],
   "source": []
  },
  {
   "cell_type": "code",
   "execution_count": null,
   "id": "77f456fc-85fb-484e-83d1-43cadee1deb7",
   "metadata": {},
   "outputs": [],
   "source": []
  },
  {
   "cell_type": "code",
   "execution_count": null,
   "id": "fae1eba0-36b8-4ac5-8e58-b143f5114e1c",
   "metadata": {},
   "outputs": [],
   "source": []
  },
  {
   "cell_type": "code",
   "execution_count": null,
   "id": "66dd29c0-6e67-46b0-9538-0fe5ff4dbd35",
   "metadata": {},
   "outputs": [],
   "source": []
  },
  {
   "cell_type": "code",
   "execution_count": null,
   "id": "c7c5b525-c1f8-47eb-94ac-270afb39f27c",
   "metadata": {},
   "outputs": [],
   "source": []
  },
  {
   "cell_type": "code",
   "execution_count": null,
   "id": "cab351b5-3b41-41ac-8770-67cec80b8c14",
   "metadata": {},
   "outputs": [],
   "source": []
  },
  {
   "cell_type": "code",
   "execution_count": null,
   "id": "1816d10f-7070-4749-9e33-11ee2103efbb",
   "metadata": {},
   "outputs": [],
   "source": []
  },
  {
   "cell_type": "code",
   "execution_count": null,
   "id": "4fd88ffd-a893-447b-9475-e308153bff2a",
   "metadata": {},
   "outputs": [],
   "source": []
  },
  {
   "cell_type": "code",
   "execution_count": null,
   "id": "ebf6ac74-007e-44a5-845f-e81d30c92033",
   "metadata": {},
   "outputs": [],
   "source": []
  },
  {
   "cell_type": "code",
   "execution_count": null,
   "id": "c1da0f52-e23a-418c-881a-3aa2085b313a",
   "metadata": {},
   "outputs": [],
   "source": []
  },
  {
   "cell_type": "code",
   "execution_count": null,
   "id": "c0efa3c4-5c73-4908-bd7d-e7116ec693fe",
   "metadata": {},
   "outputs": [],
   "source": []
  },
  {
   "cell_type": "code",
   "execution_count": null,
   "id": "590e5eca-9576-495d-a3fa-56b3ae253764",
   "metadata": {},
   "outputs": [],
   "source": []
  },
  {
   "cell_type": "code",
   "execution_count": null,
   "id": "f739097f-c70b-4e86-8f30-67a2d250f552",
   "metadata": {},
   "outputs": [],
   "source": []
  },
  {
   "cell_type": "code",
   "execution_count": null,
   "id": "cb7c5355-9bbf-43f7-9733-e83306124e83",
   "metadata": {},
   "outputs": [],
   "source": []
  },
  {
   "cell_type": "code",
   "execution_count": null,
   "id": "4f195981-b0cc-41aa-8875-91b07c2ad6e6",
   "metadata": {},
   "outputs": [],
   "source": []
  },
  {
   "cell_type": "code",
   "execution_count": null,
   "id": "9b3da181-dc89-4e44-b35e-5ee212385199",
   "metadata": {},
   "outputs": [],
   "source": []
  },
  {
   "cell_type": "code",
   "execution_count": null,
   "id": "f997762a-8f87-4e61-a1db-bdbd512d4df7",
   "metadata": {},
   "outputs": [],
   "source": []
  },
  {
   "cell_type": "code",
   "execution_count": null,
   "id": "06488536-9842-476e-b9ba-df7da66d55f2",
   "metadata": {},
   "outputs": [],
   "source": []
  },
  {
   "cell_type": "code",
   "execution_count": null,
   "id": "35771f7f-f9e9-4436-92cf-727c6b573fa6",
   "metadata": {},
   "outputs": [],
   "source": []
  },
  {
   "cell_type": "code",
   "execution_count": null,
   "id": "3ed742bf-a9bb-4055-924f-70aa30d5ec67",
   "metadata": {},
   "outputs": [],
   "source": []
  },
  {
   "cell_type": "code",
   "execution_count": null,
   "id": "410b4fbd-e01b-460a-bd7f-61747081e592",
   "metadata": {},
   "outputs": [],
   "source": []
  },
  {
   "cell_type": "code",
   "execution_count": null,
   "id": "a3b03a49-5df7-451d-bfd2-869ff9acf38f",
   "metadata": {},
   "outputs": [],
   "source": []
  },
  {
   "cell_type": "code",
   "execution_count": null,
   "id": "b38707b2-9ee4-43cd-bc8a-ad5bc9e2f359",
   "metadata": {},
   "outputs": [],
   "source": []
  },
  {
   "cell_type": "code",
   "execution_count": null,
   "id": "5869094a-f05e-4206-bd09-0807394890c4",
   "metadata": {},
   "outputs": [],
   "source": []
  },
  {
   "cell_type": "code",
   "execution_count": null,
   "id": "aa2fed79-d85d-42ad-9964-600c6b8f7e3b",
   "metadata": {},
   "outputs": [],
   "source": []
  },
  {
   "cell_type": "code",
   "execution_count": null,
   "id": "082db818-2b95-4608-b604-5188c717332b",
   "metadata": {},
   "outputs": [],
   "source": []
  },
  {
   "cell_type": "code",
   "execution_count": null,
   "id": "f8247f0c-0a54-470c-b4c2-419c531bc839",
   "metadata": {},
   "outputs": [],
   "source": []
  },
  {
   "cell_type": "code",
   "execution_count": null,
   "id": "f373a3d3-89a3-4b23-a314-db4baa7a766f",
   "metadata": {},
   "outputs": [],
   "source": []
  },
  {
   "cell_type": "code",
   "execution_count": null,
   "id": "fc7e6601-beae-4a6d-9edd-2beac10d36f4",
   "metadata": {},
   "outputs": [],
   "source": []
  },
  {
   "cell_type": "code",
   "execution_count": null,
   "id": "596c27d3-5d37-40c2-a551-ee778614d66e",
   "metadata": {},
   "outputs": [],
   "source": []
  },
  {
   "cell_type": "code",
   "execution_count": null,
   "id": "e1c0b9bb-f86c-4ec0-b4c2-4d1b19505081",
   "metadata": {},
   "outputs": [],
   "source": []
  },
  {
   "cell_type": "code",
   "execution_count": null,
   "id": "2891f232-edca-488e-ba6e-8b13f1fdcf7f",
   "metadata": {},
   "outputs": [],
   "source": []
  },
  {
   "cell_type": "code",
   "execution_count": null,
   "id": "a08c7335-1a18-433b-899d-6926f8e8484d",
   "metadata": {},
   "outputs": [],
   "source": []
  },
  {
   "cell_type": "code",
   "execution_count": null,
   "id": "fb094d5f-c444-408e-81a9-3181608b2fc5",
   "metadata": {},
   "outputs": [],
   "source": []
  },
  {
   "cell_type": "code",
   "execution_count": null,
   "id": "fbe285c2-d9b7-40ed-9c43-b552514fb105",
   "metadata": {},
   "outputs": [],
   "source": []
  },
  {
   "cell_type": "code",
   "execution_count": null,
   "id": "947594a0-dadb-4915-9118-084a428da1d4",
   "metadata": {},
   "outputs": [],
   "source": []
  },
  {
   "cell_type": "code",
   "execution_count": null,
   "id": "7c8afe70-fe8f-4e6f-9b3d-eab595a0654c",
   "metadata": {},
   "outputs": [],
   "source": []
  },
  {
   "cell_type": "code",
   "execution_count": null,
   "id": "12c4bf5a-7439-4888-860f-057006eeb6e5",
   "metadata": {},
   "outputs": [],
   "source": []
  },
  {
   "cell_type": "code",
   "execution_count": null,
   "id": "2662500c-e7c8-4167-b7f9-f9ecbb6b761c",
   "metadata": {},
   "outputs": [],
   "source": []
  }
 ],
 "metadata": {
  "kernelspec": {
   "display_name": "Python 3 (ipykernel)",
   "language": "python",
   "name": "python3"
  },
  "language_info": {
   "codemirror_mode": {
    "name": "ipython",
    "version": 3
   },
   "file_extension": ".py",
   "mimetype": "text/x-python",
   "name": "python",
   "nbconvert_exporter": "python",
   "pygments_lexer": "ipython3",
   "version": "3.9.2"
  }
 },
 "nbformat": 4,
 "nbformat_minor": 5
}
