{
 "cells": [
  {
   "cell_type": "markdown",
   "id": "e7d47923-8d5d-4452-87aa-d54111eba404",
   "metadata": {},
   "source": [
    "## Python Data Science Toolbox (Part 1)\n",
    "&\n",
    "## Python Data Science Toolbox (Part 2)"
   ]
  },
  {
   "cell_type": "markdown",
   "id": "0e8f21b2-7ade-4721-9df1-e32cfa001d17",
   "metadata": {},
   "source": [
    "# Course Description\n",
    "\n",
    "It's time to push forward and develop your Python chops even further. There are tons of fantastic functions in Python and its library ecosystem. However, as a data scientist, you'll constantly need to write your own functions to solve problems that are dictated by your data. You will learn the art of function writing in this first Python Data Science Toolbox course. You'll come out of this course being able to write your very own custom functions, complete with multiple parameters and multiple return values, along with default arguments and variable-length arguments. You'll gain insight into scoping in Python and be able to write lambda functions and handle errors in your function writing practice. And you'll wrap up each chapter by using your new skills to write functions that analyze Twitter DataFrames."
   ]
  },
  {
   "cell_type": "markdown",
   "id": "720d5338-f97a-4f00-84e8-b84da1e1e3af",
   "metadata": {},
   "source": [
    "##  Writing your own functions\n",
    "Free\n",
    "7%\n",
    "\n",
    "In this chapter, you'll learn how to write simple functions, as well as functions that accept multiple arguments and return multiple values. You'll also have the opportunity to apply these new skills to questions commonly encountered by data scientists.\n",
    "\n",
    "    User-defined functions    50 xp\n",
    "    Strings in Python    50 xp\n",
    "    Recapping built-in functions    50 xp\n",
    "    Write a simple function    100 xp\n",
    "    Single-parameter functions    100 xp\n",
    "    Functions that return single values    100 xp\n",
    "    Multiple parameters and return values    50 xp\n",
    "    Functions with multiple parameters    100 xp\n",
    "    A brief introduction to tuples    100 xp\n",
    "    Functions that return multiple values    100 xp\n",
    "    Bringing it all together    50 xp\n",
    "    Bringing it all together (1)    100 xp\n",
    "    Bringing it all together (2)    100 xp\n",
    "    Congratulations!    50 xp \n",
    "    "
   ]
  },
  {
   "cell_type": "markdown",
   "id": "be8938f2-a1f9-45c3-9df2-fb79485596e1",
   "metadata": {},
   "source": [
    "##  Default arguments, variable-length arguments and scope\n",
    "0%\n",
    "\n",
    "In this chapter, you'll learn to write functions with default arguments so that the user doesn't always need to specify them, and variable-length arguments so they can pass an arbitrary number of arguments on to your functions. You'll also learn about the essential concept of scope.\n",
    "\n",
    "    Scope and user-defined functions    50 xp\n",
    "    Pop quiz on understanding scope    50 xp\n",
    "    The keyword global    100 xp\n",
    "    Python's built-in scope    50 xp\n",
    "    Nested functions    50 xp\n",
    "    Nested Functions I    100 xp\n",
    "    Nested Functions II    100 xp\n",
    "    The keyword nonlocal and nested functions    100 xp\n",
    "    Default and flexible arguments    50 xp\n",
    "    Functions with one default argument    100 xp\n",
    "    Functions with multiple default arguments    100 xp\n",
    "    Functions with variable-length arguments (*args)    100 xp\n",
    "    Functions with variable-length keyword arguments (**kwargs)    100 xp\n",
    "    Bringing it all together    50 xp\n",
    "    Bringing it all together (1)    100 xp\n",
    "    Bringing it all together (2)    100 xp \n",
    "    "
   ]
  },
  {
   "cell_type": "markdown",
   "id": "1d385243-06b4-405e-abe6-124e8a1af4de",
   "metadata": {},
   "source": [
    "##  Lambda functions and error-handling\n",
    "0%\n",
    "\n",
    "Learn about lambda functions, which allow you to write functions quickly and on the fly. You'll also practice handling errors in your functions, which is an essential skill. Then, apply your new skills to answer data science questions.\n",
    "\n",
    "    Lambda functions    50 xp\n",
    "    Pop quiz on lambda functions    50 xp\n",
    "    Writing a lambda function you already know    100 xp\n",
    "    Map() and lambda functions    100 xp\n",
    "    Filter() and lambda functions    100 xp\n",
    "    Reduce() and lambda functions    100 xp\n",
    "    Introduction to error handling    50 xp\n",
    "    Pop quiz about errors    50 xp\n",
    "    Error handling with try-except    100 xp\n",
    "    Error handling by raising an error    100 xp\n",
    "    Bringing it all together    50 xp\n",
    "    Bringing it all together (1)    100 xp\n",
    "    Bringing it all together (2)    100 xp\n",
    "    Bringing it all together (3)    100 xp\n",
    "    Bringing it all together: testing your error handling skills    50 xp\n",
    "    Congratulations!    50 xp\n"
   ]
  },
  {
   "cell_type": "code",
   "execution_count": null,
   "id": "fa8770cd-17b8-4922-94fd-09d8203d64b1",
   "metadata": {},
   "outputs": [],
   "source": []
  },
  {
   "cell_type": "markdown",
   "id": "4064b253-c4f0-42a1-b9a8-35b4d067a8b4",
   "metadata": {},
   "source": [
    "## Course Description\n",
    "\n",
    "In this second Python Data Science Toolbox course, you'll continue to build your Python data science skills. First, you'll learn about iterators, objects you have already encountered in the context of for loops. You'll then learn about list comprehensions, which are extremely handy tools for all data scientists working in Python. You'll end the course by working through a case study in which you'll apply all the techniques you learned in both parts of this course."
   ]
  },
  {
   "cell_type": "markdown",
   "id": "5eb59e77-1f04-49d2-a8b8-6a5aa9954c76",
   "metadata": {},
   "source": [
    "##  Using iterators in PythonLand\n",
    "Free\n",
    "0%\n",
    "\n",
    "You'll learn all about iterators and iterables, which you have already worked with when writing for loops. You'll learn some handy functions that will allow you to effectively work with iterators. And you’ll finish the chapter with a use case that is pertinent to the world of data science and dealing with large amounts of data—in this case, data from Twitter that you will load in chunks using iterators.\n",
    "\n",
    "    Introduction to iterators    50 xp\n",
    "    Iterators vs Iterables    50 xp\n",
    "    Iterating over iterables (1)    100 xp\n",
    "    Iterating over iterables (2)    100 xp\n",
    "    Iterators as function arguments    100 xp\n",
    "    Playing with iterators    50 xp\n",
    "    Using enumerate    100 xp\n",
    "    Using zip    100 xp\n",
    "    Using * and zip to 'unzip'    100 xp\n",
    "    Using iterators to load large files into memory    50 xp\n",
    "    Processing large amounts of Twitter data    100 xp\n",
    "    Extracting information for large amounts of Twitter data    100 xp\n",
    "    Congratulations!    50 xp \n",
    "    "
   ]
  },
  {
   "cell_type": "markdown",
   "id": "31232714-cd5f-4f8f-af20-b553970b2ca1",
   "metadata": {},
   "source": [
    "##  List comprehensions and generators\n",
    "0%\n",
    "\n",
    "In this chapter, you'll build on your knowledge of iterators and be introduced to list comprehensions, which allow you to create complicated lists—and lists of lists—in one line of code! List comprehensions can dramatically simplify your code and make it more efficient, and will become a vital part of your Python data science toolbox. You'll then learn about generators, which are extremely helpful when working with large sequences of data that you may not want to store in memory, but instead generate on the fly.\n",
    "\n",
    "    List comprehensions    50 xp\n",
    "    Write a basic list comprehension    50 xp\n",
    "    List comprehension over iterables    50 xp\n",
    "    Writing list comprehensions    100 xp\n",
    "    Nested list comprehensions    100 xp\n",
    "    Advanced comprehensions    50 xp\n",
    "    Using conditionals in comprehensions (1)    100 xp\n",
    "    Using conditionals in comprehensions (2)    100 xp\n",
    "    Dict comprehensions    100 xp\n",
    "    Introduction to generator expressions    50 xp\n",
    "    List comprehensions vs generators    50 xp\n",
    "    Write your own generator expressions    100 xp\n",
    "    Changing the output in generator expressions    100 xp\n",
    "    Build a generator    100 xp\n",
    "    Wrapping up comprehensions and generators.    50 xp\n",
    "    List comprehensions for time-stamped data    100 xp\n",
    "    Conditional list comprehensions for time-stamped data    100 xp \n",
    "    "
   ]
  },
  {
   "cell_type": "markdown",
   "id": "b741d9d5-27f4-4925-87d1-4966d9035680",
   "metadata": {},
   "source": [
    "##  Bringing it all together!\n",
    "0%\n",
    "\n",
    "This chapter will allow you to apply your newly acquired skills toward wrangling and extracting meaningful information from a real-world dataset—the World Bank's World Development Indicators. You'll have the chance to write your own functions and list comprehensions as you work with iterators and generators to solidify your Python data science chops.\n",
    "\n",
    "    Welcome to the case study!    50 xp\n",
    "    Dictionaries for data science    100 xp\n",
    "    Writing a function to help you    100 xp\n",
    "    Using a list comprehension    100 xp\n",
    "    Turning this all into a DataFrame    100 xp\n",
    "    Using Python generators for streaming data    50 xp\n",
    "    Processing data in chunks (1)    100 xp\n",
    "    Writing a generator to load data in chunks (2)    100 xp\n",
    "    Writing a generator to load data in chunks (3)    100 xp\n",
    "    Using pandas' read_csv iterator for streaming data    50 xp\n",
    "    Writing an iterator to load data in chunks (1)    100 xp\n",
    "    Writing an iterator to load data in chunks (2)    100 xp\n",
    "    Writing an iterator to load data in chunks (3)    100 xp\n",
    "    Writing an iterator to load data in chunks (4)    100 xp\n",
    "    Writing an iterator to load data in chunks (5)    100 xp\n",
    "    Final thoughts    50 xp\n"
   ]
  },
  {
   "cell_type": "code",
   "execution_count": null,
   "id": "fe10c7db-7757-42d2-9d01-cfd815215f60",
   "metadata": {},
   "outputs": [],
   "source": []
  },
  {
   "cell_type": "markdown",
   "id": "e922c2ed-5a34-48a0-9f9b-ea24b7be1f84",
   "metadata": {},
   "source": [
    "## In this course, the first of the Python Data Science Toolbox courses, you'll learn how to write your very own functions and you'll have the opportunity to apply these newfound skills to questions that commonly arise in Data Science contexts.  \n",
    "\n",
    "Specifically,in this video and in the interactive exercises that follows it, you'll learn to do the following: Define a function without parameters, Define a function with single parameters, and Define a function that return a single value.  \n",
    "\n",
    "In the next section, you'll learn how to pass multiple arguments to functions, as well as return multiple values from them.  "
   ]
  },
  {
   "cell_type": "markdown",
   "id": "7a54b58e-1e33-4f5a-9ee3-974078abdf1d",
   "metadata": {},
   "source": [
    "Lets check out Python's build-in function str(), which accepts an object such as number and returns a string object.  \n",
    "\n",
    "As a data scientist, you'll need functions that have functionality specific to your needs.  (like I defined ff_sum() function in Efficient Python course last question.)  \n",
    "\n",
    "\n",
    "We'll now see how to define functions via an example, a function that squares a number.  \n",
    "  To define a function, we begin with the keyword def, followed by the function name (square in this example); This is then followed by a set of parentheses and a colon.  This piece of code is called function header.  \n",
    "  To complete the function definition, lets write the function body by squaring a value, say 4, and printing the output.  \n",
    "  Right now, our function does not have any parameters within the parentheses, we'll add them later.  \n",
    "  Now whenever this function is called, the code in the function body is run. "
   ]
  },
  {
   "cell_type": "code",
   "execution_count": 1,
   "id": "8a4e88c0-94d4-4322-89c7-a620d0237c8e",
   "metadata": {},
   "outputs": [
    {
     "name": "stdout",
     "output_type": "stream",
     "text": [
      "16\n"
     ]
    }
   ],
   "source": [
    "def square():    # <- Function Header\n",
    "    new_value = 4**2\n",
    "    print(new_value)\n",
    "    \n",
    "    \n",
    "square()"
   ]
  },
  {
   "cell_type": "markdown",
   "id": "ceccffcb-51ab-4f7b-be71-6d3d6994882c",
   "metadata": {},
   "source": [
    "We can add a parameter to the function definition in between the parentheses, here you see that we've added a parameter value and in the new function body, the new_value variable takes the square of value, which is then printed out.  We can now square any number that we pass to the function n_square as an argument.  \n",
    "\n",
    "# A quick word on parameters and arguments: when you define a function, you write parameters in the function header.  When you call the function, you pass arguments into the function.  \n"
   ]
  },
  {
   "cell_type": "code",
   "execution_count": 3,
   "id": "8dfacf21-3bc7-4348-86fd-6dab649e5eb4",
   "metadata": {},
   "outputs": [
    {
     "name": "stdout",
     "output_type": "stream",
     "text": [
      "144\n"
     ]
    }
   ],
   "source": [
    "def n_square(value):\n",
    "    new_value = value**2\n",
    "    print(new_value)\n",
    "    \n",
    "    \n",
    "n_square(12)"
   ]
  },
  {
   "cell_type": "markdown",
   "id": "0e0b0974-921d-4d17-aa1e-224dfed40151",
   "metadata": {},
   "source": [
    "you can have your function return the new value by adding the return keyword, followed by the value to return.  Now we can assign to a variable ss the result of the function call.  \n",
    "\n",
    "\n",
    "There is another essqntial aspectof writing functions in Python: docstrings.  It's used to describe what your function does, such as the computations it performs or its return values.  These descriptions serve as documentation for your function so that anyone who read your function's docstring understands what your function does, without having to trace through all the code in the function definition.  \n",
    "\n",
    "Function docstrings are placed in the immediate line after the function header and are placed in between triple quotation marks.  "
   ]
  },
  {
   "cell_type": "code",
   "execution_count": 6,
   "id": "988d4b3b-526e-4a4f-b453-fe7105953646",
   "metadata": {},
   "outputs": [
    {
     "name": "stdout",
     "output_type": "stream",
     "text": [
      "144\n"
     ]
    }
   ],
   "source": [
    "def n_square(value):\n",
    "    '''Return the square of a value\n",
    "    '''\n",
    "    new_value = value**2\n",
    "    return new_value\n",
    "    \n",
    "    \n",
    "ss = n_square(12)\n",
    "print(ss)"
   ]
  },
  {
   "cell_type": "markdown",
   "id": "2770067e-432e-4d56-bcf9-a9088f9fdcea",
   "metadata": {},
   "source": [
    "## Strings in Python\n",
    "\n",
    "In the video, you learned of another standard Python datatype, strings. Recall that these represent textual data. To assign the string 'DataCamp' to a variable company, you execute:\n",
    "\n",
    "company = 'DataCamp'\n",
    "\n",
    "You've also learned to use the operations + and * with strings. Unlike with numeric types such as ints and floats, the + operator concatenates strings together, while the * concatenates multiple copies of a string together. In this exercise, you will use the + and * operations on strings to answer the question below. Execute the following code in the shell:\n",
    "\n",
    "object1 = \"data\" + \"analysis\" + \"visualization\"\n",
    "object2 = 1 * 3\n",
    "object3 = \"1\" * 3\n",
    "\n",
    "What are the values in object1, object2, and object3, respectively?\n",
    "Instructions\n",
    "50 XP\n",
    "Possible Answers\n",
    "\n",
    "    object1 contains \"data + analysis + visualization\", object2 contains \"1*3\", object3 contains 13.\n",
    "    object1 contains \"data+analysis+visualization\", object2 contains 3, object3 contains \"13\".\n",
    "#    object1 contains \"dataanalysisvisualization\", object2 contains 3, object3 contains \"111\".\n"
   ]
  },
  {
   "cell_type": "markdown",
   "id": "00bf9094-7f89-42c2-9c52-14ba3d8866c2",
   "metadata": {},
   "source": [
    "## Recapping built-in functions\n",
    "\n",
    "In the video, Hugo briefly examined the return behavior of the built-in functions print() and str(). Here, you will use both functions and examine their return values. A variable x has been preloaded for this exercise. Run the code below in the console. Pay close attention to the results to answer the question that follows.\n",
    "\n",
    "    Assign str(x) to a variable y1: y1 = str(x)\n",
    "    Assign print(x) to a variable y2: y2 = print(x)\n",
    "    Check the types of the variables x, y1, and y2.\n",
    "\n",
    "What are the types of x, y1, and y2?\n",
    "Instructions\n",
    "50 XP\n",
    "Possible Answers\n",
    "\n",
    "    They are all str types.\n",
    "    x is a float, y1 is an float, and y2 is a str.\n",
    "#    x is a float, y1 is a str, and y2 is a NoneType.\n",
    "    They are all NoneType types.\n",
    "    \n",
    "In [1]:\n",
    "x\n",
    "Out[1]:\n",
    "4.89\n",
    "In [3]:\n",
    "y1 = str(x)\n",
    "In [4]:\n",
    "y2 = print(x)\n",
    "4.89\n",
    "In [5]:\n",
    "type(y2)\n",
    "Out[5]:\n",
    "NoneType"
   ]
  },
  {
   "cell_type": "markdown",
   "id": "60828f94-bdda-44f5-abf6-6efee0ff42bc",
   "metadata": {},
   "source": [
    "## Write a simple function\n",
    "\n",
    "In the last video, Hugo described the basics of how to define a function. You will now write your own function!\n",
    "\n",
    "Define a function, shout(), which simply prints out a string with three exclamation marks '!!!' at the end. The code for the square() function that we wrote earlier is found below. You can use it as a pattern to define shout().\n",
    "\n",
    "def square():\n",
    "    new_value = 4 ** 2\n",
    "    return new_value\n",
    "\n",
    "Note that the function body is indented 4 spaces already for you. Function bodies need to be indented by a consistent number of spaces and the choice of 4 is common.\n",
    "\n",
    "This course touches on a lot of concepts you may have forgotten, so if you ever need a quick refresher, download the Python for data science Cheat Sheet and keep it handy!\n",
    "Instructions\n",
    "100 XP\n",
    "\n",
    "    Complete the function header by adding the appropriate function name, shout.\n",
    "    In the function body, concatenate the string, 'congratulations' with another string, '!!!'. Assign the result to shout_word.\n",
    "    Print the value of shout_word.\n",
    "    Call the shout function.\n"
   ]
  },
  {
   "cell_type": "code",
   "execution_count": 7,
   "id": "01dd6dc9-d8b2-4497-8eea-fd79222f693e",
   "metadata": {},
   "outputs": [
    {
     "name": "stdout",
     "output_type": "stream",
     "text": [
      "congratulations!!!\n"
     ]
    }
   ],
   "source": [
    "# Define the function shout\n",
    "def shout():\n",
    "    \"\"\"Print a string with three exclamation marks\"\"\"\n",
    "    # Concatenate the strings: shout_word\n",
    "    shout_word = 'congratulations' + '!!!'\n",
    "\n",
    "    # Print shout_word\n",
    "    print(shout_word)\n",
    "\n",
    "# Call shout\n",
    "shout()"
   ]
  },
  {
   "cell_type": "markdown",
   "id": "90c4c27f-554c-462f-81d1-d9b8162e3156",
   "metadata": {},
   "source": [
    "## Single-parameter functions\n",
    "\n",
    "Congratulations! You have successfully defined and called your own function! That's pretty cool.\n",
    "\n",
    "In the previous exercise, you defined and called the function shout(), which printed out a string concatenated with '!!!'. You will now update shout() by adding a parameter so that it can accept and process any string argument passed to it. \n",
    "# Also note that shout(word), the part of the header that specifies the function name and parameter(s), is known as the signature of the function. You may encounter this term in the wild!\n",
    "Instructions\n",
    "100 XP\n",
    "\n",
    "    Complete the function header by adding the parameter name, word.\n",
    "    Assign the result of concatenating word with '!!!' to shout_word.\n",
    "    Print the value of shout_word.\n",
    "    Call the shout() function, passing to it the string, 'congratulations'.\n"
   ]
  },
  {
   "cell_type": "code",
   "execution_count": 11,
   "id": "3d15225a-3a13-4e28-bfc5-239f8efacb50",
   "metadata": {},
   "outputs": [
    {
     "name": "stdout",
     "output_type": "stream",
     "text": [
      "congratulations!!!\n"
     ]
    }
   ],
   "source": [
    "# Define shout with the parameter, word\n",
    "# *************************************************************************************************** #\n",
    "def shout(word):   # <- shout(word) is called the signature of the function\n",
    "    \"\"\"Print a string with three exclamation marks\"\"\"\n",
    "    # Concatenate the strings: shout_word\n",
    "    shout_word = word + '!!!'\n",
    "\n",
    "    # Print shout_word\n",
    "    print(shout_word)\n",
    "\n",
    "# Call shout with the string 'congratulations'\n",
    "shout('congratulations')"
   ]
  },
  {
   "cell_type": "markdown",
   "id": "749ff04c-cd84-4b8b-b724-1f65c94ffebc",
   "metadata": {},
   "source": [
    "## Functions that return single values\n",
    "\n",
    "You're getting very good at this! Try your hand at another modification to the shout() function so that it now returns a single value instead of printing within the function. Recall that the return keyword lets you return values from functions. Parts of the function shout(), which you wrote earlier, are shown. \n",
    "# Returning values is generally more desirable than printing them out because, as you saw earlier, a print() call assigned to a variable has type NoneType.\n",
    "Instructions\n",
    "100 XP\n",
    "\n",
    "    In the function body, concatenate the string in word with '!!!' and assign to shout_word.\n",
    "    Replace the print() statement with the appropriate return statement.\n",
    "    Call the shout() function, passing to it the string, 'congratulations', and assigning the call to the variable, yell.\n",
    "    To check if yell contains the value returned by shout(), print the value of yell.\n"
   ]
  },
  {
   "cell_type": "code",
   "execution_count": 13,
   "id": "76a5da70-7804-4899-a487-be6e2fdf2588",
   "metadata": {},
   "outputs": [
    {
     "name": "stdout",
     "output_type": "stream",
     "text": [
      "congratulations!!!\n",
      "<class 'str'>\n"
     ]
    }
   ],
   "source": [
    "# Define shout with the parameter, word\n",
    "def shout(word):\n",
    "    \"\"\"Return a string with three exclamation marks\"\"\"\n",
    "    # Concatenate the strings: shout_word\n",
    "    shout_word = word + '!!!'\n",
    "\n",
    "    # Replace print with return\n",
    "    return shout_word\n",
    "\n",
    "# Pass 'congratulations' to shout: yell\n",
    "yell = shout('congratulations')\n",
    "\n",
    "# Print yell\n",
    "print(yell)\n",
    "\n",
    "print(type(yell))"
   ]
  },
  {
   "cell_type": "markdown",
   "id": "50f38e18-69eb-4d31-8545-40e879a2e621",
   "metadata": {},
   "source": [
    "## Multiple parameters and return values\n",
    "\n",
    "\n",
    "\n",
    "# **At this point, you already know how to define your own functions and even return values from them.  What you'll learn next is how to pass multiple arguments to functions, as well as return not just one, but multiple values from them.  \n",
    "\n",
    "Let's tweak the square function we've been working on a little bit more.  Suppose that, instead of simply squaring a value, we'd like to raise a value to the power of another value that's also passed to the function.  We can do this by having our function accept two parameters instead of just one.  \n",
    "\n",
    "You should also changeyour function name and docstring to reflect this new behavior.  you can call the function by passing in two arguments because the function has two parameters, as declared in the function header.  The order in which the arguments are passed correspond to the order of the parameters in the function header.  \n",
    "This means that when we call raise_to_power(2, 3), when the function is executed, 2 would be assigned to value1 and 3 to value2.  Looking at the function body, this meansthat the computation value1 to the power of value2 translates to 2 to the power of 3.  This function call then returns the value 8.  \n",
    "\n"
   ]
  },
  {
   "cell_type": "code",
   "execution_count": 15,
   "id": "fd7e4ce3-e8a2-44c4-8653-1eaa9f24ddd5",
   "metadata": {},
   "outputs": [
    {
     "data": {
      "text/plain": [
       "81"
      ]
     },
     "execution_count": 15,
     "metadata": {},
     "output_type": "execute_result"
    }
   ],
   "source": [
    "def raise_to_power(value1, value2):\n",
    "    '''Raise value1 to the power of value2\n",
    "    '''\n",
    "    new_value = value1**value2\n",
    "    return new_value\n",
    "\n",
    "\n",
    "raise_to_power(3, 4)"
   ]
  },
  {
   "cell_type": "markdown",
   "id": "276c42f5-3afd-4fec-8822-d938bca913cd",
   "metadata": {},
   "source": [
    "# You can also make your function return multiple values, you can do that by constructing object known as tuples in your functions.  A tuple is like a list, in that it can contain multiple values.  There are some difference however. \n",
    "\n",
    "Firstly, unlike a list, a tuple is immutable, that is you cannot modify the values in a tuple once it has been constructed.  \n",
    "Secondly, while lists are defined using square brackets, tuples are constructed using a set of parentheses.  \n",
    "\n",
    "\n",
    "# Additionally, you can also access individual tuple elements like you do with lists.  \n",
    "Recall that with lists, you can use zero-indexing to access list elements. You can do the same thing with tuple. "
   ]
  },
  {
   "cell_type": "code",
   "execution_count": 20,
   "id": "53e37aeb-dbc2-4341-a52e-5f818336b2e8",
   "metadata": {},
   "outputs": [
    {
     "name": "stdout",
     "output_type": "stream",
     "text": [
      "1\n",
      "4\n",
      "[1, 2, 3, 4, 6, 8]\n",
      "4\n"
     ]
    }
   ],
   "source": [
    "my_tuple = (1, 2, 3, 4, 6, 8)\n",
    "[*aa] = my_tuple\n",
    "\n",
    "a,b,c,d,e,f = my_tuple\n",
    "\n",
    "print(a)\n",
    "print(d)\n",
    "print(aa)\n",
    "\n",
    "\n",
    "print(my_tuple[3])"
   ]
  },
  {
   "cell_type": "markdown",
   "id": "3fd7d87f-4d13-49f9-86e2-b33da6b7c16c",
   "metadata": {},
   "source": [
    "Lets now modify the behaviorof our raise function, insted of returning just the value1 raise to the power of value2, lets also return the value2 to the power of value1.  You thus need to make raise return two values insted of one.  We can now use what we know of tuples to do this.  \n",
    "\n",
    "\n",
    "We first change the name of our function and the docstring to reflect the new behavior of our function. \n",
    "We then in the function body, construct a tuple consisting of values we want the function to return, and also in the function body, we return the tuple.  \n",
    "\n",
    "Calling the function constructeddemonstrates that it does exactly what we want.  \n",
    "\n",
    "\n",
    "Now its your turn to play with writing functionthat accept multiple arguments and return multiple values.   "
   ]
  },
  {
   "cell_type": "code",
   "execution_count": 21,
   "id": "6a8cf097-cbe5-4ffa-8549-0c4bfa0a3666",
   "metadata": {},
   "outputs": [
    {
     "data": {
      "text/plain": [
       "(8, 9)"
      ]
     },
     "execution_count": 21,
     "metadata": {},
     "output_type": "execute_result"
    }
   ],
   "source": [
    "def raise_bose(value1, value2):\n",
    "    '''Raise value1 to the power of value2, and vice versa\n",
    "    '''\n",
    "    new_value1 = value1**value2\n",
    "    new_value2 = value2**value1\n",
    "    \n",
    "    new_tuple = (new_value1, new_value2)\n",
    "    \n",
    "    return new_tuple\n",
    "\n",
    "\n",
    "raise_bose(2, 3)"
   ]
  },
  {
   "cell_type": "markdown",
   "id": "dc1fcfbe-2275-4102-8c83-4c97d24a5268",
   "metadata": {},
   "source": [
    "## Functions with multiple parameters\n",
    "\n",
    "Hugo discussed the use of multiple parameters in defining functions in the last lecture. You are now going to use what you've learned to modify the shout() function further. Here, you will modify shout() to accept two arguments. Parts of the function shout(), which you wrote earlier, are shown.\n",
    "Instructions\n",
    "100 XP\n",
    "\n",
    "    Modify the function header such that it accepts two parameters, word1 and word2, in that order.\n",
    "    Concatenate each of word1 and word2 with '!!!' and assign to shout1 and shout2, respectively.\n",
    "    Concatenate shout1 and shout2 together, in that order, and assign to new_shout.\n",
    "    Pass the strings 'congratulations' and 'you', in that order, to a call to shout(). Assign the return value to yell.\n"
   ]
  },
  {
   "cell_type": "code",
   "execution_count": 23,
   "id": "14524cad-ca27-4a28-a0f5-5e1e7b60e7ef",
   "metadata": {},
   "outputs": [
    {
     "name": "stdout",
     "output_type": "stream",
     "text": [
      "('congratulations!!!', 'you!!!')\n"
     ]
    }
   ],
   "source": [
    "# Define shout with parameters word1 and word2\n",
    "def shout(word1, word2):\n",
    "    \"\"\"Concatenate strings with three exclamation marks\"\"\"\n",
    "    # Concatenate word1 with '!!!': shout1\n",
    "    shout1 = word1 + '!!!'\n",
    "    \n",
    "    # Concatenate word2 with '!!!': shout2\n",
    "    shout2 = word2 + '!!!'\n",
    "    \n",
    "    # Concatenate shout1 with shout2: new_shout\n",
    "    new_shout = (shout1, shout2)\n",
    "\n",
    "    # Return new_shout\n",
    "    return new_shout\n",
    "\n",
    "# Pass 'congratulations' and 'you' to shout(): yell\n",
    "yell = shout('congratulations', 'you')\n",
    "\n",
    "# Print yell\n",
    "print(yell)"
   ]
  },
  {
   "cell_type": "code",
   "execution_count": 27,
   "id": "245491df-df58-402b-9206-00bddfda556f",
   "metadata": {},
   "outputs": [
    {
     "name": "stdout",
     "output_type": "stream",
     "text": [
      "('congratulations!!!', 'you!!!')\n"
     ]
    }
   ],
   "source": [
    "# Define shout with parameters word1 and word2\n",
    "def shout(word1, word2):\n",
    "    \"\"\"Concatenate strings with three exclamation marks\"\"\"\n",
    "    # Concatenate word1 with '!!!': shout1\n",
    "    shout1 = word1 + '!!!'\n",
    "    \n",
    "    # Concatenate word2 with '!!!': shout2\n",
    "    shout2 = word2 + '!!!'\n",
    "    \n",
    "    # Concatenate shout1 with shout2: new_shout\n",
    "    new_shout = shout1, shout2     ### cause , is the key to construct a tuple, not the paretheses\n",
    "\n",
    "    # Return new_shout\n",
    "    return new_shout\n",
    "\n",
    "# Pass 'congratulations' and 'you' to shout(): yell\n",
    "yell = shout('congratulations', 'you')\n",
    "\n",
    "# Print yell\n",
    "print(yell)"
   ]
  },
  {
   "cell_type": "markdown",
   "id": "885805ee-7fe4-4bb5-bb7a-e5b5a4fcd248",
   "metadata": {},
   "source": [
    "## A brief introduction to tuples\n",
    "\n",
    "Alongside learning about functions, you've also learned about tuples! Here, you will practice what you've learned about tuples: how to construct, unpack, and access tuple elements. Recall how Hugo unpacked the tuple even_nums in the video:\n",
    "\n",
    "a, b, c = even_nums\n",
    "\n",
    "A three-element tuple named nums has been preloaded for this exercise. Before completing the script, perform the following:\n",
    "\n",
    "    Print out the value of nums in the IPython shell. Note the elements in the tuple.\n",
    "    In the IPython shell, try to change the first element of nums to the value 2 by doing an assignment: nums[0] = 2. What happens?\n",
    "\n",
    "Instructions\n",
    "100 XP\n",
    "\n",
    "    Unpack nums to the variables num1, num2, and num3.\n",
    "    Construct a new tuple, even_nums composed of the same elements in nums, but with the 1st element replaced with the value, 2.\n"
   ]
  },
  {
   "cell_type": "code",
   "execution_count": 32,
   "id": "7250d96c-e4e9-48fc-8327-8ce633d48e0f",
   "metadata": {},
   "outputs": [
    {
     "name": "stdout",
     "output_type": "stream",
     "text": [
      "(2, 4, 6)\n"
     ]
    }
   ],
   "source": [
    "nums = (3, 4, 6)\n",
    "\n",
    "\n",
    "num1, num2, num3 = nums\n",
    "\n",
    "\n",
    "\n",
    "# Construct even_nums\n",
    "even_nums = 2, num2, num3\n",
    "\n",
    "\n",
    "print(even_nums)"
   ]
  },
  {
   "cell_type": "markdown",
   "id": "bb6486a5-4933-4f06-a1c0-f6aadecc8d83",
   "metadata": {},
   "source": [
    "## Functions that return multiple values\n",
    "\n",
    "In the previous exercise, you constructed tuples, assigned tuples to variables, and unpacked tuples. Here you will return multiple values from a function using tuples. Let's now update our shout() function to return multiple values. Instead of returning just one string, we will return two strings with the string !!! concatenated to each.\n",
    "\n",
    "# ****************************************************************************************************\n",
    "# Note that the return statement return x, y has the same result as return (x, y): the former actually packs x and y into a tuple under the hood!\n",
    "Instructions\n",
    "100 XP\n",
    "\n",
    "    Modify the function header such that the function name is now shout_all, and it accepts two parameters, word1 and word2, in that order.\n",
    "    Concatenate the string '!!!' to each of word1 and word2 and assign to shout1 and shout2, respectively.\n",
    "    Construct a tuple shout_words, composed of shout1 and shout2.\n",
    "    Call shout_all() with the strings 'congratulations' and 'you' and assign the result to yell1 and yell2 (remember, shout_all() returns 2 variables!).\n"
   ]
  },
  {
   "cell_type": "code",
   "execution_count": 29,
   "id": "0c7992bd-13fa-4342-8bf7-349a1c5f4b23",
   "metadata": {},
   "outputs": [
    {
     "name": "stdout",
     "output_type": "stream",
     "text": [
      "congratulations!!!\n",
      "you!!!\n"
     ]
    }
   ],
   "source": [
    "# Define shout_all with parameters word1 and word2\n",
    "def shout_all(word1, word2):\n",
    "    '''Return a tuple of strings'''\n",
    "    # Concatenate word1 with '!!!': shout1\n",
    "    shout1 = word1 + '!!!'\n",
    "    \n",
    "    # Concatenate word2 with '!!!': shout2\n",
    "    shout2 = word2 + '!!!'\n",
    "    \n",
    "    # Construct a tuple with shout1 and shout2: shout_words\n",
    "    shout_words = shout1, shout2\n",
    "\n",
    "    # Return shout_words\n",
    "    return shout_words\n",
    "\n",
    "# Pass 'congratulations' and 'you' to shout_all(): yell1, yell2\n",
    "yell1, yell2 = shout_all('congratulations', 'you')\n",
    "\n",
    "# Print yell1 and yell2\n",
    "print(yell1)\n",
    "print(yell2)"
   ]
  },
  {
   "cell_type": "markdown",
   "id": "5e96b6d1-d40e-4688-b74d-70f7302a6474",
   "metadata": {},
   "source": [
    "## Bringing it all together\n",
    "\n",
    "\n",
    "\n",
    "**So now you're able to write functions that accept multiple parameters and return multiple values, it is time to see how these learnt skills can be valuable in a Data Science context.  In the following exercrises, you'll write a function that analyzes a DataFrame of Twitter data.  \n",
    "\n",
    "The function that you'll write will return a dictionary containing data of how many times each language was used across all the tweets in the DataFrame.  We'll see later in this course that we can generalize such a function to count occurances of any items in a DataFrame column.  \n",
    "\n",
    "\n",
    "\n",
    "Lets now recap the basic ingredients of a function.  \n",
    "We have a function header which begins with the keyword def, this is followedby the function name, parameters in parentheses and a colon.  \n",
    "We than have the function body, which contains docstrings enclosed in tiple quotation marks; docstrings describe what the function does; the rest of function body performs the computation that the function does; the function body then closes with the keyword return, followed by the value or values returned by the function.  \n",
    "\n",
    "\n",
    "Happy function writing\n"
   ]
  },
  {
   "cell_type": "markdown",
   "id": "55b72197-5bbe-400b-a162-9afed747c363",
   "metadata": {},
   "source": [
    "## Bringing it all together (1)\n",
    "\n",
    "You've got your first taste of writing your own functions in the previous exercises. You've learned how to add parameters to your own function definitions, return a value or multiple values with tuples, and how to call the functions you've defined.\n",
    "\n",
    "In this and the following exercise, you will bring together all these concepts and apply them to a simple data science problem. You will load a dataset and develop functionalities to extract simple insights from the data.\n",
    "\n",
    "For this exercise, your goal is to recall how to load a dataset into a DataFrame. The dataset contains Twitter data and you will iterate over entries in a column to build a dictionary in which the keys are the names of languages and the values are the number of tweets in the given language. The file tweets.csv is available in your current directory.\n",
    "\n",
    "Be aware that this is real data from Twitter and as such there is always a risk that it may contain profanity or other offensive content (in this exercise, and any following exercises that also use real Twitter data).\n",
    "Instructions\n",
    "100 XP\n",
    "\n",
    "    Import the pandas package with the alias pd.\n",
    "    Import the file 'tweets.csv' using the pandas function read_csv(). Assign the resulting DataFrame to df.\n",
    "    Complete the for loop by iterating over col, the 'lang' column in the DataFrame df.\n",
    "    Complete the bodies of the if-else statements in the for loop: if the key is in the dictionary langs_count, add 1 to the value corresponding to this key in the dictionary, else add the key to langs_count and set the corresponding value to 1. Use the loop variable entry in your code.\n"
   ]
  },
  {
   "cell_type": "code",
   "execution_count": null,
   "id": "7994d451-8b81-49c2-a30e-0ba141f042c1",
   "metadata": {},
   "outputs": [],
   "source": [
    "# Import pandas\n",
    "import pandas as pd\n",
    "\n",
    "# Import Twitter data as DataFrame: df\n",
    "df = pd.read_csv('tweets.csv')\n",
    "\n",
    "# Initialize an empty dictionary: langs_count\n",
    "langs_count = {}\n",
    "\n",
    "# Extract column from DataFrame: col\n",
    "col = df['lang']\n",
    "\n",
    "# Iterate over lang column in DataFrame\n",
    "for entry in col:\n",
    "\n",
    "    # If the language is in langs_count, add 1 \n",
    "    if entry in langs_count.keys():\n",
    "        langs_count[entry] += 1\n",
    "    # Else add the language to langs_count, set the value to 1\n",
    "    else:\n",
    "        langs_count[entry] = 1\n",
    "\n",
    "# Print the populated dictionary\n",
    "print(langs_count)\n",
    "\n",
    "\n",
    "# Return\n",
    "# {'en': 97, 'et': 1, 'und': 2}"
   ]
  },
  {
   "cell_type": "code",
   "execution_count": null,
   "id": "1747372e-a485-4eae-935c-78b04dce9e5e",
   "metadata": {},
   "outputs": [],
   "source": [
    "# df.columns\n",
    "\n",
    "# Return:\n",
    "#Index(['contributors', 'coordinates', 'created_at', 'entities', 'extended_entities', 'favorite_count', 'favorited', 'filter_level', 'geo', 'id', 'id_str', 'in_reply_to_screen_name',\n",
    "#       'in_reply_to_status_id', 'in_reply_to_status_id_str', 'in_reply_to_user_id', 'in_reply_to_user_id_str', 'is_quote_status', 'lang', 'place', 'possibly_sensitive', 'quoted_status',\n",
    "#       'quoted_status_id', 'quoted_status_id_str', 'retweet_count', 'retweeted', 'retweeted_status', 'source', 'text', 'timestamp_ms', 'truncated', 'user'],\n",
    "#      dtype='object')"
   ]
  },
  {
   "cell_type": "markdown",
   "id": "688874bb-5c9e-48bb-9a29-09c1135ea9fa",
   "metadata": {},
   "source": [
    "## Bringing it all together (2)\n",
    "\n",
    "Great job! You've now defined the functionality for iterating over entries in a column and building a dictionary with keys the names of languages and values the number of tweets in the given language.\n",
    "\n",
    "In this exercise, you will define a function with the functionality you developed in the previous exercise, return the resulting dictionary from within the function, and call the function with the appropriate arguments.\n",
    "\n",
    "For your convenience, the pandas package has been imported as pd and the 'tweets.csv' file has been imported into the tweets_df variable.\n",
    "Instructions\n",
    "100 XP\n",
    "\n",
    "    Define the function count_entries(), which has two parameters. The first parameter is df for the DataFrame and the second is col_name for the column name.\n",
    "    Complete the bodies of the if-else statements in the for loop: if the key is in the dictionary langs_count, add 1 to its current value, else add the key to langs_count and set its value to 1. Use the loop variable entry in your code.\n",
    "    Return the langs_count dictionary from inside the count_entries() function.\n",
    "    Call the count_entries() function by passing to it tweets_df and the name of the column, 'lang'. Assign the result of the call to the variable result.\n"
   ]
  },
  {
   "cell_type": "code",
   "execution_count": null,
   "id": "2a908459-923a-46a4-b793-624ea309fa8b",
   "metadata": {},
   "outputs": [],
   "source": [
    "# Define count_entries()\n",
    "# How can we take a DataFrame and a DF column name as input argument,  Think, Think, Think, \n",
    "# *************************************************************************************************** #\n",
    "def count_entries(df, col_name):\n",
    "    \"\"\"Return a dictionary with counts of \n",
    "    occurrences as value for each key.\"\"\"\n",
    "\n",
    "    # Initialize an empty dictionary: langs_count\n",
    "    langs_count = {}\n",
    "    \n",
    "    # Extract column from DataFrame: col\n",
    "    col = df[col_name]\n",
    "    \n",
    "    # Iterate over lang column in DataFrame\n",
    "    for entry in col:\n",
    "\n",
    "        # If the language is in langs_count, add 1\n",
    "        if entry in langs_count.keys():\n",
    "            langs_count[entry] += 1\n",
    "        # Else add the language to langs_count, set the value to 1\n",
    "        else:\n",
    "            langs_count[entry] = 1\n",
    "\n",
    "    # Return the langs_count dictionary\n",
    "    return langs_count\n",
    "\n",
    "# Call count_entries(): result\n",
    "result = count_entries(tweets_df, 'lang')\n",
    "\n",
    "# Print the result\n",
    "print(result)\n",
    "\n",
    "\n",
    "# Return:\n",
    "# {'en': 97, 'et': 1, 'und': 2}"
   ]
  },
  {
   "cell_type": "markdown",
   "id": "944fcdc9-15cf-42fd-afee-5afebda4cb50",
   "metadata": {},
   "source": [
    "## Congratulations!\n",
    "\n",
    "\n",
    "\n",
    "Congratulations, you're now a bonafide Python function writer.  On top of that, you have just written you very first DataScience function.  At this point, although you can write basic functions, you've really touched the surface of function writing capabilities.  \n",
    "\n",
    "\n",
    "\n",
    "# ****************************************************************************************************\n",
    "# In the following chapter, you'll learn how to write functions that have default arguments so that when you call them, you dont always have to specify all the parameters, you'll learn how write functions that can accept an arbitrary number of parameters and how to nest functions within one another, on top of this, you'll learn how to handle errors when writing functions, which will make your functions as robust as they need to be.  \n",
    "\n",
    "Moreover, you'll see the importance of such techniques in DataScience by writing functions that are pertinent to the DataScience sphere like Twitter DataFrame analysis that you just performed.  \n"
   ]
  },
  {
   "cell_type": "code",
   "execution_count": null,
   "id": "05edd4bb-9eda-4dc2-b66e-f6df9d325ea8",
   "metadata": {},
   "outputs": [],
   "source": []
  },
  {
   "cell_type": "markdown",
   "id": "8435ae31-94d4-4ff9-9745-8f6684d65819",
   "metadata": {},
   "source": [
    "## Scope and user-defined functions\n",
    "\n",
    "\n",
    "\n",
    "At this point, you know how to define your own functions - but not only that, you know how to write functions with multiple parameyters and can return multiple values using tuples.  \n",
    "\n",
    "\n",
    "# We'll now talk about the idea of scope in the context of user-defined functions. \n",
    "You've been defining variables in your programs and so far, you've been using these variables without any problems.  However, one of the thing you should know is that not all objects that you defined are always accessable everywhere in a program.  \n",
    "\n",
    "**Enter the idea of scope, which tells you which part of a program an object or a name may be accessed.  \n",
    "Names refer to the variables or more generally, objects such as functions that are defined in your program, for example a variable x has a name, as does the function sum.  \n",
    "\n",
    "\n",
    "\n",
    "\n",
    "# There are three types of scopes that you should know.  \n",
    "The first one is the idea of the global scope.  A name that is in the global scope means that it is defined in the main body of a script or a Python program.  \n",
    "\n",
    "The second one, is the local scope.  A name that is in a local scope means that it is defined within a function.  Once the execution of a function is done, any name inside the local scope ceases to exist, which means you cannot access these names outside the function definition.  \n",
    "\n",
    "The third is something called the built-in scope; this consists of names in the pre-defined build-ins module Python provides, such as print and sum. \n"
   ]
  },
  {
   "cell_type": "code",
   "execution_count": 33,
   "id": "bb266ba0-39bc-4297-a583-b2687ccefcf8",
   "metadata": {},
   "outputs": [
    {
     "data": {
      "text/plain": [
       "144"
      ]
     },
     "execution_count": 33,
     "metadata": {},
     "output_type": "execute_result"
    }
   ],
   "source": [
    "def square(value):\n",
    "    '''Return the square of value'''\n",
    "    new_value = value**2\n",
    "    return new_value\n",
    "\n",
    "\n",
    "square(12)"
   ]
  },
  {
   "cell_type": "markdown",
   "id": "02bfd7f7-75e1-4e37-bb93-677341e521ac",
   "metadata": {},
   "source": [
    "\n",
    "You'll play around with the built-ins module in the interactive exercise, lets look at a couple of examples to clarify these definitions.  Lets check out our example function square from earlier.  \n",
    "\n",
    "\n",
    "# ****************************************************************************************************\n",
    "# We define the function and then call it, if we then try to access the variable name new_value after function execution, the name is not accessable.  This is because it was defined only within the local scope of the function.  The name new_value was not defined globally.  "
   ]
  },
  {
   "cell_type": "code",
   "execution_count": 35,
   "id": "6004a6e1-76fb-48d4-8f6c-43c803fa3488",
   "metadata": {},
   "outputs": [
    {
     "data": {
      "text/plain": [
       "144"
      ]
     },
     "execution_count": 35,
     "metadata": {},
     "output_type": "execute_result"
    }
   ],
   "source": [
    "new_value = 118\n",
    "\n",
    "\n",
    "def square(value):\n",
    "    '''Return the square of value'''\n",
    "    new_value = value**2   # global csope name new_value updated\n",
    "    return new_value\n",
    "\n",
    "\n",
    "square(12)"
   ]
  },
  {
   "cell_type": "code",
   "execution_count": 36,
   "id": "c0f962d3-22e0-4921-9680-4603ef57d1c2",
   "metadata": {},
   "outputs": [
    {
     "data": {
      "text/plain": [
       "118"
      ]
     },
     "execution_count": 36,
     "metadata": {},
     "output_type": "execute_result"
    }
   ],
   "source": [
    "new_value"
   ]
  },
  {
   "cell_type": "markdown",
   "id": "8bd95306-b194-48d9-aa43-0285a01ea5e8",
   "metadata": {},
   "source": [
    "Now what if we define the name new_value globally before defining and calling the function?  In short, any time we call the name in the global scope, it will access the name in the global, such as you see here.  \n",
    "\n",
    "Anytime we call the name in the local scope of the function, it will look first in the local scope, that' why calling square(12) results in 144 and not 118.  \n",
    "\n",
    "If Python can not find the name in the local scope, it will then and only then looking in the global scope.  \n",
    "\n",
    "Here for example, we access new_value defined globally with the function square.  Note that the global value accessed is the value at the time the function is called, not the value when the function is defined.  Thus if we reassign new_value and call the square function, we see that the new value of new_value is accessed.  \n",
    "\n"
   ]
  },
  {
   "cell_type": "code",
   "execution_count": 37,
   "id": "fc748ed8-1f74-4c02-bada-99abfbf54351",
   "metadata": {},
   "outputs": [
    {
     "data": {
      "text/plain": [
       "100"
      ]
     },
     "execution_count": 37,
     "metadata": {},
     "output_type": "execute_result"
    }
   ],
   "source": [
    "new_value = 10\n",
    "\n",
    "def square(value):\n",
    "    '''Returns the square of value'''\n",
    "    new_value1 = new_value**2    # Just as an example, if global scope value was used in a function\n",
    "    return new_value1\n",
    "\n",
    "\n",
    "square(12)"
   ]
  },
  {
   "cell_type": "code",
   "execution_count": 38,
   "id": "cbf7691e-9cda-4f07-8f3c-b9f29dfb5c06",
   "metadata": {},
   "outputs": [
    {
     "data": {
      "text/plain": [
       "144"
      ]
     },
     "execution_count": 38,
     "metadata": {},
     "output_type": "execute_result"
    }
   ],
   "source": [
    "new_value = 12\n",
    "\n",
    "square(7)"
   ]
  },
  {
   "cell_type": "markdown",
   "id": "02d08447-1d91-441d-b47f-5c28eec7d04c",
   "metadata": {},
   "source": [
    "\n",
    "# To recap, when we reference a name, first the local scope is searched, then the global, If the nameis in neither then the built-in scope is searched.  \n",
    "\n",
    "Now what if we want to alter the value of a global name within a function call?  This is where the keyword global comes in play.  \n",
    "\n",
    "\n",
    "Within the function definition, we use keyword global followed by the name of the global variable that we wish to access and alter.  "
   ]
  },
  {
   "cell_type": "code",
   "execution_count": 40,
   "id": "008a56f7-0803-4d34-a234-e8d141e35b58",
   "metadata": {},
   "outputs": [
    {
     "data": {
      "text/plain": [
       "9"
      ]
     },
     "execution_count": 40,
     "metadata": {},
     "output_type": "execute_result"
    }
   ],
   "source": [
    "new_value = 10\n",
    "\n",
    "def square(value):\n",
    "    '''Return the square of a value'''\n",
    "    \n",
    "    global new_value\n",
    "    new_value2 = new_value**2\n",
    "    return new_value2\n",
    "\n",
    "\n",
    "square(12)\n",
    "\n",
    "new_value = 3\n",
    "\n",
    "square(18)"
   ]
  },
  {
   "cell_type": "markdown",
   "id": "09f4b7ca-1b06-485a-9412-0bf2e4bace46",
   "metadata": {},
   "source": [
    "## Pop quiz on understanding scope\n",
    "\n",
    "In this exercise, you will practice what you've learned about scope in functions. The variable num has been predefined as 5, alongside the following function definitions:\n",
    "\n",
    "def func1():\n",
    "    num = 3\n",
    "    print(num)\n",
    "\n",
    "def func2():\n",
    "    global num\n",
    "    double_num = num * 2\n",
    "    num = 6\n",
    "    print(double_num)\n",
    "\n",
    "Try calling func1() and func2() in the shell, then answer the following questions:\n",
    "\n",
    "    What are the values printed out when you call func1() and func2()?    3 and 10\n",
    "    What is the value of num in the global scope after calling func1() and func2()?    6\n",
    "\n",
    "Instructions\n",
    "50 XP\n",
    "Possible Answers\n",
    "\n",
    "    func1() prints out 3, func2() prints out 6, and the value of num in the global scope is 3.\n",
    "    func1() prints out 3, func2() prints out 3, and the value of num in the global scope is 3.\n",
    "    func1() prints out 3, func2() prints out 10, and the value of num in the global scope is 10.\n",
    "#    func1() prints out 3, func2() prints out 10, and the value of num in the global scope is 6.\n",
    "    "
   ]
  },
  {
   "cell_type": "code",
   "execution_count": 42,
   "id": "f7d500d6-9041-406a-95ae-2b1b6b077096",
   "metadata": {},
   "outputs": [
    {
     "name": "stdout",
     "output_type": "stream",
     "text": [
      "3\n",
      "10\n"
     ]
    },
    {
     "data": {
      "text/plain": [
       "6"
      ]
     },
     "execution_count": 42,
     "metadata": {},
     "output_type": "execute_result"
    }
   ],
   "source": [
    "num = 5\n",
    "\n",
    "\n",
    "def func1():\n",
    "    num = 3\n",
    "    print(num)\n",
    "\n",
    "def func2():\n",
    "    global num\n",
    "    double_num = num * 2\n",
    "    num = 6\n",
    "    print(double_num)\n",
    "\n",
    "    \n",
    "    \n",
    "func1()\n",
    "func2()\n",
    "num"
   ]
  },
  {
   "cell_type": "code",
   "execution_count": null,
   "id": "02df706d-5366-4ceb-b33c-f35129c5cb5f",
   "metadata": {},
   "outputs": [],
   "source": [
    "# Define count_entries()\n",
    "def count_entries(df, col_name):\n",
    "    \"\"\"Return a dictionary with counts of \n",
    "    occurrences as value for each key.\"\"\"\n",
    "\n",
    "    # Initialize an empty dictionary: langs_count\n",
    "    langs_count = {}\n",
    "    \n",
    "    # Extract column from DataFrame: col\n",
    "    col = df[col_name]\n",
    "    \n",
    "    # Iterate over lang column in DataFrame\n",
    "    for entry in col:\n",
    "\n",
    "        # If the language is in langs_count, add 1\n",
    "        if entry in langs_count.keys():\n",
    "            langs_count[entry] += 1\n",
    "        # Else add the language to langs_count, set the value to 1\n",
    "        else:\n",
    "            langs_count[entry] = 1\n",
    "\n",
    "    # Return the langs_count dictionary\n",
    "    return langs_count\n",
    "\n",
    "# Call count_entries(): result\n",
    "\n",
    "import time\n",
    "start = time.time()\n",
    "result = count_entries(tweets_df, 'lang')\n",
    "t_spend = time.time() - start\n",
    "print(t_spend)\n",
    "\n",
    "import line_profiler\n",
    "\n",
    "%load_ext line_profiler\n",
    "%lprun -f count_entries count_entries(tweets_df, 'lang')\n",
    "\n",
    "# Print the result\n",
    "print(result)"
   ]
  },
  {
   "cell_type": "markdown",
   "id": "952149be-247b-4bdb-b49e-08481c5501a4",
   "metadata": {},
   "source": [
    "## The keyword global\n",
    "\n",
    "Let's work more on your mastery of scope. In this exercise, you will use the keyword global within a function to alter the value of a variable defined in the global scope.\n",
    "Instructions\n",
    "100 XP\n",
    "\n",
    "    Use the keyword global to alter the object team in the global scope.\n",
    "    Change the value of team in the global scope to the string \"justice league\". Assign the result to team.\n",
    "    Hit the Submit button to see how executing your newly defined function change_team() changes the value of the name team!\n"
   ]
  },
  {
   "cell_type": "code",
   "execution_count": 43,
   "id": "ab9460a1-c10c-4667-bc51-dc98a007096a",
   "metadata": {},
   "outputs": [
    {
     "name": "stdout",
     "output_type": "stream",
     "text": [
      "teen titans\n",
      "justice league\n"
     ]
    }
   ],
   "source": [
    "# Create a string: team\n",
    "team = \"teen titans\"\n",
    "\n",
    "# Define change_team()\n",
    "def change_team():\n",
    "    \"\"\"Change the value of the global variable team.\"\"\"\n",
    "\n",
    "    # Use team in global scope\n",
    "    global team\n",
    "\n",
    "    # Change the value of team in global: team\n",
    "    team = 'justice league'\n",
    "# Print team\n",
    "print(team)\n",
    "\n",
    "# Call change_team()\n",
    "change_team()\n",
    "\n",
    "# Print team\n",
    "print(team)"
   ]
  },
  {
   "cell_type": "markdown",
   "id": "56d845e7-1479-44b4-81da-5795e082326d",
   "metadata": {},
   "source": [
    "## Python's built-in scope\n",
    "\n",
    "Here you're going to check out Python's built-in scope, which is really just a built-in module called builtins. However, to query builtins, you'll need to import builtins 'because the name builtins is not itself built in…No, I’m serious!' (Learning Python, 5th edition, Mark Lutz). After executing import builtins in the IPython Shell, execute dir(builtins) to print a list of all the names in the module builtins. Have a look and you'll see a bunch of names that you'll recognize! Which of the following names is NOT in the module builtins?\n",
    "Instructions\n",
    "50 XP\n",
    "Possible Answers\n",
    "\n",
    "    'sum'\n",
    "    'range'\n",
    "#    'array'\n",
    "    'tuple'"
   ]
  },
  {
   "cell_type": "code",
   "execution_count": 45,
   "id": "2630172f-c0b1-4ba9-819f-edebd4d4026f",
   "metadata": {},
   "outputs": [
    {
     "name": "stdout",
     "output_type": "stream",
     "text": [
      "['ArithmeticError', 'AssertionError', 'AttributeError', 'BaseException', 'BlockingIOError', 'BrokenPipeError', 'BufferError', 'BytesWarning', 'ChildProcessError', 'ConnectionAbortedError', 'ConnectionError', 'ConnectionRefusedError', 'ConnectionResetError', 'DeprecationWarning', 'EOFError', 'Ellipsis', 'EnvironmentError', 'Exception', 'False', 'FileExistsError', 'FileNotFoundError', 'FloatingPointError', 'FutureWarning', 'GeneratorExit', 'IOError', 'ImportError', 'ImportWarning', 'IndentationError', 'IndexError', 'InterruptedError', 'IsADirectoryError', 'KeyError', 'KeyboardInterrupt', 'LookupError', 'MemoryError', 'ModuleNotFoundError', 'NameError', 'None', 'NotADirectoryError', 'NotImplemented', 'NotImplementedError', 'OSError', 'OverflowError', 'PendingDeprecationWarning', 'PermissionError', 'ProcessLookupError', 'RecursionError', 'ReferenceError', 'ResourceWarning', 'RuntimeError', 'RuntimeWarning', 'StopAsyncIteration', 'StopIteration', 'SyntaxError', 'SyntaxWarning', 'SystemError', 'SystemExit', 'TabError', 'TimeoutError', 'True', 'TypeError', 'UnboundLocalError', 'UnicodeDecodeError', 'UnicodeEncodeError', 'UnicodeError', 'UnicodeTranslateError', 'UnicodeWarning', 'UserWarning', 'ValueError', 'Warning', 'ZeroDivisionError', '__IPYTHON__', '__build_class__', '__debug__', '__doc__', '__import__', '__loader__', '__name__', '__package__', '__spec__', 'abs', 'all', 'any', 'ascii', 'bin', 'bool', 'breakpoint', 'bytearray', 'bytes', 'callable', 'chr', 'classmethod', 'compile', 'complex', 'copyright', 'credits', 'delattr', 'dict', 'dir', 'display', 'divmod', 'enumerate', 'eval', 'exec', 'execfile', 'filter', 'float', 'format', 'frozenset', 'get_ipython', 'getattr', 'globals', 'hasattr', 'hash', 'help', 'hex', 'id', 'input', 'int', 'isinstance', 'issubclass', 'iter', 'len', 'license', 'list', 'locals', 'map', 'max', 'memoryview', 'min', 'next', 'object', 'oct', 'open', 'ord', 'pow', 'print', 'property', 'range', 'repr', 'reversed', 'round', 'runfile', 'set', 'setattr', 'slice', 'sorted', 'staticmethod', 'str', 'sum', 'super', 'tuple', 'type', 'vars', 'zip']\n"
     ]
    }
   ],
   "source": [
    "import builtins\n",
    "\n",
    "print(dir(builtins))"
   ]
  },
  {
   "cell_type": "code",
   "execution_count": null,
   "id": "cbd4dea9-8197-44be-9939-6efcfce17bd3",
   "metadata": {},
   "outputs": [],
   "source": []
  },
  {
   "cell_type": "markdown",
   "id": "a598d07a-20df-4922-9cd4-42cf0f55525a",
   "metadata": {},
   "source": [
    "## Nested functions\n",
    "# ****************************************************************************************************\n",
    "\n",
    "\n",
    "**Now that you've come to grips with scope, both local and global, its time to dive a bit deeper.  \n",
    "\n",
    "What if we have a function inner() defined within another function outer() and we reference a name x in the inner function?  \n",
    "\n",
    "\n",
    "**The answer is intuitive, Python searchesthe local scope of the function inner(), then if it doesnt find x, it searches the scope of the function outer, which is called an exclosing function, because it encloses the function inner().  If Python cant find x in the scope of the enclosing function, it only then searches the global scope and then the built-in scope.  \n",
    "\n",
    "\n",
    "\n",
    "# Why are we even nesting functions?  There are number of good reasons to do so.  \n",
    "\n",
    "**Lets say that we want to use a process a number of times within a function.**\n",
    "For example, we want a function that takes 3 numbers as parameters and performs the same function on each of them.  One way would be write out the computation 3 times, but this definitely does not scale if you need to perform the computation many times.  What we can do instead is to define a inner function within our function definition, such as we did below, and call it when necessary.  This is called nested function.  \n",
    "The syntax for the inner function is exactly the same as for the any other function.  \n",
    "\n"
   ]
  },
  {
   "cell_type": "code",
   "execution_count": null,
   "id": "c0dbe4c0-866d-4345-a589-eae610e66d2f",
   "metadata": {},
   "outputs": [],
   "source": [
    "x = 1\n",
    "\n",
    "def outer():\n",
    "    '''Outer function'''\n",
    "    x = 123\n",
    "    \n",
    "    def inner():\n",
    "        '''Inner function'''\n",
    "        y = x**2\n",
    "        return y"
   ]
  },
  {
   "cell_type": "code",
   "execution_count": 46,
   "id": "47e4f15d-d57c-4352-9d6c-297619b61e70",
   "metadata": {},
   "outputs": [
    {
     "data": {
      "text/plain": [
       "(6, 5, 6)"
      ]
     },
     "execution_count": 46,
     "metadata": {},
     "output_type": "execute_result"
    }
   ],
   "source": [
    "def mod2plus5(x1, x2, x3):\n",
    "    new_x1 = x1%2 + 5\n",
    "    new_x2 = x2%2 + 5\n",
    "    new_x3 = x3%2 + 5\n",
    "    \n",
    "    return new_x1, new_x2, new_x3\n",
    "\n",
    "\n",
    "mod2plus5(7, 8, 9)"
   ]
  },
  {
   "cell_type": "code",
   "execution_count": 47,
   "id": "2b667e21-0bf5-45b3-9fd1-b8359b852a39",
   "metadata": {},
   "outputs": [
    {
     "data": {
      "text/plain": [
       "(5, 6, 5)"
      ]
     },
     "execution_count": 47,
     "metadata": {},
     "output_type": "execute_result"
    }
   ],
   "source": [
    "def mod2plus5(x1, x2, x3):\n",
    "    '''Returns the remainder plus 5 of three values'''\n",
    "    \n",
    "    def inner(x):\n",
    "        '''Returns the remainder plus 5'''\n",
    "        return x%2 +5\n",
    "    \n",
    "    return inner(x1), inner(x2), inner(x3)\n",
    "\n",
    "\n",
    "mod2plus5(8, 9, 10)"
   ]
  },
  {
   "cell_type": "markdown",
   "id": "350ad309-beeb-4aa4-a0be-598cea984def",
   "metadata": {},
   "source": [
    "\n",
    "# Lets now look at another important use case of nested functions. \n",
    "\n",
    "In this example, we define a function raise_val, which contains an inner function called inner.  Now look at what raise_val returns: it returns the inner function inner.  The raise_val takes an argument n and create a function inner that returns the nth power of any number.  \n",
    "That's a bit complicated and will be clearer when we use the function raise_val.  Passing the number 2 to raise_val create a function that squares any number, similarly, passing the number 3 to raise_val creates a function that cubes any number.  \n",
    "\n"
   ]
  },
  {
   "cell_type": "code",
   "execution_count": 48,
   "id": "1b2316e6-bf8e-4d02-a80a-f36619bc516e",
   "metadata": {},
   "outputs": [
    {
     "data": {
      "text/plain": [
       "8"
      ]
     },
     "execution_count": 48,
     "metadata": {},
     "output_type": "execute_result"
    }
   ],
   "source": [
    "def raise_val(n):\n",
    "    '''Return the inner func'''\n",
    "    \n",
    "    def inner(x):\n",
    "        '''Raise x to the power of n'''\n",
    "        raised = x**n\n",
    "        return raised\n",
    "    return inner\n",
    "\n",
    "\n",
    "ff = raise_val(3)\n",
    "ff(2)"
   ]
  },
  {
   "cell_type": "markdown",
   "id": "105347c5-7196-40a3-b362-320f8db20d7a",
   "metadata": {},
   "source": [
    "\n",
    "One interesting detail: when we call the function ff, it remembers the value n=3, although the enclosing scope defined by raise_val and to which n=3 is local, has finished execution.  This is a subtlety referred to as a closure in Computer Science circles and shouldnt concern you too much.  It is worth mentioning, however, as you may encounter it out there in the wild.  \n",
    "\n",
    "Recall from our discussion of scope that you can use the keyword global in function definitions, to create and change the global names; similarly, in a nested function, you can use the keyword nonlocal to create and changes names in an enclosing scope.  "
   ]
  },
  {
   "cell_type": "code",
   "execution_count": 49,
   "id": "aac5ef12-14f5-4565-ba88-68f5b0f82fde",
   "metadata": {},
   "outputs": [
    {
     "name": "stdout",
     "output_type": "stream",
     "text": [
      "2\n",
      "2\n"
     ]
    }
   ],
   "source": [
    "def outer():\n",
    "    '''Prints the value of n'''\n",
    "    n = 1\n",
    "    \n",
    "    def inner():\n",
    "        nonlocal n\n",
    "        n = 2\n",
    "        print(n)\n",
    "    \n",
    "    inner()\n",
    "    print(n)\n",
    "    \n",
    "    \n",
    "outer()"
   ]
  },
  {
   "cell_type": "markdown",
   "id": "18b748aa-0919-4a39-8c4c-8fc112ecf768",
   "metadata": {},
   "source": [
    "**To summarize: name reference search at most 4 scopes, the local scope, then those of enclosing function, if there arent any, then global, then built-in.  This is know as LEGB rule.  Also remember that assigning names will only create or change local names. unless they are declared in global or nonlocal statements using keyword global or the keyword nonlocal respectively.  \n"
   ]
  },
  {
   "cell_type": "markdown",
   "id": "eb7f9779-01ac-47c4-950d-2ca4076cc7f8",
   "metadata": {},
   "source": [
    "## Nested Functions I\n",
    "\n",
    "You've learned in the last video about nesting functions within functions. \n",
    "# One reason why you'd like to do this is to avoid writing out the same computations within functions repeatedly. \n",
    "There's nothing new about defining nested functions: you simply define it as you would a regular function with def and embed it inside another function!\n",
    "\n",
    "In this exercise, inside a function three_shouts(), you will define a nested function inner() that concatenates a string object with !!!. three_shouts() then returns a tuple of three elements, each a string concatenated with !!! using inner(). Go for it!\n",
    "Instructions\n",
    "100 XP\n",
    "\n",
    "    Complete the function header of the nested function with the function name inner() and \n",
    "# a single parameter word.\n",
    "    Complete the return value: each element of the tuple should be a call to inner(), passing in the parameters from three_shouts() as arguments to each call.\n"
   ]
  },
  {
   "cell_type": "code",
   "execution_count": 50,
   "id": "1d2a5fa5-272f-4093-8fed-5bdd77809e74",
   "metadata": {},
   "outputs": [
    {
     "name": "stdout",
     "output_type": "stream",
     "text": [
      "('a!!!', 'b!!!', 'c!!!')\n"
     ]
    }
   ],
   "source": [
    "# Define three_shouts\n",
    "def three_shouts(word1, word2, word3):\n",
    "    \"\"\"Returns a tuple of strings\n",
    "    concatenated with '!!!'.\"\"\"\n",
    "\n",
    "    # Define inner\n",
    "    def inner(word):\n",
    "        \"\"\"Returns a string concatenated with '!!!'.\"\"\"\n",
    "        return word + '!!!'\n",
    "\n",
    "    # Return a tuple of strings\n",
    "    return (inner(word1), inner(word2), inner(word3))\n",
    "\n",
    "# Call three_shouts() and print\n",
    "print(three_shouts('a', 'b', 'c'))"
   ]
  },
  {
   "cell_type": "markdown",
   "id": "26b12759-dce5-4cb3-b468-e57f27eeb094",
   "metadata": {},
   "source": [
    "## Nested Functions II\n",
    "\n",
    "Great job, you've just nested a function within another function. One other pretty cool reason for nesting functions is the idea of a closure. This means that the nested or inner function remembers the state of its enclosing scope when called. Thus, anything defined locally in the enclosing scope is available to the inner function even when the outer function has finished execution.\n",
    "\n",
    "Let's move forward then! In this exercise, you will complete the definition of the inner function inner_echo() and then call echo() a couple of times, each with a different argument. Complete the exercise and see what the output will be!\n",
    "Instructions\n",
    "100 XP\n",
    "\n",
    "    Complete the function header of the inner function with the function name inner_echo() and a single parameter word1.\n",
    "    Complete the function echo() so that it returns inner_echo.\n",
    "    We have called echo(), passing 2 as an argument, and assigned the resulting function to twice. Your job is to call echo(), passing 3 as an argument. Assign the resulting function to thrice.\n",
    "    Hit Submit to call twice() and thrice() and print the results.\n"
   ]
  },
  {
   "cell_type": "code",
   "execution_count": 52,
   "id": "6daf3525-0ef6-40d3-8561-152dcaf73814",
   "metadata": {},
   "outputs": [
    {
     "name": "stdout",
     "output_type": "stream",
     "text": [
      "hellohello hellohellohello\n"
     ]
    }
   ],
   "source": [
    "# Define echo\n",
    "def echo(n):\n",
    "    \"\"\"Return the inner_echo function.\"\"\"\n",
    "\n",
    "    # Define inner_echo\n",
    "    def inner_echo(word1):\n",
    "        \"\"\"Concatenate n copies of word1.\"\"\"\n",
    "        echo_word = word1 * n\n",
    "        return echo_word\n",
    "\n",
    "    # Return inner_echo\n",
    "    return inner_echo\n",
    "\n",
    "# Call echo: twice\n",
    "twice = echo(2)\n",
    "\n",
    "# Call echo: thrice\n",
    "thrice = echo(3)\n",
    "\n",
    "\n",
    "\n",
    "# Call twice() and thrice() then print\n",
    "print(twice('hello'), thrice('hello'))"
   ]
  },
  {
   "cell_type": "markdown",
   "id": "46203978-8226-444a-bdc2-6246a81a4379",
   "metadata": {},
   "source": [
    "## The keyword nonlocal and nested functions\n",
    "\n",
    "Let's once again work further on your mastery of scope! In this exercise, you will use the keyword nonlocal within a nested function to alter the value of a variable defined in the enclosing scope.\n",
    "Instructions\n",
    "100 XP\n",
    "\n",
    "    Assign to echo_word the string word, concatenated with itself.\n",
    "    Use the keyword nonlocal to alter the value of echo_word in the enclosing scope.\n",
    "    Alter echo_word to echo_word concatenated with '!!!'.\n",
    "    Call the function echo_shout(), passing it a single argument 'hello'.\n"
   ]
  },
  {
   "cell_type": "code",
   "execution_count": 55,
   "id": "36dce30f-e6eb-432c-a140-a235cf763f41",
   "metadata": {},
   "outputs": [
    {
     "name": "stdout",
     "output_type": "stream",
     "text": [
      "hello\n",
      "hello!!!\n"
     ]
    }
   ],
   "source": [
    "# Define echo_shout()\n",
    "def echo_shout(word):\n",
    "    \"\"\"Change the value of a nonlocal variable\"\"\"\n",
    "    \n",
    "    # Concatenate word with itself: echo_word\n",
    "    echo_word = word\n",
    "    \n",
    "    # Print echo_word\n",
    "    print(echo_word)\n",
    "    \n",
    "    # Define inner function shout()\n",
    "    def shout():\n",
    "        \"\"\"Alter a variable in the enclosing scope\"\"\"    \n",
    "        # Use echo_word in nonlocal scope\n",
    "        nonlocal echo_word\n",
    "        \n",
    "        # Change echo_word to echo_word concatenated with '!!!'\n",
    "        echo_word = echo_word + '!!!'\n",
    "    \n",
    "    # Call function shout()\n",
    "    shout()\n",
    "    \n",
    "    # Print echo_word\n",
    "    print(echo_word)\n",
    "    \n",
    "    \n",
    "    \n",
    "# Call function echo_shout() with argument 'hello'\n",
    "echo_shout('hello')"
   ]
  },
  {
   "cell_type": "markdown",
   "id": "2983b2d8-fda2-4770-ac59-4068df641c78",
   "metadata": {},
   "source": [
    "## Default and flexible arguments\n",
    "\n",
    "\n",
    "\n",
    "\n",
    "**Lets say you're writing a function that takes nultiple parameters and that there is often a common value for some of these parameters.  In this case, you would like to be able to call the function without explicitly specifying every parameters.  In other words yo would like some parameters to have default arguments that are used when it is not specified otherwise.  \n",
    "\n",
    "In this video, you'll learn how to write function with default arguments, along with using flexible arguments, which allows you to pass any number of arguments to a function, as we'll soon see.  \n"
   ]
  },
  {
   "cell_type": "markdown",
   "id": "a3f8192f-7286-47d0-85c1-8f979414ddb2",
   "metadata": {},
   "source": [
    "First up, to define a function with a default argument value, in the function header, we follow the parameter of interest with an equal sign and the default argument value.  Notice that below function raise the first argument to the power of second of argument, and the default second argument value is 1."
   ]
  },
  {
   "cell_type": "code",
   "execution_count": 57,
   "id": "18e49e11-456c-49bb-a6e4-62a42e67ffa1",
   "metadata": {},
   "outputs": [
    {
     "name": "stdout",
     "output_type": "stream",
     "text": [
      "144\n",
      "1728\n"
     ]
    }
   ],
   "source": [
    "def power(number, pow=2):\n",
    "    '''Raise number to the power of pow'''\n",
    "    new_value = number**pow\n",
    "    return new_value\n",
    "\n",
    "\n",
    "print(power(12))\n",
    "\n",
    "print(power(12,3))"
   ]
  },
  {
   "cell_type": "markdown",
   "id": "36c90c55-be7b-407c-890f-6ed5aedde928",
   "metadata": {},
   "source": [
    "# Let now look at flexible arguments, lets say that you want to write a function but arent sure how many arguments a user will want to pass it.  \n",
    "For example, a function that takes floats or ints and adds them up, irrespective of how many there are.  Enter flexible arguments. \n",
    "\n",
    "\n",
    "In below example, we write the function that sums up all the arguments passed to it.  In the function definition, we use the parameter str followed by args: this then turns all the arguments passed to a function call into a tuple called args in the function body.  (*can be used on unpacking also on packing)  Then in the function body, to write our desired function, we initialize our sum_all to 0, loop over the tuple args and add each element of it successively to aum_all and then return it.  \n",
    "\n",
    "We can now call our function add_all with any number of arguments to add them all up.  \n"
   ]
  },
  {
   "cell_type": "code",
   "execution_count": 61,
   "id": "bc2d3c62-0333-4af4-8d8d-cddb9bc67ce5",
   "metadata": {},
   "outputs": [
    {
     "data": {
      "text/plain": [
       "133.7"
      ]
     },
     "execution_count": 61,
     "metadata": {},
     "output_type": "execute_result"
    }
   ],
   "source": [
    "def add_all(*args):\n",
    "    '''Sum all values in *argstogether'''\n",
    "    \n",
    "    # Initialize sum\n",
    "    sum_all = 0\n",
    "    \n",
    "    # Accumulate the sum\n",
    "    for num in args:\n",
    "        sum_all += num\n",
    "        \n",
    "    return sum_all\n",
    "\n",
    "\n",
    "a = [1, 2, 3, 9.7, 23, 89, 6]\n",
    "add_all(*a)"
   ]
  },
  {
   "cell_type": "markdown",
   "id": "4b70d5d2-7ef7-4904-9f19-6e911d49c2b1",
   "metadata": {},
   "source": [
    "\n",
    "**You can also use a double star to pass an arbitrary number keyword arguments, also called kwargs, that is arguments preceded by identifiers.  We'll write such a function called print_all that prints out the identifiers and the parameters passed to them as you see here.  \n",
    "\n",
    "Now, to write such function, we use the parameter kwargs preceded by double star.  This turns the identifier-keyword pairs into a dictionary withinn the function body.  Then in the function body all we need to do is to print out all the key-value pairs stored in the dictionary kwargs.  \n",
    "\n",
    "\n",
    "Note that is NOT the name args and kwargs that are important when using flexible arguments, but rather that they are processed by a single and double star respectively.  \n"
   ]
  },
  {
   "cell_type": "code",
   "execution_count": 65,
   "id": "25e799f0-7548-4300-8db6-b722723806dc",
   "metadata": {},
   "outputs": [
    {
     "name": "stdout",
     "output_type": "stream",
     "text": [
      "name: jj\n",
      "employer: PP\n"
     ]
    }
   ],
   "source": [
    "def print_all(**kwargs):\n",
    "    '''Print out key-value pairs in **kwargs'''\n",
    "    \n",
    "    # Print out the key-value pairs\n",
    "    for key, value in kwargs.items():\n",
    "        print(key + \": \" + value)\n",
    "\n",
    "\n",
    "\n",
    "print_all(name='jj', employer='PP')"
   ]
  },
  {
   "cell_type": "markdown",
   "id": "fda3b29a-b348-4c2d-85b0-728ed5e5f447",
   "metadata": {},
   "source": [
    "## Functions with one default argument\n",
    "\n",
    "In the previous chapter, you've learned to define functions with more than one parameter and then calling those functions by passing the required number of arguments. In the last video, Hugo built on this idea by showing you how to define functions with default arguments. You will practice that skill in this exercise by writing a function that uses a default argument and then calling the function a couple of times.\n",
    "Instructions\n",
    "100 XP\n",
    "\n",
    "    Complete the function header with the function name shout_echo. It accepts an argument word1 and a default argument echo with default value 1, in that order.\n",
    "    Use the * operator to concatenate echo copies of word1. Assign the result to echo_word.\n",
    "    Call shout_echo() with just the string, \"Hey\". Assign the result to no_echo.\n",
    "    Call shout_echo() with the string \"Hey\" and the value 5 for the default argument, echo. Assign the result to with_echo.\n"
   ]
  },
  {
   "cell_type": "code",
   "execution_count": 66,
   "id": "eb65cd75-82c9-4056-a87b-08f83dc8022d",
   "metadata": {},
   "outputs": [
    {
     "name": "stdout",
     "output_type": "stream",
     "text": [
      "Hey!!!\n",
      "HeyHeyHeyHeyHey!!!\n"
     ]
    }
   ],
   "source": [
    "# Define shout_echo\n",
    "def shout_echo(word1, echo=1):\n",
    "    \"\"\"Concatenate echo copies of word1 and three\n",
    "     exclamation marks at the end of the string.\"\"\"\n",
    "\n",
    "    # Concatenate echo copies of word1 using *: echo_word\n",
    "    echo_word = word1 * echo\n",
    "\n",
    "    # Concatenate '!!!' to echo_word: shout_word\n",
    "    shout_word = echo_word + '!!!'\n",
    "\n",
    "    # Return shout_word\n",
    "    return shout_word\n",
    "\n",
    "# Call shout_echo() with \"Hey\": no_echo\n",
    "no_echo = shout_echo('Hey')\n",
    "\n",
    "# Call shout_echo() with \"Hey\" and echo=5: with_echo\n",
    "with_echo = shout_echo('Hey', echo=5)\n",
    "\n",
    "# Print no_echo and with_echo\n",
    "print(no_echo)\n",
    "print(with_echo)"
   ]
  },
  {
   "cell_type": "markdown",
   "id": "963c597a-8de8-447e-b00f-a2bf2b01d22e",
   "metadata": {},
   "source": [
    "## Functions with multiple default arguments\n",
    "\n",
    "You've now defined a function that uses a default argument - don't stop there just yet! You will now try your hand at defining a function with more than one default argument and then calling this function in various ways.\n",
    "\n",
    "After defining the function, you will call it by supplying values to all the default arguments of the function. Additionally, you will call the function by not passing a value to one of the default arguments - see how that changes the output of your function!\n",
    "Instructions\n",
    "100 XP\n",
    "\n",
    "    Complete the function header with the function name shout_echo. It accepts an argument word1, a default argument echo with default value 1 and a default argument intense with default value False, in that order.\n",
    "    In the body of the if statement, make the string object echo_word upper case by applying the method .upper() on it.\n",
    "    Call shout_echo() with the string, \"Hey\", the value 5 for echo and the value True for intense. Assign the result to with_big_echo.\n",
    "    Call shout_echo() with the string \"Hey\" and the value True for intense. Assign the result to big_no_echo.\n"
   ]
  },
  {
   "cell_type": "code",
   "execution_count": 67,
   "id": "0ee4698c-b07e-4d8b-8e84-3b9b8d01ff62",
   "metadata": {},
   "outputs": [
    {
     "name": "stdout",
     "output_type": "stream",
     "text": [
      "HEYHEYHEYHEYHEY!!!\n",
      "Hey!!!\n"
     ]
    }
   ],
   "source": [
    "# Define shout_echo\n",
    "def shout_echo(word1, echo=1, intense=False):\n",
    "    \"\"\"Concatenate echo copies of word1 and three\n",
    "    exclamation marks at the end of the string.\"\"\"\n",
    "\n",
    "    # Concatenate echo copies of word1 using *: echo_word\n",
    "    echo_word = word1 * echo\n",
    "\n",
    "    # Make echo_word uppercase if intense is True\n",
    "    if intense is True:\n",
    "        # Make uppercase and concatenate '!!!': echo_word_new\n",
    "        echo_word_new = echo_word.upper() + '!!!'\n",
    "    else:\n",
    "        # Concatenate '!!!' to echo_word: echo_word_new\n",
    "        echo_word_new = echo_word + '!!!'\n",
    "\n",
    "    # Return echo_word_new\n",
    "    return echo_word_new\n",
    "\n",
    "# Call shout_echo() with \"Hey\", echo=5 and intense=True: with_big_echo\n",
    "with_big_echo = shout_echo('Hey', echo=5, intense=True)\n",
    "\n",
    "# Call shout_echo() with \"Hey\" and intense=True: big_no_echo\n",
    "big_no_echo = shout_echo('Hey', True)\n",
    "\n",
    "# Print values\n",
    "print(with_big_echo)\n",
    "print(big_no_echo)"
   ]
  },
  {
   "cell_type": "markdown",
   "id": "4d576bd1-517f-49f8-aa95-59f502914167",
   "metadata": {},
   "source": [
    "## Functions with variable-length arguments (*args)\n",
    "\n",
    "Flexible arguments enable you to pass a variable number of arguments to a function. In this exercise, you will practice defining a function that accepts a variable number of string arguments.\n",
    "\n",
    "The function you will define is gibberish() which can accept a variable number of string values. Its return value is a single string composed of all the string arguments concatenated together in the order they were passed to the function call. You will call the function with a single string argument and see how the output changes with another call using more than one string argument. Recall from the previous video that, within the function definition, args is a tuple.\n",
    "Instructions\n",
    "100 XP\n",
    "\n",
    "    Complete the function header with the function name gibberish. It accepts a single flexible argument *args.\n",
    "    Initialize a variable hodgepodge to an empty string.\n",
    "    Return the variable hodgepodge at the end of the function body.\n",
    "    Call gibberish() with the single string, \"luke\". Assign the result to one_word.\n",
    "    Hit the Submit button to call gibberish() with multiple arguments and to print the value to the Shell.\n"
   ]
  },
  {
   "cell_type": "code",
   "execution_count": 72,
   "id": "29f220b7-771d-4723-83fb-af31e07e16bf",
   "metadata": {},
   "outputs": [
    {
     "name": "stdout",
     "output_type": "stream",
     "text": [
      "luke, \n",
      "luke, leia, han, obi, darth, \n"
     ]
    }
   ],
   "source": [
    "# Define gibberish\n",
    "def gibberish(*args):\n",
    "    \"\"\"Concatenate strings in *args together.\"\"\"\n",
    "\n",
    "    # Initialize an empty string: hodgepodge\n",
    "    hodgepodge = str()\n",
    "\n",
    "    # Concatenate the strings in args\n",
    "    for word in args:\n",
    "        hodgepodge = hodgepodge + word + ', '\n",
    "\n",
    "    # Return hodgepodge\n",
    "    return hodgepodge\n",
    "\n",
    "# Call gibberish() with one string: one_word\n",
    "one_word = gibberish('luke')\n",
    "\n",
    "# Call gibberish() with five strings: many_words\n",
    "many_words = gibberish(\"luke\", \"leia\", \"han\", \"obi\", \"darth\")\n",
    "\n",
    "# Print one_word and many_words\n",
    "print(one_word)\n",
    "print(many_words)"
   ]
  },
  {
   "cell_type": "markdown",
   "id": "f1d20036-5a5c-4567-a306-6428b0bbaa66",
   "metadata": {},
   "source": [
    "## Functions with variable-length keyword arguments (**kwargs)\n",
    "\n",
    "Let's push further on what you've learned about flexible arguments - you've used *args, you're now going to use **kwargs! What makes **kwargs different is that it allows you to pass a variable number of keyword arguments to functions. Recall from the previous video that, within the function definition, kwargs is a dictionary.\n",
    "\n",
    "To understand this idea better, you're going to use **kwargs in this exercise to define a function that accepts a variable number of keyword arguments. The function simulates a simple status report system that prints out the status of a character in a movie.\n",
    "Instructions\n",
    "100 XP\n",
    "\n",
    "    Complete the function header with the function name report_status. It accepts a single flexible argument **kwargs.\n",
    "    Iterate over the key-value pairs of kwargs to print out the keys and values, separated by a colon ':'.\n",
    "    In the first call to report_status(), pass the following keyword-value pairs: name=\"luke\", affiliation=\"jedi\" and status=\"missing\".\n",
    "    In the second call to report_status(), pass the following keyword-value pairs: name=\"anakin\", affiliation=\"sith lord\" and status=\"deceased\".\n"
   ]
  },
  {
   "cell_type": "code",
   "execution_count": 79,
   "id": "d4a275b7-16c4-4698-bee6-e2188e854c05",
   "metadata": {},
   "outputs": [
    {
     "name": "stdout",
     "output_type": "stream",
     "text": [
      "\n",
      "****BEGIN: REPORT****\n",
      "name: luke\n",
      "affiliation: jedi\n",
      "status: missing\n",
      "****END REPORT****\n",
      "\n",
      "\n",
      "****BEGIN: REPORT****\n",
      "name: anakin\n",
      "affiliation: sith lord\n",
      "status: decreased\n",
      "****END REPORT****\n",
      "\n"
     ]
    }
   ],
   "source": [
    "# Define report_status\n",
    "def report_status(**kwargs):\n",
    "    \"\"\"Print out the status of a movie character.\"\"\"\n",
    "\n",
    "    print(\"\\n****BEGIN: REPORT****\")\n",
    "\n",
    "    # Iterate over the key-value pairs of kwargs\n",
    "    for key, value in kwargs.items():\n",
    "        # Print out the keys and values, separated by a colon ':'\n",
    "        print(key + \": \" + value)\n",
    "\n",
    "    print(\"****END REPORT****\\n\")\n",
    "\n",
    "# First call to report_status()\n",
    "report_status(name='luke', affiliation='jedi', status='missing')\n",
    "\n",
    "# Second call to report_status()\n",
    "report_status(name='anakin', affiliation='sith lord', status='decreased')"
   ]
  },
  {
   "cell_type": "markdown",
   "id": "d10b544c-33e9-4b3c-943a-405183cf67bf",
   "metadata": {},
   "source": [
    "## Bringing it all together\n",
    "\n",
    "\n",
    "\n",
    "**Its now time to get your hands dirty using you newly acquired skills by applying them to the wonderful world of DataScience: recall that, in the previous chapter, you wrote a function that would perform the following, it would take d DataFrame of Twitter data and return a dictionary containing langurage as keys and the number of times a tweet was written in a given language as values.  \n",
    "\n",
    "\n",
    "# In the following exercises, you will write a function that processes a DataFrame and return a dictionary with counts of occurances in any column at all.  By default however, it will process a column calledlang.  \n",
    "\n",
    "This generalizes the function that you wrote in previous exercises.  You will then generalize this further so that you can pass the function a DataFrame and any number of column names to perform the computation on an arbitrary number of columns.  \n",
    "\n"
   ]
  },
  {
   "cell_type": "markdown",
   "id": "622c3cc8-a314-4e78-9b44-28f4b2cdfbc4",
   "metadata": {},
   "source": [
    "## Bringing it all together (1)\n",
    "\n",
    "Recall the Bringing it all together exercise in the previous chapter where you did a simple Twitter analysis by developing a function that counts how many tweets are in certain languages. The output of your function was a dictionary that had the language as the keys and the counts of tweets in that language as the value.\n",
    "\n",
    "In this exercise, we will generalize the Twitter language analysis that you did in the previous chapter. You will do that by including a default argument that takes a column name.\n",
    "\n",
    "For your convenience, pandas has been imported as pd and the 'tweets.csv' file has been imported into the DataFrame tweets_df. Parts of the code from your previous work are also provided.\n",
    "Instructions\n",
    "100 XP\n",
    "\n",
    "    Complete the function header by supplying the parameter for a DataFrame df and the parameter col_name with a default value of 'lang' for the DataFrame column name.\n",
    "    Call count_entries() by passing the tweets_df DataFrame and the column name 'lang'. Assign the result to result1. Note that since 'lang' is the default value of the col_name parameter, you don't have to specify it here.\n",
    "    Call count_entries() by passing the tweets_df DataFrame and the column name 'source'. Assign the result to result2.\n"
   ]
  },
  {
   "cell_type": "code",
   "execution_count": 100,
   "id": "daba800d-a48c-40b0-936c-8f1304f48fa0",
   "metadata": {},
   "outputs": [
    {
     "name": "stdout",
     "output_type": "stream",
     "text": [
      "{'en': 97, 'et': 1, 'und': 2}\n",
      "{'<a href=\"http://twitter.com\" rel=\"nofollow\">Twitter Web Client</a>': 24, '<a href=\"http://www.facebook.com/twitter\" rel=\"nofollow\">Facebook</a>': 1, '<a href=\"http://twitter.com/download/android\" rel=\"nofollow\">Twitter for Android</a>': 26, '<a href=\"http://twitter.com/download/iphone\" rel=\"nofollow\">Twitter for iPhone</a>': 33, '<a href=\"http://www.twitter.com\" rel=\"nofollow\">Twitter for BlackBerry</a>': 2, '<a href=\"http://www.google.com/\" rel=\"nofollow\">Google</a>': 2, '<a href=\"http://twitter.com/#!/download/ipad\" rel=\"nofollow\">Twitter for iPad</a>': 6, '<a href=\"http://linkis.com\" rel=\"nofollow\">Linkis.com</a>': 2, '<a href=\"http://rutracker.org/forum/viewforum.php?f=93\" rel=\"nofollow\">newzlasz</a>': 2, '<a href=\"http://ifttt.com\" rel=\"nofollow\">IFTTT</a>': 1, '<a href=\"http://www.myplume.com/\" rel=\"nofollow\">Plume\\xa0for\\xa0Android</a>': 1}\n"
     ]
    }
   ],
   "source": [
    "# Define count_entries()\n",
    "def count_entries(df, col_name='lang'):\n",
    "    \"\"\"Return a dictionary with counts of\n",
    "    occurrences as value for each key.\"\"\"\n",
    "\n",
    "    # Initialize an empty dictionary: cols_count\n",
    "    cols_count = {}\n",
    "\n",
    "    # Extract column from DataFrame: col\n",
    "    col = df[col_name]\n",
    "    \n",
    "    # Iterate over the column in DataFrame\n",
    "    for entry in col:\n",
    "\n",
    "        # If entry is in cols_count, add 1\n",
    "        if entry in cols_count.keys():\n",
    "            cols_count[entry] += 1\n",
    "\n",
    "        # Else add the entry to cols_count, set the value to 1\n",
    "        else:\n",
    "            cols_count[entry] = 1\n",
    "\n",
    "    # Return the cols_count dictionary\n",
    "    return cols_count\n",
    "\n",
    "\n",
    "\n",
    "import pandas as pd\n",
    "\n",
    "tweets_df = pd.read_csv('tweets.csv')\n",
    "\n",
    "\n",
    "# Call count_entries(): result1\n",
    "result1 = count_entries(tweets_df)\n",
    "\n",
    "# Call count_entries(): result2\n",
    "result2 = count_entries(tweets_df, 'source')\n",
    "\n",
    "# Print result1 and result2\n",
    "print(result1)\n",
    "print(result2)"
   ]
  },
  {
   "cell_type": "markdown",
   "id": "4b1dbaf1-aa1a-4ae2-8f77-6e3c23a0f49c",
   "metadata": {},
   "source": [
    "## Bringing it all together (2)\n",
    "\n",
    "Wow, you've just generalized your Twitter language analysis that you did in the previous chapter to include a default argument for the column name. You're now going to generalize this function one step further by allowing the user to pass it a flexible argument, that is, in this case, as many column names as the user would like!\n",
    "\n",
    "Once again, for your convenience, pandas has been imported as pd and the 'tweets.csv' file has been imported into the DataFrame tweets_df. Parts of the code from your previous work are also provided.\n",
    "Instructions\n",
    "100 XP\n",
    "\n",
    "#    Complete the function header by supplying the parameter for the dataframe df and the flexible argument *args.\n",
    "    Complete the for loop within the function definition so that the loop occurs over the tuple args.\n",
    "    Call count_entries() by passing the tweets_df DataFrame and the column name 'lang'. Assign the result to result1.\n",
    "    Call count_entries() by passing the tweets_df DataFrame and the column names 'lang' and 'source'. Assign the result to result2.\n"
   ]
  },
  {
   "cell_type": "code",
   "execution_count": 103,
   "id": "15274f5e-54aa-4e1b-b3e3-c1758d553276",
   "metadata": {},
   "outputs": [
    {
     "name": "stdout",
     "output_type": "stream",
     "text": [
      "{'en': 97, 'et': 1, 'und': 2}\n",
      "{'en': 97, 'et': 1, 'und': 2, '<a href=\"http://twitter.com\" rel=\"nofollow\">Twitter Web Client</a>': 24, '<a href=\"http://www.facebook.com/twitter\" rel=\"nofollow\">Facebook</a>': 1, '<a href=\"http://twitter.com/download/android\" rel=\"nofollow\">Twitter for Android</a>': 26, '<a href=\"http://twitter.com/download/iphone\" rel=\"nofollow\">Twitter for iPhone</a>': 33, '<a href=\"http://www.twitter.com\" rel=\"nofollow\">Twitter for BlackBerry</a>': 2, '<a href=\"http://www.google.com/\" rel=\"nofollow\">Google</a>': 2, '<a href=\"http://twitter.com/#!/download/ipad\" rel=\"nofollow\">Twitter for iPad</a>': 6, '<a href=\"http://linkis.com\" rel=\"nofollow\">Linkis.com</a>': 2, '<a href=\"http://rutracker.org/forum/viewforum.php?f=93\" rel=\"nofollow\">newzlasz</a>': 2, '<a href=\"http://ifttt.com\" rel=\"nofollow\">IFTTT</a>': 1, '<a href=\"http://www.myplume.com/\" rel=\"nofollow\">Plume\\xa0for\\xa0Android</a>': 1}\n"
     ]
    }
   ],
   "source": [
    "# Define count_entries()\n",
    "# *************************************************************************************************** #\n",
    "def count_entries(df, *args):\n",
    "    \"\"\"Return a dictionary with counts of\n",
    "    occurrences as value for each key.\"\"\"\n",
    "    \n",
    "    #Initialize an empty dictionary: cols_count\n",
    "    cols_count = {}\n",
    "    \n",
    "    # Iterate over column names in args\n",
    "    for col_name in args:\n",
    "    \n",
    "        # Extract column from DataFrame: col\n",
    "        col = df[col_name]\n",
    "    \n",
    "        # Iterate over the column in DataFrame\n",
    "        for entry in col:\n",
    "    \n",
    "            # If entry is in cols_count, add 1\n",
    "            if entry in cols_count.keys():\n",
    "                cols_count[entry] += 1\n",
    "    \n",
    "            # Else add the entry to cols_count, set the value to 1\n",
    "            else:\n",
    "                cols_count[entry] = 1\n",
    "\n",
    "    # Return the cols_count dictionary\n",
    "    return cols_count\n",
    "\n",
    "\n",
    "\n",
    "\n",
    "import pandas as pd\n",
    "\n",
    "tweet_df = pd.read_csv('tweets.csv')\n",
    "#print(tweet_df.head())\n",
    "\n",
    "\n",
    "# Call count_entries(): result1\n",
    "result1 = count_entries(tweet_df, 'lang')\n",
    "\n",
    "# Call count_entries(): result2\n",
    "result2 = count_entries(tweet_df, 'lang', 'source')\n",
    "\n",
    "# Print result1 and result2\n",
    "print(result1)\n",
    "print(result2)"
   ]
  },
  {
   "cell_type": "code",
   "execution_count": null,
   "id": "dafa8c59-7011-4822-9315-1292deb608f0",
   "metadata": {},
   "outputs": [],
   "source": []
  },
  {
   "cell_type": "markdown",
   "id": "5fef83ca-6878-4b16-a807-e168076cc41c",
   "metadata": {},
   "source": [
    "## Lambda functions\n",
    "\n",
    "\n",
    "\n",
    "**We've written our very own Python functions using the def keyword, function headers, docstrings and function bodies.  \n",
    "\n",
    "# There is a quicker way to write functions on the fly, and these are called ambda functions because you use the keyword lambda.  \n",
    "\n",
    "\n",
    "\n",
    "# ****************************************************************************************************\n",
    "# Here we rewrite our function raise_to_power as a lambda function, to do so, after the keyword lambda, we specify the names of the arguments, then we use a colon followed by the expression that specifies what we wish the function to return.  \n",
    "\n",
    "\n",
    "# ****************************************************************************************************\n",
    "# **Lambda functions allow you to write functions in a quick and potentially dirty way so I wouldnt advice you to use them all the time but there are situations when they can come in very handy.  \n",
    "\n",
    "\n",
    "# ****************************************************************************************************\n",
    "For example, check out the map() function, which takes two arguments, a function and a sequence such as a list and applies the function over all elements of the sequence.  We can pass lambda functions to map without even naming them and in this case we refer to them as anonymous functions.  \n",
    "\n",
    "# ****************************************************************************************************\n",
    "In below example, we use map on a lambda function that squares all elements of a list and well store the result in square_all.  \n"
   ]
  },
  {
   "cell_type": "code",
   "execution_count": 80,
   "id": "5ac7c988-580e-41ee-942c-687317ecb8a5",
   "metadata": {},
   "outputs": [
    {
     "data": {
      "text/plain": [
       "8"
      ]
     },
     "execution_count": 80,
     "metadata": {},
     "output_type": "execute_result"
    }
   ],
   "source": [
    "raise_to_power = lambda x, y: x**y\n",
    "\n",
    "\n",
    "raise_to_power(2, 3)"
   ]
  },
  {
   "cell_type": "code",
   "execution_count": 83,
   "id": "a8fbbd62-0df3-499a-b562-0d1185ea72e9",
   "metadata": {},
   "outputs": [
    {
     "data": {
      "text/plain": [
       "[1, 4, 9, 16, 25, 36]"
      ]
     },
     "execution_count": 83,
     "metadata": {},
     "output_type": "execute_result"
    }
   ],
   "source": [
    "nums = [1, 2, 3, 4, 5, 6]\n",
    "\n",
    "\n",
    "square_all = map(lambda x: x**2, nums)\n",
    "\n",
    "[*square_all]"
   ]
  },
  {
   "cell_type": "markdown",
   "id": "2ce14ef7-2ae4-4913-bbee-3be3fef03825",
   "metadata": {},
   "source": [
    "## Pop quiz on lambda functions\n",
    "\n",
    "In this exercise, you will practice writing a simple lambda function and calling this function. Recall what you know about lambda functions and answer the following questions:\n",
    "\n",
    "    How would you write a lambda function add_bangs that adds three exclamation points '!!!' to the end of a string a?\n",
    "    How would you call add_bangs with the argument 'hello'?\n",
    "\n",
    "You may use the IPython shell to test your code.\n",
    "Instructions\n",
    "50 XP\n",
    "Possible Answers\n",
    "\n",
    "    The lambda function definition is: add_bangs = (a + '!!!'), and the function call is: add_bangs('hello').\n",
    "#    The lambda function definition is: add_bangs = (lambda a: a + '!!!'), and the function call is: add_bangs('hello').\n",
    "    The lambda function definition is: (lambda a: a + '!!!') = add_bangs, and the function call is: add_bangs('hello').\n"
   ]
  },
  {
   "cell_type": "code",
   "execution_count": 87,
   "id": "b9afe764-282a-47b6-bff5-285f81b11ff4",
   "metadata": {},
   "outputs": [
    {
     "name": "stdout",
     "output_type": "stream",
     "text": [
      "Hello!!!\n"
     ]
    },
    {
     "data": {
      "text/plain": [
       "'Bonjue!!!'"
      ]
     },
     "execution_count": 87,
     "metadata": {},
     "output_type": "execute_result"
    }
   ],
   "source": [
    "add_bangs = (lambda a: a + '!!!')\n",
    "add_bangs2 = lambda a: a + '!!!'\n",
    "\n",
    "\n",
    "print(add_bangs('Hello'))\n",
    "add_bangs2('Bonjue')"
   ]
  },
  {
   "cell_type": "markdown",
   "id": "819e49a0-2d9d-4770-a21d-e3b5e2ce4481",
   "metadata": {},
   "source": [
    "## Writing a lambda function you already know\n",
    "\n",
    "# Some function definitions are simple enough that they can be converted to a lambda function. \n",
    "By doing this, you write less lines of code, which is pretty awesome and will come in handy, especially when you're writing and maintaining big programs. In this exercise, you will use what you know about lambda functions to convert a function that does a simple task into a lambda function. Take a look at this function definition:\n",
    "\n",
    "def echo_word(word1, echo):\n",
    "    \"\"\"Concatenate echo copies of word1.\"\"\"\n",
    "    words = word1 * echo\n",
    "    return words\n",
    "\n",
    "The function echo_word takes 2 parameters: a string value, word1 and an integer value, echo. It returns a string that is a concatenation of echo copies of word1. Your task is to convert this simple function into a lambda function.\n",
    "Instructions\n",
    "100 XP\n",
    "\n",
    "    Define the lambda function echo_word using the variables word1 and echo. Replicate what the original function definition for echo_word() does above.\n",
    "    Call echo_word() with the string argument 'hey' and the value 5, in that order. Assign the call to result.\n"
   ]
  },
  {
   "cell_type": "code",
   "execution_count": 88,
   "id": "b0924032-cc98-4bc3-b4a5-bc10f88c372c",
   "metadata": {},
   "outputs": [
    {
     "name": "stdout",
     "output_type": "stream",
     "text": [
      "heyheyheyheyhey\n"
     ]
    }
   ],
   "source": [
    "# Define echo_word as a lambda function: echo_word\n",
    "echo_word = (lambda word1, echo: word1*echo)\n",
    "\n",
    "# Call echo_word: result\n",
    "result = echo_word('hey', 5)\n",
    "\n",
    "# Print result\n",
    "print(result)"
   ]
  },
  {
   "cell_type": "markdown",
   "id": "52c0438e-11e0-46b5-a6da-214a39e42759",
   "metadata": {},
   "source": [
    "## Map() and lambda functions\n",
    "\n",
    "So far, you've used lambda functions to write short, simple functions as well as to redefine functions with simple functionality. The best use case for lambda functions, however, are for when you want these simple functionalities to be anonymously embedded within larger expressions. What that means is that the functionality is not stored in the environment, unlike a function defined with def. To understand this idea better, you will use a lambda function in the context of the map() function.\n",
    "\n",
    "Recall from the video that map() applies a function over an object, such as a list. Here, you can use lambda functions to define the function that map() will use to process the object. For example:\n",
    "\n",
    "nums = [2, 4, 6, 8, 10]\n",
    "\n",
    "result = map(lambda a: a ** 2, nums)\n",
    "\n",
    "You can see here that a lambda function, which raises a value a to the power of 2, is passed to map() alongside a list of numbers, nums. The map object that results from the call to map() is stored in result. You will now practice the use of lambda functions with map(). For this exercise, you will map the functionality of the add_bangs() function you defined in previous exercises over a list of strings.\n",
    "Instructions\n",
    "100 XP\n",
    "\n",
    "    In the map() call, pass a lambda function that concatenates the string '!!!' to a string item; also pass the list of strings, spells. Assign the resulting map object to shout_spells.\n",
    "    Convert shout_spells to a list and print out the list.\n"
   ]
  },
  {
   "cell_type": "code",
   "execution_count": 89,
   "id": "1e46e8f5-bfbf-43fa-86e2-a3ab86d99415",
   "metadata": {},
   "outputs": [
    {
     "name": "stdout",
     "output_type": "stream",
     "text": [
      "['protego!!!', 'accio!!!', 'expecto patronum!!!', 'legilimens!!!']\n"
     ]
    }
   ],
   "source": [
    "# Create a list of strings: spells\n",
    "spells = [\"protego\", \"accio\", \"expecto patronum\", \"legilimens\"]\n",
    "\n",
    "# Use map() to apply a lambda function over spells: shout_spells\n",
    "shout_spells = map(lambda item: item + '!!!', spells)\n",
    "\n",
    "# Convert shout_spells to a list: shout_spells_list\n",
    "shout_spells_list = list(shout_spells)\n",
    "\n",
    "# Print the result\n",
    "print(shout_spells_list)"
   ]
  },
  {
   "cell_type": "markdown",
   "id": "3b40228f-333b-4c4a-8917-6c19a389fe23",
   "metadata": {},
   "source": [
    "## Filter() and lambda functions\n",
    "\n",
    "In the previous exercise, you used lambda functions to anonymously embed an operation within map(). You will practice this again in this exercise by using a lambda function with filter(), which may be new to you! \n",
    "# The function filter() offers a way to filter out elements from a list that don't satisfy certain criteria.\n",
    "\n",
    "Your goal in this exercise is to use filter() to create, from an input list of strings, a new list that contains only strings that have more than 6 characters.\n",
    "Instructions\n",
    "100 XP\n",
    "\n",
    "# ****************************************************************************************************\n",
    "#    In the filter() call, pass a lambda function and the list of strings, fellowship. The lambda function should check if the number of characters in a string member is greater than 6; use the len() function to do this. Assign the resulting filter object to result.\n",
    "    Convert result to a list and print out the list.\n"
   ]
  },
  {
   "cell_type": "code",
   "execution_count": 92,
   "id": "d2ca21cd-ac76-4a39-b63c-82eceeaaf918",
   "metadata": {},
   "outputs": [
    {
     "name": "stdout",
     "output_type": "stream",
     "text": [
      "['samwise', 'aragorn', 'boromir', 'legolas', 'gandalf']\n",
      "Help on class filter in module builtins:\n",
      "\n",
      "class filter(object)\n",
      " |  filter(function or None, iterable) --> filter object\n",
      " |  \n",
      " |  Return an iterator yielding those items of iterable for which function(item)\n",
      " |  is true. If function is None, return the items that are true.\n",
      " |  \n",
      " |  Methods defined here:\n",
      " |  \n",
      " |  __getattribute__(self, name, /)\n",
      " |      Return getattr(self, name).\n",
      " |  \n",
      " |  __iter__(self, /)\n",
      " |      Implement iter(self).\n",
      " |  \n",
      " |  __next__(self, /)\n",
      " |      Implement next(self).\n",
      " |  \n",
      " |  __reduce__(...)\n",
      " |      Return state information for pickling.\n",
      " |  \n",
      " |  ----------------------------------------------------------------------\n",
      " |  Static methods defined here:\n",
      " |  \n",
      " |  __new__(*args, **kwargs) from builtins.type\n",
      " |      Create and return a new object.  See help(type) for accurate signature.\n",
      "\n",
      "None\n"
     ]
    }
   ],
   "source": [
    "# Create a list of strings: fellowship\n",
    "fellowship = ['frodo', 'samwise', 'merry', 'pippin', 'aragorn', 'boromir', 'legolas', 'gimli', 'gandalf']\n",
    "\n",
    "# Use filter() to apply a lambda function over fellowship: result\n",
    "# *************************************************************************************************** #\n",
    "result = filter(lambda member: len(member)>6, fellowship)\n",
    "\n",
    "# Convert result to a list: result_list\n",
    "result_list = list(result)\n",
    "\n",
    "# Print result_list\n",
    "print(result_list)\n",
    "\n",
    "\n",
    "\n",
    "\n",
    "print(help(filter))"
   ]
  },
  {
   "cell_type": "markdown",
   "id": "8861c262-29a3-4fab-8547-5f0826ad695a",
   "metadata": {},
   "source": [
    "## Reduce() and lambda functions\n",
    "\n",
    "# ***************************************************************************************************\n",
    "You're getting very good at using lambda functions! Here's one more function to add to your repertoire of skills. The reduce() function is useful for performing some computation on a list and, unlike map() and filter(), returns a single value as a result. To use reduce(), you must import it from the functools module.\n",
    "\n",
    "Remember gibberish() from a few exercises back?\n",
    "\n",
    "# Define gibberish\n",
    "def gibberish(*args):\n",
    "    \"\"\"Concatenate strings in *args together.\"\"\"\n",
    "    hodgepodge = ''\n",
    "    for word in args:\n",
    "        hodgepodge += word\n",
    "    return hodgepodge\n",
    "\n",
    "gibberish() simply takes a list of strings as an argument and returns, as a single-value result, the concatenation of all of these strings. In this exercise, you will replicate this functionality by using reduce() and a lambda function that concatenates strings together.\n",
    "Instructions\n",
    "100 XP\n",
    "\n",
    "    Import the reduce function from the functools module.\n",
    "    In the reduce() call, pass a lambda function that takes two string arguments item1 and item2 and concatenates them; also pass the list of strings, stark. Assign the result to result. The first argument to reduce() should be the lambda function and the second argument is the list stark.\n"
   ]
  },
  {
   "cell_type": "code",
   "execution_count": 96,
   "id": "1d79e507-f185-49dc-a3da-231326ab05ae",
   "metadata": {},
   "outputs": [
    {
     "name": "stdout",
     "output_type": "stream",
     "text": [
      "robb, sansa, arya, brandon, rickon, \n",
      "Help on built-in function reduce in module _functools:\n",
      "\n",
      "reduce(...)\n",
      "    reduce(function, sequence[, initial]) -> value\n",
      "    \n",
      "    Apply a function of two arguments cumulatively to the items of a sequence,\n",
      "    from left to right, so as to reduce the sequence to a single value.\n",
      "    For example, reduce(lambda x, y: x+y, [1, 2, 3, 4, 5]) calculates\n",
      "    ((((1+2)+3)+4)+5).  If initial is present, it is placed before the items\n",
      "    of the sequence in the calculation, and serves as a default when the\n",
      "    sequence is empty.\n",
      "\n",
      "None\n"
     ]
    }
   ],
   "source": [
    "from functools import reduce\n",
    "\n",
    "# Import reduce from functools\n",
    "\n",
    "# Create a list of strings: stark\n",
    "stark = ['robb', 'sansa', 'arya', 'brandon', 'rickon']\n",
    "\n",
    "stark = [str(i+', ') for i in stark]\n",
    "\n",
    "# Use reduce() to apply a lambda function over stark: result\n",
    "result = reduce(lambda item1, item2: item1+item2, stark)\n",
    "\n",
    "# Print the result\n",
    "print(result)\n",
    "\n",
    "\n",
    "\n",
    "print(help(reduce))"
   ]
  },
  {
   "cell_type": "markdown",
   "id": "a9a35171-2cfb-47ff-a84e-a21f8e03b3d6",
   "metadata": {},
   "source": [
    "## Introduction to error handling\n",
    "\n",
    "\n",
    "\n",
    "**When you use a function incorrectly, it should throw you an error.  \n",
    "\n"
   ]
  },
  {
   "cell_type": "code",
   "execution_count": 98,
   "id": "de426890-9a07-46be-8653-e29f9ac0948d",
   "metadata": {},
   "outputs": [
    {
     "name": "stdout",
     "output_type": "stream",
     "text": [
      "123.0\n",
      "123.876\n"
     ]
    },
    {
     "ename": "ValueError",
     "evalue": "could not convert string to float: 'Hw'",
     "output_type": "error",
     "traceback": [
      "\u001b[0;31m---------------------------------------------------------------------------\u001b[0m",
      "\u001b[0;31mValueError\u001b[0m                                Traceback (most recent call last)",
      "\u001b[0;32m/tmp/ipykernel_2050/1117571921.py\u001b[0m in \u001b[0;36m<module>\u001b[0;34m\u001b[0m\n\u001b[1;32m      7\u001b[0m \u001b[0;34m\u001b[0m\u001b[0m\n\u001b[1;32m      8\u001b[0m \u001b[0;34m\u001b[0m\u001b[0m\n\u001b[0;32m----> 9\u001b[0;31m \u001b[0mprint\u001b[0m\u001b[0;34m(\u001b[0m\u001b[0mfloat\u001b[0m\u001b[0;34m(\u001b[0m\u001b[0;34m'Hw'\u001b[0m\u001b[0;34m)\u001b[0m\u001b[0;34m)\u001b[0m\u001b[0;34m\u001b[0m\u001b[0;34m\u001b[0m\u001b[0m\n\u001b[0m",
      "\u001b[0;31mValueError\u001b[0m: could not convert string to float: 'Hw'"
     ]
    }
   ],
   "source": [
    "print(float(123))\n",
    "\n",
    "\n",
    "\n",
    "print(float('123.876'))\n",
    "\n",
    "\n",
    "\n",
    "print(float('Hw'))"
   ]
  },
  {
   "cell_type": "markdown",
   "id": "90ea51bb-90b0-4adb-aa17-d37cc2924c62",
   "metadata": {},
   "source": [
    "\n",
    "When we write our own functions, we may wish to catch soecific problems and write specific error messages.  Lets check out this user-defined function that computes the square root of a number, it behaves as expected with integers.  What happens if we pass it a string such as 'bonjour sava'? \n",
    "\n",
    "\n",
    "Then it throws me an error corresponding to a line of code within the function definition.  This error says it was some sort of TypeError but the message may not be particularly useful to a user of our function, so we should endeavor to provide useful messages for the functions we write.  \n",
    "\n",
    "# This is an example of an error caught during execution, commonly called exceptions.  The main way to catch such exceptions is the try-except clause, in which Python tries to run the code following try and if it can, all is well.  If it can not, due to an exception, it runs the code following except.  \n",
    "\n",
    "\n",
    "Lets now rewrite our square root function but this time catch any exceptions raised.  "
   ]
  },
  {
   "cell_type": "code",
   "execution_count": 99,
   "id": "9d0ad8c8-5439-40ff-aaf6-47c42d57e5f1",
   "metadata": {},
   "outputs": [
    {
     "name": "stdout",
     "output_type": "stream",
     "text": [
      "3.4641016151377544\n"
     ]
    },
    {
     "ename": "TypeError",
     "evalue": "unsupported operand type(s) for ** or pow(): 'str' and 'float'",
     "output_type": "error",
     "traceback": [
      "\u001b[0;31m---------------------------------------------------------------------------\u001b[0m",
      "\u001b[0;31mTypeError\u001b[0m                                 Traceback (most recent call last)",
      "\u001b[0;32m/tmp/ipykernel_2050/2374814177.py\u001b[0m in \u001b[0;36m<module>\u001b[0;34m\u001b[0m\n\u001b[1;32m      8\u001b[0m \u001b[0;34m\u001b[0m\u001b[0m\n\u001b[1;32m      9\u001b[0m \u001b[0;34m\u001b[0m\u001b[0m\n\u001b[0;32m---> 10\u001b[0;31m \u001b[0mprint\u001b[0m\u001b[0;34m(\u001b[0m\u001b[0msqrt\u001b[0m\u001b[0;34m(\u001b[0m\u001b[0;34m'bonjour sawa'\u001b[0m\u001b[0;34m)\u001b[0m\u001b[0;34m)\u001b[0m\u001b[0;34m\u001b[0m\u001b[0;34m\u001b[0m\u001b[0m\n\u001b[0m",
      "\u001b[0;32m/tmp/ipykernel_2050/2374814177.py\u001b[0m in \u001b[0;36msqrt\u001b[0;34m(x)\u001b[0m\n\u001b[1;32m      1\u001b[0m \u001b[0;32mdef\u001b[0m \u001b[0msqrt\u001b[0m\u001b[0;34m(\u001b[0m\u001b[0mx\u001b[0m\u001b[0;34m)\u001b[0m\u001b[0;34m:\u001b[0m\u001b[0;34m\u001b[0m\u001b[0;34m\u001b[0m\u001b[0m\n\u001b[1;32m      2\u001b[0m     \u001b[0;34m'''Returns the square root of a value'''\u001b[0m\u001b[0;34m\u001b[0m\u001b[0;34m\u001b[0m\u001b[0m\n\u001b[0;32m----> 3\u001b[0;31m     \u001b[0;32mreturn\u001b[0m \u001b[0mx\u001b[0m\u001b[0;34m**\u001b[0m\u001b[0;34m(\u001b[0m\u001b[0;36m0.5\u001b[0m\u001b[0;34m)\u001b[0m\u001b[0;34m\u001b[0m\u001b[0;34m\u001b[0m\u001b[0m\n\u001b[0m\u001b[1;32m      4\u001b[0m \u001b[0;34m\u001b[0m\u001b[0m\n\u001b[1;32m      5\u001b[0m \u001b[0;34m\u001b[0m\u001b[0m\n",
      "\u001b[0;31mTypeError\u001b[0m: unsupported operand type(s) for ** or pow(): 'str' and 'float'"
     ]
    }
   ],
   "source": [
    "def sqrt(x):\n",
    "    '''Returns the square root of a value'''\n",
    "    return x**(0.5)\n",
    "\n",
    "\n",
    "\n",
    "print(sqrt(12))\n",
    "\n",
    "\n",
    "print(sqrt('bonjour sawa'))"
   ]
  },
  {
   "cell_type": "code",
   "execution_count": 105,
   "id": "e821659c-4f9f-440e-8c56-b2cc35b77182",
   "metadata": {},
   "outputs": [
    {
     "name": "stdout",
     "output_type": "stream",
     "text": [
      "3.4641016151377544\n",
      "keep arg as int or float please! \n",
      "None\n"
     ]
    }
   ],
   "source": [
    "def sqrt(x):\n",
    "    '''Returns the square root of an value'''\n",
    "    try:\n",
    "        return x**(0.5)\n",
    "    except:\n",
    "        print('keep arg as int or float please! ')\n",
    "        \n",
    "        \n",
    "        \n",
    "print(sqrt(12))\n",
    "\n",
    "print(sqrt('bonjour sawa'))"
   ]
  },
  {
   "cell_type": "markdown",
   "id": "9b59eeea-1677-4a80-8033-dc4be1fd0d26",
   "metadata": {},
   "source": [
    "**We may also wish to only catch TypeError and let other error pass through, in which case we would use except TypeError as you can see below.  \n",
    "\n",
    "There are many other types of exceptions that can be caught and you can get familiar with them by practice.  "
   ]
  },
  {
   "cell_type": "code",
   "execution_count": 115,
   "id": "37296b50-c9d1-45df-aa6f-dc0995ce4c15",
   "metadata": {},
   "outputs": [
    {
     "name": "stdout",
     "output_type": "stream",
     "text": [
      "lease keep arg x as int or float\n",
      "lease keep arg x as int or float\n"
     ]
    },
    {
     "data": {
      "text/plain": [
       "(6.121090488658852e-15+99.96499387285532j)"
      ]
     },
     "execution_count": 115,
     "metadata": {},
     "output_type": "execute_result"
    }
   ],
   "source": [
    "def sqrt(x):\n",
    "    '''Return the square root of an value'''\n",
    "    \n",
    "    try:\n",
    "        return x**(0.5)\n",
    "    except TypeError:\n",
    "        print('lease keep arg x as int or float')\n",
    "        \n",
    "        \n",
    "        \n",
    "sqrt('bonjour')\n",
    "\n",
    "x = [1, 2, 3, 4, 5, 6]\n",
    "sqrt(x)\n",
    "\n",
    "sqrt(-9993)"
   ]
  },
  {
   "cell_type": "markdown",
   "id": "ca6f4ab4-11f7-49bd-891c-2a7f34c256c1",
   "metadata": {},
   "source": [
    "# **More often than not, instead of merely printing an error message, we'll want to actually raise an error by using he keyward raise.  \n",
    "\n",
    "# ***************************************************************************************************\n",
    "For example, our square root function does something we may not desire, when applied to negatuive numbers.  It actually returns a complex number which we may not want.  In fact, lets say that we dont wish our function to work for negative numbers.  Then using an if clause, we can raise a ValueError for cases in which he user passes the function a negative number.  \n"
   ]
  },
  {
   "cell_type": "code",
   "execution_count": 119,
   "id": "a91977ee-9551-414b-90f6-4666523c8b2f",
   "metadata": {},
   "outputs": [
    {
     "name": "stdout",
     "output_type": "stream",
     "text": [
      "5.656854249492381\n"
     ]
    },
    {
     "ename": "ValueError",
     "evalue": "arg x must be positive value",
     "output_type": "error",
     "traceback": [
      "\u001b[0;31m---------------------------------------------------------------------------\u001b[0m",
      "\u001b[0;31mValueError\u001b[0m                                Traceback (most recent call last)",
      "\u001b[0;32m/tmp/ipykernel_2050/2806178859.py\u001b[0m in \u001b[0;36m<module>\u001b[0;34m\u001b[0m\n\u001b[1;32m     18\u001b[0m \u001b[0;31m#print(sqrt('bonjour'))\u001b[0m\u001b[0;34m\u001b[0m\u001b[0;34m\u001b[0m\u001b[0;34m\u001b[0m\u001b[0m\n\u001b[1;32m     19\u001b[0m \u001b[0;34m\u001b[0m\u001b[0m\n\u001b[0;32m---> 20\u001b[0;31m \u001b[0mprint\u001b[0m\u001b[0;34m(\u001b[0m\u001b[0msqrt\u001b[0m\u001b[0;34m(\u001b[0m\u001b[0;34m-\u001b[0m\u001b[0;36m9\u001b[0m\u001b[0;34m)\u001b[0m\u001b[0;34m)\u001b[0m\u001b[0;34m\u001b[0m\u001b[0;34m\u001b[0m\u001b[0m\n\u001b[0m",
      "\u001b[0;32m/tmp/ipykernel_2050/2806178859.py\u001b[0m in \u001b[0;36msqrt\u001b[0;34m(x)\u001b[0m\n\u001b[1;32m      5\u001b[0m \u001b[0;34m\u001b[0m\u001b[0m\n\u001b[1;32m      6\u001b[0m     \u001b[0;32melif\u001b[0m \u001b[0mx\u001b[0m\u001b[0;34m<\u001b[0m\u001b[0;36m0\u001b[0m\u001b[0;34m:\u001b[0m\u001b[0;34m\u001b[0m\u001b[0;34m\u001b[0m\u001b[0m\n\u001b[0;32m----> 7\u001b[0;31m         \u001b[0;32mraise\u001b[0m \u001b[0mValueError\u001b[0m\u001b[0;34m(\u001b[0m\u001b[0;34m'arg x must be positive value'\u001b[0m\u001b[0;34m)\u001b[0m\u001b[0;34m\u001b[0m\u001b[0;34m\u001b[0m\u001b[0m\n\u001b[0m\u001b[1;32m      8\u001b[0m \u001b[0;34m\u001b[0m\u001b[0m\n\u001b[1;32m      9\u001b[0m     \u001b[0;32mtry\u001b[0m\u001b[0;34m:\u001b[0m\u001b[0;34m\u001b[0m\u001b[0;34m\u001b[0m\u001b[0m\n",
      "\u001b[0;31mValueError\u001b[0m: arg x must be positive value"
     ]
    }
   ],
   "source": [
    "def sqrt(x):\n",
    "    '''Return the square root of given number'''\n",
    "    if isinstance(x, str):\n",
    "        raise TypeError('Keep arg x not str please')\n",
    "    \n",
    "    elif x<0:\n",
    "        raise ValueError('arg x must be positive value')\n",
    "        \n",
    "    try:\n",
    "        return x**(0.5)\n",
    "    except TypeError:\n",
    "        print('Please keep arg x in int or float')\n",
    "        \n",
    "        \n",
    "        \n",
    "print(sqrt(32))\n",
    "\n",
    "#print(sqrt('bonjour'))\n",
    "\n",
    "print(sqrt(-9))"
   ]
  },
  {
   "cell_type": "markdown",
   "id": "74190901-1f12-40c4-8fc2-1a16c1e5d88e",
   "metadata": {},
   "source": [
    "## Pop quiz about errors\n",
    "\n",
    "In the video, Hugo talked about how errors happen when functions are supplied arguments that they are unable to work with. In this exercise, you will identify which function call raises an error and what type of error is raised.\n",
    "\n",
    "Take a look at the following function calls to len():\n",
    "\n",
    "len('There is a beast in every man and it stirs when you put a sword in his hand.')\n",
    "\n",
    "len(['robb', 'sansa', 'arya', 'eddard', 'jon'])\n",
    "\n",
    "len(525600)\n",
    "\n",
    "len(('jaime', 'cersei', 'tywin', 'tyrion', 'joffrey'))\n",
    "\n",
    "Which of the function calls raises an error and what type of error is raised?\n",
    "Instructions\n",
    "50 XP\n",
    "Possible Answers\n",
    "\n",
    "    The call len('There is a beast in every man and it stirs when you put a sword in his hand.') raises a TypeError.\n",
    "    The call len(['robb', 'sansa', 'arya', 'eddard', 'jon']) raises an IndexError.\n",
    "    The call len(525600) raises a TypeError.\n",
    "    The call len(('jaime', 'cersei', 'tywin', 'tyrion', 'joffrey')) raises a NameError.\n",
    "    "
   ]
  },
  {
   "cell_type": "code",
   "execution_count": 122,
   "id": "64e0825e-f910-46b5-81e3-e960828cf9ce",
   "metadata": {},
   "outputs": [
    {
     "name": "stdout",
     "output_type": "stream",
     "text": [
      "76\n",
      "5\n"
     ]
    },
    {
     "ename": "TypeError",
     "evalue": "object of type 'int' has no len()",
     "output_type": "error",
     "traceback": [
      "\u001b[0;31m---------------------------------------------------------------------------\u001b[0m",
      "\u001b[0;31mTypeError\u001b[0m                                 Traceback (most recent call last)",
      "\u001b[0;32m/tmp/ipykernel_2050/2663335164.py\u001b[0m in \u001b[0;36m<module>\u001b[0;34m\u001b[0m\n\u001b[1;32m      3\u001b[0m \u001b[0mprint\u001b[0m\u001b[0;34m(\u001b[0m\u001b[0mlen\u001b[0m\u001b[0;34m(\u001b[0m\u001b[0;34m[\u001b[0m\u001b[0;34m'robb'\u001b[0m\u001b[0;34m,\u001b[0m \u001b[0;34m'sansa'\u001b[0m\u001b[0;34m,\u001b[0m \u001b[0;34m'arya'\u001b[0m\u001b[0;34m,\u001b[0m \u001b[0;34m'eddard'\u001b[0m\u001b[0;34m,\u001b[0m \u001b[0;34m'jon'\u001b[0m\u001b[0;34m]\u001b[0m\u001b[0;34m)\u001b[0m\u001b[0;34m)\u001b[0m\u001b[0;34m\u001b[0m\u001b[0;34m\u001b[0m\u001b[0m\n\u001b[1;32m      4\u001b[0m \u001b[0;34m\u001b[0m\u001b[0m\n\u001b[0;32m----> 5\u001b[0;31m \u001b[0mprint\u001b[0m\u001b[0;34m(\u001b[0m\u001b[0mlen\u001b[0m\u001b[0;34m(\u001b[0m\u001b[0;36m525600\u001b[0m\u001b[0;34m)\u001b[0m\u001b[0;34m)\u001b[0m\u001b[0;34m\u001b[0m\u001b[0;34m\u001b[0m\u001b[0m\n\u001b[0m\u001b[1;32m      6\u001b[0m \u001b[0;34m\u001b[0m\u001b[0m\n\u001b[1;32m      7\u001b[0m \u001b[0mprint\u001b[0m\u001b[0;34m(\u001b[0m\u001b[0mlen\u001b[0m\u001b[0;34m(\u001b[0m\u001b[0;34m(\u001b[0m\u001b[0;34m'jaime'\u001b[0m\u001b[0;34m,\u001b[0m \u001b[0;34m'cersei'\u001b[0m\u001b[0;34m,\u001b[0m \u001b[0;34m'tywin'\u001b[0m\u001b[0;34m,\u001b[0m \u001b[0;34m'tyrion'\u001b[0m\u001b[0;34m,\u001b[0m \u001b[0;34m'joffrey'\u001b[0m\u001b[0;34m)\u001b[0m\u001b[0;34m)\u001b[0m\u001b[0;34m)\u001b[0m\u001b[0;34m\u001b[0m\u001b[0;34m\u001b[0m\u001b[0m\n",
      "\u001b[0;31mTypeError\u001b[0m: object of type 'int' has no len()"
     ]
    }
   ],
   "source": [
    "print(len('There is a beast in every man and it stirs when you put a sword in his hand.'))\n",
    "\n",
    "print(len(['robb', 'sansa', 'arya', 'eddard', 'jon']))\n",
    "\n",
    "print(len(525600))\n",
    "\n",
    "print(len(('jaime', 'cersei', 'tywin', 'tyrion', 'joffrey')))"
   ]
  },
  {
   "cell_type": "code",
   "execution_count": 125,
   "id": "26c40a0f-cdd1-43bb-8902-d448f469f3a3",
   "metadata": {},
   "outputs": [
    {
     "name": "stdout",
     "output_type": "stream",
     "text": [
      "['__abs__', '__add__', '__and__', '__bool__', '__ceil__', '__class__', '__delattr__', '__dir__', '__divmod__', '__doc__', '__eq__', '__float__', '__floor__', '__floordiv__', '__format__', '__ge__', '__getattribute__', '__getnewargs__', '__gt__', '__hash__', '__index__', '__init__', '__init_subclass__', '__int__', '__invert__', '__le__', '__lshift__', '__lt__', '__mod__', '__mul__', '__ne__', '__neg__', '__new__', '__or__', '__pos__', '__pow__', '__radd__', '__rand__', '__rdivmod__', '__reduce__', '__reduce_ex__', '__repr__', '__rfloordiv__', '__rlshift__', '__rmod__', '__rmul__', '__ror__', '__round__', '__rpow__', '__rrshift__', '__rshift__', '__rsub__', '__rtruediv__', '__rxor__', '__setattr__', '__sizeof__', '__str__', '__sub__', '__subclasshook__', '__truediv__', '__trunc__', '__xor__', 'as_integer_ratio', 'bit_length', 'conjugate', 'denominator', 'from_bytes', 'imag', 'numerator', 'real', 'to_bytes']\n"
     ]
    }
   ],
   "source": [
    "print(dir(12345))\n",
    "\n",
    "\n",
    "#print(help(12345))"
   ]
  },
  {
   "cell_type": "markdown",
   "id": "b76c2642-5dca-4aec-b780-af4ebd8da207",
   "metadata": {},
   "source": [
    "## Error handling with try-except\n",
    "\n",
    "A good practice in writing your own functions is also anticipating the ways in which other people (or yourself, if you accidentally misuse your own function) might use the function you defined.\n",
    "\n",
    "As in the previous exercise, you saw that the len() function is able to handle input arguments such as strings, lists, and tuples, but not int type ones and raises an appropriate error and error message when it encounters invalid input arguments. One way of doing this is through exception handling with the try-except block.\n",
    "\n",
    "# In this exercise, you will define a function as well as use a try-except block for handling cases when incorrect input arguments are passed to the function.\n",
    "\n",
    "Recall the shout_echo() function you defined in previous exercises; parts of the function definition are provided in the sample code. Your goal is to complete the exception handling code in the function definition and provide an appropriate error message when raising an error.\n",
    "Instructions\n",
    "100 XP\n",
    "\n",
    "    Initialize the variables echo_word and shout_words to empty strings.\n",
    "    Add the keywords try and except in the appropriate locations for the exception handling block.\n",
    "    Use the * operator to concatenate echo copies of word1. Assign the result to echo_word.\n",
    "    Concatenate the string '!!!' to echo_word. Assign the result to shout_words.\n"
   ]
  },
  {
   "cell_type": "code",
   "execution_count": 128,
   "id": "31a133eb-b5bb-4290-bc6b-4685cf4eb0ce",
   "metadata": {},
   "outputs": [
    {
     "ename": "TypeError",
     "evalue": "Please keep first arg word1 in str and second arg echo in int",
     "output_type": "error",
     "traceback": [
      "\u001b[0;31m---------------------------------------------------------------------------\u001b[0m",
      "\u001b[0;31mTypeError\u001b[0m                                 Traceback (most recent call last)",
      "\u001b[0;32m/tmp/ipykernel_2050/1076609540.py\u001b[0m in \u001b[0;36m<module>\u001b[0;34m\u001b[0m\n\u001b[1;32m     32\u001b[0m \u001b[0;34m\u001b[0m\u001b[0m\n\u001b[1;32m     33\u001b[0m \u001b[0;31m# Call shout_echo\u001b[0m\u001b[0;34m\u001b[0m\u001b[0;34m\u001b[0m\u001b[0;34m\u001b[0m\u001b[0m\n\u001b[0;32m---> 34\u001b[0;31m \u001b[0mshout_echo\u001b[0m\u001b[0;34m(\u001b[0m\u001b[0;34m\"particle\"\u001b[0m\u001b[0;34m,\u001b[0m \u001b[0mecho\u001b[0m\u001b[0;34m=\u001b[0m\u001b[0;34m\"accelerator\"\u001b[0m\u001b[0;34m)\u001b[0m\u001b[0;34m\u001b[0m\u001b[0;34m\u001b[0m\u001b[0m\n\u001b[0m",
      "\u001b[0;32m/tmp/ipykernel_2050/1076609540.py\u001b[0m in \u001b[0;36mshout_echo\u001b[0;34m(word1, echo)\u001b[0m\n\u001b[1;32m     11\u001b[0m \u001b[0;34m\u001b[0m\u001b[0m\n\u001b[1;32m     12\u001b[0m     \u001b[0;32mif\u001b[0m \u001b[0;32mnot\u001b[0m \u001b[0misinstance\u001b[0m\u001b[0;34m(\u001b[0m\u001b[0mword1\u001b[0m\u001b[0;34m,\u001b[0m \u001b[0mstr\u001b[0m\u001b[0;34m)\u001b[0m \u001b[0;32mor\u001b[0m \u001b[0;32mnot\u001b[0m \u001b[0misinstance\u001b[0m\u001b[0;34m(\u001b[0m\u001b[0mecho\u001b[0m\u001b[0;34m,\u001b[0m \u001b[0mint\u001b[0m\u001b[0;34m)\u001b[0m\u001b[0;34m:\u001b[0m\u001b[0;34m\u001b[0m\u001b[0;34m\u001b[0m\u001b[0m\n\u001b[0;32m---> 13\u001b[0;31m         \u001b[0;32mraise\u001b[0m \u001b[0mTypeError\u001b[0m\u001b[0;34m(\u001b[0m\u001b[0;34m'Please keep first arg word1 in str and second arg echo in int'\u001b[0m\u001b[0;34m)\u001b[0m\u001b[0;34m\u001b[0m\u001b[0;34m\u001b[0m\u001b[0m\n\u001b[0m\u001b[1;32m     14\u001b[0m \u001b[0;34m\u001b[0m\u001b[0m\n\u001b[1;32m     15\u001b[0m \u001b[0;34m\u001b[0m\u001b[0m\n",
      "\u001b[0;31mTypeError\u001b[0m: Please keep first arg word1 in str and second arg echo in int"
     ]
    }
   ],
   "source": [
    "# Define shout_echo\n",
    "def shout_echo(word1, echo=1):\n",
    "    \"\"\"Concatenate echo copies of word1 and three\n",
    "    exclamation marks at the end of the string.\"\"\"\n",
    "\n",
    "    # Initialize empty strings: echo_word, shout_words\n",
    "    echo_word = str()\n",
    "    shout_words = str()\n",
    "    \n",
    "    \n",
    "    \n",
    "    if not isinstance(word1, str) or not isinstance(echo, int):\n",
    "        raise TypeError('Please keep first arg word1 in str and second arg echo in int')\n",
    "    \n",
    "    \n",
    "    \n",
    "    # Add exception handling with try-except\n",
    "    try:\n",
    "        # Concatenate echo copies of word1 using *: echo_word\n",
    "        echo_word = word1 * echo\n",
    "\n",
    "        # Concatenate '!!!' to echo_word: shout_words\n",
    "        shout_words = echo_word + '!!!'\n",
    "    except ValueError:\n",
    "        # Print error message\n",
    "        print(\"word1 must be a string and echo must be an integer.\")\n",
    "\n",
    "    # Return shout_words\n",
    "    return shout_words\n",
    "\n",
    "\n",
    "\n",
    "# Call shout_echo\n",
    "shout_echo(\"particle\", echo=\"accelerator\")"
   ]
  },
  {
   "cell_type": "code",
   "execution_count": null,
   "id": "2e326198-f769-4a41-a242-f6a399a26491",
   "metadata": {},
   "outputs": [],
   "source": [
    "# Solution:\n",
    "\n",
    "# Define shout_echo\n",
    "def shout_echo(word1, echo=1):\n",
    "    \"\"\"Concatenate echo copies of word1 and three\n",
    "    exclamation marks at the end of the string.\"\"\"\n",
    "\n",
    "    # Initialize empty strings: echo_word, shout_words\n",
    "    echo_word = ''\n",
    "    shout_words = ''\n",
    "\n",
    "    # Add exception handling with try-except\n",
    "    try:\n",
    "        # Concatenate echo copies of word1 using *: echo_word\n",
    "        echo_word = word1 * echo\n",
    "\n",
    "        # Concatenate '!!!' to echo_word: shout_words\n",
    "        shout_words = echo_word + '!!!'\n",
    "    except:\n",
    "        # Print error message\n",
    "        print(\"word1 must be a string and echo must be an integer.\")\n",
    "\n",
    "    # Return shout_words\n",
    "    return shout_words\n",
    "\n",
    "# Call shout_echo\n",
    "shout_echo(\"particle\", echo=\"accelerator\")"
   ]
  },
  {
   "cell_type": "markdown",
   "id": "3676f6a2-c948-4f5e-a7b0-1d1c525a641c",
   "metadata": {},
   "source": [
    "## Error handling by raising an error\n",
    "\n",
    "Another way to raise an error is by using raise. In this exercise, you will add a raise statement to the shout_echo() function you defined before to raise an error message when the value supplied by the user to the echo argument is less than 0.\n",
    "\n",
    "The call to shout_echo() uses valid argument values. To test and see how the raise statement works, simply change the value for the echo argument to a negative value. Don't forget to change it back to valid values to move on to the next exercise!\n",
    "Instructions\n",
    "100 XP\n",
    "\n",
    "    Complete the if statement by checking if the value of echo is less than 0.\n",
    "    In the body of the if statement, add a raise statement that raises a ValueError with message 'echo must be greater than or equal to 0' when the value supplied by the user to echo is less than 0.\n"
   ]
  },
  {
   "cell_type": "code",
   "execution_count": null,
   "id": "64b3b550-86d9-4967-9463-4b1015df7b5b",
   "metadata": {},
   "outputs": [
    {
     "ename": "ValueError",
     "evalue": "echo must be greater or equal to 0",
     "output_type": "error",
     "traceback": [
      "\u001b[0;31m---------------------------------------------------------------------------\u001b[0m",
      "\u001b[0;31mValueError\u001b[0m                                Traceback (most recent call last)",
      "\u001b[0;32m/tmp/ipykernel_2050/925509444.py\u001b[0m in \u001b[0;36m<module>\u001b[0;34m\u001b[0m\n\u001b[1;32m     20\u001b[0m \u001b[0;34m\u001b[0m\u001b[0m\n\u001b[1;32m     21\u001b[0m \u001b[0;31m# Call shout_echo\u001b[0m\u001b[0;34m\u001b[0m\u001b[0;34m\u001b[0m\u001b[0;34m\u001b[0m\u001b[0m\n\u001b[0;32m---> 22\u001b[0;31m \u001b[0mshout_echo\u001b[0m\u001b[0;34m(\u001b[0m\u001b[0;34m\"particle\"\u001b[0m\u001b[0;34m,\u001b[0m \u001b[0mecho\u001b[0m\u001b[0;34m=\u001b[0m\u001b[0;34m-\u001b[0m\u001b[0;36m5\u001b[0m\u001b[0;34m)\u001b[0m\u001b[0;34m\u001b[0m\u001b[0;34m\u001b[0m\u001b[0m\n\u001b[0m",
      "\u001b[0;32m/tmp/ipykernel_2050/925509444.py\u001b[0m in \u001b[0;36mshout_echo\u001b[0;34m(word1, echo)\u001b[0m\n\u001b[1;32m      6\u001b[0m     \u001b[0;31m# Raise an error with raise\u001b[0m\u001b[0;34m\u001b[0m\u001b[0;34m\u001b[0m\u001b[0;34m\u001b[0m\u001b[0m\n\u001b[1;32m      7\u001b[0m     \u001b[0;32mif\u001b[0m \u001b[0mecho\u001b[0m \u001b[0;34m<\u001b[0m \u001b[0;36m0\u001b[0m\u001b[0;34m:\u001b[0m\u001b[0;34m\u001b[0m\u001b[0;34m\u001b[0m\u001b[0m\n\u001b[0;32m----> 8\u001b[0;31m         \u001b[0;32mraise\u001b[0m \u001b[0mValueError\u001b[0m\u001b[0;34m(\u001b[0m\u001b[0;34m'echo must be greater or equal to 0'\u001b[0m\u001b[0;34m)\u001b[0m\u001b[0;34m\u001b[0m\u001b[0;34m\u001b[0m\u001b[0m\n\u001b[0m\u001b[1;32m      9\u001b[0m \u001b[0;34m\u001b[0m\u001b[0m\n\u001b[1;32m     10\u001b[0m     \u001b[0;31m# Concatenate echo copies of word1 using *: echo_word\u001b[0m\u001b[0;34m\u001b[0m\u001b[0;34m\u001b[0m\u001b[0;34m\u001b[0m\u001b[0m\n",
      "\u001b[0;31mValueError\u001b[0m: echo must be greater or equal to 0"
     ]
    }
   ],
   "source": [
    "# Define shout_echo\n",
    "def shout_echo(word1, echo=1):\n",
    "    \"\"\"Concatenate echo copies of word1 and three\n",
    "    exclamation marks at the end of the string.\"\"\"\n",
    "\n",
    "    # Raise an error with raise\n",
    "    if echo < 0:\n",
    "        raise ValueError('echo must be greater or equal to 0')\n",
    "\n",
    "    # Concatenate echo copies of word1 using *: echo_word\n",
    "    echo_word = word1 * echo\n",
    "\n",
    "    # Concatenate '!!!' to echo_word: shout_word\n",
    "    shout_word = echo_word + '!!!'\n",
    "\n",
    "    # Return shout_word\n",
    "    return shout_word\n",
    "\n",
    "\n",
    "\n",
    "# Call shout_echo\n",
    "shout_echo(\"particle\", echo=5)"
   ]
  },
  {
   "cell_type": "markdown",
   "id": "eec80a0e-3653-453b-ac5e-63c4d61df5b0",
   "metadata": {},
   "source": [
    "## Bringing it all together\n",
    "\n",
    "\n",
    "\n",
    "\n",
    "**You're now tgoing to use your hard-earnt skills to write error messages into your DataFrame analyzer that you have been building up in previous chapters: lets say that a user of your function passes your function the name of a column that isnt a column in the DF that they passed it, you'll want them know.  \n",
    "\n"
   ]
  },
  {
   "cell_type": "code",
   "execution_count": 130,
   "id": "e67c4c0f-c4bc-4e37-8a73-2a15bd4f9d2a",
   "metadata": {},
   "outputs": [
    {
     "data": {
      "text/plain": [
       "3.4641016151377544"
      ]
     },
     "execution_count": 130,
     "metadata": {},
     "output_type": "execute_result"
    }
   ],
   "source": [
    "def sqrt(x):\n",
    "    '''Return squrt value of given arg'''\n",
    "    try:\n",
    "        return x**(0.5)\n",
    "    except:\n",
    "        print('x must be int or float')\n",
    "        \n",
    "        \n",
    "sqrt(12)"
   ]
  },
  {
   "cell_type": "code",
   "execution_count": 134,
   "id": "1c6a309e-553e-4f36-a7e5-b79aa30c2332",
   "metadata": {},
   "outputs": [
    {
     "ename": "TypeError",
     "evalue": "please keep argx as a value",
     "output_type": "error",
     "traceback": [
      "\u001b[0;31m---------------------------------------------------------------------------\u001b[0m",
      "\u001b[0;31mTypeError\u001b[0m                                 Traceback (most recent call last)",
      "\u001b[0;32m/tmp/ipykernel_2050/1935712354.py\u001b[0m in \u001b[0;36m<module>\u001b[0;34m\u001b[0m\n\u001b[1;32m     15\u001b[0m \u001b[0;34m\u001b[0m\u001b[0m\n\u001b[1;32m     16\u001b[0m \u001b[0;31m#sqrt(-9)\u001b[0m\u001b[0;34m\u001b[0m\u001b[0;34m\u001b[0m\u001b[0;34m\u001b[0m\u001b[0m\n\u001b[0;32m---> 17\u001b[0;31m \u001b[0msqrt\u001b[0m\u001b[0;34m(\u001b[0m\u001b[0;34m'bongour'\u001b[0m\u001b[0;34m)\u001b[0m\u001b[0;34m\u001b[0m\u001b[0;34m\u001b[0m\u001b[0m\n\u001b[0m",
      "\u001b[0;32m/tmp/ipykernel_2050/1935712354.py\u001b[0m in \u001b[0;36msqrt\u001b[0;34m(x)\u001b[0m\n\u001b[1;32m      3\u001b[0m \u001b[0;34m\u001b[0m\u001b[0m\n\u001b[1;32m      4\u001b[0m     \u001b[0;32mif\u001b[0m \u001b[0;32mnot\u001b[0m \u001b[0misinstance\u001b[0m\u001b[0;34m(\u001b[0m\u001b[0mx\u001b[0m\u001b[0;34m,\u001b[0m \u001b[0mint\u001b[0m\u001b[0;34m)\u001b[0m\u001b[0;34m:\u001b[0m\u001b[0;34m\u001b[0m\u001b[0;34m\u001b[0m\u001b[0m\n\u001b[0;32m----> 5\u001b[0;31m         \u001b[0;32mraise\u001b[0m \u001b[0mTypeError\u001b[0m\u001b[0;34m(\u001b[0m\u001b[0;34m'please keep argx as a value'\u001b[0m\u001b[0;34m)\u001b[0m\u001b[0;34m\u001b[0m\u001b[0;34m\u001b[0m\u001b[0m\n\u001b[0m\u001b[1;32m      6\u001b[0m     \u001b[0;32melif\u001b[0m \u001b[0mx\u001b[0m \u001b[0;34m<\u001b[0m \u001b[0;36m0\u001b[0m\u001b[0;34m:\u001b[0m\u001b[0;34m\u001b[0m\u001b[0;34m\u001b[0m\u001b[0m\n\u001b[1;32m      7\u001b[0m         \u001b[0;32mraise\u001b[0m \u001b[0mValueError\u001b[0m\u001b[0;34m(\u001b[0m\u001b[0;34m'arg x must be non-negative'\u001b[0m\u001b[0;34m)\u001b[0m\u001b[0;34m\u001b[0m\u001b[0;34m\u001b[0m\u001b[0m\n",
      "\u001b[0;31mTypeError\u001b[0m: please keep argx as a value"
     ]
    }
   ],
   "source": [
    "def sqrt(x):\n",
    "    '''Return sqrt root of given number'''\n",
    "    \n",
    "    if not isinstance(x, int):\n",
    "        raise TypeError('please keep argx as a value')\n",
    "    elif x < 0:\n",
    "        raise ValueError('arg x must be non-negative')\n",
    "        \n",
    "    try:\n",
    "        return x**(0.5)\n",
    "    except TypeError:\n",
    "        print('x must be int or float')\n",
    "        \n",
    "        \n",
    "        \n",
    "#sqrt(-9)\n",
    "sqrt('bongour')"
   ]
  },
  {
   "cell_type": "markdown",
   "id": "b85ec87e-0c07-45f5-82d5-d2505c65a36b",
   "metadata": {},
   "source": [
    "## Bringing it all together (1)\n",
    "\n",
    "This is awesome! You have now learned how to write anonymous functions using lambda, how to pass lambda functions as arguments to other functions such as map(), filter(), and reduce(), as well as how to write errors and output custom error messages within your functions. You will now put together these learnings to good use by working with a Twitter dataset. Before practicing your new error handling skills,in this exercise, you will write a lambda function and use filter() to select retweets, that is, tweets that begin with the string 'RT'.\n",
    "\n",
    "To help you accomplish this, the Twitter data has been imported into the DataFrame, tweets_df. Go for it!\n",
    "Instructions\n",
    "100 XP\n",
    "\n",
    "    In the filter() call, pass a lambda function and the sequence of tweets as strings, tweets_df['text']. The lambda function should check if the first 2 characters in a tweet x are 'RT'. Assign the resulting filter object to result. To get the first 2 characters in a tweet x, use x[0:2]. To check equality, use a Boolean filter with ==.\n",
    "    Convert result to a list and print out the list.\n"
   ]
  },
  {
   "cell_type": "code",
   "execution_count": 137,
   "id": "d9beceae-174b-4fa1-9003-213f850d2ac3",
   "metadata": {},
   "outputs": [
    {
     "name": "stdout",
     "output_type": "stream",
     "text": [
      "RT @bpolitics: .@krollbondrating's Christopher Whalen says Clinton is the weakest Dem candidate in 50 years https://t.co/pLk7rvoRSn https:/…\n",
      "RT @HeidiAlpine: @dmartosko Cruz video found.....racing from the scene.... #cruzsexscandal https://t.co/zuAPZfQDk3\n",
      "RT @AlanLohner: The anti-American D.C. elites despise Trump for his America-first foreign policy. Trump threatens their gravy train. https:…\n",
      "RT @BIackPplTweets: Young Donald trump meets his neighbor  https://t.co/RFlu17Z1eE\n",
      "RT @trumpresearch: @WaitingInBagdad @thehill Trump supporters have selective amnisia.\n",
      "RT @HouseCracka: 29,000+ PEOPLE WATCHING TRUMP LIVE ON ONE STREAM!!!\n",
      "\n",
      "https://t.co/7QCFz9ehNe\n",
      "RT @urfavandtrump: RT for Brendon Urie\n",
      "Fav for Donald Trump https://t.co/PZ5vS94lOg\n",
      "RT @trapgrampa: This is how I see #Trump every time he speaks. https://t.co/fYSiHNS0nT\n",
      "RT @trumpresearch: @WaitingInBagdad @thehill Trump supporters have selective amnisia.\n",
      "RT @Pjw20161951: NO KIDDING: #SleazyDonald just attacked Scott Walker for NOT RAISING TAXES in WI! #LyinTrump\n",
      "#NeverTrump  #CruzCrew  https…\n",
      "RT @urfavandtrump: RT for Brendon Urie\n",
      "Fav for Donald Trump https://t.co/PZ5vS94lOg\n",
      "RT @ggreenwald: The media spent all day claiming @SusanSarandon said she might vote for Trump. A total fabrication, but whatever... https:/…\n",
      "RT @Pjw20161951: NO KIDDING: #SleazyDonald just attacked Scott Walker for NOT RAISING TAXES in WI! #LyinTrump\n",
      "#NeverTrump  #CruzCrew  https…\n",
      "RT @trapgrampa: This is how I see #Trump every time he speaks. https://t.co/fYSiHNS0nT\n",
      "RT @mitchellvii: So let me get this straight.  Any reporter can assault Mr Trump at any time and Corey can do nothing?  Michelle is clearly…\n",
      "RT @paulbenedict7: How #Trump Sacks RINO Strongholds by Hitting Positions Held by Dems and GOP https://t.co/D7ulnAJhis   #tcot #PJNET https…\n",
      "RT @DRUDGE_REPORT: VIDEO:  Trump emotional moment with Former Miss Wisconsin who has terminal illness... https://t.co/qt06aG9inT\n",
      "RT @ggreenwald: The media spent all day claiming @SusanSarandon said she might vote for Trump. A total fabrication, but whatever... https:/…\n",
      "RT @DennisApgar: Thank God I seen Trump at first stop in Wisconsin media doesn't know how great he is, advice watch live streaming https://…\n",
      "RT @paulbenedict7: How #Trump Sacks RINO Strongholds by Hitting Positions Held by Dems and GOP https://t.co/D7ulnAJhis   #tcot #PJNET https…\n",
      "RT @DRUDGE_REPORT: VIDEO:  Trump emotional moment with Former Miss Wisconsin who has terminal illness... https://t.co/qt06aG9inT\n",
      "RT @DennisApgar: Thank God I seen Trump at first stop in Wisconsin media doesn't know how great he is, advice watch live streaming https://…\n",
      "RT @mitchellvii: So let me get this straight.  Any reporter can assault Mr Trump at any time and Corey can do nothing?  Michelle is clearly…\n",
      "RT @sciam: Trump's idiosyncratic patterns of speech are why people tend either to love or hate him https://t.co/QXwquVgs3c https://t.co/P9N…\n",
      "RT @Norsu2: Nightmare WI poll for Ted Cruz has Kasich surging: Trump 29, Kasich 27, Cruz 25. https://t.co/lJsgbLYY1P #NeverTrump\n",
      "RT @thehill: WATCH: Protester pepper-sprayed point blank at Trump rally https://t.co/B5f65Al9ld https://t.co/skAfByXuQc\n",
      "RT @sciam: Trump's idiosyncratic patterns of speech are why people tend either to love or hate him https://t.co/QXwquVgs3c https://t.co/P9N…\n",
      "RT @ggreenwald: The media spent all day claiming @SusanSarandon said she might vote for Trump. A total fabrication, but whatever... https:/…\n",
      "RT @DebbieStout5: Wow! Last I checked it was just 12 points &amp; that wasn't more than a day ago. Oh boy Trump ppl might want to rethink🤔 http…\n",
      "RT @tyleroakley: i'm a messy bitch, but at least i'm not voting for trump\n",
      "RT @vandives: Trump supporters r tired of justice NOT being served. There's no justice anymore. Hardworking Americans get screwed. That's n…\n",
      "RT @AP: BREAKING: Trump vows to stand by campaign manager charged with battery, says he does not discard people.\n",
      "RT @AP: BREAKING: Trump vows to stand by campaign manager charged with battery, says he does not discard people.\n",
      "RT @urfavandtrump: RT for Jerrie (Little Mix)\n",
      "Fav for Donald Trump https://t.co/nEVxElW6iG\n",
      "RT @urfavandtrump: RT for Jerrie (Little Mix)\n",
      "Fav for Donald Trump https://t.co/nEVxElW6iG\n",
      "RT @NoahCRothman: When Walker was fighting for reforms, Trump was defending unions and collective bargaining privileges https://t.co/e1UWNN…\n",
      "RT @RedheadAndRight: Report: Secret Service Says Michelle Fields Touched Trump https://t.co/c5c2sD8VO2\n",
      "\n",
      "This is the only article you will n…\n",
      "RT @AIIAmericanGirI: VIDEO=&gt; Anti-Trump Protester SLUGS Elderly Trump Supporter in the Face\n",
      "https://t.co/GeEryMDuDY\n",
      "RT @NoahCRothman: When Walker was fighting for reforms, Trump was defending unions and collective bargaining privileges https://t.co/e1UWNN…\n",
      "RT @JusticeRanger1: @realDonaldTrump @Pudingtane @DanScavino @GOP @infowars @EricTrump \n",
      "URGENT PUBLIC TRUMP ALERT:\n",
      "COVERT KILL MEANS https:…\n",
      "RT @AIIAmericanGirI: VIDEO=&gt; Anti-Trump Protester SLUGS Elderly Trump Supporter in the Face\n",
      "https://t.co/GeEryMDuDY\n",
      "RT @RedheadAndRight: Report: Secret Service Says Michelle Fields Touched Trump https://t.co/c5c2sD8VO2\n",
      "\n",
      "This is the only article you will n…\n",
      "RT @JusticeRanger1: @realDonaldTrump @Pudingtane @DanScavino @GOP @infowars @EricTrump \n",
      "URGENT PUBLIC TRUMP ALERT:\n",
      "COVERT KILL MEANS https:…\n",
      "RT @Schneider_CM: Trump says nobody had ever heard of executive orders before Obama started signing them. Never heard of the Emancipation P…\n",
      "RT @RonBasler1: @DavidWhitDennis @realDonaldTrump @tedcruz \n",
      "\n",
      "CRUZ SCREWS HOOKERS\n",
      "\n",
      "CRUZ / CLINTON\n",
      "RT @DonaldsAngel: Former Ms. WI just said that she is terminally ill but because of Trump pageant, her 7 yr. old son has his college educat…\n",
      "RT @Schneider_CM: Trump says nobody had ever heard of executive orders before Obama started signing them. Never heard of the Emancipation P…\n",
      "RT @DonaldsAngel: Former Ms. WI just said that she is terminally ill but because of Trump pageant, her 7 yr. old son has his college educat…\n",
      "RT @Dodarey: @DR8801 @SykesCharlie Charlie, let's see you get a straight \"yes\" or \"no\" answer from Cruz a/b being unfaithful to his wife @T…\n",
      "RT @RonBasler1: @DavidWhitDennis @realDonaldTrump @tedcruz \n",
      "\n",
      "CRUZ SCREWS HOOKERS\n",
      "\n",
      "CRUZ / CLINTON\n",
      "RT @RockCliffOne: Remember when the idea of a diabolical moron holding the world hostage was an idea for a funny movie? #Trump #GOP https:/…\n",
      "RT @HillaryClinton: \"Every day, another Republican bemoans the rise of Donald Trump... but [he] didn’t come out of nowhere.\" —Hillary\n",
      "https…\n",
      "RT @Dodarey: @DR8801 @SykesCharlie Charlie, let's see you get a straight \"yes\" or \"no\" answer from Cruz a/b being unfaithful to his wife @T…\n",
      "RT @HillaryClinton: \"Every day, another Republican bemoans the rise of Donald Trump... but [he] didn’t come out of nowhere.\" —Hillary\n",
      "https…\n",
      "RT @RockCliffOne: Remember when the idea of a diabolical moron holding the world hostage was an idea for a funny movie? #Trump #GOP https:/…\n",
      "RT @immigrant4trump: @immigrant4trump msm, cable news attacking trump all day, from 8am to 10pm today, then the reruns come on, repeating t…\n",
      "RT @immigrant4trump: @immigrant4trump msm, cable news attacking trump all day, from 8am to 10pm today, then the reruns come on, repeating t…\n",
      "RT @GlendaJazzey: Donald Trump’s Campaign Financing Dodge, @rrotunda https://t.co/L8flI4lswG via @VerdictJustia\n",
      "RT @TUSK81: LOUDER FOR THE PEOPLE IN THE BACK https://t.co/hlPVyNLXzx\n",
      "RT @loopzoop: Well...put it back https://t.co/8Yb7BDT5VM\n",
      "RT @claytoncubitt: Stop asking Bernie supporters if they’ll vote for Hillary against Trump. We got a plan to beat Trump already. Called Ber…\n",
      "RT @akaMaude13: Seriously can't make this up. What a joke. #NeverTrump  https://t.co/JkTx6mdRgC\n"
     ]
    }
   ],
   "source": [
    "import pandas as pd\n",
    "\n",
    "tweet_df = pd.read_csv('tweets.csv')\n",
    "\n",
    "\n",
    "\n",
    "# Select retweets from the Twitter DataFrame: result\n",
    "result = filter(lambda x: x[:2] == 'RT', tweet_df['text'])\n",
    "\n",
    "# Create list from filter object result: res_list\n",
    "res_list = list(result)\n",
    "\n",
    "# Print all retweets in res_list\n",
    "for tweet in res_list:\n",
    "    print(tweet)"
   ]
  },
  {
   "cell_type": "markdown",
   "id": "acede6ba-b1cd-47d6-b61f-f707429ab456",
   "metadata": {},
   "source": [
    "## Bringing it all together (2)\n",
    "\n",
    "Sometimes, we make mistakes when calling functions - even ones you made yourself. But don't fret! In this exercise, you will improve on your previous work with the count_entries() function in the last chapter by adding a try-except block to it. This will allow your function to provide a helpful message when the user calls your count_entries() function but provides a column name that isn't in the DataFrame.\n",
    "\n",
    "Once again, for your convenience, pandas has been imported as pd and the 'tweets.csv' file has been imported into the DataFrame tweets_df. Parts of the code from your previous work are also provided.\n",
    "Instructions\n",
    "100 XP\n",
    "\n",
    "    Add a try block so that when the function is called with the correct arguments, it processes the DataFrame and returns a dictionary of results.\n",
    "    Add an except block so that when the function is called incorrectly, it displays the following error message: 'The DataFrame does not have a ' + col_name + ' column.'.\n"
   ]
  },
  {
   "cell_type": "code",
   "execution_count": 139,
   "id": "77f456fc-85fb-484e-83d1-43cadee1deb7",
   "metadata": {},
   "outputs": [
    {
     "name": "stdout",
     "output_type": "stream",
     "text": [
      "{'en': 97, 'et': 1, 'und': 2}\n",
      "The DataFrame does not have a hello column.\n",
      "None\n"
     ]
    }
   ],
   "source": [
    "# Define count_entries()\n",
    "def count_entries(df, col_name='lang'):\n",
    "    \"\"\"Return a dictionary with counts of\n",
    "    occurrences as value for each key.\"\"\"\n",
    "\n",
    "    # Initialize an empty dictionary: cols_count\n",
    "    cols_count = {}\n",
    "\n",
    "    # Add try block\n",
    "    try:\n",
    "        # Extract column from DataFrame: col\n",
    "        col = df[col_name]\n",
    "        \n",
    "        # Iterate over the column in dataframe\n",
    "        for entry in col:\n",
    "    \n",
    "            # If entry is in cols_count, add 1\n",
    "            if entry in cols_count.keys():\n",
    "                cols_count[entry] += 1\n",
    "            # Else add the entry to cols_count, set the value to 1\n",
    "            else:\n",
    "                cols_count[entry] = 1\n",
    "    \n",
    "        # Return the cols_count dictionary\n",
    "        return cols_count\n",
    "\n",
    "    # Add except block\n",
    "    except:\n",
    "        print('The DataFrame does not have a ' + col_name + ' column.')\n",
    "\n",
    "# Call count_entries(): result1\n",
    "result1 = count_entries(tweets_df, 'lang')\n",
    "\n",
    "# Print result1\n",
    "print(result1)\n",
    "\n",
    "\n",
    "\n",
    "result2 = count_entries(tweets_df, 'hello')\n",
    "print(result2)"
   ]
  },
  {
   "cell_type": "markdown",
   "id": "8272f43f-f217-4497-a5dd-9916702a7c3e",
   "metadata": {},
   "source": [
    "## Bringing it all together (3)\n",
    "\n",
    "In the previous exercise, you built on your function count_entries() to add a try-except block. This was so that users would get helpful messages when calling your count_entries() function and providing a column name that isn't in the DataFrame. In this exercise, you'll instead raise a ValueError in the case that the user provides a column name that isn't in the DataFrame.\n",
    "\n",
    "Once again, for your convenience, pandas has been imported as pd and the 'tweets.csv' file has been imported into the DataFrame tweets_df. Parts of the code from your previous work are also provided.\n",
    "Instructions\n",
    "100 XP\n",
    "\n",
    "    If col_name is not a column in the DataFrame df, raise a ValueError 'The DataFrame does not have a ' + col_name + ' column.'.\n",
    "    Call your new function count_entries() to analyze the 'lang' column of tweets_df. Store the result in result1.\n",
    "    Print result1. This has been done for you, so hit 'Submit Answer' to check out the result. In the next exercise, you'll see that it raises the necessary ValueErrors.\n"
   ]
  },
  {
   "cell_type": "code",
   "execution_count": 141,
   "id": "66dd29c0-6e67-46b0-9538-0fe5ff4dbd35",
   "metadata": {},
   "outputs": [
    {
     "name": "stdout",
     "output_type": "stream",
     "text": [
      "{'en': 97, 'et': 1, 'und': 2}\n"
     ]
    }
   ],
   "source": [
    "# Define count_entries()\n",
    "def count_entries(df, col_name='lang'):\n",
    "    \"\"\"Return a dictionary with counts of\n",
    "    occurrences as value for each key.\"\"\"\n",
    "    \n",
    "    # Raise a ValueError if col_name is NOT in DataFrame\n",
    "    if col_name not in df.columns:\n",
    "        raise ValueError('The DataFrame does not have a ' + col_name + ' column.')\n",
    "\n",
    "    # Initialize an empty dictionary: cols_count\n",
    "    cols_count = {}\n",
    "    \n",
    "    # Extract column from DataFrame: col\n",
    "    col = df[col_name]\n",
    "    \n",
    "    # Iterate over the column in DataFrame\n",
    "    for entry in col:\n",
    "\n",
    "        # If entry is in cols_count, add 1\n",
    "        if entry in cols_count.keys():\n",
    "            cols_count[entry] += 1\n",
    "            # Else add the entry to cols_count, set the value to 1\n",
    "        else:\n",
    "            cols_count[entry] = 1\n",
    "        \n",
    "        # Return the cols_count dictionary\n",
    "    return cols_count\n",
    "\n",
    "# Call count_entries(): result1\n",
    "result1 = count_entries(tweets_df, 'lang')\n",
    "\n",
    "# Print result1\n",
    "print(result1)"
   ]
  },
  {
   "cell_type": "markdown",
   "id": "e6bb1717-02e2-4de8-9b40-0af55bd68f19",
   "metadata": {},
   "source": [
    "## Bringing it all together: testing your error handling skills\n",
    "\n",
    "You have just written error handling into your count_entries() function so that, when the user passes the function a column (as 2nd argument) NOT contained in the DataFrame (1st argument), a ValueError is thrown. You're now going to play with this function: it is loaded into pre-exercise code, as is the DataFrame tweets_df. Try calling count_entries(tweets_df, 'lang') to confirm that the function behaves as it should. Then call count_entries(tweets_df, 'lang1'): what is the last line of the output?\n",
    "Instructions\n",
    "50 XP\n",
    "Possible Answers\n",
    "\n",
    "    'ValueError: The DataFrame does not have the requested column.'\n",
    "    'ValueError: The DataFrame does not have a lang1 column.'\n",
    "    'TypeError: The DataFrame does not have the requested column.'\n",
    "    "
   ]
  },
  {
   "cell_type": "markdown",
   "id": "0214c1d7-5a70-4757-879f-5872a4ee8a77",
   "metadata": {},
   "source": [
    "## Congratulations!\n",
    "\n",
    "\n",
    "\n",
    "**"
   ]
  },
  {
   "cell_type": "code",
   "execution_count": null,
   "id": "1816d10f-7070-4749-9e33-11ee2103efbb",
   "metadata": {},
   "outputs": [],
   "source": []
  },
  {
   "cell_type": "code",
   "execution_count": null,
   "id": "4fd88ffd-a893-447b-9475-e308153bff2a",
   "metadata": {},
   "outputs": [],
   "source": []
  },
  {
   "cell_type": "code",
   "execution_count": null,
   "id": "ebf6ac74-007e-44a5-845f-e81d30c92033",
   "metadata": {},
   "outputs": [],
   "source": []
  },
  {
   "cell_type": "code",
   "execution_count": null,
   "id": "c1da0f52-e23a-418c-881a-3aa2085b313a",
   "metadata": {},
   "outputs": [],
   "source": []
  },
  {
   "cell_type": "code",
   "execution_count": null,
   "id": "c0efa3c4-5c73-4908-bd7d-e7116ec693fe",
   "metadata": {},
   "outputs": [],
   "source": []
  },
  {
   "cell_type": "code",
   "execution_count": null,
   "id": "590e5eca-9576-495d-a3fa-56b3ae253764",
   "metadata": {},
   "outputs": [],
   "source": []
  },
  {
   "cell_type": "code",
   "execution_count": null,
   "id": "f739097f-c70b-4e86-8f30-67a2d250f552",
   "metadata": {},
   "outputs": [],
   "source": []
  },
  {
   "cell_type": "code",
   "execution_count": null,
   "id": "cb7c5355-9bbf-43f7-9733-e83306124e83",
   "metadata": {},
   "outputs": [],
   "source": []
  },
  {
   "cell_type": "code",
   "execution_count": null,
   "id": "4f195981-b0cc-41aa-8875-91b07c2ad6e6",
   "metadata": {},
   "outputs": [],
   "source": []
  },
  {
   "cell_type": "code",
   "execution_count": null,
   "id": "9b3da181-dc89-4e44-b35e-5ee212385199",
   "metadata": {},
   "outputs": [],
   "source": []
  },
  {
   "cell_type": "code",
   "execution_count": null,
   "id": "f997762a-8f87-4e61-a1db-bdbd512d4df7",
   "metadata": {},
   "outputs": [],
   "source": []
  },
  {
   "cell_type": "code",
   "execution_count": null,
   "id": "06488536-9842-476e-b9ba-df7da66d55f2",
   "metadata": {},
   "outputs": [],
   "source": []
  },
  {
   "cell_type": "code",
   "execution_count": null,
   "id": "35771f7f-f9e9-4436-92cf-727c6b573fa6",
   "metadata": {},
   "outputs": [],
   "source": []
  },
  {
   "cell_type": "code",
   "execution_count": null,
   "id": "3ed742bf-a9bb-4055-924f-70aa30d5ec67",
   "metadata": {},
   "outputs": [],
   "source": []
  },
  {
   "cell_type": "code",
   "execution_count": null,
   "id": "410b4fbd-e01b-460a-bd7f-61747081e592",
   "metadata": {},
   "outputs": [],
   "source": []
  },
  {
   "cell_type": "code",
   "execution_count": null,
   "id": "a3b03a49-5df7-451d-bfd2-869ff9acf38f",
   "metadata": {},
   "outputs": [],
   "source": []
  },
  {
   "cell_type": "code",
   "execution_count": null,
   "id": "b38707b2-9ee4-43cd-bc8a-ad5bc9e2f359",
   "metadata": {},
   "outputs": [],
   "source": []
  },
  {
   "cell_type": "code",
   "execution_count": null,
   "id": "5869094a-f05e-4206-bd09-0807394890c4",
   "metadata": {},
   "outputs": [],
   "source": []
  },
  {
   "cell_type": "code",
   "execution_count": null,
   "id": "aa2fed79-d85d-42ad-9964-600c6b8f7e3b",
   "metadata": {},
   "outputs": [],
   "source": []
  },
  {
   "cell_type": "code",
   "execution_count": null,
   "id": "082db818-2b95-4608-b604-5188c717332b",
   "metadata": {},
   "outputs": [],
   "source": []
  },
  {
   "cell_type": "code",
   "execution_count": null,
   "id": "f8247f0c-0a54-470c-b4c2-419c531bc839",
   "metadata": {},
   "outputs": [],
   "source": []
  },
  {
   "cell_type": "code",
   "execution_count": null,
   "id": "f373a3d3-89a3-4b23-a314-db4baa7a766f",
   "metadata": {},
   "outputs": [],
   "source": []
  },
  {
   "cell_type": "code",
   "execution_count": null,
   "id": "fc7e6601-beae-4a6d-9edd-2beac10d36f4",
   "metadata": {},
   "outputs": [],
   "source": []
  },
  {
   "cell_type": "code",
   "execution_count": null,
   "id": "596c27d3-5d37-40c2-a551-ee778614d66e",
   "metadata": {},
   "outputs": [],
   "source": []
  },
  {
   "cell_type": "code",
   "execution_count": null,
   "id": "e1c0b9bb-f86c-4ec0-b4c2-4d1b19505081",
   "metadata": {},
   "outputs": [],
   "source": []
  },
  {
   "cell_type": "code",
   "execution_count": null,
   "id": "2891f232-edca-488e-ba6e-8b13f1fdcf7f",
   "metadata": {},
   "outputs": [],
   "source": []
  },
  {
   "cell_type": "code",
   "execution_count": null,
   "id": "a08c7335-1a18-433b-899d-6926f8e8484d",
   "metadata": {},
   "outputs": [],
   "source": []
  },
  {
   "cell_type": "code",
   "execution_count": null,
   "id": "fb094d5f-c444-408e-81a9-3181608b2fc5",
   "metadata": {},
   "outputs": [],
   "source": []
  },
  {
   "cell_type": "code",
   "execution_count": null,
   "id": "fbe285c2-d9b7-40ed-9c43-b552514fb105",
   "metadata": {},
   "outputs": [],
   "source": []
  },
  {
   "cell_type": "code",
   "execution_count": null,
   "id": "947594a0-dadb-4915-9118-084a428da1d4",
   "metadata": {},
   "outputs": [],
   "source": []
  },
  {
   "cell_type": "code",
   "execution_count": null,
   "id": "7c8afe70-fe8f-4e6f-9b3d-eab595a0654c",
   "metadata": {},
   "outputs": [],
   "source": []
  },
  {
   "cell_type": "code",
   "execution_count": null,
   "id": "12c4bf5a-7439-4888-860f-057006eeb6e5",
   "metadata": {},
   "outputs": [],
   "source": []
  },
  {
   "cell_type": "code",
   "execution_count": null,
   "id": "2662500c-e7c8-4167-b7f9-f9ecbb6b761c",
   "metadata": {},
   "outputs": [],
   "source": []
  }
 ],
 "metadata": {
  "kernelspec": {
   "display_name": "Python 3 (ipykernel)",
   "language": "python",
   "name": "python3"
  },
  "language_info": {
   "codemirror_mode": {
    "name": "ipython",
    "version": 3
   },
   "file_extension": ".py",
   "mimetype": "text/x-python",
   "name": "python",
   "nbconvert_exporter": "python",
   "pygments_lexer": "ipython3",
   "version": "3.9.2"
  }
 },
 "nbformat": 4,
 "nbformat_minor": 5
}
