{
 "cells": [
  {
   "cell_type": "markdown",
   "id": "3657150a-0081-480d-abcb-3f094e8cf87f",
   "metadata": {},
   "source": [
    "## Intermediate Python\n",
    "\n",
    "\n",
    "\n"
   ]
  },
  {
   "cell_type": "markdown",
   "id": "11045f35-da25-4d3b-a308-a8b9365e2151",
   "metadata": {},
   "source": [
    "##  Matplotlib\n",
    "Free\n",
    "0%\n",
    "\n",
    "Data visualization is a key skill for aspiring data scientists. Matplotlib makes it easy to create meaningful and insightful plots. In this chapter, you’ll learn how to build various types of plots, and customize them to be more visually appealing and interpretable.\n",
    "\n",
    "    Basic plots with Matplotlib    50 xp\n",
    "    Line plot (1)    100 xp\n",
    "    Line Plot (2): Interpretation    50 xp\n",
    "    Line plot (3)    100 xp\n",
    "    Scatter Plot (1)    100 xp\n",
    "    Scatter plot (2)    100 xp\n",
    "    Histogram    50 xp\n",
    "    Build a histogram (1)    100 xp\n",
    "    Build a histogram (2): bins    100 xp\n",
    "    Build a histogram (3): compare    100 xp\n",
    "    Choose the right plot (1)    50 xp\n",
    "    Choose the right plot (2)    50 xp\n",
    "    Customization    50 xp\n",
    "    Labels    100 xp\n",
    "    Ticks    100 xp\n",
    "    Sizes    100 xp\n",
    "    Colors    100 xp\n",
    "    Additional Customizations    100 xp\n",
    "    Interpretation    50 xp\n"
   ]
  },
  {
   "cell_type": "markdown",
   "id": "eeed5c33-a2df-4f15-972c-bb20baca1e92",
   "metadata": {},
   "source": [
    "##  Dictionaries & Pandas\n",
    "0%\n",
    "\n",
    "Learn about the dictionary, an alternative to the Python list, and the pandas DataFrame, the de facto standard to work with tabular data in Python. You will get hands-on practice with creating and manipulating datasets, and you’ll learn how to access the information you need from these data structures.\n",
    "\n",
    "    Dictionaries, Part 1    50 xp\n",
    "    Motivation for dictionaries    100 xp\n",
    "    Create dictionary    100 xp\n",
    "    Access dictionary    100 xp\n",
    "    Dictionaries, Part 2    50 xp\n",
    "    Dictionary Manipulation (1)    100 xp\n",
    "    Dictionary Manipulation (2)    100 xp\n",
    "    Dictionariception    100 xp\n",
    "    Pandas, Part 1    50 xp\n",
    "    Dictionary to DataFrame (1)    100 xp\n",
    "    Dictionary to DataFrame (2)    100 xp\n",
    "    CSV to DataFrame (1)    100 xp\n",
    "    CSV to DataFrame (2)    100 xp\n",
    "    Pandas, Part 2    50 xp\n",
    "    Square Brackets (1)    100 xp\n",
    "    Square Brackets (2)    100 xp\n",
    "    loc and iloc (1)    100 xp\n",
    "    loc and iloc (2)    100 xp\n",
    "    loc and iloc (3)    100 xp \n",
    "    "
   ]
  },
  {
   "cell_type": "markdown",
   "id": "02dab70e-d3fd-4c9d-88d0-3899dfb9caed",
   "metadata": {},
   "source": [
    "## Logic, Control Flow and Filtering\n",
    "0%\n",
    "\n",
    "Boolean logic is the foundation of decision-making in Python programs. Learn about different comparison operators, how to combine them with Boolean operators, and how to use the Boolean outcomes in control structures. You'll also learn to filter data in pandas DataFrames using logic.\n",
    "\n",
    "    Comparison Operators    50 xp\n",
    "    Equality    100 xp\n",
    "    Greater and less than    100 xp\n",
    "    Compare arrays    100 xp\n",
    "    Boolean Operators    50 xp\n",
    "    and, or, not (1)    100 xp\n",
    "    and, or, not (2)    50 xp\n",
    "    Boolean operators with Numpy    100 xp\n",
    "    if, elif, else    50 xp\n",
    "    Warmup    50 xp\n",
    "    if    100 xp\n",
    "    Add else    100 xp\n",
    "    Customize further: elif    100 xp\n",
    "    Filtering pandas DataFrames    50 xp\n",
    "    Driving right (1)    100 xp\n",
    "    Driving right (2)    100 xp\n",
    "    Cars per capita (1)    100 xp\n",
    "    Cars per capita (2)    100 xp \n",
    "    "
   ]
  },
  {
   "cell_type": "markdown",
   "id": "c0265730-3d5a-4462-ae7f-fa3663b35860",
   "metadata": {},
   "source": [
    "##  Loops\n",
    "0%\n",
    "\n",
    "There are several techniques you can use to repeatedly execute Python code. While loops are like repeated if statements, the for loop iterates over all kinds of data structures. Learn all about them in this chapter.\n",
    "\n",
    "    while loop    50 xp\n",
    "    while: warming up    50 xp\n",
    "    Basic while loop    100 xp\n",
    "    Add conditionals    100 xp\n",
    "    for loop    50 xp\n",
    "    Loop over a list    100 xp\n",
    "    Indexes and values (1)    100 xp\n",
    "    Indexes and values (2)    100 xp\n",
    "    Loop over list of lists    100 xp\n",
    "    Loop Data Structures Part 1    50 xp\n",
    "    Loop over dictionary    100 xp\n",
    "    Loop over Numpy array    100 xp\n",
    "    Loop Data Structures Part 2    50 xp\n",
    "    Loop over DataFrame (1)    100 xp\n",
    "    Loop over DataFrame (2)    100 xp\n",
    "    Add column (1)    100 xp\n",
    "    Add column (2)    100 xp \n",
    "    "
   ]
  },
  {
   "cell_type": "markdown",
   "id": "5dac3d00-60ce-4ec9-b51d-4d4f5fcd7805",
   "metadata": {},
   "source": [
    "##  Case Study: Hacker Statistics\n",
    "0%\n",
    "\n",
    "This chapter will allow you to apply all the concepts you've learned in this course. You will use hacker statistics to calculate your chances of winning a bet. Use random number generators, loops, and Matplotlib to gain a competitive edge!\n",
    "\n",
    "    Random Numbers    50 xp\n",
    "    Random float    100 xp\n",
    "    Roll the dice    100 xp\n",
    "    Determine your next move    100 xp\n",
    "    Random Walk    50 xp\n",
    "    The next step    100 xp\n",
    "    How low can you go?    100 xp\n",
    "    Visualize the walk    100 xp\n",
    "    Distribution    50 xp\n",
    "    Simulate multiple walks    100 xp\n",
    "    Visualize all walks    100 xp\n",
    "    Implement clumsiness    100 xp\n",
    "    Plot the distribution    100 xp\n",
    "    Calculate the odds    50 xp\n"
   ]
  },
  {
   "cell_type": "code",
   "execution_count": null,
   "id": "8c82ceee-2298-461b-8297-c58a43ba838a",
   "metadata": {},
   "outputs": [],
   "source": []
  },
  {
   "cell_type": "markdown",
   "id": "a9597bd5-2099-406e-868f-84b6b4b86448",
   "metadata": {},
   "source": [
    "## Basic plots with Matplotlib\n",
    "\n",
    "\n",
    "# **In this intermediate Python course, you are going to take your Python skills to the next level, specifically for data science.  You'll learn how to visuaize data and how to store data in new data structures.  Along the way, you'll master control structures, which you'll need to customize the flow of your script and algorithms.  These are the types of things data scientist se every day.  \n",
    "\n",
    "**We'll finish this course with a case study, where you'll blend together everything you've learned to solve an exciting challenge.  \n",
    "\n",
    "\n",
    "\n",
    "**This first chapter is about data visualization, which is a very important part of data analysis.  \n",
    "\n",
    "  **First of all, you'll use it to explore your dataset, the better you understand your data, the better you'll be able to extract insights.  And once you've found those insight, again, you'll need visualization to be able to share your valuable insights with other people.  \n",
    "  # By making beautiful plots, you allow the data to tell they own story.  \n",
    "  # By the end of this chapter, you'll be able to build beautiful story telling plot yourself.  \n"
   ]
  },
  {
   "cell_type": "markdown",
   "id": "31bb3440-67a7-4b0f-a29c-925e1bc53ca4",
   "metadata": {},
   "source": [
    "## There are many visualization packages in Python, but the mother of them all is the matplotlib.  You will need is subpackage pyplot.  \n",
    "\n",
    "**To plot this data as a line chart, we call plt.plot() and use our two lists as arguments.  The first argument corresponds to the horizontal axis, and the second one to vertical axis.  The plot might pop up right now, but we can call the plt.show() function to just display the plot.  You might want to add some extra ingredients to your plot before just displaying it, such as titles and label customizations.  **\n",
    "\n",
    "\n",
    "**The plot() function tells Python what to plot and how to plot, then show() tells Python to display the plot.  \n"
   ]
  },
  {
   "cell_type": "code",
   "execution_count": 6,
   "id": "374cc034-7c22-4fd9-8579-d92f41642d7b",
   "metadata": {},
   "outputs": [
    {
     "data": {
      "image/png": "[encoded data removed]",
      "text/plain": [
       "<Figure size 432x288 with 1 Axes>"
      ]
     },
     "metadata": {
      "needs_background": "light"
     },
     "output_type": "display_data"
    }
   ],
   "source": [
    "import matplotlib.pyplot as plt\n",
    "\n",
    "year = [1950, 1970, 1990, 2010]\n",
    "pop = [2.519, 3.692, 5.263, 6.972]\n",
    "\n",
    "plt.plot(year, pop)   # [<matplotlib.lines.Line2D at 0x7fc58c8251f0>]\n",
    "plt.show()"
   ]
  },
  {
   "cell_type": "markdown",
   "id": "c7aca168-2a85-4337-8b08-7eef02705623",
   "metadata": {},
   "source": [
    "## Introduce the second plot: the scatter plot.  \n",
    "\n",
    "\n",
    "# **For many applications, the scatter plot is often a better choice than the line plot.  \n"
   ]
  },
  {
   "cell_type": "code",
   "execution_count": 7,
   "id": "fbfd18b4-56f4-46af-9939-51ac03234260",
   "metadata": {},
   "outputs": [
    {
     "data": {
      "image/png": "[encoded data removed]",
      "text/plain": [
       "<Figure size 432x288 with 1 Axes>"
      ]
     },
     "metadata": {
      "needs_background": "light"
     },
     "output_type": "display_data"
    }
   ],
   "source": [
    "import matplotlib.pyplot as plt\n",
    "\n",
    "year = [1950, 1970, 1990, 2010]\n",
    "pop = [2.519, 3.692, 5.263, 6.972]\n",
    "\n",
    "plt.scatter(year, pop)   # [<matplotlib.lines.Line2D at 0x7fc58c8251f0>]\n",
    "plt.show()"
   ]
  },
  {
   "cell_type": "markdown",
   "id": "3a2d1ca5-25c4-454d-b089-efd502a26197",
   "metadata": {},
   "source": [
    "## Line plot (1)\n",
    "\n",
    "With matplotlib, you can create a bunch of different plots in Python. The most basic plot is the line plot. A general recipe is given here.\n",
    "\n",
    "import matplotlib.pyplot as plt\n",
    "plt.plot(x,y)\n",
    "plt.show()\n",
    "\n",
    "In the video, you already saw how much the world population has grown over the past years. Will it continue to do so? The world bank has estimates of the world population for the years 1950 up to 2100. The years are loaded in your workspace as a list called year, and the corresponding populations as a list called pop.\n",
    "\n",
    "This course touches on a lot of concepts you may have forgotten, so if you ever need a quick refresher, download the Python for data science Cheat Sheet and keep it handy!\n",
    "Instructions\n",
    "100 XP\n",
    "\n",
    "    print() the last item from both the year and the pop list to see what the predicted population for the year 2100 is. Use two print() functions.\n",
    "    Before you can start, you should import matplotlib.pyplot as plt. pyplot is a sub-package of matplotlib, hence the dot.\n",
    "    Use plt.plot() to build a line plot. year should be mapped on the horizontal axis, pop on the vertical axis. Don't forget to finish off with the show() function to actually display the plot.\n",
    "\n",
    "# plt.plot(x, y)  for default line plot\n",
    "# plt.line(x, y)  does not exist"
   ]
  },
  {
   "cell_type": "markdown",
   "id": "dae73106-6bed-4056-aabe-523987ef1230",
   "metadata": {},
   "source": [
    "## Line Plot (2): Interpretation\n",
    "\n",
    "Have another look at the plot you created in the previous exercise; it's shown on the right. Based on the plot, in approximately what year will there be more than ten billion human beings on this planet?\n",
    "Instructions\n",
    "50 XP\n",
    "Possible Answers\n",
    "\n",
    "    2040\n",
    "    2060\n",
    "    2085\n",
    "    2095\n",
    "\n"
   ]
  },
  {
   "cell_type": "markdown",
   "id": "4a89cef5-17ad-4544-83dc-7024e287756a",
   "metadata": {},
   "source": [
    "## Line plot (3)\n",
    "\n",
    "Now that you've built your first line plot, let's start working on the data that professor Hans Rosling used to build his beautiful bubble chart. It was collected in 2007. Two lists are available for you:\n",
    "\n",
    "    life_exp which contains the life expectancy for each country and\n",
    "    gdp_cap, which contains the GDP per capita (i.e. per person) for each country expressed in US Dollars.\n",
    "\n",
    "GDP stands for Gross Domestic Product. It basically represents the size of the economy of a country. Divide this by the population and you get the GDP per capita.\n",
    "\n",
    "matplotlib.pyplot is already imported as plt, so you can get started straight away.\n",
    "Instructions\n",
    "100 XP\n",
    "\n",
    "    Print the last item from both the list gdp_cap, and the list life_exp; it is information about Zimbabwe.\n",
    "    Build a line chart, with gdp_cap on the x-axis, and life_exp on the y-axis. Does it make sense to plot this data on a line plot?\n",
    "    Don't forget to finish off with a plt.show() command, to actually display the plot.\n"
   ]
  },
  {
   "cell_type": "markdown",
   "id": "96a65bb3-cc6c-40d6-b639-4c8304d91a53",
   "metadata": {},
   "source": [
    "## Scatter Plot (1)\n",
    "\n",
    "# *****************************************************************************************************\n",
    "# When you have a time scale along the horizontal axis, the line plot is your friend. But in many other cases, when you're trying to assess if there's a correlation between two variables, for example, the scatter plot is the better choice. Below is an example of how to build a scatter plot.\n",
    "\n",
    "import matplotlib.pyplot as plt\n",
    "plt.scatter(x,y)\n",
    "plt.show()\n",
    "\n",
    "Let's continue with the gdp_cap versus life_exp plot, the GDP and life expectancy data for different countries in 2007. Maybe a scatter plot will be a better alternative?\n",
    "\n",
    "Again, the matplotlib.pyplot package is available as plt.\n",
    "Instructions\n",
    "100 XP\n",
    "\n",
    "    Change the line plot that's coded in the script to a scatter plot.\n",
    "# *****************************************************************************************************\n",
    "#    A correlation will become clear when you display the GDP per capita on a logarithmic scale. Add the line plt.xscale('log').\n",
    "# the function  \"y = a^x\"  and  \"y = log_a*(x)\" are mirrored with function \"y = x\" line\n",
    "# when the relashionship becomes index related, we change function and pull it back to normal\n",
    "# *****************************************************************************************************\n",
    "    Finish off your script with plt.show() to display the plot.\n"
   ]
  },
  {
   "cell_type": "code",
   "execution_count": 111,
   "id": "607a1cf0-7f14-46c1-96da-86a06cc2329a",
   "metadata": {},
   "outputs": [],
   "source": [
    "gdp_cap = [974.5803384, 5937.029525999998, 6223.367465, 4797.231267, 12779.37964, 34435.367439999995, \n",
    " 36126.4927, 29796.04834, 1391.253792, 33692.60508, 1441.284873, 3822.137084, 7446.298803, 12569.85177, \n",
    " 9065.800825, 10680.79282, 1217.032994, 430.0706916, 1713.778686, 2042.09524, 36319.23501, 706.016537, \n",
    " 1704.063724, 13171.63885, 4959.114854, 7006.580419, 986.1478792, 277.5518587, 3632.557798, 9645.06142, \n",
    " 1544.750112, 14619.222719999998, 8948.102923, 22833.30851, 35278.41874, 2082.4815670000007,\n",
    " 6025.3747520000015, 6873.262326000001, 5581.180998, 5728.353514, 12154.08975, 641.3695236000002,\n",
    " 690.8055759, 33207.0844, 30470.0167, 13206.48452, 752.7497265, 32170.37442, 1327.60891, 27538.41188,\n",
    " 5186.050003, 942.6542111, 579.2317429999998, 1201.637154, 3548.3308460000007, 39724.97867, 18008.94444,\n",
    " 36180.78919, 2452.210407, 3540.651564, 11605.71449, 4471.061906, 40675.99635, 25523.2771, 28569.7197,\n",
    " 7320.8802620000015, 31656.06806, 4519.461171, 1463.249282, 1593.06548, 23348.139730000006, 47306.98978, \n",
    " 10461.05868, 1569.331442, 414.5073415, 12057.49928, 1044.770126, 759.3499101, 12451.6558, 1042.581557,\n",
    " 1803.151496, 10956.99112, 11977.57496, 3095.7722710000007, 9253.896111, 3820.17523, 823.6856205,\n",
    " 944.0, 4811.060429, 1091.359778, 36797.93332, 25185.00911, 2749.320965, 619.6768923999998, 2013.977305,\n",
    " 49357.19017, 22316.19287, 2605.94758, 9809.185636, 4172.838464, 7408.905561, 3190.481016,\n",
    " 15389.924680000002, 20509.64777, 19328.70901, 7670.122558, 10808.47561, 863.0884639000002, 1598.435089, \n",
    " 21654.83194, 1712.472136, 9786.534714, 862.5407561000002, 47143.17964, 18678.31435, 25768.25759,\n",
    " 926.1410683, 9269.657808, 28821.0637, 3970.095407, 2602.394995, 4513.480643, 33859.74835, 37506.41907,\n",
    " 4184.548089, 28718.27684, 1107.482182, 7458.396326999998, 882.9699437999999, 18008.50924, 7092.923025,\n",
    " 8458.276384, 1056.380121, 33203.26128, 42951.65309, 10611.46299, 11415.80569, 2441.576404, 3025.349798,\n",
    " 2280.769906, 1271.211593, 469.70929810000007]\n",
    "\n",
    "\n",
    "life_exp = [43.828, 76.423, 72.301, 42.731, 75.32, 81.235, 79.829, 75.635, 64.062, 79.441, 56.728, \n",
    " 65.554, 74.852, 50.728, 72.39, 73.005, 52.295, 49.58, 59.723, 50.43, 80.653, 44.74100000000001,\n",
    " 50.651, 78.553, 72.961, 72.889, 65.152, 46.462, 55.322, 78.782, 48.328, 75.748, 78.273, 76.486, \n",
    " 78.332, 54.791, 72.235, 74.994, 71.33800000000002, 71.878, 51.57899999999999, 58.04, 52.947, 79.313,\n",
    " 80.657, 56.735, 59.448, 79.406, 60.022, 79.483, 70.259, 56.007, 46.38800000000001, 60.916,\n",
    " 70.19800000000001, 82.208, 73.33800000000002, 81.757, 64.69800000000001, 70.65, 70.964, 59.545,\n",
    " 78.885, 80.745, 80.546, 72.567, 82.603, 72.535, 54.11, 67.297, 78.623, 77.58800000000002, 71.993,\n",
    " 42.592, 45.678, 73.952, 59.44300000000001, 48.303, 74.241, 54.467, 64.164, 72.801, 76.195, 66.803,\n",
    " 74.543, 71.164, 42.082, 62.069, 52.90600000000001, 63.785, 79.762, 80.204, 72.899, 56.867, 46.859,\n",
    " 80.196, 75.64, 65.483, 75.53699999999998, 71.752, 71.421, 71.688, 75.563, 78.098, 78.74600000000002,\n",
    " 76.442, 72.476, 46.242, 65.528, 72.777, 63.062, 74.002, 42.56800000000001, 79.972, 74.663, 77.926,\n",
    " 48.159, 49.339, 80.941, 72.396, 58.556, 39.613, 80.884, 81.70100000000002, 74.143, 78.4, 52.517,\n",
    " 70.616, 58.42, 69.819, 73.923, 71.777, 51.542, 79.425, 78.242, 76.384, 73.747, 74.249, 73.422, 62.698,\n",
    " 42.38399999999999, 43.487]"
   ]
  },
  {
   "cell_type": "code",
   "execution_count": 112,
   "id": "a809a129-d6fc-4117-b330-134523be20d0",
   "metadata": {},
   "outputs": [
    {
     "data": {
      "image/png": "[encoded data removed]",
      "text/plain": [
       "<Figure size 432x288 with 1 Axes>"
      ]
     },
     "metadata": {
      "needs_background": "light"
     },
     "output_type": "display_data"
    }
   ],
   "source": [
    "import matplotlib.pyplot as plt\n",
    "\n",
    "# Change the line plot below to a scatter plot\n",
    "plt.scatter(gdp_cap, life_exp)\n",
    "\n",
    "# Put the x-axis on a logarithmic scale\n",
    "plt.xscale('log')\n",
    "# *************************************************************************************************** #\n",
    "\n",
    "# Show plot\n",
    "plt.show()"
   ]
  },
  {
   "cell_type": "code",
   "execution_count": 113,
   "id": "e4a7d5f8-2c97-4447-b6da-6cd4f3d99211",
   "metadata": {},
   "outputs": [
    {
     "data": {
      "image/png": "[encoded data removed]",
      "text/plain": [
       "<Figure size 432x288 with 1 Axes>"
      ]
     },
     "metadata": {
      "needs_background": "light"
     },
     "output_type": "display_data"
    }
   ],
   "source": [
    "import matplotlib.pyplot as plt\n",
    "\n",
    "# Change the line plot below to a scatter plot\n",
    "plt.scatter(gdp_cap, life_exp)\n",
    "\n",
    "# Put the x-axis on a logarithmic scale\n",
    "#plt.xscale('log')\n",
    "# *************************************************************************************************** #\n",
    "\n",
    "# Show plot\n",
    "plt.show()"
   ]
  },
  {
   "cell_type": "markdown",
   "id": "e9a0ccc1-5554-463d-8e2d-4f12bc645407",
   "metadata": {},
   "source": [
    "## Scatter plot (2)\n",
    "\n",
    "In the previous exercise, you saw that the higher GDP usually corresponds to a higher life expectancy. In other words, there is a **positive correlation.\n",
    "\n",
    "Do you think there's a relationship between population and life expectancy of a country? The list life_exp from the previous exercise is already available. In addition, now also pop is available, listing the corresponding populations for the countries in 2007. The populations are in millions of people.\n",
    "Instructions\n",
    "100 XP\n",
    "\n",
    "    Start from scratch: import matplotlib.pyplot as plt.\n",
    "    Build a scatter plot, where pop is mapped on the horizontal axis, and life_exp is mapped on the vertical axis.\n",
    "    Finish the script with plt.show() to actually display the plot. Do you see a correlation?\n"
   ]
  },
  {
   "cell_type": "code",
   "execution_count": 117,
   "id": "2002eeba-2a95-45f3-9b5b-30a0fa6c3dc3",
   "metadata": {},
   "outputs": [],
   "source": [
    "life_exp = [43.828, 76.423, 72.301, 42.731, 75.32, 81.235, 79.829, 75.635, 64.062, 79.441, 56.728, \n",
    " 65.554, 74.852, 50.728, 72.39, 73.005, 52.295, 49.58, 59.723, 50.43, 80.653, 44.74100000000001,\n",
    " 50.651, 78.553, 72.961, 72.889, 65.152, 46.462, 55.322, 78.782, 48.328, 75.748, 78.273, 76.486, \n",
    " 78.332, 54.791, 72.235, 74.994, 71.33800000000002, 71.878, 51.57899999999999, 58.04, 52.947, 79.313,\n",
    " 80.657, 56.735, 59.448, 79.406, 60.022, 79.483, 70.259, 56.007, 46.38800000000001, 60.916,\n",
    " 70.19800000000001, 82.208, 73.33800000000002, 81.757, 64.69800000000001, 70.65, 70.964, 59.545,\n",
    " 78.885, 80.745, 80.546, 72.567, 82.603, 72.535, 54.11, 67.297, 78.623, 77.58800000000002, 71.993,\n",
    " 42.592, 45.678, 73.952, 59.44300000000001, 48.303, 74.241, 54.467, 64.164, 72.801, 76.195, 66.803,\n",
    " 74.543, 71.164, 42.082, 62.069, 52.90600000000001, 63.785, 79.762, 80.204, 72.899, 56.867, 46.859,\n",
    " 80.196, 75.64, 65.483, 75.53699999999998, 71.752, 71.421, 71.688, 75.563, 78.098, 78.74600000000002,\n",
    " 76.442, 72.476, 46.242, 65.528, 72.777, 63.062, 74.002, 42.56800000000001, 79.972, 74.663, 77.926,\n",
    " 48.159, 49.339, 80.941, 72.396, 58.556, 39.613, 80.884, 81.70100000000002, 74.143, 78.4, 52.517,\n",
    " 70.616, 58.42, 69.819, 73.923, 71.777, 51.542, 79.425, 78.242, 76.384, 73.747, 74.249, 73.422, 62.698,\n",
    " 42.38399999999999, 43.487]\n",
    "\n",
    "pop = [31.889923, 3.600523, 33.333216, 12.420476, 40.301927, 20.434176, 8.199783, 0.708573, 150.448339, \n",
    " 10.392226, 8.078314, 9.119152, 4.552198, 1.639131, 190.010647, 7.322858, 14.326203, 8.390505, 14.131858,\n",
    " 17.696293, 33.390141, 4.369038, 10.238807, 16.284741, 1318.683096, 44.22755, 0.71096, 64.606759, 3.80061,\n",
    " 4.133884, 18.013409, 4.493312, 11.416987, 10.228744, 5.46812, 0.496374, 9.319622, 13.75568, 80.264543,\n",
    " 6.939688, 0.551201, 4.906585, 76.511887, 5.23846, 61.083916, 1.454867, 1.688359, 82.400996, 22.873338,\n",
    " 10.70629, 12.572928, 9.947814, 1.472041, 8.502814, 7.483763, 6.980412, 9.956108, 0.301931, 1110.396331,\n",
    " 223.547, 69.45357, 27.499638, 4.109086, 6.426679, 58.147733, 2.780132, 127.467972, 6.053193, 35.610177,\n",
    " 23.301725, 49.04479, 2.505559, 3.921278, 2.012649, 3.193942, 6.036914, 19.167654, 13.327079, 24.821286,\n",
    " 12.031795, 3.270065, 1.250882, 108.700891, 2.874127, 0.684736, 33.757175, 19.951656, 47.76198, 2.05508,\n",
    " 28.90179, 16.570613, 4.115771, 5.675356, 12.894865, 135.031164, 4.627926, 3.204897, 169.270617, 3.242173,\n",
    " 6.667147, 28.674757, 91.077287, 38.518241, 10.642836, 3.942491, 0.798094, 22.276056, 8.860588, 0.199579, \n",
    " 27.601038, 12.267493, 10.150265, 6.144562, 4.553009, 5.447502, 2.009245, 9.118773, 43.997828, 40.448191, \n",
    " 20.378239, 42.292929, 1.133066, 9.031088, 7.554661, 19.314747, 23.174294, 38.13964, 65.068149, 5.701579,\n",
    " 1.056608, 10.276158, 71.158647, 29.170398, 60.776238, 301.139947, 3.447496, 26.084662, 85.262356, \n",
    " 4.018332, 22.211743, 11.746035, 12.311143]"
   ]
  },
  {
   "cell_type": "code",
   "execution_count": 118,
   "id": "2f1d6bd7-4c5a-44e6-91ed-99428dcce762",
   "metadata": {},
   "outputs": [
    {
     "data": {
      "image/png": "[encoded data removed]",
      "text/plain": [
       "<Figure size 432x288 with 1 Axes>"
      ]
     },
     "metadata": {
      "needs_background": "light"
     },
     "output_type": "display_data"
    }
   ],
   "source": [
    "import matplotlib.pyplot as plt\n",
    "\n",
    "# where pop is mapped on the horizontal axis, and life_exp is mapped on the vertical axis. \n",
    "plt.scatter(pop, life_exp)\n",
    "\n",
    "\n",
    "plt.show()"
   ]
  },
  {
   "cell_type": "code",
   "execution_count": 119,
   "id": "57c2252e-bc23-4045-83cb-119bca8dff99",
   "metadata": {},
   "outputs": [
    {
     "data": {
      "image/png": "[encoded data removed]",
      "text/plain": [
       "<Figure size 432x288 with 1 Axes>"
      ]
     },
     "metadata": {
      "needs_background": "light"
     },
     "output_type": "display_data"
    }
   ],
   "source": [
    "import matplotlib.pyplot as plt\n",
    "\n",
    "# where pop is mapped on the horizontal axis, and life_exp is mapped on the vertical axis. \n",
    "plt.scatter(pop, life_exp)\n",
    "plt.xscale('log')\n",
    "\n",
    "plt.show()"
   ]
  },
  {
   "cell_type": "markdown",
   "id": "2ad71db1-8b99-4401-a9cd-2d64d2683a06",
   "metadata": {},
   "source": [
    "## Histogram\n",
    "\n",
    "\n",
    "**The histogram is a type of visualization thats very helpful to explore your data.  It can help you to get an idea about the distribution of your variables.  \n",
    "\n",
    "**To see how it works, image 12 values between 0 and 6, put them is a number line.  To build a histgram for these values, you can divide the line into equal chucks, called bins.  Suppose we go for 3 bins, that each have a width of 2, then we count how many data points sit inside each bin.  Finally draw bar of each bin representing number of data points of each. \n",
    "\n",
    "**The height of bar corresponds to the number of data points that fall in this bin.  The result is a histogram, which gives us a nice overview on how the 12 values are distributed.  \n",
    "\n",
    "\n",
    "\n",
    "## There is a bunch of arguments you can specify, but the first two here are the most important ones.  X should be a list(np.array works too) of values you want to build a histogram for, second argument tells Python how many bins the data should be divided.  \n",
    "\n",
    "# **Histogram are really helpful to give a bigger picture, the true power of histogram works with competition two with population age distribution change or per capital income change during time perid. \n",
    "\n"
   ]
  },
  {
   "cell_type": "code",
   "execution_count": 120,
   "id": "6ae54457-4d30-44ca-af78-7e3770998b76",
   "metadata": {},
   "outputs": [
    {
     "data": {
      "image/png": "[encoded data removed]",
      "text/plain": [
       "<Figure size 432x288 with 1 Axes>"
      ]
     },
     "metadata": {
      "needs_background": "light"
     },
     "output_type": "display_data"
    },
    {
     "data": {
      "image/png": "[encoded data removed]",
      "text/plain": [
       "<Figure size 432x288 with 1 Axes>"
      ]
     },
     "metadata": {
      "needs_background": "light"
     },
     "output_type": "display_data"
    }
   ],
   "source": [
    "import matplotlib.pyplot as plt\n",
    "import numpy as np\n",
    "\n",
    "height = np.round(np.random.normal(1.75, 0.20, 5000),2)\n",
    "weight = np.round(np.random.normal(60.32, 5, 5000),2)\n",
    "\n",
    "np_city = np.column_stack((height, weight))\n",
    "\n",
    "np_weight = np.array(weight)\n",
    "\n",
    "plt.hist(height, 20)\n",
    "plt.show()\n",
    "plt.clf()   # did not clear the above histogram\n",
    "plt.hist(np_weight, 30)\n",
    "plt.show()\n",
    "\n",
    "#?plt.hist"
   ]
  },
  {
   "cell_type": "code",
   "execution_count": 29,
   "id": "89a5e8ff-5a78-4384-bd01-e382d84595ce",
   "metadata": {},
   "outputs": [
    {
     "data": {
      "text/plain": [
       "\u001b[0;31mSignature:\u001b[0m \u001b[0mplt\u001b[0m\u001b[0;34m.\u001b[0m\u001b[0mclf\u001b[0m\u001b[0;34m(\u001b[0m\u001b[0;34m)\u001b[0m\u001b[0;34m\u001b[0m\u001b[0;34m\u001b[0m\u001b[0m\n",
       "\u001b[0;31mDocstring:\u001b[0m Clear the current figure.\n",
       "\u001b[0;31mFile:\u001b[0m      ~/.virtual_environments/py39/lib/python3.9/site-packages/matplotlib/pyplot.py\n",
       "\u001b[0;31mType:\u001b[0m      function\n"
      ]
     },
     "metadata": {},
     "output_type": "display_data"
    }
   ],
   "source": [
    "?plt.clf"
   ]
  },
  {
   "cell_type": "markdown",
   "id": "fbafe7ef-b1c5-488f-98fd-6a144865385d",
   "metadata": {},
   "source": [
    "## Build a histogram (1)\n",
    "\n",
    "life_exp, the list containing data on the life expectancy for different countries in 2007, is available in your Python shell.\n",
    "\n",
    "To see how life expectancy in different countries is distributed, let's create a histogram of life_exp.\n",
    "\n",
    "matplotlib.pyplot is already available as plt.\n",
    "Instructions\n",
    "100 XP\n",
    "\n",
    "    Use plt.hist() to create a histogram of the values in life_exp. Do not specify the number of bins; Python will set the number of bins to 10 by default for you.\n",
    "    Add plt.show() to actually display the histogram. Can you tell which bin contains the most observations?\n"
   ]
  },
  {
   "cell_type": "code",
   "execution_count": 125,
   "id": "9e37e4d2-b937-4e9a-b926-27befb8dddea",
   "metadata": {},
   "outputs": [
    {
     "data": {
      "image/png": "[encoded data removed]",
      "text/plain": [
       "<Figure size 432x288 with 1 Axes>"
      ]
     },
     "metadata": {
      "needs_background": "light"
     },
     "output_type": "display_data"
    }
   ],
   "source": [
    "import matplotlib.pyplot as plt\n",
    "\n",
    "plt.hist(life_exp, 20)\n",
    "plt.show()"
   ]
  },
  {
   "cell_type": "markdown",
   "id": "81485699-461c-4686-827b-0d32d62189be",
   "metadata": {},
   "source": [
    "## Build a histogram (2): bins\n",
    "\n",
    "In the previous exercise, you didn't specify the number of bins. By default, Python sets the number of bins to 10 in that case. The number of bins is pretty important. Too few bins will oversimplify reality and won't show you the details. Too many bins will overcomplicate reality and won't show the bigger picture.\n",
    "\n",
    "To control the number of bins to divide your data in, you can set the bins argument.\n",
    "\n",
    "That's exactly what you'll do in this exercise. You'll be making two plots here. The code in the script already includes plt.show() and plt.clf() calls; \n",
    "# *****************************************************************************************************\n",
    "# plt.show() displays a plot; plt.clf() cleans it up again so you can start a fresh.\n",
    "# Docstring: Clear the current figure.\n",
    "\n",
    "As before, life_exp is available and matplotlib.pyplot is imported as plt.\n",
    "Instructions\n",
    "100 XP\n",
    "\n",
    "    Build a histogram of life_exp, with 5 bins. Can you tell which bin contains the most observations?\n",
    "    Build another histogram of life_exp, this time with 20 bins. Is this better?\n"
   ]
  },
  {
   "cell_type": "code",
   "execution_count": 123,
   "id": "2126e0a7-9e9c-4eb8-a342-377d60a361f4",
   "metadata": {},
   "outputs": [
    {
     "data": {
      "image/png": "[encoded data removed]",
      "text/plain": [
       "<Figure size 432x288 with 1 Axes>"
      ]
     },
     "metadata": {
      "needs_background": "light"
     },
     "output_type": "display_data"
    }
   ],
   "source": [
    "import matplotlib.pyplot as plt\n",
    "\n",
    "plt.hist(life_exp, 30)\n",
    "plt.show()"
   ]
  },
  {
   "cell_type": "markdown",
   "id": "4ccb35bf-292a-4ebe-aec7-b5e951876f93",
   "metadata": {},
   "source": [
    "## Build a histogram (3): compare\n",
    "\n",
    "In the video, you saw population pyramids for the present day and for the future. Because we were using a histogram, it was very easy to make a comparison.\n",
    "\n",
    "Let's do a similar comparison. life_exp contains life expectancy data for different countries in 2007. You also have access to a second list now, life_exp1950, containing similar data for 1950. Can you make a histogram for both datasets?\n",
    "\n",
    "You'll again be making two plots. The plt.show() and plt.clf() commands to render everything nicely are already included. Also matplotlib.pyplot is imported for you, as plt.\n",
    "Instructions\n",
    "100 XP\n",
    "\n",
    "    Build a histogram of life_exp with 15 bins.\n",
    "    Build a histogram of life_exp1950, also with 15 bins. Is there a big difference with the histogram for the 2007 data?\n",
    "\n",
    "# people live longer in 21 century, bins with age above 70 are much bigger than 20 century.  "
   ]
  },
  {
   "cell_type": "code",
   "execution_count": 126,
   "id": "4659e8cf-3bff-4ebc-8f25-9791be91087e",
   "metadata": {},
   "outputs": [],
   "source": [
    "life_exp1950 = [28.8, 55.23, 43.08, 30.02, 62.48, 69.12, 66.8, 50.94, 37.48, 68.0, 38.22, 40.41, \n",
    " 53.82, 47.62, 50.92, 59.6, 31.98, 39.03, 39.42, 38.52, 68.75, 35.46, 38.09, 54.74, 44.0, 50.64, \n",
    " 40.72, 39.14, 42.11, 57.21, 40.48, 61.21, 59.42, 66.87, 70.78, 34.81, 45.93, 48.36, 41.89, 45.26,\n",
    " 34.48, 35.93, 34.08, 66.55, 67.41, 37.0, 30.0, 67.5, 43.15, 65.86, 42.02, 33.61, 32.5, 37.58, 41.91,\n",
    " 60.96, 64.03, 72.49, 37.37, 37.47, 44.87, 45.32, 66.91, 65.39, 65.94, 58.53, 63.03, 43.16, 42.27, \n",
    " 50.06, 47.45, 55.56, 55.93, 42.14, 38.48, 42.72, 36.68, 36.26, 48.46, 33.68, 40.54, 50.99, 50.79,\n",
    " 42.24, 59.16, 42.87, 31.29, 36.32, 41.72, 36.16, 72.13, 69.39, 42.31, 37.44, 36.32, 72.67, 37.58,\n",
    " 43.44, 55.19, 62.65, 43.9, 47.75, 61.31, 59.82, 64.28, 52.72, 61.05, 40.0, 46.47, 39.88, 37.28,\n",
    " 58.0, 30.33, 60.4, 64.36, 65.57, 32.98, 45.01, 64.94, 57.59, 38.64, 41.41, 71.86, 69.62, 45.88,\n",
    " 58.5, 41.22, 50.85, 38.6, 59.1, 44.6, 43.58, 39.98, 69.18, 68.44, 66.07, 55.09, 40.41, 43.16, 32.55,\n",
    " 42.04, 48.45]\n",
    "\n",
    "life_exp = [43.828, 76.423, 72.301, 42.731, 75.32, 81.235, 79.829, 75.635, 64.062, 79.441, 56.728, \n",
    " 65.554, 74.852, 50.728, 72.39, 73.005, 52.295, 49.58, 59.723, 50.43, 80.653, 44.74100000000001, \n",
    " 50.651, 78.553, 72.961, 72.889, 65.152, 46.462, 55.322, 78.782, 48.328, 75.748, 78.273, 76.486,\n",
    " 78.332, 54.791, 72.235, 74.994, 71.33800000000002, 71.878, 51.57899999999999, 58.04, 52.947, 79.313,\n",
    " 80.657, 56.735, 59.448, 79.406, 60.022, 79.483, 70.259, 56.007, 46.38800000000001, 60.916,\n",
    " 70.19800000000001, 82.208, 73.33800000000002, 81.757, 64.69800000000001, 70.65, 70.964, 59.545,\n",
    " 78.885, 80.745, 80.546, 72.567, 82.603, 72.535, 54.11, 67.297, 78.623, 77.58800000000002, 71.993, \n",
    " 42.592, 45.678, 73.952, 59.44300000000001, 48.303, 74.241, 54.467, 64.164, 72.801, 76.195, 66.803,\n",
    " 74.543, 71.164, 42.082, 62.069, 52.90600000000001, 63.785, 79.762, 80.204, 72.899, 56.867, 46.859,\n",
    " 80.196, 75.64, 65.483, 75.53699999999998, 71.752, 71.421, 71.688, 75.563, 78.098, 78.74600000000002,\n",
    " 76.442, 72.476, 46.242, 65.528, 72.777, 63.062, 74.002, 42.56800000000001, 79.972, 74.663, 77.926,\n",
    " 48.159, 49.339, 80.941, 72.396, 58.556, 39.613, 80.884, 81.70100000000002, 74.143, 78.4, 52.517,\n",
    " 70.616, 58.42, 69.819, 73.923, 71.777, 51.542, 79.425, 78.242, 76.384, 73.747, 74.249, 73.422, \n",
    " 62.698, 42.38399999999999, 43.487]"
   ]
  },
  {
   "cell_type": "code",
   "execution_count": 128,
   "id": "33b12fa5-a4c3-4a5d-b443-24c83d30cd4a",
   "metadata": {},
   "outputs": [
    {
     "data": {
      "image/png": "[encoded data removed]",
      "text/plain": [
       "<Figure size 432x288 with 1 Axes>"
      ]
     },
     "metadata": {
      "needs_background": "light"
     },
     "output_type": "display_data"
    },
    {
     "data": {
      "image/png": "[encoded data removed]",
      "text/plain": [
       "<Figure size 432x288 with 1 Axes>"
      ]
     },
     "metadata": {
      "needs_background": "light"
     },
     "output_type": "display_data"
    }
   ],
   "source": [
    "import matplotlib.pyplot as plt\n",
    "\n",
    "# Histogram of life_exp, 15 bins\n",
    "plt.hist(life_exp, 15)\n",
    "\n",
    "# Show and clear plot\n",
    "plt.show()\n",
    "#plt.clf()\n",
    "\n",
    "# Histogram of life_exp1950, 15 bins\n",
    "plt.hist(life_exp1950, 15)\n",
    "\n",
    "# Show and clear plot again\n",
    "plt.show()\n",
    "#plt.clf()"
   ]
  },
  {
   "cell_type": "markdown",
   "id": "e41d4631-9d6c-4cb5-8449-491fb901a5fd",
   "metadata": {},
   "source": [
    "## Choose the right plot (1)\n",
    "\n",
    "# *****************************************************************************************************\n",
    "You're a professor teaching Data Science with Python, and you want to visually assess if the grades on your exam follow a particular distribution. Which plot do you use?\n",
    "Instructions\n",
    "50 XP\n",
    "Possible Answers\n",
    "\n",
    "    Line plot\n",
    "    Scatter plot\n",
    "#    Histogram   histogram is for distribution, but bins should be selected careful\n",
    "    "
   ]
  },
  {
   "cell_type": "markdown",
   "id": "1317e555-2486-4ec7-afaf-21bf2c032717",
   "metadata": {},
   "source": [
    "## Choose the right plot (2)\n",
    "\n",
    "# *****************************************************************************************************\n",
    "# You're a professor in Data Analytics with Python, and you want to visually assess if longer answers on exam questions lead to higher grades. Which plot do you use?\n",
    "Instructions\n",
    "50 XP\n",
    "Possible Answers\n",
    "\n",
    "    Line plot\n",
    "#    Scatter plot   Line plot already drawed the line, but with dot distribution, you can see if there is a linear relashionship between two\n",
    "    Histogram\n",
    "    "
   ]
  },
  {
   "cell_type": "code",
   "execution_count": null,
   "id": "7ef403e4-ca5d-4fc7-9aa3-057a76cf48d6",
   "metadata": {},
   "outputs": [],
   "source": []
  },
  {
   "cell_type": "markdown",
   "id": "698b7463-b127-4025-b977-4a2ece673fa5",
   "metadata": {},
   "source": [
    "## Customization\n",
    "\n",
    "\n",
    "\n",
    "**Now you got histogram under your datavis belt, lets figure out how to customize out plots.  Creating a plot is one thing, making the correct plot, that makes the message very clear, thats the real challenge.  For each visualization, you have many options.  First of all, there are different plot types, and for each plot you can do infinite number of customizations.  You can change colors, shapes, labels, axes, and so on.  The choice depends on, one: the data, two: the story you want to tell with this data.  Since there are so mamy possible customizations, the best way to learn this is by example. \n"
   ]
  },
  {
   "cell_type": "code",
   "execution_count": 133,
   "id": "d510d850-5bb3-48ab-8cf8-f8230da11589",
   "metadata": {},
   "outputs": [
    {
     "data": {
      "image/png": "[encoded data removed]",
      "text/plain": [
       "<Figure size 432x288 with 1 Axes>"
      ]
     },
     "metadata": {
      "needs_background": "light"
     },
     "output_type": "display_data"
    }
   ],
   "source": [
    "pop = [2.53, 2.57, 2.62, 2.67, 2.71, 2.76, 2.81, 2.86, 2.92, 2.97, 3.03, 3.08, 3.14, 3.2, 3.26, 3.33,\n",
    " 3.4, 3.47, 3.54, 3.62, 3.69, 3.77, 3.84, 3.92, 4.0, 4.07, 4.15, 4.22, 4.3, 4.37, 4.45, 4.53, 4.61,\n",
    " 4.69, 4.78, 4.86, 4.95, 5.05, 5.14, 5.23, 5.32, 5.41, 5.49, 5.58, 5.66, 5.74, 5.82, 5.9, 5.98, 6.05, \n",
    " 6.13, 6.2, 6.28, 6.36, 6.44, 6.51, 6.59, 6.67, 6.75, 6.83, 6.92, 7.0, 7.08, 7.16, 7.24, 7.32, 7.4,\n",
    " 7.48, 7.56, 7.64, 7.72, 7.79, 7.87, 7.94, 8.01, 8.08, 8.15, 8.22, 8.29, 8.36, 8.42, 8.49, 8.56, 8.62, \n",
    " 8.68, 8.74, 8.8, 8.86, 8.92, 8.98, 9.04, 9.09, 9.15, 9.2, 9.26, 9.31, 9.36, 9.41, 9.46, 9.5, 9.55,\n",
    " 9.6, 9.64, 9.68, 9.73, 9.77, 9.81, 9.85, 9.88, 9.92, 9.96, 9.99, 10.03, 10.06, 10.09, 10.13, 10.16,\n",
    " 10.19, 10.22, 10.25, 10.28, 10.31, 10.33, 10.36, 10.38, 10.41, 10.43, 10.46, 10.48, 10.5, 10.52,\n",
    " 10.55, 10.57, 10.59, 10.61, 10.63, 10.65, 10.66, 10.68, 10.7, 10.72, 10.73, 10.75, 10.77, 10.78,\n",
    " 10.79, 10.81, 10.82, 10.83, 10.84, 10.85]\n",
    "\n",
    "year = [1950, 1951, 1952, 1953, 1954, 1955, 1956, 1957, 1958, 1959, 1960, 1961, 1962, 1963, 1964,\n",
    " 1965, 1966, 1967, 1968, 1969, 1970, 1971, 1972, 1973, 1974, 1975, 1976, 1977, 1978, 1979, 1980,\n",
    " 1981, 1982, 1983, 1984, 1985, 1986, 1987, 1988, 1989, 1990, 1991, 1992, 1993, 1994, 1995, 1996, 1997,\n",
    " 1998, 1999, 2000, 2001, 2002, 2003, 2004, 2005, 2006, 2007, 2008, 2009, 2010, 2011, 2012, 2013, 2014, \n",
    " 2015, 2016, 2017, 2018, 2019, 2020, 2021, 2022, 2023, 2024, 2025, 2026, 2027, 2028, 2029, 2030, 2031,\n",
    " 2032, 2033, 2034, 2035, 2036, 2037, 2038, 2039, 2040, 2041, 2042, 2043, 2044, 2045, 2046, 2047, 2048,\n",
    " 2049, 2050, 2051, 2052, 2053, 2054, 2055, 2056, 2057, 2058, 2059, 2060, 2061, 2062, 2063, 2064, 2065,\n",
    " 2066, 2067, 2068, 2069, 2070, 2071, 2072, 2073, 2074, 2075, 2076, 2077, 2078, 2079, 2080, 2081, 2082,\n",
    " 2083, 2084, 2085, 2086, 2087, 2088, 2089, 2090, 2091, 2092, 2093, 2094, 2095, 2096, 2097, 2098,\n",
    " 2099, 2100]\n",
    "\n",
    "\n",
    "import matplotlib.pyplot as plt\n",
    "\n",
    "\n",
    "plt.plot(year, pop)\n",
    "plt.show()"
   ]
  },
  {
   "cell_type": "markdown",
   "id": "c9016dd0-3d54-43c8-bcfa-e8ea4c6d80c5",
   "metadata": {},
   "source": [
    "# Running above code, we got a nice plot, it shows the population explosion thats going on will have slowed down by the end of the century.  But some thing can be improved. \n",
    "\n"
   ]
  },
  {
   "cell_type": "code",
   "execution_count": 134,
   "id": "1ac28836-164f-4b75-933c-d9369555bad0",
   "metadata": {},
   "outputs": [
    {
     "data": {
      "image/png": "[encoded data removed]",
      "text/plain": [
       "<Figure size 432x288 with 1 Axes>"
      ]
     },
     "metadata": {
      "needs_background": "light"
     },
     "output_type": "display_data"
    }
   ],
   "source": [
    "\n",
    "plt.plot(year, pop)\n",
    "\n",
    "plt.title('pop and year relashionship')\n",
    "plt.xlabel('year from 1950 to 2100')\n",
    "plt.ylabel('pop of each year')\n",
    "\n",
    "plt.yticks([0, 2, 4, 6, 8, 10, 12], \n",
    "           ['0', '2B', '4B', '6B', '8B', '10B', '12B'])\n",
    "\n",
    "plt.show()"
   ]
  },
  {
   "cell_type": "code",
   "execution_count": 56,
   "id": "4dfd5aa0-e2db-4bfb-98b3-435d1d7f5497",
   "metadata": {},
   "outputs": [],
   "source": [
    "#?plt.yticks"
   ]
  },
  {
   "cell_type": "markdown",
   "id": "7daa46a9-9837-4391-aee2-87c142897168",
   "metadata": {},
   "source": [
    "# *****************************************************************************************************\n",
    "# *****************************************************************************************************\n",
    "\n",
    "## First, it should be clearer which data we are displaying, especially to people who are seeing the graph for the first time.  And second, the plot really needs to draw the attention to the population explosion - our purpose drawing this chart.  \n",
    "\n",
    "\n",
    "**The first thing you always need to do is label your axes, lets do this by adding xlable() and ylable() function.  We're also going to add a title to our plot, with the title() function.  \n",
    "\n",
    "# Just using xlabel(), ylabel(), and title(), we can give the reader more information about the data on the plot.  Now they can at least tell what the plot is about.  \n",
    "\n",
    "\n",
    "\n",
    "\n",
    "# **To put population growth in perspective, I want to have the y-axis atart from zero, you can do this with the yticks() function,  the first input is a list, \n",
    "**Now its clear that already in 1950, there are already about 2.5 billion people on this planet.  \n",
    "\n",
    "# Next, to make it clear we're talking about billions, we add second argumant to the yticks() function, which is a list with display names of the ticks.  This list should have the same length as the first list.  \n",
    "\n",
    "\n",
    "\n",
    "**Finally lets add some more historical data to accentuate the population explosion in the last 60 years.  \n",
    "\n",
    "# That's how you turn an average line plot into a visual that has a clear story to tell.  \n"
   ]
  },
  {
   "cell_type": "code",
   "execution_count": 61,
   "id": "2508d6e1-859a-40c7-a448-b16b1cf58bd1",
   "metadata": {},
   "outputs": [
    {
     "data": {
      "image/png": "[encoded data removed]",
      "text/plain": [
       "<Figure size 432x288 with 1 Axes>"
      ]
     },
     "metadata": {
      "needs_background": "light"
     },
     "output_type": "display_data"
    }
   ],
   "source": [
    "year = [1800, 1850, 1900] + year\n",
    "pop = [1.0, 1.262, 1.650] + pop\n",
    "\n",
    "\n",
    "plt.plot(year, pop)\n",
    "\n",
    "\n",
    "plt.title('pop and year relashionship')\n",
    "plt.xlabel('year from 1950 to 2100')\n",
    "plt.ylabel('pop of each year')\n",
    "\n",
    "plt.yticks([0, 2, 4, 6, 8, 10, 12], \n",
    "           ['0', '2B', '4B', '6B', '8B', '10B', '12B'])\n",
    "\n",
    "\n",
    "plt.show()"
   ]
  },
  {
   "cell_type": "code",
   "execution_count": 135,
   "id": "51e9c9dd-d595-45b3-8e57-fa8c33a8cbf3",
   "metadata": {},
   "outputs": [],
   "source": [
    "gdp_cap = [974.5803384, 5937.029525999998, 6223.367465, 4797.231267, 12779.37964, 34435.367439999995, \n",
    " 36126.4927, 29796.04834, 1391.253792, 33692.60508, 1441.284873, 3822.137084, 7446.298803, 12569.85177, \n",
    " 9065.800825, 10680.79282, 1217.032994, 430.0706916, 1713.778686, 2042.09524, 36319.23501, 706.016537, \n",
    " 1704.063724, 13171.63885, 4959.114854, 7006.580419, 986.1478792, 277.5518587, 3632.557798, 9645.06142, \n",
    " 1544.750112, 14619.222719999998, 8948.102923, 22833.30851, 35278.41874, 2082.4815670000007,\n",
    " 6025.3747520000015, 6873.262326000001, 5581.180998, 5728.353514, 12154.08975, 641.3695236000002,\n",
    " 690.8055759, 33207.0844, 30470.0167, 13206.48452, 752.7497265, 32170.37442, 1327.60891, 27538.41188,\n",
    " 5186.050003, 942.6542111, 579.2317429999998, 1201.637154, 3548.3308460000007, 39724.97867, 18008.94444,\n",
    " 36180.78919, 2452.210407, 3540.651564, 11605.71449, 4471.061906, 40675.99635, 25523.2771, 28569.7197,\n",
    " 7320.8802620000015, 31656.06806, 4519.461171, 1463.249282, 1593.06548, 23348.139730000006, 47306.98978, \n",
    " 10461.05868, 1569.331442, 414.5073415, 12057.49928, 1044.770126, 759.3499101, 12451.6558, 1042.581557,\n",
    " 1803.151496, 10956.99112, 11977.57496, 3095.7722710000007, 9253.896111, 3820.17523, 823.6856205,\n",
    " 944.0, 4811.060429, 1091.359778, 36797.93332, 25185.00911, 2749.320965, 619.6768923999998, 2013.977305,\n",
    " 49357.19017, 22316.19287, 2605.94758, 9809.185636, 4172.838464, 7408.905561, 3190.481016,\n",
    " 15389.924680000002, 20509.64777, 19328.70901, 7670.122558, 10808.47561, 863.0884639000002, 1598.435089, \n",
    " 21654.83194, 1712.472136, 9786.534714, 862.5407561000002, 47143.17964, 18678.31435, 25768.25759,\n",
    " 926.1410683, 9269.657808, 28821.0637, 3970.095407, 2602.394995, 4513.480643, 33859.74835, 37506.41907,\n",
    " 4184.548089, 28718.27684, 1107.482182, 7458.396326999998, 882.9699437999999, 18008.50924, 7092.923025,\n",
    " 8458.276384, 1056.380121, 33203.26128, 42951.65309, 10611.46299, 11415.80569, 2441.576404, 3025.349798,\n",
    " 2280.769906, 1271.211593, 469.70929810000007]\n",
    "\n",
    "\n",
    "life_exp = [43.828, 76.423, 72.301, 42.731, 75.32, 81.235, 79.829, 75.635, 64.062, 79.441, 56.728, \n",
    " 65.554, 74.852, 50.728, 72.39, 73.005, 52.295, 49.58, 59.723, 50.43, 80.653, 44.74100000000001,\n",
    " 50.651, 78.553, 72.961, 72.889, 65.152, 46.462, 55.322, 78.782, 48.328, 75.748, 78.273, 76.486, \n",
    " 78.332, 54.791, 72.235, 74.994, 71.33800000000002, 71.878, 51.57899999999999, 58.04, 52.947, 79.313,\n",
    " 80.657, 56.735, 59.448, 79.406, 60.022, 79.483, 70.259, 56.007, 46.38800000000001, 60.916,\n",
    " 70.19800000000001, 82.208, 73.33800000000002, 81.757, 64.69800000000001, 70.65, 70.964, 59.545,\n",
    " 78.885, 80.745, 80.546, 72.567, 82.603, 72.535, 54.11, 67.297, 78.623, 77.58800000000002, 71.993,\n",
    " 42.592, 45.678, 73.952, 59.44300000000001, 48.303, 74.241, 54.467, 64.164, 72.801, 76.195, 66.803,\n",
    " 74.543, 71.164, 42.082, 62.069, 52.90600000000001, 63.785, 79.762, 80.204, 72.899, 56.867, 46.859,\n",
    " 80.196, 75.64, 65.483, 75.53699999999998, 71.752, 71.421, 71.688, 75.563, 78.098, 78.74600000000002,\n",
    " 76.442, 72.476, 46.242, 65.528, 72.777, 63.062, 74.002, 42.56800000000001, 79.972, 74.663, 77.926,\n",
    " 48.159, 49.339, 80.941, 72.396, 58.556, 39.613, 80.884, 81.70100000000002, 74.143, 78.4, 52.517,\n",
    " 70.616, 58.42, 69.819, 73.923, 71.777, 51.542, 79.425, 78.242, 76.384, 73.747, 74.249, 73.422, 62.698,\n",
    " 42.38399999999999, 43.487]"
   ]
  },
  {
   "cell_type": "markdown",
   "id": "6fc23a95-6642-4ff3-86c3-74303ed6a3bf",
   "metadata": {},
   "source": [
    "## Labels\n",
    "\n",
    "It's time to customize your own plot. This is the fun part, you will see your plot come to life!\n",
    "\n",
    "You're going to work on the scatter plot with world development data: GDP per capita on the x-axis (logarithmic scale), life expectancy on the y-axis. The code for this plot is available in the script.\n",
    "\n",
    "As a first step, let's add axis labels and a title to the plot. You can do this with the xlabel(), ylabel() and title() functions, available in matplotlib.pyplot. This sub-package is already imported as plt.\n",
    "Instructions\n",
    "100 XP\n",
    "\n",
    "    The strings xlab and ylab are already set for you. Use these variables to set the label of the x- and y-axis.\n",
    "    The string title is also coded for you. Use it to add a title to the plot.\n",
    "    After these customizations, finish the script with plt.show() to actually display the plot.\n"
   ]
  },
  {
   "cell_type": "code",
   "execution_count": 136,
   "id": "8596d697-ddde-43fa-8d41-bfbe693a379a",
   "metadata": {},
   "outputs": [
    {
     "data": {
      "image/png": "[encoded data removed]",
      "text/plain": [
       "<Figure size 432x288 with 1 Axes>"
      ]
     },
     "metadata": {
      "needs_background": "light"
     },
     "output_type": "display_data"
    }
   ],
   "source": [
    "# Basic scatter plot, log scale\n",
    "plt.scatter(gdp_cap, life_exp)\n",
    "plt.xscale('log') \n",
    "\n",
    "# Strings\n",
    "xlab = 'GDP per Capita [in USD]'\n",
    "ylab = 'Life Expectancy [in years]'\n",
    "title = 'World Development in 2007'\n",
    "\n",
    "# Add axis labels\n",
    "plt.xlabel(xlab)\n",
    "plt.ylabel(ylab)\n",
    "\n",
    "# Add title\n",
    "plt.title(title)\n",
    "\n",
    "# After customizing, display the plot\n",
    "plt.show()"
   ]
  },
  {
   "cell_type": "markdown",
   "id": "41a29762-999c-43c9-9a85-4e099195a61d",
   "metadata": {},
   "source": [
    "## Ticks\n",
    "\n",
    "The customizations you've coded up to now are available in the script, in a more concise form.\n",
    "\n",
    "In the video, Hugo has demonstrated how you could control the y-ticks by specifying two arguments:\n",
    "\n",
    "# plt.yticks([0,1,2], [\"one\",\"two\",\"three\"])\n",
    "\n",
    "In this example, the ticks corresponding to the numbers 0, 1 and 2 will be replaced by one, two and three, respectively.\n",
    "\n",
    "Let's do a similar thing for the x-axis of your world development chart, with the xticks() function. The tick values 1000, 10000 and 100000 should be replaced by 1k, 10k and 100k. To this end, two lists have already been created for you: tick_val and tick_lab.\n",
    "Instructions\n",
    "100 XP\n",
    "\n",
    "    Use tick_val and tick_lab as inputs to the xticks() function to make the the plot more readable.\n",
    "    As usual, display the plot with plt.show() after you've added the customizations.\n"
   ]
  },
  {
   "cell_type": "code",
   "execution_count": 137,
   "id": "4cb105c1-9e0a-40e4-b798-787bdf48afba",
   "metadata": {},
   "outputs": [
    {
     "data": {
      "image/png": "[encoded data removed]",
      "text/plain": [
       "<Figure size 432x288 with 1 Axes>"
      ]
     },
     "metadata": {
      "needs_background": "light"
     },
     "output_type": "display_data"
    }
   ],
   "source": [
    "# Scatter plot\n",
    "plt.scatter(gdp_cap, life_exp)\n",
    "\n",
    "# Previous customizations\n",
    "plt.xscale('log') \n",
    "plt.xlabel('GDP per Capita [in USD]')\n",
    "plt.ylabel('Life Expectancy [in years]')\n",
    "plt.title('World Development in 2007')\n",
    "\n",
    "# Definition of tick_val and tick_lab\n",
    "tick_val = [1000, 10000, 100000]\n",
    "tick_lab = ['1k', '10k', '100k']\n",
    "\n",
    "# Adapt the ticks on the x-axis\n",
    "plt.xticks(tick_val, tick_lab)\n",
    "\n",
    "# After customizing, display the plot\n",
    "plt.show()"
   ]
  },
  {
   "cell_type": "code",
   "execution_count": 138,
   "id": "0dc5314f-dd13-475f-ba28-3ff1ab0b19a9",
   "metadata": {},
   "outputs": [],
   "source": [
    "life_exp = [43.828, 76.423, 72.301, 42.731, 75.32, 81.235, 79.829, 75.635, 64.062, 79.441, 56.728, \n",
    " 65.554, 74.852, 50.728, 72.39, 73.005, 52.295, 49.58, 59.723, 50.43, 80.653, 44.74100000000001,\n",
    " 50.651, 78.553, 72.961, 72.889, 65.152, 46.462, 55.322, 78.782, 48.328, 75.748, 78.273, 76.486, \n",
    " 78.332, 54.791, 72.235, 74.994, 71.33800000000002, 71.878, 51.57899999999999, 58.04, 52.947, 79.313,\n",
    " 80.657, 56.735, 59.448, 79.406, 60.022, 79.483, 70.259, 56.007, 46.38800000000001, 60.916,\n",
    " 70.19800000000001, 82.208, 73.33800000000002, 81.757, 64.69800000000001, 70.65, 70.964, 59.545,\n",
    " 78.885, 80.745, 80.546, 72.567, 82.603, 72.535, 54.11, 67.297, 78.623, 77.58800000000002, 71.993,\n",
    " 42.592, 45.678, 73.952, 59.44300000000001, 48.303, 74.241, 54.467, 64.164, 72.801, 76.195, 66.803,\n",
    " 74.543, 71.164, 42.082, 62.069, 52.90600000000001, 63.785, 79.762, 80.204, 72.899, 56.867, 46.859,\n",
    " 80.196, 75.64, 65.483, 75.53699999999998, 71.752, 71.421, 71.688, 75.563, 78.098, 78.74600000000002,\n",
    " 76.442, 72.476, 46.242, 65.528, 72.777, 63.062, 74.002, 42.56800000000001, 79.972, 74.663, 77.926,\n",
    " 48.159, 49.339, 80.941, 72.396, 58.556, 39.613, 80.884, 81.70100000000002, 74.143, 78.4, 52.517,\n",
    " 70.616, 58.42, 69.819, 73.923, 71.777, 51.542, 79.425, 78.242, 76.384, 73.747, 74.249, 73.422, 62.698,\n",
    " 42.38399999999999, 43.487]\n",
    "\n",
    "pop = [31.889923, 3.600523, 33.333216, 12.420476, 40.301927, 20.434176, 8.199783, 0.708573, 150.448339, \n",
    " 10.392226, 8.078314, 9.119152, 4.552198, 1.639131, 190.010647, 7.322858, 14.326203, 8.390505, 14.131858,\n",
    " 17.696293, 33.390141, 4.369038, 10.238807, 16.284741, 1318.683096, 44.22755, 0.71096, 64.606759, 3.80061,\n",
    " 4.133884, 18.013409, 4.493312, 11.416987, 10.228744, 5.46812, 0.496374, 9.319622, 13.75568, 80.264543,\n",
    " 6.939688, 0.551201, 4.906585, 76.511887, 5.23846, 61.083916, 1.454867, 1.688359, 82.400996, 22.873338,\n",
    " 10.70629, 12.572928, 9.947814, 1.472041, 8.502814, 7.483763, 6.980412, 9.956108, 0.301931, 1110.396331,\n",
    " 223.547, 69.45357, 27.499638, 4.109086, 6.426679, 58.147733, 2.780132, 127.467972, 6.053193, 35.610177,\n",
    " 23.301725, 49.04479, 2.505559, 3.921278, 2.012649, 3.193942, 6.036914, 19.167654, 13.327079, 24.821286,\n",
    " 12.031795, 3.270065, 1.250882, 108.700891, 2.874127, 0.684736, 33.757175, 19.951656, 47.76198, 2.05508,\n",
    " 28.90179, 16.570613, 4.115771, 5.675356, 12.894865, 135.031164, 4.627926, 3.204897, 169.270617, 3.242173,\n",
    " 6.667147, 28.674757, 91.077287, 38.518241, 10.642836, 3.942491, 0.798094, 22.276056, 8.860588, 0.199579, \n",
    " 27.601038, 12.267493, 10.150265, 6.144562, 4.553009, 5.447502, 2.009245, 9.118773, 43.997828, 40.448191, \n",
    " 20.378239, 42.292929, 1.133066, 9.031088, 7.554661, 19.314747, 23.174294, 38.13964, 65.068149, 5.701579,\n",
    " 1.056608, 10.276158, 71.158647, 29.170398, 60.776238, 301.139947, 3.447496, 26.084662, 85.262356, \n",
    " 4.018332, 22.211743, 11.746035, 12.311143]\n",
    "\n",
    "gdp_cap = [974.5803384, 5937.029525999998, 6223.367465, 4797.231267, 12779.37964, 34435.367439999995, \n",
    " 36126.4927, 29796.04834, 1391.253792, 33692.60508, 1441.284873, 3822.137084, 7446.298803, 12569.85177, \n",
    " 9065.800825, 10680.79282, 1217.032994, 430.0706916, 1713.778686, 2042.09524, 36319.23501, 706.016537, \n",
    " 1704.063724, 13171.63885, 4959.114854, 7006.580419, 986.1478792, 277.5518587, 3632.557798, 9645.06142, \n",
    " 1544.750112, 14619.222719999998, 8948.102923, 22833.30851, 35278.41874, 2082.4815670000007,\n",
    " 6025.3747520000015, 6873.262326000001, 5581.180998, 5728.353514, 12154.08975, 641.3695236000002,\n",
    " 690.8055759, 33207.0844, 30470.0167, 13206.48452, 752.7497265, 32170.37442, 1327.60891, 27538.41188,\n",
    " 5186.050003, 942.6542111, 579.2317429999998, 1201.637154, 3548.3308460000007, 39724.97867, 18008.94444,\n",
    " 36180.78919, 2452.210407, 3540.651564, 11605.71449, 4471.061906, 40675.99635, 25523.2771, 28569.7197,\n",
    " 7320.8802620000015, 31656.06806, 4519.461171, 1463.249282, 1593.06548, 23348.139730000006, 47306.98978, \n",
    " 10461.05868, 1569.331442, 414.5073415, 12057.49928, 1044.770126, 759.3499101, 12451.6558, 1042.581557,\n",
    " 1803.151496, 10956.99112, 11977.57496, 3095.7722710000007, 9253.896111, 3820.17523, 823.6856205,\n",
    " 944.0, 4811.060429, 1091.359778, 36797.93332, 25185.00911, 2749.320965, 619.6768923999998, 2013.977305,\n",
    " 49357.19017, 22316.19287, 2605.94758, 9809.185636, 4172.838464, 7408.905561, 3190.481016,\n",
    " 15389.924680000002, 20509.64777, 19328.70901, 7670.122558, 10808.47561, 863.0884639000002, 1598.435089, \n",
    " 21654.83194, 1712.472136, 9786.534714, 862.5407561000002, 47143.17964, 18678.31435, 25768.25759,\n",
    " 926.1410683, 9269.657808, 28821.0637, 3970.095407, 2602.394995, 4513.480643, 33859.74835, 37506.41907,\n",
    " 4184.548089, 28718.27684, 1107.482182, 7458.396326999998, 882.9699437999999, 18008.50924, 7092.923025,\n",
    " 8458.276384, 1056.380121, 33203.26128, 42951.65309, 10611.46299, 11415.80569, 2441.576404, 3025.349798,\n",
    " 2280.769906, 1271.211593, 469.70929810000007]"
   ]
  },
  {
   "cell_type": "markdown",
   "id": "76b9beb4-3e74-42ae-937a-e00ae8359f76",
   "metadata": {},
   "source": [
    "## Sizes\n",
    "\n",
    "# *****************************************************************************************************\n",
    "# Right now, the scatter plot is just a cloud of blue dots, indistinguishable from each other. Let's change this. Wouldn't it be nice if the size of the dots corresponds to the population?\n",
    "\n",
    "To accomplish this, there is a list pop loaded in your workspace. It contains population numbers for each country expressed in millions. You can see that this list is added to the scatter method, as the \n",
    "# argument s, for size.\n",
    "Instructions\n",
    "100 XP\n",
    "\n",
    "    Run the script to see how the plot changes.\n",
    "    Looks good, but increasing the size of the bubbles will make things stand out more.\n",
    "        Import the numpy package as np.\n",
    "        Use np.array() to create a numpy array from the list pop. Call this Numpy array np_pop.\n",
    "        Double the values in np_pop setting the value of np_pop equal to np_pop * 2. Because np_pop is a Numpy array, each array element will be doubled.\n",
    "        Change the s argument inside plt.scatter() to be np_pop instead of pop.\n"
   ]
  },
  {
   "cell_type": "code",
   "execution_count": 140,
   "id": "bd106c5c-0cb4-4080-a440-835f3b049df6",
   "metadata": {},
   "outputs": [
    {
     "data": {
      "image/png": "[encoded data removed]",
      "text/plain": [
       "<Figure size 432x288 with 1 Axes>"
      ]
     },
     "metadata": {
      "needs_background": "light"
     },
     "output_type": "display_data"
    }
   ],
   "source": [
    "# Import numpy as np\n",
    "import numpy as np\n",
    "\n",
    "# Store pop as a numpy array: np_pop\n",
    "np_pop = np.array(pop)\n",
    "\n",
    "# Double np_pop\n",
    "np_pop = np_pop*2\n",
    "\n",
    "# Update: set s argument to np_pop\n",
    "plt.scatter(gdp_cap, life_exp, s = np_pop)\n",
    "# *************************************************************************************************** #\n",
    "\n",
    "# Previous customizations\n",
    "plt.xscale('log') \n",
    "\n",
    "plt.xlabel('GDP per Capita [in USD]')\n",
    "plt.ylabel('Life Expectancy [in years]')\n",
    "plt.title('World Development in 2007')\n",
    "\n",
    "plt.xticks([1000, 10000, 100000],['1k', '10k', '100k'])\n",
    "\n",
    "# Display the plot\n",
    "plt.show()"
   ]
  },
  {
   "cell_type": "code",
   "execution_count": 141,
   "id": "e8c4a51f-12bc-43ee-b9f0-aca2477f64fd",
   "metadata": {},
   "outputs": [],
   "source": [
    "col = ['red', 'green', 'blue', 'blue', 'yellow', 'black', 'green', 'red', 'red', 'green', 'blue', \n",
    " 'yellow', 'green', 'blue', 'yellow', 'green', 'blue', 'blue', 'red', 'blue', 'yellow', 'blue', \n",
    " 'blue', 'yellow', 'red', 'yellow', 'blue', 'blue', 'blue', 'yellow', 'blue', 'green', 'yellow', \n",
    " 'green', 'green', 'blue', 'yellow', 'yellow', 'blue', 'yellow', 'blue', 'blue', 'blue', 'green', \n",
    " 'green', 'blue', 'blue', 'green', 'blue', 'green', 'yellow', 'blue', 'blue', 'yellow', 'yellow', \n",
    " 'red', 'green', 'green', 'red', 'red', 'red', 'red', 'green', 'red', 'green', 'yellow', 'red', 'red', \n",
    " 'blue', 'red', 'red', 'red', 'red', 'blue', 'blue', 'blue', 'blue', 'blue', 'red', 'blue', 'blue', \n",
    " 'blue', 'yellow', 'red', 'green', 'blue', 'blue', 'red', 'blue', 'red', 'green', 'black', 'yellow', \n",
    " 'blue', 'blue', 'green', 'red', 'red', 'yellow', 'yellow', 'yellow', 'red', 'green', 'green', \n",
    " 'yellow', 'blue', 'green', 'blue', 'blue', 'red', 'blue', 'green', 'blue', 'red', 'green', 'green', \n",
    " 'blue', 'blue', 'green', 'red', 'blue', 'blue', 'green', 'green', 'red', 'red', 'blue', 'red', \n",
    " 'blue', 'yellow', 'blue', 'green', 'blue', 'green', 'yellow', 'yellow', 'yellow', 'red', 'red', \n",
    " 'red', 'blue', 'blue']"
   ]
  },
  {
   "cell_type": "markdown",
   "id": "3c27cffb-a64f-45bd-9a94-412a8116685e",
   "metadata": {},
   "source": [
    "## Colors\n",
    "\n",
    "The code you've written up to now is available in the script.\n",
    "\n",
    "The next step is making the plot more colorful! To do this, a list col has been created for you. It's a list with a color for each corresponding country, depending on the continent the country is part of.\n",
    "\n",
    "How did we make the list col you ask? The Gapminder data contains a list continent with the continent each country belongs to. A dictionary is constructed that maps continents onto colors:\n",
    "\n",
    "dict = {\n",
    "    'Asia':'red',\n",
    "    'Europe':'green',\n",
    "    'Africa':'blue',\n",
    "    'Americas':'yellow',\n",
    "    'Oceania':'black'\n",
    "}\n",
    "\n",
    "Nothing to worry about now; you will learn about dictionaries in the next chapter.\n",
    "Instructions\n",
    "100 XP\n",
    "\n",
    "    Add c = col to the arguments of the plt.scatter() function.\n",
    "    Change the opacity of the bubbles by setting the alpha argument to 0.8 inside plt.scatter(). Alpha can be set from zero to one, where zero is totally transparent, and one is not at all transparent.\n"
   ]
  },
  {
   "cell_type": "code",
   "execution_count": 144,
   "id": "4527d289-78db-4f4d-be80-91e34c85115f",
   "metadata": {},
   "outputs": [
    {
     "data": {
      "image/png": "[encoded data removed]",
      "text/plain": [
       "<Figure size 432x288 with 1 Axes>"
      ]
     },
     "metadata": {
      "needs_background": "light"
     },
     "output_type": "display_data"
    }
   ],
   "source": [
    "# Specify c and alpha inside plt.scatter()\n",
    "plt.scatter(x = gdp_cap, y = life_exp, s = np.array(pop) * 2, c=col, alpha=0.8)\n",
    "\n",
    "# Previous customizations\n",
    "plt.xscale('log') \n",
    "plt.xlabel('GDP per Capita [in USD]')\n",
    "plt.ylabel('Life Expectancy [in years]')\n",
    "plt.title('World Development in 2007')\n",
    "plt.xticks([1000,10000,100000], ['1k','10k','100k'])\n",
    "\n",
    "# Show the plot\n",
    "plt.show()"
   ]
  },
  {
   "cell_type": "markdown",
   "id": "6f60e588-1eab-48aa-947c-b9010738d615",
   "metadata": {},
   "source": [
    "## Additional Customizations\n",
    "\n",
    "If you have another look at the script, under # Additional Customizations, you'll see that there are two plt.text() functions now. They add the words \"India\" and \"China\" in the plot.\n",
    "Instructions\n",
    "100 XP\n",
    "\n",
    "#    Add plt.grid(True) after the plt.text() calls so that gridlines are drawn on the plot.\n"
   ]
  },
  {
   "cell_type": "code",
   "execution_count": 145,
   "id": "b2fc54f3-3e41-4c28-96e6-d76c5ad3f98a",
   "metadata": {},
   "outputs": [
    {
     "data": {
      "image/png": "[encoded data removed]",
      "text/plain": [
       "<Figure size 432x288 with 1 Axes>"
      ]
     },
     "metadata": {
      "needs_background": "light"
     },
     "output_type": "display_data"
    }
   ],
   "source": [
    "# Scatter plot\n",
    "plt.scatter(x = gdp_cap, y = life_exp, s = np.array(pop) * 2, c = col, alpha = 0.8)\n",
    "\n",
    "# Previous customizations\n",
    "plt.xscale('log') \n",
    "\n",
    "plt.xlabel('GDP per Capita [in USD]')\n",
    "plt.ylabel('Life Expectancy [in years]')\n",
    "plt.title('World Development in 2007', fontweight='bold')\n",
    "\n",
    "plt.xticks([1000,10000,100000], ['1k','10k','100k'])\n",
    "\n",
    "# *************************************************************************************************** #\n",
    "# Additional customizations\n",
    "plt.text(1550, 71, 'India')\n",
    "plt.text(5700, 80, 'China')\n",
    "\n",
    "# *************************************************************************************************** #\n",
    "\n",
    "# Add grid() call\n",
    "plt.grid(True)\n",
    "\n",
    "# Show the plot\n",
    "plt.show()"
   ]
  },
  {
   "cell_type": "code",
   "execution_count": 143,
   "id": "c66c3bac-2e04-4027-ad03-214e7c5c30cf",
   "metadata": {},
   "outputs": [],
   "source": [
    "#?plt.title"
   ]
  },
  {
   "cell_type": "markdown",
   "id": "101f7139-9671-49df-af76-2132da0adb0e",
   "metadata": {
    "tags": []
   },
   "source": [
    "## Interpretation\n",
    "\n",
    "If you have a look at your colorful plot, it's clear that people live longer in countries with a higher GDP per capita. No high income countries have really short life expectancy, and no low income countries have very long life expectancy. Still, there is a huge difference in life expectancy between countries on the same income level. Most people live in middle income countries where difference in lifespan is huge between countries; depending on how income is distributed and how it is used.\n",
    "\n",
    "What can you say about the plot?\n",
    "Instructions\n",
    "50 XP\n",
    "Possible Answers\n",
    "\n",
    "#    The countries in blue, corresponding to Africa, have both low life expectancy and a low GDP per capita.\n",
    "    There is a negative correlation between GDP per capita and life expectancy.\n",
    "    China has both a lower GDP per capita and lower life expectancy compared to India.\n",
    "    "
   ]
  },
  {
   "cell_type": "code",
   "execution_count": null,
   "id": "b6333dd5-3875-475b-98c4-ad1406a8c401",
   "metadata": {},
   "outputs": [],
   "source": []
  },
  {
   "cell_type": "markdown",
   "id": "98522ae3-a1e8-487b-b0c4-08417b679275",
   "metadata": {},
   "source": [
    "## Dictionaries, Part 1\n",
    "\n",
    "\n",
    "\n",
    "**In this video, we'll talk about a new Python type: the dictionary.  \n",
    "\n",
    "# Dictionaries are sooooo useful in the data world, and to see this, image the following: \n",
    "**you work for the World Bank and want to track of the populationin each country.  You can put the polulations in a list, to keep track about which population belongs to which country, you can create a second list, with the namesof the countries in the same order as the populations.  \n",
    "\n",
    "**Now suppose that you want to get the population of Albania, First you have to figure out where in the list Albania is, so you can use this position to get the correct population.  \n",
    "\n",
    "**So we built two list, and use the index to connect corresponding elements in both lists.  It worked, but its not convenient and not intuitive.  \n",
    "\n",
    "\n",
    "# Wouldn't it be easier if we had a way to connect each country directly to its population, without using an index?  This is where the dictionary comes into play.  \n",
    "\n",
    "\n",
    "pop = [30.55, 2.77, 39.21]\n",
    "countries = ['afghanistan', 'albania', 'algeria']"
   ]
  },
  {
   "cell_type": "code",
   "execution_count": 12,
   "id": "fb943b5a-244f-43f4-992f-3d11175f1d34",
   "metadata": {},
   "outputs": [
    {
     "data": {
      "text/plain": [
       "2.77"
      ]
     },
     "execution_count": 12,
     "metadata": {},
     "output_type": "execute_result"
    }
   ],
   "source": [
    "pop = [30.55, 2.77, 39.21]\n",
    "countries = ['afghanistan', 'albania', 'algeria']\n",
    "\n",
    "\n",
    "index_albania = countries.index('albania')\n",
    "pop[index_albania]"
   ]
  },
  {
   "cell_type": "markdown",
   "id": "e5a028ba-84ba-4110-b87c-cf53d55e93dc",
   "metadata": {},
   "source": [
    "**To create the dictionary, you need curly brackets.  Next, inside the curly brackets, you have a bunch of what are called key:value pairs.  In our case, the keys are the country names, and the values are the correcponding populations.  \n",
    "\n",
    "\n",
    "# In dictionary, you pass the key in square bracket and you get the corresponding value.  The key opens the door to the value, this approach in not only intuitive, its also very efficient.  Python can make the lookup of these keys very fast, even for huge dictionaries.  \n"
   ]
  },
  {
   "cell_type": "code",
   "execution_count": 27,
   "id": "fd1e3858-9f70-458a-a156-5535d22bd522",
   "metadata": {},
   "outputs": [
    {
     "name": "stdout",
     "output_type": "stream",
     "text": [
      "{'afghanistan': 30.55, 'albania': 2.77, 'algeria': 39.21}\n",
      "{'afghanistan': 30.55, 'albania': 2.77, 'algeria': 39.21}\n",
      "{'afghanistan': 30.55, 'albania': 2.77, 'algeria': 39.21}\n"
     ]
    }
   ],
   "source": [
    "pop = [30.55, 2.77, 39.21]\n",
    "countries = ['afghanistan', 'albania', 'algeria']\n",
    "\n",
    "# Most performant, dict constructor with zip\n",
    "country_pop_dict = dict(zip(countries, pop))\n",
    "print(country_pop_dict)\n",
    "\n",
    "\n",
    "country_pop_dict = {i:j for i,j in zip(countries,pop)}\n",
    "print(country_pop_dict)\n",
    "\n",
    "country_pop_dict = {countries[i]:pop[i] for i in range(len(pop))}\n",
    "print(country_pop_dict)\n"
   ]
  },
  {
   "cell_type": "code",
   "execution_count": 28,
   "id": "33a853d8-4676-447d-a708-c4e15f78f212",
   "metadata": {},
   "outputs": [
    {
     "name": "stdout",
     "output_type": "stream",
     "text": [
      "2.77\n"
     ]
    }
   ],
   "source": [
    "print(country_pop_dict['albania'])"
   ]
  },
  {
   "cell_type": "markdown",
   "id": "04acfa9b-68ef-489a-8a1f-61260eab0df5",
   "metadata": {},
   "source": [
    "## Motivation for dictionaries\n",
    "\n",
    "To see why dictionaries are useful, have a look at the two lists defined in the script. countries contains the names of some European countries. capitals lists the corresponding names of their capital.\n",
    "Instructions\n",
    "100 XP\n",
    "\n",
    "    Use the index() method on countries to find the index of 'germany'. Store this index as ind_ger.\n",
    "    Use ind_ger to access the capital of Germany from the capitals list. Print it out.\n"
   ]
  },
  {
   "cell_type": "code",
   "execution_count": 29,
   "id": "9a864df0-8677-463c-ae8f-1329c508a6f8",
   "metadata": {},
   "outputs": [
    {
     "name": "stdout",
     "output_type": "stream",
     "text": [
      "berlin\n"
     ]
    }
   ],
   "source": [
    "# Definition of countries and capital\n",
    "countries = ['spain', 'france', 'germany', 'norway']\n",
    "capitals = ['madrid', 'paris', 'berlin', 'oslo']\n",
    "\n",
    "# Get index of 'germany': ind_ger\n",
    "ind_ger = countries.index('germany')\n",
    "\n",
    "# Use ind_ger to print out capital of Germany\n",
    "print(capitals[ind_ger])"
   ]
  },
  {
   "cell_type": "markdown",
   "id": "6446b2df-fab0-4505-87b2-88d05f0cdf32",
   "metadata": {},
   "source": [
    "## Create dictionary\n",
    "\n",
    "The countries and capitals lists are again available in the script. It's your job to convert this data to a dictionary where the country names are the keys and the capitals are the corresponding values. As a refresher, here is a recipe for creating a dictionary:\n",
    "\n",
    "my_dict = {\n",
    "   \"key1\":\"value1\",\n",
    "   \"key2\":\"value2\",\n",
    "}\n",
    "\n",
    "In this recipe, both the keys and the values are strings. This will also be the case for this exercise.\n",
    "Instructions\n",
    "100 XP\n",
    "\n",
    "    With the strings in countries and capitals, create a dictionary called europe with 4 key:value pairs. Beware of capitalization! Make sure you use lowercase characters everywhere.\n",
    "    Print out europe to see if the result is what you expected.\n"
   ]
  },
  {
   "cell_type": "code",
   "execution_count": 30,
   "id": "0fb9fdbd-b4aa-4301-917f-d0cd63c19993",
   "metadata": {},
   "outputs": [
    {
     "name": "stdout",
     "output_type": "stream",
     "text": [
      "{'spain': 'madrid', 'france': 'paris', 'germany': 'berlin', 'norway': 'oslo'}\n"
     ]
    }
   ],
   "source": [
    "# Definition of countries and capital\n",
    "countries = ['spain', 'france', 'germany', 'norway']\n",
    "capitals = ['madrid', 'paris', 'berlin', 'oslo']\n",
    "\n",
    "# From string in countries and capitals, create dictionary europe\n",
    "europe = { 'spain':'madrid', 'france':'paris', 'germany':'berlin', 'norway':'oslo' }\n",
    "\n",
    "# Print europe\n",
    "print(europe)"
   ]
  },
  {
   "cell_type": "markdown",
   "id": "4acee93f-55b8-4440-a86d-675113f83c82",
   "metadata": {},
   "source": [
    "## Access dictionary\n",
    "\n",
    "If the keys of a dictionary are chosen wisely, accessing the values in a dictionary is easy and intuitive. For example, to get the capital for France from europe you can use:\n",
    "\n",
    "europe['france']\n",
    "\n",
    "Here, 'france' is the key and 'paris' the value is returned.\n",
    "Instructions\n",
    "100 XP\n",
    "\n",
    "    Check out which keys are in europe by calling the keys() method on europe. Print out the result.\n",
    "    Print out the value that belongs to the key 'norway'.\n"
   ]
  },
  {
   "cell_type": "code",
   "execution_count": 32,
   "id": "41d90f8a-fc40-4281-87f6-804ddec145e0",
   "metadata": {},
   "outputs": [
    {
     "name": "stdout",
     "output_type": "stream",
     "text": [
      "dict_keys(['spain', 'france', 'germany', 'norway'])\n",
      "oslo\n"
     ]
    }
   ],
   "source": [
    "# Definition of dictionary\n",
    "europe = {'spain':'madrid', 'france':'paris', 'germany':'berlin', 'norway':'oslo' }\n",
    "\n",
    "# Print out the keys in europe\n",
    "print(europe.keys())\n",
    "\n",
    "# Print out value that belongs to key 'norway'\n",
    "print(europe['norway'])"
   ]
  },
  {
   "cell_type": "markdown",
   "id": "4c73f5c0-2746-4b5a-a4bd-00a7258db9af",
   "metadata": {},
   "source": [
    "## Dictionaries, Part 2\n",
    "\n",
    "\n",
    "\n",
    "**In the previous video, we created dictionary country_pop_dict, which basically is a set of key:value pairs.  We can easily access the value by passing the key in square bracket.  \n",
    "# For this loopup to work properly, the keys in a dictionary should be unique.  \n",
    "\n",
    "**If you try to add another key:value pair to our dictionary with the same key, you can see the first same name key:value pair was removed.  \n",
    "\n",
    "\n",
    "# Also, these unique keys in a dictionary should be so-called immutable objects.  Basically the content of immutable objects cannot be changed after ther're created.  \n",
    "**Basic data elements: strings, integers, floats, booleans are immutable, tuples are immutable, you cant change its contents after its created.  \n"
   ]
  },
  {
   "cell_type": "code",
   "execution_count": 44,
   "id": "0ed2f5f6-e3ac-42fc-927a-1c9cebbf8284",
   "metadata": {},
   "outputs": [
    {
     "name": "stdout",
     "output_type": "stream",
     "text": [
      "{'spain': 'madrid', 'france': 'tokyo', 'germany': 'berlin', 'norway': 'oslo'}\n",
      "['__class__', '__class_getitem__', '__contains__', '__delattr__', '__delitem__', '__dir__', '__doc__', '__eq__', '__format__', '__ge__', '__getattribute__', '__getitem__', '__gt__', '__hash__', '__init__', '__init_subclass__', '__ior__', '__iter__', '__le__', '__len__', '__lt__', '__ne__', '__new__', '__or__', '__reduce__', '__reduce_ex__', '__repr__', '__reversed__', '__ror__', '__setattr__', '__setitem__', '__sizeof__', '__str__', '__subclasshook__', 'clear', 'copy', 'fromkeys', 'get', 'items', 'keys', 'pop', 'popitem', 'setdefault', 'update', 'values']\n",
      "Help on built-in function update:\n",
      "\n",
      "update(...) method of builtins.dict instance\n",
      "    D.update([E, ]**F) -> None.  Update D from dict/iterable E and F.\n",
      "    If E is present and has a .keys() method, then does:  for k in E: D[k] = E[k]\n",
      "    If E is present and lacks a .keys() method, then does:  for k, v in E: D[k] = v\n",
      "    In either case, this is followed by: for k in F:  D[k] = F[k]\n",
      "\n",
      "None\n",
      "{'spain': 'new_york', 'france': 'tokyo', 'germany': 'osaka', 'norway': 'oslo'}\n"
     ]
    }
   ],
   "source": [
    "europe = {'spain':'madrid', 'france':'paris', 'germany':'berlin', 'norway':'oslo', 'france':'tokyo'}\n",
    "print(europe)\n",
    "\n",
    "print(dir(europe))\n",
    "print(help(europe.update))\n",
    "\n",
    "# *************************************************************************************************** #\n",
    "europe.update([('spain','new_york')])\n",
    "europe.update({'germany':'osaka'})\n",
    "print(europe)"
   ]
  },
  {
   "cell_type": "markdown",
   "id": "9f0d9ca1-561e-48ca-8679-de52233aad57",
   "metadata": {},
   "source": [
    "**Lets see how we can add more data into a dictionary that already exists.  \n",
    "\n",
    "**To add this information, simply write the key sealand in square brackets and assign 27 expressed in millsions to it with the equal sign.  \n",
    "\n",
    "\n",
    "# **you can add data to a dictionary just by using a new key as index and assigning it a value.  Its also supply a dictionary, list of tuples or a set of keywords arguments to the .update() method to add values into a dictionary. \n"
   ]
  },
  {
   "cell_type": "code",
   "execution_count": 49,
   "id": "6b25ccd2-b3b0-471b-ac74-57298e452979",
   "metadata": {},
   "outputs": [
    {
     "name": "stdout",
     "output_type": "stream",
     "text": [
      "{'afghanistan': 30.55, 'albania': 2.77, 'algeria': 39.21}\n",
      "{'afghanistan': 30.55, 'albania': 2.77, 'algeria': 39.21, 'sealand': 2.7e-05}\n",
      "{'afghanistan': 30.55, 'albania': 2.77, 'algeria': 39.21, 'sealand': 2.8e-05}\n",
      "{'afghanistan': 30.55, 'albania': 2.77, 'algeria': 39.21}\n"
     ]
    }
   ],
   "source": [
    "pop = [30.55, 2.77, 39.21]\n",
    "countries = ['afghanistan', 'albania', 'algeria']\n",
    "\n",
    "# Most performant, dict constructor with zip\n",
    "country_pop_dict = dict(zip(countries, pop))\n",
    "print(country_pop_dict)\n",
    "\n",
    "country_pop_dict['sealand'] = 0.000027\n",
    "\n",
    "print(country_pop_dict)\n",
    "\n",
    "\n",
    "del country_pop_dict['sealand']\n",
    "\n",
    "country_pop_dict['sealand'] = 0.000027\n",
    "country_pop_dict['sealand'] = 0.000028\n",
    "print(country_pop_dict)\n",
    "\n",
    "country_pop_dict.pop('sealand')\n",
    "print(country_pop_dict)"
   ]
  },
  {
   "cell_type": "markdown",
   "id": "0b2ee15b-9411-45b5-8a16-59003362ff99",
   "metadata": {},
   "source": [
    "## the list is a sequence of values that are indexed by a range of numbers, the dictionary on th eother hand is indexed by the unique keys, that can be any immutable type.  \n",
    "\n",
    "\n",
    "**If having a collection of values where order maters, and you want easily select entire subset of data, you'll probably want to go with a list.  If on the other hand, you need some sort of look up table, where looking for data should be fast and where you can specify unique keys, a dictionary is the preferred option.  \n"
   ]
  },
  {
   "cell_type": "markdown",
   "id": "ecdd5aa6-cd8c-43ba-8459-013ffcd8eaf9",
   "metadata": {},
   "source": [
    "## Dictionary Manipulation (1)\n",
    "\n",
    "If you know how to access a dictionary, you can also assign a new value to it. To add a new key-value pair to europe you can use something like this:\n",
    "\n",
    "europe['iceland'] = 'reykjavik'\n",
    "\n",
    "Instructions\n",
    "100 XP\n",
    "\n",
    "    Add the key 'italy' with the value 'rome' to europe.\n",
    "    To assert that 'italy' is now a key in europe, print out 'italy' in europe.\n",
    "    Add another key:value pair to europe: 'poland' is the key, 'warsaw' is the corresponding value.\n",
    "    Print out europe.\n"
   ]
  },
  {
   "cell_type": "code",
   "execution_count": 50,
   "id": "642ad63f-5eae-4ff6-b5a8-4d33dd35e115",
   "metadata": {},
   "outputs": [
    {
     "name": "stdout",
     "output_type": "stream",
     "text": [
      "rome\n",
      "{'spain': 'madrid', 'france': 'paris', 'germany': 'berlin', 'norway': 'oslo', 'italy': 'rome', 'poland': 'warsaw'}\n"
     ]
    }
   ],
   "source": [
    "# Definition of dictionary\n",
    "europe = {'spain':'madrid', 'france':'paris', 'germany':'berlin', 'norway':'oslo' }\n",
    "\n",
    "# Add italy to europe\n",
    "europe['italy'] = 'rome'\n",
    "\n",
    "# Print out italy in europe\n",
    "print(europe['italy'])\n",
    "\n",
    "# Add poland to europe\n",
    "europe['poland'] = 'warsaw'\n",
    "\n",
    "# Print europe\n",
    "print(europe)"
   ]
  },
  {
   "cell_type": "markdown",
   "id": "baf44a0a-243d-4631-9ddc-d3c2dd99440d",
   "metadata": {},
   "source": [
    "## Dictionary Manipulation (2)\n",
    "\n",
    "Somebody thought it would be funny to mess with your accurately generated dictionary. An adapted version of the europe dictionary is available in the script.\n",
    "\n",
    "Can you clean up? Do not do this by adapting the definition of europe, but by adding Python commands to the script to update and remove key:value pairs.\n",
    "Instructions\n",
    "100 XP\n",
    "\n",
    "    The capital of Germany is not 'bonn'; it's 'berlin'. Update its value.\n",
    "    Australia is not in Europe, Austria is! Remove the key 'australia' from europe.\n",
    "    Print out europe to see if your cleaning work paid off.\n"
   ]
  },
  {
   "cell_type": "code",
   "execution_count": 53,
   "id": "798313ef-d137-447d-8b88-3d532fca03f7",
   "metadata": {},
   "outputs": [
    {
     "name": "stdout",
     "output_type": "stream",
     "text": [
      "{'spain': 'madrid', 'france': 'paris', 'germany': 'berlin', 'norway': 'oslo', 'poland': 'warsaw'}\n"
     ]
    },
    {
     "data": {
      "text/plain": [
       "False"
      ]
     },
     "execution_count": 53,
     "metadata": {},
     "output_type": "execute_result"
    }
   ],
   "source": [
    "# Definition of dictionary\n",
    "europe = {'spain':'madrid', 'france':'paris', 'germany':'bonn',\n",
    "          'norway':'oslo', 'italy':'rome', 'poland':'warsaw',\n",
    "          'australia':'vienna' }\n",
    "\n",
    "# Update capital of germany\n",
    "europe['germany'] = 'berlin'\n",
    "\n",
    "# Remove australia\n",
    "del europe['australia']\n",
    "europe.pop('italy')\n",
    "\n",
    "# Print europe\n",
    "print(europe)\n",
    "\n",
    "'italy' in europe"
   ]
  },
  {
   "cell_type": "markdown",
   "id": "baa99f5a-78f4-4617-9f17-0c6b9e18bf11",
   "metadata": {},
   "source": [
    "## Dictionariception\n",
    "\n",
    "Remember lists? They could contain anything, even other lists. Well, for dictionaries the same holds. Dictionaries can contain key:value pairs where the values are again dictionaries.\n",
    "\n",
    "As an example, have a look at the script where another version of europe - the dictionary you've been working with all along - is coded. The keys are still the country names, but the values are dictionaries that contain more information than just the capital.\n",
    "\n",
    "It's perfectly possible to chain square brackets to select elements. To fetch the population for Spain from europe, for example, you need:\n",
    "\n",
    "europe['spain']['population']\n",
    "\n",
    "Instructions\n",
    "100 XP\n",
    "\n",
    "    Use chained square brackets to select and print out the capital of France.\n",
    "    Create a dictionary, named data, with the keys 'capital' and 'population'. Set them to 'rome' and 59.83, respectively.\n",
    "    Add a new key-value pair to europe; the key is 'italy' and the value is data, the dictionary you just built.\n",
    "\n"
   ]
  },
  {
   "cell_type": "code",
   "execution_count": 54,
   "id": "5b3322a2-5c26-4d30-a8ac-a921e66b6594",
   "metadata": {},
   "outputs": [
    {
     "name": "stdout",
     "output_type": "stream",
     "text": [
      "paris\n",
      "{'spain': {'capital': 'madrid', 'population': 46.77}, 'france': {'capital': 'paris', 'population': 66.03}, 'germany': {'capital': 'berlin', 'population': 80.62}, 'norway': {'capital': 'oslo', 'population': 5.084}, 'italy': {'capital': 'rome', 'population': 59.83}}\n"
     ]
    }
   ],
   "source": [
    "# Dictionary of dictionaries\n",
    "europe = { 'spain': { 'capital':'madrid', 'population':46.77 },\n",
    "           'france': { 'capital':'paris', 'population':66.03 },\n",
    "           'germany': { 'capital':'berlin', 'population':80.62 },\n",
    "           'norway': { 'capital':'oslo', 'population':5.084 } }\n",
    "\n",
    "\n",
    "# Print out the capital of France\n",
    "print(europe['france']['capital'])\n",
    "\n",
    "# Create sub-dictionary data\n",
    "data = {'capital':'rome', 'population':59.83}\n",
    "\n",
    "# Add data to europe under key 'italy'\n",
    "europe['italy'] = data\n",
    "\n",
    "# Print europe\n",
    "print(europe)"
   ]
  },
  {
   "cell_type": "markdown",
   "id": "b9b69cdc-9dfc-4b13-a71d-16fef422b047",
   "metadata": {},
   "source": [
    "## Pandas, Part 1\n",
    "\n",
    "\n",
    "\n",
    "**As a data scientist, you'll often be working with tons of data, the form of this data can be very greatly, but pretty often you can boil it down to a tabular structure, that is in the form of a table like in a spreadsheet.  \n",
    "\n",
    "\n",
    "# Suppose you're working in a chemical plant and have a ton of temperature measurements to analyze.  This data can come in the following form: every row is a measurement or an observation, and for each observation, there are different variables.  For each measurement, there's of course the temperature, but also the date and time of the measuremnet, and the location.  \n",
    "**To start working on this data in Python, you'll need some kind of rectangular data structure.  2D numpy array is an option, but in our example, there are different data types and numpy array are not great at handling these.  \n",
    "\n",
    "--------------------------------------------------\n",
    "temperature   | measuted_at         | location\n",
    "76            | 2016-01-05 14:00:01 | valve\n",
    "86            | 2016-01-05 14:00:02 | compressor\n",
    "89            | 2016-01-05 14:00:02 | compressor\n",
    "\n",
    "--------------------------------------------------\n",
    "country      | capital    | area    | population\n",
    "Brazil       | Brasilia   | 8.516   | 200.4\n",
    "Russia       | Moscow     | 17.10   | 143.5\n",
    "India        | New Delhi  | 3.286   | 1252\n",
    "China        | Beijing    | 9.597   | 1357\n",
    "South Africa | Pretoria   | 1.221   | 52.98\n",
    "\n",
    "\n",
    "# **Your datasets will typically comprise different data types, so we need a tool that's better suited for the job.  To easily and efficiently handle this data, there's the Pandas package.  Pandas is a high level data manipulation tool built on the NumPy package.  In pandas we store the tabluar data like above sample in an object called DataFrame.  \n",
    "\n",
    "\n",
    "# *****************************************************************************************************\n",
    "# How can we create a DataFrame in the first place? \n",
    "   **First you can build it manually, starting from a dictionary\n",
    "   **For large amount of data, you can import from a file, like a csv file using pd.read_csv()\n"
   ]
  },
  {
   "cell_type": "code",
   "execution_count": 58,
   "id": "bd5c8306-b24a-463a-b45a-db49b7c79e83",
   "metadata": {},
   "outputs": [
    {
     "name": "stdout",
     "output_type": "stream",
     "text": [
      "        country    capital    area  population\n",
      "0        Brazil   Brasilia   8.516      200.40\n",
      "1        Russia     Moscow  17.100      143.50\n",
      "2         India  New Delhi   3.286     1252.00\n",
      "3         China    Beijing   9.597     1357.00\n",
      "4  South Africa   Pretoria   1.221       52.98\n"
     ]
    }
   ],
   "source": [
    "dict = {'country': ['Brazil', 'Russia', 'India', 'China', 'South Africa'],\n",
    "        'capital': ['Brasilia', 'Moscow', 'New Delhi', 'Beijing', 'Pretoria'],\n",
    "        'area': [8.516, 17.10, 3.286, 9.597, 1.221], \n",
    "        'population': [200.4, 143.5, 1252, 1357, 52.98]}\n",
    "\n",
    "import pandas as pd\n",
    "brics = pd.DataFrame(dict)\n",
    "\n",
    "print(brics)\n",
    "\n",
    "# *************************************************************************************************** #\n",
    "# Pandas assigned some automatic row labels, from 0 to 4\n",
    "# To specify them manually, you can set the index attribute of DataFrame \n",
    "# to a list with the correct labels"
   ]
  },
  {
   "cell_type": "code",
   "execution_count": 59,
   "id": "f64dc65e-f7eb-49eb-8433-000eec690601",
   "metadata": {},
   "outputs": [
    {
     "name": "stdout",
     "output_type": "stream",
     "text": [
      "         country    capital    area  population\n",
      "BR        Brazil   Brasilia   8.516      200.40\n",
      "RU        Russia     Moscow  17.100      143.50\n",
      "IN         India  New Delhi   3.286     1252.00\n",
      "CH         China    Beijing   9.597     1357.00\n",
      "SA  South Africa   Pretoria   1.221       52.98\n"
     ]
    }
   ],
   "source": [
    "brics.index = ['BR', 'RU', 'IN', 'CH', 'SA']\n",
    "\n",
    "print(brics)"
   ]
  },
  {
   "cell_type": "markdown",
   "id": "ad1536c5-0fd5-4ecb-8557-3e7f60039136",
   "metadata": {},
   "source": [
    "# Using a dictionary approach is fine, but what if you're working with tons of data?  In such case you won't built the DataFrame manually.  Instead you import data from external file that contains all this data.  \n",
    "\n",
    "**Suppose the brics data comes in the form of a CSV file called brics.csv.  Lets try to import this data into Python using Pandas read csv function.  \n",
    "\n",
    "\n"
   ]
  },
  {
   "cell_type": "code",
   "execution_count": 65,
   "id": "5239bdcc-7d18-4fa2-a2ad-82120de0be38",
   "metadata": {},
   "outputs": [
    {
     "name": "stdout",
     "output_type": "stream",
     "text": [
      "['BooleanDtype', 'Categorical', 'CategoricalDtype', 'CategoricalIndex', 'DataFrame', 'DateOffset', 'DatetimeIndex', 'DatetimeTZDtype', 'ExcelFile', 'ExcelWriter', 'Flags', 'Float32Dtype', 'Float64Dtype', 'Float64Index', 'Grouper', 'HDFStore', 'Index', 'IndexSlice', 'Int16Dtype', 'Int32Dtype', 'Int64Dtype', 'Int64Index', 'Int8Dtype', 'Interval', 'IntervalDtype', 'IntervalIndex', 'MultiIndex', 'NA', 'NaT', 'NamedAgg', 'Period', 'PeriodDtype', 'PeriodIndex', 'RangeIndex', 'Series', 'SparseDtype', 'StringDtype', 'Timedelta', 'TimedeltaIndex', 'Timestamp', 'UInt16Dtype', 'UInt32Dtype', 'UInt64Dtype', 'UInt64Index', 'UInt8Dtype', '__builtins__', '__cached__', '__doc__', '__docformat__', '__file__', '__getattr__', '__git_version__', '__loader__', '__name__', '__package__', '__path__', '__spec__', '__version__', '_config', '_hashtable', '_is_numpy_dev', '_lib', '_libs', '_np_version_under1p18', '_testing', '_tslib', '_typing', '_version', 'api', 'array', 'arrays', 'bdate_range', 'compat', 'concat', 'core', 'crosstab', 'cut', 'date_range', 'describe_option', 'errors', 'eval', 'factorize', 'get_dummies', 'get_option', 'infer_freq', 'interval_range', 'io', 'isna', 'isnull', 'json_normalize', 'lreshape', 'melt', 'merge', 'merge_asof', 'merge_ordered', 'notna', 'notnull', 'offsets', 'option_context', 'options', 'pandas', 'period_range', 'pivot', 'pivot_table', 'plotting', 'qcut', 'read_clipboard', 'read_csv', 'read_excel', 'read_feather', 'read_fwf', 'read_gbq', 'read_hdf', 'read_html', 'read_json', 'read_orc', 'read_parquet', 'read_pickle', 'read_sas', 'read_spss', 'read_sql', 'read_sql_query', 'read_sql_table', 'read_stata', 'read_table', 'read_xml', 'reset_option', 'set_eng_float_format', 'set_option', 'show_versions', 'test', 'testing', 'timedelta_range', 'to_datetime', 'to_numeric', 'to_pickle', 'to_timedelta', 'tseries', 'unique', 'util', 'value_counts', 'wide_to_long']\n"
     ]
    }
   ],
   "source": [
    "print(dir(pd))"
   ]
  },
  {
   "cell_type": "code",
   "execution_count": 61,
   "id": "ba2bd662-b8b7-4c9c-8ba2-c3148209fd00",
   "metadata": {},
   "outputs": [
    {
     "data": {
      "text/html": [
       "<div>\n",
       "<style scoped>\n",
       "    .dataframe tbody tr th:only-of-type {\n",
       "        vertical-align: middle;\n",
       "    }\n",
       "\n",
       "    .dataframe tbody tr th {\n",
       "        vertical-align: top;\n",
       "    }\n",
       "\n",
       "    .dataframe thead th {\n",
       "        text-align: right;\n",
       "    }\n",
       "</style>\n",
       "<table border=\"1\" class=\"dataframe\">\n",
       "  <thead>\n",
       "    <tr style=\"text-align: right;\">\n",
       "      <th></th>\n",
       "      <th>country</th>\n",
       "      <th>capital</th>\n",
       "      <th>area</th>\n",
       "      <th>population</th>\n",
       "    </tr>\n",
       "  </thead>\n",
       "  <tbody>\n",
       "    <tr>\n",
       "      <th>0</th>\n",
       "      <td>Brazil</td>\n",
       "      <td>Brasilia</td>\n",
       "      <td>8.516</td>\n",
       "      <td>200.40</td>\n",
       "    </tr>\n",
       "    <tr>\n",
       "      <th>1</th>\n",
       "      <td>Russia</td>\n",
       "      <td>Moscow</td>\n",
       "      <td>17.100</td>\n",
       "      <td>143.50</td>\n",
       "    </tr>\n",
       "    <tr>\n",
       "      <th>2</th>\n",
       "      <td>India</td>\n",
       "      <td>New Delhi</td>\n",
       "      <td>3.286</td>\n",
       "      <td>1252.00</td>\n",
       "    </tr>\n",
       "    <tr>\n",
       "      <th>3</th>\n",
       "      <td>China</td>\n",
       "      <td>Beijing</td>\n",
       "      <td>9.597</td>\n",
       "      <td>1357.00</td>\n",
       "    </tr>\n",
       "    <tr>\n",
       "      <th>4</th>\n",
       "      <td>South Africa</td>\n",
       "      <td>Pretoria</td>\n",
       "      <td>1.221</td>\n",
       "      <td>52.98</td>\n",
       "    </tr>\n",
       "  </tbody>\n",
       "</table>\n",
       "</div>"
      ],
      "text/plain": [
       "        country    capital    area  population\n",
       "0        Brazil   Brasilia   8.516      200.40\n",
       "1        Russia     Moscow  17.100      143.50\n",
       "2         India  New Delhi   3.286     1252.00\n",
       "3         China    Beijing   9.597     1357.00\n",
       "4  South Africa   Pretoria   1.221       52.98"
      ]
     },
     "execution_count": 61,
     "metadata": {},
     "output_type": "execute_result"
    }
   ],
   "source": [
    "import pandas as pd\n",
    "\n",
    "brics = pd.read_csv('brics.csv')\n",
    "brics"
   ]
  },
  {
   "cell_type": "code",
   "execution_count": 66,
   "id": "c61f6479-946a-4e67-90b2-fd8eaf6c88ca",
   "metadata": {},
   "outputs": [
    {
     "data": {
      "text/html": [
       "<div>\n",
       "<style scoped>\n",
       "    .dataframe tbody tr th:only-of-type {\n",
       "        vertical-align: middle;\n",
       "    }\n",
       "\n",
       "    .dataframe tbody tr th {\n",
       "        vertical-align: top;\n",
       "    }\n",
       "\n",
       "    .dataframe thead th {\n",
       "        text-align: right;\n",
       "    }\n",
       "</style>\n",
       "<table border=\"1\" class=\"dataframe\">\n",
       "  <thead>\n",
       "    <tr style=\"text-align: right;\">\n",
       "      <th></th>\n",
       "      <th>Unnamed: 0</th>\n",
       "      <th>country</th>\n",
       "      <th>capital</th>\n",
       "      <th>area</th>\n",
       "      <th>population</th>\n",
       "    </tr>\n",
       "  </thead>\n",
       "  <tbody>\n",
       "    <tr>\n",
       "      <th>0</th>\n",
       "      <td>BR</td>\n",
       "      <td>Brazil</td>\n",
       "      <td>Brasilia</td>\n",
       "      <td>8.516</td>\n",
       "      <td>200.40</td>\n",
       "    </tr>\n",
       "    <tr>\n",
       "      <th>1</th>\n",
       "      <td>RU</td>\n",
       "      <td>Russia</td>\n",
       "      <td>Moscow</td>\n",
       "      <td>17.100</td>\n",
       "      <td>143.50</td>\n",
       "    </tr>\n",
       "    <tr>\n",
       "      <th>2</th>\n",
       "      <td>IN</td>\n",
       "      <td>India</td>\n",
       "      <td>New Delhi</td>\n",
       "      <td>3.286</td>\n",
       "      <td>1252.00</td>\n",
       "    </tr>\n",
       "    <tr>\n",
       "      <th>3</th>\n",
       "      <td>CH</td>\n",
       "      <td>China</td>\n",
       "      <td>Beijing</td>\n",
       "      <td>9.597</td>\n",
       "      <td>1357.00</td>\n",
       "    </tr>\n",
       "    <tr>\n",
       "      <th>4</th>\n",
       "      <td>SA</td>\n",
       "      <td>South Africa</td>\n",
       "      <td>Pretoria</td>\n",
       "      <td>1.221</td>\n",
       "      <td>52.98</td>\n",
       "    </tr>\n",
       "  </tbody>\n",
       "</table>\n",
       "</div>"
      ],
      "text/plain": [
       "  Unnamed: 0       country    capital    area  population\n",
       "0         BR        Brazil   Brasilia   8.516      200.40\n",
       "1         RU        Russia     Moscow  17.100      143.50\n",
       "2         IN         India  New Delhi   3.286     1252.00\n",
       "3         CH         China    Beijing   9.597     1357.00\n",
       "4         SA  South Africa   Pretoria   1.221       52.98"
      ]
     },
     "execution_count": 66,
     "metadata": {},
     "output_type": "execute_result"
    }
   ],
   "source": [
    "import pandas as pd\n",
    "\n",
    "brics = pd.read_csv('brics2.csv')\n",
    "brics"
   ]
  },
  {
   "cell_type": "code",
   "execution_count": 70,
   "id": "d1840d9c-d153-4a0e-aba7-e3b0ca01cea7",
   "metadata": {},
   "outputs": [
    {
     "data": {
      "text/plain": [
       "\u001b[0;31mSignature:\u001b[0m\n",
       "\u001b[0mpd\u001b[0m\u001b[0;34m.\u001b[0m\u001b[0mread_csv\u001b[0m\u001b[0;34m(\u001b[0m\u001b[0;34m\u001b[0m\n",
       "\u001b[0;34m\u001b[0m    \u001b[0mfilepath_or_buffer\u001b[0m\u001b[0;34m:\u001b[0m \u001b[0;34m'FilePathOrBuffer'\u001b[0m\u001b[0;34m,\u001b[0m\u001b[0;34m\u001b[0m\n",
       "\u001b[0;34m\u001b[0m    \u001b[0msep\u001b[0m\u001b[0;34m=\u001b[0m\u001b[0;34m<\u001b[0m\u001b[0mno_default\u001b[0m\u001b[0;34m>\u001b[0m\u001b[0;34m,\u001b[0m\u001b[0;34m\u001b[0m\n",
       "\u001b[0;34m\u001b[0m    \u001b[0mdelimiter\u001b[0m\u001b[0;34m=\u001b[0m\u001b[0;32mNone\u001b[0m\u001b[0;34m,\u001b[0m\u001b[0;34m\u001b[0m\n",
       "\u001b[0;34m\u001b[0m    \u001b[0mheader\u001b[0m\u001b[0;34m=\u001b[0m\u001b[0;34m'infer'\u001b[0m\u001b[0;34m,\u001b[0m\u001b[0;34m\u001b[0m\n",
       "\u001b[0;34m\u001b[0m    \u001b[0mnames\u001b[0m\u001b[0;34m=\u001b[0m\u001b[0;34m<\u001b[0m\u001b[0mno_default\u001b[0m\u001b[0;34m>\u001b[0m\u001b[0;34m,\u001b[0m\u001b[0;34m\u001b[0m\n",
       "\u001b[0;34m\u001b[0m    \u001b[0mindex_col\u001b[0m\u001b[0;34m=\u001b[0m\u001b[0;32mNone\u001b[0m\u001b[0;34m,\u001b[0m\u001b[0;34m\u001b[0m\n",
       "\u001b[0;34m\u001b[0m    \u001b[0musecols\u001b[0m\u001b[0;34m=\u001b[0m\u001b[0;32mNone\u001b[0m\u001b[0;34m,\u001b[0m\u001b[0;34m\u001b[0m\n",
       "\u001b[0;34m\u001b[0m    \u001b[0msqueeze\u001b[0m\u001b[0;34m=\u001b[0m\u001b[0;32mFalse\u001b[0m\u001b[0;34m,\u001b[0m\u001b[0;34m\u001b[0m\n",
       "\u001b[0;34m\u001b[0m    \u001b[0mprefix\u001b[0m\u001b[0;34m=\u001b[0m\u001b[0;34m<\u001b[0m\u001b[0mno_default\u001b[0m\u001b[0;34m>\u001b[0m\u001b[0;34m,\u001b[0m\u001b[0;34m\u001b[0m\n",
       "\u001b[0;34m\u001b[0m    \u001b[0mmangle_dupe_cols\u001b[0m\u001b[0;34m=\u001b[0m\u001b[0;32mTrue\u001b[0m\u001b[0;34m,\u001b[0m\u001b[0;34m\u001b[0m\n",
       "\u001b[0;34m\u001b[0m    \u001b[0mdtype\u001b[0m\u001b[0;34m:\u001b[0m \u001b[0;34m'DtypeArg | None'\u001b[0m \u001b[0;34m=\u001b[0m \u001b[0;32mNone\u001b[0m\u001b[0;34m,\u001b[0m\u001b[0;34m\u001b[0m\n",
       "\u001b[0;34m\u001b[0m    \u001b[0mengine\u001b[0m\u001b[0;34m=\u001b[0m\u001b[0;32mNone\u001b[0m\u001b[0;34m,\u001b[0m\u001b[0;34m\u001b[0m\n",
       "\u001b[0;34m\u001b[0m    \u001b[0mconverters\u001b[0m\u001b[0;34m=\u001b[0m\u001b[0;32mNone\u001b[0m\u001b[0;34m,\u001b[0m\u001b[0;34m\u001b[0m\n",
       "\u001b[0;34m\u001b[0m    \u001b[0mtrue_values\u001b[0m\u001b[0;34m=\u001b[0m\u001b[0;32mNone\u001b[0m\u001b[0;34m,\u001b[0m\u001b[0;34m\u001b[0m\n",
       "\u001b[0;34m\u001b[0m    \u001b[0mfalse_values\u001b[0m\u001b[0;34m=\u001b[0m\u001b[0;32mNone\u001b[0m\u001b[0;34m,\u001b[0m\u001b[0;34m\u001b[0m\n",
       "\u001b[0;34m\u001b[0m    \u001b[0mskipinitialspace\u001b[0m\u001b[0;34m=\u001b[0m\u001b[0;32mFalse\u001b[0m\u001b[0;34m,\u001b[0m\u001b[0;34m\u001b[0m\n",
       "\u001b[0;34m\u001b[0m    \u001b[0mskiprows\u001b[0m\u001b[0;34m=\u001b[0m\u001b[0;32mNone\u001b[0m\u001b[0;34m,\u001b[0m\u001b[0;34m\u001b[0m\n",
       "\u001b[0;34m\u001b[0m    \u001b[0mskipfooter\u001b[0m\u001b[0;34m=\u001b[0m\u001b[0;36m0\u001b[0m\u001b[0;34m,\u001b[0m\u001b[0;34m\u001b[0m\n",
       "\u001b[0;34m\u001b[0m    \u001b[0mnrows\u001b[0m\u001b[0;34m=\u001b[0m\u001b[0;32mNone\u001b[0m\u001b[0;34m,\u001b[0m\u001b[0;34m\u001b[0m\n",
       "\u001b[0;34m\u001b[0m    \u001b[0mna_values\u001b[0m\u001b[0;34m=\u001b[0m\u001b[0;32mNone\u001b[0m\u001b[0;34m,\u001b[0m\u001b[0;34m\u001b[0m\n",
       "\u001b[0;34m\u001b[0m    \u001b[0mkeep_default_na\u001b[0m\u001b[0;34m=\u001b[0m\u001b[0;32mTrue\u001b[0m\u001b[0;34m,\u001b[0m\u001b[0;34m\u001b[0m\n",
       "\u001b[0;34m\u001b[0m    \u001b[0mna_filter\u001b[0m\u001b[0;34m=\u001b[0m\u001b[0;32mTrue\u001b[0m\u001b[0;34m,\u001b[0m\u001b[0;34m\u001b[0m\n",
       "\u001b[0;34m\u001b[0m    \u001b[0mverbose\u001b[0m\u001b[0;34m=\u001b[0m\u001b[0;32mFalse\u001b[0m\u001b[0;34m,\u001b[0m\u001b[0;34m\u001b[0m\n",
       "\u001b[0;34m\u001b[0m    \u001b[0mskip_blank_lines\u001b[0m\u001b[0;34m=\u001b[0m\u001b[0;32mTrue\u001b[0m\u001b[0;34m,\u001b[0m\u001b[0;34m\u001b[0m\n",
       "\u001b[0;34m\u001b[0m    \u001b[0mparse_dates\u001b[0m\u001b[0;34m=\u001b[0m\u001b[0;32mFalse\u001b[0m\u001b[0;34m,\u001b[0m\u001b[0;34m\u001b[0m\n",
       "\u001b[0;34m\u001b[0m    \u001b[0minfer_datetime_format\u001b[0m\u001b[0;34m=\u001b[0m\u001b[0;32mFalse\u001b[0m\u001b[0;34m,\u001b[0m\u001b[0;34m\u001b[0m\n",
       "\u001b[0;34m\u001b[0m    \u001b[0mkeep_date_col\u001b[0m\u001b[0;34m=\u001b[0m\u001b[0;32mFalse\u001b[0m\u001b[0;34m,\u001b[0m\u001b[0;34m\u001b[0m\n",
       "\u001b[0;34m\u001b[0m    \u001b[0mdate_parser\u001b[0m\u001b[0;34m=\u001b[0m\u001b[0;32mNone\u001b[0m\u001b[0;34m,\u001b[0m\u001b[0;34m\u001b[0m\n",
       "\u001b[0;34m\u001b[0m    \u001b[0mdayfirst\u001b[0m\u001b[0;34m=\u001b[0m\u001b[0;32mFalse\u001b[0m\u001b[0;34m,\u001b[0m\u001b[0;34m\u001b[0m\n",
       "\u001b[0;34m\u001b[0m    \u001b[0mcache_dates\u001b[0m\u001b[0;34m=\u001b[0m\u001b[0;32mTrue\u001b[0m\u001b[0;34m,\u001b[0m\u001b[0;34m\u001b[0m\n",
       "\u001b[0;34m\u001b[0m    \u001b[0miterator\u001b[0m\u001b[0;34m=\u001b[0m\u001b[0;32mFalse\u001b[0m\u001b[0;34m,\u001b[0m\u001b[0;34m\u001b[0m\n",
       "\u001b[0;34m\u001b[0m    \u001b[0mchunksize\u001b[0m\u001b[0;34m=\u001b[0m\u001b[0;32mNone\u001b[0m\u001b[0;34m,\u001b[0m\u001b[0;34m\u001b[0m\n",
       "\u001b[0;34m\u001b[0m    \u001b[0mcompression\u001b[0m\u001b[0;34m=\u001b[0m\u001b[0;34m'infer'\u001b[0m\u001b[0;34m,\u001b[0m\u001b[0;34m\u001b[0m\n",
       "\u001b[0;34m\u001b[0m    \u001b[0mthousands\u001b[0m\u001b[0;34m=\u001b[0m\u001b[0;32mNone\u001b[0m\u001b[0;34m,\u001b[0m\u001b[0;34m\u001b[0m\n",
       "\u001b[0;34m\u001b[0m    \u001b[0mdecimal\u001b[0m\u001b[0;34m:\u001b[0m \u001b[0;34m'str'\u001b[0m \u001b[0;34m=\u001b[0m \u001b[0;34m'.'\u001b[0m\u001b[0;34m,\u001b[0m\u001b[0;34m\u001b[0m\n",
       "\u001b[0;34m\u001b[0m    \u001b[0mlineterminator\u001b[0m\u001b[0;34m=\u001b[0m\u001b[0;32mNone\u001b[0m\u001b[0;34m,\u001b[0m\u001b[0;34m\u001b[0m\n",
       "\u001b[0;34m\u001b[0m    \u001b[0mquotechar\u001b[0m\u001b[0;34m=\u001b[0m\u001b[0;34m'\"'\u001b[0m\u001b[0;34m,\u001b[0m\u001b[0;34m\u001b[0m\n",
       "\u001b[0;34m\u001b[0m    \u001b[0mquoting\u001b[0m\u001b[0;34m=\u001b[0m\u001b[0;36m0\u001b[0m\u001b[0;34m,\u001b[0m\u001b[0;34m\u001b[0m\n",
       "\u001b[0;34m\u001b[0m    \u001b[0mdoublequote\u001b[0m\u001b[0;34m=\u001b[0m\u001b[0;32mTrue\u001b[0m\u001b[0;34m,\u001b[0m\u001b[0;34m\u001b[0m\n",
       "\u001b[0;34m\u001b[0m    \u001b[0mescapechar\u001b[0m\u001b[0;34m=\u001b[0m\u001b[0;32mNone\u001b[0m\u001b[0;34m,\u001b[0m\u001b[0;34m\u001b[0m\n",
       "\u001b[0;34m\u001b[0m    \u001b[0mcomment\u001b[0m\u001b[0;34m=\u001b[0m\u001b[0;32mNone\u001b[0m\u001b[0;34m,\u001b[0m\u001b[0;34m\u001b[0m\n",
       "\u001b[0;34m\u001b[0m    \u001b[0mencoding\u001b[0m\u001b[0;34m=\u001b[0m\u001b[0;32mNone\u001b[0m\u001b[0;34m,\u001b[0m\u001b[0;34m\u001b[0m\n",
       "\u001b[0;34m\u001b[0m    \u001b[0mencoding_errors\u001b[0m\u001b[0;34m:\u001b[0m \u001b[0;34m'str | None'\u001b[0m \u001b[0;34m=\u001b[0m \u001b[0;34m'strict'\u001b[0m\u001b[0;34m,\u001b[0m\u001b[0;34m\u001b[0m\n",
       "\u001b[0;34m\u001b[0m    \u001b[0mdialect\u001b[0m\u001b[0;34m=\u001b[0m\u001b[0;32mNone\u001b[0m\u001b[0;34m,\u001b[0m\u001b[0;34m\u001b[0m\n",
       "\u001b[0;34m\u001b[0m    \u001b[0merror_bad_lines\u001b[0m\u001b[0;34m=\u001b[0m\u001b[0;32mNone\u001b[0m\u001b[0;34m,\u001b[0m\u001b[0;34m\u001b[0m\n",
       "\u001b[0;34m\u001b[0m    \u001b[0mwarn_bad_lines\u001b[0m\u001b[0;34m=\u001b[0m\u001b[0;32mNone\u001b[0m\u001b[0;34m,\u001b[0m\u001b[0;34m\u001b[0m\n",
       "\u001b[0;34m\u001b[0m    \u001b[0mon_bad_lines\u001b[0m\u001b[0;34m=\u001b[0m\u001b[0;32mNone\u001b[0m\u001b[0;34m,\u001b[0m\u001b[0;34m\u001b[0m\n",
       "\u001b[0;34m\u001b[0m    \u001b[0mdelim_whitespace\u001b[0m\u001b[0;34m=\u001b[0m\u001b[0;32mFalse\u001b[0m\u001b[0;34m,\u001b[0m\u001b[0;34m\u001b[0m\n",
       "\u001b[0;34m\u001b[0m    \u001b[0mlow_memory\u001b[0m\u001b[0;34m=\u001b[0m\u001b[0;32mTrue\u001b[0m\u001b[0;34m,\u001b[0m\u001b[0;34m\u001b[0m\n",
       "\u001b[0;34m\u001b[0m    \u001b[0mmemory_map\u001b[0m\u001b[0;34m=\u001b[0m\u001b[0;32mFalse\u001b[0m\u001b[0;34m,\u001b[0m\u001b[0;34m\u001b[0m\n",
       "\u001b[0;34m\u001b[0m    \u001b[0mfloat_precision\u001b[0m\u001b[0;34m=\u001b[0m\u001b[0;32mNone\u001b[0m\u001b[0;34m,\u001b[0m\u001b[0;34m\u001b[0m\n",
       "\u001b[0;34m\u001b[0m    \u001b[0mstorage_options\u001b[0m\u001b[0;34m:\u001b[0m \u001b[0;34m'StorageOptions'\u001b[0m \u001b[0;34m=\u001b[0m \u001b[0;32mNone\u001b[0m\u001b[0;34m,\u001b[0m\u001b[0;34m\u001b[0m\n",
       "\u001b[0;34m\u001b[0m\u001b[0;34m)\u001b[0m\u001b[0;34m\u001b[0m\u001b[0;34m\u001b[0m\u001b[0m\n",
       "\u001b[0;31mDocstring:\u001b[0m\n",
       "Read a comma-separated values (csv) file into DataFrame.\n",
       "\n",
       "Also supports optionally iterating or breaking of the file\n",
       "into chunks.\n",
       "\n",
       "Additional help can be found in the online docs for\n",
       "`IO Tools <https://pandas.pydata.org/pandas-docs/stable/user_guide/io.html>`_.\n",
       "\n",
       "Parameters\n",
       "----------\n",
       "filepath_or_buffer : str, path object or file-like object\n",
       "    Any valid string path is acceptable. The string could be a URL. Valid\n",
       "    URL schemes include http, ftp, s3, gs, and file. For file URLs, a host is\n",
       "    expected. A local file could be: file://localhost/path/to/table.csv.\n",
       "\n",
       "    If you want to pass in a path object, pandas accepts any ``os.PathLike``.\n",
       "\n",
       "    By file-like object, we refer to objects with a ``read()`` method, such as\n",
       "    a file handle (e.g. via builtin ``open`` function) or ``StringIO``.\n",
       "sep : str, default ','\n",
       "    Delimiter to use. If sep is None, the C engine cannot automatically detect\n",
       "    the separator, but the Python parsing engine can, meaning the latter will\n",
       "    be used and automatically detect the separator by Python's builtin sniffer\n",
       "    tool, ``csv.Sniffer``. In addition, separators longer than 1 character and\n",
       "    different from ``'\\s+'`` will be interpreted as regular expressions and\n",
       "    will also force the use of the Python parsing engine. Note that regex\n",
       "    delimiters are prone to ignoring quoted data. Regex example: ``'\\r\\t'``.\n",
       "delimiter : str, default ``None``\n",
       "    Alias for sep.\n",
       "header : int, list of int, default 'infer'\n",
       "    Row number(s) to use as the column names, and the start of the\n",
       "    data.  Default behavior is to infer the column names: if no names\n",
       "    are passed the behavior is identical to ``header=0`` and column\n",
       "    names are inferred from the first line of the file, if column\n",
       "    names are passed explicitly then the behavior is identical to\n",
       "    ``header=None``. Explicitly pass ``header=0`` to be able to\n",
       "    replace existing names. The header can be a list of integers that\n",
       "    specify row locations for a multi-index on the columns\n",
       "    e.g. [0,1,3]. Intervening rows that are not specified will be\n",
       "    skipped (e.g. 2 in this example is skipped). Note that this\n",
       "    parameter ignores commented lines and empty lines if\n",
       "    ``skip_blank_lines=True``, so ``header=0`` denotes the first line of\n",
       "    data rather than the first line of the file.\n",
       "names : array-like, optional\n",
       "    List of column names to use. If the file contains a header row,\n",
       "    then you should explicitly pass ``header=0`` to override the column names.\n",
       "    Duplicates in this list are not allowed.\n",
       "index_col : int, str, sequence of int / str, or False, default ``None``\n",
       "  Column(s) to use as the row labels of the ``DataFrame``, either given as\n",
       "  string name or column index. If a sequence of int / str is given, a\n",
       "  MultiIndex is used.\n",
       "\n",
       "  Note: ``index_col=False`` can be used to force pandas to *not* use the first\n",
       "  column as the index, e.g. when you have a malformed file with delimiters at\n",
       "  the end of each line.\n",
       "usecols : list-like or callable, optional\n",
       "    Return a subset of the columns. If list-like, all elements must either\n",
       "    be positional (i.e. integer indices into the document columns) or strings\n",
       "    that correspond to column names provided either by the user in `names` or\n",
       "    inferred from the document header row(s). For example, a valid list-like\n",
       "    `usecols` parameter would be ``[0, 1, 2]`` or ``['foo', 'bar', 'baz']``.\n",
       "    Element order is ignored, so ``usecols=[0, 1]`` is the same as ``[1, 0]``.\n",
       "    To instantiate a DataFrame from ``data`` with element order preserved use\n",
       "    ``pd.read_csv(data, usecols=['foo', 'bar'])[['foo', 'bar']]`` for columns\n",
       "    in ``['foo', 'bar']`` order or\n",
       "    ``pd.read_csv(data, usecols=['foo', 'bar'])[['bar', 'foo']]``\n",
       "    for ``['bar', 'foo']`` order.\n",
       "\n",
       "    If callable, the callable function will be evaluated against the column\n",
       "    names, returning names where the callable function evaluates to True. An\n",
       "    example of a valid callable argument would be ``lambda x: x.upper() in\n",
       "    ['AAA', 'BBB', 'DDD']``. Using this parameter results in much faster\n",
       "    parsing time and lower memory usage.\n",
       "squeeze : bool, default False\n",
       "    If the parsed data only contains one column then return a Series.\n",
       "prefix : str, optional\n",
       "    Prefix to add to column numbers when no header, e.g. 'X' for X0, X1, ...\n",
       "mangle_dupe_cols : bool, default True\n",
       "    Duplicate columns will be specified as 'X', 'X.1', ...'X.N', rather than\n",
       "    'X'...'X'. Passing in False will cause data to be overwritten if there\n",
       "    are duplicate names in the columns.\n",
       "dtype : Type name or dict of column -> type, optional\n",
       "    Data type for data or columns. E.g. {'a': np.float64, 'b': np.int32,\n",
       "    'c': 'Int64'}\n",
       "    Use `str` or `object` together with suitable `na_values` settings\n",
       "    to preserve and not interpret dtype.\n",
       "    If converters are specified, they will be applied INSTEAD\n",
       "    of dtype conversion.\n",
       "engine : {'c', 'python'}, optional\n",
       "    Parser engine to use. The C engine is faster while the python engine is\n",
       "    currently more feature-complete.\n",
       "converters : dict, optional\n",
       "    Dict of functions for converting values in certain columns. Keys can either\n",
       "    be integers or column labels.\n",
       "true_values : list, optional\n",
       "    Values to consider as True.\n",
       "false_values : list, optional\n",
       "    Values to consider as False.\n",
       "skipinitialspace : bool, default False\n",
       "    Skip spaces after delimiter.\n",
       "skiprows : list-like, int or callable, optional\n",
       "    Line numbers to skip (0-indexed) or number of lines to skip (int)\n",
       "    at the start of the file.\n",
       "\n",
       "    If callable, the callable function will be evaluated against the row\n",
       "    indices, returning True if the row should be skipped and False otherwise.\n",
       "    An example of a valid callable argument would be ``lambda x: x in [0, 2]``.\n",
       "skipfooter : int, default 0\n",
       "    Number of lines at bottom of file to skip (Unsupported with engine='c').\n",
       "nrows : int, optional\n",
       "    Number of rows of file to read. Useful for reading pieces of large files.\n",
       "na_values : scalar, str, list-like, or dict, optional\n",
       "    Additional strings to recognize as NA/NaN. If dict passed, specific\n",
       "    per-column NA values.  By default the following values are interpreted as\n",
       "    NaN: '', '#N/A', '#N/A N/A', '#NA', '-1.#IND', '-1.#QNAN', '-NaN', '-nan',\n",
       "    '1.#IND', '1.#QNAN', '<NA>', 'N/A', 'NA', 'NULL', 'NaN', 'n/a',\n",
       "    'nan', 'null'.\n",
       "keep_default_na : bool, default True\n",
       "    Whether or not to include the default NaN values when parsing the data.\n",
       "    Depending on whether `na_values` is passed in, the behavior is as follows:\n",
       "\n",
       "    * If `keep_default_na` is True, and `na_values` are specified, `na_values`\n",
       "      is appended to the default NaN values used for parsing.\n",
       "    * If `keep_default_na` is True, and `na_values` are not specified, only\n",
       "      the default NaN values are used for parsing.\n",
       "    * If `keep_default_na` is False, and `na_values` are specified, only\n",
       "      the NaN values specified `na_values` are used for parsing.\n",
       "    * If `keep_default_na` is False, and `na_values` are not specified, no\n",
       "      strings will be parsed as NaN.\n",
       "\n",
       "    Note that if `na_filter` is passed in as False, the `keep_default_na` and\n",
       "    `na_values` parameters will be ignored.\n",
       "na_filter : bool, default True\n",
       "    Detect missing value markers (empty strings and the value of na_values). In\n",
       "    data without any NAs, passing na_filter=False can improve the performance\n",
       "    of reading a large file.\n",
       "verbose : bool, default False\n",
       "    Indicate number of NA values placed in non-numeric columns.\n",
       "skip_blank_lines : bool, default True\n",
       "    If True, skip over blank lines rather than interpreting as NaN values.\n",
       "parse_dates : bool or list of int or names or list of lists or dict, default False\n",
       "    The behavior is as follows:\n",
       "\n",
       "    * boolean. If True -> try parsing the index.\n",
       "    * list of int or names. e.g. If [1, 2, 3] -> try parsing columns 1, 2, 3\n",
       "      each as a separate date column.\n",
       "    * list of lists. e.g.  If [[1, 3]] -> combine columns 1 and 3 and parse as\n",
       "      a single date column.\n",
       "    * dict, e.g. {'foo' : [1, 3]} -> parse columns 1, 3 as date and call\n",
       "      result 'foo'\n",
       "\n",
       "    If a column or index cannot be represented as an array of datetimes,\n",
       "    say because of an unparsable value or a mixture of timezones, the column\n",
       "    or index will be returned unaltered as an object data type. For\n",
       "    non-standard datetime parsing, use ``pd.to_datetime`` after\n",
       "    ``pd.read_csv``. To parse an index or column with a mixture of timezones,\n",
       "    specify ``date_parser`` to be a partially-applied\n",
       "    :func:`pandas.to_datetime` with ``utc=True``. See\n",
       "    :ref:`io.csv.mixed_timezones` for more.\n",
       "\n",
       "    Note: A fast-path exists for iso8601-formatted dates.\n",
       "infer_datetime_format : bool, default False\n",
       "    If True and `parse_dates` is enabled, pandas will attempt to infer the\n",
       "    format of the datetime strings in the columns, and if it can be inferred,\n",
       "    switch to a faster method of parsing them. In some cases this can increase\n",
       "    the parsing speed by 5-10x.\n",
       "keep_date_col : bool, default False\n",
       "    If True and `parse_dates` specifies combining multiple columns then\n",
       "    keep the original columns.\n",
       "date_parser : function, optional\n",
       "    Function to use for converting a sequence of string columns to an array of\n",
       "    datetime instances. The default uses ``dateutil.parser.parser`` to do the\n",
       "    conversion. Pandas will try to call `date_parser` in three different ways,\n",
       "    advancing to the next if an exception occurs: 1) Pass one or more arrays\n",
       "    (as defined by `parse_dates`) as arguments; 2) concatenate (row-wise) the\n",
       "    string values from the columns defined by `parse_dates` into a single array\n",
       "    and pass that; and 3) call `date_parser` once for each row using one or\n",
       "    more strings (corresponding to the columns defined by `parse_dates`) as\n",
       "    arguments.\n",
       "dayfirst : bool, default False\n",
       "    DD/MM format dates, international and European format.\n",
       "cache_dates : bool, default True\n",
       "    If True, use a cache of unique, converted dates to apply the datetime\n",
       "    conversion. May produce significant speed-up when parsing duplicate\n",
       "    date strings, especially ones with timezone offsets.\n",
       "\n",
       "    .. versionadded:: 0.25.0\n",
       "iterator : bool, default False\n",
       "    Return TextFileReader object for iteration or getting chunks with\n",
       "    ``get_chunk()``.\n",
       "\n",
       "    .. versionchanged:: 1.2\n",
       "\n",
       "       ``TextFileReader`` is a context manager.\n",
       "chunksize : int, optional\n",
       "    Return TextFileReader object for iteration.\n",
       "    See the `IO Tools docs\n",
       "    <https://pandas.pydata.org/pandas-docs/stable/io.html#io-chunking>`_\n",
       "    for more information on ``iterator`` and ``chunksize``.\n",
       "\n",
       "    .. versionchanged:: 1.2\n",
       "\n",
       "       ``TextFileReader`` is a context manager.\n",
       "compression : {'infer', 'gzip', 'bz2', 'zip', 'xz', None}, default 'infer'\n",
       "    For on-the-fly decompression of on-disk data. If 'infer' and\n",
       "    `filepath_or_buffer` is path-like, then detect compression from the\n",
       "    following extensions: '.gz', '.bz2', '.zip', or '.xz' (otherwise no\n",
       "    decompression). If using 'zip', the ZIP file must contain only one data\n",
       "    file to be read in. Set to None for no decompression.\n",
       "thousands : str, optional\n",
       "    Thousands separator.\n",
       "decimal : str, default '.'\n",
       "    Character to recognize as decimal point (e.g. use ',' for European data).\n",
       "lineterminator : str (length 1), optional\n",
       "    Character to break file into lines. Only valid with C parser.\n",
       "quotechar : str (length 1), optional\n",
       "    The character used to denote the start and end of a quoted item. Quoted\n",
       "    items can include the delimiter and it will be ignored.\n",
       "quoting : int or csv.QUOTE_* instance, default 0\n",
       "    Control field quoting behavior per ``csv.QUOTE_*`` constants. Use one of\n",
       "    QUOTE_MINIMAL (0), QUOTE_ALL (1), QUOTE_NONNUMERIC (2) or QUOTE_NONE (3).\n",
       "doublequote : bool, default ``True``\n",
       "   When quotechar is specified and quoting is not ``QUOTE_NONE``, indicate\n",
       "   whether or not to interpret two consecutive quotechar elements INSIDE a\n",
       "   field as a single ``quotechar`` element.\n",
       "escapechar : str (length 1), optional\n",
       "    One-character string used to escape other characters.\n",
       "comment : str, optional\n",
       "    Indicates remainder of line should not be parsed. If found at the beginning\n",
       "    of a line, the line will be ignored altogether. This parameter must be a\n",
       "    single character. Like empty lines (as long as ``skip_blank_lines=True``),\n",
       "    fully commented lines are ignored by the parameter `header` but not by\n",
       "    `skiprows`. For example, if ``comment='#'``, parsing\n",
       "    ``#empty\\na,b,c\\n1,2,3`` with ``header=0`` will result in 'a,b,c' being\n",
       "    treated as the header.\n",
       "encoding : str, optional\n",
       "    Encoding to use for UTF when reading/writing (ex. 'utf-8'). `List of Python\n",
       "    standard encodings\n",
       "    <https://docs.python.org/3/library/codecs.html#standard-encodings>`_ .\n",
       "\n",
       "    .. versionchanged:: 1.2\n",
       "\n",
       "       When ``encoding`` is ``None``, ``errors=\"replace\"`` is passed to\n",
       "       ``open()``. Otherwise, ``errors=\"strict\"`` is passed to ``open()``.\n",
       "       This behavior was previously only the case for ``engine=\"python\"``.\n",
       "\n",
       "    .. versionchanged:: 1.3.0\n",
       "\n",
       "       ``encoding_errors`` is a new argument. ``encoding`` has no longer an\n",
       "       influence on how encoding errors are handled.\n",
       "\n",
       "encoding_errors : str, optional, default \"strict\"\n",
       "    How encoding errors are treated. `List of possible values\n",
       "    <https://docs.python.org/3/library/codecs.html#error-handlers>`_ .\n",
       "\n",
       "    .. versionadded:: 1.3.0\n",
       "\n",
       "dialect : str or csv.Dialect, optional\n",
       "    If provided, this parameter will override values (default or not) for the\n",
       "    following parameters: `delimiter`, `doublequote`, `escapechar`,\n",
       "    `skipinitialspace`, `quotechar`, and `quoting`. If it is necessary to\n",
       "    override values, a ParserWarning will be issued. See csv.Dialect\n",
       "    documentation for more details.\n",
       "error_bad_lines : bool, default ``None``\n",
       "    Lines with too many fields (e.g. a csv line with too many commas) will by\n",
       "    default cause an exception to be raised, and no DataFrame will be returned.\n",
       "    If False, then these \"bad lines\" will be dropped from the DataFrame that is\n",
       "    returned.\n",
       "\n",
       "    .. deprecated:: 1.3.0\n",
       "       The ``on_bad_lines`` parameter should be used instead to specify behavior upon\n",
       "       encountering a bad line instead.\n",
       "warn_bad_lines : bool, default ``None``\n",
       "    If error_bad_lines is False, and warn_bad_lines is True, a warning for each\n",
       "    \"bad line\" will be output.\n",
       "\n",
       "    .. deprecated:: 1.3.0\n",
       "       The ``on_bad_lines`` parameter should be used instead to specify behavior upon\n",
       "       encountering a bad line instead.\n",
       "on_bad_lines : {'error', 'warn', 'skip'}, default 'error'\n",
       "    Specifies what to do upon encountering a bad line (a line with too many fields).\n",
       "    Allowed values are :\n",
       "\n",
       "        - 'error', raise an Exception when a bad line is encountered.\n",
       "        - 'warn', raise a warning when a bad line is encountered and skip that line.\n",
       "        - 'skip', skip bad lines without raising or warning when they are encountered.\n",
       "\n",
       "    .. versionadded:: 1.3.0\n",
       "\n",
       "delim_whitespace : bool, default False\n",
       "    Specifies whether or not whitespace (e.g. ``' '`` or ``'    '``) will be\n",
       "    used as the sep. Equivalent to setting ``sep='\\s+'``. If this option\n",
       "    is set to True, nothing should be passed in for the ``delimiter``\n",
       "    parameter.\n",
       "low_memory : bool, default True\n",
       "    Internally process the file in chunks, resulting in lower memory use\n",
       "    while parsing, but possibly mixed type inference.  To ensure no mixed\n",
       "    types either set False, or specify the type with the `dtype` parameter.\n",
       "    Note that the entire file is read into a single DataFrame regardless,\n",
       "    use the `chunksize` or `iterator` parameter to return the data in chunks.\n",
       "    (Only valid with C parser).\n",
       "memory_map : bool, default False\n",
       "    If a filepath is provided for `filepath_or_buffer`, map the file object\n",
       "    directly onto memory and access the data directly from there. Using this\n",
       "    option can improve performance because there is no longer any I/O overhead.\n",
       "float_precision : str, optional\n",
       "    Specifies which converter the C engine should use for floating-point\n",
       "    values. The options are ``None`` or 'high' for the ordinary converter,\n",
       "    'legacy' for the original lower precision pandas converter, and\n",
       "    'round_trip' for the round-trip converter.\n",
       "\n",
       "    .. versionchanged:: 1.2\n",
       "\n",
       "storage_options : dict, optional\n",
       "    Extra options that make sense for a particular storage connection, e.g.\n",
       "    host, port, username, password, etc. For HTTP(S) URLs the key-value pairs\n",
       "    are forwarded to ``urllib`` as header options. For other URLs (e.g.\n",
       "    starting with \"s3://\", and \"gcs://\") the key-value pairs are forwarded to\n",
       "    ``fsspec``. Please see ``fsspec`` and ``urllib`` for more details.\n",
       "\n",
       "    .. versionadded:: 1.2\n",
       "\n",
       "Returns\n",
       "-------\n",
       "DataFrame or TextParser\n",
       "    A comma-separated values (csv) file is returned as two-dimensional\n",
       "    data structure with labeled axes.\n",
       "\n",
       "See Also\n",
       "--------\n",
       "DataFrame.to_csv : Write DataFrame to a comma-separated values (csv) file.\n",
       "read_csv : Read a comma-separated values (csv) file into DataFrame.\n",
       "read_fwf : Read a table of fixed-width formatted lines into DataFrame.\n",
       "\n",
       "Examples\n",
       "--------\n",
       ">>> pd.read_csv('data.csv')  # doctest: +SKIP\n",
       "\u001b[0;31mFile:\u001b[0m      ~/.virtual_environments/py39/lib/python3.9/site-packages/pandas/io/parsers/readers.py\n",
       "\u001b[0;31mType:\u001b[0m      function\n"
      ]
     },
     "metadata": {},
     "output_type": "display_data"
    }
   ],
   "source": [
    "?pd.read_csv"
   ]
  },
  {
   "cell_type": "markdown",
   "id": "f93475bb-d3b2-4648-809a-b06647dad16d",
   "metadata": {},
   "source": [
    "# In above case, the row lable are seen as a column in their own,  to solve this, we have to tell pd.read_csv() function that the first column contains row indexes.  You do this by setting the index_col argument.  \n",
    "**The pd.read_csv() function features many more arguments that allow you to customize your data import, make sure to check out its documentation.  "
   ]
  },
  {
   "cell_type": "code",
   "execution_count": 90,
   "id": "a6dd7866-f756-4046-a42d-717b92f4c793",
   "metadata": {},
   "outputs": [
    {
     "name": "stdout",
     "output_type": "stream",
     "text": [
      "  Unnamed: 0       country    capital    area  population\n",
      "0         BR        Brazil   Brasilia   8.516      200.40\n",
      "1         RU        Russia     Moscow  17.100      143.50\n",
      "2         IN         India  New Delhi   3.286     1252.00\n",
      "3         CH         China    Beijing   9.597     1357.00\n",
      "4         SA  South Africa   Pretoria   1.221       52.98\n",
      "         country    capital    area  population\n",
      "BR        Brazil   Brasilia   8.516      200.40\n",
      "RU        Russia     Moscow  17.100      143.50\n",
      "IN         India  New Delhi   3.286     1252.00\n",
      "CH         China    Beijing   9.597     1357.00\n",
      "SA  South Africa   Pretoria   1.221       52.98\n"
     ]
    }
   ],
   "source": [
    "import pandas as pd\n",
    "\n",
    "brics = pd.read_csv('brics2.csv')\n",
    "print(brics)\n",
    "# *************************************************************************************************** #\n",
    "brics = pd.read_csv('brics2.csv', index_col=0)\n",
    "print(brics)"
   ]
  },
  {
   "cell_type": "code",
   "execution_count": 77,
   "id": "25136729-159a-4131-a0f9-65e944d8c54e",
   "metadata": {},
   "outputs": [
    {
     "data": {
      "text/html": [
       "<div>\n",
       "<style scoped>\n",
       "    .dataframe tbody tr th:only-of-type {\n",
       "        vertical-align: middle;\n",
       "    }\n",
       "\n",
       "    .dataframe tbody tr th {\n",
       "        vertical-align: top;\n",
       "    }\n",
       "\n",
       "    .dataframe thead th {\n",
       "        text-align: right;\n",
       "    }\n",
       "</style>\n",
       "<table border=\"1\" class=\"dataframe\">\n",
       "  <thead>\n",
       "    <tr style=\"text-align: right;\">\n",
       "      <th></th>\n",
       "      <th>Country</th>\n",
       "      <th>Capital</th>\n",
       "      <th>Area</th>\n",
       "      <th>Population</th>\n",
       "    </tr>\n",
       "  </thead>\n",
       "  <tbody>\n",
       "    <tr>\n",
       "      <th>BR</th>\n",
       "      <td>Brazil</td>\n",
       "      <td>Brasilia</td>\n",
       "      <td>8.516</td>\n",
       "      <td>200.40</td>\n",
       "    </tr>\n",
       "    <tr>\n",
       "      <th>RU</th>\n",
       "      <td>Russia</td>\n",
       "      <td>Moscow</td>\n",
       "      <td>17.100</td>\n",
       "      <td>143.50</td>\n",
       "    </tr>\n",
       "    <tr>\n",
       "      <th>IN</th>\n",
       "      <td>India</td>\n",
       "      <td>New Delhi</td>\n",
       "      <td>3.286</td>\n",
       "      <td>1252.00</td>\n",
       "    </tr>\n",
       "    <tr>\n",
       "      <th>CH</th>\n",
       "      <td>China</td>\n",
       "      <td>Beijing</td>\n",
       "      <td>9.597</td>\n",
       "      <td>1357.00</td>\n",
       "    </tr>\n",
       "    <tr>\n",
       "      <th>SA</th>\n",
       "      <td>South Africa</td>\n",
       "      <td>Pretoria</td>\n",
       "      <td>1.221</td>\n",
       "      <td>52.98</td>\n",
       "    </tr>\n",
       "  </tbody>\n",
       "</table>\n",
       "</div>"
      ],
      "text/plain": [
       "         Country    Capital    Area  Population\n",
       "BR        Brazil   Brasilia   8.516      200.40\n",
       "RU        Russia     Moscow  17.100      143.50\n",
       "IN         India  New Delhi   3.286     1252.00\n",
       "CH         China    Beijing   9.597     1357.00\n",
       "SA  South Africa   Pretoria   1.221       52.98"
      ]
     },
     "execution_count": 77,
     "metadata": {},
     "output_type": "execute_result"
    }
   ],
   "source": [
    "names = ['Country', 'Capital', 'Area', 'Population']\n",
    "\n",
    "import pandas as pd\n",
    "\n",
    "# *************************************************************************************************** #\n",
    "# pd.read_csv() dealing with no header csv with custimazed list of column names\n",
    "brics = pd.read_csv('brics3.csv', names=names)  #header=None, \n",
    "brics"
   ]
  },
  {
   "cell_type": "markdown",
   "id": "6abcb381-c70c-4b2e-adaf-57626989dff1",
   "metadata": {},
   "source": [
    "## Dictionary to DataFrame (1)\n",
    "\n",
    "Pandas is an open source library, providing high-performance, easy-to-use data structures and data analysis tools for Python. Sounds promising!\n",
    "\n",
    "The DataFrame is one of Pandas' most important data structures. It's basically a way to store tabular data where you can label the rows and the columns. One way to build a DataFrame is from a dictionary.\n",
    "\n",
    "In the exercises that follow you will be working with vehicle data from different countries. Each observation corresponds to a country and the columns give information about the number of vehicles per capita, whether people drive left or right, and so on.\n",
    "\n",
    "Three lists are defined in the script:\n",
    "\n",
    "    names, containing the country names for which data is available.\n",
    "    dr, a list with booleans that tells whether people drive left or right in the corresponding country.\n",
    "    cpc, the number of motor vehicles per 1000 people in the corresponding country.\n",
    "\n",
    "Each dictionary key is a column label and each value is a list which contains the column elements.\n",
    "Instructions\n",
    "100 XP\n",
    "\n",
    "    Import pandas as pd.\n",
    "    Use the pre-defined lists to create a dictionary called my_dict. There should be three key value pairs:\n",
    "        key 'country' and value names.\n",
    "        key 'drives_right' and value dr.\n",
    "        key 'cars_per_cap' and value cpc.\n",
    "    Use pd.DataFrame() to turn your dict into a DataFrame called cars.\n",
    "    Print out cars and see how beautiful it is.\n"
   ]
  },
  {
   "cell_type": "code",
   "execution_count": 79,
   "id": "36371063-1ab9-4d43-9a4a-f0df54dadf2d",
   "metadata": {},
   "outputs": [
    {
     "name": "stdout",
     "output_type": "stream",
     "text": [
      "         country  drives_right  cars_per_cap\n",
      "0  United States          True           809\n",
      "1      Australia         False           731\n",
      "2          Japan         False           588\n",
      "3          India         False            18\n",
      "4         Russia          True           200\n",
      "5        Morocco          True            70\n",
      "6          Egypt          True            45\n"
     ]
    },
    {
     "data": {
      "text/html": [
       "<div>\n",
       "<style scoped>\n",
       "    .dataframe tbody tr th:only-of-type {\n",
       "        vertical-align: middle;\n",
       "    }\n",
       "\n",
       "    .dataframe tbody tr th {\n",
       "        vertical-align: top;\n",
       "    }\n",
       "\n",
       "    .dataframe thead th {\n",
       "        text-align: right;\n",
       "    }\n",
       "</style>\n",
       "<table border=\"1\" class=\"dataframe\">\n",
       "  <thead>\n",
       "    <tr style=\"text-align: right;\">\n",
       "      <th></th>\n",
       "      <th>country</th>\n",
       "      <th>drives_right</th>\n",
       "      <th>cars_per_cap</th>\n",
       "    </tr>\n",
       "  </thead>\n",
       "  <tbody>\n",
       "    <tr>\n",
       "      <th>0</th>\n",
       "      <td>United States</td>\n",
       "      <td>True</td>\n",
       "      <td>809</td>\n",
       "    </tr>\n",
       "    <tr>\n",
       "      <th>1</th>\n",
       "      <td>Australia</td>\n",
       "      <td>False</td>\n",
       "      <td>731</td>\n",
       "    </tr>\n",
       "    <tr>\n",
       "      <th>2</th>\n",
       "      <td>Japan</td>\n",
       "      <td>False</td>\n",
       "      <td>588</td>\n",
       "    </tr>\n",
       "    <tr>\n",
       "      <th>3</th>\n",
       "      <td>India</td>\n",
       "      <td>False</td>\n",
       "      <td>18</td>\n",
       "    </tr>\n",
       "    <tr>\n",
       "      <th>4</th>\n",
       "      <td>Russia</td>\n",
       "      <td>True</td>\n",
       "      <td>200</td>\n",
       "    </tr>\n",
       "    <tr>\n",
       "      <th>5</th>\n",
       "      <td>Morocco</td>\n",
       "      <td>True</td>\n",
       "      <td>70</td>\n",
       "    </tr>\n",
       "    <tr>\n",
       "      <th>6</th>\n",
       "      <td>Egypt</td>\n",
       "      <td>True</td>\n",
       "      <td>45</td>\n",
       "    </tr>\n",
       "  </tbody>\n",
       "</table>\n",
       "</div>"
      ],
      "text/plain": [
       "         country  drives_right  cars_per_cap\n",
       "0  United States          True           809\n",
       "1      Australia         False           731\n",
       "2          Japan         False           588\n",
       "3          India         False            18\n",
       "4         Russia          True           200\n",
       "5        Morocco          True            70\n",
       "6          Egypt          True            45"
      ]
     },
     "execution_count": 79,
     "metadata": {},
     "output_type": "execute_result"
    }
   ],
   "source": [
    "# Pre-defined lists\n",
    "names = ['United States', 'Australia', 'Japan', 'India', 'Russia', 'Morocco', 'Egypt']\n",
    "dr =  [True, False, False, False, True, True, True]\n",
    "cpc = [809, 731, 588, 18, 200, 70, 45]\n",
    "\n",
    "# Import pandas as pd\n",
    "import pandas as pd\n",
    "\n",
    "# Create dictionary my_dict with three key:value pairs: my_dict\n",
    "my_dict = {'country':names, 'drives_right':dr, 'cars_per_cap':cpc}\n",
    "\n",
    "# Build a DataFrame cars from my_dict: cars\n",
    "cars = pd.DataFrame(my_dict)\n",
    "\n",
    "# Print cars\n",
    "print(cars)\n",
    "cars"
   ]
  },
  {
   "cell_type": "markdown",
   "id": "33baa172-34e8-4f6b-bcef-ba672d627865",
   "metadata": {},
   "source": [
    "## Dictionary to DataFrame (2)\n",
    "\n",
    "The Python code that solves the previous exercise is included in the script. Have you noticed that the row labels (i.e. the labels for the different observations) were automatically set to integers from 0 up to 6?\n",
    "\n",
    "To solve this a list row_labels has been created. You can use it to specify the row labels of the cars DataFrame. You do this by setting the index attribute of cars, that you can access as cars.index.\n",
    "Instructions\n",
    "100 XP\n",
    "\n",
    "    Hit Run Code to see that, indeed, the row labels are not correctly set.\n",
    "    Specify the row labels by setting cars.index equal to row_labels.\n",
    "    Print out cars again and check if the row labels are correct this time.\n"
   ]
  },
  {
   "cell_type": "code",
   "execution_count": 85,
   "id": "9e8e85ef-c4a2-4406-adef-9fd529833b61",
   "metadata": {},
   "outputs": [
    {
     "name": "stdout",
     "output_type": "stream",
     "text": [
      "         country  drives_right  cars_per_cap\n",
      "0  United States          True           809\n",
      "1      Australia         False           731\n",
      "2          Japan         False           588\n",
      "3          India         False            18\n",
      "4         Russia          True           200\n",
      "5        Morocco          True            70\n",
      "6          Egypt          True            45\n",
      "           country  drives_right  cars_per_cap\n",
      "US   United States          True           809\n",
      "AUS      Australia         False           731\n",
      "JPN          Japan         False           588\n",
      "IN           India         False            18\n",
      "RU          Russia          True           200\n",
      "MOR        Morocco          True            70\n",
      "EG           Egypt          True            45\n"
     ]
    }
   ],
   "source": [
    "import pandas as pd\n",
    "\n",
    "# Build cars DataFrame\n",
    "names = ['United States', 'Australia', 'Japan', 'India', 'Russia', 'Morocco', 'Egypt']\n",
    "dr =  [True, False, False, False, True, True, True]\n",
    "cpc = [809, 731, 588, 18, 200, 70, 45]\n",
    "cars_dict = { 'country':names, 'drives_right':dr, 'cars_per_cap':cpc }\n",
    "cars = pd.DataFrame(cars_dict)\n",
    "print(cars)\n",
    "\n",
    "# Definition of row_labels\n",
    "row_labels = ['US', 'AUS', 'JPN', 'IN', 'RU', 'MOR', 'EG']\n",
    "\n",
    "# Specify row labels of cars\n",
    "cars.index = row_labels\n",
    "# *************************************************************************************************** #\n",
    "\n",
    "# Print cars again\n",
    "print(cars)"
   ]
  },
  {
   "cell_type": "markdown",
   "id": "58246402-6055-404f-ab5b-0005a8ceb4aa",
   "metadata": {},
   "source": [
    "## CSV to DataFrame (1)\n",
    "\n",
    "# Putting data in a dictionary and then building a DataFrame works, but it's not very efficient. What if you're dealing with millions of observations? In those cases, the data is typically available as files with a regular structure. One of those file types is the CSV file, which is short for \"comma-separated values\".\n",
    "\n",
    "To import CSV data into Python as a Pandas DataFrame you can use read_csv().\n",
    "\n",
    "Let's explore this function with the same cars data from the previous exercises. This time, however, the data is available in a CSV file, named cars.csv. It is available in your current working directory, so the path to the file is simply 'cars.csv'.\n",
    "Instructions\n",
    "100 XP\n",
    "\n",
    "    To import CSV files you still need the pandas package: import it as pd.\n",
    "    Use pd.read_csv() to import cars.csv data as a DataFrame. Store this dataframe as cars.\n",
    "    Print out cars. Does everything look OK?\n"
   ]
  },
  {
   "cell_type": "code",
   "execution_count": 9,
   "id": "2d8480da-ec42-4cf8-a55f-b919fd385a83",
   "metadata": {},
   "outputs": [
    {
     "name": "stdout",
     "output_type": "stream",
     "text": [
      "         country  drives_right  cars_per_cap\n",
      "0  United States          True           809\n",
      "1      Australia         False           731\n",
      "2          Japan         False           588\n",
      "3          India         False            18\n",
      "4         Russia          True           200\n",
      "5        Morocco          True            70\n",
      "6          Egypt          True            45\n"
     ]
    }
   ],
   "source": [
    "# Import pandas as pd\n",
    "import pandas as pd\n",
    "\n",
    "# Import the cars.csv data: cars\n",
    "cars = pd.read_csv('cars.csv')\n",
    "\n",
    "# Print out cars\n",
    "print(cars)"
   ]
  },
  {
   "cell_type": "markdown",
   "id": "9c749313-b8d9-499e-b4b8-c054564754a7",
   "metadata": {},
   "source": [
    "## CSV to DataFrame (2)\n",
    "\n",
    "Your read_csv() call to import the CSV data didn't generate an error, but the output is not entirely what we wanted. The row labels were imported as another column without a name.\n",
    "\n",
    "Remember index_col, an argument of read_csv(), that you can use to specify which column in the CSV file should be used as a row label? Well, that's exactly what you need here!\n",
    "\n",
    "Python code that solves the previous exercise is already included; can you make the appropriate changes to fix the data import?\n",
    "Instructions\n",
    "100 XP\n",
    "\n",
    "    Run the code with Run Code and assert that the first column should actually be used as row labels.\n",
    "    Specify the index_col argument inside pd.read_csv(): set it to 0, so that the first column is used as row labels.\n",
    "    Has the printout of cars improved now?\n"
   ]
  },
  {
   "cell_type": "code",
   "execution_count": 10,
   "id": "a44f4dcb-414c-4552-bf74-075ba7f9f604",
   "metadata": {},
   "outputs": [
    {
     "name": "stdout",
     "output_type": "stream",
     "text": [
      "               drives_right  cars_per_cap\n",
      "country                                  \n",
      "United States          True           809\n",
      "Australia             False           731\n",
      "Japan                 False           588\n",
      "India                 False            18\n",
      "Russia                 True           200\n",
      "Morocco                True            70\n",
      "Egypt                  True            45\n"
     ]
    }
   ],
   "source": [
    "# Import pandas as pd\n",
    "import pandas as pd\n",
    "\n",
    "# Fix import by including index_col\n",
    "cars = pd.read_csv('cars.csv', index_col=0)\n",
    "\n",
    "# Print out cars\n",
    "print(cars)"
   ]
  },
  {
   "cell_type": "markdown",
   "id": "07aa93be-b34a-42b3-8788-7214b6d8384a",
   "metadata": {},
   "source": [
    "## Pandas, Part 2\n",
    "\n",
    "\n",
    "\n",
    "**The code below makes sure that the rows and columns are given appropriate labels.  This is important to make accessing columns, rows, and single elements in your DataFrame easy.  That the purpose of this course.  \n",
    "\n",
    "# There are numerous ways in which you can index and select data from DataFrame, first we can use square brackets, and there are advanced data access methods: loc and iloc.  \n",
    "\n",
    "\n",
    "\n",
    "# **Suppose we want to select only country column from brics.  Just putting solumn label inside the square brackets, like what we did with dictionaries.  \n",
    "**The outcome is a pandas series type, \n",
    "\n",
    "# you can think of the series as a 1-dimensional array that can be labeled just like a DataFrame.  And when you paste together multiple series you get a DataFrame.  \n"
   ]
  },
  {
   "cell_type": "code",
   "execution_count": 153,
   "id": "0917ba7f-343e-4cb7-a655-e2f6d2c16999",
   "metadata": {},
   "outputs": [
    {
     "name": "stdout",
     "output_type": "stream",
     "text": [
      "  Unnamed: 0       country    capital    area  population\n",
      "0         BR        Brazil   Brasilia   8.516      200.40\n",
      "1         RU        Russia     Moscow  17.100      143.50\n",
      "2         IN         India  New Delhi   3.286     1252.00\n",
      "3         CH         China    Beijing   9.597     1357.00\n",
      "4         SA  South Africa   Pretoria   1.221       52.98\n",
      "\n",
      "         country    capital    area  population\n",
      "BR        Brazil   Brasilia   8.516      200.40\n",
      "RU        Russia     Moscow  17.100      143.50\n",
      "IN         India  New Delhi   3.286     1252.00\n",
      "CH         China    Beijing   9.597     1357.00\n",
      "SA  South Africa   Pretoria   1.221       52.98\n",
      "\n",
      "<class 'pandas.core.series.Series'>\n",
      "BR          Brazil\n",
      "RU          Russia\n",
      "IN           India\n",
      "CH           China\n",
      "SA    South Africa\n",
      "Name: country, dtype: object\n",
      "\n"
     ]
    }
   ],
   "source": [
    "import pandas as pd\n",
    "\n",
    "brics = pd.read_csv('brics2.csv')\n",
    "print(brics)\n",
    "print()\n",
    "\n",
    "brics = pd.read_csv('brics2.csv', index_col=0)\n",
    "print(brics)\n",
    "print()\n",
    "\n",
    "# *************************************************************************************************** #\n",
    "# you can think of the series as a 1-dimensional array that can be labeled just like a DataFrame.\n",
    "countries = brics['country']   # So you cant use brics['country', 'population']\n",
    "print(type(countries))\n",
    "print(countries)\n",
    "print()\n"
   ]
  },
  {
   "cell_type": "markdown",
   "id": "199940f4-76d6-4796-a25b-a65e1d95b5f4",
   "metadata": {},
   "source": [
    "# If you want to select the country column but keep the data in a DataFrame, you'll need double square brackets, like below"
   ]
  },
  {
   "cell_type": "code",
   "execution_count": 18,
   "id": "9f8c24a8-9b9e-4f88-8b1b-8cef7554ac46",
   "metadata": {},
   "outputs": [
    {
     "name": "stdout",
     "output_type": "stream",
     "text": [
      "<class 'pandas.core.frame.DataFrame'>\n",
      "         country\n",
      "BR        Brazil\n",
      "RU        Russia\n",
      "IN         India\n",
      "CH         China\n",
      "SA  South Africa\n",
      "\n",
      "         country  population\n",
      "BR        Brazil      200.40\n",
      "RU        Russia      143.50\n",
      "IN         India     1252.00\n",
      "CH         China     1357.00\n",
      "SA  South Africa       52.98\n",
      "\n",
      "   country    capital    area  population\n",
      "BR  Brazil   Brasilia   8.516       200.4\n",
      "RU  Russia     Moscow  17.100       143.5\n",
      "IN   India  New Delhi   3.286      1252.0\n"
     ]
    }
   ],
   "source": [
    "\n",
    "countries2 = brics[['country']]\n",
    "print(type(countries2))\n",
    "print(countries2)\n",
    "print()\n",
    "\n",
    "country_pop = brics[['country', 'population']]\n",
    "print(country_pop)\n",
    "print()\n",
    "\n",
    "# *************************************************************************************************** #\n",
    "# With no specify the 'keys' or column names, just slicing gives us the DataFrame slice\n",
    "print(brics[:3])"
   ]
  },
  {
   "cell_type": "markdown",
   "id": "95c8b6f2-54e0-4b90-be22-e5b7505a2dbe",
   "metadata": {},
   "source": [
    "\n",
    "# If you want to select the country column but keep the data in a DataFrame, you need to use double square brackets.  like this\n",
    "brics[['country', 'population']]\n",
    "**If you look at it from a different angle, you've actually putting a list with column labels inside another set of square brackets, and end up with a sub-dataframe.  \n",
    "\n",
    "\n",
    "\n",
    "# You can also use the same square brackets to select rows from a DataFrame.  \n",
    "# The way to do it is by specifying a slice, say we want the content from row2 to row4.  like in below example we use slice 1 colon 4.  brics[1:4]\n",
    "**Remember that the end of the slice is exclusive and that the index starts at zero.  \n"
   ]
  },
  {
   "cell_type": "code",
   "execution_count": 171,
   "id": "cb4bf973-151e-4989-b622-662d4893eadd",
   "metadata": {},
   "outputs": [
    {
     "name": "stdout",
     "output_type": "stream",
     "text": [
      "   country    capital    area  population\n",
      "RU  Russia     Moscow  17.100       143.5\n",
      "IN   India  New Delhi   3.286      1252.0\n",
      "CH   China    Beijing   9.597      1357.0\n",
      "\n",
      "   country  population    area\n",
      "BR  Brazil       200.4   8.516\n",
      "RU  Russia       143.5  17.100\n",
      "IN   India      1252.0   3.286\n",
      "CH   China      1357.0   9.597\n"
     ]
    }
   ],
   "source": [
    "row1_4_data = brics[1:4]\n",
    "print(row1_4_data)\n",
    "print()\n",
    "\n",
    "# *************************************************************************************************** #\n",
    "coun_pop_1_4 = brics[:4][['country', 'population', 'area']]\n",
    "print(coun_pop_1_4)"
   ]
  },
  {
   "cell_type": "markdown",
   "id": "35a1bf67-a5a1-43a4-b2f4-fe926ad71606",
   "metadata": {},
   "source": [
    "\n",
    "# These square brackets work, but only offers limited functionality.  Ideally we'd want something similar to 2D NumPy arrays.  There, you also use square brackets, the index or slice before the comma referred to the rows, the index or slice after comma referred to the columns.  \n",
    "\n",
    "# If we want to do similar thing with Pandas, we have to extend our toolbox with the loc() and iloc() functions.  \n",
    "\n",
    "**loc() is a technique to select parts of your data based on labels, while the iloc() is position based.  \n"
   ]
  },
  {
   "cell_type": "code",
   "execution_count": 2,
   "id": "d5a27ee1-1a3d-442b-871c-b7f00a031abe",
   "metadata": {},
   "outputs": [
    {
     "name": "stdout",
     "output_type": "stream",
     "text": [
      "         country    capital    area  population\n",
      "BR        Brazil   Brasilia   8.516      200.40\n",
      "RU        Russia     Moscow  17.100      143.50\n",
      "IN         India  New Delhi   3.286     1252.00\n",
      "CH         China    Beijing   9.597     1357.00\n",
      "SA  South Africa   Pretoria   1.221       52.98\n",
      "\n",
      "         country    capital   area\n",
      "IN         India  New Delhi  3.286\n",
      "CH         China    Beijing  9.597\n",
      "SA  South Africa   Pretoria  1.221\n",
      "\n",
      "         country   area  population\n",
      "CH         China  9.597     1357.00\n",
      "SA  South Africa  1.221       52.98\n",
      "\n",
      "         country    area  population\n",
      "BR        Brazil   8.516      200.40\n",
      "RU        Russia  17.100      143.50\n",
      "IN         India   3.286     1252.00\n",
      "CH         China   9.597     1357.00\n",
      "SA  South Africa   1.221       52.98\n"
     ]
    }
   ],
   "source": [
    "import pandas as pd\n",
    "\n",
    "brics = pd.read_csv('brics2.csv', index_col=0)\n",
    "print(brics)\n",
    "print()\n",
    "\n",
    "#?brics.iloc\n",
    "print(brics.iloc[2:, :3])   #[1:3, 0:3]\n",
    "print()\n",
    "\n",
    "# *************************************************************************************************** #\n",
    "print(brics.loc[['CH','SA'],['country','area','population']])\n",
    "# This is different with slice notation case: brics[['country','population']][1:4]\n",
    "# *************************************************************************************************** #\n",
    "print()\n",
    "\n",
    "print(brics.loc[:,['country','area','population']])\n",
    "# Remember to specofy the index first, then choose the columns in the DataFrame\n",
    "# \"None of [Index(['country', 'area', 'population'], dtype='object')] are in the [index]\""
   ]
  },
  {
   "cell_type": "markdown",
   "id": "f9d2f671-6c16-4339-8a6b-44c44109763c",
   "metadata": {},
   "source": [
    "# So when selecting content from a DataFrame, the simple square bracket works, but the outcome data was keept in a Series. Using double square brackets to keep selected data in a DataFrame.  \n",
    "brics['country']            __# Its a 1Dimension DataFrame called Series__\n",
    "brics[['country', 'area']]  __# Now our selected data was keept in a DataFrame__\n",
    "\n",
    "# To get rows, you can use slicing, \n",
    "brics[['country','population']][1:4]\n",
    "\n",
    "\n",
    "# The loc() function is more versatile, you can select rows, columns, but also rows and columns at the same time.  When you use loc() function, subsetting becomes remarkable similar to how you subsetted 2D NumPy arrays, the only difference is that you use row labels with loc() not the positions of the elements.  \n",
    "\n",
    "\n",
    "\n",
    "# If you want to subset Pandas DataFrames based on their position, or index, you'll need the iloc() function.  \n"
   ]
  },
  {
   "cell_type": "code",
   "execution_count": 196,
   "id": "29aeefa0-7a46-4588-9256-a73cf8c7c730",
   "metadata": {},
   "outputs": [
    {
     "name": "stdout",
     "output_type": "stream",
     "text": [
      "         country    capital    area  population\n",
      "BR        Brazil   Brasilia   8.516      200.40\n",
      "RU        Russia     Moscow  17.100      143.50\n",
      "IN         India  New Delhi   3.286     1252.00\n",
      "CH         China    Beijing   9.597     1357.00\n",
      "SA  South Africa   Pretoria   1.221       52.98\n",
      "\n",
      "   country  population\n",
      "RU  Russia       143.5\n",
      "IN   India      1252.0\n",
      "CH   China      1357.0\n",
      "\n",
      "         country   area  population\n",
      "CH         China  9.597     1357.00\n",
      "SA  South Africa  1.221       52.98\n",
      "\n",
      "         country    area  population\n",
      "BR        Brazil   8.516      200.40\n",
      "RU        Russia  17.100      143.50\n",
      "IN         India   3.286     1252.00\n",
      "CH         China   9.597     1357.00\n",
      "SA  South Africa   1.221       52.98\n"
     ]
    }
   ],
   "source": [
    "print(brics)\n",
    "print()\n",
    "\n",
    "print(brics[['country','population']][1:4])\n",
    "print()\n",
    "\n",
    "# *************************************************************************************************** #\n",
    "print(brics.loc[['CH','SA'],['country','area','population']])\n",
    "print()\n",
    "\n",
    "print(brics.loc[:,['country','area','population']])"
   ]
  },
  {
   "cell_type": "code",
   "execution_count": 54,
   "id": "0589038a-242f-4862-a05c-54937408fc09",
   "metadata": {},
   "outputs": [
    {
     "name": "stdout",
     "output_type": "stream",
     "text": [
      "         country    area  population\n",
      "BR        Brazil   8.516      200.40\n",
      "RU        Russia  17.100      143.50\n",
      "IN         India   3.286     1252.00\n",
      "CH         China   9.597     1357.00\n",
      "SA  South Africa   1.221       52.98\n",
      "\n",
      "         country    capital   area  population\n",
      "IN         India  New Delhi  3.286     1252.00\n",
      "CH         China    Beijing  9.597     1357.00\n",
      "SA  South Africa   Pretoria  1.221       52.98\n",
      "\n"
     ]
    }
   ],
   "source": [
    "print(brics.loc[:,['country','area','population']])\n",
    "print()\n",
    "\n",
    "print(brics.loc[['IN','CH','SA']])\n",
    "print()\n"
   ]
  },
  {
   "cell_type": "code",
   "execution_count": 8,
   "id": "027528c9-49b3-4f62-a190-a259256e5ef0",
   "metadata": {},
   "outputs": [
    {
     "name": "stdout",
     "output_type": "stream",
     "text": [
      "         country    capital    area  population\n",
      "BR        Brazil   Brasilia   8.516      200.40\n",
      "RU        Russia     Moscow  17.100      143.50\n",
      "IN         India  New Delhi   3.286     1252.00\n",
      "CH         China    Beijing   9.597     1357.00\n",
      "SA  South Africa   Pretoria   1.221       52.98\n",
      "\n",
      "   country    capital    area  population\n",
      "RU  Russia     Moscow  17.100       143.5\n",
      "IN   India  New Delhi   3.286      1252.0\n",
      "CH   China    Beijing   9.597      1357.0\n",
      "\n",
      "      capital    area  population\n",
      "RU     Moscow  17.100       143.5\n",
      "IN  New Delhi   3.286      1252.0\n",
      "\n"
     ]
    }
   ],
   "source": [
    "print(brics)\n",
    "print()\n",
    "\n",
    "# The loc() function is more versatile, you can select rows, columns, but also rows and columns \n",
    "# at the same time.  When you use loc() function, subsetting becomes remarkable similar to \n",
    "# how you subsetted 2D NumPy arrays, the only difference is that you use row labels with loc() \n",
    "# not the positions of the elements.  \n",
    "# *************************************************************************************************** #\n",
    "print(brics.iloc[:][1:4])\n",
    "print()\n",
    "\n",
    "print(brics.iloc[1:3, 1:4])   # Only this one works as NymPy array subsetting\n",
    "print()\n"
   ]
  },
  {
   "cell_type": "markdown",
   "id": "6d539385-a54d-444a-a816-f9eb84dc7164",
   "metadata": {},
   "source": [
    "# Keep learning by doing"
   ]
  },
  {
   "cell_type": "markdown",
   "id": "2457eb3a-c943-4a9c-a1cf-b1b8bf3ecb76",
   "metadata": {},
   "source": [
    "## Square Brackets (1)\n",
    "\n",
    "In the video, you saw that you can index and select Pandas DataFrames in many different ways. The simplest, but not the most powerful way, is to use square brackets.\n",
    "\n",
    "In the sample code, the same cars data is imported from a CSV files as a Pandas DataFrame. To select only the cars_per_cap column from cars, you can use:\n",
    "\n",
    "cars['cars_per_cap']\n",
    "cars[['cars_per_cap']]\n",
    "\n",
    "The single bracket version gives a Pandas Series, the double bracket version gives a Pandas DataFrame.\n",
    "Instructions\n",
    "100 XP\n",
    "\n",
    "    Use single square brackets to print out the country column of cars as a Pandas Series.\n",
    "    Use double square brackets to print out the country column of cars as a Pandas DataFrame.\n",
    "    Use double square brackets to print out a DataFrame with both the country and drives_right columns of cars, in this order.\n"
   ]
  },
  {
   "cell_type": "code",
   "execution_count": 14,
   "id": "0e3fd435-ce8a-478d-b662-9a70f895a1e5",
   "metadata": {},
   "outputs": [
    {
     "name": "stdout",
     "output_type": "stream",
     "text": [
      "0    United States\n",
      "1        Australia\n",
      "2            Japan\n",
      "3            India\n",
      "4           Russia\n",
      "5          Morocco\n",
      "6            Egypt\n",
      "Name: country, dtype: object\n",
      "         country\n",
      "0  United States\n",
      "1      Australia\n",
      "2          Japan\n",
      "3          India\n",
      "4         Russia\n",
      "5        Morocco\n",
      "6          Egypt\n",
      "         country  drives_right\n",
      "0  United States          True\n",
      "1      Australia         False\n",
      "2          Japan         False\n",
      "3          India         False\n",
      "4         Russia          True\n",
      "5        Morocco          True\n",
      "6          Egypt          True\n"
     ]
    }
   ],
   "source": [
    "# Import cars data\n",
    "import pandas as pd\n",
    "cars = pd.read_csv('cars.csv')   # , index_col = 0\n",
    "\n",
    "# Print out country column as Pandas Series\n",
    "print(cars['country'])\n",
    "\n",
    "# Print out country column as Pandas DataFrame\n",
    "print(cars[['country']])\n",
    "\n",
    "# Print out DataFrame with country and drives_right columns\n",
    "print(cars[['country', 'drives_right']])"
   ]
  },
  {
   "cell_type": "markdown",
   "id": "6fc6a353-bd40-40b8-9ab6-8c17c47ab89f",
   "metadata": {},
   "source": [
    "## Square Brackets (2)\n",
    "\n",
    "Square brackets can do more than just selecting columns. You can also use them to get rows, or observations, from a DataFrame. The following call selects the first five rows from the cars DataFrame:\n",
    "\n",
    "cars[0:5]\n",
    "\n",
    "The result is another DataFrame containing only the rows you specified.\n",
    "\n",
    "Pay attention: You can only select rows using square brackets if you specify a slice, like 0:4. Also, you're using the integer indexes of the rows here, not the row labels!\n",
    "Instructions\n",
    "100 XP\n",
    "\n",
    "    Select the first 3 observations from cars and print them out.\n",
    "    Select the fourth, fifth and sixth observation, corresponding to row indexes 3, 4 and 5, and print them out.\n"
   ]
  },
  {
   "cell_type": "markdown",
   "id": "a2852b09-8dde-4ae7-be6b-10f0f3321c7f",
   "metadata": {},
   "source": [
    "# *************************************************************************************************** #\n"
   ]
  },
  {
   "cell_type": "code",
   "execution_count": 32,
   "id": "60795233-71a7-4eb1-8512-67884933455e",
   "metadata": {},
   "outputs": [
    {
     "name": "stdout",
     "output_type": "stream",
     "text": [
      "           country  drives_right  cars_per_cap\n",
      "US   United States          True           809\n",
      "AUS      Australia         False           731\n",
      "JPN          Japan         False           588\n",
      "     country  drives_right  cars_per_cap\n",
      "IN     India         False            18\n",
      "RU    Russia          True           200\n",
      "MOR  Morocco          True            70\n"
     ]
    }
   ],
   "source": [
    "# Import cars data\n",
    "import pandas as pd\n",
    "cars = pd.read_csv('cars.csv', index_col=0)\n",
    "\n",
    "# *************************************************************************************************** #\n",
    "# Print out first 3 observations\n",
    "print(cars[:3])\n",
    "\n",
    "# *************************************************************************************************** #\n",
    "# Print out fourth, fifth and sixth observation\n",
    "print(cars[3:6])"
   ]
  },
  {
   "cell_type": "markdown",
   "id": "8df60208-9191-4271-a010-a865ae9a8624",
   "metadata": {},
   "source": [
    "## loc and iloc (1)\n",
    "\n",
    "With loc and iloc you can do practically any data selection operation on DataFrames you can think of. loc is label-based, which means that you have to specify rows and columns based on their row and column labels. iloc is integer index based, so you have to specify rows and columns by their integer index like you did in the previous exercise.\n",
    "\n",
    "Try out the following commands in the IPython Shell to experiment with loc and iloc to select observations. Each pair of commands here gives the same result.\n",
    "\n",
    "cars.loc['RU']\n",
    "cars.iloc[4]\n",
    "\n",
    "cars.loc[['RU']]\n",
    "cars.iloc[[4]]\n",
    "\n",
    "cars.loc[['RU', 'AUS']]\n",
    "cars.iloc[[4, 1]]\n",
    "\n",
    "As before, code is included that imports the cars data as a Pandas DataFrame.\n",
    "Instructions\n",
    "100 XP\n",
    "\n",
    "    Use loc or iloc to select the observation corresponding to Japan as a Series. The label of this row is JPN, the index is 2. Make sure to print the resulting Series.\n",
    "    Use loc or iloc to select the observations for Australia and Egypt as a DataFrame. You can find out about the labels/indexes of these rows by inspecting cars in the IPython Shell. Make sure to print the resulting DataFrame.\n"
   ]
  },
  {
   "cell_type": "code",
   "execution_count": 72,
   "id": "92509f35-c1f0-465d-a21c-5085858ee691",
   "metadata": {},
   "outputs": [
    {
     "name": "stdout",
     "output_type": "stream",
     "text": [
      "           country  drives_right  cars_per_cap\n",
      "US   United States          True           809\n",
      "AUS      Australia         False           731\n",
      "JPN          Japan         False           588\n",
      "IN           India         False            18\n",
      "RU          Russia          True           200\n",
      "MOR        Morocco          True            70\n",
      "EG           Egypt          True            45\n",
      "\n",
      "    country  drives_right  cars_per_cap\n",
      "JPN   Japan         False           588\n",
      "\n",
      "    country  drives_right  cars_per_cap\n",
      "JPN   Japan         False           588\n",
      "\n",
      "    country  drives_right  cars_per_cap\n",
      "JPN   Japan         False           588\n",
      "\n",
      "       country  drives_right  cars_per_cap\n",
      "AUS  Australia         False           731\n",
      "EG       Egypt          True            45\n"
     ]
    }
   ],
   "source": [
    "# Import cars data\n",
    "import pandas as pd\n",
    "cars = pd.read_csv('cars.csv', index_col = 0)\n",
    "print(cars)\n",
    "print()\n",
    "\n",
    "# Print out observation for Japan\n",
    "print(cars.loc[['JPN']])\n",
    "print()\n",
    "\n",
    "# *************************************************************************************************** #\n",
    "print(cars.iloc[[2]])\n",
    "print()\n",
    "\n",
    "# *************************************************************************************************** #\n",
    "print(cars.iloc[:][2:3])   # [1:3, 1:4] np.array row,colum,   [:][1:4] slicing key(column),row\n",
    "print()\n",
    "# *************************************************************************************************** #\n",
    "\n",
    "# Print out observations for Australia and Egypt\n",
    "print(cars.loc[['AUS', 'EG']])"
   ]
  },
  {
   "cell_type": "markdown",
   "id": "4bd80fba-a291-4329-90d3-d67463a19efb",
   "metadata": {},
   "source": [
    "## loc and iloc (2)\n",
    "\n",
    "loc and iloc also allow you to select both rows and columns from a DataFrame. To experiment, try out the following commands in the IPython Shell. Again, paired commands produce the same result.\n",
    "\n",
    "# *****************************************************************************************************\n",
    "# cars.loc['IN', 'cars_per_cap']\n",
    "# cars.iloc[3, 0]\n",
    "\n",
    "# cars.loc[['IN', 'RU'], 'cars_per_cap']\n",
    "# cars.iloc[[3, 4], 0]\n",
    "\n",
    "# cars.loc[['IN', 'RU'], ['cars_per_cap', 'country']]\n",
    "# cars.iloc[[3, 4], [0, 1]]\n",
    "\n",
    "Instructions\n",
    "100 XP\n",
    "\n",
    "    Print out the drives_right value of the row corresponding to Morocco (its row label is MOR)\n",
    "    Print out a sub-DataFrame, containing the observations for Russia and Morocco and the columns country and drives_right.\n"
   ]
  },
  {
   "cell_type": "code",
   "execution_count": 110,
   "id": "e344a20e-92df-4d8d-9b05-477e5983d05e",
   "metadata": {},
   "outputs": [
    {
     "name": "stdout",
     "output_type": "stream",
     "text": [
      "           country  drives_right  cars_per_cap\n",
      "US   United States          True           809\n",
      "AUS      Australia         False           731\n",
      "JPN          Japan         False           588\n",
      "IN           India         False            18\n",
      "RU          Russia          True           200\n",
      "MOR        Morocco          True            70\n",
      "EG           Egypt          True            45\n",
      "\n",
      "     drives_right\n",
      "MOR          True\n",
      "\n",
      "MOR    True\n",
      "Name: drives_right, dtype: bool\n",
      "\n",
      "     drives_right\n",
      "MOR          True\n",
      "\n",
      "     country  drives_right\n",
      "RU    Russia          True\n",
      "MOR  Morocco          True\n"
     ]
    }
   ],
   "source": [
    "# Import cars data\n",
    "import pandas as pd\n",
    "cars = pd.read_csv('cars.csv', index_col = 0)\n",
    "print(cars)\n",
    "print()\n",
    "\n",
    "# Print out drives_right value of Morocco\n",
    "print(cars.loc[['MOR'],['drives_right']])\n",
    "# *************************************************************************************************** #\n",
    "print()\n",
    "\n",
    "# *************************************************************************************************** #\n",
    "print(cars.iloc[5:6,1])\n",
    "print()   # not using colon makes it as a list # **************************************************** #\n",
    "\n",
    "# [1:3, 1:4] np.array row,colum,   [:][1:4] slicing key(column),row\n",
    "print(cars.iloc[[-2],[1]])\n",
    "print()\n",
    "\n",
    "# Print sub-DataFrame\n",
    "print(cars.loc[['RU','MOR'],['country', 'drives_right']])\n",
    "# *************************************************************************************************** #"
   ]
  },
  {
   "cell_type": "markdown",
   "id": "9432bc22-06b4-441e-981d-457bed6a81da",
   "metadata": {},
   "source": [
    "## loc and iloc (3)\n",
    "\n",
    "It's also possible to select only columns with loc and iloc. In both cases, you simply put a slice going from beginning to end in front of the comma:\n",
    "\n",
    "cars.loc[:, 'country']\n",
    "cars.iloc[:, 1]\n",
    "\n",
    "cars.loc[:, ['country','drives_right']]\n",
    "cars.iloc[:, [1, 2]]\n",
    "\n",
    "Instructions\n",
    "100 XP\n",
    "\n",
    "    Print out the drives_right column as a Series using loc or iloc.\n",
    "    Print out the drives_right column as a DataFrame using loc or iloc.\n",
    "    Print out both the cars_per_cap and drives_right column as a DataFrame using loc or iloc.\n"
   ]
  },
  {
   "cell_type": "code",
   "execution_count": 98,
   "id": "0f359033-16f2-4c65-99b3-572c87ad9972",
   "metadata": {},
   "outputs": [
    {
     "name": "stdout",
     "output_type": "stream",
     "text": [
      "           country  drives_right  cars_per_cap\n",
      "US   United States          True           809\n",
      "AUS      Australia         False           731\n",
      "JPN          Japan         False           588\n",
      "IN           India         False            18\n",
      "RU          Russia          True           200\n",
      "MOR        Morocco          True            70\n",
      "EG           Egypt          True            45\n",
      "\n",
      "US      True\n",
      "AUS    False\n",
      "JPN    False\n",
      "IN     False\n",
      "RU      True\n",
      "MOR     True\n",
      "EG      True\n",
      "Name: drives_right, dtype: bool\n",
      "\n",
      "     drives_right\n",
      "US           True\n",
      "AUS         False\n",
      "JPN         False\n",
      "IN          False\n",
      "RU           True\n",
      "MOR          True\n",
      "EG           True\n",
      "\n",
      "     drives_right  cars_per_cap\n",
      "US           True           809\n",
      "AUS         False           731\n",
      "JPN         False           588\n",
      "IN          False            18\n",
      "RU           True           200\n",
      "MOR          True            70\n",
      "EG           True            45\n"
     ]
    }
   ],
   "source": [
    "cars = pd.read_csv('cars.csv', index_col = 0)\n",
    "print(cars)\n",
    "print()\n",
    "\n",
    "# Print out drives_right column as Series\n",
    "print(cars.iloc[:, 1])\n",
    "# *************************************************************************************************** #\n",
    "# *************************************************************************************************** #\n",
    "print()\n",
    "\n",
    "# Print out drives_right column as DataFrame\n",
    "print(cars.iloc[:,[1]])\n",
    "print()\n",
    "\n",
    "# Print out cars_per_cap and drives_right as DataFrame\n",
    "print(cars.iloc[:,1:])\n"
   ]
  },
  {
   "cell_type": "code",
   "execution_count": null,
   "id": "0dbf59a3-1fd7-4a39-adf0-cc7c5fe68c5b",
   "metadata": {},
   "outputs": [],
   "source": []
  },
  {
   "cell_type": "code",
   "execution_count": null,
   "id": "cf955f78-3309-45b1-a94b-73d4c4b47ee0",
   "metadata": {},
   "outputs": [],
   "source": []
  },
  {
   "cell_type": "code",
   "execution_count": null,
   "id": "fb9a42a0-1cb7-4965-a1ce-fc1c2930b662",
   "metadata": {},
   "outputs": [],
   "source": []
  },
  {
   "cell_type": "code",
   "execution_count": null,
   "id": "8417db54-95d8-4867-8287-795f596f9f64",
   "metadata": {},
   "outputs": [],
   "source": []
  },
  {
   "cell_type": "code",
   "execution_count": null,
   "id": "eaddb407-ac71-4687-8eee-6339e675e03b",
   "metadata": {},
   "outputs": [],
   "source": []
  },
  {
   "cell_type": "code",
   "execution_count": null,
   "id": "7ec9ec3d-822b-4629-a82b-48f5f75658b9",
   "metadata": {},
   "outputs": [],
   "source": []
  },
  {
   "cell_type": "code",
   "execution_count": null,
   "id": "b5a68d33-728b-4937-a6c2-dd0ffe3a3575",
   "metadata": {},
   "outputs": [],
   "source": []
  },
  {
   "cell_type": "code",
   "execution_count": null,
   "id": "a5d141b6-8092-43f3-addb-d45193fa144f",
   "metadata": {},
   "outputs": [],
   "source": []
  },
  {
   "cell_type": "code",
   "execution_count": null,
   "id": "55658785-ff45-47af-9b1e-26db59745aaa",
   "metadata": {},
   "outputs": [],
   "source": []
  },
  {
   "cell_type": "code",
   "execution_count": null,
   "id": "a8826b1f-0536-4958-a5e5-94c678943323",
   "metadata": {},
   "outputs": [],
   "source": []
  },
  {
   "cell_type": "code",
   "execution_count": null,
   "id": "fa5ee312-45c3-47b3-b48c-f865130c6576",
   "metadata": {},
   "outputs": [],
   "source": []
  },
  {
   "cell_type": "code",
   "execution_count": null,
   "id": "5bddb891-1cf8-4a7a-b103-13299a4f9e56",
   "metadata": {},
   "outputs": [],
   "source": []
  },
  {
   "cell_type": "code",
   "execution_count": null,
   "id": "00a946ec-a8c9-4b27-b697-ed4450a37070",
   "metadata": {},
   "outputs": [],
   "source": []
  },
  {
   "cell_type": "code",
   "execution_count": null,
   "id": "07102b25-23c5-4c90-9581-40ab0922a020",
   "metadata": {},
   "outputs": [],
   "source": []
  },
  {
   "cell_type": "code",
   "execution_count": null,
   "id": "05713bd7-4a7b-4117-afa0-c7c5be013a1d",
   "metadata": {},
   "outputs": [],
   "source": []
  },
  {
   "cell_type": "code",
   "execution_count": null,
   "id": "8fec16ed-1470-4c73-9f0f-19c0f418cf51",
   "metadata": {},
   "outputs": [],
   "source": []
  },
  {
   "cell_type": "code",
   "execution_count": null,
   "id": "5253cd85-5762-4c7d-93fa-297bdab17ace",
   "metadata": {},
   "outputs": [],
   "source": []
  },
  {
   "cell_type": "code",
   "execution_count": null,
   "id": "83cbb446-e016-4595-9c9e-d420147d94a7",
   "metadata": {},
   "outputs": [],
   "source": []
  },
  {
   "cell_type": "code",
   "execution_count": null,
   "id": "080b4696-2f99-4345-8257-72f91db50d37",
   "metadata": {},
   "outputs": [],
   "source": []
  },
  {
   "cell_type": "code",
   "execution_count": null,
   "id": "721465e4-3a89-4a51-8e7b-1a738920bd5b",
   "metadata": {},
   "outputs": [],
   "source": []
  },
  {
   "cell_type": "code",
   "execution_count": null,
   "id": "426e886a-033c-4e5a-9451-2bf30be7e01b",
   "metadata": {},
   "outputs": [],
   "source": []
  },
  {
   "cell_type": "code",
   "execution_count": null,
   "id": "fdf8932c-45f3-47db-9955-971a4fa0b639",
   "metadata": {},
   "outputs": [],
   "source": []
  },
  {
   "cell_type": "code",
   "execution_count": null,
   "id": "1e8066b3-c835-42c8-8a88-5c4785fe64a1",
   "metadata": {},
   "outputs": [],
   "source": []
  },
  {
   "cell_type": "code",
   "execution_count": null,
   "id": "19aa19dc-f0c6-4def-b939-d68bbe554229",
   "metadata": {},
   "outputs": [],
   "source": []
  },
  {
   "cell_type": "code",
   "execution_count": null,
   "id": "57cc6441-932a-4479-9508-cf6e54e604eb",
   "metadata": {},
   "outputs": [],
   "source": []
  },
  {
   "cell_type": "code",
   "execution_count": null,
   "id": "7d56eb41-fa48-4704-92bb-9e31fad4f6b4",
   "metadata": {},
   "outputs": [],
   "source": []
  },
  {
   "cell_type": "code",
   "execution_count": null,
   "id": "9931fd16-7bf1-4a29-b4e3-6895df986f70",
   "metadata": {},
   "outputs": [],
   "source": []
  },
  {
   "cell_type": "code",
   "execution_count": null,
   "id": "75a13fc1-c3a7-4e3a-bbdb-a6b130f5b812",
   "metadata": {},
   "outputs": [],
   "source": []
  },
  {
   "cell_type": "code",
   "execution_count": null,
   "id": "4e5bc37f-1cd2-4b71-8b25-78470e481059",
   "metadata": {},
   "outputs": [],
   "source": []
  },
  {
   "cell_type": "code",
   "execution_count": null,
   "id": "1dd9a81c-5ebd-4cd4-9ff1-2341b99c9100",
   "metadata": {},
   "outputs": [],
   "source": []
  },
  {
   "cell_type": "code",
   "execution_count": null,
   "id": "fd472092-bd31-40d2-9ec7-748297d358cf",
   "metadata": {},
   "outputs": [],
   "source": []
  },
  {
   "cell_type": "code",
   "execution_count": null,
   "id": "80f89b79-15ac-48a4-9dd7-d87f6d3da9b4",
   "metadata": {},
   "outputs": [],
   "source": []
  },
  {
   "cell_type": "code",
   "execution_count": null,
   "id": "3d40ce02-1576-4012-862f-b855547f4e00",
   "metadata": {},
   "outputs": [],
   "source": []
  },
  {
   "cell_type": "code",
   "execution_count": null,
   "id": "425e5488-9c9f-48f6-a8fb-b02265334ade",
   "metadata": {},
   "outputs": [],
   "source": []
  },
  {
   "cell_type": "code",
   "execution_count": null,
   "id": "582fff11-54f0-470f-9d24-c5c02d319d5a",
   "metadata": {},
   "outputs": [],
   "source": []
  },
  {
   "cell_type": "code",
   "execution_count": null,
   "id": "9e366720-8cee-4313-a6c8-70bf6e0fb273",
   "metadata": {},
   "outputs": [],
   "source": []
  },
  {
   "cell_type": "code",
   "execution_count": null,
   "id": "897226f1-c4ff-48e5-90c6-dc954e0fb1d4",
   "metadata": {},
   "outputs": [],
   "source": []
  },
  {
   "cell_type": "code",
   "execution_count": null,
   "id": "00dee4ad-a2f4-41ac-a723-1b8c16a9607f",
   "metadata": {},
   "outputs": [],
   "source": []
  },
  {
   "cell_type": "code",
   "execution_count": null,
   "id": "9422fa87-a03a-4943-912c-b2ea2eec2362",
   "metadata": {},
   "outputs": [],
   "source": []
  },
  {
   "cell_type": "code",
   "execution_count": null,
   "id": "3a547e2d-b40f-4c31-95b7-344cf341f612",
   "metadata": {},
   "outputs": [],
   "source": []
  },
  {
   "cell_type": "code",
   "execution_count": null,
   "id": "cf289d4a-2fca-4e78-88e6-280e2bf23708",
   "metadata": {},
   "outputs": [],
   "source": []
  },
  {
   "cell_type": "code",
   "execution_count": null,
   "id": "8d3e25b7-2918-4701-8b97-40a77e7e89cc",
   "metadata": {},
   "outputs": [],
   "source": []
  },
  {
   "cell_type": "code",
   "execution_count": null,
   "id": "902e6860-bba3-45c3-84e2-79dc0aaa078d",
   "metadata": {},
   "outputs": [],
   "source": []
  },
  {
   "cell_type": "code",
   "execution_count": null,
   "id": "785c8eb2-9d4a-419a-842a-d8bb067f817e",
   "metadata": {},
   "outputs": [],
   "source": []
  },
  {
   "cell_type": "code",
   "execution_count": null,
   "id": "e4b1179c-4619-42a5-ba84-66a716f29817",
   "metadata": {},
   "outputs": [],
   "source": []
  },
  {
   "cell_type": "code",
   "execution_count": null,
   "id": "9a14c579-c7cd-4dae-b6f7-58bc7bde37d5",
   "metadata": {},
   "outputs": [],
   "source": []
  },
  {
   "cell_type": "code",
   "execution_count": null,
   "id": "cd7f3f10-1513-4f79-8c62-433a5935f463",
   "metadata": {},
   "outputs": [],
   "source": []
  },
  {
   "cell_type": "code",
   "execution_count": null,
   "id": "fa23d4fa-7fe3-4737-88e7-687bcff6a76e",
   "metadata": {},
   "outputs": [],
   "source": []
  },
  {
   "cell_type": "code",
   "execution_count": null,
   "id": "52036f5e-2dee-455d-9c19-cdf087a43c3a",
   "metadata": {},
   "outputs": [],
   "source": []
  },
  {
   "cell_type": "code",
   "execution_count": null,
   "id": "f56d04df-6e20-4a26-ad61-fd9042a95fe1",
   "metadata": {},
   "outputs": [],
   "source": []
  },
  {
   "cell_type": "code",
   "execution_count": null,
   "id": "13e0ebb4-b197-4cdc-bc1f-a0ae78385fee",
   "metadata": {},
   "outputs": [],
   "source": []
  },
  {
   "cell_type": "code",
   "execution_count": null,
   "id": "6ab3c979-7732-40f5-96b7-d59312c7b9a9",
   "metadata": {},
   "outputs": [],
   "source": []
  },
  {
   "cell_type": "code",
   "execution_count": null,
   "id": "5f246d65-215d-424b-b5b3-972d183b8587",
   "metadata": {},
   "outputs": [],
   "source": []
  },
  {
   "cell_type": "code",
   "execution_count": null,
   "id": "c258533b-cf1a-4450-9470-f2f32240f3b1",
   "metadata": {},
   "outputs": [],
   "source": []
  },
  {
   "cell_type": "code",
   "execution_count": null,
   "id": "b90d8627-91d5-4191-b29b-0ab96c89aa22",
   "metadata": {},
   "outputs": [],
   "source": []
  },
  {
   "cell_type": "code",
   "execution_count": null,
   "id": "96f0d97d-1205-4031-a50b-77ed9b7cf833",
   "metadata": {},
   "outputs": [],
   "source": []
  },
  {
   "cell_type": "code",
   "execution_count": null,
   "id": "93e5b73e-c195-46a4-bfee-c26da8b5eaa4",
   "metadata": {},
   "outputs": [],
   "source": []
  },
  {
   "cell_type": "code",
   "execution_count": null,
   "id": "4e949201-8d6a-44d3-a3b7-9fc682c3b8fe",
   "metadata": {},
   "outputs": [],
   "source": []
  },
  {
   "cell_type": "code",
   "execution_count": null,
   "id": "b0f609f6-5f69-4211-b082-00c1e40b6166",
   "metadata": {},
   "outputs": [],
   "source": []
  },
  {
   "cell_type": "code",
   "execution_count": null,
   "id": "8af9abb9-5a68-4237-b6f0-1a6dd4c2594e",
   "metadata": {},
   "outputs": [],
   "source": []
  },
  {
   "cell_type": "code",
   "execution_count": null,
   "id": "658acb75-b747-4de8-80a4-9c098c79d350",
   "metadata": {},
   "outputs": [],
   "source": []
  },
  {
   "cell_type": "code",
   "execution_count": null,
   "id": "aed80e06-b169-41b9-aac6-a8f134c9a449",
   "metadata": {},
   "outputs": [],
   "source": []
  },
  {
   "cell_type": "code",
   "execution_count": null,
   "id": "65b9838c-9b25-43b2-8cc0-169fae0562f6",
   "metadata": {},
   "outputs": [],
   "source": []
  },
  {
   "cell_type": "code",
   "execution_count": null,
   "id": "b293d5dd-2934-4b41-8296-f33d155138f8",
   "metadata": {},
   "outputs": [],
   "source": []
  },
  {
   "cell_type": "code",
   "execution_count": null,
   "id": "512bfdd6-c7da-4896-a190-cc584735c116",
   "metadata": {},
   "outputs": [],
   "source": []
  },
  {
   "cell_type": "code",
   "execution_count": null,
   "id": "715c27c0-d91e-41ad-9ddd-1f9a0d11e0d3",
   "metadata": {},
   "outputs": [],
   "source": []
  },
  {
   "cell_type": "code",
   "execution_count": null,
   "id": "07b5008e-0674-42b8-a748-b00af73dfa10",
   "metadata": {},
   "outputs": [],
   "source": []
  },
  {
   "cell_type": "code",
   "execution_count": null,
   "id": "a84c6add-a3b8-447c-9a64-74fd09d3740a",
   "metadata": {},
   "outputs": [],
   "source": []
  },
  {
   "cell_type": "code",
   "execution_count": null,
   "id": "f652a4eb-bed4-4a9d-bae3-c5a9f17f7a39",
   "metadata": {},
   "outputs": [],
   "source": []
  },
  {
   "cell_type": "code",
   "execution_count": null,
   "id": "d6833cc5-dc38-444e-901b-f2180e207859",
   "metadata": {},
   "outputs": [],
   "source": []
  },
  {
   "cell_type": "code",
   "execution_count": null,
   "id": "1cd22319-b91c-4297-899a-a3b22cb665a7",
   "metadata": {},
   "outputs": [],
   "source": []
  },
  {
   "cell_type": "code",
   "execution_count": null,
   "id": "b61d4f4f-e650-438b-8841-5e346a8c9c01",
   "metadata": {},
   "outputs": [],
   "source": []
  },
  {
   "cell_type": "code",
   "execution_count": null,
   "id": "f133332d-31b7-4a5a-a7f1-facbd6ed0eed",
   "metadata": {},
   "outputs": [],
   "source": []
  },
  {
   "cell_type": "code",
   "execution_count": null,
   "id": "7cd10a76-6267-4d8d-bf25-d3c1acac357c",
   "metadata": {},
   "outputs": [],
   "source": []
  },
  {
   "cell_type": "code",
   "execution_count": null,
   "id": "97bd69f7-0543-4708-8897-9f133a770b8b",
   "metadata": {},
   "outputs": [],
   "source": []
  },
  {
   "cell_type": "code",
   "execution_count": null,
   "id": "bcbbcbdc-8fe3-47be-9f25-40390e7d4cb4",
   "metadata": {},
   "outputs": [],
   "source": []
  },
  {
   "cell_type": "code",
   "execution_count": null,
   "id": "7a40feec-460c-42d7-8918-a568f64d06ab",
   "metadata": {},
   "outputs": [],
   "source": []
  },
  {
   "cell_type": "code",
   "execution_count": null,
   "id": "e8c372a0-a734-449b-8124-26e07e3a9b8a",
   "metadata": {},
   "outputs": [],
   "source": []
  },
  {
   "cell_type": "code",
   "execution_count": null,
   "id": "29f7f55b-257f-48bb-9856-7d511ecc7363",
   "metadata": {},
   "outputs": [],
   "source": []
  },
  {
   "cell_type": "code",
   "execution_count": null,
   "id": "b900635e-953e-4313-8331-3a8eb1e4302e",
   "metadata": {},
   "outputs": [],
   "source": []
  },
  {
   "cell_type": "code",
   "execution_count": null,
   "id": "ff0953f6-d77b-43a9-bb52-34786c4c5420",
   "metadata": {},
   "outputs": [],
   "source": []
  },
  {
   "cell_type": "code",
   "execution_count": null,
   "id": "7c054b7a-5f35-4507-a76a-79e0a03ed6f4",
   "metadata": {},
   "outputs": [],
   "source": []
  },
  {
   "cell_type": "code",
   "execution_count": null,
   "id": "e18ab37e-f8e4-467f-9372-3455fca75570",
   "metadata": {},
   "outputs": [],
   "source": []
  },
  {
   "cell_type": "code",
   "execution_count": null,
   "id": "ba8a5314-ca82-48fa-82cc-c6ecc65e95c8",
   "metadata": {},
   "outputs": [],
   "source": []
  },
  {
   "cell_type": "code",
   "execution_count": null,
   "id": "8ef18de0-c30b-4d2a-82b7-3b229b6d8b77",
   "metadata": {},
   "outputs": [],
   "source": []
  },
  {
   "cell_type": "code",
   "execution_count": null,
   "id": "1232f40a-bd9d-4ab1-8c72-785a3e4991ab",
   "metadata": {},
   "outputs": [],
   "source": []
  },
  {
   "cell_type": "code",
   "execution_count": null,
   "id": "4015b033-a70d-4037-838b-85af253786f2",
   "metadata": {},
   "outputs": [],
   "source": []
  },
  {
   "cell_type": "code",
   "execution_count": null,
   "id": "45a0f0f3-7fd8-490a-bdc5-661fc0b04f3d",
   "metadata": {},
   "outputs": [],
   "source": []
  },
  {
   "cell_type": "code",
   "execution_count": null,
   "id": "db75a8cf-a77d-4997-b90a-a23d089428e1",
   "metadata": {},
   "outputs": [],
   "source": []
  },
  {
   "cell_type": "code",
   "execution_count": null,
   "id": "717b0737-f220-4d4c-813e-53c5dc403cfc",
   "metadata": {},
   "outputs": [],
   "source": []
  },
  {
   "cell_type": "code",
   "execution_count": null,
   "id": "1e2833d8-ad0f-4ad3-b8e4-49e875967f6a",
   "metadata": {},
   "outputs": [],
   "source": []
  },
  {
   "cell_type": "code",
   "execution_count": null,
   "id": "3b541771-5248-49df-9e1f-eb81327f0fc7",
   "metadata": {},
   "outputs": [],
   "source": []
  },
  {
   "cell_type": "code",
   "execution_count": null,
   "id": "45abb30d-f3a4-4096-aeff-b3d56c1024de",
   "metadata": {},
   "outputs": [],
   "source": []
  },
  {
   "cell_type": "code",
   "execution_count": null,
   "id": "4400e199-dc48-453e-a05c-ecde1d554ce3",
   "metadata": {},
   "outputs": [],
   "source": []
  },
  {
   "cell_type": "code",
   "execution_count": null,
   "id": "c134ec66-e5a9-419e-8898-1ac47e4f9580",
   "metadata": {},
   "outputs": [],
   "source": []
  },
  {
   "cell_type": "code",
   "execution_count": null,
   "id": "55663f09-c1eb-47ba-bb7d-e69167fe94b5",
   "metadata": {},
   "outputs": [],
   "source": []
  },
  {
   "cell_type": "code",
   "execution_count": null,
   "id": "b9438ee5-a1d4-4d7d-b657-2f69ef632194",
   "metadata": {},
   "outputs": [],
   "source": []
  },
  {
   "cell_type": "code",
   "execution_count": null,
   "id": "99cf1e94-ed79-44cd-8645-b5be4ea5a141",
   "metadata": {},
   "outputs": [],
   "source": []
  },
  {
   "cell_type": "code",
   "execution_count": null,
   "id": "d7f30670-4163-490b-8669-34b7fd6a98a1",
   "metadata": {},
   "outputs": [],
   "source": []
  },
  {
   "cell_type": "code",
   "execution_count": null,
   "id": "3f520b2b-1947-451d-8278-f43882b4e752",
   "metadata": {},
   "outputs": [],
   "source": []
  },
  {
   "cell_type": "code",
   "execution_count": null,
   "id": "6ecb1b79-c4c9-4d12-bf20-fbe7b7d830c4",
   "metadata": {},
   "outputs": [],
   "source": []
  },
  {
   "cell_type": "code",
   "execution_count": null,
   "id": "d6cdaac4-27e2-4782-8271-9179377aff66",
   "metadata": {},
   "outputs": [],
   "source": []
  },
  {
   "cell_type": "code",
   "execution_count": null,
   "id": "195fc615-7bb3-40ae-b1af-657e516dffa4",
   "metadata": {},
   "outputs": [],
   "source": []
  },
  {
   "cell_type": "code",
   "execution_count": null,
   "id": "71321f09-6068-4aeb-9d68-df80aa209ff9",
   "metadata": {},
   "outputs": [],
   "source": []
  },
  {
   "cell_type": "code",
   "execution_count": null,
   "id": "aa81b48d-9233-448e-9fca-83ec0197d255",
   "metadata": {},
   "outputs": [],
   "source": []
  },
  {
   "cell_type": "code",
   "execution_count": null,
   "id": "656cf169-de2b-4b37-bc42-b6956725dadc",
   "metadata": {},
   "outputs": [],
   "source": []
  },
  {
   "cell_type": "code",
   "execution_count": null,
   "id": "15233c0d-f073-4c33-a654-2de1e507b817",
   "metadata": {},
   "outputs": [],
   "source": []
  },
  {
   "cell_type": "code",
   "execution_count": null,
   "id": "0a814880-ed75-4433-b912-715a3b246211",
   "metadata": {},
   "outputs": [],
   "source": []
  }
 ],
 "metadata": {
  "kernelspec": {
   "display_name": "Python 3 (ipykernel)",
   "language": "python",
   "name": "python3"
  },
  "language_info": {
   "codemirror_mode": {
    "name": "ipython",
    "version": 3
   },
   "file_extension": ".py",
   "mimetype": "text/x-python",
   "name": "python",
   "nbconvert_exporter": "python",
   "pygments_lexer": "ipython3",
   "version": "3.9.2"
  }
 },
 "nbformat": 4,
 "nbformat_minor": 5
}
