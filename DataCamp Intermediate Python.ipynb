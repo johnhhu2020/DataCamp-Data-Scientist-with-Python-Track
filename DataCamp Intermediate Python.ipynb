{
 "cells": [
  {
   "cell_type": "markdown",
   "id": "3657150a-0081-480d-abcb-3f094e8cf87f",
   "metadata": {},
   "source": [
    "## Intermediate Python\n",
    "\n",
    "\n",
    "\n"
   ]
  },
  {
   "cell_type": "markdown",
   "id": "11045f35-da25-4d3b-a308-a8b9365e2151",
   "metadata": {},
   "source": [
    "##  Matplotlib\n",
    "Free\n",
    "0%\n",
    "\n",
    "Data visualization is a key skill for aspiring data scientists. Matplotlib makes it easy to create meaningful and insightful plots. In this chapter, you’ll learn how to build various types of plots, and customize them to be more visually appealing and interpretable.\n",
    "\n",
    "    Basic plots with Matplotlib    50 xp\n",
    "    Line plot (1)    100 xp\n",
    "    Line Plot (2): Interpretation    50 xp\n",
    "    Line plot (3)    100 xp\n",
    "    Scatter Plot (1)    100 xp\n",
    "    Scatter plot (2)    100 xp\n",
    "    Histogram    50 xp\n",
    "    Build a histogram (1)    100 xp\n",
    "    Build a histogram (2): bins    100 xp\n",
    "    Build a histogram (3): compare    100 xp\n",
    "    Choose the right plot (1)    50 xp\n",
    "    Choose the right plot (2)    50 xp\n",
    "    Customization    50 xp\n",
    "    Labels    100 xp\n",
    "    Ticks    100 xp\n",
    "    Sizes    100 xp\n",
    "    Colors    100 xp\n",
    "    Additional Customizations    100 xp\n",
    "    Interpretation    50 xp\n"
   ]
  },
  {
   "cell_type": "markdown",
   "id": "eeed5c33-a2df-4f15-972c-bb20baca1e92",
   "metadata": {},
   "source": [
    "##  Dictionaries & Pandas\n",
    "0%\n",
    "\n",
    "Learn about the dictionary, an alternative to the Python list, and the pandas DataFrame, the de facto standard to work with tabular data in Python. You will get hands-on practice with creating and manipulating datasets, and you’ll learn how to access the information you need from these data structures.\n",
    "\n",
    "    Dictionaries, Part 1    50 xp\n",
    "    Motivation for dictionaries    100 xp\n",
    "    Create dictionary    100 xp\n",
    "    Access dictionary    100 xp\n",
    "    Dictionaries, Part 2    50 xp\n",
    "    Dictionary Manipulation (1)    100 xp\n",
    "    Dictionary Manipulation (2)    100 xp\n",
    "    Dictionariception    100 xp\n",
    "    Pandas, Part 1    50 xp\n",
    "    Dictionary to DataFrame (1)    100 xp\n",
    "    Dictionary to DataFrame (2)    100 xp\n",
    "    CSV to DataFrame (1)    100 xp\n",
    "    CSV to DataFrame (2)    100 xp\n",
    "    Pandas, Part 2    50 xp\n",
    "    Square Brackets (1)    100 xp\n",
    "    Square Brackets (2)    100 xp\n",
    "    loc and iloc (1)    100 xp\n",
    "    loc and iloc (2)    100 xp\n",
    "    loc and iloc (3)    100 xp \n",
    "    "
   ]
  },
  {
   "cell_type": "markdown",
   "id": "02dab70e-d3fd-4c9d-88d0-3899dfb9caed",
   "metadata": {},
   "source": [
    "## Logic, Control Flow and Filtering\n",
    "0%\n",
    "\n",
    "Boolean logic is the foundation of decision-making in Python programs. Learn about different comparison operators, how to combine them with Boolean operators, and how to use the Boolean outcomes in control structures. You'll also learn to filter data in pandas DataFrames using logic.\n",
    "\n",
    "    Comparison Operators    50 xp\n",
    "    Equality    100 xp\n",
    "    Greater and less than    100 xp\n",
    "    Compare arrays    100 xp\n",
    "    Boolean Operators    50 xp\n",
    "    and, or, not (1)    100 xp\n",
    "    and, or, not (2)    50 xp\n",
    "    Boolean operators with Numpy    100 xp\n",
    "    if, elif, else    50 xp\n",
    "    Warmup    50 xp\n",
    "    if    100 xp\n",
    "    Add else    100 xp\n",
    "    Customize further: elif    100 xp\n",
    "    Filtering pandas DataFrames    50 xp\n",
    "    Driving right (1)    100 xp\n",
    "    Driving right (2)    100 xp\n",
    "    Cars per capita (1)    100 xp\n",
    "    Cars per capita (2)    100 xp \n",
    "    "
   ]
  },
  {
   "cell_type": "markdown",
   "id": "c0265730-3d5a-4462-ae7f-fa3663b35860",
   "metadata": {},
   "source": [
    "##  Loops\n",
    "0%\n",
    "\n",
    "There are several techniques you can use to repeatedly execute Python code. While loops are like repeated if statements, the for loop iterates over all kinds of data structures. Learn all about them in this chapter.\n",
    "\n",
    "    while loop    50 xp\n",
    "    while: warming up    50 xp\n",
    "    Basic while loop    100 xp\n",
    "    Add conditionals    100 xp\n",
    "    for loop    50 xp\n",
    "    Loop over a list    100 xp\n",
    "    Indexes and values (1)    100 xp\n",
    "    Indexes and values (2)    100 xp\n",
    "    Loop over list of lists    100 xp\n",
    "    Loop Data Structures Part 1    50 xp\n",
    "    Loop over dictionary    100 xp\n",
    "    Loop over Numpy array    100 xp\n",
    "    Loop Data Structures Part 2    50 xp\n",
    "    Loop over DataFrame (1)    100 xp\n",
    "    Loop over DataFrame (2)    100 xp\n",
    "    Add column (1)    100 xp\n",
    "    Add column (2)    100 xp \n",
    "    "
   ]
  },
  {
   "cell_type": "markdown",
   "id": "5dac3d00-60ce-4ec9-b51d-4d4f5fcd7805",
   "metadata": {},
   "source": [
    "##  Case Study: Hacker Statistics\n",
    "0%\n",
    "\n",
    "This chapter will allow you to apply all the concepts you've learned in this course. You will use hacker statistics to calculate your chances of winning a bet. Use random number generators, loops, and Matplotlib to gain a competitive edge!\n",
    "\n",
    "    Random Numbers    50 xp\n",
    "    Random float    100 xp\n",
    "    Roll the dice    100 xp\n",
    "    Determine your next move    100 xp\n",
    "    Random Walk    50 xp\n",
    "    The next step    100 xp\n",
    "    How low can you go?    100 xp\n",
    "    Visualize the walk    100 xp\n",
    "    Distribution    50 xp\n",
    "    Simulate multiple walks    100 xp\n",
    "    Visualize all walks    100 xp\n",
    "    Implement clumsiness    100 xp\n",
    "    Plot the distribution    100 xp\n",
    "    Calculate the odds    50 xp\n"
   ]
  },
  {
   "cell_type": "code",
   "execution_count": null,
   "id": "8c82ceee-2298-461b-8297-c58a43ba838a",
   "metadata": {},
   "outputs": [],
   "source": []
  },
  {
   "cell_type": "code",
   "execution_count": null,
   "id": "d0e2c506-6b09-4cc8-be8a-3d24a321d0df",
   "metadata": {},
   "outputs": [],
   "source": []
  },
  {
   "cell_type": "code",
   "execution_count": null,
   "id": "35252ce7-11a9-4918-bdd6-7e8f084e0512",
   "metadata": {},
   "outputs": [],
   "source": []
  },
  {
   "cell_type": "code",
   "execution_count": null,
   "id": "374cc034-7c22-4fd9-8579-d92f41642d7b",
   "metadata": {},
   "outputs": [],
   "source": []
  },
  {
   "cell_type": "code",
   "execution_count": null,
   "id": "33d05435-fd8b-4328-87e2-9e15cbb601e1",
   "metadata": {},
   "outputs": [],
   "source": []
  },
  {
   "cell_type": "code",
   "execution_count": null,
   "id": "fbfd18b4-56f4-46af-9939-51ac03234260",
   "metadata": {},
   "outputs": [],
   "source": []
  },
  {
   "cell_type": "code",
   "execution_count": null,
   "id": "8f103769-1964-4b2c-a380-187cf9ced343",
   "metadata": {},
   "outputs": [],
   "source": []
  },
  {
   "cell_type": "code",
   "execution_count": null,
   "id": "56ea0a52-6acd-4cdf-bb91-8ce5291d2f30",
   "metadata": {},
   "outputs": [],
   "source": []
  },
  {
   "cell_type": "code",
   "execution_count": null,
   "id": "be993786-ebf8-4ab0-a2bf-9fd35f4c5750",
   "metadata": {},
   "outputs": [],
   "source": []
  },
  {
   "cell_type": "code",
   "execution_count": null,
   "id": "cccf7544-2858-402c-9915-30c22ce5eb28",
   "metadata": {},
   "outputs": [],
   "source": []
  },
  {
   "cell_type": "code",
   "execution_count": null,
   "id": "a809a129-d6fc-4117-b330-134523be20d0",
   "metadata": {},
   "outputs": [],
   "source": []
  },
  {
   "cell_type": "code",
   "execution_count": null,
   "id": "e4a7d5f8-2c97-4447-b6da-6cd4f3d99211",
   "metadata": {},
   "outputs": [],
   "source": []
  },
  {
   "cell_type": "code",
   "execution_count": null,
   "id": "4fff1ae1-3824-4653-9bfe-fef7cbd32949",
   "metadata": {},
   "outputs": [],
   "source": []
  },
  {
   "cell_type": "code",
   "execution_count": null,
   "id": "2002eeba-2a95-45f3-9b5b-30a0fa6c3dc3",
   "metadata": {},
   "outputs": [],
   "source": []
  },
  {
   "cell_type": "code",
   "execution_count": null,
   "id": "2f1d6bd7-4c5a-44e6-91ed-99428dcce762",
   "metadata": {},
   "outputs": [],
   "source": []
  },
  {
   "cell_type": "code",
   "execution_count": null,
   "id": "9ecce926-ed2b-4d2f-8192-9d4858c502a9",
   "metadata": {},
   "outputs": [],
   "source": []
  },
  {
   "cell_type": "code",
   "execution_count": null,
   "id": "6ae54457-4d30-44ca-af78-7e3770998b76",
   "metadata": {},
   "outputs": [],
   "source": []
  },
  {
   "cell_type": "code",
   "execution_count": null,
   "id": "65827cd9-b48c-49ca-aff1-d35147f00b62",
   "metadata": {},
   "outputs": [],
   "source": []
  },
  {
   "cell_type": "code",
   "execution_count": null,
   "id": "889320b4-ecbb-465b-a0d8-9a33c3f6a05a",
   "metadata": {},
   "outputs": [],
   "source": []
  },
  {
   "cell_type": "code",
   "execution_count": null,
   "id": "760827ee-5c35-4f07-9775-974ef38d7998",
   "metadata": {},
   "outputs": [],
   "source": []
  },
  {
   "cell_type": "code",
   "execution_count": null,
   "id": "a4a85357-b8f4-4269-8897-99f960a481ae",
   "metadata": {},
   "outputs": [],
   "source": []
  },
  {
   "cell_type": "code",
   "execution_count": null,
   "id": "f8f8218d-1413-4657-9387-200681274d44",
   "metadata": {},
   "outputs": [],
   "source": []
  },
  {
   "cell_type": "code",
   "execution_count": null,
   "id": "9e4822e7-2750-4026-ad19-af6aed1e5ee5",
   "metadata": {},
   "outputs": [],
   "source": []
  },
  {
   "cell_type": "code",
   "execution_count": null,
   "id": "71ccae91-58b2-4503-b75f-0b51845c1103",
   "metadata": {},
   "outputs": [],
   "source": []
  },
  {
   "cell_type": "code",
   "execution_count": null,
   "id": "c0ab6d6f-f9ea-4b11-932c-d42791eebcf4",
   "metadata": {},
   "outputs": [],
   "source": []
  },
  {
   "cell_type": "code",
   "execution_count": null,
   "id": "2508d6e1-859a-40c7-a448-b16b1cf58bd1",
   "metadata": {},
   "outputs": [],
   "source": []
  },
  {
   "cell_type": "code",
   "execution_count": null,
   "id": "1fc009ef-774a-42c4-a290-acc29b62e8e6",
   "metadata": {},
   "outputs": [],
   "source": []
  },
  {
   "cell_type": "code",
   "execution_count": null,
   "id": "139d4fe6-82e7-429a-9143-b21d5f2224ec",
   "metadata": {},
   "outputs": [],
   "source": []
  },
  {
   "cell_type": "code",
   "execution_count": null,
   "id": "86676fb4-7eca-4890-b4ec-44aa804572fe",
   "metadata": {},
   "outputs": [],
   "source": []
  },
  {
   "cell_type": "code",
   "execution_count": null,
   "id": "761ae3b2-1941-400c-b2cd-45e11563f552",
   "metadata": {},
   "outputs": [],
   "source": []
  },
  {
   "cell_type": "code",
   "execution_count": null,
   "id": "bd106c5c-0cb4-4080-a440-835f3b049df6",
   "metadata": {},
   "outputs": [],
   "source": []
  },
  {
   "cell_type": "code",
   "execution_count": null,
   "id": "0a9d3c96-28dc-4b66-8d76-f8f2f4e23177",
   "metadata": {},
   "outputs": [],
   "source": []
  },
  {
   "cell_type": "code",
   "execution_count": null,
   "id": "ee85d779-245b-453c-a93e-25e9cebcae21",
   "metadata": {},
   "outputs": [],
   "source": []
  },
  {
   "cell_type": "code",
   "execution_count": null,
   "id": "4527d289-78db-4f4d-be80-91e34c85115f",
   "metadata": {},
   "outputs": [],
   "source": []
  },
  {
   "cell_type": "code",
   "execution_count": null,
   "id": "f2b27f3b-4ba6-4e19-812c-dc1640191a30",
   "metadata": {},
   "outputs": [],
   "source": []
  },
  {
   "cell_type": "code",
   "execution_count": null,
   "id": "b2fc54f3-3e41-4c28-96e6-d76c5ad3f98a",
   "metadata": {},
   "outputs": [],
   "source": []
  },
  {
   "cell_type": "code",
   "execution_count": null,
   "id": "0f6ad274-0547-437a-ab5b-634f378b6df5",
   "metadata": {},
   "outputs": [],
   "source": []
  },
  {
   "cell_type": "code",
   "execution_count": null,
   "id": "703871d3-8cd5-4c9d-8b93-32dba35d7326",
   "metadata": {},
   "outputs": [],
   "source": []
  },
  {
   "cell_type": "code",
   "execution_count": null,
   "id": "fb943b5a-244f-43f4-992f-3d11175f1d34",
   "metadata": {},
   "outputs": [],
   "source": []
  },
  {
   "cell_type": "code",
   "execution_count": null,
   "id": "fd1e3858-9f70-458a-a156-5535d22bd522",
   "metadata": {},
   "outputs": [],
   "source": []
  },
  {
   "cell_type": "code",
   "execution_count": null,
   "id": "33a853d8-4676-447d-a708-c4e15f78f212",
   "metadata": {},
   "outputs": [],
   "source": []
  },
  {
   "cell_type": "code",
   "execution_count": null,
   "id": "963dc42f-bf87-4033-b68b-fa95672e2c14",
   "metadata": {},
   "outputs": [],
   "source": []
  },
  {
   "cell_type": "code",
   "execution_count": null,
   "id": "9a864df0-8677-463c-ae8f-1329c508a6f8",
   "metadata": {},
   "outputs": [],
   "source": []
  },
  {
   "cell_type": "code",
   "execution_count": null,
   "id": "789a16d4-d4e6-4544-8e11-f98b4752c97e",
   "metadata": {},
   "outputs": [],
   "source": []
  },
  {
   "cell_type": "code",
   "execution_count": null,
   "id": "0fb9fdbd-b4aa-4301-917f-d0cd63c19993",
   "metadata": {},
   "outputs": [],
   "source": []
  },
  {
   "cell_type": "code",
   "execution_count": null,
   "id": "df2f36af-0f12-46b7-a08f-7679f709f252",
   "metadata": {},
   "outputs": [],
   "source": []
  },
  {
   "cell_type": "code",
   "execution_count": null,
   "id": "41d90f8a-fc40-4281-87f6-804ddec145e0",
   "metadata": {},
   "outputs": [],
   "source": []
  },
  {
   "cell_type": "code",
   "execution_count": null,
   "id": "3065ca1c-7d18-42a4-8182-a38d3ce6581b",
   "metadata": {},
   "outputs": [],
   "source": []
  },
  {
   "cell_type": "code",
   "execution_count": null,
   "id": "0ed2f5f6-e3ac-42fc-927a-1c9cebbf8284",
   "metadata": {},
   "outputs": [],
   "source": []
  },
  {
   "cell_type": "code",
   "execution_count": null,
   "id": "6357aaaf-9962-4143-8f51-06c6ffc00984",
   "metadata": {},
   "outputs": [],
   "source": []
  },
  {
   "cell_type": "code",
   "execution_count": null,
   "id": "6b25ccd2-b3b0-471b-ac74-57298e452979",
   "metadata": {},
   "outputs": [],
   "source": []
  },
  {
   "cell_type": "code",
   "execution_count": null,
   "id": "4ecf3d8e-720a-4951-bfb9-9d892ac5a1a1",
   "metadata": {},
   "outputs": [],
   "source": []
  },
  {
   "cell_type": "code",
   "execution_count": null,
   "id": "55bbf131-1c13-4534-861e-f332830537d2",
   "metadata": {},
   "outputs": [],
   "source": []
  },
  {
   "cell_type": "code",
   "execution_count": null,
   "id": "642ad63f-5eae-4ff6-b5a8-4d33dd35e115",
   "metadata": {},
   "outputs": [],
   "source": []
  },
  {
   "cell_type": "code",
   "execution_count": null,
   "id": "b63d0344-b481-47b0-b933-6f860690a31e",
   "metadata": {},
   "outputs": [],
   "source": []
  },
  {
   "cell_type": "code",
   "execution_count": null,
   "id": "798313ef-d137-447d-8b88-3d532fca03f7",
   "metadata": {},
   "outputs": [],
   "source": []
  },
  {
   "cell_type": "code",
   "execution_count": null,
   "id": "657d122b-5c5c-4752-8867-62876b2aaa9f",
   "metadata": {},
   "outputs": [],
   "source": []
  },
  {
   "cell_type": "code",
   "execution_count": null,
   "id": "5b3322a2-5c26-4d30-a8ac-a921e66b6594",
   "metadata": {},
   "outputs": [],
   "source": []
  },
  {
   "cell_type": "code",
   "execution_count": null,
   "id": "efa1a219-adc4-4917-8a69-0d665b1e6dc3",
   "metadata": {},
   "outputs": [],
   "source": []
  },
  {
   "cell_type": "code",
   "execution_count": null,
   "id": "bd5c8306-b24a-463a-b45a-db49b7c79e83",
   "metadata": {},
   "outputs": [],
   "source": []
  },
  {
   "cell_type": "code",
   "execution_count": null,
   "id": "f64dc65e-f7eb-49eb-8433-000eec690601",
   "metadata": {},
   "outputs": [],
   "source": []
  },
  {
   "cell_type": "code",
   "execution_count": null,
   "id": "bbab5aea-8d5d-4a89-a2d6-d70b125f7a98",
   "metadata": {},
   "outputs": [],
   "source": []
  },
  {
   "cell_type": "code",
   "execution_count": null,
   "id": "ba2bd662-b8b7-4c9c-8ba2-c3148209fd00",
   "metadata": {},
   "outputs": [],
   "source": []
  },
  {
   "cell_type": "code",
   "execution_count": null,
   "id": "c61f6479-946a-4e67-90b2-fd8eaf6c88ca",
   "metadata": {},
   "outputs": [],
   "source": []
  },
  {
   "cell_type": "code",
   "execution_count": null,
   "id": "041b56f5-84dc-4c27-8644-daa04e78049d",
   "metadata": {},
   "outputs": [],
   "source": []
  },
  {
   "cell_type": "code",
   "execution_count": null,
   "id": "a6dd7866-f756-4046-a42d-717b92f4c793",
   "metadata": {},
   "outputs": [],
   "source": []
  },
  {
   "cell_type": "code",
   "execution_count": null,
   "id": "25136729-159a-4131-a0f9-65e944d8c54e",
   "metadata": {},
   "outputs": [],
   "source": []
  },
  {
   "cell_type": "code",
   "execution_count": null,
   "id": "fe0180e1-294e-40f0-b9db-c4e06e89b9a7",
   "metadata": {},
   "outputs": [],
   "source": []
  },
  {
   "cell_type": "code",
   "execution_count": null,
   "id": "36371063-1ab9-4d43-9a4a-f0df54dadf2d",
   "metadata": {},
   "outputs": [],
   "source": []
  },
  {
   "cell_type": "code",
   "execution_count": null,
   "id": "0630aef6-8ea3-4a34-8c8f-7bc39568c363",
   "metadata": {},
   "outputs": [],
   "source": []
  },
  {
   "cell_type": "code",
   "execution_count": null,
   "id": "9e8e85ef-c4a2-4406-adef-9fd529833b61",
   "metadata": {},
   "outputs": [],
   "source": []
  },
  {
   "cell_type": "code",
   "execution_count": null,
   "id": "77f8978c-9bc4-4376-b5f5-216e4b51bc0f",
   "metadata": {},
   "outputs": [],
   "source": []
  },
  {
   "cell_type": "code",
   "execution_count": null,
   "id": "2d8480da-ec42-4cf8-a55f-b919fd385a83",
   "metadata": {},
   "outputs": [],
   "source": []
  },
  {
   "cell_type": "code",
   "execution_count": null,
   "id": "37a746ba-81a4-4cc9-87de-c8055e8d94eb",
   "metadata": {},
   "outputs": [],
   "source": []
  },
  {
   "cell_type": "code",
   "execution_count": null,
   "id": "a44f4dcb-414c-4552-bf74-075ba7f9f604",
   "metadata": {},
   "outputs": [],
   "source": []
  },
  {
   "cell_type": "code",
   "execution_count": null,
   "id": "8dff722b-5198-4ea7-813a-70351017476c",
   "metadata": {},
   "outputs": [],
   "source": []
  },
  {
   "cell_type": "code",
   "execution_count": null,
   "id": "0917ba7f-343e-4cb7-a655-e2f6d2c16999",
   "metadata": {},
   "outputs": [],
   "source": []
  },
  {
   "cell_type": "code",
   "execution_count": null,
   "id": "9f8c24a8-9b9e-4f88-8b1b-8cef7554ac46",
   "metadata": {},
   "outputs": [],
   "source": []
  },
  {
   "cell_type": "code",
   "execution_count": null,
   "id": "d5a27ee1-1a3d-442b-871c-b7f00a031abe",
   "metadata": {},
   "outputs": [],
   "source": []
  },
  {
   "cell_type": "code",
   "execution_count": null,
   "id": "a0b92b5a-9419-4e27-8004-87293fde9a29",
   "metadata": {},
   "outputs": [],
   "source": []
  },
  {
   "cell_type": "code",
   "execution_count": null,
   "id": "195fc615-7bb3-40ae-b1af-657e516dffa4",
   "metadata": {},
   "outputs": [],
   "source": []
  },
  {
   "cell_type": "code",
   "execution_count": null,
   "id": "71321f09-6068-4aeb-9d68-df80aa209ff9",
   "metadata": {},
   "outputs": [],
   "source": []
  },
  {
   "cell_type": "code",
   "execution_count": null,
   "id": "aa81b48d-9233-448e-9fca-83ec0197d255",
   "metadata": {},
   "outputs": [],
   "source": []
  },
  {
   "cell_type": "code",
   "execution_count": null,
   "id": "656cf169-de2b-4b37-bc42-b6956725dadc",
   "metadata": {},
   "outputs": [],
   "source": []
  },
  {
   "cell_type": "code",
   "execution_count": null,
   "id": "15233c0d-f073-4c33-a654-2de1e507b817",
   "metadata": {},
   "outputs": [],
   "source": []
  },
  {
   "cell_type": "code",
   "execution_count": null,
   "id": "0a814880-ed75-4433-b912-715a3b246211",
   "metadata": {},
   "outputs": [],
   "source": []
  }
 ],
 "metadata": {
  "kernelspec": {
   "display_name": "Python 3 (ipykernel)",
   "language": "python",
   "name": "python3"
  },
  "language_info": {
   "codemirror_mode": {
    "name": "ipython",
    "version": 3
   },
   "file_extension": ".py",
   "mimetype": "text/x-python",
   "name": "python",
   "nbconvert_exporter": "python",
   "pygments_lexer": "ipython3",
   "version": "3.9.2"
  }
 },
 "nbformat": 4,
 "nbformat_minor": 5
}
