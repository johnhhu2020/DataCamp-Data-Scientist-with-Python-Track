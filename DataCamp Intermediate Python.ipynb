{
 "cells": [
  {
   "cell_type": "markdown",
   "id": "3657150a-0081-480d-abcb-3f094e8cf87f",
   "metadata": {},
   "source": [
    "## Intermediate Python\n",
    "\n",
    "\n",
    "\n"
   ]
  },
  {
   "cell_type": "markdown",
   "id": "11045f35-da25-4d3b-a308-a8b9365e2151",
   "metadata": {},
   "source": [
    "##  Matplotlib\n",
    "Free\n",
    "0%\n",
    "\n",
    "Data visualization is a key skill for aspiring data scientists. Matplotlib makes it easy to create meaningful and insightful plots. In this chapter, you’ll learn how to build various types of plots, and customize them to be more visually appealing and interpretable.\n",
    "\n",
    "    Basic plots with Matplotlib    50 xp\n",
    "    Line plot (1)    100 xp\n",
    "    Line Plot (2): Interpretation    50 xp\n",
    "    Line plot (3)    100 xp\n",
    "    Scatter Plot (1)    100 xp\n",
    "    Scatter plot (2)    100 xp\n",
    "    Histogram    50 xp\n",
    "    Build a histogram (1)    100 xp\n",
    "    Build a histogram (2): bins    100 xp\n",
    "    Build a histogram (3): compare    100 xp\n",
    "    Choose the right plot (1)    50 xp\n",
    "    Choose the right plot (2)    50 xp\n",
    "    Customization    50 xp\n",
    "    Labels    100 xp\n",
    "    Ticks    100 xp\n",
    "    Sizes    100 xp\n",
    "    Colors    100 xp\n",
    "    Additional Customizations    100 xp\n",
    "    Interpretation    50 xp\n"
   ]
  },
  {
   "cell_type": "markdown",
   "id": "eeed5c33-a2df-4f15-972c-bb20baca1e92",
   "metadata": {},
   "source": [
    "##  Dictionaries & Pandas\n",
    "0%\n",
    "\n",
    "Learn about the dictionary, an alternative to the Python list, and the pandas DataFrame, the de facto standard to work with tabular data in Python. You will get hands-on practice with creating and manipulating datasets, and you’ll learn how to access the information you need from these data structures.\n",
    "\n",
    "    Dictionaries, Part 1    50 xp\n",
    "    Motivation for dictionaries    100 xp\n",
    "    Create dictionary    100 xp\n",
    "    Access dictionary    100 xp\n",
    "    Dictionaries, Part 2    50 xp\n",
    "    Dictionary Manipulation (1)    100 xp\n",
    "    Dictionary Manipulation (2)    100 xp\n",
    "    Dictionariception    100 xp\n",
    "    Pandas, Part 1    50 xp\n",
    "    Dictionary to DataFrame (1)    100 xp\n",
    "    Dictionary to DataFrame (2)    100 xp\n",
    "    CSV to DataFrame (1)    100 xp\n",
    "    CSV to DataFrame (2)    100 xp\n",
    "    Pandas, Part 2    50 xp\n",
    "    Square Brackets (1)    100 xp\n",
    "    Square Brackets (2)    100 xp\n",
    "    loc and iloc (1)    100 xp\n",
    "    loc and iloc (2)    100 xp\n",
    "    loc and iloc (3)    100 xp \n",
    "    "
   ]
  },
  {
   "cell_type": "markdown",
   "id": "02dab70e-d3fd-4c9d-88d0-3899dfb9caed",
   "metadata": {},
   "source": [
    "## Logic, Control Flow and Filtering\n",
    "0%\n",
    "\n",
    "Boolean logic is the foundation of decision-making in Python programs. Learn about different comparison operators, how to combine them with Boolean operators, and how to use the Boolean outcomes in control structures. You'll also learn to filter data in pandas DataFrames using logic.\n",
    "\n",
    "    Comparison Operators    50 xp\n",
    "    Equality    100 xp\n",
    "    Greater and less than    100 xp\n",
    "    Compare arrays    100 xp\n",
    "    Boolean Operators    50 xp\n",
    "    and, or, not (1)    100 xp\n",
    "    and, or, not (2)    50 xp\n",
    "    Boolean operators with Numpy    100 xp\n",
    "    if, elif, else    50 xp\n",
    "    Warmup    50 xp\n",
    "    if    100 xp\n",
    "    Add else    100 xp\n",
    "    Customize further: elif    100 xp\n",
    "    Filtering pandas DataFrames    50 xp\n",
    "    Driving right (1)    100 xp\n",
    "    Driving right (2)    100 xp\n",
    "    Cars per capita (1)    100 xp\n",
    "    Cars per capita (2)    100 xp \n",
    "    "
   ]
  },
  {
   "cell_type": "markdown",
   "id": "c0265730-3d5a-4462-ae7f-fa3663b35860",
   "metadata": {},
   "source": [
    "##  Loops\n",
    "0%\n",
    "\n",
    "There are several techniques you can use to repeatedly execute Python code. While loops are like repeated if statements, the for loop iterates over all kinds of data structures. Learn all about them in this chapter.\n",
    "\n",
    "    while loop    50 xp\n",
    "    while: warming up    50 xp\n",
    "    Basic while loop    100 xp\n",
    "    Add conditionals    100 xp\n",
    "    for loop    50 xp\n",
    "    Loop over a list    100 xp\n",
    "    Indexes and values (1)    100 xp\n",
    "    Indexes and values (2)    100 xp\n",
    "    Loop over list of lists    100 xp\n",
    "    Loop Data Structures Part 1    50 xp\n",
    "    Loop over dictionary    100 xp\n",
    "    Loop over Numpy array    100 xp\n",
    "    Loop Data Structures Part 2    50 xp\n",
    "    Loop over DataFrame (1)    100 xp\n",
    "    Loop over DataFrame (2)    100 xp\n",
    "    Add column (1)    100 xp\n",
    "    Add column (2)    100 xp \n",
    "    "
   ]
  },
  {
   "cell_type": "markdown",
   "id": "5dac3d00-60ce-4ec9-b51d-4d4f5fcd7805",
   "metadata": {},
   "source": [
    "##  Case Study: Hacker Statistics\n",
    "0%\n",
    "\n",
    "This chapter will allow you to apply all the concepts you've learned in this course. You will use hacker statistics to calculate your chances of winning a bet. Use random number generators, loops, and Matplotlib to gain a competitive edge!\n",
    "\n",
    "    Random Numbers    50 xp\n",
    "    Random float    100 xp\n",
    "    Roll the dice    100 xp\n",
    "    Determine your next move    100 xp\n",
    "    Random Walk    50 xp\n",
    "    The next step    100 xp\n",
    "    How low can you go?    100 xp\n",
    "    Visualize the walk    100 xp\n",
    "    Distribution    50 xp\n",
    "    Simulate multiple walks    100 xp\n",
    "    Visualize all walks    100 xp\n",
    "    Implement clumsiness    100 xp\n",
    "    Plot the distribution    100 xp\n",
    "    Calculate the odds    50 xp\n"
   ]
  },
  {
   "cell_type": "code",
   "execution_count": null,
   "id": "8c82ceee-2298-461b-8297-c58a43ba838a",
   "metadata": {},
   "outputs": [],
   "source": []
  },
  {
   "cell_type": "markdown",
   "id": "a9597bd5-2099-406e-868f-84b6b4b86448",
   "metadata": {},
   "source": [
    "## Basic plots with Matplotlib\n",
    "\n",
    "\n",
    "# **In this intermediate Python course, you are going to take your Python skills to the next level, specifically for data science.  You'lllearn how to visuaize data and how to store data in new data structures.  Along the way, you'll master control structures, which you'll need to customize the flow of your script and algorithms.  These are the typesof things data scientist se every day.  \n",
    "\n",
    "**We'll finish this course with a case study, where you'll blend together everything you've learned to solve an exciting challenge.  \n",
    "\n",
    "\n",
    "**This first chapter is about data visualization, which is a very important part of data analysis.  \n",
    "\n",
    "  **First of all, you'll use it to exploreyour dataset, the better you understand your data, the better you'll be able to extract insights.  And once you've found those insight, again, you'll need visualization to be able to share your valuable insights with other people.  \n",
    "  # By making beautiful plots, you allow the data to tell they own story.  \n",
    "  # By the end of this chapter, you'll be able to build beautiful story telling plot yourself.  \n"
   ]
  },
  {
   "cell_type": "markdown",
   "id": "31bb3440-67a7-4b0f-a29c-925e1bc53ca4",
   "metadata": {},
   "source": [
    "## There are many visualization packages in Python, but the mother of them all is the matplotlib.  You will need is subpackage pyplot.  \n",
    "\n",
    "**To plot this data as a line chart, we call plt.plot() and use our two lists as arguments.  The first argument corresponds to the horizontal axis, and the second one to vertical axis.  The plot might pop up right now, but we can call the plt.show() function to just display the plot.  You might want to add some extra ingredients to your plot before just displaying it, such as titles and label customizations.  **\n",
    "\n",
    "\n",
    "**The plot() function tells Python what to plot and how to plot, then show() tells Python to display the plot.  \n"
   ]
  },
  {
   "cell_type": "code",
   "execution_count": 6,
   "id": "374cc034-7c22-4fd9-8579-d92f41642d7b",
   "metadata": {},
   "outputs": [
    {
     "data": {
      "image/png": "[encoded data removed]",
      "text/plain": [
       "<Figure size 432x288 with 1 Axes>"
      ]
     },
     "metadata": {
      "needs_background": "light"
     },
     "output_type": "display_data"
    }
   ],
   "source": [
    "import matplotlib.pyplot as plt\n",
    "\n",
    "year = [1950, 1970, 1990, 2010]\n",
    "pop = [2.519, 3.692, 5.263, 6.972]\n",
    "\n",
    "plt.plot(year, pop)   # [<matplotlib.lines.Line2D at 0x7fc58c8251f0>]\n",
    "plt.show()"
   ]
  },
  {
   "cell_type": "markdown",
   "id": "c7aca168-2a85-4337-8b08-7eef02705623",
   "metadata": {},
   "source": [
    "## Introduce the second plot: the scatter plot.  \n",
    "\n",
    "**For many applications, the scatter plot is often a better choice than the line plot.  \n"
   ]
  },
  {
   "cell_type": "code",
   "execution_count": 7,
   "id": "fbfd18b4-56f4-46af-9939-51ac03234260",
   "metadata": {},
   "outputs": [
    {
     "data": {
      "image/png": "[encoded data removed]",
      "text/plain": [
       "<Figure size 432x288 with 1 Axes>"
      ]
     },
     "metadata": {
      "needs_background": "light"
     },
     "output_type": "display_data"
    }
   ],
   "source": [
    "import matplotlib.pyplot as plt\n",
    "\n",
    "year = [1950, 1970, 1990, 2010]\n",
    "pop = [2.519, 3.692, 5.263, 6.972]\n",
    "\n",
    "plt.scatter(year, pop)   # [<matplotlib.lines.Line2D at 0x7fc58c8251f0>]\n",
    "plt.show()"
   ]
  },
  {
   "cell_type": "markdown",
   "id": "3a2d1ca5-25c4-454d-b089-efd502a26197",
   "metadata": {},
   "source": [
    "## Line plot (1)\n",
    "\n",
    "With matplotlib, you can create a bunch of different plots in Python. The most basic plot is the line plot. A general recipe is given here.\n",
    "\n",
    "import matplotlib.pyplot as plt\n",
    "plt.plot(x,y)\n",
    "plt.show()\n",
    "\n",
    "In the video, you already saw how much the world population has grown over the past years. Will it continue to do so? The world bank has estimates of the world population for the years 1950 up to 2100. The years are loaded in your workspace as a list called year, and the corresponding populations as a list called pop.\n",
    "\n",
    "This course touches on a lot of concepts you may have forgotten, so if you ever need a quick refresher, download the Python for data science Cheat Sheet and keep it handy!\n",
    "Instructions\n",
    "100 XP\n",
    "\n",
    "    print() the last item from both the year and the pop list to see what the predicted population for the year 2100 is. Use two print() functions.\n",
    "    Before you can start, you should import matplotlib.pyplot as plt. pyplot is a sub-package of matplotlib, hence the dot.\n",
    "    Use plt.plot() to build a line plot. year should be mapped on the horizontal axis, pop on the vertical axis. Don't forget to finish off with the show() function to actually display the plot.\n",
    "\n",
    "# plt.plot(x, y)  for default line plot\n",
    "# plt.line(x, y)  does not exist"
   ]
  },
  {
   "cell_type": "markdown",
   "id": "dae73106-6bed-4056-aabe-523987ef1230",
   "metadata": {},
   "source": [
    "## Line Plot (2): Interpretation\n",
    "\n",
    "Have another look at the plot you created in the previous exercise; it's shown on the right. Based on the plot, in approximately what year will there be more than ten billion human beings on this planet?\n",
    "Instructions\n",
    "50 XP\n",
    "Possible Answers\n",
    "\n",
    "    2040\n",
    "    2060\n",
    "    2085\n",
    "    2095\n",
    "\n"
   ]
  },
  {
   "cell_type": "markdown",
   "id": "4a89cef5-17ad-4544-83dc-7024e287756a",
   "metadata": {},
   "source": [
    "## Line plot (3)\n",
    "\n",
    "Now that you've built your first line plot, let's start working on the data that professor Hans Rosling used to build his beautiful bubble chart. It was collected in 2007. Two lists are available for you:\n",
    "\n",
    "    life_exp which contains the life expectancy for each country and\n",
    "    gdp_cap, which contains the GDP per capita (i.e. per person) for each country expressed in US Dollars.\n",
    "\n",
    "GDP stands for Gross Domestic Product. It basically represents the size of the economy of a country. Divide this by the population and you get the GDP per capita.\n",
    "\n",
    "matplotlib.pyplot is already imported as plt, so you can get started straight away.\n",
    "Instructions\n",
    "100 XP\n",
    "\n",
    "    Print the last item from both the list gdp_cap, and the list life_exp; it is information about Zimbabwe.\n",
    "    Build a line chart, with gdp_cap on the x-axis, and life_exp on the y-axis. Does it make sense to plot this data on a line plot?\n",
    "    Don't forget to finish off with a plt.show() command, to actually display the plot.\n"
   ]
  },
  {
   "cell_type": "markdown",
   "id": "96a65bb3-cc6c-40d6-b639-4c8304d91a53",
   "metadata": {},
   "source": [
    "## Scatter Plot (1)\n",
    "\n",
    "When you have a time scale along the horizontal axis, the line plot is your friend. But in many other cases, when you're trying to assess if there's a correlation between two variables, for example, the scatter plot is the better choice. Below is an example of how to build a scatter plot.\n",
    "\n",
    "import matplotlib.pyplot as plt\n",
    "plt.scatter(x,y)\n",
    "plt.show()\n",
    "\n",
    "Let's continue with the gdp_cap versus life_exp plot, the GDP and life expectancy data for different countries in 2007. Maybe a scatter plot will be a better alternative?\n",
    "\n",
    "Again, the matplotlib.pyplot package is available as plt.\n",
    "Instructions\n",
    "100 XP\n",
    "\n",
    "    Change the line plot that's coded in the script to a scatter plot.\n",
    "# *****************************************************************************************************\n",
    "#    A correlation will become clear when you display the GDP per capita on a logarithmic scale. Add the line plt.xscale('log').\n",
    "# the function  \"y = a^x\"  and  \"y = log_a*(x)\" are mirrored with function \"y = x\" line\n",
    "# so when the relashionship becomes index related, we change function and pull it back to normal\n",
    "# *****************************************************************************************************\n",
    "    Finish off your script with plt.show() to display the plot.\n"
   ]
  },
  {
   "cell_type": "code",
   "execution_count": 12,
   "id": "607a1cf0-7f14-46c1-96da-86a06cc2329a",
   "metadata": {},
   "outputs": [],
   "source": [
    "gdp_cap = [974.5803384, 5937.029525999998, 6223.367465, 4797.231267, 12779.37964, 34435.367439999995, \n",
    " 36126.4927, 29796.04834, 1391.253792, 33692.60508, 1441.284873, 3822.137084, 7446.298803, 12569.85177, \n",
    " 9065.800825, 10680.79282, 1217.032994, 430.0706916, 1713.778686, 2042.09524, 36319.23501, 706.016537, \n",
    " 1704.063724, 13171.63885, 4959.114854, 7006.580419, 986.1478792, 277.5518587, 3632.557798, 9645.06142, \n",
    " 1544.750112, 14619.222719999998, 8948.102923, 22833.30851, 35278.41874, 2082.4815670000007,\n",
    " 6025.3747520000015, 6873.262326000001, 5581.180998, 5728.353514, 12154.08975, 641.3695236000002,\n",
    " 690.8055759, 33207.0844, 30470.0167, 13206.48452, 752.7497265, 32170.37442, 1327.60891, 27538.41188,\n",
    " 5186.050003, 942.6542111, 579.2317429999998, 1201.637154, 3548.3308460000007, 39724.97867, 18008.94444,\n",
    " 36180.78919, 2452.210407, 3540.651564, 11605.71449, 4471.061906, 40675.99635, 25523.2771, 28569.7197,\n",
    " 7320.8802620000015, 31656.06806, 4519.461171, 1463.249282, 1593.06548, 23348.139730000006, 47306.98978, \n",
    " 10461.05868, 1569.331442, 414.5073415, 12057.49928, 1044.770126, 759.3499101, 12451.6558, 1042.581557,\n",
    " 1803.151496, 10956.99112, 11977.57496, 3095.7722710000007, 9253.896111, 3820.17523, 823.6856205,\n",
    " 944.0, 4811.060429, 1091.359778, 36797.93332, 25185.00911, 2749.320965, 619.6768923999998, 2013.977305,\n",
    " 49357.19017, 22316.19287, 2605.94758, 9809.185636, 4172.838464, 7408.905561, 3190.481016,\n",
    " 15389.924680000002, 20509.64777, 19328.70901, 7670.122558, 10808.47561, 863.0884639000002, 1598.435089, \n",
    " 21654.83194, 1712.472136, 9786.534714, 862.5407561000002, 47143.17964, 18678.31435, 25768.25759,\n",
    " 926.1410683, 9269.657808, 28821.0637, 3970.095407, 2602.394995, 4513.480643, 33859.74835, 37506.41907,\n",
    " 4184.548089, 28718.27684, 1107.482182, 7458.396326999998, 882.9699437999999, 18008.50924, 7092.923025,\n",
    " 8458.276384, 1056.380121, 33203.26128, 42951.65309, 10611.46299, 11415.80569, 2441.576404, 3025.349798,\n",
    " 2280.769906, 1271.211593, 469.70929810000007]\n",
    "\n",
    "\n",
    "life_exp = [43.828, 76.423, 72.301, 42.731, 75.32, 81.235, 79.829, 75.635, 64.062, 79.441, 56.728, \n",
    " 65.554, 74.852, 50.728, 72.39, 73.005, 52.295, 49.58, 59.723, 50.43, 80.653, 44.74100000000001,\n",
    " 50.651, 78.553, 72.961, 72.889, 65.152, 46.462, 55.322, 78.782, 48.328, 75.748, 78.273, 76.486, \n",
    " 78.332, 54.791, 72.235, 74.994, 71.33800000000002, 71.878, 51.57899999999999, 58.04, 52.947, 79.313,\n",
    " 80.657, 56.735, 59.448, 79.406, 60.022, 79.483, 70.259, 56.007, 46.38800000000001, 60.916,\n",
    " 70.19800000000001, 82.208, 73.33800000000002, 81.757, 64.69800000000001, 70.65, 70.964, 59.545,\n",
    " 78.885, 80.745, 80.546, 72.567, 82.603, 72.535, 54.11, 67.297, 78.623, 77.58800000000002, 71.993,\n",
    " 42.592, 45.678, 73.952, 59.44300000000001, 48.303, 74.241, 54.467, 64.164, 72.801, 76.195, 66.803,\n",
    " 74.543, 71.164, 42.082, 62.069, 52.90600000000001, 63.785, 79.762, 80.204, 72.899, 56.867, 46.859,\n",
    " 80.196, 75.64, 65.483, 75.53699999999998, 71.752, 71.421, 71.688, 75.563, 78.098, 78.74600000000002,\n",
    " 76.442, 72.476, 46.242, 65.528, 72.777, 63.062, 74.002, 42.56800000000001, 79.972, 74.663, 77.926,\n",
    " 48.159, 49.339, 80.941, 72.396, 58.556, 39.613, 80.884, 81.70100000000002, 74.143, 78.4, 52.517,\n",
    " 70.616, 58.42, 69.819, 73.923, 71.777, 51.542, 79.425, 78.242, 76.384, 73.747, 74.249, 73.422, 62.698,\n",
    " 42.38399999999999, 43.487]"
   ]
  },
  {
   "cell_type": "code",
   "execution_count": 10,
   "id": "a809a129-d6fc-4117-b330-134523be20d0",
   "metadata": {},
   "outputs": [
    {
     "data": {
      "image/png": "[encoded data removed]",
      "text/plain": [
       "<Figure size 432x288 with 1 Axes>"
      ]
     },
     "metadata": {
      "needs_background": "light"
     },
     "output_type": "display_data"
    }
   ],
   "source": [
    "# Change the line plot below to a scatter plot\n",
    "plt.scatter(gdp_cap, life_exp)\n",
    "\n",
    "# Put the x-axis on a logarithmic scale\n",
    "plt.xscale('log')\n",
    "# *************************************************************************************************** #\n",
    "\n",
    "# Show plot\n",
    "plt.show()"
   ]
  },
  {
   "cell_type": "code",
   "execution_count": 11,
   "id": "e4a7d5f8-2c97-4447-b6da-6cd4f3d99211",
   "metadata": {},
   "outputs": [
    {
     "data": {
      "image/png": "[encoded data removed]",
      "text/plain": [
       "<Figure size 432x288 with 1 Axes>"
      ]
     },
     "metadata": {
      "needs_background": "light"
     },
     "output_type": "display_data"
    }
   ],
   "source": [
    "# Change the line plot below to a scatter plot\n",
    "plt.scatter(gdp_cap, life_exp)\n",
    "\n",
    "# Put the x-axis on a logarithmic scale\n",
    "#plt.xscale('log')\n",
    "# *************************************************************************************************** #\n",
    "\n",
    "# Show plot\n",
    "plt.show()"
   ]
  },
  {
   "cell_type": "markdown",
   "id": "e9a0ccc1-5554-463d-8e2d-4f12bc645407",
   "metadata": {},
   "source": [
    "## Scatter plot (2)\n",
    "\n",
    "In the previous exercise, you saw that the higher GDP usually corresponds to a higher life expectancy. In other words, there is a **positive correlation.\n",
    "\n",
    "Do you think there's a relationship between population and life expectancy of a country? The list life_exp from the previous exercise is already available. In addition, now also pop is available, listing the corresponding populations for the countries in 2007. The populations are in millions of people.\n",
    "Instructions\n",
    "100 XP\n",
    "\n",
    "    Start from scratch: import matplotlib.pyplot as plt.\n",
    "    Build a scatter plot, where pop is mapped on the horizontal axis, and life_exp is mapped on the vertical axis.\n",
    "    Finish the script with plt.show() to actually display the plot. Do you see a correlation?\n"
   ]
  },
  {
   "cell_type": "code",
   "execution_count": 41,
   "id": "2002eeba-2a95-45f3-9b5b-30a0fa6c3dc3",
   "metadata": {},
   "outputs": [],
   "source": [
    "pop = [31.889923, 3.600523, 33.333216, 12.420476, 40.301927, 20.434176, 8.199783, 0.708573, 150.448339, \n",
    " 10.392226, 8.078314, 9.119152, 4.552198, 1.639131, 190.010647, 7.322858, 14.326203, 8.390505, 14.131858,\n",
    " 17.696293, 33.390141, 4.369038, 10.238807, 16.284741, 1318.683096, 44.22755, 0.71096, 64.606759, 3.80061,\n",
    " 4.133884, 18.013409, 4.493312, 11.416987, 10.228744, 5.46812, 0.496374, 9.319622, 13.75568, 80.264543,\n",
    " 6.939688, 0.551201, 4.906585, 76.511887, 5.23846, 61.083916, 1.454867, 1.688359, 82.400996, 22.873338,\n",
    " 10.70629, 12.572928, 9.947814, 1.472041, 8.502814, 7.483763, 6.980412, 9.956108, 0.301931, 1110.396331,\n",
    " 223.547, 69.45357, 27.499638, 4.109086, 6.426679, 58.147733, 2.780132, 127.467972, 6.053193, 35.610177,\n",
    " 23.301725, 49.04479, 2.505559, 3.921278, 2.012649, 3.193942, 6.036914, 19.167654, 13.327079, 24.821286,\n",
    " 12.031795, 3.270065, 1.250882, 108.700891, 2.874127, 0.684736, 33.757175, 19.951656, 47.76198, 2.05508,\n",
    " 28.90179, 16.570613, 4.115771, 5.675356, 12.894865, 135.031164, 4.627926, 3.204897, 169.270617, 3.242173,\n",
    " 6.667147, 28.674757, 91.077287, 38.518241, 10.642836, 3.942491, 0.798094, 22.276056, 8.860588, 0.199579, \n",
    " 27.601038, 12.267493, 10.150265, 6.144562, 4.553009, 5.447502, 2.009245, 9.118773, 43.997828, 40.448191, \n",
    " 20.378239, 42.292929, 1.133066, 9.031088, 7.554661, 19.314747, 23.174294, 38.13964, 65.068149, 5.701579,\n",
    " 1.056608, 10.276158, 71.158647, 29.170398, 60.776238, 301.139947, 3.447496, 26.084662, 85.262356, \n",
    " 4.018332, 22.211743, 11.746035, 12.311143]"
   ]
  },
  {
   "cell_type": "code",
   "execution_count": 15,
   "id": "2f1d6bd7-4c5a-44e6-91ed-99428dcce762",
   "metadata": {},
   "outputs": [
    {
     "data": {
      "image/png": "[encoded data removed]",
      "text/plain": [
       "<Figure size 432x288 with 1 Axes>"
      ]
     },
     "metadata": {
      "needs_background": "light"
     },
     "output_type": "display_data"
    }
   ],
   "source": [
    "import matplotlib.pyplot as plt\n",
    "\n",
    "# where pop is mapped on the horizontal axis, and life_exp is mapped on the vertical axis. \n",
    "plt.scatter(pop, life_exp)\n",
    "\n",
    "\n",
    "plt.show()"
   ]
  },
  {
   "cell_type": "code",
   "execution_count": 16,
   "id": "57c2252e-bc23-4045-83cb-119bca8dff99",
   "metadata": {},
   "outputs": [
    {
     "data": {
      "image/png": "[encoded data removed]",
      "text/plain": [
       "<Figure size 432x288 with 1 Axes>"
      ]
     },
     "metadata": {
      "needs_background": "light"
     },
     "output_type": "display_data"
    }
   ],
   "source": [
    "import matplotlib.pyplot as plt\n",
    "\n",
    "# where pop is mapped on the horizontal axis, and life_exp is mapped on the vertical axis. \n",
    "plt.scatter(pop, life_exp)\n",
    "plt.xscale('log')\n",
    "\n",
    "plt.show()"
   ]
  },
  {
   "cell_type": "markdown",
   "id": "2ad71db1-8b99-4401-a9cd-2d64d2683a06",
   "metadata": {},
   "source": [
    "## Histogram\n",
    "\n",
    "\n",
    "**The histogram is a type of visualization thats very helpful to explore your data.  It can help you to get an idea about the distribution of your variables.  \n",
    "\n",
    "**To see how it works, image 12 values between 0 and 6, put them is a number line.  To build a histgram for these values, you can divide the line into equal chucks, called bins.  Suppose we go for 3 bins, that each have a width of 2, then we count how many data points sit inside each bin.  Finally draw bar of each bin representing number of data points of each. \n",
    "\n",
    "**The height of bar corresponds to the number of data points that fall in this bin.  The result is a histogram, which gives us a nice overview on how the 12 values are distributed.  \n",
    "\n",
    "\n",
    "\n",
    "## There is a bunch of arguments you can specify, but the first two here are the most important ones.  X should be a list(np.array works too) of values you want to build a histogram for, second argument tells Python how many bins the data should be divided.  \n",
    "\n",
    "# **Histogram are really helpful to give a bigger picture, the true power of histogram works with competition two with population age distribution change or per capital income change during time perid. \n",
    "\n"
   ]
  },
  {
   "cell_type": "code",
   "execution_count": 31,
   "id": "6ae54457-4d30-44ca-af78-7e3770998b76",
   "metadata": {},
   "outputs": [
    {
     "data": {
      "image/png": "[encoded data removed]",
      "text/plain": [
       "<Figure size 432x288 with 1 Axes>"
      ]
     },
     "metadata": {
      "needs_background": "light"
     },
     "output_type": "display_data"
    },
    {
     "data": {
      "image/png": "[encoded data removed]",
      "text/plain": [
       "<Figure size 432x288 with 1 Axes>"
      ]
     },
     "metadata": {
      "needs_background": "light"
     },
     "output_type": "display_data"
    }
   ],
   "source": [
    "import matplotlib.pyplot as plt\n",
    "import numpy as np\n",
    "\n",
    "height = np.round(np.random.normal(1.75, 0.20, 5000),2)\n",
    "weight = np.round(np.random.normal(60.32, 15, 5000),2)\n",
    "\n",
    "np_city = np.column_stack((height, weight))\n",
    "\n",
    "np_weight = np.array(weight)\n",
    "\n",
    "plt.hist(height, 20)\n",
    "plt.show()\n",
    "plt.clf()   # did not clear the above histogram\n",
    "plt.hist(np_weight, 30)\n",
    "plt.show()\n",
    "\n",
    "#?plt.hist"
   ]
  },
  {
   "cell_type": "code",
   "execution_count": 29,
   "id": "89a5e8ff-5a78-4384-bd01-e382d84595ce",
   "metadata": {},
   "outputs": [
    {
     "data": {
      "text/plain": [
       "\u001b[0;31mSignature:\u001b[0m \u001b[0mplt\u001b[0m\u001b[0;34m.\u001b[0m\u001b[0mclf\u001b[0m\u001b[0;34m(\u001b[0m\u001b[0;34m)\u001b[0m\u001b[0;34m\u001b[0m\u001b[0;34m\u001b[0m\u001b[0m\n",
       "\u001b[0;31mDocstring:\u001b[0m Clear the current figure.\n",
       "\u001b[0;31mFile:\u001b[0m      ~/.virtual_environments/py39/lib/python3.9/site-packages/matplotlib/pyplot.py\n",
       "\u001b[0;31mType:\u001b[0m      function\n"
      ]
     },
     "metadata": {},
     "output_type": "display_data"
    }
   ],
   "source": [
    "?plt.clf"
   ]
  },
  {
   "cell_type": "markdown",
   "id": "fbafe7ef-b1c5-488f-98fd-6a144865385d",
   "metadata": {},
   "source": [
    "## Build a histogram (1)\n",
    "\n",
    "life_exp, the list containing data on the life expectancy for different countries in 2007, is available in your Python shell.\n",
    "\n",
    "To see how life expectancy in different countries is distributed, let's create a histogram of life_exp.\n",
    "\n",
    "matplotlib.pyplot is already available as plt.\n",
    "Instructions\n",
    "100 XP\n",
    "\n",
    "    Use plt.hist() to create a histogram of the values in life_exp. Do not specify the number of bins; Python will set the number of bins to 10 by default for you.\n",
    "    Add plt.show() to actually display the histogram. Can you tell which bin contains the most observations?\n"
   ]
  },
  {
   "cell_type": "markdown",
   "id": "81485699-461c-4686-827b-0d32d62189be",
   "metadata": {},
   "source": [
    "## Build a histogram (2): bins\n",
    "\n",
    "In the previous exercise, you didn't specify the number of bins. By default, Python sets the number of bins to 10 in that case. The number of bins is pretty important. Too few bins will oversimplify reality and won't show you the details. Too many bins will overcomplicate reality and won't show the bigger picture.\n",
    "\n",
    "To control the number of bins to divide your data in, you can set the bins argument.\n",
    "\n",
    "That's exactly what you'll do in this exercise. You'll be making two plots here. The code in the script already includes plt.show() and plt.clf() calls; \n",
    "# *****************************************************************************************************\n",
    "# plt.show() displays a plot; plt.clf() cleans it up again so you can start afresh.\n",
    "# Docstring: Clear the current figure.\n",
    "\n",
    "As before, life_exp is available and matplotlib.pyplot is imported as plt.\n",
    "Instructions\n",
    "100 XP\n",
    "\n",
    "    Build a histogram of life_exp, with 5 bins. Can you tell which bin contains the most observations?\n",
    "    Build another histogram of life_exp, this time with 20 bins. Is this better?\n"
   ]
  },
  {
   "cell_type": "markdown",
   "id": "4ccb35bf-292a-4ebe-aec7-b5e951876f93",
   "metadata": {},
   "source": [
    "## Build a histogram (3): compare\n",
    "\n",
    "In the video, you saw population pyramids for the present day and for the future. Because we were using a histogram, it was very easy to make a comparison.\n",
    "\n",
    "Let's do a similar comparison. life_exp contains life expectancy data for different countries in 2007. You also have access to a second list now, life_exp1950, containing similar data for 1950. Can you make a histogram for both datasets?\n",
    "\n",
    "You'll again be making two plots. The plt.show() and plt.clf() commands to render everything nicely are already included. Also matplotlib.pyplot is imported for you, as plt.\n",
    "Instructions\n",
    "100 XP\n",
    "\n",
    "    Build a histogram of life_exp with 15 bins.\n",
    "    Build a histogram of life_exp1950, also with 15 bins. Is there a big difference with the histogram for the 2007 data?\n",
    "\n",
    "# people live longer in 21 century, bins with age above 70 are much bigger than 20 century.  "
   ]
  },
  {
   "cell_type": "markdown",
   "id": "e41d4631-9d6c-4cb5-8449-491fb901a5fd",
   "metadata": {},
   "source": [
    "## Choose the right plot (1)\n",
    "\n",
    "You're a professor teaching Data Science with Python, and you want to visually assess if the grades on your exam follow a particular distribution. Which plot do you use?\n",
    "Instructions\n",
    "50 XP\n",
    "Possible Answers\n",
    "\n",
    "    Line plot\n",
    "    Scatter plot\n",
    "#    Histogram   histogram is for distribution, but bins should be selected careful\n",
    "    "
   ]
  },
  {
   "cell_type": "markdown",
   "id": "1317e555-2486-4ec7-afaf-21bf2c032717",
   "metadata": {},
   "source": [
    "## Choose the right plot (2)\n",
    "\n",
    "You're a professor in Data Analytics with Python, and you want to visually assess if longer answers on exam questions lead to higher grades. Which plot do you use?\n",
    "Instructions\n",
    "50 XP\n",
    "Possible Answers\n",
    "\n",
    "    Line plot\n",
    "#    Scatter plot   Line plot already drawed the line, but with dot distribution, you  can see if there is a linear relashionship between two\n",
    "    Histogram\n",
    "    "
   ]
  },
  {
   "cell_type": "markdown",
   "id": "698b7463-b127-4025-b977-4a2ece673fa5",
   "metadata": {},
   "source": [
    "## Customization\n",
    "\n",
    "\n",
    "**Now you got histogram under your datavis belt, lets figure out how to customize out plots. Creating a plot is one thing, making the correct, thats the real challenge.  For each visualization, you have many options.  First of all, there are different plot types, and for each plot you can do infinite number of customizations.  You can change colors, shape, labels, axes, and so on.  The choice depends on, one: the data, two: the story you want to tell with this data.  \n",
    "\n",
    "\n",
    "\n"
   ]
  },
  {
   "cell_type": "code",
   "execution_count": 40,
   "id": "7a6f037d-8afc-4ebb-9be8-89dd46b468fd",
   "metadata": {},
   "outputs": [
    {
     "data": {
      "text/plain": [
       "31.889923"
      ]
     },
     "execution_count": 40,
     "metadata": {},
     "output_type": "execute_result"
    }
   ],
   "source": [
    "pop"
   ]
  },
  {
   "cell_type": "code",
   "execution_count": 63,
   "id": "71ccae91-58b2-4503-b75f-0b51845c1103",
   "metadata": {},
   "outputs": [
    {
     "data": {
      "image/png": "[encoded data removed]",
      "text/plain": [
       "<Figure size 432x288 with 1 Axes>"
      ]
     },
     "metadata": {
      "needs_background": "light"
     },
     "output_type": "display_data"
    }
   ],
   "source": [
    "pop = [31.889923, 3.600523, 33.333216, 12.420476, 40.301927, 20.434176, 8.199783, 0.708573, 150.448339, \n",
    " 10.392226, 8.078314, 9.119152, 4.552198, 1.639131, 190.010647, 7.322858, 14.326203, 8.390505, 14.131858,\n",
    " 17.696293, 33.390141, 4.369038, 10.238807, 16.284741, 1318.683096, 44.22755, 0.71096, 64.606759, 3.80061,\n",
    " 4.133884, 18.013409, 4.493312, 11.416987, 10.228744, 5.46812, 0.496374, 9.319622, 13.75568, 80.264543,\n",
    " 6.939688, 0.551201, 4.906585, 76.511887, 5.23846, 61.083916, 1.454867, 1.688359, 82.400996, 22.873338,\n",
    " 10.70629, 12.572928, 9.947814, 1.472041, 8.502814, 7.483763, 6.980412, 9.956108, 0.301931, 1110.396331,\n",
    " 223.547, 69.45357, 27.499638, 4.109086, 6.426679, 58.147733, 2.780132, 127.467972, 6.053193, 35.610177,\n",
    " 23.301725, 49.04479, 2.505559, 3.921278, 2.012649, 3.193942, 6.036914, 19.167654, 13.327079, 24.821286,\n",
    " 12.031795, 3.270065, 1.250882, 108.700891, 2.874127, 0.684736, 33.757175, 19.951656, 47.76198, 2.05508,\n",
    " 28.90179, 16.570613, 4.115771, 5.675356, 12.894865, 135.031164, 4.627926, 3.204897, 169.270617, 3.242173,\n",
    " 6.667147, 28.674757, 91.077287, 38.518241, 10.642836, 3.942491, 0.798094, 22.276056, 8.860588, 0.199579, \n",
    " 27.601038, 12.267493, 10.150265, 6.144562, 4.553009, 5.447502, 2.009245, 9.118773, 43.997828, 40.448191, \n",
    " 20.378239, 42.292929, 1.133066, 9.031088, 7.554661, 19.314747, 23.174294, 38.13964, 65.068149, 5.701579,\n",
    " 1.056608, 10.276158, 71.158647, 29.170398, 60.776238, 301.139947, 3.447496, 26.084662, 85.262356, \n",
    " 4.018332, 22.211743, 11.746035, 12.311143]\n",
    "\n",
    "\n",
    "\n",
    "#\n",
    "#year = []\n",
    "#for i in range(len(pop)):\n",
    "#    year.append(i+1950)\n",
    "    \n",
    "    \n",
    "year = [i+1950 for i in range(len(pop))]\n",
    "    \n",
    "    \n",
    "#year\n",
    "\n",
    "# *************************************************************************************************** #\n",
    "plt.xlabel('year from 1950 to 2090')\n",
    "plt.ylabel('population of countries in 2007')\n",
    "plt.title('year and 2007 diff country pop')\n",
    "# *************************************************************************************************** #\n",
    "\n",
    "\n",
    "plt.plot(year, pop)\n",
    "plt.show()"
   ]
  },
  {
   "cell_type": "code",
   "execution_count": 60,
   "id": "1ac28836-164f-4b75-933c-d9369555bad0",
   "metadata": {},
   "outputs": [
    {
     "data": {
      "image/png": "[encoded data removed]",
      "text/plain": [
       "<Figure size 432x288 with 1 Axes>"
      ]
     },
     "metadata": {
      "needs_background": "light"
     },
     "output_type": "display_data"
    }
   ],
   "source": [
    "pop = [2.53, 2.57, 2.62, 2.67, 2.71, 2.76, 2.81, 2.86, 2.92, 2.97, 3.03, 3.08, 3.14, 3.2, 3.26, 3.33,\n",
    " 3.4, 3.47, 3.54, 3.62, 3.69, 3.77, 3.84, 3.92, 4.0, 4.07, 4.15, 4.22, 4.3, 4.37, 4.45, 4.53, 4.61,\n",
    " 4.69, 4.78, 4.86, 4.95, 5.05, 5.14, 5.23, 5.32, 5.41, 5.49, 5.58, 5.66, 5.74, 5.82, 5.9, 5.98, 6.05, \n",
    " 6.13, 6.2, 6.28, 6.36, 6.44, 6.51, 6.59, 6.67, 6.75, 6.83, 6.92, 7.0, 7.08, 7.16, 7.24, 7.32, 7.4,\n",
    " 7.48, 7.56, 7.64, 7.72, 7.79, 7.87, 7.94, 8.01, 8.08, 8.15, 8.22, 8.29, 8.36, 8.42, 8.49, 8.56, 8.62, \n",
    " 8.68, 8.74, 8.8, 8.86, 8.92, 8.98, 9.04, 9.09, 9.15, 9.2, 9.26, 9.31, 9.36, 9.41, 9.46, 9.5, 9.55,\n",
    " 9.6, 9.64, 9.68, 9.73, 9.77, 9.81, 9.85, 9.88, 9.92, 9.96, 9.99, 10.03, 10.06, 10.09, 10.13, 10.16,\n",
    " 10.19, 10.22, 10.25, 10.28, 10.31, 10.33, 10.36, 10.38, 10.41, 10.43, 10.46, 10.48, 10.5, 10.52,\n",
    " 10.55, 10.57, 10.59, 10.61, 10.63, 10.65, 10.66, 10.68, 10.7, 10.72, 10.73, 10.75, 10.77, 10.78,\n",
    " 10.79, 10.81, 10.82, 10.83, 10.84, 10.85]\n",
    "\n",
    "year = [1950, 1951, 1952, 1953, 1954, 1955, 1956, 1957, 1958, 1959, 1960, 1961, 1962, 1963, 1964,\n",
    " 1965, 1966, 1967, 1968, 1969, 1970, 1971, 1972, 1973, 1974, 1975, 1976, 1977, 1978, 1979, 1980,\n",
    " 1981, 1982, 1983, 1984, 1985, 1986, 1987, 1988, 1989, 1990, 1991, 1992, 1993, 1994, 1995, 1996, 1997,\n",
    " 1998, 1999, 2000, 2001, 2002, 2003, 2004, 2005, 2006, 2007, 2008, 2009, 2010, 2011, 2012, 2013, 2014, \n",
    " 2015, 2016, 2017, 2018, 2019, 2020, 2021, 2022, 2023, 2024, 2025, 2026, 2027, 2028, 2029, 2030, 2031,\n",
    " 2032, 2033, 2034, 2035, 2036, 2037, 2038, 2039, 2040, 2041, 2042, 2043, 2044, 2045, 2046, 2047, 2048,\n",
    " 2049, 2050, 2051, 2052, 2053, 2054, 2055, 2056, 2057, 2058, 2059, 2060, 2061, 2062, 2063, 2064, 2065,\n",
    " 2066, 2067, 2068, 2069, 2070, 2071, 2072, 2073, 2074, 2075, 2076, 2077, 2078, 2079, 2080, 2081, 2082,\n",
    " 2083, 2084, 2085, 2086, 2087, 2088, 2089, 2090, 2091, 2092, 2093, 2094, 2095, 2096, 2097, 2098,\n",
    " 2099, 2100]\n",
    "\n",
    "\n",
    "plt.plot(year, pop)\n",
    "\n",
    "plt.title('pop and year relashionship')\n",
    "plt.xlabel('year from 1950 to 2100')\n",
    "plt.ylabel('pop of each year')\n",
    "\n",
    "plt.yticks([0, 2, 4, 6, 8, 10, 12], \n",
    "           ['0', '2B', '4B', '6B', '8B', '10B', '12B'])\n",
    "\n",
    "plt.show()"
   ]
  },
  {
   "cell_type": "code",
   "execution_count": 56,
   "id": "4dfd5aa0-e2db-4bfb-98b3-435d1d7f5497",
   "metadata": {},
   "outputs": [],
   "source": [
    "#?plt.yticks"
   ]
  },
  {
   "cell_type": "markdown",
   "id": "7daa46a9-9837-4391-aee2-87c142897168",
   "metadata": {},
   "source": [
    "## First, it should be clearer which data we are displaying, especially to people who are seeing the graph for the first time.  And second, the plot really needs to draw the attention to the population explosion.  \n",
    "\n",
    "**The first thing you always need to do is label your axes, lets do this by adding xlable() and ylable() function.  We're also going to add a title to our plot, with the title function.  \n",
    "\n",
    "# Just using xlabel(), ylabel(), and title(), we can give the reader more information about the data onn the plot.  Now they can at least tell what the plot is about.  \n",
    "\n",
    "\n",
    "\n",
    "\n",
    "# **To put population growth in perspective, I want to have the y-axis atart from zero, you can do this with the yticks() function,  the first input is a list, \n",
    "\n",
    "**Now its clear that already in 1950, there are already about 2.5 billion people on this planet.  \n",
    "\n",
    "# Next, to make it clear we're talking about billions, we add second argumant to the yticks() function, which is a list with display names of the ticks.  This list should have the same length as the first list.  \n",
    "\n",
    "\n",
    "\n",
    "**Finally lets add some more historical data to accentuate the population explosion in the last 60 years.  \n",
    "\n",
    "# That's how you turn an average line plot into a visual that has a clear story to tell.  \n"
   ]
  },
  {
   "cell_type": "code",
   "execution_count": 61,
   "id": "2508d6e1-859a-40c7-a448-b16b1cf58bd1",
   "metadata": {},
   "outputs": [
    {
     "data": {
      "image/png": "[encoded data removed]",
      "text/plain": [
       "<Figure size 432x288 with 1 Axes>"
      ]
     },
     "metadata": {
      "needs_background": "light"
     },
     "output_type": "display_data"
    }
   ],
   "source": [
    "year = [1800, 1850, 1900] + year\n",
    "pop = [1.0, 1.262, 1.650] + pop\n",
    "\n",
    "\n",
    "plt.plot(year, pop)\n",
    "\n",
    "\n",
    "plt.title('pop and year relashionship')\n",
    "plt.xlabel('year from 1950 to 2100')\n",
    "plt.ylabel('pop of each year')\n",
    "\n",
    "plt.yticks([0, 2, 4, 6, 8, 10, 12], \n",
    "           ['0', '2B', '4B', '6B', '8B', '10B', '12B'])\n",
    "\n",
    "\n",
    "plt.show()"
   ]
  },
  {
   "cell_type": "markdown",
   "id": "6fc23a95-6642-4ff3-86c3-74303ed6a3bf",
   "metadata": {},
   "source": [
    "## Labels\n",
    "\n",
    "It's time to customize your own plot. This is the fun part, you will see your plot come to life!\n",
    "\n",
    "You're going to work on the scatter plot with world development data: GDP per capita on the x-axis (logarithmic scale), life expectancy on the y-axis. The code for this plot is available in the script.\n",
    "\n",
    "As a first step, let's add axis labels and a title to the plot. You can do this with the xlabel(), ylabel() and title() functions, available in matplotlib.pyplot. This sub-package is already imported as plt.\n",
    "Instructions\n",
    "100 XP\n",
    "\n",
    "    The strings xlab and ylab are already set for you. Use these variables to set the label of the x- and y-axis.\n",
    "    The string title is also coded for you. Use it to add a title to the plot.\n",
    "    After these customizations, finish the script with plt.show() to actually display the plot.\n"
   ]
  },
  {
   "cell_type": "markdown",
   "id": "41a29762-999c-43c9-9a85-4e099195a61d",
   "metadata": {},
   "source": [
    "## Ticks\n",
    "\n",
    "The customizations you've coded up to now are available in the script, in a more concise form.\n",
    "\n",
    "In the video, Hugo has demonstrated how you could control the y-ticks by specifying two arguments:\n",
    "\n",
    "plt.yticks([0,1,2], [\"one\",\"two\",\"three\"])\n",
    "\n",
    "In this example, the ticks corresponding to the numbers 0, 1 and 2 will be replaced by one, two and three, respectively.\n",
    "\n",
    "Let's do a similar thing for the x-axis of your world development chart, with the xticks() function. The tick values 1000, 10000 and 100000 should be replaced by 1k, 10k and 100k. To this end, two lists have already been created for you: tick_val and tick_lab.\n",
    "Instructions\n",
    "100 XP\n",
    "\n",
    "    Use tick_val and tick_lab as inputs to the xticks() function to make the the plot more readable.\n",
    "    As usual, display the plot with plt.show() after you've added the customizations.\n"
   ]
  },
  {
   "cell_type": "code",
   "execution_count": 64,
   "id": "86676fb4-7eca-4890-b4ec-44aa804572fe",
   "metadata": {},
   "outputs": [
    {
     "data": {
      "image/png": "[encoded data removed]",
      "text/plain": [
       "<Figure size 432x288 with 1 Axes>"
      ]
     },
     "metadata": {
      "needs_background": "light"
     },
     "output_type": "display_data"
    }
   ],
   "source": [
    "# Scatter plot\n",
    "plt.scatter(gdp_cap, life_exp)\n",
    "\n",
    "# Previous customizations\n",
    "plt.xscale('log') \n",
    "plt.xlabel('GDP per Capita [in USD]')\n",
    "plt.ylabel('Life Expectancy [in years]')\n",
    "plt.title('World Development in 2007')\n",
    "\n",
    "# Definition of tick_val and tick_lab\n",
    "tick_val = [1000, 10000, 100000]\n",
    "tick_lab = ['1k', '10k', '100k']\n",
    "\n",
    "# Adapt the ticks on the x-axis\n",
    "plt.xticks([1000, 10000, 100000],\n",
    "['1K', '10K', '100K'])\n",
    "\n",
    "# After customizing, display the plot\n",
    "plt.show()"
   ]
  },
  {
   "cell_type": "markdown",
   "id": "76b9beb4-3e74-42ae-937a-e00ae8359f76",
   "metadata": {},
   "source": [
    "## Sizes\n",
    "\n",
    "# ****************************************************************************************************\n",
    "# Right now, the scatter plot is just a cloud of blue dots, indistinguishable from each other. Let's change this. Wouldn't it be nice if the size of the dots corresponds to the population?\n",
    "\n",
    "To accomplish this, there is a list pop loaded in your workspace. It contains population numbers for each country expressed in millions. You can see that this list is added to the scatter method, as the \n",
    "# argument s, for size.\n",
    "Instructions\n",
    "100 XP\n",
    "\n",
    "    Run the script to see how the plot changes.\n",
    "    Looks good, but increasing the size of the bubbles will make things stand out more.\n",
    "        Import the numpy package as np.\n",
    "        Use np.array() to create a numpy array from the list pop. Call this Numpy array np_pop.\n",
    "        Double the values in np_pop setting the value of np_pop equal to np_pop * 2. Because np_pop is a Numpy array, each array element will be doubled.\n",
    "        Change the s argument inside plt.scatter() to be np_pop instead of pop.\n"
   ]
  },
  {
   "cell_type": "code",
   "execution_count": 71,
   "id": "bd106c5c-0cb4-4080-a440-835f3b049df6",
   "metadata": {},
   "outputs": [
    {
     "data": {
      "image/png": "[encoded data removed]",
      "text/plain": [
       "<Figure size 432x288 with 1 Axes>"
      ]
     },
     "metadata": {
      "needs_background": "light"
     },
     "output_type": "display_data"
    }
   ],
   "source": [
    "# Import numpy as np\n",
    "import numpy as np\n",
    "\n",
    "# Store pop as a numpy array: np_pop\n",
    "np_pop = np.array(pop)\n",
    "\n",
    "# Double np_pop\n",
    "np_pop = np_pop*2\n",
    "\n",
    "# Update: set s argument to np_pop\n",
    "plt.scatter(gdp_cap, life_exp, s = pop)\n",
    "# *************************************************************************************************** #\n",
    "\n",
    "# Previous customizations\n",
    "plt.xscale('log') \n",
    "\n",
    "plt.xlabel('GDP per Capita [in USD]')\n",
    "plt.ylabel('Life Expectancy [in years]')\n",
    "plt.title('World Development in 2007')\n",
    "plt.xticks([1000, 10000, 100000],['1k', '10k', '100k'])\n",
    "\n",
    "# Display the plot\n",
    "plt.show()"
   ]
  },
  {
   "cell_type": "markdown",
   "id": "3c27cffb-a64f-45bd-9a94-412a8116685e",
   "metadata": {},
   "source": [
    "## Colors\n",
    "\n",
    "The code you've written up to now is available in the script.\n",
    "\n",
    "The next step is making the plot more colorful! To do this, a list col has been created for you. It's a list with a color for each corresponding country, depending on the continent the country is part of.\n",
    "\n",
    "How did we make the list col you ask? The Gapminder data contains a list continent with the continent each country belongs to. A dictionary is constructed that maps continents onto colors:\n",
    "\n",
    "dict = {\n",
    "    'Asia':'red',\n",
    "    'Europe':'green',\n",
    "    'Africa':'blue',\n",
    "    'Americas':'yellow',\n",
    "    'Oceania':'black'\n",
    "}\n",
    "\n",
    "Nothing to worry about now; you will learn about dictionaries in the next chapter.\n",
    "Instructions\n",
    "100 XP\n",
    "\n",
    "    Add c = col to the arguments of the plt.scatter() function.\n",
    "    Change the opacity of the bubbles by setting the alpha argument to 0.8 inside plt.scatter(). Alpha can be set from zero to one, where zero is totally transparent, and one is not at all transparent.\n"
   ]
  },
  {
   "cell_type": "code",
   "execution_count": 74,
   "id": "4527d289-78db-4f4d-be80-91e34c85115f",
   "metadata": {},
   "outputs": [
    {
     "data": {
      "image/png": "[encoded data removed]",
      "text/plain": [
       "<Figure size 432x288 with 1 Axes>"
      ]
     },
     "metadata": {
      "needs_background": "light"
     },
     "output_type": "display_data"
    }
   ],
   "source": [
    "col = ['red', 'green', 'blue', 'blue', 'yellow', 'black', 'green', 'red', 'red', 'green', 'blue', \n",
    " 'yellow', 'green', 'blue', 'yellow', 'green', 'blue', 'blue', 'red', 'blue', 'yellow', 'blue', \n",
    " 'blue', 'yellow', 'red', 'yellow', 'blue', 'blue', 'blue', 'yellow', 'blue', 'green', 'yellow', \n",
    " 'green', 'green', 'blue', 'yellow', 'yellow', 'blue', 'yellow', 'blue', 'blue', 'blue', 'green', \n",
    " 'green', 'blue', 'blue', 'green', 'blue', 'green', 'yellow', 'blue', 'blue', 'yellow', 'yellow', \n",
    " 'red', 'green', 'green', 'red', 'red', 'red', 'red', 'green', 'red', 'green', 'yellow', 'red', 'red', \n",
    " 'blue', 'red', 'red', 'red', 'red', 'blue', 'blue', 'blue', 'blue', 'blue', 'red', 'blue', 'blue', \n",
    " 'blue', 'yellow', 'red', 'green', 'blue', 'blue', 'red', 'blue', 'red', 'green', 'black', 'yellow', \n",
    " 'blue', 'blue', 'green', 'red', 'red', 'yellow', 'yellow', 'yellow', 'red', 'green', 'green', \n",
    " 'yellow', 'blue', 'green', 'blue', 'blue', 'red', 'blue', 'green', 'blue', 'red', 'green', 'green', \n",
    " 'blue', 'blue', 'green', 'red', 'blue', 'blue', 'green', 'green', 'red', 'red', 'blue', 'red', \n",
    " 'blue', 'yellow', 'blue', 'green', 'blue', 'green', 'yellow', 'yellow', 'yellow', 'red', 'red', \n",
    " 'red', 'blue', 'blue']\n",
    "\n",
    "\n",
    "\n",
    "# Specify c and alpha inside plt.scatter()\n",
    "plt.scatter(x = gdp_cap, y = life_exp, s = np.array(pop) * 2, c = col, alpha=0.8)\n",
    "\n",
    "# Previous customizations\n",
    "plt.xscale('log') \n",
    "plt.xlabel('GDP per Capita [in USD]')\n",
    "plt.ylabel('Life Expectancy [in years]')\n",
    "plt.title('World Development in 2007')\n",
    "plt.xticks([1000,10000,100000], ['1k','10k','100k'])\n",
    "\n",
    "# Show the plot\n",
    "plt.show()"
   ]
  },
  {
   "cell_type": "markdown",
   "id": "6f60e588-1eab-48aa-947c-b9010738d615",
   "metadata": {},
   "source": [
    "## Additional Customizations\n",
    "\n",
    "If you have another look at the script, under # Additional Customizations, you'll see that there are two plt.text() functions now. They add the words \"India\" and \"China\" in the plot.\n",
    "Instructions\n",
    "100 XP\n",
    "\n",
    "#    Add plt.grid(True) after the plt.text() calls so that gridlines are drawn on the plot.\n"
   ]
  },
  {
   "cell_type": "code",
   "execution_count": 83,
   "id": "b2fc54f3-3e41-4c28-96e6-d76c5ad3f98a",
   "metadata": {},
   "outputs": [
    {
     "data": {
      "image/png": "[encoded data removed]",
      "text/plain": [
       "<Figure size 432x288 with 1 Axes>"
      ]
     },
     "metadata": {
      "needs_background": "light"
     },
     "output_type": "display_data"
    }
   ],
   "source": [
    "# Scatter plot\n",
    "plt.scatter(x = gdp_cap, y = life_exp, s = np.array(pop) * 2, c = col, alpha = 0.8)\n",
    "\n",
    "# Previous customizations\n",
    "plt.xscale('log') \n",
    "\n",
    "plt.xlabel('GDP per Capita [in USD]')\n",
    "plt.ylabel('Life Expectancy [in years]')\n",
    "plt.title('World Development in 2007', fontweight='bold')\n",
    "\n",
    "plt.xticks([1000,10000,100000], ['1k','10k','100k'])\n",
    "\n",
    "# *************************************************************************************************** #\n",
    "# Additional customizations\n",
    "plt.text(1550, 71, 'India')\n",
    "plt.text(5700, 80, 'China')\n",
    "\n",
    "# Add grid() call\n",
    "plt.grid(True)\n",
    "\n",
    "# Show the plot\n",
    "plt.show()"
   ]
  },
  {
   "cell_type": "code",
   "execution_count": 81,
   "id": "c66c3bac-2e04-4027-ad03-214e7c5c30cf",
   "metadata": {},
   "outputs": [
    {
     "data": {
      "text/plain": [
       "\u001b[0;31mSignature:\u001b[0m \u001b[0mplt\u001b[0m\u001b[0;34m.\u001b[0m\u001b[0mtitle\u001b[0m\u001b[0;34m(\u001b[0m\u001b[0mlabel\u001b[0m\u001b[0;34m,\u001b[0m \u001b[0mfontdict\u001b[0m\u001b[0;34m=\u001b[0m\u001b[0;32mNone\u001b[0m\u001b[0;34m,\u001b[0m \u001b[0mloc\u001b[0m\u001b[0;34m=\u001b[0m\u001b[0;32mNone\u001b[0m\u001b[0;34m,\u001b[0m \u001b[0mpad\u001b[0m\u001b[0;34m=\u001b[0m\u001b[0;32mNone\u001b[0m\u001b[0;34m,\u001b[0m \u001b[0;34m*\u001b[0m\u001b[0;34m,\u001b[0m \u001b[0my\u001b[0m\u001b[0;34m=\u001b[0m\u001b[0;32mNone\u001b[0m\u001b[0;34m,\u001b[0m \u001b[0;34m**\u001b[0m\u001b[0mkwargs\u001b[0m\u001b[0;34m)\u001b[0m\u001b[0;34m\u001b[0m\u001b[0;34m\u001b[0m\u001b[0m\n",
       "\u001b[0;31mDocstring:\u001b[0m\n",
       "Set a title for the Axes.\n",
       "\n",
       "Set one of the three available Axes titles. The available titles\n",
       "are positioned above the Axes in the center, flush with the left\n",
       "edge, and flush with the right edge.\n",
       "\n",
       "Parameters\n",
       "----------\n",
       "label : str\n",
       "    Text to use for the title\n",
       "\n",
       "fontdict : dict\n",
       "    A dictionary controlling the appearance of the title text,\n",
       "    the default *fontdict* is::\n",
       "\n",
       "       {'fontsize': rcParams['axes.titlesize'],\n",
       "        'fontweight': rcParams['axes.titleweight'],\n",
       "        'color': rcParams['axes.titlecolor'],\n",
       "        'verticalalignment': 'baseline',\n",
       "        'horizontalalignment': loc}\n",
       "\n",
       "loc : {'center', 'left', 'right'}, default: :rc:`axes.titlelocation`\n",
       "    Which title to set.\n",
       "\n",
       "y : float, default: :rc:`axes.titley`\n",
       "    Vertical Axes loation for the title (1.0 is the top).  If\n",
       "    None (the default), y is determined automatically to avoid\n",
       "    decorators on the Axes.\n",
       "\n",
       "pad : float, default: :rc:`axes.titlepad`\n",
       "    The offset of the title from the top of the Axes, in points.\n",
       "\n",
       "Returns\n",
       "-------\n",
       "`.Text`\n",
       "    The matplotlib text instance representing the title\n",
       "\n",
       "Other Parameters\n",
       "----------------\n",
       "**kwargs : `.Text` properties\n",
       "    Other keyword arguments are text properties, see `.Text` for a list\n",
       "    of valid text properties.\n",
       "\u001b[0;31mFile:\u001b[0m      ~/.virtual_environments/py39/lib/python3.9/site-packages/matplotlib/pyplot.py\n",
       "\u001b[0;31mType:\u001b[0m      function\n"
      ]
     },
     "metadata": {},
     "output_type": "display_data"
    }
   ],
   "source": [
    "?plt.title"
   ]
  },
  {
   "cell_type": "markdown",
   "id": "101f7139-9671-49df-af76-2132da0adb0e",
   "metadata": {},
   "source": [
    "## Interpretation\n",
    "\n",
    "If you have a look at your colorful plot, it's clear that people live longer in countries with a higher GDP per capita. No high income countries have really short life expectancy, and no low income countries have very long life expectancy. Still, there is a huge difference in life expectancy between countries on the same income level. Most people live in middle income countries where difference in lifespan is huge between countries; depending on how income is distributed and how it is used.\n",
    "\n",
    "What can you say about the plot?\n",
    "Instructions\n",
    "50 XP\n",
    "Possible Answers\n",
    "\n",
    "    The countries in blue, corresponding to Africa, have both low life expectancy and a low GDP per capita.\n",
    "    There is a negative correlation between GDP per capita and life expectancy.\n",
    "    China has both a lower GDP per capita and lower life expectancy compared to India.\n",
    "    "
   ]
  },
  {
   "cell_type": "markdown",
   "id": "98522ae3-a1e8-487b-b0c4-08417b679275",
   "metadata": {},
   "source": [
    "## Dictionaries, Part 1\n",
    "\n",
    "\n",
    "\n",
    "\n",
    "\n"
   ]
  },
  {
   "cell_type": "code",
   "execution_count": null,
   "id": "fb943b5a-244f-43f4-992f-3d11175f1d34",
   "metadata": {},
   "outputs": [],
   "source": []
  },
  {
   "cell_type": "code",
   "execution_count": null,
   "id": "fd1e3858-9f70-458a-a156-5535d22bd522",
   "metadata": {},
   "outputs": [],
   "source": []
  },
  {
   "cell_type": "code",
   "execution_count": null,
   "id": "33a853d8-4676-447d-a708-c4e15f78f212",
   "metadata": {},
   "outputs": [],
   "source": []
  },
  {
   "cell_type": "code",
   "execution_count": null,
   "id": "963dc42f-bf87-4033-b68b-fa95672e2c14",
   "metadata": {},
   "outputs": [],
   "source": []
  },
  {
   "cell_type": "code",
   "execution_count": null,
   "id": "9a864df0-8677-463c-ae8f-1329c508a6f8",
   "metadata": {},
   "outputs": [],
   "source": []
  },
  {
   "cell_type": "code",
   "execution_count": null,
   "id": "789a16d4-d4e6-4544-8e11-f98b4752c97e",
   "metadata": {},
   "outputs": [],
   "source": []
  },
  {
   "cell_type": "code",
   "execution_count": null,
   "id": "0fb9fdbd-b4aa-4301-917f-d0cd63c19993",
   "metadata": {},
   "outputs": [],
   "source": []
  },
  {
   "cell_type": "code",
   "execution_count": null,
   "id": "df2f36af-0f12-46b7-a08f-7679f709f252",
   "metadata": {},
   "outputs": [],
   "source": []
  },
  {
   "cell_type": "code",
   "execution_count": null,
   "id": "41d90f8a-fc40-4281-87f6-804ddec145e0",
   "metadata": {},
   "outputs": [],
   "source": []
  },
  {
   "cell_type": "code",
   "execution_count": null,
   "id": "3065ca1c-7d18-42a4-8182-a38d3ce6581b",
   "metadata": {},
   "outputs": [],
   "source": []
  },
  {
   "cell_type": "code",
   "execution_count": null,
   "id": "0ed2f5f6-e3ac-42fc-927a-1c9cebbf8284",
   "metadata": {},
   "outputs": [],
   "source": []
  },
  {
   "cell_type": "code",
   "execution_count": null,
   "id": "6357aaaf-9962-4143-8f51-06c6ffc00984",
   "metadata": {},
   "outputs": [],
   "source": []
  },
  {
   "cell_type": "code",
   "execution_count": null,
   "id": "6b25ccd2-b3b0-471b-ac74-57298e452979",
   "metadata": {},
   "outputs": [],
   "source": []
  },
  {
   "cell_type": "code",
   "execution_count": null,
   "id": "4ecf3d8e-720a-4951-bfb9-9d892ac5a1a1",
   "metadata": {},
   "outputs": [],
   "source": []
  },
  {
   "cell_type": "code",
   "execution_count": null,
   "id": "55bbf131-1c13-4534-861e-f332830537d2",
   "metadata": {},
   "outputs": [],
   "source": []
  },
  {
   "cell_type": "code",
   "execution_count": null,
   "id": "642ad63f-5eae-4ff6-b5a8-4d33dd35e115",
   "metadata": {},
   "outputs": [],
   "source": []
  },
  {
   "cell_type": "code",
   "execution_count": null,
   "id": "b63d0344-b481-47b0-b933-6f860690a31e",
   "metadata": {},
   "outputs": [],
   "source": []
  },
  {
   "cell_type": "code",
   "execution_count": null,
   "id": "798313ef-d137-447d-8b88-3d532fca03f7",
   "metadata": {},
   "outputs": [],
   "source": []
  },
  {
   "cell_type": "code",
   "execution_count": null,
   "id": "657d122b-5c5c-4752-8867-62876b2aaa9f",
   "metadata": {},
   "outputs": [],
   "source": []
  },
  {
   "cell_type": "code",
   "execution_count": null,
   "id": "5b3322a2-5c26-4d30-a8ac-a921e66b6594",
   "metadata": {},
   "outputs": [],
   "source": []
  },
  {
   "cell_type": "code",
   "execution_count": null,
   "id": "efa1a219-adc4-4917-8a69-0d665b1e6dc3",
   "metadata": {},
   "outputs": [],
   "source": []
  },
  {
   "cell_type": "code",
   "execution_count": null,
   "id": "bd5c8306-b24a-463a-b45a-db49b7c79e83",
   "metadata": {},
   "outputs": [],
   "source": []
  },
  {
   "cell_type": "code",
   "execution_count": null,
   "id": "f64dc65e-f7eb-49eb-8433-000eec690601",
   "metadata": {},
   "outputs": [],
   "source": []
  },
  {
   "cell_type": "code",
   "execution_count": null,
   "id": "bbab5aea-8d5d-4a89-a2d6-d70b125f7a98",
   "metadata": {},
   "outputs": [],
   "source": []
  },
  {
   "cell_type": "code",
   "execution_count": null,
   "id": "ba2bd662-b8b7-4c9c-8ba2-c3148209fd00",
   "metadata": {},
   "outputs": [],
   "source": []
  },
  {
   "cell_type": "code",
   "execution_count": null,
   "id": "c61f6479-946a-4e67-90b2-fd8eaf6c88ca",
   "metadata": {},
   "outputs": [],
   "source": []
  },
  {
   "cell_type": "code",
   "execution_count": null,
   "id": "041b56f5-84dc-4c27-8644-daa04e78049d",
   "metadata": {},
   "outputs": [],
   "source": []
  },
  {
   "cell_type": "code",
   "execution_count": null,
   "id": "a6dd7866-f756-4046-a42d-717b92f4c793",
   "metadata": {},
   "outputs": [],
   "source": []
  },
  {
   "cell_type": "code",
   "execution_count": null,
   "id": "25136729-159a-4131-a0f9-65e944d8c54e",
   "metadata": {},
   "outputs": [],
   "source": []
  },
  {
   "cell_type": "code",
   "execution_count": null,
   "id": "fe0180e1-294e-40f0-b9db-c4e06e89b9a7",
   "metadata": {},
   "outputs": [],
   "source": []
  },
  {
   "cell_type": "code",
   "execution_count": null,
   "id": "36371063-1ab9-4d43-9a4a-f0df54dadf2d",
   "metadata": {},
   "outputs": [],
   "source": []
  },
  {
   "cell_type": "code",
   "execution_count": null,
   "id": "0630aef6-8ea3-4a34-8c8f-7bc39568c363",
   "metadata": {},
   "outputs": [],
   "source": []
  },
  {
   "cell_type": "code",
   "execution_count": null,
   "id": "9e8e85ef-c4a2-4406-adef-9fd529833b61",
   "metadata": {},
   "outputs": [],
   "source": []
  },
  {
   "cell_type": "code",
   "execution_count": null,
   "id": "77f8978c-9bc4-4376-b5f5-216e4b51bc0f",
   "metadata": {},
   "outputs": [],
   "source": []
  },
  {
   "cell_type": "code",
   "execution_count": null,
   "id": "2d8480da-ec42-4cf8-a55f-b919fd385a83",
   "metadata": {},
   "outputs": [],
   "source": []
  },
  {
   "cell_type": "code",
   "execution_count": null,
   "id": "37a746ba-81a4-4cc9-87de-c8055e8d94eb",
   "metadata": {},
   "outputs": [],
   "source": []
  },
  {
   "cell_type": "code",
   "execution_count": null,
   "id": "a44f4dcb-414c-4552-bf74-075ba7f9f604",
   "metadata": {},
   "outputs": [],
   "source": []
  },
  {
   "cell_type": "code",
   "execution_count": null,
   "id": "8dff722b-5198-4ea7-813a-70351017476c",
   "metadata": {},
   "outputs": [],
   "source": []
  },
  {
   "cell_type": "code",
   "execution_count": null,
   "id": "0917ba7f-343e-4cb7-a655-e2f6d2c16999",
   "metadata": {},
   "outputs": [],
   "source": []
  },
  {
   "cell_type": "code",
   "execution_count": null,
   "id": "9f8c24a8-9b9e-4f88-8b1b-8cef7554ac46",
   "metadata": {},
   "outputs": [],
   "source": []
  },
  {
   "cell_type": "code",
   "execution_count": null,
   "id": "d5a27ee1-1a3d-442b-871c-b7f00a031abe",
   "metadata": {},
   "outputs": [],
   "source": []
  },
  {
   "cell_type": "code",
   "execution_count": null,
   "id": "a0b92b5a-9419-4e27-8004-87293fde9a29",
   "metadata": {},
   "outputs": [],
   "source": []
  },
  {
   "cell_type": "code",
   "execution_count": null,
   "id": "195fc615-7bb3-40ae-b1af-657e516dffa4",
   "metadata": {},
   "outputs": [],
   "source": []
  },
  {
   "cell_type": "code",
   "execution_count": null,
   "id": "71321f09-6068-4aeb-9d68-df80aa209ff9",
   "metadata": {},
   "outputs": [],
   "source": []
  },
  {
   "cell_type": "code",
   "execution_count": null,
   "id": "aa81b48d-9233-448e-9fca-83ec0197d255",
   "metadata": {},
   "outputs": [],
   "source": []
  },
  {
   "cell_type": "code",
   "execution_count": null,
   "id": "656cf169-de2b-4b37-bc42-b6956725dadc",
   "metadata": {},
   "outputs": [],
   "source": []
  },
  {
   "cell_type": "code",
   "execution_count": null,
   "id": "15233c0d-f073-4c33-a654-2de1e507b817",
   "metadata": {},
   "outputs": [],
   "source": []
  },
  {
   "cell_type": "code",
   "execution_count": null,
   "id": "0a814880-ed75-4433-b912-715a3b246211",
   "metadata": {},
   "outputs": [],
   "source": []
  }
 ],
 "metadata": {
  "kernelspec": {
   "display_name": "Python 3 (ipykernel)",
   "language": "python",
   "name": "python3"
  },
  "language_info": {
   "codemirror_mode": {
    "name": "ipython",
    "version": 3
   },
   "file_extension": ".py",
   "mimetype": "text/x-python",
   "name": "python",
   "nbconvert_exporter": "python",
   "pygments_lexer": "ipython3",
   "version": "3.9.2"
  }
 },
 "nbformat": 4,
 "nbformat_minor": 5
}
