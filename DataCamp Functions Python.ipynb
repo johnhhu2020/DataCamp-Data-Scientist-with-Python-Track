{
 "cells": [
  {
   "cell_type": "markdown",
   "id": "f544d5dc-0a12-46a0-81a2-24907ce468b1",
   "metadata": {},
   "source": [
    "## writing-functions-in-python/best-practices\n",
    "\n"
   ]
  },
  {
   "cell_type": "markdown",
   "id": "ee3660c7-430d-4620-ad0e-c5dede854619",
   "metadata": {},
   "source": [
    "## Best Practices\n",
    "Free\n",
    "The goal of this course is to transform you into a Python expert, and so the first chapter starts off with best practices when writing functions. You'll cover docstrings and why they matter and how to know when you need to turn a chunk of code into a function. You will also learn the details of how Python passes arguments to functions, as well as some common gotchas that can cause debugging headaches when calling functions.\n",
    "Play Chapter Now\n",
    "\n",
    "Docstrings       50 xp\n",
    "Crafting a docstring       100 xp\n",
    "Retrieving docstrings       100 xp\n",
    "Docstrings to the rescue!       50 xp\n",
    "DRY and \"Do One Thing\"       50 xp\n",
    "Extract a function       100 xp\n",
    "Split up a function       100 xp\n",
    "Pass by assignment       50 xp\n",
    "Mutable or immutable?       50 xp\n",
    "Best practice for default arguments       100 xp"
   ]
  },
  {
   "cell_type": "markdown",
   "id": "ea4d81ac-cd68-4898-aef8-f2604b662267",
   "metadata": {},
   "source": [
    "## Context Managers\n",
    "If you've ever seen the \"with\" keyword in Python and wondered what its deal was, then this is the chapter for you! Context managers are a convenient way to provide connections in Python and guarantee that those connections get cleaned up when you are done using them. This chapter will show you how to use context managers, as well as how to write your own.\n",
    "Play Chapter Now\n",
    "\n",
    "Using context managers       50 xp\n",
    "The number of cats       100 xp\n",
    "The speed of cats       100 xp\n",
    "Writing context managers       50 xp\n",
    "The timer() context manager       100 xp\n",
    "A read-only open() context manager       100 xp\n",
    "Advanced topics       50 xp\n",
    "Context manager use cases       50 xp\n",
    "Scraping the NASDAQ       100 xp\n",
    "Changing the working directory       100 xp"
   ]
  },
  {
   "cell_type": "markdown",
   "id": "2b88d9ac-0ec4-4cb6-ba86-79c41cd935d2",
   "metadata": {},
   "source": [
    "## Decorators\n",
    "Decorators are an extremely powerful concept in Python. They allow you to modify the behavior of a function without changing the code of the function itself. This chapter will lay the foundational concepts needed to thoroughly understand decorators (functions as objects, scope, and closures), and give you a good introduction into how decorators are used and defined. This deep dive into Python internals will set you up to be a superstar Pythonista.\n",
    "Play Chapter Now\n",
    "\n",
    "Functions are objects       50 xp\n",
    "Building a command line data app       100 xp\n",
    "Reviewing your co-worker's code       100 xp\n",
    "Returning functions for a math game       100 xp\n",
    "Scope       50 xp\n",
    "Understanding scope       50 xp\n",
    "Modifying variables outside local scope       100 xp\n",
    "Closures       50 xp\n",
    "Checking for closure       100 xp\n",
    "Closures keep your values safe       100 xp\n",
    "Decorators       50 xp\n",
    "Using decorator syntax       100 xp\n",
    "Defining a decorator       100 xp"
   ]
  },
  {
   "cell_type": "markdown",
   "id": "67a8d41c-55a6-4109-8129-aa2bbf0d9590",
   "metadata": {},
   "source": [
    "## More on Decorators\n",
    "Now that you understand how decorators work under the hood, this chapter gives you a bunch of real-world examples of when and how you would write decorators in your own code. You will also learn advanced decorator concepts like how to preserve the metadata of your decorated functions and how to write decorators that take arguments.\n",
    "Play Chapter Now\n",
    "\n",
    "Real-world examples       50 xp\n",
    "Print the return type       100 xp\n",
    "Counter       100 xp\n",
    "Decorators and metadata       50 xp\n",
    "Preserving docstrings when decorating functions       100 xp\n",
    "Measuring decorator overhead       100 xp\n",
    "Decorators that take arguments       50 xp\n",
    "Run_n_times()       100 xp\n",
    "HTML Generator       100 xp\n",
    "Timeout(): a real world example       50 xp\n",
    "Tag your functions       100 xp\n",
    "Check the return type       100 xp\n",
    "Great job!       50 xp"
   ]
  },
  {
   "cell_type": "code",
   "execution_count": null,
   "id": "64a0a052-9af3-4275-8377-f5f405b4d827",
   "metadata": {},
   "outputs": [],
   "source": []
  },
  {
   "cell_type": "markdown",
   "id": "9164f43e-4864-461c-ba3a-7181067bb6c5",
   "metadata": {},
   "source": [
    "## Docstrings\n",
    "\n",
    "\n",
    "\n",
    "it should be imperative language:\n",
    "    for example: split the dataframe and stack the columns.\n",
    "    instead of \"this function will split the dataframe and stack the columns\"\n",
    "\n",
    "'''\n",
    "1, description of what the function does,\n",
    "2, description of the arguments, if any,\n",
    "3, description of return values, if any,\n",
    "4, descriptions of error raised, if any,\n",
    "5, optional extra notes or example of useage.\n",
    "'''\n"
   ]
  },
  {
   "cell_type": "code",
   "execution_count": null,
   "id": "34baa86b-9de3-4826-a818-a0a32e670e59",
   "metadata": {},
   "outputs": [],
   "source": [
    "def split_and_stack(df, new_names):\n",
    "    '''\n",
    "    split a DataFrame's columns into two halves and then stack\n",
    "    them vertically, retuning a new DataFrame with 'new_names' as the column names.\n",
    "    \n",
    "    Args:\n",
    "    df (DataFrame): the DataFrameto split.\n",
    "    new_names (interableof str): the column names for the new DataFrame\n",
    "    \n",
    "    Returns:\n",
    "        DataFrame\n",
    "    '''\n",
    "    \n",
    "    half = int(len(df.columns)/2)\n",
    "    left = df.iloc[:,:half]\n",
    "    right = df.iloc[:,half:]\n",
    "    return pd.DataFrame(\n",
    "        data = np.vstack([left.values, right.values]), columns = new_names)\n",
    "\n",
    "\n"
   ]
  },
  {
   "cell_type": "code",
   "execution_count": null,
   "id": "d22e0258-f40c-4e70-9599-7f495c3efec0",
   "metadata": {},
   "outputs": [],
   "source": [
    "Google style:\n",
    "    \n",
    "    \n",
    "def function(arg_1, arg_2=42):\n",
    "    '''Description of what the function does\n",
    "    \n",
    "    Args:\n",
    "      arg_1 (str): Description of arg_1 that can be break into next line if needed.\n",
    "      arg_2 (int, optional): Write optional when an argument has a default value\n",
    "      \n",
    "    Returns:\n",
    "      bool: Optional description of the return value\n",
    "      Extra lines are not indented\n",
    "      \n",
    "    Raise:\n",
    "      ValueError: Include any error types that the fuction intentional raise\n",
    "      \n",
    "    Notes:\n",
    "      see https:www.datacamp.com/community/tutorials/docstrings-python\n",
    "      for more info\n",
    "    '''"
   ]
  },
  {
   "cell_type": "code",
   "execution_count": null,
   "id": "8d0a25b5-5d68-4d87-8ff9-189006945306",
   "metadata": {},
   "outputs": [],
   "source": [
    "Numpydoc style:\n",
    "    \n",
    "    \n",
    "def function(arg_1, arg_2=42):\n",
    "    \n",
    "    '''\n",
    "    Description of what the function does\n",
    "    \n",
    "    \n",
    "    Parameters\n",
    "    ----------\n",
    "    arg_1 : expected type of arg_1\n",
    "      Description of arg_1\n",
    "    arg_2 : int, optional\n",
    "      Write optional when an argument has a default value\n",
    "      Default=42\n",
    "      \n",
    "      \n",
    "    Returns\n",
    "    -------\n",
    "    The type of the return value\n",
    "      Can include a description of the return value\n",
    "      Replace \"Return\" with \"Yields\" if the function is a generator\n",
    "    \n",
    "    '''"
   ]
  },
  {
   "cell_type": "code",
   "execution_count": 5,
   "id": "b8182bb3-cf3c-4250-9b23-5f460f8c4a1c",
   "metadata": {},
   "outputs": [
    {
     "name": "stdout",
     "output_type": "stream",
     "text": [
      "Return the answer to life, the universe, and everything\n",
      "    \n",
      "    \n",
      "    Returns:\n",
      "      int\n",
      "      \n",
      "    \n",
      "Return the answer to life, the universe, and everything\n",
      "\n",
      "\n",
      "Returns:\n",
      "  int\n",
      "  \n"
     ]
    }
   ],
   "source": [
    "# Retrieving docstrings\n",
    "\n",
    "\n",
    "def the_answer():\n",
    "    '''Return the answer to life, the universe, and everything\n",
    "    \n",
    "    \n",
    "    Returns:\n",
    "      int\n",
    "      \n",
    "    '''\n",
    "    return 42\n",
    "\n",
    "\n",
    "\n",
    "print(the_answer.__doc__)\n",
    "\n",
    "\n",
    "import inspect\n",
    "print(inspect.getdoc(the_answer))"
   ]
  },
  {
   "cell_type": "markdown",
   "id": "9b525cda-d6b8-401f-a6b1-06eef3286ddd",
   "metadata": {},
   "source": [
    "## Crafting a docstring\n",
    "\n",
    "You've decided to write the world's greatest open-source natural language processing Python package. It will revolutionize working with free-form text, the way numpy did for arrays, pandas did for tabular data, and scikit-learn did for machine learning.\n",
    "\n",
    "The first function you write is count_letter(). It takes a string and a single letter and returns the number of times the letter appears in the string. You want the users of your open-source package to be able to understand how this function works easily, so you will need to give it a docstring. Build up a Google Style docstring for this function by following these steps.\n",
    "\n",
    "\n",
    "Copy the following string and add it as the docstring for the function: Count the number of times `letter` appears in `content`."
   ]
  },
  {
   "cell_type": "code",
   "execution_count": 13,
   "id": "2b140518-5d2d-4f14-8a97-a16a1a4b9385",
   "metadata": {},
   "outputs": [
    {
     "name": "stdout",
     "output_type": "stream",
     "text": [
      "8\n",
      "Count the number of times 'letter' appears in 'content'\n",
      "    \n",
      "    Args:\n",
      "      content (str): The paragraph content of a doc or article\n",
      "      letter (str): Any letter of 26 letters in alphabet\n",
      "  \n",
      "    Return:\n",
      "      int: The times letter appeaded in whole content\n",
      "  \n",
      "    Raise:\n",
      "      ValueError: Letter should be one character string\n",
      "  \n",
      "    Note:\n",
      "      see https://campus.datacamp.com/courses/writing-functions-in-python/best-practices?ex=2\n",
      "      for more info\n",
      "    \n"
     ]
    }
   ],
   "source": [
    "# Add a docstring to count_letter()\n",
    "def count_letter(content, letter):\n",
    "    '''Count the number of times 'letter' appears in 'content'\n",
    "    \n",
    "    Args:\n",
    "      content (str): The paragraph content of a doc or article\n",
    "      letter (str): Any letter of 26 letters in alphabet\n",
    "  \n",
    "    Return:\n",
    "      int: The times letter appeaded in whole content\n",
    "  \n",
    "    Raise:\n",
    "      ValueError: Letter should be one character string\n",
    "  \n",
    "    Note:\n",
    "      see https://campus.datacamp.com/courses/writing-functions-in-python/best-practices?ex=2\n",
    "      for more info\n",
    "    '''\n",
    "    \n",
    "    if (not isinstance(letter, str)) or len(letter) != 1:\n",
    "        raise ValueError('`letter` must be a single character string.')\n",
    "    return len([char for char in content if char == letter])\n",
    "\n",
    "\n",
    "\n",
    "\n",
    "a = 'A static method in Java does not translate to a Python classmethod. Oh sure, \\\n",
    "it results in more or less the same effect, but the goal of a classmethod is actually \\\n",
    "to do something that’s usually not even possible in Java (like inheriting a non-default \\\n",
    "constructor). The idiomatic translation of a Java static method is usually a module-level \\\n",
    "function, not a classmethod or staticmethod. (And static final fields should translate to \\\n",
    "module-level constants.)'\n",
    "\n",
    "print(count_letter(a,letter = 'f'))\n",
    "\n",
    "\n",
    "print(count_letter.__doc__)"
   ]
  },
  {
   "cell_type": "markdown",
   "id": "b47410c9-b35b-444d-9f2c-519498ed35f6",
   "metadata": {},
   "source": [
    "## Retrieving docstrings\n",
    "\n",
    "\n",
    "You and a group of friends are working on building an amazing new Python IDE (integrated development environment -- like PyCharm, Spyder, Eclipse, Visual Studio, etc.). The team wants to add a feature that displays a tooltip with a function's docstring whenever the user starts typing the function name. That way, the user doesn't have to go elsewhere to look up the documentation for the function they are trying to use. You've been asked to complete the build_tooltip() function that retrieves a docstring from an arbitrary function.\n",
    "\n",
    "You will be reusing the count_letter() function that you developed in the last exercise to show that we can properly extract its docstring.\n",
    "\n",
    "\n",
    "\n",
    "\n",
    "Begin by getting the docstring for the function count_letter(). Use an attribute of the count_letter() function.\n",
    "\n",
    "Now use a function from the inspect module to get a better-formatted version of count_letter()'s docstring.\n",
    "3\n",
    "\n",
    "Now create a build_tooltip() function that can extract the docstring from any function that we pass to it.\n",
    "\n",
    "Hint\n",
    "\n",
    "    We don't want to call the function (e.g. count_letter()). Instead, treat the function as an object (e.g. count_letter.<attribute_name>).\n",
    "    Try running dir(count_letter) in the shell to see a list of all of the attributes that the function has.\n",
    "\n",
    "\n",
    "\n",
    "\n",
    "\n",
    "Now use a function from the inspect module to get a better-formatted version of count_letter()'s docstring.\n",
    "\n",
    "Hint\n",
    "\n",
    "    Try running dir(inspect) in the shell to see the names of all of the available functions in the inspect module.\n",
    "\n",
    "\n",
    "\n",
    "\n",
    "\n",
    "Now create a build_tooltip() function that can extract the docstring from any function that we pass to it.\n",
    "\n"
   ]
  },
  {
   "cell_type": "code",
   "execution_count": 221,
   "id": "df171b34-936d-4a17-9cf2-bafc76bfd9e5",
   "metadata": {},
   "outputs": [
    {
     "name": "stdout",
     "output_type": "stream",
     "text": [
      "33\n",
      "Count the number of times 'letter' appears in 'content'\n",
      "\n",
      "Args:\n",
      "  content (str): The paragraph content of a doc or article\n",
      "  letter (str): Any letter of 26 letters in alphabet\n",
      "\n",
      "Return:\n",
      "  int: The times letter appeaded in whole content\n",
      "\n",
      "Raise:\n",
      "  ValueError: Letter should be one character string\n",
      "\n",
      "Note:\n",
      "  see https://campus.datacamp.com/courses/writing-functions-in-python/best-practices?ex=2\n",
      "  for more info\n",
      "\n",
      "\n",
      "Count the number of times 'letter' appears in 'content'\n",
      "    \n",
      "    Args:\n",
      "      content (str): The paragraph content of a doc or article\n",
      "      letter (str): Any letter of 26 letters in alphabet\n",
      "  \n",
      "    Return:\n",
      "      int: The times letter appeaded in whole content\n",
      "  \n",
      "    Raise:\n",
      "      ValueError: Letter should be one character string\n",
      "  \n",
      "    Note:\n",
      "      see https://campus.datacamp.com/courses/writing-functions-in-python/best-practices?ex=2\n",
      "      for more info\n",
      "    \n"
     ]
    }
   ],
   "source": [
    "# Add a docstring to count_letter()\n",
    "def count_letter(content, letter):\n",
    "    '''Count the number of times 'letter' appears in 'content'\n",
    "    \n",
    "    Args:\n",
    "      content (str): The paragraph content of a doc or article\n",
    "      letter (str): Any letter of 26 letters in alphabet\n",
    "  \n",
    "    Return:\n",
    "      int: The times letter appeaded in whole content\n",
    "  \n",
    "    Raise:\n",
    "      ValueError: Letter should be one character string\n",
    "  \n",
    "    Note:\n",
    "      see https://campus.datacamp.com/courses/writing-functions-in-python/best-practices?ex=2\n",
    "      for more info\n",
    "    '''\n",
    "    \n",
    "    if (not isinstance(letter, str)) or len(letter) != 1:\n",
    "        raise ValueError('`letter` must be a single character string.')\n",
    "    return len([char for char in content if char == letter])\n",
    "\n",
    "\n",
    "\n",
    "\n",
    "a = 'A static method in Java does not translate to a Python classmethod. Oh sure, \\\n",
    "it results in more or less the same effect, but the goal of a classmethod is actually \\\n",
    "to do something that’s usually not even possible in Java (like inheriting a non-default \\\n",
    "constructor). The idiomatic translation of a Java static method is usually a module-level \\\n",
    "function, not a classmethod or staticmethod. (And static final fields should translate to \\\n",
    "module-level constants.)'\n",
    "\n",
    "print(count_letter(a,letter = 's'))\n",
    "\n",
    "dir(count_letter)\n",
    "#?count_letter\n",
    "\n",
    "import inspect\n",
    "dir(inspect)\n",
    "print(inspect.getdoc(count_letter))\n",
    "print()\n",
    "print()\n",
    "print(count_letter.__doc__)"
   ]
  },
  {
   "cell_type": "code",
   "execution_count": 31,
   "id": "3ad9e239-13d1-4879-98f8-c175203b6766",
   "metadata": {},
   "outputs": [
    {
     "name": "stdout",
     "output_type": "stream",
     "text": [
      "############################ \n",
      "Count the number of times 'letter' appears in 'content'\n",
      "\n",
      "Args:\n",
      "  content (str): The paragraph content of a doc or article\n",
      "  letter (str): Any letter of 26 letters in alphabet\n",
      "\n",
      "Return:\n",
      "  int: The times letter appeaded in whole content\n",
      "\n",
      "Raise:\n",
      "  ValueError: Letter should be one character string\n",
      "\n",
      "Note:\n",
      "  see https://campus.datacamp.com/courses/writing-functions-in-python/best-practices?ex=2\n",
      "  for more info \n",
      "############################\n"
     ]
    }
   ],
   "source": [
    "import inspect\n",
    "\n",
    "def build_tooltip(function):\n",
    "    \"\"\"Create a tooltip for any function that shows the\n",
    "    function's docstring.\n",
    "    \n",
    "    Args:\n",
    "      function (callable): The function we want a tooltip for.\n",
    "\n",
    "    Returns:\n",
    "      str\n",
    "    \"\"\"\n",
    "    \n",
    "    # Get the docstring for the \"function\" argument by using inspect\n",
    "    docstring = inspect.getdoc(function)\n",
    "    border = '#' * 28\n",
    "    return '{} \\n{} \\n{}'.format(border, docstring, border)\n",
    "\n",
    "print(build_tooltip(count_letter))\n",
    "#print(build_tooltip(range))\n",
    "#print(build_tooltip(print))"
   ]
  },
  {
   "cell_type": "markdown",
   "id": "e734d537-76c2-4e62-847b-8543d3b09c63",
   "metadata": {},
   "source": [
    "## Docstrings to the rescue!\n",
    "\n",
    "Some maniac has corrupted your installation of numpy! All of the functions still exist, but they've been given random names. You desperately need to call the numpy.histogram() function and you don't have time to reinstall the package. Fortunately for you, the maniac didn't think to alter the docstrings, and you know how to access them. numpy has a lot of functions in it, so we've narrowed it down to four possible functions that could be numpy.histogram() in disguise: numpy.leyud(), numpy.uqka(), numpy.fywdkxa() or numpy.jinzyxq().\n",
    "\n",
    "Examine each of these functions' docstrings in the IPython shell to determine which of them is actually numpy.histogram().\n",
    "\n",
    "\n",
    "Possible Answers\n",
    "\n",
    "    numpy.leyud()\n",
    "    numpy.uqka()\n",
    "    numpy.fywdkxa()\n",
    "    numpy.jinzyxq()\n",
    "    \n",
    "\n",
    "Hint\n",
    "\n",
    "    To view a function's docstring, you can either use print(function_name.__doc__) or print(inspect.getdoc(function_name)).\n"
   ]
  },
  {
   "cell_type": "code",
   "execution_count": 196,
   "id": "ba335f01-bab4-4ba1-b16f-687ce1bc3f35",
   "metadata": {
    "tags": []
   },
   "outputs": [
    {
     "name": "stdout",
     "output_type": "stream",
     "text": [
      "\n",
      "    Compute the histogram of a set of data.\n",
      "\n",
      "    Parameters\n",
      "    ----------\n",
      "    a : array_like\n",
      "        Input data. The histogram is computed over the flattened array.\n",
      "    bins : int or sequence of scalars or str, optional\n",
      "        If `bins` is an int, it defines the number of equal-width\n",
      "        bins in the given range (10, by default). If `bins` is a\n",
      "        sequence, it defines a monotonically increasing array of bin edges,\n",
      "        including the rightmost edge, allowing for non-uniform bin widths.\n",
      "\n",
      "        .. versionadded:: 1.11.0\n",
      "\n",
      "        If `bins` is a string, it defines the method used to calculate the\n",
      "        optimal bin width, as defined by `histogram_bin_edges`.\n",
      "\n",
      "    range : (float, float), optional\n",
      "        The lower and upper range of the bins.  If not provided, range\n",
      "        is simply ``(a.min(), a.max())``.  Values outside the range are\n",
      "        ignored. The first element of the range must be less than or\n",
      "        equal to the second. `range` affects the automatic bin\n",
      "        computation as well. While bin width is computed to be optimal\n",
      "        based on the actual data within `range`, the bin count will fill\n",
      "        the entire range including portions containing no data.\n",
      "    normed : bool, optional\n",
      "\n",
      "        .. deprecated:: 1.6.0\n",
      "\n",
      "        This is equivalent to the `density` argument, but produces incorrect\n",
      "        results for unequal bin widths. It should not be used.\n",
      "\n",
      "        .. versionchanged:: 1.15.0\n",
      "            DeprecationWarnings are actually emitted.\n",
      "\n",
      "    weights : array_like, optional\n",
      "        An array of weights, of the same shape as `a`.  Each value in\n",
      "        `a` only contributes its associated weight towards the bin count\n",
      "        (instead of 1). If `density` is True, the weights are\n",
      "        normalized, so that the integral of the density over the range\n",
      "        remains 1.\n",
      "    density : bool, optional\n",
      "        If ``False``, the result will contain the number of samples in\n",
      "        each bin. If ``True``, the result is the value of the\n",
      "        probability *density* function at the bin, normalized such that\n",
      "        the *integral* over the range is 1. Note that the sum of the\n",
      "        histogram values will not be equal to 1 unless bins of unity\n",
      "        width are chosen; it is not a probability *mass* function.\n",
      "\n",
      "        Overrides the ``normed`` keyword if given.\n",
      "\n",
      "    Returns\n",
      "    -------\n",
      "    hist : array\n",
      "        The values of the histogram. See `density` and `weights` for a\n",
      "        description of the possible semantics.\n",
      "    bin_edges : array of dtype float\n",
      "        Return the bin edges ``(length(hist)+1)``.\n",
      "\n",
      "\n",
      "    See Also\n",
      "    --------\n",
      "    histogramdd, bincount, searchsorted, digitize, histogram_bin_edges\n",
      "\n",
      "    Notes\n",
      "    -----\n",
      "    All but the last (righthand-most) bin is half-open.  In other words,\n",
      "    if `bins` is::\n",
      "\n",
      "      [1, 2, 3, 4]\n",
      "\n",
      "    then the first bin is ``[1, 2)`` (including 1, but excluding 2) and\n",
      "    the second ``[2, 3)``.  The last bin, however, is ``[3, 4]``, which\n",
      "    *includes* 4.\n",
      "\n",
      "\n",
      "    Examples\n",
      "    --------\n",
      "    >>> np.histogram([1, 2, 1], bins=[0, 1, 2, 3])\n",
      "    (array([0, 2, 1]), array([0, 1, 2, 3]))\n",
      "    >>> np.histogram(np.arange(4), bins=np.arange(5), density=True)\n",
      "    (array([0.25, 0.25, 0.25, 0.25]), array([0, 1, 2, 3, 4]))\n",
      "    >>> np.histogram([[1, 2, 1], [1, 0, 1]], bins=[0,1,2,3])\n",
      "    (array([1, 4, 1]), array([0, 1, 2, 3]))\n",
      "\n",
      "    >>> a = np.arange(5)\n",
      "    >>> hist, bin_edges = np.histogram(a, density=True)\n",
      "    >>> hist\n",
      "    array([0.5, 0. , 0.5, 0. , 0. , 0.5, 0. , 0.5, 0. , 0.5])\n",
      "    >>> hist.sum()\n",
      "    2.4999999999999996\n",
      "    >>> np.sum(hist * np.diff(bin_edges))\n",
      "    1.0\n",
      "\n",
      "    .. versionadded:: 1.11.0\n",
      "\n",
      "    Automated Bin Selection Methods example, using 2 peak random data\n",
      "    with 2000 points:\n",
      "\n",
      "    >>> import matplotlib.pyplot as plt\n",
      "    >>> rng = np.random.RandomState(10)  # deterministic random data\n",
      "    >>> a = np.hstack((rng.normal(size=1000),\n",
      "    ...                rng.normal(loc=5, scale=2, size=1000)))\n",
      "    >>> _ = plt.hist(a, bins='auto')  # arguments are passed to np.histogram\n",
      "    >>> plt.title(\"Histogram with 'auto' bins\")\n",
      "    Text(0.5, 1.0, \"Histogram with 'auto' bins\")\n",
      "    >>> plt.show()\n",
      "\n",
      "    \n"
     ]
    }
   ],
   "source": [
    "import numpy as numpy\n",
    "\n",
    "#numpy.leyud.__doc__\n",
    "\n",
    "#numpy.uqka.__doc__\n",
    "\n",
    "#numpy.fywdkxa.__doc__\n",
    "\n",
    "#print(numpy.jinzyxq.__doc__)\n",
    "\n",
    "#print(numpy.array.__doc__)\n",
    "\n",
    "\n",
    "print(numpy.histogram.__doc__)\n",
    "# ----------------------------------------------------------------------------- #"
   ]
  },
  {
   "cell_type": "code",
   "execution_count": null,
   "id": "f71b01d6-9a4b-4482-a758-3481a23f4fd8",
   "metadata": {},
   "outputs": [],
   "source": [
    "In [2]:\n",
    "print(numpy.leyud.__doc__)\n",
    "\n",
    "    Gives a new shape to an array without changing its data.\n",
    "\n",
    "    Parameters\n",
    "    ----------\n",
    "    a : array_like\n",
    "        Array to be reshaped.\n",
    "    newshape : int or tuple of ints\n",
    "        The new shape should be compatible with the original shape. If\n",
    "        an integer, then the result will be a 1-D array of that length.\n",
    "        One shape dimension can be -1. In this case, the value is\n",
    "        inferred from the length of the array and remaining dimensions.\n",
    "    order : {'C', 'F', 'A'}, optional\n",
    "        Read the elements of `a` using this index order, and place the\n",
    "        elements into the reshaped array using this index order.  'C'\n",
    "        means to read / write the elements using C-like index order,\n",
    "        with the last axis index changing fastest, back to the first\n",
    "        axis index changing slowest. 'F' means to read / write the\n",
    "        elements using Fortran-like index order, with the first index\n",
    "        changing fastest, and the last index changing slowest. Note that\n",
    "        the 'C' and 'F' options take no account of the memory layout of\n",
    "        the underlying array, and only refer to the order of indexing.\n",
    "        'A' means to read / write the elements in Fortran-like index\n",
    "        order if `a` is Fortran *contiguous* in memory, C-like order\n",
    "        otherwise.\n",
    "\n",
    "    Returns\n",
    "    -------\n",
    "    reshaped_array : ndarray\n",
    "        This will be a new view object if possible; otherwise, it will\n",
    "        be a copy.  Note there is no guarantee of the *memory layout* (C- or\n",
    "        Fortran- contiguous) of the returned array.\n",
    "\n",
    "    See Also\n",
    "    --------\n",
    "    ndarray.reshape : Equivalent method.\n",
    "\n",
    "    Notes\n",
    "    -----\n",
    "    It is not always possible to change the shape of an array without\n",
    "    copying the data. If you want an error to be raised when the data is copied,\n",
    "    you should assign the new shape to the shape attribute of the array::\n",
    "\n",
    "     >>> a = np.zeros((10, 2))\n",
    "     # A transpose makes the array non-contiguous\n",
    "     >>> b = a.T\n",
    "     # Taking a view makes it possible to modify the shape without modifying\n",
    "     # the initial object.\n",
    "     >>> c = b.view()\n",
    "     >>> c.shape = (20)\n",
    "     AttributeError: incompatible shape for a non-contiguous array\n",
    "\n",
    "    The `order` keyword gives the index ordering both for *fetching* the values\n",
    "    from `a`, and then *placing* the values into the output array.\n",
    "    For example, let's say you have an array:\n",
    "\n",
    "    >>> a = np.arange(6).reshape((3, 2))\n",
    "    >>> a\n",
    "    array([[0, 1],\n",
    "           [2, 3],\n",
    "           [4, 5]])\n",
    "\n",
    "    You can think of reshaping as first raveling the array (using the given\n",
    "    index order), then inserting the elements from the raveled array into the\n",
    "    new array using the same kind of index ordering as was used for the\n",
    "    raveling.\n",
    "\n",
    "    >>> np.reshape(a, (2, 3)) # C-like index ordering\n",
    "    array([[0, 1, 2],\n",
    "           [3, 4, 5]])\n",
    "    >>> np.reshape(np.ravel(a), (2, 3)) # equivalent to C ravel then C reshape\n",
    "    array([[0, 1, 2],\n",
    "           [3, 4, 5]])\n",
    "    >>> np.reshape(a, (2, 3), order='F') # Fortran-like index ordering\n",
    "    array([[0, 4, 3],\n",
    "           [2, 1, 5]])\n",
    "    >>> np.reshape(np.ravel(a, order='F'), (2, 3), order='F')\n",
    "    array([[0, 4, 3],\n",
    "           [2, 1, 5]])\n",
    "\n",
    "    Examples\n",
    "    --------\n",
    "    >>> a = np.array([[1,2,3], [4,5,6]])\n",
    "    >>> np.reshape(a, 6)\n",
    "    array([1, 2, 3, 4, 5, 6])\n",
    "    >>> np.reshape(a, 6, order='F')\n",
    "    array([1, 4, 2, 5, 3, 6])\n",
    "\n",
    "    >>> np.reshape(a, (3,-1))       # the unspecified value is inferred to be 2\n",
    "    array([[1, 2],\n",
    "           [3, 4],\n",
    "           [5, 6]])\n",
    "    \n",
    "In [3]:\n",
    "print(numpy.uqka.__doc__)\n",
    "\n",
    "    Returns the indices that would sort an array.\n",
    "\n",
    "    Perform an indirect sort along the given axis using the algorithm specified\n",
    "    by the `kind` keyword. It returns an array of indices of the same shape as\n",
    "    `a` that index data along the given axis in sorted order.\n",
    "\n",
    "    Parameters\n",
    "    ----------\n",
    "    a : array_like\n",
    "        Array to sort.\n",
    "    axis : int or None, optional\n",
    "        Axis along which to sort.  The default is -1 (the last axis). If None,\n",
    "        the flattened array is used.\n",
    "    kind : {'quicksort', 'mergesort', 'heapsort', 'stable'}, optional\n",
    "        Sorting algorithm.\n",
    "    order : str or list of str, optional\n",
    "        When `a` is an array with fields defined, this argument specifies\n",
    "        which fields to compare first, second, etc.  A single field can\n",
    "        be specified as a string, and not all fields need be specified,\n",
    "        but unspecified fields will still be used, in the order in which\n",
    "        they come up in the dtype, to break ties.\n",
    "\n",
    "    Returns\n",
    "    -------\n",
    "    index_array : ndarray, int\n",
    "        Array of indices that sort `a` along the specified axis.\n",
    "        If `a` is one-dimensional, ``a[index_array]`` yields a sorted `a`.\n",
    "        More generally, ``np.take_along_axis(a, index_array, axis=a)`` always\n",
    "        yields the sorted `a`, irrespective of dimensionality.\n",
    "\n",
    "    See Also\n",
    "    --------\n",
    "    sort : Describes sorting algorithms used.\n",
    "    lexsort : Indirect stable sort with multiple keys.\n",
    "    ndarray.sort : Inplace sort.\n",
    "    argpartition : Indirect partial sort.\n",
    "\n",
    "    Notes\n",
    "    -----\n",
    "    See `sort` for notes on the different sorting algorithms.\n",
    "\n",
    "    As of NumPy 1.4.0 `argsort` works with real/complex arrays containing\n",
    "    nan values. The enhanced sort order is documented in `sort`.\n",
    "\n",
    "    Examples\n",
    "    --------\n",
    "    One dimensional array:\n",
    "\n",
    "    >>> x = np.array([3, 1, 2])\n",
    "    >>> np.argsort(x)\n",
    "    array([1, 2, 0])\n",
    "\n",
    "    Two-dimensional array:\n",
    "\n",
    "    >>> x = np.array([[0, 3], [2, 2]])\n",
    "    >>> x\n",
    "    array([[0, 3],\n",
    "           [2, 2]])\n",
    "\n",
    "    >>> np.argsort(x, axis=0)  # sorts along first axis (down)\n",
    "    array([[0, 1],\n",
    "           [1, 0]])\n",
    "\n",
    "    >>> np.argsort(x, axis=1)  # sorts along last axis (across)\n",
    "    array([[0, 1],\n",
    "           [0, 1]])\n",
    "\n",
    "    Indices of the sorted elements of a N-dimensional array:\n",
    "\n",
    "    >>> ind = np.unravel_index(np.argsort(x, axis=None), x.shape)\n",
    "    >>> ind\n",
    "    (array([0, 1, 1, 0]), array([0, 0, 1, 1]))\n",
    "    >>> x[ind]  # same as np.sort(x, axis=None)\n",
    "    array([0, 2, 2, 3])\n",
    "\n",
    "    Sorting with keys:\n",
    "\n",
    "    >>> x = np.array([(1, 0), (0, 1)], dtype=[('x', '<i4'), ('y', '<i4')])\n",
    "    >>> x\n",
    "    array([(1, 0), (0, 1)],\n",
    "          dtype=[('x', '<i4'), ('y', '<i4')])\n",
    "\n",
    "    >>> np.argsort(x, order=('x','y'))\n",
    "    array([1, 0])\n",
    "\n",
    "    >>> np.argsort(x, order=('y','x'))\n",
    "    array([0, 1])\n",
    "\n",
    "    \n",
    "In [4]:\n",
    "print(numpy.fywdkxa.__doc__)\n",
    "\n",
    "    Compute the histogram of a set of data.\n",
    "\n",
    "    Parameters\n",
    "    ----------\n",
    "    a : array_like\n",
    "        Input data. The histogram is computed over the flattened array.\n",
    "    bins : int or sequence of scalars or str, optional\n",
    "        If `bins` is an int, it defines the number of equal-width\n",
    "        bins in the given range (10, by default). If `bins` is a\n",
    "        sequence, it defines the bin edges, including the rightmost\n",
    "        edge, allowing for non-uniform bin widths.\n",
    "\n",
    "        .. versionadded:: 1.11.0\n",
    "\n",
    "        If `bins` is a string, it defines the method used to calculate the\n",
    "        optimal bin width, as defined by `histogram_bin_edges`.\n",
    "\n",
    "    range : (float, float), optional\n",
    "        The lower and upper range of the bins.  If not provided, range\n",
    "        is simply ``(a.min(), a.max())``.  Values outside the range are\n",
    "        ignored. The first element of the range must be less than or\n",
    "        equal to the second. `range` affects the automatic bin\n",
    "        computation as well. While bin width is computed to be optimal\n",
    "        based on the actual data within `range`, the bin count will fill\n",
    "        the entire range including portions containing no data.\n",
    "    normed : bool, optional\n",
    "\n",
    "        .. deprecated:: 1.6.0\n",
    "\n",
    "        This is equivalent to the `density` argument, but produces incorrect\n",
    "        results for unequal bin widths. It should not be used.\n",
    "\n",
    "        .. versionchanged:: 1.15.0\n",
    "            DeprecationWarnings are actually emitted.\n",
    "\n",
    "    weights : array_like, optional\n",
    "        An array of weights, of the same shape as `a`.  Each value in\n",
    "        `a` only contributes its associated weight towards the bin count\n",
    "        (instead of 1). If `density` is True, the weights are\n",
    "        normalized, so that the integral of the density over the range\n",
    "        remains 1.\n",
    "    density : bool, optional\n",
    "        If ``False``, the result will contain the number of samples in\n",
    "        each bin. If ``True``, the result is the value of the\n",
    "        probability *density* function at the bin, normalized such that\n",
    "        the *integral* over the range is 1. Note that the sum of the\n",
    "        histogram values will not be equal to 1 unless bins of unity\n",
    "        width are chosen; it is not a probability *mass* function.\n",
    "\n",
    "        Overrides the ``normed`` keyword if given.\n",
    "\n",
    "    Returns\n",
    "    -------\n",
    "    hist : array\n",
    "        The values of the histogram. See `density` and `weights` for a\n",
    "        description of the possible semantics.\n",
    "    bin_edges : array of dtype float\n",
    "        Return the bin edges ``(length(hist)+1)``.\n",
    "\n",
    "\n",
    "    See Also\n",
    "    --------\n",
    "    histogramdd, bincount, searchsorted, digitize, histogram_bin_edges\n",
    "\n",
    "    Notes\n",
    "    -----\n",
    "    All but the last (righthand-most) bin is half-open.  In other words,\n",
    "    if `bins` is::\n",
    "\n",
    "      [1, 2, 3, 4]\n",
    "\n",
    "    then the first bin is ``[1, 2)`` (including 1, but excluding 2) and\n",
    "    the second ``[2, 3)``.  The last bin, however, is ``[3, 4]``, which\n",
    "    *includes* 4.\n",
    "\n",
    "\n",
    "    Examples\n",
    "    --------\n",
    "    >>> np.histogram([1, 2, 1], bins=[0, 1, 2, 3])\n",
    "    (array([0, 2, 1]), array([0, 1, 2, 3]))\n",
    "    >>> np.histogram(np.arange(4), bins=np.arange(5), density=True)\n",
    "    (array([ 0.25,  0.25,  0.25,  0.25]), array([0, 1, 2, 3, 4]))\n",
    "    >>> np.histogram([[1, 2, 1], [1, 0, 1]], bins=[0,1,2,3])\n",
    "    (array([1, 4, 1]), array([0, 1, 2, 3]))\n",
    "\n",
    "    >>> a = np.arange(5)\n",
    "    >>> hist, bin_edges = np.histogram(a, density=True)\n",
    "    >>> hist\n",
    "    array([ 0.5,  0. ,  0.5,  0. ,  0. ,  0.5,  0. ,  0.5,  0. ,  0.5])\n",
    "    >>> hist.sum()\n",
    "    2.4999999999999996\n",
    "    >>> np.sum(hist * np.diff(bin_edges))\n",
    "    1.0\n",
    "\n",
    "    .. versionadded:: 1.11.0\n",
    "\n",
    "    Automated Bin Selection Methods example, using 2 peak random data\n",
    "    with 2000 points:\n",
    "\n",
    "    >>> import matplotlib.pyplot as plt\n",
    "    >>> rng = np.random.RandomState(10)  # deterministic random data\n",
    "    >>> a = np.hstack((rng.normal(size=1000),\n",
    "    ...                rng.normal(loc=5, scale=2, size=1000)))\n",
    "    >>> plt.hist(a, bins='auto')  # arguments are passed to np.histogram\n",
    "    >>> plt.title(\"Histogram with 'auto' bins\")\n",
    "    >>> plt.show()\n",
    "\n",
    "    \n",
    "In [5]:\n",
    "print(numpy.jinzyxq.__doc__)\n",
    "\n",
    "    Return an array of zeros with the same shape and type as a given array.\n",
    "\n",
    "    Parameters\n",
    "    ----------\n",
    "    a : array_like\n",
    "        The shape and data-type of `a` define these same attributes of\n",
    "        the returned array.\n",
    "    dtype : data-type, optional\n",
    "        Overrides the data type of the result.\n",
    "\n",
    "        .. versionadded:: 1.6.0\n",
    "    order : {'C', 'F', 'A', or 'K'}, optional\n",
    "        Overrides the memory layout of the result. 'C' means C-order,\n",
    "        'F' means F-order, 'A' means 'F' if `a` is Fortran contiguous,\n",
    "        'C' otherwise. 'K' means match the layout of `a` as closely\n",
    "        as possible.\n",
    "\n",
    "        .. versionadded:: 1.6.0\n",
    "    subok : bool, optional.\n",
    "        If True, then the newly created array will use the sub-class\n",
    "        type of 'a', otherwise it will be a base-class array. Defaults\n",
    "        to True.\n",
    "\n",
    "    Returns\n",
    "    -------\n",
    "    out : ndarray\n",
    "        Array of zeros with the same shape and type as `a`.\n",
    "\n",
    "    See Also\n",
    "    --------\n",
    "    empty_like : Return an empty array with shape and type of input.\n",
    "    ones_like : Return an array of ones with shape and type of input.\n",
    "    full_like : Return a new array with shape of input filled with value.\n",
    "    zeros : Return a new array setting values to zero.\n",
    "\n",
    "    Examples\n",
    "    --------\n",
    "    >>> x = np.arange(6)\n",
    "    >>> x = x.reshape((2, 3))\n",
    "    >>> x\n",
    "    array([[0, 1, 2],\n",
    "           [3, 4, 5]])\n",
    "    >>> np.zeros_like(x)\n",
    "    array([[0, 0, 0],\n",
    "           [0, 0, 0]])\n",
    "\n",
    "    >>> y = np.arange(3, dtype=float)\n",
    "    >>> y\n",
    "    array([ 0.,  1.,  2.])\n",
    "    >>> np.zeros_like(y)\n",
    "    array([ 0.,  0.,  0.])\n",
    "\n",
    "    "
   ]
  },
  {
   "cell_type": "markdown",
   "id": "e25e4b43-0280-4b73-b98d-cf313dafc1c9",
   "metadata": {},
   "source": [
    "## DRY and \"Do One Thing\"\n",
    "\n",
    "\n",
    "\n",
    "copy and paste code cause problems, mistakes"
   ]
  },
  {
   "cell_type": "code",
   "execution_count": null,
   "id": "1ed6d112-2fff-435f-9ebc-e7cc38f05da7",
   "metadata": {},
   "outputs": [],
   "source": [
    "train = pd.read_csv('abc.csv')\n",
    "train_y = train['labels'].values\n",
    "train_x = train[col for col in train.columns id col != 'labels'].values\n",
    "train_pca = PCA(n_components=2).fit_transform(train_x)\n",
    "plt.scatter(train_pca[:,0], train_pca[:,1])\n",
    "\n",
    "\n",
    "val = pd.read_csv('abc.csv')\n",
    "val_y = val['labels'].values\n",
    "val_x = val[col for col in val.columns id col != 'labels'].values\n",
    "val_pca = PCA(n_components=2).fit_transform(val_x)\n",
    "plt.scatter(val_pca[:,0], val_pca[:,1])\n",
    "\n",
    "\n",
    "test = pd.read_csv('abc.csv')\n",
    "test_y = test['labels'].testues\n",
    "test_x = test[col for col in test.columns id col != 'labels'].testues\n",
    "test_pca = PCA(n_components=2).fit_transform(test_x)\n",
    "plt.scatter(test_pca[:,0], test_pca[:,1])\n",
    "\n",
    "\n",
    "\n",
    "# repeated code like this is a good sign that you should write a function, lets do this"
   ]
  },
  {
   "cell_type": "code",
   "execution_count": null,
   "id": "a2e91e52-f988-47ed-bffc-c9bbf3626296",
   "metadata": {},
   "outputs": [],
   "source": [
    "def load_and_plot(path):\n",
    "    '''Load a data set and plot the first two principal components\n",
    "    \n",
    "    Args:\n",
    "      path (str): The location of csv file\n",
    "      \n",
    "    Returns:\n",
    "      Tuple of numpy ndarray: (features, labels)\n",
    "    \n",
    "    '''\n",
    "    \n",
    "    data = pd.read_csv(path)\n",
    "    Y = data['label'].values\n",
    "    X = data[col for col in data.columns in col != 'label'].values\n",
    "    pca = PCA(n_components=2).fit_transform(X)\n",
    "    plt.scatter(pca[:,0], pca[:,1])\n",
    "    \n",
    "    return X, Y\n",
    "\n",
    "\n",
    "\n",
    "train_X, train_y = load_and_plot('train.csv')\n",
    "val_X, val_y = load_and_plot('val.csv')\n",
    "test_X, test_y = load_and_plot('test.csv')\n",
    "\n",
    "\n",
    "## Wrapping the repeated logic in a function and then calling that function several times."
   ]
  },
  {
   "cell_type": "markdown",
   "id": "3b4b434a-bf2a-4cf1-80d5-d832ecc70c95",
   "metadata": {},
   "source": [
    "## Every function should have one responsibility, Do One Thing principle\n",
    "\n",
    "\n",
    "\n",
    "\n",
    "************************** THINK"
   ]
  },
  {
   "cell_type": "code",
   "execution_count": 45,
   "id": "15a8410e-36fe-4fa0-acbe-f8f64cd32d53",
   "metadata": {},
   "outputs": [
    {
     "data": {
      "text/plain": [
       "(array([[1, 'Cliff', 'DataScientist', 800000],\n",
       "        [2, 'Frank', 'DataEngineer', 900008],\n",
       "        [3, 'Steve', 'PythonDeveloper', 900001],\n",
       "        [4, 'Coco', 'DataEngineer', 900002],\n",
       "        [5, 'John', 'DataScientist', 900003]], dtype=object),\n",
       " array([1, 0, 0, 3, 1]))"
      ]
     },
     "execution_count": 45,
     "metadata": {},
     "output_type": "execute_result"
    }
   ],
   "source": [
    "import pandas as pd\n",
    "\n",
    "def load_data(path):\n",
    "    '''Load a data set\n",
    "    \n",
    "    Args:\n",
    "      path (str): The locatio of csv file\n",
    "      \n",
    "    Returns:\n",
    "      Tuple of ndarray: (features, labels)\n",
    "      \n",
    "    '''\n",
    "    \n",
    "    df = pd.read_csv(path)\n",
    "    y = df['labels'].values\n",
    "    X = df[[i for i in list(df.columns) if i != 'labels']].values\n",
    "    #X = df[[i for i in df.columns if i != 'labels']].values\n",
    "    #df[[i for i in list(df.columns) if i not in [list_of_columns_to_exclude]]]\n",
    "    #df = pd.DataFrame([[i] for i in range(10)], columns=['num'])\n",
    "\n",
    "    \n",
    "    return X,  y\n",
    "\n",
    "\n",
    "load_data('train.csv')"
   ]
  },
  {
   "cell_type": "code",
   "execution_count": 224,
   "id": "a5dbb2da-3b0b-4d18-9014-08c7ec2ad1ac",
   "metadata": {},
   "outputs": [
    {
     "data": {
      "text/plain": [
       "(   id   name              job  salary\n",
       " 0   1  Cliff    DataScientist  800000\n",
       " 1   2  Frank     DataEngineer  900008\n",
       " 2   3  Steve  PythonDeveloper  900001\n",
       " 3   4   Coco     DataEngineer  900002\n",
       " 4   5   John    DataScientist  900003,\n",
       "    id  name            job  salary  labels\n",
       " 4   5  John  DataScientist  900003       1)"
      ]
     },
     "execution_count": 224,
     "metadata": {},
     "output_type": "execute_result"
    }
   ],
   "source": [
    "import pandas as pd\n",
    "\n",
    "def load_data(path):\n",
    "    \n",
    "    df = pd.read_csv(path)\n",
    "    #y = df['labels'].values\n",
    "    y = df.loc[df.columns == 'labels']\n",
    "        # <= pandas.DataFrame.loc, Single label. Note this returns the row as a Series\n",
    "\n",
    "    X = df.loc[:, df.columns != 'labels']  # ******************************************************* #\n",
    "        # <= pandas.DataFrame.loc, List of labels. Note using [[]] returns a DataFrame.\n",
    "\n",
    "        \n",
    "    #X = pd.DataFrame([i] for i in df.columns, if i != 'labels')\n",
    "    #df = pd.DataFrame([[i] for i in range(10)], columns=['num'])\n",
    "    #df.loc[:, df.columns != 'b']\n",
    "\n",
    "    \n",
    "    return X,  y\n",
    "\n",
    "\n",
    "load_data('train.csv')\n",
    "#ff = load_data('train.csv')\n",
    "#?ff  # <= tuple return"
   ]
  },
  {
   "cell_type": "code",
   "execution_count": 226,
   "id": "0d1d3a3e-76f2-416b-987c-f974e41fbdc3",
   "metadata": {},
   "outputs": [
    {
     "data": {
      "text/plain": [
       "(   id   name              job  salary\n",
       " 0   1  Cliff    DataScientist  800000\n",
       " 1   2  Frank     DataEngineer  900008\n",
       " 2   3  Steve  PythonDeveloper  900001\n",
       " 3   4   Coco     DataEngineer  900002\n",
       " 4   5   John    DataScientist  900003,\n",
       " 0    1\n",
       " 1    0\n",
       " 2    0\n",
       " 3    3\n",
       " 4    1\n",
       " Name: labels, dtype: int64)"
      ]
     },
     "execution_count": 226,
     "metadata": {},
     "output_type": "execute_result"
    }
   ],
   "source": [
    "import pandas as pd\n",
    "\n",
    "def load_data(path):\n",
    "    \n",
    "    df = pd.read_csv(path)\n",
    "    \n",
    "    y = df['labels']    \n",
    "    # <= pandas.DataFrame.loc, Single label. Note this returns the row as a Series\n",
    "    \n",
    "    # In Pandas, we can select a single column with just using the index operator [],\n",
    "    #   but without list as argument. However, the resulting object is a Pandas series \n",
    "    #   instead of Pandas Dataframe. For example, if we use df[‘A’], we would have \n",
    "    #   selected the single column as Pandas Series object\n",
    "    \n",
    "    X = df[['id', 'name', 'job', 'salary']]\n",
    "    # <= pandas.DataFrame.loc, List of labels. Note using [[]] returns a DataFrame.\n",
    "    \n",
    "    return X,  y\n",
    "\n",
    "\n",
    "load_data('train.csv')"
   ]
  },
  {
   "cell_type": "code",
   "execution_count": 227,
   "id": "ec4bb7f1-ef2e-4ce3-9be5-8b18647c527b",
   "metadata": {},
   "outputs": [
    {
     "data": {
      "text/html": [
       "<div>\n",
       "<style scoped>\n",
       "    .dataframe tbody tr th:only-of-type {\n",
       "        vertical-align: middle;\n",
       "    }\n",
       "\n",
       "    .dataframe tbody tr th {\n",
       "        vertical-align: top;\n",
       "    }\n",
       "\n",
       "    .dataframe thead th {\n",
       "        text-align: right;\n",
       "    }\n",
       "</style>\n",
       "<table border=\"1\" class=\"dataframe\">\n",
       "  <thead>\n",
       "    <tr style=\"text-align: right;\">\n",
       "      <th></th>\n",
       "      <th>id</th>\n",
       "      <th>name</th>\n",
       "      <th>job</th>\n",
       "      <th>salary</th>\n",
       "    </tr>\n",
       "  </thead>\n",
       "  <tbody>\n",
       "    <tr>\n",
       "      <th>0</th>\n",
       "      <td>1</td>\n",
       "      <td>Cliff</td>\n",
       "      <td>DataScientist</td>\n",
       "      <td>800000</td>\n",
       "    </tr>\n",
       "    <tr>\n",
       "      <th>1</th>\n",
       "      <td>2</td>\n",
       "      <td>Frank</td>\n",
       "      <td>DataEngineer</td>\n",
       "      <td>900008</td>\n",
       "    </tr>\n",
       "    <tr>\n",
       "      <th>2</th>\n",
       "      <td>3</td>\n",
       "      <td>Steve</td>\n",
       "      <td>PythonDeveloper</td>\n",
       "      <td>900001</td>\n",
       "    </tr>\n",
       "    <tr>\n",
       "      <th>3</th>\n",
       "      <td>4</td>\n",
       "      <td>Coco</td>\n",
       "      <td>DataEngineer</td>\n",
       "      <td>900002</td>\n",
       "    </tr>\n",
       "    <tr>\n",
       "      <th>4</th>\n",
       "      <td>5</td>\n",
       "      <td>John</td>\n",
       "      <td>DataScientist</td>\n",
       "      <td>900003</td>\n",
       "    </tr>\n",
       "  </tbody>\n",
       "</table>\n",
       "</div>"
      ],
      "text/plain": [
       "   id   name              job  salary\n",
       "0   1  Cliff    DataScientist  800000\n",
       "1   2  Frank     DataEngineer  900008\n",
       "2   3  Steve  PythonDeveloper  900001\n",
       "3   4   Coco     DataEngineer  900002\n",
       "4   5   John    DataScientist  900003"
      ]
     },
     "execution_count": 227,
     "metadata": {},
     "output_type": "execute_result"
    }
   ],
   "source": [
    "import pandas as pd\n",
    "\n",
    "def load_data(path):\n",
    "    \n",
    "    df = pd.read_csv(path)\n",
    "    #y = df['labels'].values\n",
    "    X = df[['id', 'name', 'job', 'salary']]\n",
    "    # <= pandas.DataFrame.loc, List of labels. *******Note using [[]] returns a DataFrame.\n",
    "    \n",
    "    return X\n",
    "\n",
    "\n",
    "load_data('train.csv')"
   ]
  },
  {
   "cell_type": "code",
   "execution_count": 69,
   "id": "a29b0402-b900-4575-bf4d-445104f9e92e",
   "metadata": {},
   "outputs": [
    {
     "data": {
      "text/html": [
       "<div>\n",
       "<style scoped>\n",
       "    .dataframe tbody tr th:only-of-type {\n",
       "        vertical-align: middle;\n",
       "    }\n",
       "\n",
       "    .dataframe tbody tr th {\n",
       "        vertical-align: top;\n",
       "    }\n",
       "\n",
       "    .dataframe thead th {\n",
       "        text-align: right;\n",
       "    }\n",
       "</style>\n",
       "<table border=\"1\" class=\"dataframe\">\n",
       "  <thead>\n",
       "    <tr style=\"text-align: right;\">\n",
       "      <th></th>\n",
       "      <th>labels</th>\n",
       "    </tr>\n",
       "  </thead>\n",
       "  <tbody>\n",
       "    <tr>\n",
       "      <th>0</th>\n",
       "      <td>1</td>\n",
       "    </tr>\n",
       "    <tr>\n",
       "      <th>1</th>\n",
       "      <td>0</td>\n",
       "    </tr>\n",
       "    <tr>\n",
       "      <th>2</th>\n",
       "      <td>0</td>\n",
       "    </tr>\n",
       "    <tr>\n",
       "      <th>3</th>\n",
       "      <td>3</td>\n",
       "    </tr>\n",
       "    <tr>\n",
       "      <th>4</th>\n",
       "      <td>1</td>\n",
       "    </tr>\n",
       "  </tbody>\n",
       "</table>\n",
       "</div>"
      ],
      "text/plain": [
       "   labels\n",
       "0       1\n",
       "1       0\n",
       "2       0\n",
       "3       3\n",
       "4       1"
      ]
     },
     "execution_count": 69,
     "metadata": {},
     "output_type": "execute_result"
    }
   ],
   "source": [
    "import pandas as pd\n",
    "\n",
    "def load_data(path):\n",
    "    \n",
    "    df = pd.read_csv(path)\n",
    "    y = df[['labels']]\n",
    "    #X = df[['id', 'name', 'job', 'salary']]\n",
    "    # <= pandas.DataFrame.loc, List of labels. Note using [[]] returns a DataFrame.\n",
    "    \n",
    "    return y\n",
    "\n",
    "\n",
    "load_data('train.csv')"
   ]
  },
  {
   "cell_type": "code",
   "execution_count": 47,
   "id": "7057b03f-c96e-4aa4-9230-c70655642a0b",
   "metadata": {},
   "outputs": [
    {
     "data": {
      "text/html": [
       "<div>\n",
       "<style scoped>\n",
       "    .dataframe tbody tr th:only-of-type {\n",
       "        vertical-align: middle;\n",
       "    }\n",
       "\n",
       "    .dataframe tbody tr th {\n",
       "        vertical-align: top;\n",
       "    }\n",
       "\n",
       "    .dataframe thead th {\n",
       "        text-align: right;\n",
       "    }\n",
       "</style>\n",
       "<table border=\"1\" class=\"dataframe\">\n",
       "  <thead>\n",
       "    <tr style=\"text-align: right;\">\n",
       "      <th></th>\n",
       "      <th>id</th>\n",
       "      <th>name</th>\n",
       "      <th>job</th>\n",
       "      <th>salary</th>\n",
       "      <th>labels</th>\n",
       "    </tr>\n",
       "  </thead>\n",
       "  <tbody>\n",
       "    <tr>\n",
       "      <th>0</th>\n",
       "      <td>1</td>\n",
       "      <td>Cliff</td>\n",
       "      <td>DataScientist</td>\n",
       "      <td>800000</td>\n",
       "      <td>1</td>\n",
       "    </tr>\n",
       "    <tr>\n",
       "      <th>1</th>\n",
       "      <td>2</td>\n",
       "      <td>Frank</td>\n",
       "      <td>DataEngineer</td>\n",
       "      <td>900008</td>\n",
       "      <td>0</td>\n",
       "    </tr>\n",
       "    <tr>\n",
       "      <th>2</th>\n",
       "      <td>3</td>\n",
       "      <td>Steve</td>\n",
       "      <td>PythonDeveloper</td>\n",
       "      <td>900001</td>\n",
       "      <td>0</td>\n",
       "    </tr>\n",
       "    <tr>\n",
       "      <th>3</th>\n",
       "      <td>4</td>\n",
       "      <td>Coco</td>\n",
       "      <td>DataEngineer</td>\n",
       "      <td>900002</td>\n",
       "      <td>3</td>\n",
       "    </tr>\n",
       "    <tr>\n",
       "      <th>4</th>\n",
       "      <td>5</td>\n",
       "      <td>John</td>\n",
       "      <td>DataScientist</td>\n",
       "      <td>900003</td>\n",
       "      <td>1</td>\n",
       "    </tr>\n",
       "  </tbody>\n",
       "</table>\n",
       "</div>"
      ],
      "text/plain": [
       "   id   name              job  salary  labels\n",
       "0   1  Cliff    DataScientist  800000       1\n",
       "1   2  Frank     DataEngineer  900008       0\n",
       "2   3  Steve  PythonDeveloper  900001       0\n",
       "3   4   Coco     DataEngineer  900002       3\n",
       "4   5   John    DataScientist  900003       1"
      ]
     },
     "execution_count": 47,
     "metadata": {},
     "output_type": "execute_result"
    }
   ],
   "source": [
    "import pandas as pd\n",
    "\n",
    "df = pd.read_csv('train.csv')\n",
    "df"
   ]
  },
  {
   "cell_type": "code",
   "execution_count": 62,
   "id": "ceefd729-46e0-43af-a9a6-48758bad0cc3",
   "metadata": {},
   "outputs": [
    {
     "data": {
      "text/plain": [
       "0    1\n",
       "1    0\n",
       "2    0\n",
       "3    3\n",
       "4    1\n",
       "Name: labels, dtype: int64"
      ]
     },
     "execution_count": 62,
     "metadata": {},
     "output_type": "execute_result"
    }
   ],
   "source": [
    "import pandas as pd\n",
    "\n",
    "df = pd.read_csv('train.csv')\n",
    "df['labels']    # <= returns a panda series\n",
    "                # <=     A Pandas Series is like a column in a table.\n",
    "                # <=     It is a one-dimensional array holding data of any type.\n",
    "\n",
    "\n",
    "# ---------------------------------------------------------------------------------------- #\n",
    "# go read this: \n",
    "# https://cmdlinetips.com/2020/04/3-ways-to-select-one-or-more-columns-with-pandas/"
   ]
  },
  {
   "cell_type": "code",
   "execution_count": 51,
   "id": "7fe598be-424a-43c8-b838-11448b1e1796",
   "metadata": {},
   "outputs": [
    {
     "data": {
      "text/html": [
       "<div>\n",
       "<style scoped>\n",
       "    .dataframe tbody tr th:only-of-type {\n",
       "        vertical-align: middle;\n",
       "    }\n",
       "\n",
       "    .dataframe tbody tr th {\n",
       "        vertical-align: top;\n",
       "    }\n",
       "\n",
       "    .dataframe thead th {\n",
       "        text-align: right;\n",
       "    }\n",
       "</style>\n",
       "<table border=\"1\" class=\"dataframe\">\n",
       "  <thead>\n",
       "    <tr style=\"text-align: right;\">\n",
       "      <th></th>\n",
       "      <th>labels</th>\n",
       "    </tr>\n",
       "  </thead>\n",
       "  <tbody>\n",
       "    <tr>\n",
       "      <th>0</th>\n",
       "      <td>1</td>\n",
       "    </tr>\n",
       "    <tr>\n",
       "      <th>1</th>\n",
       "      <td>0</td>\n",
       "    </tr>\n",
       "    <tr>\n",
       "      <th>2</th>\n",
       "      <td>0</td>\n",
       "    </tr>\n",
       "    <tr>\n",
       "      <th>3</th>\n",
       "      <td>3</td>\n",
       "    </tr>\n",
       "    <tr>\n",
       "      <th>4</th>\n",
       "      <td>1</td>\n",
       "    </tr>\n",
       "  </tbody>\n",
       "</table>\n",
       "</div>"
      ],
      "text/plain": [
       "   labels\n",
       "0       1\n",
       "1       0\n",
       "2       0\n",
       "3       3\n",
       "4       1"
      ]
     },
     "execution_count": 51,
     "metadata": {},
     "output_type": "execute_result"
    }
   ],
   "source": [
    "import pandas as pd\n",
    "\n",
    "df = pd.read_csv('train.csv')\n",
    "df[['labels']]"
   ]
  },
  {
   "cell_type": "code",
   "execution_count": 32,
   "id": "82afd450-5a35-4a04-90cd-85366eefa117",
   "metadata": {},
   "outputs": [
    {
     "data": {
      "text/plain": [
       "array([1, 0, 0, 3, 1])"
      ]
     },
     "execution_count": 32,
     "metadata": {},
     "output_type": "execute_result"
    }
   ],
   "source": [
    "import pandas as pd\n",
    "\n",
    "df = pd.read_csv('train.csv')\n",
    "df['labels'].values"
   ]
  },
  {
   "cell_type": "code",
   "execution_count": 50,
   "id": "2264548e-2fe7-4354-b39d-8f9204da35c7",
   "metadata": {},
   "outputs": [
    {
     "data": {
      "text/plain": [
       "array([[1],\n",
       "       [0],\n",
       "       [0],\n",
       "       [3],\n",
       "       [1]])"
      ]
     },
     "execution_count": 50,
     "metadata": {},
     "output_type": "execute_result"
    }
   ],
   "source": [
    "import pandas as pd\n",
    "\n",
    "df = pd.read_csv('train.csv')\n",
    "df[['labels']].values"
   ]
  },
  {
   "cell_type": "code",
   "execution_count": 230,
   "id": "979747e4-81e1-4f67-8785-c5a5cc483307",
   "metadata": {},
   "outputs": [
    {
     "name": "stdout",
     "output_type": "stream",
     "text": [
      "<generator object <genexpr> at 0x7fb2c21ebeb0>\n",
      "[1, 9]\n",
      "(1, 9)\n"
     ]
    }
   ],
   "source": [
    "#print(i*i for i in range(10) if i%2==0)\n",
    "\n",
    "#print(sum(i*i for i in range(4) if i%2 != 0),sum(i*i for i in range(7) if i%2 == 1))\n",
    "\n",
    "print(i*i for i in range(4) if i%2 != 0)\n",
    "\n",
    "print(list(i*i for i in range(4) if i%2 != 0))\n",
    "\n",
    "print(tuple(i*i for i in range(4) if i%2 != 0))"
   ]
  },
  {
   "cell_type": "code",
   "execution_count": null,
   "id": "16f64c78-de01-4466-81e7-8581b7103666",
   "metadata": {},
   "outputs": [],
   "source": [
    "def plot_data(X):\n",
    "    '''Plot the first two principal components of a matrix\n",
    "    \n",
    "    Args:\n",
    "      X (numpy.ndarray): The data to plot\n",
    "    \n",
    "    '''\n",
    "    \n",
    "    pca = PCA(n_components=2).fit_transform(X)\n",
    "    plot.scaller(pca[:,0], pca[:,1])\n",
    "    \n",
    "    "
   ]
  },
  {
   "cell_type": "code",
   "execution_count": 85,
   "id": "bfa2bd20-5c66-4ab2-ab74-0f8b54109b71",
   "metadata": {},
   "outputs": [
    {
     "name": "stdout",
     "output_type": "stream",
     "text": [
      "Index(['id', ' name', ' job', ' salary', ' labels'], dtype='object')\n"
     ]
    },
    {
     "data": {
      "text/plain": [
       "['id', ' name', ' job', ' salary', ' labels']"
      ]
     },
     "execution_count": 85,
     "metadata": {},
     "output_type": "execute_result"
    }
   ],
   "source": [
    "import pandas as pd\n",
    "\n",
    "data = pd.read_csv('train.csv')\n",
    "print(data.columns)\n",
    "list(data.columns)\n",
    "#X = data[col for col in data.columns if col != 'labels'].values\n",
    "#X"
   ]
  },
  {
   "cell_type": "code",
   "execution_count": 231,
   "id": "fdf1c676-a080-4364-9374-7bad35c2f58d",
   "metadata": {},
   "outputs": [
    {
     "name": "stdout",
     "output_type": "stream",
     "text": [
      "<generator object <genexpr> at 0x7fb2c21d9f90>\n"
     ]
    },
    {
     "data": {
      "text/plain": [
       "array([[1, 'Cliff', 'DataScientist', 800000],\n",
       "       [2, 'Frank', 'DataEngineer', 900008],\n",
       "       [3, 'Steve', 'PythonDeveloper', 900001],\n",
       "       [4, 'Coco', 'DataEngineer', 900002],\n",
       "       [5, 'John', 'DataScientist', 900003]], dtype=object)"
      ]
     },
     "execution_count": 231,
     "metadata": {},
     "output_type": "execute_result"
    }
   ],
   "source": [
    "import pandas as pd\n",
    "\n",
    "data = pd.read_csv('train.csv')\n",
    "data.columns\n",
    "print(col for col in data.columns)\n",
    "#X = data[col for col in list(data.columns) if col != 'labels'].values\n",
    "\n",
    "X = data[[col for col in list(data.columns) if col != 'labels']].values\n",
    "X"
   ]
  },
  {
   "cell_type": "code",
   "execution_count": 92,
   "id": "7d7a22e2-a8c5-4e24-bec2-dc2bac9de4b7",
   "metadata": {},
   "outputs": [
    {
     "name": "stdout",
     "output_type": "stream",
     "text": [
      "id\n",
      " name\n",
      " job\n",
      " salary\n",
      " labels\n"
     ]
    }
   ],
   "source": [
    "for col in list(data.columns): print(col)"
   ]
  },
  {
   "cell_type": "code",
   "execution_count": 93,
   "id": "6d7a3412-446c-4f27-831e-cf7f95ce11dc",
   "metadata": {},
   "outputs": [
    {
     "name": "stdout",
     "output_type": "stream",
     "text": [
      "<generator object <genexpr> at 0x7fb14169d740>\n"
     ]
    }
   ],
   "source": [
    "print([col] for col in list(data.columns))"
   ]
  },
  {
   "cell_type": "code",
   "execution_count": null,
   "id": "4ca514a9-d0f4-4fcb-afcb-4e11330fb8a1",
   "metadata": {},
   "outputs": [],
   "source": []
  },
  {
   "cell_type": "code",
   "execution_count": null,
   "id": "71974f8b-b098-420b-a15a-29ad5e8287c8",
   "metadata": {},
   "outputs": [],
   "source": []
  },
  {
   "cell_type": "markdown",
   "id": "af8ad4c0-4891-4d61-a02b-402a74efd26a",
   "metadata": {},
   "source": [
    "## Exercise\n",
    "Exercise\n",
    "Extract a function\n",
    "\n",
    "While you were developing a model to predict the likelihood of a student graduating from college, you wrote this bit of code to get the z-scores of students' yearly GPAs. Now you're ready to turn it into a production-quality system, so you need to do something about the repetition. Writing a function to calculate the z-scores would improve this code.\n",
    "\n",
    "# Standardize the GPAs for each year\n",
    "df['y1_z'] = (df.y1_gpa - df.y1_gpa.mean()) / df.y1_gpa.std()\n",
    "df['y2_z'] = (df.y2_gpa - df.y2_gpa.mean()) / df.y2_gpa.std()\n",
    "df['y3_z'] = (df.y3_gpa - df.y3_gpa.mean()) / df.y3_gpa.std()\n",
    "df['y4_z'] = (df.y4_gpa - df.y4_gpa.mean()) / df.y4_gpa.std()\n",
    "\n",
    "Note: df is a pandas DataFrame where each row is a student with 4 columns of yearly student GPAs: y1_gpa, y2_gpa, y3_gpa, y4_gpa\n",
    "\n",
    "\n",
    "\n",
    "\n",
    "    Finish the function so that it returns the z-scores of a column.\n",
    "    Use the function to calculate the z-scores for each year (df['y1_z'], df['y2_z'], etc.) from the raw GPA scores (df.y1_gpa, df.y2_gpa, etc.).\n",
    "\n",
    "Hint\n",
    "\n",
    "    Notice how (df.y1_gpa - df.y1_gpa.mean()) / df.y1_gpa.std() is only performing operations on df.y1_gpa. So you should be able to pass df.y1_gpa as the column argument to the standardize() function.\n"
   ]
  },
  {
   "cell_type": "code",
   "execution_count": null,
   "id": "8bc2e728-da6f-4fd5-a997-3f77fb093c7c",
   "metadata": {},
   "outputs": [],
   "source": [
    "def standardize(column):\n",
    "    \"\"\"Standardize the values in a column.\n",
    "\n",
    "    Args:\n",
    "      column (pandas Series): The data to standardize.\n",
    "\n",
    "    Returns:\n",
    "      pandas Series: the values as z-scores\n",
    "    \"\"\"\n",
    "    # Finish the function so that it returns the z-scores\n",
    "    z_score = (column - column.mean()) / column.std()\n",
    "    return z_score\n",
    "\n",
    "# Use the standardize() function to calculate the z-scores\n",
    "df['y1_z'] = standardize(df.y1_gpa)\n",
    "df['y2_z'] = standardize(df.y2_gpa)\n",
    "df['y3_z'] = standardize(df.y3_gpa)\n",
    "df['y4_z'] = standardize(df.y4_gpa)"
   ]
  },
  {
   "cell_type": "markdown",
   "id": "1cd362c6-5bf4-4180-b3cf-53ab7d30209c",
   "metadata": {},
   "source": [
    "## Split up a function\n",
    "\n",
    "Another engineer on your team has written this function to calculate the mean and median of a sorted list. You want to show them how to split it into two simpler functions: mean() and median()\n",
    "\n",
    "def mean_and_median(values):\n",
    "  \"\"\"Get the mean and median of a sorted list of `values`\n",
    "\n",
    "  Args:\n",
    "    values (iterable of float): A list of numbers\n",
    "\n",
    "  Returns:\n",
    "    tuple (float, float): The mean and median\n",
    "  \"\"\"\n",
    "  mean = sum(values) / len(values)\n",
    "  midpoint = int(len(values) / 2)\n",
    "  if len(values) % 2 == 0:\n",
    "    median = (values[midpoint - 1] + values[midpoint]) / 2\n",
    "  else:\n",
    "    median = values[midpoint]\n",
    "\n",
    "  return mean, median\n",
    "\n",
    "\n",
    "\n",
    "Write the mean() function."
   ]
  },
  {
   "cell_type": "code",
   "execution_count": 48,
   "id": "7acac18a-93db-4fec-a754-f01edf93b354",
   "metadata": {},
   "outputs": [
    {
     "data": {
      "text/plain": [
       "(6.555555555555555, 2)"
      ]
     },
     "execution_count": 48,
     "metadata": {},
     "output_type": "execute_result"
    }
   ],
   "source": [
    "def mean_and_median(values):\n",
    "    \"\"\"Get the mean and median of a sorted list of `values`\n",
    "\n",
    "    Args:\n",
    "      values (iterable of float): A list of numbers\n",
    "\n",
    "    Returns:\n",
    "      tuple (float, float): The mean and median\n",
    "    \"\"\"\n",
    "    mean = sum(values) / len(values)\n",
    "    midpoint = int(len(values) / 2)\n",
    "    if len(values) % 2 == 0:\n",
    "        median = (values[midpoint - 1] + values[midpoint]) / 2\n",
    "    else:\n",
    "        median = values[midpoint]\n",
    "\n",
    "    return mean, median    # <= Why returned value data structure is tuple\n",
    "\n",
    "\n",
    "\n",
    "values = [1,3,4,7,2,8,9,12,13]\n",
    "mean_and_median(values)"
   ]
  },
  {
   "cell_type": "code",
   "execution_count": 49,
   "id": "a3d5551b-c3d9-452d-aa0d-f94c22d013de",
   "metadata": {},
   "outputs": [
    {
     "name": "stdout",
     "output_type": "stream",
     "text": [
      "(62.8318, 314.159)\n"
     ]
    }
   ],
   "source": [
    "def circleInfo(r):\n",
    "    \"\"\" Return (circumference, area) of a circle of radius r \"\"\"\n",
    "    c = 2 * 3.14159 * r\n",
    "    a = 3.14159 * r * r\n",
    "    return (c, a)\n",
    "\n",
    "print(circleInfo(10))"
   ]
  },
  {
   "cell_type": "code",
   "execution_count": null,
   "id": "a524ed94-626c-462a-b283-9f001d106444",
   "metadata": {},
   "outputs": [],
   "source": [
    "def mean(values):\n",
    "    \"\"\"Get the mean of a sorted list of values\n",
    "  \n",
    "    Args:\n",
    "      values (iterable of float): A list of numbers\n",
    "  \n",
    "    Returns:\n",
    "      float\n",
    "    \"\"\"\n",
    "    # Write the mean() function\n",
    "    mean = sum(values)/len(values)\n",
    "    return mean"
   ]
  },
  {
   "cell_type": "code",
   "execution_count": null,
   "id": "8bd35879-fd10-45cf-b36d-524e09ad5425",
   "metadata": {},
   "outputs": [],
   "source": [
    "def median(values):\n",
    "    \"\"\"Get the median of a sorted list of values\n",
    "  \n",
    "    Args:\n",
    "      values (iterable of float): A list of numbers\n",
    "  \n",
    "    Returns:\n",
    "      float\n",
    "    \"\"\"\n",
    "    # Write the median() function\n",
    "    midpoint = int(len(values)/2)\n",
    "    if len(values)%2 == 0:\n",
    "        median = (values[midpoint-1] + values[midpoint])/2\n",
    "    else:\n",
    "        median = values[midpoint]\n",
    "    return median"
   ]
  },
  {
   "cell_type": "markdown",
   "id": "8d3a991f-aea1-4004-810b-eb31976f4c13",
   "metadata": {},
   "source": [
    "## Pass by assignment\n",
    "\n",
    "\n",
    "\n",
    "\n",
    "\n",
    "The way that Python passes information to functions is different from many other languages, it is referred to as pass by assignment\n",
    "\n",
    "\n",
    "\n",
    "__lets say we have a function fool() that takes a list and set the first value of list to 99, \n",
    "\n",
    "__then we set my_list to the value[1,2,3] and pass it to fool()\n",
    "\n",
    "      what do you expect the value of my_list after calling fool()?\n",
    "      \n",
    "      \n",
    "        **list in Python are mutable objects, meaning that they can be changed\n",
    "        \n",
    "        \n",
    "        \n",
    "        \n",
    "__now lets say we have another function bar(), that takes an argument and add ninety to it,  \n",
    "\n",
    "__then we assign the value 3 to the variable my_var, and call bar() with my_var as argument. \n",
    "\n",
    "      what do you expect the value of my_var, to be after we've called bar()?\n",
    "      \n",
    "      \n",
    "        **in Python, integers are immutable, meaning they cant be changed"
   ]
  },
  {
   "cell_type": "code",
   "execution_count": 79,
   "id": "6903f6a5-45af-4257-9892-b11c96a9a533",
   "metadata": {},
   "outputs": [
    {
     "data": {
      "text/plain": [
       "[90, 2, 3]"
      ]
     },
     "execution_count": 79,
     "metadata": {},
     "output_type": "execute_result"
    }
   ],
   "source": [
    "def fool(x):\n",
    "    x[0] = 90\n",
    "    return x\n",
    "\n",
    "\n",
    "my_list = [1,2,3]\n",
    "\n",
    "fool(my_list)"
   ]
  },
  {
   "cell_type": "code",
   "execution_count": 80,
   "id": "dc4e024e-f735-41fc-acf0-1ec4097b20dc",
   "metadata": {},
   "outputs": [
    {
     "name": "stdout",
     "output_type": "stream",
     "text": [
      "[90, 2, 3]\n"
     ]
    }
   ],
   "source": [
    "def fool(x):\n",
    "    x[0] = 90\n",
    "\n",
    "\n",
    "my_list = [1,2,3]\n",
    "\n",
    "fool(my_list)\n",
    "\n",
    "print(my_list)"
   ]
  },
  {
   "cell_type": "code",
   "execution_count": 82,
   "id": "5c417a7b-9e9e-4f93-9ec2-114928ce225a",
   "metadata": {},
   "outputs": [
    {
     "data": {
      "text/plain": [
       "93"
      ]
     },
     "execution_count": 82,
     "metadata": {},
     "output_type": "execute_result"
    }
   ],
   "source": [
    "def bar(x):\n",
    "    x = x + 90\n",
    "    return x\n",
    "    \n",
    "    \n",
    "my_var = 3\n",
    "\n",
    "bar(my_var)"
   ]
  },
  {
   "cell_type": "code",
   "execution_count": 83,
   "id": "dcb1b5c3-dd1d-4708-82d2-71f596d8d213",
   "metadata": {},
   "outputs": [
    {
     "name": "stdout",
     "output_type": "stream",
     "text": [
      "3\n"
     ]
    }
   ],
   "source": [
    "def bar(x):\n",
    "    x = x + 90\n",
    "    \n",
    "    \n",
    "my_var = 3\n",
    "\n",
    "bar(my_var)\n",
    "\n",
    "print(my_var)"
   ]
  },
  {
   "cell_type": "markdown",
   "id": "388f25c0-3fc0-45d7-8fe7-c554e127ea0d",
   "metadata": {},
   "source": [
    "## Digging deeper\n",
    "\n",
    "\n",
    "\n",
    "\n",
    "\n",
    "a = [1, 2, 3]    __<== you add new item to the group a, or you change the first item to others\n",
    "\n",
    "__>                          <== you assigned value 3 to my_var, then \n",
    "my_var = 3,  x = x + 90    __<== my_var value was assigned to x, and x then changed, but not my_var\n",
    "\n",
    "\n",
    "\n",
    "## In fact, there is no way in Python to change x or my_var directly, because integers are  immutable variables. \n",
    "\n",
    "\n",
    "\n",
    "__Whe we asign a list to the variable my_list, it set up a location in memory for it.  \n",
    "__Then, when we pass my_list to the function fool(), the parameter x gets assigned to that same location. \n",
    "__So when the function modifies the thing that x points to, it also modifying the thing that my_list point to. \n",
    "\n",
    "\n",
    "__In the other example, we created a variable my_var, and assigned it the value 3, \n",
    "__Then we passed it the the function bar(), which caused argument x to point sameplace my_var is pointing\n",
    "__But the bar() function assigns x to a new value, so the my_var variable isnt touched. \n",
    "\n"
   ]
  },
  {
   "cell_type": "markdown",
   "id": "19ac7e7d-609c-4ccd-9d93-d44555b65445",
   "metadata": {},
   "source": [
    "## Immutable or Mutable\n",
    "\n",
    "\n",
    "\n",
    "__there are only a few immutable  data types  in Python because almost everything is represented as an Object. \n",
    "\n",
    "\n",
    "\n",
    "\n",
    "## Immutable:\n",
    "\n",
    "int,  float,  bool,  string,  bytes,  tuple,  frozenset,  None\n",
    "\n",
    "\n",
    "## Mutable:\n",
    "\n",
    "list,  dict,  set,  bytearray,  objects,  functions,  almost everything else\n",
    "\n",
    "\n",
    "__to tell something is mutable or not is to see if there is a function or method that will change the object without assigning it to a new variable.   \n"
   ]
  },
  {
   "cell_type": "markdown",
   "id": "1d9e01eb-d8be-44f6-bbc5-c47d1f97baad",
   "metadata": {},
   "source": [
    "## Mutable default arguments are dangerous\n",
    "\n",
    "\n",
    "\n",
    "\n",
    "\n"
   ]
  },
  {
   "cell_type": "code",
   "execution_count": 86,
   "id": "ab7edc3c-0356-4830-965c-59fdb6fa83ce",
   "metadata": {},
   "outputs": [
    {
     "data": {
      "text/plain": [
       "[1]"
      ]
     },
     "execution_count": 86,
     "metadata": {},
     "output_type": "execute_result"
    }
   ],
   "source": [
    "def fool(var=[]):\n",
    "    var.append(1)\n",
    "    return var\n",
    "\n",
    "\n",
    "fool()"
   ]
  },
  {
   "cell_type": "code",
   "execution_count": 87,
   "id": "ff5c4aee-8249-4211-b031-f98a35ca7267",
   "metadata": {},
   "outputs": [
    {
     "data": {
      "text/plain": [
       "[1, 1]"
      ]
     },
     "execution_count": 87,
     "metadata": {},
     "output_type": "execute_result"
    }
   ],
   "source": [
    "fool()"
   ]
  },
  {
   "cell_type": "code",
   "execution_count": 101,
   "id": "22c2b370-892c-4232-8fd1-fa282f381b0c",
   "metadata": {},
   "outputs": [
    {
     "data": {
      "text/plain": [
       "[None, 1]"
      ]
     },
     "execution_count": 101,
     "metadata": {},
     "output_type": "execute_result"
    }
   ],
   "source": [
    "def fool(var=[None]):\n",
    "    var.append(1)\n",
    "    return var\n",
    "\n",
    "\n",
    "fool()"
   ]
  },
  {
   "cell_type": "code",
   "execution_count": 98,
   "id": "0c09c099-6cc3-4443-a576-b79c0744044e",
   "metadata": {},
   "outputs": [
    {
     "data": {
      "text/plain": [
       "[1]"
      ]
     },
     "execution_count": 98,
     "metadata": {},
     "output_type": "execute_result"
    }
   ],
   "source": [
    "def fool(var=None):\n",
    "    var = []\n",
    "    var.append(1)\n",
    "    return var\n",
    "\n",
    "\n",
    "fool()"
   ]
  },
  {
   "cell_type": "code",
   "execution_count": 99,
   "id": "736fe96c-e9d5-40bb-abcb-785132f65807",
   "metadata": {},
   "outputs": [
    {
     "data": {
      "text/plain": [
       "[1]"
      ]
     },
     "execution_count": 99,
     "metadata": {},
     "output_type": "execute_result"
    }
   ],
   "source": [
    "fool()"
   ]
  },
  {
   "cell_type": "markdown",
   "id": "a10cfccd-1f77-4987-bed1-db9c760faf90",
   "metadata": {},
   "source": [
    "## Mutable or immutable?\n",
    "\n",
    "\n",
    "The following function adds a mapping between a string and the lowercase version of that string to a dictionary. What do you expect the values of d and s to be after the function is called?\n",
    "\n",
    "def store_lower(_dict, _string):\n",
    "  \"\"\"Add a mapping between `_string` and a lowercased version of `_string` to `_dict`\n",
    "\n",
    "  Args:\n",
    "    _dict (dict): The dictionary to update.\n",
    "    _string (str): The string to add.\n",
    "  \"\"\"\n",
    "  orig_string = _string\n",
    "  _string = _string.lower()\n",
    "  _dict[orig_string] = _string\n",
    "\n",
    "d = {}\n",
    "s = 'Hello'\n",
    "\n",
    "store_lower(d, s)\n"
   ]
  },
  {
   "cell_type": "markdown",
   "id": "f929cb90-805a-4fc5-9b38-15836ef43383",
   "metadata": {},
   "source": [
    "Unlike lists and tuples, there is no add(), insert(), or append() method that you can use to add items to your data structure. Instead, you have to create a new index key, which will then be used to store the value you want to store in your dictionary.\n",
    "\n",
    "\n",
    "dictionary_name[key] = value\n",
    "\n",
    "  __the way append key and value into a dictionary"
   ]
  },
  {
   "cell_type": "code",
   "execution_count": 232,
   "id": "7f2558f0-dcdd-42d1-952a-cbc24b8f4ecf",
   "metadata": {},
   "outputs": [
    {
     "data": {
      "text/plain": [
       "{'HelloWorld': 'helloworld'}"
      ]
     },
     "execution_count": 232,
     "metadata": {},
     "output_type": "execute_result"
    }
   ],
   "source": [
    "dic = {}\n",
    "\n",
    "values = 'HelloWorld'\n",
    "lvalues = values.lower()\n",
    "\n",
    "dic[values] = lvalues   # <= dictionary operation\n",
    "\n",
    "dic"
   ]
  },
  {
   "cell_type": "code",
   "execution_count": 108,
   "id": "1e8d0b6a-5f16-4252-8c62-8fd602228ff5",
   "metadata": {},
   "outputs": [
    {
     "data": {
      "text/plain": [
       "'helloworld'"
      ]
     },
     "execution_count": 108,
     "metadata": {},
     "output_type": "execute_result"
    }
   ],
   "source": [
    "#  Accessing elements of a dictionary\n",
    "\n",
    "#  The data inside a dictionary is available in a key/value pair. To access the elements \n",
    "#  from a dictionary, you need to use square brackets ([‘key’]) with the key inside it.\n",
    "\n",
    "\n",
    "dic['HelloWorld']"
   ]
  },
  {
   "cell_type": "code",
   "execution_count": 109,
   "id": "4ea19213-09d1-4237-90ad-0463abcfcbb4",
   "metadata": {},
   "outputs": [
    {
     "data": {
      "text/plain": [
       "{}"
      ]
     },
     "execution_count": 109,
     "metadata": {},
     "output_type": "execute_result"
    }
   ],
   "source": [
    "del dic['HelloWorld']\n",
    "\n",
    "dic"
   ]
  },
  {
   "cell_type": "code",
   "execution_count": 110,
   "id": "646404d9-82c2-455f-8627-ae7c347fa344",
   "metadata": {},
   "outputs": [
    {
     "data": {
      "text/plain": [
       "\u001b[0;31mInit signature:\u001b[0m \u001b[0mdict\u001b[0m\u001b[0;34m(\u001b[0m\u001b[0mself\u001b[0m\u001b[0;34m,\u001b[0m \u001b[0;34m/\u001b[0m\u001b[0;34m,\u001b[0m \u001b[0;34m*\u001b[0m\u001b[0margs\u001b[0m\u001b[0;34m,\u001b[0m \u001b[0;34m**\u001b[0m\u001b[0mkwargs\u001b[0m\u001b[0;34m)\u001b[0m\u001b[0;34m\u001b[0m\u001b[0;34m\u001b[0m\u001b[0m\n",
       "\u001b[0;31mDocstring:\u001b[0m     \n",
       "dict() -> new empty dictionary\n",
       "dict(mapping) -> new dictionary initialized from a mapping object's\n",
       "    (key, value) pairs\n",
       "dict(iterable) -> new dictionary initialized as if via:\n",
       "    d = {}\n",
       "    for k, v in iterable:\n",
       "        d[k] = v\n",
       "dict(**kwargs) -> new dictionary initialized with the name=value pairs\n",
       "    in the keyword argument list.  For example:  dict(one=1, two=2)\n",
       "\u001b[0;31mType:\u001b[0m           type\n",
       "\u001b[0;31mSubclasses:\u001b[0m     OrderedDict, defaultdict, Counter, _EnumDict, StgDict, Bunch, Config, _DefaultOptionDict, ObjectDict, Struct, ...\n"
      ]
     },
     "metadata": {},
     "output_type": "display_data"
    }
   ],
   "source": [
    "?dict"
   ]
  },
  {
   "cell_type": "code",
   "execution_count": 111,
   "id": "b9bd41ff-a08d-44c8-a33f-38f09ba80349",
   "metadata": {},
   "outputs": [
    {
     "data": {
      "text/plain": [
       "['__class__',\n",
       " '__class_getitem__',\n",
       " '__contains__',\n",
       " '__delattr__',\n",
       " '__delitem__',\n",
       " '__dir__',\n",
       " '__doc__',\n",
       " '__eq__',\n",
       " '__format__',\n",
       " '__ge__',\n",
       " '__getattribute__',\n",
       " '__getitem__',\n",
       " '__gt__',\n",
       " '__hash__',\n",
       " '__init__',\n",
       " '__init_subclass__',\n",
       " '__ior__',\n",
       " '__iter__',\n",
       " '__le__',\n",
       " '__len__',\n",
       " '__lt__',\n",
       " '__ne__',\n",
       " '__new__',\n",
       " '__or__',\n",
       " '__reduce__',\n",
       " '__reduce_ex__',\n",
       " '__repr__',\n",
       " '__reversed__',\n",
       " '__ror__',\n",
       " '__setattr__',\n",
       " '__setitem__',\n",
       " '__sizeof__',\n",
       " '__str__',\n",
       " '__subclasshook__',\n",
       " 'clear',\n",
       " 'copy',\n",
       " 'fromkeys',\n",
       " 'get',\n",
       " 'items',\n",
       " 'keys',\n",
       " 'pop',\n",
       " 'popitem',\n",
       " 'setdefault',\n",
       " 'update',\n",
       " 'values']"
      ]
     },
     "execution_count": 111,
     "metadata": {},
     "output_type": "execute_result"
    }
   ],
   "source": [
    "dir(dict)"
   ]
  },
  {
   "cell_type": "code",
   "execution_count": 174,
   "id": "b92da2c9-16b6-4c47-9577-7e5482cb1f08",
   "metadata": {},
   "outputs": [
    {
     "ename": "NameError",
     "evalue": "name 'pop' is not defined",
     "output_type": "error",
     "traceback": [
      "\u001b[0;31m---------------------------------------------------------------------------\u001b[0m",
      "\u001b[0;31mNameError\u001b[0m                                 Traceback (most recent call last)",
      "\u001b[0;32m/tmp/ipykernel_30690/2391815396.py\u001b[0m in \u001b[0;36m<module>\u001b[0;34m\u001b[0m\n\u001b[1;32m      7\u001b[0m \u001b[0;34m\u001b[0m\u001b[0m\n\u001b[1;32m      8\u001b[0m \u001b[0;32mimport\u001b[0m \u001b[0minspect\u001b[0m\u001b[0;34m\u001b[0m\u001b[0;34m\u001b[0m\u001b[0m\n\u001b[0;32m----> 9\u001b[0;31m \u001b[0minspect\u001b[0m\u001b[0;34m.\u001b[0m\u001b[0mgetdoc\u001b[0m\u001b[0;34m(\u001b[0m\u001b[0mpop\u001b[0m\u001b[0;34m)\u001b[0m\u001b[0;34m\u001b[0m\u001b[0;34m\u001b[0m\u001b[0m\n\u001b[0m\u001b[1;32m     10\u001b[0m \u001b[0;31m#pop.__doc__\u001b[0m\u001b[0;34m\u001b[0m\u001b[0;34m\u001b[0m\u001b[0;34m\u001b[0m\u001b[0m\n",
      "\u001b[0;31mNameError\u001b[0m: name 'pop' is not defined"
     ]
    }
   ],
   "source": [
    "#from dict import pop\n",
    "\n",
    "\n",
    "# To view a function's docstring, you can either use print(function_name.__doc__) \n",
    "# or print(inspect.getdoc(function_name)).\n",
    "\n",
    "\n",
    "import inspect\n",
    "inspect.getdoc(pop)\n",
    "#pop.__doc__"
   ]
  },
  {
   "cell_type": "code",
   "execution_count": 128,
   "id": "212dd311-6738-4c06-b22e-37d4ec90ddcc",
   "metadata": {},
   "outputs": [
    {
     "data": {
      "text/plain": [
       "[0, 1, 4, 9, 16, 25, 36, 49, 64, 81]"
      ]
     },
     "execution_count": 128,
     "metadata": {},
     "output_type": "execute_result"
    }
   ],
   "source": [
    "squares = [x**2 for x in range(10)]   # <= This gives you a list\n",
    "squares"
   ]
  },
  {
   "cell_type": "code",
   "execution_count": 126,
   "id": "1102389e-0f4a-48f6-8d27-9ebfb9796bad",
   "metadata": {},
   "outputs": [
    {
     "data": {
      "text/plain": [
       "\u001b[0;31mType:\u001b[0m        list\n",
       "\u001b[0;31mString form:\u001b[0m [0, 1, 4, 9, 16, 25, 36, 49, 64, 81]\n",
       "\u001b[0;31mLength:\u001b[0m      10\n",
       "\u001b[0;31mDocstring:\u001b[0m  \n",
       "Built-in mutable sequence.\n",
       "\n",
       "If no argument is given, the constructor creates a new empty list.\n",
       "The argument must be an iterable if specified.\n"
      ]
     },
     "metadata": {},
     "output_type": "display_data"
    }
   ],
   "source": [
    "?squares"
   ]
  },
  {
   "cell_type": "code",
   "execution_count": 127,
   "id": "8088bbce-9efb-4eeb-b520-af29e40d6fd8",
   "metadata": {},
   "outputs": [
    {
     "data": {
      "text/plain": [
       "array([[1, 'Cliff', 'DataScientist', 800000],\n",
       "       [2, 'Frank', 'DataEngineer', 900008],\n",
       "       [3, 'Steve', 'PythonDeveloper', 900001],\n",
       "       [4, 'Coco', 'DataEngineer', 900002],\n",
       "       [5, 'John', 'DataScientist', 900003]], dtype=object)"
      ]
     },
     "execution_count": 127,
     "metadata": {},
     "output_type": "execute_result"
    }
   ],
   "source": [
    "import pandas as pd\n",
    "\n",
    "def load_data(path):\n",
    "    \n",
    "    df = pd.read_csv(path)\n",
    "    #y = df['labels']\n",
    "    X = df[[i for i in list(df.columns) if i != 'labels']].values   # <= This gives you an array\n",
    "\n",
    "    \n",
    "    return X#,  y\n",
    "\n",
    "\n",
    "load_data('train.csv')"
   ]
  },
  {
   "cell_type": "code",
   "execution_count": 131,
   "id": "4e5a8540-ed84-4f0c-bb36-334da5b6d8a0",
   "metadata": {},
   "outputs": [
    {
     "data": {
      "text/plain": [
       "\u001b[0;31mType:\u001b[0m        set\n",
       "\u001b[0;31mString form:\u001b[0m set()\n",
       "\u001b[0;31mLength:\u001b[0m      0\n",
       "\u001b[0;31mDocstring:\u001b[0m  \n",
       "set() -> new empty set object\n",
       "set(iterable) -> new set object\n",
       "\n",
       "Build an unordered collection of unique elements.\n"
      ]
     },
     "metadata": {},
     "output_type": "display_data"
    }
   ],
   "source": [
    "a = set()\n",
    "?a"
   ]
  },
  {
   "cell_type": "markdown",
   "id": "ec6d92f3-2d17-4033-b1ce-eb1a6a3a1f7a",
   "metadata": {},
   "source": [
    "\n",
    "\n",
    "## Think about date structure, why using set? why using tuple and others \n",
    "\n",
    "_*************************************************************************************************_\n",
    "_*************************************************************************************************_\n",
    "_*************************************************************************************************_\n",
    "\n",
    "\n",
    "\n",
    "\n",
    "\n",
    "\n",
    "\n",
    "\n",
    "\n",
    "\n",
    "a function return a dictionary, or default tuple, any ideas\n",
    "\n",
    "\n",
    "\n",
    "\n",
    "\n"
   ]
  },
  {
   "cell_type": "code",
   "execution_count": 7,
   "id": "c241f089-ccf2-40cf-8fac-d8a831de549a",
   "metadata": {},
   "outputs": [
    {
     "name": "stdout",
     "output_type": "stream",
     "text": [
      "(22, 333, 'a', 'helloworld', 23, <built-in function print>)\n",
      "helloworld\n"
     ]
    },
    {
     "ename": "AttributeError",
     "evalue": "'builtin_function_or_method' object has no attribute 'append'",
     "output_type": "error",
     "traceback": [
      "\u001b[0;31m---------------------------------------------------------------------------\u001b[0m",
      "\u001b[0;31mAttributeError\u001b[0m                            Traceback (most recent call last)",
      "\u001b[0;32m/tmp/ipykernel_5440/2078253044.py\u001b[0m in \u001b[0;36m<module>\u001b[0;34m\u001b[0m\n\u001b[1;32m      8\u001b[0m \u001b[0;34m\u001b[0m\u001b[0m\n\u001b[1;32m      9\u001b[0m \u001b[0;34m\u001b[0m\u001b[0m\n\u001b[0;32m---> 10\u001b[0;31m \u001b[0mc\u001b[0m\u001b[0;34m[\u001b[0m\u001b[0;36m5\u001b[0m\u001b[0;34m]\u001b[0m\u001b[0;34m.\u001b[0m\u001b[0mappend\u001b[0m\u001b[0;34m(\u001b[0m\u001b[0;34m'string'\u001b[0m\u001b[0;34m)\u001b[0m\u001b[0;34m\u001b[0m\u001b[0;34m\u001b[0m\u001b[0m\n\u001b[0m\u001b[1;32m     11\u001b[0m \u001b[0mpring\u001b[0m\u001b[0;34m(\u001b[0m\u001b[0mc\u001b[0m\u001b[0;34m)\u001b[0m\u001b[0;34m\u001b[0m\u001b[0;34m\u001b[0m\u001b[0m\n\u001b[1;32m     12\u001b[0m \u001b[0;34m\u001b[0m\u001b[0m\n",
      "\u001b[0;31mAttributeError\u001b[0m: 'builtin_function_or_method' object has no attribute 'append'"
     ]
    }
   ],
   "source": [
    "a = (22, 333)  # <= tuples are initialized with () brackets\n",
    "b = ('a', 'helloworld', 23, print)\n",
    "\n",
    "c = a + b\n",
    "print(c)\n",
    "\n",
    "print(c[3])\n",
    "\n",
    "\n",
    "c[5].append('string')\n",
    "pring(c)\n",
    "\n",
    "?a"
   ]
  },
  {
   "cell_type": "code",
   "execution_count": 13,
   "id": "728c2c7e-e283-4615-aa3a-0f3397c7c360",
   "metadata": {},
   "outputs": [
    {
     "name": "stdout",
     "output_type": "stream",
     "text": [
      "array('I', [3, 6, 9])\n"
     ]
    },
    {
     "data": {
      "text/plain": [
       "\"array('I', [3, 6, 9])\""
      ]
     },
     "execution_count": 13,
     "metadata": {},
     "output_type": "execute_result"
    }
   ],
   "source": [
    "import array as arr\n",
    "a = arr.array(\"I\",[3,6,9])\n",
    "print(a)\n",
    "repr(a)\n",
    "\n",
    "#type(a)"
   ]
  },
  {
   "cell_type": "code",
   "execution_count": null,
   "id": "f47fcd6b-dca6-4174-8777-f1c565ea818a",
   "metadata": {},
   "outputs": [],
   "source": [
    "import array as arr\n",
    "a = arr.array(\"I\",[3,6,9])\n",
    "print(a)\n",
    "repr(a)\n",
    "\n",
    "a.tostring\n",
    "\n",
    "#type(a)"
   ]
  },
  {
   "cell_type": "markdown",
   "id": "67ac47c0-4982-4269-af3f-fadf65cd472f",
   "metadata": {},
   "source": [
    "## Primitive Data Structures\n",
    "\n",
    "\n",
    "These are the most primitive or the basic data structures. They are the building blocks for data manipulation and contain pure, simple values of a data. Python has four primitive variable types:\n",
    "\n",
    "    Integers\n",
    "    Float\n",
    "    Strings\n",
    "    Boolean\n"
   ]
  },
  {
   "cell_type": "markdown",
   "id": "49ac8c68-3bc2-4974-ae82-e61bde3f82c8",
   "metadata": {},
   "source": [
    "## tuple and list"
   ]
  },
  {
   "cell_type": "code",
   "execution_count": 92,
   "id": "59f741c5-7859-4c7a-b9d3-2022bdfb316d",
   "metadata": {},
   "outputs": [
    {
     "name": "stdout",
     "output_type": "stream",
     "text": [
      "9\n",
      "3\n"
     ]
    }
   ],
   "source": [
    "\n",
    "# tuple and list\n",
    "# ------------------------------------------------------------------- #\n",
    "\n",
    "# functions usually returns a tuple\n",
    "# tuple can be initialized with (), like using [] to initialize a list\n",
    "# we can think tuple as a immutable list, both orded\n",
    "\n",
    "\n",
    "\n",
    "tuple = (1, 2, 3, 4, 5, 6, 7, 8, 9)\n",
    "tuple[3]   # tuple are orded\n",
    "\n",
    "\n",
    "\n",
    "\n",
    "# tuple can append() if only such position is a list like this case\n",
    "tuplea = (1, 2, 3, 4, 5, 6, 7, [8, 9])\n",
    "tuplea[7].append(0)\n",
    "tuplea\n",
    "\n",
    "\n",
    "print(tuple[-1])\n",
    "print(tuple[2])"
   ]
  },
  {
   "cell_type": "markdown",
   "id": "428379f3-8ab7-46b2-9736-ea3124b60899",
   "metadata": {},
   "source": [
    "## list and array\n",
    "\n",
    "\n",
    "\n",
    "\n",
    "**compact way of collecting basic data types(string, integers, float, bo0llean), \n",
    "      all the entries in an array must be of the same data type\n",
    "\n",
    "\n",
    "**arrays can be seen as a more efficient way of storing a certain kind of list. \n",
    "      This type of list has elements of the same data type, though.\n",
    "\n",
    "\n",
    "**With arrays, you can perform an operations on all its item individually easily, \n",
    "      which may not be the case with lists\n",
    "\n",
    "\n",
    "**Python is aware that all the items in an array are of the same data type\n",
    "      and hence the operation behaves the same way on each element. \n",
    "    \n",
    "**Thus, arrays can be very useful when dealing with a large collection of homogeneous data types"
   ]
  },
  {
   "cell_type": "markdown",
   "id": "17db17f3-0025-49e5-846d-28b253a2fb83",
   "metadata": {},
   "source": [
    "## Traditionally, the list data structure can be further categorised into linear and non-linear data structures. \n",
    "\n",
    "\n",
    "\n",
    "__Stacks and Queues are called \"linear data structures\", \n",
    "\n",
    "__whereas Graphs and Trees are \"non-linear data structures\"."
   ]
  },
  {
   "cell_type": "markdown",
   "id": "6378c5c7-184b-4c61-a7bc-1ce2b317aa14",
   "metadata": {},
   "source": [
    "## list stack & queen"
   ]
  },
  {
   "cell_type": "code",
   "execution_count": 90,
   "id": "c567fd1d-827c-4454-9de6-17e1182d8168",
   "metadata": {},
   "outputs": [
    {
     "name": "stdout",
     "output_type": "stream",
     "text": [
      "0\n"
     ]
    },
    {
     "data": {
      "text/plain": [
       "[2, 3, 4, 5, 6, 7, 8, 9, 0]"
      ]
     },
     "execution_count": 90,
     "metadata": {},
     "output_type": "execute_result"
    }
   ],
   "source": [
    "\n",
    "# list stack & queen\n",
    "# ------------------------------------------------------------------- #\n",
    "\n",
    "\n",
    "\n",
    "stack = [1, 2, 3, 4, 5, 6, 7, 8, 9]\n",
    "stack.append(0)\n",
    "stack.pop(-1)\n",
    "\n",
    "stack\n",
    "\n",
    "\n",
    "\n",
    "\n",
    "queen = [1, 2, 3, 4, 5, 6, 7, 8, 9]\n",
    "queen.append(0)\n",
    "queen.pop(0)\n",
    "print(queen[-1])\n",
    "\n",
    "queen"
   ]
  },
  {
   "cell_type": "markdown",
   "id": "98eb6df1-b7b1-4a4e-afcd-697a11a55053",
   "metadata": {},
   "source": [
    "## list graph and trees"
   ]
  },
  {
   "cell_type": "markdown",
   "id": "5a24f049-3eb7-4402-b51e-5f97d9c0fe23",
   "metadata": {},
   "source": [
    "## dictionary and set"
   ]
  },
  {
   "cell_type": "code",
   "execution_count": 65,
   "id": "9ad9395f-1e63-4f90-9224-a4baec1104b5",
   "metadata": {},
   "outputs": [
    {
     "data": {
      "text/plain": [
       "{'Edward': 1, 'Jorge': 2, 'Prem': 3, 'John': 129}"
      ]
     },
     "execution_count": 65,
     "metadata": {},
     "output_type": "execute_result"
    }
   ],
   "source": [
    "## Dictionary unorded, just key value pares\n",
    "\n",
    "# Dictionaries are exactly what you need if implement something similar to a telephone book.\n",
    "# None of the data structures that you have seen before are suitable for a telephone book. \n",
    "\n",
    "\n",
    "\n",
    "x_dict = {'Edward':1, 'Jorge':2, 'Prem':3, 'Joe':4}\n",
    "x_dict['Prem']\n",
    "\n",
    "x_dict['John'] = 129\n",
    "\n",
    "x_dict\n",
    "\n",
    "\n",
    "x_dict.pop('Joe')\n",
    "x_dict"
   ]
  },
  {
   "cell_type": "markdown",
   "id": "602fc43f-3adf-4ac1-8161-ebc295f27af7",
   "metadata": {},
   "source": [
    "## Set  unorded & unindexed\n",
    "\n",
    "\n",
    "Set is an **unordered and unindexed** collection of items in Python\n",
    "\n",
    "**Sets are a collection of distinct (unique) objects. \n",
    "\n",
    "These are useful to create lists that only hold unique values in the dataset. \n",
    "\n",
    "\n",
    "It is an **unordered collection but a mutable one, \n",
    "\n",
    "this is very helpful when going through a huge dataset."
   ]
  },
  {
   "cell_type": "code",
   "execution_count": 83,
   "id": "6b78b887-a73f-416e-b0a5-d144f33cf4c1",
   "metadata": {},
   "outputs": [
    {
     "data": {
      "text/plain": [
       "\u001b[0;31mType:\u001b[0m        list_iterator\n",
       "\u001b[0;31mString form:\u001b[0m <list_iterator object at 0x7fd860779d30>\n",
       "\u001b[0;31mDocstring:\u001b[0m   <no docstring>\n"
      ]
     },
     "metadata": {},
     "output_type": "display_data"
    }
   ],
   "source": [
    "alpha = [1,2,3,4,5,6,7,8,9,0]\n",
    "dir(alpha)\n",
    "\n",
    "iter_alpha = alpha.__iter__()\n",
    "iter_alpha.__next__()\n",
    "iter_alpha.__next__()\n",
    "\n",
    "\n",
    "iter = alpha.__iter__()\n",
    "?iter\n",
    "\n",
    "#ite = iter.__iter__()\n",
    "#print(ite.__doc__)"
   ]
  },
  {
   "cell_type": "code",
   "execution_count": 89,
   "id": "0cf84bbc-6cea-4211-b0a7-646fa32b2efd",
   "metadata": {},
   "outputs": [
    {
     "name": "stdout",
     "output_type": "stream",
     "text": [
      "{'John & Joe ', '32'}\n",
      "set() -> new empty set object\n",
      "set(iterable) -> new set object\n",
      "\n",
      "Build an unordered collection of unique elements.\n"
     ]
    },
    {
     "data": {
      "text/plain": [
       "\u001b[0;31mType:\u001b[0m        set\n",
       "\u001b[0;31mString form:\u001b[0m {'John & Joe ', 'Joe'}\n",
       "\u001b[0;31mLength:\u001b[0m      2\n",
       "\u001b[0;31mDocstring:\u001b[0m  \n",
       "set() -> new empty set object\n",
       "set(iterable) -> new set object\n",
       "\n",
       "Build an unordered collection of unique elements.\n"
      ]
     },
     "metadata": {},
     "output_type": "display_data"
    }
   ],
   "source": [
    "set1 = {'John & Joe ', 'Joe' , 'Joe'}\n",
    "\n",
    "\n",
    "#ss = set1.pop()\n",
    "#print(ss)\n",
    "\n",
    "set1.remove('Joe')\n",
    "set1.add('32')\n",
    "\n",
    "#set1[3] = 'hello'    # 'set' object does not support item assignment\n",
    "\n",
    "\n",
    "print(set1)\n",
    "\n",
    "\n",
    "\n",
    "\n",
    "#set2 = set('helloworld')\n",
    "\n",
    "set2 = {'Jo', 'Jo', 'John', 'hello'}\n",
    "\n",
    "set2.add('hello john')\n",
    "\n",
    "set2.union(set1)\n",
    "\n",
    "\n",
    "\n",
    "print(set2.__doc__)\n",
    "?set"
   ]
  },
  {
   "cell_type": "code",
   "execution_count": null,
   "id": "68853bd7-51cc-45b6-99a7-d6079aded14c",
   "metadata": {},
   "outputs": [],
   "source": []
  },
  {
   "cell_type": "code",
   "execution_count": 233,
   "id": "a7c503d8-89ad-404f-b754-14ca3ec015d1",
   "metadata": {},
   "outputs": [
    {
     "data": {
      "text/plain": [
       "{'banana', 'loganberry', 'passion fruit'}"
      ]
     },
     "execution_count": 233,
     "metadata": {},
     "output_type": "execute_result"
    }
   ],
   "source": [
    "freshfruit = ['  banana', '  loganberry ', 'passion fruit  ']\n",
    "{weapon.strip() for weapon in freshfruit}\n",
    "\n",
    "\n",
    "#print(strip.__doc__)"
   ]
  },
  {
   "cell_type": "code",
   "execution_count": 202,
   "id": "1d9dddc8-3cf3-4343-b51c-f39bff60806c",
   "metadata": {},
   "outputs": [
    {
     "name": "stdout",
     "output_type": "stream",
     "text": [
      "A collection of string constants.\n",
      "\n",
      "Public module variables:\n",
      "\n",
      "whitespace -- a string containing all ASCII whitespace\n",
      "ascii_lowercase -- a string containing all ASCII lowercase letters\n",
      "ascii_uppercase -- a string containing all ASCII uppercase letters\n",
      "ascii_letters -- a string containing all ASCII letters\n",
      "digits -- a string containing all ASCII decimal digits\n",
      "hexdigits -- a string containing all ASCII hexadecimal digits\n",
      "octdigits -- a string containing all ASCII octal digits\n",
      "punctuation -- a string containing all ASCII punctuation characters\n",
      "printable -- a string containing all ASCII characters considered printable\n",
      "\n",
      "\n"
     ]
    }
   ],
   "source": [
    "import string\n",
    "\n",
    "print(string.__doc__)"
   ]
  },
  {
   "cell_type": "code",
   "execution_count": 195,
   "id": "81f195e5-146e-4828-9ed7-f6f2d92f0ebb",
   "metadata": {},
   "outputs": [
    {
     "name": "stdout",
     "output_type": "stream",
     "text": [
      "Return a copy of the string with leading and trailing whitespace removed.\n",
      "\n",
      "If chars is given and not None, remove characters in chars instead.\n"
     ]
    }
   ],
   "source": [
    "a = '  banana'\n",
    "dir(a.strip)\n",
    "print(a.strip.__doc__)  \n",
    "\n",
    "\n",
    "# ------------------------------------------------------------------------------ #\n",
    "# checking\n",
    "# The dir() function returns all properties and methods of the specified object, \n",
    "#   without the values. This function will return all the properties and methods, \n",
    "#   even built-in properties which are default for all object."
   ]
  },
  {
   "cell_type": "code",
   "execution_count": 183,
   "id": "8c75bd5e-f867-4063-9930-0f26490cde29",
   "metadata": {},
   "outputs": [
    {
     "name": "stdout",
     "output_type": "stream",
     "text": [
      "Create portable serialized representations of Python objects.\n",
      "\n",
      "See module copyreg for a mechanism for registering custom picklers.\n",
      "See module pickletools source for extensive comments.\n",
      "\n",
      "Classes:\n",
      "\n",
      "    Pickler\n",
      "    Unpickler\n",
      "\n",
      "Functions:\n",
      "\n",
      "    dump(object, file)\n",
      "    dumps(object) -> string\n",
      "    load(file) -> object\n",
      "    loads(bytes) -> object\n",
      "\n",
      "Misc variables:\n",
      "\n",
      "    __version__\n",
      "    format_version\n",
      "    compatible_formats\n",
      "\n",
      "\n"
     ]
    }
   ],
   "source": [
    "import pickle\n",
    "print(pickle.__doc__)"
   ]
  },
  {
   "cell_type": "code",
   "execution_count": 27,
   "id": "57d91cd4-9096-4c30-b927-054cd2b7db83",
   "metadata": {},
   "outputs": [],
   "source": [
    "# dir(2)"
   ]
  },
  {
   "cell_type": "code",
   "execution_count": 124,
   "id": "ef7d759b-5fc4-4595-b8e2-e4ff694d1934",
   "metadata": {},
   "outputs": [
    {
     "data": {
      "text/html": [
       "<div>\n",
       "<style scoped>\n",
       "    .dataframe tbody tr th:only-of-type {\n",
       "        vertical-align: middle;\n",
       "    }\n",
       "\n",
       "    .dataframe tbody tr th {\n",
       "        vertical-align: top;\n",
       "    }\n",
       "\n",
       "    .dataframe thead th {\n",
       "        text-align: right;\n",
       "    }\n",
       "</style>\n",
       "<table border=\"1\" class=\"dataframe\">\n",
       "  <thead>\n",
       "    <tr style=\"text-align: right;\">\n",
       "      <th></th>\n",
       "      <th>id</th>\n",
       "      <th>name</th>\n",
       "      <th>job</th>\n",
       "      <th>salary</th>\n",
       "    </tr>\n",
       "  </thead>\n",
       "  <tbody>\n",
       "    <tr>\n",
       "      <th>0</th>\n",
       "      <td>1</td>\n",
       "      <td>Cliff</td>\n",
       "      <td>DataScientist</td>\n",
       "      <td>800000</td>\n",
       "    </tr>\n",
       "    <tr>\n",
       "      <th>1</th>\n",
       "      <td>2</td>\n",
       "      <td>Frank</td>\n",
       "      <td>DataEngineer</td>\n",
       "      <td>900008</td>\n",
       "    </tr>\n",
       "    <tr>\n",
       "      <th>2</th>\n",
       "      <td>3</td>\n",
       "      <td>Steve</td>\n",
       "      <td>PythonDeveloper</td>\n",
       "      <td>900001</td>\n",
       "    </tr>\n",
       "    <tr>\n",
       "      <th>3</th>\n",
       "      <td>4</td>\n",
       "      <td>Coco</td>\n",
       "      <td>DataEngineer</td>\n",
       "      <td>900002</td>\n",
       "    </tr>\n",
       "    <tr>\n",
       "      <th>4</th>\n",
       "      <td>5</td>\n",
       "      <td>John</td>\n",
       "      <td>DataScientist</td>\n",
       "      <td>900003</td>\n",
       "    </tr>\n",
       "  </tbody>\n",
       "</table>\n",
       "</div>"
      ],
      "text/plain": [
       "   id   name              job  salary\n",
       "0   1  Cliff    DataScientist  800000\n",
       "1   2  Frank     DataEngineer  900008\n",
       "2   3  Steve  PythonDeveloper  900001\n",
       "3   4   Coco     DataEngineer  900002\n",
       "4   5   John    DataScientist  900003"
      ]
     },
     "execution_count": 124,
     "metadata": {},
     "output_type": "execute_result"
    }
   ],
   "source": [
    "import pandas as pd\n",
    "\n",
    "def load_data(path):\n",
    "    \n",
    "    df = pd.read_csv(path)\n",
    "    #y = df['labels']\n",
    "    X = df[[i for i in list(df.columns) if i != 'labels']]\n",
    "\n",
    "    \n",
    "    return X#,  y\n",
    "\n",
    "\n",
    "load_data('train.csv')"
   ]
  },
  {
   "cell_type": "code",
   "execution_count": 97,
   "id": "e18ca3ca-2f81-4c89-8329-04fbb755b75e",
   "metadata": {},
   "outputs": [
    {
     "data": {
      "text/plain": [
       "0    1\n",
       "1    0\n",
       "2    0\n",
       "3    3\n",
       "4    1\n",
       "Name: labels, dtype: int64"
      ]
     },
     "execution_count": 97,
     "metadata": {},
     "output_type": "execute_result"
    }
   ],
   "source": [
    "import pandas as pd\n",
    "\n",
    "def load_data(path):\n",
    "    \n",
    "    df = pd.read_csv(path)\n",
    "    y = df['labels']    # Pandas Series data type\n",
    "    #X = df[[i for i in list(df.columns) if i != 'labels']]\n",
    "\n",
    "    \n",
    "    return y#,  y\n",
    "\n",
    "\n",
    "load_data('train.csv')\n",
    "\n",
    "pp = load_data('train.csv')\n",
    "pp\n",
    "#?pp"
   ]
  },
  {
   "cell_type": "code",
   "execution_count": 234,
   "id": "920e41f1-1cb2-43f3-a691-c111a94ccc92",
   "metadata": {},
   "outputs": [
    {
     "data": {
      "text/html": [
       "<div>\n",
       "<style scoped>\n",
       "    .dataframe tbody tr th:only-of-type {\n",
       "        vertical-align: middle;\n",
       "    }\n",
       "\n",
       "    .dataframe tbody tr th {\n",
       "        vertical-align: top;\n",
       "    }\n",
       "\n",
       "    .dataframe thead th {\n",
       "        text-align: right;\n",
       "    }\n",
       "</style>\n",
       "<table border=\"1\" class=\"dataframe\">\n",
       "  <thead>\n",
       "    <tr style=\"text-align: right;\">\n",
       "      <th></th>\n",
       "      <th>id</th>\n",
       "      <th>name</th>\n",
       "      <th>job</th>\n",
       "      <th>salary</th>\n",
       "    </tr>\n",
       "  </thead>\n",
       "  <tbody>\n",
       "    <tr>\n",
       "      <th>0</th>\n",
       "      <td>1</td>\n",
       "      <td>Cliff</td>\n",
       "      <td>DataScientist</td>\n",
       "      <td>800000</td>\n",
       "    </tr>\n",
       "    <tr>\n",
       "      <th>1</th>\n",
       "      <td>2</td>\n",
       "      <td>Frank</td>\n",
       "      <td>DataEngineer</td>\n",
       "      <td>900008</td>\n",
       "    </tr>\n",
       "    <tr>\n",
       "      <th>2</th>\n",
       "      <td>3</td>\n",
       "      <td>Steve</td>\n",
       "      <td>PythonDeveloper</td>\n",
       "      <td>900001</td>\n",
       "    </tr>\n",
       "    <tr>\n",
       "      <th>3</th>\n",
       "      <td>4</td>\n",
       "      <td>Coco</td>\n",
       "      <td>DataEngineer</td>\n",
       "      <td>900002</td>\n",
       "    </tr>\n",
       "    <tr>\n",
       "      <th>4</th>\n",
       "      <td>5</td>\n",
       "      <td>John</td>\n",
       "      <td>DataScientist</td>\n",
       "      <td>900003</td>\n",
       "    </tr>\n",
       "  </tbody>\n",
       "</table>\n",
       "</div>"
      ],
      "text/plain": [
       "   id   name              job  salary\n",
       "0   1  Cliff    DataScientist  800000\n",
       "1   2  Frank     DataEngineer  900008\n",
       "2   3  Steve  PythonDeveloper  900001\n",
       "3   4   Coco     DataEngineer  900002\n",
       "4   5   John    DataScientist  900003"
      ]
     },
     "execution_count": 234,
     "metadata": {},
     "output_type": "execute_result"
    }
   ],
   "source": [
    "import pandas as pd\n",
    "\n",
    "def load_data(path):\n",
    "    \n",
    "    df = pd.read_csv(path)\n",
    "    #y = df['labels']\n",
    "    X = df[[i for i in list(df.columns) if i != 'labels']]\n",
    "\n",
    "    \n",
    "    return X#,  y\n",
    "\n",
    "\n",
    "load_data('train.csv')"
   ]
  },
  {
   "cell_type": "markdown",
   "id": "670849d0-cac1-4947-b658-19351cb7bd0d",
   "metadata": {},
   "source": [
    "## Best practice for default arguments\n",
    "\n",
    "One of your co-workers (who obviously didn't take this course) has written this function for adding a column to a pandas DataFrame. Unfortunately, they used a mutable variable as a default argument value! Please show them a better way to do this so that they don't get unexpected behavior.\n",
    "\n",
    "def add_column(values, df=pandas.DataFrame()):\n",
    "  \"\"\"Add a column of `values` to a DataFrame `df`.\n",
    "  The column will be named \"col_<n>\" where \"n\" is\n",
    "  the numerical index of the column.\n",
    "\n",
    "  Args:\n",
    "    values (iterable): The values of the new column\n",
    "    df (DataFrame, optional): The DataFrame to update.\n",
    "      If no DataFrame is passed, one is created by default.\n",
    "\n",
    "  Returns:\n",
    "    DataFrame\n",
    "  \"\"\"\n",
    "  df['col_{}'.format(len(df.columns))] = values\n",
    "  return df\n",
    "\n",
    "    \n",
    "    \n",
    "\n",
    "    Change the default value of df to an immutable value to follow best practices.\n",
    "    Update the code of the function so that a new DataFrame is created if the caller didn't pass one.\n"
   ]
  },
  {
   "cell_type": "code",
   "execution_count": 142,
   "id": "2e1c3528-d4a0-4949-8e6a-579f31a08f31",
   "metadata": {},
   "outputs": [
    {
     "data": {
      "text/html": [
       "<div>\n",
       "<style scoped>\n",
       "    .dataframe tbody tr th:only-of-type {\n",
       "        vertical-align: middle;\n",
       "    }\n",
       "\n",
       "    .dataframe tbody tr th {\n",
       "        vertical-align: top;\n",
       "    }\n",
       "\n",
       "    .dataframe thead th {\n",
       "        text-align: right;\n",
       "    }\n",
       "</style>\n",
       "<table border=\"1\" class=\"dataframe\">\n",
       "  <thead>\n",
       "    <tr style=\"text-align: right;\">\n",
       "      <th></th>\n",
       "      <th>col_0</th>\n",
       "      <th>col_1</th>\n",
       "    </tr>\n",
       "  </thead>\n",
       "  <tbody>\n",
       "    <tr>\n",
       "      <th>0</th>\n",
       "      <td>1</td>\n",
       "      <td>1</td>\n",
       "    </tr>\n",
       "    <tr>\n",
       "      <th>1</th>\n",
       "      <td>2</td>\n",
       "      <td>2</td>\n",
       "    </tr>\n",
       "    <tr>\n",
       "      <th>2</th>\n",
       "      <td>3</td>\n",
       "      <td>3</td>\n",
       "    </tr>\n",
       "    <tr>\n",
       "      <th>3</th>\n",
       "      <td>4</td>\n",
       "      <td>4</td>\n",
       "    </tr>\n",
       "    <tr>\n",
       "      <th>4</th>\n",
       "      <td>5</td>\n",
       "      <td>5</td>\n",
       "    </tr>\n",
       "    <tr>\n",
       "      <th>5</th>\n",
       "      <td>6</td>\n",
       "      <td>6</td>\n",
       "    </tr>\n",
       "    <tr>\n",
       "      <th>6</th>\n",
       "      <td>7</td>\n",
       "      <td>7</td>\n",
       "    </tr>\n",
       "    <tr>\n",
       "      <th>7</th>\n",
       "      <td>8</td>\n",
       "      <td>8</td>\n",
       "    </tr>\n",
       "  </tbody>\n",
       "</table>\n",
       "</div>"
      ],
      "text/plain": [
       "   col_0  col_1\n",
       "0      1      1\n",
       "1      2      2\n",
       "2      3      3\n",
       "3      4      4\n",
       "4      5      5\n",
       "5      6      6\n",
       "6      7      7\n",
       "7      8      8"
      ]
     },
     "execution_count": 142,
     "metadata": {},
     "output_type": "execute_result"
    }
   ],
   "source": [
    "# Use an immutable variable for the default argument\n",
    "import pandas as pandas\n",
    "\n",
    "def better_add_column(values, df=None):\n",
    "    \"\"\"Add a column of `values` to a DataFrame `df`.\n",
    "    The column will be named \"col_<n>\" where \"n\" is\n",
    "    the numerical index of the column.\n",
    "\n",
    "    Args:\n",
    "      values (iterable): The values of the new column\n",
    "      df (DataFrame, optional): The DataFrame to update.\n",
    "        If no DataFrame is passed, one is created by default.\n",
    "\n",
    "    Returns:\n",
    "      DataFrame\n",
    "    \"\"\"\n",
    "    # Update the function to create a default DataFrame\n",
    "    if df is None:\n",
    "        df = pandas.DataFrame()\n",
    "    df['col_{}'.format(len(df.columns))] = values\n",
    "    return df\n",
    "\n",
    "\n",
    "\n",
    "\n",
    "values = [1,2,3,4,5,6,7,8]\n",
    "\n",
    "df = better_add_column(values)\n",
    "better_add_column(values, df)"
   ]
  },
  {
   "cell_type": "markdown",
   "id": "b77debf6-ff72-4b63-864b-45470195868e",
   "metadata": {},
   "source": [
    "## Using context managers\n",
    "\n",
    "\n",
    "\n",
    "\n",
    "## *********************************************************************************************\n",
    "\n",
    "## Think, when we need to use a context manager, why we need that? \n",
    "\n",
    "## Also thank about the decorator, the difference between two? and others\n",
    "\n",
    "\n",
    "\n",
    "Managing Resources : In any programming language, the usage of resources like file operations or database connections is very common. But these resources are limited in supply. Therefore, the main problem lies in making sure to release these resources after usage. If they are not released then it will lead to resource leakage and may cause the system to either slow down or crash. It would be very helpful if user have a mechanism for the automatic setup and teardown of resources.In Python, it can be achieved by the usage of context managers which facilitate the proper handling of resources. The most common way of performing file operations is by using the with keyword as shown below:\n",
    "\n",
    "**Python program showing a use of with keyword\n",
    "  \n",
    "with open(\"test.txt\") as f:   \n",
    "    data = f.read()\n",
    "\n",
    "\n",
    "\n",
    "\n",
    "\n",
    "\n",
    "In this lession, we'll introduce the concept of context managers and show you how to use these special kinds of functions.  \n",
    "\n",
    "\n",
    "#   __A context manager is type of function that set up a context, for your code to run in, runs your code, and then removes the context.  "
   ]
  },
  {
   "cell_type": "code",
   "execution_count": 206,
   "id": "df62eaa4-6dae-4154-874f-98937647e977",
   "metadata": {},
   "outputs": [
    {
     "name": "stdout",
     "output_type": "stream",
     "text": [
      "the file is 54 characters long\n"
     ]
    }
   ],
   "source": [
    "# ************************************************************************************************ #\n",
    "# a real world example of using context manager\n",
    "\n",
    "with open('hello.txt') as file:\n",
    "    text = file.read()\n",
    "    length = len(text)\n",
    "    \n",
    "    \n",
    "print('the file is {} characters long'.format(length))\n",
    "\n",
    "file.close()"
   ]
  },
  {
   "cell_type": "code",
   "execution_count": 9,
   "id": "28ba80a9-3f96-43d7-805e-35640b9f7dca",
   "metadata": {},
   "outputs": [
    {
     "name": "stdout",
     "output_type": "stream",
     "text": [
      "the file content is: \n",
      " 774838 \n"
     ]
    }
   ],
   "source": [
    "# a real world example of using context manager\n",
    "\n",
    "path = 'Pride and Prejudice, by Jane Austen.txt'\n",
    "\n",
    "with open(path, 'r') as file:\n",
    "    #length = len(text)\n",
    "    \n",
    "    #text = file.readline()\n",
    "    text = file.read()\n",
    "    \n",
    "    \n",
    "print('the file content is: \\n {} '.format(len(text)))"
   ]
  },
  {
   "cell_type": "markdown",
   "id": "919d93df-861e-4ed6-8e51-6bb0dd17f4fe",
   "metadata": {
    "jp-MarkdownHeadingCollapsed": true,
    "tags": []
   },
   "source": [
    "## the open function is a context manager, \n",
    "\n",
    "\n",
    "   when you write with open(),  it opens a file that you can ('r')read from or ('w')write to and ('a')append to.  \n",
    "   \n",
    "   Then it gives control back to your code so that you can perform operations on the file object.  \n",
    "    \n",
    "    \n",
    "    __In this example, we read the text of the file, store the contents of the file in a variable text, and store the length of the contents in the variable length, when the code inside the indented block is done, the open() function makes sure that the file is closed before continuing on in the script.  \n",
    "    \n",
    "    __The print statement is outside of the context, so by the time it runs the file is closed. \n",
    "    \n",
    "    \n",
    "    \n",
    "    \n",
    "# *********************************************************************************\n",
    "with <context-manager>(<args>) as <variable-name>:\n",
    "    # Run your code here\n",
    "    # This code is running \"inside the context\"\n",
    "    \n",
    "# This code runs after the context is removed\n",
    "# *********************************************************************************\n",
    "\n",
    "    \n",
    "    __Any time you use a context manager, it will looks like this, \n",
    "         the key word 'with' lets Python know that you are trying to enter a context.  \n",
    "    \n",
    "    __Then you call a function, you can call any function that is built to work as a context manager. \n",
    "    __A context manager can take arguments like normal function, you end with statement with a colon. \n",
    "     \n",
    "    Statements in Python that has a indented block after them, like foo loops, if/else statements, function definition, etc. are called Compound Statement.\n",
    "    The with statement is another type of compound statement. Any code that you want to run inside the context that the context manager created needs to be indented,  When the indented block is done, the context manager gets chance to clean up anything that it needs to, like when the open() context manager closed the file. \n",
    "    \n",
    "    Some context manager want to return a value that you can use inside the context. By adding as, and a variable name at the end of the with statement, you can assign the returned value to the variable name.\n",
    "    "
   ]
  },
  {
   "cell_type": "markdown",
   "id": "dc052563-2691-4d8a-90cc-361dfa3f88bd",
   "metadata": {},
   "source": [
    "## with statement not with function\n",
    "\n",
    "\n",
    "\n",
    "\n",
    "with file_obj as file:\n",
    "    content = file.readline()\n"
   ]
  },
  {
   "cell_type": "code",
   "execution_count": null,
   "id": "7d4d22af-f496-48f3-a8fc-cb710904f053",
   "metadata": {},
   "outputs": [],
   "source": []
  },
  {
   "cell_type": "markdown",
   "id": "516e8ddf-4db1-4dca-8ee3-2d951f02db90",
   "metadata": {},
   "source": [
    "## The number of cats\n",
    "\n",
    "You are working on a natural language processing project to determine what makes great writers so great. Your current hypothesis is that great writers talk about cats a lot. To prove it, you want to count the number of times the word \"cat\" appears in \"Alice's Adventures in Wonderland\" by Lewis Carroll. You have already downloaded a text file, alice.txt, with the entire contents of this great book.\n",
    "\n",
    "\n",
    "Use the open() context manager to open alice.txt and assign the file to the file variable"
   ]
  },
  {
   "cell_type": "code",
   "execution_count": null,
   "id": "1f6eb44c-1d90-4689-9c13-43c8ae66a9f6",
   "metadata": {},
   "outputs": [
    {
     "name": "stdout",
     "output_type": "stream",
     "text": [
      "Lewis Carroll uses the word \"cat\" 0 times\n"
     ]
    }
   ],
   "source": [
    "# Open \"alice.txt\" and assign the file to \"file\"\n",
    "with open('alice_in_wonderland.txt') as file:\n",
    "    text = file.read()\n",
    "\n",
    "    \n",
    "n = 0\n",
    "for word in text.split():\n",
    "    if word.lower() in ['cat', 'cats']:\n",
    "        n += 1\n",
    "\n",
    "print('Lewis Carroll uses the word \"cat\" {} times'.format(n))"
   ]
  },
  {
   "cell_type": "code",
   "execution_count": 43,
   "id": "2dddaaeb-d237-48d0-8d3e-327ca1c0c9e9",
   "metadata": {},
   "outputs": [
    {
     "data": {
      "text/plain": [
       "[\"Alice's\", 'Adventures', 'in', 'Wonderland', \"ALICE'S\"]"
      ]
     },
     "execution_count": 43,
     "metadata": {},
     "output_type": "execute_result"
    }
   ],
   "source": [
    "with open ('alice_in_wonderland.txt') as file:\n",
    "    text = file.read()\n",
    "    #content = print(text)  #*\n",
    "    \n",
    "a = text.split()  # <= it becomes a list\n",
    "# a.head()\n",
    "\n",
    "a[0:5] \n",
    "\n",
    "#content  #*"
   ]
  },
  {
   "cell_type": "code",
   "execution_count": 46,
   "id": "9a92c7a3-eb70-4ccd-bc6d-0f91ef459959",
   "metadata": {},
   "outputs": [
    {
     "name": "stdout",
     "output_type": "stream",
     "text": [
      "print(value, ..., sep=' ', end='\\n', file=sys.stdout, flush=False)\n",
      "\n",
      "Prints the values to a stream, or to sys.stdout by default.\n",
      "Optional keyword arguments:\n",
      "file:  a file-like object (stream); defaults to the current sys.stdout.\n",
      "sep:   string inserted between values, default a space.\n",
      "end:   string appended after the last value, default a newline.\n",
      "flush: whether to forcibly flush the stream.\n"
     ]
    }
   ],
   "source": [
    "print(print.__doc__)"
   ]
  },
  {
   "cell_type": "markdown",
   "id": "065c22d4-9e26-45a6-86e0-330ec79bb510",
   "metadata": {},
   "source": [
    "## The speed of cats\n",
    "\n",
    "You're working on a new web service that processes Instagram feeds to identify which pictures contain cats (don't ask why -- it's the internet). The code that processes the data is slower than you would like it to be, so you are working on tuning it up to run faster. Given an image, image, you have two functions that can process it:\n",
    "\n",
    "    process_with_numpy(image)\n",
    "    process_with_pytorch(image)\n",
    "\n",
    "Your colleague wrote a context manager, timer(), that will print out how long the code inside the context block takes to run. She is suggesting you use it to see which of the two options is faster. Time each function to determine which one to use in your web service.\n",
    "\n",
    "\n",
    "\n",
    "Hint\n",
    "\n",
    "    The timer() context manager does not take any arguments.\n",
    "    The timer() context manager doesn't yield a value, so you don't need an as <variable name> in your with statement.\n"
   ]
  },
  {
   "cell_type": "code",
   "execution_count": null,
   "id": "c22bb80f-4aef-49ad-962f-a4298bdeb7bc",
   "metadata": {},
   "outputs": [],
   "source": [
    "image = get_image_from_instagram()\n",
    "\n",
    "# Time how long process_with_numpy(image) takes to run\n",
    "with timer():\n",
    "    print('Numpy version')\n",
    "    process_with_numpy(image)\n",
    "\n",
    "# Time how long process_with_pytorch(image) takes to run\n",
    "with timer():\n",
    "    print('Pytorch version')\n",
    "    process_with_pytorch(image)"
   ]
  },
  {
   "cell_type": "code",
   "execution_count": 12,
   "id": "230cb2f8-5514-4963-969f-5823c41eb82c",
   "metadata": {},
   "outputs": [
    {
     "name": "stdout",
     "output_type": "stream",
     "text": [
      "Bingley version\n",
      "148\n",
      "Spend 0.05097055435180664 s to run\n",
      "Darcy version\n",
      "214\n",
      "Spend 0.05250740051269531 s to run\n"
     ]
    }
   ],
   "source": [
    "#import timer()\n",
    "# how can I write this %time function, or agic %time function\n",
    "\n",
    "import contextlib, time\n",
    "\n",
    "# ********************************************************************************************* #\n",
    "'''\n",
    "@contextlib.contextmanager                    #  5, @contextlib.contextmanager decorater\n",
    "def my_context:                               #  1, a function\n",
    "    # add any setup code you need             #  2, (optional) setup code\n",
    "    yield                                     #  3, yield keyword\n",
    "    # add any teardown code you need          #  4, teardown code     '''\n",
    "# ********************************************************************************************* #\n",
    "\n",
    "@contextlib.contextmanager\n",
    "def timer():\n",
    "    start = time.time()\n",
    "    try:\n",
    "        yield\n",
    "    finally:\n",
    "        t_spend = time.time() - start\n",
    "    print(f\"Spend {t_spend} s to run\")\n",
    "    #print(\"Spend: {:.5}s to run\".format(t_spend)\n",
    "    \n",
    "    \n",
    "    \n",
    "#import contextlib, time\n",
    "#\n",
    "#@contextlib.contextmanager\n",
    "#def timer():\n",
    "#    \"\"\"Time the execution of a context block.\n",
    "#    \"\"\"\n",
    "#    start = time.time()\n",
    "#    # Send control back to the context block\n",
    "#    \n",
    "#    try:\n",
    "#        yield\n",
    "#        \n",
    "#    finally:\n",
    "#        end = time.time()\n",
    "#        print('Elapsed: {:.7f}s'.format(end - start))   \n",
    "#    \n",
    "#    \n",
    "\n",
    "\n",
    "# If the file is too big, can we apply file.readline() to solve this problem?\n",
    "def count_bingley(path, count=0):\n",
    "    with open(path, \"r\") as file:\n",
    "        content = file.read()\n",
    "        for word in content.split():\n",
    "            if word.lower() in [\"bingley\", \"bingley's\"]:\n",
    "                count += 1\n",
    "    print(count)\n",
    "    return count\n",
    "\n",
    "def count_darcy(path, count=0):\n",
    "    with open(path, \"r\") as file:\n",
    "        content = file.read()\n",
    "        for word in content.split():\n",
    "            if word.lower() in [\"darcy\", \"darcy's\"]:\n",
    "                count += 1\n",
    "    print(count)\n",
    "    return count\n",
    "\n",
    "\n",
    "path = 'Pride and Prejudice, by Jane Austen.txt'\n",
    "\n",
    "with timer():\n",
    "    print('Bingley version')\n",
    "    count_bingley(path)\n",
    "\n",
    "with timer():\n",
    "    print('Darcy version')\n",
    "    count_darcy(path)"
   ]
  },
  {
   "cell_type": "code",
   "execution_count": 219,
   "id": "e1e1de47-1cf3-4d8d-9826-210418945d75",
   "metadata": {},
   "outputs": [
    {
     "name": "stdout",
     "output_type": "stream",
     "text": [
      "CPU times: user 3 µs, sys: 1e+03 ns, total: 4 µs\n",
      "Wall time: 6.2 µs\n"
     ]
    },
    {
     "data": {
      "text/plain": [
       "24"
      ]
     },
     "execution_count": 219,
     "metadata": {},
     "output_type": "execute_result"
    }
   ],
   "source": [
    "%time\n",
    "\n",
    "def count_cat(path, count=0):\n",
    "    \n",
    "    with open(path) as file:\n",
    "        content = file.read()\n",
    "        \n",
    "        for word in content.split():\n",
    "            if word.lower() in ['cat', 'cats']:\n",
    "                count += 1\n",
    "            \n",
    "    return count\n",
    "\n",
    "\n",
    "count_cat('alice_in_wonderland.txt')"
   ]
  },
  {
   "cell_type": "markdown",
   "id": "d6445a7e-941e-476d-ada1-74c240036426",
   "metadata": {},
   "source": [
    "## Writing context managers\n",
    "\n",
    "\n",
    "\n",
    "\n",
    "\n",
    "\n",
    "Two ways to define a Context Manager in Python,  \n",
    "    __by using a class that has special __enter__() and __exit__() methods or \n",
    "    __by decorating a certain function *\n",
    "    \n",
    "    \n",
    "    \n",
    "#    How to create a context manager? \n",
    "   \n",
    "      1, define a function,\n",
    "      2, (optional) you can add any setup code your context manager need\n",
    "      3, you must use yield keyword to signal to Python that this is a special kind of function\n",
    "      4, after yield statement, you can add any teardown code that you need to clean up the context\n",
    "      5, finally you must decorate the function with the @contextmanager from the contextlib modele"
   ]
  },
  {
   "cell_type": "code",
   "execution_count": null,
   "id": "c6bc3088-e466-4bbd-8305-3a9b8351036b",
   "metadata": {},
   "outputs": [],
   "source": [
    "# ---------------------------------------------------------------------------------------------- #\n",
    "\n",
    "@contextlib.contextmanager                    #  5, @contextlib.contextmanager decorater\n",
    "def my_context:                               #  1, a function\n",
    "    # add any setup code you need             #  2, (optional) setup code\n",
    "    yield                                     #  3, yield keyword\n",
    "    # add any teardown code you need          #  4, teardown code\n",
    "    \n",
    "# ---------------------------------------------------------------------------------------------- #\n",
    "\n",
    "\n",
    "\n",
    "\n"
   ]
  },
  {
   "cell_type": "markdown",
   "id": "c2f88c71-5861-48e4-985b-2ae0bbaddcef",
   "metadata": {},
   "source": [
    "## decorators will be discuessed in next chapter\n",
    "\n",
    "\n",
    "\n",
    "__yield,  it means that you are going to return a value, \n",
    "      but you expect to finish the rest of the function at some point in the future. \n",
    "\n",
    "__the value that your context manager yields can be assigned to a variable in the with statement by adding as. \n",
    "\n",
    "\n",
    "\n",
    "\n",
    "\n",
    "in fact, a context manager function is technically a generator that yield a single value\n",
    "\n",
    "\n",
    "\n",
    "\n",
    "### the ability for a function to yield control and know that it will get to finish running later is what makes context managers so useful. \n",
    "\n",
    "\n",
    "\n",
    "\n",
    "\n"
   ]
  },
  {
   "cell_type": "code",
   "execution_count": 53,
   "id": "3b9c20a8-65dc-4e20-9e2a-323a57e93135",
   "metadata": {},
   "outputs": [
    {
     "name": "stdout",
     "output_type": "stream",
     "text": [
      "hello\n",
      "fool is 42\n",
      "goodbye\n"
     ]
    }
   ],
   "source": [
    "import contextlib\n",
    "\n",
    "\n",
    "@contextlib.contextmanager\n",
    "def my_context():\n",
    "    print('hello')\n",
    "    \n",
    "    yield 42\n",
    "    \n",
    "    print('goodbye')\n",
    "    \n",
    "    \n",
    "with my_context() as foo:\n",
    "    print('fool is {}'.format(foo))"
   ]
  },
  {
   "cell_type": "code",
   "execution_count": 14,
   "id": "37e3354f-ee0e-4a25-87f0-8b22e1f8b3aa",
   "metadata": {},
   "outputs": [
    {
     "name": "stdout",
     "output_type": "stream",
     "text": [
      "﻿The Project Gutenberg eBook of Pride and Prejudice, by Jane Austen\n",
      "\n"
     ]
    }
   ],
   "source": [
    "# ***************************************************************************************** #\n",
    "# ***************************************************************************************** #\n",
    "# ***************************************************************************************** #\n",
    "from contextlib import contextmanager\n",
    "\n",
    "@contextmanager\n",
    "def CustomFileOpen(filename, method):\n",
    "    \"\"\"Custom context manager for opening a file.\"\"\"\n",
    "\n",
    "    f = open(filename, method)\n",
    "    try:\n",
    "        yield f\n",
    "    finally:\n",
    "        f.close()\n",
    "\n",
    "        \n",
    "        \n",
    "with CustomFileOpen('Pride and Prejudice, by Jane Austen.txt', 'r') as file:\n",
    "    content = file.readline()\n",
    "    \n",
    "print(content)\n",
    "\n",
    "# ***************************************************************************************** #\n",
    "# ***************************************************************************************** #\n",
    "# ***************************************************************************************** #"
   ]
  },
  {
   "cell_type": "code",
   "execution_count": 52,
   "id": "844e608b-a943-410a-af9d-9b031887b7b7",
   "metadata": {},
   "outputs": [
    {
     "ename": "NameError",
     "evalue": "name 'postgres' is not defined",
     "output_type": "error",
     "traceback": [
      "\u001b[0;31m---------------------------------------------------------------------------\u001b[0m",
      "\u001b[0;31mNameError\u001b[0m                                 Traceback (most recent call last)",
      "\u001b[0;32m/tmp/ipykernel_5852/40968407.py\u001b[0m in \u001b[0;36m<module>\u001b[0;34m\u001b[0m\n\u001b[1;32m     15\u001b[0m \u001b[0murl\u001b[0m \u001b[0;34m=\u001b[0m \u001b[0;34m'datacamp.com/data'\u001b[0m\u001b[0;34m\u001b[0m\u001b[0;34m\u001b[0m\u001b[0m\n\u001b[1;32m     16\u001b[0m \u001b[0;34m\u001b[0m\u001b[0m\n\u001b[0;32m---> 17\u001b[0;31m \u001b[0;32mwith\u001b[0m \u001b[0mdatabase\u001b[0m\u001b[0;34m(\u001b[0m\u001b[0murl\u001b[0m\u001b[0;34m)\u001b[0m \u001b[0;32mas\u001b[0m \u001b[0mmy_db\u001b[0m\u001b[0;34m:\u001b[0m\u001b[0;34m\u001b[0m\u001b[0;34m\u001b[0m\u001b[0m\n\u001b[0m\u001b[1;32m     18\u001b[0m     course_list = my_db.execute(\n\u001b[1;32m     19\u001b[0m     'SELECT * FROM courses')\n",
      "\u001b[0;32m/usr/lib/python3.9/contextlib.py\u001b[0m in \u001b[0;36m__enter__\u001b[0;34m(self)\u001b[0m\n\u001b[1;32m    115\u001b[0m         \u001b[0;32mdel\u001b[0m \u001b[0mself\u001b[0m\u001b[0;34m.\u001b[0m\u001b[0margs\u001b[0m\u001b[0;34m,\u001b[0m \u001b[0mself\u001b[0m\u001b[0;34m.\u001b[0m\u001b[0mkwds\u001b[0m\u001b[0;34m,\u001b[0m \u001b[0mself\u001b[0m\u001b[0;34m.\u001b[0m\u001b[0mfunc\u001b[0m\u001b[0;34m\u001b[0m\u001b[0;34m\u001b[0m\u001b[0m\n\u001b[1;32m    116\u001b[0m         \u001b[0;32mtry\u001b[0m\u001b[0;34m:\u001b[0m\u001b[0;34m\u001b[0m\u001b[0;34m\u001b[0m\u001b[0m\n\u001b[0;32m--> 117\u001b[0;31m             \u001b[0;32mreturn\u001b[0m \u001b[0mnext\u001b[0m\u001b[0;34m(\u001b[0m\u001b[0mself\u001b[0m\u001b[0;34m.\u001b[0m\u001b[0mgen\u001b[0m\u001b[0;34m)\u001b[0m\u001b[0;34m\u001b[0m\u001b[0;34m\u001b[0m\u001b[0m\n\u001b[0m\u001b[1;32m    118\u001b[0m         \u001b[0;32mexcept\u001b[0m \u001b[0mStopIteration\u001b[0m\u001b[0;34m:\u001b[0m\u001b[0;34m\u001b[0m\u001b[0;34m\u001b[0m\u001b[0m\n\u001b[1;32m    119\u001b[0m             \u001b[0;32mraise\u001b[0m \u001b[0mRuntimeError\u001b[0m\u001b[0;34m(\u001b[0m\u001b[0;34m\"generator didn't yield\"\u001b[0m\u001b[0;34m)\u001b[0m \u001b[0;32mfrom\u001b[0m \u001b[0;32mNone\u001b[0m\u001b[0;34m\u001b[0m\u001b[0;34m\u001b[0m\u001b[0m\n",
      "\u001b[0;32m/tmp/ipykernel_5852/40968407.py\u001b[0m in \u001b[0;36mdatabase\u001b[0;34m(url)\u001b[0m\n\u001b[1;32m      4\u001b[0m \u001b[0;32mdef\u001b[0m \u001b[0mdatabase\u001b[0m\u001b[0;34m(\u001b[0m\u001b[0murl\u001b[0m\u001b[0;34m)\u001b[0m\u001b[0;34m:\u001b[0m\u001b[0;34m\u001b[0m\u001b[0;34m\u001b[0m\u001b[0m\n\u001b[1;32m      5\u001b[0m     \u001b[0;31m# Setup a database connection\u001b[0m\u001b[0;34m\u001b[0m\u001b[0;34m\u001b[0m\u001b[0;34m\u001b[0m\u001b[0m\n\u001b[0;32m----> 6\u001b[0;31m     \u001b[0mdb\u001b[0m \u001b[0;34m=\u001b[0m \u001b[0mpostgres\u001b[0m\u001b[0;34m.\u001b[0m\u001b[0mconnect\u001b[0m\u001b[0;34m(\u001b[0m\u001b[0murl\u001b[0m\u001b[0;34m)\u001b[0m\u001b[0;34m\u001b[0m\u001b[0;34m\u001b[0m\u001b[0m\n\u001b[0m\u001b[1;32m      7\u001b[0m \u001b[0;34m\u001b[0m\u001b[0m\n\u001b[1;32m      8\u001b[0m     \u001b[0;32myield\u001b[0m \u001b[0mdb\u001b[0m\u001b[0;34m\u001b[0m\u001b[0;34m\u001b[0m\u001b[0m\n",
      "\u001b[0;31mNameError\u001b[0m: name 'postgres' is not defined"
     ]
    }
   ],
   "source": [
    "import contextlib\n",
    "\n",
    "@contextlib.contextmanager\n",
    "def database(url):\n",
    "    # Setup a database connection\n",
    "    db = postgres.connect(url)\n",
    "    \n",
    "    yield db\n",
    "    \n",
    "    # Teardown database connection\n",
    "    db.disconnect()\n",
    "    \n",
    "    \n",
    "    \n",
    "url = 'datacamp.com/data'\n",
    "\n",
    "with database(url) as my_db:\n",
    "    course_list = my_db.execute(\n",
    "    'SELECT * FROM courses')"
   ]
  },
  {
   "cell_type": "markdown",
   "id": "3fc9a2d3-46a6-45e2-bba3-d47e43d0fce0",
   "metadata": {},
   "source": [
    "## Yielding a value or None\n",
    "\n",
    "\n",
    "\n",
    "\n",
    "\n",
    "\n",
    "__The database() context manager yields a specific value - the database connection, that can be used in the context block.  \n",
    "\n",
    "\n",
    "While some context manager dont yield an explicit value, in_dir() is a context manager that changes the current working directory to a specific path and then changes it back after the context block is done. It does not need to return anything with its yield statement.  "
   ]
  },
  {
   "cell_type": "code",
   "execution_count": null,
   "id": "34bb9d18-9208-405a-8a2b-2749a68bd06e",
   "metadata": {},
   "outputs": [],
   "source": [
    "import contextlib\n",
    "\n",
    "@contextlib.contextmanager\n",
    "def in_dir(path):\n",
    "    # save current working directory\n",
    "    old_dir = os.getcwd()\n",
    "    \n",
    "    # switch to new working directory\n",
    "    os.chdir(path)\n",
    "    \n",
    "    yield\n",
    "    \n",
    "    # change back to previous woring directory\n",
    "    os.chdir(old_dir)\n",
    "    \n",
    "    \n",
    "    \n",
    "with in_dir('/data/project_1/'):\n",
    "    project_files = os.listdir()"
   ]
  },
  {
   "cell_type": "markdown",
   "id": "bb898ad5-b6a1-4b15-a076-b159fecf8851",
   "metadata": {},
   "source": [
    "## The timer() context manager\n",
    "\n",
    "A colleague of yours is working on a web service that processes Instagram photos. Customers are complaining that the service takes too long to identify whether or not an image has a cat in it, so your colleague has come to you for help. You decide to write a context manager that they can use to time how long their functions take to run.\n",
    "\n",
    "\n",
    "\n",
    "    Add a decorator from the contextlib module to the timer() function that will make it act like a context manager.\n",
    "    Send control from the timer() function to the context block.\n",
    "\n",
    "\n",
    "\n",
    "Hint\n",
    "\n",
    "    Remember that context managers use yield to return control to the context.\n",
    "    timer() does not return a specific value when it yields control.\n"
   ]
  },
  {
   "cell_type": "code",
   "execution_count": 15,
   "id": "05e3b943-d7b4-48ad-8235-e47ba8e50598",
   "metadata": {},
   "outputs": [
    {
     "name": "stdout",
     "output_type": "stream",
     "text": [
      "This should take approximately 0.25 seconds\n",
      "Elapsed: 0.2506285s\n"
     ]
    }
   ],
   "source": [
    "# ********************************************************************************************* #\n",
    "# ********************************************************************************************* #\n",
    "# ********************************************************************************************* #\n",
    "\n",
    "\n",
    "# Add a decorator that will make timer() a context manager\n",
    "import contextlib, time\n",
    "\n",
    "@contextlib.contextmanager\n",
    "def timer():\n",
    "    \"\"\"Time the execution of a context block.\n",
    "    \n",
    "    Yields:\n",
    "      None\n",
    "    \"\"\"\n",
    "    start = time.time()\n",
    "    # Send control back to the context block\n",
    "    \n",
    "    try:\n",
    "        yield\n",
    "    finally:\n",
    "        end = time.time()\n",
    "        print('Elapsed: {:.7f}s'.format(end - start))   \n",
    "        # {:.3f}, 0.3 means 3 figure after dot, f mean cut\n",
    "\n",
    "    \n",
    "with timer():\n",
    "    print('This should take approximately 0.25 seconds')\n",
    "    time.sleep(0.25)\n",
    "    \n",
    "    \n",
    "    \n",
    "#del timer()   # <= SyntaxError: cannot delete function call\n",
    "del timer\n"
   ]
  },
  {
   "cell_type": "code",
   "execution_count": 258,
   "id": "887db9ae-b4ab-42be-9399-095115db01f9",
   "metadata": {},
   "outputs": [
    {
     "name": "stdout",
     "output_type": "stream",
     "text": [
      "Cat version\n",
      "Elapsed: 0.013591s\n",
      "Alice version\n",
      "Elapsed: 0.0093617s\n",
      "Rabbit version\n",
      "33\n",
      "Elapsed: 0.0090773s\n"
     ]
    }
   ],
   "source": [
    "# Add a decorator that will make timer() a context manager\n",
    "import contextlib, time\n",
    "\n",
    "@contextlib.contextmanager\n",
    "def timer():\n",
    "    \"\"\"Time the execution of a context block.\n",
    "    \"\"\"\n",
    "    \n",
    "    start = time.time()\n",
    "    # Send control back to the context block\n",
    "    yield\n",
    "    end = time.time()\n",
    "    print('Elapsed: {:.5}s'.format(end - start))\n",
    "    \n",
    "    \n",
    "\n",
    "def count_cat(path, count=0):\n",
    "    with open(path) as file:\n",
    "        content = file.read()\n",
    "        \n",
    "        for word in content.split():\n",
    "            if word.lower() in ['cat', 'cats', \"cat's\"]:\n",
    "                count += 1\n",
    "            \n",
    "    return count\n",
    "\n",
    "\n",
    "\n",
    "def count_alice(path, count=0):\n",
    "    with open(path) as file:\n",
    "        content = file.read()\n",
    "        \n",
    "        for word in content.split():\n",
    "            if word.lower() in ['alice', \"alice's\"]:\n",
    "                count += 1\n",
    "            \n",
    "    return count\n",
    "\n",
    "\n",
    "\n",
    "def count_rabbit(path, count=0):\n",
    "    with open(path) as file:\n",
    "        content = file.read()\n",
    "        \n",
    "        for word in content.split():\n",
    "            if word.lower() in [\"rabbit's\", 'rabbit']:\n",
    "                count += 1\n",
    "                \n",
    "        print(count)\n",
    "\n",
    "\n",
    "\n",
    "path = 'alice_in_wonderland.txt'\n",
    "\n",
    "# Time how long process_with_numpy(image) takes to run\n",
    "with timer():\n",
    "    print('Cat version')\n",
    "    count_cat(path)\n",
    "\n",
    "# Time how long process_with_pytorch(image) takes to run\n",
    "with timer():\n",
    "    print('Alice version')\n",
    "    count_alice(path)\n",
    "    \n",
    "# Time how long process_with_pytorch(image) takes to run\n",
    "with timer():\n",
    "    print('Rabbit version')\n",
    "    count_rabbit(path)"
   ]
  },
  {
   "cell_type": "markdown",
   "id": "a7af800c-dd27-45f0-80ab-cc002d5413ae",
   "metadata": {},
   "source": [
    "## A read-only open() context manager\n",
    "\n",
    "You have a bunch of data files for your next deep learning project that took you months to collect and clean. It would be terrible if you accidentally overwrote one of those files when trying to read it in for training, so you decide to create a read-only version of the open() context manager to use in your project.\n",
    "\n",
    "The regular open() context manager:\n",
    "\n",
    "    takes a filename and a mode ('r' for read, 'w' for write, or 'a' for append)\n",
    "    opens the file for reading, writing, or appending\n",
    "    yields control back to the context, along with a reference to the file\n",
    "    waits for the context to finish\n",
    "    and then closes the file before exiting\n",
    "\n",
    "Your context manager will do the same thing, except it will only take the filename as an argument and it will only open the file for reading.\n",
    "\n",
    "\n",
    "\n",
    "\n",
    "    Yield control from open_read_only() to the context block, ensuring that the read_only_file object gets assigned to my_file.\n",
    "    Use read_only_file's .close() method to ensure that you don't leave open files lying around.\n",
    "\n",
    "Hint\n",
    "\n",
    "    The open() function creates a reference to a file.\n",
    "    The function open_read_only() should send that file back to the context.\n",
    "    You close a file with the .close() method of a file object.\n"
   ]
  },
  {
   "cell_type": "code",
   "execution_count": 257,
   "id": "be9b57ed-6829-47cd-8bb2-56c3673f91f0",
   "metadata": {},
   "outputs": [
    {
     "name": "stdout",
     "output_type": "stream",
     "text": [
      "Alice's Adventures in Wonderland\n",
      "\n"
     ]
    }
   ],
   "source": [
    "@contextlib.contextmanager\n",
    "def open_read_only(filename):\n",
    "    \"\"\"Open a file in read-only mode.\n",
    "\n",
    "    Args:\n",
    "      filename (str): The location of the file to read\n",
    "\n",
    "    Yields:\n",
    "      file object\n",
    "    \"\"\"\n",
    "    read_only_file = open(filename, mode='r')\n",
    "    # Yield read_only_file so it can be assigned to my_file\n",
    "    \n",
    "    yield read_only_file\n",
    "    # Close read_only_file\n",
    "    read_only_file.close()\n",
    "\n",
    "        \n",
    "    \n",
    "with open_read_only('alice_in_wonderland.txt') as my_file:\n",
    "    print(my_file.readline())"
   ]
  },
  {
   "cell_type": "markdown",
   "id": "cab7443f-a96f-4f68-b44a-eab0996f25bb",
   "metadata": {},
   "source": [
    "## Advanced topics\n",
    "\n",
    "\n",
    "\n",
    "\n",
    "In this lesson, we'll cover __nested context, handing errors, and how to know when to create a context manager. \n",
    "\n",
    "\n",
    "Image you are immplementation this copy() function that copies the contents of one file to another file. One way you could write this function would be to open & read the source file, read the content and stored the content file into content variable, then open & write the destination file, and write the vontent into it. \n",
    "\n",
    "\n",
    "\n",
    "\n",
    "\n",
    "\n",
    "## This approach works fine, untill we try to copy a file that is too large to fit in memory. \n",
    "\n",
    "\n",
    "\n",
    "The better idea would be open both file at once, and copy over one line at a time. The file object that the open() context manager return can be iterated over in a for loop. The statement \"for line in my_file\" will read in the contents of my_file one line at a time, untill the end of the file\n",
    "\n",
    "\n",
    "with open('abc.txt') as my_file:\n",
    "    for line in my_file:\n",
    "        # do something here"
   ]
  },
  {
   "cell_type": "code",
   "execution_count": 253,
   "id": "862cf11c-62d7-4e1d-84b4-ef1cf28dd53b",
   "metadata": {},
   "outputs": [],
   "source": [
    "def copy(src, dst):\n",
    "    \"\"\"Copy the contents of one file into another\n",
    "    \n",
    "    Args:\n",
    "      src (str): File name of source to be copied\n",
    "      dst (str): File name of new file\n",
    "    \"\"\"\n",
    "    \n",
    "    # Open the source file and read in the contents\n",
    "    with open(src, 'r') as f_src:\n",
    "        content = f_src.read()     # <= read the file to content variable\n",
    "        \n",
    "    # Open the destination file and write out the content\n",
    "    with open(dst, 'a') as f_dst:\n",
    "        f_dst.write(content)     # <= write the vontent variable into dest file\n",
    "    \n",
    "    \n",
    "    \n",
    "copy('abc.txt', 'ABC.txt')"
   ]
  },
  {
   "cell_type": "code",
   "execution_count": 18,
   "id": "64278646-0711-4f9f-8a92-3375bd756e8e",
   "metadata": {},
   "outputs": [
    {
     "name": "stdout",
     "output_type": "stream",
     "text": [
      "Elapsed: 0.002811s\n"
     ]
    }
   ],
   "source": [
    "# ***************************************************************************************** #\n",
    "# ***************************************************************************************** #\n",
    "\n",
    "def copy(src, dst):\n",
    "    \"\"\"Copy the contents of one file into another\n",
    "    \n",
    "    Args:\n",
    "      src (str): File name of source to be copied\n",
    "      dst (str): File name of new file\n",
    "    \"\"\"\n",
    "    \n",
    "    # Open the source file and read in the contents\n",
    "    with open(src, 'r') as f_src:\n",
    "        with open(dst, 'a') as f_dst:  # Then open the destnation file inside the source file's context\n",
    "            for line in f_src:  \n",
    "                # That means the code runs inside open destionation file has access both f_sr and f_dst\n",
    "                f_dst.write(line)    \n",
    "    \n",
    "    \n",
    "#copy('abc.txt', 'ABC.txt')\n",
    "\n",
    "\n",
    "\n",
    "import contextlib, time\n",
    "\n",
    "@contextlib.contextmanager\n",
    "def timer():\n",
    "    \"\"\"Time the execution of a context block.\n",
    "    \"\"\"\n",
    "    \n",
    "    start = time.time()\n",
    "    # Send control back to the context block\n",
    "    \n",
    "    yield\n",
    "    end = time.time()\n",
    "    print('Elapsed: {:.5}s'.format(end - start))\n",
    "    \n",
    "    \n",
    "    \n",
    "    \n",
    "with timer():\n",
    "    copy('abc.txt', 'ABC.txt')"
   ]
  },
  {
   "cell_type": "markdown",
   "id": "7e0231d3-68d1-4324-bc4b-e7c18627aa76",
   "metadata": {},
   "source": [
    "## Handling errors\n",
    "\n",
    "\n",
    "\n",
    "\n",
    "One thing you want to think about when writting your context manager is : What happens if the programmer who uses your contextmanager writes code taht causes an error? \n",
    "\n",
    "\n"
   ]
  },
  {
   "cell_type": "code",
   "execution_count": null,
   "id": "7ae2bc0f-ab0e-4471-9864-16e698d10042",
   "metadata": {},
   "outputs": [],
   "source": [
    "def get_printer(ip):\n",
    "    p = connect_to_printer(ip)\n",
    "    \n",
    "    yield\n",
    "    \n",
    "    # This MUST be called or no one else will be able to connect to the printer \n",
    "    p.disconnected\n",
    "    print('disconnected from the printer')\n",
    "    \n",
    "    \n",
    "    \n",
    "    \n",
    "doc = {\"text\": \"This is my text\"}\n",
    "    \n",
    "with get_printer('10.0.34.111') as printer:\n",
    "    printer.print_page(doc['txt'])  \n",
    "    # ---------------------------------------------------------------------------------------------- #\n",
    "    # <= this will raise a KeyError, hence the code stops here and p.disconnected doesnt get called\n",
    "    #                                                             ---------------------------------- #\n",
    "    \n",
    "    \n",
    "    "
   ]
  },
  {
   "cell_type": "markdown",
   "id": "03646888-0fe6-4e8c-a4f5-4977b3e7b5b3",
   "metadata": {},
   "source": [
    "## Handing errors\n",
    "\n",
    "\n",
    "\n",
    "try:\n",
    "    # code that might raise exception\n",
    "    \n",
    "except:\n",
    "    # do something about errors\n",
    "    \n",
    "finally:\n",
    "    # this code block runs no matter what\n",
    "    \n",
    "    \n",
    "    \n",
    "    \n",
    "## Python OOP Course notes:\n",
    "# --------------------------------------------------------------------------------------- #\n",
    "try:\n",
    "    # try running some code or program\n",
    "    \n",
    "except ExceptionNameHere:\n",
    "    # run this code if ExceptionNameHere happened\n",
    "    \n",
    "except AnotherExceptionNameHere:\n",
    "    # run this code if AnotherExceptionNameHere happened\n",
    "    \n",
    "......\n",
    "    \n",
    "finally:        # <= this is optional\n",
    "    # run this code no matter what\n",
    "    # this code block is best used for cleaning up, like closing open files. "
   ]
  },
  {
   "cell_type": "code",
   "execution_count": null,
   "id": "54569b9d-be8f-4d7e-b62c-280dff19c68c",
   "metadata": {},
   "outputs": [],
   "source": [
    "import contextlib\n",
    "\n",
    "@contextlib.contextmanager\n",
    "def get_printer(ip):\n",
    "    p = connect_to_printer(ip)\n",
    "    \n",
    "    \n",
    "    try:\n",
    "        yield\n",
    "        \n",
    "    # except\n",
    "    \n",
    "    finally:\n",
    "        p.disconnect()\n",
    "        print('disconnected from the printer')\n",
    "    "
   ]
  },
  {
   "cell_type": "markdown",
   "id": "6a748965-4be0-4e26-9150-da10ff69772d",
   "metadata": {},
   "source": [
    "## When the sloopy programmer runs the code, they still get the KeyError, but finally ensured that p.disconnect() is called before the error is raced.  "
   ]
  },
  {
   "cell_type": "code",
   "execution_count": null,
   "id": "1727e4fc-f8db-4d2f-8258-b23a75ed7bac",
   "metadata": {},
   "outputs": [],
   "source": [
    "import contextlib\n",
    "\n",
    "@contextlib.contextmanager\n",
    "def get_printer(ip):\n",
    "    p = connect_to _printer(ip)\n",
    "    \n",
    "    try:\n",
    "        yield\n",
    "        \n",
    "    finally:\n",
    "        p.disconnected()\n",
    "        print('disconnected from the printer')\n",
    "        \n",
    "        \n",
    "        \n",
    "doc = {\"text\": \"This is my text\"}\n",
    "        \n",
    "with get_printer(ip) as printer:\n",
    "    printer.print_page(doc[\"text\"])"
   ]
  },
  {
   "cell_type": "code",
   "execution_count": 50,
   "id": "fc724ee9-0c0c-485d-89fb-69ef941db87e",
   "metadata": {
    "tags": []
   },
   "outputs": [
    {
     "data": {
      "text/plain": [
       "123"
      ]
     },
     "execution_count": 50,
     "metadata": {},
     "output_type": "execute_result"
    }
   ],
   "source": [
    "def print_file(path):\n",
    "    with open(path, 'r') as file:\n",
    "        text = file.read()\n",
    "        \n",
    "    return {path: text}   # how dictionary was used in function output? expecially in production env\n",
    "\n",
    "\n",
    "\n",
    "path = 'alice_in_wonderland.txt'\n",
    "\n",
    "alice = print_file(path)\n",
    "\n",
    "alice['test'] = 123\n",
    "alice['test']"
   ]
  },
  {
   "cell_type": "code",
   "execution_count": 259,
   "id": "02a47e55-38d3-41ca-af23-49757607432a",
   "metadata": {},
   "outputs": [
    {
     "data": {
      "text/plain": [
       "\u001b[0;31mType:\u001b[0m        str\n",
       "\u001b[0;31mString form:\u001b[0m\n",
       "Alice's Adventures in Wonderland\n",
       "           \n",
       "           ALICE'S ADVENTURES IN WONDERLAND\n",
       "           \n",
       "           <...>\n",
       "           remembering her own child-life, and the happy summer days.\n",
       "           \n",
       "           THE END\n",
       "\u001b[0;31mLength:\u001b[0m      148574\n",
       "\u001b[0;31mDocstring:\u001b[0m  \n",
       "str(object='') -> str\n",
       "str(bytes_or_buffer[, encoding[, errors]]) -> str\n",
       "\n",
       "Create a new string object from the given object. If encoding or\n",
       "errors is specified, then the object must expose a data buffer\n",
       "that will be decoded using the given encoding and error handler.\n",
       "Otherwise, returns the result of object.__str__() (if defined)\n",
       "or repr(object).\n",
       "encoding defaults to sys.getdefaultencoding().\n",
       "errors defaults to 'strict'.\n"
      ]
     },
     "metadata": {},
     "output_type": "display_data"
    }
   ],
   "source": [
    "\n",
    "import contextlib\n",
    "\n",
    "@contextlib.contextmanager\n",
    "def get_printer(ip):\n",
    "    p = connect_to_printer(ip)\n",
    "    \n",
    "    try:\n",
    "        yield\n",
    "    \n",
    "    finally:\n",
    "        \n",
    "        # This MUST be called or no one else will be able to connect to the printer \n",
    "        p.disconnected\n",
    "        print('disconnected from the printer')\n",
    "    \n",
    "    \n",
    "    \n",
    "doc = 'alice_in_wonderland.txt'\n",
    "\n",
    "with open(doc, 'r') as file:\n",
    "    content = file.read()\n",
    "    \n",
    "    #return {doc: content}\n",
    "    \n",
    "    \n",
    "    \n",
    "#def doc_print(doc):\n",
    "#    with open(doc, 'r') as file:\n",
    "#        content = file.read()\n",
    "#        \n",
    "#    return {doc, content}\n",
    "    \n",
    "    \n",
    "    \n",
    "#print(content)\n",
    "#content\n",
    "?content\n",
    "\n",
    "#doc_print(doc)\n",
    "    \n",
    "\n",
    "#doc = {\"text\": \"This is my text\"}\n",
    "#    \n",
    "#with get_printer('10.0.34.111') as printer:\n",
    "#    printer.print_page(doc['text'])"
   ]
  },
  {
   "cell_type": "code",
   "execution_count": 23,
   "id": "95cf3563-1d96-4a62-961f-e950f228cb68",
   "metadata": {},
   "outputs": [],
   "source": [
    "def doc_print(doc):\n",
    "    with open(doc, 'r') as file:\n",
    "        content = file.read()\n",
    "        \n",
    "    return {doc, content}\n",
    "    #return doc, content\n",
    "    \n",
    "    \n",
    "    \n",
    "doc = 'alice_in_wonderland.txt'\n",
    "    \n",
    "#print(content)\n",
    "#content\n",
    "\n",
    "#doc_print(doc)"
   ]
  },
  {
   "cell_type": "markdown",
   "id": "de635935-b927-488d-aa1a-bbe050ae962e",
   "metadata": {},
   "source": [
    "## Context manager use cases\n",
    "\n",
    "Which of the following would NOT be a good opportunity to use a context manager?\n",
    "Answer the question\n",
    "50XP\n",
    "Possible Answers\n",
    "\n",
    "    A function that starts a timer that keeps track of how long some block of code takes to run.\n",
    "    press\n",
    "    1\n",
    "    A function that prints all of the prime numbers between 2 and some value n.\n",
    "    press\n",
    "    2\n",
    "    A function that connects to a smart thermostat so that it can be programmed remotely.\n",
    "    press\n",
    "    3\n",
    "    A function that prevents multiple users from updating an online spreadsheet at the same time by locking access to the spreadsheet before every operation.\n",
    "    press\n",
    "    4"
   ]
  },
  {
   "cell_type": "code",
   "execution_count": 67,
   "id": "6ff3dc48-d438-4669-bfd9-db7b9ce5a7a9",
   "metadata": {},
   "outputs": [
    {
     "name": "stdout",
     "output_type": "stream",
     "text": [
      "[2, 3, 5, 7, 11, 13, 17, 19, 23, 29, 31, 37, 41, 43, 47, 53, 59, 61, 67, 71, 73, 79, 83, 89, 97]\n"
     ]
    }
   ],
   "source": [
    "a = []\n",
    "n = 100\n",
    "\n",
    "for i in range(2, n):\n",
    "    for j in range(2, i):\n",
    "        if i % j == 0:\n",
    "            break\n",
    "    else:\n",
    "        a.append(i)\n",
    "    \n",
    "print(a)"
   ]
  },
  {
   "cell_type": "code",
   "execution_count": 180,
   "id": "d95690e6-e513-44f7-a30e-af9c6f45ff4e",
   "metadata": {},
   "outputs": [
    {
     "name": "stdout",
     "output_type": "stream",
     "text": [
      "Prime numbers between 2 and 100 are:\n",
      "[2, 3, 5, 7, 11, 13, 17, 19, 23, 29, 31, 37, 41, 43, 47, 53, 59, 61, 67, 71, 73, 79, 83, 89, 97]\n"
     ]
    }
   ],
   "source": [
    "# Python program to display all the prime numbers within an interval\n",
    "\n",
    "lower = 2\n",
    "upper = 100\n",
    "\n",
    "print(\"Prime numbers between\", lower, \"and\", upper, \"are:\")\n",
    "\n",
    "a = []\n",
    "\n",
    "for num in range(lower, upper + 1):\n",
    "   # all prime numbers are greater than 1\n",
    "   if num > 1:\n",
    "        for i in range(2, num):\n",
    "             if (num % i) == 0:\n",
    "                    break\n",
    "        else:\n",
    "             a.append(num)\n",
    "                \n",
    "print(a)"
   ]
  },
  {
   "cell_type": "markdown",
   "id": "e9d9261c-0fbe-4048-962c-ba5e8a651186",
   "metadata": {},
   "source": [
    "## Scraping the NASDAQ\n",
    "\n",
    "Training deep neural nets is expensive! You might as well invest in NVIDIA stock since you're spending so much on GPUs. To pick the best time to invest, you are going to collect and analyze some data on how their stock is doing. The context manager stock('NVDA') will connect to the NASDAQ and return an object that you can use to get the latest price by calling its .price() method.\n",
    "\n",
    "You want to connect to stock('NVDA') and record 10 timesteps of price data by writing it to the file NVDA.txt.\n",
    "\n",
    "You will notice the use of an underscore when iterating over the for loop. If this is confusing to you, don't worry. It could easily be replaced with i, if we planned to do something with it, like use it as an index. Since we won't be using it, we can use a dummy operator, _, which doesn't use any additional memory.\n",
    "\n",
    "\n",
    "\n",
    "    Use the stock('NVDA') context manager and assign the result to nvda.\n",
    "    Open a file for writing with open('NVDA.txt', 'w') and assign the file object to f_out so you can record the price over time.\n"
   ]
  },
  {
   "cell_type": "code",
   "execution_count": null,
   "id": "161dcf14-9ced-49df-afdf-1b23ef84f9fc",
   "metadata": {},
   "outputs": [],
   "source": [
    "# Use the \"stock('NVDA')\" context manager\n",
    "# and assign the result to the variable \"nvda\"\n",
    "with stock('NVDA') as nvda:\n",
    "    # Open \"NVDA.txt\" for writing as f_out\n",
    "    with open(\"NVDA.txt\", 'w') as f_out:\n",
    "        for i in range(10):\n",
    "            value = nvda.price()\n",
    "            print('Logging ${:.2f} for NVDA'.format(value))\n",
    "            f_out.write('{:.2f}\\n'.format(value))"
   ]
  },
  {
   "cell_type": "markdown",
   "id": "5a0be009-d30a-478d-9c78-93bf2d944729",
   "metadata": {},
   "source": [
    "## Changing the working directory\n",
    "\n",
    "You are using an open-source library that lets you train deep neural networks on your data. Unfortunately, during training, this library writes out checkpoint models (i.e., models that have been trained on a portion of the data) to the current working directory. You find that behavior frustrating because you don't want to have to launch the script from the directory where the models will be saved.\n",
    "\n",
    "You decide that one way to fix this is to write a context manager that changes the current working directory, lets you build your models, and then resets the working directory to its original location. You'll want to be sure that any errors that occur during model training don't prevent you from resetting the working directory to its original location.\n",
    "\n",
    "\n",
    "\n",
    "    Add a statement that lets you handle any errors that might occur inside the context.\n",
    "    Add a statement that ensures os.chdir(current_dir) will be called, whether there was an error or not.\n"
   ]
  },
  {
   "cell_type": "code",
   "execution_count": null,
   "id": "bf79315b-a9b8-48dc-b077-12cf60bad640",
   "metadata": {},
   "outputs": [],
   "source": [
    "def in_dir(directory):\n",
    "    \"\"\"Change current working directory to `directory`,\n",
    "    allow the user to run some code, and change back.\n",
    "    \n",
    "    Args:\n",
    "      directory (str): The path to a directory to work in.\n",
    "    \"\"\"\n",
    "    \n",
    "    current_dir = os.getcwd()\n",
    "    os.chdir(directory)\n",
    "    \n",
    "    # Add code that lets you handle errors\n",
    "    try:\n",
    "        yield\n",
    "    \n",
    "    # Ensure the directory is reset, whether there was an error or not\n",
    "    finally:\n",
    "        os.chdir(current_dir)"
   ]
  },
  {
   "cell_type": "markdown",
   "id": "338a187d-711e-42ad-9b18-911dd40fff09",
   "metadata": {},
   "source": [
    "## Functions are objects\n",
    "\n",
    "\n",
    "\n",
    "\n",
    "\n",
    "In this chapter, you are going to learn about decorators, a powerful way of modifying the behavior of functions. But first we need to build up some foundational concept that will make decorator easy to understand.  The main thing you should take away from this lession is that functiona are just like any other object in Python.  So you can do anything to or with them that you would do with any other object. "
   ]
  },
  {
   "cell_type": "code",
   "execution_count": 179,
   "id": "4cbeaf14-283e-4428-8cba-e58a4bb01470",
   "metadata": {},
   "outputs": [
    {
     "name": "stdout",
     "output_type": "stream",
     "text": [
      "hello world\n",
      "hola\n"
     ]
    }
   ],
   "source": [
    "def my_function():   # with parentheses\n",
    "    print('hello world')\n",
    "    \n",
    "    \n",
    "def my_fu(text):   # with parentheses\n",
    "    print(text)\n",
    "    \n",
    "    \n",
    "hell = my_function   # without parentheses, when assign a function to a variable\n",
    "hell            # its an object\n",
    "#hell()    # with parentheses\n",
    "\n",
    "hel = my_fu\n",
    "hell()     # with parentheses, type the function with the parentheses mean you are calling the function\n",
    "hel('hola')"
   ]
  },
  {
   "cell_type": "markdown",
   "id": "c2261712-9c37-4afc-b363-299060cc069e",
   "metadata": {},
   "source": [
    "Notice that when you assign a function to a variable, you do not include the parentheses after the function name.  This is subtle but very important distinction.  When you type the function with the parentheses, you are calling that function. However when you type function name without the parentheses, you are referencing the function.  It evaluates to a function object.  \n",
    "\n",
    "\n",
    "Since the function is just like anything else in python, you can pass it as an argument to another function.  \n",
    "\n",
    "\n",
    "\n",
    "def has_docstring(func):\n",
    "    \"\"\"Check to see if the function func has a docstring\n",
    "    \n",
    "    Args: \n",
    "      func (callable): A function\n",
    "      \n",
    "    Return:\n",
    "      bool\n",
    "    \n",
    "    \"\"\"\n",
    "\n",
    "    return func.__doc__ is not None"
   ]
  },
  {
   "cell_type": "code",
   "execution_count": 39,
   "id": "03006035-6191-4ebf-a186-460d67f40815",
   "metadata": {},
   "outputs": [
    {
     "data": {
      "text/plain": [
       "True"
      ]
     },
     "execution_count": 39,
     "metadata": {},
     "output_type": "execute_result"
    }
   ],
   "source": [
    "def has_docstring(func):\n",
    "    \"\"\"Check to see if the function func has a docstring\n",
    "    \n",
    "    Args: \n",
    "      func (callable): A function\n",
    "      \n",
    "    Return:\n",
    "      bool\n",
    "    \n",
    "    \"\"\"\n",
    "\n",
    "    return func.__doc__ is not None\n",
    "\n",
    "\n",
    "def no():\n",
    "    return 42\n",
    "\n",
    "def yes():\n",
    "    \"\"\"Returns the value 42\n",
    "    \"\"\"\n",
    "    return 42\n",
    "        \n",
    "has_docstring(no)\n",
    "has_docstring(yes)"
   ]
  },
  {
   "cell_type": "code",
   "execution_count": 72,
   "id": "fb9e3178-197a-46d9-a52a-463805b8079c",
   "metadata": {},
   "outputs": [
    {
     "name": "stdout",
     "output_type": "stream",
     "text": [
      "hello world\n"
     ]
    }
   ],
   "source": [
    "list_of_functions = [\"__repr__\", print, open]\n",
    "list_of_functions[1]('hello world')"
   ]
  },
  {
   "cell_type": "code",
   "execution_count": 77,
   "id": "6c6e98c0-eab2-4c56-9255-6df0a95ab659",
   "metadata": {},
   "outputs": [
    {
     "name": "stdout",
     "output_type": "stream",
     "text": [
      "hello\n"
     ]
    }
   ],
   "source": [
    "dict_of_functions = {'f1':open, 'f2':print, 'f3':'__repr__'}\n",
    "dict_of_functions['f2']('hello')"
   ]
  },
  {
   "cell_type": "markdown",
   "id": "1dd9dc72-8729-4c39-95a4-ef62592a5b0a",
   "metadata": {},
   "source": [
    "## Functions can also be defined inside another function.  \n",
    "\n",
    "\n",
    "\n",
    "\n",
    "\n",
    "\n",
    "\n",
    "These kinds of functions are called **nested functions**, also you may also hear them called inner functions, helper functions, child functions.  A nested function can make code easy to read, \n",
    "\n"
   ]
  },
  {
   "cell_type": "code",
   "execution_count": 94,
   "id": "733f3a3e-9090-427b-b090-48bdd3984834",
   "metadata": {},
   "outputs": [
    {
     "name": "stdout",
     "output_type": "stream",
     "text": [
      "45\n"
     ]
    }
   ],
   "source": [
    "def fool(x, y):\n",
    "    if x > 4 and x < 10 and y > 4 and y < 10:\n",
    "        print(x * y)\n",
    "        \n",
    "        \n",
    "        \n",
    "def fool2(x, y):       # nested functions is okay\n",
    "    def in_range(v):\n",
    "        return v > 4 and v < 10\n",
    "    if in_range(x) and in_range(y):\n",
    "        print(x * y)\n",
    "        \n",
    "fool2(5,9)"
   ]
  },
  {
   "cell_type": "code",
   "execution_count": 102,
   "id": "d9c609ac-2793-4b03-b1f6-cbb72671dcb5",
   "metadata": {},
   "outputs": [
    {
     "name": "stdout",
     "output_type": "stream",
     "text": [
      "hello\n"
     ]
    }
   ],
   "source": [
    "def get_function():\n",
    "    def print_me(s):\n",
    "        print(s)\n",
    "    return print_me\n",
    "\n",
    "\n",
    "get_function()   # returns an object\n",
    "\n",
    "n_fun = get_function()\n",
    "n_fun('hello')"
   ]
  },
  {
   "cell_type": "markdown",
   "id": "88798025-5182-46aa-930c-df0c58dde13b",
   "metadata": {},
   "source": [
    "### Nested functions\n",
    "\n",
    "\n",
    "\n",
    "\n",
    "\n",
    "\n",
    "### Using Inner Functions: The Basics\n",
    "\n",
    "\n",
    "\n",
    "The use cases of Python inner functions are varied. You can use them to provide encapsulation and hide your functions from external access, you can write helper inner functions, and you can also create closures and decorators. In this section, you’ll learn about the former two use cases of inner functions, and in later sections, you’ll learn how to create closure factory functions and decorators.\n",
    "Providing Encapsulation\n",
    "\n",
    "A common use case of inner functions arises when you need to protect, or hide, a given function from everything happening outside of it so that the function is totally hidden from the global scope. This kind of behavior is commonly known as encapsulation.\n",
    "\n",
    "Here’s an example that highlights that concept:\n"
   ]
  },
  {
   "cell_type": "code",
   "execution_count": 1,
   "id": "5afb03a2-a8e2-4df3-bcbb-8e570698b474",
   "metadata": {},
   "outputs": [
    {
     "data": {
      "text/plain": [
       "11"
      ]
     },
     "execution_count": 1,
     "metadata": {},
     "output_type": "execute_result"
    }
   ],
   "source": [
    "def increment(number):\n",
    "    def inner_increment():\n",
    "        return number + 1\n",
    "    return inner_increment()\n",
    "\n",
    "\n",
    "increment(10)"
   ]
  },
  {
   "cell_type": "code",
   "execution_count": null,
   "id": "aedc8359-6bed-47b8-aeb9-d48098b57e71",
   "metadata": {},
   "outputs": [],
   "source": []
  },
  {
   "cell_type": "markdown",
   "id": "27f08661-a07f-4a19-b242-263d1e469547",
   "metadata": {},
   "source": [
    "### Building Helper Inner Functions\n",
    "\n",
    "Sometimes you have a function that performs the same chunk of code in several places within its body. For example, say you want to write a function to process a CSV file containing information about the Wi-Fi hotspots in New York City. To find the total number of hotspots in New York as well as the company that provides most of them, you create the following script:\n",
    "\n",
    "\n",
    "\n",
    "Here, process_hotspots() takes file as an argument. The function checks if file is a string-based path to a physical file or a __file object__. Then it calls the helper inner function most_common_provider(), which takes a file object and performs the following operations:\n",
    "\n",
    "    Read the file content into a generator that yields dictionaries using csv.DictReader.\n",
    "    Create a list of Wi-Fi providers.\n",
    "    Count the number of Wi-Fi hotspots per provider using a collections.Counter object.\n",
    "    Print a message with the retrieved information.\n",
    "\n",
    "\n",
    " ### The canonical way to create a file object is by using the open() function.\n",
    " \n",
    " \n",
    " \n",
    " \n",
    " \n",
    " \n",
    " \n",
    " \n",
    " \n",
    "Using Inner vs Private Helper Functions\n",
    "\n",
    "Typically, you create helper inner functions like most_common_provider() when you want to provide encapsulation. You can also create inner functions if you think you’re not going to call them anywhere else apart from the containing function.\n",
    "\n",
    "Although writing your helper functions as inner functions achieves the desired result, you’ll probably be better served by extracting them as top-level functions. In this case, you could use a leading underscore (_) in the name of the function to indicate that it’s private to the current module or class. This will allow you to access your helper functions from anywhere else in the current module or class and reuse them as needed.\n",
    "\n",
    "Extracting inner functions into top-level private functions can make your code cleaner and more readable. This practice can produce functions that consequently apply the single-responsibility principle.\n"
   ]
  },
  {
   "cell_type": "code",
   "execution_count": 198,
   "id": "6a21798b-1d19-40f0-89fb-f9c676db675e",
   "metadata": {},
   "outputs": [
    {
     "ename": "NameError",
     "evalue": "name 'file' is not defined",
     "output_type": "error",
     "traceback": [
      "\u001b[0;31m---------------------------------------------------------------------------\u001b[0m",
      "\u001b[0;31mNameError\u001b[0m                                 Traceback (most recent call last)",
      "\u001b[0;32m/tmp/ipykernel_11087/3544902739.py\u001b[0m in \u001b[0;36m<module>\u001b[0;34m\u001b[0m\n\u001b[1;32m      8\u001b[0m \u001b[0;34m\u001b[0m\u001b[0m\n\u001b[1;32m      9\u001b[0m \u001b[0mwords\u001b[0m\u001b[0;34m\u001b[0m\u001b[0;34m\u001b[0m\u001b[0m\n\u001b[0;32m---> 10\u001b[0;31m \u001b[0mfile\u001b[0m   \u001b[0;31m# so the file object still exist in the memory? which should be not good as memory occupancy\u001b[0m\u001b[0;34m\u001b[0m\u001b[0;34m\u001b[0m\u001b[0m\n\u001b[0m",
      "\u001b[0;31mNameError\u001b[0m: name 'file' is not defined"
     ]
    }
   ],
   "source": [
    "with open('alice_in_wonderland.txt') as file:\n",
    "    content = file.readline()\n",
    "    words = []\n",
    "    words.append(content.split())\n",
    "    \n",
    "    del file  # so we delete after using the file object, to save the memory resourcces?\n",
    "    \n",
    "    \n",
    "words\n",
    "file   # so the file object still exist in the memory? which should be not good as memory occupancy"
   ]
  },
  {
   "cell_type": "code",
   "execution_count": 3,
   "id": "fb10c751-cc4c-4c9c-a7ec-7c6a38bdb959",
   "metadata": {},
   "outputs": [
    {
     "data": {
      "text/plain": [
       "24"
      ]
     },
     "execution_count": 3,
     "metadata": {},
     "output_type": "execute_result"
    }
   ],
   "source": [
    "def factorial(number):\n",
    "    # Validate input\n",
    "    if not isinstance(number, int):\n",
    "        raise TypeError(\"Sorry. 'number' must be an integer.\")\n",
    "    if number < 0:\n",
    "        raise ValueError(\"Sorry. 'number' must be zero or positive.\")\n",
    "    \n",
    "    # Calculate the factorial of number\n",
    "    def inner_factorial(number):\n",
    "        if number <= 1:\n",
    "            return 1\n",
    "        return number * inner_factorial(number - 1)\n",
    "    \n",
    "    return inner_factorial(number)\n",
    "\n",
    "\n",
    "factorial(4)"
   ]
  },
  {
   "cell_type": "code",
   "execution_count": 19,
   "id": "82a885b9-1603-43bd-ac4d-92840e7f7d77",
   "metadata": {},
   "outputs": [
    {
     "name": "stdout",
     "output_type": "stream",
     "text": [
      "There are 3167 Wi-Fi hotspots in NYC.\n",
      "LinkNYC - Citybridge has the most with 1731.\n"
     ]
    }
   ],
   "source": [
    "# ------------------------------------------------------------------------------------------- #\n",
    "# ------------------------------------------------------------------------------------------- #\n",
    "\n",
    "# hotspots.py\n",
    "\n",
    "import csv\n",
    "from collections import Counter\n",
    "\n",
    "def process_hotspots(file):\n",
    "    def most_common_provider(file_obj):\n",
    "        hotspots = []\n",
    "        with file_obj as csv_file:      # <= \n",
    "            content = csv.DictReader(csv_file)\n",
    "            #print(list(content))  # <= {'OBJECTID': '1', 'Borough': 'BK', 'Type': 'Limited Free',...}\n",
    "                                  # <csv.DictReader object at 0x7f94a4455310>\n",
    "            for row in content:\n",
    "                hotspots.append(row[\"Provider\"])    # <= row['Provider'] picking dict \n",
    "            #print(hotspots)  # <= a list of Provider info, \"LinkNYC - Citybridge\"\n",
    "\n",
    "        counter = Counter(hotspots)\n",
    "        print(f\"There are {len(hotspots)} Wi-Fi hotspots in NYC.\\n\"\n",
    "              f\"{counter.most_common(1)[0][0]} has the most with \"\n",
    "              f\"{counter.most_common(1)[0][1]}.\")\n",
    "        #print(counter)   # <= 'LinkNYC - Citybridge': 1731\n",
    "        \n",
    "    if isinstance(file, str):\n",
    "        file_obj = open(file, \"r\")      # WHY ? \n",
    "        most_common_provider(file_obj)\n",
    "    else:\n",
    "        most_common_provider(file)\n",
    "\n",
    "        \n",
    "#process_hotspots(\"NYC_Wi-Fi_Hotspot_Locations.csv\")   # <= file path as input of function\n",
    "\n",
    "file_obj = open(\"./NYC_Wi-Fi_Hotspot_Locations.csv\", \"r\")\n",
    "process_hotspots(file_obj)                            # <= file object as input of function\n",
    "\n",
    "del csv, Counter, process_hotspots, file_obj"
   ]
  },
  {
   "cell_type": "code",
   "execution_count": 267,
   "id": "b536f735-74ef-4e26-976a-e001a3a1f433",
   "metadata": {},
   "outputs": [
    {
     "data": {
      "text/plain": [
       "[('a', 5), ('b', 2), ('r', 2)]"
      ]
     },
     "execution_count": 267,
     "metadata": {},
     "output_type": "execute_result"
    }
   ],
   "source": [
    "# ****************************************************************************************** #\n",
    "###  counter.most_common([n])\n",
    "\n",
    "    # Return a list of the n most common elements and their counts from the most common to \n",
    "    # the least. If n is omitted or None, most_common() returns all elements in the counter. \n",
    "    # Elements with equal counts are ordered in the order first encountered:\n",
    "    \n",
    "\n",
    "Counter('abracadabra').most_common(3)\n",
    "#[('a', 5), ('b', 2), ('r', 2)]\n"
   ]
  },
  {
   "cell_type": "code",
   "execution_count": 196,
   "id": "8111fd1b-62c1-406d-a994-b94593d0df4c",
   "metadata": {},
   "outputs": [
    {
     "name": "stdout",
     "output_type": "stream",
     "text": [
      "Calling Create_obj() function...\n",
      "Making Object...\n",
      "Employee created\n",
      "function end...\n",
      "Destructor called\n"
     ]
    }
   ],
   "source": [
    "class Employee:\n",
    "  \n",
    "    # Initializing \n",
    "    def __init__(self):\n",
    "        print('Employee created')\n",
    "  \n",
    "    # Calling destructor\n",
    "    def __del__(self):\n",
    "        print(\"Destructor called\")\n",
    "        \n",
    "def Create_obj():\n",
    "    print('Making Object...')\n",
    "    obj = Employee()\n",
    "    print('function end...')\n",
    "    return obj\n",
    "  \n",
    "print('Calling Create_obj() function...')\n",
    "obj = Create_obj()\n",
    "#print('Program End...')"
   ]
  },
  {
   "cell_type": "code",
   "execution_count": 192,
   "id": "51bf73d1-565b-4310-91e9-16aa0fb7611d",
   "metadata": {},
   "outputs": [
    {
     "name": "stdout",
     "output_type": "stream",
     "text": [
      "apple\n",
      "banana\n",
      "cherry\n",
      "<tuple_iterator object at 0x7fb308094b50>\n"
     ]
    },
    {
     "data": {
      "text/plain": [
       "\u001b[0;31mType:\u001b[0m        tuple_iterator\n",
       "\u001b[0;31mString form:\u001b[0m <tuple_iterator object at 0x7fb308094b50>\n",
       "\u001b[0;31mDocstring:\u001b[0m   <no docstring>\n"
      ]
     },
     "metadata": {},
     "output_type": "display_data"
    }
   ],
   "source": [
    "mytuple = (\"apple\", \"banana\", \"cherry\")\n",
    "myit = iter(mytuple)\n",
    "\n",
    "print(next(myit))\n",
    "print(next(myit))\n",
    "print(next(myit))\n",
    "\n",
    "print(myit)\n",
    "\n",
    "myit\n",
    "\n",
    "?myit"
   ]
  },
  {
   "cell_type": "code",
   "execution_count": null,
   "id": "7acbb1a0-9ed4-4751-84f9-c6581fda3c31",
   "metadata": {},
   "outputs": [],
   "source": []
  },
  {
   "cell_type": "code",
   "execution_count": null,
   "id": "8096516b-c8da-49a7-9f66-fb16526c447f",
   "metadata": {},
   "outputs": [],
   "source": []
  },
  {
   "cell_type": "markdown",
   "id": "b6c45677-18e8-4782-8f2c-b83e7c0895e3",
   "metadata": {},
   "source": [
    "## Building a command line data app\n",
    "\n",
    "You are building a command line tool that lets a user interactively explore a data set. We've defined four functions: mean(), std(), minimum(), and maximum() that users can call to analyze their data. Help finish this section of the code so that your users can call any of these functions by typing the function name at the input prompt.\n",
    "\n",
    "Note: The function get_user_input() in this exercise is a mock version of asking the user to enter a command. It randomly returns one of the four function names. In real life, you would ask for input and wait until the user entered a value.\n",
    "\n",
    "\n",
    "\n",
    "    Add the functions std(), minimum(), and maximum() to the function_map dictionary, like we did with mean().\n",
    "    The name of the function the user wants to call is stored in func_name. Use the dictionary of functions, function_map, to call the chosen function and pass data as an argument.\n"
   ]
  },
  {
   "cell_type": "code",
   "execution_count": 108,
   "id": "a5a414c9-9a2f-40d5-ba5c-23f43cbacc51",
   "metadata": {},
   "outputs": [
    {
     "ename": "NameError",
     "evalue": "name 'mean' is not defined",
     "output_type": "error",
     "traceback": [
      "\u001b[0;31m---------------------------------------------------------------------------\u001b[0m",
      "\u001b[0;31mNameError\u001b[0m                                 Traceback (most recent call last)",
      "\u001b[0;32m/tmp/ipykernel_11087/2464581158.py\u001b[0m in \u001b[0;36m<module>\u001b[0;34m\u001b[0m\n\u001b[1;32m      1\u001b[0m \u001b[0;31m# Add the missing function references to the function map\u001b[0m\u001b[0;34m\u001b[0m\u001b[0;34m\u001b[0m\u001b[0;34m\u001b[0m\u001b[0m\n\u001b[1;32m      2\u001b[0m function_map = {\n\u001b[0;32m----> 3\u001b[0;31m   \u001b[0;34m'mean'\u001b[0m\u001b[0;34m:\u001b[0m \u001b[0mmean\u001b[0m\u001b[0;34m,\u001b[0m\u001b[0;34m\u001b[0m\u001b[0;34m\u001b[0m\u001b[0m\n\u001b[0m\u001b[1;32m      4\u001b[0m   \u001b[0;34m'std'\u001b[0m\u001b[0;34m:\u001b[0m \u001b[0mstd\u001b[0m\u001b[0;34m,\u001b[0m\u001b[0;34m\u001b[0m\u001b[0;34m\u001b[0m\u001b[0m\n\u001b[1;32m      5\u001b[0m   \u001b[0;34m'minimum'\u001b[0m\u001b[0;34m:\u001b[0m \u001b[0mminimum\u001b[0m\u001b[0;34m,\u001b[0m\u001b[0;34m\u001b[0m\u001b[0;34m\u001b[0m\u001b[0m\n",
      "\u001b[0;31mNameError\u001b[0m: name 'mean' is not defined"
     ]
    }
   ],
   "source": [
    "# Add the missing function references to the function map\n",
    "function_map = {\n",
    "  'mean': mean,\n",
    "  'std': std,\n",
    "  'minimum': minimum,\n",
    "  'maximum': maximum\n",
    "}\n",
    "\n",
    "#data = load_data()\n",
    "data = [1,2,3,4,5,6,7,8,9,10]\n",
    "mean(data)\n",
    "\n",
    "print(data)\n",
    "\n",
    "func_name = get_user_input()\n",
    "\n",
    "# Call the chosen function and pass \"data\" as an argument\n",
    "function_map[func_name](data)"
   ]
  },
  {
   "cell_type": "code",
   "execution_count": 132,
   "id": "40ca8790-3e14-456c-a012-75a4875df9e6",
   "metadata": {},
   "outputs": [
    {
     "name": "stdout",
     "output_type": "stream",
     "text": [
      "[1, 2, 3, 4, 5, 6, 7, 8, 9, 10]\n"
     ]
    },
    {
     "data": {
      "text/plain": [
       "5.5"
      ]
     },
     "execution_count": 132,
     "metadata": {},
     "output_type": "execute_result"
    }
   ],
   "source": [
    "# Add the missing function references to the function map\n",
    "\n",
    "import statistics\n",
    "import numpy as np\n",
    "\n",
    "\n",
    "#mean = statistics.mean()\n",
    "#std = statistics.std()\n",
    "#minimum = statistics.minimum()\n",
    "#maximum = statistics.maximum()\n",
    "\n",
    "\n",
    "function_map = {\n",
    "    'mean': np.mean,\n",
    "    'std': np.std,\n",
    "    'minimum': np.minimum,\n",
    "    'maximum': np.maximum\n",
    "}\n",
    "\n",
    "#data = load_data()\n",
    "data = [1,2,3,4,5,6,7,8,9,10]\n",
    "np.mean(data)\n",
    "\n",
    "print(data)\n",
    "\n",
    "#func_name = get_user_input()\n",
    "\n",
    "# Call the chosen function and pass \"data\" as an argument\n",
    "function_map['mean'](data)"
   ]
  },
  {
   "cell_type": "code",
   "execution_count": 125,
   "id": "f6f7ef2c-6620-4cd8-927b-1ffca8b7c43f",
   "metadata": {},
   "outputs": [
    {
     "data": {
      "text/plain": [
       "5.5"
      ]
     },
     "execution_count": 125,
     "metadata": {},
     "output_type": "execute_result"
    }
   ],
   "source": [
    "a = [1,2,3,4,5,6,7,8,9,10]\n",
    "\n",
    "import statistics\n",
    "\n",
    "statistics.mean(a)\n",
    "#statistics.mean(1,2,3,4)\n",
    "# TypeError: mean() takes 1 positional argument but 4 were given"
   ]
  },
  {
   "cell_type": "markdown",
   "id": "69e1c1ba-f09d-48fe-8a95-dca76d89aa31",
   "metadata": {},
   "source": [
    "## Reviewing your co-worker's code\n",
    "\n",
    "Your co-worker is asking you to review some code that they've written and give them some tips on how to get it ready for production. You know that having a docstring is considered best practice for maintainable, reusable functions, so as a sanity check you decide to run this has_docstring() function on all of their functions.\n",
    "\n",
    "def has_docstring(func):\n",
    "  \"\"\"Check to see if the function \n",
    "  `func` has a docstring.\n",
    "\n",
    "  Args:\n",
    "    func (callable): A function.\n",
    "\n",
    "  Returns:\n",
    "    bool\n",
    "  \"\"\"\n",
    "  return func.__doc__ is not None\n",
    "\n",
    "\n",
    "\n",
    "Instructions 1/3\n",
    "35 XP\n",
    "\n",
    "1\n",
    "    Call has_docstring() on your co-worker's load_and_plot_data() function.\n",
    "\n",
    "2\n",
    "    Check if the function as_2D() has a docstring.\n",
    "\n",
    "3\n",
    "    Check if the function log_product() has a docstring.\n"
   ]
  },
  {
   "cell_type": "code",
   "execution_count": 148,
   "id": "25d4ea28-bc1c-4398-9044-c03068280be4",
   "metadata": {},
   "outputs": [
    {
     "name": "stdout",
     "output_type": "stream",
     "text": [
      "load_and_plot_data() looks ok\n"
     ]
    }
   ],
   "source": [
    "import pandas as pd\n",
    "\n",
    "def load_and_plot(path):\n",
    "    '''Load a data set and plot the first two principal components\n",
    "    \n",
    "    Args:\n",
    "      path (str): The location of csv file\n",
    "      \n",
    "    Returns:\n",
    "      Tuple of numpy ndarray: (features, labels)\n",
    "    \n",
    "    '''\n",
    "    \n",
    "    data = pd.read_csv(path)\n",
    "    Y = data['labels'].values\n",
    "    X = data[[i for i in list(data.columns) if i != 'labels']].values\n",
    "#    pca = PCA(n_components=2).fit_transform(X)\n",
    "#    plt.scatter(pca[:,0], pca[:,1])\n",
    "    \n",
    "    return X, Y\n",
    "\n",
    "\n",
    "\n",
    "#    df = pd.read_csv(path)\n",
    "#    y = df['labels'].values\n",
    "#    X = df[[i for i in list(df.columns) if i != 'labels']].values\n",
    "\n",
    "\n",
    "\n",
    "train_X, train_y = load_and_plot('train.csv')\n",
    "#val_X, val_y = load_and_plot('val.csv')\n",
    "#test_X, test_y = load_and_plot('test.csv')\n",
    "\n",
    "\n",
    "## Wrapping the repeated logic in a function and then calling that function several times.\n",
    "\n",
    "\n",
    "\n",
    "\n",
    "# Call has_docstring() on the load_and_plot_data() function\n",
    "ok = has_docstring(load_and_plot)\n",
    "\n",
    "if not ok:   # Can we write Python code this way? So function runs will return Ture? \n",
    "    print(\"load_and_plot_data() doesn't have a docstring!\")\n",
    "else:\n",
    "    print(\"load_and_plot_data() looks ok\")\n",
    "    \n",
    "    \n",
    "    \n"
   ]
  },
  {
   "cell_type": "markdown",
   "id": "d647ea57-4890-4af4-8907-64a1ed7d43cd",
   "metadata": {},
   "source": [
    "## Returning functions for a math game\n",
    "\n",
    "You are building an educational math game where the player enters a math term, and your program returns a function that matches that term. For instance, if the user types \"add\", your program returns a function that adds two numbers. So far you've only implemented the \"add\" function. Now you want to include a \"subtract\" function.\n",
    "\n",
    "\n",
    "Define the subtract() function. It should take two arguments and return the first argument minus the second argument.\n",
    "\n",
    "\n",
    "\n",
    "    Define the subtract() function. It should take two arguments and return the first argument minus the second argument.\n",
    "\n",
    "\n",
    "\n",
    "Hint\n",
    "\n",
    "    subtract() should be defined as a nested function, just like add() is.\n"
   ]
  },
  {
   "cell_type": "code",
   "execution_count": 160,
   "id": "32f9a05d-8afe-40fd-a56b-c831eb629c39",
   "metadata": {},
   "outputs": [
    {
     "name": "stdout",
     "output_type": "stream",
     "text": [
      "5 + 2 = 7\n",
      "5 - 2 = 3\n"
     ]
    }
   ],
   "source": [
    "from numpy import subtract\n",
    "\n",
    "# Read the code and think how they put things together, nested functions and others\n",
    "\n",
    "\n",
    "def create_math_function(func_name):\n",
    "    if func_name == 'add':\n",
    "        def add(a, b):      # *********************\n",
    "            return a + b\n",
    "        return add          # *********************\n",
    "    elif func_name == 'subtract':\n",
    "        # Define the subtract() function\n",
    "        def subtract(a, b):\n",
    "            return a - b\n",
    "        return subtract\n",
    "    else:\n",
    "        print(\"I don't know that one\")\n",
    "    \n",
    "    \n",
    "add = create_math_function('add')\n",
    "print('5 + 2 = {}'.format(add(5, 2)))\n",
    "\n",
    "subtract = create_math_function('subtract')\n",
    "#print('5 - 2 = {}'.format(subtract(5, 2)))\n",
    "\n",
    "print(f'5 - 2 = {subtract(5, 2)}')"
   ]
  },
  {
   "cell_type": "markdown",
   "id": "ac9c2d4d-bbb1-4cbc-8a76-4230bb0366e3",
   "metadata": {},
   "source": [
    "## Scope\n",
    "\n",
    "\n",
    "\n",
    "Python has to have strict rules aout which variable you are referring to when using a particualr variable name.  \n",
    "\n",
    "**local scope:**\n",
    "      the inside of your function, any arguments or variables\n",
    "      \n",
    "if the interpreter cant find the variable in the local scope, it expands search to the global scope\n",
    "\n",
    "\n",
    "**Nonlocal scope**\n",
    "      in the case of nested functions, this is the scope of parent function\n",
    "\n",
    "\n",
    "**global scope:**\n",
    "      the things defined outside your function, \n",
    "       \n",
    "       \n",
    "**build-in scope:**\n",
    "      always in Python, for instance the print() function is in build-in scope\n"
   ]
  },
  {
   "cell_type": "code",
   "execution_count": 103,
   "id": "4a63a419-7b38-47d1-83a2-432d21873ce2",
   "metadata": {},
   "outputs": [
    {
     "name": "stdout",
     "output_type": "stream",
     "text": [
      "42\n"
     ]
    },
    {
     "data": {
      "text/plain": [
       "7"
      ]
     },
     "execution_count": 103,
     "metadata": {},
     "output_type": "execute_result"
    }
   ],
   "source": [
    "x = 7\n",
    "\n",
    "def foo():\n",
    "    x = 42\n",
    "    print(x)\n",
    "    \n",
    "    \n",
    "foo()\n",
    "\n",
    "x"
   ]
  },
  {
   "cell_type": "code",
   "execution_count": 105,
   "id": "a6ed7043-5dca-4bb9-93ac-978d2c57ef0d",
   "metadata": {},
   "outputs": [
    {
     "name": "stdout",
     "output_type": "stream",
     "text": [
      "42\n"
     ]
    },
    {
     "data": {
      "text/plain": [
       "42"
      ]
     },
     "execution_count": 105,
     "metadata": {},
     "output_type": "execute_result"
    }
   ],
   "source": [
    "x = 7\n",
    "\n",
    "def foo():\n",
    "    global x    # global keyword to declare the global scope variable\n",
    "                # same situation can be applied to nonlocal scope with nonlocal keyword\n",
    "    x = 42\n",
    "    print(x)\n",
    "    \n",
    "    \n",
    "foo()\n",
    "\n",
    "x"
   ]
  },
  {
   "cell_type": "markdown",
   "id": "e4eebb26-7160-4d0e-bf06-96ad7dda881d",
   "metadata": {},
   "source": [
    "## Understanding scope\n",
    "\n",
    "What four values does this script print?\n",
    "\n",
    "x = 50\n",
    "\n",
    "def one():\n",
    "  x = 10\n",
    "\n",
    "def two():\n",
    "  global x\n",
    "  x = 30\n",
    "\n",
    "def three():\n",
    "  x = 100\n",
    "  print(x)\n",
    "\n",
    "for func in [one, two, three]:\n",
    "  func()     # function one local x=10, global x=50,   print global x=50\n",
    "  print(x)   # function two local x=30, global x=30,   print global x=30\n",
    "             # function three local x=100, global x=30,   print local x=100, then   print global=30\n",
    "\n",
    "\n",
    "\n",
    "Hint\n",
    "\n",
    "    x = 50 is defined in the global scope.\n",
    "    First, determine whether each function is modifying the global x or a local x.\n",
    "    Notice that one() and two() just modify x, but three() modifies x and prints a value.\n"
   ]
  },
  {
   "cell_type": "code",
   "execution_count": 107,
   "id": "74a9fda5-3b74-49ce-b7df-0c52808f45e3",
   "metadata": {},
   "outputs": [
    {
     "name": "stdout",
     "output_type": "stream",
     "text": [
      "50\n",
      "30\n",
      "100\n",
      "30\n"
     ]
    }
   ],
   "source": [
    "x = 50\n",
    "\n",
    "def one():\n",
    "    x = 10    # no print()\n",
    "\n",
    "def two():\n",
    "    global x\n",
    "    x = 30    # no print()\n",
    "\n",
    "def three():\n",
    "    x = 100\n",
    "    print(x)\n",
    "\n",
    "for func in [one, two, three]:\n",
    "    func()\n",
    "    print(x)"
   ]
  },
  {
   "cell_type": "markdown",
   "id": "5dfe9043-6d75-4ed4-befc-df0af4ac2252",
   "metadata": {},
   "source": [
    "## Modifying variables outside local scope\n",
    "\n",
    "Sometimes your functions will need to modify a variable that is outside of the local scope of that function. While it's generally not best practice to do so, it's still good to know how in case you need to do it. Update these functions so they can modify variables that would usually be outside of their scope.\n",
    "\n",
    "\n",
    "Instructions 1/3\n",
    "\n",
    "1    Add a keyword that lets us update call_count from inside the function.\n",
    "\n",
    "2    Add a keyword that lets us modify file_contents from inside save_contents().\n",
    "\n",
    "3    Add a keyword to done in check_is_done() so that wait_until_done() eventually stops looping.\n",
    "\n",
    "\n",
    "\n",
    "two question missing, but I guess its the same trick, applying **globe** or **nonlocal** keyword before using such variable in the function or nested function"
   ]
  },
  {
   "cell_type": "code",
   "execution_count": 108,
   "id": "f69d51bb-32d9-41d4-b5a4-1b2d79f86b4e",
   "metadata": {},
   "outputs": [
    {
     "name": "stdout",
     "output_type": "stream",
     "text": [
      "You've called my_function() 1 times!\n",
      "You've called my_function() 2 times!\n",
      "You've called my_function() 3 times!\n",
      "You've called my_function() 4 times!\n",
      "You've called my_function() 5 times!\n",
      "You've called my_function() 6 times!\n",
      "You've called my_function() 7 times!\n",
      "You've called my_function() 8 times!\n",
      "You've called my_function() 9 times!\n",
      "You've called my_function() 10 times!\n",
      "You've called my_function() 11 times!\n",
      "You've called my_function() 12 times!\n",
      "You've called my_function() 13 times!\n",
      "You've called my_function() 14 times!\n",
      "You've called my_function() 15 times!\n",
      "You've called my_function() 16 times!\n",
      "You've called my_function() 17 times!\n",
      "You've called my_function() 18 times!\n",
      "You've called my_function() 19 times!\n",
      "You've called my_function() 20 times!\n"
     ]
    }
   ],
   "source": [
    "call_count = 0\n",
    "\n",
    "def my_function():\n",
    "    # Use a keyword that lets us update call_count \n",
    "    global call_count\n",
    "    call_count += 1\n",
    "    \n",
    "    print(\"You've called my_function() {} times!\".format(\n",
    "      call_count\n",
    "    ))\n",
    "\n",
    "for _ in range(20):\n",
    "    my_function()"
   ]
  },
  {
   "cell_type": "markdown",
   "id": "353c40a4-957d-4016-87d1-f19b33bc6ad5",
   "metadata": {},
   "source": [
    "## Closures\n",
    "\n",
    "\n",
    "A clusure in Python is a tuple of variables that are no longer in scope, but that a function needs in order to run.  \n",
    "\n",
    "\n",
    "Its a Python's way of attaching nonlocal variable to the returned function so that the function can operate even when it is called outside of its parents' scope. \n",
    "\n",
    "\n",
    "\n",
    "\n",
    "\n",
    "\n",
    "\n",
    "\n",
    "## Closure is a function object that remenber values in the enclosing scope even if they are not presented in memory\n",
    "   **So cant call nested function argument, __closure__ is used to remenber values in enclosing scope\n",
    "\n",
    "\n"
   ]
  },
  {
   "cell_type": "code",
   "execution_count": 14,
   "id": "4e3e2897-dcdf-4cd2-9076-4f260423f445",
   "metadata": {},
   "outputs": [
    {
     "name": "stdout",
     "output_type": "stream",
     "text": [
      "3\n",
      "3\n",
      "None\n"
     ]
    }
   ],
   "source": [
    "def outer():\n",
    "    x = 3\n",
    "    def inner():\n",
    "        print(x)\n",
    "    return inner()\n",
    "\n",
    "\n",
    "outer()\n",
    "a = outer()\n",
    "a\n",
    "print(a)           # think think"
   ]
  },
  {
   "cell_type": "code",
   "execution_count": 20,
   "id": "4df2a6c3-f30d-47f0-8fb7-7dc3cb11b551",
   "metadata": {},
   "outputs": [
    {
     "name": "stdout",
     "output_type": "stream",
     "text": [
      "9\n"
     ]
    }
   ],
   "source": [
    "def outer():\n",
    "    x = 3\n",
    "    def inner():\n",
    "        y = 6\n",
    "        return x+y\n",
    "    return inner()\n",
    "\n",
    "\n",
    "outer()\n",
    "a = outer()\n",
    "#a()                 # TypeError: 'int' object is not callable\n",
    "print(a)             # think think"
   ]
  },
  {
   "cell_type": "code",
   "execution_count": 16,
   "id": "359c90af-1ac2-4545-bc2e-f47a702f5436",
   "metadata": {},
   "outputs": [
    {
     "name": "stdout",
     "output_type": "stream",
     "text": [
      "5\n",
      "<function foo.<locals>.bar at 0x7f90006353a0>\n"
     ]
    }
   ],
   "source": [
    "def foo():\n",
    "    a = 5\n",
    "    def bar():\n",
    "        print(a)\n",
    "    return bar   # why not return bar()\n",
    "\n",
    "\n",
    "func = foo()\n",
    "func()\n",
    "\n",
    "print(func)"
   ]
  },
  {
   "cell_type": "code",
   "execution_count": 114,
   "id": "08af735f-3f01-427b-933a-c6fbd05a8996",
   "metadata": {},
   "outputs": [
    {
     "data": {
      "text/plain": [
       "tuple"
      ]
     },
     "execution_count": 114,
     "metadata": {},
     "output_type": "execute_result"
    }
   ],
   "source": [
    "type(func.__closure__)"
   ]
  },
  {
   "cell_type": "code",
   "execution_count": 115,
   "id": "28afc618-5328-489b-8d8a-815bb8c4ae33",
   "metadata": {},
   "outputs": [
    {
     "data": {
      "text/plain": [
       "1"
      ]
     },
     "execution_count": 115,
     "metadata": {},
     "output_type": "execute_result"
    }
   ],
   "source": [
    "len(func.__closure__)"
   ]
  },
  {
   "cell_type": "code",
   "execution_count": 116,
   "id": "94c8e1d6-8c68-4014-99de-6af081b81f4f",
   "metadata": {},
   "outputs": [
    {
     "data": {
      "text/plain": [
       "5"
      ]
     },
     "execution_count": 116,
     "metadata": {},
     "output_type": "execute_result"
    }
   ],
   "source": [
    "func.__closure__[0].cell_contents"
   ]
  },
  {
   "cell_type": "markdown",
   "id": "da21b0a8-a376-4c61-9511-ab5df666864d",
   "metadata": {},
   "source": [
    "## any nonlocal variable that nested function was going to need to the function object, \n",
    "   **those variable get stored in a tuple in the __closure__ attribute of the function.\n",
    "    \n",
    "    \n",
    "    "
   ]
  },
  {
   "cell_type": "code",
   "execution_count": 124,
   "id": "f102b60d-49d9-4dfb-b87c-cefc49f02d8c",
   "metadata": {},
   "outputs": [
    {
     "name": "stdout",
     "output_type": "stream",
     "text": [
      "25\n"
     ]
    }
   ],
   "source": [
    "x = 25\n",
    "\n",
    "\n",
    "def foo(value):\n",
    "    def bar():\n",
    "        print(value)\n",
    "    return bar\n",
    "\n",
    "\n",
    "my_func = foo(x)\n",
    "my_func()    # type the function with the parentheses mean you are calling the function"
   ]
  },
  {
   "cell_type": "code",
   "execution_count": 125,
   "id": "dbfa3c17-7bbd-4a4a-aa53-e1c42e23e2a8",
   "metadata": {},
   "outputs": [
    {
     "name": "stdout",
     "output_type": "stream",
     "text": [
      "25\n"
     ]
    }
   ],
   "source": [
    "del x\n",
    "my_func()   # ???????????????????????????????????"
   ]
  },
  {
   "cell_type": "code",
   "execution_count": 126,
   "id": "80e8e924-aaed-4e19-afd4-f74e2c29f60c",
   "metadata": {},
   "outputs": [
    {
     "data": {
      "text/plain": [
       "1"
      ]
     },
     "execution_count": 126,
     "metadata": {},
     "output_type": "execute_result"
    }
   ],
   "source": [
    "len(my_func.__closure__)"
   ]
  },
  {
   "cell_type": "code",
   "execution_count": 127,
   "id": "b63e1003-4deb-4b41-b61e-de3bba24a1e8",
   "metadata": {},
   "outputs": [
    {
     "data": {
      "text/plain": [
       "25"
      ]
     },
     "execution_count": 127,
     "metadata": {},
     "output_type": "execute_result"
    }
   ],
   "source": [
    "my_func.__closure__[0].cell_contents"
   ]
  },
  {
   "cell_type": "markdown",
   "id": "1af677cc-b9fb-49b8-a2a6-c893b271c89b",
   "metadata": {},
   "source": [
    "## because the foo()'s value argument gets added to the closure attached the the new my_func() function\n",
    "   **so even though x doesnt exits anymore, the value presists in it closure\n",
    "   "
   ]
  },
  {
   "cell_type": "code",
   "execution_count": 23,
   "id": "8f8cc345-9f37-4ee6-a07c-4fb19607d9aa",
   "metadata": {},
   "outputs": [
    {
     "name": "stdout",
     "output_type": "stream",
     "text": [
      "44\n",
      "good\n",
      "7\n",
      "[3, 4, {'apple': 'good'}, 22]\n"
     ]
    }
   ],
   "source": [
    "def parent(arg_1, arg_2):\n",
    "    value = 22\n",
    "    my_dict = {'apple': 'good'}\n",
    "    \n",
    "    def child():\n",
    "        \n",
    "        pp = 123      # cant call this, __closure__ is used to remenber values in enclosing scope\n",
    "        \n",
    "        print(2 * value)\n",
    "        print(my_dict['apple'])\n",
    "        print(arg_1 + arg_2)\n",
    "        \n",
    "    return child\n",
    "\n",
    "\n",
    "\n",
    "new_func = parent(3,4)\n",
    "new_func()\n",
    "\n",
    "#   print(new_func.value)   # how can we call it , no self.value, so object cant call it\n",
    "#   print(parent(3,4).value)\n",
    "# ******************************************************************************** #\n",
    "\n",
    "\n",
    "print([cell.cell_contents for cell in new_func.__closure__])\n",
    "\n",
    "## Closure is a function object that remenber values in the enclosing scope even \n",
    "## if they are not presented in memory\n",
    "## So cant call nested function argument, __closure__ is used to remenber values in enclosing scope\n"
   ]
  },
  {
   "cell_type": "code",
   "execution_count": 156,
   "id": "0e4ec9da-87b9-49e5-82f8-ebff589b40bd",
   "metadata": {},
   "outputs": [
    {
     "ename": "AttributeError",
     "evalue": "'function' object has no attribute 'bye'",
     "output_type": "error",
     "traceback": [
      "\u001b[0;31m---------------------------------------------------------------------------\u001b[0m",
      "\u001b[0;31mAttributeError\u001b[0m                            Traceback (most recent call last)",
      "\u001b[0;32m/tmp/ipykernel_5440/744119445.py\u001b[0m in \u001b[0;36m<module>\u001b[0;34m\u001b[0m\n\u001b[1;32m      8\u001b[0m \u001b[0mx\u001b[0m \u001b[0;34m=\u001b[0m \u001b[0mhi\u001b[0m\u001b[0;34m(\u001b[0m\u001b[0;34m)\u001b[0m\u001b[0;34m\u001b[0m\u001b[0;34m\u001b[0m\u001b[0m\n\u001b[1;32m      9\u001b[0m \u001b[0;34m\u001b[0m\u001b[0m\n\u001b[0;32m---> 10\u001b[0;31m \u001b[0mhi\u001b[0m\u001b[0;34m.\u001b[0m\u001b[0mbye\u001b[0m\u001b[0;34m\u001b[0m\u001b[0;34m\u001b[0m\u001b[0m\n\u001b[0m\u001b[1;32m     11\u001b[0m \u001b[0mprint\u001b[0m\u001b[0;34m(\u001b[0m\u001b[0mx\u001b[0m\u001b[0;34m.\u001b[0m\u001b[0mbye\u001b[0m\u001b[0;34m)\u001b[0m\u001b[0;34m\u001b[0m\u001b[0;34m\u001b[0m\u001b[0m\n",
      "\u001b[0;31mAttributeError\u001b[0m: 'function' object has no attribute 'bye'"
     ]
    }
   ],
   "source": [
    "def hi():\n",
    "    \n",
    "    bye = 5\n",
    "    sigh = 10\n",
    "    return bye \n",
    "\n",
    "hi()\n",
    "x = hi()\n",
    "\n",
    "hi.bye\n",
    "print(x.bye)"
   ]
  },
  {
   "cell_type": "code",
   "execution_count": 155,
   "id": "7e423027-793a-4578-8a11-914cdb30e507",
   "metadata": {},
   "outputs": [
    {
     "name": "stdout",
     "output_type": "stream",
     "text": [
      "42\n"
     ]
    }
   ],
   "source": [
    "def hi():\n",
    "    # other code...\n",
    "    hi.bye = 42  # Create function attribute.\n",
    "    sigh = 10\n",
    "\n",
    "hi()\n",
    "print(hi.bye)  # -> 42\n"
   ]
  },
  {
   "cell_type": "markdown",
   "id": "a80d9b1c-b0cb-4bf2-b8f9-44f7d351b14e",
   "metadata": {},
   "source": [
    "\n",
    "## Its a Python's way of attaching nonlocal variable to the returned function so that the function can operate even when it is called outside of its parents' scope. "
   ]
  },
  {
   "cell_type": "code",
   "execution_count": null,
   "id": "8c0235fc-d157-4249-b511-41bb05192ce0",
   "metadata": {},
   "outputs": [],
   "source": []
  },
  {
   "cell_type": "markdown",
   "id": "4efe060b-307d-4837-8d35-299f5883f12a",
   "metadata": {},
   "source": [
    "## Checking for closure\n",
    "\n",
    "You're teaching your niece how to program in Python, and she is working on returning nested functions. She thinks she has written the code correctly, but she is worried that the returned function won't have the necessary information when called. Show her that all of the nonlocal variables she needs are in the new function's closure.\n",
    "Instructions 1/3\n",
    "35 XP\n",
    "\n",
    "    1\n",
    "    2 missing\n",
    "    3 missing\n",
    "\n",
    "\n",
    "\n",
    "\n",
    "    Use an attribute of the my_func() function to show that it has a closure that is not None.\n",
    "\n"
   ]
  },
  {
   "cell_type": "code",
   "execution_count": 165,
   "id": "3efb8ea0-299d-4224-a235-3b4e4de8bc04",
   "metadata": {},
   "outputs": [
    {
     "name": "stdout",
     "output_type": "stream",
     "text": [
      "True\n",
      "[2, 17]\n"
     ]
    }
   ],
   "source": [
    "def return_a_func(arg1, arg2):\n",
    "    def new_func():\n",
    "        print('arg1 was {}'.format(arg1))\n",
    "        print('arg2 was {}'.format(arg2))\n",
    "    return new_func\n",
    "    \n",
    "    \n",
    "    \n",
    "my_func = return_a_func(2, 17)\n",
    "\n",
    "\n",
    "# Show that my_func()'s closure is not None\n",
    "print(my_func.__closure__ is not None)\n",
    "\n",
    "\n",
    "#print([cell.cell_contents for cell in new_func.__closure__])\n",
    "print([cell.cell_contents for cell in my_func.__closure__])"
   ]
  },
  {
   "cell_type": "markdown",
   "id": "e875f6a5-2001-4299-a6e0-3e8f23d7a61c",
   "metadata": {},
   "source": [
    "## Closures keep your values safe\n",
    "\n",
    "You are still helping your niece understand closures. You have written the function get_new_func() that returns a nested function. The nested function call_func() calls whatever function was passed to get_new_func(). You've also written my_special_function() which simply prints a message that states that you are executing my_special_function().\n",
    "\n",
    "You want to show your niece that no matter what you do to my_special_function() after passing it to get_new_func(), the new function still mimics the behavior of the original my_special_function() because it is in the new function's closure.\n",
    "Instructions 1/3\n",
    "35 XP\n",
    "\n",
    "\n",
    "\n",
    "1    Show that you still get the original message even if you redefine my_special_function() to only print \"hello\".\n",
    "\n",
    "2    Show that even if you delete my_special_function(), you can still call new_func() without any problems.\n",
    "\n",
    "3    Show that you still get the original message even if you overwrite my_special_function() with the new function."
   ]
  },
  {
   "cell_type": "code",
   "execution_count": 176,
   "id": "c06db6db-000a-4732-81c1-612748172178",
   "metadata": {},
   "outputs": [
    {
     "name": "stdout",
     "output_type": "stream",
     "text": [
      "You are running my_special_function()\n"
     ]
    }
   ],
   "source": [
    "def my_special_function():\n",
    "    print('You are running my_special_function()')\n",
    "\n",
    "def get_new_func(func):\n",
    "    def call_func():\n",
    "        func()\n",
    "    return call_func\n",
    "\n",
    "new_func = get_new_func(my_special_function)\n",
    "\n",
    "\n",
    "    \n",
    "                         # ******************************************************************* #\n",
    "del my_special_function  # the __closure__ store happened in nesteing process\n",
    "    \n",
    "    \n",
    "\n",
    "\n",
    "# Redefine my_special_function() to just print \"hello\"\n",
    "def my_special_function():\n",
    "    print(\"hello\")\n",
    "    \n",
    "    \n",
    "    \n",
    "new_func()    # why \n"
   ]
  },
  {
   "cell_type": "code",
   "execution_count": 79,
   "id": "0398bcc6-1f56-4015-9bc4-f1d488af0f14",
   "metadata": {},
   "outputs": [
    {
     "name": "stdout",
     "output_type": "stream",
     "text": [
      "hello\n"
     ]
    }
   ],
   "source": [
    "def my_special_function():\n",
    "    print('You are running my_special_function()')\n",
    "\n",
    "def get_new_func(func):\n",
    "    def call_func():\n",
    "        func()            # ***************************************************************** #\n",
    "    return call_func      # so the inner function returns the function calling\n",
    "\n",
    "\n",
    "new_func = get_new_func(my_special_function)\n",
    "new_func\n",
    "\n",
    "# Redefine my_special_function() to just print \"hello\"\n",
    "def my_special_function():\n",
    "    print(\"hello\")\n",
    "\n",
    "    \n",
    "new_func = get_new_func(my_special_function)   # interestng\n",
    "    \n",
    "    \n",
    "new_func()    # why \n"
   ]
  },
  {
   "cell_type": "code",
   "execution_count": 10,
   "id": "898f04c3-c4ea-4eee-afd9-96f01ed2a6b5",
   "metadata": {},
   "outputs": [
    {
     "name": "stdout",
     "output_type": "stream",
     "text": [
      "<function create_adder.<locals>.adder at 0x7f90047deaf0>\n",
      "25\n",
      "[15]\n",
      "27\n"
     ]
    },
    {
     "ename": "AttributeError",
     "evalue": "'int' object has no attribute '__closure__'",
     "output_type": "error",
     "traceback": [
      "\u001b[0;31m---------------------------------------------------------------------------\u001b[0m",
      "\u001b[0;31mAttributeError\u001b[0m                            Traceback (most recent call last)",
      "\u001b[0;32m/tmp/ipykernel_12747/1213029086.py\u001b[0m in \u001b[0;36m<module>\u001b[0;34m\u001b[0m\n\u001b[1;32m     28\u001b[0m \u001b[0mpp\u001b[0m \u001b[0;34m=\u001b[0m \u001b[0madd_15\u001b[0m\u001b[0;34m(\u001b[0m\u001b[0;36m12\u001b[0m\u001b[0;34m)\u001b[0m\u001b[0;34m\u001b[0m\u001b[0;34m\u001b[0m\u001b[0m\n\u001b[1;32m     29\u001b[0m \u001b[0mprint\u001b[0m\u001b[0;34m(\u001b[0m\u001b[0mpp\u001b[0m\u001b[0;34m)\u001b[0m\u001b[0;34m\u001b[0m\u001b[0;34m\u001b[0m\u001b[0m\n\u001b[0;32m---> 30\u001b[0;31m \u001b[0mprint\u001b[0m\u001b[0;34m(\u001b[0m\u001b[0;34m[\u001b[0m\u001b[0mcell\u001b[0m\u001b[0;34m.\u001b[0m\u001b[0mcell_contents\u001b[0m \u001b[0;32mfor\u001b[0m \u001b[0mcell\u001b[0m \u001b[0;32min\u001b[0m \u001b[0mpp\u001b[0m\u001b[0;34m.\u001b[0m\u001b[0m__closure__\u001b[0m\u001b[0;34m]\u001b[0m\u001b[0;34m)\u001b[0m             \u001b[0;31m## function got __closure__\u001b[0m\u001b[0;34m\u001b[0m\u001b[0;34m\u001b[0m\u001b[0m\n\u001b[0m\u001b[1;32m     31\u001b[0m      \u001b[0;31m# AttributeError: 'int' object has no attribute '__closure__'\u001b[0m\u001b[0;34m\u001b[0m\u001b[0;34m\u001b[0m\u001b[0;34m\u001b[0m\u001b[0m\n",
      "\u001b[0;31mAttributeError\u001b[0m: 'int' object has no attribute '__closure__'"
     ]
    }
   ],
   "source": [
    "# Python program to illustrate functions\n",
    "# Functions can return another function\n",
    " \n",
    "def create_adder(x):\n",
    "    def adder(y):\n",
    "        return x+y\n",
    " \n",
    "    return adder\n",
    "\n",
    "    \n",
    "add_15 = create_adder(15)\n",
    "                 # ********************************************************************** #\n",
    "print(add_15)    # outer function called, but returns a inner function, not inner function calling\n",
    "    \n",
    "    \n",
    "print(add_15(10))   # whe outer function was called, it gives back a return and thats inner fucntion\n",
    "                    # so this is a inner function, and we passed 10 to the inner function\n",
    "\n",
    "#print(add_15(10).__name__)   # AttributeError: 'int' object has no attribute '__name__'\n",
    "                              # add_15(10) passed 10 to inner function, and inner function returns  x+y\n",
    "\n",
    "\n",
    "#print([cell.cell_contents for cell in my_func.__closure__])\n",
    "print([cell.cell_contents for cell in add_15.__closure__])   # cause add_15 is still a function: adder\n",
    "                                                             # ***************************************\n",
    "                                                             # ***************************************\n",
    "    \n",
    "pp = add_15(12)\n",
    "print(pp)\n",
    "print([cell.cell_contents for cell in pp.__closure__])             ## function got __closure__\n",
    "     # AttributeError: 'int' object has no attribute '__closure__'"
   ]
  },
  {
   "cell_type": "markdown",
   "id": "d18e122f-fbd9-482c-8c90-f552414dcd2e",
   "metadata": {},
   "source": [
    "## Decorators\n",
    "\n",
    "\n",
    "\n",
    "\n",
    "\n",
    "\n",
    "A decorator is a rapper that you can place around a function that change that function's behavior.  You can modify the inputs, modify the outputs, or even change the behavior of the fuctin itself.  \n",
    "\n",
    "\n",
    "\n",
    "\n"
   ]
  },
  {
   "cell_type": "code",
   "execution_count": 13,
   "id": "8b44a4b7-8015-4300-9f83-a9651bbc83eb",
   "metadata": {},
   "outputs": [
    {
     "ename": "NameError",
     "evalue": "name 'double_args' is not defined",
     "output_type": "error",
     "traceback": [
      "\u001b[0;31m---------------------------------------------------------------------------\u001b[0m",
      "\u001b[0;31mNameError\u001b[0m                                 Traceback (most recent call last)",
      "\u001b[0;32m/tmp/ipykernel_1977/389150742.py\u001b[0m in \u001b[0;36m<module>\u001b[0;34m\u001b[0m\n\u001b[0;32m----> 1\u001b[0;31m \u001b[0;34m@\u001b[0m\u001b[0mdouble_args\u001b[0m\u001b[0;34m\u001b[0m\u001b[0;34m\u001b[0m\u001b[0m\n\u001b[0m\u001b[1;32m      2\u001b[0m \u001b[0;32mdef\u001b[0m \u001b[0mmultiply\u001b[0m\u001b[0;34m(\u001b[0m\u001b[0ma\u001b[0m\u001b[0;34m,\u001b[0m \u001b[0mb\u001b[0m\u001b[0;34m)\u001b[0m\u001b[0;34m:\u001b[0m\u001b[0;34m\u001b[0m\u001b[0;34m\u001b[0m\u001b[0m\n\u001b[1;32m      3\u001b[0m     \u001b[0;32mreturn\u001b[0m \u001b[0ma\u001b[0m\u001b[0;34m*\u001b[0m\u001b[0mb\u001b[0m\u001b[0;34m\u001b[0m\u001b[0;34m\u001b[0m\u001b[0m\n\u001b[1;32m      4\u001b[0m \u001b[0;34m\u001b[0m\u001b[0m\n\u001b[1;32m      5\u001b[0m \u001b[0;34m\u001b[0m\u001b[0m\n",
      "\u001b[0;31mNameError\u001b[0m: name 'double_args' is not defined"
     ]
    }
   ],
   "source": [
    "@double_args\n",
    "def multiply(a, b):\n",
    "    return a*b\n",
    "\n",
    "\n",
    "multiply(3, 4)"
   ]
  },
  {
   "cell_type": "code",
   "execution_count": 29,
   "id": "7be934e9-1438-4a93-ae9c-4a15eab3816b",
   "metadata": {},
   "outputs": [
    {
     "data": {
      "text/plain": [
       "15"
      ]
     },
     "execution_count": 29,
     "metadata": {},
     "output_type": "execute_result"
    }
   ],
   "source": [
    "def multiply(a, b):\n",
    "    return a*b\n",
    "\n",
    "\n",
    "def double_args(func):\n",
    "    return func                         # it returns a function, pass it to a variable, then call it\n",
    "\n",
    "\n",
    "                                        # ***********************************************************\n",
    "new_multiply = double_args(multiply)    # double_args was called, it returns the function passed to it\n",
    "new_multiply(3, 5)                      # and its equal to multiply(), call it and pass arguments (3,5)"
   ]
  },
  {
   "cell_type": "markdown",
   "id": "57ef6b4e-4f5b-4e01-87ae-9d595375ba50",
   "metadata": {},
   "source": [
    "**In order for your decorator to return a modified function, its is usually helpful for it to define a new function to return.  We'll call that nested function - wrapper()\n",
    "\n",
    "All wrapper does is take two arguments and passes them on to whatever function was passed to double_args in the first place.  If double_args them returns the new wrapper function, the return value acts exactly the same as whatever function was passed to double_args, assuming that the function passed to double_args also takes exactly two arguments.  \n"
   ]
  },
  {
   "cell_type": "code",
   "execution_count": 36,
   "id": "aabed5e6-f851-443e-be3c-5f4d5e5cfd93",
   "metadata": {},
   "outputs": [
    {
     "name": "stdout",
     "output_type": "stream",
     "text": [
      "new_multiply(3,7): 84\n",
      "new_add(3,7): 20\n",
      "new_add(3,7) 40\n"
     ]
    }
   ],
   "source": [
    "# *********************************************************************************************** #\n",
    "# *********************************************************************************************** #\n",
    "# *********************************************************************************************** #\n",
    "\n",
    "\n",
    "def multiply(a, b):\n",
    "    return a*b\n",
    "\n",
    "def double_arg(func):\n",
    "    # define new function that we can modify\n",
    "    def wrapper(a, b):\n",
    "        a_new, b_new = a*2, b*2\n",
    "        # fo now just call the unmodified function\n",
    "        return func(a_new, b_new)\n",
    "        #return func(a/2, b/2)\n",
    "    # return the new function  # the enclosing function do not return the nested function call, \n",
    "    return wrapper             # when using @decrator, the enclosing function returns nested function \n",
    "\n",
    "\n",
    "                                     # *************************************************************\n",
    "new_multiply = double_arg(multiply)  # pass multiply to double_arg and assign result to new_multiply\n",
    "print('new_multiply(3,7):', new_multiply(3, 7))  # then call new_multiple which is now equal to wrapper\n",
    "                                                 # wrapper calls multiply, because its the function \n",
    "                                                 # passed to double_args. So wrapper calls multiply\n",
    "                                                 # with the new arguments. \n",
    "\n",
    "\n",
    "\n",
    "@double_arg                     # this is very interesting\n",
    "def new_add(a, b):              # new_multiply = double_arg(multiply), then  new_multiply(args)\n",
    "    return a+b\n",
    "\n",
    "print('new_add(3,7):', new_add(3, 7))\n",
    "\n",
    "\n",
    "new_add = double_arg(new_add)\n",
    "print('new_add(3,7)', new_add(3, 7))\n",
    "\n",
    "del double_arg, new_add, multiply"
   ]
  },
  {
   "cell_type": "code",
   "execution_count": 37,
   "id": "014b76a2-668f-4653-aba7-0a4e554ceba1",
   "metadata": {},
   "outputs": [
    {
     "name": "stdout",
     "output_type": "stream",
     "text": [
      "multiply(3,7): 84\n",
      "96\n"
     ]
    }
   ],
   "source": [
    "def multiply(a, b):\n",
    "    return a*b\n",
    "\n",
    "def double_arg(func):    \n",
    "    def wrapper(a, b):\n",
    "        a_new, b_new = a*2, b*2\n",
    "        return func(a_new, b_new)\n",
    "    # return the new function  # the enclosing function do not return the nested function call, \n",
    "    return wrapper             # when using @decrator, the enclosing function returns nested function \n",
    "\n",
    "\n",
    "# ************************************************************************************************ #\n",
    "# over write the multiply variable, now calling multiply with argument gives us modified results\n",
    "# we can do this because Python stores the original multiply function in the new function's closure\n",
    "\n",
    "multiply = double_arg(multiply)  # pass multiply to double_arg and assign result to new_multiply\n",
    "print('multiply(3,7):', multiply(3, 7))  # then call \n",
    "\n",
    "\n",
    "multiply.__closure__[0].cell_contents   # <function __main__.multiply(a, b)>\n",
    "\n",
    "op = multiply(4, 6)\n",
    "print(op)\n",
    "#op.__closure__[0].cell_contents   # <function __main__.multiply(a, b)>\n",
    "\n",
    "del op, multiply, double_arg"
   ]
  },
  {
   "cell_type": "code",
   "execution_count": 38,
   "id": "502c04fb-b549-4c9b-bffc-0a1210630eec",
   "metadata": {},
   "outputs": [
    {
     "name": "stdout",
     "output_type": "stream",
     "text": [
      "60\n"
     ]
    }
   ],
   "source": [
    "def double_arg(func):\n",
    "    \n",
    "    # define new function that we can modify\n",
    "    def wrapper(a, b):\n",
    "        a_new, b_new = a*2, b*2\n",
    "        # fo now just call the unmodified function\n",
    "        return func(a_new, b_new)\n",
    "        #return func(a/2, b/2)\n",
    "        #a, b = a/2, b/2\n",
    "    return wrapper\n",
    "        \n",
    "                \n",
    "@double_arg\n",
    "def multiply(a, b):\n",
    "    return a*b\n",
    "\n",
    "print(multiply(3, 5))\n",
    "\n",
    "del multiply, double_arg"
   ]
  },
  {
   "cell_type": "markdown",
   "id": "1b8d2d63-058b-4b72-95f2-9e2872011743",
   "metadata": {},
   "source": [
    "## Using decorator syntax\n",
    "\n",
    "You have written a decorator called print_args that prints out all of the arguments and their values any time a function that it is decorating gets called.\n",
    "\n",
    "\n",
    "\n",
    "Instructions 1/2\n",
    "50 XP\n",
    "\n",
    "1    Decorate my_function() with the print_args() decorator by redefining the my_function variable.\n",
    "\n",
    "2    Decorate my_function() with the print_args() decorator using decorator syntax."
   ]
  },
  {
   "cell_type": "code",
   "execution_count": 52,
   "id": "375e452d-29ca-4f58-b0fc-f16bf16350a6",
   "metadata": {},
   "outputs": [
    {
     "name": "stdout",
     "output_type": "stream",
     "text": [
      "1 2 3\n"
     ]
    }
   ],
   "source": [
    "def my_function(a, b, c):\n",
    "    print(a + b + c)\n",
    "    \n",
    "    \n",
    "def print_args(func):\n",
    "    def wrapper(a, b, c):      # just because I know the arguments we are using is a,b,c\n",
    "        print(a, b, c)         # can this be universal? \n",
    "    return wrapper\n",
    "    \n",
    "    \n",
    "    \n",
    "    \n",
    "# Decorate my_function() with the print_args() decorator ######################################\n",
    "my_function = print_args(my_function)\n",
    "\n",
    "my_function(1, 2, 3)"
   ]
  },
  {
   "cell_type": "markdown",
   "id": "cde74fdd-8d07-42b5-8371-c325d5289e71",
   "metadata": {},
   "source": [
    "## Defining a decorator\n",
    "\n",
    "Your buddy has been working on a decorator that prints a \"before\" message before the decorated function is called and prints an \"after\" message after the decorated function is called. They are having trouble remembering how wrapping the decorated function is supposed to work. Help them out by finishing their print_before_and_after() decorator.\n",
    "\n",
    "\n",
    "\n",
    "    Call the function being decorated and pass it the positional arguments *args.\n",
    "    Return the new decorated function.\n"
   ]
  },
  {
   "cell_type": "code",
   "execution_count": 35,
   "id": "cf18209e-5441-4e0e-a3e8-53c9f61bad86",
   "metadata": {},
   "outputs": [
    {
     "name": "stdout",
     "output_type": "stream",
     "text": [
      "Before multiply\n",
      "50\n",
      "After multiply\n"
     ]
    }
   ],
   "source": [
    "def print_before_and_after(func):\n",
    "    def wrapper(*args):\n",
    "        print('Before {}'.format(func.__name__))\n",
    "        # Call the function being decorated with *args\n",
    "        func(*args)\n",
    "        print('After {}'.format(func.__name__))\n",
    "    # Return the nested function\n",
    "    return wrapper\n",
    "\n",
    "\n",
    "@print_before_and_after\n",
    "def multiply(a, b):\n",
    "    print(a * b)\n",
    "\n",
    "    \n",
    "multiply(5, 10)\n",
    "\n",
    "#del multiply, print_before_and_after"
   ]
  },
  {
   "cell_type": "markdown",
   "id": "c577b996-b19d-44c6-985e-78f6c95c7a56",
   "metadata": {},
   "source": [
    "## Real-world examples\n",
    "\n",
    "\n",
    "\n",
    "\n",
    "\n",
    "\n",
    "\n",
    "**although this is the last chapter, I should ask myself, did I really understand everything?\n",
    "\n",
    "  **nested function immplementation,  data structure,  calling __closure__ in local, nonlocal, global?  \n",
    "\n",
    "\n",
    "\n",
    "We'll go though some real world decorators, so that we can start to recognize common decorator patterns. \n",
    "\n",
    "   **The timer() decorator runs the decorated function   and then prints how long it took for the function to run\n",
    "   **it is a pretty easy way to figure out hwere your computational bottlenecks are"
   ]
  },
  {
   "cell_type": "code",
   "execution_count": 33,
   "id": "0abae419-1023-4538-9790-b3ca1705aaca",
   "metadata": {},
   "outputs": [
    {
     "name": "stdout",
     "output_type": "stream",
     "text": [
      "sleep_n_seconds tooks 21.031243085861206 to run\n",
      "hi\n",
      "hi tooks 0.00014543533325195312 to run\n",
      "None\n"
     ]
    }
   ],
   "source": [
    "import time\n",
    "\n",
    "def timer(func):\n",
    "    \"\"\"A decorator that prints how long a function tooks to run\n",
    "    \"\"\"\n",
    "    \n",
    "    def wrapper(*args, **kwargs):\n",
    "        start = time.time()              # when wrapper was called, get the current time\n",
    "        result = func(*args, **kwargs)   # call the decorated function and store the result\n",
    "        t_spend = time.time() - start\n",
    "        print(f'{func.__name__} tooks {t_spend} to run')\n",
    "        return result\n",
    "    return wrapper\n",
    "\n",
    "\n",
    "@timer\n",
    "def hi():\n",
    "    print('hi')\n",
    "    \n",
    "@timer\n",
    "def sleep_n_seconds(n):\n",
    "    time.sleep(n)\n",
    "    \n",
    "sleep_n_seconds(21)\n",
    "    \n",
    "    \n",
    "print(hi())\n",
    "\n",
    "del hi, sleep_n_seconds, timer, time"
   ]
  },
  {
   "cell_type": "markdown",
   "id": "190e260c-a6f5-4b7b-9545-2a56377fb2ef",
   "metadata": {},
   "source": [
    "## **Memorizing is the process of storing the results of a function so that the next time the function is called with same arguments, you can just look up the answer. \n",
    "\n",
    "  **We startby setting up a dictionary that will map arguments to results, then as usual, we craete wrapper to be the new decorated function that this decorator returns.\n",
    "  **When the new function gets called, we check to see wheather we've ever seen these arguments before. If we havent, we send them to the decorated function and store the result in the cache dictionary.  \n",
    "\n"
   ]
  },
  {
   "cell_type": "code",
   "execution_count": 31,
   "id": "a260349f-b9ae-4179-bc99-71cf891b59e5",
   "metadata": {},
   "outputs": [
    {
     "name": "stdout",
     "output_type": "stream",
     "text": [
      "Sleep for 7 seconds\n",
      "1110\n"
     ]
    }
   ],
   "source": [
    "def memorize(func):\n",
    "    \"\"\"Store the results of the decorated function for fast look up\n",
    "    \"\"\"\n",
    "    # Store results in a dictionary that maps arguments to results\n",
    "    cache = {}\n",
    "    # Define wrapper function to return\n",
    "    def wrapper(*args):\n",
    "        if (args) not in cache:\n",
    "            cache[(args)] = func(*args)\n",
    "        return cache[(args)]\n",
    "    return wrapper\n",
    "\n",
    "\n",
    "# ********************************************************************************* #\n",
    "# In fact, no mutable data structures can be used as keys in dictionaries\n",
    "\n",
    "\n",
    "import time\n",
    "@memorize\n",
    "def simple_add(a, b, c):\n",
    "    print('Sleep for 7 seconds')\n",
    "    time.sleep(7)\n",
    "    return a+b+c\n",
    "\n",
    "\n",
    "print(simple_add(12,98,1000))"
   ]
  },
  {
   "cell_type": "code",
   "execution_count": 32,
   "id": "d97cc6fc-7569-4a6a-9331-172a2c22af35",
   "metadata": {},
   "outputs": [
    {
     "name": "stdout",
     "output_type": "stream",
     "text": [
      "1110\n"
     ]
    }
   ],
   "source": [
    "print(simple_add(12,98,1000))\n",
    "\n",
    "del simple_add, memorize"
   ]
  },
  {
   "cell_type": "code",
   "execution_count": 25,
   "id": "2037bd5c-c69c-46aa-b954-c51ee9b33c9a",
   "metadata": {},
   "outputs": [
    {
     "name": "stdout",
     "output_type": "stream",
     "text": [
      "Sleep for 7 seconds\n",
      "1110\n"
     ]
    }
   ],
   "source": [
    "def memorize(func):\n",
    "    \"\"\"Store the results of the decorated function for fast look up\n",
    "    \"\"\"\n",
    "    # Store results in a dictionary that maps arguments to results\n",
    "    cache = {}\n",
    "    # Define wrapper function to return\n",
    "    def wrapper(*args):\n",
    "        if (args) not in cache:\n",
    "            cache[(args)] = func(*args)\n",
    "        return cache[(args)]\n",
    "    return wrapper\n",
    "\n",
    "\n",
    "# ********************************************************************************* #\n",
    "# In fact, no mutable data structures can be used as keys in dictionaries\n",
    "\n",
    "\n",
    "import time\n",
    "@memorize           # can we use @timer as well\n",
    "def simple_add(a, b, c):\n",
    "    print('Sleep for 7 seconds')\n",
    "    time.sleep(7)\n",
    "    return a+b+c\n",
    "\n",
    "\n",
    "print(simple_add(12,98,1000))\n",
    "\n",
    "del memorize#, simple_add"
   ]
  },
  {
   "cell_type": "code",
   "execution_count": 26,
   "id": "329a9e4f-5d83-454f-a34f-45d1471581b6",
   "metadata": {},
   "outputs": [
    {
     "name": "stdout",
     "output_type": "stream",
     "text": [
      "1110\n"
     ]
    }
   ],
   "source": [
    "print(simple_add(12,98,1000))\n",
    "\n",
    "del simple_add"
   ]
  },
  {
   "cell_type": "code",
   "execution_count": 27,
   "id": "ef7faba1-be33-4fcb-a40c-3e024540fd87",
   "metadata": {},
   "outputs": [
    {
     "data": {
      "text/plain": [
       "121645100408832000"
      ]
     },
     "execution_count": 27,
     "metadata": {},
     "output_type": "execute_result"
    }
   ],
   "source": [
    "# ****************************************************************************************** #\n",
    "def factorial(number):\n",
    "    # Validate input\n",
    "    if not isinstance(number, int):\n",
    "        raise TypeError(\"Sorry. 'number' must be an integer.\")\n",
    "    if number < 0:\n",
    "        raise ValueError(\"Sorry. 'number' must be zero or positive.\")\n",
    "    \n",
    "    # Calculate the factorial of number\n",
    "    def inner_factorial(number):\n",
    "        if number <= 1:\n",
    "            return 1\n",
    "        return number * inner_factorial(number - 1)\n",
    "    return inner_factorial(number)\n",
    "\n",
    "\n",
    "factorial(19)\n",
    "\n",
    "# ****************************************************************************************** #"
   ]
  },
  {
   "cell_type": "markdown",
   "id": "00db7eb3-5c67-4ac9-b73a-7fb5a473d370",
   "metadata": {},
   "source": [
    "## Print the return type ###########################################################################\n",
    "\n",
    "You are debugging a package that you've been working on with your friends. Something weird is happening with the data being returned from one of your functions, but you're not even sure which function is causing the trouble. You know that sometimes bugs can sneak into your code when you are expecting a function to return one thing, and it returns something different. For instance, if you expect a function to return a numpy array, but it returns a list, you can get unexpected behavior. To ensure this is not what is causing the trouble, you decide to write a decorator, print_return_type(), that will print out the type of the variable that gets returned from every call of any function it is decorating.\n",
    "\n",
    "\n",
    "\n",
    "    Create a nested function, wrapper(), that will become the new decorated function.\n",
    "    Call the function being decorated.\n",
    "    Return the new decorated function.\n"
   ]
  },
  {
   "cell_type": "code",
   "execution_count": 94,
   "id": "6071dee3-809a-4e6f-9f77-8985493d312e",
   "metadata": {},
   "outputs": [
    {
     "name": "stdout",
     "output_type": "stream",
     "text": [
      "foo() returned type <class 'int'>\n",
      "42\n",
      "foo() returned type <class 'list'>\n",
      "[1, 2, 3]\n",
      "foo() returned type <class 'dict'>\n",
      "{'a': 42}\n"
     ]
    }
   ],
   "source": [
    "def print_return_type(func):\n",
    "    # Define wrapper(), the decorated function\n",
    "    def wrapper(*args, **kwargs):\n",
    "        # Call the function being decorated\n",
    "        result = func(*args, **kwargs)\n",
    "        print('{}() returned type {}'.format(\n",
    "            func.__name__, type(result)\n",
    "        ))\n",
    "        return result\n",
    "    # Return the decorated function\n",
    "    return wrapper\n",
    "\n",
    "\n",
    "@print_return_type\n",
    "def foo(value):\n",
    "    return value\n",
    "  \n",
    "print(foo(42))\n",
    "print(foo([1, 2, 3]))\n",
    "print(foo({'a': 42}))"
   ]
  },
  {
   "cell_type": "markdown",
   "id": "78c8eb5c-8503-4df3-ba59-4e3909a29006",
   "metadata": {},
   "source": [
    "## Counter ###########################################################################\n",
    "\n",
    "You're working on a new web app, and you are curious about how many times each of the functions in it gets called. So you decide to write a decorator that adds a counter to each function that you decorate. You could use this information in the future to determine whether there are sections of code that you could remove because they are no longer being used by the app.\n",
    "\n",
    "\n",
    "\n",
    "    Call the function being decorated and return the result.\n",
    "    Return the new decorated function.\n",
    "    Decorate foo() with the counter() decorator.\n"
   ]
  },
  {
   "cell_type": "code",
   "execution_count": 100,
   "id": "f712be39-d952-4a76-b033-b7d99811b85f",
   "metadata": {},
   "outputs": [
    {
     "name": "stdout",
     "output_type": "stream",
     "text": [
      "3\n",
      "calling foo()\n",
      "7\n",
      "calling foo()\n",
      "foo() was called 2 times.\n"
     ]
    }
   ],
   "source": [
    "def counter(func):\n",
    "    def wrapper(*args, **kwargs):\n",
    "        wrapper.count += 1\n",
    "        # Call the function being decorated and return the result\n",
    "        return func(*args, **kwargs)\n",
    "    wrapper.count = 0\n",
    "    # Return the new decorated function\n",
    "    return wrapper\n",
    "\n",
    "    \n",
    "# Decorate foo() with the counter() decorator      # *******************************************\n",
    "@counter                                           # This is very useful and very good idea\n",
    "def foo(a, b):\n",
    "    print(a+b)\n",
    "    print('calling foo()')\n",
    "\n",
    "foo(1,2)\n",
    "foo(3,4)\n",
    "\n",
    "print('foo() was called {} times.'.format(foo.count))"
   ]
  },
  {
   "cell_type": "markdown",
   "id": "7520f293-6352-4f22-a928-7c93a7b9bc77",
   "metadata": {},
   "source": [
    "## Decorators and metadata\n",
    "\n",
    "\n",
    "\n",
    "\n",
    "One of the problems with decorators is that they obscure the decorated function's metadata.  \n",
    "     I'll try call __closure__ method\n",
    "\n",
    "\n"
   ]
  },
  {
   "cell_type": "code",
   "execution_count": 20,
   "id": "60688286-9e92-4a1d-bcd2-a82ba7cb36d6",
   "metadata": {},
   "outputs": [
    {
     "name": "stdout",
     "output_type": "stream",
     "text": [
      "func: factorial, spend 0.086669921875 ms time to run\n"
     ]
    }
   ],
   "source": [
    "import time\n",
    "from functools import cache, wraps\n",
    "\n",
    "def timer(func):\n",
    "    \"\"\"A decorator that prints how long a function tooks to run\n",
    "    \"\"\"\n",
    "    \n",
    "    def wrapper(*args, **kwargs):\n",
    "        start = time.time()*1000\n",
    "        results = func(*args, **kwargs)\n",
    "        t_spend = time.time()*1000 - start\n",
    "        print(f\"func: {func.__name__}, spend {t_spend} ms time to run\")\n",
    "        return results\n",
    "    return wrapper                     #(*args, **kwargs)\n",
    "\n",
    "@cache\n",
    "@timer\n",
    "def factorial(n):\n",
    "    if not isinstance(n, int):\n",
    "        raise ValueError('input n should be integer')\n",
    "    if n<=0:\n",
    "        raise ValueError('input n should be positive')\n",
    "    \n",
    "    def inner_factorial(n):\n",
    "        if n <=1:\n",
    "            return 1\n",
    "        return n*inner_factorial(n-1)\n",
    "    return inner_factorial(n)\n",
    "    \n",
    "    \n",
    "factorial(199)\n",
    "\n",
    "#factorial.__name__      # the reason is factorial() was decorated, it actually running wrapper()\n",
    "del timer, wraps, cache, factorial"
   ]
  },
  {
   "cell_type": "markdown",
   "id": "79da7565-4ce1-4d47-8d43-f92b95710776",
   "metadata": {},
   "source": [
    "## remember that when we write decorators, we almost always define a nested functionto return, \n",
    "## because the decorator over writes the decorated function, when we asks for it name or docstring, \n",
    "## we are actually referencing the nested  wrapper function that was returned by the decorator\n",
    "\n",
    "\n",
    "\n",
    "\n",
    "\n",
    "**Now that we know how to preserve the metadata of the functions weare decorating "
   ]
  },
  {
   "cell_type": "code",
   "execution_count": 15,
   "id": "d60f5dd5-1335-4add-b001-27f33b90e204",
   "metadata": {},
   "outputs": [
    {
     "name": "stdout",
     "output_type": "stream",
     "text": [
      "func: factorial, spend 0.01025390625 ms time to run\n",
      "121645100408832000\n",
      "factorial\n",
      "Calcualte factorial of an int\n",
      "    \n",
      "<function factorial at 0x7f786c190670>\n"
     ]
    }
   ],
   "source": [
    "import time\n",
    "from functools import wraps, cache\n",
    "\n",
    "def timer(func):\n",
    "    \"\"\"A decorator that prints how long a function tooks to run\n",
    "    \"\"\"\n",
    "    \n",
    "    @wraps(func)\n",
    "    def wrapper(*args, **kwargs):\n",
    "        start = time.time()*1000\n",
    "        results = func(*args, **kwargs)\n",
    "        t_spend = time.time()*1000 - start\n",
    "        print(f\"func: {func.__name__}, spend {t_spend} ms time to run\")\n",
    "        return results\n",
    "    return wrapper                     #(*args, **kwargs)\n",
    "\n",
    "@timer\n",
    "def factorial(n):\n",
    "    \"\"\"Calcualte factorial of an int\n",
    "    \"\"\"\n",
    "    if not isinstance(n, int):\n",
    "        raise ValueError('input n should be int')\n",
    "    if n<=0:\n",
    "        raise ValueError('input n should be positive')\n",
    "        \n",
    "    def inner_factorial(n):\n",
    "        if n <=1:\n",
    "            return 1\n",
    "        return n*inner_factorial(n-1)\n",
    "    return inner_factorial(n)\n",
    "    \n",
    "    \n",
    "print(factorial(19))\n",
    "\n",
    "print(factorial.__name__)    # the reason is factorial() was decorated, it actually running wrapper()\n",
    "print(factorial.__doc__)\n",
    "print(factorial.__wrapped__)\n",
    "del timer, cache, wraps, factorial"
   ]
  },
  {
   "cell_type": "markdown",
   "id": "5f3b6b45-5d76-425e-8051-d726afd77505",
   "metadata": {},
   "source": [
    "## Preserving docstrings when decorating functions\n",
    "\n",
    "Your friend has come to you with a problem. They've written some nifty decorators and added them to the functions in the open-source library they've been working on. However, they were running some tests and discovered that all of the docstrings have mysteriously disappeared from their decorated functions. Show your friend how to preserve docstrings and other metadata when writing decorators.\n",
    "\n",
    "\n",
    "Instructions 1/4\n",
    "25 XP\n",
    "\n",
    "    1\n",
    "    2    missing\n",
    "    3    missing\n",
    "    4    missing\n",
    "\n",
    "    Decorate print_sum() with the add_hello() decorator to replicate the issue that your friend saw - that the docstring disappears.\n"
   ]
  },
  {
   "cell_type": "code",
   "execution_count": 135,
   "id": "575f0f37-8212-497d-9f2b-0fe0286dcf6e",
   "metadata": {},
   "outputs": [
    {
     "name": "stdout",
     "output_type": "stream",
     "text": [
      "Hello\n",
      "30\n",
      "Adds two numbers and prints the sum\n"
     ]
    }
   ],
   "source": [
    "from functools import wraps\n",
    "\n",
    "\n",
    "def add_hello(func):\n",
    "    @wraps(func)\n",
    "    def wrapper(*args, **kwargs):\n",
    "        print('Hello')\n",
    "        return func(*args, **kwargs)\n",
    "    return wrapper\n",
    "\n",
    "# Decorate print_sum() with the add_hello() decorator\n",
    "@add_hello\n",
    "def print_sum(a, b):\n",
    "    \"\"\"Adds two numbers and prints the sum\"\"\"\n",
    "    print(a + b)\n",
    "\n",
    "print_sum(10, 20)\n",
    "print_sum_docstring = print_sum.__doc__\n",
    "print(print_sum_docstring)"
   ]
  },
  {
   "cell_type": "markdown",
   "id": "6173b908-9f55-4ee2-b9f7-9b6b634edfae",
   "metadata": {},
   "source": [
    "## Measuring decorator overhead\n",
    "\n",
    "Your boss wrote a decorator called check_everything() that they think is amazing, and they are insisting you use it on your function. However, you've noticed that when you use it to decorate your functions, it makes them run much slower. You need to convince your boss that the decorator is adding too much processing time to your function. To do this, you are going to measure how long the decorated function takes to run and compare it to how long the undecorated function would have taken to run. This is the decorator in question:\n",
    "\n",
    "def check_everything(func):\n",
    "  @wraps(func)\n",
    "  def wrapper(*args, **kwargs):\n",
    "    check_inputs(*args, **kwargs)\n",
    "    result = func(*args, **kwargs)\n",
    "    check_outputs(result)\n",
    "    return result\n",
    "  return wrapper\n",
    "\n",
    "Instructions\n",
    "100 XP\n",
    "\n",
    "    Call the original function instead of the decorated version by using an attribute of the function that the wraps() statement in your boss's decorator added to the decorated function.\n"
   ]
  },
  {
   "cell_type": "code",
   "execution_count": 21,
   "id": "7de6be60-0ba1-4c9e-87ec-9cb01e2a3b76",
   "metadata": {},
   "outputs": [
    {
     "name": "stdout",
     "output_type": "stream",
     "text": [
      "Decorated time: 0.00022s\n",
      "Undecorated time: 0.00023s\n"
     ]
    }
   ],
   "source": [
    "from functools import wraps\n",
    "import time\n",
    "\n",
    "def check_inputs(my_list):                # what the hell? this stupid draft function works?\n",
    "    if not isinstance(my_list, list):     # what the hell? this stupid draft function works?\n",
    "        raise ValueError('input my_list should be a list')\n",
    "    \n",
    "def check_outputs(result):                # what the hell? this stupid draft function works?\n",
    "    if not isinstance(result, list):      # what the hell? this stupid draft function works?\n",
    "        raise ValueError('output result should be a list')\n",
    "\n",
    "def check_everything(func):\n",
    "    @wraps(func)\n",
    "    def wrapper(*args, **kwargs):\n",
    "        check_inputs(*args, **kwargs)     # check_inputs function\n",
    "        result = func(*args, **kwargs)\n",
    "        check_outputs(result)             # check_outputs function\n",
    "        return result\n",
    "    return wrapper\n",
    "\n",
    "\n",
    "@check_everything\n",
    "def duplicate(my_list):\n",
    "    \"\"\"Return a new list that repeats the input twice\"\"\"\n",
    "    return my_list + my_list\n",
    "\n",
    "\n",
    "t_start = time.time()\n",
    "duplicate(list(range(5000)))\n",
    "t_end = time.time()\n",
    "decorated_time = t_end - t_start\n",
    "\n",
    "t_start = time.time()\n",
    "# Call the original function instead of the decorated one\n",
    "duplicate.__wrapped__(list(range(5000)))\n",
    "t_end = time.time()\n",
    "undecorated_time = t_end - t_start\n",
    "\n",
    "print('Decorated time: {:.5f}s'.format(decorated_time))\n",
    "print('Undecorated time: {:.5f}s'.format(undecorated_time))\n",
    "\n",
    "\n",
    "del check_inputs, check_outputs, check_everything, duplicate, time"
   ]
  },
  {
   "cell_type": "code",
   "execution_count": 14,
   "id": "58604cbd-baa2-417c-86be-b0b5c761ce3c",
   "metadata": {
    "tags": []
   },
   "outputs": [
    {
     "name": "stdout",
     "output_type": "stream",
     "text": [
      "check_inputs passed\n",
      "check_outputs passed\n",
      "func: duplicate, spend 0.132568359375 ms time to run\n",
      "[1511, 935, 588, 1452, 955, 99, 208, 337, 522, 1664]\n"
     ]
    }
   ],
   "source": [
    "from functools import wraps, cache\n",
    "import time\n",
    "import random\n",
    "\n",
    "\n",
    "def check_inputs(my_list):                # what the hell? this stupid draft function works?\n",
    "    if not isinstance(my_list, list):     # what the hell? this stupid draft function works?\n",
    "        raise ValueError('input my_list should be a list')\n",
    "    else:\n",
    "        print('check_inputs passed')\n",
    "    \n",
    "def check_outputs(result):                # what the hell? this stupid draft function works?\n",
    "    if not isinstance(result, list):      # what the hell? this stupid draft function works?\n",
    "        raise ValueError('output result should be a list')\n",
    "    else:\n",
    "        print('check_outputs passed')\n",
    "\n",
    "def check_everything(func):\n",
    "    @wraps(func)\n",
    "    def wrapper(*args):\n",
    "        check_inputs(*args)     # check_inputs function\n",
    "        result = func(*args)\n",
    "        check_outputs(result)             # check_outputs function\n",
    "        return result\n",
    "    return wrapper\n",
    "\n",
    "def timer(func):\n",
    "    @wraps(func)\n",
    "    def wrapper(*args):\n",
    "        start = time.time()*1000\n",
    "        result = func(*args)\n",
    "        t_spend = time.time()*1000 - start\n",
    "        print(f\"func: {func.__name__}, spend {t_spend} ms time to run\")\n",
    "        return result\n",
    "    return wrapper\n",
    "\n",
    "\n",
    "@timer\n",
    "@check_everything\n",
    "def duplicate(my_list):\n",
    "    \"\"\"Return a new list that repeats the input twice\"\"\"\n",
    "    return my_list + my_list\n",
    "\n",
    "a = [random.randrange(1, 2000) for i in range(4000)]\n",
    "#print(a)\n",
    "\n",
    "#duplicate(a)\n",
    "\n",
    "alpha = duplicate(a)\n",
    "print(alpha[:10])\n",
    "\n",
    "\n",
    "del check_inputs, check_outputs, check_everything, timer, wraps, cache, duplicate, a"
   ]
  },
  {
   "cell_type": "markdown",
   "id": "beff125d-615c-4b89-9ee5-f509fed516ab",
   "metadata": {
    "tags": []
   },
   "source": [
    "## how to write more efficient function, spend less time\n",
    "\n",
    "\n"
   ]
  },
  {
   "cell_type": "code",
   "execution_count": 12,
   "id": "4120f176-f1c5-460b-b047-3526c070f3c9",
   "metadata": {},
   "outputs": [
    {
     "name": "stdout",
     "output_type": "stream",
     "text": [
      "Sleep for 7 seconds\n",
      "func: simple_add, spend 7.0007727s to run\n"
     ]
    }
   ],
   "source": [
    "import time\n",
    "from functools import wraps, cache\n",
    "\n",
    "\n",
    "def timer(func):\n",
    "    @wraps(func)\n",
    "    def wrapper(*args, **kwargs):\n",
    "        start = time.time()\n",
    "        result = func(*args, **kwargs)\n",
    "        t_spend = time.time()-start\n",
    "        print('func: {}, spend {:.7f}s to run'.format(func.__name__, t_spend))\n",
    "        #print(f\"func: {func.__name__}, spend {t_spend} s to run\")\n",
    "        return result\n",
    "    return wrapper\n",
    "\n",
    "\n",
    "#def time_stop_5():\n",
    "    \n",
    "@timer\n",
    "@cache\n",
    "def simple_add(a, b, c):\n",
    "    print('Sleep for 7 seconds')\n",
    "    time.sleep(7)\n",
    "    return a+b+c\n",
    "\n",
    "simple_add(32, 17, 98)\n",
    "\n",
    "\n",
    "del timer, cache, simple_add, wraps"
   ]
  },
  {
   "cell_type": "markdown",
   "id": "06b552b2-c7e0-4d0f-93d9-28707718e3c7",
   "metadata": {},
   "source": [
    "## Decorators that take arguments\n",
    "\n",
    "\n",
    "\n",
    "\n",
    "\n",
    "**We want pass a as an argument, instead of hard-coding it in the decorator,  If we had some way to pass n into decorator, we could decorate the function we wanted with @run_n_times(n).  but a decorator is only supposed to take one argument - the function it is decorate\n",
    "\n",
    "\n",
    "## To make run_n_times() work, we have to turn it into a function that returns a decorator, rather than a function that is a decorator.  \n",
    "\n",
    "**Because when we use a decorator syntax, the thing after the at symbol must be a reference to a decorator function"
   ]
  },
  {
   "cell_type": "code",
   "execution_count": 23,
   "id": "f579289c-c7b9-4935-b428-a1833254627c",
   "metadata": {},
   "outputs": [
    {
     "name": "stdout",
     "output_type": "stream",
     "text": [
      "16\n",
      "16\n",
      "16\n"
     ]
    }
   ],
   "source": [
    "def run_three_times(func):\n",
    "    def wrapper(*args, **kwargs):\n",
    "        for i in range(3):\n",
    "            func(*args, **kwargs)\n",
    "    return wrapper\n",
    "\n",
    "@run_three_times\n",
    "def print_sum(a, b):\n",
    "    print(a+b)\n",
    "    \n",
    "print_sum(9, 7)\n",
    "\n",
    "del run_three_times, print_sum"
   ]
  },
  {
   "cell_type": "markdown",
   "id": "8de176ac-fe5e-48ba-9345-6cb8ee6f3fe6",
   "metadata": {},
   "source": [
    "\n",
    "\n",
    "**Add another level of nesting,"
   ]
  },
  {
   "cell_type": "code",
   "execution_count": 24,
   "id": "87b81237-3011-4880-b7ea-6bebb62adfa4",
   "metadata": {},
   "outputs": [
    {
     "name": "stdout",
     "output_type": "stream",
     "text": [
      "16\n",
      "16\n",
      "16\n",
      "16\n"
     ]
    }
   ],
   "source": [
    "def run_n_times(n):\n",
    "    def decorator(func):\n",
    "        def wrapper(*args, **kwargs):\n",
    "            for i in range(n):\n",
    "                func(*args, **kwargs)\n",
    "        return wrapper\n",
    "    return decorator\n",
    "\n",
    "@run_n_times(4)\n",
    "def print_sum(a, b):\n",
    "    print(a+b)\n",
    "    \n",
    "    \n",
    "print_sum(9,7)\n",
    "\n",
    "del print_sum, run_n_times"
   ]
  },
  {
   "cell_type": "code",
   "execution_count": 41,
   "id": "26abd2f8-c0ee-4a51-bae8-a97bdb61b158",
   "metadata": {},
   "outputs": [
    {
     "name": "stdout",
     "output_type": "stream",
     "text": [
      "16\n",
      "16\n",
      "16\n",
      "<function run_n_times.<locals>.decorator.<locals>.wrapper at 0x7f94a4464d30>\n",
      "HelloWorld\n",
      "HelloWorld\n",
      "HelloWorld\n",
      "pppp\n",
      "pppp\n",
      "pppp\n"
     ]
    }
   ],
   "source": [
    "def run_n_times(n):\n",
    "    def decorator(func):\n",
    "        def wrapper(*args, **kwargs):\n",
    "            for i in range(n):\n",
    "                func(*args, **kwargs)\n",
    "        return wrapper\n",
    "    return decorator\n",
    "\n",
    "run_3_times = run_n_times(3)   # the function that returns a decorator\n",
    "\n",
    "\n",
    "@run_3_times\n",
    "def print_sum(a, b):\n",
    "    print(a+b)\n",
    "    \n",
    "def print_hello():\n",
    "    print('HelloWorld')\n",
    "    \n",
    "print_sum(9,7)\n",
    "\n",
    "\n",
    "print(run_3_times(print_hello))\n",
    "ff = run_3_times(print_hello)\n",
    "ff()\n",
    "\n",
    "print = run_3_times(print)\n",
    "print('pppp')\n",
    "\n",
    "del print_sum, run_n_times, run_3_times, print_hello, ff"
   ]
  },
  {
   "cell_type": "code",
   "execution_count": 43,
   "id": "78b6c204-0831-4ca3-aa48-c58e820d7763",
   "metadata": {},
   "outputs": [
    {
     "name": "stdout",
     "output_type": "stream",
     "text": [
      "12\n",
      "12\n",
      "12\n"
     ]
    }
   ],
   "source": [
    "print('12')\n",
    "\n",
    "del print"
   ]
  },
  {
   "cell_type": "code",
   "execution_count": 44,
   "id": "a172dd9c-9432-4889-8a58-cb84899919b3",
   "metadata": {},
   "outputs": [
    {
     "name": "stdout",
     "output_type": "stream",
     "text": [
      "hello\n"
     ]
    }
   ],
   "source": [
    "print(\"hello\")"
   ]
  },
  {
   "cell_type": "markdown",
   "id": "814733c5-cf95-490a-bcf9-ea692201257e",
   "metadata": {},
   "source": [
    "## Run_n_times()\n",
    "\n",
    "In the video exercise, I showed you an example of a decorator that takes an argument: run_n_times(). The code for that decorator is repeated below to remind you how it works. Practice different ways of applying the decorator to the function print_sum(). Then I'll show you a funny prank you can play on your co-workers.\n",
    "\n",
    "def run_n_times(n):\n",
    "  \"\"\"Define and return a decorator\"\"\"\n",
    "  def decorator(func):\n",
    "    def wrapper(*args, **kwargs):\n",
    "      for i in range(n):\n",
    "        func(*args, **kwargs)\n",
    "    return wrapper\n",
    "  return decorator\n",
    "\n",
    "\n",
    "\n",
    "Instructions 1/3\n",
    "35 XP\n",
    "\n",
    "    1   Add the run_n_times() decorator to print_sum() using decorator syntax so that print_sum() runs 10 times.\n",
    "\n",
    "    2   Use run_n_times() to create a decorator run_five_times() that will run any function five times.\n",
    "\n",
    "    3   Here's the prank: use run_n_times() to modify the built-in print() function so that it always prints 20 times!\n",
    "    \n",
    "    \n",
    "    \n",
    "## too easy"
   ]
  },
  {
   "cell_type": "markdown",
   "id": "05b767d4-0a63-4556-86e1-025a47ae05a6",
   "metadata": {},
   "source": [
    "## HTML Generator\n",
    "\n",
    "You are writing a script that generates HTML for a webpage on the fly. So far, you have written two decorators that will add bold or italics tags to any function that returns a string. You notice, however, that these two decorators look very similar. Instead of writing a bunch of other similar looking decorators, you want to create one decorator, html(), that can take any pair of opening and closing tags.\n",
    "\n",
    "def bold(func):\n",
    "  @wraps(func)\n",
    "  def wrapper(*args, **kwargs):\n",
    "    msg = func(*args, **kwargs)\n",
    "    return '<b>{}</b>'.format(msg)\n",
    "  return wrapper\n",
    "\n",
    "def italics(func):\n",
    "  @wraps(func)\n",
    "  def wrapper(*args, **kwargs):\n",
    "    msg = func(*args, **kwargs)\n",
    "    return '<i>{}</i>'.format(msg)\n",
    "  return wrapper\n",
    "\n",
    "\n",
    "\n",
    "Instructions 1/4\n",
    "25 XP\n",
    "\n",
    "    1   Return the decorator and the decorated function from the correct places in the new html() decorator.\n",
    "\n",
    "    2   Use the html() decorator to wrap the return value of hello() in the strings <b> and </b> (the HTML tags that mean \"bold\").\n",
    "\n",
    "    3   Use html() to wrap the return value of goodbye() in the strings <i> and </i> (the HTML tags that mean \"italics\").\n",
    "\n",
    "    4   Use html() to wrap hello_goodbye() in a DIV, which is done by adding the strings <div> and </div> tags around a string.\n",
    "    \n",
    "    \n",
    "    \n",
    "Hint\n",
    "\n",
    "    html() is like a decorator factory. It creates a new decorator and returns it.\n",
    "    wrapper() will eventually overwrite whatever function is being decorated.\n"
   ]
  },
  {
   "cell_type": "code",
   "execution_count": 54,
   "id": "54ad6d0e-494a-4720-9158-493aa5d98ce8",
   "metadata": {},
   "outputs": [
    {
     "name": "stdout",
     "output_type": "stream",
     "text": [
      "<i>Hello World</i>\n",
      "<div>hello and goodbye</div>\n"
     ]
    }
   ],
   "source": [
    "from functools import cache, wraps\n",
    "\n",
    "def bold(func):\n",
    "    @wraps(func)\n",
    "    def wrapper(*args, **kwargs):\n",
    "        msg = func(*args, **kwargs)\n",
    "        return '<b>{}</b>'.format(msg)\n",
    "    return wrapper\n",
    "\n",
    "def italics(func):\n",
    "    @wraps(func)\n",
    "    def wrapper(*args, **kwargs):\n",
    "        msg = func(*args, **kwargs)\n",
    "        return '<i>{}</i>'.format(msg)\n",
    "    return wrapper\n",
    "\n",
    "\n",
    "def html(open_tag, close_tag):\n",
    "    def decorator(func):\n",
    "        @wraps(func)\n",
    "        def wrapper(*args, **kwargs):\n",
    "            msg = func(*args, **kwargs)\n",
    "            return '{}{}{}'.format(open_tag, msg, close_tag)\n",
    "        # Return the decorated function\n",
    "        return wrapper\n",
    "    # Return the decorator\n",
    "    return decorator\n",
    "\n",
    "\n",
    "@html(\"<i>\", \"</i>\")\n",
    "def print_hello():\n",
    "    return \"Hello World\"\n",
    "    \n",
    "@html(\"<div>\", \"</div>\")\n",
    "def hello_goodbye():\n",
    "    return \"hello and goodbye\"\n",
    "    \n",
    "print(print_hello())\n",
    "print(hello_goodbye())\n",
    "    \n",
    "del print_hello, hello_goodbye, html, italics, bold, cache, wraps"
   ]
  },
  {
   "cell_type": "markdown",
   "id": "10b32c81-109c-4737-9ac1-25051c815cbd",
   "metadata": {},
   "source": [
    "## Timeout(): a real world example\n",
    "50 XP\n",
    "\n",
    "\n",
    "\n",
    "\n",
    "\n",
    "**Say we have some functions that occationally either run for longer than we want them to or just hang and never return.  It would be nice if we could add some kind of timeout() decorator to those functions that will raise an error if the function runs for longer than expected.  \n",
    "\n",
    "\n",
    "    To create the timeout() decorator, we are going to use some functions from Python's signal module. These functions have nothingto do with decorators but understing them will help you understsnd the timeout() decorator.  \n",
    "    \n",
    "    The raise_timeout() function simply raise a TimeoutError when called.  \n",
    "    \n",
    "    The signal() function tells Python, when you see the signal whose signal is signalnum, call the handler function.  \n",
    "    \n",
    "    The alarm() function lets us set an alarm for some number of seconds in the future.  "
   ]
  },
  {
   "cell_type": "code",
   "execution_count": 1,
   "id": "7cfc2181-34df-41dd-8c5d-0aa4791d92e4",
   "metadata": {},
   "outputs": [
    {
     "data": {
      "text/plain": [
       "5"
      ]
     },
     "execution_count": 1,
     "metadata": {},
     "output_type": "execute_result"
    }
   ],
   "source": [
    "import signal\n",
    "\n",
    "def raise_timeout(*args, **kwargs):\n",
    "    raise TimeoutError()\n",
    "    \n",
    "# When an alarm signal goes off, call raise_timeout function\n",
    "signal.signal(signalnum=signal.SIGALRM, handler=raise_timeout)\n",
    "\n",
    "# Set an alarm for 5 seconds\n",
    "signal.alarm(5)\n",
    "\n",
    "# Cancle the alarm\n",
    "signal.alarm(0)"
   ]
  },
  {
   "cell_type": "code",
   "execution_count": 2,
   "id": "e813641d-fe74-4185-a202-c79f0b2d6fb3",
   "metadata": {
    "collapsed": true,
    "jupyter": {
     "outputs_hidden": true
    },
    "tags": []
   },
   "outputs": [
    {
     "ename": "TimeoutError",
     "evalue": "",
     "output_type": "error",
     "traceback": [
      "\u001b[0;31m---------------------------------------------------------------------------\u001b[0m",
      "\u001b[0;31mTimeoutError\u001b[0m                              Traceback (most recent call last)",
      "\u001b[0;32m/tmp/ipykernel_2137/2453885660.py\u001b[0m in \u001b[0;36m<module>\u001b[0;34m\u001b[0m\n\u001b[1;32m     21\u001b[0m     \u001b[0mprint\u001b[0m\u001b[0;34m(\u001b[0m\u001b[0;34m\"sleep 6 seconds\"\u001b[0m\u001b[0;34m)\u001b[0m\u001b[0;34m\u001b[0m\u001b[0;34m\u001b[0m\u001b[0m\n\u001b[1;32m     22\u001b[0m \u001b[0;34m\u001b[0m\u001b[0m\n\u001b[0;32m---> 23\u001b[0;31m \u001b[0msleep_6s\u001b[0m\u001b[0;34m(\u001b[0m\u001b[0;34m)\u001b[0m\u001b[0;34m\u001b[0m\u001b[0;34m\u001b[0m\u001b[0m\n\u001b[0m\u001b[1;32m     24\u001b[0m \u001b[0;34m\u001b[0m\u001b[0m\n\u001b[1;32m     25\u001b[0m \u001b[0;32mdel\u001b[0m \u001b[0msleep_6s\u001b[0m\u001b[0;34m,\u001b[0m \u001b[0mtimeout_in_5s\u001b[0m\u001b[0;34m,\u001b[0m \u001b[0msignal\u001b[0m\u001b[0;34m,\u001b[0m \u001b[0mtime\u001b[0m\u001b[0;34m\u001b[0m\u001b[0;34m\u001b[0m\u001b[0m\n",
      "\u001b[0;32m/tmp/ipykernel_2137/2453885660.py\u001b[0m in \u001b[0;36mwrapper\u001b[0;34m(*args, **kwargs)\u001b[0m\n\u001b[1;32m     11\u001b[0m         \u001b[0msignal\u001b[0m\u001b[0;34m.\u001b[0m\u001b[0malarm\u001b[0m\u001b[0;34m(\u001b[0m\u001b[0;36m5\u001b[0m\u001b[0;34m)\u001b[0m\u001b[0;34m\u001b[0m\u001b[0;34m\u001b[0m\u001b[0m\n\u001b[1;32m     12\u001b[0m         \u001b[0;32mtry\u001b[0m\u001b[0;34m:\u001b[0m\u001b[0;34m\u001b[0m\u001b[0;34m\u001b[0m\u001b[0m\n\u001b[0;32m---> 13\u001b[0;31m             \u001b[0;32mreturn\u001b[0m \u001b[0mfunc\u001b[0m\u001b[0;34m(\u001b[0m\u001b[0;34m*\u001b[0m\u001b[0margs\u001b[0m\u001b[0;34m,\u001b[0m \u001b[0;34m**\u001b[0m\u001b[0mkwargs\u001b[0m\u001b[0;34m)\u001b[0m\u001b[0;34m\u001b[0m\u001b[0;34m\u001b[0m\u001b[0m\n\u001b[0m\u001b[1;32m     14\u001b[0m         \u001b[0;32mfinally\u001b[0m\u001b[0;34m:\u001b[0m\u001b[0;34m\u001b[0m\u001b[0;34m\u001b[0m\u001b[0m\n\u001b[1;32m     15\u001b[0m             \u001b[0msignal\u001b[0m\u001b[0;34m.\u001b[0m\u001b[0malarm\u001b[0m\u001b[0;34m(\u001b[0m\u001b[0;36m0\u001b[0m\u001b[0;34m)\u001b[0m\u001b[0;34m\u001b[0m\u001b[0;34m\u001b[0m\u001b[0m\n",
      "\u001b[0;32m/tmp/ipykernel_2137/2453885660.py\u001b[0m in \u001b[0;36msleep_6s\u001b[0;34m()\u001b[0m\n\u001b[1;32m     18\u001b[0m \u001b[0;34m@\u001b[0m\u001b[0mtimeout_in_5s\u001b[0m\u001b[0;34m\u001b[0m\u001b[0;34m\u001b[0m\u001b[0m\n\u001b[1;32m     19\u001b[0m \u001b[0;32mdef\u001b[0m \u001b[0msleep_6s\u001b[0m\u001b[0;34m(\u001b[0m\u001b[0;34m)\u001b[0m\u001b[0;34m:\u001b[0m\u001b[0;34m\u001b[0m\u001b[0;34m\u001b[0m\u001b[0m\n\u001b[0;32m---> 20\u001b[0;31m     \u001b[0mtime\u001b[0m\u001b[0;34m.\u001b[0m\u001b[0msleep\u001b[0m\u001b[0;34m(\u001b[0m\u001b[0;36m6\u001b[0m\u001b[0;34m)\u001b[0m\u001b[0;34m\u001b[0m\u001b[0;34m\u001b[0m\u001b[0m\n\u001b[0m\u001b[1;32m     21\u001b[0m     \u001b[0mprint\u001b[0m\u001b[0;34m(\u001b[0m\u001b[0;34m\"sleep 6 seconds\"\u001b[0m\u001b[0;34m)\u001b[0m\u001b[0;34m\u001b[0m\u001b[0;34m\u001b[0m\u001b[0m\n\u001b[1;32m     22\u001b[0m \u001b[0;34m\u001b[0m\u001b[0m\n",
      "\u001b[0;32m/tmp/ipykernel_2137/2453885660.py\u001b[0m in \u001b[0;36mraise_timeout\u001b[0;34m(*args, **kwargs)\u001b[0m\n\u001b[1;32m      2\u001b[0m \u001b[0;34m\u001b[0m\u001b[0m\n\u001b[1;32m      3\u001b[0m \u001b[0;32mdef\u001b[0m \u001b[0mraise_timeout\u001b[0m\u001b[0;34m(\u001b[0m\u001b[0;34m*\u001b[0m\u001b[0margs\u001b[0m\u001b[0;34m,\u001b[0m \u001b[0;34m**\u001b[0m\u001b[0mkwargs\u001b[0m\u001b[0;34m)\u001b[0m\u001b[0;34m:\u001b[0m\u001b[0;34m\u001b[0m\u001b[0;34m\u001b[0m\u001b[0m\n\u001b[0;32m----> 4\u001b[0;31m     \u001b[0;32mraise\u001b[0m \u001b[0mTimeoutError\u001b[0m\u001b[0;34m(\u001b[0m\u001b[0;34m)\u001b[0m\u001b[0;34m\u001b[0m\u001b[0;34m\u001b[0m\u001b[0m\n\u001b[0m\u001b[1;32m      5\u001b[0m \u001b[0;34m\u001b[0m\u001b[0m\n\u001b[1;32m      6\u001b[0m \u001b[0;31m# When an alarm signal goes off, call raise_timeout function\u001b[0m\u001b[0;34m\u001b[0m\u001b[0;34m\u001b[0m\u001b[0;34m\u001b[0m\u001b[0m\n",
      "\u001b[0;31mTimeoutError\u001b[0m: "
     ]
    }
   ],
   "source": [
    "import signal, time\n",
    "\n",
    "def raise_timeout(*args, **kwargs):\n",
    "    raise TimeoutError()\n",
    "    \n",
    "# When an alarm signal goes off, call raise_timeout function\n",
    "signal.signal(signalnum=signal.SIGALRM, handler=raise_timeout)\n",
    "\n",
    "def timeout_in_5s(func):\n",
    "    def wrapper(*args, **kwargs):\n",
    "        signal.alarm(5)\n",
    "        try:\n",
    "            return func(*args, **kwargs)\n",
    "        finally:\n",
    "            signal.alarm(0)\n",
    "    return wrapper\n",
    "\n",
    "@timeout_in_5s\n",
    "def sleep_6s():\n",
    "    time.sleep(6)\n",
    "    print(\"sleep 6 seconds\")\n",
    "    \n",
    "sleep_6s()\n",
    "\n",
    "del sleep_6s, timeout_in_5s, signal, time"
   ]
  },
  {
   "cell_type": "markdown",
   "id": "cd1f58e9-165d-4f51-afaa-faa03ff7d573",
   "metadata": {},
   "source": [
    "## Signal Enum Members\n",
    "\n",
    "Signals are represented as integers. The signal library has a number of Enum members which we can use.\n",
    "\n",
    "The must-know enum members are:\n",
    "\n",
    "    SIGBREAK (Unix), CTRL_BREAK_EVENT (Windows): When CTRL + BREAK is pressed on the keyboard\n",
    "    SIG_DFL: Perform the default function for the signal\n",
    "    ......\n",
    "    SIGABRT: Abort signal\n",
    "    SIGALRM: Timer signal   <= "
   ]
  },
  {
   "cell_type": "code",
   "execution_count": 9,
   "id": "0eeed289-7cb8-4732-9d26-53fe6174e77f",
   "metadata": {},
   "outputs": [
    {
     "ename": "TimeoutError",
     "evalue": "Timeout Occured, out of second range",
     "output_type": "error",
     "traceback": [
      "\u001b[0;31m---------------------------------------------------------------------------\u001b[0m",
      "\u001b[0;31mTimeoutError\u001b[0m                              Traceback (most recent call last)",
      "\u001b[0;32m/tmp/ipykernel_2137/2358176424.py\u001b[0m in \u001b[0;36m<module>\u001b[0;34m\u001b[0m\n\u001b[1;32m     23\u001b[0m     \u001b[0mprint\u001b[0m\u001b[0;34m(\u001b[0m\u001b[0;34mf\"sleep for {n} seconds\"\u001b[0m\u001b[0;34m)\u001b[0m\u001b[0;34m\u001b[0m\u001b[0;34m\u001b[0m\u001b[0m\n\u001b[1;32m     24\u001b[0m \u001b[0;34m\u001b[0m\u001b[0m\n\u001b[0;32m---> 25\u001b[0;31m \u001b[0msleep_n_second\u001b[0m\u001b[0;34m(\u001b[0m\u001b[0;36m8\u001b[0m\u001b[0;34m)\u001b[0m\u001b[0;34m\u001b[0m\u001b[0;34m\u001b[0m\u001b[0m\n\u001b[0m\u001b[1;32m     26\u001b[0m \u001b[0;34m\u001b[0m\u001b[0m\n\u001b[1;32m     27\u001b[0m \u001b[0;32mdel\u001b[0m \u001b[0msleep_n_second\u001b[0m\u001b[0;34m,\u001b[0m \u001b[0mtimeout\u001b[0m\u001b[0;34m,\u001b[0m \u001b[0msignal\u001b[0m\u001b[0;34m,\u001b[0m \u001b[0mtime\u001b[0m\u001b[0;34m,\u001b[0m \u001b[0mraise_timeout\u001b[0m\u001b[0;34m\u001b[0m\u001b[0;34m\u001b[0m\u001b[0m\n",
      "\u001b[0;32m/tmp/ipykernel_2137/2358176424.py\u001b[0m in \u001b[0;36mwrapper\u001b[0;34m(*args, **kwargs)\u001b[0m\n\u001b[1;32m     12\u001b[0m             \u001b[0msignal\u001b[0m\u001b[0;34m.\u001b[0m\u001b[0malarm\u001b[0m\u001b[0;34m(\u001b[0m\u001b[0mn\u001b[0m\u001b[0;34m)\u001b[0m\u001b[0;34m\u001b[0m\u001b[0;34m\u001b[0m\u001b[0m\n\u001b[1;32m     13\u001b[0m             \u001b[0;32mtry\u001b[0m\u001b[0;34m:\u001b[0m\u001b[0;34m\u001b[0m\u001b[0;34m\u001b[0m\u001b[0m\n\u001b[0;32m---> 14\u001b[0;31m                 \u001b[0;32mreturn\u001b[0m \u001b[0mfunc\u001b[0m\u001b[0;34m(\u001b[0m\u001b[0;34m*\u001b[0m\u001b[0margs\u001b[0m\u001b[0;34m,\u001b[0m \u001b[0;34m**\u001b[0m\u001b[0mkwargs\u001b[0m\u001b[0;34m)\u001b[0m\u001b[0;34m\u001b[0m\u001b[0;34m\u001b[0m\u001b[0m\n\u001b[0m\u001b[1;32m     15\u001b[0m             \u001b[0;32mfinally\u001b[0m\u001b[0;34m:\u001b[0m\u001b[0;34m\u001b[0m\u001b[0;34m\u001b[0m\u001b[0m\n\u001b[1;32m     16\u001b[0m                 \u001b[0msignal\u001b[0m\u001b[0;34m.\u001b[0m\u001b[0malarm\u001b[0m\u001b[0;34m(\u001b[0m\u001b[0;36m0\u001b[0m\u001b[0;34m)\u001b[0m\u001b[0;34m\u001b[0m\u001b[0;34m\u001b[0m\u001b[0m\n",
      "\u001b[0;32m/tmp/ipykernel_2137/2358176424.py\u001b[0m in \u001b[0;36msleep_n_second\u001b[0;34m(n)\u001b[0m\n\u001b[1;32m     20\u001b[0m \u001b[0;34m@\u001b[0m\u001b[0mtimeout\u001b[0m\u001b[0;34m(\u001b[0m\u001b[0;36m7\u001b[0m\u001b[0;34m)\u001b[0m\u001b[0;34m\u001b[0m\u001b[0;34m\u001b[0m\u001b[0m\n\u001b[1;32m     21\u001b[0m \u001b[0;32mdef\u001b[0m \u001b[0msleep_n_second\u001b[0m\u001b[0;34m(\u001b[0m\u001b[0mn\u001b[0m\u001b[0;34m)\u001b[0m\u001b[0;34m:\u001b[0m\u001b[0;34m\u001b[0m\u001b[0;34m\u001b[0m\u001b[0m\n\u001b[0;32m---> 22\u001b[0;31m     \u001b[0mtime\u001b[0m\u001b[0;34m.\u001b[0m\u001b[0msleep\u001b[0m\u001b[0;34m(\u001b[0m\u001b[0mn\u001b[0m\u001b[0;34m)\u001b[0m\u001b[0;34m\u001b[0m\u001b[0;34m\u001b[0m\u001b[0m\n\u001b[0m\u001b[1;32m     23\u001b[0m     \u001b[0mprint\u001b[0m\u001b[0;34m(\u001b[0m\u001b[0;34mf\"sleep for {n} seconds\"\u001b[0m\u001b[0;34m)\u001b[0m\u001b[0;34m\u001b[0m\u001b[0;34m\u001b[0m\u001b[0m\n\u001b[1;32m     24\u001b[0m \u001b[0;34m\u001b[0m\u001b[0m\n",
      "\u001b[0;32m/tmp/ipykernel_2137/2358176424.py\u001b[0m in \u001b[0;36mraise_timeout\u001b[0;34m(*args, **kwargs)\u001b[0m\n\u001b[1;32m      2\u001b[0m \u001b[0;34m\u001b[0m\u001b[0m\n\u001b[1;32m      3\u001b[0m \u001b[0;32mdef\u001b[0m \u001b[0mraise_timeout\u001b[0m\u001b[0;34m(\u001b[0m\u001b[0;34m*\u001b[0m\u001b[0margs\u001b[0m\u001b[0;34m,\u001b[0m \u001b[0;34m**\u001b[0m\u001b[0mkwargs\u001b[0m\u001b[0;34m)\u001b[0m\u001b[0;34m:\u001b[0m\u001b[0;34m\u001b[0m\u001b[0;34m\u001b[0m\u001b[0m\n\u001b[0;32m----> 4\u001b[0;31m     \u001b[0;32mraise\u001b[0m \u001b[0mTimeoutError\u001b[0m\u001b[0;34m(\u001b[0m\u001b[0;34m\"Timeout Occured, out of second range\"\u001b[0m\u001b[0;34m)\u001b[0m\u001b[0;34m\u001b[0m\u001b[0;34m\u001b[0m\u001b[0m\n\u001b[0m\u001b[1;32m      5\u001b[0m \u001b[0;34m\u001b[0m\u001b[0m\n\u001b[1;32m      6\u001b[0m \u001b[0;31m# When an alarm signal goes off, call raise_timeout function\u001b[0m\u001b[0;34m\u001b[0m\u001b[0;34m\u001b[0m\u001b[0;34m\u001b[0m\u001b[0m\n",
      "\u001b[0;31mTimeoutError\u001b[0m: Timeout Occured, out of second range"
     ]
    }
   ],
   "source": [
    "import signal, time\n",
    "\n",
    "def raise_timeout(*args, **kwargs):\n",
    "    raise TimeoutError(\"Timeout Occured, out of second range\")\n",
    "    \n",
    "# When an alarm signal goes off, call raise_timeout function\n",
    "signal.signal(signalnum=signal.SIGALRM, handler=raise_timeout)\n",
    "\n",
    "def timeout(n):\n",
    "    def decorator(func):\n",
    "        def wrapper(*args, **kwargs):\n",
    "            signal.alarm(n)\n",
    "            try:\n",
    "                return func(*args, **kwargs)\n",
    "            finally:\n",
    "                signal.alarm(0)\n",
    "        return wrapper\n",
    "    return decorator\n",
    "\n",
    "@timeout(7)\n",
    "def sleep_n_second(n):\n",
    "    time.sleep(n)\n",
    "    print(f\"sleep for {n} seconds\")\n",
    "            \n",
    "sleep_n_second(8)\n",
    "\n",
    "del sleep_n_second, timeout, signal, time, raise_timeout"
   ]
  },
  {
   "cell_type": "markdown",
   "id": "751bcd22-c2b9-4486-b9a4-b5869a081bb3",
   "metadata": {},
   "source": [
    "## Tag your functions\n",
    "\n",
    "\n",
    "## *****************************************************************************************\n",
    "\n",
    "Tagging something means that you have given that thing one or more strings that act as labels. For instance, we often tag emails or photos so that we can search for them later. You've decided to write a decorator that will let you tag your functions with an arbitrary list of tags. You could use these tags for many things:\n",
    "\n",
    "    Adding information about who has worked on the function, so a user can look up who to ask if they run into trouble using it.\n",
    "    Labeling functions as \"experimental\" so that users know that the inputs and outputs might change in the future.\n",
    "    Marking any functions that you plan to remove in a future version of the code.\n",
    "    Etc.\n",
    "\n",
    "Instructions\n",
    "100 XP\n",
    "\n",
    "    Define a new decorator, named decorator(), to return.\n",
    "    Ensure the decorated function keeps its metadata.\n",
    "    Call the function being decorated and return the result.\n",
    "    Return the new decorator.\n",
    "\n",
    "\n",
    "\n",
    "Hint\n",
    "\n",
    "    Remember: decorators like tag() that take arguments are actually decorator factories. tag() should create a new decorator and return it.\n",
    "    Use a decorator from the functools module to attach the metadata from func() to the wrapper() function.\n",
    "    wrapper() is the decorated function that decorator() returns. Its only job is to call the function being decorated.\n"
   ]
  },
  {
   "cell_type": "code",
   "execution_count": 6,
   "id": "8ed2e11d-f398-49db-90d2-4c735e01590c",
   "metadata": {},
   "outputs": [
    {
     "name": "stdout",
     "output_type": "stream",
     "text": [
      "('test', 'this is a tag')\n"
     ]
    }
   ],
   "source": [
    "def tag(*tags):\n",
    "    # Define a new decorator, named \"decorator\", to return\n",
    "    def decorator(func):\n",
    "        # Ensure the decorated function keeps its metadata\n",
    "        #@wraps(func)\n",
    "        def wrapper(*args, **kwargs):\n",
    "            # Call the function being decorated and return the result\n",
    "            return func(*args, **kwargs)\n",
    "        wrapper.tags = tags\n",
    "        return wrapper\n",
    "    # Return the new decorator\n",
    "    return decorator\n",
    "\n",
    "@tag('test', 'this is a tag')\n",
    "def foo():\n",
    "    pass\n",
    "\n",
    "print(foo.tags)"
   ]
  },
  {
   "cell_type": "markdown",
   "id": "89b3727c-a6a1-496c-9142-73f4fbc14076",
   "metadata": {},
   "source": [
    "## Check the return type\n",
    "\n",
    "Python's flexibility around data types is usually cited as one of the benefits of the language. It can sometimes cause problems though if incorrect data types go unnoticed. You've decided that in order to ensure your code is doing exactly what you want it to do, you will explicitly check the return types in all of your functions and make sure they're returning what you expect. To do that, you are going to create a decorator that checks if the return type of the decorated function is correct.\n",
    "\n",
    "Note: assert is a keyword that you can use to test whether something is true. If you type assert condition and condition is True, this function doesn't do anything. If condition is False, this function raises an error. The type of error that it raises is called an AssertionError.\n",
    "\n",
    "\n",
    "\n",
    "    Start by completing the returns_dict() decorator so that it raises an AssertionError if the return type of the decorated function is not a dictionary.\n",
    "\n",
    "\n",
    "\n",
    "Hint\n",
    "\n",
    "    Make sure wrapper() is flexible enough to take any arguments that the function it is decorating might take.\n",
    "    wrapper() must call the function being decorated.\n",
    "    Don't forget to return the newly decorated function.\n"
   ]
  },
  {
   "cell_type": "code",
   "execution_count": 7,
   "id": "38a84046-59e5-4b80-8056-a6ec845f3d56",
   "metadata": {},
   "outputs": [
    {
     "name": "stdout",
     "output_type": "stream",
     "text": [
      "foo() did not return a dict!\n"
     ]
    }
   ],
   "source": [
    "def returns_dict(func):\n",
    "    # Complete the returns_dict() decorator\n",
    "    def wrapper(*args, **kwargs):\n",
    "        result = func(*args, **kwargs)\n",
    "        assert type(result) == dict\n",
    "        return result\n",
    "    return wrapper\n",
    "\n",
    "@returns_dict\n",
    "def foo(value):\n",
    "    return value\n",
    "\n",
    "try:\n",
    "    print(foo([1,2,3]))\n",
    "except AssertionError:\n",
    "    print('foo() did not return a dict!')"
   ]
  },
  {
   "cell_type": "code",
   "execution_count": null,
   "id": "d7af42f4-775d-4a30-a8cc-2823c2bb47b6",
   "metadata": {},
   "outputs": [],
   "source": []
  },
  {
   "cell_type": "code",
   "execution_count": null,
   "id": "e07ffa33-9cba-4be3-ab1c-903bd96c1c82",
   "metadata": {},
   "outputs": [],
   "source": []
  },
  {
   "cell_type": "code",
   "execution_count": null,
   "id": "32a5215d-89b8-4d28-afbb-a2389e4c6e42",
   "metadata": {},
   "outputs": [],
   "source": []
  },
  {
   "cell_type": "code",
   "execution_count": null,
   "id": "4a0f340d-dfb3-4ffb-8fd2-a028358b525a",
   "metadata": {},
   "outputs": [],
   "source": []
  },
  {
   "cell_type": "code",
   "execution_count": null,
   "id": "d86e027a-df80-4bab-987d-81428f4982ce",
   "metadata": {},
   "outputs": [],
   "source": []
  },
  {
   "cell_type": "code",
   "execution_count": null,
   "id": "74ea5b5b-d369-4aae-8b9d-c557f956efb6",
   "metadata": {},
   "outputs": [],
   "source": []
  },
  {
   "cell_type": "code",
   "execution_count": null,
   "id": "12a39d13-1054-4afa-b3df-9a98d74f0918",
   "metadata": {},
   "outputs": [],
   "source": []
  },
  {
   "cell_type": "code",
   "execution_count": null,
   "id": "436048cb-ca90-4491-af43-8831745b2b6e",
   "metadata": {},
   "outputs": [],
   "source": []
  },
  {
   "cell_type": "code",
   "execution_count": null,
   "id": "4c2769de-8b66-4e99-b3d1-83651f3939eb",
   "metadata": {},
   "outputs": [],
   "source": []
  },
  {
   "cell_type": "markdown",
   "id": "e28e266d-2b60-46ae-8449-2980c8355b74",
   "metadata": {},
   "source": [
    "## Youtube Python Tutorials - Closure | Nested Functions\n",
    "\n",
    "\n",
    "\n",
    "\n",
    "\n",
    "\n",
    "## understing the nested functions relashionships\n",
    "\n",
    "\n",
    "\n"
   ]
  },
  {
   "cell_type": "code",
   "execution_count": 6,
   "id": "a45aa100-9f91-48a4-99ee-bcfdfd9f65a5",
   "metadata": {},
   "outputs": [
    {
     "name": "stdout",
     "output_type": "stream",
     "text": [
      "hi\n",
      "hi\n"
     ]
    }
   ],
   "source": [
    "def outer():\n",
    "    x = 'hi'\n",
    "    def inner():\n",
    "        print(x)\n",
    "    inner()\n",
    "        \n",
    "        \n",
    "o = outer\n",
    "o()\n",
    "\n",
    "p = outer()\n",
    "p"
   ]
  },
  {
   "cell_type": "code",
   "execution_count": 11,
   "id": "9b26133d-5597-47db-bec4-f6bca139b58f",
   "metadata": {},
   "outputs": [
    {
     "name": "stdout",
     "output_type": "stream",
     "text": [
      "hi\n"
     ]
    }
   ],
   "source": [
    "def outer():\n",
    "    x = 'hi'\n",
    "    def inner():\n",
    "        print(x)\n",
    "    return inner()\n",
    "        \n",
    "        \n",
    "o = outer()             # *********************************************************************** #\n",
    "o                       # we call the outer function, it returns a claaing of inner function, \n"
   ]
  },
  {
   "cell_type": "code",
   "execution_count": 16,
   "id": "61cb4d04-d228-435e-8691-aa4afa029aca",
   "metadata": {},
   "outputs": [
    {
     "name": "stdout",
     "output_type": "stream",
     "text": [
      "hi\n",
      "inner\n"
     ]
    }
   ],
   "source": [
    "def outer():\n",
    "    x = 'hi'\n",
    "    def inner():\n",
    "        print(x)        # *********************************************************************** #\n",
    "    return inner        # this is enclosing function returning the nested function not calling\n",
    "        \n",
    "        \n",
    "o = outer()             # *********************************************************************** #\n",
    "o                       # <function __main__.outer.<locals>.inner()>, \n",
    "o()                     # we call the outer function, it returns inner function, \n",
    "                        # a calling outer function calling is equal to inner function calling, \n",
    "\n",
    "print(o.__name__)       # because this outer function calling returns inner function"
   ]
  },
  {
   "cell_type": "code",
   "execution_count": 9,
   "id": "52911be9-c9fa-4993-804e-cb763545d9bd",
   "metadata": {},
   "outputs": [
    {
     "name": "stdout",
     "output_type": "stream",
     "text": [
      "hijho\n"
     ]
    }
   ],
   "source": [
    "def outer():\n",
    "    x = 'hi'\n",
    "    def inner():\n",
    "        y = 'jho'\n",
    "        string = x+y\n",
    "        return string\n",
    "    return inner()\n",
    "        \n",
    "                        # *********************************************************************** #\n",
    "o = outer()             # we call the outer function, returns a calling of inner function\n",
    "print(o)                # value returning function, we need print() result out\n",
    "\n",
    "#print(o.__name__)"
   ]
  },
  {
   "cell_type": "code",
   "execution_count": 10,
   "id": "df2ebf0d-80df-4684-8d09-b1320d853fea",
   "metadata": {},
   "outputs": [
    {
     "name": "stdout",
     "output_type": "stream",
     "text": [
      "<function outer at 0x7f87a0153e50>\n",
      "outer\n"
     ]
    }
   ],
   "source": [
    "def outer():\n",
    "    x = 'hi'\n",
    "    def inner():\n",
    "        y = 'jho'\n",
    "        string = x+y\n",
    "        return string\n",
    "    return inner()\n",
    "        \n",
    "                       # *********************************************************************** #\n",
    "o = outer              # outer function not called, outer function returns calling of inner function\n",
    "print(o)\n",
    "o()\n",
    "print(o.__name__)      # because we wrote    o = outer\n"
   ]
  },
  {
   "cell_type": "code",
   "execution_count": 65,
   "id": "106f65f3-9aad-4d11-ae24-4aaa967eabfe",
   "metadata": {},
   "outputs": [
    {
     "name": "stdout",
     "output_type": "stream",
     "text": [
      "<function outer at 0x7f9a687af4c0>\n",
      "<function outer.<locals>.inner at 0x7f9a687afca0>\n",
      "inner\n"
     ]
    },
    {
     "data": {
      "text/plain": [
       "<function __main__.outer.<locals>.inner()>"
      ]
     },
     "execution_count": 65,
     "metadata": {},
     "output_type": "execute_result"
    }
   ],
   "source": [
    "def outer():\n",
    "    x = 'hi'\n",
    "    def inner():\n",
    "        y = 'jho'\n",
    "        string = x+y\n",
    "        return string\n",
    "    return inner\n",
    "        \n",
    "        \n",
    "o = outer              # *********************************************************************** #\n",
    "print(o)               # the outer function at a memory location\n",
    "print(o())             # we execute the inner function body \n",
    "print(o().__name__)    # when outer function called, the return is a inner function\n",
    "o()\n"
   ]
  },
  {
   "cell_type": "code",
   "execution_count": null,
   "id": "69cc4ff1-a26f-47fa-811d-5da315748603",
   "metadata": {},
   "outputs": [],
   "source": []
  },
  {
   "cell_type": "code",
   "execution_count": null,
   "id": "f58393c3-d4eb-4561-bd96-ac167e99f319",
   "metadata": {},
   "outputs": [],
   "source": []
  },
  {
   "cell_type": "code",
   "execution_count": null,
   "id": "acac8005-5d11-4b88-9fa5-a3581a7c79d1",
   "metadata": {},
   "outputs": [],
   "source": []
  },
  {
   "cell_type": "code",
   "execution_count": null,
   "id": "1b1b6787-a03b-4f56-a0f0-f2d7876e0d8e",
   "metadata": {},
   "outputs": [],
   "source": []
  },
  {
   "cell_type": "code",
   "execution_count": null,
   "id": "56237d3c-47ac-42d4-8005-b14216fbdbd0",
   "metadata": {},
   "outputs": [],
   "source": []
  },
  {
   "cell_type": "code",
   "execution_count": null,
   "id": "b0da1dce-8420-48cc-afd7-e2fb166e395f",
   "metadata": {},
   "outputs": [],
   "source": []
  },
  {
   "cell_type": "code",
   "execution_count": null,
   "id": "f456789a-acaf-4ab3-94fc-1fa459b000f0",
   "metadata": {},
   "outputs": [],
   "source": []
  },
  {
   "cell_type": "code",
   "execution_count": null,
   "id": "5c0b4e44-25ef-48de-98de-959b9ce3a4d2",
   "metadata": {},
   "outputs": [],
   "source": []
  },
  {
   "cell_type": "code",
   "execution_count": null,
   "id": "4be59d20-764a-49ce-b684-9fa170cc98cb",
   "metadata": {},
   "outputs": [],
   "source": []
  },
  {
   "cell_type": "code",
   "execution_count": null,
   "id": "31e9c8b2-2a59-4169-a73e-4ac88e88ada1",
   "metadata": {},
   "outputs": [],
   "source": []
  },
  {
   "cell_type": "code",
   "execution_count": null,
   "id": "12c7130f-c756-4c75-93a2-9f5fc7656553",
   "metadata": {},
   "outputs": [],
   "source": []
  },
  {
   "cell_type": "code",
   "execution_count": null,
   "id": "e5201bae-1734-4a1b-a7af-01221cc5a9cd",
   "metadata": {},
   "outputs": [],
   "source": []
  },
  {
   "cell_type": "code",
   "execution_count": null,
   "id": "303f182c-efbe-4f10-8de0-edbef6a98140",
   "metadata": {},
   "outputs": [],
   "source": []
  },
  {
   "cell_type": "code",
   "execution_count": null,
   "id": "2aa402e2-dd61-456b-a637-eded224cb2b1",
   "metadata": {},
   "outputs": [],
   "source": []
  },
  {
   "cell_type": "code",
   "execution_count": null,
   "id": "3c114994-68aa-4ae1-996b-116bb2b59061",
   "metadata": {},
   "outputs": [],
   "source": []
  },
  {
   "cell_type": "code",
   "execution_count": 177,
   "id": "f161540a-aa63-42c9-8ffd-f34d3b56a1e6",
   "metadata": {},
   "outputs": [
    {
     "data": {
      "text/plain": [
       "[10, 9, 8, 7, 6, 5, 4, 3, 2]"
      ]
     },
     "execution_count": 177,
     "metadata": {},
     "output_type": "execute_result"
    }
   ],
   "source": [
    "list(range(10, 1, -1))"
   ]
  },
  {
   "cell_type": "code",
   "execution_count": 181,
   "id": "37f2c065-faed-405d-9406-0b558ebe04c2",
   "metadata": {},
   "outputs": [
    {
     "data": {
      "text/plain": [
       "[4, 6, 8, 10, 12, 14, 16, 18, 20, 22, 24, 26, 28]"
      ]
     },
     "execution_count": 181,
     "metadata": {},
     "output_type": "execute_result"
    }
   ],
   "source": [
    "[x*2 for x in range(2,15)]"
   ]
  },
  {
   "cell_type": "code",
   "execution_count": 184,
   "id": "1d74e405-5c17-4bd9-b726-b2b04a0813a8",
   "metadata": {},
   "outputs": [
    {
     "name": "stdout",
     "output_type": "stream",
     "text": [
      "[2 4]\n"
     ]
    }
   ],
   "source": [
    "import numpy as np\n",
    "\n",
    "a = np.array([1,2,3,4])\n",
    "print(a[[False, True, False, True]])"
   ]
  },
  {
   "cell_type": "code",
   "execution_count": 185,
   "id": "bf27a8bd-2848-4a14-b21d-3d1fa1949ca4",
   "metadata": {},
   "outputs": [
    {
     "data": {
      "text/plain": [
       "[1, 2, 3, 1, 2, 3, 1, 2, 3]"
      ]
     },
     "execution_count": 185,
     "metadata": {},
     "output_type": "execute_result"
    }
   ],
   "source": [
    "[1,2,3]*3"
   ]
  },
  {
   "cell_type": "code",
   "execution_count": 190,
   "id": "0482e507-8800-4848-a8c1-4147e3a9991d",
   "metadata": {},
   "outputs": [
    {
     "name": "stdout",
     "output_type": "stream",
     "text": [
      "[6 8]\n"
     ]
    }
   ],
   "source": [
    "import numpy as np\n",
    "\n",
    "table = np.array([[1,8],\n",
    "                  [6,4]])\n",
    "print(table.max(axis = 0))"
   ]
  },
  {
   "cell_type": "code",
   "execution_count": 191,
   "id": "2d660af0-3955-4ca3-8dc3-1c0d8292c077",
   "metadata": {},
   "outputs": [
    {
     "name": "stdout",
     "output_type": "stream",
     "text": [
      "[8 6]\n"
     ]
    }
   ],
   "source": [
    "import numpy as np\n",
    "\n",
    "table = np.array([[1,8],\n",
    "                  [6,4]])\n",
    "print(table.max(axis = 1))"
   ]
  },
  {
   "cell_type": "code",
   "execution_count": 194,
   "id": "0f0c92a6-9101-4722-b945-d13284cf60b5",
   "metadata": {},
   "outputs": [
    {
     "name": "stdout",
     "output_type": "stream",
     "text": [
      "['a', 'b', 'apple']\n"
     ]
    },
    {
     "data": {
      "text/plain": [
       "3"
      ]
     },
     "execution_count": 194,
     "metadata": {},
     "output_type": "execute_result"
    }
   ],
   "source": [
    "y = \"a:b:apple\"\n",
    "\n",
    "c = y.split(':')\n",
    "print(c)\n",
    "len(c)"
   ]
  },
  {
   "cell_type": "code",
   "execution_count": null,
   "id": "d18f97c2-4f7d-4daf-983e-d7d8631ba930",
   "metadata": {},
   "outputs": [],
   "source": []
  }
 ],
 "metadata": {
  "kernelspec": {
   "display_name": "Python 3 (ipykernel)",
   "language": "python",
   "name": "python3"
  },
  "language_info": {
   "codemirror_mode": {
    "name": "ipython",
    "version": 3
   },
   "file_extension": ".py",
   "mimetype": "text/x-python",
   "name": "python",
   "nbconvert_exporter": "python",
   "pygments_lexer": "ipython3",
   "version": "3.9.2"
  }
 },
 "nbformat": 4,
 "nbformat_minor": 5
}
