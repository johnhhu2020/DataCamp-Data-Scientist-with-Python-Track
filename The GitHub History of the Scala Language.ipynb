{
 "cells": [
  {
   "cell_type": "markdown",
   "id": "824d00f0-1165-4657-bd9f-5e76d54d2c8a",
   "metadata": {},
   "source": [
    "## The GitHub History of the Scala Language\n",
    "\n",
    "\n",
    "\n"
   ]
  },
  {
   "cell_type": "markdown",
   "id": "58a43b72-4d43-4303-9a58-638e6f639780",
   "metadata": {},
   "source": [
    "## Project Description\n",
    "\n",
    "Open source projects contain entire development histories, such as who made changes, the changes themselves, and code reviews. In this project, you'll be challenged to read in, clean up, and visualize the real-world project repository of Scala that spans data from a version control system (Git) as well as a project hosting site (GitHub). With almost 30,000 commits and a history spanning over ten years, Scala is a mature language. You will find out who has had the most influence on its development and who are the experts.\n",
    "\n",
    "The dataset includes the project history of Scala retrieved from Git and GitHub as a set of CSV files.\n"
   ]
  },
  {
   "cell_type": "markdown",
   "id": "49552f50-0e0f-476a-b3a3-a93019f34d32",
   "metadata": {},
   "source": [
    "## Project Tasks\n",
    "\n",
    "    1. Scala's real-world project repository data\n",
    "    2. Preparing and cleaning the data\n",
    "    3. Merging the DataFrames\n",
    "    4. Is the project still actively maintained?\n",
    "    5. Is there camaraderie in the project?\n",
    "    6. What files were changed in the last ten pull requests?\n",
    "    7. Who made the most pull requests to a given file?\n",
    "    8. Who made the last ten pull requests on a given file?\n",
    "    9. The pull requests of two special developers\n",
    "    10. Visualizing the contributions of each developer\n",
    "    "
   ]
  },
  {
   "cell_type": "code",
   "execution_count": null,
   "id": "c105ddc1-2d8c-411e-a1d9-a9d9b1e15ccc",
   "metadata": {},
   "outputs": [],
   "source": []
  },
  {
   "cell_type": "markdown",
   "id": "f24d1a27-8cb1-40e8-a6b2-09074f8ffdd9",
   "metadata": {},
   "source": [
    "## 1. Scala's real-world project repository data\n",
    "\n",
    "With almost 30k commits and a history spanning over ten years, Scala is a mature programming language. It is a general-purpose programming language that has recently become another prominent language for data scientists.\n",
    "\n",
    "Scala is also an open source project. Open source projects have the advantage that their entire development histories -- who made changes, what was changed, code reviews, etc. -- are publicly available.\n",
    "\n",
    "We're going to read in, clean up, and visualize the real world project repository of Scala that spans data from a version control system (Git) as well as a project hosting site (GitHub). We will find out who has had the most influence on its development and who are the experts.\n",
    "\n",
    "The dataset we will use, which has been previously mined and extracted from GitHub, is comprised of three files:\n",
    "\n",
    "    'pulls_2011-2013.csv' contains the basic information about the pull requests, and spans from the end of 2011 up to (but not including) 2014.\n",
    "    'pulls_2014-2018.csv' contains identical information, and spans from 2014 up to 2018.\n",
    "    'pull_files.csv' contains the files that were modified by each pull request.\n",
    "\n"
   ]
  },
  {
   "cell_type": "code",
   "execution_count": 2,
   "id": "7640fbda-3ccb-4014-a7fa-3adbf4b82d5c",
   "metadata": {},
   "outputs": [
    {
     "name": "stdout",
     "output_type": "stream",
     "text": [
      "        pid         user                  date\n",
      "0  11166973  VladimirNik  2013-12-31T23:10:55Z\n",
      "1  11161892      Ichoran  2013-12-31T16:55:47Z\n",
      "2  11153894      Ichoran  2013-12-31T02:41:13Z\n",
      "3  11151917      rklaehn  2013-12-30T23:45:47Z\n",
      "4  11131244        qerub  2013-12-29T17:21:01Z\n",
      "(3296, 3)\n",
      "         pid       user                  date\n",
      "0  163314316     hrhino  2018-01-16T23:29:16Z\n",
      "1  163061502   joroKr21  2018-01-15T23:44:52Z\n",
      "2  163057333  mkeskells  2018-01-15T23:05:06Z\n",
      "3  162985594      lrytz  2018-01-15T15:52:39Z\n",
      "4  162838837  zuvizudar  2018-01-14T19:16:16Z\n",
      "(2904, 3)\n",
      "         pid                                   file\n",
      "0  163314316        test/files/pos/t5638/Among.java\n",
      "1  163314316       test/files/pos/t5638/Usage.scala\n",
      "2  163314316             test/files/pos/t9291.scala\n",
      "3  163314316             test/files/run/t8348.check\n",
      "4  163314316  test/files/run/t8348/TableColumn.java\n",
      "(85588, 2)\n"
     ]
    }
   ],
   "source": [
    "import pandas as pd\n",
    "\n",
    "\n",
    "pulls_11_13 = pd.read_csv('pulls_2011-2013.csv')\n",
    "print(pulls_11_13.head())\n",
    "print(pulls_11_13.shape)\n",
    "\n",
    "\n",
    "pulls_14_18 = pd.read_csv('pulls_2014-2018.csv')\n",
    "print(pulls_14_18.head())\n",
    "print(pulls_14_18.shape)\n",
    "\n",
    "\n",
    "\n",
    "pull_files = pd.read_csv('pull_files.csv')\n",
    "print(pull_files.head())\n",
    "print(pull_files.shape)\n"
   ]
  },
  {
   "cell_type": "markdown",
   "id": "7d5abab9-1c7a-4fb8-a28e-b446a0dbb0a4",
   "metadata": {},
   "source": [
    "## 2. Preparing and cleaning the data\n",
    "\n",
    "First, we will need to combine the data from the two separate pull DataFrames.\n",
    "\n",
    "Next, the raw data extracted from GitHub contains dates in the ISO8601 format. However, pandas imports them as regular strings. To make our analysis easier, we need to convert the strings into Python's DateTime objects. DateTime objects have the important property that they can be compared and sorted.\n",
    "\n",
    "The pull request times are all in UTC (also known as Coordinated Universal Time). The commit times, however, are in the local time of the author with time zone information (number of hours difference from UTC). To make comparisons easy, we should convert all times to UTC.\n"
   ]
  },
  {
   "cell_type": "code",
   "execution_count": 3,
   "id": "6354ba2f-4eb1-485a-8216-6f4824f0f982",
   "metadata": {},
   "outputs": [
    {
     "name": "stdout",
     "output_type": "stream",
     "text": [
      "                   date       pid         user\n",
      "0  2013-12-31T23:10:55Z  11166973  VladimirNik\n",
      "1  2013-12-31T16:55:47Z  11161892      Ichoran\n",
      "2  2013-12-31T02:41:13Z  11153894      Ichoran\n",
      "3  2013-12-30T23:45:47Z  11151917      rklaehn\n",
      "4  2013-12-29T17:21:01Z  11131244        qerub\n",
      "(6200, 3)\n",
      "                       date       pid         user\n",
      "0 2013-12-31 23:10:55+00:00  11166973  VladimirNik\n",
      "1 2013-12-31 16:55:47+00:00  11161892      Ichoran\n",
      "2 2013-12-31 02:41:13+00:00  11153894      Ichoran\n",
      "3 2013-12-30 23:45:47+00:00  11151917      rklaehn\n",
      "4 2013-12-29 17:21:01+00:00  11131244        qerub\n",
      "-1 day, 18:59:59.999993\n"
     ]
    }
   ],
   "source": [
    "df = pd.concat([pulls_11_13, pulls_14_18], ignore_index=True, keys='pid', sort=True)\n",
    "                                                            # df.merge() on=,  pd.concat() keys=\n",
    "                                                            #########################################################\n",
    "print(df.head())\n",
    "print(df.shape)\n",
    "\n",
    "\n",
    "df['date'] = pd.to_datetime(df['date'])\n",
    "print(df.head())\n",
    "\n",
    "\n",
    "from datetime import datetime\n",
    "\n",
    "tzone = datetime.today() - datetime.utcnow()\n",
    "print(tzone)\n",
    "\n"
   ]
  },
  {
   "cell_type": "code",
   "execution_count": null,
   "id": "e04599dc-0c7f-4de1-a6fa-6978d72362e1",
   "metadata": {},
   "outputs": [],
   "source": [
    "# Append pulls_one to pulls_two\n",
    "pulls = pulls_one.append(pulls_two)\n",
    "#                 df.append() method can do a outer join, set 'reduice_index=', 'sort='\n",
    "\n",
    "\n",
    "# Convert the date for the pulls object\n",
    "pulls['date'] = pd.to_datetime(pulls['date'],utc = True)\n"
   ]
  },
  {
   "cell_type": "markdown",
   "id": "31302409-041d-4dd0-b670-76ff70467412",
   "metadata": {},
   "source": [
    "## 3. Merging the DataFrames\n",
    "\n",
    "The data extracted comes in two separate files. Merging the two DataFrames will make it easier for us to analyze the data in the future tasks.\n"
   ]
  },
  {
   "cell_type": "code",
   "execution_count": 4,
   "id": "f6e24a83-20a7-4488-a1e7-3e186b6bab23",
   "metadata": {},
   "outputs": [
    {
     "name": "stdout",
     "output_type": "stream",
     "text": [
      "                           date     pid     user  \\\n",
      "50341 2012-01-28 08:00:37+00:00  749717  xeno-by   \n",
      "50340 2012-01-28 08:00:37+00:00  749717  xeno-by   \n",
      "50339 2012-01-29 15:00:00+00:00  751615  xeno-by   \n",
      "50338 2012-01-29 15:00:00+00:00  751615  xeno-by   \n",
      "50330 2012-01-30 12:58:35+00:00  754076   axel22   \n",
      "50332 2012-01-30 12:58:35+00:00  754076   axel22   \n",
      "50331 2012-01-30 12:58:35+00:00  754076   axel22   \n",
      "50334 2012-01-30 12:58:35+00:00  754076   axel22   \n",
      "50337 2012-01-30 12:58:35+00:00  754076   axel22   \n",
      "50335 2012-01-30 12:58:35+00:00  754076   axel22   \n",
      "50336 2012-01-30 12:58:35+00:00  754076   axel22   \n",
      "50333 2012-01-30 12:58:35+00:00  754076   axel22   \n",
      "50329 2012-01-30 13:01:49+00:00  754084   axel22   \n",
      "50328 2012-01-30 15:10:06+00:00  754713  hubertp   \n",
      "50327 2012-01-30 15:10:06+00:00  754713  hubertp   \n",
      "50323 2012-01-31 11:01:39+00:00  759725  xeno-by   \n",
      "50325 2012-01-31 11:01:39+00:00  759725  xeno-by   \n",
      "50326 2012-01-31 11:01:39+00:00  759725  xeno-by   \n",
      "50324 2012-01-31 11:01:39+00:00  759725  xeno-by   \n",
      "50322 2012-02-01 08:31:24+00:00  765439  xeno-by   \n",
      "50321 2012-02-01 08:31:24+00:00  765439  xeno-by   \n",
      "50320 2012-02-01 08:31:24+00:00  765439  xeno-by   \n",
      "50319 2012-02-01 08:31:24+00:00  765439  xeno-by   \n",
      "50312 2012-02-01 08:37:48+00:00  765456  xeno-by   \n",
      "50311 2012-02-01 08:37:48+00:00  765456  xeno-by   \n",
      "50313 2012-02-01 08:37:48+00:00  765456  xeno-by   \n",
      "50317 2012-02-01 08:37:48+00:00  765456  xeno-by   \n",
      "50315 2012-02-01 08:37:48+00:00  765456  xeno-by   \n",
      "50316 2012-02-01 08:37:48+00:00  765456  xeno-by   \n",
      "50318 2012-02-01 08:37:48+00:00  765456  xeno-by   \n",
      "\n",
      "                                                    file  \n",
      "50341  src/compiler/scala/reflect/internal/TreePrinte...  \n",
      "50340  src/compiler/scala/reflect/internal/Symbols.scala  \n",
      "50339                       test/pending/run/t5418.scala  \n",
      "50338                       test/pending/run/t5418.check  \n",
      "50330  src/library/scala/collection/mutable/AVLTree.s...  \n",
      "50332              test/benchmarking/TreeSetInsert.scala  \n",
      "50331  src/library/scala/collection/mutable/TreeSet.s...  \n",
      "50334            test/benchmarking/TreeSetIterator.scala  \n",
      "50337                    test/files/scalacheck/avl.scala  \n",
      "50335              test/benchmarking/TreeSetRemove.scala  \n",
      "50336        test/benchmarking/TreeSetRemoveRandom.scala  \n",
      "50333        test/benchmarking/TreeSetInsertRandom.scala  \n",
      "50329  src/library/scala/collection/immutable/List.scala  \n",
      "50328                         test/files/pos/t4336.scala  \n",
      "50327  src/compiler/scala/tools/nsc/typechecker/Typer...  \n",
      "50323  src/compiler/scala/reflect/internal/Symbols.scala  \n",
      "50325                         test/files/run/t5423.check  \n",
      "50326                         test/files/run/t5423.scala  \n",
      "50324        src/library/scala/reflect/api/Symbols.scala  \n",
      "50322                         test/files/run/t5423.scala  \n",
      "50321                         test/files/run/t5423.check  \n",
      "50320        src/library/scala/reflect/api/Symbols.scala  \n",
      "50319  src/compiler/scala/reflect/internal/Symbols.scala  \n",
      "50312                      test/pending/run/t5427a.scala  \n",
      "50311                      test/pending/run/t5427a.check  \n",
      "50313                      test/pending/run/t5427b.check  \n",
      "50317                      test/pending/run/t5427d.check  \n",
      "50315                      test/pending/run/t5427c.check  \n",
      "50316                      test/pending/run/t5427c.scala  \n",
      "50318                      test/pending/run/t5427d.scala  \n"
     ]
    }
   ],
   "source": [
    "f_df = df.merge(pull_files, on='pid').sort_values('date')\n",
    "\n",
    "print(f_df[1060:1090])"
   ]
  },
  {
   "cell_type": "markdown",
   "id": "9beccbcd-0242-4135-9231-6979d19437f8",
   "metadata": {},
   "source": [
    "## 4. Is the project still actively maintained?\n",
    "\n",
    "The activity in an open source project is not very consistent. Some projects might be active for many years after the initial release, while others can slowly taper out into oblivion. Before committing to contributing to a project, it is important to understand the state of the project. Is development going steadily, or is there a drop? Has the project been abandoned altogether?\n",
    "\n",
    "# The data used in this project was collected in January of 2018. We are interested in the evolution of the number of contributions up to that date.\n",
    "\n",
    "# For Scala, we will do this by plotting a chart of the project's activity. We will calculate the number of pull requests submitted each (calendar) month during the project's lifetime. We will then plot these numbers to see the trend of contributions.\n",
    "\n",
    "    A helpful reminder of how to access various components of a date can be found in this exercise of Data Manipulation with pandas\n",
    "\n",
    "    Additionally, recall that you can group by multiple variables by passing a list to groupby(). This video from Data Manipulation with pandas should help!\n"
   ]
  },
  {
   "cell_type": "markdown",
   "id": "3089b938-163a-440b-8e4d-2d6d56524962",
   "metadata": {},
   "source": [
    "# *******************************************************************************************************************"
   ]
  },
  {
   "cell_type": "code",
   "execution_count": 34,
   "id": "a724ba53-44e6-4f5f-aa7e-3e5a2b02070a",
   "metadata": {},
   "outputs": [
    {
     "name": "stdout",
     "output_type": "stream",
     "text": [
      "            pid\n",
      "date2          \n",
      "2011-12-01   22\n",
      "2011-12-02   29\n",
      "2011-12-03    2\n",
      "2011-12-04   35\n",
      "2011-12-05  119\n",
      "...         ...\n",
      "2018-01-12    4\n",
      "2018-01-13    5\n",
      "2018-01-14    1\n",
      "2018-01-15    6\n",
      "2018-01-16    7\n",
      "\n",
      "[1872 rows x 1 columns]\n"
     ]
    },
    {
     "data": {
      "image/png": "[encoded data removed]",
      "text/plain": [
       "<Figure size 1080x576 with 1 Axes>"
      ]
     },
     "metadata": {
      "needs_background": "light"
     },
     "output_type": "display_data"
    }
   ],
   "source": [
    "import matplotlib.pyplot as plt\n",
    "\n",
    "\n",
    "f_df['date2'] = f_df['date'].dt.date\n",
    "#print(f_df.head())\n",
    "\n",
    "\n",
    "\n",
    "\n",
    "\n",
    "#f_df['ym_group'] = [i.year+i.month for i in f_df['date']]\n",
    "\n",
    "\n",
    "\n",
    "#ff = [i[0:8] for i in f_df['str_date'][:100]]\n",
    "#print(ff)\n",
    "\n",
    "#f_df['date_group'] = pd.DataFrame()\n",
    "#for i in f_df['date']:\n",
    "#    f_df['date_group'].append(str(i.year)+' '+str(i.month))\n",
    "\n",
    "\n",
    "\n",
    "count = f_df.groupby('date2').count()\n",
    "\n",
    "#plt.scatter(x=day_group, y=f_df.groupby('ym_group').count())\n",
    "\n",
    "\n",
    "#print(f_df.groupby('date')['pid'].value_counts())\n",
    "\n",
    "\n",
    "\n",
    "#count.plot(kind='bar', figsize=(12, 8))\n",
    "\n",
    "\n",
    "\n",
    "outcome = f_df.pivot_table(values='pid', index='date2', aggfunc=lambda x: x.count())\n",
    "print(outcome)\n",
    "\n",
    "\n",
    "plt.rcParams['font.size'] = '16'\n",
    "fig = plt.figure(figsize=(15,8))\n",
    "\n",
    "plt.scatter(x=outcome.index, y=outcome['pid'], alpha=0.1)\n",
    "\n",
    "\n",
    "# avg_inv_by_month = inv_jul_thr_sep.groupby(level=0)['total'].mean()\n",
    "\n",
    "plt.ylabel('per_dat_visit_count')\n",
    "plt.title('project_visit_frequency')   # pid count by date\n",
    "\n",
    "plt.show()\n"
   ]
  },
  {
   "cell_type": "code",
   "execution_count": 37,
   "id": "e24d14a8-61c4-40e8-bdd7-acd39a045659",
   "metadata": {},
   "outputs": [
    {
     "data": {
      "image/png": "[encoded data removed]",
      "text/plain": [
       "<Figure size 1080x432 with 1 Axes>"
      ]
     },
     "metadata": {
      "needs_background": "light"
     },
     "output_type": "display_data"
    }
   ],
   "source": [
    "%matplotlib inline\n",
    "\n",
    "\n",
    "# Create a column that will store the month\n",
    "f_df['month'] = f_df['date'].dt.month\n",
    "# ***************************************************************************************************************** #\n",
    "\n",
    "# Create a column that will store the year\n",
    "f_df['year'] = f_df['date'].dt.year\n",
    "\n",
    "\n",
    "\n",
    "# Group by the month and year and count the pull requests\n",
    "counts = f_df.groupby(['year', 'month'])['pid'].count()\n",
    "# ***************************************************************************************************************** #\n",
    "# ***************************************************************************************************************** #\n",
    "\n",
    "\n",
    "# Plot the results\n",
    "counts.plot(kind='bar', figsize = (15,6))\n",
    "plt.show()"
   ]
  },
  {
   "cell_type": "code",
   "execution_count": 45,
   "id": "86063632-ca04-4aeb-95f6-7e3fd3e170df",
   "metadata": {},
   "outputs": [
    {
     "name": "stdout",
     "output_type": "stream",
     "text": [
      "['T', '_AXIS_LEN', '_AXIS_NAMES', '_AXIS_NUMBERS', '_AXIS_ORDERS', '_AXIS_REVERSED', '_AXIS_TO_AXIS_NUMBER', '_HANDLED_TYPES', '__abs__', '__add__', '__and__', '__annotations__', '__array__', '__array_priority__', '__array_ufunc__', '__array_wrap__', '__bool__', '__class__', '__contains__', '__copy__', '__deepcopy__', '__delattr__', '__delitem__', '__dict__', '__dir__', '__divmod__', '__doc__', '__eq__', '__finalize__', '__float__', '__floordiv__', '__format__', '__ge__', '__getattr__', '__getattribute__', '__getitem__', '__getstate__', '__gt__', '__hash__', '__iadd__', '__iand__', '__ifloordiv__', '__imod__', '__imul__', '__init__', '__init_subclass__', '__int__', '__invert__', '__ior__', '__ipow__', '__isub__', '__iter__', '__itruediv__', '__ixor__', '__le__', '__len__', '__long__', '__lt__', '__matmul__', '__mod__', '__module__', '__mul__', '__ne__', '__neg__', '__new__', '__nonzero__', '__or__', '__pos__', '__pow__', '__radd__', '__rand__', '__rdivmod__', '__reduce__', '__reduce_ex__', '__repr__', '__rfloordiv__', '__rmatmul__', '__rmod__', '__rmul__', '__ror__', '__round__', '__rpow__', '__rsub__', '__rtruediv__', '__rxor__', '__setattr__', '__setitem__', '__setstate__', '__sizeof__', '__str__', '__sub__', '__subclasshook__', '__truediv__', '__weakref__', '__xor__', '_accessors', '_accum_func', '_add_numeric_operations', '_agg_by_level', '_agg_examples_doc', '_agg_see_also_doc', '_align_frame', '_align_series', '_arith_method', '_as_manager', '_binop', '_can_hold_na', '_check_inplace_and_allows_duplicate_labels', '_check_inplace_setting', '_check_is_chained_assignment_possible', '_check_label_or_level_ambiguity', '_check_setitem_copy', '_clear_item_cache', '_clip_with_one_bound', '_clip_with_scalar', '_cmp_method', '_consolidate', '_consolidate_inplace', '_construct_axes_dict', '_construct_axes_from_arguments', '_construct_result', '_constructor', '_constructor_expanddim', '_convert', '_convert_dtypes', '_data', '_dir_additions', '_dir_deletions', '_drop_axis', '_drop_labels_or_levels', '_duplicated', '_find_valid_index', '_from_mgr', '_get_axis', '_get_axis_name', '_get_axis_number', '_get_axis_resolvers', '_get_block_manager_axis', '_get_bool_data', '_get_cacher', '_get_cleaned_column_resolvers', '_get_index_resolvers', '_get_label_or_level_values', '_get_numeric_data', '_get_value', '_get_values', '_get_values_tuple', '_get_with', '_gotitem', '_hidden_attrs', '_index', '_indexed_same', '_info_axis', '_info_axis_name', '_info_axis_number', '_init_dict', '_init_mgr', '_inplace_method', '_internal_names', '_internal_names_set', '_is_cached', '_is_copy', '_is_label_or_level_reference', '_is_label_reference', '_is_level_reference', '_is_mixed_type', '_is_view', '_ixs', '_logical_func', '_logical_method', '_map_values', '_maybe_update_cacher', '_memory_usage', '_metadata', '_min_count_stat_function', '_needs_reindex_multi', '_protect_consolidate', '_reduce', '_reindex_axes', '_reindex_indexer', '_reindex_multi', '_reindex_with_indexers', '_replace_single', '_repr_data_resource_', '_repr_latex_', '_reset_cache', '_reset_cacher', '_set_as_cached', '_set_axis', '_set_axis_name', '_set_axis_nocheck', '_set_is_copy', '_set_labels', '_set_name', '_set_value', '_set_values', '_set_with', '_set_with_engine', '_slice', '_stat_axis', '_stat_axis_name', '_stat_axis_number', '_stat_function', '_stat_function_ddof', '_take_with_is_copy', '_typ', '_update_inplace', '_validate_dtype', '_values', '_where', 'abs', 'add', 'add_prefix', 'add_suffix', 'agg', 'aggregate', 'align', 'all', 'any', 'append', 'apply', 'argmax', 'argmin', 'argsort', 'array', 'asfreq', 'asof', 'astype', 'at', 'at_time', 'attrs', 'autocorr', 'axes', 'backfill', 'between', 'between_time', 'bfill', 'bool', 'cat', 'clip', 'combine', 'combine_first', 'compare', 'convert_dtypes', 'copy', 'corr', 'count', 'cov', 'cummax', 'cummin', 'cumprod', 'cumsum', 'describe', 'diff', 'div', 'divide', 'divmod', 'dot', 'drop', 'drop_duplicates', 'droplevel', 'dropna', 'dt', 'dtype', 'dtypes', 'duplicated', 'empty', 'eq', 'equals', 'ewm', 'expanding', 'explode', 'factorize', 'ffill', 'fillna', 'filter', 'first', 'first_valid_index', 'flags', 'floordiv', 'ge', 'get', 'groupby', 'gt', 'hasnans', 'head', 'hist', 'iat', 'idxmax', 'idxmin', 'iloc', 'index', 'infer_objects', 'interpolate', 'is_monotonic', 'is_monotonic_decreasing', 'is_monotonic_increasing', 'is_unique', 'isin', 'isna', 'isnull', 'item', 'items', 'iteritems', 'keys', 'kurt', 'kurtosis', 'last', 'last_valid_index', 'le', 'loc', 'lt', 'mad', 'map', 'mask', 'max', 'mean', 'median', 'memory_usage', 'min', 'mod', 'mode', 'mul', 'multiply', 'name', 'nbytes', 'ndim', 'ne', 'nlargest', 'notna', 'notnull', 'nsmallest', 'nunique', 'pad', 'pct_change', 'pipe', 'plot', 'pop', 'pow', 'prod', 'product', 'quantile', 'radd', 'rank', 'ravel', 'rdiv', 'rdivmod', 'reindex', 'reindex_like', 'rename', 'rename_axis', 'reorder_levels', 'repeat', 'replace', 'resample', 'reset_index', 'rfloordiv', 'rmod', 'rmul', 'rolling', 'round', 'rpow', 'rsub', 'rtruediv', 'sample', 'searchsorted', 'sem', 'set_axis', 'set_flags', 'shape', 'shift', 'size', 'skew', 'slice_shift', 'sort_index', 'sort_values', 'sparse', 'squeeze', 'std', 'str', 'sub', 'subtract', 'sum', 'swapaxes', 'swaplevel', 'tail', 'take', 'to_clipboard', 'to_csv', 'to_dict', 'to_excel', 'to_frame', 'to_hdf', 'to_json', 'to_latex', 'to_list', 'to_markdown', 'to_numpy', 'to_period', 'to_pickle', 'to_sql', 'to_string', 'to_timestamp', 'to_xarray', 'tolist', 'transform', 'transpose', 'truediv', 'truncate', 'tshift', 'tz_convert', 'tz_localize', 'unique', 'unstack', 'update', 'value_counts', 'values', 'var', 'view', 'where', 'xs']\n"
     ]
    }
   ],
   "source": [
    "print(dir(pd.Series))"
   ]
  },
  {
   "cell_type": "code",
   "execution_count": null,
   "id": "d699e565-873f-4406-8402-7f7cd2c26198",
   "metadata": {},
   "outputs": [],
   "source": []
  },
  {
   "cell_type": "code",
   "execution_count": null,
   "id": "34fdcd55-513b-4619-906f-25c025a3e459",
   "metadata": {},
   "outputs": [],
   "source": []
  },
  {
   "cell_type": "code",
   "execution_count": null,
   "id": "98b3b8bb-00be-46f6-b22b-a7715c9cc72a",
   "metadata": {},
   "outputs": [],
   "source": []
  },
  {
   "cell_type": "code",
   "execution_count": null,
   "id": "9e70bcf8-5c8a-4c6b-9d93-cfaec1deac5b",
   "metadata": {},
   "outputs": [],
   "source": []
  },
  {
   "cell_type": "code",
   "execution_count": null,
   "id": "4a5052fd-3596-41a2-b6fd-9f6604dea87d",
   "metadata": {},
   "outputs": [],
   "source": []
  },
  {
   "cell_type": "code",
   "execution_count": null,
   "id": "3fe85c06-5f13-4446-aeb9-52b82cbafdcd",
   "metadata": {},
   "outputs": [],
   "source": []
  },
  {
   "cell_type": "code",
   "execution_count": null,
   "id": "00725e69-802e-4c95-950a-ee47d2890caf",
   "metadata": {},
   "outputs": [],
   "source": []
  },
  {
   "cell_type": "code",
   "execution_count": null,
   "id": "dc396724-bdf7-45c6-ade3-cd973570f969",
   "metadata": {},
   "outputs": [],
   "source": []
  },
  {
   "cell_type": "code",
   "execution_count": null,
   "id": "6188afab-e286-4279-9c3d-81c8cc089d97",
   "metadata": {},
   "outputs": [],
   "source": []
  },
  {
   "cell_type": "code",
   "execution_count": null,
   "id": "a68958c6-7551-495c-a53a-bff3c1e6e6bf",
   "metadata": {},
   "outputs": [],
   "source": []
  },
  {
   "cell_type": "code",
   "execution_count": null,
   "id": "7591c4d1-868e-4353-a3a2-a686c4130e2d",
   "metadata": {},
   "outputs": [],
   "source": []
  },
  {
   "cell_type": "code",
   "execution_count": null,
   "id": "fa3312c9-c6c5-435c-903e-4c0033a42431",
   "metadata": {},
   "outputs": [],
   "source": []
  },
  {
   "cell_type": "code",
   "execution_count": null,
   "id": "735ab5ba-61b3-43f1-a74b-57410f87b569",
   "metadata": {},
   "outputs": [],
   "source": []
  },
  {
   "cell_type": "code",
   "execution_count": null,
   "id": "5d195d78-b2c4-48cd-ad18-af7d3dfabfdf",
   "metadata": {},
   "outputs": [],
   "source": []
  },
  {
   "cell_type": "code",
   "execution_count": null,
   "id": "0daf3b41-d41e-4ac2-95f1-db69cd7847cf",
   "metadata": {},
   "outputs": [],
   "source": []
  },
  {
   "cell_type": "code",
   "execution_count": null,
   "id": "12a0e8b4-35e0-4993-85c7-06ab7a43da86",
   "metadata": {},
   "outputs": [],
   "source": []
  },
  {
   "cell_type": "code",
   "execution_count": null,
   "id": "718b084b-026f-4016-b431-2df85400309b",
   "metadata": {},
   "outputs": [],
   "source": []
  },
  {
   "cell_type": "code",
   "execution_count": null,
   "id": "eddf7458-4523-4d46-a645-807b93ad4444",
   "metadata": {},
   "outputs": [],
   "source": []
  },
  {
   "cell_type": "code",
   "execution_count": null,
   "id": "8adbf4f4-75fa-471b-8211-4aebc0a66ca3",
   "metadata": {},
   "outputs": [],
   "source": []
  },
  {
   "cell_type": "code",
   "execution_count": null,
   "id": "d4f7f19c-3f79-479e-8d95-4f7b0ccc3f17",
   "metadata": {},
   "outputs": [],
   "source": []
  },
  {
   "cell_type": "code",
   "execution_count": null,
   "id": "8bffb611-1ed6-4fae-a7c0-dd218a72be1b",
   "metadata": {},
   "outputs": [],
   "source": []
  },
  {
   "cell_type": "code",
   "execution_count": null,
   "id": "d6b148df-4053-4931-9648-239215b28b39",
   "metadata": {},
   "outputs": [],
   "source": []
  },
  {
   "cell_type": "code",
   "execution_count": null,
   "id": "ba847d62-1027-43a8-bf85-6d5e7fce7d47",
   "metadata": {},
   "outputs": [],
   "source": []
  },
  {
   "cell_type": "code",
   "execution_count": null,
   "id": "6560db08-3f20-4d97-bd3d-dcbb8d108ec1",
   "metadata": {},
   "outputs": [],
   "source": []
  },
  {
   "cell_type": "code",
   "execution_count": null,
   "id": "89c82d8a-4d75-4a74-b4c6-ed94ba797ec6",
   "metadata": {},
   "outputs": [],
   "source": []
  },
  {
   "cell_type": "code",
   "execution_count": null,
   "id": "cf450c85-ac1c-4660-994d-8cd81f45dbdb",
   "metadata": {},
   "outputs": [],
   "source": []
  },
  {
   "cell_type": "code",
   "execution_count": null,
   "id": "2719daff-2efa-4935-a7ee-4caf0d7b2329",
   "metadata": {},
   "outputs": [],
   "source": []
  },
  {
   "cell_type": "code",
   "execution_count": null,
   "id": "8079de0b-420f-47fa-ab48-cd8f7c082769",
   "metadata": {},
   "outputs": [],
   "source": []
  },
  {
   "cell_type": "code",
   "execution_count": null,
   "id": "514a9bb7-dd2e-47ef-8ab6-9d0a5ea05fc3",
   "metadata": {},
   "outputs": [],
   "source": []
  },
  {
   "cell_type": "code",
   "execution_count": null,
   "id": "1f9ece1c-9b68-4364-82c8-4549d235f605",
   "metadata": {},
   "outputs": [],
   "source": []
  },
  {
   "cell_type": "code",
   "execution_count": null,
   "id": "a3a36738-5569-4892-add0-d9d182f97052",
   "metadata": {},
   "outputs": [],
   "source": []
  },
  {
   "cell_type": "code",
   "execution_count": null,
   "id": "23ed1207-a84a-4e80-b2aa-df96218305c9",
   "metadata": {},
   "outputs": [],
   "source": []
  },
  {
   "cell_type": "code",
   "execution_count": null,
   "id": "0e123728-88dd-471a-977a-ee197c32291b",
   "metadata": {},
   "outputs": [],
   "source": []
  },
  {
   "cell_type": "code",
   "execution_count": null,
   "id": "4ee490b5-0eb4-4303-8b4e-7aa5f9a0a4c7",
   "metadata": {},
   "outputs": [],
   "source": []
  },
  {
   "cell_type": "code",
   "execution_count": null,
   "id": "27f416a2-eaa6-40bb-9d38-4c44157b885d",
   "metadata": {},
   "outputs": [],
   "source": []
  },
  {
   "cell_type": "code",
   "execution_count": null,
   "id": "41ebd45f-b6d0-4205-8770-41442347666f",
   "metadata": {},
   "outputs": [],
   "source": []
  },
  {
   "cell_type": "code",
   "execution_count": null,
   "id": "348f77a6-293d-4a79-bc4b-398d9f31ebe8",
   "metadata": {},
   "outputs": [],
   "source": []
  }
 ],
 "metadata": {
  "kernelspec": {
   "display_name": "Python 3 (ipykernel)",
   "language": "python",
   "name": "python3"
  },
  "language_info": {
   "codemirror_mode": {
    "name": "ipython",
    "version": 3
   },
   "file_extension": ".py",
   "mimetype": "text/x-python",
   "name": "python",
   "nbconvert_exporter": "python",
   "pygments_lexer": "ipython3",
   "version": "3.9.2"
  }
 },
 "nbformat": 4,
 "nbformat_minor": 5
}
