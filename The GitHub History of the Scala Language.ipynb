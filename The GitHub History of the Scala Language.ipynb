{
 "cells": [
  {
   "cell_type": "markdown",
   "id": "824d00f0-1165-4657-bd9f-5e76d54d2c8a",
   "metadata": {},
   "source": [
    "## The GitHub History of the Scala Language\n",
    "\n",
    "\n",
    "\n"
   ]
  },
  {
   "cell_type": "markdown",
   "id": "58a43b72-4d43-4303-9a58-638e6f639780",
   "metadata": {},
   "source": [
    "## Project Description\n",
    "\n",
    "Open source projects contain entire development histories, such as who made changes, the changes themselves, and code reviews. In this project, you'll be challenged to read in, clean up, and visualize the real-world project repository of Scala that spans data from a version control system (Git) as well as a project hosting site (GitHub). With almost 30,000 commits and a history spanning over ten years, Scala is a mature language. You will find out who has had the most influence on its development and who are the experts.\n",
    "\n",
    "The dataset includes the project history of Scala retrieved from Git and GitHub as a set of CSV files.\n"
   ]
  },
  {
   "cell_type": "markdown",
   "id": "49552f50-0e0f-476a-b3a3-a93019f34d32",
   "metadata": {},
   "source": [
    "## Project Tasks\n",
    "\n",
    "    1. Scala's real-world project repository data\n",
    "    2. Preparing and cleaning the data\n",
    "    3. Merging the DataFrames\n",
    "    4. Is the project still actively maintained?\n",
    "    5. Is there camaraderie in the project?\n",
    "    6. What files were changed in the last ten pull requests?\n",
    "    7. Who made the most pull requests to a given file?\n",
    "    8. Who made the last ten pull requests on a given file?\n",
    "    9. The pull requests of two special developers\n",
    "    10. Visualizing the contributions of each developer\n",
    "    "
   ]
  },
  {
   "cell_type": "code",
   "execution_count": null,
   "id": "c105ddc1-2d8c-411e-a1d9-a9d9b1e15ccc",
   "metadata": {},
   "outputs": [],
   "source": []
  },
  {
   "cell_type": "markdown",
   "id": "f24d1a27-8cb1-40e8-a6b2-09074f8ffdd9",
   "metadata": {},
   "source": [
    "## 1. Scala's real-world project repository data\n",
    "\n",
    "With almost 30k commits and a history spanning over ten years, Scala is a mature programming language. It is a general-purpose programming language that has recently become another prominent language for data scientists.\n",
    "\n",
    "Scala is also an open source project. Open source projects have the advantage that their entire development histories -- who made changes, what was changed, code reviews, etc. -- are publicly available.\n",
    "\n",
    "We're going to read in, clean up, and visualize the real world project repository of Scala that spans data from a version control system (Git) as well as a project hosting site (GitHub). We will find out who has had the most influence on its development and who are the experts.\n",
    "\n",
    "The dataset we will use, which has been previously mined and extracted from GitHub, is comprised of three files:\n",
    "\n",
    "    'pulls_2011-2013.csv' contains the basic information about the pull requests, and spans from the end of 2011 up to (but not including) 2014.\n",
    "    'pulls_2014-2018.csv' contains identical information, and spans from 2014 up to 2018.\n",
    "    'pull_files.csv' contains the files that were modified by each pull request.\n",
    "\n"
   ]
  },
  {
   "cell_type": "code",
   "execution_count": 3,
   "id": "7640fbda-3ccb-4014-a7fa-3adbf4b82d5c",
   "metadata": {},
   "outputs": [
    {
     "name": "stdout",
     "output_type": "stream",
     "text": [
      "        pid         user                  date\n",
      "0  11166973  VladimirNik  2013-12-31T23:10:55Z\n",
      "1  11161892      Ichoran  2013-12-31T16:55:47Z\n",
      "2  11153894      Ichoran  2013-12-31T02:41:13Z\n",
      "3  11151917      rklaehn  2013-12-30T23:45:47Z\n",
      "4  11131244        qerub  2013-12-29T17:21:01Z\n",
      "         pid       user                  date\n",
      "0  163314316     hrhino  2018-01-16T23:29:16Z\n",
      "1  163061502   joroKr21  2018-01-15T23:44:52Z\n",
      "2  163057333  mkeskells  2018-01-15T23:05:06Z\n",
      "3  162985594      lrytz  2018-01-15T15:52:39Z\n",
      "4  162838837  zuvizudar  2018-01-14T19:16:16Z\n",
      "         pid                                   file\n",
      "0  163314316        test/files/pos/t5638/Among.java\n",
      "1  163314316       test/files/pos/t5638/Usage.scala\n",
      "2  163314316             test/files/pos/t9291.scala\n",
      "3  163314316             test/files/run/t8348.check\n",
      "4  163314316  test/files/run/t8348/TableColumn.java\n"
     ]
    }
   ],
   "source": [
    "import pandas as pd\n",
    "\n",
    "\n",
    "pulls_11_13 = pd.read_csv('pulls_2011-2013.csv')\n",
    "print(pulls_11_13.head())\n",
    "\n",
    "\n",
    "pulls_14_18 = pd.read_csv('pulls_2014-2018.csv')\n",
    "print(pulls_14_18.head())\n",
    "\n",
    "\n",
    "\n",
    "pull_files = pd.read_csv('pull_files.csv')\n",
    "print(pull_files.head())"
   ]
  },
  {
   "cell_type": "markdown",
   "id": "7d5abab9-1c7a-4fb8-a28e-b446a0dbb0a4",
   "metadata": {},
   "source": [
    "## 2. Preparing and cleaning the data\n",
    "\n",
    "First, we will need to combine the data from the two separate pull DataFrames.\n",
    "\n",
    "Next, the raw data extracted from GitHub contains dates in the ISO8601 format. However, pandas imports them as regular strings. To make our analysis easier, we need to convert the strings into Python's DateTime objects. DateTime objects have the important property that they can be compared and sorted.\n",
    "\n",
    "The pull request times are all in UTC (also known as Coordinated Universal Time). The commit times, however, are in the local time of the author with time zone information (number of hours difference from UTC). To make comparisons easy, we should convert all times to UTC.\n"
   ]
  },
  {
   "cell_type": "code",
   "execution_count": null,
   "id": "6354ba2f-4eb1-485a-8216-6f4824f0f982",
   "metadata": {},
   "outputs": [],
   "source": []
  },
  {
   "cell_type": "code",
   "execution_count": null,
   "id": "e04599dc-0c7f-4de1-a6fa-6978d72362e1",
   "metadata": {},
   "outputs": [],
   "source": []
  },
  {
   "cell_type": "code",
   "execution_count": null,
   "id": "7e351921-e56f-4c33-bed2-9fcc0dda040c",
   "metadata": {},
   "outputs": [],
   "source": []
  },
  {
   "cell_type": "code",
   "execution_count": null,
   "id": "f6e24a83-20a7-4488-a1e7-3e186b6bab23",
   "metadata": {},
   "outputs": [],
   "source": []
  },
  {
   "cell_type": "code",
   "execution_count": null,
   "id": "35247ff6-90ad-46ad-8014-104f1d140e9a",
   "metadata": {},
   "outputs": [],
   "source": []
  },
  {
   "cell_type": "code",
   "execution_count": null,
   "id": "a724ba53-44e6-4f5f-aa7e-3e5a2b02070a",
   "metadata": {},
   "outputs": [],
   "source": []
  },
  {
   "cell_type": "code",
   "execution_count": null,
   "id": "86063632-ca04-4aeb-95f6-7e3fd3e170df",
   "metadata": {},
   "outputs": [],
   "source": []
  },
  {
   "cell_type": "code",
   "execution_count": null,
   "id": "d699e565-873f-4406-8402-7f7cd2c26198",
   "metadata": {},
   "outputs": [],
   "source": []
  },
  {
   "cell_type": "code",
   "execution_count": null,
   "id": "34fdcd55-513b-4619-906f-25c025a3e459",
   "metadata": {},
   "outputs": [],
   "source": []
  },
  {
   "cell_type": "code",
   "execution_count": null,
   "id": "98b3b8bb-00be-46f6-b22b-a7715c9cc72a",
   "metadata": {},
   "outputs": [],
   "source": []
  },
  {
   "cell_type": "code",
   "execution_count": null,
   "id": "9e70bcf8-5c8a-4c6b-9d93-cfaec1deac5b",
   "metadata": {},
   "outputs": [],
   "source": []
  },
  {
   "cell_type": "code",
   "execution_count": null,
   "id": "4a5052fd-3596-41a2-b6fd-9f6604dea87d",
   "metadata": {},
   "outputs": [],
   "source": []
  },
  {
   "cell_type": "code",
   "execution_count": null,
   "id": "3fe85c06-5f13-4446-aeb9-52b82cbafdcd",
   "metadata": {},
   "outputs": [],
   "source": []
  },
  {
   "cell_type": "code",
   "execution_count": null,
   "id": "00725e69-802e-4c95-950a-ee47d2890caf",
   "metadata": {},
   "outputs": [],
   "source": []
  },
  {
   "cell_type": "code",
   "execution_count": null,
   "id": "dc396724-bdf7-45c6-ade3-cd973570f969",
   "metadata": {},
   "outputs": [],
   "source": []
  },
  {
   "cell_type": "code",
   "execution_count": null,
   "id": "6188afab-e286-4279-9c3d-81c8cc089d97",
   "metadata": {},
   "outputs": [],
   "source": []
  },
  {
   "cell_type": "code",
   "execution_count": null,
   "id": "a68958c6-7551-495c-a53a-bff3c1e6e6bf",
   "metadata": {},
   "outputs": [],
   "source": []
  },
  {
   "cell_type": "code",
   "execution_count": null,
   "id": "7591c4d1-868e-4353-a3a2-a686c4130e2d",
   "metadata": {},
   "outputs": [],
   "source": []
  },
  {
   "cell_type": "code",
   "execution_count": null,
   "id": "fa3312c9-c6c5-435c-903e-4c0033a42431",
   "metadata": {},
   "outputs": [],
   "source": []
  },
  {
   "cell_type": "code",
   "execution_count": null,
   "id": "735ab5ba-61b3-43f1-a74b-57410f87b569",
   "metadata": {},
   "outputs": [],
   "source": []
  },
  {
   "cell_type": "code",
   "execution_count": null,
   "id": "5d195d78-b2c4-48cd-ad18-af7d3dfabfdf",
   "metadata": {},
   "outputs": [],
   "source": []
  },
  {
   "cell_type": "code",
   "execution_count": null,
   "id": "0daf3b41-d41e-4ac2-95f1-db69cd7847cf",
   "metadata": {},
   "outputs": [],
   "source": []
  },
  {
   "cell_type": "code",
   "execution_count": null,
   "id": "12a0e8b4-35e0-4993-85c7-06ab7a43da86",
   "metadata": {},
   "outputs": [],
   "source": []
  },
  {
   "cell_type": "code",
   "execution_count": null,
   "id": "718b084b-026f-4016-b431-2df85400309b",
   "metadata": {},
   "outputs": [],
   "source": []
  },
  {
   "cell_type": "code",
   "execution_count": null,
   "id": "eddf7458-4523-4d46-a645-807b93ad4444",
   "metadata": {},
   "outputs": [],
   "source": []
  },
  {
   "cell_type": "code",
   "execution_count": null,
   "id": "8adbf4f4-75fa-471b-8211-4aebc0a66ca3",
   "metadata": {},
   "outputs": [],
   "source": []
  },
  {
   "cell_type": "code",
   "execution_count": null,
   "id": "d4f7f19c-3f79-479e-8d95-4f7b0ccc3f17",
   "metadata": {},
   "outputs": [],
   "source": []
  },
  {
   "cell_type": "code",
   "execution_count": null,
   "id": "8bffb611-1ed6-4fae-a7c0-dd218a72be1b",
   "metadata": {},
   "outputs": [],
   "source": []
  },
  {
   "cell_type": "code",
   "execution_count": null,
   "id": "d6b148df-4053-4931-9648-239215b28b39",
   "metadata": {},
   "outputs": [],
   "source": []
  },
  {
   "cell_type": "code",
   "execution_count": null,
   "id": "ba847d62-1027-43a8-bf85-6d5e7fce7d47",
   "metadata": {},
   "outputs": [],
   "source": []
  },
  {
   "cell_type": "code",
   "execution_count": null,
   "id": "6560db08-3f20-4d97-bd3d-dcbb8d108ec1",
   "metadata": {},
   "outputs": [],
   "source": []
  },
  {
   "cell_type": "code",
   "execution_count": null,
   "id": "89c82d8a-4d75-4a74-b4c6-ed94ba797ec6",
   "metadata": {},
   "outputs": [],
   "source": []
  },
  {
   "cell_type": "code",
   "execution_count": null,
   "id": "cf450c85-ac1c-4660-994d-8cd81f45dbdb",
   "metadata": {},
   "outputs": [],
   "source": []
  },
  {
   "cell_type": "code",
   "execution_count": null,
   "id": "2719daff-2efa-4935-a7ee-4caf0d7b2329",
   "metadata": {},
   "outputs": [],
   "source": []
  },
  {
   "cell_type": "code",
   "execution_count": null,
   "id": "8079de0b-420f-47fa-ab48-cd8f7c082769",
   "metadata": {},
   "outputs": [],
   "source": []
  },
  {
   "cell_type": "code",
   "execution_count": null,
   "id": "514a9bb7-dd2e-47ef-8ab6-9d0a5ea05fc3",
   "metadata": {},
   "outputs": [],
   "source": []
  },
  {
   "cell_type": "code",
   "execution_count": null,
   "id": "1f9ece1c-9b68-4364-82c8-4549d235f605",
   "metadata": {},
   "outputs": [],
   "source": []
  },
  {
   "cell_type": "code",
   "execution_count": null,
   "id": "a3a36738-5569-4892-add0-d9d182f97052",
   "metadata": {},
   "outputs": [],
   "source": []
  },
  {
   "cell_type": "code",
   "execution_count": null,
   "id": "23ed1207-a84a-4e80-b2aa-df96218305c9",
   "metadata": {},
   "outputs": [],
   "source": []
  },
  {
   "cell_type": "code",
   "execution_count": null,
   "id": "0e123728-88dd-471a-977a-ee197c32291b",
   "metadata": {},
   "outputs": [],
   "source": []
  },
  {
   "cell_type": "code",
   "execution_count": null,
   "id": "4ee490b5-0eb4-4303-8b4e-7aa5f9a0a4c7",
   "metadata": {},
   "outputs": [],
   "source": []
  },
  {
   "cell_type": "code",
   "execution_count": null,
   "id": "27f416a2-eaa6-40bb-9d38-4c44157b885d",
   "metadata": {},
   "outputs": [],
   "source": []
  },
  {
   "cell_type": "code",
   "execution_count": null,
   "id": "41ebd45f-b6d0-4205-8770-41442347666f",
   "metadata": {},
   "outputs": [],
   "source": []
  },
  {
   "cell_type": "code",
   "execution_count": null,
   "id": "348f77a6-293d-4a79-bc4b-398d9f31ebe8",
   "metadata": {},
   "outputs": [],
   "source": []
  }
 ],
 "metadata": {
  "kernelspec": {
   "display_name": "Python 3 (ipykernel)",
   "language": "python",
   "name": "python3"
  },
  "language_info": {
   "codemirror_mode": {
    "name": "ipython",
    "version": 3
   },
   "file_extension": ".py",
   "mimetype": "text/x-python",
   "name": "python",
   "nbconvert_exporter": "python",
   "pygments_lexer": "ipython3",
   "version": "3.9.2"
  }
 },
 "nbformat": 4,
 "nbformat_minor": 5
}
