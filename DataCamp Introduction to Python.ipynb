{
 "cells": [
  {
   "cell_type": "markdown",
   "id": "35600ba9-a167-4cee-988d-121df328a4c1",
   "metadata": {},
   "source": [
    "# Introduction to Python\n",
    "\n",
    "\n"
   ]
  },
  {
   "cell_type": "markdown",
   "id": "bcd0c50f-577b-4236-9130-9cfbd2f2f82a",
   "metadata": {},
   "source": [
    "## Python Basics\n",
    "Free\n",
    "38%\n",
    "\n",
    "An introduction to the basic concepts of Python. Learn how to use Python interactively and by using a script. Create your first variables and acquaint yourself with Python's basic data types.\n",
    "\n",
    "    Hello Python!    50 xp\n",
    "    The Python Interface    100 xp\n",
    "    When to use Python?    50 xp\n",
    "    Any comments?    100 xp\n",
    "    Python as a calculator    100 xp\n",
    "    Variables and Types    50 xp\n",
    "    Variable Assignment    100 xp\n",
    "    Calculations with variables    100 xp\n",
    "    Other variable types    100 xp\n",
    "    Guess the type    50 xp\n",
    "    Operations with other types    100 xp\n",
    "    Type conversion    100 xp\n",
    "    Can Python handle everything?    50 xp\n"
   ]
  },
  {
   "cell_type": "markdown",
   "id": "c1b30022-7a81-49b3-817f-887ffe974c3e",
   "metadata": {},
   "source": [
    "##  Python Lists\n",
    "Free\n",
    "13%\n",
    "\n",
    "Learn to store, access, and manipulate data in lists: the first step toward efficiently working with huge amounts of data.\n",
    "\n",
    "    Python Lists    50 xp\n",
    "    Create a list    100 xp\n",
    "    Create list with different types    100 xp\n",
    "    Select the valid list    50 xp\n",
    "    List of lists    100 xp\n",
    "    Subsetting Lists    50 xp\n",
    "    Subset and conquer    100 xp\n",
    "    Subset and calculate    100 xp\n",
    "    Slicing and dicing    100 xp\n",
    "    Slicing and dicing (2)    100 xp\n",
    "    Subsetting lists of lists    50 xp\n",
    "    Manipulating Lists    50 xp\n",
    "    Replace list elements    100 xp\n",
    "    Extend a list    100 xp\n",
    "    Delete list elements    50 xp\n",
    "    Inner workings of lists    100 xp\n"
   ]
  },
  {
   "cell_type": "markdown",
   "id": "c6ff703d-c5e7-44da-ba94-6cd630dc0adc",
   "metadata": {},
   "source": [
    "##  Functions and Packages\n",
    "Free\n",
    "25%\n",
    "\n",
    "You'll learn how to use functions, methods, and packages to efficiently leverage the code that brilliant Python developers have written. The goal is to reduce the amount of code you need to solve challenging problems!\n",
    "\n",
    "    Functions    50 xp\n",
    "    Familiar functions    100 xp\n",
    "    Help!    50 xp\n",
    "    Multiple arguments    100 xp\n",
    "    Methods    50 xp\n",
    "    String Methods    100 xp\n",
    "    List Methods    100 xp\n",
    "    List Methods (2)    100 xp\n",
    "    Packages    50 xp\n",
    "    Import package    100 xp\n",
    "    Selective import    100 xp\n",
    "    Different ways of importing    50 xp\n"
   ]
  },
  {
   "cell_type": "markdown",
   "id": "ca9a43fc-31cb-4833-a02e-83a821e1fcbb",
   "metadata": {},
   "source": [
    "##  NumPy\n",
    "Free\n",
    "0%\n",
    "\n",
    "NumPy is a fundamental Python package to efficiently practice data science. Learn to work with powerful tools in the NumPy array, and get started with data exploration.\n",
    "\n",
    "    Numpy    50 xp\n",
    "    Your First NumPy Array    100 xp\n",
    "    Baseball players' height    100 xp\n",
    "    Baseball player's BMI    100 xp\n",
    "    Lightweight baseball players    100 xp\n",
    "    NumPy Side Effects    50 xp\n",
    "    Subsetting NumPy Arrays    100 xp\n",
    "    2D Numpy Arrays    50 xp\n",
    "    Your First 2D NumPy Array    100 xp\n",
    "    Baseball data in 2D form    100 xp\n",
    "    Subsetting 2D NumPy Arrays    100 xp\n",
    "    2D Arithmetic    100 xp\n",
    "    Numpy: Basic Statistics    50 xp\n",
    "    Average versus median    100 xp\n",
    "    Explore the baseball data    100 xp\n",
    "    Blend it all together    100 xp\n"
   ]
  },
  {
   "cell_type": "code",
   "execution_count": null,
   "id": "332cfcf7-23c5-4ecd-a8fd-119e9b783078",
   "metadata": {},
   "outputs": [],
   "source": []
  },
  {
   "cell_type": "markdown",
   "id": "392c2354-4a7c-41e7-b640-d6821d91bfca",
   "metadata": {},
   "source": [
    "## Hello Python!\n",
    "\n",
    "   __General purpose, build anything__\n",
    "   __Open source! Free__\n",
    "   __Python packages, also for data science__\n",
    "   __many applications and fields__\n",
    "\n",
    "\n",
    "**Python was conceived by Guido Van Rossum.  What startedas a hobby project soon became a general purpose programing language.  Nowdays you can use Python to build practically any piece of software.  \n",
    "\n",
    "**First Python is open source, its free to use. \n",
    "**Second its very easy to build packagesin Python, which is the code you can sare with other people to solve specific problems.  Thoughtout time, more and more of these packages specifically built for data science have been developed.  "
   ]
  },
  {
   "cell_type": "markdown",
   "id": "8f2e7d58-efad-4927-8d75-9d68ae5a31eb",
   "metadata": {},
   "source": [
    "## Python script\n",
    "\n",
    "\n",
    "   __Text file - .py__\n",
    "   __List of Python commands__\n",
    "   \n",
    "   \n",
    "   \n",
    "\n",
    "**These Python scripts are just simply text file with the extension .py.  It basically a list of Python commands that are executed, almost as if you are typing the command in the shell yourself, line by line.  \n",
    "\n",
    "**Putting your code in Python scripts instead of manually retyping every step interactively will help you to keep structure and avoid retyping everything over and over again if you want to make a change.  You simply make the change in the script, and rerun the entire thing.  \n",
    "\n",
    "# Get coding and don't forget to have fun.  "
   ]
  },
  {
   "cell_type": "markdown",
   "id": "49520822-9d95-4e0a-aba4-95221410f484",
   "metadata": {},
   "source": [
    "## When to use Python?\n",
    "\n",
    "Python is a pretty versatile language. For which applications can you use Python?\n",
    "Instructions\n",
    "50 XP\n",
    "Possible Answers\n",
    "\n",
    "    You want to do some quick calculations.\n",
    "    For your new business, you want to develop a database-driven website.\n",
    "    Your boss asks you to clean and analyze the results of the latest satisfaction survey.\n",
    "    All of the above."
   ]
  },
  {
   "cell_type": "markdown",
   "id": "c7d5e902-11d4-4390-b1e1-1cabbf021d2b",
   "metadata": {},
   "source": [
    "## Any comments?\n",
    "\n",
    "Something that Hugo didn't mention in his videos is that you can add comments to your Python scripts. Comments are important to make sure that you and others can understand what your code is about.\n",
    "\n",
    "To add comments to your Python script, you can use the # tag. These comments are not run as Python code, so they will not influence your result. As an example, take the comment in the editor, # Division; it is completely ignored during execution.\n",
    "Instructions\n",
    "100 XP\n",
    "\n",
    "Above the print(7 + 10), add the comment\n",
    "\n",
    "# Addition\n"
   ]
  },
  {
   "cell_type": "markdown",
   "id": "1ef1a0a0-5734-4673-83e1-87a765ff3cc1",
   "metadata": {},
   "source": [
    "## Python as a calculator\n",
    "\n",
    "Python is perfectly suited to do basic calculations. Apart from addition, subtraction, multiplication and division, there is also support for more advanced operations such as:\n",
    "\n",
    "    Exponentiation: **. This operator raises the number to its left to the power of the number to its right. For example 4**2 will give 16.\n",
    "    Modulo: %. This operator returns the remainder of the division of the number to the left by the number on its right. For example 18 % 7 equals 4.\n",
    "\n",
    "The code in the script gives some examples.\n",
    "Instructions\n",
    "100 XP\n",
    "\n",
    "Suppose you have $100, which you can invest with a 10% return each year. After one year, it's 100*1.1 = 110 dollars, and after two years it's 100*1.1*1.1 = 121. Add code to calculate how much money you end up with after 7 years, and print the result."
   ]
  },
  {
   "cell_type": "code",
   "execution_count": 1,
   "id": "e6ef9345-16aa-4cb0-bdc6-065b19ac3008",
   "metadata": {},
   "outputs": [
    {
     "name": "stdout",
     "output_type": "stream",
     "text": [
      "10\n",
      "0\n",
      "15\n",
      "5.0\n",
      "4\n",
      "16\n",
      "194.87171000000012\n"
     ]
    }
   ],
   "source": [
    "# Addition, subtraction\n",
    "print(5 + 5)\n",
    "print(5 - 5)\n",
    "\n",
    "# Multiplication, division, modulo, and exponentiation\n",
    "print(3 * 5)\n",
    "print(10 / 2)\n",
    "print(18 % 7)\n",
    "print(4 ** 2)\n",
    "\n",
    "# How much is your $100 worth after 7 years?\n",
    "print(100*1.1**7)"
   ]
  },
  {
   "cell_type": "markdown",
   "id": "c07c81a8-a3e0-4973-b334-7d38329b3978",
   "metadata": {},
   "source": [
    "## Variables and Types\n",
    "\n",
    "\n",
    "   __Specific, case-sensitive name__\n",
    "   __Call up value though variable name__\n",
    "   ____\n",
    "\n",
    "\n",
    "**If you wan to save the values while you coding along.  You can do this by defining a variable, with a specific case-sensitive name.  Once you create or declare such a variable, you can later call up its value by typing the variable name\n",
    "\n"
   ]
  },
  {
   "cell_type": "code",
   "execution_count": 3,
   "id": "9339a9cc-ace3-4737-a255-aed596cd19dd",
   "metadata": {},
   "outputs": [
    {
     "name": "stdout",
     "output_type": "stream",
     "text": [
      "18.870663376397157\n",
      "<class 'float'>\n",
      "True\n",
      "<class 'bool'>\n"
     ]
    }
   ],
   "source": [
    "height = 1.66\n",
    "weight = 52\n",
    "\n",
    "bmi = weight/height**2\n",
    "print(bmi)\n",
    "print(type(bmi))\n",
    "\n",
    "bb = True\n",
    "print(bb)\n",
    "print(type(bb))"
   ]
  },
  {
   "cell_type": "markdown",
   "id": "14c99c94-c3c0-4b7f-bcd2-7598cb2c6c72",
   "metadata": {},
   "source": [
    "## Python Types\n",
    "\n",
    "\n",
    "**String is Python's way to represent text\n",
    "\n",
    "**Booleans will be very useful in the future, to perform filtering operations on your data for example.\n",
    "\n",
    "# There's something special about Python data types.  \n",
    "  **How the code behave depends on the types. "
   ]
  },
  {
   "cell_type": "code",
   "execution_count": 5,
   "id": "3d404b5e-021b-4359-b215-4e0ae9e0cf4d",
   "metadata": {},
   "outputs": [
    {
     "name": "stdout",
     "output_type": "stream",
     "text": [
      "abcABC\n"
     ]
    }
   ],
   "source": [
    "a = 'abc'\n",
    "b = 'ABC'\n",
    "\n",
    "c = a + b\n",
    "print(c)"
   ]
  },
  {
   "cell_type": "markdown",
   "id": "c57d4f1c-eda5-4f3f-8a12-f9f0e93ee4e0",
   "metadata": {},
   "source": [
    "## Variable Assignment\n",
    "\n",
    "In Python, a variable allows you to refer to a value with a name. To create a variable use =, like this example:\n",
    "\n",
    "x = 5\n",
    "\n",
    "You can now use the name of this variable, x, instead of the actual value, 5.\n",
    "\n",
    "# Remember, = in Python means assignment, it doesn't test equality!\n",
    "Instructions\n",
    "100 XP\n",
    "\n",
    "    Create a variable savings with the value 100.\n",
    "    Check out this variable by typing print(savings) in the script.\n"
   ]
  },
  {
   "cell_type": "markdown",
   "id": "cf4bb23a-671b-4510-81b0-25f54b0e21c7",
   "metadata": {},
   "source": [
    "## Calculations with variables\n",
    "\n",
    "Remember how you calculated the money you ended up with after 7 years of investing $100? You did something like this:\n",
    "\n",
    "100 * 1.1 ** 7\n",
    "\n",
    "Instead of calculating with the actual values, you can use variables instead. The savings variable you've created in the previous exercise represents the $100 you started with. It's up to you to create a new variable to represent 1.1 and then redo the calculations!\n",
    "Instructions\n",
    "100 XP\n",
    "\n",
    "    Create a variable growth_multiplier, equal to 1.1.\n",
    "    Create a variable, result, equal to the amount of money you saved after 7 years.\n",
    "    Print out the value of result.\n",
    "\n"
   ]
  },
  {
   "cell_type": "markdown",
   "id": "650319bf-972e-4ff3-91ee-ef3de9599fe4",
   "metadata": {},
   "source": [
    "## Other variable types\n",
    "\n",
    "In the previous exercise, you worked with two Python data types:\n",
    "\n",
    "    int, or integer: a number without a fractional part. savings, with the value 100, is an example of an integer.\n",
    "    float, or floating point: a number that has both an integer and fractional part, separated by a point. growth_multiplier, with the value 1.1, is an example of a float.\n",
    "\n",
    "Next to numerical data types, there are two other very common data types:\n",
    "\n",
    "    str, or string: a type to represent text. You can use single or double quotes to build a string.\n",
    "    bool, or boolean: a type to represent logical values. Can only be True or False (the capitalization is important!).\n",
    "\n",
    "Instructions\n",
    "100 XP\n",
    "\n",
    "    Create a new string, desc, with the value \"compound interest\".\n",
    "    Create a new boolean, profitable, with the value True.\n"
   ]
  },
  {
   "cell_type": "markdown",
   "id": "cca5c617-ff3d-4108-b095-a278fd64edad",
   "metadata": {},
   "source": [
    "## Guess the type\n",
    "\n",
    "To find out the type of a value or a variable that refers to that value, you can use the type() function. Suppose you've defined a variable a, but you forgot the type of this variable. To determine the type of a, simply execute:\n",
    "\n",
    "type(a)\n",
    "\n",
    "We already went ahead and created three variables: a, b and c. You can use the IPython shell to discover their type. Which of the following options is correct?\n",
    "Instructions\n",
    "50 XP\n",
    "Possible Answers\n",
    "\n",
    "    a is of type int, b is of type str, c is of type bool\n",
    "    a is of type float, b is of type bool, c is of type str\n",
    "    a is of type float, b is of type str, c is of type bool\n",
    "    a is of type int, b is of type bool, c is of type str"
   ]
  },
  {
   "cell_type": "markdown",
   "id": "c9ef3249-f921-4bcf-8144-6cc34743bcfe",
   "metadata": {},
   "source": [
    "## Operations with other types\n",
    "\n",
    "Hugo mentioned that different types behave differently in Python.\n",
    "\n",
    "When you sum two strings, for example, you'll get different behavior than when you sum two integers or two booleans.\n",
    "\n",
    "In the script some variables with different types have already been created. It's up to you to use them.\n",
    "Instructions\n",
    "100 XP\n",
    "\n",
    "    Calculate the product of savings and growth_multiplier. Store the result in year1.\n",
    "    What do you think the resulting type will be? Find out by printing out the type of year1.\n",
    "    Calculate the sum of desc and desc and store the result in a new variable doubledesc.\n",
    "    Print out doubledesc. Did you expect this?\n"
   ]
  },
  {
   "cell_type": "markdown",
   "id": "f990ad71-0980-4038-8395-4a618b866d75",
   "metadata": {},
   "source": [
    "## Type conversion\n",
    "\n",
    "Using the + operator to paste together two strings can be very useful in building custom messages.\n",
    "\n",
    "Suppose, for example, that you've calculated the return of your investment and want to summarize the results in a string. Assuming the integer savings and float result are defined, you can try something like this:\n",
    "\n",
    "print(\"I started with $\" + savings + \" and now have $\" + result + \". Awesome!\")\n",
    "\n",
    "# This will not work, though, as you cannot simply sum strings and integers/floats.\n",
    "\n",
    "To fix the error, you'll need to explicitly convert the types of your variables. More specifically, you'll need str(), to convert a value into a string. str(savings), for example, will convert the integer savings to a string.\n",
    "\n",
    "Similar functions such as int(), float() and bool() will help you convert Python values into any type.\n",
    "Instructions\n",
    "100 XP\n",
    "\n",
    "    Hit Run Code to run the code. Try to understand the error message.\n",
    "    Fix the code such that the printout runs without errors; use the function str() to convert the variables to strings.\n",
    "    Convert the variable pi_string to a float and store this float as a new variable, pi_float.\n"
   ]
  },
  {
   "cell_type": "markdown",
   "id": "306cf6ee-0c10-484a-9639-a7ed6f4f2296",
   "metadata": {},
   "source": [
    "## Can Python handle everything?\n",
    "\n",
    "Now that you know something more about combining different sources of information, have a look at the four Python expressions below. Which one of these will throw an error? You can always copy and paste this code in the IPython Shell to find out!\n",
    "Instructions\n",
    "50 XP\n",
    "Possible Answers\n",
    "\n",
    "    \"I can add integers, like \" + str(5) + \" to strings.\"\n",
    "    \"I said \" + (\"Hey \" * 2) + \"Hey!\"\n",
    "    \"The correct answer to this multiple choice exercise is answer number \" + 2\n",
    "    True + False"
   ]
  },
  {
   "cell_type": "markdown",
   "id": "3bdb9616-78ba-433c-ab4a-f43db7589da4",
   "metadata": {},
   "source": [
    "## Python Lists\n",
    "\n",
    "\n",
    "**By now, you've palyed around with different data types, and I hope you've had as much fun as I have. \n",
    "\n",
    "\n",
    "\n",
    "## Python Data Types\n",
    "\n",
    "   __float - real number__\n",
    "   __int - integer number__\n",
    "   __str - string, text__\n",
    "   __bool - True, False__\n",
    "   __each variable represent single value__\n",
    "\n",
    "\n",
    "**On the number side, there is the float, to represent a real number, and the int, to represent an integer.  Next, we also have str, short for string, to represent text in Python, and bool, which can be either True or False.  You can save these values as a variable, like these example show.  Each variable then represents a singlevalue.  As a data scientist, you'll often want to work with many data points.  For example you want to measure the height of everybodyin your family, and storethis information in Python, it would be inconvenient  to create a new Python variable for each point you collected.  \n",
    "\n",
    "**What you can do instead, is store all this information in a Python list.  You can build such list with square brackets[].  Of course, also this data structure can be referenced to with a variable.  \n",
    "**A list is a way to give a single name to a collection of values.  These values or elements, can have any type, bool, str, float even a list.  \n",
    "\n",
    "**Remenber that I told you that each type has specific functionality and behavior associated?  Its also true in list"
   ]
  },
  {
   "cell_type": "markdown",
   "id": "74541c7f-5a0b-4b68-88ce-a8e73644fb67",
   "metadata": {},
   "source": [
    "## Create a list\n",
    "\n",
    "As opposed to int, bool etc., a list is a compound data type; you can group values together:\n",
    "\n",
    "a = \"is\"\n",
    "b = \"nice\"\n",
    "my_list = [\"my\", \"list\", a, b]\n",
    "\n",
    "After measuring the height of your family, you decide to collect some information on the house you're living in. The areas of the different parts of your house are stored in separate variables for now, as shown in the script.\n",
    "Instructions\n",
    "100 XP\n",
    "\n",
    "    Create a list, areas, that contains the area of the hallway (hall), kitchen (kit), living room (liv), bedroom (bed) and bathroom (bath), in this order. Use the predefined variables.\n",
    "    Print areas with the print() function.\n"
   ]
  },
  {
   "cell_type": "markdown",
   "id": "d12beffe-3adc-45b3-aeed-710f5f69d6e4",
   "metadata": {},
   "source": [
    "## Create list with different types\n",
    "\n",
    "A list can contain any Python type. Although it's not really common, a list can also contain a mix of Python types including strings, floats, booleans, etc.\n",
    "\n",
    "The printout of the previous exercise wasn't really satisfying. It's just a list of numbers representing the areas, but you can't tell which area corresponds to which part of your house.\n",
    "\n",
    "The code in the editor is the start of a solution. For some of the areas, the name of the corresponding room is already placed in front. Pay attention here! \"bathroom\" is a string, while bath is a variable that represents the float 9.50 you specified earlier.\n",
    "Instructions\n",
    "100 XP\n",
    "\n",
    "    Finish the code that creates the areas list. Build the list so that the list first contains the name of each room as a string and then its area. In other words, add the strings \"hallway\", \"kitchen\" and \"bedroom\" at the appropriate locations.\n",
    "    Print areas again; is the printout more informative this time?\n"
   ]
  },
  {
   "cell_type": "markdown",
   "id": "19aaced9-6987-4ffb-943b-a64208d675ef",
   "metadata": {},
   "source": [
    "## Select the valid list\n",
    "\n",
    "# A list can contain any Python type. But a list itself is also a Python type. That means that a list can also contain a list! Python is getting funkier by the minute, but fear not, just remember the list syntax:\n",
    "\n",
    "my_list = [el1, el2, el3]\n",
    "\n",
    "Can you tell which ones of the following lines of Python code are valid ways to build a list?\n",
    "\n",
    "A. [1, 3, 4, 2] B. [[1, 2, 3], [4, 5, 7]] C. [1 + 2, \"a\" * 5, 3]\n",
    "Instructions\n",
    "50 XP\n",
    "Possible Answers\n",
    "\n",
    "    A, B and C\n",
    "    B\n",
    "    B and C\n",
    "    C"
   ]
  },
  {
   "cell_type": "markdown",
   "id": "38897238-d2e9-4388-a39a-dc0e3b571b16",
   "metadata": {},
   "source": [
    "## List of lists\n",
    "\n",
    "As a data scientist, you'll often be dealing with a lot of data, and it will make sense to group some of this data.\n",
    "\n",
    "Instead of creating a flat list containing strings and floats, representing the names and areas of the rooms in your house, you can create a list of lists. The script in the editor can already give you an idea.\n",
    "\n",
    "Don't get confused here: \"hallway\" is a string, while hall is a variable that represents the float 11.25 you specified earlier.\n",
    "Instructions\n",
    "100 XP\n",
    "\n",
    "    Finish the list of lists so that it also contains the bedroom and bathroom data. Make sure you enter these in order!\n",
    "    Print out house; does this way of structuring your data make more sense?\n",
    "    Print out the type of house. Are you still dealing with a list?\n"
   ]
  },
  {
   "cell_type": "markdown",
   "id": "dab9a89e-ff82-422a-8e21-83fcd03bf34e",
   "metadata": {},
   "source": [
    "## Subsetting Lists\n",
    "\n",
    "\n",
    "\n",
    "**After created out Python list, we need to know how to access information in the list.  Python uses somethong called indexto do this.  The first element in the list has index 0, second has index 1.  \n",
    "\n",
    "\n",
    "## List clicing\n",
    "\n",
    "**Apart from indexing there is something called slicing, which allows you to select multiple elements from a list, thus creating a new list.  You can do this by specifying a range, using a colon.  \n",
    "\n",
    "    family_height = ['liz', 1.73,  'emma', 1.68,  'mom', 1.71,  'dad', 1.98]\n",
    "    children_height = family_height[0:4]\n",
    "  **In general, this is the syntax, the index you specify before the colon is included, but not the one after it.  \n",
    "\n"
   ]
  },
  {
   "cell_type": "markdown",
   "id": "0475b924-d5e0-49d5-a90d-6227020748b9",
   "metadata": {},
   "source": [
    "## Subset and conquer\n",
    "\n",
    "Subsetting Python lists is a piece of cake. Take the code sample below, which creates a list x and then selects \"b\" from it. Remember that this is the second element, so it has index 1. You can also use negative indexing.\n",
    "\n",
    "x = [\"a\", \"b\", \"c\", \"d\"]\n",
    "x[1]\n",
    "x[-3] # same result!\n",
    "\n",
    "Remember the areas list from before, containing both strings and floats? Its definition is already in the script. Can you add the correct code to do some Python subsetting?\n",
    "Instructions\n",
    "100 XP\n",
    "\n",
    "    Print out the second element from the areas list (it has the value 11.25).\n",
    "    Subset and print out the last element of areas, being 9.50. Using a negative index makes sense here!\n",
    "    Select the number representing the area of the living room (20.0) and print it out.\n"
   ]
  },
  {
   "cell_type": "markdown",
   "id": "6bb5d630-1f56-46f8-8f10-17f59f8bef97",
   "metadata": {},
   "source": [
    "## Subset and calculate\n",
    "\n",
    "After you've extracted values from a list, you can use them to perform additional calculations. Take this example, where the second and fourth element of a list x are extracted. The strings that result are pasted together using the + operator:\n",
    "\n",
    "x = [\"a\", \"b\", \"c\", \"d\"]\n",
    "print(x[1] + x[3])\n",
    "# x[1, 3] through error, TypeError: list indices must be integers or slices, not tuple\n",
    "\n",
    "Instructions\n",
    "100 XP\n",
    "\n",
    "    Using a combination of list subsetting and variable assignment, create a new variable, eat_sleep_area, that contains the sum of the area of the kitchen and the area of the bedroom.\n",
    "    Print the new variable eat_sleep_area.\n"
   ]
  },
  {
   "cell_type": "markdown",
   "id": "2f8aa125-a3fe-406c-a423-21f54315671f",
   "metadata": {},
   "source": [
    "## Slicing and dicing\n",
    "\n",
    "Selecting single values from a list is just one part of the story. It's also possible to slice your list, which means selecting multiple elements from your list. Use the following syntax:\n",
    "\n",
    "my_list[start:end]\n",
    "\n",
    "The start index will be included, while the end index is not.\n",
    "\n",
    "The code sample below shows an example. A list with \"b\" and \"c\", corresponding to indexes 1 and 2, are selected from a list x:\n",
    "\n",
    "x = [\"a\", \"b\", \"c\", \"d\"]\n",
    "x[1:3]\n",
    "\n",
    "The elements with index 1 and 2 are included, while the element with index 3 is not.\n",
    "Instructions\n",
    "100 XP\n",
    "\n",
    "    Use slicing to create a list, downstairs, that contains the first 6 elements of areas.\n",
    "    Do a similar thing to create a new variable, upstairs, that contains the last 4 elements of areas.\n",
    "    Print both downstairs and upstairs using print().\n",
    "\n"
   ]
  },
  {
   "cell_type": "markdown",
   "id": "2072f1e3-a98c-498d-a30d-cdade0e8bde9",
   "metadata": {},
   "source": [
    "## Slicing and dicing (2)\n",
    "\n",
    "In the video, Hugo first discussed the syntax where you specify both where to begin and end the slice of your list:\n",
    "\n",
    "my_list[begin:end]\n",
    "\n",
    "However, it's also possible not to specify these indexes. If you don't specify the begin index, Python figures out that you want to start your slice at the beginning of your list. If you don't specify the end index, the slice will go all the way to the last element of your list. To experiment with this, try the following commands in the IPython Shell:\n",
    "\n",
    "x = [\"a\", \"b\", \"c\", \"d\"]\n",
    "x[:2]\n",
    "x[2:]\n",
    "x[:]\n",
    "\n",
    "Instructions\n",
    "100 XP\n",
    "\n",
    "    Create downstairs again, as the first 6 elements of areas. This time, simplify the slicing by omitting the begin index.\n",
    "    Create upstairs again, as the last 4 elements of areas. This time, simplify the slicing by omitting the end index.\n"
   ]
  },
  {
   "cell_type": "markdown",
   "id": "dda465b6-1f19-4c20-a718-61b30988044b",
   "metadata": {},
   "source": [
    "## Subsetting lists of lists\n",
    "\n",
    "You saw before that a Python list can contain practically anything; even other lists! To subset lists of lists, you can use the same technique as before: square brackets. Try out the commands in the following code sample in the IPython Shell:\n",
    "\n",
    "x = [[\"a\", \"b\", \"c\"],\n",
    "     [\"d\", \"e\", \"f\"],\n",
    "     [\"g\", \"h\", \"i\"]]\n",
    "x[2][0]\n",
    "x[2][:2]\n",
    "\n",
    "x[2] results in a list, that you can subset again by adding additional square brackets.\n",
    "\n",
    "What will house[-1][1] return? house, the list of lists that you created before, is already defined for you in the workspace. You can experiment with it in the IPython Shell.\n",
    "Instructions\n",
    "50 XP\n",
    "Possible Answers\n",
    "\n",
    "    A float: the kitchen area\n",
    "    A string: \"kitchen\"\n",
    "    A float: the bathroom area\n",
    "    A string: \"bathroom\""
   ]
  },
  {
   "cell_type": "markdown",
   "id": "cc74e8ec-1f6c-4e3a-a69a-a95bf598a51c",
   "metadata": {},
   "source": [
    "## Manipulating Lists\n",
    "\n",
    "\n",
    "\n",
    "**So now, after creation and subsetting, the final piece of the Python list puzzle is manipulation.  These are the ways to change your elements in your list, or to add elements to and remove elements from your list.  \n",
    "\n",
    "**Changing list elements is pretty straightforward.  You use the same square brackets that we've used to subset lists, and then assign new elements to it using the equal sign.  \n"
   ]
  },
  {
   "cell_type": "code",
   "execution_count": 46,
   "id": "40318aa1-b61d-486b-ba15-20d442fbcb15",
   "metadata": {},
   "outputs": [
    {
     "name": "stdout",
     "output_type": "stream",
     "text": [
      "['liz', 1.73, 'emma', 1.68, 'mom', 1.71, 'dad', 1.97]\n"
     ]
    }
   ],
   "source": [
    "family_height = ['liz', 1.73,  'emma', 1.68,  'mom', 1.71,  'dad', 1.98]\n",
    "\n",
    "family_height[-1] = 1.97\n",
    "\n",
    "print(family_height)"
   ]
  },
  {
   "cell_type": "markdown",
   "id": "cebb4402-a95c-462f-8ecf-d9c1fbdee202",
   "metadata": {},
   "source": [
    "## Add and removing elements\n",
    "\n",
    "**Do you still remenberhow the plus operator was different for strings and integers?  It also different for lists.  If you use plus sign with two lists, Python simply pastes together their contents in a single list.  \n",
    "\n",
    "**Finally, deleting elements from a list is also pretty straightforward, you have to use del here.  "
   ]
  },
  {
   "cell_type": "code",
   "execution_count": 50,
   "id": "48913aa5-63b9-48df-8bf6-166f3ad23643",
   "metadata": {},
   "outputs": [
    {
     "name": "stdout",
     "output_type": "stream",
     "text": [
      "['liz', 1.73, 'emma', 1.68, 'mom', 1.71, 'dad', 1.97, 'me', 1.66, 'me', 1.66, 'me', 1.66]\n",
      "['liz', 1.73, 'mom', 1.71, 'dad', 1.97, 'me', 1.66, 'me', 1.66, 'me', 1.66]\n"
     ]
    }
   ],
   "source": [
    "family_height = family_height + ['me', 1.66]\n",
    "print(family_height)\n",
    "\n",
    "del family_height[2:4]\n",
    "print(family_height)"
   ]
  },
  {
   "cell_type": "markdown",
   "id": "b204ff5d-d4a8-4c6b-b524-8f958f9d254b",
   "metadata": {},
   "source": [
    "## Behind the scenes\n",
    "\n",
    "\n",
    "\n",
    "**Understanding how Python lists actually work behind the scenes becomes pretty important now.  What actually happends when you create a new list, in a simplified sence, you're storing a list in your computer memory and store the address of that list in x, \n",
    "\n",
    "x = ['a', 32, True, [1, 2, 3]]\n",
    "\n",
    "**This means that x does not actually contain all the list elements, it rather contains a reference to the list.  It becomes more important when you start copying list.  \n",
    "\n",
    "y = x\n",
    "y[0] = 34\n",
    "\n",
    "# x[x] will be changed to 34 as well, that is because when you copied x to y with equal sign, you copied the reference to the list, not the actual values themselves.  \n",
    "\n",
    "**If you want to create a list y that points to a new list in memory with the same values, you'll need something other than the equal sign.  \n",
    "\n",
    "y = list(x)\n",
    "y= x[:]"
   ]
  },
  {
   "cell_type": "markdown",
   "id": "e8294e63-f349-475b-adc6-00b5fd1823cb",
   "metadata": {},
   "source": [
    "## Replace list elements\n",
    "\n",
    "Replacing list elements is pretty easy. Simply subset the list and assign new values to the subset. You can select single elements or you can change entire list slices at once.\n",
    "\n",
    "Use the IPython Shell to experiment with the commands below. Can you tell what's happening and why?\n",
    "\n",
    "x = [\"a\", \"b\", \"c\", \"d\"]\n",
    "x[1] = \"r\"\n",
    "x[2:] = [\"s\", \"t\"]\n",
    "\n",
    "For this and the following exercises, you'll continue working on the areas list that contains the names and areas of different rooms in a house.\n",
    "Instructions\n",
    "100 XP\n",
    "\n",
    "    Update the area of the bathroom area to be 10.50 square meters instead of 9.50.\n",
    "    Make the areas list more trendy! Change \"living room\" to \"chill zone\".\n"
   ]
  },
  {
   "cell_type": "markdown",
   "id": "5c996e3a-0ede-4283-bfed-ea4ebe0e0674",
   "metadata": {},
   "source": [
    "## Extend a list\n",
    "\n",
    "If you can change elements in a list, you sure want to be able to add elements to it, right? You can use the + operator:\n",
    "\n",
    "x = [\"a\", \"b\", \"c\", \"d\"]\n",
    "y = x + [\"e\", \"f\"]\n",
    "\n",
    "You just won the lottery, awesome! You decide to build a poolhouse and a garage. Can you add the information to the areas list?\n",
    "Instructions\n",
    "100 XP\n",
    "\n",
    "    Use the + operator to paste the list [\"poolhouse\", 24.5] to the end of the areas list. Store the resulting list as areas_1.\n",
    "    Further extend areas_1 by adding data on your garage. Add the string \"garage\" and float 15.45. Name the resulting list areas_2.\n"
   ]
  },
  {
   "cell_type": "markdown",
   "id": "60a32433-1024-4f96-a6a9-64c07ea4d392",
   "metadata": {},
   "source": [
    "## Delete list elements\n",
    "\n",
    "Finally, you can also remove elements from your list. You can do this with the del statement:\n",
    "\n",
    "x = [\"a\", \"b\", \"c\", \"d\"]\n",
    "# del(x[1])\n",
    "# or x.pop(1)\n",
    "# ************************************************************************************************** #\n",
    "\n",
    "Pay attention here: as soon as you remove an element from a list, the indexes of the elements that come after the deleted element all change!\n",
    "\n",
    "The updated and extended version of areas that you've built in the previous exercises is coded below. You can copy and paste this into the IPython Shell to play around with the result.\n",
    "\n",
    "areas = [\"hallway\", 11.25, \"kitchen\", 18.0,\n",
    "        \"chill zone\", 20.0, \"bedroom\", 10.75,\n",
    "         \"bathroom\", 10.50, \"poolhouse\", 24.5,\n",
    "         \"garage\", 15.45]\n",
    "\n",
    "There was a mistake! The amount you won with the lottery is not that big after all and it looks like the poolhouse isn't going to happen. You decide to remove the corresponding string and float from the areas list.\n",
    "\n",
    "# ************************************************************************************************** #\n",
    "# The ; sign is used to place commands on the same line. The following two code chunks are equivalent:\n",
    "\n",
    "# Same line\n",
    "command1; command2\n",
    "\n",
    "# Separate lines\n",
    "command1\n",
    "command2\n",
    "\n",
    "Which of the code chunks will do the job for us?\n",
    "Instructions\n",
    "50 XP\n",
    "Possible Answers\n",
    "\n",
    "    del(areas[10]); del(areas[11])\n",
    "    del(areas[10:11])\n",
    "    del(areas[-4:-2])\n",
    "    del(areas[-3]); del(areas[-4])"
   ]
  },
  {
   "cell_type": "markdown",
   "id": "3604396e-ac7e-4d13-9aa9-f7d9e494ba46",
   "metadata": {},
   "source": [
    "## Functions\n",
    "\n",
    "\n",
    "\n",
    "**Once you learn about them you wont be able to stop using them.  Functions.  For example type() is a function that returns the type of a value.  \n",
    "\n",
    "# **Function is a piece of reusable code, aimed at solving a particular task.  You can call functions instead to write the code yourself.  \n",
    "\n"
   ]
  },
  {
   "cell_type": "code",
   "execution_count": 64,
   "id": "0212782f-d94d-479f-8b38-c633fddea7e4",
   "metadata": {},
   "outputs": [
    {
     "name": "stdout",
     "output_type": "stream",
     "text": [
      "1.89\n",
      "1.89\n",
      "1.89\n"
     ]
    }
   ],
   "source": [
    "family_height = [1.73, 1.68, 1.71, 1.89, 1.76]\n",
    "\n",
    "# *************************************************************************************************** #\n",
    "max_h = family_height[0]\n",
    "for i in family_height:\n",
    "    if max_h < i:\n",
    "        max_h = i\n",
    "print(max_h)\n",
    "\n",
    "max_h = 0\n",
    "for i in family_height:\n",
    "    if i > max_h:\n",
    "        max_h = i\n",
    "print(max_h)\n",
    "\n",
    "print(max(family_height))"
   ]
  },
  {
   "cell_type": "markdown",
   "id": "c3093587-2b64-473a-add6-f5c7bd581236",
   "metadata": {},
   "source": [
    "**Anothe one of these build-in functions is round().  It takes two inputs, first, the number you want to round, second, the precision with wich to round, which is how many digits behind the decimal point you want to keep.  \n",
    "\n",
    "# **In Python, these inputs also called arguments, have names, number and ndigits.  "
   ]
  },
  {
   "cell_type": "code",
   "execution_count": 70,
   "id": "206b79aa-e2af-40ed-a0bf-801752598966",
   "metadata": {},
   "outputs": [
    {
     "name": "stdout",
     "output_type": "stream",
     "text": [
      "1\n",
      "1.45\n",
      "Help on built-in function round in module builtins:\n",
      "\n",
      "round(number, ndigits=None)\n",
      "    Round a number to a given precision in decimal digits.\n",
      "    \n",
      "    The return value is an integer if ndigits is omitted or None.  Otherwise\n",
      "    the return value has the same type as the number.  ndigits may be negative.\n",
      "\n",
      "None\n"
     ]
    }
   ],
   "source": [
    "print(round(1.48))\n",
    "\n",
    "print(round(1.449, 2))\n",
    "\n",
    "print(help(round))\n",
    "\n",
    "#print(round.__doc__)"
   ]
  },
  {
   "cell_type": "markdown",
   "id": "1cd1565c-b1ef-4d7a-8f0c-211c42cf11c2",
   "metadata": {},
   "source": [
    "## Familiar functions\n",
    "\n",
    "Out of the box, Python offers a bunch of built-in functions to make your life as a data scientist easier. You already know two such functions: print() and type(). You've also used the functions str(), int(), bool() and float() to switch between data types. These are built-in functions as well.\n",
    "\n",
    "Calling a function is easy. To get the type of 3.0 and store the output as a new variable, result, you can use the following:\n",
    "\n",
    "result = type(3.0)\n",
    "\n",
    "The general recipe for calling functions and saving the result to a variable is thus:\n",
    "\n",
    "output = function_name(input)\n",
    "\n",
    "Instructions\n",
    "100 XP\n",
    "\n",
    "    Use print() in combination with type() to print out the type of var1.\n",
    "    Use len() to get the length of the list var1. Wrap it in a print() call to directly print it out.\n",
    "    Use int() to convert var2 to an integer. Store the output as out2.\n"
   ]
  },
  {
   "cell_type": "markdown",
   "id": "41a15377-db4e-4b08-bf83-c53ced926343",
   "metadata": {},
   "source": [
    "## Help!\n",
    "\n",
    "Maybe you already know the name of a Python function, but you still have to figure out how to use it. Ironically, you have to ask for information about a function with another function: help(). In IPython specifically, you can also use ? before the function name.\n",
    "\n",
    "To get help on the max() function, for example, you can use one of these calls:\n",
    "\n",
    "help(max)\n",
    "?max\n",
    "\n",
    "Use the Shell to open up the documentation on complex(). Which of the following statements is true?\n",
    "Instructions\n",
    "50 XP\n",
    "Possible Answers\n",
    "\n",
    "    complex() takes exactly two arguments: real and [, imag].\n",
    "    complex() takes two arguments: real and imag. Both these arguments are required.\n",
    "    complex() takes two arguments: real and imag. real is a required argument, imag is an optional argument.\n",
    "    complex() takes two arguments: real and imag. If you don't specify imag, it is set to 1 by Python.\n",
    "    \n",
    "    \n",
    "In [1]:\n",
    "?max\n",
    "Docstring:\n",
    "max(iterable, *[, default=obj, key=func]) -> value\n",
    "max(arg1, arg2, *args, *[, key=func]) -> value\n",
    "\n",
    "With a single iterable argument, return its biggest item. The\n",
    "default keyword-only argument specifies an object to return if\n",
    "the provided iterable is empty.\n",
    "With two or more arguments, return the largest argument.\n",
    "Type:      builtin_function_or_method\n",
    "\n",
    "\n",
    "In [1]:\n",
    "?complex\n",
    "Init signature: complex(self, /, *args, **kwargs)\n",
    "Docstring:\n",
    "complex(real[, imag]) -> complex number\n",
    "\n",
    "Create a complex number from a real part and an optional imaginary part.\n",
    "This is equivalent to (real + imag*1j) where imag defaults to 0.\n",
    "Type:           type"
   ]
  },
  {
   "cell_type": "markdown",
   "id": "d8bdad50-aeb9-4143-803d-7bbca2398099",
   "metadata": {},
   "source": [
    "## Multiple arguments\n",
    "\n",
    "# In the previous exercise, the square brackets around imag in the documentation showed us that the imag argument is optional. But Python also uses a different way to tell users about arguments being optional.\n",
    "\n",
    "Have a look at the documentation of sorted() by typing help(sorted) in the IPython Shell.\n",
    "\n",
    "You'll see that sorted() takes three arguments: iterable, key and reverse.\n",
    "\n",
    "# key=None means that if you don't specify the key argument, it will be None. reverse=False means that if you don't specify the reverse argument, it will be False.\n",
    "\n",
    "In this exercise, you'll only have to specify iterable and reverse, not key. The first input you pass to sorted() will be matched to the iterable argument, but what about the second input? To tell Python you want to specify reverse without changing anything about key, you can use =:\n",
    "\n",
    "sorted(___, reverse = ___)\n",
    "\n",
    "Two lists have been created for you in the editor. Can you paste them together and sort them in descending order?\n",
    "\n",
    "Note: For now, we can understand an iterable as being any collection of objects, e.g. a List.\n",
    "Instructions\n",
    "100 XP\n",
    "\n",
    "    Use + to merge the contents of first and second into a new list: full.\n",
    "    Call sorted() on full and specify the reverse argument to be True. Save the sorted list as full_sorted.\n",
    "    Finish off by printing out full_sorted.\n",
    "\n",
    "\n",
    "In [2]:\n",
    "?sorted\n",
    "Signature: sorted(iterable, /, *, key=None, reverse=False)\n",
    "Docstring:\n",
    "Return a new list containing all items from the iterable in ascending order.\n",
    "\n",
    "A custom key function can be supplied to customize the sort order, and the\n",
    "reverse flag can be set to request the result in descending order.\n",
    "Type:      builtin_function_or_method"
   ]
  },
  {
   "cell_type": "markdown",
   "id": "e65f3084-ad62-4a97-95bc-4c182d5303f7",
   "metadata": {},
   "source": [
    "## Methods\n",
    "\n",
    "\n",
    "\n",
    "**Build in functions are only one part of Python story.  \n",
    "\n",
    "# IN addition to this, Python objects also some with a bunch of so-called methods.  \n",
    "# You can think of methods as functions that belong to Python objects.  \n",
    "\n",
    "**A Python object of type string has methods, such as capitalize() and replace(), but also objects of type float and list have specific methods depending on the type.  \n",
    "\n",
    "**To call the method, you use the dot notation, the only input is the element you want to get the index for.  "
   ]
  },
  {
   "cell_type": "code",
   "execution_count": 74,
   "id": "ac589c2c-26ed-4b52-b291-d82ee72be67e",
   "metadata": {},
   "outputs": [
    {
     "data": {
      "text/plain": [
       "['__abs__',\n",
       " '__add__',\n",
       " '__bool__',\n",
       " '__ceil__',\n",
       " '__class__',\n",
       " '__delattr__',\n",
       " '__dir__',\n",
       " '__divmod__',\n",
       " '__doc__',\n",
       " '__eq__',\n",
       " '__float__',\n",
       " '__floor__',\n",
       " '__floordiv__',\n",
       " '__format__',\n",
       " '__ge__',\n",
       " '__getattribute__',\n",
       " '__getformat__',\n",
       " '__getnewargs__',\n",
       " '__gt__',\n",
       " '__hash__',\n",
       " '__init__',\n",
       " '__init_subclass__',\n",
       " '__int__',\n",
       " '__le__',\n",
       " '__lt__',\n",
       " '__mod__',\n",
       " '__mul__',\n",
       " '__ne__',\n",
       " '__neg__',\n",
       " '__new__',\n",
       " '__pos__',\n",
       " '__pow__',\n",
       " '__radd__',\n",
       " '__rdivmod__',\n",
       " '__reduce__',\n",
       " '__reduce_ex__',\n",
       " '__repr__',\n",
       " '__rfloordiv__',\n",
       " '__rmod__',\n",
       " '__rmul__',\n",
       " '__round__',\n",
       " '__rpow__',\n",
       " '__rsub__',\n",
       " '__rtruediv__',\n",
       " '__set_format__',\n",
       " '__setattr__',\n",
       " '__sizeof__',\n",
       " '__str__',\n",
       " '__sub__',\n",
       " '__subclasshook__',\n",
       " '__truediv__',\n",
       " '__trunc__',\n",
       " 'as_integer_ratio',\n",
       " 'conjugate',\n",
       " 'fromhex',\n",
       " 'hex',\n",
       " 'imag',\n",
       " 'is_integer',\n",
       " 'real']"
      ]
     },
     "execution_count": 74,
     "metadata": {},
     "output_type": "execute_result"
    }
   ],
   "source": [
    "a = 1.76\n",
    "\n",
    "dir(a)\n",
    "#dir(float)"
   ]
  },
  {
   "cell_type": "code",
   "execution_count": 90,
   "id": "f6e66318-decd-4c5c-bd25-de9099e0991d",
   "metadata": {},
   "outputs": [
    {
     "data": {
      "text/plain": [
       "['__add__',\n",
       " '__class__',\n",
       " '__class_getitem__',\n",
       " '__contains__',\n",
       " '__delattr__',\n",
       " '__delitem__',\n",
       " '__dir__',\n",
       " '__doc__',\n",
       " '__eq__',\n",
       " '__format__',\n",
       " '__ge__',\n",
       " '__getattribute__',\n",
       " '__getitem__',\n",
       " '__gt__',\n",
       " '__hash__',\n",
       " '__iadd__',\n",
       " '__imul__',\n",
       " '__init__',\n",
       " '__init_subclass__',\n",
       " '__iter__',\n",
       " '__le__',\n",
       " '__len__',\n",
       " '__lt__',\n",
       " '__mul__',\n",
       " '__ne__',\n",
       " '__new__',\n",
       " '__reduce__',\n",
       " '__reduce_ex__',\n",
       " '__repr__',\n",
       " '__reversed__',\n",
       " '__rmul__',\n",
       " '__setattr__',\n",
       " '__setitem__',\n",
       " '__sizeof__',\n",
       " '__str__',\n",
       " '__subclasshook__',\n",
       " 'append',\n",
       " 'clear',\n",
       " 'copy',\n",
       " 'count',\n",
       " 'extend',\n",
       " 'index',\n",
       " 'insert',\n",
       " 'pop',\n",
       " 'remove',\n",
       " 'reverse',\n",
       " 'sort']"
      ]
     },
     "execution_count": 90,
     "metadata": {},
     "output_type": "execute_result"
    }
   ],
   "source": [
    "family_height = ['liz', 1.73,  'emma', 1.68,  'mom', 1.71,  'dad', 1.98]\n",
    "\n",
    "dir(family_height)"
   ]
  },
  {
   "cell_type": "code",
   "execution_count": 91,
   "id": "12f119e1-11b3-4712-8759-ca55ac9332a3",
   "metadata": {},
   "outputs": [
    {
     "data": {
      "text/plain": [
       "\u001b[0;31mSignature:\u001b[0m \u001b[0mfamily_height\u001b[0m\u001b[0;34m.\u001b[0m\u001b[0mcount\u001b[0m\u001b[0;34m(\u001b[0m\u001b[0mvalue\u001b[0m\u001b[0;34m,\u001b[0m \u001b[0;34m/\u001b[0m\u001b[0;34m)\u001b[0m\u001b[0;34m\u001b[0m\u001b[0;34m\u001b[0m\u001b[0m\n",
       "\u001b[0;31mDocstring:\u001b[0m Return number of occurrences of value.\n",
       "\u001b[0;31mType:\u001b[0m      builtin_function_or_method\n"
      ]
     },
     "metadata": {},
     "output_type": "display_data"
    }
   ],
   "source": [
    "?family_height.count"
   ]
  },
  {
   "cell_type": "code",
   "execution_count": 77,
   "id": "c898cbdf-8f11-4b40-8797-6c5f0d0b4506",
   "metadata": {},
   "outputs": [
    {
     "name": "stdout",
     "output_type": "stream",
     "text": [
      "Return first index of value.\n",
      "\n",
      "Raises ValueError if the value is not present.\n"
     ]
    }
   ],
   "source": [
    "family_height = ['liz', 1.73,  'emma', 1.68,  'mom', 1.71,  'dad', 1.98]\n",
    "\n",
    "dir(family_height)\n",
    "\n",
    "print(family_height.index.__doc__)"
   ]
  },
  {
   "cell_type": "code",
   "execution_count": 79,
   "id": "948a7cbd-73ea-476b-962c-f5db2da185ea",
   "metadata": {},
   "outputs": [
    {
     "data": {
      "text/plain": [
       "\u001b[0;31mSignature:\u001b[0m \u001b[0mfamily_height\u001b[0m\u001b[0;34m.\u001b[0m\u001b[0mindex\u001b[0m\u001b[0;34m(\u001b[0m\u001b[0mvalue\u001b[0m\u001b[0;34m,\u001b[0m \u001b[0mstart\u001b[0m\u001b[0;34m=\u001b[0m\u001b[0;36m0\u001b[0m\u001b[0;34m,\u001b[0m \u001b[0mstop\u001b[0m\u001b[0;34m=\u001b[0m\u001b[0;36m9223372036854775807\u001b[0m\u001b[0;34m,\u001b[0m \u001b[0;34m/\u001b[0m\u001b[0;34m)\u001b[0m\u001b[0;34m\u001b[0m\u001b[0;34m\u001b[0m\u001b[0m\n",
       "\u001b[0;31mDocstring:\u001b[0m\n",
       "Return first index of value.\n",
       "\n",
       "Raises ValueError if the value is not present.\n",
       "\u001b[0;31mType:\u001b[0m      builtin_function_or_method\n"
      ]
     },
     "metadata": {},
     "output_type": "display_data"
    }
   ],
   "source": [
    "?family_height.index"
   ]
  },
  {
   "cell_type": "markdown",
   "id": "9f10ee9e-8742-4036-9898-6a20e8bba6c9",
   "metadata": {},
   "source": [
    "# To call the method, you use the dot notation, the only input is the element you want to get the index for.  You can call methods on the objects with dot notation\n"
   ]
  },
  {
   "cell_type": "code",
   "execution_count": 86,
   "id": "a48ed14a-ebaf-4645-93b9-14a19c3bedaa",
   "metadata": {},
   "outputs": [
    {
     "ename": "ValueError",
     "evalue": "1 is not in list",
     "output_type": "error",
     "traceback": [
      "\u001b[0;31m---------------------------------------------------------------------------\u001b[0m",
      "\u001b[0;31mValueError\u001b[0m                                Traceback (most recent call last)",
      "\u001b[0;32m/tmp/ipykernel_2053/2354920400.py\u001b[0m in \u001b[0;36m<module>\u001b[0;34m\u001b[0m\n\u001b[0;32m----> 1\u001b[0;31m \u001b[0mfamily_height\u001b[0m\u001b[0;34m.\u001b[0m\u001b[0mindex\u001b[0m\u001b[0;34m(\u001b[0m\u001b[0;36m1\u001b[0m\u001b[0;34m)\u001b[0m\u001b[0;34m\u001b[0m\u001b[0;34m\u001b[0m\u001b[0m\n\u001b[0m",
      "\u001b[0;31mValueError\u001b[0m: 1 is not in list"
     ]
    }
   ],
   "source": [
    "family_height.index(1)"
   ]
  },
  {
   "cell_type": "code",
   "execution_count": 87,
   "id": "3eb38528-2558-4c83-b891-5953fee81219",
   "metadata": {},
   "outputs": [
    {
     "data": {
      "text/plain": [
       "4"
      ]
     },
     "execution_count": 87,
     "metadata": {},
     "output_type": "execute_result"
    }
   ],
   "source": [
    "family_height.index('mom')"
   ]
  },
  {
   "cell_type": "code",
   "execution_count": 92,
   "id": "3217e197-1919-48eb-8690-91f0b390e78f",
   "metadata": {},
   "outputs": [
    {
     "data": {
      "text/plain": [
       "\u001b[0;31mSignature:\u001b[0m \u001b[0mfamily_height\u001b[0m\u001b[0;34m.\u001b[0m\u001b[0mcount\u001b[0m\u001b[0;34m(\u001b[0m\u001b[0mvalue\u001b[0m\u001b[0;34m,\u001b[0m \u001b[0;34m/\u001b[0m\u001b[0;34m)\u001b[0m\u001b[0;34m\u001b[0m\u001b[0;34m\u001b[0m\u001b[0m\n",
       "\u001b[0;31mDocstring:\u001b[0m Return number of occurrences of value.\n",
       "\u001b[0;31mType:\u001b[0m      builtin_function_or_method\n"
      ]
     },
     "metadata": {},
     "output_type": "display_data"
    }
   ],
   "source": [
    "?family_height.count"
   ]
  },
  {
   "cell_type": "code",
   "execution_count": 89,
   "id": "8691f1dc-5048-43c0-9300-b59fce6d84ef",
   "metadata": {},
   "outputs": [
    {
     "data": {
      "text/plain": [
       "1"
      ]
     },
     "execution_count": 89,
     "metadata": {},
     "output_type": "execute_result"
    }
   ],
   "source": [
    "family_height.count('mom')"
   ]
  },
  {
   "cell_type": "code",
   "execution_count": 93,
   "id": "e0188935-2298-423e-9a98-8fd6d02ea35a",
   "metadata": {},
   "outputs": [
    {
     "data": {
      "text/plain": [
       "['__add__',\n",
       " '__class__',\n",
       " '__contains__',\n",
       " '__delattr__',\n",
       " '__dir__',\n",
       " '__doc__',\n",
       " '__eq__',\n",
       " '__format__',\n",
       " '__ge__',\n",
       " '__getattribute__',\n",
       " '__getitem__',\n",
       " '__getnewargs__',\n",
       " '__gt__',\n",
       " '__hash__',\n",
       " '__init__',\n",
       " '__init_subclass__',\n",
       " '__iter__',\n",
       " '__le__',\n",
       " '__len__',\n",
       " '__lt__',\n",
       " '__mod__',\n",
       " '__mul__',\n",
       " '__ne__',\n",
       " '__new__',\n",
       " '__reduce__',\n",
       " '__reduce_ex__',\n",
       " '__repr__',\n",
       " '__rmod__',\n",
       " '__rmul__',\n",
       " '__setattr__',\n",
       " '__sizeof__',\n",
       " '__str__',\n",
       " '__subclasshook__',\n",
       " 'capitalize',\n",
       " 'casefold',\n",
       " 'center',\n",
       " 'count',\n",
       " 'encode',\n",
       " 'endswith',\n",
       " 'expandtabs',\n",
       " 'find',\n",
       " 'format',\n",
       " 'format_map',\n",
       " 'index',\n",
       " 'isalnum',\n",
       " 'isalpha',\n",
       " 'isascii',\n",
       " 'isdecimal',\n",
       " 'isdigit',\n",
       " 'isidentifier',\n",
       " 'islower',\n",
       " 'isnumeric',\n",
       " 'isprintable',\n",
       " 'isspace',\n",
       " 'istitle',\n",
       " 'isupper',\n",
       " 'join',\n",
       " 'ljust',\n",
       " 'lower',\n",
       " 'lstrip',\n",
       " 'maketrans',\n",
       " 'partition',\n",
       " 'removeprefix',\n",
       " 'removesuffix',\n",
       " 'replace',\n",
       " 'rfind',\n",
       " 'rindex',\n",
       " 'rjust',\n",
       " 'rpartition',\n",
       " 'rsplit',\n",
       " 'rstrip',\n",
       " 'split',\n",
       " 'splitlines',\n",
       " 'startswith',\n",
       " 'strip',\n",
       " 'swapcase',\n",
       " 'title',\n",
       " 'translate',\n",
       " 'upper',\n",
       " 'zfill']"
      ]
     },
     "execution_count": 93,
     "metadata": {},
     "output_type": "execute_result"
    }
   ],
   "source": [
    "sister = 'liz'\n",
    "\n",
    "dir(sister)"
   ]
  },
  {
   "cell_type": "code",
   "execution_count": 94,
   "id": "f7f1e116-75e0-4520-9ed9-6dcf32fd4a03",
   "metadata": {},
   "outputs": [
    {
     "data": {
      "text/plain": [
       "\u001b[0;31mSignature:\u001b[0m \u001b[0msister\u001b[0m\u001b[0;34m.\u001b[0m\u001b[0mcapitalize\u001b[0m\u001b[0;34m(\u001b[0m\u001b[0;34m)\u001b[0m\u001b[0;34m\u001b[0m\u001b[0;34m\u001b[0m\u001b[0m\n",
       "\u001b[0;31mDocstring:\u001b[0m\n",
       "Return a capitalized version of the string.\n",
       "\n",
       "More specifically, make the first character have upper case and the rest lower\n",
       "case.\n",
       "\u001b[0;31mType:\u001b[0m      builtin_function_or_method\n"
      ]
     },
     "metadata": {},
     "output_type": "display_data"
    }
   ],
   "source": [
    "?sister.capitalize"
   ]
  },
  {
   "cell_type": "code",
   "execution_count": 96,
   "id": "0c84a7b5-0545-4b18-9b79-ba4ec1ee165c",
   "metadata": {},
   "outputs": [
    {
     "name": "stdout",
     "output_type": "stream",
     "text": [
      "Liz\n"
     ]
    }
   ],
   "source": [
    "print(sister.capitalize())"
   ]
  },
  {
   "cell_type": "markdown",
   "id": "4f4d3bef-a134-4b1a-bdf1-c0520b2e5737",
   "metadata": {},
   "source": [
    "## To be absolutely clear: in Python, everything is an object, and each object has specific methods associated.  Also depending on the type of the object, the methods behave differently.  \n",
    "\n",
    "\n",
    "\n",
    "# Some method can change the objects they are called on.  "
   ]
  },
  {
   "cell_type": "code",
   "execution_count": 99,
   "id": "db4c633b-9f2a-4c8c-b013-933d23d2e48a",
   "metadata": {},
   "outputs": [
    {
     "name": "stdout",
     "output_type": "stream",
     "text": [
      "['liz', 1.73, 'emma', 1.68, 'mom', 1.71, 'dad', 1.98, 'jh']\n"
     ]
    }
   ],
   "source": [
    "family_height = ['liz', 1.73,  'emma', 1.68,  'mom', 1.71,  'dad', 1.98]\n",
    "\n",
    "#dir(family_height)\n",
    "family_height.append('jh')   # The family_height list was extended\n",
    "\n",
    "print(family_height)"
   ]
  },
  {
   "cell_type": "markdown",
   "id": "f2fa743f-206f-4672-a68a-81ef6c3e9bd3",
   "metadata": {},
   "source": [
    "## Some method calls dont change the object they've called on, while others do.   \n",
    "\n",
    "**list object .index() method just looking element index for you, while list object .append() method add new element into your list.  "
   ]
  },
  {
   "cell_type": "markdown",
   "id": "51bc7bbb-169c-4762-b9de-728b85c0bb8f",
   "metadata": {},
   "source": [
    "## String Methods\n",
    "\n",
    "Strings come with a bunch of methods. Follow the instructions closely to discover some of them. If you want to discover them in more detail, you can always type help(str) in the IPython Shell.\n",
    "\n",
    "A string place has already been created for you to experiment with.\n",
    "Instructions\n",
    "100 XP\n",
    "\n",
    "    Use the upper() method on place and store the result in place_up. Use the syntax for calling methods that you learned in the previous video.\n",
    "    Print out place and place_up. Did both change?\n",
    "    Print out the number of o's on the variable place by calling count() on place and passing the letter 'o' as an input to the method. We're talking about the variable place, not the word \"place\"!\n"
   ]
  },
  {
   "cell_type": "markdown",
   "id": "2e4db495-0ca4-4592-9a9a-48a69c07b6b9",
   "metadata": {},
   "source": [
    "## List Methods\n",
    "\n",
    "Strings are not the only Python types that have methods associated with them. Lists, floats, integers and booleans are also types that come packaged with a bunch of useful methods. In this exercise, you'll be experimenting with:\n",
    "\n",
    "    index(), to get the index of the first element of a list that matches its input and\n",
    "    count(), to get the number of times an element appears in a list.\n",
    "\n",
    "You'll be working on the list with the area of different parts of a house: areas.\n",
    "Instructions\n",
    "100 XP\n",
    "\n",
    "    Use the index() method to get the index of the element in areas that is equal to 20.0. Print out this index.\n",
    "    Call count() on areas to find out how many times 9.50 appears in the list. Again, simply print out this number.\n"
   ]
  },
  {
   "cell_type": "markdown",
   "id": "15007bbc-ad36-45d2-b333-0a1b1e97e04e",
   "metadata": {},
   "source": [
    "## List Methods (2)\n",
    "\n",
    "Most list methods will change the list they're called on. Examples are:\n",
    "\n",
    "    append(), that adds an element to the list it is called on,\n",
    "    remove(), that removes the first element of a list that matches the input, and\n",
    "    reverse(), that reverses the order of the elements in the list it is called on.\n",
    "\n",
    "You'll be working on the list with the area of different parts of the house: areas.\n",
    "Instructions\n",
    "100 XP\n",
    "\n",
    "    Use append() twice to add the size of the poolhouse and the garage again: 24.5 and 15.45, respectively. Make sure to add them in this order.\n",
    "    Print out areas\n",
    "    Use the reverse() method to reverse the order of the elements in areas.\n",
    "    Print out areas once more.\n"
   ]
  },
  {
   "cell_type": "markdown",
   "id": "6cc02292-3ba1-4b49-a341-9c3895c52669",
   "metadata": {},
   "source": [
    "## Packages\n",
    "\n",
    "\n",
    "\n",
    "**By now, I hope you're convinced that Python functions and methods are extremely powerful: you can basically use other people's code to solve your own problems.  \n",
    "\n",
    "**However, adding all functions and methods that have been written up to now to the same Python distribution would be a mess.  There would be tons and tons of code in there, that you'll never use.  Also, maintaining all of this code would be a real pain.  \n",
    "\n",
    "# This is where packages come to play.  \n",
    "pkg/\n",
    "  mod1.py\n",
    "  mod2.py\n",
    "  ...\n",
    "# **You can think packages as a directory of Python scripts.  Each script is so-called module.  \n",
    "**These modules specify functions, methods and new Python types aimed at solving particular problems.  \n",
    "\n",
    "# **There are thousands of Python packages available from the internet.  Among them are packages for data science: there is numpy to efficienty work with arrays, matplotlib for data visualization, and scikit-learn for machine learning.  Not all these packages are available in Python by default.  To use Python packages, you'll fisrt have to install them on your own system and then put code in your script to tell Python that you want to use these packages.  \n",
    "\n",
    "**To use the package, we use import statement to import package or a specific module of the package, a commonly used function in Numpy is array, it takes a list as input.  The Numpy array is very useful to do data science.  \n",
    "\n",
    "import numpy\n",
    "a_array = numpy.array([family_height])"
   ]
  },
  {
   "cell_type": "markdown",
   "id": "37222c80-98d8-4c9d-879d-9aabddb196a8",
   "metadata": {},
   "source": [
    "## Import package\n",
    "\n",
    "As a data scientist, some notions of geometry never hurt. Let's refresh some of the basics.\n",
    "\n",
    "For a fancy clustering algorithm, you want to find the circumference,C, and area, A, of a circle. When the radius of the circle is r, you can calculate C and A\n",
    "\n",
    "as: C = 2*pi*r\n",
    "    A = pi*r^2\n",
    "\n",
    "To use the constant pi, you'll need the math package. A variable r is already coded in the script. Fill in the code to calculate C and A and see how the print() functions create some nice printouts.\n",
    "Instructions\n",
    "100 XP\n",
    "\n",
    "    Import the math package. Now you can access the constant pi with math.pi.\n",
    "    Calculate the circumference of the circle and store it in C.\n",
    "    Calculate the area of the circle and store it in A.\n"
   ]
  },
  {
   "cell_type": "markdown",
   "id": "a91cf91d-b4a4-46c2-b04d-b28a0d93ce4e",
   "metadata": {},
   "source": [
    "## Selective import\n",
    "\n",
    "General imports, like import math, make all functionality from the math package available to you. However, if you decide to only use a specific part of a package, you can always make your import more selective:\n",
    "\n",
    "from math import pi\n",
    "\n",
    "Let's say the Moon's orbit around planet Earth is a perfect circle, with a radius r (in km) that is defined in the script.\n",
    "Instructions\n",
    "100 XP\n",
    "\n",
    "    Perform a selective import from the math package where you only import the radians function.\n",
    "    Calculate the distance travelled by the Moon over 12 degrees of its orbit. Assign the result to dist. You can calculate this as r * phi, where r is the radius and phi is the angle in radians. To convert an angle in degrees to an angle in radians, use the radians() function, which you just imported.\n",
    "    Print out dist.\n"
   ]
  },
  {
   "cell_type": "markdown",
   "id": "2319fd22-0a35-4ba4-98d7-4ccf31812292",
   "metadata": {},
   "source": [
    "## Different ways of importing\n",
    "\n",
    "There are several ways to import packages and modules into Python. Depending on the import call, you'll have to use different Python code.\n",
    "\n",
    "Suppose you want to use the function inv(), which is in the linalg subpackage of the scipy package. You want to be able to use this function as follows:\n",
    "\n",
    "my_inv([[1,2], [3,4]])\n",
    "\n",
    "Which import statement will you need in order to run the above code without an error?\n",
    "Instructions\n",
    "50 XP\n",
    "Possible Answers\n",
    "\n",
    "    import scipy\n",
    "    import scipy.linalg\n",
    "    from scipy.linalg import my_inv\n",
    "    from scipy.linalg import inv as my_inv\n",
    "    \n",
    "    \n",
    "In [1]:\n",
    "from scipy.linalg import inv as my_inv\n",
    "In [2]:\n",
    "my_inv([1,2],[3,4])\n",
    "Traceback (most recent call last):\n",
    "  File \"<stdin>\", line 1, in <module>\n",
    "    my_inv([1,2],[3,4])\n",
    "  File \"<stdin>\", line 660, in inv\n",
    "    raise ValueError('expected square matrix')\n",
    "ValueError: expected square matrix\n",
    "In [3]:\n",
    "my_inv([[1,2],[3,4]])\n",
    "Out[3]:\n",
    "\n",
    "array([[-2. ,  1. ],\n",
    "       [ 1.5, -0.5]])"
   ]
  },
  {
   "cell_type": "markdown",
   "id": "93fc63e0-2e8a-4ad7-8d29-cf9f36eacf3c",
   "metadata": {},
   "source": [
    "## Numpy\n",
    "\n",
    "\n",
    "\n",
    "**Python list is pretty powerful, a list can hold any type and hold different types at the same time.  You can also change, add and remove elements.  This is wonderful, but one feature is missing, a feature that is super important for aspiring data scientist as yourself.  \n",
    "\n",
    "# **When analyzing data, you aften want to carry out operations over entire collections of values, and you want to do this fast.  Wit list, this is a problem.  \n"
   ]
  },
  {
   "cell_type": "code",
   "execution_count": 102,
   "id": "f0ce730f-a1ac-4298-87f2-59ab45fbfe90",
   "metadata": {},
   "outputs": [
    {
     "name": "stdout",
     "output_type": "stream",
     "text": [
      "[1.73, 1.68, 1.71, 1.98]\n"
     ]
    },
    {
     "ename": "TypeError",
     "evalue": "unsupported operand type(s) for ** or pow(): 'list' and 'int'",
     "output_type": "error",
     "traceback": [
      "\u001b[0;31m---------------------------------------------------------------------------\u001b[0m",
      "\u001b[0;31mTypeError\u001b[0m                                 Traceback (most recent call last)",
      "\u001b[0;32m/tmp/ipykernel_2053/1654674368.py\u001b[0m in \u001b[0;36m<module>\u001b[0;34m\u001b[0m\n\u001b[1;32m      6\u001b[0m \u001b[0;34m\u001b[0m\u001b[0m\n\u001b[1;32m      7\u001b[0m \u001b[0;34m\u001b[0m\u001b[0m\n\u001b[0;32m----> 8\u001b[0;31m \u001b[0mfamily_msi\u001b[0m \u001b[0;34m=\u001b[0m \u001b[0mfamily_weight\u001b[0m\u001b[0;34m/\u001b[0m\u001b[0mfamily_height\u001b[0m\u001b[0;34m**\u001b[0m\u001b[0;36m2\u001b[0m\u001b[0;34m\u001b[0m\u001b[0;34m\u001b[0m\u001b[0m\n\u001b[0m\u001b[1;32m      9\u001b[0m \u001b[0;34m\u001b[0m\u001b[0m\n\u001b[1;32m     10\u001b[0m \u001b[0mprint\u001b[0m\u001b[0;34m(\u001b[0m\u001b[0mfamily_msi\u001b[0m\u001b[0;34m)\u001b[0m\u001b[0;34m\u001b[0m\u001b[0;34m\u001b[0m\u001b[0m\n",
      "\u001b[0;31mTypeError\u001b[0m: unsupported operand type(s) for ** or pow(): 'list' and 'int'"
     ]
    }
   ],
   "source": [
    "family_height = [1.73,  'emma', 1.68,  'mom', 1.71,  'dad', 1.98]\n",
    "family_height = [i for i in family_height if type(i) is not str]\n",
    "print(family_height)\n",
    "\n",
    "family_weight = [65.4, 59.2, 63.6, 88.4, 68.7]\n",
    "\n",
    "\n",
    "family_msi = family_weight/family_height**2\n",
    "\n",
    "print(family_msi)"
   ]
  },
  {
   "cell_type": "markdown",
   "id": "6790c642-25ad-420d-8d79-b2db1c2fa2c8",
   "metadata": {},
   "source": [
    "# Unfortunately, Python throws an error, because it has no idea how to do calculation on lists.  You could solve this by going though each list element one after another and calculating the bmi for each person separetely, but this is terribly inefficient and exhausting to write.  \n"
   ]
  },
  {
   "cell_type": "code",
   "execution_count": 13,
   "id": "1cb02f67-1a83-4869-9352-5a06c57b0d15",
   "metadata": {},
   "outputs": [
    {
     "name": "stdout",
     "output_type": "stream",
     "text": [
      "<class 'list'>\n",
      "[0.00040447399676420793, 0.000493631300219138, 0.0004276927336735097, 0.0002213816260928318, 0.00036654949795431475, 0.00039278399685772794, 0.00047936449963476984, 0.0004153316720066453, 0.0002149833131999754, 0.0003559555818284675, 0.00039979799680161593, 0.00048792457998539075, 0.00042274830900676394, 0.00021882230093568924, 0.0003623119315039759, 0.00046292399629660794, 0.0005649653031409787, 0.000489498042007832, 0.00025337319055711386, 0.000419519078583551, 0.000418501996651984, 0.0005107514609203798, 0.0004425260076737471, 0.0002290596015642595, 0.00037926219730533147]\n",
      "<class 'generator'>\n",
      "0.00040447399676420793 0.000493631300219138 0.0004276927336735097 0.0002213816260928318 0.00036654949795431475 0.00039278399685772794 0.00047936449963476984 0.0004153316720066453 0.0002149833131999754 0.0003559555818284675 0.00039979799680161593 0.00048792457998539075 0.00042274830900676394 0.00021882230093568924 0.0003623119315039759 0.00046292399629660794 0.0005649653031409787 0.000489498042007832 0.00025337319055711386 0.000419519078583551 0.000418501996651984 0.0005107514609203798 0.0004425260076737471 0.0002290596015642595 0.00037926219730533147\n",
      "<class 'tuple'>\n",
      "(0.00040447399676420793, 0.000493631300219138, 0.0004276927336735097, 0.0002213816260928318, 0.00036654949795431475, 0.00039278399685772794, 0.00047936449963476984, 0.0004153316720066453, 0.0002149833131999754, 0.0003559555818284675, 0.00039979799680161593, 0.00048792457998539075, 0.00042274830900676394, 0.00021882230093568924, 0.0003623119315039759, 0.00046292399629660794, 0.0005649653031409787, 0.000489498042007832, 0.00025337319055711386, 0.000419519078583551, 0.000418501996651984, 0.0005107514609203798, 0.0004425260076737471, 0.0002290596015642595, 0.00037926219730533147)\n"
     ]
    }
   ],
   "source": [
    "# *************************************************************************************************** #\n",
    "# *************************************************************************************************** #\n",
    "family_weight = [65.4, 59.2, 63.6, 88.4, 68.7]\n",
    "family_height = [1.73, 1.68, 1.71, 1.98, 1.79]\n",
    "\n",
    "\n",
    "family_msi = [i/j**2 for i in family_height for j in family_weight]\n",
    "family_msi2 = (i/j**2 for i in family_height for j in family_weight)\n",
    "family_msi3 = tuple(i/j**2 for i in family_height for j in family_weight)\n",
    "print(type(family_msi))\n",
    "print(family_msi)\n",
    "# *************************************************************************************************** #\n",
    "print(type(family_msi2))    # Its a generator, Mark to learn generator knowledge,******************** #\n",
    "print(*(i/j**2 for i in family_height for j in family_weight))\n",
    "# *************************************************************************************************** #\n",
    "print(type(family_msi3))\n",
    "print(family_msi3)"
   ]
  },
  {
   "cell_type": "markdown",
   "id": "fb74108c-a7c4-4970-9824-04000f9f1233",
   "metadata": {},
   "source": [
    "# xxxxxxxxxxxxxxxxxxxxxxxxxxxxxxxxxxxxxxxxxxxxxxxxxxxxxxxxxxxxxxxxxxxxxxxxxxxxxxxxxxxxxxxxxxxxxxxxxxxxx"
   ]
  },
  {
   "cell_type": "code",
   "execution_count": 4,
   "id": "ca2ca7a9-52c0-4576-86b0-b09143757306",
   "metadata": {},
   "outputs": [
    {
     "name": "stdout",
     "output_type": "stream",
     "text": [
      "Function: msi_cal, takes 0.00000262s\n"
     ]
    }
   ],
   "source": [
    "import time\n",
    "\n",
    "def timer(func):\n",
    "    def wrapper(*args):\n",
    "        start = time.time()\n",
    "        solution = func(*args)\n",
    "        t_spend = time.time() - start\n",
    "        #print(f\"Function {func.__name__}, spend {t_spend} s to run\")\n",
    "        print(\"Function: {}, takes {:.8f}s\".format(func.__name__, t_spend))\n",
    "    return wrapper\n",
    "\n",
    "@timer\n",
    "def msi_cal(weight, height):\n",
    "    #print(*(i/j**2 for i in height for j in weight))\n",
    "    #return [i/j**2 for i in height for j in weight]   # takes 6.52419949s\n",
    "    return (i/j**2 for i in height for j in weight)    # takes 0.00000215s\n",
    "# *************************************************************************************************** #\n",
    "# *************************************************************************************************** #\n",
    "# *************************************************************************************************** #\n",
    "    \n",
    "\n",
    "\n",
    "family_weight = [65.4, 59.2, 63.6, 88.4, 68.7]*1000\n",
    "family_height = [1.73, 1.68, 1.71, 1.98, 1.79]*1000\n",
    "\n",
    "msi_cal(family_weight, family_height)\n",
    "\n",
    "del time, timer, msi_cal, family_weight, family_height"
   ]
  },
  {
   "cell_type": "markdown",
   "id": "c4aa13fa-acc0-4997-8e62-5fbdbc10ce83",
   "metadata": {},
   "source": [
    "# **A way more elegent solution is to use NumPy, or Numeric Python.  Its a Python package that, among others, provides a alternative to the regularPython list: the NumPy array.  The NumPy array is pretty similar to the list, but has one additional features, such as the ability to perform calculation over entire arrays.  It's really easy and super fast.  \n",
    "\n"
   ]
  },
  {
   "cell_type": "markdown",
   "id": "b8716a0f-e7a3-4d1b-963e-a87edb85e48d",
   "metadata": {},
   "source": [
    "# xxxxxxxxxxxxxxxxxxxxxxxxxxxxxxxxxxxxxxxxxxxxxxxxxxxxxxxxxxxxxxxxxxxxxxxxxxxxxxxxxxxxxxxxxxxxxxxxxxxxx"
   ]
  },
  {
   "cell_type": "code",
   "execution_count": 2,
   "id": "fb4b89b0-3810-4ceb-8e2a-9c4963b2b98f",
   "metadata": {},
   "outputs": [
    {
     "name": "stdout",
     "output_type": "stream",
     "text": [
      "family_weight: 0.0017926693s\n",
      "family_height: 0.0013120174s\n",
      "<class 'numpy.ndarray'>\n",
      "[1.73 1.68 1.71 ... 1.71 1.98 1.79]\n",
      "Function: msi_cal, takes 0.00006080s\n"
     ]
    }
   ],
   "source": [
    "import time\n",
    "import numpy as np\n",
    "\n",
    "def timer(func):\n",
    "    def wrapper(*args):\n",
    "        start = time.time()\n",
    "        solution = func(*args)\n",
    "        t_spend = time.time() - start\n",
    "        #print(f\"Function {func.__name__}, spend {t_spend} s to run\")\n",
    "        print(\"Function: {}, takes {:.8f}s\".format(func.__name__, t_spend))\n",
    "    return wrapper\n",
    "\n",
    "@timer\n",
    "def msi_cal(weight, height):\n",
    "    #print([i/j**2 for i in height for j in weight])\n",
    "    #return (i/j**2 for i in height for j in weight)  # working code, takes 0.00000358s\n",
    "    return height/weight**2    # WHY this operation takes 0.16549182s ? \n",
    "# *************************************************************************************************** #\n",
    "\n",
    "\n",
    "start = time.time()\n",
    "family_weight = np.array([65.4, 59.2, 63.6, 88.4, 68.7]*1000)  # msi_cal, takes 0.16450644s\n",
    "t_spend = time.time() - start\n",
    "print(\"family_weight: {:.8}s\".format(t_spend))\n",
    "del start, t_spend\n",
    "\n",
    "start = time.time()\n",
    "family_height = np.array([1.73, 1.68, 1.71, 1.98, 1.79]*1000)\n",
    "t_spend = time.time() - start\n",
    "print(\"family_height: {:.8}s\".format(t_spend))\n",
    "del start, t_spend\n",
    "\n",
    "\n",
    "###family_weight = [65.4, 59.2, 63.6, 88.4, 68.7]*10000000\n",
    "###family_height = [1.73, 1.68, 1.71, 1.98, 1.79]*10000000\n",
    "###\n",
    "###\n",
    "###@timer\n",
    "###def list_2_arr(x):\n",
    "###    return np.array(*x)   # this returns none type? why?\n",
    "# *************************************************************************************************** #\n",
    "###\n",
    "###family_weight = list_2_arr(family_weight)\n",
    "###family_height = list_2_arr(family_height)\n",
    "###     # Function: list_2_arr, takes 9.75326681s\n",
    "###     # Function: list_2_arr, takes 10.31912470s\n",
    "print(type(family_height))\n",
    "print(family_height)\n",
    "\n",
    "\n",
    "msi_cal(family_weight, family_height)\n",
    "\n",
    "del time, timer, msi_cal, family_weight, family_height#, list_2_arr\n",
    "\n",
    "\n",
    "# *************************************************************************************************** #\n",
    "# *************************************************************************************************** #\n",
    "# *************************************************************************************************** #"
   ]
  },
  {
   "cell_type": "code",
   "execution_count": 140,
   "id": "60434049-d8bb-4f12-84f1-e2acea738297",
   "metadata": {},
   "outputs": [
    {
     "data": {
      "text/plain": [
       "\u001b[0;31mDocstring:\u001b[0m\n",
       "array(object, dtype=None, *, copy=True, order='K', subok=False, ndmin=0,\n",
       "      like=None)\n",
       "\n",
       "Create an array.\n",
       "\n",
       "Parameters\n",
       "----------\n",
       "object : array_like\n",
       "    An array, any object exposing the array interface, an object whose\n",
       "    __array__ method returns an array, or any (nested) sequence.\n",
       "dtype : data-type, optional\n",
       "    The desired data-type for the array.  If not given, then the type will\n",
       "    be determined as the minimum type required to hold the objects in the\n",
       "    sequence.\n",
       "copy : bool, optional\n",
       "    If true (default), then the object is copied.  Otherwise, a copy will\n",
       "    only be made if __array__ returns a copy, if obj is a nested sequence,\n",
       "    or if a copy is needed to satisfy any of the other requirements\n",
       "    (`dtype`, `order`, etc.).\n",
       "order : {'K', 'A', 'C', 'F'}, optional\n",
       "    Specify the memory layout of the array. If object is not an array, the\n",
       "    newly created array will be in C order (row major) unless 'F' is\n",
       "    specified, in which case it will be in Fortran order (column major).\n",
       "    If object is an array the following holds.\n",
       "\n",
       "    ===== ========= ===================================================\n",
       "    order  no copy                     copy=True\n",
       "    ===== ========= ===================================================\n",
       "    'K'   unchanged F & C order preserved, otherwise most similar order\n",
       "    'A'   unchanged F order if input is F and not C, otherwise C order\n",
       "    'C'   C order   C order\n",
       "    'F'   F order   F order\n",
       "    ===== ========= ===================================================\n",
       "\n",
       "    When ``copy=False`` and a copy is made for other reasons, the result is\n",
       "    the same as if ``copy=True``, with some exceptions for 'A', see the\n",
       "    Notes section. The default order is 'K'.\n",
       "subok : bool, optional\n",
       "    If True, then sub-classes will be passed-through, otherwise\n",
       "    the returned array will be forced to be a base-class array (default).\n",
       "ndmin : int, optional\n",
       "    Specifies the minimum number of dimensions that the resulting\n",
       "    array should have.  Ones will be pre-pended to the shape as\n",
       "    needed to meet this requirement.\n",
       "like : array_like\n",
       "    Reference object to allow the creation of arrays which are not\n",
       "    NumPy arrays. If an array-like passed in as ``like`` supports\n",
       "    the ``__array_function__`` protocol, the result will be defined\n",
       "    by it. In this case, it ensures the creation of an array object\n",
       "    compatible with that passed in via this argument.\n",
       "\n",
       "    .. versionadded:: 1.20.0\n",
       "\n",
       "Returns\n",
       "-------\n",
       "out : ndarray\n",
       "    An array object satisfying the specified requirements.\n",
       "\n",
       "See Also\n",
       "--------\n",
       "empty_like : Return an empty array with shape and type of input.\n",
       "ones_like : Return an array of ones with shape and type of input.\n",
       "zeros_like : Return an array of zeros with shape and type of input.\n",
       "full_like : Return a new array with shape of input filled with value.\n",
       "empty : Return a new uninitialized array.\n",
       "ones : Return a new array setting values to one.\n",
       "zeros : Return a new array setting values to zero.\n",
       "full : Return a new array of given shape filled with value.\n",
       "\n",
       "\n",
       "Notes\n",
       "-----\n",
       "When order is 'A' and `object` is an array in neither 'C' nor 'F' order,\n",
       "and a copy is forced by a change in dtype, then the order of the result is\n",
       "not necessarily 'C' as expected. This is likely a bug.\n",
       "\n",
       "Examples\n",
       "--------\n",
       ">>> np.array([1, 2, 3])\n",
       "array([1, 2, 3])\n",
       "\n",
       "Upcasting:\n",
       "\n",
       ">>> np.array([1, 2, 3.0])\n",
       "array([ 1.,  2.,  3.])\n",
       "\n",
       "More than one dimension:\n",
       "\n",
       ">>> np.array([[1, 2], [3, 4]])\n",
       "array([[1, 2],\n",
       "       [3, 4]])\n",
       "\n",
       "Minimum dimensions 2:\n",
       "\n",
       ">>> np.array([1, 2, 3], ndmin=2)\n",
       "array([[1, 2, 3]])\n",
       "\n",
       "Type provided:\n",
       "\n",
       ">>> np.array([1, 2, 3], dtype=complex)\n",
       "array([ 1.+0.j,  2.+0.j,  3.+0.j])\n",
       "\n",
       "Data-type consisting of more than one element:\n",
       "\n",
       ">>> x = np.array([(1,2),(3,4)],dtype=[('a','<i4'),('b','<i4')])\n",
       ">>> x['a']\n",
       "array([1, 3])\n",
       "\n",
       "Creating an array from sub-classes:\n",
       "\n",
       ">>> np.array(np.mat('1 2; 3 4'))\n",
       "array([[1, 2],\n",
       "       [3, 4]])\n",
       "\n",
       ">>> np.array(np.mat('1 2; 3 4'), subok=True)\n",
       "matrix([[1, 2],\n",
       "        [3, 4]])\n",
       "\u001b[0;31mType:\u001b[0m      builtin_function_or_method\n"
      ]
     },
     "metadata": {},
     "output_type": "display_data"
    }
   ],
   "source": [
    "import numpy as np\n",
    "\n",
    "?np.array"
   ]
  },
  {
   "cell_type": "code",
   "execution_count": 21,
   "id": "afe48db6-f8b0-4ec6-874d-97e8d4f793bd",
   "metadata": {
    "tags": []
   },
   "outputs": [
    {
     "name": "stdout",
     "output_type": "stream",
     "text": [
      "two list multiply operation tooks 0.024496317\n",
      "two list2arr operation took 1.9131105s\n",
      "msi array operation tooks: 0.017800331s\n",
      "[21.85171573 20.97505669 21.75028214 ... 21.75028214 22.54871952\n",
      " 21.44127836]\n"
     ]
    }
   ],
   "source": [
    "import numpy as np\n",
    "import time\n",
    "\n",
    "start = time.time()\n",
    "family_weight = [65.4, 59.2, 63.6, 88.4, 68.7]*1000000\n",
    "family_height = [1.73, 1.68, 1.71, 1.98, 1.79]*1000000\n",
    "t_spend = time.time() - start\n",
    "print(\"two list multiply operation tooks {:.8}\".format(t_spend))\n",
    "del start, t_spend\n",
    "\n",
    "start = time.time()\n",
    "np_height = np.array(family_height)\n",
    "np_weight = np.array(family_weight)\n",
    "t_spend = time.time() - start\n",
    "print(\"two list2arr operation took {:.8}s\".format(t_spend))\n",
    "del start, t_spend\n",
    "\n",
    "\n",
    "start = time.time()\n",
    "bmi = np_weight/np_height**2\n",
    "t_spend = time.time() - start\n",
    "print(\"msi array operation tooks: {:.8}s\".format(t_spend))\n",
    "\n",
    "print(bmi)\n",
    "\n",
    "\n",
    "del start, t_spend, bmi, family_weight, family_height"
   ]
  },
  {
   "cell_type": "code",
   "execution_count": 22,
   "id": "663f383c-eafc-43e9-8aa9-b9501eab7948",
   "metadata": {},
   "outputs": [
    {
     "name": "stdout",
     "output_type": "stream",
     "text": [
      "two list multiply operation tooks 0.026106834\n",
      "msi generator operation tooks: 0.00034761429s\n",
      "<generator object <genexpr> at 0x7fdb1013cf20>\n"
     ]
    }
   ],
   "source": [
    "import numpy as np\n",
    "import time\n",
    "\n",
    "start = time.time()\n",
    "family_weight = [65.4, 59.2, 63.6, 88.4, 68.7]*1000000\n",
    "family_height = [1.73, 1.68, 1.71, 1.98, 1.79]*1000000\n",
    "t_spend = time.time() - start\n",
    "print(\"two list multiply operation tooks {:.8}\".format(t_spend))\n",
    "del start, t_spend\n",
    "\n",
    "###start = time.time()\n",
    "###np_height = np.array(family_height)\n",
    "###np_weight = np.array(family_weight)\n",
    "###t_spend = time.time() - start\n",
    "###print(\"two list2arr operation took {:.8}s\".format(t_spend))\n",
    "###del start, t_spend\n",
    "###\n",
    "###\n",
    "###start = time.time()\n",
    "###bmi = np_weight/np_height**2\n",
    "###t_spend = time.time() - start\n",
    "###print(\"msi array operation tooks: {:.8}s\".format(t_spend))\n",
    "\n",
    "start = time.time()\n",
    "bmi = (w/h**2 for w in family_weight for h in family_height)\n",
    "t_spend = time.time() - start\n",
    "print(\"msi generator operation tooks: {:.8}s\".format(t_spend))\n",
    "\n",
    "print(bmi)\n",
    "\n",
    "\n",
    "del start, t_spend, bmi, family_weight, family_height"
   ]
  },
  {
   "cell_type": "code",
   "execution_count": 3,
   "id": "c27e1bc4-430e-489c-adb6-eb4cd2d3a19b",
   "metadata": {},
   "outputs": [
    {
     "name": "stdout",
     "output_type": "stream",
     "text": [
      "two list multiply operation tooks 0.0007390976\n",
      "msi list operation tooks: 0.079611778s\n"
     ]
    },
    {
     "name": "stderr",
     "output_type": "stream",
     "text": [
      "IOPub data rate exceeded.\n",
      "The Jupyter server will temporarily stop sending output\n",
      "to the client in order to avoid crashing it.\n",
      "To change this limit, set the config variable\n",
      "`--ServerApp.iopub_data_rate_limit`.\n",
      "\n",
      "Current values:\n",
      "ServerApp.iopub_data_rate_limit=1000000.0 (bytes/sec)\n",
      "ServerApp.rate_limit_window=3.0 (secs)\n",
      "\n"
     ]
    }
   ],
   "source": [
    "import numpy as np\n",
    "import time\n",
    "\n",
    "start = time.time()\n",
    "family_weight = [65.4, 59.2, 63.6, 88.4, 68.7]*100  # much less zeros, and takes forever to run? \n",
    "family_height = [1.73, 1.68, 1.71, 1.98, 1.79]*100\n",
    "t_spend = time.time() - start\n",
    "print(\"two list multiply operation tooks {:.8}\".format(t_spend))\n",
    "del start, t_spend\n",
    "\n",
    "###start = time.time()\n",
    "###np_height = np.array(family_height)\n",
    "###np_weight = np.array(family_weight)\n",
    "###t_spend = time.time() - start\n",
    "###print(\"two list2arr operation took {:.8}s\".format(t_spend))\n",
    "###del start, t_spend\n",
    "###\n",
    "###\n",
    "###start = time.time()\n",
    "###bmi = np_weight/np_height**2\n",
    "###t_spend = time.time() - start\n",
    "###print(\"msi array operation tooks: {:.8}s\".format(t_spend))\n",
    "\n",
    "start = time.time()\n",
    "# *************************************************************************************************** #\n",
    "#bmi = [w/h**2 for w in family_weight for h in family_height]\n",
    "# *************************************************************************************************** #\n",
    "bmi = list(w/h**2 for w in family_weight for h in family_height)\n",
    "t_spend = time.time() - start\n",
    "print(\"msi list operation tooks: {:.8}s\".format(t_spend))\n",
    "\n",
    "print(bmi)\n",
    "\n",
    "\n",
    "del start, t_spend, bmi, family_weight, family_height"
   ]
  },
  {
   "cell_type": "markdown",
   "id": "c3e7daad-c9a2-4dc2-a543-126468671d1b",
   "metadata": {},
   "source": [
    "# Python doesnt know hoe to calculate with lists like we want them to, whereas Numpy knows how to work with arrays as if they are single values(jhu note: using iterator or generator? maybe? ).  It assumes that your NumPy array ONLY contain values of single type, all folat elements, or all integer elements.   \n",
    "# We should think NumPy array simply as a new kind of Python type, like the float, string, and list.  This means that it comes with its own methods, which can behave differently as you expect.  "
   ]
  },
  {
   "cell_type": "code",
   "execution_count": 7,
   "id": "12a92967-3267-4fa3-a310-220be76d9095",
   "metadata": {},
   "outputs": [
    {
     "name": "stdout",
     "output_type": "stream",
     "text": [
      "[1, 2, 3, 4, 5, 6, 7, 7]\n",
      "[ 6  8 10 11]\n"
     ]
    }
   ],
   "source": [
    "lista = [1, 2, 3, 4]\n",
    "listb = [5, 6, 7, 7]\n",
    "\n",
    "listc = lista + listb\n",
    "print(listc)\n",
    "\n",
    "\n",
    "import numpy as np\n",
    "arraya = np.array(lista)\n",
    "arrayb = np.array(listb)\n",
    "\n",
    "arrayc = arraya + arrayb\n",
    "print(arrayc)"
   ]
  },
  {
   "cell_type": "markdown",
   "id": "c25a0fc0-4bee-4240-a888-7faf2e9b292c",
   "metadata": {},
   "source": [
    "# Python will do element-wise operation with np.array objects \n",
    "# Be Careful\n",
    "\n",
    "\n",
    "**And apart from these subtleties, you can work with NumPy arrays pretty much the same as you can with regular Python list.  "
   ]
  },
  {
   "cell_type": "code",
   "execution_count": 8,
   "id": "bbb0f2ff-7633-4e25-8391-c6eb42db8d7a",
   "metadata": {},
   "outputs": [
    {
     "name": "stdout",
     "output_type": "stream",
     "text": [
      "10\n"
     ]
    }
   ],
   "source": [
    "print(arrayc[2])"
   ]
  },
  {
   "cell_type": "markdown",
   "id": "e5a15df7-353b-4421-ad4d-813f475f1a2f",
   "metadata": {},
   "source": [
    "# **Specifically for NumPy, there is also another way to do list subsetting: using an array of booleans.  Using the result of a comparison to make a selection of your data is a very common way to get surprising insights.  \n"
   ]
  },
  {
   "cell_type": "code",
   "execution_count": 34,
   "id": "e35a9b14-85d6-4e0c-b9ec-ddfe0508188a",
   "metadata": {},
   "outputs": [
    {
     "name": "stdout",
     "output_type": "stream",
     "text": [
      "[ 6  8 10 11]\n",
      "[False False  True  True]\n",
      "(array([ 6,  8, 10, 11]), [True, False, True, False])\n",
      "[ 6  0 10  0]\n"
     ]
    },
    {
     "name": "stderr",
     "output_type": "stream",
     "text": [
      "<>:11: SyntaxWarning: list indices must be integers or slices, not tuple; perhaps you missed a comma?\n",
      "<>:11: SyntaxWarning: list indices must be integers or slices, not tuple; perhaps you missed a comma?\n",
      "/tmp/ipykernel_13164/906842191.py:11: SyntaxWarning: list indices must be integers or slices, not tuple; perhaps you missed a comma?\n",
      "  arrayf = np.array([6, 8, 10, 11][True, False, True, False])\n"
     ]
    },
    {
     "ename": "TypeError",
     "evalue": "list indices must be integers or slices, not tuple",
     "output_type": "error",
     "traceback": [
      "\u001b[0;31m---------------------------------------------------------------------------\u001b[0m",
      "\u001b[0;31mTypeError\u001b[0m                                 Traceback (most recent call last)",
      "\u001b[0;32m/tmp/ipykernel_13164/906842191.py\u001b[0m in \u001b[0;36m<module>\u001b[0;34m\u001b[0m\n\u001b[1;32m      9\u001b[0m \u001b[0mprint\u001b[0m\u001b[0;34m(\u001b[0m\u001b[0marraye\u001b[0m\u001b[0;34m)\u001b[0m\u001b[0;34m\u001b[0m\u001b[0;34m\u001b[0m\u001b[0m\n\u001b[1;32m     10\u001b[0m \u001b[0;34m\u001b[0m\u001b[0m\n\u001b[0;32m---> 11\u001b[0;31m \u001b[0marrayf\u001b[0m \u001b[0;34m=\u001b[0m \u001b[0mnp\u001b[0m\u001b[0;34m.\u001b[0m\u001b[0marray\u001b[0m\u001b[0;34m(\u001b[0m\u001b[0;34m[\u001b[0m\u001b[0;36m6\u001b[0m\u001b[0;34m,\u001b[0m \u001b[0;36m8\u001b[0m\u001b[0;34m,\u001b[0m \u001b[0;36m10\u001b[0m\u001b[0;34m,\u001b[0m \u001b[0;36m11\u001b[0m\u001b[0;34m]\u001b[0m\u001b[0;34m[\u001b[0m\u001b[0;32mTrue\u001b[0m\u001b[0;34m,\u001b[0m \u001b[0;32mFalse\u001b[0m\u001b[0;34m,\u001b[0m \u001b[0;32mTrue\u001b[0m\u001b[0;34m,\u001b[0m \u001b[0;32mFalse\u001b[0m\u001b[0;34m]\u001b[0m\u001b[0;34m)\u001b[0m\u001b[0;34m\u001b[0m\u001b[0;34m\u001b[0m\u001b[0m\n\u001b[0m\u001b[1;32m     12\u001b[0m \u001b[0mprint\u001b[0m\u001b[0;34m(\u001b[0m\u001b[0marrayf\u001b[0m\u001b[0;34m)\u001b[0m\u001b[0;34m\u001b[0m\u001b[0;34m\u001b[0m\u001b[0m\n",
      "\u001b[0;31mTypeError\u001b[0m: list indices must be integers or slices, not tuple"
     ]
    }
   ],
   "source": [
    "print(arrayc)\n",
    "print(arrayc > 8)\n",
    "\n",
    "\n",
    "arrayd = arrayc, [True, False, True, False]   # Because there is a comma \",\" Python takes its as tuple\n",
    "print(arrayd)\n",
    "\n",
    "arraye = np.array([6, 8, 10, 11])*[True, False, True, False]\n",
    "print(arraye)\n",
    "\n",
    "arrayf = np.array([6, 8, 10, 11][True, False, True, False])\n",
    "print(arrayf)"
   ]
  },
  {
   "cell_type": "code",
   "execution_count": 35,
   "id": "cc5cd231-c18a-4939-8586-72fb0e52ce99",
   "metadata": {},
   "outputs": [
    {
     "data": {
      "text/plain": [
       "array([[1, 3],\n",
       "       [4, 6],\n",
       "       [7, 9]])"
      ]
     },
     "execution_count": 35,
     "metadata": {},
     "output_type": "execute_result"
    }
   ],
   "source": [
    "import numpy as np \n",
    "a = np.array([True, False, True])\n",
    "b = np.array([[1, 2, 3], [4, 5, 6], [7, 8, 9]])\n",
    "b[:,a]"
   ]
  },
  {
   "cell_type": "markdown",
   "id": "15fa2aff-8db4-4683-a1f0-7ceaeff14520",
   "metadata": {},
   "source": [
    "## Your First NumPy Array\n",
    "\n",
    "In this chapter, we're going to dive into the world of baseball. Along the way, you'll get comfortable with the basics of numpy, a powerful package to do data science.\n",
    "\n",
    "A list baseball has already been defined in the Python script, representing the height of some baseball players in centimeters. Can you add some code here and there to create a numpy array from it?\n",
    "Instructions\n",
    "100 XP\n",
    "\n",
    "    Import the numpy package as np, so that you can refer to numpy with np.\n",
    "    Use np.array() to create a numpy array from baseball. Name this array np_baseball.\n",
    "    Print out the type of np_baseball to check that you got it right.\n"
   ]
  },
  {
   "cell_type": "markdown",
   "id": "50bab153-7c73-463b-9ee5-bb99f1727801",
   "metadata": {},
   "source": [
    "## Baseball players' height\n",
    "\n",
    "You are a huge baseball fan. You decide to call the MLB (Major League Baseball) and ask around for some more statistics on the height of the main players. They pass along data on more than a thousand players, which is stored as a regular Python list: height_in. The height is expressed in inches. Can you make a numpy array out of it and convert the units to meters?\n",
    "\n",
    "height_in is already available and the numpy package is loaded, so you can start straight away (Source: stat.ucla.edu).\n",
    "Instructions\n",
    "100 XP\n",
    "\n",
    "    Create a numpy array from height_in. Name this new array np_height_in.\n",
    "    Print np_height_in.\n",
    "    Multiply np_height_in with 0.0254 to convert all height measurements from inches to meters. Store the new values in a new array, np_height_m.\n",
    "    Print out np_height_m and check if the output makes sense.\n",
    "\n",
    "\n",
    "# NumPy.array offers one step operation to all the elements"
   ]
  },
  {
   "cell_type": "markdown",
   "id": "7587fdc4-d0e9-4db1-9b5e-d8979bf7e6ed",
   "metadata": {},
   "source": [
    "## Baseball player's BMI\n",
    "\n",
    "The MLB also offers to let you analyze their weight data. Again, both are available as regular Python lists: height_in and weight_lb. height_in is in inches and weight_lb is in pounds.\n",
    "\n",
    "It's now possible to calculate the BMI of each baseball player. Python code to convert height_in to a numpy array with the correct units is already available in the workspace. Follow the instructions step by step and finish the game!\n",
    "Instructions\n",
    "100 XP\n",
    "\n",
    "    Create a numpy array from the weight_lb list with the correct units. Multiply by 0.453592 to go from pounds to kilograms. Store the resulting numpy array as np_weight_kg.\n",
    "    Use np_height_m and np_weight_kg to calculate the BMI of each player. Use the following equation:\n",
    "\n",
    "    BMI = weight(kg)/height(m)^2\n",
    "\n",
    "\n",
    "Save the resulting numpy array as bmi.\n",
    "Print out bmi."
   ]
  },
  {
   "cell_type": "markdown",
   "id": "06cd8909-a9fd-408a-b8ea-d87df405322b",
   "metadata": {},
   "source": [
    "## Lightweight baseball players\n",
    "\n",
    "To subset both regular Python lists and numpy arrays, you can use square brackets:\n",
    "\n",
    "x = [4 , 9 , 6, 3, 1]\n",
    "x[1]\n",
    "import numpy as np\n",
    "y = np.array(x)\n",
    "y[1]\n",
    "\n",
    "For numpy specifically, you can also use boolean numpy arrays:\n",
    "\n",
    "high = y > 5\n",
    "y[high]\n",
    "\n",
    "The code that calculates the BMI of all baseball players is already included. Follow the instructions and reveal interesting things from the data!\n",
    "Instructions\n",
    "100 XP\n",
    "\n",
    "    Create a boolean numpy array: the element of the array should be True if the corresponding baseball player's BMI is below 21. You can use the < operator for this. Name the array light.\n",
    "    Print the array light.\n",
    "    Print out a numpy array with the BMIs of all baseball players whose BMI is below 21. Use light inside square brackets to do a selection on the bmi array.\n"
   ]
  },
  {
   "cell_type": "code",
   "execution_count": null,
   "id": "031ea1aa-3c08-445f-9398-f33d6c948beb",
   "metadata": {},
   "outputs": [],
   "source": []
  },
  {
   "cell_type": "code",
   "execution_count": null,
   "id": "60e53045-c439-4ea9-9081-8e55d2e3470e",
   "metadata": {},
   "outputs": [],
   "source": []
  },
  {
   "cell_type": "code",
   "execution_count": null,
   "id": "98a53f98-2e1a-4538-93f3-8c51cd66ebbc",
   "metadata": {},
   "outputs": [],
   "source": []
  },
  {
   "cell_type": "code",
   "execution_count": null,
   "id": "6429d57d-1dd7-40a0-9844-40762f80266b",
   "metadata": {},
   "outputs": [],
   "source": []
  },
  {
   "cell_type": "code",
   "execution_count": null,
   "id": "0b5445db-6dbf-4087-bd08-a4787b7145d2",
   "metadata": {},
   "outputs": [],
   "source": []
  },
  {
   "cell_type": "code",
   "execution_count": null,
   "id": "bf608373-f11a-48e8-8754-6ae805a3b113",
   "metadata": {},
   "outputs": [],
   "source": []
  },
  {
   "cell_type": "code",
   "execution_count": null,
   "id": "72cfb1cb-0137-448c-ae97-694d39d72569",
   "metadata": {},
   "outputs": [],
   "source": []
  },
  {
   "cell_type": "code",
   "execution_count": null,
   "id": "784b452f-c8a1-45c7-9052-4ceb42bc7d30",
   "metadata": {},
   "outputs": [],
   "source": []
  },
  {
   "cell_type": "code",
   "execution_count": null,
   "id": "2aecf0e6-46b6-464a-9f47-64eeace478e9",
   "metadata": {},
   "outputs": [],
   "source": []
  },
  {
   "cell_type": "code",
   "execution_count": null,
   "id": "e7052dc6-7f36-441f-9547-b93b0cf6bee4",
   "metadata": {},
   "outputs": [],
   "source": []
  },
  {
   "cell_type": "code",
   "execution_count": null,
   "id": "34d00f4d-0448-4485-88c0-25ebb1784f1f",
   "metadata": {},
   "outputs": [],
   "source": []
  },
  {
   "cell_type": "code",
   "execution_count": null,
   "id": "7e190796-3deb-45ad-85e8-0090a2759ab4",
   "metadata": {},
   "outputs": [],
   "source": []
  },
  {
   "cell_type": "code",
   "execution_count": 9,
   "id": "80cc1dea-23d6-4286-8ca0-9376983cc37d",
   "metadata": {},
   "outputs": [
    {
     "ename": "NameError",
     "evalue": "name 'kwargs' is not defined",
     "output_type": "error",
     "traceback": [
      "\u001b[0;31m---------------------------------------------------------------------------\u001b[0m",
      "\u001b[0;31mNameError\u001b[0m                                 Traceback (most recent call last)",
      "\u001b[0;32m/tmp/ipykernel_2053/2422979339.py\u001b[0m in \u001b[0;36m<module>\u001b[0;34m\u001b[0m\n\u001b[1;32m      2\u001b[0m     \u001b[0;32mreturn\u001b[0m \u001b[0mkwargs\u001b[0m\u001b[0;34m\u001b[0m\u001b[0;34m\u001b[0m\u001b[0m\n\u001b[1;32m      3\u001b[0m \u001b[0;34m\u001b[0m\u001b[0m\n\u001b[0;32m----> 4\u001b[0;31m \u001b[0mmake_dict\u001b[0m\u001b[0;34m(\u001b[0m\u001b[0ma\u001b[0m \u001b[0;34m=\u001b[0m \u001b[0;36m1\u001b[0m\u001b[0;34m,\u001b[0m \u001b[0mb\u001b[0m \u001b[0;34m=\u001b[0m \u001b[0;36m2\u001b[0m\u001b[0;34m)\u001b[0m\u001b[0;34m\u001b[0m\u001b[0;34m\u001b[0m\u001b[0m\n\u001b[0m",
      "\u001b[0;32m/tmp/ipykernel_2053/2422979339.py\u001b[0m in \u001b[0;36mmake_dict\u001b[0;34m(a, b)\u001b[0m\n\u001b[1;32m      1\u001b[0m \u001b[0;32mdef\u001b[0m \u001b[0mmake_dict\u001b[0m\u001b[0;34m(\u001b[0m\u001b[0ma\u001b[0m\u001b[0;34m,\u001b[0m \u001b[0mb\u001b[0m\u001b[0;34m)\u001b[0m\u001b[0;34m:\u001b[0m\u001b[0;34m\u001b[0m\u001b[0;34m\u001b[0m\u001b[0m\n\u001b[0;32m----> 2\u001b[0;31m     \u001b[0;32mreturn\u001b[0m \u001b[0mkwargs\u001b[0m\u001b[0;34m\u001b[0m\u001b[0;34m\u001b[0m\u001b[0m\n\u001b[0m\u001b[1;32m      3\u001b[0m \u001b[0;34m\u001b[0m\u001b[0m\n\u001b[1;32m      4\u001b[0m \u001b[0mmake_dict\u001b[0m\u001b[0;34m(\u001b[0m\u001b[0ma\u001b[0m \u001b[0;34m=\u001b[0m \u001b[0;36m1\u001b[0m\u001b[0;34m,\u001b[0m \u001b[0mb\u001b[0m \u001b[0;34m=\u001b[0m \u001b[0;36m2\u001b[0m\u001b[0;34m)\u001b[0m\u001b[0;34m\u001b[0m\u001b[0;34m\u001b[0m\u001b[0m\n",
      "\u001b[0;31mNameError\u001b[0m: name 'kwargs' is not defined"
     ]
    }
   ],
   "source": [
    "def make_dict(a, b):\n",
    "    return kwargs\n",
    "\n",
    "make_dict(a = 1, b = 2)\n",
    "\n",
    "#Expected Output\n",
    "#\n",
    "#{'a': 1, 'b': 2}"
   ]
  },
  {
   "cell_type": "code",
   "execution_count": 55,
   "id": "851fed35-da82-47af-9c5c-7eb3547356a2",
   "metadata": {},
   "outputs": [
    {
     "name": "stdout",
     "output_type": "stream",
     "text": [
      "{'a': 1, 'b': 2}\n"
     ]
    },
    {
     "ename": "TypeError",
     "evalue": "n_dict() got an unexpected keyword argument 'a'",
     "output_type": "error",
     "traceback": [
      "\u001b[0;31m---------------------------------------------------------------------------\u001b[0m",
      "\u001b[0;31mTypeError\u001b[0m                                 Traceback (most recent call last)",
      "\u001b[0;32m/tmp/ipykernel_2053/3568421603.py\u001b[0m in \u001b[0;36m<module>\u001b[0;34m\u001b[0m\n\u001b[1;32m      9\u001b[0m     \u001b[0;32mreturn\u001b[0m \u001b[0margs\u001b[0m\u001b[0;34m\u001b[0m\u001b[0;34m\u001b[0m\u001b[0m\n\u001b[1;32m     10\u001b[0m \u001b[0;34m\u001b[0m\u001b[0m\n\u001b[0;32m---> 11\u001b[0;31m \u001b[0mprint\u001b[0m\u001b[0;34m(\u001b[0m\u001b[0mn_dict\u001b[0m\u001b[0;34m(\u001b[0m\u001b[0ma\u001b[0m \u001b[0;34m=\u001b[0m \u001b[0;36m1\u001b[0m\u001b[0;34m,\u001b[0m \u001b[0mb\u001b[0m \u001b[0;34m=\u001b[0m \u001b[0;36m2\u001b[0m\u001b[0;34m)\u001b[0m\u001b[0;34m)\u001b[0m\u001b[0;34m\u001b[0m\u001b[0;34m\u001b[0m\u001b[0m\n\u001b[0m\u001b[1;32m     12\u001b[0m \u001b[0;34m\u001b[0m\u001b[0m\n\u001b[1;32m     13\u001b[0m \u001b[0;34m\u001b[0m\u001b[0m\n",
      "\u001b[0;31mTypeError\u001b[0m: n_dict() got an unexpected keyword argument 'a'"
     ]
    }
   ],
   "source": [
    "# *************************************************************************************************** #\n",
    "def make_dict(**kwargs):\n",
    "    return kwargs\n",
    "\n",
    "print(make_dict(a = 1, b = 2))\n",
    "\n",
    "\n",
    "def n_dict(*args):\n",
    "    return args\n",
    "\n",
    "print(n_dict(a = 1, b = 2))\n",
    "\n",
    "\n",
    "def nn_dict(*args, **kwargs):\n",
    "    return args, kwargs\n",
    "\n",
    "print(nn_dict(a = 1, b = 2))\n",
    "#  Returns:\n",
    "#((), {'a': 1, 'b': 2})\n",
    "# *************************************************************************************************** #"
   ]
  },
  {
   "cell_type": "code",
   "execution_count": 11,
   "id": "b3315c02-83d0-4b97-8a25-9fea6560f9ef",
   "metadata": {},
   "outputs": [
    {
     "name": "stdout",
     "output_type": "stream",
     "text": [
      "[57, 62, 65, 67, 72, 212]\n"
     ]
    }
   ],
   "source": [
    "vals = [25, 30, 33, 35, 40, 180]\n",
    "new_vals = [val+32 for val in vals]\n",
    "\n",
    "print(new_vals)\n",
    "\n",
    "#Expected Output\n",
    "#\n",
    "#[57, 62, 65, 67, 72, 212]"
   ]
  },
  {
   "cell_type": "code",
   "execution_count": 12,
   "id": "3e2e51e8-7988-4407-9c18-1f1e13666bd2",
   "metadata": {},
   "outputs": [
    {
     "data": {
      "text/plain": [
       "[3, 4]"
      ]
     },
     "execution_count": 12,
     "metadata": {},
     "output_type": "execute_result"
    }
   ],
   "source": [
    "[i for i in range(5) if i-3>=0]\n",
    "\n",
    "#Expected Output\n",
    "#\n",
    "#[3, 4]"
   ]
  },
  {
   "cell_type": "code",
   "execution_count": 13,
   "id": "98c4b984-0a93-40f6-9633-51a98660f026",
   "metadata": {},
   "outputs": [
    {
     "data": {
      "text/plain": [
       "2"
      ]
     },
     "execution_count": 13,
     "metadata": {},
     "output_type": "execute_result"
    }
   ],
   "source": [
    "d = {\n",
    "    'one': 1,\n",
    "    'two': 2,\n",
    "    'three': 3,\n",
    "    'four': 4\n",
    "}\n",
    "\n",
    "d.pop('two')\n",
    "\n",
    "#Expected Output\n",
    "#\n",
    "#3"
   ]
  },
  {
   "cell_type": "code",
   "execution_count": 14,
   "id": "c95b68bc-62d7-4c0b-ac07-636414bc9997",
   "metadata": {},
   "outputs": [
    {
     "data": {
      "text/plain": [
       "'Natural entity in the observable universe.'"
      ]
     },
     "execution_count": 14,
     "metadata": {},
     "output_type": "execute_result"
    }
   ],
   "source": [
    "class AstroBody:\n",
    "    description = 'Natural entity in the observable universe.'    \n",
    "\n",
    "class Star(AstroBody):\n",
    "    pass\n",
    "\n",
    "sun = Star()\n",
    "\n",
    "sun.description\n",
    "\n",
    "#Expected Output\n",
    "#\n",
    "#'Natural entity in the observable universe.'"
   ]
  },
  {
   "cell_type": "code",
   "execution_count": 15,
   "id": "7ed55b6d-0cf5-4a3d-81af-381dd2e68755",
   "metadata": {},
   "outputs": [
    {
     "data": {
      "text/plain": [
       "'I know how to interact with the docstrings of a function.'"
      ]
     },
     "execution_count": 15,
     "metadata": {},
     "output_type": "execute_result"
    }
   ],
   "source": [
    "def fun_docs():\n",
    "    \"\"\"I know how to interact with the docstrings of a function.\"\"\"\n",
    "    \n",
    "    return None\n",
    "\n",
    "fun_docs.__doc__\n",
    "\n",
    "#Expected Output\n",
    "#\n",
    "#'I know how to interact with the docstrings of a function.'"
   ]
  },
  {
   "cell_type": "code",
   "execution_count": 16,
   "id": "6d43defb-6034-4ec8-9380-c0799029b434",
   "metadata": {},
   "outputs": [
    {
     "name": "stdout",
     "output_type": "stream",
     "text": [
      "True\n"
     ]
    }
   ],
   "source": [
    "with open('hello.txt', 'w') as file:\n",
    "    file.write(\"hello!\")\n",
    "\n",
    "print(file.closed)\n",
    "\n",
    "#Expected Output\n",
    "\n",
    "#True"
   ]
  },
  {
   "cell_type": "code",
   "execution_count": 17,
   "id": "1a201aa8-c72c-4da2-8fe1-e7e8b6fb0def",
   "metadata": {},
   "outputs": [
    {
     "ename": "SyntaxError",
     "evalue": "invalid syntax (2853042306.py, line 1)",
     "output_type": "error",
     "traceback": [
      "\u001b[0;36m  File \u001b[0;32m\"/tmp/ipykernel_2053/2853042306.py\"\u001b[0;36m, line \u001b[0;32m1\u001b[0m\n\u001b[0;31m    x = 0*i for i in range(5)if i>=0\u001b[0m\n\u001b[0m            ^\u001b[0m\n\u001b[0;31mSyntaxError\u001b[0m\u001b[0;31m:\u001b[0m invalid syntax\n"
     ]
    }
   ],
   "source": [
    "x = 0*i for i in range(5)if i>=0\n",
    "\n",
    "next(x)\n",
    "\n",
    "#Expected Output\n",
    "\n",
    "#0"
   ]
  },
  {
   "cell_type": "code",
   "execution_count": 44,
   "id": "70dabc78-af0b-4c6d-97e5-7d3e6f4d8fcc",
   "metadata": {},
   "outputs": [
    {
     "name": "stdout",
     "output_type": "stream",
     "text": [
      "0\n",
      "<generator object <genexpr> at 0x7fa5b77e1900>\n",
      "1 2 3 4\n"
     ]
    }
   ],
   "source": [
    "# *************************************************************************************************** #\n",
    "x = (i for i in range(5))\n",
    "\n",
    "\n",
    "print(next(x))\n",
    "\n",
    "print(x)\n",
    "print(*x)\n",
    "# *************************************************************************************************** #\n"
   ]
  },
  {
   "cell_type": "code",
   "execution_count": 19,
   "id": "f803e398-0f55-41f1-bba3-c0d8d754ef42",
   "metadata": {},
   "outputs": [
    {
     "ename": "TypeError",
     "evalue": "'list' object is not an iterator",
     "output_type": "error",
     "traceback": [
      "\u001b[0;31m---------------------------------------------------------------------------\u001b[0m",
      "\u001b[0;31mTypeError\u001b[0m                                 Traceback (most recent call last)",
      "\u001b[0;32m/tmp/ipykernel_2053/2797154323.py\u001b[0m in \u001b[0;36m<module>\u001b[0;34m\u001b[0m\n\u001b[1;32m      1\u001b[0m \u001b[0mx\u001b[0m \u001b[0;34m=\u001b[0m \u001b[0;34m[\u001b[0m\u001b[0mi\u001b[0m \u001b[0;32mfor\u001b[0m \u001b[0mi\u001b[0m \u001b[0;32min\u001b[0m \u001b[0mrange\u001b[0m\u001b[0;34m(\u001b[0m\u001b[0;36m5\u001b[0m\u001b[0;34m)\u001b[0m\u001b[0;34m]\u001b[0m\u001b[0;34m\u001b[0m\u001b[0;34m\u001b[0m\u001b[0m\n\u001b[1;32m      2\u001b[0m \u001b[0;34m\u001b[0m\u001b[0m\n\u001b[0;32m----> 3\u001b[0;31m \u001b[0mnext\u001b[0m\u001b[0;34m(\u001b[0m\u001b[0mx\u001b[0m\u001b[0;34m)\u001b[0m\u001b[0;34m\u001b[0m\u001b[0;34m\u001b[0m\u001b[0m\n\u001b[0m\u001b[1;32m      4\u001b[0m \u001b[0;34m\u001b[0m\u001b[0m\n\u001b[1;32m      5\u001b[0m \u001b[0;31m#Expected Output\u001b[0m\u001b[0;34m\u001b[0m\u001b[0;34m\u001b[0m\u001b[0;34m\u001b[0m\u001b[0m\n",
      "\u001b[0;31mTypeError\u001b[0m: 'list' object is not an iterator"
     ]
    }
   ],
   "source": [
    "x = [i for i in range(5)]\n",
    "\n",
    "next(x)\n",
    "\n",
    "#Expected Output\n",
    "\n",
    "#0"
   ]
  },
  {
   "cell_type": "code",
   "execution_count": 21,
   "id": "443ffba3-46f9-48f3-bcd6-d0fdfb97f47e",
   "metadata": {},
   "outputs": [
    {
     "name": "stdout",
     "output_type": "stream",
     "text": [
      "10\n",
      "-3\n"
     ]
    }
   ],
   "source": [
    "def multiply(by = None):\n",
    "\tdef multiply_real_decorator(function):\n",
    "\t\tdef wrapper(*args,**kwargs):\n",
    "\t\t\treturn by * function(*args,**kwargs)\n",
    "\t\treturn wrapper\n",
    "\treturn multiply_real_decorator\n",
    "\n",
    "@multiply(2)\n",
    "def adder(a,b):\n",
    "    return a + b\n",
    "\n",
    "@multiply(3)\n",
    "def subtractor(a,b):\n",
    "    return a - b\n",
    "\n",
    "print(adder(2,3))\n",
    "print(subtractor(2,3))\n",
    "\n",
    "#Expected Output\n",
    "#\n",
    "#10\n",
    "#-3"
   ]
  },
  {
   "cell_type": "code",
   "execution_count": 22,
   "id": "fa1c82c6-04e3-4910-9061-693fda16f410",
   "metadata": {},
   "outputs": [
    {
     "data": {
      "text/plain": [
       "729"
      ]
     },
     "execution_count": 22,
     "metadata": {},
     "output_type": "execute_result"
    }
   ],
   "source": [
    "def square_args(func):\n",
    "    def inner(a, b):\n",
    "        return func(a ** 2, b ** 2)\n",
    "    return inner\n",
    "\n",
    "@square_args\n",
    "def multiply(a, b):\n",
    "    return a * b\n",
    "  \n",
    "multiply(3, 9)\n",
    "\n",
    "#Expected Output\n",
    "\n",
    "#729"
   ]
  },
  {
   "cell_type": "code",
   "execution_count": 30,
   "id": "6ede48ae-582a-4cf1-872b-e06caf94a322",
   "metadata": {},
   "outputs": [
    {
     "ename": "SyntaxError",
     "evalue": "expression cannot contain assignment, perhaps you meant \"==\"? (2143515519.py, line 3)",
     "output_type": "error",
     "traceback": [
      "\u001b[0;36m  File \u001b[0;32m\"/tmp/ipykernel_2053/2143515519.py\"\u001b[0;36m, line \u001b[0;32m3\u001b[0m\n\u001b[0;31m    print(lambda x: x=\"I know how to call this function.\")\u001b[0m\n\u001b[0m          ^\u001b[0m\n\u001b[0;31mSyntaxError\u001b[0m\u001b[0;31m:\u001b[0m expression cannot contain assignment, perhaps you meant \"==\"?\n"
     ]
    }
   ],
   "source": [
    "x = lambda : \"I know how to call this function.\"\n",
    "\n",
    "print(lambda x: x=\"I know how to call this function.\")\n",
    "\n",
    "#Expected Output\n",
    "\n",
    "#'I know how to call this function.'"
   ]
  },
  {
   "cell_type": "code",
   "execution_count": 45,
   "id": "6193d315-c089-4d92-a91b-623316923921",
   "metadata": {},
   "outputs": [
    {
     "data": {
      "text/plain": [
       "'I know how to call this function.'"
      ]
     },
     "execution_count": 45,
     "metadata": {},
     "output_type": "execute_result"
    }
   ],
   "source": [
    "# *************************************************************************************************** #\n",
    "x = lambda : \"I know how to call this function.\"\n",
    "\n",
    "#print(lambda x: x = \"I know how to call this function.\")\n",
    "# *************************************************************************************************** #\n",
    "x()\n"
   ]
  },
  {
   "cell_type": "code",
   "execution_count": 31,
   "id": "6084f0a7-a1df-470d-8120-52b700f967c5",
   "metadata": {},
   "outputs": [
    {
     "data": {
      "text/plain": [
       "{1, 2}"
      ]
     },
     "execution_count": 31,
     "metadata": {},
     "output_type": "execute_result"
    }
   ],
   "source": [
    "a = {1, 2, 3, 4}\n",
    "b = {3, 4, 5, 6}\n",
    "\n",
    "a.difference(b)\n",
    "\n",
    "#Expected Output\n",
    "\n",
    "#{1, 2}"
   ]
  },
  {
   "cell_type": "code",
   "execution_count": 34,
   "id": "91e53b88-750a-4ca0-9b4b-119d0bb1cf1d",
   "metadata": {},
   "outputs": [
    {
     "name": "stdout",
     "output_type": "stream",
     "text": [
      "{99, 12, 77, 78, 46, 23}\n"
     ]
    }
   ],
   "source": [
    "# One method of improving the efficiency of your code is to make use of Python built-in types. \n",
    "# The code below determines which numbers overlap between two lists of numbers. Use the built-in\n",
    "# set type to create a more efficient version of this code.\n",
    "\n",
    "def overlap(a, b):\n",
    "    overlaps = []\n",
    "    for x in a:\n",
    "        for y in b:\n",
    "            if x == y:\n",
    "                overlaps.append(x)\n",
    "\n",
    "    return overlaps\n",
    "a = [99, 23, 46, 78, 12, 34, 56, 15, 22, 77, 31, 9, 1]\n",
    "b = [12, 16, 43, 77, 11, 99, 23, 44, 50, 46, 78, 3, 2]\n",
    "overlap(a, b)\n",
    "#[99, 23, 46, 78, 12, 77]\n",
    "\n",
    "#Complete the code to return the output\n",
    "\n",
    "a = [99, 23, 46, 78, 12, 34, 56, 15, 22, 77, 31, 9, 1]\n",
    "b = [12, 16, 43, 77, 11, 99, 23, 44, 50, 46, 78, 3, 2]\n",
    "overlaps = set(a) & set(b)\n",
    "# *************************************************************************************************** #\n",
    "\n",
    "print(overlaps)\n",
    "\n",
    "#Expected Output\n",
    "#\n",
    "#{99, 12, 77, 78, 46, 23}"
   ]
  },
  {
   "cell_type": "code",
   "execution_count": 35,
   "id": "a9ee1447-51d5-4fd2-83c1-b38de7426e4d",
   "metadata": {},
   "outputs": [
    {
     "data": {
      "text/plain": [
       "{1, 2, 3, 4, 5, 6}"
      ]
     },
     "execution_count": 35,
     "metadata": {},
     "output_type": "execute_result"
    }
   ],
   "source": [
    "a = {1, 2, 3}\n",
    "b = {4, 5, 6}\n",
    "\n",
    "a.union(b)\n",
    "\n",
    "#Expected Output\n",
    "#\n",
    "#{1, 2, 3, 4, 5, 6}"
   ]
  },
  {
   "cell_type": "code",
   "execution_count": null,
   "id": "7fb8f31d-cd4f-4ce2-b5c1-9288f67aecb0",
   "metadata": {},
   "outputs": [],
   "source": []
  },
  {
   "cell_type": "code",
   "execution_count": null,
   "id": "06c593f6-effc-4ea2-8457-1a39450b79d4",
   "metadata": {},
   "outputs": [],
   "source": []
  },
  {
   "cell_type": "code",
   "execution_count": null,
   "id": "bc140565-94b6-4c49-8d4c-fb3d94f4ee8e",
   "metadata": {},
   "outputs": [],
   "source": []
  },
  {
   "cell_type": "code",
   "execution_count": null,
   "id": "57c129ae-1782-4ab1-9af1-786c4bd0e283",
   "metadata": {},
   "outputs": [],
   "source": []
  },
  {
   "cell_type": "code",
   "execution_count": null,
   "id": "aae5ec4c-6d6f-4e68-8937-2fd8b81a21cf",
   "metadata": {},
   "outputs": [],
   "source": []
  },
  {
   "cell_type": "code",
   "execution_count": null,
   "id": "edcf3bf4-83db-4086-8318-0dfea1f0d36e",
   "metadata": {},
   "outputs": [],
   "source": []
  },
  {
   "cell_type": "code",
   "execution_count": null,
   "id": "15a68abb-f22e-4472-bd07-55d53a8df9de",
   "metadata": {},
   "outputs": [],
   "source": []
  },
  {
   "cell_type": "code",
   "execution_count": null,
   "id": "38d5688b-dc06-43a6-a797-dc3e51ab7181",
   "metadata": {
    "tags": []
   },
   "outputs": [],
   "source": []
  },
  {
   "cell_type": "code",
   "execution_count": null,
   "id": "a75f74c1-b3f9-4676-8502-c97ef8010106",
   "metadata": {},
   "outputs": [],
   "source": []
  },
  {
   "cell_type": "code",
   "execution_count": null,
   "id": "26c3e8cd-d39a-474f-9b65-94dfed29bee6",
   "metadata": {},
   "outputs": [],
   "source": []
  },
  {
   "cell_type": "code",
   "execution_count": null,
   "id": "ad260302-4e51-452f-87dc-be47a1436e55",
   "metadata": {},
   "outputs": [],
   "source": []
  },
  {
   "cell_type": "code",
   "execution_count": null,
   "id": "f514eac2-e0bc-439d-9528-2e497862aa0b",
   "metadata": {},
   "outputs": [],
   "source": []
  },
  {
   "cell_type": "code",
   "execution_count": null,
   "id": "450158f1-af25-4684-9e3f-258a9a5732f1",
   "metadata": {},
   "outputs": [],
   "source": []
  },
  {
   "cell_type": "code",
   "execution_count": null,
   "id": "3a327fdb-384e-49eb-ad71-b0e8886c59a3",
   "metadata": {},
   "outputs": [],
   "source": []
  },
  {
   "cell_type": "code",
   "execution_count": null,
   "id": "0bb58c42-fc01-4cfd-975a-ebec5a244815",
   "metadata": {},
   "outputs": [],
   "source": []
  },
  {
   "cell_type": "code",
   "execution_count": null,
   "id": "bb2efe40-6558-4203-bf8b-a7fbacda95ac",
   "metadata": {},
   "outputs": [],
   "source": []
  },
  {
   "cell_type": "code",
   "execution_count": null,
   "id": "9ed9e304-3e98-4367-a83b-e506d83400e6",
   "metadata": {},
   "outputs": [],
   "source": []
  },
  {
   "cell_type": "code",
   "execution_count": null,
   "id": "a6c49285-2a22-47a8-9233-71e705b5ea91",
   "metadata": {},
   "outputs": [],
   "source": []
  },
  {
   "cell_type": "code",
   "execution_count": null,
   "id": "524cc0f9-bbba-45de-b0da-17b8166236c8",
   "metadata": {},
   "outputs": [],
   "source": []
  }
 ],
 "metadata": {
  "kernelspec": {
   "display_name": "Python 3 (ipykernel)",
   "language": "python",
   "name": "python3"
  },
  "language_info": {
   "codemirror_mode": {
    "name": "ipython",
    "version": 3
   },
   "file_extension": ".py",
   "mimetype": "text/x-python",
   "name": "python",
   "nbconvert_exporter": "python",
   "pygments_lexer": "ipython3",
   "version": "3.9.2"
  }
 },
 "nbformat": 4,
 "nbformat_minor": 5
}
