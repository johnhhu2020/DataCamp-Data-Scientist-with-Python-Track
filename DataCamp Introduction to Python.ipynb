{
 "cells": [
  {
   "cell_type": "markdown",
   "id": "35600ba9-a167-4cee-988d-121df328a4c1",
   "metadata": {},
   "source": [
    "# Introduction to Python\n",
    "\n",
    "\n"
   ]
  },
  {
   "cell_type": "markdown",
   "id": "bcd0c50f-577b-4236-9130-9cfbd2f2f82a",
   "metadata": {},
   "source": [
    "## Python Basics\n",
    "Free\n",
    "38%\n",
    "\n",
    "An introduction to the basic concepts of Python. Learn how to use Python interactively and by using a script. Create your first variables and acquaint yourself with Python's basic data types.\n",
    "\n",
    "    Hello Python!    50 xp\n",
    "    The Python Interface    100 xp\n",
    "    When to use Python?    50 xp\n",
    "    Any comments?    100 xp\n",
    "    Python as a calculator    100 xp\n",
    "    Variables and Types    50 xp\n",
    "    Variable Assignment    100 xp\n",
    "    Calculations with variables    100 xp\n",
    "    Other variable types    100 xp\n",
    "    Guess the type    50 xp\n",
    "    Operations with other types    100 xp\n",
    "    Type conversion    100 xp\n",
    "    Can Python handle everything?    50 xp\n"
   ]
  },
  {
   "cell_type": "markdown",
   "id": "c1b30022-7a81-49b3-817f-887ffe974c3e",
   "metadata": {},
   "source": [
    "##  Python Lists\n",
    "Free\n",
    "13%\n",
    "\n",
    "Learn to store, access, and manipulate data in lists: the first step toward efficiently working with huge amounts of data.\n",
    "\n",
    "    Python Lists    50 xp\n",
    "    Create a list    100 xp\n",
    "    Create list with different types    100 xp\n",
    "    Select the valid list    50 xp\n",
    "    List of lists    100 xp\n",
    "    Subsetting Lists    50 xp\n",
    "    Subset and conquer    100 xp\n",
    "    Subset and calculate    100 xp\n",
    "    Slicing and dicing    100 xp\n",
    "    Slicing and dicing (2)    100 xp\n",
    "    Subsetting lists of lists    50 xp\n",
    "    Manipulating Lists    50 xp\n",
    "    Replace list elements    100 xp\n",
    "    Extend a list    100 xp\n",
    "    Delete list elements    50 xp\n",
    "    Inner workings of lists    100 xp\n"
   ]
  },
  {
   "cell_type": "markdown",
   "id": "c6ff703d-c5e7-44da-ba94-6cd630dc0adc",
   "metadata": {},
   "source": [
    "##  Functions and Packages\n",
    "Free\n",
    "25%\n",
    "\n",
    "You'll learn how to use functions, methods, and packages to efficiently leverage the code that brilliant Python developers have written. The goal is to reduce the amount of code you need to solve challenging problems!\n",
    "\n",
    "    Functions    50 xp\n",
    "    Familiar functions    100 xp\n",
    "    Help!    50 xp\n",
    "    Multiple arguments    100 xp\n",
    "    Methods    50 xp\n",
    "    String Methods    100 xp\n",
    "    List Methods    100 xp\n",
    "    List Methods (2)    100 xp\n",
    "    Packages    50 xp\n",
    "    Import package    100 xp\n",
    "    Selective import    100 xp\n",
    "    Different ways of importing    50 xp\n"
   ]
  },
  {
   "cell_type": "markdown",
   "id": "ca9a43fc-31cb-4833-a02e-83a821e1fcbb",
   "metadata": {},
   "source": [
    "##  NumPy\n",
    "Free\n",
    "0%\n",
    "\n",
    "NumPy is a fundamental Python package to efficiently practice data science. Learn to work with powerful tools in the NumPy array, and get started with data exploration.\n",
    "\n",
    "    Numpy    50 xp\n",
    "    Your First NumPy Array    100 xp\n",
    "    Baseball players' height    100 xp\n",
    "    Baseball player's BMI    100 xp\n",
    "    Lightweight baseball players    100 xp\n",
    "    NumPy Side Effects    50 xp\n",
    "    Subsetting NumPy Arrays    100 xp\n",
    "    2D Numpy Arrays    50 xp\n",
    "    Your First 2D NumPy Array    100 xp\n",
    "    Baseball data in 2D form    100 xp\n",
    "    Subsetting 2D NumPy Arrays    100 xp\n",
    "    2D Arithmetic    100 xp\n",
    "    Numpy: Basic Statistics    50 xp\n",
    "    Average versus median    100 xp\n",
    "    Explore the baseball data    100 xp\n",
    "    Blend it all together    100 xp\n"
   ]
  },
  {
   "cell_type": "code",
   "execution_count": null,
   "id": "332cfcf7-23c5-4ecd-a8fd-119e9b783078",
   "metadata": {},
   "outputs": [],
   "source": [
    "##"
   ]
  },
  {
   "cell_type": "markdown",
   "id": "392c2354-4a7c-41e7-b640-d6821d91bfca",
   "metadata": {},
   "source": [
    "## Hello Python!\n",
    "\n",
    "   __General purpose, build anything__\n",
    "   __Open source! Free__\n",
    "   __Python packages, also for data science__\n",
    "   __many applications and fields__\n",
    "\n",
    "\n",
    "**Python was conceived by Guido Van Rossum.  What startedas a hobby project soon became a general purpose programing language.  Nowdays you can use Python to build practically any piece of software.  \n",
    "\n",
    "**First Python is open source, its free to use. \n",
    "**Second its very easy to build packagesin Python, which is the code you can sare with other people to solve specific problems.  Thoughtout time, more and more of these packages specifically built for data science have been developed.  "
   ]
  },
  {
   "cell_type": "markdown",
   "id": "8f2e7d58-efad-4927-8d75-9d68ae5a31eb",
   "metadata": {},
   "source": [
    "## Python script\n",
    "\n",
    "\n",
    "   __Text file - .py__\n",
    "   __List of Python commands__\n",
    "   \n",
    "   \n",
    "   \n",
    "\n",
    "**These Python scripts are just simply text file with the extension .py.  It basically a list of Python commands that are executed, almost as if you are typing the command in the shell yourself, line by line.  \n",
    "\n",
    "**Putting your code in Python scripts instead of manually retyping every step interactively will help you to keep structure and avoid retyping everything over and over again if you want to make a change.  You simply make the change in the script, and rerun the entire thing.  \n",
    "\n",
    "# Get coding and don't forget to have fun.  "
   ]
  },
  {
   "cell_type": "markdown",
   "id": "49520822-9d95-4e0a-aba4-95221410f484",
   "metadata": {},
   "source": [
    "## When to use Python?\n",
    "\n",
    "Python is a pretty versatile language. For which applications can you use Python?\n",
    "Instructions\n",
    "50 XP\n",
    "Possible Answers\n",
    "\n",
    "    You want to do some quick calculations.\n",
    "    For your new business, you want to develop a database-driven website.\n",
    "    Your boss asks you to clean and analyze the results of the latest satisfaction survey.\n",
    "    All of the above."
   ]
  },
  {
   "cell_type": "markdown",
   "id": "c7d5e902-11d4-4390-b1e1-1cabbf021d2b",
   "metadata": {},
   "source": [
    "## Any comments?\n",
    "\n",
    "Something that Hugo didn't mention in his videos is that you can add comments to your Python scripts. Comments are important to make sure that you and others can understand what your code is about.\n",
    "\n",
    "To add comments to your Python script, you can use the # tag. These comments are not run as Python code, so they will not influence your result. As an example, take the comment in the editor, # Division; it is completely ignored during execution.\n",
    "Instructions\n",
    "100 XP\n",
    "\n",
    "Above the print(7 + 10), add the comment\n",
    "\n",
    "# Addition\n"
   ]
  },
  {
   "cell_type": "markdown",
   "id": "1ef1a0a0-5734-4673-83e1-87a765ff3cc1",
   "metadata": {},
   "source": [
    "## Python as a calculator\n",
    "\n",
    "Python is perfectly suited to do basic calculations. Apart from addition, subtraction, multiplication and division, there is also support for more advanced operations such as:\n",
    "\n",
    "    Exponentiation: **. This operator raises the number to its left to the power of the number to its right. For example 4**2 will give 16.\n",
    "    Modulo: %. This operator returns the remainder of the division of the number to the left by the number on its right. For example 18 % 7 equals 4.\n",
    "\n",
    "The code in the script gives some examples.\n",
    "Instructions\n",
    "100 XP\n",
    "\n",
    "Suppose you have $100, which you can invest with a 10% return each year. After one year, it's 100*1.1 = 110 dollars, and after two years it's 100*1.1*1.1 = 121. Add code to calculate how much money you end up with after 7 years, and print the result."
   ]
  },
  {
   "cell_type": "code",
   "execution_count": 1,
   "id": "e6ef9345-16aa-4cb0-bdc6-065b19ac3008",
   "metadata": {},
   "outputs": [
    {
     "name": "stdout",
     "output_type": "stream",
     "text": [
      "10\n",
      "0\n",
      "15\n",
      "5.0\n",
      "4\n",
      "16\n",
      "194.87171000000012\n"
     ]
    }
   ],
   "source": [
    "# Addition, subtraction\n",
    "print(5 + 5)\n",
    "print(5 - 5)\n",
    "\n",
    "# Multiplication, division, modulo, and exponentiation\n",
    "print(3 * 5)\n",
    "print(10 / 2)\n",
    "print(18 % 7)\n",
    "print(4 ** 2)\n",
    "\n",
    "# How much is your $100 worth after 7 years?\n",
    "print(100*1.1**7)"
   ]
  },
  {
   "cell_type": "markdown",
   "id": "c07c81a8-a3e0-4973-b334-7d38329b3978",
   "metadata": {},
   "source": [
    "## Variables and Types\n",
    "\n",
    "\n",
    "   __Specific, case-sensitive name__\n",
    "   __Call up value though variable name__\n",
    "   ____\n",
    "\n",
    "\n",
    "**If you wan to save the values while you coding along.  You can do this by defining a variable, with a specific case-sensitive name.  Once you create or declare such a variable, you can later call up its value by typing the variable name\n",
    "\n"
   ]
  },
  {
   "cell_type": "code",
   "execution_count": 3,
   "id": "9339a9cc-ace3-4737-a255-aed596cd19dd",
   "metadata": {},
   "outputs": [
    {
     "name": "stdout",
     "output_type": "stream",
     "text": [
      "18.870663376397157\n",
      "<class 'float'>\n",
      "True\n",
      "<class 'bool'>\n"
     ]
    }
   ],
   "source": [
    "height = 1.66\n",
    "weight = 52\n",
    "\n",
    "bmi = weight/height**2\n",
    "print(bmi)\n",
    "print(type(bmi))\n",
    "\n",
    "bb = True\n",
    "print(bb)\n",
    "print(type(bb))"
   ]
  },
  {
   "cell_type": "markdown",
   "id": "14c99c94-c3c0-4b7f-bcd2-7598cb2c6c72",
   "metadata": {},
   "source": [
    "## Python Types\n",
    "\n",
    "\n",
    "**String is Python's way to represent text\n",
    "\n",
    "**Booleans will be very useful in the future, to perform filtering operations on your data for example.\n",
    "\n",
    "# There's something special about Python data types.  \n",
    "  **How the code behave depends on the types. "
   ]
  },
  {
   "cell_type": "code",
   "execution_count": 5,
   "id": "3d404b5e-021b-4359-b215-4e0ae9e0cf4d",
   "metadata": {},
   "outputs": [
    {
     "name": "stdout",
     "output_type": "stream",
     "text": [
      "abcABC\n"
     ]
    }
   ],
   "source": [
    "a = 'abc'\n",
    "b = 'ABC'\n",
    "\n",
    "c = a + b\n",
    "print(c)"
   ]
  },
  {
   "cell_type": "markdown",
   "id": "c57d4f1c-eda5-4f3f-8a12-f9f0e93ee4e0",
   "metadata": {},
   "source": [
    "## Variable Assignment\n",
    "\n",
    "In Python, a variable allows you to refer to a value with a name. To create a variable use =, like this example:\n",
    "\n",
    "x = 5\n",
    "\n",
    "You can now use the name of this variable, x, instead of the actual value, 5.\n",
    "\n",
    "# Remember, = in Python means assignment, it doesn't test equality!\n",
    "Instructions\n",
    "100 XP\n",
    "\n",
    "    Create a variable savings with the value 100.\n",
    "    Check out this variable by typing print(savings) in the script.\n"
   ]
  },
  {
   "cell_type": "markdown",
   "id": "cf4bb23a-671b-4510-81b0-25f54b0e21c7",
   "metadata": {},
   "source": [
    "## Calculations with variables\n",
    "\n",
    "Remember how you calculated the money you ended up with after 7 years of investing $100? You did something like this:\n",
    "\n",
    "100 * 1.1 ** 7\n",
    "\n",
    "Instead of calculating with the actual values, you can use variables instead. The savings variable you've created in the previous exercise represents the $100 you started with. It's up to you to create a new variable to represent 1.1 and then redo the calculations!\n",
    "Instructions\n",
    "100 XP\n",
    "\n",
    "    Create a variable growth_multiplier, equal to 1.1.\n",
    "    Create a variable, result, equal to the amount of money you saved after 7 years.\n",
    "    Print out the value of result.\n",
    "\n"
   ]
  },
  {
   "cell_type": "markdown",
   "id": "650319bf-972e-4ff3-91ee-ef3de9599fe4",
   "metadata": {},
   "source": [
    "## Other variable types\n",
    "\n",
    "In the previous exercise, you worked with two Python data types:\n",
    "\n",
    "    int, or integer: a number without a fractional part. savings, with the value 100, is an example of an integer.\n",
    "    float, or floating point: a number that has both an integer and fractional part, separated by a point. growth_multiplier, with the value 1.1, is an example of a float.\n",
    "\n",
    "Next to numerical data types, there are two other very common data types:\n",
    "\n",
    "    str, or string: a type to represent text. You can use single or double quotes to build a string.\n",
    "    bool, or boolean: a type to represent logical values. Can only be True or False (the capitalization is important!).\n",
    "\n",
    "Instructions\n",
    "100 XP\n",
    "\n",
    "    Create a new string, desc, with the value \"compound interest\".\n",
    "    Create a new boolean, profitable, with the value True.\n"
   ]
  },
  {
   "cell_type": "markdown",
   "id": "cca5c617-ff3d-4108-b095-a278fd64edad",
   "metadata": {},
   "source": [
    "## Guess the type\n",
    "\n",
    "To find out the type of a value or a variable that refers to that value, you can use the type() function. Suppose you've defined a variable a, but you forgot the type of this variable. To determine the type of a, simply execute:\n",
    "\n",
    "type(a)\n",
    "\n",
    "We already went ahead and created three variables: a, b and c. You can use the IPython shell to discover their type. Which of the following options is correct?\n",
    "Instructions\n",
    "50 XP\n",
    "Possible Answers\n",
    "\n",
    "    a is of type int, b is of type str, c is of type bool\n",
    "    a is of type float, b is of type bool, c is of type str\n",
    "    a is of type float, b is of type str, c is of type bool\n",
    "    a is of type int, b is of type bool, c is of type str"
   ]
  },
  {
   "cell_type": "markdown",
   "id": "c9ef3249-f921-4bcf-8144-6cc34743bcfe",
   "metadata": {},
   "source": [
    "## Operations with other types\n",
    "\n",
    "Hugo mentioned that different types behave differently in Python.\n",
    "\n",
    "When you sum two strings, for example, you'll get different behavior than when you sum two integers or two booleans.\n",
    "\n",
    "In the script some variables with different types have already been created. It's up to you to use them.\n",
    "Instructions\n",
    "100 XP\n",
    "\n",
    "    Calculate the product of savings and growth_multiplier. Store the result in year1.\n",
    "    What do you think the resulting type will be? Find out by printing out the type of year1.\n",
    "    Calculate the sum of desc and desc and store the result in a new variable doubledesc.\n",
    "    Print out doubledesc. Did you expect this?\n"
   ]
  },
  {
   "cell_type": "markdown",
   "id": "f990ad71-0980-4038-8395-4a618b866d75",
   "metadata": {},
   "source": [
    "## Type conversion\n",
    "\n",
    "Using the + operator to paste together two strings can be very useful in building custom messages.\n",
    "\n",
    "Suppose, for example, that you've calculated the return of your investment and want to summarize the results in a string. Assuming the integer savings and float result are defined, you can try something like this:\n",
    "\n",
    "print(\"I started with $\" + savings + \" and now have $\" + result + \". Awesome!\")\n",
    "\n",
    "# This will not work, though, as you cannot simply sum strings and integers/floats.\n",
    "\n",
    "To fix the error, you'll need to explicitly convert the types of your variables. More specifically, you'll need str(), to convert a value into a string. str(savings), for example, will convert the integer savings to a string.\n",
    "\n",
    "Similar functions such as int(), float() and bool() will help you convert Python values into any type.\n",
    "Instructions\n",
    "100 XP\n",
    "\n",
    "    Hit Run Code to run the code. Try to understand the error message.\n",
    "    Fix the code such that the printout runs without errors; use the function str() to convert the variables to strings.\n",
    "    Convert the variable pi_string to a float and store this float as a new variable, pi_float.\n"
   ]
  },
  {
   "cell_type": "markdown",
   "id": "306cf6ee-0c10-484a-9639-a7ed6f4f2296",
   "metadata": {},
   "source": [
    "## Can Python handle everything?\n",
    "\n",
    "Now that you know something more about combining different sources of information, have a look at the four Python expressions below. Which one of these will throw an error? You can always copy and paste this code in the IPython Shell to find out!\n",
    "Instructions\n",
    "50 XP\n",
    "Possible Answers\n",
    "\n",
    "    \"I can add integers, like \" + str(5) + \" to strings.\"\n",
    "    \"I said \" + (\"Hey \" * 2) + \"Hey!\"\n",
    "    \"The correct answer to this multiple choice exercise is answer number \" + 2\n",
    "    True + False"
   ]
  },
  {
   "cell_type": "markdown",
   "id": "3bdb9616-78ba-433c-ab4a-f43db7589da4",
   "metadata": {},
   "source": [
    "## Python Lists\n",
    "\n",
    "\n",
    "**By now, you've palyed around with different data types, and I hope you've had as much fun as I have. \n",
    "\n",
    "\n",
    "\n",
    "## Python Data Types\n",
    "\n",
    "   __float - real number__\n",
    "   __int - integer number__\n",
    "   __str - string, text__\n",
    "   __bool - True, False__\n",
    "   __each variable represent single value__\n",
    "\n",
    "\n",
    "**On the number side, there is the float, to represent a real number, and the int, to represent an integer.  Next, we also have str, short for string, to represent text in Python, and bool, which can be either True or False.  You can save these values as a variable, like these example show.  Each variable then represents a singlevalue.  As a data scientist, you'll often want to work with many data points.  For example you want to measure the height of everybodyin your family, and storethis information in Python, it would be inconvenient  to create a new Python variable for each point you collected.  \n",
    "\n",
    "**What you can do instead, is store all this information in a Python list.  You can build such list with square brackets[].  Of course, also this data structure can be referenced to with a variable.  \n",
    "**A list is a way to give a single name to a collection of values.  These values or elements, can have any type, bool, str, float even a list.  \n",
    "\n",
    "**Remenber that I told you that each type has specific functionality and behavior associated?  Its also true in list"
   ]
  },
  {
   "cell_type": "markdown",
   "id": "74541c7f-5a0b-4b68-88ce-a8e73644fb67",
   "metadata": {},
   "source": [
    "## Create a list\n",
    "\n",
    "As opposed to int, bool etc., a list is a compound data type; you can group values together:\n",
    "\n",
    "a = \"is\"\n",
    "b = \"nice\"\n",
    "my_list = [\"my\", \"list\", a, b]\n",
    "\n",
    "After measuring the height of your family, you decide to collect some information on the house you're living in. The areas of the different parts of your house are stored in separate variables for now, as shown in the script.\n",
    "Instructions\n",
    "100 XP\n",
    "\n",
    "    Create a list, areas, that contains the area of the hallway (hall), kitchen (kit), living room (liv), bedroom (bed) and bathroom (bath), in this order. Use the predefined variables.\n",
    "    Print areas with the print() function.\n"
   ]
  },
  {
   "cell_type": "markdown",
   "id": "d12beffe-3adc-45b3-aeed-710f5f69d6e4",
   "metadata": {},
   "source": [
    "## Create list with different types\n",
    "\n",
    "A list can contain any Python type. Although it's not really common, a list can also contain a mix of Python types including strings, floats, booleans, etc.\n",
    "\n",
    "The printout of the previous exercise wasn't really satisfying. It's just a list of numbers representing the areas, but you can't tell which area corresponds to which part of your house.\n",
    "\n",
    "The code in the editor is the start of a solution. For some of the areas, the name of the corresponding room is already placed in front. Pay attention here! \"bathroom\" is a string, while bath is a variable that represents the float 9.50 you specified earlier.\n",
    "Instructions\n",
    "100 XP\n",
    "\n",
    "    Finish the code that creates the areas list. Build the list so that the list first contains the name of each room as a string and then its area. In other words, add the strings \"hallway\", \"kitchen\" and \"bedroom\" at the appropriate locations.\n",
    "    Print areas again; is the printout more informative this time?\n"
   ]
  },
  {
   "cell_type": "markdown",
   "id": "19aaced9-6987-4ffb-943b-a64208d675ef",
   "metadata": {},
   "source": [
    "## Select the valid list\n",
    "\n",
    "# A list can contain any Python type. But a list itself is also a Python type. That means that a list can also contain a list! Python is getting funkier by the minute, but fear not, just remember the list syntax:\n",
    "\n",
    "my_list = [el1, el2, el3]\n",
    "\n",
    "Can you tell which ones of the following lines of Python code are valid ways to build a list?\n",
    "\n",
    "A. [1, 3, 4, 2] B. [[1, 2, 3], [4, 5, 7]] C. [1 + 2, \"a\" * 5, 3]\n",
    "Instructions\n",
    "50 XP\n",
    "Possible Answers\n",
    "\n",
    "    A, B and C\n",
    "    B\n",
    "    B and C\n",
    "    C"
   ]
  },
  {
   "cell_type": "markdown",
   "id": "38897238-d2e9-4388-a39a-dc0e3b571b16",
   "metadata": {},
   "source": [
    "## List of lists\n",
    "\n",
    "As a data scientist, you'll often be dealing with a lot of data, and it will make sense to group some of this data.\n",
    "\n",
    "Instead of creating a flat list containing strings and floats, representing the names and areas of the rooms in your house, you can create a list of lists. The script in the editor can already give you an idea.\n",
    "\n",
    "Don't get confused here: \"hallway\" is a string, while hall is a variable that represents the float 11.25 you specified earlier.\n",
    "Instructions\n",
    "100 XP\n",
    "\n",
    "    Finish the list of lists so that it also contains the bedroom and bathroom data. Make sure you enter these in order!\n",
    "    Print out house; does this way of structuring your data make more sense?\n",
    "    Print out the type of house. Are you still dealing with a list?\n"
   ]
  },
  {
   "cell_type": "markdown",
   "id": "dab9a89e-ff82-422a-8e21-83fcd03bf34e",
   "metadata": {},
   "source": [
    "## Subsetting Lists\n",
    "\n",
    "\n",
    "\n",
    "**After created out Python list, we need to know how to access information in the list.  Python uses somethong called indexto do this.  The first element in the list has index 0, second has index 1.  \n",
    "\n",
    "\n",
    "## List clicing\n",
    "\n",
    "**Apart from indexing there is something called slicing, which allows you to select multiple elements from a list, thus creating a new list.  You can do this by specifying a range, using a colon.  \n",
    "\n",
    "    family_height = ['liz', 1.73,  'emma', 1.68,  'mom', 1.71,  'dad', 1.98]\n",
    "    children_height = family_height[0:4]\n",
    "  **In general, this is the syntax, the index you specify before the colon is included, but not the one after it.  \n",
    "\n"
   ]
  },
  {
   "cell_type": "markdown",
   "id": "0475b924-d5e0-49d5-a90d-6227020748b9",
   "metadata": {},
   "source": [
    "## Subset and conquer\n",
    "\n",
    "Subsetting Python lists is a piece of cake. Take the code sample below, which creates a list x and then selects \"b\" from it. Remember that this is the second element, so it has index 1. You can also use negative indexing.\n",
    "\n",
    "x = [\"a\", \"b\", \"c\", \"d\"]\n",
    "x[1]\n",
    "x[-3] # same result!\n",
    "\n",
    "Remember the areas list from before, containing both strings and floats? Its definition is already in the script. Can you add the correct code to do some Python subsetting?\n",
    "Instructions\n",
    "100 XP\n",
    "\n",
    "    Print out the second element from the areas list (it has the value 11.25).\n",
    "    Subset and print out the last element of areas, being 9.50. Using a negative index makes sense here!\n",
    "    Select the number representing the area of the living room (20.0) and print it out.\n"
   ]
  },
  {
   "cell_type": "markdown",
   "id": "6bb5d630-1f56-46f8-8f10-17f59f8bef97",
   "metadata": {},
   "source": [
    "## Subset and calculate\n",
    "\n",
    "After you've extracted values from a list, you can use them to perform additional calculations. Take this example, where the second and fourth element of a list x are extracted. The strings that result are pasted together using the + operator:\n",
    "\n",
    "x = [\"a\", \"b\", \"c\", \"d\"]\n",
    "print(x[1] + x[3])\n",
    "# x[1, 3] through error, TypeError: list indices must be integers or slices, not tuple\n",
    "\n",
    "Instructions\n",
    "100 XP\n",
    "\n",
    "    Using a combination of list subsetting and variable assignment, create a new variable, eat_sleep_area, that contains the sum of the area of the kitchen and the area of the bedroom.\n",
    "    Print the new variable eat_sleep_area.\n"
   ]
  },
  {
   "cell_type": "markdown",
   "id": "2f8aa125-a3fe-406c-a423-21f54315671f",
   "metadata": {},
   "source": [
    "## Slicing and dicing\n",
    "\n",
    "Selecting single values from a list is just one part of the story. It's also possible to slice your list, which means selecting multiple elements from your list. Use the following syntax:\n",
    "\n",
    "my_list[start:end]\n",
    "\n",
    "The start index will be included, while the end index is not.\n",
    "\n",
    "The code sample below shows an example. A list with \"b\" and \"c\", corresponding to indexes 1 and 2, are selected from a list x:\n",
    "\n",
    "x = [\"a\", \"b\", \"c\", \"d\"]\n",
    "x[1:3]\n",
    "\n",
    "The elements with index 1 and 2 are included, while the element with index 3 is not.\n",
    "Instructions\n",
    "100 XP\n",
    "\n",
    "    Use slicing to create a list, downstairs, that contains the first 6 elements of areas.\n",
    "    Do a similar thing to create a new variable, upstairs, that contains the last 4 elements of areas.\n",
    "    Print both downstairs and upstairs using print().\n",
    "\n"
   ]
  },
  {
   "cell_type": "markdown",
   "id": "2072f1e3-a98c-498d-a30d-cdade0e8bde9",
   "metadata": {},
   "source": [
    "## Slicing and dicing (2)\n",
    "\n",
    "In the video, Hugo first discussed the syntax where you specify both where to begin and end the slice of your list:\n",
    "\n",
    "my_list[begin:end]\n",
    "\n",
    "However, it's also possible not to specify these indexes. If you don't specify the begin index, Python figures out that you want to start your slice at the beginning of your list. If you don't specify the end index, the slice will go all the way to the last element of your list. To experiment with this, try the following commands in the IPython Shell:\n",
    "\n",
    "x = [\"a\", \"b\", \"c\", \"d\"]\n",
    "x[:2]\n",
    "x[2:]\n",
    "x[:]\n",
    "\n",
    "Instructions\n",
    "100 XP\n",
    "\n",
    "    Create downstairs again, as the first 6 elements of areas. This time, simplify the slicing by omitting the begin index.\n",
    "    Create upstairs again, as the last 4 elements of areas. This time, simplify the slicing by omitting the end index.\n"
   ]
  },
  {
   "cell_type": "markdown",
   "id": "dda465b6-1f19-4c20-a718-61b30988044b",
   "metadata": {},
   "source": [
    "## Subsetting lists of lists\n",
    "\n",
    "You saw before that a Python list can contain practically anything; even other lists! To subset lists of lists, you can use the same technique as before: square brackets. Try out the commands in the following code sample in the IPython Shell:\n",
    "\n",
    "x = [[\"a\", \"b\", \"c\"],\n",
    "     [\"d\", \"e\", \"f\"],\n",
    "     [\"g\", \"h\", \"i\"]]\n",
    "x[2][0]\n",
    "x[2][:2]\n",
    "\n",
    "x[2] results in a list, that you can subset again by adding additional square brackets.\n",
    "\n",
    "What will house[-1][1] return? house, the list of lists that you created before, is already defined for you in the workspace. You can experiment with it in the IPython Shell.\n",
    "Instructions\n",
    "50 XP\n",
    "Possible Answers\n",
    "\n",
    "    A float: the kitchen area\n",
    "    A string: \"kitchen\"\n",
    "    A float: the bathroom area\n",
    "    A string: \"bathroom\""
   ]
  },
  {
   "cell_type": "markdown",
   "id": "cc74e8ec-1f6c-4e3a-a69a-a95bf598a51c",
   "metadata": {},
   "source": [
    "## Manipulating Lists\n",
    "\n",
    "\n",
    "\n",
    "\n",
    "\n",
    "\n"
   ]
  },
  {
   "cell_type": "code",
   "execution_count": null,
   "id": "80cc1dea-23d6-4286-8ca0-9376983cc37d",
   "metadata": {},
   "outputs": [],
   "source": []
  },
  {
   "cell_type": "code",
   "execution_count": null,
   "id": "b3315c02-83d0-4b97-8a25-9fea6560f9ef",
   "metadata": {},
   "outputs": [],
   "source": []
  },
  {
   "cell_type": "code",
   "execution_count": null,
   "id": "3e2e51e8-7988-4407-9c18-1f1e13666bd2",
   "metadata": {},
   "outputs": [],
   "source": []
  },
  {
   "cell_type": "code",
   "execution_count": null,
   "id": "98c4b984-0a93-40f6-9633-51a98660f026",
   "metadata": {},
   "outputs": [],
   "source": []
  },
  {
   "cell_type": "code",
   "execution_count": null,
   "id": "c95b68bc-62d7-4c0b-ac07-636414bc9997",
   "metadata": {},
   "outputs": [],
   "source": []
  },
  {
   "cell_type": "code",
   "execution_count": null,
   "id": "7ed55b6d-0cf5-4a3d-81af-381dd2e68755",
   "metadata": {},
   "outputs": [],
   "source": []
  },
  {
   "cell_type": "code",
   "execution_count": null,
   "id": "6d43defb-6034-4ec8-9380-c0799029b434",
   "metadata": {},
   "outputs": [],
   "source": []
  },
  {
   "cell_type": "code",
   "execution_count": null,
   "id": "1a201aa8-c72c-4da2-8fe1-e7e8b6fb0def",
   "metadata": {},
   "outputs": [],
   "source": []
  },
  {
   "cell_type": "code",
   "execution_count": null,
   "id": "f803e398-0f55-41f1-bba3-c0d8d754ef42",
   "metadata": {},
   "outputs": [],
   "source": []
  },
  {
   "cell_type": "code",
   "execution_count": null,
   "id": "443ffba3-46f9-48f3-bcd6-d0fdfb97f47e",
   "metadata": {},
   "outputs": [],
   "source": []
  },
  {
   "cell_type": "code",
   "execution_count": null,
   "id": "fa1c82c6-04e3-4910-9061-693fda16f410",
   "metadata": {},
   "outputs": [],
   "source": []
  },
  {
   "cell_type": "code",
   "execution_count": null,
   "id": "6ede48ae-582a-4cf1-872b-e06caf94a322",
   "metadata": {},
   "outputs": [],
   "source": []
  },
  {
   "cell_type": "code",
   "execution_count": null,
   "id": "6084f0a7-a1df-470d-8120-52b700f967c5",
   "metadata": {},
   "outputs": [],
   "source": []
  },
  {
   "cell_type": "code",
   "execution_count": null,
   "id": "91e53b88-750a-4ca0-9b4b-119d0bb1cf1d",
   "metadata": {},
   "outputs": [],
   "source": []
  },
  {
   "cell_type": "code",
   "execution_count": null,
   "id": "a9ee1447-51d5-4fd2-83c1-b38de7426e4d",
   "metadata": {},
   "outputs": [],
   "source": []
  },
  {
   "cell_type": "code",
   "execution_count": null,
   "id": "7fb8f31d-cd4f-4ce2-b5c1-9288f67aecb0",
   "metadata": {},
   "outputs": [],
   "source": []
  },
  {
   "cell_type": "code",
   "execution_count": null,
   "id": "06c593f6-effc-4ea2-8457-1a39450b79d4",
   "metadata": {},
   "outputs": [],
   "source": []
  },
  {
   "cell_type": "code",
   "execution_count": null,
   "id": "bc140565-94b6-4c49-8d4c-fb3d94f4ee8e",
   "metadata": {},
   "outputs": [],
   "source": []
  },
  {
   "cell_type": "code",
   "execution_count": null,
   "id": "57c129ae-1782-4ab1-9af1-786c4bd0e283",
   "metadata": {},
   "outputs": [],
   "source": []
  },
  {
   "cell_type": "code",
   "execution_count": null,
   "id": "aae5ec4c-6d6f-4e68-8937-2fd8b81a21cf",
   "metadata": {},
   "outputs": [],
   "source": []
  },
  {
   "cell_type": "code",
   "execution_count": null,
   "id": "edcf3bf4-83db-4086-8318-0dfea1f0d36e",
   "metadata": {},
   "outputs": [],
   "source": []
  },
  {
   "cell_type": "code",
   "execution_count": null,
   "id": "15a68abb-f22e-4472-bd07-55d53a8df9de",
   "metadata": {},
   "outputs": [],
   "source": []
  },
  {
   "cell_type": "code",
   "execution_count": null,
   "id": "38d5688b-dc06-43a6-a797-dc3e51ab7181",
   "metadata": {
    "tags": []
   },
   "outputs": [],
   "source": []
  },
  {
   "cell_type": "code",
   "execution_count": null,
   "id": "a75f74c1-b3f9-4676-8502-c97ef8010106",
   "metadata": {},
   "outputs": [],
   "source": []
  },
  {
   "cell_type": "code",
   "execution_count": null,
   "id": "26c3e8cd-d39a-474f-9b65-94dfed29bee6",
   "metadata": {},
   "outputs": [],
   "source": []
  },
  {
   "cell_type": "code",
   "execution_count": null,
   "id": "ad260302-4e51-452f-87dc-be47a1436e55",
   "metadata": {},
   "outputs": [],
   "source": []
  },
  {
   "cell_type": "code",
   "execution_count": null,
   "id": "f514eac2-e0bc-439d-9528-2e497862aa0b",
   "metadata": {},
   "outputs": [],
   "source": []
  },
  {
   "cell_type": "code",
   "execution_count": null,
   "id": "450158f1-af25-4684-9e3f-258a9a5732f1",
   "metadata": {},
   "outputs": [],
   "source": []
  },
  {
   "cell_type": "code",
   "execution_count": null,
   "id": "3a327fdb-384e-49eb-ad71-b0e8886c59a3",
   "metadata": {},
   "outputs": [],
   "source": []
  },
  {
   "cell_type": "code",
   "execution_count": null,
   "id": "0bb58c42-fc01-4cfd-975a-ebec5a244815",
   "metadata": {},
   "outputs": [],
   "source": []
  },
  {
   "cell_type": "code",
   "execution_count": null,
   "id": "bb2efe40-6558-4203-bf8b-a7fbacda95ac",
   "metadata": {},
   "outputs": [],
   "source": []
  },
  {
   "cell_type": "code",
   "execution_count": null,
   "id": "9ed9e304-3e98-4367-a83b-e506d83400e6",
   "metadata": {},
   "outputs": [],
   "source": []
  },
  {
   "cell_type": "code",
   "execution_count": null,
   "id": "a6c49285-2a22-47a8-9233-71e705b5ea91",
   "metadata": {},
   "outputs": [],
   "source": []
  },
  {
   "cell_type": "code",
   "execution_count": null,
   "id": "524cc0f9-bbba-45de-b0da-17b8166236c8",
   "metadata": {},
   "outputs": [],
   "source": []
  }
 ],
 "metadata": {
  "kernelspec": {
   "display_name": "Python 3 (ipykernel)",
   "language": "python",
   "name": "python3"
  },
  "language_info": {
   "codemirror_mode": {
    "name": "ipython",
    "version": 3
   },
   "file_extension": ".py",
   "mimetype": "text/x-python",
   "name": "python",
   "nbconvert_exporter": "python",
   "pygments_lexer": "ipython3",
   "version": "3.9.2"
  }
 },
 "nbformat": 4,
 "nbformat_minor": 5
}
