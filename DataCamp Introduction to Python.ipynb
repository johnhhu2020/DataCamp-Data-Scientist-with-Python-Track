{
 "cells": [
  {
   "cell_type": "markdown",
   "id": "35600ba9-a167-4cee-988d-121df328a4c1",
   "metadata": {},
   "source": [
    "# Introduction to Python\n",
    "\n",
    "\n"
   ]
  },
  {
   "cell_type": "markdown",
   "id": "88c9daa1-000f-4382-9ca0-bbb432aeb6f0",
   "metadata": {},
   "source": [
    "## Course Description\n",
    "\n",
    "Python is a general-purpose programming language that is becoming ever more popular for data science. Companies worldwide are using Python to harvest insights from their data and gain a competitive edge. Unlike other Python tutorials, this course focuses on Python specifically for data science. In our Introduction to Python course, you’ll learn about powerful ways to store and manipulate data, and helpful data science tools to begin conducting your own analyses. Start DataCamp’s online Python curriculum now."
   ]
  },
  {
   "cell_type": "markdown",
   "id": "bcd0c50f-577b-4236-9130-9cfbd2f2f82a",
   "metadata": {},
   "source": [
    "## Python Basics\n",
    "Free\n",
    "38%\n",
    "\n",
    "An introduction to the basic concepts of Python. Learn how to use Python interactively and by using a script. Create your first variables and acquaint yourself with Python's basic data types.\n",
    "\n",
    "    Hello Python!    50 xp\n",
    "    The Python Interface    100 xp\n",
    "    When to use Python?    50 xp\n",
    "    Any comments?    100 xp\n",
    "    Python as a calculator    100 xp\n",
    "    Variables and Types    50 xp\n",
    "    Variable Assignment    100 xp\n",
    "    Calculations with variables    100 xp\n",
    "    Other variable types    100 xp\n",
    "    Guess the type    50 xp\n",
    "    Operations with other types    100 xp\n",
    "    Type conversion    100 xp\n",
    "    Can Python handle everything?    50 xp\n"
   ]
  },
  {
   "cell_type": "markdown",
   "id": "c1b30022-7a81-49b3-817f-887ffe974c3e",
   "metadata": {},
   "source": [
    "##  Python Lists\n",
    "Free\n",
    "13%\n",
    "\n",
    "Learn to store, access, and manipulate data in lists: the first step toward efficiently working with huge amounts of data.\n",
    "\n",
    "    Python Lists    50 xp\n",
    "    Create a list    100 xp\n",
    "    Create list with different types    100 xp\n",
    "    Select the valid list    50 xp\n",
    "    List of lists    100 xp\n",
    "    Subsetting Lists    50 xp\n",
    "    Subset and conquer    100 xp\n",
    "    Subset and calculate    100 xp\n",
    "    Slicing and dicing    100 xp\n",
    "    Slicing and dicing (2)    100 xp\n",
    "    Subsetting lists of lists    50 xp\n",
    "    Manipulating Lists    50 xp\n",
    "    Replace list elements    100 xp\n",
    "    Extend a list    100 xp\n",
    "    Delete list elements    50 xp\n",
    "    Inner workings of lists    100 xp\n"
   ]
  },
  {
   "cell_type": "markdown",
   "id": "c6ff703d-c5e7-44da-ba94-6cd630dc0adc",
   "metadata": {},
   "source": [
    "##  Functions and Packages\n",
    "Free\n",
    "25%\n",
    "\n",
    "You'll learn how to use functions, methods, and packages to efficiently leverage the code that brilliant Python developers have written. The goal is to reduce the amount of code you need to solve challenging problems!\n",
    "\n",
    "    Functions    50 xp\n",
    "    Familiar functions    100 xp\n",
    "    Help!    50 xp\n",
    "    Multiple arguments    100 xp\n",
    "    Methods    50 xp\n",
    "    String Methods    100 xp\n",
    "    List Methods    100 xp\n",
    "    List Methods (2)    100 xp\n",
    "    Packages    50 xp\n",
    "    Import package    100 xp\n",
    "    Selective import    100 xp\n",
    "    Different ways of importing    50 xp\n"
   ]
  },
  {
   "cell_type": "markdown",
   "id": "ca9a43fc-31cb-4833-a02e-83a821e1fcbb",
   "metadata": {},
   "source": [
    "##  NumPy\n",
    "Free\n",
    "0%\n",
    "\n",
    "NumPy is a fundamental Python package to efficiently practice data science. Learn to work with powerful tools in the NumPy array, and get started with data exploration.\n",
    "\n",
    "    Numpy    50 xp\n",
    "    Your First NumPy Array    100 xp\n",
    "    Baseball players' height    100 xp\n",
    "    Baseball player's BMI    100 xp\n",
    "    Lightweight baseball players    100 xp\n",
    "    NumPy Side Effects    50 xp\n",
    "    Subsetting NumPy Arrays    100 xp\n",
    "    2D Numpy Arrays    50 xp\n",
    "    Your First 2D NumPy Array    100 xp\n",
    "    Baseball data in 2D form    100 xp\n",
    "    Subsetting 2D NumPy Arrays    100 xp\n",
    "    2D Arithmetic    100 xp\n",
    "    Numpy: Basic Statistics    50 xp\n",
    "    Average versus median    100 xp\n",
    "    Explore the baseball data    100 xp\n",
    "    Blend it all together    100 xp\n"
   ]
  },
  {
   "cell_type": "code",
   "execution_count": null,
   "id": "332cfcf7-23c5-4ecd-a8fd-119e9b783078",
   "metadata": {},
   "outputs": [],
   "source": []
  },
  {
   "cell_type": "markdown",
   "id": "392c2354-4a7c-41e7-b640-d6821d91bfca",
   "metadata": {},
   "source": [
    "## Hello Python!\n",
    "\n",
    "   __General purpose, build anything__\n",
    "   __Open source! Free__\n",
    "   __Python packages, also for data science__\n",
    "   __many applications and fields__\n",
    "\n",
    "\n",
    "**Python was conceived by Guido Van Rossum.  What startedas a hobby project soon became a general purpose programing language.  Nowdays you can use Python to build practically any piece of software.  \n",
    "\n",
    "**First Python is open source, its free to use. \n",
    "**Second its very easy to build packagesin Python, which is the code you can sare with other people to solve specific problems.  Thoughtout time, more and more of these packages specifically built for data science have been developed.  "
   ]
  },
  {
   "cell_type": "markdown",
   "id": "8f2e7d58-efad-4927-8d75-9d68ae5a31eb",
   "metadata": {},
   "source": [
    "## Python script\n",
    "\n",
    "\n",
    "   __Text file - .py__\n",
    "   __List of Python commands__\n",
    "   \n",
    "   \n",
    "   \n",
    "\n",
    "**These Python scripts are just simply text file with the extension .py.  It basically a list of Python commands that are executed, almost as if you are typing the command in the shell yourself, line by line.  \n",
    "\n",
    "**Putting your code in Python scripts instead of manually retyping every step interactively will help you to keep structure and avoid retyping everything over and over again if you want to make a change.  You simply make the change in the script, and rerun the entire thing.  \n",
    "\n",
    "# Get coding and don't forget to have fun.  "
   ]
  },
  {
   "cell_type": "markdown",
   "id": "49520822-9d95-4e0a-aba4-95221410f484",
   "metadata": {},
   "source": [
    "## When to use Python?\n",
    "\n",
    "Python is a pretty versatile language. For which applications can you use Python?\n",
    "Instructions\n",
    "50 XP\n",
    "Possible Answers\n",
    "\n",
    "    You want to do some quick calculations.\n",
    "    For your new business, you want to develop a database-driven website.\n",
    "    Your boss asks you to clean and analyze the results of the latest satisfaction survey.\n",
    "    All of the above."
   ]
  },
  {
   "cell_type": "markdown",
   "id": "c7d5e902-11d4-4390-b1e1-1cabbf021d2b",
   "metadata": {},
   "source": [
    "## Any comments?\n",
    "\n",
    "Something that Hugo didn't mention in his videos is that you can add comments to your Python scripts. Comments are important to make sure that you and others can understand what your code is about.\n",
    "\n",
    "To add comments to your Python script, you can use the # tag. These comments are not run as Python code, so they will not influence your result. As an example, take the comment in the editor, # Division; it is completely ignored during execution.\n",
    "Instructions\n",
    "100 XP\n",
    "\n",
    "Above the print(7 + 10), add the comment\n",
    "\n",
    "# Addition\n"
   ]
  },
  {
   "cell_type": "markdown",
   "id": "1ef1a0a0-5734-4673-83e1-87a765ff3cc1",
   "metadata": {},
   "source": [
    "## Python as a calculator\n",
    "\n",
    "Python is perfectly suited to do basic calculations. Apart from addition, subtraction, multiplication and division, there is also support for more advanced operations such as:\n",
    "\n",
    "    Exponentiation: **. This operator raises the number to its left to the power of the number to its right. For example 4**2 will give 16.\n",
    "    Modulo: %. This operator returns the remainder of the division of the number to the left by the number on its right. For example 18 % 7 equals 4.\n",
    "\n",
    "The code in the script gives some examples.\n",
    "Instructions\n",
    "100 XP\n",
    "\n",
    "Suppose you have $100, which you can invest with a 10% return each year. After one year, it's 100*1.1 = 110 dollars, and after two years it's 100*1.1*1.1 = 121. Add code to calculate how much money you end up with after 7 years, and print the result."
   ]
  },
  {
   "cell_type": "code",
   "execution_count": 1,
   "id": "e6ef9345-16aa-4cb0-bdc6-065b19ac3008",
   "metadata": {},
   "outputs": [
    {
     "name": "stdout",
     "output_type": "stream",
     "text": [
      "10\n",
      "0\n",
      "15\n",
      "5.0\n",
      "4\n",
      "16\n",
      "194.87171000000012\n"
     ]
    }
   ],
   "source": [
    "# Addition, subtraction\n",
    "print(5 + 5)\n",
    "print(5 - 5)\n",
    "\n",
    "# Multiplication, division, modulo, and exponentiation\n",
    "print(3 * 5)\n",
    "print(10 / 2)\n",
    "print(18 % 7)\n",
    "print(4 ** 2)\n",
    "\n",
    "# How much is your $100 worth after 7 years?\n",
    "print(100*1.1**7)"
   ]
  },
  {
   "cell_type": "markdown",
   "id": "c07c81a8-a3e0-4973-b334-7d38329b3978",
   "metadata": {},
   "source": [
    "## Variables and Types\n",
    "\n",
    "\n",
    "   __Specific, case-sensitive name__\n",
    "   __Call up value though variable name__\n",
    "   ____\n",
    "\n",
    "\n",
    "**If you wan to save the values while you coding along.  You can do this by defining a variable, with a specific case-sensitive name.  Once you create or declare such a variable, you can later call up its value by typing the variable name\n",
    "\n"
   ]
  },
  {
   "cell_type": "code",
   "execution_count": 3,
   "id": "9339a9cc-ace3-4737-a255-aed596cd19dd",
   "metadata": {},
   "outputs": [
    {
     "name": "stdout",
     "output_type": "stream",
     "text": [
      "18.870663376397157\n",
      "<class 'float'>\n",
      "True\n",
      "<class 'bool'>\n"
     ]
    }
   ],
   "source": [
    "height = 1.66\n",
    "weight = 52\n",
    "\n",
    "bmi = weight/height**2\n",
    "print(bmi)\n",
    "print(type(bmi))\n",
    "\n",
    "bb = True\n",
    "print(bb)\n",
    "print(type(bb))"
   ]
  },
  {
   "cell_type": "markdown",
   "id": "14c99c94-c3c0-4b7f-bcd2-7598cb2c6c72",
   "metadata": {},
   "source": [
    "## Python Types\n",
    "\n",
    "\n",
    "**String is Python's way to represent text\n",
    "\n",
    "**Booleans will be very useful in the future, to perform filtering operations on your data for example.\n",
    "\n",
    "# There's something special about Python data types.  \n",
    "  **How the code behave depends on the types. "
   ]
  },
  {
   "cell_type": "code",
   "execution_count": 5,
   "id": "3d404b5e-021b-4359-b215-4e0ae9e0cf4d",
   "metadata": {},
   "outputs": [
    {
     "name": "stdout",
     "output_type": "stream",
     "text": [
      "abcABC\n"
     ]
    }
   ],
   "source": [
    "a = 'abc'\n",
    "b = 'ABC'\n",
    "\n",
    "c = a + b\n",
    "print(c)"
   ]
  },
  {
   "cell_type": "markdown",
   "id": "c57d4f1c-eda5-4f3f-8a12-f9f0e93ee4e0",
   "metadata": {},
   "source": [
    "## Variable Assignment\n",
    "\n",
    "In Python, a variable allows you to refer to a value with a name. To create a variable use =, like this example:\n",
    "\n",
    "x = 5\n",
    "\n",
    "You can now use the name of this variable, x, instead of the actual value, 5.\n",
    "\n",
    "# Remember, = in Python means assignment, it doesn't test equality!\n",
    "Instructions\n",
    "100 XP\n",
    "\n",
    "    Create a variable savings with the value 100.\n",
    "    Check out this variable by typing print(savings) in the script.\n"
   ]
  },
  {
   "cell_type": "markdown",
   "id": "cf4bb23a-671b-4510-81b0-25f54b0e21c7",
   "metadata": {},
   "source": [
    "## Calculations with variables\n",
    "\n",
    "Remember how you calculated the money you ended up with after 7 years of investing $100? You did something like this:\n",
    "\n",
    "100 * 1.1 ** 7\n",
    "\n",
    "Instead of calculating with the actual values, you can use variables instead. The savings variable you've created in the previous exercise represents the $100 you started with. It's up to you to create a new variable to represent 1.1 and then redo the calculations!\n",
    "Instructions\n",
    "100 XP\n",
    "\n",
    "    Create a variable growth_multiplier, equal to 1.1.\n",
    "    Create a variable, result, equal to the amount of money you saved after 7 years.\n",
    "    Print out the value of result.\n",
    "\n"
   ]
  },
  {
   "cell_type": "markdown",
   "id": "650319bf-972e-4ff3-91ee-ef3de9599fe4",
   "metadata": {},
   "source": [
    "## Other variable types\n",
    "\n",
    "In the previous exercise, you worked with two Python data types:\n",
    "\n",
    "    int, or integer: a number without a fractional part. savings, with the value 100, is an example of an integer.\n",
    "    float, or floating point: a number that has both an integer and fractional part, separated by a point. growth_multiplier, with the value 1.1, is an example of a float.\n",
    "\n",
    "Next to numerical data types, there are two other very common data types:\n",
    "\n",
    "    str, or string: a type to represent text. You can use single or double quotes to build a string.\n",
    "    bool, or boolean: a type to represent logical values. Can only be True or False (the capitalization is important!).\n",
    "\n",
    "Instructions\n",
    "100 XP\n",
    "\n",
    "    Create a new string, desc, with the value \"compound interest\".\n",
    "    Create a new boolean, profitable, with the value True.\n"
   ]
  },
  {
   "cell_type": "markdown",
   "id": "cca5c617-ff3d-4108-b095-a278fd64edad",
   "metadata": {},
   "source": [
    "## Guess the type\n",
    "\n",
    "To find out the type of a value or a variable that refers to that value, you can use the type() function. Suppose you've defined a variable a, but you forgot the type of this variable. To determine the type of a, simply execute:\n",
    "\n",
    "type(a)\n",
    "\n",
    "We already went ahead and created three variables: a, b and c. You can use the IPython shell to discover their type. Which of the following options is correct?\n",
    "Instructions\n",
    "50 XP\n",
    "Possible Answers\n",
    "\n",
    "    a is of type int, b is of type str, c is of type bool\n",
    "    a is of type float, b is of type bool, c is of type str\n",
    "    a is of type float, b is of type str, c is of type bool\n",
    "    a is of type int, b is of type bool, c is of type str"
   ]
  },
  {
   "cell_type": "markdown",
   "id": "c9ef3249-f921-4bcf-8144-6cc34743bcfe",
   "metadata": {},
   "source": [
    "## Operations with other types\n",
    "\n",
    "Hugo mentioned that different types behave differently in Python.\n",
    "\n",
    "When you sum two strings, for example, you'll get different behavior than when you sum two integers or two booleans.\n",
    "\n",
    "In the script some variables with different types have already been created. It's up to you to use them.\n",
    "Instructions\n",
    "100 XP\n",
    "\n",
    "    Calculate the product of savings and growth_multiplier. Store the result in year1.\n",
    "    What do you think the resulting type will be? Find out by printing out the type of year1.\n",
    "    Calculate the sum of desc and desc and store the result in a new variable doubledesc.\n",
    "    Print out doubledesc. Did you expect this?\n"
   ]
  },
  {
   "cell_type": "markdown",
   "id": "f990ad71-0980-4038-8395-4a618b866d75",
   "metadata": {},
   "source": [
    "## Type conversion\n",
    "\n",
    "Using the + operator to paste together two strings can be very useful in building custom messages.\n",
    "\n",
    "Suppose, for example, that you've calculated the return of your investment and want to summarize the results in a string. Assuming the integer savings and float result are defined, you can try something like this:\n",
    "\n",
    "print(\"I started with $\" + savings + \" and now have $\" + result + \". Awesome!\")\n",
    "\n",
    "# This will not work, though, as you cannot simply sum strings and integers/floats.\n",
    "\n",
    "To fix the error, you'll need to explicitly convert the types of your variables. More specifically, you'll need str(), to convert a value into a string. str(savings), for example, will convert the integer savings to a string.\n",
    "\n",
    "Similar functions such as int(), float() and bool() will help you convert Python values into any type.\n",
    "Instructions\n",
    "100 XP\n",
    "\n",
    "    Hit Run Code to run the code. Try to understand the error message.\n",
    "    Fix the code such that the printout runs without errors; use the function str() to convert the variables to strings.\n",
    "    Convert the variable pi_string to a float and store this float as a new variable, pi_float.\n"
   ]
  },
  {
   "cell_type": "markdown",
   "id": "306cf6ee-0c10-484a-9639-a7ed6f4f2296",
   "metadata": {},
   "source": [
    "## Can Python handle everything?\n",
    "\n",
    "Now that you know something more about combining different sources of information, have a look at the four Python expressions below. Which one of these will throw an error? You can always copy and paste this code in the IPython Shell to find out!\n",
    "Instructions\n",
    "50 XP\n",
    "Possible Answers\n",
    "\n",
    "    \"I can add integers, like \" + str(5) + \" to strings.\"\n",
    "    \"I said \" + (\"Hey \" * 2) + \"Hey!\"\n",
    "    \"The correct answer to this multiple choice exercise is answer number \" + 2\n",
    "    True + False"
   ]
  },
  {
   "cell_type": "markdown",
   "id": "3bdb9616-78ba-433c-ab4a-f43db7589da4",
   "metadata": {},
   "source": [
    "## Python Lists\n",
    "\n",
    "\n",
    "**By now, you've palyed around with different data types, and I hope you've had as much fun as I have. \n",
    "\n",
    "\n",
    "\n",
    "## Python Data Types\n",
    "\n",
    "   __float - real number__\n",
    "   __int - integer number__\n",
    "   __str - string, text__\n",
    "   __bool - True, False__\n",
    "   __each variable represent single value__\n",
    "\n",
    "\n",
    "**On the number side, there is the float, to represent a real number, and the int, to represent an integer.  Next, we also have str, short for string, to represent text in Python, and bool, which can be either True or False.  You can save these values as a variable, like these example show.  Each variable then represents a singlevalue.  As a data scientist, you'll often want to work with many data points.  For example you want to measure the height of everybodyin your family, and storethis information in Python, it would be inconvenient  to create a new Python variable for each point you collected.  \n",
    "\n",
    "**What you can do instead, is store all this information in a Python list.  You can build such list with square brackets[].  Of course, also this data structure can be referenced to with a variable.  \n",
    "**A list is a way to give a single name to a collection of values.  These values or elements, can have any type, bool, str, float even a list.  \n",
    "\n",
    "**Remenber that I told you that each type has specific functionality and behavior associated?  Its also true in list"
   ]
  },
  {
   "cell_type": "markdown",
   "id": "74541c7f-5a0b-4b68-88ce-a8e73644fb67",
   "metadata": {},
   "source": [
    "## Create a list\n",
    "\n",
    "As opposed to int, bool etc., a list is a compound data type; you can group values together:\n",
    "\n",
    "a = \"is\"\n",
    "b = \"nice\"\n",
    "my_list = [\"my\", \"list\", a, b]\n",
    "\n",
    "After measuring the height of your family, you decide to collect some information on the house you're living in. The areas of the different parts of your house are stored in separate variables for now, as shown in the script.\n",
    "Instructions\n",
    "100 XP\n",
    "\n",
    "    Create a list, areas, that contains the area of the hallway (hall), kitchen (kit), living room (liv), bedroom (bed) and bathroom (bath), in this order. Use the predefined variables.\n",
    "    Print areas with the print() function.\n"
   ]
  },
  {
   "cell_type": "markdown",
   "id": "d12beffe-3adc-45b3-aeed-710f5f69d6e4",
   "metadata": {},
   "source": [
    "## Create list with different types\n",
    "\n",
    "A list can contain any Python type. Although it's not really common, a list can also contain a mix of Python types including strings, floats, booleans, etc.\n",
    "\n",
    "The printout of the previous exercise wasn't really satisfying. It's just a list of numbers representing the areas, but you can't tell which area corresponds to which part of your house.\n",
    "\n",
    "The code in the editor is the start of a solution. For some of the areas, the name of the corresponding room is already placed in front. Pay attention here! \"bathroom\" is a string, while bath is a variable that represents the float 9.50 you specified earlier.\n",
    "Instructions\n",
    "100 XP\n",
    "\n",
    "    Finish the code that creates the areas list. Build the list so that the list first contains the name of each room as a string and then its area. In other words, add the strings \"hallway\", \"kitchen\" and \"bedroom\" at the appropriate locations.\n",
    "    Print areas again; is the printout more informative this time?\n"
   ]
  },
  {
   "cell_type": "markdown",
   "id": "19aaced9-6987-4ffb-943b-a64208d675ef",
   "metadata": {},
   "source": [
    "## Select the valid list\n",
    "\n",
    "# A list can contain any Python type. But a list itself is also a Python type. That means that a list can also contain a list! Python is getting funkier by the minute, but fear not, just remember the list syntax:\n",
    "\n",
    "my_list = [el1, el2, el3]\n",
    "\n",
    "Can you tell which ones of the following lines of Python code are valid ways to build a list?\n",
    "\n",
    "A. [1, 3, 4, 2] B. [[1, 2, 3], [4, 5, 7]] C. [1 + 2, \"a\" * 5, 3]\n",
    "Instructions\n",
    "50 XP\n",
    "Possible Answers\n",
    "\n",
    "    A, B and C\n",
    "    B\n",
    "    B and C\n",
    "    C"
   ]
  },
  {
   "cell_type": "markdown",
   "id": "38897238-d2e9-4388-a39a-dc0e3b571b16",
   "metadata": {},
   "source": [
    "## List of lists\n",
    "\n",
    "As a data scientist, you'll often be dealing with a lot of data, and it will make sense to group some of this data.\n",
    "\n",
    "Instead of creating a flat list containing strings and floats, representing the names and areas of the rooms in your house, you can create a list of lists. The script in the editor can already give you an idea.\n",
    "\n",
    "Don't get confused here: \"hallway\" is a string, while hall is a variable that represents the float 11.25 you specified earlier.\n",
    "Instructions\n",
    "100 XP\n",
    "\n",
    "    Finish the list of lists so that it also contains the bedroom and bathroom data. Make sure you enter these in order!\n",
    "    Print out house; does this way of structuring your data make more sense?\n",
    "    Print out the type of house. Are you still dealing with a list?\n"
   ]
  },
  {
   "cell_type": "markdown",
   "id": "dab9a89e-ff82-422a-8e21-83fcd03bf34e",
   "metadata": {},
   "source": [
    "## Subsetting Lists\n",
    "\n",
    "\n",
    "\n",
    "# **After created out Python list, we need to know how to access information in the list.  Python uses somethong called index to do this.  The first element in the list has index 0, second has index 1.  \n",
    "\n",
    "\n",
    "\n",
    "## List slicing\n",
    "\n",
    "# **Apart from indexing there is something called slicing, which allows you to select multiple elements from a list, thus creating a new list.  You can do this by specifying a range, using a colon.  \n",
    "\n",
    "    family_height = ['liz', 1.73,  'emma', 1.68,  'mom', 1.71,  'dad', 1.98]\n",
    "    children_height = family_height[0:4]\n",
    "    \n",
    "  **In general, this is the syntax, the index you specify before the colon is included, but not the one after it.  \n",
    "\n",
    "\n",
    "# *************************************************************************************************** #"
   ]
  },
  {
   "cell_type": "markdown",
   "id": "0475b924-d5e0-49d5-a90d-6227020748b9",
   "metadata": {},
   "source": [
    "## Subset and conquer\n",
    "\n",
    "Subsetting Python lists is a piece of cake. Take the code sample below, which creates a list x and then selects \"b\" from it. Remember that this is the second element, so it has index 1. You can also use negative indexing.\n",
    "\n",
    "x = [\"a\", \"b\", \"c\", \"d\"]\n",
    "x[1]\n",
    "x[-3] # same result!\n",
    "\n",
    "Remember the areas list from before, containing both strings and floats? Its definition is already in the script. Can you add the correct code to do some Python subsetting?\n",
    "Instructions\n",
    "100 XP\n",
    "\n",
    "    Print out the second element from the areas list (it has the value 11.25).\n",
    "    Subset and print out the last element of areas, being 9.50. Using a negative index makes sense here!\n",
    "    Select the number representing the area of the living room (20.0) and print it out.\n"
   ]
  },
  {
   "cell_type": "markdown",
   "id": "6bb5d630-1f56-46f8-8f10-17f59f8bef97",
   "metadata": {},
   "source": [
    "## Subset and calculate\n",
    "\n",
    "After you've extracted values from a list, you can use them to perform additional calculations. Take this example, where the second and fourth element of a list x are extracted. The strings that result are pasted together using the + operator:\n",
    "\n",
    "x = [\"a\", \"b\", \"c\", \"d\"]\n",
    "print(x[1] + x[3])\n",
    "# x[1, 3] through error, TypeError: list indices must be integers or slices, not tuple\n",
    "\n",
    "Instructions\n",
    "100 XP\n",
    "\n",
    "    Using a combination of list subsetting and variable assignment, create a new variable, eat_sleep_area, that contains the sum of the area of the kitchen and the area of the bedroom.\n",
    "    Print the new variable eat_sleep_area.\n"
   ]
  },
  {
   "cell_type": "markdown",
   "id": "2f8aa125-a3fe-406c-a423-21f54315671f",
   "metadata": {},
   "source": [
    "## Slicing and dicing\n",
    "\n",
    "Selecting single values from a list is just one part of the story. It's also possible to slice your list, which means selecting multiple elements from your list. Use the following syntax:\n",
    "\n",
    "my_list[start:end]\n",
    "\n",
    "The start index will be included, while the end index is not.\n",
    "\n",
    "The code sample below shows an example. A list with \"b\" and \"c\", corresponding to indexes 1 and 2, are selected from a list x:\n",
    "\n",
    "x = [\"a\", \"b\", \"c\", \"d\"]\n",
    "x[1:3]\n",
    "\n",
    "The elements with index 1 and 2 are included, while the element with index 3 is not.\n",
    "Instructions\n",
    "100 XP\n",
    "\n",
    "    Use slicing to create a list, downstairs, that contains the first 6 elements of areas.\n",
    "    Do a similar thing to create a new variable, upstairs, that contains the last 4 elements of areas.\n",
    "    Print both downstairs and upstairs using print().\n",
    "\n"
   ]
  },
  {
   "cell_type": "markdown",
   "id": "2072f1e3-a98c-498d-a30d-cdade0e8bde9",
   "metadata": {},
   "source": [
    "## Slicing and dicing (2)\n",
    "\n",
    "In the video, Hugo first discussed the syntax where you specify both where to begin and end the slice of your list:\n",
    "\n",
    "my_list[begin:end]\n",
    "\n",
    "However, it's also possible not to specify these indexes. If you don't specify the begin index, Python figures out that you want to start your slice at the beginning of your list. If you don't specify the end index, the slice will go all the way to the last element of your list. To experiment with this, try the following commands in the IPython Shell:\n",
    "\n",
    "x = [\"a\", \"b\", \"c\", \"d\"]\n",
    "x[:2]\n",
    "x[2:]\n",
    "x[:]\n",
    "\n",
    "Instructions\n",
    "100 XP\n",
    "\n",
    "    Create downstairs again, as the first 6 elements of areas. This time, simplify the slicing by omitting the begin index.\n",
    "    Create upstairs again, as the last 4 elements of areas. This time, simplify the slicing by omitting the end index.\n"
   ]
  },
  {
   "cell_type": "markdown",
   "id": "dda465b6-1f19-4c20-a718-61b30988044b",
   "metadata": {},
   "source": [
    "## Subsetting lists of lists\n",
    "\n",
    "You saw before that a Python list can contain practically anything; even other lists! To subset lists of lists, you can use the same technique as before: square brackets. Try out the commands in the following code sample in the IPython Shell:\n",
    "\n",
    "x = [[\"a\", \"b\", \"c\"],\n",
    "     [\"d\", \"e\", \"f\"],\n",
    "     [\"g\", \"h\", \"i\"]]\n",
    "x[2][0]\n",
    "x[2][:2]\n",
    "\n",
    "# x[2] results in a list, that you can subset again by adding additional square brackets.\n",
    "\n",
    "What will house[-1][1] return? house, the list of lists that you created before, is already defined for you in the workspace. You can experiment with it in the IPython Shell.\n",
    "Instructions\n",
    "50 XP\n",
    "Possible Answers\n",
    "\n",
    "    A float: the kitchen area\n",
    "    A string: \"kitchen\"\n",
    "    A float: the bathroom area\n",
    "    A string: \"bathroom\"\n",
    "    "
   ]
  },
  {
   "cell_type": "code",
   "execution_count": 11,
   "id": "2c75dbd9-d03b-41e8-aaa9-40ce3cd8e1b4",
   "metadata": {},
   "outputs": [
    {
     "name": "stdout",
     "output_type": "stream",
     "text": [
      "g\n",
      "['g', 'h']\n",
      "['b' 'e' 'h']\n",
      "['d', 'e', 'f']\n"
     ]
    }
   ],
   "source": [
    "x = [[\"a\", \"b\", \"c\"],\n",
    "     [\"d\", \"e\", \"f\"],\n",
    "     [\"g\", \"h\", \"i\"]]\n",
    "print(x[2][0])\n",
    "print(x[2][:2])\n",
    "\n",
    "\n",
    "import numpy as np\n",
    "x_np = np.array(x)\n",
    "print(x_np[:,1])\n",
    "# *************************************************************************************************** #\n",
    "print(x[:][1])\n",
    "\n",
    "del x, np, x_np"
   ]
  },
  {
   "cell_type": "markdown",
   "id": "cc74e8ec-1f6c-4e3a-a69a-a95bf598a51c",
   "metadata": {},
   "source": [
    "## Manipulating Lists\n",
    "\n",
    "\n",
    "\n",
    "**So now, after creation and subsetting, the final piece of the Python list puzzle is manipulation.  These are the ways to change your elements in your list, or to add elements to and remove elements from your list.  \n",
    "\n",
    "**Changing list elements is pretty straightforward.  You use the same square brackets that we've used to subset lists, and then assign new elements to it using the equal sign.  \n"
   ]
  },
  {
   "cell_type": "code",
   "execution_count": 46,
   "id": "40318aa1-b61d-486b-ba15-20d442fbcb15",
   "metadata": {},
   "outputs": [
    {
     "name": "stdout",
     "output_type": "stream",
     "text": [
      "['liz', 1.73, 'emma', 1.68, 'mom', 1.71, 'dad', 1.97]\n"
     ]
    }
   ],
   "source": [
    "family_height = ['liz', 1.73,  'emma', 1.68,  'mom', 1.71,  'dad', 1.98]\n",
    "\n",
    "family_height[-1] = 1.97\n",
    "\n",
    "print(family_height)"
   ]
  },
  {
   "cell_type": "markdown",
   "id": "cebb4402-a95c-462f-8ecf-d9c1fbdee202",
   "metadata": {},
   "source": [
    "## Add and removing elements\n",
    "\n",
    "\n",
    "**Do you still remenber how the plus operator was different for strings and integers?  It also different for lists.  If you use plus sign with two lists, Python simply pastes together their contents in a single list.  \n",
    "\n",
    "**Finally, deleting elements from a list is also pretty straightforward, you have to use del here.  \n"
   ]
  },
  {
   "cell_type": "code",
   "execution_count": 50,
   "id": "48913aa5-63b9-48df-8bf6-166f3ad23643",
   "metadata": {},
   "outputs": [
    {
     "name": "stdout",
     "output_type": "stream",
     "text": [
      "['liz', 1.73, 'emma', 1.68, 'mom', 1.71, 'dad', 1.97, 'me', 1.66, 'me', 1.66, 'me', 1.66]\n",
      "['liz', 1.73, 'mom', 1.71, 'dad', 1.97, 'me', 1.66, 'me', 1.66, 'me', 1.66]\n"
     ]
    }
   ],
   "source": [
    "family_height = family_height + ['me', 1.66]\n",
    "print(family_height)\n",
    "\n",
    "del family_height[2:4]\n",
    "print(family_height)"
   ]
  },
  {
   "cell_type": "markdown",
   "id": "b204ff5d-d4a8-4c6b-b524-8f958f9d254b",
   "metadata": {},
   "source": [
    "## Behind the scenes\n",
    "\n",
    "\n",
    "\n",
    "**Understanding how Python lists actually work behind the scenes becomes pretty important now.  What actually happends when you create a new list, in a simplified sence, you're storing a list in your computer memory and store the address of that list in x, \n",
    "\n",
    "x = ['a', 32, True, [1, 2, 3]]\n",
    "\n",
    "**This means that x does not actually contain all the list elements, it rather contains a reference to the list.  It becomes more important when you start copying list.  \n",
    "\n",
    "y = x\n",
    "y[0] = 34\n",
    "\n",
    "# x[x] will be changed to 34 as well, that is because when you copied x to y with equal sign, you copied the reference to the list, not the actual values themselves.  \n",
    "\n",
    "**If you want to create a list y that points to a new list in memory with the same values, you'll need something other than the equal sign.  \n",
    "\n",
    "y = list(x)\n",
    "y= x[:]"
   ]
  },
  {
   "cell_type": "markdown",
   "id": "e8294e63-f349-475b-adc6-00b5fd1823cb",
   "metadata": {},
   "source": [
    "## Replace list elements\n",
    "\n",
    "Replacing list elements is pretty easy. Simply subset the list and assign new values to the subset. You can select single elements or you can change entire list slices at once.\n",
    "\n",
    "Use the IPython Shell to experiment with the commands below. Can you tell what's happening and why?\n",
    "\n",
    "x = [\"a\", \"b\", \"c\", \"d\"]\n",
    "x[1] = \"r\"\n",
    "x[2:] = [\"s\", \"t\"]\n",
    "\n",
    "For this and the following exercises, you'll continue working on the areas list that contains the names and areas of different rooms in a house.\n",
    "Instructions\n",
    "100 XP\n",
    "\n",
    "    Update the area of the bathroom area to be 10.50 square meters instead of 9.50.\n",
    "    Make the areas list more trendy! Change \"living room\" to \"chill zone\".\n"
   ]
  },
  {
   "cell_type": "markdown",
   "id": "5c996e3a-0ede-4283-bfed-ea4ebe0e0674",
   "metadata": {},
   "source": [
    "## Extend a list\n",
    "\n",
    "If you can change elements in a list, you sure want to be able to add elements to it, right? You can use the + operator:\n",
    "\n",
    "x = [\"a\", \"b\", \"c\", \"d\"]\n",
    "y = x + [\"e\", \"f\"]\n",
    "\n",
    "You just won the lottery, awesome! You decide to build a poolhouse and a garage. Can you add the information to the areas list?\n",
    "Instructions\n",
    "100 XP\n",
    "\n",
    "    Use the + operator to paste the list [\"poolhouse\", 24.5] to the end of the areas list. Store the resulting list as areas_1.\n",
    "    Further extend areas_1 by adding data on your garage. Add the string \"garage\" and float 15.45. Name the resulting list areas_2.\n"
   ]
  },
  {
   "cell_type": "markdown",
   "id": "60a32433-1024-4f96-a6a9-64c07ea4d392",
   "metadata": {},
   "source": [
    "## Delete list elements\n",
    "\n",
    "Finally, you can also remove elements from your list. You can do this with the del statement:\n",
    "\n",
    "x = [\"a\", \"b\", \"c\", \"d\"]\n",
    "# del(x[1])\n",
    "# or x.pop(1)\n",
    "# ************************************************************************************************** #\n",
    "\n",
    "Pay attention here: as soon as you remove an element from a list, the indexes of the elements that come after the deleted element all change!\n",
    "\n",
    "The updated and extended version of areas that you've built in the previous exercises is coded below. You can copy and paste this into the IPython Shell to play around with the result.\n",
    "\n",
    "areas = [\"hallway\", 11.25, \"kitchen\", 18.0,\n",
    "        \"chill zone\", 20.0, \"bedroom\", 10.75,\n",
    "         \"bathroom\", 10.50, \"poolhouse\", 24.5,\n",
    "         \"garage\", 15.45]\n",
    "\n",
    "There was a mistake! The amount you won with the lottery is not that big after all and it looks like the poolhouse isn't going to happen. You decide to remove the corresponding string and float from the areas list.\n",
    "\n",
    "# ************************************************************************************************** #\n",
    "# The ; sign is used to place commands on the same line. The following two code chunks are equivalent:\n",
    "\n",
    "# Same line\n",
    "command1; command2\n",
    "\n",
    "# Separate lines\n",
    "command1\n",
    "command2\n",
    "\n",
    "Which of the code chunks will do the job for us?\n",
    "Instructions\n",
    "50 XP\n",
    "Possible Answers\n",
    "\n",
    "    del(areas[10]); del(areas[11])\n",
    "    del(areas[10:11])\n",
    "    del(areas[-4:-2])\n",
    "    del(areas[-3]); del(areas[-4])\n",
    "    "
   ]
  },
  {
   "cell_type": "markdown",
   "id": "3604396e-ac7e-4d13-9aa9-f7d9e494ba46",
   "metadata": {},
   "source": [
    "## Functions\n",
    "\n",
    "\n",
    "\n",
    "**Once you learn about them you wont be able to stop using them.  Functions.  For example type() is a function that returns the type of a value.  \n",
    "\n",
    "# **Function is a piece of reusable code, aimed at solving a particular task.  You can call functions instead to write the code yourself.  \n",
    "\n"
   ]
  },
  {
   "cell_type": "code",
   "execution_count": 64,
   "id": "0212782f-d94d-479f-8b38-c633fddea7e4",
   "metadata": {},
   "outputs": [
    {
     "name": "stdout",
     "output_type": "stream",
     "text": [
      "1.89\n",
      "1.89\n",
      "1.89\n"
     ]
    }
   ],
   "source": [
    "family_height = [1.73, 1.68, 1.71, 1.89, 1.76]\n",
    "\n",
    "# *************************************************************************************************** #\n",
    "max_h = family_height[0]\n",
    "for i in family_height:\n",
    "    if max_h < i:\n",
    "        max_h = i\n",
    "print(max_h)\n",
    "\n",
    "max_h = 0\n",
    "for i in family_height:\n",
    "    if i > max_h:\n",
    "        max_h = i\n",
    "print(max_h)\n",
    "\n",
    "print(max(family_height))"
   ]
  },
  {
   "cell_type": "markdown",
   "id": "c3093587-2b64-473a-add6-f5c7bd581236",
   "metadata": {},
   "source": [
    "**Anothe one of these build-in functions is round().  It takes two inputs, first, the number you want to round, second, the precision with wich to round, which is how many digits behind the decimal point you want to keep.  \n",
    "\n",
    "\n",
    "# **In Python, these inputs also called arguments, have names, number and ndigits.  \n"
   ]
  },
  {
   "cell_type": "code",
   "execution_count": 70,
   "id": "206b79aa-e2af-40ed-a0bf-801752598966",
   "metadata": {},
   "outputs": [
    {
     "name": "stdout",
     "output_type": "stream",
     "text": [
      "1\n",
      "1.45\n",
      "Help on built-in function round in module builtins:\n",
      "\n",
      "round(number, ndigits=None)\n",
      "    Round a number to a given precision in decimal digits.\n",
      "    \n",
      "    The return value is an integer if ndigits is omitted or None.  Otherwise\n",
      "    the return value has the same type as the number.  ndigits may be negative.\n",
      "\n",
      "None\n"
     ]
    }
   ],
   "source": [
    "print(round(1.48))\n",
    "\n",
    "print(round(1.449, 2))\n",
    "\n",
    "print(help(round))\n",
    "\n",
    "#print(round.__doc__)"
   ]
  },
  {
   "cell_type": "markdown",
   "id": "1cd1565c-b1ef-4d7a-8f0c-211c42cf11c2",
   "metadata": {},
   "source": [
    "## Familiar functions\n",
    "\n",
    "Out of the box, Python offers a bunch of built-in functions to make your life as a data scientist easier. You already know two such functions: print() and type(). You've also used the functions str(), int(), bool() and float() to switch between data types. These are built-in functions as well.\n",
    "\n",
    "Calling a function is easy. To get the type of 3.0 and store the output as a new variable, result, you can use the following:\n",
    "\n",
    "result = type(3.0)\n",
    "\n",
    "The general recipe for calling functions and saving the result to a variable is thus:\n",
    "\n",
    "output = function_name(input)\n",
    "\n",
    "Instructions\n",
    "100 XP\n",
    "\n",
    "    Use print() in combination with type() to print out the type of var1.\n",
    "    Use len() to get the length of the list var1. Wrap it in a print() call to directly print it out.\n",
    "    Use int() to convert var2 to an integer. Store the output as out2.\n"
   ]
  },
  {
   "cell_type": "markdown",
   "id": "41a15377-db4e-4b08-bf83-c53ced926343",
   "metadata": {},
   "source": [
    "## Help!\n",
    "\n",
    "Maybe you already know the name of a Python function, but you still have to figure out how to use it. Ironically, you have to ask for information about a function with another function: help(). In IPython specifically, you can also use ? before the function name.\n",
    "\n",
    "To get help on the max() function, for example, you can use one of these calls:\n",
    "\n",
    "help(max)\n",
    "?max\n",
    "\n",
    "Use the Shell to open up the documentation on complex(). Which of the following statements is true?\n",
    "Instructions\n",
    "50 XP\n",
    "Possible Answers\n",
    "\n",
    "    complex() takes exactly two arguments: real and [, imag].\n",
    "    complex() takes two arguments: real and imag. Both these arguments are required.\n",
    "    complex() takes two arguments: real and imag. real is a required argument, imag is an optional argument.\n",
    "    complex() takes two arguments: real and imag. If you don't specify imag, it is set to 1 by Python.\n",
    "    \n",
    "    \n",
    "In [1]:\n",
    "?max\n",
    "Docstring:\n",
    "max(iterable, *[, default=obj, key=func]) -> value\n",
    "max(arg1, arg2, *args, *[, key=func]) -> value\n",
    "\n",
    "With a single iterable argument, return its biggest item. The\n",
    "default keyword-only argument specifies an object to return if\n",
    "the provided iterable is empty.\n",
    "With two or more arguments, return the largest argument.\n",
    "Type:      builtin_function_or_method\n",
    "\n",
    "\n",
    "In [1]:\n",
    "?complex\n",
    "Init signature: complex(self, /, *args, **kwargs)\n",
    "Docstring:\n",
    "complex(real[, imag]) -> complex number\n",
    "\n",
    "Create a complex number from a real part and an optional imaginary part.\n",
    "This is equivalent to (real + imag*1j) where imag defaults to 0.\n",
    "Type:           type"
   ]
  },
  {
   "cell_type": "markdown",
   "id": "d8bdad50-aeb9-4143-803d-7bbca2398099",
   "metadata": {},
   "source": [
    "## Multiple arguments\n",
    "\n",
    "# In the previous exercise, the square brackets around imag in the documentation showed us that the imag argument is optional. But Python also uses a different way to tell users about arguments being optional.\n",
    "\n",
    "Have a look at the documentation of sorted() by typing help(sorted) in the IPython Shell.\n",
    "\n",
    "You'll see that sorted() takes three arguments: iterable, key and reverse.\n",
    "\n",
    "# key=None means that if you don't specify the key argument, it will be None. reverse=False means that if you don't specify the reverse argument, it will be False.\n",
    "\n",
    "In this exercise, you'll only have to specify iterable and reverse, not key. The first input you pass to sorted() will be matched to the iterable argument, but what about the second input? To tell Python you want to specify reverse without changing anything about key, you can use =:\n",
    "\n",
    "sorted(___, reverse = ___)\n",
    "\n",
    "Two lists have been created for you in the editor. Can you paste them together and sort them in descending order?\n",
    "\n",
    "Note: For now, we can understand an iterable as being any collection of objects, e.g. a List.\n",
    "Instructions\n",
    "100 XP\n",
    "\n",
    "    Use + to merge the contents of first and second into a new list: full.\n",
    "    Call sorted() on full and specify the reverse argument to be True. Save the sorted list as full_sorted.\n",
    "    Finish off by printing out full_sorted.\n",
    "\n",
    "\n",
    "In [2]:\n",
    "?sorted\n",
    "Signature: sorted(iterable, /, *, key=None, reverse=False)\n",
    "Docstring:\n",
    "Return a new list containing all items from the iterable in ascending order.\n",
    "\n",
    "A custom key function can be supplied to customize the sort order, and the\n",
    "reverse flag can be set to request the result in descending order.\n",
    "Type:      builtin_function_or_method"
   ]
  },
  {
   "cell_type": "markdown",
   "id": "e65f3084-ad62-4a97-95bc-4c182d5303f7",
   "metadata": {},
   "source": [
    "## Methods\n",
    "\n",
    "\n",
    "\n",
    "**Build in functions are only one part of Python story.  \n",
    "\n",
    "# *****************************************************************************************************\n",
    "# *****************************************************************************************************\n",
    "# In addition to this, Python objects also some with a bunch of so-called methods.  \n",
    "# You can think of methods as functions that belong to Python objects.  \n",
    "\n",
    "\n",
    "**A Python object of type string has methods, such as capitalize() and replace(), but also objects of type float and list have specific methods depending on the type.  \n",
    "\n",
    "**To call the method, you use the dot notation, the only input is the element you want to get the index for.  \n"
   ]
  },
  {
   "cell_type": "code",
   "execution_count": 12,
   "id": "ac589c2c-26ed-4b52-b291-d82ee72be67e",
   "metadata": {},
   "outputs": [
    {
     "name": "stdout",
     "output_type": "stream",
     "text": [
      "['__add__', '__class__', '__contains__', '__delattr__', '__dir__', '__doc__', '__eq__', '__format__', '__ge__', '__getattribute__', '__getitem__', '__getnewargs__', '__gt__', '__hash__', '__init__', '__init_subclass__', '__iter__', '__le__', '__len__', '__lt__', '__mod__', '__mul__', '__ne__', '__new__', '__reduce__', '__reduce_ex__', '__repr__', '__rmod__', '__rmul__', '__setattr__', '__sizeof__', '__str__', '__subclasshook__', 'capitalize', 'casefold', 'center', 'count', 'encode', 'endswith', 'expandtabs', 'find', 'format', 'format_map', 'index', 'isalnum', 'isalpha', 'isascii', 'isdecimal', 'isdigit', 'isidentifier', 'islower', 'isnumeric', 'isprintable', 'isspace', 'istitle', 'isupper', 'join', 'ljust', 'lower', 'lstrip', 'maketrans', 'partition', 'removeprefix', 'removesuffix', 'replace', 'rfind', 'rindex', 'rjust', 'rpartition', 'rsplit', 'rstrip', 'split', 'splitlines', 'startswith', 'strip', 'swapcase', 'title', 'translate', 'upper', 'zfill']\n"
     ]
    }
   ],
   "source": [
    "a = '1.76'\n",
    "\n",
    "print(dir(a))\n",
    "#dir(float)"
   ]
  },
  {
   "cell_type": "code",
   "execution_count": 54,
   "id": "f6e66318-decd-4c5c-bd25-de9099e0991d",
   "metadata": {},
   "outputs": [
    {
     "name": "stdout",
     "output_type": "stream",
     "text": [
      "['__add__', '__class__', '__class_getitem__', '__contains__', '__delattr__', '__delitem__', '__dir__', '__doc__', '__eq__', '__format__', '__ge__', '__getattribute__', '__getitem__', '__gt__', '__hash__', '__iadd__', '__imul__', '__init__', '__init_subclass__', '__iter__', '__le__', '__len__', '__lt__', '__mul__', '__ne__', '__new__', '__reduce__', '__reduce_ex__', '__repr__', '__reversed__', '__rmul__', '__setattr__', '__setitem__', '__sizeof__', '__str__', '__subclasshook__', 'append', 'clear', 'copy', 'count', 'extend', 'index', 'insert', 'pop', 'remove', 'reverse', 'sort']\n"
     ]
    }
   ],
   "source": [
    "family_height = ['liz', 1.73,  'emma', 1.68,  'mom', 1.71,  'dad', 1.98]\n",
    "\n",
    "print(dir(family_height))"
   ]
  },
  {
   "cell_type": "code",
   "execution_count": 91,
   "id": "12f119e1-11b3-4712-8759-ca55ac9332a3",
   "metadata": {},
   "outputs": [
    {
     "data": {
      "text/plain": [
       "\u001b[0;31mSignature:\u001b[0m \u001b[0mfamily_height\u001b[0m\u001b[0;34m.\u001b[0m\u001b[0mcount\u001b[0m\u001b[0;34m(\u001b[0m\u001b[0mvalue\u001b[0m\u001b[0;34m,\u001b[0m \u001b[0;34m/\u001b[0m\u001b[0;34m)\u001b[0m\u001b[0;34m\u001b[0m\u001b[0;34m\u001b[0m\u001b[0m\n",
       "\u001b[0;31mDocstring:\u001b[0m Return number of occurrences of value.\n",
       "\u001b[0;31mType:\u001b[0m      builtin_function_or_method\n"
      ]
     },
     "metadata": {},
     "output_type": "display_data"
    }
   ],
   "source": [
    "?family_height.count"
   ]
  },
  {
   "cell_type": "code",
   "execution_count": 77,
   "id": "c898cbdf-8f11-4b40-8797-6c5f0d0b4506",
   "metadata": {},
   "outputs": [
    {
     "name": "stdout",
     "output_type": "stream",
     "text": [
      "Return first index of value.\n",
      "\n",
      "Raises ValueError if the value is not present.\n"
     ]
    }
   ],
   "source": [
    "family_height = ['liz', 1.73,  'emma', 1.68,  'mom', 1.71,  'dad', 1.98]\n",
    "\n",
    "dir(family_height)\n",
    "\n",
    "print(family_height.index.__doc__)"
   ]
  },
  {
   "cell_type": "code",
   "execution_count": 79,
   "id": "948a7cbd-73ea-476b-962c-f5db2da185ea",
   "metadata": {},
   "outputs": [
    {
     "data": {
      "text/plain": [
       "\u001b[0;31mSignature:\u001b[0m \u001b[0mfamily_height\u001b[0m\u001b[0;34m.\u001b[0m\u001b[0mindex\u001b[0m\u001b[0;34m(\u001b[0m\u001b[0mvalue\u001b[0m\u001b[0;34m,\u001b[0m \u001b[0mstart\u001b[0m\u001b[0;34m=\u001b[0m\u001b[0;36m0\u001b[0m\u001b[0;34m,\u001b[0m \u001b[0mstop\u001b[0m\u001b[0;34m=\u001b[0m\u001b[0;36m9223372036854775807\u001b[0m\u001b[0;34m,\u001b[0m \u001b[0;34m/\u001b[0m\u001b[0;34m)\u001b[0m\u001b[0;34m\u001b[0m\u001b[0;34m\u001b[0m\u001b[0m\n",
       "\u001b[0;31mDocstring:\u001b[0m\n",
       "Return first index of value.\n",
       "\n",
       "Raises ValueError if the value is not present.\n",
       "\u001b[0;31mType:\u001b[0m      builtin_function_or_method\n"
      ]
     },
     "metadata": {},
     "output_type": "display_data"
    }
   ],
   "source": [
    "?family_height.index"
   ]
  },
  {
   "cell_type": "markdown",
   "id": "9f10ee9e-8742-4036-9898-6a20e8bba6c9",
   "metadata": {},
   "source": [
    "# To call the method, you use the dot notation, the only input is the element you want to get the index for.  You can call methods on the objects with dot notation\n",
    "\n",
    "\n",
    "# IN addition to this, Python objects also some with a bunch of so-called methods.  \n",
    "# You can think of methods as functions that belong to Python objects.  \n"
   ]
  },
  {
   "cell_type": "code",
   "execution_count": 86,
   "id": "a48ed14a-ebaf-4645-93b9-14a19c3bedaa",
   "metadata": {},
   "outputs": [
    {
     "ename": "ValueError",
     "evalue": "1 is not in list",
     "output_type": "error",
     "traceback": [
      "\u001b[0;31m---------------------------------------------------------------------------\u001b[0m",
      "\u001b[0;31mValueError\u001b[0m                                Traceback (most recent call last)",
      "\u001b[0;32m/tmp/ipykernel_2053/2354920400.py\u001b[0m in \u001b[0;36m<module>\u001b[0;34m\u001b[0m\n\u001b[0;32m----> 1\u001b[0;31m \u001b[0mfamily_height\u001b[0m\u001b[0;34m.\u001b[0m\u001b[0mindex\u001b[0m\u001b[0;34m(\u001b[0m\u001b[0;36m1\u001b[0m\u001b[0;34m)\u001b[0m\u001b[0;34m\u001b[0m\u001b[0;34m\u001b[0m\u001b[0m\n\u001b[0m",
      "\u001b[0;31mValueError\u001b[0m: 1 is not in list"
     ]
    }
   ],
   "source": [
    "family_height.index(1)"
   ]
  },
  {
   "cell_type": "code",
   "execution_count": 87,
   "id": "3eb38528-2558-4c83-b891-5953fee81219",
   "metadata": {},
   "outputs": [
    {
     "data": {
      "text/plain": [
       "4"
      ]
     },
     "execution_count": 87,
     "metadata": {},
     "output_type": "execute_result"
    }
   ],
   "source": [
    "family_height.index('mom')"
   ]
  },
  {
   "cell_type": "code",
   "execution_count": 92,
   "id": "3217e197-1919-48eb-8690-91f0b390e78f",
   "metadata": {},
   "outputs": [
    {
     "data": {
      "text/plain": [
       "\u001b[0;31mSignature:\u001b[0m \u001b[0mfamily_height\u001b[0m\u001b[0;34m.\u001b[0m\u001b[0mcount\u001b[0m\u001b[0;34m(\u001b[0m\u001b[0mvalue\u001b[0m\u001b[0;34m,\u001b[0m \u001b[0;34m/\u001b[0m\u001b[0;34m)\u001b[0m\u001b[0;34m\u001b[0m\u001b[0;34m\u001b[0m\u001b[0m\n",
       "\u001b[0;31mDocstring:\u001b[0m Return number of occurrences of value.\n",
       "\u001b[0;31mType:\u001b[0m      builtin_function_or_method\n"
      ]
     },
     "metadata": {},
     "output_type": "display_data"
    }
   ],
   "source": [
    "?family_height.count"
   ]
  },
  {
   "cell_type": "code",
   "execution_count": 89,
   "id": "8691f1dc-5048-43c0-9300-b59fce6d84ef",
   "metadata": {},
   "outputs": [
    {
     "data": {
      "text/plain": [
       "1"
      ]
     },
     "execution_count": 89,
     "metadata": {},
     "output_type": "execute_result"
    }
   ],
   "source": [
    "family_height.count('mom')"
   ]
  },
  {
   "cell_type": "code",
   "execution_count": 53,
   "id": "e0188935-2298-423e-9a98-8fd6d02ea35a",
   "metadata": {},
   "outputs": [
    {
     "name": "stdout",
     "output_type": "stream",
     "text": [
      "['__add__', '__class__', '__contains__', '__delattr__', '__dir__', '__doc__', '__eq__', '__format__', '__ge__', '__getattribute__', '__getitem__', '__getnewargs__', '__gt__', '__hash__', '__init__', '__init_subclass__', '__iter__', '__le__', '__len__', '__lt__', '__mod__', '__mul__', '__ne__', '__new__', '__reduce__', '__reduce_ex__', '__repr__', '__rmod__', '__rmul__', '__setattr__', '__sizeof__', '__str__', '__subclasshook__', 'capitalize', 'casefold', 'center', 'count', 'encode', 'endswith', 'expandtabs', 'find', 'format', 'format_map', 'index', 'isalnum', 'isalpha', 'isascii', 'isdecimal', 'isdigit', 'isidentifier', 'islower', 'isnumeric', 'isprintable', 'isspace', 'istitle', 'isupper', 'join', 'ljust', 'lower', 'lstrip', 'maketrans', 'partition', 'removeprefix', 'removesuffix', 'replace', 'rfind', 'rindex', 'rjust', 'rpartition', 'rsplit', 'rstrip', 'split', 'splitlines', 'startswith', 'strip', 'swapcase', 'title', 'translate', 'upper', 'zfill']\n"
     ]
    }
   ],
   "source": [
    "sister = 'liz'\n",
    "\n",
    "print(dir(sister))"
   ]
  },
  {
   "cell_type": "code",
   "execution_count": 94,
   "id": "f7f1e116-75e0-4520-9ed9-6dcf32fd4a03",
   "metadata": {},
   "outputs": [
    {
     "data": {
      "text/plain": [
       "\u001b[0;31mSignature:\u001b[0m \u001b[0msister\u001b[0m\u001b[0;34m.\u001b[0m\u001b[0mcapitalize\u001b[0m\u001b[0;34m(\u001b[0m\u001b[0;34m)\u001b[0m\u001b[0;34m\u001b[0m\u001b[0;34m\u001b[0m\u001b[0m\n",
       "\u001b[0;31mDocstring:\u001b[0m\n",
       "Return a capitalized version of the string.\n",
       "\n",
       "More specifically, make the first character have upper case and the rest lower\n",
       "case.\n",
       "\u001b[0;31mType:\u001b[0m      builtin_function_or_method\n"
      ]
     },
     "metadata": {},
     "output_type": "display_data"
    }
   ],
   "source": [
    "?sister.capitalize"
   ]
  },
  {
   "cell_type": "code",
   "execution_count": 96,
   "id": "0c84a7b5-0545-4b18-9b79-ba4ec1ee165c",
   "metadata": {},
   "outputs": [
    {
     "name": "stdout",
     "output_type": "stream",
     "text": [
      "Liz\n"
     ]
    }
   ],
   "source": [
    "print(sister.capitalize())"
   ]
  },
  {
   "cell_type": "markdown",
   "id": "4f4d3bef-a134-4b1a-bdf1-c0520b2e5737",
   "metadata": {},
   "source": [
    "## To be absolutely clear: in Python, everything is an object, and each object has specific methods associated.  Also depending on the type of the object, the methods behave differently.  \n",
    "\n",
    "\n",
    "\n",
    "# To call the method, you use the dot notation, the only input is the element you want to get the index for.  You can call methods on the objects with dot notation\n",
    "\n",
    "\n",
    "# IN addition to this, Python objects also some with a bunch of so-called methods.  \n",
    "# You can think of methods as functions that belong to Python objects.  \n",
    "\n",
    "\n",
    "\n",
    "# Some method can change the objects they are called on.  "
   ]
  },
  {
   "cell_type": "code",
   "execution_count": 99,
   "id": "db4c633b-9f2a-4c8c-b013-933d23d2e48a",
   "metadata": {},
   "outputs": [
    {
     "name": "stdout",
     "output_type": "stream",
     "text": [
      "['liz', 1.73, 'emma', 1.68, 'mom', 1.71, 'dad', 1.98, 'jh']\n"
     ]
    }
   ],
   "source": [
    "family_height = ['liz', 1.73,  'emma', 1.68,  'mom', 1.71,  'dad', 1.98]\n",
    "\n",
    "#dir(family_height)\n",
    "family_height.append('jh')   # The family_height list was extended\n",
    "\n",
    "print(family_height)"
   ]
  },
  {
   "cell_type": "markdown",
   "id": "f2fa743f-206f-4672-a68a-81ef6c3e9bd3",
   "metadata": {},
   "source": [
    "## Some method calls dont change the object they've called on, while others do.   \n",
    "\n",
    "**list object .index() method just looking element index for you, while list object .append() method add new element into your list.  \n"
   ]
  },
  {
   "cell_type": "markdown",
   "id": "51bc7bbb-169c-4762-b9de-728b85c0bb8f",
   "metadata": {},
   "source": [
    "## String Methods\n",
    "\n",
    "Strings come with a bunch of methods. Follow the instructions closely to discover some of them. If you want to discover them in more detail, you can always type help(str) in the IPython Shell.\n",
    "\n",
    "A string place has already been created for you to experiment with.\n",
    "Instructions\n",
    "100 XP\n",
    "\n",
    "    Use the upper() method on place and store the result in place_up. Use the syntax for calling methods that you learned in the previous video.\n",
    "    Print out place and place_up. Did both change?\n",
    "    Print out the number of o's on the variable place by calling count() on place and passing the letter 'o' as an input to the method. We're talking about the variable place, not the word \"place\"!\n"
   ]
  },
  {
   "cell_type": "markdown",
   "id": "2e4db495-0ca4-4592-9a9a-48a69c07b6b9",
   "metadata": {},
   "source": [
    "## List Methods\n",
    "\n",
    "# Strings are not the only Python types that have methods associated with them. \n",
    "Lists, floats, integers and booleans are also types that come packaged with a bunch of useful methods. In this exercise, you'll be experimenting with:\n",
    "\n",
    "    index(), to get the index of the first element of a list that matches its input and\n",
    "    count(), to get the number of times an element appears in a list.\n",
    "\n",
    "You'll be working on the list with the area of different parts of a house: areas.\n",
    "Instructions\n",
    "100 XP\n",
    "\n",
    "    Use the index() method to get the index of the element in areas that is equal to 20.0. Print out this index.\n",
    "    Call count() on areas to find out how many times 9.50 appears in the list. Again, simply print out this number.\n"
   ]
  },
  {
   "cell_type": "markdown",
   "id": "15007bbc-ad36-45d2-b333-0a1b1e97e04e",
   "metadata": {},
   "source": [
    "## List Methods (2)\n",
    "\n",
    "Most list methods will change the list they're called on. Examples are:\n",
    "\n",
    "    append(), that adds an element to the list it is called on,\n",
    "    remove(), that removes the first element of a list that matches the input, and\n",
    "    reverse(), that reverses the order of the elements in the list it is called on.\n",
    "\n",
    "You'll be working on the list with the area of different parts of the house: areas.\n",
    "Instructions\n",
    "100 XP\n",
    "\n",
    "    Use append() twice to add the size of the poolhouse and the garage again: 24.5 and 15.45, respectively. Make sure to add them in this order.\n",
    "    Print out areas\n",
    "    Use the reverse() method to reverse the order of the elements in areas.\n",
    "    Print out areas once more.\n"
   ]
  },
  {
   "cell_type": "markdown",
   "id": "6cc02292-3ba1-4b49-a341-9c3895c52669",
   "metadata": {},
   "source": [
    "## Packages\n",
    "\n",
    "\n",
    "**By now, I hope you're convinced that Python functions and methods are extremely powerful: you can basically use other people's code to solve your own problems.  \n",
    "\n",
    "**However, adding all functions and methods that have been written up to now to the same Python distribution would be a mess.  There would be tons and tons of code in there, that you'll never use.  Also, maintaining all of this code would be a real pain.  \n",
    "\n",
    "# This is where packages come to play.  \n",
    "pkg/\n",
    "  mod1.py\n",
    "  mod2.py\n",
    "  ...\n",
    "# **You can think packages as a directory of Python scripts.  Each script is so-called module.  \n",
    "**These modules specify functions, methods and new Python types aimed at solving particular problems.  \n",
    "\n",
    "# **There are thousands of Python packages available from the internet.  Among them are packages for data science: there is numpy to efficienty work with arrays, matplotlib for data visualization, and scikit-learn for machine learning.  Not all these packages are available in Python by default.  To use Python packages, you'll fisrt have to install them on your own system and then put code in your script to tell Python that you want to use these packages.  \n",
    "\n",
    "**To use the package, we use import statement to import package or a specific module of the package, a commonly used function in Numpy is array, it takes a list as input.  The Numpy array is very useful to do data science.  \n",
    "\n",
    "import numpy\n",
    "a_array = numpy.array([family_height])"
   ]
  },
  {
   "cell_type": "markdown",
   "id": "37222c80-98d8-4c9d-879d-9aabddb196a8",
   "metadata": {},
   "source": [
    "## Import package\n",
    "\n",
    "As a data scientist, some notions of geometry never hurt. Let's refresh some of the basics.\n",
    "\n",
    "For a fancy clustering algorithm, you want to find the circumference,C, and area, A, of a circle. When the radius of the circle is r, you can calculate C and A\n",
    "\n",
    "as: C = 2*pi*r\n",
    "    A = pi*r^2\n",
    "\n",
    "To use the constant pi, you'll need the math package. A variable r is already coded in the script. Fill in the code to calculate C and A and see how the print() functions create some nice printouts.\n",
    "Instructions\n",
    "100 XP\n",
    "\n",
    "    Import the math package. Now you can access the constant pi with math.pi.\n",
    "    Calculate the circumference of the circle and store it in C.\n",
    "    Calculate the area of the circle and store it in A.\n"
   ]
  },
  {
   "cell_type": "markdown",
   "id": "a91cf91d-b4a4-46c2-b04d-b28a0d93ce4e",
   "metadata": {},
   "source": [
    "## Selective import\n",
    "\n",
    "General imports, like import math, make all functionality from the math package available to you. However, if you decide to only use a specific part of a package, you can always make your import more selective:\n",
    "\n",
    "from math import pi\n",
    "\n",
    "Let's say the Moon's orbit around planet Earth is a perfect circle, with a radius r (in km) that is defined in the script.\n",
    "Instructions\n",
    "100 XP\n",
    "\n",
    "    Perform a selective import from the math package where you only import the radians function.\n",
    "    Calculate the distance travelled by the Moon over 12 degrees of its orbit. Assign the result to dist. You can calculate this as r * phi, where r is the radius and phi is the angle in radians. To convert an angle in degrees to an angle in radians, use the radians() function, which you just imported.\n",
    "    Print out dist.\n"
   ]
  },
  {
   "cell_type": "markdown",
   "id": "2319fd22-0a35-4ba4-98d7-4ccf31812292",
   "metadata": {},
   "source": [
    "## Different ways of importing\n",
    "\n",
    "# There are several ways to import packages and modules into Python. Depending on the import call, you'll have to use different Python code.\n",
    "\n",
    "Suppose you want to use the function inv(), which is in the linalg subpackage of the scipy package. You want to be able to use this function as follows:\n",
    "\n",
    "my_inv([[1,2], [3,4]])\n",
    "\n",
    "Which import statement will you need in order to run the above code without an error?\n",
    "Instructions\n",
    "50 XP\n",
    "Possible Answers\n",
    "\n",
    "    import scipy\n",
    "    import scipy.linalg\n",
    "    from scipy.linalg import my_inv\n",
    "    from scipy.linalg import inv as my_inv\n",
    "    \n",
    "    \n",
    "In [1]:\n",
    "from scipy.linalg import inv as my_inv\n",
    "In [2]:\n",
    "my_inv([1,2],[3,4])\n",
    "Traceback (most recent call last):\n",
    "  File \"<stdin>\", line 1, in <module>\n",
    "    my_inv([1,2],[3,4])\n",
    "  File \"<stdin>\", line 660, in inv\n",
    "    raise ValueError('expected square matrix')\n",
    "ValueError: expected square matrix\n",
    "In [3]:\n",
    "my_inv([[1,2],[3,4]])\n",
    "Out[3]:\n",
    "\n",
    "array([[-2. ,  1. ],\n",
    "       [ 1.5, -0.5]])"
   ]
  },
  {
   "cell_type": "markdown",
   "id": "93fc63e0-2e8a-4ad7-8d29-cf9f36eacf3c",
   "metadata": {},
   "source": [
    "## Numpy\n",
    "\n",
    "\n",
    "\n",
    "**Python list is pretty powerful, a list can hold any type and hold different types at the same time.  You can also change, add and remove elements.  This is wonderful, but one feature is missing, a feature that is super important for aspiring data scientist as yourself.  \n",
    "\n",
    "# **When analyzing data, you aften want to carry out operations over entire collections of values, and you want to do this fast.  With list, this is a problem.  \n"
   ]
  },
  {
   "cell_type": "code",
   "execution_count": 102,
   "id": "f0ce730f-a1ac-4298-87f2-59ab45fbfe90",
   "metadata": {},
   "outputs": [
    {
     "name": "stdout",
     "output_type": "stream",
     "text": [
      "[1.73, 1.68, 1.71, 1.98]\n"
     ]
    },
    {
     "ename": "TypeError",
     "evalue": "unsupported operand type(s) for ** or pow(): 'list' and 'int'",
     "output_type": "error",
     "traceback": [
      "\u001b[0;31m---------------------------------------------------------------------------\u001b[0m",
      "\u001b[0;31mTypeError\u001b[0m                                 Traceback (most recent call last)",
      "\u001b[0;32m/tmp/ipykernel_2053/1654674368.py\u001b[0m in \u001b[0;36m<module>\u001b[0;34m\u001b[0m\n\u001b[1;32m      6\u001b[0m \u001b[0;34m\u001b[0m\u001b[0m\n\u001b[1;32m      7\u001b[0m \u001b[0;34m\u001b[0m\u001b[0m\n\u001b[0;32m----> 8\u001b[0;31m \u001b[0mfamily_msi\u001b[0m \u001b[0;34m=\u001b[0m \u001b[0mfamily_weight\u001b[0m\u001b[0;34m/\u001b[0m\u001b[0mfamily_height\u001b[0m\u001b[0;34m**\u001b[0m\u001b[0;36m2\u001b[0m\u001b[0;34m\u001b[0m\u001b[0;34m\u001b[0m\u001b[0m\n\u001b[0m\u001b[1;32m      9\u001b[0m \u001b[0;34m\u001b[0m\u001b[0m\n\u001b[1;32m     10\u001b[0m \u001b[0mprint\u001b[0m\u001b[0;34m(\u001b[0m\u001b[0mfamily_msi\u001b[0m\u001b[0;34m)\u001b[0m\u001b[0;34m\u001b[0m\u001b[0;34m\u001b[0m\u001b[0m\n",
      "\u001b[0;31mTypeError\u001b[0m: unsupported operand type(s) for ** or pow(): 'list' and 'int'"
     ]
    }
   ],
   "source": [
    "family_height = [1.73,  'emma', 1.68,  'mom', 1.71,  'dad', 1.98]\n",
    "family_height = [i for i in family_height if type(i) is not str]\n",
    "print(family_height)\n",
    "\n",
    "family_weight = [65.4, 59.2, 63.6, 88.4, 68.7]\n",
    "\n",
    "\n",
    "family_msi = family_weight/family_height**2\n",
    "\n",
    "print(family_msi)"
   ]
  },
  {
   "cell_type": "markdown",
   "id": "6790c642-25ad-420d-8d79-b2db1c2fa2c8",
   "metadata": {},
   "source": [
    "# Unfortunately, Python throws an error, because it has no idea how to do calculation on lists.  You could solve this by going though each list element one after another and calculating the bmi for each person separetely, but this is terribly inefficient and exhausting to write.  \n",
    "\n"
   ]
  },
  {
   "cell_type": "code",
   "execution_count": 3,
   "id": "1cb02f67-1a83-4869-9352-5a06c57b0d15",
   "metadata": {},
   "outputs": [
    {
     "name": "stdout",
     "output_type": "stream",
     "text": [
      "<class 'list'>\n",
      "[0.00040447399676420793, 0.000493631300219138, 0.0004276927336735097, 0.0002213816260928318, 0.00036654949795431475, 0.00039278399685772794, 0.00047936449963476984, 0.0004153316720066453, 0.0002149833131999754, 0.0003559555818284675, 0.00039979799680161593, 0.00048792457998539075, 0.00042274830900676394, 0.00021882230093568924, 0.0003623119315039759, 0.00046292399629660794, 0.0005649653031409787, 0.000489498042007832, 0.00025337319055711386, 0.000419519078583551, 0.000418501996651984, 0.0005107514609203798, 0.0004425260076737471, 0.0002290596015642595, 0.00037926219730533147]\n",
      "<class 'generator'>\n",
      "0.00040447399676420793 0.000493631300219138 0.0004276927336735097 0.0002213816260928318 0.00036654949795431475 0.00039278399685772794 0.00047936449963476984 0.0004153316720066453 0.0002149833131999754 0.0003559555818284675 0.00039979799680161593 0.00048792457998539075 0.00042274830900676394 0.00021882230093568924 0.0003623119315039759 0.00046292399629660794 0.0005649653031409787 0.000489498042007832 0.00025337319055711386 0.000419519078583551 0.000418501996651984 0.0005107514609203798 0.0004425260076737471 0.0002290596015642595 0.00037926219730533147\n",
      "<class 'tuple'>\n",
      "(0.00040447399676420793, 0.000493631300219138, 0.0004276927336735097, 0.0002213816260928318, 0.00036654949795431475, 0.00039278399685772794, 0.00047936449963476984, 0.0004153316720066453, 0.0002149833131999754, 0.0003559555818284675, 0.00039979799680161593, 0.00048792457998539075, 0.00042274830900676394, 0.00021882230093568924, 0.0003623119315039759, 0.00046292399629660794, 0.0005649653031409787, 0.000489498042007832, 0.00025337319055711386, 0.000419519078583551, 0.000418501996651984, 0.0005107514609203798, 0.0004425260076737471, 0.0002290596015642595, 0.00037926219730533147)\n"
     ]
    }
   ],
   "source": [
    "# *************************************************************************************************** #\n",
    "# *************************************************************************************************** #\n",
    "family_weight = [65.4, 59.2, 63.6, 88.4, 68.7]\n",
    "family_height = [1.73, 1.68, 1.71, 1.98, 1.79]   # *100000 or *1000 takes forever to run\n",
    "\n",
    "\n",
    "family_msi = [i/j**2 for i in family_height for j in family_weight]\n",
    "family_msi2 = (i/j**2 for i in family_height for j in family_weight)\n",
    "family_msi3 = tuple(i/j**2 for i in family_height for j in family_weight)\n",
    "print(type(family_msi))\n",
    "print(family_msi)\n",
    "# *************************************************************************************************** #\n",
    "# *************************************************************************************************** #\n",
    "print(type(family_msi2))    # Its a generator, Mark to learn generator knowledge,******************** #\n",
    "print(*(i/j**2 for i in family_height for j in family_weight))\n",
    "# *************************************************************************************************** #\n",
    "print(type(family_msi3))\n",
    "print(family_msi3)"
   ]
  },
  {
   "cell_type": "markdown",
   "id": "fb74108c-a7c4-4970-9824-04000f9f1233",
   "metadata": {},
   "source": [
    "# xxxxxxxxxxxxxxxxxxxxxxxxxxxxxxxxxxxxxxxxxxxxxxxxxxxxxxxxxxxxxxxxxxxxxxxxxxxxxxxxxxxxxxxxxxxxxxxxxxxxx\n",
    "# xxxxxxxxxxxxxxxxxxxxxxxxxxxxxxxxxxxxxxxxxxxxxxxxxxxxxxxxxxxxxxxxxxxxxxxxxxxxxxxxxxxxxxxxxxxxxxxxxxxxx"
   ]
  },
  {
   "cell_type": "code",
   "execution_count": 17,
   "id": "ca2ca7a9-52c0-4576-86b0-b09143757306",
   "metadata": {},
   "outputs": [
    {
     "name": "stdout",
     "output_type": "stream",
     "text": [
      "Function: msi_cal, takes 0.00084019s\n",
      "<class 'NoneType'>\n"
     ]
    }
   ],
   "source": [
    "import time\n",
    "\n",
    "def timer(func):\n",
    "    def wrapper(*args):\n",
    "        start = time.time()\n",
    "        solution = func(*args)\n",
    "        t_spend = time.time() - start\n",
    "        #print(f\"Function {func.__name__}, spend {t_spend} s to run\")\n",
    "        print(\"Function: {}, takes {:.8f}s\".format(func.__name__, t_spend))\n",
    "    return wrapper\n",
    "\n",
    "@timer\n",
    "def msi_cal(weight, height):\n",
    "    #print(*(i/j**2 for i in height for j in weight))\n",
    "    #return [i/j**2 for i in height for j in weight]   # takes 6.52419949s\n",
    "    return tuple(i/j**2 for i in height for j in weight)    # takes 0.00000215s\n",
    "# *************************************************************************************************** #\n",
    "# *************************************************************************************************** #\n",
    "# *************************************************************************************************** #\n",
    "    \n",
    "\n",
    "\n",
    "family_weight = [65.4, 59.2, 63.6, 88.4, 68.7]*10  # try *1000000 caused problem\n",
    "family_height = [1.73, 1.68, 1.71, 1.98, 1.79]*10\n",
    "\n",
    "ff = msi_cal(family_weight, family_height)\n",
    "print(type(ff))\n",
    "\n",
    "del time, timer, msi_cal, family_weight, family_height"
   ]
  },
  {
   "cell_type": "markdown",
   "id": "c4aa13fa-acc0-4997-8e62-5fbdbc10ce83",
   "metadata": {},
   "source": [
    "# **A way more elegent solution is to use NumPy, or Numeric Python.  Its a Python package that, among others, provides a alternative to the regular Python list: the NumPy array.  The NumPy array is pretty similar to the list, but has one additional features, such as the ability to perform calculation over entire arrays.  It's really easy and super fast.  \n",
    "\n"
   ]
  },
  {
   "cell_type": "markdown",
   "id": "b8716a0f-e7a3-4d1b-963e-a87edb85e48d",
   "metadata": {},
   "source": [
    "# xxxxxxxxxxxxxxxxxxxxxxxxxxxxxxxxxxxxxxxxxxxxxxxxxxxxxxxxxxxxxxxxxxxxxxxxxxxxxxxxxxxxxxxxxxxxxxxxxxxxx\n",
    "# xxxxxxxxxxxxxxxxxxxxxxxxxxxxxxxxxxxxxxxxxxxxxxxxxxxxxxxxxxxxxxxxxxxxxxxxxxxxxxxxxxxxxxxxxxxxxxxxxxxxx"
   ]
  },
  {
   "cell_type": "code",
   "execution_count": 14,
   "id": "fb4b89b0-3810-4ceb-8e2a-9c4963b2b98f",
   "metadata": {},
   "outputs": [
    {
     "name": "stdout",
     "output_type": "stream",
     "text": [
      "family_weight: 1.0089536s\n",
      "family_height: 1.0156164s\n",
      "<class 'numpy.ndarray'>\n",
      "[1.73 1.68 1.71 ... 1.71 1.98 1.79]\n",
      "Function: msi_cal, takes 0.02609944s\n"
     ]
    }
   ],
   "source": [
    "import time\n",
    "import numpy as np\n",
    "\n",
    "def timer(func):\n",
    "    def wrapper(*args):\n",
    "        start = time.time()\n",
    "        solution = func(*args)\n",
    "        t_spend = time.time() - start\n",
    "        #print(f\"Function {func.__name__}, spend {t_spend} s to run\")\n",
    "        print(\"Function: {}, takes {:.8f}s\".format(func.__name__, t_spend))\n",
    "    return wrapper\n",
    "\n",
    "@timer\n",
    "def msi_cal(weight, height):\n",
    "    #print([i/j**2 for i in height for j in weight])\n",
    "    #return (i/j**2 for i in height for j in weight)  # working code, takes 0.00000358s\n",
    "    return height/weight**2    # WHY this operation takes 0.16549182s ? \n",
    "# *************************************************************************************************** #\n",
    "\n",
    "\n",
    "start = time.time()\n",
    "family_weight = np.array([65.4, 59.2, 63.6, 88.4, 68.7]*1000000)  # msi_cal, takes 0.16450644s\n",
    "t_spend = time.time() - start\n",
    "print(\"family_weight: {:.8}s\".format(t_spend))\n",
    "del start, t_spend\n",
    "\n",
    "start = time.time()\n",
    "family_height = np.array([1.73, 1.68, 1.71, 1.98, 1.79]*1000000)\n",
    "t_spend = time.time() - start\n",
    "print(\"family_height: {:.8}s\".format(t_spend))\n",
    "del start, t_spend\n",
    "\n",
    "\n",
    "###family_weight = [65.4, 59.2, 63.6, 88.4, 68.7]*10000000\n",
    "###family_height = [1.73, 1.68, 1.71, 1.98, 1.79]*10000000\n",
    "###\n",
    "###@timer\n",
    "###def list_2_arr(x):\n",
    "###    return np.array(x)   # np.array() takes a list as input argument\n",
    "# *************************************************************************************************** #\n",
    "###\n",
    "###family_weight = list_2_arr(family_weight)\n",
    "###family_height = list_2_arr(family_height)\n",
    "print(type(family_height))\n",
    "print(family_height)\n",
    "\n",
    "\n",
    "msi_cal(family_weight, family_height)\n",
    "\n",
    "del time, timer, msi_cal, family_weight, family_height#, list_2_arr\n",
    "# *************************************************************************************************** #"
   ]
  },
  {
   "cell_type": "code",
   "execution_count": 21,
   "id": "afe48db6-f8b0-4ec6-874d-97e8d4f793bd",
   "metadata": {
    "tags": []
   },
   "outputs": [
    {
     "name": "stdout",
     "output_type": "stream",
     "text": [
      "two list multiply operation tooks 0.024496317\n",
      "two list2arr operation took 1.9131105s\n",
      "msi array operation tooks: 0.017800331s\n",
      "[21.85171573 20.97505669 21.75028214 ... 21.75028214 22.54871952\n",
      " 21.44127836]\n"
     ]
    }
   ],
   "source": [
    "import numpy as np\n",
    "import time\n",
    "\n",
    "start = time.time()\n",
    "family_weight = [65.4, 59.2, 63.6, 88.4, 68.7]*1000000\n",
    "family_height = [1.73, 1.68, 1.71, 1.98, 1.79]*1000000\n",
    "t_spend = time.time() - start\n",
    "print(\"two list multiply operation tooks {:.8}\".format(t_spend))\n",
    "del start, t_spend\n",
    "\n",
    "start = time.time()\n",
    "np_height = np.array(family_height)\n",
    "np_weight = np.array(family_weight)\n",
    "t_spend = time.time() - start\n",
    "print(\"two list2arr operation took {:.8}s\".format(t_spend))\n",
    "del start, t_spend\n",
    "\n",
    "\n",
    "start = time.time()\n",
    "bmi = np_weight/np_height**2\n",
    "t_spend = time.time() - start\n",
    "print(\"msi array operation tooks: {:.8}s\".format(t_spend))\n",
    "\n",
    "print(bmi)\n",
    "\n",
    "\n",
    "del start, t_spend, bmi, family_weight, family_height"
   ]
  },
  {
   "cell_type": "code",
   "execution_count": 1,
   "id": "663f383c-eafc-43e9-8aa9-b9501eab7948",
   "metadata": {},
   "outputs": [
    {
     "name": "stdout",
     "output_type": "stream",
     "text": [
      "two list multiply operation tooks 0.017889023\n",
      "msi generator operation tooks: 8.1300735e-05s\n"
     ]
    }
   ],
   "source": [
    "import numpy as np\n",
    "import time\n",
    "\n",
    "start = time.time()\n",
    "family_weight = [65.4, 59.2, 63.6, 88.4, 68.7]*1000000\n",
    "family_height = [1.73, 1.68, 1.71, 1.98, 1.79]*1000000\n",
    "t_spend = time.time() - start\n",
    "print(\"two list multiply operation tooks {:.8}\".format(t_spend))\n",
    "del start, t_spend\n",
    "\n",
    "\n",
    "start = time.time()\n",
    "bmi = (w/h**2 for w in family_weight for h in family_height)\n",
    "t_spend = time.time() - start\n",
    "print(\"msi generator operation tooks: {:.8}s\".format(t_spend))\n",
    "\n",
    "#print(np.array(*bmi))\n",
    "\n",
    "del start, t_spend, bmi, family_weight, family_height"
   ]
  },
  {
   "cell_type": "markdown",
   "id": "c3e7daad-c9a2-4dc2-a543-126468671d1b",
   "metadata": {},
   "source": [
    "# Python doesnt know how to calculate with lists like we want them to, whereas Numpy knows how to work with arrays as if they are single values (jhu note: using iterator or generator? maybe? ).  It assumes that your NumPy array ONLY contain values of single type, all folat elements, or all integer elements.   \n",
    "\n",
    "\n",
    "# *****************************************************************************************************\n",
    "# *****************************************************************************************************\n",
    "# *****************************************************************************************************\n",
    "# We should think NumPy array simply as a new kind of Python type, like the float, string, and list.  This means that it comes with its own methods, which can behave differently as you expect.  \n",
    "\n",
    "\n"
   ]
  },
  {
   "cell_type": "code",
   "execution_count": 51,
   "id": "d45931aa-2014-4f75-b1db-50fd5e40dd9d",
   "metadata": {},
   "outputs": [
    {
     "name": "stdout",
     "output_type": "stream",
     "text": [
      "['__call__', '__class__', '__delattr__', '__dir__', '__doc__', '__eq__', '__format__', '__ge__', '__getattribute__', '__gt__', '__hash__', '__init__', '__init_subclass__', '__le__', '__lt__', '__module__', '__name__', '__ne__', '__new__', '__qualname__', '__reduce__', '__reduce_ex__', '__repr__', '__self__', '__setattr__', '__sizeof__', '__str__', '__subclasshook__', '__text_signature__']\n"
     ]
    }
   ],
   "source": [
    "print(dir(np.array))"
   ]
  },
  {
   "cell_type": "markdown",
   "id": "d0000a41-3ec8-4290-b904-892de076202c",
   "metadata": {},
   "source": [
    "# *****************************************************************************************************"
   ]
  },
  {
   "cell_type": "code",
   "execution_count": 60,
   "id": "aa6c6631-516e-4f5c-b60e-5d3fb698d398",
   "metadata": {},
   "outputs": [
    {
     "name": "stdout",
     "output_type": "stream",
     "text": [
      "<class 'numpy.ndarray'>\n",
      "['T', '__abs__', '__add__', '__and__', '__array__', '__array_finalize__', '__array_function__', '__array_interface__', '__array_prepare__', '__array_priority__', '__array_struct__', '__array_ufunc__', '__array_wrap__', '__bool__', '__class__', '__complex__', '__contains__', '__copy__', '__deepcopy__', '__delattr__', '__delitem__', '__dir__', '__divmod__', '__doc__', '__eq__', '__float__', '__floordiv__', '__format__', '__ge__', '__getattribute__', '__getitem__', '__gt__', '__hash__', '__iadd__', '__iand__', '__ifloordiv__', '__ilshift__', '__imatmul__', '__imod__', '__imul__', '__index__', '__init__', '__init_subclass__', '__int__', '__invert__', '__ior__', '__ipow__', '__irshift__', '__isub__', '__iter__', '__itruediv__', '__ixor__', '__le__', '__len__', '__lshift__', '__lt__', '__matmul__', '__mod__', '__mul__', '__ne__', '__neg__', '__new__', '__or__', '__pos__', '__pow__', '__radd__', '__rand__', '__rdivmod__', '__reduce__', '__reduce_ex__', '__repr__', '__rfloordiv__', '__rlshift__', '__rmatmul__', '__rmod__', '__rmul__', '__ror__', '__rpow__', '__rrshift__', '__rshift__', '__rsub__', '__rtruediv__', '__rxor__', '__setattr__', '__setitem__', '__setstate__', '__sizeof__', '__str__', '__sub__', '__subclasshook__', '__truediv__', '__xor__', 'all', 'any', 'argmax', 'argmin', 'argpartition', 'argsort', 'astype', 'base', 'byteswap', 'choose', 'clip', 'compress', 'conj', 'conjugate', 'copy', 'ctypes', 'cumprod', 'cumsum', 'data', 'diagonal', 'dot', 'dtype', 'dump', 'dumps', 'fill', 'flags', 'flat', 'flatten', 'getfield', 'imag', 'item', 'itemset', 'itemsize', 'max', 'mean', 'min', 'nbytes', 'ndim', 'newbyteorder', 'nonzero', 'partition', 'prod', 'ptp', 'put', 'ravel', 'real', 'repeat', 'reshape', 'resize', 'round', 'searchsorted', 'setfield', 'setflags', 'shape', 'size', 'sort', 'squeeze', 'std', 'strides', 'sum', 'swapaxes', 'take', 'tobytes', 'tofile', 'tolist', 'tostring', 'trace', 'transpose', 'var', 'view']\n"
     ]
    }
   ],
   "source": [
    "basket_w_h = [[65.4, 59.2, 63.6, 88.4, 68.7],\n",
    "                  [1.73, 1.68, 1.71, 1.98, 1.79]]\n",
    "\n",
    "np_basket_w_h = np.array(basket_w_h)\n",
    "\n",
    "print(type(np_basket_w_h))\n",
    "print(dir(np_basket_w_h))\n",
    "\n",
    "\n",
    "# *************************************************************************************************** #\n",
    "# The std here after we ran dir(), is the NumPy array associated method\n",
    "# Whereas the np.std() is the NumPy package provided function"
   ]
  },
  {
   "cell_type": "code",
   "execution_count": 7,
   "id": "12a92967-3267-4fa3-a310-220be76d9095",
   "metadata": {},
   "outputs": [
    {
     "name": "stdout",
     "output_type": "stream",
     "text": [
      "[1, 2, 3, 4, 5, 6, 7, 7]\n",
      "[ 6  8 10 11]\n"
     ]
    }
   ],
   "source": [
    "lista = [1, 2, 3, 4]\n",
    "listb = [5, 6, 7, 7]\n",
    "\n",
    "listc = lista + listb\n",
    "print(listc)\n",
    "\n",
    "\n",
    "import numpy as np\n",
    "arraya = np.array(lista)\n",
    "arrayb = np.array(listb)\n",
    "\n",
    "arrayc = arraya + arrayb\n",
    "print(arrayc)"
   ]
  },
  {
   "cell_type": "markdown",
   "id": "c25a0fc0-4bee-4240-a888-7faf2e9b292c",
   "metadata": {},
   "source": [
    "# Python will do element-wise operation with np.array objects \n",
    "# Be Careful\n",
    "\n",
    "\n",
    "**And apart from these subtleties, you can work with NumPy arrays pretty much the same as you can with regular Python list.  "
   ]
  },
  {
   "cell_type": "code",
   "execution_count": 8,
   "id": "bbb0f2ff-7633-4e25-8391-c6eb42db8d7a",
   "metadata": {},
   "outputs": [
    {
     "name": "stdout",
     "output_type": "stream",
     "text": [
      "10\n"
     ]
    }
   ],
   "source": [
    "print(arrayc[2])"
   ]
  },
  {
   "cell_type": "markdown",
   "id": "e5a15df7-353b-4421-ad4d-813f475f1a2f",
   "metadata": {},
   "source": [
    "# **Specifically for NumPy, there is also another way to do list subsetting: using an array of booleans.  Using the result of a comparison to make a selection of your data is a very common way to get surprising insights.  \n"
   ]
  },
  {
   "cell_type": "code",
   "execution_count": 34,
   "id": "e35a9b14-85d6-4e0c-b9ec-ddfe0508188a",
   "metadata": {},
   "outputs": [
    {
     "name": "stdout",
     "output_type": "stream",
     "text": [
      "[ 6  8 10 11]\n",
      "[False False  True  True]\n",
      "(array([ 6,  8, 10, 11]), [True, False, True, False])\n",
      "[ 6  0 10  0]\n"
     ]
    },
    {
     "name": "stderr",
     "output_type": "stream",
     "text": [
      "<>:11: SyntaxWarning: list indices must be integers or slices, not tuple; perhaps you missed a comma?\n",
      "<>:11: SyntaxWarning: list indices must be integers or slices, not tuple; perhaps you missed a comma?\n",
      "/tmp/ipykernel_13164/906842191.py:11: SyntaxWarning: list indices must be integers or slices, not tuple; perhaps you missed a comma?\n",
      "  arrayf = np.array([6, 8, 10, 11][True, False, True, False])\n"
     ]
    },
    {
     "ename": "TypeError",
     "evalue": "list indices must be integers or slices, not tuple",
     "output_type": "error",
     "traceback": [
      "\u001b[0;31m---------------------------------------------------------------------------\u001b[0m",
      "\u001b[0;31mTypeError\u001b[0m                                 Traceback (most recent call last)",
      "\u001b[0;32m/tmp/ipykernel_13164/906842191.py\u001b[0m in \u001b[0;36m<module>\u001b[0;34m\u001b[0m\n\u001b[1;32m      9\u001b[0m \u001b[0mprint\u001b[0m\u001b[0;34m(\u001b[0m\u001b[0marraye\u001b[0m\u001b[0;34m)\u001b[0m\u001b[0;34m\u001b[0m\u001b[0;34m\u001b[0m\u001b[0m\n\u001b[1;32m     10\u001b[0m \u001b[0;34m\u001b[0m\u001b[0m\n\u001b[0;32m---> 11\u001b[0;31m \u001b[0marrayf\u001b[0m \u001b[0;34m=\u001b[0m \u001b[0mnp\u001b[0m\u001b[0;34m.\u001b[0m\u001b[0marray\u001b[0m\u001b[0;34m(\u001b[0m\u001b[0;34m[\u001b[0m\u001b[0;36m6\u001b[0m\u001b[0;34m,\u001b[0m \u001b[0;36m8\u001b[0m\u001b[0;34m,\u001b[0m \u001b[0;36m10\u001b[0m\u001b[0;34m,\u001b[0m \u001b[0;36m11\u001b[0m\u001b[0;34m]\u001b[0m\u001b[0;34m[\u001b[0m\u001b[0;32mTrue\u001b[0m\u001b[0;34m,\u001b[0m \u001b[0;32mFalse\u001b[0m\u001b[0;34m,\u001b[0m \u001b[0;32mTrue\u001b[0m\u001b[0;34m,\u001b[0m \u001b[0;32mFalse\u001b[0m\u001b[0;34m]\u001b[0m\u001b[0;34m)\u001b[0m\u001b[0;34m\u001b[0m\u001b[0;34m\u001b[0m\u001b[0m\n\u001b[0m\u001b[1;32m     12\u001b[0m \u001b[0mprint\u001b[0m\u001b[0;34m(\u001b[0m\u001b[0marrayf\u001b[0m\u001b[0;34m)\u001b[0m\u001b[0;34m\u001b[0m\u001b[0;34m\u001b[0m\u001b[0m\n",
      "\u001b[0;31mTypeError\u001b[0m: list indices must be integers or slices, not tuple"
     ]
    }
   ],
   "source": [
    "print(arrayc)\n",
    "print(arrayc > 8)\n",
    "\n",
    "\n",
    "arrayd = arrayc, [True, False, True, False]   # Because there is a comma \",\" Python takes its as tuple\n",
    "print(arrayd)\n",
    "\n",
    "arraye = np.array([6, 8, 10, 11])*[True, False, True, False]\n",
    "print(arraye)\n",
    "\n",
    "arrayf = np.array([6, 8, 10, 11][True, False, True, False])\n",
    "print(arrayf)"
   ]
  },
  {
   "cell_type": "code",
   "execution_count": 35,
   "id": "cc5cd231-c18a-4939-8586-72fb0e52ce99",
   "metadata": {},
   "outputs": [
    {
     "data": {
      "text/plain": [
       "array([[1, 3],\n",
       "       [4, 6],\n",
       "       [7, 9]])"
      ]
     },
     "execution_count": 35,
     "metadata": {},
     "output_type": "execute_result"
    }
   ],
   "source": [
    "import numpy as np \n",
    "a = np.array([True, False, True])\n",
    "b = np.array([[1, 2, 3], [4, 5, 6], [7, 8, 9]])\n",
    "b[:,a]"
   ]
  },
  {
   "cell_type": "markdown",
   "id": "15fa2aff-8db4-4683-a1f0-7ceaeff14520",
   "metadata": {},
   "source": [
    "## Your First NumPy Array\n",
    "\n",
    "In this chapter, we're going to dive into the world of baseball. Along the way, you'll get comfortable with the basics of numpy, a powerful package to do data science.\n",
    "\n",
    "A list baseball has already been defined in the Python script, representing the height of some baseball players in centimeters. Can you add some code here and there to create a numpy array from it?\n",
    "Instructions\n",
    "100 XP\n",
    "\n",
    "    Import the numpy package as np, so that you can refer to numpy with np.\n",
    "    Use np.array() to create a numpy array from baseball. Name this array np_baseball.\n",
    "    Print out the type of np_baseball to check that you got it right.\n"
   ]
  },
  {
   "cell_type": "markdown",
   "id": "50bab153-7c73-463b-9ee5-bb99f1727801",
   "metadata": {},
   "source": [
    "## Baseball players' height\n",
    "\n",
    "You are a huge baseball fan. You decide to call the MLB (Major League Baseball) and ask around for some more statistics on the height of the main players. They pass along data on more than a thousand players, which is stored as a regular Python list: height_in. The height is expressed in inches. Can you make a numpy array out of it and convert the units to meters?\n",
    "\n",
    "height_in is already available and the numpy package is loaded, so you can start straight away (Source: stat.ucla.edu).\n",
    "Instructions\n",
    "100 XP\n",
    "\n",
    "    Create a numpy array from height_in. Name this new array np_height_in.\n",
    "    Print np_height_in.\n",
    "    Multiply np_height_in with 0.0254 to convert all height measurements from inches to meters. Store the new values in a new array, np_height_m.\n",
    "    Print out np_height_m and check if the output makes sense.\n",
    "\n",
    "\n",
    "# NumPy.array offers one step operation to all the elements"
   ]
  },
  {
   "cell_type": "markdown",
   "id": "7587fdc4-d0e9-4db1-9b5e-d8979bf7e6ed",
   "metadata": {},
   "source": [
    "## Baseball player's BMI\n",
    "\n",
    "The MLB also offers to let you analyze their weight data. Again, both are available as regular Python lists: height_in and weight_lb. height_in is in inches and weight_lb is in pounds.\n",
    "\n",
    "It's now possible to calculate the BMI of each baseball player. Python code to convert height_in to a numpy array with the correct units is already available in the workspace. Follow the instructions step by step and finish the game!\n",
    "Instructions\n",
    "100 XP\n",
    "\n",
    "    Create a numpy array from the weight_lb list with the correct units. Multiply by 0.453592 to go from pounds to kilograms. Store the resulting numpy array as np_weight_kg.\n",
    "    Use np_height_m and np_weight_kg to calculate the BMI of each player. Use the following equation:\n",
    "\n",
    "    BMI = weight(kg)/height(m)^2\n",
    "\n",
    "\n",
    "Save the resulting numpy array as bmi.\n",
    "Print out bmi."
   ]
  },
  {
   "cell_type": "markdown",
   "id": "06cd8909-a9fd-408a-b8ea-d87df405322b",
   "metadata": {},
   "source": [
    "## Lightweight baseball players\n",
    "\n",
    "To subset both regular Python lists and numpy arrays, you can use square brackets:\n",
    "\n",
    "x = [4 , 9 , 6, 3, 1]\n",
    "x[1]\n",
    "import numpy as np\n",
    "y = np.array(x)\n",
    "y[1]\n",
    "\n",
    "For numpy specifically, you can also use boolean numpy arrays:\n",
    "\n",
    "high = y > 5\n",
    "y[high]\n",
    "\n",
    "The code that calculates the BMI of all baseball players is already included. Follow the instructions and reveal interesting things from the data!\n",
    "Instructions\n",
    "100 XP\n",
    "\n",
    "    Create a boolean numpy array: the element of the array should be True if the corresponding baseball player's BMI is below 21. You can use the < operator for this. Name the array light.\n",
    "    Print the array light.\n",
    "    Print out a numpy array with the BMIs of all baseball players whose BMI is below 21. Use light inside square brackets to do a selection on the bmi array.\n"
   ]
  },
  {
   "cell_type": "code",
   "execution_count": null,
   "id": "031ea1aa-3c08-445f-9398-f33d6c948beb",
   "metadata": {},
   "outputs": [],
   "source": [
    "# height and weight are available as a regular lists\n",
    "\n",
    "# Import numpy\n",
    "import numpy as np\n",
    "\n",
    "# Calculate the BMI: bmi\n",
    "np_height_m = np.array(height_in) * 0.0254\n",
    "np_weight_kg = np.array(weight_lb) * 0.453592\n",
    "bmi = np_weight_kg / np_height_m ** 2\n",
    "\n",
    "# Create the light array\n",
    "light = [bmi<21]\n",
    "\n",
    "\n",
    "# Print out light\n",
    "print(light)\n",
    "\n",
    "# Print out BMIs of all baseball players whose BMI is below 21\n",
    "print(bmi[light])\n",
    "# *************************************************************************************************** #\n",
    "print(bmi[bmi>21])"
   ]
  },
  {
   "cell_type": "code",
   "execution_count": null,
   "id": "60e53045-c439-4ea9-9081-8e55d2e3470e",
   "metadata": {},
   "outputs": [],
   "source": [
    "# height and weight are available as a regular lists\n",
    "\n",
    "# Import numpy\n",
    "import numpy as np\n",
    "\n",
    "# Calculate the BMI: bmi\n",
    "np_height_m = np.array(height_in) * 0.0254\n",
    "np_weight_kg = np.array(weight_lb) * 0.453592\n",
    "bmi = np_weight_kg / np_height_m ** 2\n",
    "\n",
    "# Create the light array\n",
    "light = bmi < 21\n",
    "\n",
    "# Print out light\n",
    "print(light)\n",
    "\n",
    "# Print out BMIs of all baseball players whose BMI is below 21\n",
    "print(bmi[light])"
   ]
  },
  {
   "cell_type": "markdown",
   "id": "40c67247-0d0a-4686-a62c-18b81a33e1d0",
   "metadata": {},
   "source": [
    "## NumPy Side Effects\n",
    "\n",
    "# *****************************************************************************************************\n",
    "# As Hugo explained before, numpy is great for doing vector arithmetic. \n",
    "If you compare its functionality with regular Python lists, however, some things have changed.\n",
    "\n",
    "First of all, numpy arrays cannot contain elements with different types. If you try to build such a list, some of the elements' types are changed to end up with a homogeneous list. This is known as type coercion.\n",
    "\n",
    "# *****************************************************************************************************\n",
    "# Second, the typical arithmetic operators, such as +, -, * and / have a different meaning for regular Python lists and numpy arrays.\n",
    "\n",
    "Have a look at this line of code:\n",
    "\n",
    "np.array([True, 1, 2]) + np.array([3, 4, False])\n",
    "\n",
    "Can you tell which code chunk builds the exact same Python object? The numpy package is already imported as np, so you can start experimenting in the IPython Shell straight away!\n",
    "Instructions\n",
    "50 XP\n",
    "Possible Answers\n",
    "\n",
    "    np.array([True, 1, 2, 3, 4, False])\n",
    "    np.array([4, 3, 0]) + np.array([0, 2, 2])\n",
    "    np.array([1, 1, 2]) + np.array([3, 4, -1])\n",
    "    np.array([0, 1, 2, 3, 4, 5])\n",
    "    "
   ]
  },
  {
   "cell_type": "markdown",
   "id": "db676648-3b28-4b45-b9a0-4711326e8bce",
   "metadata": {},
   "source": [
    "## Subsetting NumPy Arrays\n",
    "\n",
    "# You've seen it with your own eyes: Python lists and numpy arrays sometimes behave differently. Luckily, there are still certainties in this world. For example, subsetting (using the square bracket notation on lists or arrays) works exactly the same. To see this for yourself, try the following lines of code in the IPython Shell:\n",
    "\n",
    "x = [\"a\", \"b\", \"c\"]\n",
    "x[1]\n",
    "\n",
    "np_x = np.array(x)\n",
    "np_x[1]\n",
    "\n",
    "The script in the editor already contains code that imports numpy as np, and stores both the height and weight of the MLB players as numpy arrays.\n",
    "Instructions\n",
    "100 XP\n",
    "\n",
    "    Subset np_weight_lb by printing out the element at index 50.\n",
    "    Print out a sub-array of np_height_in that contains the elements at index 100 up to and including index 110.\n"
   ]
  },
  {
   "cell_type": "markdown",
   "id": "79fc35bb-9633-468d-a359-b10ad45e8635",
   "metadata": {},
   "source": [
    "## 2D Numpy Arrays\n",
    "\n",
    "\n",
    "# <class 'numpy.ndarray'>\n",
    "# **numpy. tells you that its a type that was defined in the NumPy package, ndarray stand for n-dimensional array. \n",
    "\n",
    "**You can create a 2D NumPy array from a regular Python list of lists.  \n"
   ]
  },
  {
   "cell_type": "code",
   "execution_count": 36,
   "id": "777951e6-1843-4348-bf5c-33ea41594e79",
   "metadata": {},
   "outputs": [
    {
     "name": "stdout",
     "output_type": "stream",
     "text": [
      "<class 'numpy.ndarray'>\n",
      "[65.4 59.2 63.6 ... 63.6 88.4 68.7]\n"
     ]
    }
   ],
   "source": [
    "family_weight = [65.4, 59.2, 63.6, 88.4, 68.7]*100000\n",
    "family_height = [1.73, 1.68, 1.71, 1.98, 1.79]*100000\n",
    "\n",
    "import numpy as np\n",
    "np_family_weight = np.array(family_weight)\n",
    "np_family_height = np.array(family_weight)\n",
    "\n",
    "print(type(np_family_weight))\n",
    "print(np_family_height)"
   ]
  },
  {
   "cell_type": "code",
   "execution_count": 30,
   "id": "c5af477c-427c-449b-a259-d4b610cd9be4",
   "metadata": {},
   "outputs": [
    {
     "name": "stdout",
     "output_type": "stream",
     "text": [
      "<class 'list'>\n",
      "[[65.4, 59.2, 63.6, 88.4, 68.7], [1.73, 1.68, 1.71, 1.98, 1.79]]\n",
      "<class 'numpy.ndarray'>\n",
      "[[65.4  59.2  63.6  88.4  68.7 ]\n",
      " [ 1.73  1.68  1.71  1.98  1.79]]\n",
      "(2, 5)\n"
     ]
    },
    {
     "data": {
      "text/plain": [
       "\u001b[0;31mType:\u001b[0m        tuple\n",
       "\u001b[0;31mString form:\u001b[0m (2, 5)\n",
       "\u001b[0;31mLength:\u001b[0m      2\n",
       "\u001b[0;31mDocstring:\u001b[0m  \n",
       "Built-in immutable sequence.\n",
       "\n",
       "If no argument is given, the constructor returns an empty tuple.\n",
       "If iterable is specified the tuple is initialized from iterable's items.\n",
       "\n",
       "If the argument is a tuple, the return value is the same object.\n"
      ]
     },
     "metadata": {},
     "output_type": "display_data"
    }
   ],
   "source": [
    "family_height_weight = [[65.4, 59.2, 63.6, 88.4, 68.7],\n",
    "                        [1.73, 1.68, 1.71, 1.98, 1.79]]\n",
    "\n",
    "print(type(family_height_weight))\n",
    "print(family_height_weight)\n",
    "\n",
    "import numpy as np\n",
    "np_family_height_weight = np.array(family_height_weight)\n",
    "\n",
    "print(type(np_family_height_weight))\n",
    "print(np_family_height_weight)\n",
    "\n",
    "print(np_family_height_weight.shape)\n",
    "\n",
    "?np_family_height_weight.shape"
   ]
  },
  {
   "cell_type": "markdown",
   "id": "31690a48-ba59-453c-a4d9-a13f5d602d02",
   "metadata": {},
   "source": [
    "**We can see that its a regular data structure, each sublist in the list, corresponds to a row in the two dimensional NumPy array.  \n",
    "\n",
    "\n",
    "# *****************************************************************************************************\n",
    "# Shape is a so-called attribute of the np2d array, that can give you more information about what the data structure looks like.  Note that the syntax for access an attribute looks a bit like calling a method, but they are not the same.  Remember that the method has round brackets after them and you can see here, the attribute do not.  \n",
    "\n",
    "**Also, for 2D arrays, the NumPy rule applies, an array can only contain a single type.  You can think of the 2D array as an improved list of lists, you can perform calculations on the array, \n",
    "# and you can do more advanced ways of subsetting.  \n",
    "# *****************************************************************************************************\n",
    "\n",
    "# **Basically you're selecting the row, and then from that row do another selection.  \n",
    "\n",
    "# **There is also an alternative way of subsetting, using single square brackets and a comma.  \n",
    "   **The value before the comma specifies the row, the value after the comma specifies the column.  \n",
    "   **Once you used to it, this syntax is more intuitive and opens up more possibilities.  \n",
    "   \n",
    "   \n",
    "# Suppose we want select both weight and height of the first two member, \n",
    "# We want both rows, so we put in a colon before the comma, \n",
    "# And we only want the first two momber, so we put in the indices 0 to 2 after the comma\n"
   ]
  },
  {
   "cell_type": "code",
   "execution_count": 36,
   "id": "d2346ec1-e9c8-42b2-8c24-1eb88254bec3",
   "metadata": {},
   "outputs": [
    {
     "name": "stdout",
     "output_type": "stream",
     "text": [
      "88.4\n",
      "88.4\n",
      "[[65.4  59.2 ]\n",
      " [ 1.73  1.68]]\n"
     ]
    }
   ],
   "source": [
    "family_height_weight = [[65.4, 59.2, 63.6, 88.4, 68.7],\n",
    "                        [1.73, 1.68, 1.71, 1.98, 1.79]]\n",
    "\n",
    "import numpy as np\n",
    "np_family_height_weight = np.array(family_height_weight)\n",
    "\n",
    "print(np_family_height_weight[0][3])\n",
    "print(np_family_height_weight[0, 3])\n",
    "\n",
    "\n",
    "# Suppose we want select both weight and height of the first two member, \n",
    "# We want both rows, so we put in a colon before the comma, \n",
    "# And we only want the first two momber, so we put in the indices 0 to 2 after the comma\n",
    "#     The intersection gives us a 2D array  with 2 rows and 2 columns\n",
    "# *************************************************************************************************** #\n",
    "print(np_family_height_weight[:, 0:2])"
   ]
  },
  {
   "cell_type": "markdown",
   "id": "117bf25f-d632-401f-8825-ab8631efe5a2",
   "metadata": {},
   "source": [
    "# ****************************************************************************************************"
   ]
  },
  {
   "cell_type": "markdown",
   "id": "2276081e-1ed0-4231-8509-53fdccb4e757",
   "metadata": {},
   "source": [
    "## Finally, 2D NumPy array enables you to do element-wise calculation, the same way we did with 1D NumPy array.  Get coding, have fun and keep learning.  \n",
    "\n"
   ]
  },
  {
   "cell_type": "markdown",
   "id": "4cc3b19a-2e04-478c-a67c-42c62ecef50a",
   "metadata": {},
   "source": [
    "## Your First 2D NumPy Array\n",
    "\n",
    "Before working on the actual MLB data, let's try to create a 2D numpy array from a small list of lists.\n",
    "\n",
    "In this exercise, baseball is a list of lists. The main list contains 4 elements. Each of these elements is a list containing the height and the weight of 4 baseball players, in this order. baseball is already coded for you in the script.\n",
    "Instructions\n",
    "100 XP\n",
    "\n",
    "    Use np.array() to create a 2D numpy array from baseball. Name it np_baseball.\n",
    "    Print out the type of np_baseball.\n",
    "    Print out the shape attribute of np_baseball. Use np_baseball.shape.\n"
   ]
  },
  {
   "cell_type": "code",
   "execution_count": 37,
   "id": "c8e094b5-6903-4532-af9b-6828f7bed484",
   "metadata": {},
   "outputs": [
    {
     "name": "stdout",
     "output_type": "stream",
     "text": [
      "<class 'numpy.ndarray'>\n",
      "(4, 2)\n"
     ]
    }
   ],
   "source": [
    "# Create baseball, a list of lists\n",
    "baseball = [[180, 78.4],\n",
    "            [215, 102.7],\n",
    "            [210, 98.5],\n",
    "            [188, 75.2]]\n",
    "\n",
    "# Import numpy\n",
    "import numpy as np\n",
    "\n",
    "# Create a 2D numpy array from baseball: np_baseball\n",
    "np_baseball = np.array(baseball)\n",
    "\n",
    "# Print out the type of np_baseball\n",
    "print(type(np_baseball))\n",
    "\n",
    "# Print out the shape of np_baseball\n",
    "print(np_baseball.shape)"
   ]
  },
  {
   "cell_type": "markdown",
   "id": "93348eb6-68ae-4a3d-979a-d0be84d682b5",
   "metadata": {},
   "source": [
    "## Baseball data in 2D form\n",
    "\n",
    "You have another look at the MLB data and realize that it makes more sense to restructure all this information in a 2D numpy array. This array should have 1015 rows, corresponding to the 1015 baseball players you have information on, and 2 columns (for height and weight).\n",
    "\n",
    "The MLB was, again, very helpful and passed you the data in a different structure, a Python list of lists. In this list of lists, each sublist represents the height and weight of a single baseball player. The name of this embedded list is baseball.\n",
    "\n",
    "Can you store the data as a 2D array to unlock numpy's extra functionality?\n",
    "Instructions\n",
    "100 XP\n",
    "\n",
    "    Use np.array() to create a 2D numpy array from baseball. Name it np_baseball.\n",
    "    Print out the shape attribute of np_baseball.\n"
   ]
  },
  {
   "cell_type": "markdown",
   "id": "e1376e99-2c96-477c-bf80-d910ec1fbb6f",
   "metadata": {},
   "source": [
    "## Subsetting 2D NumPy Arrays\n",
    "\n",
    "If your 2D numpy array has a regular structure, i.e. each row and column has a fixed number of values, complicated ways of subsetting become very easy. Have a look at the code below where the elements \"a\" and \"c\" are extracted from a list of lists.\n",
    "\n",
    "# regular list of lists\n",
    "x = [[\"a\", \"b\"], [\"c\", \"d\"]]\n",
    "[x[0][0], x[1][0]]\n",
    "\n",
    "# numpy\n",
    "import numpy as np\n",
    "np_x = np.array(x)\n",
    "np_x[:,0]\n",
    "\n",
    "# ****************************************************************************************************\n",
    "# For regular Python lists, this is a real pain. For 2D numpy arrays, however, it's pretty intuitive! The indexes before the comma refer to the rows, while those after the comma refer to the columns. The : is for slicing; in this example, it tells Python to include all rows.\n",
    "\n",
    "The code that converts the pre-loaded baseball list to a 2D numpy array is already in the script. The first column contains the players' height in inches and the second column holds player weight, in pounds. Add some lines to make the correct selections. Remember that in Python, the first element is at index 0!\n",
    "Instructions\n",
    "100 XP\n",
    "\n",
    "    Print out the 50th row of np_baseball.\n",
    "    Make a new variable, np_weight_lb, containing the entire second column of np_baseball.\n",
    "    Select the height (first column) of the 124th baseball player in np_baseball and print it out.\n"
   ]
  },
  {
   "cell_type": "code",
   "execution_count": 3,
   "id": "60132483-c56b-4103-a04c-704d856c9816",
   "metadata": {},
   "outputs": [
    {
     "name": "stdout",
     "output_type": "stream",
     "text": [
      "['a', 'c']\n"
     ]
    },
    {
     "data": {
      "text/plain": [
       "array(['a', 'c'], dtype='<U1')"
      ]
     },
     "execution_count": 3,
     "metadata": {},
     "output_type": "execute_result"
    }
   ],
   "source": [
    "# regular list of lists\n",
    "x = [[\"a\", \"b\"], \n",
    "     [\"c\", \"d\"]]\n",
    "print([x[0][0], x[1][0]])\n",
    "\n",
    "# numpy\n",
    "import numpy as np\n",
    "np_x = np.array(x)\n",
    "np_x[:,0]"
   ]
  },
  {
   "cell_type": "code",
   "execution_count": 17,
   "id": "1999bd99-025d-4b8b-8e73-9f936b505bdd",
   "metadata": {},
   "outputs": [],
   "source": [
    "baseball = [[74.0, 180.0, 22.99], [74.0, 215.0, 34.69], [72.0, 210.0, 30.78], [72.0, 210.0, 35.43], \n",
    "            [73.0, 188.0, 35.71], [69.0, 176.0, 29.39], [69.0, 209.0, 30.77], [71.0, 200.0, 35.07], \n",
    "            [76.0, 231.0, 30.19], [71.0, 180.0, 27.05], [73.0, 188.0, 23.88], [73.0, 180.0, 26.96], \n",
    "            [74.0, 185.0, 23.29], [74.0, 160.0, 26.11], [69.0, 180.0, 27.55], [70.0, 185.0, 34.27], \n",
    "            [73.0, 189.0, 27.99], [75.0, 185.0, 22.38], [78.0, 219.0, 22.89], [79.0, 230.0, 25.76], \n",
    "            [76.0, 205.0, 36.33], [74.0, 230.0, 31.17], [76.0, 195.0, 32.31], [72.0, 180.0, 31.03], \n",
    "            [71.0, 192.0, 29.26], [75.0, 225.0, 29.47], [77.0, 203.0, 32.46], [74.0, 195.0, 35.67], \n",
    "            [73.0, 182.0, 25.89], [74.0, 188.0, 26.55], [78.0, 200.0, 24.17], [73.0, 180.0, 26.69], \n",
    "            [75.0, 200.0, 25.13], [73.0, 200.0, 27.9], [75.0, 245.0, 30.17], [75.0, 240.0, 31.36], \n",
    "            [74.0, 215.0, 30.99], [69.0, 185.0, 32.24], [71.0, 175.0, 27.61], [74.0, 199.0, 28.2], \n",
    "            [73.0, 200.0, 28.85], [73.0, 215.0, 24.21], [76.0, 200.0, 22.02], [74.0, 205.0, 24.97], \n",
    "            [74.0, 206.0, 26.78], [70.0, 186.0, 32.51], [72.0, 188.0, 30.95], [77.0, 220.0, 33.09], \n",
    "            [74.0, 210.0, 32.74], [70.0, 195.0, 30.69], [73.0, 200.0, 23.45], [75.0, 200.0, 24.94], \n",
    "            [76.0, 212.0, 24.09], [76.0, 224.0, 35.23], [78.0, 210.0, 27.43], [74.0, 205.0, 30.6], \n",
    "            [74.0, 220.0, 27.94], [76.0, 195.0, 29.99], [77.0, 200.0, 25.17], [81.0, 260.0, 24.13], \n",
    "            [78.0, 228.0, 30.46], [75.0, 270.0, 25.96], [77.0, 200.0, 22.55], [75.0, 210.0, 26.29], \n",
    "            [76.0, 190.0, 24.79], [74.0, 220.0, 31.74], [72.0, 180.0, 23.92], [72.0, 205.0, 25.33], \n",
    "            [75.0, 210.0, 24.02], [73.0, 220.0, 23.7], [73.0, 211.0, 31.59], [73.0, 200.0, 29.95], \n",
    "            [70.0, 180.0, 23.64], [70.0, 190.0, 32.33], [70.0, 170.0, 23.13], [76.0, 230.0, 26.6], \n",
    "            [68.0, 155.0, 26.46], [71.0, 185.0, 25.75], [72.0, 185.0, 27.51], [75.0, 200.0, 25.11], \n",
    "            [75.0, 225.0, 32.51], [75.0, 225.0, 34.67], [75.0, 220.0, 31.06], [68.0, 160.0, 29.1], \n",
    "            [74.0, 205.0, 28.66], [78.0, 235.0, 28.35], [71.0, 250.0, 33.77], [73.0, 210.0, 30.89], \n",
    "            [76.0, 190.0, 37.74], [74.0, 160.0, 24.14], [74.0, 200.0, 25.71], [79.0, 205.0, 24.41], \n",
    "            [75.0, 222.0, 24.32], [73.0, 195.0, 28.09], [76.0, 205.0, 33.31], [74.0, 220.0, 36.4], \n",
    "            [74.0, 220.0, 37.36], [73.0, 170.0, 31.61], [72.0, 185.0, 25.14], [74.0, 195.0, 30.29], \n",
    "            [73.0, 220.0, 36.37], [74.0, 230.0, 34.89], [72.0, 180.0, 23.79], [73.0, 220.0, 27.96], \n",
    "            [69.0, 180.0, 23.54], [72.0, 180.0, 31.37], [73.0, 170.0, 31.29], [75.0, 210.0, 33.01], \n",
    "            [75.0, 215.0, 25.1], [73.0, 200.0, 31.28], [72.0, 213.0, 34.75], [72.0, 180.0, 23.46], \n",
    "            [76.0, 192.0, 25.37], [74.0, 235.0, 29.57], [72.0, 185.0, 27.33], [77.0, 235.0, 40.29], \n",
    "            [74.0, 210.0, 40.58], [77.0, 222.0, 26.79], [75.0, 210.0, 32.55], [76.0, 230.0, 26.27], \n",
    "            [80.0, 220.0, 29.47], [74.0, 180.0, 29.07], [74.0, 190.0, 23.15], [75.0, 200.0, 24.9], \n",
    "            [78.0, 210.0, 23.29], [73.0, 194.0, 31.18], [73.0, 180.0, 26.56], [74.0, 190.0, 25.03], \n",
    "            [75.0, 240.0, 35.66], [76.0, 200.0, 29.64], [71.0, 198.0, 30.74], [73.0, 200.0, 28.43], \n",
    "            [74.0, 195.0, 33.77], [76.0, 210.0, 40.97], [76.0, 220.0, 23.52], [74.0, 190.0, 28.19], \n",
    "            [73.0, 210.0, 26.84], [74.0, 225.0, 26.16], [70.0, 180.0, 28.67], [72.0, 185.0, 24.2], \n",
    "            [73.0, 170.0, 27.08], [73.0, 185.0, 24.76], [73.0, 185.0, 23.36], [73.0, 180.0, 25.35], \n",
    "            [71.0, 178.0, 24.63], [74.0, 175.0, 24.02], [74.0, 200.0, 24.58], [72.0, 204.0, 30.82], \n",
    "            [74.0, 211.0, 32.89], [71.0, 190.0, 33.33], [74.0, 210.0, 33.52], [73.0, 190.0, 36.24], \n",
    "            [75.0, 190.0, 28.5], [75.0, 185.0, 29.42], [79.0, 290.0, 26.61], [73.0, 175.0, 23.79], \n",
    "            [75.0, 185.0, 24.96], [76.0, 200.0, 25.93], [74.0, 220.0, 22.81], [76.0, 170.0, 25.29], \n",
    "            [78.0, 220.0, 26.07], [74.0, 190.0, 26.09], [76.0, 220.0, 23.23], [72.0, 205.0, 33.49], \n",
    "            [74.0, 200.0, 31.84], [76.0, 250.0, 42.3], [74.0, 225.0, 35.82], [75.0, 215.0, 35.27], \n",
    "            [78.0, 210.0, 26.81], [75.0, 215.0, 38.49], [72.0, 195.0, 32.68], [74.0, 200.0, 34.93], \n",
    "            [72.0, 194.0, 26.26], [74.0, 220.0, 27.56], [70.0, 180.0, 23.98], [71.0, 180.0, 29.73], \n",
    "            [70.0, 170.0, 31.33], [75.0, 195.0, 27.13], [71.0, 180.0, 26.75], [71.0, 170.0, 27.09], \n",
    "            [73.0, 206.0, 29.23], [72.0, 205.0, 28.88], [71.0, 200.0, 33.01], [73.0, 225.0, 30.57], \n",
    "            [72.0, 201.0, 31.24], [75.0, 225.0, 24.95], [74.0, 233.0, 24.62], [74.0, 180.0, 24.98], \n",
    "            [75.0, 225.0, 26.22], [73.0, 180.0, 26.04], [77.0, 220.0, 26.45], [73.0, 180.0, 25.25], \n",
    "            [76.0, 237.0, 27.77], [75.0, 215.0, 35.16], [74.0, 190.0, 37.1], [76.0, 235.0, 34.51], \n",
    "            [75.0, 190.0, 29.28], [73.0, 180.0, 32.14], [71.0, 165.0, 23.94], [76.0, 195.0, 27.45], \n",
    "            [75.0, 200.0, 28.77], [72.0, 190.0, 23.58], [71.0, 190.0, 27.56], [77.0, 185.0, 24.01], \n",
    "            [73.0, 185.0, 26.52], [74.0, 205.0, 35.54], [71.0, 190.0, 29.43], [72.0, 205.0, 29.9],\n",
    "            [74.0, 206.0, 32.7], [75.0, 220.0, 28.8], [73.0, 208.0, 32.82], [72.0, 170.0, 24.36], \n",
    "            [75.0, 195.0, 32.68], [75.0, 210.0, 31.59], [74.0, 190.0, 33.32], [72.0, 211.0, 32.97], \n",
    "            [74.0, 230.0, 32.72], [71.0, 170.0, 22.55], [70.0, 185.0, 27.45], [74.0, 185.0, 38.23], \n",
    "            [77.0, 241.0, 31.14], [77.0, 225.0, 34.71], [75.0, 210.0, 26.13], [75.0, 175.0, 24.43], \n",
    "            [78.0, 230.0, 23.76], [75.0, 200.0, 26.92], [76.0, 215.0, 25.85], [73.0, 198.0, 30.16], \n",
    "            [75.0, 226.0, 25.03], [75.0, 278.0, 24.21], [79.0, 215.0, 26.51], [77.0, 230.0, 26.36], \n",
    "            [76.0, 240.0, 30.88], [71.0, 184.0, 32.57], [75.0, 219.0, 37.68], [74.0, 170.0, 37.25], \n",
    "            [69.0, 218.0, 35.25], [71.0, 190.0, 33.95], [76.0, 225.0, 32.66], [72.0, 220.0, 26.68], \n",
    "            [72.0, 176.0, 25.18], [70.0, 190.0, 31.39], [72.0, 197.0, 33.74], [73.0, 204.0, 31.42], \n",
    "            [71.0, 167.0, 27.5], [72.0, 180.0, 24.25], [71.0, 195.0, 29.78], [73.0, 220.0, 30.0], \n",
    "            [72.0, 215.0, 33.09], [73.0, 185.0, 25.96], [74.0, 190.0, 23.34], [74.0, 205.0, 29.98], \n",
    "            [72.0, 205.0, 38.28], [75.0, 200.0, 24.97], [74.0, 210.0, 24.34], [74.0, 215.0, 29.49], \n",
    "            [77.0, 200.0, 24.02], [75.0, 205.0, 24.73], [73.0, 211.0, 42.3], [72.0, 190.0, 29.54], \n",
    "            [71.0, 208.0, 29.95], [74.0, 200.0, 29.24], [77.0, 210.0, 30.3], [75.0, 232.0, 40.77], \n",
    "            [75.0, 230.0, 38.85], [75.0, 210.0, 22.31], [78.0, 220.0, 25.44], [78.0, 210.0, 21.78], \n",
    "            [74.0, 202.0, 22.64], [76.0, 212.0, 26.11], [78.0, 225.0, 27.55], [76.0, 170.0, 24.63], \n",
    "            [70.0, 190.0, 23.58], [72.0, 200.0, 30.73], [80.0, 237.0, 32.17], [74.0, 220.0, 30.43], \n",
    "            [74.0, 170.0, 23.27], [71.0, 193.0, 32.51], [70.0, 190.0, 25.08], [72.0, 150.0, 22.41], \n",
    "            [71.0, 220.0, 27.9], [74.0, 200.0, 34.74], [71.0, 190.0, 30.79], [72.0, 185.0, 25.71], \n",
    "            [71.0, 185.0, 29.26], [74.0, 200.0, 21.58], [69.0, 172.0, 33.36], [76.0, 220.0, 24.94], \n",
    "            [75.0, 225.0, 20.9], [75.0, 190.0, 21.52], [76.0, 195.0, 25.85], [73.0, 219.0, 27.27], \n",
    "            [76.0, 190.0, 26.75], [73.0, 197.0, 36.03], [77.0, 200.0, 30.52], [73.0, 195.0, 32.55], \n",
    "            [72.0, 210.0, 29.86], [72.0, 177.0, 29.58], [77.0, 220.0, 30.02], [77.0, 235.0, 29.16], \n",
    "            [71.0, 180.0, 22.3], [74.0, 195.0, 22.06], [74.0, 195.0, 25.65], [73.0, 190.0, 25.49], \n",
    "            [78.0, 230.0, 27.86], [75.0, 190.0, 23.73], [73.0, 200.0, 31.78], [70.0, 190.0, 23.06], \n",
    "            [74.0, 190.0, 26.6], [72.0, 200.0, 29.39], [73.0, 200.0, 26.51], [73.0, 184.0, 25.08], \n",
    "            [75.0, 200.0, 25.76], [75.0, 180.0, 22.52], [74.0, 219.0, 25.57], [76.0, 187.0, 25.43], \n",
    "            [73.0, 200.0, 34.65], [74.0, 220.0, 22.68], [75.0, 205.0, 21.46], [75.0, 190.0, 23.47], \n",
    "            [72.0, 170.0, 23.1], [73.0, 160.0, 29.14], [73.0, 215.0, 29.77], [72.0, 175.0, 23.85], \n",
    "            [74.0, 205.0, 28.88], [78.0, 200.0, 24.49], [76.0, 214.0, 25.19], [73.0, 200.0, 27.48],\n",
    "            [74.0, 190.0, 28.31], [75.0, 180.0, 26.54], [70.0, 205.0, 26.77], [75.0, 220.0, 23.75], \n",
    "            [71.0, 190.0, 26.41], [72.0, 215.0, 36.47], [78.0, 235.0, 26.06], [75.0, 191.0, 27.55], \n",
    "            [73.0, 200.0, 31.28], [73.0, 181.0, 29.04], [71.0, 200.0, 32.95], [75.0, 210.0, 26.65], \n",
    "            [77.0, 240.0, 27.5], [72.0, 185.0, 30.9], [69.0, 165.0, 29.09], [73.0, 190.0, 36.67], \n",
    "            [74.0, 185.0, 23.44], [72.0, 175.0, 29.09], [70.0, 155.0, 22.89], [75.0, 210.0, 25.48], \n",
    "            [70.0, 170.0, 25.84], [72.0, 175.0, 27.2], [72.0, 220.0, 25.22], [74.0, 210.0, 24.67], \n",
    "            [73.0, 205.0, 39.25], [74.0, 200.0, 32.17], [76.0, 205.0, 32.77], [75.0, 195.0, 29.83], \n",
    "            [80.0, 240.0, 31.02], [72.0, 150.0, 29.73], [75.0, 200.0, 28.48], [73.0, 215.0, 26.51], \n",
    "            [74.0, 202.0, 26.0], [74.0, 200.0, 23.36], [73.0, 190.0, 25.9], [75.0, 205.0, 28.5], \n",
    "            [75.0, 190.0, 25.62], [71.0, 160.0, 30.94], [73.0, 215.0, 26.59], [75.0, 185.0, 22.78], \n",
    "            [74.0, 200.0, 32.26], [74.0, 190.0, 30.35], [72.0, 210.0, 33.26], [74.0, 185.0, 32.35], \n",
    "            [74.0, 220.0, 27.3], [74.0, 190.0, 32.08], [73.0, 202.0, 25.25], [76.0, 205.0, 25.03], \n",
    "            [75.0, 220.0, 26.89], [72.0, 175.0, 24.69], [73.0, 160.0, 22.44], [73.0, 190.0, 30.36], \n",
    "            [73.0, 200.0, 26.27], [72.0, 229.0, 29.5], [72.0, 206.0, 29.75], [72.0, 220.0, 38.3], \n",
    "            [72.0, 180.0, 39.75], [71.0, 195.0, 32.84], [75.0, 175.0, 26.66], [75.0, 188.0, 24.94], \n",
    "            [74.0, 230.0, 27.76], [73.0, 190.0, 23.66], [75.0, 200.0, 24.96], [79.0, 190.0, 23.65], \n",
    "            [74.0, 219.0, 29.42], [76.0, 235.0, 32.18], [73.0, 180.0, 26.66], [74.0, 180.0, 27.47], \n",
    "            [74.0, 180.0, 25.66], [72.0, 200.0, 35.13], [74.0, 234.0, 31.15], [74.0, 185.0, 35.67], \n",
    "            [75.0, 220.0, 29.6], [78.0, 223.0, 30.14], [74.0, 200.0, 24.53], [74.0, 210.0, 24.49], \n",
    "            [74.0, 200.0, 26.28], [77.0, 210.0, 24.06], [70.0, 190.0, 35.88], [73.0, 177.0, 30.42], \n",
    "            [74.0, 227.0, 30.09], [73.0, 180.0, 26.5], [71.0, 195.0, 24.94], [75.0, 199.0, 29.6], \n",
    "            [71.0, 175.0, 32.43], [72.0, 185.0, 37.16], [77.0, 240.0, 30.57], [74.0, 210.0, 27.01], \n",
    "            [70.0, 180.0, 30.23], [77.0, 194.0, 26.03], [73.0, 225.0, 28.23], [72.0, 180.0, 25.21], \n",
    "            [76.0, 205.0, 25.45], [71.0, 193.0, 26.24], [76.0, 230.0, 30.15], [78.0, 230.0, 29.8], \n",
    "            [75.0, 220.0, 33.41], [73.0, 200.0, 30.95], [78.0, 249.0, 31.17], [74.0, 190.0, 30.95], \n",
    "            [79.0, 208.0, 29.44], [75.0, 245.0, 27.14], [76.0, 250.0, 26.21], [72.0, 160.0, 24.08], \n",
    "            [75.0, 192.0, 23.96], [75.0, 220.0, 24.94], [70.0, 170.0, 29.56], [72.0, 197.0, 26.42], \n",
    "            [70.0, 155.0, 23.92], [74.0, 190.0, 25.23], [71.0, 200.0, 35.82], [76.0, 220.0, 23.87], \n",
    "            [73.0, 210.0, 32.57], [76.0, 228.0, 25.79], [71.0, 190.0, 31.47], [69.0, 160.0, 22.61], \n",
    "            [72.0, 184.0, 24.85], [72.0, 180.0, 27.33], [69.0, 180.0, 26.67], [73.0, 200.0, 37.43], \n",
    "            [69.0, 176.0, 29.31], [73.0, 160.0, 29.85], [74.0, 222.0, 27.93], [74.0, 211.0, 31.62], \n",
    "            [72.0, 195.0, 30.55], [71.0, 200.0, 24.77], [72.0, 175.0, 33.77], [72.0, 206.0, 27.97], \n",
    "            [76.0, 240.0, 27.85], [76.0, 185.0, 23.26], [76.0, 260.0, 25.38], [74.0, 185.0, 23.35], \n",
    "            [76.0, 221.0, 25.45], [75.0, 205.0, 26.49], [71.0, 200.0, 24.0], [72.0, 170.0, 24.16], \n",
    "            [71.0, 201.0, 28.1], [73.0, 205.0, 25.65], [75.0, 185.0, 28.58], [76.0, 205.0, 32.27], \n",
    "            [75.0, 245.0, 29.86], [71.0, 220.0, 25.14], [75.0, 210.0, 23.03], [74.0, 220.0, 30.25], \n",
    "            [72.0, 185.0, 30.67], [73.0, 175.0, 27.73], [73.0, 170.0, 23.34], [73.0, 180.0, 25.94], \n",
    "            [73.0, 200.0, 31.56], [76.0, 210.0, 34.85], [72.0, 175.0, 23.98], [76.0, 220.0, 23.14], \n",
    "            [73.0, 206.0, 28.99], [73.0, 180.0, 25.02], [73.0, 210.0, 29.85], [75.0, 195.0, 27.03], \n",
    "            [75.0, 200.0, 25.15], [77.0, 200.0, 27.12], [73.0, 164.0, 31.63], [72.0, 180.0, 32.62], \n",
    "            [75.0, 220.0, 39.79], [70.0, 195.0, 34.47], [74.0, 205.0, 23.47], [72.0, 170.0, 25.31], \n",
    "            [80.0, 240.0, 27.1], [71.0, 210.0, 24.35], [71.0, 195.0, 23.45], [74.0, 200.0, 28.24], \n",
    "            [74.0, 205.0, 28.77], [73.0, 192.0, 26.53], [75.0, 190.0, 25.64], [76.0, 170.0, 25.83], \n",
    "            [73.0, 240.0, 38.06], [77.0, 200.0, 36.38], [72.0, 205.0, 25.27], [73.0, 175.0, 27.2], \n",
    "            [77.0, 250.0, 31.59], [76.0, 220.0, 29.56], [71.0, 224.0, 35.5], [75.0, 210.0, 30.35], \n",
    "            [73.0, 195.0, 24.11], [74.0, 180.0, 23.29], [77.0, 245.0, 31.48], [71.0, 175.0, 27.23], \n",
    "            [72.0, 180.0, 24.07], [73.0, 215.0, 28.68], [69.0, 175.0, 27.05], [73.0, 180.0, 31.15], \n",
    "            [70.0, 195.0, 31.85], [74.0, 230.0, 31.68], [76.0, 230.0, 34.23], [73.0, 205.0, 32.01], \n",
    "            [73.0, 215.0, 25.41], [75.0, 195.0, 24.73], [73.0, 180.0, 25.66], [79.0, 205.0, 24.5], \n",
    "            [74.0, 180.0, 24.38], [73.0, 190.0, 26.89], [74.0, 180.0, 24.2], [77.0, 190.0, 26.97], \n",
    "            [75.0, 190.0, 25.21], [74.0, 220.0, 30.46], [73.0, 210.0, 28.53], [77.0, 255.0, 25.75],\n",
    "            [73.0, 190.0, 31.15], [77.0, 230.0, 26.48], [74.0, 200.0, 26.93], [74.0, 205.0, 29.55], \n",
    "            [73.0, 210.0, 34.75], [77.0, 225.0, 29.71], [74.0, 215.0, 29.83], [77.0, 220.0, 33.57], \n",
    "            [75.0, 205.0, 28.21], [77.0, 200.0, 27.54], [75.0, 220.0, 26.05], [71.0, 197.0, 23.64], \n",
    "            [74.0, 225.0, 24.82], [70.0, 187.0, 29.8], [79.0, 245.0, 34.71], [72.0, 185.0, 29.22], \n",
    "            [72.0, 185.0, 23.96], [70.0, 175.0, 23.87], [74.0, 200.0, 26.77], [74.0, 180.0, 23.49], \n",
    "            [72.0, 188.0, 26.77], [73.0, 225.0, 24.51], [72.0, 200.0, 33.23], [74.0, 210.0, 31.04], \n",
    "            [74.0, 245.0, 32.02], [76.0, 213.0, 31.44], [82.0, 231.0, 43.47], [74.0, 165.0, 28.38], \n",
    "            [74.0, 228.0, 27.81], [70.0, 210.0, 24.57], [73.0, 250.0, 23.34], [73.0, 191.0, 27.09], \n",
    "            [74.0, 190.0, 25.14], [77.0, 200.0, 27.07], [72.0, 215.0, 24.02], [76.0, 254.0, 27.6], \n",
    "            [73.0, 232.0, 27.99], [73.0, 180.0, 27.56], [72.0, 215.0, 28.63], [74.0, 220.0, 30.99], \n",
    "            [74.0, 180.0, 26.33], [71.0, 200.0, 26.97], [72.0, 170.0, 22.85], [75.0, 195.0, 23.19], \n",
    "            [74.0, 210.0, 23.87], [74.0, 200.0, 33.98], [77.0, 220.0, 28.26], [70.0, 165.0, 29.12], \n",
    "            [71.0, 180.0, 26.18], [73.0, 200.0, 28.03], [76.0, 200.0, 23.08], [71.0, 170.0, 26.24], \n",
    "            [75.0, 224.0, 26.63], [74.0, 220.0, 24.21], [72.0, 180.0, 23.01], [76.0, 198.0, 23.13], \n",
    "            [79.0, 240.0, 23.08], [76.0, 239.0, 25.13], [73.0, 185.0, 24.66], [76.0, 210.0, 26.03], \n",
    "            [78.0, 220.0, 28.7], [75.0, 200.0, 25.57], [76.0, 195.0, 24.65], [72.0, 220.0, 25.55], \n",
    "            [72.0, 230.0, 22.27], [73.0, 170.0, 24.76], [73.0, 220.0, 23.98], [75.0, 230.0, 27.85], \n",
    "            [71.0, 165.0, 22.14], [76.0, 205.0, 27.05], [70.0, 192.0, 31.45], [75.0, 210.0, 32.03], \n",
    "            [74.0, 205.0, 29.95], [75.0, 200.0, 23.47], [73.0, 210.0, 37.21], [71.0, 185.0, 25.67], \n",
    "            [71.0, 195.0, 34.69], [72.0, 202.0, 30.04], [73.0, 205.0, 32.52], [73.0, 195.0, 24.15], \n",
    "            [72.0, 180.0, 26.86], [69.0, 200.0, 27.94], [73.0, 185.0, 26.63], [78.0, 240.0, 27.31], \n",
    "            [71.0, 185.0, 30.55], [73.0, 220.0, 40.68], [75.0, 205.0, 37.27], [76.0, 205.0, 25.78], \n",
    "            [70.0, 180.0, 30.98], [74.0, 201.0, 28.41], [77.0, 190.0, 30.01], [75.0, 208.0, 31.57], \n",
    "            [79.0, 240.0, 28.81], [72.0, 180.0, 24.09], [77.0, 230.0, 26.47], [73.0, 195.0, 30.5], \n",
    "            [75.0, 215.0, 23.74], [75.0, 190.0, 24.49], [75.0, 195.0, 26.73], [73.0, 215.0, 27.01], \n",
    "            [73.0, 215.0, 39.75], [76.0, 220.0, 27.16], [77.0, 220.0, 25.74], [75.0, 230.0, 37.43], \n",
    "            [70.0, 195.0, 39.85], [71.0, 190.0, 28.62], [71.0, 195.0, 23.9], [75.0, 209.0, 25.18], \n",
    "            [74.0, 204.0, 33.53], [69.0, 170.0, 33.03], [70.0, 185.0, 31.35], [75.0, 205.0, 22.39],\n",
    "            [72.0, 175.0, 27.99], [75.0, 210.0, 27.22], [73.0, 190.0, 27.49], [72.0, 180.0, 27.53], \n",
    "            [72.0, 180.0, 26.26], [72.0, 160.0, 25.18], [76.0, 235.0, 27.12], [75.0, 200.0, 27.69], \n",
    "            [74.0, 210.0, 25.69], [69.0, 180.0, 28.11], [73.0, 190.0, 31.21], [72.0, 197.0, 30.8], \n",
    "            [72.0, 203.0, 30.21], [75.0, 205.0, 28.06], [77.0, 170.0, 26.52], [76.0, 200.0, 23.1], \n",
    "            [80.0, 250.0, 25.02], [77.0, 200.0, 26.14], [76.0, 220.0, 25.38], [79.0, 200.0, 27.6], \n",
    "            [71.0, 190.0, 25.5], [75.0, 170.0, 24.24], [73.0, 190.0, 23.32], [76.0, 220.0, 31.56], \n",
    "            [77.0, 215.0, 34.19], [73.0, 206.0, 36.78], [76.0, 215.0, 27.73], [70.0, 185.0, 34.88], \n",
    "            [75.0, 235.0, 31.0], [73.0, 188.0, 48.52], [75.0, 230.0, 34.68], [70.0, 195.0, 37.38], \n",
    "            [69.0, 168.0, 24.33], [71.0, 190.0, 37.3], [72.0, 160.0, 23.72], [72.0, 200.0, 24.19], \n",
    "            [73.0, 200.0, 25.7], [70.0, 189.0, 29.06], [70.0, 180.0, 33.48], [73.0, 190.0, 29.85], \n",
    "            [76.0, 200.0, 34.3], [75.0, 220.0, 40.66], [72.0, 187.0, 21.9], [73.0, 240.0, 27.39], \n",
    "            [79.0, 190.0, 23.13], [71.0, 180.0, 35.35], [72.0, 185.0, 40.93], [74.0, 210.0, 33.67], \n",
    "            [74.0, 220.0, 37.39], [74.0, 219.0, 27.97], [72.0, 190.0, 25.54], [76.0, 193.0, 25.81], \n",
    "            [76.0, 175.0, 22.53], [72.0, 180.0, 22.86], [72.0, 215.0, 24.07], [71.0, 210.0, 29.5], \n",
    "            [72.0, 200.0, 30.03], [72.0, 190.0, 27.38], [70.0, 185.0, 30.51], [77.0, 220.0, 28.3], \n",
    "            [74.0, 170.0, 29.84], [72.0, 195.0, 33.41], [76.0, 205.0, 33.6], [71.0, 195.0, 35.6], \n",
    "            [76.0, 210.0, 24.19], [71.0, 190.0, 37.88], [73.0, 190.0, 27.56], [70.0, 180.0, 24.42], \n",
    "            [73.0, 220.0, 31.05], [73.0, 190.0, 31.56], [72.0, 186.0, 35.55], [71.0, 185.0, 41.21], \n",
    "            [71.0, 190.0, 27.12], [71.0, 180.0, 26.97], [72.0, 190.0, 28.92], [72.0, 170.0, 30.06], \n",
    "            [74.0, 210.0, 31.51], [74.0, 240.0, 30.69], [74.0, 220.0, 30.19], [71.0, 180.0, 38.11], \n",
    "            [72.0, 210.0, 28.68], [75.0, 210.0, 27.44], [72.0, 195.0, 24.63], [71.0, 160.0, 28.11], \n",
    "            [72.0, 180.0, 28.9], [72.0, 205.0, 24.11], [72.0, 200.0, 40.53], [72.0, 185.0, 29.5], \n",
    "            [74.0, 245.0, 28.62], [74.0, 190.0, 26.42], [77.0, 210.0, 30.18], [75.0, 200.0, 33.75], \n",
    "            [73.0, 200.0, 30.06], [75.0, 222.0, 29.22], [73.0, 215.0, 24.47], [76.0, 240.0, 24.94], \n",
    "            [72.0, 170.0, 28.77], [77.0, 220.0, 28.54], [75.0, 156.0, 27.32], [72.0, 190.0, 35.12], \n",
    "            [71.0, 202.0, 24.04], [71.0, 221.0, 36.39], [75.0, 200.0, 22.81], [72.0, 190.0, 33.6], \n",
    "            [73.0, 210.0, 38.98], [73.0, 190.0, 34.39], [71.0, 200.0, 33.15], [70.0, 165.0, 29.35], \n",
    "            [75.0, 190.0, 26.59], [71.0, 185.0, 23.46], [76.0, 230.0, 22.43], [73.0, 208.0, 24.89], \n",
    "            [68.0, 209.0, 24.67], [71.0, 175.0, 26.17], [72.0, 180.0, 29.54], [74.0, 200.0, 39.49], \n",
    "            [77.0, 205.0, 34.08], [72.0, 200.0, 30.52], [76.0, 250.0, 28.77], [78.0, 210.0, 33.75], \n",
    "            [81.0, 230.0, 32.69], [72.0, 244.0, 22.59], [73.0, 202.0, 37.04], [76.0, 240.0, 22.7], \n",
    "            [72.0, 200.0, 25.6], [72.0, 215.0, 27.23], [74.0, 177.0, 25.74], [76.0, 210.0, 30.29], \n",
    "            [73.0, 170.0, 26.72], [76.0, 215.0, 33.9], [75.0, 217.0, 29.86], [70.0, 198.0, 36.13], \n",
    "            [71.0, 200.0, 27.54], [74.0, 220.0, 31.49], [72.0, 170.0, 28.1], [73.0, 200.0, 34.07], \n",
    "            [76.0, 230.0, 27.28], [76.0, 231.0, 30.8], [73.0, 183.0, 28.2], [71.0, 192.0, 27.9], \n",
    "            [68.0, 167.0, 28.26], [71.0, 190.0, 30.96], [71.0, 180.0, 24.18], [74.0, 180.0, 27.52], \n",
    "            [77.0, 215.0, 27.78], [69.0, 160.0, 26.25], [72.0, 205.0, 29.5], [76.0, 223.0, 30.39], \n",
    "            [75.0, 175.0, 23.18], [76.0, 170.0, 25.81], [75.0, 190.0, 23.01], [76.0, 240.0, 31.72], \n",
    "            [72.0, 175.0, 44.28], [74.0, 230.0, 36.91], [76.0, 223.0, 26.54], [74.0, 196.0, 29.27], \n",
    "            [72.0, 167.0, 30.51], [75.0, 195.0, 31.28], [78.0, 190.0, 26.51], [77.0, 250.0, 34.87],\n",
    "            [70.0, 190.0, 39.28], [72.0, 190.0, 28.56], [79.0, 190.0, 27.82], [74.0, 170.0, 25.94], \n",
    "            [71.0, 160.0, 28.53], [68.0, 150.0, 22.11], [77.0, 225.0, 27.71], [75.0, 220.0, 37.38], \n",
    "            [71.0, 209.0, 30.67], [72.0, 210.0, 30.48], [70.0, 176.0, 27.12], [72.0, 260.0, 22.81], \n",
    "            [72.0, 195.0, 24.46], [73.0, 190.0, 34.73], [72.0, 184.0, 36.53], [74.0, 180.0, 24.53], \n",
    "            [72.0, 195.0, 27.17], [72.0, 195.0, 26.9], [75.0, 219.0, 33.67], [72.0, 225.0, 29.14], \n",
    "            [73.0, 212.0, 32.61], [74.0, 202.0, 33.87], [72.0, 185.0, 24.41], [78.0, 200.0, 24.94], \n",
    "            [75.0, 209.0, 27.36], [72.0, 200.0, 26.33], [74.0, 195.0, 25.72], [75.0, 228.0, 28.7], \n",
    "            [75.0, 210.0, 28.53], [76.0, 190.0, 26.07], [74.0, 212.0, 27.31], [74.0, 190.0, 23.26], \n",
    "            [73.0, 218.0, 28.62], [74.0, 220.0, 32.16], [71.0, 190.0, 38.43], [74.0, 235.0, 31.81], \n",
    "            [75.0, 210.0, 29.1], [76.0, 200.0, 31.28], [74.0, 188.0, 29.17], [76.0, 210.0, 25.89], \n",
    "            [76.0, 235.0, 26.13], [73.0, 188.0, 29.13], [75.0, 215.0, 28.92], [75.0, 216.0, 26.01], \n",
    "            [74.0, 220.0, 24.81], [68.0, 180.0, 28.79], [72.0, 185.0, 33.77], [75.0, 200.0, 33.85], \n",
    "            [71.0, 210.0, 27.36], [70.0, 220.0, 26.01], [72.0, 185.0, 29.95], [73.0, 231.0, 28.12], \n",
    "            [72.0, 210.0, 32.87], [75.0, 195.0, 31.2], [74.0, 200.0, 34.14], [70.0, 205.0, 36.11], \n",
    "            [76.0, 200.0, 26.31], [71.0, 190.0, 27.5], [82.0, 250.0, 27.77], [72.0, 185.0, 40.88], \n",
    "            [73.0, 180.0, 25.75], [74.0, 170.0, 31.41], [71.0, 180.0, 30.84], [75.0, 208.0, 30.57], \n",
    "            [77.0, 235.0, 39.79], [72.0, 215.0, 39.38], [74.0, 244.0, 29.42], [72.0, 220.0, 26.19], \n",
    "            [73.0, 185.0, 23.74], [78.0, 230.0, 26.03], [77.0, 190.0, 28.59], [73.0, 200.0, 26.77], \n",
    "            [73.0, 180.0, 27.21], [73.0, 190.0, 24.87], [73.0, 196.0, 30.26], [73.0, 180.0, 22.34], \n",
    "            [76.0, 230.0, 26.2], [75.0, 224.0, 28.45], [70.0, 160.0, 27.63], [73.0, 178.0, 25.93], \n",
    "            [72.0, 205.0, 28.94], [73.0, 185.0, 26.8], [75.0, 210.0, 22.42], [74.0, 180.0, 27.26], \n",
    "            [73.0, 190.0, 28.38], [73.0, 200.0, 25.23], [76.0, 257.0, 28.16], [73.0, 190.0, 28.48], \n",
    "            [75.0, 220.0, 26.78], [70.0, 165.0, 25.24], [77.0, 205.0, 27.45], [72.0, 200.0, 29.05], \n",
    "            [77.0, 208.0, 29.08], [74.0, 185.0, 25.84], [75.0, 215.0, 25.4], [75.0, 170.0, 26.54], \n",
    "            [75.0, 235.0, 22.73], [75.0, 210.0, 28.53], [72.0, 170.0, 25.37], [74.0, 180.0, 25.35],\n",
    "            [71.0, 170.0, 26.43], [76.0, 190.0, 25.43], [71.0, 150.0, 29.23], [75.0, 230.0, 30.22], \n",
    "            [76.0, 203.0, 32.3], [83.0, 260.0, 28.42], [75.0, 246.0, 25.24], [74.0, 186.0, 29.13], \n",
    "            [76.0, 210.0, 24.63], [72.0, 198.0, 24.95], [72.0, 210.0, 28.06], [75.0, 215.0, 25.86], \n",
    "            [75.0, 180.0, 27.32], [72.0, 200.0, 25.91], [77.0, 245.0, 26.63], [73.0, 200.0, 25.95], \n",
    "            [72.0, 192.0, 29.17], [70.0, 192.0, 29.19], [74.0, 200.0, 28.44], [72.0, 192.0, 26.36], \n",
    "            [74.0, 205.0, 28.29], [72.0, 190.0, 29.45], [71.0, 186.0, 25.34], [70.0, 170.0, 26.86], \n",
    "            [71.0, 197.0, 26.36], [76.0, 219.0, 27.39], [74.0, 200.0, 25.84], [76.0, 220.0, 25.08], \n",
    "            [74.0, 207.0, 23.87], [74.0, 225.0, 24.68], [74.0, 207.0, 24.64], [75.0, 212.0, 29.19], \n",
    "            [75.0, 225.0, 28.84], [71.0, 170.0, 25.33], [71.0, 190.0, 24.45], [74.0, 210.0, 28.32], \n",
    "            [77.0, 230.0, 32.34], [71.0, 210.0, 34.97], [74.0, 200.0, 32.04], [75.0, 238.0, 23.49], \n",
    "            [77.0, 234.0, 26.09], [76.0, 222.0, 26.41], [74.0, 200.0, 26.55], [76.0, 190.0, 24.62], \n",
    "            [72.0, 170.0, 28.49], [71.0, 220.0, 32.61], [72.0, 223.0, 28.06], [75.0, 210.0, 28.08], \n",
    "            [73.0, 215.0, 37.34], [68.0, 196.0, 35.25], [72.0, 175.0, 24.77], [69.0, 175.0, 39.85], \n",
    "            [73.0, 189.0, 35.49], [73.0, 205.0, 31.84], [75.0, 210.0, 26.67], [70.0, 180.0, 34.75], \n",
    "            [70.0, 180.0, 28.91], [74.0, 197.0, 32.73], [75.0, 220.0, 35.72], [74.0, 228.0, 42.6], \n",
    "            [74.0, 190.0, 26.22], [73.0, 204.0, 21.85], [74.0, 165.0, 24.28], [75.0, 216.0, 22.41],\n",
    "            [77.0, 220.0, 32.56], [73.0, 208.0, 32.74], [74.0, 210.0, 26.39], [76.0, 215.0, 28.8], \n",
    "            [74.0, 195.0, 28.2], [75.0, 200.0, 26.52], [73.0, 215.0, 34.52], [76.0, 229.0, 34.32], \n",
    "            [78.0, 240.0, 26.98], [75.0, 207.0, 28.86], [73.0, 205.0, 24.96], [77.0, 208.0, 25.3], \n",
    "            [74.0, 185.0, 27.06], [72.0, 190.0, 25.44], [74.0, 170.0, 25.53], [72.0, 208.0, 34.87], \n",
    "            [71.0, 225.0, 24.63], [73.0, 190.0, 27.99], [75.0, 225.0, 27.12], [73.0, 185.0, 31.14], \n",
    "            [67.0, 180.0, 30.21], [67.0, 165.0, 32.11], [76.0, 240.0, 31.91], [74.0, 220.0, 34.44], \n",
    "            [73.0, 212.0, 36.68], [70.0, 163.0, 37.66], [75.0, 215.0, 30.98], [70.0, 175.0, 27.07], \n",
    "            [72.0, 205.0, 29.11], [77.0, 210.0, 25.82], [79.0, 205.0, 25.5], [78.0, 208.0, 29.57]]"
   ]
  },
  {
   "cell_type": "code",
   "execution_count": 22,
   "id": "a4538706-c8b7-42f5-a5a2-33d71f66c044",
   "metadata": {},
   "outputs": [
    {
     "name": "stdout",
     "output_type": "stream",
     "text": [
      "<class 'numpy.ndarray'>\n",
      "(1000, 3)\n"
     ]
    }
   ],
   "source": [
    "import numpy as np\n",
    "\n",
    "np_baseball = np.array(baseball)\n",
    "\n",
    "print(type(np_baseball))\n",
    "print(np_baseball.shape)\n",
    "\n",
    "# *************************************************************************************************** #\n",
    "# Althou the shape of np_baseball array is 1000*3, but its a 2 dimensional array.  Dont get it wrong\n",
    "# 3 dimenaional array should be 1000*3*2, just like 3D objects"
   ]
  },
  {
   "cell_type": "code",
   "execution_count": 4,
   "id": "0b3d728e-4e10-4399-81a6-ea16763c2cac",
   "metadata": {},
   "outputs": [
    {
     "name": "stdout",
     "output_type": "stream",
     "text": [
      "[ 74 195]\n"
     ]
    }
   ],
   "source": [
    "baseball = [[74, 180], [74, 215], [72, 210], [72, 210], [73, 188], [69, 176], [69, 209], [71, 200],\n",
    "            [76, 231], [71, 180], [73, 188], [73, 180], [74, 185], [74, 160], [69, 180], [70, 185],\n",
    "            [73, 189], [75, 185], [78, 219], [79, 230], [76, 205], [74, 230], [76, 195], [72, 180], \n",
    "            [71, 192], [75, 225], [77, 203], [74, 195], [73, 182], [74, 188], [78, 200], [73, 180],\n",
    "            [75, 200], [73, 200], [75, 245], [75, 240], [74, 215], [69, 185], [71, 175], [74, 199],\n",
    "            [73, 200], [73, 215], [76, 200], [74, 205], [74, 206], [70, 186], [72, 188], [77, 220], \n",
    "            [74, 210], [70, 195], [73, 200], [75, 200], [76, 212], [76, 224], [78, 210], [74, 205], \n",
    "            [74, 220], [76, 195], [77, 200], [81, 260], [78, 228], [75, 270], [77, 200], [75, 210], \n",
    "            [76, 190], [74, 220], [72, 180], [72, 205], [75, 210], [73, 220], [73, 211], [73, 200], \n",
    "            [70, 180], [70, 190], [70, 170], [76, 230], [68, 155], [71, 185], [72, 185], [75, 200], \n",
    "            [74, 219], [76, 235], [73, 180], [74, 180], [74, 180], [72, 200], [74, 234], [74, 185], \n",
    "            [75, 220], [78, 223], [74, 200], [74, 210], [74, 200], [77, 210], [70, 190], [73, 177], \n",
    "            [74, 227], [73, 180], [71, 195], [75, 199], [71, 175], [72, 185], [77, 240], [74, 210], \n",
    "            [70, 180], [77, 194], [73, 225], [72, 180], [76, 205], [71, 193], [76, 230], [78, 230], \n",
    "            [75, 220], [73, 200], [78, 249], [74, 190], [79, 208], [75, 245], [76, 250], [72, 160], \n",
    "            [75, 192], [75, 220], [70, 170], [72, 197], [70, 155], [74, 190], [71, 200], [76, 220]]\n",
    "\n",
    "import numpy as np\n",
    "\n",
    "np_baseball = np.array(baseball)\n",
    "\n",
    "print(np_baseball[27,:])"
   ]
  },
  {
   "cell_type": "code",
   "execution_count": 6,
   "id": "fcfa3d6f-919a-4cc0-be59-b6ec826d07b8",
   "metadata": {},
   "outputs": [
    {
     "name": "stdout",
     "output_type": "stream",
     "text": [
      "[ 70 195]\n",
      "197\n"
     ]
    }
   ],
   "source": [
    "# baseball is available as a regular list of lists\n",
    "\n",
    "# Import numpy package\n",
    "import numpy as np\n",
    "\n",
    "# Create np_baseball (2 cols)\n",
    "np_baseball = np.array(baseball)\n",
    "\n",
    "# Print out the 50th row of np_baseball\n",
    "print(np_baseball[49, :])\n",
    "\n",
    "# Select the entire second column of np_baseball: np_weight_lb\n",
    "np_weight_lb = np_baseball[:, 1]\n",
    "\n",
    "# Print out height of 124th player\n",
    "print(np_baseball[123, 1])   # remember the index start at 0"
   ]
  },
  {
   "cell_type": "markdown",
   "id": "db1ecaa8-76cd-4f14-aa3e-6898f5808c16",
   "metadata": {},
   "source": [
    "## 2D Arithmetic\n",
    "\n",
    "# Remember how you calculated the Body Mass Index for all baseball players? numpy was able to perform all calculations element-wise (i.e. element by element). For 2D numpy arrays this isn't any different! You can combine matrices with single numbers, with vectors, and with other matrices.\n",
    "\n",
    "Execute the code below in the IPython shell and see if you understand:\n",
    "\n",
    "import numpy as np\n",
    "np_mat = np.array([[1, 2],\n",
    "                   [3, 4],\n",
    "                   [5, 6]])\n",
    "np_mat * 2\n",
    "np_mat + np.array([10, 10])\n",
    "np_mat + np_mat\n",
    "\n",
    "np_baseball is coded for you; it's again a 2D numpy array with 3 columns representing height (in inches), weight (in pounds) and age (in years).\n",
    "Instructions\n",
    "100 XP\n",
    "\n",
    "    You managed to get hold of the changes in height, weight and age of all baseball players. It is available as a 2D numpy array, updated. Add np_baseball and updated and print out the result.\n",
    "    You want to convert the units of height and weight to metric (meters and kilograms respectively). As a first step, create a numpy array with three values: 0.0254, 0.453592 and 1. Name this array conversion.\n",
    "    Multiply np_baseball with conversion and print out the result.\n"
   ]
  },
  {
   "cell_type": "markdown",
   "id": "1b362870-d46d-4c11-8630-d5b2ee8a83dc",
   "metadata": {},
   "source": [
    "# *****************************************************************************************************"
   ]
  },
  {
   "cell_type": "code",
   "execution_count": 16,
   "id": "dc458ca9-a982-40f5-b0d7-033872efa81f",
   "metadata": {},
   "outputs": [
    {
     "name": "stdout",
     "output_type": "stream",
     "text": [
      "[[ 2  4]\n",
      " [ 6  8]\n",
      " [10 12]]\n",
      "\n",
      "[[11 12]\n",
      " [13 14]\n",
      " [15 16]]\n",
      "\n",
      "[[ 8  9]\n",
      " [10 11]\n",
      " [12 13]]\n",
      "\n",
      "[[3 4]\n",
      " [5 6]\n",
      " [7 8]]\n",
      "\n",
      "[[ 2  4]\n",
      " [ 6  8]\n",
      " [10 12]]\n"
     ]
    }
   ],
   "source": [
    "import numpy as np\n",
    "np_mat = np.array([[1, 2],\n",
    "                   [3, 4],\n",
    "                   [5, 6]])\n",
    "\n",
    "\n",
    "print(np_mat * 2)\n",
    "print()\n",
    "print(np_mat + np.array([10, 10]))\n",
    "# *************************************************************************************************** #\n",
    "# *************************************************************************************************** #\n",
    "print()\n",
    "print(np_mat + np.array([7]))\n",
    "# *************************************************************************************************** #\n",
    "# *************************************************************************************************** #\n",
    "print()\n",
    "print(np_mat + np.array([[2, 2], \n",
    "                         [2, 2], \n",
    "                         [2, 2]]))\n",
    "# *************************************************************************************************** #\n",
    "# *************************************************************************************************** #\n",
    "print()\n",
    "print(np_mat + np_mat)"
   ]
  },
  {
   "cell_type": "code",
   "execution_count": 78,
   "id": "40025d6d-923a-473f-a313-10f3f0eb83a0",
   "metadata": {},
   "outputs": [
    {
     "name": "stdout",
     "output_type": "stream",
     "text": [
      "[[ 74.   180.    22.99]\n",
      " [ 74.   215.    34.69]\n",
      " [ 72.   210.    30.78]\n",
      " ...\n",
      " [ 77.   210.    25.82]\n",
      " [ 79.   205.    25.5 ]\n",
      " [ 78.   208.    29.57]]\n",
      "[[ 1.8796   81.64656  22.99    ]\n",
      " [ 1.8796   97.52228  34.69    ]\n",
      " [ 1.8288   95.25432  30.78    ]\n",
      " ...\n",
      " [ 1.9558   95.25432  25.82    ]\n",
      " [ 2.0066   92.98636  25.5     ]\n",
      " [ 1.9812   94.347136 29.57    ]]\n"
     ]
    }
   ],
   "source": [
    "baseball = [[74.0, 180.0, 22.99], [74.0, 215.0, 34.69], [72.0, 210.0, 30.78], [72.0, 210.0, 35.43], \n",
    "            [73.0, 188.0, 35.71], [69.0, 176.0, 29.39], [69.0, 209.0, 30.77], [71.0, 200.0, 35.07], \n",
    "            [76.0, 231.0, 30.19], [71.0, 180.0, 27.05], [73.0, 188.0, 23.88], [73.0, 180.0, 26.96], \n",
    "            [74.0, 185.0, 23.29], [74.0, 160.0, 26.11], [69.0, 180.0, 27.55], [70.0, 185.0, 34.27], \n",
    "            [73.0, 189.0, 27.99], [75.0, 185.0, 22.38], [78.0, 219.0, 22.89], [79.0, 230.0, 25.76], \n",
    "            [76.0, 205.0, 36.33], [74.0, 230.0, 31.17], [76.0, 195.0, 32.31], [72.0, 180.0, 31.03], \n",
    "            [71.0, 192.0, 29.26], [75.0, 225.0, 29.47], [77.0, 203.0, 32.46], [74.0, 195.0, 35.67], \n",
    "            [73.0, 182.0, 25.89], [74.0, 188.0, 26.55], [78.0, 200.0, 24.17], [73.0, 180.0, 26.69], \n",
    "            [75.0, 200.0, 25.13], [73.0, 200.0, 27.9], [75.0, 245.0, 30.17], [75.0, 240.0, 31.36], \n",
    "            [74.0, 215.0, 30.99], [69.0, 185.0, 32.24], [71.0, 175.0, 27.61], [74.0, 199.0, 28.2], \n",
    "            [73.0, 200.0, 28.85], [73.0, 215.0, 24.21], [76.0, 200.0, 22.02], [74.0, 205.0, 24.97], \n",
    "            [74.0, 206.0, 26.78], [70.0, 186.0, 32.51], [72.0, 188.0, 30.95], [77.0, 220.0, 33.09], \n",
    "            [74.0, 210.0, 32.74], [70.0, 195.0, 30.69], [73.0, 200.0, 23.45], [75.0, 200.0, 24.94], \n",
    "            [76.0, 212.0, 24.09], [76.0, 224.0, 35.23], [78.0, 210.0, 27.43], [74.0, 205.0, 30.6], \n",
    "            [74.0, 220.0, 27.94], [76.0, 195.0, 29.99], [77.0, 200.0, 25.17], [81.0, 260.0, 24.13], \n",
    "            [78.0, 228.0, 30.46], [75.0, 270.0, 25.96], [77.0, 200.0, 22.55], [75.0, 210.0, 26.29], \n",
    "            [76.0, 190.0, 24.79], [74.0, 220.0, 31.74], [72.0, 180.0, 23.92], [72.0, 205.0, 25.33], \n",
    "            [75.0, 210.0, 24.02], [73.0, 220.0, 23.7], [73.0, 211.0, 31.59], [73.0, 200.0, 29.95], \n",
    "            [70.0, 180.0, 23.64], [70.0, 190.0, 32.33], [70.0, 170.0, 23.13], [76.0, 230.0, 26.6], \n",
    "            [68.0, 155.0, 26.46], [71.0, 185.0, 25.75], [72.0, 185.0, 27.51], [75.0, 200.0, 25.11], \n",
    "            [75.0, 225.0, 32.51], [75.0, 225.0, 34.67], [75.0, 220.0, 31.06], [68.0, 160.0, 29.1], \n",
    "            [74.0, 205.0, 28.66], [78.0, 235.0, 28.35], [71.0, 250.0, 33.77], [73.0, 210.0, 30.89], \n",
    "            [76.0, 190.0, 37.74], [74.0, 160.0, 24.14], [74.0, 200.0, 25.71], [79.0, 205.0, 24.41], \n",
    "            [75.0, 222.0, 24.32], [73.0, 195.0, 28.09], [76.0, 205.0, 33.31], [74.0, 220.0, 36.4], \n",
    "            [74.0, 220.0, 37.36], [73.0, 170.0, 31.61], [72.0, 185.0, 25.14], [74.0, 195.0, 30.29], \n",
    "            [73.0, 220.0, 36.37], [74.0, 230.0, 34.89], [72.0, 180.0, 23.79], [73.0, 220.0, 27.96], \n",
    "            [69.0, 180.0, 23.54], [72.0, 180.0, 31.37], [73.0, 170.0, 31.29], [75.0, 210.0, 33.01], \n",
    "            [75.0, 215.0, 25.1], [73.0, 200.0, 31.28], [72.0, 213.0, 34.75], [72.0, 180.0, 23.46], \n",
    "            [76.0, 192.0, 25.37], [74.0, 235.0, 29.57], [72.0, 185.0, 27.33], [77.0, 235.0, 40.29], \n",
    "            [74.0, 210.0, 40.58], [77.0, 222.0, 26.79], [75.0, 210.0, 32.55], [76.0, 230.0, 26.27], \n",
    "            [80.0, 220.0, 29.47], [74.0, 180.0, 29.07], [74.0, 190.0, 23.15], [75.0, 200.0, 24.9], \n",
    "            [78.0, 210.0, 23.29], [73.0, 194.0, 31.18], [73.0, 180.0, 26.56], [74.0, 190.0, 25.03], \n",
    "            [75.0, 240.0, 35.66], [76.0, 200.0, 29.64], [71.0, 198.0, 30.74], [73.0, 200.0, 28.43], \n",
    "            [74.0, 195.0, 33.77], [76.0, 210.0, 40.97], [76.0, 220.0, 23.52], [74.0, 190.0, 28.19], \n",
    "            [73.0, 210.0, 26.84], [74.0, 225.0, 26.16], [70.0, 180.0, 28.67], [72.0, 185.0, 24.2], \n",
    "            [73.0, 170.0, 27.08], [73.0, 185.0, 24.76], [73.0, 185.0, 23.36], [73.0, 180.0, 25.35], \n",
    "            [71.0, 178.0, 24.63], [74.0, 175.0, 24.02], [74.0, 200.0, 24.58], [72.0, 204.0, 30.82], \n",
    "            [74.0, 211.0, 32.89], [71.0, 190.0, 33.33], [74.0, 210.0, 33.52], [73.0, 190.0, 36.24], \n",
    "            [75.0, 190.0, 28.5], [75.0, 185.0, 29.42], [79.0, 290.0, 26.61], [73.0, 175.0, 23.79], \n",
    "            [75.0, 185.0, 24.96], [76.0, 200.0, 25.93], [74.0, 220.0, 22.81], [76.0, 170.0, 25.29], \n",
    "            [78.0, 220.0, 26.07], [74.0, 190.0, 26.09], [76.0, 220.0, 23.23], [72.0, 205.0, 33.49], \n",
    "            [74.0, 200.0, 31.84], [76.0, 250.0, 42.3], [74.0, 225.0, 35.82], [75.0, 215.0, 35.27], \n",
    "            [78.0, 210.0, 26.81], [75.0, 215.0, 38.49], [72.0, 195.0, 32.68], [74.0, 200.0, 34.93], \n",
    "            [72.0, 194.0, 26.26], [74.0, 220.0, 27.56], [70.0, 180.0, 23.98], [71.0, 180.0, 29.73], \n",
    "            [70.0, 170.0, 31.33], [75.0, 195.0, 27.13], [71.0, 180.0, 26.75], [71.0, 170.0, 27.09], \n",
    "            [73.0, 206.0, 29.23], [72.0, 205.0, 28.88], [71.0, 200.0, 33.01], [73.0, 225.0, 30.57], \n",
    "            [72.0, 201.0, 31.24], [75.0, 225.0, 24.95], [74.0, 233.0, 24.62], [74.0, 180.0, 24.98], \n",
    "            [75.0, 225.0, 26.22], [73.0, 180.0, 26.04], [77.0, 220.0, 26.45], [73.0, 180.0, 25.25], \n",
    "            [76.0, 237.0, 27.77], [75.0, 215.0, 35.16], [74.0, 190.0, 37.1], [76.0, 235.0, 34.51], \n",
    "            [75.0, 190.0, 29.28], [73.0, 180.0, 32.14], [71.0, 165.0, 23.94], [76.0, 195.0, 27.45], \n",
    "            [75.0, 200.0, 28.77], [72.0, 190.0, 23.58], [71.0, 190.0, 27.56], [77.0, 185.0, 24.01], \n",
    "            [73.0, 185.0, 26.52], [74.0, 205.0, 35.54], [71.0, 190.0, 29.43], [72.0, 205.0, 29.9],\n",
    "            [74.0, 206.0, 32.7], [75.0, 220.0, 28.8], [73.0, 208.0, 32.82], [72.0, 170.0, 24.36], \n",
    "            [75.0, 195.0, 32.68], [75.0, 210.0, 31.59], [74.0, 190.0, 33.32], [72.0, 211.0, 32.97], \n",
    "            [74.0, 230.0, 32.72], [71.0, 170.0, 22.55], [70.0, 185.0, 27.45], [74.0, 185.0, 38.23], \n",
    "            [77.0, 241.0, 31.14], [77.0, 225.0, 34.71], [75.0, 210.0, 26.13], [75.0, 175.0, 24.43], \n",
    "            [78.0, 230.0, 23.76], [75.0, 200.0, 26.92], [76.0, 215.0, 25.85], [73.0, 198.0, 30.16], \n",
    "            [75.0, 226.0, 25.03], [75.0, 278.0, 24.21], [79.0, 215.0, 26.51], [77.0, 230.0, 26.36], \n",
    "            [76.0, 240.0, 30.88], [71.0, 184.0, 32.57], [75.0, 219.0, 37.68], [74.0, 170.0, 37.25], \n",
    "            [69.0, 218.0, 35.25], [71.0, 190.0, 33.95], [76.0, 225.0, 32.66], [72.0, 220.0, 26.68], \n",
    "            [72.0, 176.0, 25.18], [70.0, 190.0, 31.39], [72.0, 197.0, 33.74], [73.0, 204.0, 31.42], \n",
    "            [71.0, 167.0, 27.5], [72.0, 180.0, 24.25], [71.0, 195.0, 29.78], [73.0, 220.0, 30.0], \n",
    "            [72.0, 215.0, 33.09], [73.0, 185.0, 25.96], [74.0, 190.0, 23.34], [74.0, 205.0, 29.98], \n",
    "            [72.0, 205.0, 38.28], [75.0, 200.0, 24.97], [74.0, 210.0, 24.34], [74.0, 215.0, 29.49], \n",
    "            [77.0, 200.0, 24.02], [75.0, 205.0, 24.73], [73.0, 211.0, 42.3], [72.0, 190.0, 29.54], \n",
    "            [71.0, 208.0, 29.95], [74.0, 200.0, 29.24], [77.0, 210.0, 30.3], [75.0, 232.0, 40.77], \n",
    "            [75.0, 230.0, 38.85], [75.0, 210.0, 22.31], [78.0, 220.0, 25.44], [78.0, 210.0, 21.78], \n",
    "            [74.0, 202.0, 22.64], [76.0, 212.0, 26.11], [78.0, 225.0, 27.55], [76.0, 170.0, 24.63], \n",
    "            [70.0, 190.0, 23.58], [72.0, 200.0, 30.73], [80.0, 237.0, 32.17], [74.0, 220.0, 30.43], \n",
    "            [74.0, 170.0, 23.27], [71.0, 193.0, 32.51], [70.0, 190.0, 25.08], [72.0, 150.0, 22.41], \n",
    "            [71.0, 220.0, 27.9], [74.0, 200.0, 34.74], [71.0, 190.0, 30.79], [72.0, 185.0, 25.71], \n",
    "            [71.0, 185.0, 29.26], [74.0, 200.0, 21.58], [69.0, 172.0, 33.36], [76.0, 220.0, 24.94], \n",
    "            [75.0, 225.0, 20.9], [75.0, 190.0, 21.52], [76.0, 195.0, 25.85], [73.0, 219.0, 27.27], \n",
    "            [76.0, 190.0, 26.75], [73.0, 197.0, 36.03], [77.0, 200.0, 30.52], [73.0, 195.0, 32.55], \n",
    "            [72.0, 210.0, 29.86], [72.0, 177.0, 29.58], [77.0, 220.0, 30.02], [77.0, 235.0, 29.16], \n",
    "            [71.0, 180.0, 22.3], [74.0, 195.0, 22.06], [74.0, 195.0, 25.65], [73.0, 190.0, 25.49], \n",
    "            [78.0, 230.0, 27.86], [75.0, 190.0, 23.73], [73.0, 200.0, 31.78], [70.0, 190.0, 23.06], \n",
    "            [74.0, 190.0, 26.6], [72.0, 200.0, 29.39], [73.0, 200.0, 26.51], [73.0, 184.0, 25.08], \n",
    "            [75.0, 200.0, 25.76], [75.0, 180.0, 22.52], [74.0, 219.0, 25.57], [76.0, 187.0, 25.43], \n",
    "            [73.0, 200.0, 34.65], [74.0, 220.0, 22.68], [75.0, 205.0, 21.46], [75.0, 190.0, 23.47], \n",
    "            [72.0, 170.0, 23.1], [73.0, 160.0, 29.14], [73.0, 215.0, 29.77], [72.0, 175.0, 23.85], \n",
    "            [74.0, 205.0, 28.88], [78.0, 200.0, 24.49], [76.0, 214.0, 25.19], [73.0, 200.0, 27.48],\n",
    "            [74.0, 190.0, 28.31], [75.0, 180.0, 26.54], [70.0, 205.0, 26.77], [75.0, 220.0, 23.75], \n",
    "            [71.0, 190.0, 26.41], [72.0, 215.0, 36.47], [78.0, 235.0, 26.06], [75.0, 191.0, 27.55], \n",
    "            [73.0, 200.0, 31.28], [73.0, 181.0, 29.04], [71.0, 200.0, 32.95], [75.0, 210.0, 26.65], \n",
    "            [77.0, 240.0, 27.5], [72.0, 185.0, 30.9], [69.0, 165.0, 29.09], [73.0, 190.0, 36.67], \n",
    "            [74.0, 185.0, 23.44], [72.0, 175.0, 29.09], [70.0, 155.0, 22.89], [75.0, 210.0, 25.48], \n",
    "            [70.0, 170.0, 25.84], [72.0, 175.0, 27.2], [72.0, 220.0, 25.22], [74.0, 210.0, 24.67], \n",
    "            [73.0, 205.0, 39.25], [74.0, 200.0, 32.17], [76.0, 205.0, 32.77], [75.0, 195.0, 29.83], \n",
    "            [80.0, 240.0, 31.02], [72.0, 150.0, 29.73], [75.0, 200.0, 28.48], [73.0, 215.0, 26.51], \n",
    "            [74.0, 202.0, 26.0], [74.0, 200.0, 23.36], [73.0, 190.0, 25.9], [75.0, 205.0, 28.5], \n",
    "            [75.0, 190.0, 25.62], [71.0, 160.0, 30.94], [73.0, 215.0, 26.59], [75.0, 185.0, 22.78], \n",
    "            [74.0, 200.0, 32.26], [74.0, 190.0, 30.35], [72.0, 210.0, 33.26], [74.0, 185.0, 32.35], \n",
    "            [74.0, 220.0, 27.3], [74.0, 190.0, 32.08], [73.0, 202.0, 25.25], [76.0, 205.0, 25.03], \n",
    "            [75.0, 220.0, 26.89], [72.0, 175.0, 24.69], [73.0, 160.0, 22.44], [73.0, 190.0, 30.36], \n",
    "            [73.0, 200.0, 26.27], [72.0, 229.0, 29.5], [72.0, 206.0, 29.75], [72.0, 220.0, 38.3], \n",
    "            [72.0, 180.0, 39.75], [71.0, 195.0, 32.84], [75.0, 175.0, 26.66], [75.0, 188.0, 24.94], \n",
    "            [74.0, 230.0, 27.76], [73.0, 190.0, 23.66], [75.0, 200.0, 24.96], [79.0, 190.0, 23.65], \n",
    "            [74.0, 219.0, 29.42], [76.0, 235.0, 32.18], [73.0, 180.0, 26.66], [74.0, 180.0, 27.47], \n",
    "            [74.0, 180.0, 25.66], [72.0, 200.0, 35.13], [74.0, 234.0, 31.15], [74.0, 185.0, 35.67], \n",
    "            [75.0, 220.0, 29.6], [78.0, 223.0, 30.14], [74.0, 200.0, 24.53], [74.0, 210.0, 24.49], \n",
    "            [74.0, 200.0, 26.28], [77.0, 210.0, 24.06], [70.0, 190.0, 35.88], [73.0, 177.0, 30.42], \n",
    "            [74.0, 227.0, 30.09], [73.0, 180.0, 26.5], [71.0, 195.0, 24.94], [75.0, 199.0, 29.6], \n",
    "            [71.0, 175.0, 32.43], [72.0, 185.0, 37.16], [77.0, 240.0, 30.57], [74.0, 210.0, 27.01], \n",
    "            [70.0, 180.0, 30.23], [77.0, 194.0, 26.03], [73.0, 225.0, 28.23], [72.0, 180.0, 25.21], \n",
    "            [76.0, 205.0, 25.45], [71.0, 193.0, 26.24], [76.0, 230.0, 30.15], [78.0, 230.0, 29.8], \n",
    "            [75.0, 220.0, 33.41], [73.0, 200.0, 30.95], [78.0, 249.0, 31.17], [74.0, 190.0, 30.95], \n",
    "            [79.0, 208.0, 29.44], [75.0, 245.0, 27.14], [76.0, 250.0, 26.21], [72.0, 160.0, 24.08], \n",
    "            [75.0, 192.0, 23.96], [75.0, 220.0, 24.94], [70.0, 170.0, 29.56], [72.0, 197.0, 26.42], \n",
    "            [70.0, 155.0, 23.92], [74.0, 190.0, 25.23], [71.0, 200.0, 35.82], [76.0, 220.0, 23.87], \n",
    "            [73.0, 210.0, 32.57], [76.0, 228.0, 25.79], [71.0, 190.0, 31.47], [69.0, 160.0, 22.61], \n",
    "            [72.0, 184.0, 24.85], [72.0, 180.0, 27.33], [69.0, 180.0, 26.67], [73.0, 200.0, 37.43], \n",
    "            [69.0, 176.0, 29.31], [73.0, 160.0, 29.85], [74.0, 222.0, 27.93], [74.0, 211.0, 31.62], \n",
    "            [72.0, 195.0, 30.55], [71.0, 200.0, 24.77], [72.0, 175.0, 33.77], [72.0, 206.0, 27.97], \n",
    "            [76.0, 240.0, 27.85], [76.0, 185.0, 23.26], [76.0, 260.0, 25.38], [74.0, 185.0, 23.35], \n",
    "            [76.0, 221.0, 25.45], [75.0, 205.0, 26.49], [71.0, 200.0, 24.0], [72.0, 170.0, 24.16], \n",
    "            [71.0, 201.0, 28.1], [73.0, 205.0, 25.65], [75.0, 185.0, 28.58], [76.0, 205.0, 32.27], \n",
    "            [75.0, 245.0, 29.86], [71.0, 220.0, 25.14], [75.0, 210.0, 23.03], [74.0, 220.0, 30.25], \n",
    "            [72.0, 185.0, 30.67], [73.0, 175.0, 27.73], [73.0, 170.0, 23.34], [73.0, 180.0, 25.94], \n",
    "            [73.0, 200.0, 31.56], [76.0, 210.0, 34.85], [72.0, 175.0, 23.98], [76.0, 220.0, 23.14], \n",
    "            [73.0, 206.0, 28.99], [73.0, 180.0, 25.02], [73.0, 210.0, 29.85], [75.0, 195.0, 27.03], \n",
    "            [75.0, 200.0, 25.15], [77.0, 200.0, 27.12], [73.0, 164.0, 31.63], [72.0, 180.0, 32.62], \n",
    "            [75.0, 220.0, 39.79], [70.0, 195.0, 34.47], [74.0, 205.0, 23.47], [72.0, 170.0, 25.31], \n",
    "            [80.0, 240.0, 27.1], [71.0, 210.0, 24.35], [71.0, 195.0, 23.45], [74.0, 200.0, 28.24], \n",
    "            [74.0, 205.0, 28.77], [73.0, 192.0, 26.53], [75.0, 190.0, 25.64], [76.0, 170.0, 25.83], \n",
    "            [73.0, 240.0, 38.06], [77.0, 200.0, 36.38], [72.0, 205.0, 25.27], [73.0, 175.0, 27.2], \n",
    "            [77.0, 250.0, 31.59], [76.0, 220.0, 29.56], [71.0, 224.0, 35.5], [75.0, 210.0, 30.35], \n",
    "            [73.0, 195.0, 24.11], [74.0, 180.0, 23.29], [77.0, 245.0, 31.48], [71.0, 175.0, 27.23], \n",
    "            [72.0, 180.0, 24.07], [73.0, 215.0, 28.68], [69.0, 175.0, 27.05], [73.0, 180.0, 31.15], \n",
    "            [70.0, 195.0, 31.85], [74.0, 230.0, 31.68], [76.0, 230.0, 34.23], [73.0, 205.0, 32.01], \n",
    "            [73.0, 215.0, 25.41], [75.0, 195.0, 24.73], [73.0, 180.0, 25.66], [79.0, 205.0, 24.5], \n",
    "            [74.0, 180.0, 24.38], [73.0, 190.0, 26.89], [74.0, 180.0, 24.2], [77.0, 190.0, 26.97], \n",
    "            [75.0, 190.0, 25.21], [74.0, 220.0, 30.46], [73.0, 210.0, 28.53], [77.0, 255.0, 25.75],\n",
    "            [73.0, 190.0, 31.15], [77.0, 230.0, 26.48], [74.0, 200.0, 26.93], [74.0, 205.0, 29.55], \n",
    "            [73.0, 210.0, 34.75], [77.0, 225.0, 29.71], [74.0, 215.0, 29.83], [77.0, 220.0, 33.57], \n",
    "            [75.0, 205.0, 28.21], [77.0, 200.0, 27.54], [75.0, 220.0, 26.05], [71.0, 197.0, 23.64], \n",
    "            [74.0, 225.0, 24.82], [70.0, 187.0, 29.8], [79.0, 245.0, 34.71], [72.0, 185.0, 29.22], \n",
    "            [72.0, 185.0, 23.96], [70.0, 175.0, 23.87], [74.0, 200.0, 26.77], [74.0, 180.0, 23.49], \n",
    "            [72.0, 188.0, 26.77], [73.0, 225.0, 24.51], [72.0, 200.0, 33.23], [74.0, 210.0, 31.04], \n",
    "            [74.0, 245.0, 32.02], [76.0, 213.0, 31.44], [82.0, 231.0, 43.47], [74.0, 165.0, 28.38], \n",
    "            [74.0, 228.0, 27.81], [70.0, 210.0, 24.57], [73.0, 250.0, 23.34], [73.0, 191.0, 27.09], \n",
    "            [74.0, 190.0, 25.14], [77.0, 200.0, 27.07], [72.0, 215.0, 24.02], [76.0, 254.0, 27.6], \n",
    "            [73.0, 232.0, 27.99], [73.0, 180.0, 27.56], [72.0, 215.0, 28.63], [74.0, 220.0, 30.99], \n",
    "            [74.0, 180.0, 26.33], [71.0, 200.0, 26.97], [72.0, 170.0, 22.85], [75.0, 195.0, 23.19], \n",
    "            [74.0, 210.0, 23.87], [74.0, 200.0, 33.98], [77.0, 220.0, 28.26], [70.0, 165.0, 29.12], \n",
    "            [71.0, 180.0, 26.18], [73.0, 200.0, 28.03], [76.0, 200.0, 23.08], [71.0, 170.0, 26.24], \n",
    "            [75.0, 224.0, 26.63], [74.0, 220.0, 24.21], [72.0, 180.0, 23.01], [76.0, 198.0, 23.13], \n",
    "            [79.0, 240.0, 23.08], [76.0, 239.0, 25.13], [73.0, 185.0, 24.66], [76.0, 210.0, 26.03], \n",
    "            [78.0, 220.0, 28.7], [75.0, 200.0, 25.57], [76.0, 195.0, 24.65], [72.0, 220.0, 25.55], \n",
    "            [72.0, 230.0, 22.27], [73.0, 170.0, 24.76], [73.0, 220.0, 23.98], [75.0, 230.0, 27.85], \n",
    "            [71.0, 165.0, 22.14], [76.0, 205.0, 27.05], [70.0, 192.0, 31.45], [75.0, 210.0, 32.03], \n",
    "            [74.0, 205.0, 29.95], [75.0, 200.0, 23.47], [73.0, 210.0, 37.21], [71.0, 185.0, 25.67], \n",
    "            [71.0, 195.0, 34.69], [72.0, 202.0, 30.04], [73.0, 205.0, 32.52], [73.0, 195.0, 24.15], \n",
    "            [72.0, 180.0, 26.86], [69.0, 200.0, 27.94], [73.0, 185.0, 26.63], [78.0, 240.0, 27.31], \n",
    "            [71.0, 185.0, 30.55], [73.0, 220.0, 40.68], [75.0, 205.0, 37.27], [76.0, 205.0, 25.78], \n",
    "            [70.0, 180.0, 30.98], [74.0, 201.0, 28.41], [77.0, 190.0, 30.01], [75.0, 208.0, 31.57], \n",
    "            [79.0, 240.0, 28.81], [72.0, 180.0, 24.09], [77.0, 230.0, 26.47], [73.0, 195.0, 30.5], \n",
    "            [75.0, 215.0, 23.74], [75.0, 190.0, 24.49], [75.0, 195.0, 26.73], [73.0, 215.0, 27.01], \n",
    "            [73.0, 215.0, 39.75], [76.0, 220.0, 27.16], [77.0, 220.0, 25.74], [75.0, 230.0, 37.43], \n",
    "            [70.0, 195.0, 39.85], [71.0, 190.0, 28.62], [71.0, 195.0, 23.9], [75.0, 209.0, 25.18], \n",
    "            [74.0, 204.0, 33.53], [69.0, 170.0, 33.03], [70.0, 185.0, 31.35], [75.0, 205.0, 22.39],\n",
    "            [72.0, 175.0, 27.99], [75.0, 210.0, 27.22], [73.0, 190.0, 27.49], [72.0, 180.0, 27.53], \n",
    "            [72.0, 180.0, 26.26], [72.0, 160.0, 25.18], [76.0, 235.0, 27.12], [75.0, 200.0, 27.69], \n",
    "            [74.0, 210.0, 25.69], [69.0, 180.0, 28.11], [73.0, 190.0, 31.21], [72.0, 197.0, 30.8], \n",
    "            [72.0, 203.0, 30.21], [75.0, 205.0, 28.06], [77.0, 170.0, 26.52], [76.0, 200.0, 23.1], \n",
    "            [80.0, 250.0, 25.02], [77.0, 200.0, 26.14], [76.0, 220.0, 25.38], [79.0, 200.0, 27.6], \n",
    "            [71.0, 190.0, 25.5], [75.0, 170.0, 24.24], [73.0, 190.0, 23.32], [76.0, 220.0, 31.56], \n",
    "            [77.0, 215.0, 34.19], [73.0, 206.0, 36.78], [76.0, 215.0, 27.73], [70.0, 185.0, 34.88], \n",
    "            [75.0, 235.0, 31.0], [73.0, 188.0, 48.52], [75.0, 230.0, 34.68], [70.0, 195.0, 37.38], \n",
    "            [69.0, 168.0, 24.33], [71.0, 190.0, 37.3], [72.0, 160.0, 23.72], [72.0, 200.0, 24.19], \n",
    "            [73.0, 200.0, 25.7], [70.0, 189.0, 29.06], [70.0, 180.0, 33.48], [73.0, 190.0, 29.85], \n",
    "            [76.0, 200.0, 34.3], [75.0, 220.0, 40.66], [72.0, 187.0, 21.9], [73.0, 240.0, 27.39], \n",
    "            [79.0, 190.0, 23.13], [71.0, 180.0, 35.35], [72.0, 185.0, 40.93], [74.0, 210.0, 33.67], \n",
    "            [74.0, 220.0, 37.39], [74.0, 219.0, 27.97], [72.0, 190.0, 25.54], [76.0, 193.0, 25.81], \n",
    "            [76.0, 175.0, 22.53], [72.0, 180.0, 22.86], [72.0, 215.0, 24.07], [71.0, 210.0, 29.5], \n",
    "            [72.0, 200.0, 30.03], [72.0, 190.0, 27.38], [70.0, 185.0, 30.51], [77.0, 220.0, 28.3], \n",
    "            [74.0, 170.0, 29.84], [72.0, 195.0, 33.41], [76.0, 205.0, 33.6], [71.0, 195.0, 35.6], \n",
    "            [76.0, 210.0, 24.19], [71.0, 190.0, 37.88], [73.0, 190.0, 27.56], [70.0, 180.0, 24.42], \n",
    "            [73.0, 220.0, 31.05], [73.0, 190.0, 31.56], [72.0, 186.0, 35.55], [71.0, 185.0, 41.21], \n",
    "            [71.0, 190.0, 27.12], [71.0, 180.0, 26.97], [72.0, 190.0, 28.92], [72.0, 170.0, 30.06], \n",
    "            [74.0, 210.0, 31.51], [74.0, 240.0, 30.69], [74.0, 220.0, 30.19], [71.0, 180.0, 38.11], \n",
    "            [72.0, 210.0, 28.68], [75.0, 210.0, 27.44], [72.0, 195.0, 24.63], [71.0, 160.0, 28.11], \n",
    "            [72.0, 180.0, 28.9], [72.0, 205.0, 24.11], [72.0, 200.0, 40.53], [72.0, 185.0, 29.5], \n",
    "            [74.0, 245.0, 28.62], [74.0, 190.0, 26.42], [77.0, 210.0, 30.18], [75.0, 200.0, 33.75], \n",
    "            [73.0, 200.0, 30.06], [75.0, 222.0, 29.22], [73.0, 215.0, 24.47], [76.0, 240.0, 24.94], \n",
    "            [72.0, 170.0, 28.77], [77.0, 220.0, 28.54], [75.0, 156.0, 27.32], [72.0, 190.0, 35.12], \n",
    "            [71.0, 202.0, 24.04], [71.0, 221.0, 36.39], [75.0, 200.0, 22.81], [72.0, 190.0, 33.6], \n",
    "            [73.0, 210.0, 38.98], [73.0, 190.0, 34.39], [71.0, 200.0, 33.15], [70.0, 165.0, 29.35], \n",
    "            [75.0, 190.0, 26.59], [71.0, 185.0, 23.46], [76.0, 230.0, 22.43], [73.0, 208.0, 24.89], \n",
    "            [68.0, 209.0, 24.67], [71.0, 175.0, 26.17], [72.0, 180.0, 29.54], [74.0, 200.0, 39.49], \n",
    "            [77.0, 205.0, 34.08], [72.0, 200.0, 30.52], [76.0, 250.0, 28.77], [78.0, 210.0, 33.75], \n",
    "            [81.0, 230.0, 32.69], [72.0, 244.0, 22.59], [73.0, 202.0, 37.04], [76.0, 240.0, 22.7], \n",
    "            [72.0, 200.0, 25.6], [72.0, 215.0, 27.23], [74.0, 177.0, 25.74], [76.0, 210.0, 30.29], \n",
    "            [73.0, 170.0, 26.72], [76.0, 215.0, 33.9], [75.0, 217.0, 29.86], [70.0, 198.0, 36.13], \n",
    "            [71.0, 200.0, 27.54], [74.0, 220.0, 31.49], [72.0, 170.0, 28.1], [73.0, 200.0, 34.07], \n",
    "            [76.0, 230.0, 27.28], [76.0, 231.0, 30.8], [73.0, 183.0, 28.2], [71.0, 192.0, 27.9], \n",
    "            [68.0, 167.0, 28.26], [71.0, 190.0, 30.96], [71.0, 180.0, 24.18], [74.0, 180.0, 27.52], \n",
    "            [77.0, 215.0, 27.78], [69.0, 160.0, 26.25], [72.0, 205.0, 29.5], [76.0, 223.0, 30.39], \n",
    "            [75.0, 175.0, 23.18], [76.0, 170.0, 25.81], [75.0, 190.0, 23.01], [76.0, 240.0, 31.72], \n",
    "            [72.0, 175.0, 44.28], [74.0, 230.0, 36.91], [76.0, 223.0, 26.54], [74.0, 196.0, 29.27], \n",
    "            [72.0, 167.0, 30.51], [75.0, 195.0, 31.28], [78.0, 190.0, 26.51], [77.0, 250.0, 34.87],\n",
    "            [70.0, 190.0, 39.28], [72.0, 190.0, 28.56], [79.0, 190.0, 27.82], [74.0, 170.0, 25.94], \n",
    "            [71.0, 160.0, 28.53], [68.0, 150.0, 22.11], [77.0, 225.0, 27.71], [75.0, 220.0, 37.38], \n",
    "            [71.0, 209.0, 30.67], [72.0, 210.0, 30.48], [70.0, 176.0, 27.12], [72.0, 260.0, 22.81], \n",
    "            [72.0, 195.0, 24.46], [73.0, 190.0, 34.73], [72.0, 184.0, 36.53], [74.0, 180.0, 24.53], \n",
    "            [72.0, 195.0, 27.17], [72.0, 195.0, 26.9], [75.0, 219.0, 33.67], [72.0, 225.0, 29.14], \n",
    "            [73.0, 212.0, 32.61], [74.0, 202.0, 33.87], [72.0, 185.0, 24.41], [78.0, 200.0, 24.94], \n",
    "            [75.0, 209.0, 27.36], [72.0, 200.0, 26.33], [74.0, 195.0, 25.72], [75.0, 228.0, 28.7], \n",
    "            [75.0, 210.0, 28.53], [76.0, 190.0, 26.07], [74.0, 212.0, 27.31], [74.0, 190.0, 23.26], \n",
    "            [73.0, 218.0, 28.62], [74.0, 220.0, 32.16], [71.0, 190.0, 38.43], [74.0, 235.0, 31.81], \n",
    "            [75.0, 210.0, 29.1], [76.0, 200.0, 31.28], [74.0, 188.0, 29.17], [76.0, 210.0, 25.89], \n",
    "            [76.0, 235.0, 26.13], [73.0, 188.0, 29.13], [75.0, 215.0, 28.92], [75.0, 216.0, 26.01], \n",
    "            [74.0, 220.0, 24.81], [68.0, 180.0, 28.79], [72.0, 185.0, 33.77], [75.0, 200.0, 33.85], \n",
    "            [71.0, 210.0, 27.36], [70.0, 220.0, 26.01], [72.0, 185.0, 29.95], [73.0, 231.0, 28.12], \n",
    "            [72.0, 210.0, 32.87], [75.0, 195.0, 31.2], [74.0, 200.0, 34.14], [70.0, 205.0, 36.11], \n",
    "            [76.0, 200.0, 26.31], [71.0, 190.0, 27.5], [82.0, 250.0, 27.77], [72.0, 185.0, 40.88], \n",
    "            [73.0, 180.0, 25.75], [74.0, 170.0, 31.41], [71.0, 180.0, 30.84], [75.0, 208.0, 30.57], \n",
    "            [77.0, 235.0, 39.79], [72.0, 215.0, 39.38], [74.0, 244.0, 29.42], [72.0, 220.0, 26.19], \n",
    "            [73.0, 185.0, 23.74], [78.0, 230.0, 26.03], [77.0, 190.0, 28.59], [73.0, 200.0, 26.77], \n",
    "            [73.0, 180.0, 27.21], [73.0, 190.0, 24.87], [73.0, 196.0, 30.26], [73.0, 180.0, 22.34], \n",
    "            [76.0, 230.0, 26.2], [75.0, 224.0, 28.45], [70.0, 160.0, 27.63], [73.0, 178.0, 25.93], \n",
    "            [72.0, 205.0, 28.94], [73.0, 185.0, 26.8], [75.0, 210.0, 22.42], [74.0, 180.0, 27.26], \n",
    "            [73.0, 190.0, 28.38], [73.0, 200.0, 25.23], [76.0, 257.0, 28.16], [73.0, 190.0, 28.48], \n",
    "            [75.0, 220.0, 26.78], [70.0, 165.0, 25.24], [77.0, 205.0, 27.45], [72.0, 200.0, 29.05], \n",
    "            [77.0, 208.0, 29.08], [74.0, 185.0, 25.84], [75.0, 215.0, 25.4], [75.0, 170.0, 26.54], \n",
    "            [75.0, 235.0, 22.73], [75.0, 210.0, 28.53], [72.0, 170.0, 25.37], [74.0, 180.0, 25.35],\n",
    "            [71.0, 170.0, 26.43], [76.0, 190.0, 25.43], [71.0, 150.0, 29.23], [75.0, 230.0, 30.22], \n",
    "            [76.0, 203.0, 32.3], [83.0, 260.0, 28.42], [75.0, 246.0, 25.24], [74.0, 186.0, 29.13], \n",
    "            [76.0, 210.0, 24.63], [72.0, 198.0, 24.95], [72.0, 210.0, 28.06], [75.0, 215.0, 25.86], \n",
    "            [75.0, 180.0, 27.32], [72.0, 200.0, 25.91], [77.0, 245.0, 26.63], [73.0, 200.0, 25.95], \n",
    "            [72.0, 192.0, 29.17], [70.0, 192.0, 29.19], [74.0, 200.0, 28.44], [72.0, 192.0, 26.36], \n",
    "            [74.0, 205.0, 28.29], [72.0, 190.0, 29.45], [71.0, 186.0, 25.34], [70.0, 170.0, 26.86], \n",
    "            [71.0, 197.0, 26.36], [76.0, 219.0, 27.39], [74.0, 200.0, 25.84], [76.0, 220.0, 25.08], \n",
    "            [74.0, 207.0, 23.87], [74.0, 225.0, 24.68], [74.0, 207.0, 24.64], [75.0, 212.0, 29.19], \n",
    "            [75.0, 225.0, 28.84], [71.0, 170.0, 25.33], [71.0, 190.0, 24.45], [74.0, 210.0, 28.32], \n",
    "            [77.0, 230.0, 32.34], [71.0, 210.0, 34.97], [74.0, 200.0, 32.04], [75.0, 238.0, 23.49], \n",
    "            [77.0, 234.0, 26.09], [76.0, 222.0, 26.41], [74.0, 200.0, 26.55], [76.0, 190.0, 24.62], \n",
    "            [72.0, 170.0, 28.49], [71.0, 220.0, 32.61], [72.0, 223.0, 28.06], [75.0, 210.0, 28.08], \n",
    "            [73.0, 215.0, 37.34], [68.0, 196.0, 35.25], [72.0, 175.0, 24.77], [69.0, 175.0, 39.85], \n",
    "            [73.0, 189.0, 35.49], [73.0, 205.0, 31.84], [75.0, 210.0, 26.67], [70.0, 180.0, 34.75], \n",
    "            [70.0, 180.0, 28.91], [74.0, 197.0, 32.73], [75.0, 220.0, 35.72], [74.0, 228.0, 42.6], \n",
    "            [74.0, 190.0, 26.22], [73.0, 204.0, 21.85], [74.0, 165.0, 24.28], [75.0, 216.0, 22.41],\n",
    "            [77.0, 220.0, 32.56], [73.0, 208.0, 32.74], [74.0, 210.0, 26.39], [76.0, 215.0, 28.8], \n",
    "            [74.0, 195.0, 28.2], [75.0, 200.0, 26.52], [73.0, 215.0, 34.52], [76.0, 229.0, 34.32], \n",
    "            [78.0, 240.0, 26.98], [75.0, 207.0, 28.86], [73.0, 205.0, 24.96], [77.0, 208.0, 25.3], \n",
    "            [74.0, 185.0, 27.06], [72.0, 190.0, 25.44], [74.0, 170.0, 25.53], [72.0, 208.0, 34.87], \n",
    "            [71.0, 225.0, 24.63], [73.0, 190.0, 27.99], [75.0, 225.0, 27.12], [73.0, 185.0, 31.14], \n",
    "            [67.0, 180.0, 30.21], [67.0, 165.0, 32.11], [76.0, 240.0, 31.91], [74.0, 220.0, 34.44], \n",
    "            [73.0, 212.0, 36.68], [70.0, 163.0, 37.66], [75.0, 215.0, 30.98], [70.0, 175.0, 27.07], \n",
    "            [72.0, 205.0, 29.11], [77.0, 210.0, 25.82], [79.0, 205.0, 25.5], [78.0, 208.0, 29.57]]\n",
    "\n",
    "\n",
    "# baseball is available as a regular list of lists\n",
    "# updated is available as 2D numpy array\n",
    "\n",
    "# Import numpy package\n",
    "import numpy as np\n",
    "\n",
    "# Create np_baseball (3 cols)\n",
    "np_baseball = np.array(baseball)\n",
    "\n",
    "# Print out addition of np_baseball and updated\n",
    "print(np_baseball)\n",
    "\n",
    "# Create numpy array: conversion\n",
    "conversion = np.array([0.0254, 0.453592, 1])\n",
    "\n",
    "# Print out product of np_baseball and conversion\n",
    "print(np_baseball * conversion)"
   ]
  },
  {
   "cell_type": "markdown",
   "id": "b68475a2-4f43-4e35-be9a-228eaf310531",
   "metadata": {},
   "source": [
    "## Numpy: Basic Statistics\n",
    "\n",
    "\n",
    "# **A typical first step in analyzing your data is getting to know your data in the first place.  For the NumPy array from before, this is pretty easy, because it isnt a lot of data.  However as a data scientist, you'll be cruching thousands, if not millions or billions of numbers.  \n",
    "\n",
    "**Image you conduct a city-wide survey where you ask 5000 adults about they height and weight.  You end up with something like this: a 2D numpy array, which I namaed np_city, that has 5000 rows corresponding  to the people, and two columns corresponding to the height and weight.  \n",
    "\n",
    "**Simply staring at these numbers like a zombie wont give you any insights.  What you can do, though, is generate summarizing statistics about your data.  Aside from an efficient data structure for number crunching, it happens that NumPy is also good at doing these kind of things.  \n",
    "\n",
    "\n",
    "# *****************************************************************************************************\n",
    "# *****************************************************************************************************\n",
    "# *****************************************************************************************************\n",
    "\n",
    "# **For starters, you can try to find out the average height of these 5000 people with NumPy's mean function.  But don't forget to do a subsetting operation to get the height column from 2D array.  \n",
    "\n",
    "**What about the median height?  This is the height of the middle person if you sort all person from small to tall.  Instead of writting complicated Python code to figure this out, you can simply use NumPy's median function.  \n",
    "\n",
    "**Often, these summarizing statistics will provide you with a Sanity Check of your data.  If you end up with a arerage weight of 2000 kilograms, your measurements are probably incorrect.  \n",
    "\n",
    "**Apart from mean and median, there are also other functions like corrcoeff to check if for example height and weight are correlated.  And std for stand deviation.  "
   ]
  },
  {
   "cell_type": "markdown",
   "id": "6b9b3d7f-1b94-4348-ab72-af5e46bce458",
   "metadata": {},
   "source": [
    "# We should think NumPy array simply as a new kind of Python type, like the float, string, and list.  This means that it comes with its own methods, which can behave differently as you expect.  \n",
    "\n",
    "* Remember that the method has round brackets fater them and you can see here, the attribute do not. \n",
    "\n",
    "\n",
    "\n",
    "# We are calling string object upper() method"
   ]
  },
  {
   "cell_type": "code",
   "execution_count": 58,
   "id": "7cac5ed4-9891-4791-9417-e0c12218c57d",
   "metadata": {},
   "outputs": [
    {
     "name": "stdout",
     "output_type": "stream",
     "text": [
      "['__add__', '__class__', '__contains__', '__delattr__', '__dir__', '__doc__', '__eq__', '__format__', '__ge__', '__getattribute__', '__getitem__', '__getnewargs__', '__gt__', '__hash__', '__init__', '__init_subclass__', '__iter__', '__le__', '__len__', '__lt__', '__mod__', '__mul__', '__ne__', '__new__', '__reduce__', '__reduce_ex__', '__repr__', '__rmod__', '__rmul__', '__setattr__', '__sizeof__', '__str__', '__subclasshook__', 'capitalize', 'casefold', 'center', 'count', 'encode', 'endswith', 'expandtabs', 'find', 'format', 'format_map', 'index', 'isalnum', 'isalpha', 'isascii', 'isdecimal', 'isdigit', 'isidentifier', 'islower', 'isnumeric', 'isprintable', 'isspace', 'istitle', 'isupper', 'join', 'ljust', 'lower', 'lstrip', 'maketrans', 'partition', 'removeprefix', 'removesuffix', 'replace', 'rfind', 'rindex', 'rjust', 'rpartition', 'rsplit', 'rstrip', 'split', 'splitlines', 'startswith', 'strip', 'swapcase', 'title', 'translate', 'upper', 'zfill']\n",
      "HELLO WORLD\n"
     ]
    }
   ],
   "source": [
    "str1 = 'hello world'\n",
    "\n",
    "print(dir(str1))\n",
    "\n",
    "print(str1.upper())   # We are calling string object upper() method"
   ]
  },
  {
   "cell_type": "markdown",
   "id": "9d4bc5f9-6a81-4949-96f1-93589ff456e7",
   "metadata": {},
   "source": [
    "# **You can think packages as a directory of Python scripts.  Each script is so-called module.  \n",
    "**These modules specify functions, methods and new Python types aimed at solving particular problems.  \n",
    "\n",
    "\n",
    "**To use the package, we use import statement to import package or a specific module of the package, a commonly used function in Numpy is array, it takes a list as input.  The Numpy array is very useful to do data science.  \n",
    "\n",
    "\n",
    "\n",
    "\n",
    "\n",
    "basket_w_h = [[65.4, 59.2, 63.6, 88.4, 68.7],\n",
    "                  [1.73, 1.68, 1.71, 1.98, 1.79]]\n",
    "\n",
    "np_basket_w_h = np.array(basket_w_h)\n",
    "\n",
    "print(type(np_basket_w_h))\n",
    "print(np_basket_w_h.std())\n",
    "print(dir(np_basket_w_h))\n",
    "\n",
    "\n",
    "# *************************************************************************************************** #\n",
    "# The std here after we ran dir(), is the NumPy array associated method\n",
    "# Whereas the np.std() is the NumPy package provided function"
   ]
  },
  {
   "cell_type": "code",
   "execution_count": 61,
   "id": "0724b71c-7bcb-4716-81fe-854508194935",
   "metadata": {},
   "outputs": [
    {
     "name": "stdout",
     "output_type": "stream",
     "text": [
      "<class 'numpy.ndarray'>\n",
      "34.397410207746745\n",
      "['T', '__abs__', '__add__', '__and__', '__array__', '__array_finalize__', '__array_function__', '__array_interface__', '__array_prepare__', '__array_priority__', '__array_struct__', '__array_ufunc__', '__array_wrap__', '__bool__', '__class__', '__complex__', '__contains__', '__copy__', '__deepcopy__', '__delattr__', '__delitem__', '__dir__', '__divmod__', '__doc__', '__eq__', '__float__', '__floordiv__', '__format__', '__ge__', '__getattribute__', '__getitem__', '__gt__', '__hash__', '__iadd__', '__iand__', '__ifloordiv__', '__ilshift__', '__imatmul__', '__imod__', '__imul__', '__index__', '__init__', '__init_subclass__', '__int__', '__invert__', '__ior__', '__ipow__', '__irshift__', '__isub__', '__iter__', '__itruediv__', '__ixor__', '__le__', '__len__', '__lshift__', '__lt__', '__matmul__', '__mod__', '__mul__', '__ne__', '__neg__', '__new__', '__or__', '__pos__', '__pow__', '__radd__', '__rand__', '__rdivmod__', '__reduce__', '__reduce_ex__', '__repr__', '__rfloordiv__', '__rlshift__', '__rmatmul__', '__rmod__', '__rmul__', '__ror__', '__rpow__', '__rrshift__', '__rshift__', '__rsub__', '__rtruediv__', '__rxor__', '__setattr__', '__setitem__', '__setstate__', '__sizeof__', '__str__', '__sub__', '__subclasshook__', '__truediv__', '__xor__', 'all', 'any', 'argmax', 'argmin', 'argpartition', 'argsort', 'astype', 'base', 'byteswap', 'choose', 'clip', 'compress', 'conj', 'conjugate', 'copy', 'ctypes', 'cumprod', 'cumsum', 'data', 'diagonal', 'dot', 'dtype', 'dump', 'dumps', 'fill', 'flags', 'flat', 'flatten', 'getfield', 'imag', 'item', 'itemset', 'itemsize', 'max', 'mean', 'min', 'nbytes', 'ndim', 'newbyteorder', 'nonzero', 'partition', 'prod', 'ptp', 'put', 'ravel', 'real', 'repeat', 'reshape', 'resize', 'round', 'searchsorted', 'setfield', 'setflags', 'shape', 'size', 'sort', 'squeeze', 'std', 'strides', 'sum', 'swapaxes', 'take', 'tobytes', 'tofile', 'tolist', 'tostring', 'trace', 'transpose', 'var', 'view']\n"
     ]
    }
   ],
   "source": [
    "basket_w_h = [[65.4, 59.2, 63.6, 88.4, 68.7],\n",
    "                  [1.73, 1.68, 1.71, 1.98, 1.79]]\n",
    "\n",
    "np_basket_w_h = np.array(basket_w_h)\n",
    "\n",
    "print(type(np_basket_w_h))\n",
    "print(np_basket_w_h.std())\n",
    "print(dir(np_basket_w_h))"
   ]
  },
  {
   "cell_type": "code",
   "execution_count": 48,
   "id": "1f588dca-e051-420c-9693-0847ad8f5954",
   "metadata": {},
   "outputs": [
    {
     "name": "stdout",
     "output_type": "stream",
     "text": [
      "73.681\n",
      "201.348\n",
      "200.0\n",
      "[[1.         0.53148333]\n",
      " [0.53148333 1.        ]]\n",
      "2.3167302389359015\n",
      "<class 'numpy.ndarray'>\n",
      "2.3167302389359015\n"
     ]
    }
   ],
   "source": [
    "import numpy as np\n",
    "\n",
    "np_baseball = np.array(baseball)\n",
    "\n",
    "\n",
    "avg_weight = np.mean(np_baseball[:,0])\n",
    "print(avg_weight)\n",
    "\n",
    "avg_height = np.mean(np_baseball[:,1])\n",
    "print(avg_height)\n",
    "\n",
    "median_height = np.median(np_baseball[:, 1])\n",
    "print(median_height)\n",
    "\n",
    "print(np.corrcoef(np_baseball[:,0], np_baseball[:,1]))\n",
    "\n",
    "print(np.std(np_baseball[:, 0]))\n",
    "\n",
    "#print(np_baseball[:, 1].np.std())   # AttributeError: 'numpy.ndarray' object has no attribute 'np'\n",
    "\n",
    "print(type(np_baseball[:,0]))\n",
    "print(np_baseball[:,0].std())   # Call the std() method of NumPy array object\n",
    "# *************************************************************************************************** #"
   ]
  },
  {
   "cell_type": "markdown",
   "id": "3b25a5e9-13c4-4e65-b07e-c5dbfb3b42bf",
   "metadata": {},
   "source": [
    "# dir() is a powerful inbuilt function in Python3, which returns list of the attributes and methods of any object (say functions , modules, strings, lists, dictionaries etc.)\n",
    "\n",
    "\n",
    "# *****************************************************************************************************\n",
    "# *****************************************************************************************************\n",
    "# *****************************************************************************************************\n",
    "\n",
    "\n",
    "# Syntax : \n",
    "dir({object})"
   ]
  },
  {
   "cell_type": "code",
   "execution_count": 36,
   "id": "c6c49964-d7ea-4940-8409-0ed428656c0a",
   "metadata": {},
   "outputs": [
    {
     "name": "stdout",
     "output_type": "stream",
     "text": [
      "['T', '__abs__', '__add__', '__and__', '__array__', '__array_finalize__', '__array_function__', '__array_interface__', '__array_prepare__', '__array_priority__', '__array_struct__', '__array_ufunc__', '__array_wrap__', '__bool__', '__class__', '__complex__', '__contains__', '__copy__', '__deepcopy__', '__delattr__', '__delitem__', '__dir__', '__divmod__', '__doc__', '__eq__', '__float__', '__floordiv__', '__format__', '__ge__', '__getattribute__', '__getitem__', '__gt__', '__hash__', '__iadd__', '__iand__', '__ifloordiv__', '__ilshift__', '__imatmul__', '__imod__', '__imul__', '__index__', '__init__', '__init_subclass__', '__int__', '__invert__', '__ior__', '__ipow__', '__irshift__', '__isub__', '__iter__', '__itruediv__', '__ixor__', '__le__', '__len__', '__lshift__', '__lt__', '__matmul__', '__mod__', '__mul__', '__ne__', '__neg__', '__new__', '__or__', '__pos__', '__pow__', '__radd__', '__rand__', '__rdivmod__', '__reduce__', '__reduce_ex__', '__repr__', '__rfloordiv__', '__rlshift__', '__rmatmul__', '__rmod__', '__rmul__', '__ror__', '__rpow__', '__rrshift__', '__rshift__', '__rsub__', '__rtruediv__', '__rxor__', '__setattr__', '__setitem__', '__setstate__', '__sizeof__', '__str__', '__sub__', '__subclasshook__', '__truediv__', '__xor__', 'all', 'any', 'argmax', 'argmin', 'argpartition', 'argsort', 'astype', 'base', 'byteswap', 'choose', 'clip', 'compress', 'conj', 'conjugate', 'copy', 'ctypes', 'cumprod', 'cumsum', 'data', 'diagonal', 'dot', 'dtype', 'dump', 'dumps', 'fill', 'flags', 'flat', 'flatten', 'getfield', 'imag', 'item', 'itemset', 'itemsize', 'max', 'mean', 'min', 'nbytes', 'ndim', 'newbyteorder', 'nonzero', 'partition', 'prod', 'ptp', 'put', 'ravel', 'real', 'repeat', 'reshape', 'resize', 'round', 'searchsorted', 'setfield', 'setflags', 'shape', 'size', 'sort', 'squeeze', 'std', 'strides', 'sum', 'swapaxes', 'take', 'tobytes', 'tofile', 'tolist', 'tostring', 'trace', 'transpose', 'var', 'view']\n"
     ]
    }
   ],
   "source": [
    "# To call the method, you use the dot notation, the only input is the element you want to get \n",
    "# the index for.  You can call methods on the objects with dot notation\n",
    "\n",
    "# *************************************************************************************************** #\n",
    "# IN addition to this, Python objects also some with a bunch of so-called methods.  \n",
    "# You can think of methods as functions that belong to Python objects.  \n",
    "# *************************************************************************************************** #\n",
    "\n",
    "\n",
    "\n",
    "print(dir(np_baseball))"
   ]
  },
  {
   "cell_type": "code",
   "execution_count": 38,
   "id": "54e0fa99-fb66-4dea-bd93-96ca51fd4bee",
   "metadata": {},
   "outputs": [
    {
     "name": "stdout",
     "output_type": "stream",
     "text": [
      "['__call__', '__class__', '__delattr__', '__dir__', '__doc__', '__eq__', '__format__', '__ge__', '__getattribute__', '__gt__', '__hash__', '__init__', '__init_subclass__', '__le__', '__lt__', '__module__', '__name__', '__ne__', '__new__', '__qualname__', '__reduce__', '__reduce_ex__', '__repr__', '__self__', '__setattr__', '__sizeof__', '__str__', '__subclasshook__', '__text_signature__']\n"
     ]
    }
   ],
   "source": [
    "print(dir(np.array))"
   ]
  },
  {
   "cell_type": "code",
   "execution_count": 66,
   "id": "5438406e-b787-450b-a7a1-f12a69e2da95",
   "metadata": {},
   "outputs": [
    {
     "data": {
      "text/plain": [
       "3"
      ]
     },
     "execution_count": 66,
     "metadata": {},
     "output_type": "execute_result"
    }
   ],
   "source": [
    "# To call the method, you use the dot notation, the only input is the element you want to get \n",
    "# the index for.  You can call methods on the objects with dot notation\n",
    "\n",
    "\n",
    "str1 = \"hello world\"\n",
    "\n",
    "str1.count('l')"
   ]
  },
  {
   "cell_type": "markdown",
   "id": "4cbdefc9-43f8-44a2-b1aa-82ed0f2ec196",
   "metadata": {},
   "source": [
    "## NumPy also features more basic functions, such as sum and sort, which is also exist in the basic Python distribution.  However, the big difference here is SPEED.  Because NumPy enforces a single data type in an array, it can drastically speed up the calculations.  Just a side note here, if youre wondering how we come up with the data in this video.  We simulated it with NumPy functions.  \n",
    "\n",
    "# We sampled two random distribution 5000 times to create the height and weight arrays, and then used column_stack to paste them together as two columns.  "
   ]
  },
  {
   "cell_type": "code",
   "execution_count": 68,
   "id": "bed22ba9-fc3d-448f-8ffa-676d47d25042",
   "metadata": {},
   "outputs": [
    {
     "name": "stdout",
     "output_type": "stream",
     "text": [
      "[[ 1.9  60.19]\n",
      " [ 1.66 44.8 ]\n",
      " [ 2.   42.  ]\n",
      " ...\n",
      " [ 2.05 48.8 ]\n",
      " [ 1.73 74.  ]\n",
      " [ 1.8  62.24]]\n"
     ]
    }
   ],
   "source": [
    "import numpy as np\n",
    "\n",
    "height = np.round(np.random.normal(1.75, 0.20, 5000),2)\n",
    "weight = np.round(np.random.normal(60.32, 15, 5000),2)\n",
    "\n",
    "np_city = np.column_stack((height, weight))\n",
    "\n",
    "\n",
    "print(np_city)"
   ]
  },
  {
   "cell_type": "code",
   "execution_count": 74,
   "id": "78fe7246-febf-41fa-9737-90da38d35dd8",
   "metadata": {},
   "outputs": [
    {
     "name": "stdout",
     "output_type": "stream",
     "text": [
      "['ALLOW_THREADS', 'AxisError', 'BUFSIZE', 'Bytes0', 'CLIP', 'ComplexWarning', 'DataSource', 'Datetime64', 'ERR_CALL', 'ERR_DEFAULT', 'ERR_IGNORE', 'ERR_LOG', 'ERR_PRINT', 'ERR_RAISE', 'ERR_WARN', 'FLOATING_POINT_SUPPORT', 'FPE_DIVIDEBYZERO', 'FPE_INVALID', 'FPE_OVERFLOW', 'FPE_UNDERFLOW', 'False_', 'Inf', 'Infinity', 'MAXDIMS', 'MAY_SHARE_BOUNDS', 'MAY_SHARE_EXACT', 'MachAr', 'ModuleDeprecationWarning', 'NAN', 'NINF', 'NZERO', 'NaN', 'PINF', 'PZERO', 'RAISE', 'RankWarning', 'SHIFT_DIVIDEBYZERO', 'SHIFT_INVALID', 'SHIFT_OVERFLOW', 'SHIFT_UNDERFLOW', 'ScalarType', 'Str0', 'Tester', 'TooHardError', 'True_', 'UFUNC_BUFSIZE_DEFAULT', 'UFUNC_PYVALS_NAME', 'Uint64', 'VisibleDeprecationWarning', 'WRAP', '_NoValue', '_UFUNC_API', '__NUMPY_SETUP__', '__all__', '__builtins__', '__cached__', '__config__', '__deprecated_attrs__', '__dir__', '__doc__', '__expired_functions__', '__file__', '__getattr__', '__git_version__', '__loader__', '__name__', '__package__', '__path__', '__spec__', '__version__', '_add_newdoc_ufunc', '_distributor_init', '_financial_names', '_globals', '_mat', '_pytesttester', '_version', 'abs', 'absolute', 'add', 'add_docstring', 'add_newdoc', 'add_newdoc_ufunc', 'alen', 'all', 'allclose', 'alltrue', 'amax', 'amin', 'angle', 'any', 'append', 'apply_along_axis', 'apply_over_axes', 'arange', 'arccos', 'arccosh', 'arcsin', 'arcsinh', 'arctan', 'arctan2', 'arctanh', 'argmax', 'argmin', 'argpartition', 'argsort', 'argwhere', 'around', 'array', 'array2string', 'array_equal', 'array_equiv', 'array_repr', 'array_split', 'array_str', 'asanyarray', 'asarray', 'asarray_chkfinite', 'ascontiguousarray', 'asfarray', 'asfortranarray', 'asmatrix', 'asscalar', 'atleast_1d', 'atleast_2d', 'atleast_3d', 'average', 'bartlett', 'base_repr', 'binary_repr', 'bincount', 'bitwise_and', 'bitwise_not', 'bitwise_or', 'bitwise_xor', 'blackman', 'block', 'bmat', 'bool8', 'bool_', 'broadcast', 'broadcast_arrays', 'broadcast_shapes', 'broadcast_to', 'busday_count', 'busday_offset', 'busdaycalendar', 'byte', 'byte_bounds', 'bytes0', 'bytes_', 'c_', 'can_cast', 'cast', 'cbrt', 'cdouble', 'ceil', 'cfloat', 'char', 'character', 'chararray', 'choose', 'clip', 'clongdouble', 'clongfloat', 'column_stack', 'common_type', 'compare_chararrays', 'compat', 'complex128', 'complex256', 'complex64', 'complex_', 'complexfloating', 'compress', 'concatenate', 'conj', 'conjugate', 'convolve', 'copy', 'copysign', 'copyto', 'core', 'corrcoef', 'correlate', 'cos', 'cosh', 'count_nonzero', 'cov', 'cross', 'csingle', 'ctypeslib', 'cumprod', 'cumproduct', 'cumsum', 'datetime64', 'datetime_as_string', 'datetime_data', 'deg2rad', 'degrees', 'delete', 'deprecate', 'deprecate_with_doc', 'diag', 'diag_indices', 'diag_indices_from', 'diagflat', 'diagonal', 'diff', 'digitize', 'disp', 'divide', 'divmod', 'dot', 'double', 'dsplit', 'dstack', 'dtype', 'e', 'ediff1d', 'einsum', 'einsum_path', 'emath', 'empty', 'empty_like', 'equal', 'errstate', 'euler_gamma', 'exp', 'exp2', 'expand_dims', 'expm1', 'extract', 'eye', 'fabs', 'fastCopyAndTranspose', 'fft', 'fill_diagonal', 'find_common_type', 'finfo', 'fix', 'flatiter', 'flatnonzero', 'flexible', 'flip', 'fliplr', 'flipud', 'float128', 'float16', 'float32', 'float64', 'float_', 'float_power', 'floating', 'floor', 'floor_divide', 'fmax', 'fmin', 'fmod', 'format_float_positional', 'format_float_scientific', 'format_parser', 'frexp', 'frombuffer', 'fromfile', 'fromfunction', 'fromiter', 'frompyfunc', 'fromregex', 'fromstring', 'full', 'full_like', 'gcd', 'generic', 'genfromtxt', 'geomspace', 'get_array_wrap', 'get_include', 'get_printoptions', 'getbufsize', 'geterr', 'geterrcall', 'geterrobj', 'gradient', 'greater', 'greater_equal', 'half', 'hamming', 'hanning', 'heaviside', 'histogram', 'histogram2d', 'histogram_bin_edges', 'histogramdd', 'hsplit', 'hstack', 'hypot', 'i0', 'identity', 'iinfo', 'imag', 'in1d', 'index_exp', 'indices', 'inexact', 'inf', 'info', 'infty', 'inner', 'insert', 'int0', 'int16', 'int32', 'int64', 'int8', 'int_', 'intc', 'integer', 'interp', 'intersect1d', 'intp', 'invert', 'is_busday', 'isclose', 'iscomplex', 'iscomplexobj', 'isfinite', 'isfortran', 'isin', 'isinf', 'isnan', 'isnat', 'isneginf', 'isposinf', 'isreal', 'isrealobj', 'isscalar', 'issctype', 'issubclass_', 'issubdtype', 'issubsctype', 'iterable', 'ix_', 'kaiser', 'kernel_version', 'kron', 'lcm', 'ldexp', 'left_shift', 'less', 'less_equal', 'lexsort', 'lib', 'linalg', 'linspace', 'little_endian', 'load', 'loads', 'loadtxt', 'log', 'log10', 'log1p', 'log2', 'logaddexp', 'logaddexp2', 'logical_and', 'logical_not', 'logical_or', 'logical_xor', 'logspace', 'longcomplex', 'longdouble', 'longfloat', 'longlong', 'lookfor', 'ma', 'mafromtxt', 'mask_indices', 'mat', 'math', 'matmul', 'matrix', 'matrixlib', 'max', 'maximum', 'maximum_sctype', 'may_share_memory', 'mean', 'median', 'memmap', 'meshgrid', 'mgrid', 'min', 'min_scalar_type', 'minimum', 'mintypecode', 'mod', 'modf', 'moveaxis', 'msort', 'multiply', 'nan', 'nan_to_num', 'nanargmax', 'nanargmin', 'nancumprod', 'nancumsum', 'nanmax', 'nanmean', 'nanmedian', 'nanmin', 'nanpercentile', 'nanprod', 'nanquantile', 'nanstd', 'nansum', 'nanvar', 'nbytes', 'ndarray', 'ndenumerate', 'ndfromtxt', 'ndim', 'ndindex', 'nditer', 'negative', 'nested_iters', 'newaxis', 'nextafter', 'nonzero', 'not_equal', 'numarray', 'number', 'obj2sctype', 'object0', 'object_', 'ogrid', 'oldnumeric', 'ones', 'ones_like', 'os', 'outer', 'packbits', 'pad', 'partition', 'percentile', 'pi', 'piecewise', 'place', 'poly', 'poly1d', 'polyadd', 'polyder', 'polydiv', 'polyfit', 'polyint', 'polymul', 'polynomial', 'polysub', 'polyval', 'positive', 'power', 'printoptions', 'prod', 'product', 'promote_types', 'ptp', 'put', 'put_along_axis', 'putmask', 'quantile', 'r_', 'rad2deg', 'radians', 'random', 'ravel', 'ravel_multi_index', 'real', 'real_if_close', 'rec', 'recarray', 'recfromcsv', 'recfromtxt', 'reciprocal', 'record', 'remainder', 'repeat', 'require', 'reshape', 'resize', 'result_type', 'right_shift', 'rint', 'roll', 'rollaxis', 'roots', 'rot90', 'round', 'round_', 'row_stack', 's_', 'safe_eval', 'save', 'savetxt', 'savez', 'savez_compressed', 'sctype2char', 'sctypeDict', 'sctypes', 'searchsorted', 'select', 'set_numeric_ops', 'set_printoptions', 'set_string_function', 'setbufsize', 'setdiff1d', 'seterr', 'seterrcall', 'seterrobj', 'setxor1d', 'shape', 'shares_memory', 'short', 'show_config', 'sign', 'signbit', 'signedinteger', 'sin', 'sinc', 'single', 'singlecomplex', 'sinh', 'size', 'sometrue', 'sort', 'sort_complex', 'source', 'spacing', 'split', 'sqrt', 'square', 'squeeze', 'stack', 'std', 'str0', 'str_', 'string_', 'subtract', 'sum', 'swapaxes', 'sys', 'take', 'take_along_axis', 'tan', 'tanh', 'tensordot', 'test', 'testing', 'tile', 'timedelta64', 'trace', 'tracemalloc_domain', 'transpose', 'trapz', 'tri', 'tril', 'tril_indices', 'tril_indices_from', 'trim_zeros', 'triu', 'triu_indices', 'triu_indices_from', 'true_divide', 'trunc', 'typecodes', 'typename', 'ubyte', 'ufunc', 'uint', 'uint0', 'uint16', 'uint32', 'uint64', 'uint8', 'uintc', 'uintp', 'ulonglong', 'unicode_', 'union1d', 'unique', 'unpackbits', 'unravel_index', 'unsignedinteger', 'unwrap', 'use_hugepage', 'ushort', 'vander', 'var', 'vdot', 'vectorize', 'version', 'void', 'void0', 'vsplit', 'vstack', 'warnings', 'where', 'who', 'zeros', 'zeros_like']\n"
     ]
    }
   ],
   "source": [
    "print(dir(np))     # 'column_stack'"
   ]
  },
  {
   "cell_type": "code",
   "execution_count": 73,
   "id": "9954bc97-1450-4140-8a20-e252a90125b0",
   "metadata": {},
   "outputs": [
    {
     "name": "stdout",
     "output_type": "stream",
     "text": [
      "<module 'numpy.random' from '/home/jhu/.virtual_environments/py39/lib/python3.9/site-packages/numpy/random/__init__.py'>\n"
     ]
    }
   ],
   "source": [
    "print(np.random)   # <module 'numpy.random' "
   ]
  },
  {
   "cell_type": "code",
   "execution_count": 75,
   "id": "1ba0be45-ac34-4a37-ad46-f4ca3e26bba4",
   "metadata": {},
   "outputs": [
    {
     "name": "stdout",
     "output_type": "stream",
     "text": [
      "['BitGenerator', 'Generator', 'MT19937', 'PCG64', 'PCG64DXSM', 'Philox', 'RandomState', 'SFC64', 'SeedSequence', '__RandomState_ctor', '__all__', '__builtins__', '__cached__', '__doc__', '__file__', '__loader__', '__name__', '__package__', '__path__', '__spec__', '_bounded_integers', '_common', '_generator', '_mt19937', '_pcg64', '_philox', '_pickle', '_sfc64', 'beta', 'binomial', 'bit_generator', 'bytes', 'chisquare', 'choice', 'default_rng', 'dirichlet', 'exponential', 'f', 'gamma', 'geometric', 'get_state', 'gumbel', 'hypergeometric', 'laplace', 'logistic', 'lognormal', 'logseries', 'mtrand', 'multinomial', 'multivariate_normal', 'negative_binomial', 'noncentral_chisquare', 'noncentral_f', 'normal', 'pareto', 'permutation', 'poisson', 'power', 'rand', 'randint', 'randn', 'random', 'random_integers', 'random_sample', 'ranf', 'rayleigh', 'sample', 'seed', 'set_state', 'shuffle', 'standard_cauchy', 'standard_exponential', 'standard_gamma', 'standard_normal', 'standard_t', 'test', 'triangular', 'uniform', 'vonmises', 'wald', 'weibull', 'zipf']\n"
     ]
    }
   ],
   "source": [
    "print(dir(np.random))   # 'normal'"
   ]
  },
  {
   "cell_type": "code",
   "execution_count": 77,
   "id": "6162af8c-76ef-4cc2-9791-6e6ddd41520b",
   "metadata": {},
   "outputs": [
    {
     "data": {
      "text/plain": [
       "\u001b[0;31mDocstring:\u001b[0m\n",
       "normal(loc=0.0, scale=1.0, size=None)\n",
       "\n",
       "Draw random samples from a normal (Gaussian) distribution.\n",
       "\n",
       "The probability density function of the normal distribution, first\n",
       "derived by De Moivre and 200 years later by both Gauss and Laplace\n",
       "independently [2]_, is often called the bell curve because of\n",
       "its characteristic shape (see the example below).\n",
       "\n",
       "The normal distributions occurs often in nature.  For example, it\n",
       "describes the commonly occurring distribution of samples influenced\n",
       "by a large number of tiny, random disturbances, each with its own\n",
       "unique distribution [2]_.\n",
       "\n",
       ".. note::\n",
       "    New code should use the ``normal`` method of a ``default_rng()``\n",
       "    instance instead; please see the :ref:`random-quick-start`.\n",
       "\n",
       "Parameters\n",
       "----------\n",
       "loc : float or array_like of floats\n",
       "    Mean (\"centre\") of the distribution.\n",
       "scale : float or array_like of floats\n",
       "    Standard deviation (spread or \"width\") of the distribution. Must be\n",
       "    non-negative.\n",
       "size : int or tuple of ints, optional\n",
       "    Output shape.  If the given shape is, e.g., ``(m, n, k)``, then\n",
       "    ``m * n * k`` samples are drawn.  If size is ``None`` (default),\n",
       "    a single value is returned if ``loc`` and ``scale`` are both scalars.\n",
       "    Otherwise, ``np.broadcast(loc, scale).size`` samples are drawn.\n",
       "\n",
       "Returns\n",
       "-------\n",
       "out : ndarray or scalar\n",
       "    Drawn samples from the parameterized normal distribution.\n",
       "\n",
       "See Also\n",
       "--------\n",
       "scipy.stats.norm : probability density function, distribution or\n",
       "    cumulative density function, etc.\n",
       "Generator.normal: which should be used for new code.\n",
       "\n",
       "Notes\n",
       "-----\n",
       "The probability density for the Gaussian distribution is\n",
       "\n",
       ".. math:: p(x) = \\frac{1}{\\sqrt{ 2 \\pi \\sigma^2 }}\n",
       "                 e^{ - \\frac{ (x - \\mu)^2 } {2 \\sigma^2} },\n",
       "\n",
       "where :math:`\\mu` is the mean and :math:`\\sigma` the standard\n",
       "deviation. The square of the standard deviation, :math:`\\sigma^2`,\n",
       "is called the variance.\n",
       "\n",
       "The function has its peak at the mean, and its \"spread\" increases with\n",
       "the standard deviation (the function reaches 0.607 times its maximum at\n",
       ":math:`x + \\sigma` and :math:`x - \\sigma` [2]_).  This implies that\n",
       "normal is more likely to return samples lying close to the mean, rather\n",
       "than those far away.\n",
       "\n",
       "References\n",
       "----------\n",
       ".. [1] Wikipedia, \"Normal distribution\",\n",
       "       https://en.wikipedia.org/wiki/Normal_distribution\n",
       ".. [2] P. R. Peebles Jr., \"Central Limit Theorem\" in \"Probability,\n",
       "       Random Variables and Random Signal Principles\", 4th ed., 2001,\n",
       "       pp. 51, 51, 125.\n",
       "\n",
       "Examples\n",
       "--------\n",
       "Draw samples from the distribution:\n",
       "\n",
       ">>> mu, sigma = 0, 0.1 # mean and standard deviation\n",
       ">>> s = np.random.normal(mu, sigma, 1000)\n",
       "\n",
       "Verify the mean and the variance:\n",
       "\n",
       ">>> abs(mu - np.mean(s))\n",
       "0.0  # may vary\n",
       "\n",
       ">>> abs(sigma - np.std(s, ddof=1))\n",
       "0.1  # may vary\n",
       "\n",
       "Display the histogram of the samples, along with\n",
       "the probability density function:\n",
       "\n",
       ">>> import matplotlib.pyplot as plt\n",
       ">>> count, bins, ignored = plt.hist(s, 30, density=True)\n",
       ">>> plt.plot(bins, 1/(sigma * np.sqrt(2 * np.pi)) *\n",
       "...                np.exp( - (bins - mu)**2 / (2 * sigma**2) ),\n",
       "...          linewidth=2, color='r')\n",
       ">>> plt.show()\n",
       "\n",
       "Two-by-four array of samples from N(3, 6.25):\n",
       "\n",
       ">>> np.random.normal(3, 2.5, size=(2, 4))\n",
       "array([[-4.49401501,  4.00950034, -1.81814867,  7.29718677],   # random\n",
       "       [ 0.39924804,  4.68456316,  4.99394529,  4.84057254]])  # random\n",
       "\u001b[0;31mType:\u001b[0m      builtin_function_or_method\n"
      ]
     },
     "metadata": {},
     "output_type": "display_data"
    }
   ],
   "source": [
    "#Parameters\n",
    "#----------\n",
    "#loc : float or array_like of floats\n",
    "#    Mean (\"centre\") of the distribution.\n",
    "#scale : float or array_like of floats\n",
    "#    Standard deviation (spread or \"width\") of the distribution. Must be\n",
    "#    non-negative.\n",
    "#size : int or tuple of ints, optional\n",
    "\n",
    "\n",
    "\n",
    "?np.random.normal"
   ]
  },
  {
   "cell_type": "markdown",
   "id": "ab9fb62d-571c-480d-9ae1-62c86076d0fd",
   "metadata": {},
   "source": [
    "## Another great tool to get some sence of your data is to visualize it, but thats something for the next course also.  \n",
    "\n"
   ]
  },
  {
   "cell_type": "markdown",
   "id": "abe509e3-ee63-4524-88dc-167adf334a85",
   "metadata": {},
   "source": [
    "## Average versus median\n",
    "\n",
    "# *****************************************************************************************************\n",
    "# You now know how to use numpy functions to get a better feeling for your data. It basically comes down to importing numpy and then calling several simple functions on the numpy arrays:\n",
    "\n",
    "import numpy as np\n",
    "x = [1, 4, 8, 10, 12]\n",
    "np.mean(x)\n",
    "np.median(x)\n",
    "\n",
    "The baseball data is available as a 2D numpy array with 3 columns (height, weight, age) and 1015 rows. The name of this numpy array is np_baseball. After restructuring the data, however, you notice that some height values are abnormally high. Follow the instructions and discover which summary statistic is best suited if you're dealing with so-called outliers.\n",
    "Instructions\n",
    "100 XP\n",
    "\n",
    "    Create numpy array np_height_in that is equal to first column of np_baseball.\n",
    "    Print out the mean of np_height_in.\n",
    "    Print out the median of np_height_in.\n"
   ]
  },
  {
   "cell_type": "code",
   "execution_count": 80,
   "id": "c615818e-8ea5-4314-8b83-150d3a6e2c46",
   "metadata": {},
   "outputs": [],
   "source": [
    "np_baseball = np.array(baseball)"
   ]
  },
  {
   "cell_type": "code",
   "execution_count": 82,
   "id": "31e3970f-3de6-43c4-b1c7-d889cefa4ded",
   "metadata": {},
   "outputs": [
    {
     "name": "stdout",
     "output_type": "stream",
     "text": [
      "73.681\n",
      "74.0\n"
     ]
    }
   ],
   "source": [
    "# np_baseball is available\n",
    "\n",
    "# Import numpy\n",
    "import numpy as np\n",
    "\n",
    "# Create np_height_in from np_baseball\n",
    "np_height_in = np_baseball[:,0]\n",
    "\n",
    "# Print out the mean of np_height_in\n",
    "print(np.mean(np_height_in))\n",
    "\n",
    "# Print out the median of np_height_in\n",
    "print(np.median(np_height_in))\n",
    "\n",
    "# Returns\n",
    "#1586.4610837438424   # Its obviously something error, our data is clean, get from above exercise\n",
    "#74.0"
   ]
  },
  {
   "cell_type": "markdown",
   "id": "18a8ad16-3e2b-4be1-b736-e25b4955db71",
   "metadata": {},
   "source": [
    "## Explore the baseball data\n",
    "\n",
    "Because the mean and median are so far apart, you decide to complain to the MLB. They find the error and send the corrected data over to you. It's again available as a 2D Numpy array np_baseball, with three columns.\n",
    "\n",
    "The Python script in the editor already includes code to print out informative messages with the different summary statistics. Can you finish the job?\n",
    "Instructions\n",
    "100 XP\n",
    "\n",
    "    The code to print out the mean height is already included. Complete the code for the median height. Replace None with the correct code.\n",
    "    Use np.std() on the first column of np_baseball to calculate stddev. Replace None with the correct code.\n",
    "    Do big players tend to be heavier? Use np.corrcoef() to store the correlation between the first and second column of np_baseball in corr. Replace None with the correct code.\n"
   ]
  },
  {
   "cell_type": "code",
   "execution_count": null,
   "id": "009891d4-27d4-45fe-b68c-5131fbb3b021",
   "metadata": {},
   "outputs": [],
   "source": [
    "# np_baseball is available\n",
    "\n",
    "# Import numpy\n",
    "import numpy as np\n",
    "\n",
    "# Print mean height (first column)\n",
    "avg = np.mean(np_baseball[:,0])\n",
    "print(\"Average: \" + str(avg))\n",
    "\n",
    "# Print median height. Replace 'None'\n",
    "med = np.median(np_baseball[:, 0])\n",
    "print(\"Median: \" + str(med))\n",
    "\n",
    "# Print out the standard deviation on height. Replace 'None'\n",
    "stddev = np.std(np_baseball[:, 0])\n",
    "print(\"Standard Deviation: \" + str(stddev))\n",
    "\n",
    "# Print out correlation between first and second column. Replace 'None'\n",
    "corr = np.corrcoef(np_baseball[:, 0], np_baseball[:, 1])\n",
    "print(\"Correlation: \" + str(corr))"
   ]
  },
  {
   "cell_type": "markdown",
   "id": "21d97405-0e43-4d54-8792-2b69119dad24",
   "metadata": {},
   "source": [
    "## Blend it all together\n",
    "\n",
    "In the last few exercises you've learned everything there is to know about heights and weights of baseball players. Now it's time to dive into another sport: soccer.\n",
    "\n",
    "You've contacted FIFA for some data and they handed you two lists. The lists are the following:\n",
    "\n",
    "positions = ['GK', 'M', 'A', 'D', ...]\n",
    "heights = [191, 184, 185, 180, ...]\n",
    "\n",
    "Each element in the lists corresponds to a player. The first list, positions, contains strings representing each player's position. The possible positions are: 'GK' (goalkeeper), 'M' (midfield), 'A' (attack) and 'D' (defense). The second list, heights, contains integers representing the height of the player in cm. The first player in the lists is a goalkeeper and is pretty tall (191 cm).\n",
    "\n",
    "# *****************************************************************************************************\n",
    "# You're fairly confident that the median height of goalkeepers is higher than that of other players on the soccer field. Some of your friends don't believe you, so you are determined to show them using the data you received from FIFA and your newly acquired Python skills.\n",
    "Instructions\n",
    "100 XP\n",
    "\n",
    "    Convert heights and positions, which are regular lists, to numpy arrays. Call them np_heights and np_positions.\n",
    "# *****************************************************************************************************\n",
    "#    Extract all the heights of the goalkeepers. You can use a little trick here: use np_positions == 'GK' as an index for np_heights. Assign the result to gk_heights.\n",
    "    Extract all the heights of all the other players. This time use np_positions != 'GK' as an index for np_heights. Assign the result to other_heights.\n",
    "    Print out the median height of the goalkeepers using np.median(). Replace None with the correct code.\n",
    "    Do the same for the other players. Print out their median height. Replace None with the correct code.\n",
    "\n"
   ]
  },
  {
   "cell_type": "code",
   "execution_count": null,
   "id": "fb359e78-b592-46ac-a605-163bd446cd91",
   "metadata": {},
   "outputs": [],
   "source": [
    "# heights and positions are available as lists\n",
    "\n",
    "# Import numpy\n",
    "import numpy as np\n",
    "\n",
    "# Convert positions and heights to numpy arrays: np_positions, np_heights\n",
    "np_positions = np.array(positions)\n",
    "np_heights = np.array(heights)\n",
    "\n",
    "# Heights of the goalkeepers: gk_heights\n",
    "gk_heights = np_heights[np_positions == 'GK']\n",
    "\n",
    "# Heights of the other players: other_heights\n",
    "other_heights = np_heights[np_positions != 'GK']\n",
    "\n",
    "# Print out the median height of goalkeepers. Replace 'None'\n",
    "print(\"Median height of goalkeepers: \" + str(np.median(gk_heights)))\n",
    "\n",
    "# Print out the median height of other players. Replace 'None'\n",
    "print(\"Median height of other players: \" + str(np.median(other_heights)))\n",
    "\n",
    "\n",
    "# Return: Code return as expected\n",
    "# Median height of goalkeepers: 188.0\n",
    "# Median height of other players: 181.0"
   ]
  },
  {
   "cell_type": "code",
   "execution_count": null,
   "id": "a0687980-4451-4164-bc7d-4459d0e8e189",
   "metadata": {},
   "outputs": [],
   "source": []
  },
  {
   "cell_type": "code",
   "execution_count": null,
   "id": "727ac7a4-9215-4d0b-be3f-d42f619b1eb9",
   "metadata": {},
   "outputs": [],
   "source": []
  },
  {
   "cell_type": "code",
   "execution_count": null,
   "id": "ec076808-b66e-46f1-9cdf-3d69bfb0dd9c",
   "metadata": {},
   "outputs": [],
   "source": []
  },
  {
   "cell_type": "code",
   "execution_count": null,
   "id": "f4da3f27-be9d-44de-9103-a8b2fd67c8d3",
   "metadata": {},
   "outputs": [],
   "source": []
  },
  {
   "cell_type": "code",
   "execution_count": null,
   "id": "02d189a7-31e1-48d6-99cc-d1de39d023ce",
   "metadata": {},
   "outputs": [],
   "source": []
  },
  {
   "cell_type": "code",
   "execution_count": null,
   "id": "6e8b784d-bd6d-4a69-bffb-2304659b6e52",
   "metadata": {},
   "outputs": [],
   "source": []
  },
  {
   "cell_type": "code",
   "execution_count": null,
   "id": "5f97a0b8-5dba-4893-ac52-6307698d11cc",
   "metadata": {},
   "outputs": [],
   "source": []
  },
  {
   "cell_type": "code",
   "execution_count": null,
   "id": "0b5445db-6dbf-4087-bd08-a4787b7145d2",
   "metadata": {},
   "outputs": [],
   "source": []
  },
  {
   "cell_type": "code",
   "execution_count": null,
   "id": "bf608373-f11a-48e8-8754-6ae805a3b113",
   "metadata": {},
   "outputs": [],
   "source": []
  },
  {
   "cell_type": "code",
   "execution_count": null,
   "id": "72cfb1cb-0137-448c-ae97-694d39d72569",
   "metadata": {},
   "outputs": [],
   "source": []
  },
  {
   "cell_type": "code",
   "execution_count": null,
   "id": "784b452f-c8a1-45c7-9052-4ceb42bc7d30",
   "metadata": {},
   "outputs": [],
   "source": []
  },
  {
   "cell_type": "code",
   "execution_count": null,
   "id": "2aecf0e6-46b6-464a-9f47-64eeace478e9",
   "metadata": {},
   "outputs": [],
   "source": []
  },
  {
   "cell_type": "code",
   "execution_count": null,
   "id": "e7052dc6-7f36-441f-9547-b93b0cf6bee4",
   "metadata": {},
   "outputs": [],
   "source": []
  },
  {
   "cell_type": "code",
   "execution_count": null,
   "id": "34d00f4d-0448-4485-88c0-25ebb1784f1f",
   "metadata": {},
   "outputs": [],
   "source": []
  },
  {
   "cell_type": "code",
   "execution_count": null,
   "id": "7e190796-3deb-45ad-85e8-0090a2759ab4",
   "metadata": {},
   "outputs": [],
   "source": []
  },
  {
   "cell_type": "code",
   "execution_count": 9,
   "id": "80cc1dea-23d6-4286-8ca0-9376983cc37d",
   "metadata": {},
   "outputs": [
    {
     "ename": "NameError",
     "evalue": "name 'kwargs' is not defined",
     "output_type": "error",
     "traceback": [
      "\u001b[0;31m---------------------------------------------------------------------------\u001b[0m",
      "\u001b[0;31mNameError\u001b[0m                                 Traceback (most recent call last)",
      "\u001b[0;32m/tmp/ipykernel_2053/2422979339.py\u001b[0m in \u001b[0;36m<module>\u001b[0;34m\u001b[0m\n\u001b[1;32m      2\u001b[0m     \u001b[0;32mreturn\u001b[0m \u001b[0mkwargs\u001b[0m\u001b[0;34m\u001b[0m\u001b[0;34m\u001b[0m\u001b[0m\n\u001b[1;32m      3\u001b[0m \u001b[0;34m\u001b[0m\u001b[0m\n\u001b[0;32m----> 4\u001b[0;31m \u001b[0mmake_dict\u001b[0m\u001b[0;34m(\u001b[0m\u001b[0ma\u001b[0m \u001b[0;34m=\u001b[0m \u001b[0;36m1\u001b[0m\u001b[0;34m,\u001b[0m \u001b[0mb\u001b[0m \u001b[0;34m=\u001b[0m \u001b[0;36m2\u001b[0m\u001b[0;34m)\u001b[0m\u001b[0;34m\u001b[0m\u001b[0;34m\u001b[0m\u001b[0m\n\u001b[0m",
      "\u001b[0;32m/tmp/ipykernel_2053/2422979339.py\u001b[0m in \u001b[0;36mmake_dict\u001b[0;34m(a, b)\u001b[0m\n\u001b[1;32m      1\u001b[0m \u001b[0;32mdef\u001b[0m \u001b[0mmake_dict\u001b[0m\u001b[0;34m(\u001b[0m\u001b[0ma\u001b[0m\u001b[0;34m,\u001b[0m \u001b[0mb\u001b[0m\u001b[0;34m)\u001b[0m\u001b[0;34m:\u001b[0m\u001b[0;34m\u001b[0m\u001b[0;34m\u001b[0m\u001b[0m\n\u001b[0;32m----> 2\u001b[0;31m     \u001b[0;32mreturn\u001b[0m \u001b[0mkwargs\u001b[0m\u001b[0;34m\u001b[0m\u001b[0;34m\u001b[0m\u001b[0m\n\u001b[0m\u001b[1;32m      3\u001b[0m \u001b[0;34m\u001b[0m\u001b[0m\n\u001b[1;32m      4\u001b[0m \u001b[0mmake_dict\u001b[0m\u001b[0;34m(\u001b[0m\u001b[0ma\u001b[0m \u001b[0;34m=\u001b[0m \u001b[0;36m1\u001b[0m\u001b[0;34m,\u001b[0m \u001b[0mb\u001b[0m \u001b[0;34m=\u001b[0m \u001b[0;36m2\u001b[0m\u001b[0;34m)\u001b[0m\u001b[0;34m\u001b[0m\u001b[0;34m\u001b[0m\u001b[0m\n",
      "\u001b[0;31mNameError\u001b[0m: name 'kwargs' is not defined"
     ]
    }
   ],
   "source": [
    "def make_dict(a, b):\n",
    "    return kwargs\n",
    "\n",
    "make_dict(a = 1, b = 2)\n",
    "\n",
    "#Expected Output\n",
    "#\n",
    "#{'a': 1, 'b': 2}"
   ]
  },
  {
   "cell_type": "code",
   "execution_count": 55,
   "id": "851fed35-da82-47af-9c5c-7eb3547356a2",
   "metadata": {},
   "outputs": [
    {
     "name": "stdout",
     "output_type": "stream",
     "text": [
      "{'a': 1, 'b': 2}\n"
     ]
    },
    {
     "ename": "TypeError",
     "evalue": "n_dict() got an unexpected keyword argument 'a'",
     "output_type": "error",
     "traceback": [
      "\u001b[0;31m---------------------------------------------------------------------------\u001b[0m",
      "\u001b[0;31mTypeError\u001b[0m                                 Traceback (most recent call last)",
      "\u001b[0;32m/tmp/ipykernel_2053/3568421603.py\u001b[0m in \u001b[0;36m<module>\u001b[0;34m\u001b[0m\n\u001b[1;32m      9\u001b[0m     \u001b[0;32mreturn\u001b[0m \u001b[0margs\u001b[0m\u001b[0;34m\u001b[0m\u001b[0;34m\u001b[0m\u001b[0m\n\u001b[1;32m     10\u001b[0m \u001b[0;34m\u001b[0m\u001b[0m\n\u001b[0;32m---> 11\u001b[0;31m \u001b[0mprint\u001b[0m\u001b[0;34m(\u001b[0m\u001b[0mn_dict\u001b[0m\u001b[0;34m(\u001b[0m\u001b[0ma\u001b[0m \u001b[0;34m=\u001b[0m \u001b[0;36m1\u001b[0m\u001b[0;34m,\u001b[0m \u001b[0mb\u001b[0m \u001b[0;34m=\u001b[0m \u001b[0;36m2\u001b[0m\u001b[0;34m)\u001b[0m\u001b[0;34m)\u001b[0m\u001b[0;34m\u001b[0m\u001b[0;34m\u001b[0m\u001b[0m\n\u001b[0m\u001b[1;32m     12\u001b[0m \u001b[0;34m\u001b[0m\u001b[0m\n\u001b[1;32m     13\u001b[0m \u001b[0;34m\u001b[0m\u001b[0m\n",
      "\u001b[0;31mTypeError\u001b[0m: n_dict() got an unexpected keyword argument 'a'"
     ]
    }
   ],
   "source": [
    "# *************************************************************************************************** #\n",
    "def make_dict(**kwargs):\n",
    "    return kwargs\n",
    "\n",
    "print(make_dict(a = 1, b = 2))\n",
    "\n",
    "\n",
    "def n_dict(*args):\n",
    "    return args\n",
    "\n",
    "print(n_dict(a = 1, b = 2))\n",
    "\n",
    "\n",
    "def nn_dict(*args, **kwargs):\n",
    "    return args, kwargs\n",
    "\n",
    "print(nn_dict(a = 1, b = 2))\n",
    "#  Returns:\n",
    "#((), {'a': 1, 'b': 2})\n",
    "# *************************************************************************************************** #"
   ]
  },
  {
   "cell_type": "code",
   "execution_count": 11,
   "id": "b3315c02-83d0-4b97-8a25-9fea6560f9ef",
   "metadata": {},
   "outputs": [
    {
     "name": "stdout",
     "output_type": "stream",
     "text": [
      "[57, 62, 65, 67, 72, 212]\n"
     ]
    }
   ],
   "source": [
    "vals = [25, 30, 33, 35, 40, 180]\n",
    "new_vals = [val+32 for val in vals]\n",
    "\n",
    "print(new_vals)\n",
    "\n",
    "#Expected Output\n",
    "#\n",
    "#[57, 62, 65, 67, 72, 212]"
   ]
  },
  {
   "cell_type": "code",
   "execution_count": 12,
   "id": "3e2e51e8-7988-4407-9c18-1f1e13666bd2",
   "metadata": {},
   "outputs": [
    {
     "data": {
      "text/plain": [
       "[3, 4]"
      ]
     },
     "execution_count": 12,
     "metadata": {},
     "output_type": "execute_result"
    }
   ],
   "source": [
    "[i for i in range(5) if i-3>=0]\n",
    "\n",
    "#Expected Output\n",
    "#\n",
    "#[3, 4]"
   ]
  },
  {
   "cell_type": "code",
   "execution_count": 13,
   "id": "98c4b984-0a93-40f6-9633-51a98660f026",
   "metadata": {},
   "outputs": [
    {
     "data": {
      "text/plain": [
       "2"
      ]
     },
     "execution_count": 13,
     "metadata": {},
     "output_type": "execute_result"
    }
   ],
   "source": [
    "d = {\n",
    "    'one': 1,\n",
    "    'two': 2,\n",
    "    'three': 3,\n",
    "    'four': 4\n",
    "}\n",
    "\n",
    "d.pop('two')\n",
    "\n",
    "#Expected Output\n",
    "#\n",
    "#3"
   ]
  },
  {
   "cell_type": "code",
   "execution_count": 14,
   "id": "c95b68bc-62d7-4c0b-ac07-636414bc9997",
   "metadata": {},
   "outputs": [
    {
     "data": {
      "text/plain": [
       "'Natural entity in the observable universe.'"
      ]
     },
     "execution_count": 14,
     "metadata": {},
     "output_type": "execute_result"
    }
   ],
   "source": [
    "class AstroBody:\n",
    "    description = 'Natural entity in the observable universe.'    \n",
    "\n",
    "class Star(AstroBody):\n",
    "    pass\n",
    "\n",
    "sun = Star()\n",
    "\n",
    "sun.description\n",
    "\n",
    "#Expected Output\n",
    "#\n",
    "#'Natural entity in the observable universe.'"
   ]
  },
  {
   "cell_type": "code",
   "execution_count": 15,
   "id": "7ed55b6d-0cf5-4a3d-81af-381dd2e68755",
   "metadata": {},
   "outputs": [
    {
     "data": {
      "text/plain": [
       "'I know how to interact with the docstrings of a function.'"
      ]
     },
     "execution_count": 15,
     "metadata": {},
     "output_type": "execute_result"
    }
   ],
   "source": [
    "def fun_docs():\n",
    "    \"\"\"I know how to interact with the docstrings of a function.\"\"\"\n",
    "    \n",
    "    return None\n",
    "\n",
    "fun_docs.__doc__\n",
    "\n",
    "#Expected Output\n",
    "#\n",
    "#'I know how to interact with the docstrings of a function.'"
   ]
  },
  {
   "cell_type": "code",
   "execution_count": 16,
   "id": "6d43defb-6034-4ec8-9380-c0799029b434",
   "metadata": {},
   "outputs": [
    {
     "name": "stdout",
     "output_type": "stream",
     "text": [
      "True\n"
     ]
    }
   ],
   "source": [
    "with open('hello.txt', 'w') as file:\n",
    "    file.write(\"hello!\")\n",
    "\n",
    "print(file.closed)\n",
    "\n",
    "#Expected Output\n",
    "\n",
    "#True"
   ]
  },
  {
   "cell_type": "code",
   "execution_count": 17,
   "id": "1a201aa8-c72c-4da2-8fe1-e7e8b6fb0def",
   "metadata": {},
   "outputs": [
    {
     "ename": "SyntaxError",
     "evalue": "invalid syntax (2853042306.py, line 1)",
     "output_type": "error",
     "traceback": [
      "\u001b[0;36m  File \u001b[0;32m\"/tmp/ipykernel_2053/2853042306.py\"\u001b[0;36m, line \u001b[0;32m1\u001b[0m\n\u001b[0;31m    x = 0*i for i in range(5)if i>=0\u001b[0m\n\u001b[0m            ^\u001b[0m\n\u001b[0;31mSyntaxError\u001b[0m\u001b[0;31m:\u001b[0m invalid syntax\n"
     ]
    }
   ],
   "source": [
    "x = 0*i for i in range(5)if i>=0\n",
    "\n",
    "next(x)\n",
    "\n",
    "#Expected Output\n",
    "\n",
    "#0"
   ]
  },
  {
   "cell_type": "code",
   "execution_count": 19,
   "id": "70dabc78-af0b-4c6d-97e5-7d3e6f4d8fcc",
   "metadata": {},
   "outputs": [
    {
     "name": "stdout",
     "output_type": "stream",
     "text": [
      "0\n",
      "<generator object <genexpr> at 0x7ff29064db30>\n",
      "1 2 3 4\n"
     ]
    },
    {
     "ename": "AttributeError",
     "evalue": "'builtin_function_or_method' object has no attribute 'x'",
     "output_type": "error",
     "traceback": [
      "\u001b[0;31m---------------------------------------------------------------------------\u001b[0m",
      "\u001b[0;31mAttributeError\u001b[0m                            Traceback (most recent call last)",
      "\u001b[0;32m/tmp/ipykernel_14506/1500176797.py\u001b[0m in \u001b[0;36m<module>\u001b[0;34m\u001b[0m\n\u001b[1;32m      7\u001b[0m \u001b[0mprint\u001b[0m\u001b[0;34m(\u001b[0m\u001b[0mx\u001b[0m\u001b[0;34m)\u001b[0m\u001b[0;34m\u001b[0m\u001b[0;34m\u001b[0m\u001b[0m\n\u001b[1;32m      8\u001b[0m \u001b[0mprint\u001b[0m\u001b[0;34m(\u001b[0m\u001b[0;34m*\u001b[0m\u001b[0mx\u001b[0m\u001b[0;34m)\u001b[0m\u001b[0;34m\u001b[0m\u001b[0;34m\u001b[0m\u001b[0m\n\u001b[0;32m----> 9\u001b[0;31m \u001b[0mprint\u001b[0m\u001b[0;34m(\u001b[0m\u001b[0mnext\u001b[0m\u001b[0;34m.\u001b[0m\u001b[0mx\u001b[0m\u001b[0;34m)\u001b[0m\u001b[0;34m\u001b[0m\u001b[0;34m\u001b[0m\u001b[0m\n\u001b[0m\u001b[1;32m     10\u001b[0m \u001b[0;31m# *************************************************************************************************** #\u001b[0m\u001b[0;34m\u001b[0m\u001b[0;34m\u001b[0m\u001b[0;34m\u001b[0m\u001b[0m\n",
      "\u001b[0;31mAttributeError\u001b[0m: 'builtin_function_or_method' object has no attribute 'x'"
     ]
    }
   ],
   "source": [
    "# *************************************************************************************************** #\n",
    "x = (i for i in range(5))\n",
    "\n",
    "\n",
    "print(next(x))\n",
    "\n",
    "print(x)\n",
    "print(*x)\n",
    "print(next.x)   # AttributeError: 'builtin_function_or_method' object has no attribute 'x'\n",
    "# *************************************************************************************************** #\n"
   ]
  },
  {
   "cell_type": "code",
   "execution_count": 19,
   "id": "f803e398-0f55-41f1-bba3-c0d8d754ef42",
   "metadata": {},
   "outputs": [
    {
     "ename": "TypeError",
     "evalue": "'list' object is not an iterator",
     "output_type": "error",
     "traceback": [
      "\u001b[0;31m---------------------------------------------------------------------------\u001b[0m",
      "\u001b[0;31mTypeError\u001b[0m                                 Traceback (most recent call last)",
      "\u001b[0;32m/tmp/ipykernel_2053/2797154323.py\u001b[0m in \u001b[0;36m<module>\u001b[0;34m\u001b[0m\n\u001b[1;32m      1\u001b[0m \u001b[0mx\u001b[0m \u001b[0;34m=\u001b[0m \u001b[0;34m[\u001b[0m\u001b[0mi\u001b[0m \u001b[0;32mfor\u001b[0m \u001b[0mi\u001b[0m \u001b[0;32min\u001b[0m \u001b[0mrange\u001b[0m\u001b[0;34m(\u001b[0m\u001b[0;36m5\u001b[0m\u001b[0;34m)\u001b[0m\u001b[0;34m]\u001b[0m\u001b[0;34m\u001b[0m\u001b[0;34m\u001b[0m\u001b[0m\n\u001b[1;32m      2\u001b[0m \u001b[0;34m\u001b[0m\u001b[0m\n\u001b[0;32m----> 3\u001b[0;31m \u001b[0mnext\u001b[0m\u001b[0;34m(\u001b[0m\u001b[0mx\u001b[0m\u001b[0;34m)\u001b[0m\u001b[0;34m\u001b[0m\u001b[0;34m\u001b[0m\u001b[0m\n\u001b[0m\u001b[1;32m      4\u001b[0m \u001b[0;34m\u001b[0m\u001b[0m\n\u001b[1;32m      5\u001b[0m \u001b[0;31m#Expected Output\u001b[0m\u001b[0;34m\u001b[0m\u001b[0;34m\u001b[0m\u001b[0;34m\u001b[0m\u001b[0m\n",
      "\u001b[0;31mTypeError\u001b[0m: 'list' object is not an iterator"
     ]
    }
   ],
   "source": [
    "x = [i for i in range(5)]\n",
    "\n",
    "next(x)\n",
    "\n",
    "#Expected Output\n",
    "\n",
    "#0"
   ]
  },
  {
   "cell_type": "code",
   "execution_count": 21,
   "id": "443ffba3-46f9-48f3-bcd6-d0fdfb97f47e",
   "metadata": {},
   "outputs": [
    {
     "name": "stdout",
     "output_type": "stream",
     "text": [
      "10\n",
      "-3\n"
     ]
    }
   ],
   "source": [
    "def multiply(by = None):\n",
    "\tdef multiply_real_decorator(function):\n",
    "\t\tdef wrapper(*args,**kwargs):\n",
    "\t\t\treturn by * function(*args,**kwargs)\n",
    "\t\treturn wrapper\n",
    "\treturn multiply_real_decorator\n",
    "\n",
    "@multiply(2)\n",
    "def adder(a,b):\n",
    "    return a + b\n",
    "\n",
    "@multiply(3)\n",
    "def subtractor(a,b):\n",
    "    return a - b\n",
    "\n",
    "print(adder(2,3))\n",
    "print(subtractor(2,3))\n",
    "\n",
    "#Expected Output\n",
    "#\n",
    "#10\n",
    "#-3"
   ]
  },
  {
   "cell_type": "code",
   "execution_count": 22,
   "id": "fa1c82c6-04e3-4910-9061-693fda16f410",
   "metadata": {},
   "outputs": [
    {
     "data": {
      "text/plain": [
       "729"
      ]
     },
     "execution_count": 22,
     "metadata": {},
     "output_type": "execute_result"
    }
   ],
   "source": [
    "def square_args(func):\n",
    "    def inner(a, b):\n",
    "        return func(a ** 2, b ** 2)\n",
    "    return inner\n",
    "\n",
    "@square_args\n",
    "def multiply(a, b):\n",
    "    return a * b\n",
    "  \n",
    "multiply(3, 9)\n",
    "\n",
    "#Expected Output\n",
    "\n",
    "#729"
   ]
  },
  {
   "cell_type": "code",
   "execution_count": 30,
   "id": "6ede48ae-582a-4cf1-872b-e06caf94a322",
   "metadata": {},
   "outputs": [
    {
     "ename": "SyntaxError",
     "evalue": "expression cannot contain assignment, perhaps you meant \"==\"? (2143515519.py, line 3)",
     "output_type": "error",
     "traceback": [
      "\u001b[0;36m  File \u001b[0;32m\"/tmp/ipykernel_2053/2143515519.py\"\u001b[0;36m, line \u001b[0;32m3\u001b[0m\n\u001b[0;31m    print(lambda x: x=\"I know how to call this function.\")\u001b[0m\n\u001b[0m          ^\u001b[0m\n\u001b[0;31mSyntaxError\u001b[0m\u001b[0;31m:\u001b[0m expression cannot contain assignment, perhaps you meant \"==\"?\n"
     ]
    }
   ],
   "source": [
    "x = lambda : \"I know how to call this function.\"\n",
    "\n",
    "print(lambda x: x=\"I know how to call this function.\")\n",
    "\n",
    "#Expected Output\n",
    "\n",
    "#'I know how to call this function.'"
   ]
  },
  {
   "cell_type": "code",
   "execution_count": 45,
   "id": "6193d315-c089-4d92-a91b-623316923921",
   "metadata": {},
   "outputs": [
    {
     "data": {
      "text/plain": [
       "'I know how to call this function.'"
      ]
     },
     "execution_count": 45,
     "metadata": {},
     "output_type": "execute_result"
    }
   ],
   "source": [
    "# *************************************************************************************************** #\n",
    "x = lambda : \"I know how to call this function.\"\n",
    "\n",
    "#print(lambda x: x = \"I know how to call this function.\")\n",
    "# *************************************************************************************************** #\n",
    "x()\n"
   ]
  },
  {
   "cell_type": "code",
   "execution_count": 31,
   "id": "6084f0a7-a1df-470d-8120-52b700f967c5",
   "metadata": {},
   "outputs": [
    {
     "data": {
      "text/plain": [
       "{1, 2}"
      ]
     },
     "execution_count": 31,
     "metadata": {},
     "output_type": "execute_result"
    }
   ],
   "source": [
    "a = {1, 2, 3, 4}\n",
    "b = {3, 4, 5, 6}\n",
    "\n",
    "a.difference(b)\n",
    "\n",
    "#Expected Output\n",
    "\n",
    "#{1, 2}"
   ]
  },
  {
   "cell_type": "code",
   "execution_count": 34,
   "id": "91e53b88-750a-4ca0-9b4b-119d0bb1cf1d",
   "metadata": {},
   "outputs": [
    {
     "name": "stdout",
     "output_type": "stream",
     "text": [
      "{99, 12, 77, 78, 46, 23}\n"
     ]
    }
   ],
   "source": [
    "# One method of improving the efficiency of your code is to make use of Python built-in types. \n",
    "# The code below determines which numbers overlap between two lists of numbers. Use the built-in\n",
    "# set type to create a more efficient version of this code.\n",
    "\n",
    "def overlap(a, b):\n",
    "    overlaps = []\n",
    "    for x in a:\n",
    "        for y in b:\n",
    "            if x == y:\n",
    "                overlaps.append(x)\n",
    "\n",
    "    return overlaps\n",
    "a = [99, 23, 46, 78, 12, 34, 56, 15, 22, 77, 31, 9, 1]\n",
    "b = [12, 16, 43, 77, 11, 99, 23, 44, 50, 46, 78, 3, 2]\n",
    "overlap(a, b)\n",
    "#[99, 23, 46, 78, 12, 77]\n",
    "\n",
    "#Complete the code to return the output\n",
    "\n",
    "a = [99, 23, 46, 78, 12, 34, 56, 15, 22, 77, 31, 9, 1]\n",
    "b = [12, 16, 43, 77, 11, 99, 23, 44, 50, 46, 78, 3, 2]\n",
    "overlaps = set(a) & set(b)\n",
    "# *************************************************************************************************** #\n",
    "\n",
    "print(overlaps)\n",
    "\n",
    "#Expected Output\n",
    "#\n",
    "#{99, 12, 77, 78, 46, 23}"
   ]
  },
  {
   "cell_type": "code",
   "execution_count": 35,
   "id": "a9ee1447-51d5-4fd2-83c1-b38de7426e4d",
   "metadata": {},
   "outputs": [
    {
     "data": {
      "text/plain": [
       "{1, 2, 3, 4, 5, 6}"
      ]
     },
     "execution_count": 35,
     "metadata": {},
     "output_type": "execute_result"
    }
   ],
   "source": [
    "a = {1, 2, 3}\n",
    "b = {4, 5, 6}\n",
    "\n",
    "a.union(b)\n",
    "\n",
    "#Expected Output\n",
    "#\n",
    "#{1, 2, 3, 4, 5, 6}"
   ]
  },
  {
   "cell_type": "code",
   "execution_count": null,
   "id": "7fb8f31d-cd4f-4ce2-b5c1-9288f67aecb0",
   "metadata": {},
   "outputs": [],
   "source": []
  },
  {
   "cell_type": "code",
   "execution_count": null,
   "id": "06c593f6-effc-4ea2-8457-1a39450b79d4",
   "metadata": {},
   "outputs": [],
   "source": []
  },
  {
   "cell_type": "code",
   "execution_count": null,
   "id": "bc140565-94b6-4c49-8d4c-fb3d94f4ee8e",
   "metadata": {},
   "outputs": [],
   "source": []
  },
  {
   "cell_type": "code",
   "execution_count": null,
   "id": "57c129ae-1782-4ab1-9af1-786c4bd0e283",
   "metadata": {},
   "outputs": [],
   "source": []
  },
  {
   "cell_type": "code",
   "execution_count": null,
   "id": "aae5ec4c-6d6f-4e68-8937-2fd8b81a21cf",
   "metadata": {},
   "outputs": [],
   "source": []
  },
  {
   "cell_type": "code",
   "execution_count": null,
   "id": "edcf3bf4-83db-4086-8318-0dfea1f0d36e",
   "metadata": {},
   "outputs": [],
   "source": []
  },
  {
   "cell_type": "code",
   "execution_count": null,
   "id": "15a68abb-f22e-4472-bd07-55d53a8df9de",
   "metadata": {},
   "outputs": [],
   "source": []
  },
  {
   "cell_type": "code",
   "execution_count": null,
   "id": "38d5688b-dc06-43a6-a797-dc3e51ab7181",
   "metadata": {
    "tags": []
   },
   "outputs": [],
   "source": []
  },
  {
   "cell_type": "code",
   "execution_count": null,
   "id": "a75f74c1-b3f9-4676-8502-c97ef8010106",
   "metadata": {},
   "outputs": [],
   "source": []
  },
  {
   "cell_type": "code",
   "execution_count": null,
   "id": "26c3e8cd-d39a-474f-9b65-94dfed29bee6",
   "metadata": {},
   "outputs": [],
   "source": []
  },
  {
   "cell_type": "code",
   "execution_count": null,
   "id": "ad260302-4e51-452f-87dc-be47a1436e55",
   "metadata": {},
   "outputs": [],
   "source": []
  },
  {
   "cell_type": "code",
   "execution_count": null,
   "id": "f514eac2-e0bc-439d-9528-2e497862aa0b",
   "metadata": {},
   "outputs": [],
   "source": []
  },
  {
   "cell_type": "code",
   "execution_count": null,
   "id": "450158f1-af25-4684-9e3f-258a9a5732f1",
   "metadata": {},
   "outputs": [],
   "source": []
  },
  {
   "cell_type": "code",
   "execution_count": null,
   "id": "3a327fdb-384e-49eb-ad71-b0e8886c59a3",
   "metadata": {},
   "outputs": [],
   "source": []
  },
  {
   "cell_type": "code",
   "execution_count": null,
   "id": "0bb58c42-fc01-4cfd-975a-ebec5a244815",
   "metadata": {},
   "outputs": [],
   "source": []
  },
  {
   "cell_type": "code",
   "execution_count": null,
   "id": "bb2efe40-6558-4203-bf8b-a7fbacda95ac",
   "metadata": {},
   "outputs": [],
   "source": []
  },
  {
   "cell_type": "code",
   "execution_count": null,
   "id": "9ed9e304-3e98-4367-a83b-e506d83400e6",
   "metadata": {},
   "outputs": [],
   "source": []
  },
  {
   "cell_type": "code",
   "execution_count": null,
   "id": "a6c49285-2a22-47a8-9233-71e705b5ea91",
   "metadata": {},
   "outputs": [],
   "source": []
  },
  {
   "cell_type": "code",
   "execution_count": null,
   "id": "524cc0f9-bbba-45de-b0da-17b8166236c8",
   "metadata": {},
   "outputs": [],
   "source": []
  }
 ],
 "metadata": {
  "kernelspec": {
   "display_name": "Python 3 (ipykernel)",
   "language": "python",
   "name": "python3"
  },
  "language_info": {
   "codemirror_mode": {
    "name": "ipython",
    "version": 3
   },
   "file_extension": ".py",
   "mimetype": "text/x-python",
   "name": "python",
   "nbconvert_exporter": "python",
   "pygments_lexer": "ipython3",
   "version": "3.9.2"
  }
 },
 "nbformat": 4,
 "nbformat_minor": 5
}
