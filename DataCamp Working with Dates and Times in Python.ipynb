{
 "cells": [
  {
   "cell_type": "markdown",
   "id": "6ca49c26-39a0-4539-9ce6-c04150fcdd8d",
   "metadata": {},
   "source": [
    "## Working with Dates and Times in Python\n",
    "\n",
    "\n"
   ]
  },
  {
   "cell_type": "markdown",
   "id": "17971f32-843b-4762-92ad-73538121cb84",
   "metadata": {},
   "source": [
    "## Course Description\n",
    "\n",
    "You'll probably never have a time machine, but how about a machine for analyzing time? As soon as time enters any analysis, things can get weird. It's easy to get tripped up on day and month boundaries, time zones, daylight saving time, and all sorts of other things that can confuse the unprepared. If you're going to do any kind of analysis involving time, you’ll want to use Python to sort it out. Working with data sets on hurricanes and bike trips, we’ll cover counting events, figuring out how much time has elapsed between events and plotting data over time. You'll work in both standard Python and in Pandas, and we'll touch on the dateutil library, the only timezone library endorsed by the official Python documentation. After this course, you'll confidently handle date and time data in any format like a champion."
   ]
  },
  {
   "cell_type": "markdown",
   "id": "cf122ec0-f28b-4fd1-b455-3c71263e23c9",
   "metadata": {},
   "source": [
    "##  Dates and Calendars\n",
    "Free\n",
    "0%\n",
    "\n",
    "Hurricanes (also known as cyclones or typhoons) hit the U.S. state of Florida several times per year. To start off this course, you'll learn how to work with date objects in Python, starting with the dates of every hurricane to hit Florida since 1950. You'll learn how Python handles dates, common date operations, and the right way to format dates to avoid confusion.\n",
    "\n",
    "    Dates in Python    50 xp\n",
    "    Which day of the week?    100 xp\n",
    "    How many hurricanes come early?    100 xp\n",
    "    Math with dates    50 xp\n",
    "    Subtracting dates    100 xp\n",
    "    Counting events per calendar month    100 xp\n",
    "    Putting a list of dates in order    100 xp\n",
    "    Turning dates into strings    50 xp\n",
    "    Printing dates in a friendly format    100 xp\n",
    "    Representing dates in different ways    100 xp \n",
    "    "
   ]
  },
  {
   "cell_type": "markdown",
   "id": "2e36dbed-78d5-46a8-af84-ac30a293dc23",
   "metadata": {},
   "source": [
    "##  Combining Dates and Times\n",
    "0%\n",
    "\n",
    "Bike sharing programs have swept through cities around the world -- and luckily for us, every trip gets recorded! Working with all of the comings and goings of one bike in Washington, D.C., you'll practice working with dates and times together. You'll parse dates and times from text, analyze peak trip times, calculate ride durations, and more.\n",
    "\n",
    "    Dates and times    50 xp\n",
    "    Creating datetimes by hand    100 xp\n",
    "    Counting events before and after noon    100 xp\n",
    "    Printing and parsing datetimes    50 xp\n",
    "    Turning strings into datetimes    100 xp\n",
    "    Parsing pairs of strings as datetimes    100 xp\n",
    "    Recreating ISO format with strftime()    100 xp\n",
    "    Unix timestamps    100 xp\n",
    "    Working with durations    50 xp\n",
    "    Turning pairs of datetimes into durations    100 xp\n",
    "    Average trip time    100 xp\n",
    "    The long and the short of why time is hard    100 xp \n",
    "    "
   ]
  },
  {
   "cell_type": "markdown",
   "id": "a44991d0-7a76-47ad-805a-051969461e3a",
   "metadata": {},
   "source": [
    "##  Time Zones and Daylight Saving\n",
    "0%\n",
    "\n",
    "In this chapter, you'll learn to confidently tackle the time-related topic that causes people the most trouble: time zones and daylight saving. Continuing with our bike data, you'll learn how to compare clocks around the world, how to gracefully handle \"spring forward\" and \"fall back,\" and how to get up-to-date timezone data from the dateutil library.\n",
    "\n",
    "    UTC offsets    50 xp\n",
    "    Creating timezone aware datetimes    100 xp\n",
    "    Setting timezones    100 xp\n",
    "    What time did the bike leave in UTC?    100 xp\n",
    "    Time zone database    50 xp\n",
    "    Putting the bike trips into the right time zone    100 xp\n",
    "    What time did the bike leave? (Global edition)    100 xp\n",
    "    Starting daylight saving time    50 xp\n",
    "    How many hours elapsed around daylight saving?    100 xp\n",
    "    March 29, throughout a decade    100 xp\n",
    "    Ending daylight saving time    50 xp\n",
    "    Finding ambiguous datetimes    100 xp\n",
    "    Cleaning daylight saving data with fold    100 xp \n",
    "    "
   ]
  },
  {
   "cell_type": "markdown",
   "id": "b9a58a7c-93c0-4a2f-98b3-19b672b24a3c",
   "metadata": {},
   "source": [
    "##  Easy and Powerful: Dates and Times in Pandas\n",
    "0%\n",
    "\n",
    "To conclude this course, you'll apply everything you've learned about working with dates and times in standard Python to working with dates and times in Pandas. With additional information about each bike ride, such as what station it started and stopped at and whether or not the rider had a yearly membership, you'll be able to dig much more deeply into the bike trip data. In this chapter, you'll cover powerful Pandas operations, such as grouping and plotting results by time.\n",
    "\n",
    "    Reading date and time data in Pandas    50 xp\n",
    "    Loading a csv file in Pandas    100 xp\n",
    "    Making timedelta columns    100 xp\n",
    "    Summarizing datetime data in Pandas    50 xp\n",
    "    How many joyrides?    100 xp\n",
    "    It's getting cold outside, W20529    100 xp\n",
    "    Members vs casual riders over time    100 xp\n",
    "    Combining groupby() and resample()    100 xp\n",
    "    Additional datetime methods in Pandas    50 xp\n",
    "    Timezones in Pandas    100 xp\n",
    "    How long per weekday?    100 xp\n",
    "    How long between rides?    100 xp\n",
    "    Wrap-up    50 xp\n"
   ]
  },
  {
   "cell_type": "code",
   "execution_count": null,
   "id": "021907f5-ecfc-44b1-a4be-75ce1317966d",
   "metadata": {},
   "outputs": [],
   "source": []
  },
  {
   "cell_type": "markdown",
   "id": "f1362da5-c4b0-4b18-885f-a2e34cb2691b",
   "metadata": {},
   "source": [
    "## Dates in Python\n",
    "\n",
    "\n",
    "\n",
    "\n",
    "\n",
    "\n",
    "**Name is Max Shron, I will be your instructor for this course on working with dates and times in python.  Dates are everywhere in data science.  \n",
    "\n",
    "Stock prices go up dan down, experiments begin and end, people are born, politicans take votes, and on and on. All these events happen at a particualr point in time.  Knowing how to analysis data over time is a core data science skill.  \n",
    "\n",
    "\n",
    "# *******************************************************************************************************************\n",
    "This course is divided into 4 chapters.  The first chapter will be about working with dates and calendars.  In chapter 2, we will add time into the mix, and combine dates and times.  In chapter 3, we'll tackle one of the toughest parts of working with time: time zones and Daylight Saving.  And finally, in chapter 4, we'll connect what we've learned about working with dates and times to explore Pandas can make answering even complex questions about dates much easier.  \n",
    "# *******************************************************************************************************************\n",
    "\n",
    "\n",
    "Python has special date class, called \"date\", which you will use to represent dates.  A date, like a string, or a number, or a NumPy array, has special rules for creating it and methods for working with it.  In this lesson, we're going to discuss creating dates and extracting some basic information out of them.  \n",
    "\n",
    "\n",
    "So why do we need a special date class?  To understand how dates work, in this chapter you're going to exlore 67 years of Hurricane landfalls in the US state of Florida.  \n",
    "\n",
    "two_hurricanes is a list with dates of two hurricanes represented as string: the last 2016\n",
    "\n",
    "\n",
    "\n",
    "\n",
    "\n"
   ]
  },
  {
   "cell_type": "code",
   "execution_count": null,
   "id": "14735c68-4715-46f1-a406-2373ce4fc6ff",
   "metadata": {},
   "outputs": [],
   "source": []
  },
  {
   "cell_type": "code",
   "execution_count": null,
   "id": "97a87a58-af21-4f82-bffc-38d7b925615e",
   "metadata": {},
   "outputs": [],
   "source": []
  },
  {
   "cell_type": "code",
   "execution_count": null,
   "id": "9cefb0c7-f2f3-4774-84c8-a44d3f6a9bc7",
   "metadata": {},
   "outputs": [],
   "source": []
  },
  {
   "cell_type": "code",
   "execution_count": null,
   "id": "60b70f48-1c56-412e-aef5-c4c86063d803",
   "metadata": {},
   "outputs": [],
   "source": []
  },
  {
   "cell_type": "code",
   "execution_count": null,
   "id": "4744e0e1-f6b3-49eb-8038-5f9b2b0ddacc",
   "metadata": {},
   "outputs": [],
   "source": []
  },
  {
   "cell_type": "code",
   "execution_count": null,
   "id": "1dedd6af-df58-4de0-89f7-9ba05eabaf18",
   "metadata": {},
   "outputs": [],
   "source": []
  },
  {
   "cell_type": "code",
   "execution_count": null,
   "id": "df226c51-ff47-495f-9ff4-d1c00b0d09af",
   "metadata": {},
   "outputs": [],
   "source": []
  },
  {
   "cell_type": "code",
   "execution_count": null,
   "id": "e95de657-186d-4cc5-b1a4-2db5cb40ce4d",
   "metadata": {},
   "outputs": [],
   "source": []
  },
  {
   "cell_type": "code",
   "execution_count": null,
   "id": "b6c3e9ee-3402-4fed-9f83-3fdd0375c34c",
   "metadata": {},
   "outputs": [],
   "source": []
  },
  {
   "cell_type": "code",
   "execution_count": null,
   "id": "a84d124a-5253-45a5-b010-e3a2c634a816",
   "metadata": {},
   "outputs": [],
   "source": []
  },
  {
   "cell_type": "code",
   "execution_count": null,
   "id": "efeb7438-e655-45b9-ba53-97460f82d8de",
   "metadata": {},
   "outputs": [],
   "source": []
  },
  {
   "cell_type": "code",
   "execution_count": null,
   "id": "41eb2dee-9280-448a-9331-1e1e1751b57a",
   "metadata": {},
   "outputs": [],
   "source": []
  },
  {
   "cell_type": "code",
   "execution_count": null,
   "id": "6d6f2ac7-1349-4ba6-904a-97a02c226e3e",
   "metadata": {},
   "outputs": [],
   "source": []
  },
  {
   "cell_type": "code",
   "execution_count": null,
   "id": "a6ec7ba0-3b20-4bbf-bfc6-9ba54e5c5561",
   "metadata": {},
   "outputs": [],
   "source": []
  },
  {
   "cell_type": "code",
   "execution_count": null,
   "id": "ce6f18aa-6e43-431e-a55d-b1f63bce4166",
   "metadata": {},
   "outputs": [],
   "source": []
  },
  {
   "cell_type": "code",
   "execution_count": null,
   "id": "f89941f5-29f5-4030-af59-70a6b4ea601a",
   "metadata": {},
   "outputs": [],
   "source": []
  },
  {
   "cell_type": "code",
   "execution_count": null,
   "id": "a9f32630-19b0-4148-884c-47db3f669ac2",
   "metadata": {},
   "outputs": [],
   "source": []
  },
  {
   "cell_type": "code",
   "execution_count": null,
   "id": "79fe9c06-13be-424f-927b-e08aaa658e6d",
   "metadata": {},
   "outputs": [],
   "source": []
  },
  {
   "cell_type": "code",
   "execution_count": null,
   "id": "98c4366a-8097-4bf9-b1de-46e13757e101",
   "metadata": {},
   "outputs": [],
   "source": []
  },
  {
   "cell_type": "code",
   "execution_count": null,
   "id": "0d250cd6-782b-410d-8420-eaba125d7d22",
   "metadata": {},
   "outputs": [],
   "source": []
  }
 ],
 "metadata": {
  "kernelspec": {
   "display_name": "Python 3 (ipykernel)",
   "language": "python",
   "name": "python3"
  },
  "language_info": {
   "codemirror_mode": {
    "name": "ipython",
    "version": 3
   },
   "file_extension": ".py",
   "mimetype": "text/x-python",
   "name": "python",
   "nbconvert_exporter": "python",
   "pygments_lexer": "ipython3",
   "version": "3.9.2"
  }
 },
 "nbformat": 4,
 "nbformat_minor": 5
}
