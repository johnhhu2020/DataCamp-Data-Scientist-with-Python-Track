{
 "cells": [
  {
   "cell_type": "markdown",
   "id": "6ca49c26-39a0-4539-9ce6-c04150fcdd8d",
   "metadata": {},
   "source": [
    "## Working with Dates and Times in Python\n",
    "\n",
    "\n"
   ]
  },
  {
   "cell_type": "markdown",
   "id": "17971f32-843b-4762-92ad-73538121cb84",
   "metadata": {},
   "source": [
    "## Course Description\n",
    "\n",
    "You'll probably never have a time machine, but how about a machine for analyzing time? As soon as time enters any analysis, things can get weird. It's easy to get tripped up on day and month boundaries, time zones, daylight saving time, and all sorts of other things that can confuse the unprepared. If you're going to do any kind of analysis involving time, you’ll want to use Python to sort it out. Working with data sets on hurricanes and bike trips, we’ll cover counting events, figuring out how much time has elapsed between events and plotting data over time. You'll work in both standard Python and in Pandas, and we'll touch on the dateutil library, the only timezone library endorsed by the official Python documentation. After this course, you'll confidently handle date and time data in any format like a champion."
   ]
  },
  {
   "cell_type": "markdown",
   "id": "cf122ec0-f28b-4fd1-b455-3c71263e23c9",
   "metadata": {},
   "source": [
    "##  Dates and Calendars\n",
    "Free\n",
    "0%\n",
    "\n",
    "Hurricanes (also known as cyclones or typhoons) hit the U.S. state of Florida several times per year. To start off this course, you'll learn how to work with date objects in Python, starting with the dates of every hurricane to hit Florida since 1950. You'll learn how Python handles dates, common date operations, and the right way to format dates to avoid confusion.\n",
    "\n",
    "    Dates in Python    50 xp\n",
    "    Which day of the week?    100 xp\n",
    "    How many hurricanes come early?    100 xp\n",
    "    Math with dates    50 xp\n",
    "    Subtracting dates    100 xp\n",
    "    Counting events per calendar month    100 xp\n",
    "    Putting a list of dates in order    100 xp\n",
    "    Turning dates into strings    50 xp\n",
    "    Printing dates in a friendly format    100 xp\n",
    "    Representing dates in different ways    100 xp \n",
    "    "
   ]
  },
  {
   "cell_type": "markdown",
   "id": "2e36dbed-78d5-46a8-af84-ac30a293dc23",
   "metadata": {},
   "source": [
    "##  Combining Dates and Times\n",
    "0%\n",
    "\n",
    "Bike sharing programs have swept through cities around the world -- and luckily for us, every trip gets recorded! Working with all of the comings and goings of one bike in Washington, D.C., you'll practice working with dates and times together. You'll parse dates and times from text, analyze peak trip times, calculate ride durations, and more.\n",
    "\n",
    "    Dates and times    50 xp\n",
    "    Creating datetimes by hand    100 xp\n",
    "    Counting events before and after noon    100 xp\n",
    "    Printing and parsing datetimes    50 xp\n",
    "    Turning strings into datetimes    100 xp\n",
    "    Parsing pairs of strings as datetimes    100 xp\n",
    "    Recreating ISO format with strftime()    100 xp\n",
    "    Unix timestamps    100 xp\n",
    "    Working with durations    50 xp\n",
    "    Turning pairs of datetimes into durations    100 xp\n",
    "    Average trip time    100 xp\n",
    "    The long and the short of why time is hard    100 xp \n",
    "    "
   ]
  },
  {
   "cell_type": "markdown",
   "id": "a44991d0-7a76-47ad-805a-051969461e3a",
   "metadata": {},
   "source": [
    "##  Time Zones and Daylight Saving\n",
    "0%\n",
    "\n",
    "In this chapter, you'll learn to confidently tackle the time-related topic that causes people the most trouble: time zones and daylight saving. Continuing with our bike data, you'll learn how to compare clocks around the world, how to gracefully handle \"spring forward\" and \"fall back,\" and how to get up-to-date timezone data from the dateutil library.\n",
    "\n",
    "    UTC offsets    50 xp\n",
    "    Creating timezone aware datetimes    100 xp\n",
    "    Setting timezones    100 xp\n",
    "    What time did the bike leave in UTC?    100 xp\n",
    "    Time zone database    50 xp\n",
    "    Putting the bike trips into the right time zone    100 xp\n",
    "    What time did the bike leave? (Global edition)    100 xp\n",
    "    Starting daylight saving time    50 xp\n",
    "    How many hours elapsed around daylight saving?    100 xp\n",
    "    March 29, throughout a decade    100 xp\n",
    "    Ending daylight saving time    50 xp\n",
    "    Finding ambiguous datetimes    100 xp\n",
    "    Cleaning daylight saving data with fold    100 xp \n",
    "    "
   ]
  },
  {
   "cell_type": "markdown",
   "id": "b9a58a7c-93c0-4a2f-98b3-19b672b24a3c",
   "metadata": {},
   "source": [
    "##  Easy and Powerful: Dates and Times in Pandas\n",
    "0%\n",
    "\n",
    "To conclude this course, you'll apply everything you've learned about working with dates and times in standard Python to working with dates and times in Pandas. With additional information about each bike ride, such as what station it started and stopped at and whether or not the rider had a yearly membership, you'll be able to dig much more deeply into the bike trip data. In this chapter, you'll cover powerful Pandas operations, such as grouping and plotting results by time.\n",
    "\n",
    "    Reading date and time data in Pandas    50 xp\n",
    "    Loading a csv file in Pandas    100 xp\n",
    "    Making timedelta columns    100 xp\n",
    "    Summarizing datetime data in Pandas    50 xp\n",
    "    How many joyrides?    100 xp\n",
    "    It's getting cold outside, W20529    100 xp\n",
    "    Members vs casual riders over time    100 xp\n",
    "    Combining groupby() and resample()    100 xp\n",
    "    Additional datetime methods in Pandas    50 xp\n",
    "    Timezones in Pandas    100 xp\n",
    "    How long per weekday?    100 xp\n",
    "    How long between rides?    100 xp\n",
    "    Wrap-up    50 xp\n"
   ]
  },
  {
   "cell_type": "code",
   "execution_count": null,
   "id": "021907f5-ecfc-44b1-a4be-75ce1317966d",
   "metadata": {},
   "outputs": [],
   "source": []
  },
  {
   "cell_type": "markdown",
   "id": "f1362da5-c4b0-4b18-885f-a2e34cb2691b",
   "metadata": {},
   "source": [
    "## Dates in Python\n",
    "\n",
    "\n",
    "\n",
    "\n",
    "\n",
    "\n",
    "**Name is Max Shron, I will be your instructor for this course on working with dates and times in python.  Dates are everywhere in data science.  \n",
    "\n",
    "Stock prices go up dan down, experiments begin and end, people are born, politicans take votes, and on and on. All these events happen at a particualr point in time.  Knowing how to analysis data over time is a core data science skill.  \n",
    "\n",
    "\n",
    "# *******************************************************************************************************************\n",
    "This course is divided into 4 chapters.  The first chapter will be about working with dates and calendars.  In chapter 2, we will add time into the mix, and combine dates and times.  In chapter 3, we'll tackle one of the toughest parts of working with time: time zones and Daylight Saving.  And finally, in chapter 4, we'll connect what we've learned about working with dates and times to explore how Pandas can make answering even complex questions about dates much easier.  \n",
    "# *******************************************************************************************************************\n",
    "\n",
    "\n",
    "Python has special date class, called \"date\", which you will use to represent dates.  A date, like a string, or a number, or a NumPy array, has special rules for creating it and methods for working with it.  In this lesson, we're going to discuss creating dates and extracting some basic information out of them.  \n",
    "\n",
    "\n",
    "So why do we need a special date class?  To understand how dates work, in this chapter you're going to exlore 67 years of Hurricane landfalls in the US state of Florida.  The \"two_hurricanes\" is a list with dates of two hurricanes represented as string: the last 2016 hurricane (on October 7th, 2016) and the first 2017 hurricane (on June 21st, 2017).  The dates are represented in the US style, with the month, then day, then the year.  \n",
    "\n",
    "\n",
    "# *******************************************************************************************************************\n",
    "Suppose you want to do something interesting with these dates.  How would you figure out how many days had elapsed between them?  How would you check that they were ordered from earliest to latest?  How would you know which day of the week each was?  Doing these things manually would be challenging, but Python makes all of them easy.  By the end of this chapter, you'll know how to do each of these things yourself.  \n",
    "\n",
    "\n",
    "# To create a date object, we start by importing the data class.  The collection of date and time-related classes are stored in the \"datetime\" package.  \n",
    "We create a date using the \"date()\" function.  Here we created dates corresponding to the two hurricanes, now as Python date objects.  The inputs to \"date()\" function are the year, month, and day.  The first date is October 7, 2016 and the second date is June 21, 2017.  The order is easy to remember: it goes from the biggest to smallest.  year, month, day.  \n",
    "\n",
    "Later in this chapter, you'll create dates directly from list of strings, but in this lesson, youre stick to creating dates by hand or using list of already created dates.  You can access indivdual components of a date using the date-object's attributes.  You can access the year of the date using the \".year\" attribute, like so, and the result is 2016.  \n",
    "\n",
    "# You can also ask Python to do more complicated work.  \n",
    "Here we call the \"weekday()\" method on the date-object, and see the weekday is 4.  Python counts weekdays from 0, starting on Monday and so on.  1 is Tuesday, 2 is Wednesday, up to 6 being a Sunday.  So this 4 means its Friday.  \n",
    "\n",
    "\n",
    "In the next few exercises, you'll implement what you've seen in this video to see how much you can already do.  \n",
    "\n",
    "\n",
    "\n",
    "two_hurricanes = [\"10/7/2016\", \"6/21/2017\"]\n",
    "\n",
    "\n",
    "# Import date\n",
    "from datetime import date\n",
    "# Create dates\n",
    "two_hurricanes_dates = [date(2016, 10, 7), date(2017, 6, 21)]   #++++++++++++++++++++++++++++++++++++++++++++++++++++\n",
    "\n",
    "print(two_hurricanes_dates[0].year)\n"
   ]
  },
  {
   "cell_type": "code",
   "execution_count": 19,
   "id": "14735c68-4715-46f1-a406-2373ce4fc6ff",
   "metadata": {},
   "outputs": [
    {
     "name": "stdout",
     "output_type": "stream",
     "text": [
      "10 \n",
      "\n",
      "4 \n",
      "\n"
     ]
    }
   ],
   "source": [
    "from datetime import date\n",
    "\n",
    "\n",
    "two_hurricanes = [\"10/7/2016\", \"6/21/2017\"]\n",
    "\n",
    "two_hurricanes_dates = [date(2016, 10, 7), date(2017, 6, 21)]\n",
    "\n",
    "\n",
    "print(two_hurricanes_dates[0].month, '\\n')  #########################################################################\n",
    "\n",
    "print(two_hurricanes_dates[0].weekday(), '\\n')  #####################################################################"
   ]
  },
  {
   "cell_type": "code",
   "execution_count": 9,
   "id": "d38e5b4a-96c5-4188-8039-00b61ade8c3e",
   "metadata": {},
   "outputs": [
    {
     "name": "stdout",
     "output_type": "stream",
     "text": [
      "['__add__', '__class__', '__delattr__', '__dir__', '__doc__', '__eq__', '__format__', '__ge__', '__getattribute__', '__gt__', '__hash__', '__init__', '__init_subclass__', '__le__', '__lt__', '__ne__', '__new__', '__radd__', '__reduce__', '__reduce_ex__', '__repr__', '__rsub__', '__setattr__', '__sizeof__', '__str__', '__sub__', '__subclasshook__', 'ctime', 'day', 'fromisocalendar', 'fromisoformat', 'fromordinal', 'fromtimestamp', 'isocalendar', 'isoformat', 'isoweekday', 'max', 'min', 'month', 'replace', 'resolution', 'strftime', 'timetuple', 'today', 'toordinal', 'weekday', 'year']\n"
     ]
    }
   ],
   "source": [
    "print(dir(two_hurricanes_dates[0]))"
   ]
  },
  {
   "cell_type": "markdown",
   "id": "ed04a183-a658-49d4-a0f5-88d6a4af5643",
   "metadata": {},
   "source": [
    "## Which day of the week?\n",
    "\n",
    "Hurricane Andrew, which hit Florida on August 24, 1992, was one of the costliest and deadliest hurricanes in US history. Which day of the week did it make landfall?\n",
    "\n",
    "Let's walk through all of the steps to figure this out.\n",
    "Instructions 1/3\n",
    "35 XP\n",
    "\n",
    "    Question 1\n",
    "    Import date from datetime.\n",
    "    \n",
    "    \n",
    "    \n",
    "    Question 2\n",
    "    Create a date object for August 24, 1992.\n",
    "    \n",
    "    \n",
    "    \n",
    "    Question 3\n",
    "    Now ask Python what day of the week Hurricane Andrew hit (remember that Python counts days of the week starting from Monday as 0, Tuesday as 1, and so on).\n"
   ]
  },
  {
   "cell_type": "code",
   "execution_count": null,
   "id": "9cefb0c7-f2f3-4774-84c8-a44d3f6a9bc7",
   "metadata": {},
   "outputs": [],
   "source": [
    "# Import date from datetime\n",
    "from datetime import date\n",
    "\n",
    "# Create a date object\n",
    "hurricane_andrew = date(1992, 8, 24)\n",
    "\n",
    "\n",
    "\n",
    "# Which day of the week is the date?\n",
    "print(hurricane_andrew.____)"
   ]
  },
  {
   "cell_type": "markdown",
   "id": "233b509b-deab-4580-b270-15839cb1b2c8",
   "metadata": {},
   "source": [
    "## How many hurricanes come early?\n",
    "\n",
    "In this chapter, you will work with a list of the hurricanes that made landfall in Florida from 1950 to 2017. There were 235 in total. Check out the variable \"florida_hurricane_dates\", which has all of these dates.\n",
    "\n",
    "Atlantic hurricane season officially begins on June 1. How many hurricanes since 1950 have made landfall in Florida before the official start of hurricane season?\n",
    "Instructions\n",
    "100 XP\n",
    "\n",
    "    Complete the for loop to iterate through florida_hurricane_dates.\n",
    "    Complete the if statement to increment the counter (early_hurricanes) if the hurricane made landfall before June.\n"
   ]
  },
  {
   "cell_type": "code",
   "execution_count": 7,
   "id": "4744e0e1-f6b3-49eb-8038-5f9b2b0ddacc",
   "metadata": {},
   "outputs": [
    {
     "name": "stdout",
     "output_type": "stream",
     "text": [
      "<class 'datetime.date'>\n",
      "[datetime.date(1950, 8, 31), datetime.date(1950, 9, 5), datetime.date(1950, 10, 18)]\n"
     ]
    }
   ],
   "source": [
    "florida_hurricane = [\n",
    "    (1950, 8, 31), (1950, 9, 5), (1950, 10, 18), (1950, 10, 21), (1951, 5, 18), (1951, 10, 2), (1952, 2, 3), \n",
    " (1952, 8, 30), (1953, 6, 6), (1953, 8, 29), (1953, 9, 20), (1953, 9, 26), (1953, 10, 9), (1955, 8, 21), \n",
    " (1956, 7, 6), (1956, 9, 24), (1956, 10, 15), (1957, 6, 8), (1957, 9, 8), (1958, 9, 4), (1959, 6, 18), \n",
    " (1959, 10, 8), (1959, 10, 18), (1960, 7, 29), (1960, 9, 10), (1960, 9, 15), (1960, 9, 23), (1961, 9, 11),\n",
    " (1961, 10, 29), (1962, 8, 26), (1963, 10, 21), (1964, 6, 6), (1964, 8, 27), (1964, 9, 10), (1964, 9, 20),\n",
    " (1964, 10, 5), (1964, 10, 14), (1965, 6, 15), (1965, 9, 8), (1965, 9, 30), (1966, 6, 9), (1966, 6, 30),\n",
    " (1966, 7, 24), (1966, 10, 4), (1968, 6, 4), (1968, 6, 18), (1968, 7, 5), (1968, 8, 10), (1968, 8, 28),\n",
    " (1968, 9, 26), (1968, 10, 19), (1969, 6, 9), (1969, 8, 18), (1969, 8, 29), (1969, 9, 7), (1969, 9, 21), \n",
    " (1969, 10, 1), (1969, 10, 2), (1969, 10, 21), (1970, 5, 25), (1970, 7, 22), (1970, 8, 6), (1970, 9, 13),\n",
    " (1970, 9, 27), (1971, 8, 10), (1971, 8, 13), (1971, 8, 29), (1971, 9, 1), (1971, 9, 16), (1971, 10, 13),\n",
    " (1972, 5, 28), (1972, 6, 19), (1972, 9, 5), (1973, 6, 7), (1973, 6, 23), (1973, 9, 3), (1973, 9, 25), \n",
    " (1974, 6, 25), (1974, 9, 8), (1974, 9, 27), (1974, 10, 7), (1975, 6, 27), (1975, 7, 29), (1975, 9, 23),\n",
    " (1975, 10, 1), (1975, 10, 16), (1976, 5, 23), (1976, 6, 11), (1976, 8, 19), (1976, 9, 13), (1977, 8, 27), \n",
    " (1977, 9, 5), (1978, 6, 22), (1979, 7, 11), (1979, 9, 3), (1979, 9, 12), (1979, 9, 24), (1980, 8, 7),\n",
    " (1980, 11, 18), (1981, 8, 17), (1982, 6, 18), (1982, 9, 11), (1983, 8, 28), (1984, 9, 9), (1984, 9, 27), \n",
    " (1984, 10, 26), (1985, 7, 23), (1985, 8, 15), (1985, 10, 10), (1985, 11, 21), (1986, 6, 26), (1986, 8, 13), \n",
    " (1987, 8, 14), (1987, 9, 7), (1987, 10, 12), (1987, 11, 4), (1988, 5, 30), (1988, 8, 4), (1988, 8, 13),\n",
    " (1988, 8, 23), (1988, 9, 4), (1988, 9, 10), (1988, 9, 13), (1988, 11, 23), (1989, 9, 22), (1990, 5, 25),\n",
    " (1990, 10, 9), (1990, 10, 12), (1991, 6, 30), (1991, 10, 16), (1992, 6, 25), (1992, 8, 24), (1992, 9, 29), \n",
    " (1993, 6, 1), (1994, 7, 3), (1994, 8, 15), (1994, 10, 2), (1994, 11, 16), (1995, 6, 5), (1995, 7, 27),\n",
    " (1995, 8, 2), (1995, 8, 23), (1995, 10, 4), (1996, 7, 11), (1996, 9, 2), (1996, 10, 8), (1996, 10, 18),\n",
    " (1997, 7, 19), (1998, 9, 3), (1998, 9, 20), (1998, 9, 25), (1998, 11, 5), (1999, 8, 29), (1999, 9, 15),\n",
    " (1999, 9, 21), (1999, 10, 15), (2000, 8, 23), (2000, 9, 9), (2000, 9, 18), (2000, 9, 22), (2000, 10, 3), \n",
    " (2001, 6, 12), (2001, 8, 6), (2001, 9, 14), (2001, 11, 5), (2002, 7, 13), (2002, 8, 4), (2002, 9, 4), \n",
    " (2002, 9, 14), (2002, 9, 26), (2002, 10, 3), (2002, 10, 11), (2003, 4, 20), (2003, 6, 30), (2003, 7, 25),\n",
    " (2003, 8, 14), (2003, 8, 30), (2003, 9, 6), (2003, 9, 13), (2004, 8, 12), (2004, 8, 13), (2004, 9, 5),\n",
    " (2004, 9, 13), (2004, 9, 16), (2004, 10, 10), (2005, 6, 11), (2005, 7, 6), (2005, 7, 10), (2005, 8, 25), \n",
    " (2005, 9, 12), (2005, 9, 20), (2005, 10, 5), (2005, 10, 24), (2006, 6, 13), (2006, 8, 30), (2007, 5, 9),\n",
    " (2007, 6, 2), (2007, 8, 23), (2007, 9, 8), (2007, 9, 13), (2007, 9, 22), (2007, 10, 31), (2007, 12, 13),\n",
    " (2008, 7, 16), (2008, 7, 22), (2008, 8, 18), (2008, 8, 31), (2008, 9, 2), (2009, 8, 16), (2009, 8, 21),\n",
    " (2009, 11, 9), (2010, 6, 30), (2010, 7, 23), (2010, 8, 10), (2010, 8, 31), (2010, 9, 29), (2011, 7, 18),\n",
    " (2011, 8, 25), (2011, 9, 3), (2011, 10, 28), (2011, 11, 9), (2012, 5, 28), (2012, 6, 23), (2012, 8, 25),\n",
    " (2012, 10, 25), (2015, 8, 30), (2015, 10, 1), (2016, 6, 6), (2016, 9, 1), (2016, 9, 14), (2016, 10, 7), \n",
    " (2017, 6, 21), (2017, 7, 31), (2017, 9, 10), (2017, 10, 29)]\n",
    "\n",
    "\n",
    "\n",
    "florida_hurricane_dates = [date(*i) for i in florida_hurricane]\n",
    "\n",
    "print(type(florida_hurricane_dates[0]))\n",
    "\n",
    "print(florida_hurricane_dates[:3])"
   ]
  },
  {
   "cell_type": "code",
   "execution_count": 8,
   "id": "1dedd6af-df58-4de0-89f7-9ba05eabaf18",
   "metadata": {},
   "outputs": [
    {
     "name": "stdout",
     "output_type": "stream",
     "text": [
      "10\n"
     ]
    }
   ],
   "source": [
    "# Counter for how many before June 1\n",
    "early_hurricanes = 0\n",
    "\n",
    "# We loop over the dates\n",
    "for hurricane in florida_hurricane_dates:\n",
    "  # Check if the month is before June (month number 6)\n",
    "  if hurricane.month < 6:\n",
    "    early_hurricanes = early_hurricanes + 1\n",
    "    \n",
    "print(early_hurricanes)"
   ]
  },
  {
   "cell_type": "markdown",
   "id": "ce4c20e3-e43b-4199-ac09-a45247d17117",
   "metadata": {},
   "source": [
    "## Math with dates\n",
    "\n",
    "\n",
    "\n",
    "\n",
    "\n",
    "\n",
    "\n",
    "**In the last lesson, we discussed how to create date objects and access their attributes.  \n",
    "\n",
    "# In this lesson, we're going to talk about how to do math with dates: counting days between events, moving forward or backward by a number of days, putting them in order and so on.  \n",
    "\n",
    "Lets take a step back, Think back when you first learned arithmetic.  You probably started with something like a line of numbers.  A number line tells you what order the numbers go in, and how far apart numbers are from each other.  Lets pick two numbers, 14 and 16, and represent them in Python as teh variable a and b respectively.  We'll put them into a list - l.  Pyhthon can tell us which number in this list is the least, using the \".min()\" function.  We can also subtract numbers.  When we subtrack two numbers, in this case subtracting 11 from 14, the result is 3.  Said another way, if we took 3 steps from 11, we would get 14.  \n",
    "\n",
    "# Now lets think about how this applies to dates.  \n",
    "Lets call the line as calendar line, instead of a number line.  Each dot on this calendar line corresponds to a particular day.  Lets put two dates onto this calendar line: November 5th, 2017 and December 4th, 2017.  Let represents this in Python.  We start by importing the date class from datetime package.  We create two date objects: d1 is November 5th, 2017nd d2 is December 4th, 2017.  As before, we put them into a list, l.  What Python is doing under the hood, so to speak, is not that different from putting the dates onto a calendar line.  For example, if we call \".min()\" of l, we again get the \"least\" date, which means the earliest one.  In this case, thats November 5th, 2017.  \n",
    "And just like numbers, we can subtract two dates.  When we do this, we get an object of type \"timedelta\".  Timedeltas gives us the elapsed time between events.  If you access the \".days\" attribute of this object, you can obtain the number of days between the two dates.  We can also use a timedelta in the other direction.  First, lets import \"timedelta\" from datetime package.  Next, we create a 29-days timedelta, by passing \"days=29\" to \"timedelta()\" function.  Now when we add \"n_datetime\" to our original date we get back new date.  Python handled the fact that November has 30 days in it for us, without us having to remember which months are 30 day months, 31 day months, or 28 day months.  \n",
    "\n",
    "Finally a quick side note: we will use the \"plus-equal\" operation a number of times in the rest of this course, so we should discuss it.  If you arent familiar with it, you can see how it works here.  Just Google it.  Google knows everything.  \n",
    "\n",
    "\n",
    "We talked about how date objects are very similar to numbers, and how you can subtract them to get a timedelta object, or add timedelta to a date object to get a new date.  We also briefly touched on the += operator. Its time for you to practice these concepts.  \n",
    "\n",
    "\n"
   ]
  },
  {
   "cell_type": "code",
   "execution_count": 15,
   "id": "e95de657-186d-4cc5-b1a4-2db5cb40ce4d",
   "metadata": {},
   "outputs": [
    {
     "name": "stdout",
     "output_type": "stream",
     "text": [
      "2016-10-07\n",
      "2017-06-21\n",
      "2017-07-01\n"
     ]
    }
   ],
   "source": [
    "from datetime import date, timedelta\n",
    "\n",
    "\n",
    "two_hurricanes = [\"10/7/2016\", \"6/21/2017\"]\n",
    "\n",
    "two_hurricanes_dates = [date(2016, 10, 7), date(2017, 6, 21)]\n",
    "\n",
    "\n",
    "#print(two_hurricanes_dates.min())   # AttributeError: 'list' object has no attribute 'min'\n",
    "print(min(two_hurricanes_dates))\n",
    "print(max(two_hurricanes_dates))\n",
    "\n",
    "\n",
    "delta = timedelta(days=10)#, months=2, years=20)\n",
    "\n",
    "\n",
    "n_datetime = two_hurricanes_dates[1] + delta\n",
    "\n",
    "print(n_datetime)"
   ]
  },
  {
   "cell_type": "markdown",
   "id": "998650ba-fcaa-46ef-9ade-ec8cfbda734e",
   "metadata": {},
   "source": [
    "## Subtracting dates\n",
    "\n",
    "Python date objects let us treat calendar dates as something similar to numbers: we can compare them, sort them, add, and even subtract them. This lets us do math with dates in a way that would be a pain to do by hand.\n",
    "\n",
    "The 2007 Florida hurricane season was one of the busiest on record, with 8 hurricanes in one year. The first one hit on May 9th, 2007, and the last one hit on December 13th, 2007. How many days elapsed between the first and last hurricane in 2007?\n",
    "Instructions\n",
    "100 XP\n",
    "\n",
    "    Import date from datetime.\n",
    "    Create a date object for May 9th, 2007, and assign it to the start variable.\n",
    "    Create a date object for December 13th, 2007, and assign it to the end variable.\n",
    "    Subtract start from end, to print the number of days in the resulting timedelta object.\n"
   ]
  },
  {
   "cell_type": "code",
   "execution_count": 28,
   "id": "a84d124a-5253-45a5-b010-e3a2c634a816",
   "metadata": {},
   "outputs": [
    {
     "name": "stdout",
     "output_type": "stream",
     "text": [
      "218\n"
     ]
    }
   ],
   "source": [
    "# Import date\n",
    "from datetime import date\n",
    "\n",
    "# Create a date object for May 9th, 2007\n",
    "start = date(2007, 5, 9)\n",
    "\n",
    "# Create a date object for December 13th, 2007\n",
    "end = date(2007, 12, 13)\n",
    "\n",
    "# Subtract the two dates and print the number of days\n",
    "print((end - start).days)"
   ]
  },
  {
   "cell_type": "code",
   "execution_count": 27,
   "id": "efeb7438-e655-45b9-ba53-97460f82d8de",
   "metadata": {},
   "outputs": [],
   "source": [
    "# MS code interview, two list of nums, find the minimum number of steps needed to equal the sums of two lists.   \n",
    "\n",
    "list_a = [1, 2, 3, 4, 5, 6]\n",
    "list_b = [1, 1, 2, 2, 2, 2]"
   ]
  },
  {
   "cell_type": "markdown",
   "id": "2e653b6d-46a0-44f2-ae74-4a8964819efb",
   "metadata": {},
   "source": [
    "## Counting events per calendar month\n",
    "\n",
    "Hurricanes can make landfall in Florida throughout the year. As we've already discussed, some months are more hurricane-prone than others.\n",
    "\n",
    "Using florida_hurricane_dates, let's see how hurricanes in Florida were distributed across months throughout the year.\n",
    "\n",
    "We've created a dictionary called hurricanes_each_month to hold your counts and set the initial counts to zero. You will loop over the list of hurricanes, incrementing the correct month in hurricanes_each_month as you go, and then print the result.\n",
    "Instructions\n",
    "100 XP\n",
    "\n",
    "    Within the for loop:\n",
    "    Assign month to be the month of that hurricane.\n",
    "    Increment hurricanes_each_month for the relevant month by 1.\n"
   ]
  },
  {
   "cell_type": "code",
   "execution_count": 52,
   "id": "a6ec7ba0-3b20-4bbf-bfc6-9ba54e5c5561",
   "metadata": {},
   "outputs": [
    {
     "name": "stdout",
     "output_type": "stream",
     "text": [
      "[datetime.date(1950, 8, 31), datetime.date(1950, 9, 5), datetime.date(1950, 10, 18), datetime.date(1950, 10, 21), datetime.date(1951, 5, 18), datetime.date(1951, 10, 2), datetime.date(1952, 2, 3), datetime.date(1952, 8, 30), datetime.date(1953, 6, 6), datetime.date(1953, 8, 29), datetime.date(1953, 9, 20), datetime.date(1953, 9, 26), datetime.date(1953, 10, 9), datetime.date(1955, 8, 21), datetime.date(1956, 7, 6), datetime.date(1956, 9, 24), datetime.date(1956, 10, 15), datetime.date(1957, 6, 8), datetime.date(1957, 9, 8), datetime.date(1958, 9, 4), datetime.date(1959, 6, 18), datetime.date(1959, 10, 8), datetime.date(1959, 10, 18), datetime.date(1960, 7, 29), datetime.date(1960, 9, 10), datetime.date(1960, 9, 15), datetime.date(1960, 9, 23), datetime.date(1961, 9, 11), datetime.date(1961, 10, 29), datetime.date(1962, 8, 26), datetime.date(1963, 10, 21), datetime.date(1964, 6, 6), datetime.date(1964, 8, 27), datetime.date(1964, 9, 10), datetime.date(1964, 9, 20), datetime.date(1964, 10, 5), datetime.date(1964, 10, 14), datetime.date(1965, 6, 15), datetime.date(1965, 9, 8), datetime.date(1965, 9, 30), datetime.date(1966, 6, 9), datetime.date(1966, 6, 30), datetime.date(1966, 7, 24), datetime.date(1966, 10, 4), datetime.date(1968, 6, 4), datetime.date(1968, 6, 18), datetime.date(1968, 7, 5), datetime.date(1968, 8, 10), datetime.date(1968, 8, 28), datetime.date(1968, 9, 26), datetime.date(1968, 10, 19), datetime.date(1969, 6, 9), datetime.date(1969, 8, 18), datetime.date(1969, 8, 29), datetime.date(1969, 9, 7), datetime.date(1969, 9, 21), datetime.date(1969, 10, 1), datetime.date(1969, 10, 2), datetime.date(1969, 10, 21), datetime.date(1970, 5, 25), datetime.date(1970, 7, 22), datetime.date(1970, 8, 6), datetime.date(1970, 9, 13), datetime.date(1970, 9, 27), datetime.date(1971, 8, 10), datetime.date(1971, 8, 13), datetime.date(1971, 8, 29), datetime.date(1971, 9, 1), datetime.date(1971, 9, 16), datetime.date(1971, 10, 13), datetime.date(1972, 5, 28), datetime.date(1972, 6, 19), datetime.date(1972, 9, 5), datetime.date(1973, 6, 7), datetime.date(1973, 6, 23), datetime.date(1973, 9, 3), datetime.date(1973, 9, 25), datetime.date(1974, 6, 25), datetime.date(1974, 9, 8), datetime.date(1974, 9, 27), datetime.date(1974, 10, 7), datetime.date(1975, 6, 27), datetime.date(1975, 7, 29), datetime.date(1975, 9, 23), datetime.date(1975, 10, 1), datetime.date(1975, 10, 16), datetime.date(1976, 5, 23), datetime.date(1976, 6, 11), datetime.date(1976, 8, 19), datetime.date(1976, 9, 13), datetime.date(1977, 8, 27), datetime.date(1977, 9, 5), datetime.date(1978, 6, 22), datetime.date(1979, 7, 11), datetime.date(1979, 9, 3), datetime.date(1979, 9, 12), datetime.date(1979, 9, 24), datetime.date(1980, 8, 7), datetime.date(1980, 11, 18), datetime.date(1981, 8, 17), datetime.date(1982, 6, 18), datetime.date(1982, 9, 11), datetime.date(1983, 8, 28), datetime.date(1984, 9, 9), datetime.date(1984, 9, 27), datetime.date(1984, 10, 26), datetime.date(1985, 7, 23), datetime.date(1985, 8, 15), datetime.date(1985, 10, 10), datetime.date(1985, 11, 21), datetime.date(1986, 6, 26), datetime.date(1986, 8, 13), datetime.date(1987, 8, 14), datetime.date(1987, 9, 7), datetime.date(1987, 10, 12), datetime.date(1987, 11, 4), datetime.date(1988, 5, 30), datetime.date(1988, 8, 4), datetime.date(1988, 8, 13), datetime.date(1988, 8, 23), datetime.date(1988, 9, 4), datetime.date(1988, 9, 10), datetime.date(1988, 9, 13), datetime.date(1988, 11, 23), datetime.date(1989, 9, 22), datetime.date(1990, 5, 25), datetime.date(1990, 10, 9), datetime.date(1990, 10, 12), datetime.date(1991, 6, 30), datetime.date(1991, 10, 16), datetime.date(1992, 6, 25), datetime.date(1992, 8, 24), datetime.date(1992, 9, 29), datetime.date(1993, 6, 1), datetime.date(1994, 7, 3), datetime.date(1994, 8, 15), datetime.date(1994, 10, 2), datetime.date(1994, 11, 16), datetime.date(1995, 6, 5), datetime.date(1995, 7, 27), datetime.date(1995, 8, 2), datetime.date(1995, 8, 23), datetime.date(1995, 10, 4), datetime.date(1996, 7, 11), datetime.date(1996, 9, 2), datetime.date(1996, 10, 8), datetime.date(1996, 10, 18), datetime.date(1997, 7, 19), datetime.date(1998, 9, 3), datetime.date(1998, 9, 20), datetime.date(1998, 9, 25), datetime.date(1998, 11, 5), datetime.date(1999, 8, 29), datetime.date(1999, 9, 15), datetime.date(1999, 9, 21), datetime.date(1999, 10, 15), datetime.date(2000, 8, 23), datetime.date(2000, 9, 9), datetime.date(2000, 9, 18), datetime.date(2000, 9, 22), datetime.date(2000, 10, 3), datetime.date(2001, 6, 12), datetime.date(2001, 8, 6), datetime.date(2001, 9, 14), datetime.date(2001, 11, 5), datetime.date(2002, 7, 13), datetime.date(2002, 8, 4), datetime.date(2002, 9, 4), datetime.date(2002, 9, 14), datetime.date(2002, 9, 26), datetime.date(2002, 10, 3), datetime.date(2002, 10, 11), datetime.date(2003, 4, 20), datetime.date(2003, 6, 30), datetime.date(2003, 7, 25), datetime.date(2003, 8, 14), datetime.date(2003, 8, 30), datetime.date(2003, 9, 6), datetime.date(2003, 9, 13), datetime.date(2004, 8, 12), datetime.date(2004, 8, 13), datetime.date(2004, 9, 5), datetime.date(2004, 9, 13), datetime.date(2004, 9, 16), datetime.date(2004, 10, 10), datetime.date(2005, 6, 11), datetime.date(2005, 7, 6), datetime.date(2005, 7, 10), datetime.date(2005, 8, 25), datetime.date(2005, 9, 12), datetime.date(2005, 9, 20), datetime.date(2005, 10, 5), datetime.date(2005, 10, 24), datetime.date(2006, 6, 13), datetime.date(2006, 8, 30), datetime.date(2007, 5, 9), datetime.date(2007, 6, 2), datetime.date(2007, 8, 23), datetime.date(2007, 9, 8), datetime.date(2007, 9, 13), datetime.date(2007, 9, 22), datetime.date(2007, 10, 31), datetime.date(2007, 12, 13), datetime.date(2008, 7, 16), datetime.date(2008, 7, 22), datetime.date(2008, 8, 18), datetime.date(2008, 8, 31), datetime.date(2008, 9, 2), datetime.date(2009, 8, 16), datetime.date(2009, 8, 21), datetime.date(2009, 11, 9), datetime.date(2010, 6, 30), datetime.date(2010, 7, 23), datetime.date(2010, 8, 10), datetime.date(2010, 8, 31), datetime.date(2010, 9, 29), datetime.date(2011, 7, 18), datetime.date(2011, 8, 25), datetime.date(2011, 9, 3), datetime.date(2011, 10, 28), datetime.date(2011, 11, 9), datetime.date(2012, 5, 28), datetime.date(2012, 6, 23), datetime.date(2012, 8, 25), datetime.date(2012, 10, 25), datetime.date(2015, 8, 30), datetime.date(2015, 10, 1), datetime.date(2016, 6, 6), datetime.date(2016, 9, 1), datetime.date(2016, 9, 14), datetime.date(2016, 10, 7), datetime.date(2017, 6, 21), datetime.date(2017, 7, 31), datetime.date(2017, 9, 10), datetime.date(2017, 10, 29)] \n",
      "\n",
      "Counter({9: 70, 8: 49, 10: 43, 6: 32, 7: 21, 11: 9, 5: 8, 2: 1, 4: 1, 12: 1}) \n",
      "\n",
      "dict_keys([8, 9, 10, 5, 2, 6, 7, 11, 4, 12]) \n",
      "\n",
      "[(1, 0), (2, 1), (3, 0), (4, 1), (5, 8), (6, 32), (7, 21), (8, 49), (9, 70), (10, 43), (11, 9), (12, 1)] \n",
      "\n"
     ]
    }
   ],
   "source": [
    "print(florida_hurricane_dates, '\\n')#hurricanes_each_dates)\n",
    "\n",
    "\n",
    "florida_hurricane_month = [i.month for i in florida_hurricane_dates]\n",
    "\n",
    "\n",
    "from collections import Counter\n",
    "\n",
    "hurricanes_each_dates = Counter(florida_hurricane_month)\n",
    "print(hurricanes_each_dates, '\\n')\n",
    "\n",
    "print(hurricanes_each_dates.keys(), '\\n')\n",
    "\n",
    "for i in range(1, 13):\n",
    "    if i not in hurricanes_each_dates.keys():\n",
    "        hurricanes_each_dates[i] = 0\n",
    "        \n",
    "print(sorted(hurricanes_each_dates.items()), '\\n')\n",
    "\n",
    "\n",
    "#print(dir(print(hurricanes_each_dates)))"
   ]
  },
  {
   "cell_type": "code",
   "execution_count": 47,
   "id": "ce6f18aa-6e43-431e-a55d-b1f63bce4166",
   "metadata": {},
   "outputs": [
    {
     "name": "stdout",
     "output_type": "stream",
     "text": [
      "{1: 0, 2: 1, 3: 0, 4: 1, 5: 8, 6: 32, 7: 21, 8: 49, 9: 70, 10: 43, 11: 9, 12: 1}\n"
     ]
    }
   ],
   "source": [
    "# A dictionary to count hurricanes per calendar month\n",
    "hurricanes_each_month = {1: 0, 2: 0, 3: 0, 4: 0, 5: 0, 6:0,\n",
    "\t\t  \t\t\t\t 7: 0, 8:0, 9:0, 10:0, 11:0, 12:0}\n",
    "\n",
    "# Loop over all hurricanes\n",
    "for hurricane in florida_hurricane_dates:\n",
    "    # Pull out the month\n",
    "    month = hurricane.month\n",
    "    # Increment the count in your dictionary by one\n",
    "    hurricanes_each_month[month] += 1\n",
    "    \n",
    "print(hurricanes_each_month)"
   ]
  },
  {
   "cell_type": "markdown",
   "id": "2c6ce498-2ca8-403f-b5d1-f4059201e86e",
   "metadata": {},
   "source": [
    "## Putting a list of dates in order\n",
    "\n",
    "Much like numbers and strings, date objects in Python can be put in order. Earlier dates come before later ones, and so we can sort a list of date objects from earliest to latest.\n",
    "\n",
    "What if our Florida hurricane dates had been scrambled? We've gone ahead and shuffled them so they're in random order and saved the results as dates_scrambled. Your job is to put them back in chronological order, and then print the first and last dates from this sorted list.\n",
    "Instructions 1/2\n",
    "50 XP\n",
    "\n",
    "    Question 1\n",
    "    Print the first and last dates in dates_scrambled.\n",
    "    \n",
    "    \n",
    "    Question 2\n",
    "#    Sort dates_scrambled using Python's built-in \"sorted()\" method, and save the results to dates_ordered.\n",
    "    Print the first and last dates in dates_ordered.\n",
    "    "
   ]
  },
  {
   "cell_type": "code",
   "execution_count": 19,
   "id": "b8237e58-6c17-489c-a5d4-0d19eeaabadb",
   "metadata": {},
   "outputs": [
    {
     "name": "stdout",
     "output_type": "stream",
     "text": [
      "[datetime.date(1988, 8, 4), datetime.date(1990, 10, 12), datetime.date(2003, 4, 20)] \n",
      "\n",
      "['__add__', '__class__', '__class_getitem__', '__contains__', '__delattr__', '__delitem__', '__dir__', '__doc__', '__eq__', '__format__', '__ge__', '__getattribute__', '__getitem__', '__gt__', '__hash__', '__iadd__', '__imul__', '__init__', '__init_subclass__', '__iter__', '__le__', '__len__', '__lt__', '__mul__', '__ne__', '__new__', '__reduce__', '__reduce_ex__', '__repr__', '__reversed__', '__rmul__', '__setattr__', '__setitem__', '__sizeof__', '__str__', '__subclasshook__', 'append', 'clear', 'copy', 'count', 'extend', 'index', 'insert', 'pop', 'remove', 'reverse', 'sort'] \n",
      "\n",
      "[datetime.date(1950, 8, 31), datetime.date(1950, 9, 5), datetime.date(1950, 10, 18), datetime.date(1950, 10, 21), datetime.date(1951, 5, 18), datetime.date(1951, 10, 2), datetime.date(1952, 2, 3), datetime.date(1952, 8, 30), datetime.date(1953, 6, 6), datetime.date(1953, 8, 29)]\n"
     ]
    }
   ],
   "source": [
    "scrambled = [(1988, 8, 4), (1990, 10, 12), (2003, 4, 20), (1971, 9, 1), (1988, 8, 23), (1994, 8, 15), (2002, 8, 4), \n",
    " (1988, 5, 30), (2003, 9, 13), (2009, 8, 21), (1978, 6, 22), (1969, 6, 9), (1976, 6, 11), (1976, 8, 19), \n",
    " (1966, 6, 9), (1968, 7, 5), (1987, 11, 4), (1988, 8, 13), (2007, 12, 13), (1994, 11, 16), (2003, 9, 6), \n",
    " (1971, 8, 13), (1981, 8, 17), (1998, 9, 25), (1968, 9, 26), (1968, 6, 4), (1998, 11, 5), (2008, 8, 18),\n",
    " (1987, 8, 14), (1988, 11, 23), (2010, 9, 29), (1985, 7, 23), (2017, 7, 31), (1955, 8, 21), (1986, 6, 26),\n",
    " (1963, 10, 21), (2011, 10, 28), (2011, 11, 9), (1997, 7, 19), (2007, 6, 2), (2002, 9, 14), (1992, 9, 29),\n",
    " (1971, 10, 13), (1962, 8, 26), (1964, 8, 27), (1984, 9, 27), (1973, 9, 25), (1969, 10, 21), (1994, 7, 3),\n",
    " (1958, 9, 4), (1985, 11, 21), (2011, 9, 3), (1972, 6, 19), (1991, 6, 30), (2004, 8, 12), (2007, 9, 8),\n",
    " (1952, 2, 3), (1965, 9, 30), (2000, 9, 22), (2002, 9, 26), (1950, 9, 5), (1966, 10, 4), (1970, 5, 25),\n",
    " (1979, 9, 24), (1960, 9, 23), (2007, 8, 23), (2009, 8, 16), (1996, 10, 18), (2012, 10, 25), (2011, 8, 25),\n",
    " (1951, 5, 18), (1980, 8, 7), (1979, 9, 3), (1953, 9, 26), (1968, 10, 19), (2009, 11, 9), (1999, 8, 29),\n",
    " (2015, 10, 1), (2008, 9, 2), (2004, 10, 10), (2004, 9, 16), (1992, 8, 24), (2000, 9, 9), (1971, 9, 16),\n",
    " (1996, 9, 2), (1998, 9, 3), (1951, 10, 2), (1979, 9, 12), (2007, 10, 31), (1953, 10, 9), (1952, 8, 30),\n",
    " (1969, 9, 7), (2015, 8, 30), (1959, 10, 8), (2002, 7, 13), (1961, 10, 29), (2007, 5, 9), (2016, 10, 7), \n",
    " (1964, 9, 20), (1979, 7, 11), (1950, 10, 18), (2008, 8, 31), (2012, 8, 25), (1966, 7, 24), (2010, 8, 10), \n",
    " (2005, 8, 25), (2003, 6, 30), (1956, 7, 6), (1974, 9, 8), (1966, 6, 30), (2016, 9, 14), (1968, 6, 18),\n",
    " (1982, 9, 11), (1976, 9, 13), (1975, 7, 29), (2007, 9, 13), (1970, 9, 27), (1969, 10, 2), (2010, 8, 31),\n",
    " (1995, 10, 4), (1969, 8, 29), (1984, 10, 26), (1973, 9, 3), (1976, 5, 23), (2001, 11, 5), (2010, 6, 30),\n",
    " (1985, 10, 10), (1970, 7, 22), (1972, 5, 28), (1982, 6, 18), (2001, 8, 6), (1953, 8, 29), (1965, 9, 8),\n",
    " (1964, 9, 10), (1959, 10, 18), (1957, 6, 8), (1988, 9, 10), (2005, 6, 11), (1953, 6, 6), (2003, 8, 30),\n",
    " (2002, 10, 3), (1968, 8, 10), (1999, 10, 15), (2002, 9, 4), (2001, 6, 12), (2017, 9, 10), (2005, 10, 5),\n",
    " (2005, 7, 10), (1973, 6, 7), (1999, 9, 15), (2005, 9, 20), (1995, 6, 5), (2003, 7, 25), (2004, 9, 13), \n",
    " (1964, 6, 6), (1973, 6, 23), (2005, 9, 12), (2012, 6, 23), (1961, 9, 11), (1990, 5, 25), (2017, 6, 21),\n",
    " (1975, 6, 27), (1959, 6, 18), (2004, 9, 5), (1987, 10, 12), (1995, 7, 27), (1964, 10, 14), (1970, 8, 6), \n",
    " (1969, 10, 1), (1996, 10, 8), (1968, 8, 28), (1956, 10, 15), (1975, 9, 23), (1970, 9, 13), (1975, 10, 16),\n",
    " (1990, 10, 9), (2005, 10, 24), (1950, 8, 31), (2000, 10, 3), (2002, 10, 11), (1983, 8, 28), (1960, 7, 29), \n",
    " (1950, 10, 21), (1995, 8, 2), (1956, 9, 24), (2016, 9, 1), (1993, 6, 1), (1987, 9, 7), (2012, 5, 28),\n",
    " (1995, 8, 23), (1969, 8, 18), (2001, 9, 14), (2000, 8, 23), (1974, 10, 7), (1986, 8, 13), (1977, 8, 27),\n",
    " (2008, 7, 16), (1996, 7, 11), (1988, 9, 4), (1975, 10, 1), (2003, 8, 14), (1957, 9, 8), (2005, 7, 6),\n",
    " (1960, 9, 15), (1974, 9, 27), (1965, 6, 15), (1999, 9, 21), (2004, 8, 13), (1994, 10, 2), (1971, 8, 10),\n",
    " (2008, 7, 22), (2000, 9, 18), (1960, 9, 10), (2006, 6, 13), (2017, 10, 29), (1972, 9, 5), (1964, 10, 5),\n",
    " (1991, 10, 16), (1969, 9, 21), (1998, 9, 20), (1977, 9, 5), (1988, 9, 13), (1974, 6, 25), (2010, 7, 23),\n",
    " (2007, 9, 22), (1984, 9, 9), (1989, 9, 22), (1992, 6, 25), (1971, 8, 29), (1953, 9, 20), (1985, 8, 15),\n",
    " (2016, 6, 6), (2006, 8, 30), (1980, 11, 18), (2011, 7, 18)]\n",
    "\n",
    "\n",
    "\n",
    "dates_scrambled = [date(*i) for i in scrambled]\n",
    "\n",
    "print(dates_scrambled[:3], '\\n')\n",
    "\n",
    "print(dir(dates_scrambled), '\\n')\n",
    "\n",
    "\n",
    "print(sorted(dates_scrambled)[:10])"
   ]
  },
  {
   "cell_type": "markdown",
   "id": "78e25df5-b8b3-49d6-a671-af93ef2004fd",
   "metadata": {},
   "source": [
    "## Turning dates into strings\n",
    "\n",
    "\n",
    "\n",
    "\n",
    "\n",
    "\n",
    "\n",
    "**Python has a very flexible set of tools for turning dates back into strings to be easily read.  \n",
    "# We want to put dates back into strings when, for example, we want o print resualts, but also if we want to put dates into a filename, or if we want to write dates out to CSV or Excel files.  \n",
    "\n",
    "For example, lets create a date and see how Python prints it by default.  As before, we need to import date from datetime package, and lets again create a datetime object of November 5th, 2017 using \"date(2017, 11, 5)\" function.  And when we ask Python to print the date object ( ?????? ), it prints the year, the month and the day, separated by dashes, and always with 2 digits for the day and month.  We cansee this is probably a YYYY-MM-DD representing date information.  This is the default format which is also know as IOS format, or ISO 8601 format, after the international ISO 8601 that is based on.  The ISO 8601 strings are always the same length since month and day are written with 0s when they are less than 10.  We'll talk about another dvantage of ISO 8601 in a moment.  \n",
    "\n",
    "If we want the ISO representation of a date as a string, say to write it to a CSV file instead of just printing in, you can call the \"isoformat()\" method.  We can put the outcome inside a list or other containers so that you can see that it creates a string.  The ISO 8601 format has another nice advantage.  To demonstrate, we've created a variable called some_dates and represented 2 dates here as strings, January 1, 2000, and December 31, 1999.  The dates formatted as ISO 8601 strings sort correctly.  When we print the \"sorted()\" version of this list, the earlier day is first and teh later date is second.  \n",
    "\n",
    "For example if we use the ISO 8601 dates in file names, they can correctly sorted from earliest to latest.  If we had used month or day first, the strings would not sort in chronological order.  If you don't want to put dates in IOS 8601 format, Python has a flexible set of options for representing dates in other ways, using the \".strftime()\" method.  The \"strftime()\" method works by letting you pass a \"format string\" which Python uses to format your date.  Lets see an example.  ( also can you recall when we learned this skills?  in data science toolbox courses or ? )\n",
    "\n",
    "We again create an example date of January 5th, 2017.  \n",
    "# (so we created a datetime object or just that date? and why sometimes Python print a memory location reference of a object, and other times Python print out the contained data?)\n",
    "We than call \".strftime()\" method on d, with the format string of \"%Y\", the \"strftime()\" reads the %Y and fills in the year in this string for us.  Also the \"strftime()\" metgod is very flexible: we can give it arbitrary strings with %Y in them for the format string, and it will stick the year in.  Pretty interesting.  For example we can use the format string of \"Year is %Y\".  \n",
    "\n",
    "The \".strftime()\" metod has other placeholders besides %Y: %m gives the month, and %d gives the day of the month.  Using these we can represent dates in arbitrary formats for whatever our needs are.  \n",
    "\n",
    "\n",
    "\n",
    "In this lesson, we discussed how Python can represent a date as a string.  We emphasized the importance and utility of ISO 8601 format, but also introduced the \".strftime()\" method, which let you turn dates into a wide variety of strings depending on your needs.  \n",
    "\n"
   ]
  },
  {
   "cell_type": "code",
   "execution_count": 68,
   "id": "fe6aafc0-ef18-4113-941a-52529a57dd02",
   "metadata": {},
   "outputs": [
    {
     "name": "stdout",
     "output_type": "stream",
     "text": [
      "<class 'datetime.date'> \n",
      "\n",
      "2017-11-05 \n",
      "\n",
      "['2017-11-05']\n"
     ]
    }
   ],
   "source": [
    "from datetime import date\n",
    "\n",
    "\n",
    "# Example date\n",
    "d = date(2017, 11, 5)\n",
    "print(type(d), '\\n')\n",
    "\n",
    "print(d, '\\n')\n",
    "\n",
    "\n",
    "#l_d = list(d.isoformat())     # ['2', '0', '1', '7', '-', '1', '1', '-', '0', '5']\n",
    "#print(type(l_d), '\\n')\n",
    "print([d.isoformat()])\n"
   ]
  },
  {
   "cell_type": "markdown",
   "id": "6b795a71-4e3b-4c52-8b88-61fbf651785d",
   "metadata": {},
   "source": [
    "# *******************************************************************************************************************\n",
    "# *******************************************************************************************************************"
   ]
  },
  {
   "cell_type": "code",
   "execution_count": 17,
   "id": "c281d9ba-f366-4446-8e2d-033aa12d44e2",
   "metadata": {},
   "outputs": [
    {
     "name": "stdout",
     "output_type": "stream",
     "text": [
      "['1999-12-31', '2000-01-01']\n",
      "2000 01 01\n",
      "<map object at 0x7f6d7817fe80> \n",
      "\n",
      "2000-01-01\n",
      "\n",
      "\n",
      "Year is this: 2000\n"
     ]
    }
   ],
   "source": [
    "from datetime import date\n",
    "\n",
    "\n",
    "# A few dates that computers once had trouble with\n",
    "some_date = ['2000-01-01', '1999-12-31']\n",
    "\n",
    "print(sorted(some_date))\n",
    "\n",
    "\n",
    "print(*some_date[0].split('-'))\n",
    "\n",
    "dd = some_date[0].split('-')  #**************************************************************************************\n",
    "print(map(int, dd), '\\n')  #*****************************************************************************************\n",
    "\n",
    "print(date(*map(int, dd)))\n",
    "\n",
    "print('\\n')\n",
    "\n",
    "d = date(2000, 12, 23)\n",
    "print(d.strftime(\"Year is this: %Y\"))\n",
    "\n",
    "\n",
    "#print(datetime.strptime(some_date[0]).strftime().strftime(\"Year is %Y\"))"
   ]
  },
  {
   "cell_type": "code",
   "execution_count": 13,
   "id": "f3e5c829-68e0-426c-9965-5c11f0a070d4",
   "metadata": {},
   "outputs": [
    {
     "name": "stdout",
     "output_type": "stream",
     "text": [
      "['__add__', '__class__', '__contains__', '__delattr__', '__dir__', '__doc__', '__eq__', '__format__', '__ge__', '__getattribute__', '__getitem__', '__getnewargs__', '__gt__', '__hash__', '__init__', '__init_subclass__', '__iter__', '__le__', '__len__', '__lt__', '__mod__', '__mul__', '__ne__', '__new__', '__reduce__', '__reduce_ex__', '__repr__', '__rmod__', '__rmul__', '__setattr__', '__sizeof__', '__str__', '__subclasshook__', 'capitalize', 'casefold', 'center', 'count', 'encode', 'endswith', 'expandtabs', 'find', 'format', 'format_map', 'index', 'isalnum', 'isalpha', 'isascii', 'isdecimal', 'isdigit', 'isidentifier', 'islower', 'isnumeric', 'isprintable', 'isspace', 'istitle', 'isupper', 'join', 'ljust', 'lower', 'lstrip', 'maketrans', 'partition', 'removeprefix', 'removesuffix', 'replace', 'rfind', 'rindex', 'rjust', 'rpartition', 'rsplit', 'rstrip', 'split', 'splitlines', 'startswith', 'strip', 'swapcase', 'title', 'translate', 'upper', 'zfill'] \n",
      "\n",
      "Help on class map in module builtins:\n",
      "\n",
      "class map(object)\n",
      " |  map(func, *iterables) --> map object\n",
      " |  \n",
      " |  Make an iterator that computes the function using arguments from\n",
      " |  each of the iterables.  Stops when the shortest iterable is exhausted.\n",
      " |  \n",
      " |  Methods defined here:\n",
      " |  \n",
      " |  __getattribute__(self, name, /)\n",
      " |      Return getattr(self, name).\n",
      " |  \n",
      " |  __iter__(self, /)\n",
      " |      Implement iter(self).\n",
      " |  \n",
      " |  __next__(self, /)\n",
      " |      Implement next(self).\n",
      " |  \n",
      " |  __reduce__(...)\n",
      " |      Return state information for pickling.\n",
      " |  \n",
      " |  ----------------------------------------------------------------------\n",
      " |  Static methods defined here:\n",
      " |  \n",
      " |  __new__(*args, **kwargs) from builtins.type\n",
      " |      Create and return a new object.  See help(type) for accurate signature.\n",
      "\n",
      "None\n"
     ]
    }
   ],
   "source": [
    "print(dir(some_date[0]), '\\n')\n",
    "\n",
    "\n",
    "print(help(map))"
   ]
  },
  {
   "cell_type": "markdown",
   "id": "021e6d70-3b32-4d72-9b9a-0bdfcc3ec9d8",
   "metadata": {},
   "source": [
    "## Printing dates in a friendly format\n",
    "\n",
    "Because people may want to see dates in many different formats, Python comes with very flexible functions for turning date objects into strings.\n",
    "\n",
    "Let's see what event was recorded first in the Florida hurricane data set. In this exercise, you will format the earliest date in the \"florida_hurricane_dates\" list in two ways so you can decide which one you want to use: either the ISO standard or the typical US style.\n",
    "Instructions\n",
    "100 XP\n",
    "\n",
    "#    Assign the earliest date in florida_hurricane_dates to first_date.\n",
    "    Print first_date in the ISO standard. For example, December 1st, 2000 would be \"2000-12-01\".\n",
    "    Print first_date in the US style, using .strftime(). For example, December 1st, 2000 would be \"12/1/2000\".\n",
    "    \n",
    "Hint\n",
    "\n",
    "    Finding the earliest date can be done the same way you find the smallest number, using the min() function.\n",
    "    You can use the .isoformat() method to convert the date into ISO format.\n",
    "    When formatting dates, \"%Y\", \"%m\" and \"%d\" correspond to the year, month, and day of the month, respectively.\n"
   ]
  },
  {
   "cell_type": "code",
   "execution_count": 24,
   "id": "ebc59c17-2a41-4cc9-98c6-86e43b03ad6e",
   "metadata": {},
   "outputs": [
    {
     "name": "stdout",
     "output_type": "stream",
     "text": [
      "ISO: Our earliest hurricane date: 1950-08-31\n",
      "US: Our earliest hurricane date: 08/31/1950\n"
     ]
    }
   ],
   "source": [
    "florida_hurricane_dates = [date(*i) for i in scrambled]\n",
    "\n",
    "\n",
    "\n",
    "# Assign the earliest date to first_date\n",
    "first_date = min(florida_hurricane_dates)\n",
    "\n",
    "# Convert to ISO and US formats\n",
    "iso = \"Our earliest hurricane date: \" + first_date.strftime(\"%Y-%m-%d\")  # \".isoformat()\" ###########################\n",
    "us = \"Our earliest hurricane date: \" + first_date.strftime(\"%m/%d/%Y\")\n",
    "\n",
    "print(\"ISO: \" + iso)\n",
    "print(\"US: \" + us)"
   ]
  },
  {
   "cell_type": "code",
   "execution_count": null,
   "id": "fbf7f3aa-5e83-43aa-b300-ef3707723f73",
   "metadata": {},
   "outputs": [],
   "source": [
    "# Assign the earliest date to first_date\n",
    "first_date = min(florida_hurricane_dates)\n",
    "\n",
    "# Convert to ISO and US formats\n",
    "iso = \"Our earliest hurricane date: \" + first_date.isoformat()\n",
    "us = \"Our earliest hurricane date: \" + first_date.strftime(\"%m/%d/%Y\")\n",
    "\n",
    "print(\"ISO: \" + iso)\n",
    "print(\"US: \" + us)"
   ]
  },
  {
   "cell_type": "markdown",
   "id": "75920b79-9927-49cc-85c6-d9262070840e",
   "metadata": {},
   "source": [
    "## Representing dates in different ways\n",
    "\n",
    "date objects in Python have a great number of ways they can be printed out as strings. In some cases, you want to know the date in a clear, language-agnostic format. In other cases, you want something which can fit into a paragraph and flow naturally.\n",
    "\n",
    "Let's try printing out the same date, August 26, 1992 (the day that Hurricane Andrew made landfall in Florida), in a number of different ways, to practice using the \".strftime()\" method.\n",
    "\n",
    "A date object called andrew has already been created.\n",
    "Instructions 1/3\n",
    "35 XP\n",
    "\n",
    "    Question 1\n",
    "    Print andrew in the format 'YYYY-MM'.\n",
    "    \n",
    "    \n",
    "    Question 2\n",
    "#    Print andrew in the format 'MONTH (YYYY)', using %B for the month's full name, which in this case will be August.\n",
    "    \n",
    "    \n",
    "    Question 3\n",
    "#    Print andrew in the format 'YYYY-DDD' (where DDD is the day of the year) using %j.\n",
    "    "
   ]
  },
  {
   "cell_type": "code",
   "execution_count": 10,
   "id": "01c60d2a-502a-4b78-a57b-bc5be3496569",
   "metadata": {},
   "outputs": [
    {
     "name": "stdout",
     "output_type": "stream",
     "text": [
      "1992-08\n",
      "MONTH August\n",
      "1992-239\n",
      "<class 'str'>\n"
     ]
    }
   ],
   "source": [
    "# Import date\n",
    "from datetime import date\n",
    "\n",
    "# Create a date object\n",
    "andrew = date(1992, 8, 26)\n",
    "\n",
    "# Print the date in the format 'YYYY-MM'\n",
    "print(andrew.strftime(\"%Y-%m\"))\n",
    "\n",
    "\n",
    "print(andrew.strftime(\"MONTH %B\"))\n",
    "\n",
    "print(andrew.strftime(\"%Y-%j\"))\n",
    "print(type(andrew.strftime(\"%Y-%j\")))"
   ]
  },
  {
   "cell_type": "markdown",
   "id": "7a73b72a-f530-46c1-9dc1-64c28570e6bb",
   "metadata": {},
   "source": [
    "## Dates and times\n",
    "\n",
    "\n",
    "\n",
    "\n",
    "\n",
    "\n",
    "**In this chapter, you are going to move from only working with dates to working with both dates and times: the calendar day and time on the clock within that day.  As always, lets start with an example.  \n",
    "\n",
    "# Here is an example of a date and a time together: October 1, 2017, at 3:23:25 PM.  \n",
    "Unlike before, where we were only working with the date, we're now going to also include the time.  Lets see how to represent this in Python.  The first thing we have to do is import the datetime from the datetime package.  Yes, \"from datetime import datetime\".  Ideally, these would have different names, but unfortunately for historical reasons they have the same name.  This is just something to get used to.  \n",
    "\n",
    "We're going to create a datetime called \"dt\" and populate the fields together.  The first 3 arguments to the datetime class are exactly the same as the date class.  Year, then month, then day, each as a number.  Next, we fill in the hour, computers generallyuse 24 hour time, meaning that 3 PM is represented as hour 15 of 24.  We then put in the minutes, 23 out of 60.  And finally, the seconds.  The \"October 1, 2017 at 3:23:25 PM\" is represented as a datetime in Python as \"datetime(2017, 11, 1, 15, 23, 25)\".  \n",
    "\n",
    "All of these arguments need to be whole numbers; if you want to represent 0.5 seconds, you can add microseconds to your datetime after the second arg.  Below we added 500,000 microseconds, or 0.5 seconds.  That is Python breaks seconds down into millionths of a second for you when you need that kind of precision.  If you need billionths of a second precision (which happens sometimes in science and finance) We'll cover nanoseconds when we get to Pandas at the end of this course.  Python defaults to 0 microseconds if you dont include it.  Thats a lot of arguments; if it helps, you can always be more explicit and use named arguments.  \n",
    "\n",
    "We can also make new datetime from existing one by using the \".replace()\" method.  For example, we can take datetime we just made, and make a new one which has the same date, but is rounded down to the start of the hour.  We call \"dt.replace(minutes=0, second=0, microsecond=0)\", this creates a new datetime with the same values in all the other fields, but those ones we changed with \".replace()\" method.  \n",
    "\n",
    "\n",
    "\n",
    "\n",
    "Before we wrap up, lets talk about the data we will use for the rest of this course.  You will be working with data from Capital Bikeshare, the oldest municipal shared bike program in the US.  Throughout the Washington DC area, you will find these special bike docks where riders can pay to take a bike, ride it, and return to this or any other station in the network.  We will be following one bike, ID number \"W20529\", on all the trips it took in October, November, and December of 2017.  Each trip consisted of a date and time when a bike was undocked from a station, then times passed, and the date and time when \"W20529\" was docked again.  \n",
    "\n",
    "\n",
    "\n",
    "In this video, we walked through how to create datetime objects in Python.  You're going to practice that in the exercises, and also work with the Capital Bikeshare data and see how we can use Python to understand the trips that \"W20529\" took throughout the 3 months that we're interested in.  \n",
    "\n",
    "\n"
   ]
  },
  {
   "cell_type": "code",
   "execution_count": 33,
   "id": "55dfbf3e-8bfb-42a3-915c-8f4b661d7ec4",
   "metadata": {},
   "outputs": [
    {
     "name": "stdout",
     "output_type": "stream",
     "text": [
      "2017-11-01 15:23:25 \n",
      "\n",
      "2017-11-01 15:23:25.500000 \n",
      "\n",
      "2017-11-01 15:23:25.500000\n",
      "2017-11-01 15:00:00\n"
     ]
    }
   ],
   "source": [
    "from datetime import date, datetime\n",
    "\n",
    "\n",
    "# October 1, 2017, at 3:23:25 PM\n",
    "dt = datetime(2017, 11, 1, 15, 23, 25)\n",
    "\n",
    "print(dt, '\\n')\n",
    "\n",
    "\n",
    "\n",
    "# October 1, 2017, at 3:23:25 PM\n",
    "dt = datetime(2017, 11, 1, 15, 23, 25, 500000)\n",
    "\n",
    "print(dt, '\\n')\n",
    "\n",
    "\n",
    "# October 1, 2017, at 3:23:25 PM\n",
    "dt = datetime(year=2017, month=11, day=1, hour=15, minute=23, second=25, microsecond=500000)\n",
    "print(dt)\n",
    "\n",
    "\n",
    "\n",
    "dt = dt.replace(minute=0, second=0, microsecond=0)\n",
    "print(dt)"
   ]
  },
  {
   "cell_type": "markdown",
   "id": "af3c4a99-44cc-47b5-a6d5-519358e582a4",
   "metadata": {},
   "source": [
    "## Creating datetimes by hand\n",
    "\n",
    "# Often you create datetime objects based on outside data. \n",
    "Sometimes though, you want to create a datetime object from scratch.\n",
    "\n",
    "You're going to create a few different datetime objects from scratch to get the hang of that process. These come from the bikeshare data set that you'll use throughout the rest of the chapter.\n",
    "Instructions 1/3\n",
    "50 XP\n",
    "\n",
    "    Question 1\n",
    "    Import the datetime class.\n",
    "    Create a datetime for October 1, 2017 at 15:26:26.\n",
    "    Print the results in ISO format.\n",
    "    \n",
    "    \n",
    "    Question 2\n",
    "    Import the datetime class.\n",
    "    Create a datetime for December 31, 2017 at 15:19:13.\n",
    "    Print the results in ISO format.\n",
    "    \n",
    "    \n",
    "    Question 3\n",
    "    Create a new datetime by replacing the year in dt with 1917 (instead of 2017)\n",
    "    \n",
    "Hint\n",
    "\n",
    "    The syntax for importing a class from a module is from <module> import <class>.\n",
    "    datetime takes six numbers: year, month, day, hour, minute, second.\n",
    "    .isoformat() gives the ISO 8601 format string.\n"
   ]
  },
  {
   "cell_type": "code",
   "execution_count": 30,
   "id": "81636eeb-c68b-458e-9562-1a5f46bea69c",
   "metadata": {},
   "outputs": [
    {
     "name": "stdout",
     "output_type": "stream",
     "text": [
      "            Start date             End date  Start station number  \\\n",
      "0  2017-10-01 15:23:25  2017-10-01 15:26:26                 31038   \n",
      "1  2017-10-01 15:42:57  2017-10-01 17:49:59                 31036   \n",
      "2  2017-10-02 06:37:10  2017-10-02 06:42:53                 31036   \n",
      "3  2017-10-02 08:56:45  2017-10-02 09:18:03                 31037   \n",
      "4  2017-10-02 18:23:48  2017-10-02 18:45:05                 31295   \n",
      "\n",
      "                          Start station  End station number  \\\n",
      "0                  Glebe Rd & 11th St N               31036   \n",
      "1         George Mason Dr & Wilson Blvd               31036   \n",
      "2         George Mason Dr & Wilson Blvd               31037   \n",
      "3  Ballston Metro / N Stuart & 9th St N               31295   \n",
      "4                     Potomac & M St NW               31230   \n",
      "\n",
      "                            End station Bike number Member type  \n",
      "0         George Mason Dr & Wilson Blvd      W20529      Member  \n",
      "1         George Mason Dr & Wilson Blvd      W20529      Casual  \n",
      "2  Ballston Metro / N Stuart & 9th St N      W20529      Member  \n",
      "3                     Potomac & M St NW      W20529      Member  \n",
      "4         Metro Center / 12th & G St NW      W20529      Member   \n",
      "\n",
      "2017-12-31T15:19:13\n",
      "1917-12-31 15:19:13\n"
     ]
    }
   ],
   "source": [
    "import pandas as pd\n",
    "\n",
    "\n",
    "bike = pd.read_csv('capital-onebike.csv')\n",
    "\n",
    "print(bike.head(), '\\n')\n",
    "\n",
    "\n",
    "\n",
    "# Import datetime\n",
    "from datetime import datetime\n",
    "\n",
    "# Create a datetime object\n",
    "dt = datetime(2017, 12, 31, 15, 19, 13)\n",
    "\n",
    "# Print the results in ISO 8601 format\n",
    "print(dt.isoformat())\n",
    "\n",
    "\n",
    "\n",
    "dt = dt.replace(year=1917)\n",
    "print(dt)"
   ]
  },
  {
   "cell_type": "markdown",
   "id": "df61c509-5139-4cec-8af2-cf0320f69018",
   "metadata": {},
   "source": [
    "## Counting events before and after noon\n",
    "\n",
    "In this chapter, you will be working with a list of all bike trips for one Capital Bikeshare bike, W20529, from October 1, 2017 to December 31, 2017. This list has been loaded as \"onebike_datetimes\".\n",
    "\n",
    "Each element of the list is a dictionary with two entries: start is a datetime object corresponding to the start of a trip (when a bike is removed from the dock) and end is a datetime object corresponding to the end of a trip (when a bike is put back into a dock).\n",
    "\n",
    "You can use this data set to understand better how this bike was used. Did more trips start before noon or after noon?\n",
    "Instructions\n",
    "100 XP\n",
    "\n",
    "    Within the for loop, complete the if statement to check if the trip started before noon.\n",
    "    Within the for loop, increment trip_counts['AM'] if the trip started before noon, and trip_counts['PM'] if it started after noon.\n"
   ]
  },
  {
   "cell_type": "code",
   "execution_count": 31,
   "id": "26905326-ea43-4948-9203-73dd8a1837d1",
   "metadata": {},
   "outputs": [
    {
     "name": "stdout",
     "output_type": "stream",
     "text": [
      "            Start date             End date  Start station number  \\\n",
      "0  2017-10-01 15:23:25  2017-10-01 15:26:26                 31038   \n",
      "1  2017-10-01 15:42:57  2017-10-01 17:49:59                 31036   \n",
      "2  2017-10-02 06:37:10  2017-10-02 06:42:53                 31036   \n",
      "3  2017-10-02 08:56:45  2017-10-02 09:18:03                 31037   \n",
      "4  2017-10-02 18:23:48  2017-10-02 18:45:05                 31295   \n",
      "\n",
      "                          Start station  End station number  \\\n",
      "0                  Glebe Rd & 11th St N               31036   \n",
      "1         George Mason Dr & Wilson Blvd               31036   \n",
      "2         George Mason Dr & Wilson Blvd               31037   \n",
      "3  Ballston Metro / N Stuart & 9th St N               31295   \n",
      "4                     Potomac & M St NW               31230   \n",
      "\n",
      "                            End station Bike number Member type  \n",
      "0         George Mason Dr & Wilson Blvd      W20529      Member  \n",
      "1         George Mason Dr & Wilson Blvd      W20529      Casual  \n",
      "2  Ballston Metro / N Stuart & 9th St N      W20529      Member  \n",
      "3                     Potomac & M St NW      W20529      Member  \n",
      "4         Metro Center / 12th & G St NW      W20529      Member   \n",
      "\n",
      "<class 'pandas.core.frame.DataFrame'>\n",
      "RangeIndex: 290 entries, 0 to 289\n",
      "Data columns (total 8 columns):\n",
      " #   Column                Non-Null Count  Dtype         \n",
      "---  ------                --------------  -----         \n",
      " 0   Start date            290 non-null    datetime64[ns]\n",
      " 1   End date              290 non-null    datetime64[ns]\n",
      " 2   Start station number  290 non-null    int64         \n",
      " 3   Start station         290 non-null    object        \n",
      " 4   End station number    290 non-null    int64         \n",
      " 5   End station           290 non-null    object        \n",
      " 6   Bike number           290 non-null    object        \n",
      " 7   Member type           290 non-null    object        \n",
      "dtypes: datetime64[ns](2), int64(2), object(4)\n",
      "memory usage: 18.2+ KB\n",
      "None\n",
      "[{'start': Timestamp('2017-10-01 15:23:25'), 'end': Timestamp('2017-10-01 15:26:26')}, {'start': Timestamp('2017-10-01 15:42:57'), 'end': Timestamp('2017-10-01 17:49:59')}, {'start': Timestamp('2017-10-02 06:37:10'), 'end': Timestamp('2017-10-02 06:42:53')}] \n",
      "\n",
      "[15, 15, 6]\n"
     ]
    }
   ],
   "source": [
    "from datetime import datetime\n",
    "import pandas as pd\n",
    "\n",
    "\n",
    "print(bike.head(), '\\n')\n",
    "\n",
    "#print(dir(bike[\"Start date\"]), '\\n')\n",
    "#print(help(bike[\"Start date\"].transform))\n",
    "#print(help(bike[\"Start date\"].astype))\n",
    "#print(help(bike[[\"Start date\"]].to_datetime))  #********************************************************************\n",
    "bike[\"Start date\"] = pd.to_datetime(bike[\"Start date\"])\n",
    "bike[\"End date\"] = pd.to_datetime(bike[\"End date\"])\n",
    "\n",
    "\n",
    "#bike[\"Start date\"] = bike[\"Start date\"].astype(\"datetime\")\n",
    "#bike[\"Start date\"] = bike[\"Start date\"].transform(datetime)\n",
    "\n",
    "#datetime.strftime(bike[[\"Start date\", \"End date\"]])\n",
    "# TypeError: descriptor 'strftime' for 'datetime.date' objects doesn't apply to a 'DataFrame' object\n",
    "\n",
    "print(bike.info())\n",
    "\n",
    "\n",
    "\n",
    "#bike_dt = {j[0]:j[1] for i,j in bike.iterrows()}   #****************************************************************\n",
    "#####################################################################################################################\n",
    "#####################################################################################################################\n",
    "bike_dt = [{'start': j[0], 'end': j[1]} for i,j in bike.iterrows()]   #**********************************************\n",
    "\n",
    "\n",
    "print(bike_dt[:3], '\\n')   #.keys()\n",
    "\n",
    "print([i['start'].hour for i in bike_dt[:3]])   #####################################################################"
   ]
  },
  {
   "cell_type": "code",
   "execution_count": 32,
   "id": "0137bd4f-9c6a-4cde-910d-4738d50b81f1",
   "metadata": {},
   "outputs": [
    {
     "name": "stdout",
     "output_type": "stream",
     "text": [
      "{'AM': 94, 'PM': 196}\n"
     ]
    }
   ],
   "source": [
    "# Create dictionary to hold results\n",
    "trip_counts = {'AM': 0, 'PM': 0}\n",
    "  \n",
    "# Loop over all trips\n",
    "for trip in bike_dt:\n",
    "    # Check to see if the trip starts before noon\n",
    "    if trip['start'].hour < 12:\n",
    "        # Increment the counter for before noon\n",
    "        trip_counts['AM'] += 1\n",
    "    else:\n",
    "        # Increment the counter for after noon\n",
    "        trip_counts['PM'] += 1\n",
    "        \n",
    "print(trip_counts)"
   ]
  },
  {
   "cell_type": "code",
   "execution_count": null,
   "id": "30a13dcc-e086-40ad-90ce-309d6b5f2376",
   "metadata": {},
   "outputs": [],
   "source": [
    "# *******************************************************************************************************************\n",
    "# In Clearning data in Python course, we learned this approach and many others.  Can you recall it\n",
    "\n",
    "\n",
    "\n",
    "pd.to_datetime() can recognize most formats automatically\n",
    "\n",
    "# Converts to datetime - but won't work cause the error data day-day-year\n",
    "birthdays['Birthday'] = pd.to_datetime(birthdays['Birthday'])\n",
    "    ValueError: month must be in 1..12\n",
    "\n",
    "# Will work\n",
    "birthday['Birthday'] = pd.to_datetime(birthday['Birthday'],   #######################################################\n",
    "                                      # Attempt to infer format of each date\n",
    "                                      infer_datetime_format=True,   #++++++++++++++++++++++++++++++++++++++++++++++++\n",
    "                                      # Return NA fpr rows where conversion failed\n",
    "                                      errors='coerce')   #+++++++++++++++++++++++++++++++++++++++++++++++++++++++++++"
   ]
  },
  {
   "cell_type": "markdown",
   "id": "f34d5852-41ae-41d8-bf52-bc373d00ea03",
   "metadata": {},
   "source": [
    "## Printing and parsing datetimes\n",
    "\n",
    "\n",
    "\n",
    "\n",
    "\n",
    "\n",
    "# **Much like dates, datetimes can be printed in many ways.  Python also has another trick: you can take a string and turn it directly into a datetime.  \n",
    "\n",
    "Lets start with printing dates and then move on to asking Python to parse them.  First lets create a datetime again.  As what we did before, creteing the variable dt corresponding to December 30, 2017 at 15:19:13, the end of the last trip that W20529 takes in our dataset.  Just like date objects, we use the \".strftime()\" method to create a string with a particular format.  First. we'll just print out the year, month and day, using the same format codes we used for dates.  %Y stands for the 4 digits year, %m for the month, and %d for the day of the month.  \n",
    "\n",
    "Now we can add in the hours, minutes and seconds.  Again, we print the year, month and day, and now we add 3 more format codes: %H gives us the hour, %M gives us the minutes, and %S gives us the second.  There are also format codes for 12-hour clocks, and for printing the correct AM or PM.  As before, we can make these formatting strings as complicated as we need.  Here is another version of the previous string.  Finally we can use the \".isoformat()\" method, just like dates, to get a standard-compliant way of writing down a datetime.  \n",
    "\n",
    "\n",
    "The officially correctly way of writing a datetime is the year, month, day then a capital T, then the time in 24 hour time, followed by the minute and second.  When is doubt, this is a good format to use.  We can also parse dates from trings, using the same format codes we used for printing.  You'll use this often when getting date and time data from the internet, since dates and timesare often represented as atrings.  \n",
    "\n",
    "\n",
    "# *******************************************************************************************************************\n",
    "# \"datetime.strptime()\" function\n",
    "We start as before, by importing the datetime class.  The method we're going to use is called \"datetime.strftime()\" function, which is a short for string parse time.  The \"datetime.strptime()\" function takes 2 arguments: the first argument is the string to turn into a datetime, and the second argument is the format strin that says how to do so.  First we pass the string we want to parse.  In this case, a string representing December 30, 2017, at 15:19:13.  Then we pass the format string which, as mentioned before uses the same format code we used for the \".strftime()\" method. In this case, first the month, then the day, then the year, all separated by slashes, then a space, and then the hour, minutes, and seconds separated by colons.  You usually need to figure this out once per dataset.  \n",
    "\n",
    "If we look and see what kind of object we've made, by printing the type of dt, we see that we've got a datetime.  And \n",
    "# if we print that datetime, we get a string representation of the datetime.  (str representation of obj or location)\n",
    "We can see that the parsing worked correctly.  We need an exact match to do string conversion.  For example, if we leave out how to parse the time, Python will throw an error.  And similarly, if there is  errant comma or other symbols, \"datetime.strptime()\" function will not perfor as expected.  \n",
    "\n",
    "\n",
    "Finally, these is another kind of datetime you will sometimes encounter: the Unix timestamp.  Many computers store datetime information behind the scense as the number of the seconds since January 1, 1970.  This date is largely considered the birth of modern-style computers.  To read a Unix timestamp use the \"datetime.fromtimestamp()\" method.  Python will read your timestamp and return a datetime.  \n",
    "\n",
    "\n",
    "\n",
    "We've just covered how to use format codes to turn datetime into strings and strings into datetimes, and what ISO 8601 format looks like with time involved.  Now you're practice moving back and forth between strings and datetimes.  \n",
    "\n"
   ]
  },
  {
   "cell_type": "code",
   "execution_count": 39,
   "id": "d1fb9cab-4b26-4250-b3b3-4984d41930bc",
   "metadata": {},
   "outputs": [
    {
     "name": "stdout",
     "output_type": "stream",
     "text": [
      "2017-12-30 15:19:13\n",
      "2017\n",
      "<class 'pandas._libs.tslibs.timestamps.Timestamp'>\n",
      "2017-12-30T15:19:13\n",
      "<class 'str'>\n"
     ]
    }
   ],
   "source": [
    "print(bike_dt[-1]['end'])   #########################################################################################\n",
    "print(bike_dt[-1]['end'].year)\n",
    "\n",
    "print(type(bike_dt[-1]['end']))\n",
    "\n",
    "end_dt = bike_dt[-1]['end']\n",
    "\n",
    "end_dt_str = end_dt.isoformat()\n",
    "#end_dt_str = end_dt.strftime('%Y-%m-%d %hour:%min')\n",
    "\n",
    "print(end_dt_str)\n",
    "\n",
    "print(type(end_dt_str))"
   ]
  },
  {
   "cell_type": "code",
   "execution_count": 35,
   "id": "e926624a-04e9-4c73-8406-d4c85d518ab0",
   "metadata": {},
   "outputs": [],
   "source": [
    "#print(help(end_dt.strftime))"
   ]
  },
  {
   "cell_type": "code",
   "execution_count": 44,
   "id": "f626c84e-33c3-482c-ada2-bee8df4dd73e",
   "metadata": {},
   "outputs": [
    {
     "name": "stdout",
     "output_type": "stream",
     "text": [
      "2017-12-30 15:19:13\n",
      "2017-12-30 15:19:13\n",
      "Date is: 2017-12-30 at 15:19:13\n",
      "2017-12-30 15:19:13\n"
     ]
    }
   ],
   "source": [
    "end_dt_str = end_dt.strftime('%Y-%m-%d %X')\n",
    "print(end_dt_str)\n",
    "\n",
    "end_dt_str = end_dt.strftime('%Y-%m-%d %H:%M:%S')\n",
    "print(end_dt_str)\n",
    "\n",
    "end_dt_str = end_dt.strftime('Date is: %Y-%m-%d at %H:%M:%S')\n",
    "print(end_dt_str)\n",
    "\n",
    "\n",
    "dt = datetime.strptime('12/30/2017 15:19:13', '%m/%d/%Y %H:%M:%S')  #################################################\n",
    "# ValueError: time data '12/30/2017 15:19:13' does not match format 'Date is: %Y-%m-%d at %H:%M:%S'\n",
    "# ValueError: time data '12/30/2017 15:19:13' does not match format '%m-%d-%Y %H:%M:%S'\n",
    "print(dt)"
   ]
  },
  {
   "cell_type": "code",
   "execution_count": 41,
   "id": "96f92779-e6b1-4155-9597-7f24f43d283b",
   "metadata": {},
   "outputs": [
    {
     "name": "stdout",
     "output_type": "stream",
     "text": [
      "2017-12-30 15:19:13\n"
     ]
    }
   ],
   "source": [
    "ts = 1514665153.0\n",
    "\n",
    "# Convert to datetime and print\n",
    "print(datetime.fromtimestamp(ts))  #^^^^^^^^^^^^^^^^^^^^^^^^^^^^^^^^^^^^^^^^^^^^^^^^^^^^^^^^^^^^^^^^^^^^^^^^^^^^^^^^^"
   ]
  },
  {
   "cell_type": "markdown",
   "id": "047069c3-98f7-4c92-adab-d56aa475e8d3",
   "metadata": {},
   "source": [
    "## Turning strings into datetimes\n",
    "\n",
    "When you download data from the Internet, dates and times usually come to you as strings. Often the first step is to turn those strings into datetime objects.\n",
    "\n",
    "In this exercise, you will practice this transformation.\n",
    "Reference\t\n",
    "%Y\t4 digit year (0000-9999)\n",
    "%m\t2 digit month (1-12)\n",
    "%d\t2 digit day (1-31)\n",
    "%H\t2 digit hour (0-23)\n",
    "%M\t2 digit minute (0-59)\n",
    "%S\t2 digit second (0-59)\n",
    "Instructions 1/3\n",
    "35 XP\n",
    "\n",
    "    Question 1\n",
    "    Determine the format needed to convert s to datetime and assign it to fmt.\n",
    "    Convert the string s to datetime using fmt.\n",
    "    \n",
    "    \n",
    "    Question 2\n",
    "    Determine the format needed to convert s to datetime and assign it to fmt.\n",
    "    Convert the string s to datetime using fmt.\n",
    "    \n",
    "    \n",
    "    Question 3\n",
    "    Determine the format needed to convert s to datetime and assign it to fmt.\n",
    "    Convert the string s to datetime using fmt.\n"
   ]
  },
  {
   "cell_type": "code",
   "execution_count": 25,
   "id": "86387dda-49a9-4082-9a04-4c7a2604d6a4",
   "metadata": {},
   "outputs": [
    {
     "name": "stdout",
     "output_type": "stream",
     "text": [
      "2017-02-03 00:00:01\n",
      "<class 'datetime.datetime'>\n"
     ]
    }
   ],
   "source": [
    "# Import the datetime class\n",
    "from datetime import datetime\n",
    "\n",
    "# Starting string, in YYYY-MM-DD HH:MM:SS format\n",
    "s = '2017-02-03 00:00:01'\n",
    "\n",
    "# Write a format string to parse s\n",
    "fmt = '%Y-%m-%d %H:%M:%S'\n",
    "\n",
    "# Create a datetime object d\n",
    "d = datetime.strptime(s, fmt)   #************************************************************************************\n",
    "\n",
    "# Print d\n",
    "print(d)\n",
    "\n",
    "print(type(d))"
   ]
  },
  {
   "cell_type": "markdown",
   "id": "13504766-2607-46ad-8619-79da7d1b885b",
   "metadata": {},
   "source": [
    "## Parsing pairs of strings as datetimes\n",
    "\n",
    "Up until now, you've been working with a pre-processed list of datetimes for W20529's trips. For this exercise, you're going to go one step back in the data cleaning pipeline and work with the strings that the data started as.\n",
    "\n",
    "Explore onebike_datetime_strings in the IPython shell to determine the correct format. datetime has already been loaded for you.\n",
    "Reference\t\n",
    "%Y\t4 digit year (0000-9999)\n",
    "%m\t2 digit month (1-12)\n",
    "%d\t2 digit day (1-31)\n",
    "%H\t2 digit hour (0-23)\n",
    "%M\t2 digit minute (0-59)\n",
    "%S\t2 digit second (0-59)\n",
    "Instructions\n",
    "100 XP\n",
    "\n",
    "    Outside the for loop, fill out the fmt string with the correct parsing format for the data.\n",
    "    Within the for loop, parse the start and end strings into the trip dictionary with start and end keys and datetime objects for values.\n"
   ]
  },
  {
   "cell_type": "code",
   "execution_count": 28,
   "id": "5de97b5c-bb5b-4efa-8051-37068b22f33c",
   "metadata": {},
   "outputs": [
    {
     "name": "stdout",
     "output_type": "stream",
     "text": [
      "            Start date             End date  Start station number  \\\n",
      "0  2017-10-01 15:23:25  2017-10-01 15:26:26                 31038   \n",
      "1  2017-10-01 15:42:57  2017-10-01 17:49:59                 31036   \n",
      "2  2017-10-02 06:37:10  2017-10-02 06:42:53                 31036   \n",
      "3  2017-10-02 08:56:45  2017-10-02 09:18:03                 31037   \n",
      "4  2017-10-02 18:23:48  2017-10-02 18:45:05                 31295   \n",
      "\n",
      "                          Start station  End station number  \\\n",
      "0                  Glebe Rd & 11th St N               31036   \n",
      "1         George Mason Dr & Wilson Blvd               31036   \n",
      "2         George Mason Dr & Wilson Blvd               31037   \n",
      "3  Ballston Metro / N Stuart & 9th St N               31295   \n",
      "4                     Potomac & M St NW               31230   \n",
      "\n",
      "                            End station Bike number Member type  \n",
      "0         George Mason Dr & Wilson Blvd      W20529      Member  \n",
      "1         George Mason Dr & Wilson Blvd      W20529      Casual  \n",
      "2  Ballston Metro / N Stuart & 9th St N      W20529      Member  \n",
      "3                     Potomac & M St NW      W20529      Member  \n",
      "4         Metro Center / 12th & G St NW      W20529      Member  \n",
      "[{'start': '2017-10-01 15:23:25', 'end': '2017-10-01 15:26:26'}, {'start': '2017-10-01 15:42:57', 'end': '2017-10-01 17:49:59'}, {'start': '2017-10-02 06:37:10', 'end': '2017-10-02 06:42:53'}]\n",
      "[{'start': datetime.datetime(2017, 10, 1, 15, 23, 25), 'end': datetime.datetime(2017, 10, 1, 15, 26, 26)}, {'start': datetime.datetime(2017, 10, 1, 15, 42, 57), 'end': datetime.datetime(2017, 10, 1, 17, 49, 59)}, {'start': datetime.datetime(2017, 10, 2, 6, 37, 10), 'end': datetime.datetime(2017, 10, 2, 6, 42, 53)}]\n",
      "<class 'datetime.datetime'>\n",
      "2017-10-01 15:26:26\n"
     ]
    }
   ],
   "source": [
    "import pandas as pd\n",
    "from datetime import datetime\n",
    "\n",
    "\n",
    "bike = pd.read_csv('capital-onebike.csv')\n",
    "print(bike.head())\n",
    "\n",
    "#bike['Start date'] = pd.to_datetime(bike['Start date'])\n",
    "#bike['End date'] = pd.to_datetime(bike['End date'])\n",
    "\n",
    "\n",
    "bike_dt = [{'start': j[0], 'end': j[1]} for i,j in bike.iterrows()]   #**********************************************\n",
    "print(bike_dt[:3])\n",
    "\n",
    "\n",
    "\n",
    "# Write down the format string\n",
    "fmt = \"%Y-%m-%d %H:%M:%S\"\n",
    "\n",
    "# Initialize a list for holding the pairs of datetime objects\n",
    "onebike_datetimes = []\n",
    "\n",
    "# Loop over all trips\n",
    "for i in bike_dt:#onebike_datetime_strings:\n",
    "    trip = {'start': datetime.strptime(i['start'], fmt),\n",
    "            'end': datetime.strptime(i['end'], fmt)}\n",
    "\n",
    "    # Append the trip\n",
    "    onebike_datetimes.append(trip)\n",
    "    \n",
    "\n",
    "print(onebike_datetimes[:3])\n",
    "\n",
    "print(type(onebike_datetimes[0]['end']))\n",
    "\n",
    "print(onebike_datetimes[0]['end'])"
   ]
  },
  {
   "cell_type": "code",
   "execution_count": null,
   "id": "2462c370-4fed-444b-bb26-ab7e5efcd3d6",
   "metadata": {},
   "outputs": [],
   "source": [
    "In [1]: onebike_datetime_strings\n",
    "Out[1]: \n",
    "[('2017-10-01 15:23:25', '2017-10-01 15:26:26'),\n",
    " ('2017-10-01 15:42:57', '2017-10-01 17:49:59'),\n",
    " ('2017-10-02 06:37:10', '2017-10-02 06:42:53'),\n",
    " ('2017-10-02 08:56:45', '2017-10-02 09:18:03'),\n",
    " ('2017-10-02 18:23:48', '2017-10-02 18:45:05'),\n",
    " ('2017-10-02 18:48:08', '2017-10-02 19:10:54'),\n",
    " \n",
    " \n",
    "# Write down the format string\n",
    "fmt = \"%Y-%m-%d %H:%M:%S\"\n",
    "\n",
    "# Initialize a list for holding the pairs of datetime objects\n",
    "onebike_datetimes = []\n",
    "\n",
    "# Loop over all trips\n",
    "for (start, end) in onebike_datetime_strings:\n",
    "  trip = {'start': datetime.strptime(start, fmt),\n",
    "          'end': datetime.strptime(end, fmt)}\n",
    "  \n",
    "  # Append the trip\n",
    "  onebike_datetimes.append(trip)"
   ]
  },
  {
   "cell_type": "markdown",
   "id": "39158bfa-4eb8-4ee0-8693-bcf0bbc8598c",
   "metadata": {},
   "source": [
    "## Recreating ISO format with strftime()\n",
    "\n",
    "In the last chapter, you used \".strftime()\" (string from time) to create strings from date objects. Now that you know about datetime objects, let's practice doing something similar.\n",
    "\n",
    "Re-create the .isoformat() method, using .strftime(), and print the first trip start in our data set.\n",
    "Reference\t\n",
    "%Y\t4 digit year (0000-9999)\n",
    "%m\t2 digit month (1-12)\n",
    "%d\t2 digit day (1-31)\n",
    "%H\t2 digit hour (0-23)\n",
    "%M\t2 digit minute (0-59)\n",
    "%S\t2 digit second (0-59)\n",
    "Instructions\n",
    "100 XP\n",
    "\n",
    "    Complete fmt to match the format of ISO 8601.\n",
    "    Print first_start with both .isoformat() and .strftime(); they should match.\n"
   ]
  },
  {
   "cell_type": "code",
   "execution_count": 40,
   "id": "64f589fc-34ec-40fc-9160-4fa37cc253de",
   "metadata": {},
   "outputs": [
    {
     "name": "stdout",
     "output_type": "stream",
     "text": [
      "2017-10-01T15:23:25\n",
      "2017-10-01 15:23:25\n"
     ]
    }
   ],
   "source": [
    "# Import datetime\n",
    "from datetime import datetime\n",
    "\n",
    "# Pull out the start of the first trip\n",
    "first_start = bike_dt[0]['start']\n",
    "\n",
    "# Format to feed to strftime()\n",
    "fmt = \"%Y-%m-%d %H:%M:%S\"\n",
    "\n",
    "# Print out date with .isoformat(), then with .strftime() to compare\n",
    "print(first_start.isoformat())\n",
    "print(first_start.strftime(fmt))"
   ]
  },
  {
   "cell_type": "markdown",
   "id": "db0844cb-10e4-43ec-b889-15ded6ed8a25",
   "metadata": {},
   "source": [
    "## Unix timestamps\n",
    "\n",
    "Datetimes are sometimes stored as Unix timestamps: the number of seconds since January 1, 1970. This is especially common with computer infrastructure, like the log files that websites keep when they get visitors.\n",
    "Instructions\n",
    "100 XP\n",
    "\n",
    "    Complete the for loop to loop over timestamps.\n",
    "    Complete the code to turn each timestamp ts into a datetime.\n"
   ]
  },
  {
   "cell_type": "code",
   "execution_count": 42,
   "id": "4e43d6cf-7350-41ba-9546-e87f2d1fed0e",
   "metadata": {},
   "outputs": [
    {
     "name": "stdout",
     "output_type": "stream",
     "text": [
      "[datetime.datetime(2017, 12, 30, 15, 19, 13), datetime.datetime(2017, 12, 30, 15, 9, 3)]\n"
     ]
    }
   ],
   "source": [
    "# Import datetime\n",
    "from datetime import datetime\n",
    "\n",
    "# Starting timestamps\n",
    "timestamps = [1514665153, 1514664543]\n",
    "\n",
    "# Datetime objects\n",
    "dts = []\n",
    "\n",
    "# Loop\n",
    "for ts in timestamps:\n",
    "    dts.append(datetime.fromtimestamp(ts))\n",
    "\n",
    "# Print results\n",
    "print(dts)"
   ]
  },
  {
   "cell_type": "markdown",
   "id": "1a50f3c3-d796-42b3-b725-a61fea9e2fc0",
   "metadata": {},
   "source": [
    "## Working with durations\n",
    "\n",
    "\n",
    "\n",
    "\n",
    "\n",
    "\n",
    "**Much like dates, datetimes have a kind of arthmetic; we can compare them, subtract them, and add intervals to them.  Because we are working with both days and times, the logic for durations is a little more complicated, but not by much.  Lets have a look.  \n",
    "\n",
    "Just as with dates, to get a sense for what's going on we put our datetimes on a timeline.  These 2 datetimes here correspond to the start and end of one ride in our data set.  To follow along in Python, we'll load these 2 as variable start and end.  When we subtract datetimes, we get a timedelta.  \n",
    "\n",
    "A timedelta represents what is called a duration: the elapsed time between events.  When we call the \".total_seconds()\" method of this timedelta object, we get back the number of seconds that our timedelta represents.  In this case 1450 seconds elapsed between our start and end.  1450 seconds is 24 minutes and 10 seconds.  \n",
    "\n",
    "You can also create a timedelta by hands.  You need to from datetime import timedelta.  To create a timedelta, you specify the amount of time which has elapsed.  For example, we make delta1, a timedelta which corresponds to a one second duration.  Now when we add delta1 to start, we see that we get back a datetime which is one second later.  We can create another timedelta, delta2, whcih is 1 day and 2 hours and 3 minutes in duration.  Now when we add it to start, we get a new datetime which is the next day and 2 hours and 3 minutes later.  \n",
    "\n",
    "\n",
    "Timedelta can be created with any number of weeks, days, minutes, hours, seconds or microseconds, and can be as small as a microsecond or as large as 2.7 million years.  Timedeltas can also be negative, for example if we create delta3, whose argument is -1 weeks, and we add it to start we get a datetime corresponding to 1 week earlier.  We can also subtract a positive and get the same result.  We create delta4 which corresponding to a 1 week duration, and we subtract it from start.  As you can imagine, we get the same answer as when we added a negative timedelta.  \n",
    "\n",
    "\n",
    "\n",
    "In this lesson, we showed how to create timedeltas, which represent a duration of time.  You can create timedeltas by subtracting 2 datetimes, which tells you how much time has elapsed between events.  You can also create a timedelta directly, then add and subtract timedeltas from datetime to make new datetimes.  In the next few exercises, you'll see how these pieces can be combined together to answer more complex questions.  \n",
    "\n",
    "\n"
   ]
  },
  {
   "cell_type": "code",
   "execution_count": 49,
   "id": "4900894c-c892-47c2-8d59-d01eb09b97b0",
   "metadata": {},
   "outputs": [
    {
     "name": "stdout",
     "output_type": "stream",
     "text": [
      "<class 'datetime.datetime'>\n",
      "2017-10-09 00:10:57 \n",
      "\n",
      "<class 'datetime.timedelta'>\n",
      "0:24:10 \n",
      "\n",
      "['__abs__', '__add__', '__bool__', '__class__', '__delattr__', '__dir__', '__divmod__', '__doc__', '__eq__', '__floordiv__', '__format__', '__ge__', '__getattribute__', '__gt__', '__hash__', '__init__', '__init_subclass__', '__le__', '__lt__', '__mod__', '__mul__', '__ne__', '__neg__', '__new__', '__pos__', '__radd__', '__rdivmod__', '__reduce__', '__reduce_ex__', '__repr__', '__rfloordiv__', '__rmod__', '__rmul__', '__rsub__', '__rtruediv__', '__setattr__', '__sizeof__', '__str__', '__sub__', '__subclasshook__', '__truediv__', 'days', 'max', 'microseconds', 'min', 'resolution', 'seconds', 'total_seconds'] \n",
      "\n",
      "0\n",
      "1450.0\n"
     ]
    }
   ],
   "source": [
    "start = datetime(2017, 10, 8, 23, 46, 47)\n",
    "end = datetime(2017, 10, 9, 0, 10, 57)\n",
    "\n",
    "print(type(start))\n",
    "print(end, '\\n')\n",
    "\n",
    "\n",
    "diff = end - start\n",
    "print(type(diff))\n",
    "print(diff, '\\n')\n",
    "\n",
    "\n",
    "print(dir(diff), '\\n')\n",
    "\n",
    "print(diff.days)\n",
    "print(diff.total_seconds())"
   ]
  },
  {
   "cell_type": "code",
   "execution_count": 55,
   "id": "9ee7f102-31e6-4ba4-a334-bd999113fcb3",
   "metadata": {},
   "outputs": [
    {
     "name": "stdout",
     "output_type": "stream",
     "text": [
      "2022-02-27 08:00:01.777193\n",
      "2022-02-27 08:00:11.777193 \n",
      "\n",
      "2022-02-28 10:03:01.777193\n"
     ]
    }
   ],
   "source": [
    "from datetime import timedelta\n",
    "\n",
    "start = datetime.now()\n",
    "print(start)\n",
    "\n",
    "\n",
    "delta1 = timedelta(seconds=10)\n",
    "print(start + delta1, '\\n')\n",
    "\n",
    "\n",
    "delta2 = timedelta(days=1, hours=2, minutes=3)\n",
    "print(start + delta2)"
   ]
  },
  {
   "cell_type": "markdown",
   "id": "def4379c-fcf8-4dc1-9a3f-18123a41e7e7",
   "metadata": {},
   "source": [
    "## Turning pairs of datetimes into durations\n",
    "\n",
    "When working with timestamps, we often want to know how much time has elapsed between events. Thankfully, we can use datetime arithmetic to ask Python to do the heavy lifting for us so we don't need to worry about day, month, or year boundaries. Let's calculate the number of seconds that the bike was out of the dock for each trip.\n",
    "\n",
    "Continuing our work from a previous coding exercise, the bike trip data has been loaded as the list onebike_datetimes. Each element of the list consists of two datetime objects, corresponding to the start and end of a trip, respectively.\n",
    "Instructions\n",
    "100 XP\n",
    "\n",
    "    Within the loop:\n",
    "    Use arithmetic on the start and end elements to find the length of the trip\n",
    "    Save the results to trip_duration.\n",
    "    Calculate trip_length_seconds from trip_duration.\n"
   ]
  },
  {
   "cell_type": "code",
   "execution_count": 57,
   "id": "6e31f09b-a0b5-4fd7-9528-53e2940f7421",
   "metadata": {},
   "outputs": [
    {
     "name": "stdout",
     "output_type": "stream",
     "text": [
      "[{'start': Timestamp('2017-10-01 15:23:25'), 'end': Timestamp('2017-10-01 15:26:26')}, {'start': Timestamp('2017-10-01 15:42:57'), 'end': Timestamp('2017-10-01 17:49:59')}, {'start': Timestamp('2017-10-02 06:37:10'), 'end': Timestamp('2017-10-02 06:42:53')}, {'start': Timestamp('2017-10-02 08:56:45'), 'end': Timestamp('2017-10-02 09:18:03')}, {'start': Timestamp('2017-10-02 18:23:48'), 'end': Timestamp('2017-10-02 18:45:05')}]\n"
     ]
    }
   ],
   "source": [
    "print(bike_dt[:5])"
   ]
  },
  {
   "cell_type": "code",
   "execution_count": 85,
   "id": "f989fdfa-1a3b-49ca-b6ee-9de13502a6cd",
   "metadata": {},
   "outputs": [
    {
     "name": "stdout",
     "output_type": "stream",
     "text": [
      "[181.0, 7622.0, 343.0, 1278.0, 1277.0] \n",
      "\n",
      "1178.9310344827586 -3346.0 76913.0\n"
     ]
    },
    {
     "data": {
      "image/png": "[encoded data removed]",
      "text/plain": [
       "<Figure size 432x288 with 1 Axes>"
      ]
     },
     "metadata": {
      "needs_background": "light"
     },
     "output_type": "display_data"
    },
    {
     "data": {
      "image/png": "[encoded data removed]",
      "text/plain": [
       "<Figure size 432x288 with 1 Axes>"
      ]
     },
     "metadata": {
      "needs_background": "light"
     },
     "output_type": "display_data"
    }
   ],
   "source": [
    "# Initialize a list for all the trip durations\n",
    "onebike_durations = []\n",
    "\n",
    "for trip in bike_dt:\n",
    "    # Create a timedelta object corresponding to the length of the trip\n",
    "    trip_duration = trip['end'] - trip['start']\n",
    "    \n",
    "    # Get the total elapsed seconds in trip_duration\n",
    "    trip_length_seconds = trip_duration.total_seconds()\n",
    "    \n",
    "    # Append the results to our list\n",
    "    onebike_durations.append(trip_length_seconds)\n",
    "    \n",
    "    \n",
    "print(onebike_durations[:5], '\\n')\n",
    "\n",
    "import numpy as np\n",
    "print(np.mean(onebike_durations), min(onebike_durations), max(onebike_durations))\n",
    "\n",
    "\n",
    "import matplotlib.pyplot as plt\n",
    "import seaborn as sns\n",
    "\n",
    "#plt.hist(onebike_durations, bins = 30)\n",
    "#plt.xlim(xmin=50, xmax=5000)\n",
    "\n",
    "#ax, fig = sns.subplots()\n",
    "\n",
    "sns.histplot([i/60 for i in onebike_durations],  \n",
    "             kde=True, \n",
    "             #stat=\"density\", \n",
    "             #rug=True,  rug= arg not exist in histplot\n",
    "             linewidth=0)\n",
    "plt.title(\"Minutes distribution of rides\")\n",
    "\n",
    "plt.xlim(xmin=0, xmax=200)\n",
    "\n",
    "plt.show()\n",
    "\n",
    "\n",
    "\n",
    "plt.boxplot([i/60 for i in onebike_durations], showfliers=False)  #**************************************************\n",
    "plt.show()"
   ]
  },
  {
   "cell_type": "markdown",
   "id": "147ea161-a317-40ac-b5f2-d007c7be9d2e",
   "metadata": {},
   "source": [
    "## Average trip time\n",
    "\n",
    "W20529 took 291 trips in our data set. How long were the trips on average? We can use the built-in Python functions sum() and len() to make this calculation.\n",
    "\n",
    "Based on your last coding exercise, the data has been loaded as onebike_durations. Each entry is a number of seconds that the bike was out of the dock.\n",
    "Instructions\n",
    "100 XP\n",
    "\n",
    "    Calculate total_elapsed_time across all trips in onebike_durations.\n",
    "    Calculate number_of_trips for onebike_durations.\n",
    "    Divide total_elapsed_time by number_of_trips to get the average trip length.\n"
   ]
  },
  {
   "cell_type": "code",
   "execution_count": null,
   "id": "ad5ee7b3-a4d5-433c-8016-27929daea894",
   "metadata": {},
   "outputs": [],
   "source": [
    "# What was the total duration of all trips?\n",
    "total_elapsed_time = ____(____)\n",
    "\n",
    "# What was the total number of trips?\n",
    "number_of_trips = ____(____)\n",
    "  \n",
    "# Divide the total duration by the number of trips\n",
    "print(____ / ____)"
   ]
  },
  {
   "cell_type": "markdown",
   "id": "00ea2b46-e353-4b95-af7c-ed49e05c0ff8",
   "metadata": {},
   "source": [
    "## The long and the short of why time is hard\n",
    "\n",
    "Out of 291 trips taken by W20529, how long was the longest? How short was the shortest? Does anything look fishy?\n",
    "\n",
    "As before, data has been loaded as onebike_durations.\n",
    "Instructions\n",
    "100 XP\n",
    "\n",
    "    Calculate shortest_trip from onebike_durations.\n",
    "    Calculate longest_trip from onebike_durations.\n",
    "    Print the results, turning shortest_trip and longest_trip into strings so they can print.\n"
   ]
  },
  {
   "cell_type": "code",
   "execution_count": null,
   "id": "bf37c2ff-0171-4767-9dc7-d8a613035f55",
   "metadata": {},
   "outputs": [],
   "source": [
    "# Calculate shortest and longest trips\n",
    "shortest_trip = min(____)\n",
    "longest_trip = max(____)\n",
    "\n",
    "# Print out the results\n",
    "print(\"The shortest trip was \" + ____ + \" seconds\")\n",
    "print(\"The longest trip was \" + ____ + \" seconds\")"
   ]
  },
  {
   "cell_type": "markdown",
   "id": "f2dcb200-ee48-48ed-9228-1531fc605d0c",
   "metadata": {},
   "source": [
    "## UTC offsets\n",
    "\n",
    "\n",
    "\n",
    "\n",
    "\n",
    "**Sometimes, you really need to know exactly when something happened.  Up untill now, the datetime objects you have worked with are what is called \"naive\", and cant be compared across different parts of the world.  They don't know anything about their time zone.  What does this matter?  \n",
    "\n",
    "Before time zones, each city or town set its clock so that noon was directly overhead.  Another city 100 miles away would also set their clocks to be noon when the sun was overhead.  But this means that 2 cities had clocks that were different, by maybe 15 or 20 minutes.  When people moved by foot or horseback, this wasn't a problem.  Then railroads, and later telegraphs, came into existance.  Now you could move or communicate with someone 100 or 1000 miles away fast enough that time had to be consistent.  Govements solved this problem by declaring that all clock within a wide area would agree on the hour, even if some were ahead or behind of their solar time.  The US for example, has 4 major time zones, plus 1 for Alaska and another for Hawaii.  Our bike data was collected in Washington  DC, which observes Eastern time.  But since we're not using the sun anymore, how do we know how to set the clock?  \n",
    "\n",
    "Because the UK was the first to standardize its time, everyone in the world aets their clocks relative to the original historcal UK standard.  This standard is called UTC.  Because all clocks are set relative to UTC, we can compare time around the world.  Generally clock west of UK are set earlier tha UTC, and clocks east of the UK are set later than UTC.  For example, the eastern US in typically UTC minus 5 hours, while India is typically UTC plus 5 hours 30 minutes.  Lets see this in code.  \n",
    "\n",
    "\n",
    "# *******************************************************************************************************************\n",
    "As before, you import datetime and timedelta, now you also import timezone.  This will let you specify what timezone the clock was in when our data was recorded.  We create a timezone object, which accepts a timedelta that explains how to translate your datetime into UTC.  In this case, since the clock that measured our bicycle dateset was 5 hours behind UTC, we create ET to be at UTC-5.  We can specify what time zone the clock was in when the last ride started in our dataset.  The clock that recorded the ride was 5 hours behind UTC.  Now if you print it, your datetime includes the UTC offset.  \n",
    "\n",
    "Making a datetime aware of its timezone means you can ask Python new questions.  For example, suppose you want to know what the date and time would have been if the clock had been set to India Standard Time instead.  First create a new timezone object set to be UTP+5 hours and 30 minutes.  Now use \n",
    "# the \".astimezone()\" method to ask Python to create a new datetime object corresponding to the same moment, but adjusted to a different time zone.  \n",
    "In this case, because the clocks in India would have been set 10.5 hours ahead of clocks on the eastern US, the last ride would have taken place on December 31, at 1 hour 39 minutes, and 3 seconds past midnight local time.  Same moment different clock.  \n",
    "\n",
    "\n",
    "# *******************************************************************************************************************\n",
    "# Finally, there is an important difference between adjusting timezones and hanging the \"tzinfo=\" directly.  \n",
    "Here you can set the the \"tzinfo=\" directly, using the \".replace\" method.  Here we set the \"tzinfo=\" to be timezone.utc, a convenient object with 0 UTC offset.  The clock stays the same, but the UTC offset has shifted.  Or just like before, you can all the \".astimezone()\" method.  Now if we adjust into UTC with \".astimezone()\", we change both the UTC offset and clock itself.  \n",
    "\n",
    "\n",
    "Now that you have learned about UTC offset, which allow us to compare times around the world, its time to practice using them.  \n",
    "\n"
   ]
  },
  {
   "cell_type": "code",
   "execution_count": 103,
   "id": "2a1dffb8-44c9-4f41-a8b9-05b0d2b8f842",
   "metadata": {},
   "outputs": [
    {
     "name": "stdout",
     "output_type": "stream",
     "text": [
      "2017-12-30 15:09:03-05:00 \n",
      "\n",
      "2017-12-31 01:39:03+05:30\n"
     ]
    }
   ],
   "source": [
    "# Import relative classes\n",
    "from datetime import datetime, timedelta, timezone\n",
    "\n",
    "\n",
    "# US Eastern Standard time zone\n",
    "ET = timezone(timedelta(hours=-5))\n",
    "\n",
    "dt = datetime(2017, 12, 30, 15, 9, 3, tzinfo=ET)  #++++++++++++++++++++++++++++++++++++++++++++++++++++++++++++++++++\n",
    "# # datetime(year, month, day[, hour[, minute[, second[, microsecond[,tzinfo]]]]])\n",
    "print(dt, '\\n')\n",
    "\n",
    "#print(help(datetime))\n",
    "\n",
    "\n",
    "#********************************************************************************************************************\n",
    "#********************************************************************************************************************\n",
    "IST = timezone(timedelta(hours=5, minutes=30))  #++++++++++++++++++++++++++++++++++++++++++++++++++++++++++++++++++++\n",
    "dt = dt.astimezone(IST)\n",
    "\n",
    "print(dt)"
   ]
  },
  {
   "cell_type": "code",
   "execution_count": 104,
   "id": "1a1d1fdf-acb6-47b5-a833-5499c392f827",
   "metadata": {},
   "outputs": [
    {
     "name": "stdout",
     "output_type": "stream",
     "text": [
      "2017-12-31 01:39:03+05:30\n",
      "2017-12-31 01:39:03+00:00 \n",
      "\n",
      "2017-12-30 20:09:03+00:00\n"
     ]
    }
   ],
   "source": [
    "print(dt)\n",
    "\n",
    "dt2 = dt.replace(tzinfo=timezone.utc)  ##############################################################################\n",
    "print(dt2, '\\n')\n",
    "\n",
    "\n",
    "dt3 = dt.astimezone(timezone.utc)  #$$$$$$$$$$$$$$$$$$$$$$$$$$$$$$$$$$$$$$$$$$$$$$$$$$$$$$$$$$$$$$$$$$$$$$$$$$$$$$$$$\n",
    "print(dt3)"
   ]
  },
  {
   "cell_type": "markdown",
   "id": "56b5cc75-541c-4ef1-81d9-a8bfc8968126",
   "metadata": {},
   "source": [
    "## Creating timezone aware datetimes\n",
    "\n",
    "In this exercise, you will practice setting timezones manually.\n",
    "Instructions 1/3\n",
    "35 XP\n",
    "\n",
    "    Question 1\n",
    "    Import timezone.\n",
    "    Set the tzinfo to UTC, without using timedelta.\n",
    "    \n",
    "    \n",
    "    Question 2\n",
    "    Set pst to be a timezone set for UTC-8.\n",
    "    Set dt's timezone to be pst.\n",
    "    \n",
    "    \n",
    "    Question 3\n",
    "    Set tz to be a timezone set for UTC+11.\n",
    "    Set dt's timezone to be tz.\n"
   ]
  },
  {
   "cell_type": "code",
   "execution_count": 100,
   "id": "ddadbf22-28fa-48a0-9aba-f457a24ae419",
   "metadata": {},
   "outputs": [
    {
     "name": "stdout",
     "output_type": "stream",
     "text": [
      "2017-10-01T15:26:26+00:00\n",
      "2017-10-01 15:26:26-08:00\n"
     ]
    }
   ],
   "source": [
    "from datetime import datetime, timezone, timedelta\n",
    "\n",
    "\n",
    "# Import datetime, timezone\n",
    "\n",
    "# October 1, 2017 at 15:26:26, UTC\n",
    "dt = datetime(2017, 10, 1, 15, 26, 26, tzinfo=timezone.utc)  ########################################################\n",
    "\n",
    "# Print results\n",
    "print(dt.isoformat())\n",
    "\n",
    "\n",
    "\n",
    "pst = dt.replace(tzinfo=timezone(timedelta(hours=-8)))\n",
    "print(pst)"
   ]
  },
  {
   "cell_type": "code",
   "execution_count": null,
   "id": "9bdf43da-817b-40d0-8d44-58dfb7ee3faa",
   "metadata": {},
   "outputs": [],
   "source": [
    "\"\"\"Set pst to be a timezone set for UTC-8.\n",
    "Set dt's timezone to be pst.\"\"\"\n",
    "\n",
    "# Create a timezone for Pacific Standard Time, or UTC-8\n",
    "pst = timezone(timedelta(hours=-8))\n",
    "\n",
    "# October 1, 2017 at 15:26:26, UTC-8\n",
    "dt = datetime(2017, 10, 1, 15, 26, 26, tzinfo = pst)\n",
    "\n",
    "# Print results\n",
    "print(dt.isoformat())\n",
    "\n",
    "\n",
    "\"\"\"Set tz to be a timezone set for UTC+11.\n",
    "Set dt's timezone to be tz.\"\"\"\n",
    "\n",
    "# Create a timezone for Australian Eastern Daylight Time, or UTC+11\n",
    "aedt =timezone(timedelta(hours=+11))\n",
    "\n",
    "# October 1, 2017 at 15:26:26, UTC+11\n",
    "dt = datetime(2017, 10, 1, 15, 26, 26, tzinfo=aedt)\n",
    "\n",
    "# Print results\n",
    "print(dt.isoformat())"
   ]
  },
  {
   "cell_type": "markdown",
   "id": "9ca74cd6-e917-4b15-8efc-2e50543b4c74",
   "metadata": {},
   "source": [
    "## Setting timezones\n",
    "\n",
    "# *******************************************************************************************************************\n",
    "Now that you have the hang of setting timezones one at a time, let's look at setting them for the first ten trips that W20529 took.\n",
    "\n",
    "timezone and timedelta have already been imported. Make the change using .replace()\n",
    "Instructions\n",
    "100 XP\n",
    "\n",
    "    Create edt, a timezone object whose UTC offset is -4 hours.\n",
    "    Within the for loop:\n",
    "#    Set the tzinfo for trip['start'].\n",
    "    Set the tzinfo for trip['end'].\n"
   ]
  },
  {
   "cell_type": "code",
   "execution_count": 105,
   "id": "41f00ec9-0e96-4dc2-b121-475f1ec002e3",
   "metadata": {},
   "outputs": [
    {
     "name": "stdout",
     "output_type": "stream",
     "text": [
      "[{'start': Timestamp('2017-10-01 15:23:25'), 'end': Timestamp('2017-10-01 15:26:26')}, {'start': Timestamp('2017-10-01 15:42:57'), 'end': Timestamp('2017-10-01 17:49:59')}, {'start': Timestamp('2017-10-02 06:37:10'), 'end': Timestamp('2017-10-02 06:42:53')}]\n"
     ]
    }
   ],
   "source": [
    "print(bike_dt[:3])"
   ]
  },
  {
   "cell_type": "code",
   "execution_count": 107,
   "id": "e875a977-444a-42b1-91bf-11fc724c59f9",
   "metadata": {},
   "outputs": [
    {
     "name": "stdout",
     "output_type": "stream",
     "text": [
      "2017-10-01 15:23:25-04:00\n",
      "2017-10-01 15:42:57-04:00\n",
      "2017-10-02 06:37:10-04:00\n",
      "2017-10-02 08:56:45-04:00\n",
      "2017-10-02 18:23:48-04:00\n",
      "2017-10-02 18:48:08-04:00\n",
      "2017-10-02 19:18:10-04:00\n",
      "2017-10-02 19:37:32-04:00\n",
      "2017-10-03 08:24:16-04:00\n",
      "2017-10-03 18:17:07-04:00\n"
     ]
    }
   ],
   "source": [
    "# Create a timezone object corresponding to UTC-4\n",
    "edt = timezone(timedelta(hours=-4))\n",
    "\n",
    "# Loop over trips, updating the start and end datetimes to be in UTC-4\n",
    "for trip in bike_dt[:10]:\n",
    "    # Update trip['start'] and trip['end']  #++++++++++++++++++++++++++++++++++++++++++++++++++++++++++++++++++++++++\n",
    "    trip['start'] = trip['start'].replace(tzinfo=edt)\n",
    "    trip['end'] = trip['end'].replace(tzinfo=edt)\n",
    "    \n",
    "    # TypeError: Cannot convert tz-naive Timestamp, use tz_localize to localize  #+++++++++++++++++++++++++++++++++++\n",
    "    \n",
    "    print(trip['start'])\n"
   ]
  },
  {
   "cell_type": "code",
   "execution_count": null,
   "id": "662625df-5a3d-498e-93b3-f01e3790ef31",
   "metadata": {},
   "outputs": [],
   "source": [
    "# Create a timezone object corresponding to UTC-4\n",
    "edt = timezone(timedelta(hours=-4))\n",
    "\n",
    "# Loop over trips, updating the start and end datetimes to be in UTC-4\n",
    "for trip in onebike_datetimes[:10]:\n",
    "    # Update trip['start'] and trip['end']\n",
    "    trip['start'] = trip['start'].replace(tzinfo = edt)\n",
    "    trip['end'] = trip['end'].replace(tzinfo = edt)"
   ]
  },
  {
   "cell_type": "markdown",
   "id": "1b402c3c-0caa-4d1b-b7e4-fbb05fff4371",
   "metadata": {},
   "source": [
    "## What time did the bike leave in UTC?\n",
    "\n",
    "Having set the timezone for the first ten rides that W20529 took, let's see what time the bike left in UTC. We've already loaded the results of the previous exercise into memory.\n",
    "Instructions\n",
    "100 XP\n",
    "\n",
    "Within the for loop, move dt to be in UTC. Use timezone.utc as a convenient shortcut for UTC.\n",
    "\n",
    "# Hint\n",
    "\n",
    "# Remember that .replace() just changes the timezone whereas .astimezone() actually moves the hours and days to match."
   ]
  },
  {
   "cell_type": "code",
   "execution_count": 109,
   "id": "36ae5991-c0e3-4367-9640-4432017d5863",
   "metadata": {},
   "outputs": [
    {
     "name": "stdout",
     "output_type": "stream",
     "text": [
      "[{'start': Timestamp('2017-10-01 15:23:25-0400', tz='UTC-04:00'), 'end': Timestamp('2017-10-01 15:26:26-0400', tz='UTC-04:00')}, {'start': Timestamp('2017-10-01 15:42:57-0400', tz='UTC-04:00'), 'end': Timestamp('2017-10-01 17:49:59-0400', tz='UTC-04:00')}, {'start': Timestamp('2017-10-02 06:37:10-0400', tz='UTC-04:00'), 'end': Timestamp('2017-10-02 06:42:53-0400', tz='UTC-04:00')}, {'start': Timestamp('2017-10-02 08:56:45-0400', tz='UTC-04:00'), 'end': Timestamp('2017-10-02 09:18:03-0400', tz='UTC-04:00')}, {'start': Timestamp('2017-10-02 18:23:48-0400', tz='UTC-04:00'), 'end': Timestamp('2017-10-02 18:45:05-0400', tz='UTC-04:00')}, {'start': Timestamp('2017-10-02 18:48:08-0400', tz='UTC-04:00'), 'end': Timestamp('2017-10-02 19:10:54-0400', tz='UTC-04:00')}, {'start': Timestamp('2017-10-02 19:18:10-0400', tz='UTC-04:00'), 'end': Timestamp('2017-10-02 19:31:45-0400', tz='UTC-04:00')}, {'start': Timestamp('2017-10-02 19:37:32-0400', tz='UTC-04:00'), 'end': Timestamp('2017-10-02 19:46:37-0400', tz='UTC-04:00')}, {'start': Timestamp('2017-10-03 08:24:16-0400', tz='UTC-04:00'), 'end': Timestamp('2017-10-03 08:32:27-0400', tz='UTC-04:00')}, {'start': Timestamp('2017-10-03 18:17:07-0400', tz='UTC-04:00'), 'end': Timestamp('2017-10-03 18:27:46-0400', tz='UTC-04:00')}, {'start': Timestamp('2017-10-03 19:24:10'), 'end': Timestamp('2017-10-03 19:52:08')}, {'start': Timestamp('2017-10-03 20:17:06'), 'end': Timestamp('2017-10-03 20:23:52')}]\n"
     ]
    }
   ],
   "source": [
    "print(bike_dt[:12])"
   ]
  },
  {
   "cell_type": "code",
   "execution_count": 110,
   "id": "745fada1-9f3f-412c-bf71-f5f0f52a0504",
   "metadata": {},
   "outputs": [
    {
     "name": "stdout",
     "output_type": "stream",
     "text": [
      "Original: 2017-10-01 15:23:25-04:00 | UTC: 2017-10-01T19:23:25+00:00\n",
      "Original: 2017-10-01 15:42:57-04:00 | UTC: 2017-10-01T19:42:57+00:00\n",
      "Original: 2017-10-02 06:37:10-04:00 | UTC: 2017-10-02T10:37:10+00:00\n",
      "Original: 2017-10-02 08:56:45-04:00 | UTC: 2017-10-02T12:56:45+00:00\n",
      "Original: 2017-10-02 18:23:48-04:00 | UTC: 2017-10-02T22:23:48+00:00\n",
      "Original: 2017-10-02 18:48:08-04:00 | UTC: 2017-10-02T22:48:08+00:00\n",
      "Original: 2017-10-02 19:18:10-04:00 | UTC: 2017-10-02T23:18:10+00:00\n",
      "Original: 2017-10-02 19:37:32-04:00 | UTC: 2017-10-02T23:37:32+00:00\n",
      "Original: 2017-10-03 08:24:16-04:00 | UTC: 2017-10-03T12:24:16+00:00\n",
      "Original: 2017-10-03 18:17:07-04:00 | UTC: 2017-10-03T22:17:07+00:00\n"
     ]
    }
   ],
   "source": [
    "# Loop over the trips\n",
    "for trip in bike_dt[:10]:\n",
    "    # Pull out the start\n",
    "    dt = trip['start']\n",
    "    # Move dt to be in UTC\n",
    "    dt = dt.astimezone(timezone.utc)\n",
    "    \n",
    "    # Print the start time in UTC\n",
    "    print('Original:', trip['start'], '| UTC:', dt.isoformat())"
   ]
  },
  {
   "cell_type": "markdown",
   "id": "1035d01a-d64a-443e-b637-f63f848051d9",
   "metadata": {},
   "source": [
    "## Time zone database\n",
    "\n",
    "\n",
    "\n",
    "\n",
    "\n",
    "\n",
    "**Now that you understand how UTC offsets work, its time to talk about how you use timezones in practice.  Imagine a world map of different timezones in the earth, as of 2017.  They cut across countries, and within countries, and sometimes one is even totally surrounded by another one.  How could you possibly know all of these when you need to align your data to UTC?  DO you need to look up the offset for each one in some big spreadsheet somewhere?  Cant computer help with this?  Thankfully yes.  \n",
    "\n",
    "# *******************************************************************************************************************\n",
    "There is a database called \"tz\", updated 3-4 times a year as timezone ruleshange.  This database is used by computer programs across many programming langurages.  Because timezone information changes o quickly, it doesn't ake sense to bundle it directly into Python.  Instead, you will use a package called \"dateutil\".  \n",
    "\n",
    "Lets start by making a timezone object that corresponds to eastern US, where our bicycle data comes from.  Within \"tz\", time zones are defined first by the continent they are on, and then by the nearest major city.  For example, the time zone used on the eastern seaboard of the US is \"America/New York\".  We fetch this timezone by calling \"tz.gettz()\", and passing \"America/New York\" as the string input.  Other example includes: \"America/Mexico City\", \"Europe/London\", \"Africa/Accra\".  \n",
    "\n",
    "\n",
    "Let look at our last ride again.  Instead of specifying the UTC offset yourself, you pass the timezone you got from tz.  Look at the result, and you can see that its got the right UTC offset.  Even more excitingly, this same object will adjust the UTC offset depending on the date and time.  If we call datetime() with the time information of our first ride, and pass in the same time zone info, we see that it gives us a different UTC offset.  We will discuss daylight saving time in the next lesson, but suffice to say that in some places the clock change twice a year.  Instead of having to look up when these things change, we just ask the time zone database to know for us.  \n",
    "\n",
    "The \"tz\" includes rules for UTC offsets going all the way back to the late 1960s, and sometimes earlier.  If you have data stretching over a long period of time, and you really care about getting the exacthours and minutes correct, you can use tz to put all of your date and timestamps on to a common scale.  \n",
    "\n",
    "\n",
    "\n",
    "Now that you have a basic understanding of using the tz calss from detautil packages, its time to practice some examples.  \n",
    "\n"
   ]
  },
  {
   "cell_type": "code",
   "execution_count": 114,
   "id": "f6a59a48-e181-4d25-a656-82038ade24d7",
   "metadata": {},
   "outputs": [
    {
     "name": "stdout",
     "output_type": "stream",
     "text": [
      "2017-12-30 15:09:03-05:00\n",
      "2017-10-01 15:23:25-04:00\n"
     ]
    }
   ],
   "source": [
    "from datetime import datetime\n",
    "from dateutil import tz\n",
    "\n",
    "\n",
    "et = tz.gettz('America/New York')  #+++++++++++++++++++++++++++++++++++++++++++++++++++++++++++++++++++++++++++++++++\n",
    "\n",
    "last = datetime(2017, 12, 30, 15, 9, 3, tzinfo=et)  #++++++++++++++++++++++++++++++++++++++++++++++++++++++++++++++++\n",
    "print(last)\n",
    "\n",
    "\n",
    "\n",
    "first = datetime(2017, 10, 1, 15, 23, 25, tzinfo=et)\n",
    "print(first)"
   ]
  },
  {
   "cell_type": "markdown",
   "id": "6e60de3c-cea7-4c3c-a4ef-8684bbb10c3d",
   "metadata": {},
   "source": [
    "## Putting the bike trips into the right time zone\n",
    "\n",
    "Instead of setting the timezones for W20529 by hand, let's assign them to their IANA timezone: 'America/New_York'. Since we know their political jurisdiction, we don't need to look up their UTC offset. Python will do that for us.\n",
    "Instructions\n",
    "100 XP\n",
    "\n",
    "    Import tz from dateutil.\n",
    "    Assign et to be the timezone 'America/New_York'.\n",
    "#    Within the for loop, set start and end to have et as their timezone (use .replace()).\n"
   ]
  },
  {
   "cell_type": "code",
   "execution_count": 118,
   "id": "23a262cf-cfa0-432c-a8ad-8d074cdaaabb",
   "metadata": {},
   "outputs": [
    {
     "name": "stdout",
     "output_type": "stream",
     "text": [
      "[{'start': Timestamp('2017-10-01 15:23:25-0400', tz='dateutil//usr/share/zoneinfo/America/New_York'), 'end': Timestamp('2017-10-01 15:26:26-0400', tz='dateutil//usr/share/zoneinfo/America/New_York')}, {'start': Timestamp('2017-10-01 15:42:57-0400', tz='dateutil//usr/share/zoneinfo/America/New_York'), 'end': Timestamp('2017-10-01 17:49:59-0400', tz='dateutil//usr/share/zoneinfo/America/New_York')}, {'start': Timestamp('2017-10-02 06:37:10-0400', tz='dateutil//usr/share/zoneinfo/America/New_York'), 'end': Timestamp('2017-10-02 06:42:53-0400', tz='dateutil//usr/share/zoneinfo/America/New_York')}, {'start': Timestamp('2017-10-02 08:56:45-0400', tz='dateutil//usr/share/zoneinfo/America/New_York'), 'end': Timestamp('2017-10-02 09:18:03-0400', tz='dateutil//usr/share/zoneinfo/America/New_York')}, {'start': Timestamp('2017-10-02 18:23:48-0400', tz='dateutil//usr/share/zoneinfo/America/New_York'), 'end': Timestamp('2017-10-02 18:45:05-0400', tz='dateutil//usr/share/zoneinfo/America/New_York')}, {'start': Timestamp('2017-10-02 18:48:08-0400', tz='dateutil//usr/share/zoneinfo/America/New_York'), 'end': Timestamp('2017-10-02 19:10:54-0400', tz='dateutil//usr/share/zoneinfo/America/New_York')}, {'start': Timestamp('2017-10-02 19:18:10-0400', tz='dateutil//usr/share/zoneinfo/America/New_York'), 'end': Timestamp('2017-10-02 19:31:45-0400', tz='dateutil//usr/share/zoneinfo/America/New_York')}, {'start': Timestamp('2017-10-02 19:37:32-0400', tz='dateutil//usr/share/zoneinfo/America/New_York'), 'end': Timestamp('2017-10-02 19:46:37-0400', tz='dateutil//usr/share/zoneinfo/America/New_York')}, {'start': Timestamp('2017-10-03 08:24:16-0400', tz='dateutil//usr/share/zoneinfo/America/New_York'), 'end': Timestamp('2017-10-03 08:32:27-0400', tz='dateutil//usr/share/zoneinfo/America/New_York')}, {'start': Timestamp('2017-10-03 18:17:07-0400', tz='dateutil//usr/share/zoneinfo/America/New_York'), 'end': Timestamp('2017-10-03 18:27:46-0400', tz='dateutil//usr/share/zoneinfo/America/New_York')}, {'start': Timestamp('2017-10-03 19:24:10'), 'end': Timestamp('2017-10-03 19:52:08')}, {'start': Timestamp('2017-10-03 20:17:06'), 'end': Timestamp('2017-10-03 20:23:52')}]\n"
     ]
    }
   ],
   "source": [
    "# Import tz\n",
    "from dateutil import tz\n",
    "\n",
    "\n",
    "# Create a timezone object for Eastern Time\n",
    "et = tz.gettz('America/New_York')\n",
    "\n",
    "# Loop over trips, updating the datetimes to be in Eastern Time\n",
    "for trip in bike_dt[:10]:\n",
    "    # Update trip['start'] and trip['end']\n",
    "    trip['start'] = trip['start'].replace(tzinfo=et)\n",
    "    trip['end'] = trip['end'].replace(tzinfo=et)\n",
    "    \n",
    "    \n",
    "    \n",
    "print(bike_dt[:12])"
   ]
  },
  {
   "cell_type": "markdown",
   "id": "8d8841f3-aec5-4500-a692-30723c2f7202",
   "metadata": {},
   "source": [
    "## What time did the bike leave? (Global edition)\n",
    "\n",
    "When you need to move a datetime from one timezone into another, use \".astimezone()\" and tz. \n",
    "Often you will be moving things into UTC, but for fun let's try moving things from 'America/New_York' into a few different time zones.\n",
    "Instructions 1/3\n",
    "35 XP\n",
    "\n",
    "    Question 1\n",
    "    Set uk to be the timezone for the UK: 'Europe/London'.\n",
    "#    Change local to be in the uk timezone and assign it to notlocal.\n",
    "    \n",
    "    \n",
    "    Question 2\n",
    "#    Set ist to be the timezone for India: 'Asia/Kolkata'.\n",
    "#    Change local to be in the ist timezone and assign it to notlocal.\n",
    "    \n",
    "    \n",
    "    Question 3\n",
    "    Set sm to be the timezone for Samoa: 'Pacific/Apia'.\n",
    "    Change local to be in the sm timezone and assign it to notlocal.\n"
   ]
  },
  {
   "cell_type": "code",
   "execution_count": 122,
   "id": "4a040591-1f22-48ef-8c72-3d85625c9bd9",
   "metadata": {},
   "outputs": [
    {
     "name": "stdout",
     "output_type": "stream",
     "text": [
      "2017-10-01 15:23:25-04:00 \n",
      "\n",
      "2017-10-01T15:23:25-04:00\n",
      "2017-10-01T20:23:25+01:00 \n",
      "\n",
      "2017-10-02 00:53:25+05:30\n"
     ]
    }
   ],
   "source": [
    "# Create the timezone object\n",
    "uk = tz.gettz('Europe/London')\n",
    "\n",
    "# Pull out the start of the first trip\n",
    "local = bike_dt[0]['start']\n",
    "print(local, '\\n')\n",
    "\n",
    "# What time was it in the UK?\n",
    "notlocal = local.astimezone(uk)\n",
    "\n",
    "# Print them out and see the difference\n",
    "print(local.isoformat())\n",
    "print(notlocal.isoformat(), '\\n')\n",
    "\n",
    "\n",
    "\n",
    "# *******************************************************************************************************************\n",
    "ist = tz.gettz('Asia/Kolkata')\n",
    "\n",
    "nonlocal2 = local.astimezone(ist)\n",
    "print(nonlocal2)"
   ]
  },
  {
   "cell_type": "markdown",
   "id": "303f125c-b5f9-4ac3-9391-e3f40fc3b4a0",
   "metadata": {},
   "source": [
    "## Starting daylight saving time\n",
    "\n",
    "\n",
    "\n",
    "\n",
    "\n",
    "**Some places change their clocks twice a year to create a longer summer evenings.  This ractice is called daylight saving time, but it would be better called daylight shifting time.  In some countries it is called \"summer time\".  Dealing with daylight saving time can be one of the most fiendish challenges in dealing with dates d times.  \n",
    "\n",
    "To keep things simple, lets start with the situation where the clcoks move forward in the spring.  In the next lesson, we'll discuss handing the opposite case, when the clocks move back in the fall.  Lets look at an example.  On March 12, 2017, in Washington DC, the clock jumped straight from 1:59 AM to 3:00 AM, the clock springs forward.  It never officially struck 2:00 AM anywhere on the East Coast of the US that day.  Just like before, to make our clock in Washington DC comparable to clocks in other places, we need to represent it with a UTC offset.  Only now the UTC offset is going to change.  \n",
    "\n",
    "On this date, at 1 AM in Washington DC, we were in Eastern Standard Time.  It was 6 AM UTC, a 5 hour difference.  At 3 AM in Washington DC, we were in Eastern Daylight Time.  It was 7 AM UTC, a 4 hour difference.  \n",
    "\n",
    "\n",
    "\n",
    "         2017-03-12             2017-03-12               2017-03-12\n",
    "         06:00:00               07:00:00                 08:00:00\n",
    "UTC --------*------------------------*-----------------------*------------------------------- \n",
    "\n",
    "DC  --------*-----------------------*-                      -*------------------------*------ \n",
    "         2017-03-12             2017-03-12                2017-03-12              \n",
    "         01:00:00               01:59:59                  03:00:00\n",
    "         \n",
    "         \n",
    "Lets see the same thing in code.  To be as clear as possible, lets create the UTC offset by hand for now instead of using \"tz.gettz()\" class of \"dateutil\" package.  We start by creating a datetime object - spring_ahead_159am, for March 12th, at 1:59:59, without any timezone information.   We print the results out with \".isoformat()\" method to check that we have the time right, and we make another object for spring_ahead_3am.  We subtract the 2 datetime objects and ask how much time has elapsed by calling \".total_seconds()\" method.  As expected, they are an hour an done second apart.  \n",
    "\n",
    "# *******************************************************************************************************************\n",
    "As before, to fix problems with comparing a datetime we start by creating timezone objects.  We define Eastern Standard Time (EST) using the \"timezone(timedelta(hours=-5))\" constructor.  We set the offset to -5 hours.  Similarly we define Eastern Daylight Time (EDT) with an offset of -4 hours.  We assign our first timestamp, at 1:59:59 AM to be in EST.  When we call \".isoformat()\", we see it has the correct offset.  We assign our second timestamp, at 3:00 AM, to be in EDT, and again check the output with \".sioformat()\" method.  When we subtract the 2 datetime objects, we see correctly that 1 second has elapsed.  Putting things in terms of UTC once again allowed us to make proper comparisons.  \n",
    "\n",
    "\n",
    "But how do we know whne the cutoff is without looking it up ourselves.  The \"dateutil\" to the rescue again.  Just like before when it saved us from having to define timezones by hand, dateutil saves us from having to know daylight saving rules.  We create a timezone object by calling tz.gettz() and pass our timezone description string.  Recall that since Washington DC is in \"America/New York\" time zone, so thats what we use.  Once again we create a datetime corresponding to 1:59 AM on the day that east coast of the US springs forward.  This time though, we set the \"ztinfo=\" arg to eastern time.  Similarly, we create a datetime set of 3 AM on March 12th, and when we set \"tzinfo=\" to be eastern time, dateutil figures out for us that it should be in EDT.  \n",
    "\n",
    "\n",
    "\n",
    "In this lesson, we covered \"spring ahead\".  Now lets try some examples of working with datetime that handle a switch into daylight saving time.  \n",
    "\n"
   ]
  },
  {
   "cell_type": "code",
   "execution_count": 6,
   "id": "f4b393e1-6294-447c-ba81-98fae54d994f",
   "metadata": {},
   "outputs": [
    {
     "name": "stdout",
     "output_type": "stream",
     "text": [
      "2017-03-12T01:59:59\n",
      "2017-03-12T03:00:00 \n",
      "\n",
      "3601.0\n",
      "1:00:01 \n",
      "\n",
      "<class 'datetime.timezone'>\n",
      "2017-03-12 01:59:59-05:00\n",
      "2017-03-12 03:00:00-04:00 \n",
      "\n",
      "0:00:01\n"
     ]
    }
   ],
   "source": [
    "spring_ahead_159am = datetime(2017, 3, 12, 1, 59, 59)\n",
    "print(spring_ahead_159am.isoformat())\n",
    "\n",
    "\n",
    "spring_ahead_3am = datetime(2017, 3, 12, 3, 0, 0)\n",
    "print(spring_ahead_3am.isoformat(), '\\n')\n",
    "\n",
    "\n",
    "print((spring_ahead_3am - spring_ahead_159am).total_seconds())\n",
    "print(spring_ahead_3am - spring_ahead_159am, '\\n')\n",
    "\n",
    "\n",
    "\n",
    "EST = timezone(timedelta(hours=-5))\n",
    "EDT = timezone(timedelta(hours=-4))\n",
    "print(type(EST))\n",
    "\n",
    "spring_ahead_159am = spring_ahead_159am.replace(tzinfo=EST)\n",
    "spring_ahead_3am = spring_ahead_3am.replace(tzinfo=EDT)\n",
    "\n",
    "print(spring_ahead_159am)\n",
    "print(spring_ahead_3am, '\\n')\n",
    "\n",
    "\n",
    "print(spring_ahead_3am - spring_ahead_159am)"
   ]
  },
  {
   "cell_type": "code",
   "execution_count": 12,
   "id": "bd37962e-7653-4c73-b447-43e0aa0c5438",
   "metadata": {},
   "outputs": [
    {
     "name": "stdout",
     "output_type": "stream",
     "text": [
      "<class 'dateutil.tz.tz.tzfile'>\n",
      "2017-03-12 01:59:59-05:00\n",
      "2017-03-12 03:00:00-04:00 \n",
      "\n",
      "1:00:01 \n",
      "\n",
      "0:00:01\n"
     ]
    }
   ],
   "source": [
    "from dateutil import tz\n",
    "from datetime import datetime, timezone, timedelta\n",
    "\n",
    "\n",
    "eastern = tz.gettz(\"America/New York\")\n",
    "print(type(eastern))\n",
    "\n",
    "# 2017-03-12 01:59:59 in Eastern Standard Time (EST)\n",
    "spring_ahead_159am = datetime(2017, 3, 12, 1, 59, 59)#, tzinfo=eastern)\n",
    "# 2017-03-12 03:00:00 in Eastern Daylight Time (EDT)\n",
    "spring_ahead_3am = datetime(2017, 3, 12, 3, 0, 0)#, tzinfo=eastern)\n",
    "\n",
    "spring_ahead_159am= spring_ahead_159am.replace(tzinfo=eastern)\n",
    "spring_ahead_3am = spring_ahead_3am.replace(tzinfo=eastern)\n",
    "\n",
    "\n",
    "print(spring_ahead_159am)\n",
    "print(spring_ahead_3am, '\\n')\n",
    "\n",
    "\n",
    "print(spring_ahead_3am - spring_ahead_159am, '\\n')   #???????????????????????????????????????????????????????????????\n",
    "\n",
    "\n",
    "print(spring_ahead_3am.astimezone(timezone.utc) - spring_ahead_159am.astimezone(timezone.utc))"
   ]
  },
  {
   "cell_type": "markdown",
   "id": "7817bc54-af34-40ce-afe7-01b48950bb3e",
   "metadata": {},
   "source": [
    "## How many hours elapsed around daylight saving?\n",
    "\n",
    "Since our bike data takes place in the fall, you'll have to do something else to learn about the start of daylight savings time.\n",
    "\n",
    "Let's look at March 12, 2017, in the Eastern United States, when Daylight Saving kicked in at 2 AM.\n",
    "\n",
    "If you create a datetime for midnight that night, and add 6 hours to it, how much time will have elapsed?\n",
    "Instructions 1/3\n",
    "35 XP\n",
    "\n",
    "    Question 1\n",
    "    You already have a datetime called start, set for March 12, 2017 at midnight, set to the timezone 'America/New_York'.\n",
    "    Add six hours to start and assign it to end. Look at the UTC offset for the two results.\n",
    "    \n",
    "    \n",
    "    Question 2\n",
    "#    You added 6 hours, and got 6 AM, despite the fact that the clocks springing forward means only 5 hours would have actually elapsed!\n",
    "#    Calculate the time between start and end. How much time does Python think has elapsed?\n",
    "    \n",
    "    \n",
    "    Question 3\n",
    "#    Move your datetime objects into UTC and calculate the elapsed time again.\n",
    "#    Once you're in UTC, what result do you get?\n",
    "    "
   ]
  },
  {
   "cell_type": "code",
   "execution_count": 13,
   "id": "5127c4d1-e894-4835-8f8f-e63d9cdaa23b",
   "metadata": {},
   "outputs": [
    {
     "name": "stdout",
     "output_type": "stream",
     "text": [
      "2017-03-12 00:00:00-05:00 \n",
      "\n",
      "2017-03-12T00:00:00-05:00 to 2017-03-12T06:00:00-04:00 \n",
      "\n",
      "6:00:00 \n",
      "\n",
      "6.0\n",
      "5:00:00\n"
     ]
    }
   ],
   "source": [
    "# Import datetime, timedelta, tz, timezone\n",
    "from datetime import datetime, timedelta, timezone\n",
    "from dateutil import tz\n",
    "\n",
    "\n",
    "# Start on March 12, 2017, midnight, then add 6 hours\n",
    "start = datetime(2017, 3, 12, tzinfo = tz.gettz('America/New_York'))\n",
    "print(start, '\\n')\n",
    "\n",
    "end = start + timedelta(hours=6)\n",
    "print(start.isoformat() + \" to \" + end.isoformat(), '\\n')\n",
    "\n",
    "\n",
    "print(end - start, '\\n')\n",
    "\n",
    "\n",
    "# How many hours have elapsed?\n",
    "print((end - start).seconds/(60*60))\n",
    "\n",
    "\n",
    "\n",
    "# *******************************************************************************************************************\n",
    "print(end.astimezone(timezone.utc) - start.astimezone(timezone.utc))  #**********************************************\n",
    "# *******************************************************************************************************************\n",
    "\n"
   ]
  },
  {
   "cell_type": "markdown",
   "id": "0450757e-178d-42f6-8ea5-fbfa60a27a16",
   "metadata": {},
   "source": [
    "## March 29, throughout a decade\n",
    "\n",
    "Daylight Saving rules are complicated: they're different in different places, they change over time, and they usually start on a Sunday (and so they move around the calendar).\n",
    "\n",
    "For example, in the United Kingdom, as of the time this lesson was written, Daylight Saving begins on the last Sunday in March. Let's look at the UTC offset for March 29, at midnight, for the years 2000 to 2010.\n",
    "Instructions\n",
    "100 XP\n",
    "\n",
    "    Using tz, set the timezone for dt to be 'Europe/London'.\n",
    "    Within the for loop:\n",
    "    Use the .replace() method to change the year for dt to be y.\n",
    "    Call .isoformat() on the result to observe the results.\n"
   ]
  },
  {
   "cell_type": "code",
   "execution_count": 16,
   "id": "7ea49326-b252-4a5e-a960-4d90053529ed",
   "metadata": {},
   "outputs": [
    {
     "name": "stdout",
     "output_type": "stream",
     "text": [
      "2000-03-29T00:00:00+01:00\n",
      "2001-03-29T00:00:00+01:00\n",
      "2002-03-29T00:00:00+00:00\n",
      "2003-03-29T00:00:00+00:00\n",
      "2004-03-29T00:00:00+01:00\n",
      "2005-03-29T00:00:00+01:00\n",
      "2006-03-29T00:00:00+01:00\n",
      "2007-03-29T00:00:00+01:00\n",
      "2008-03-29T00:00:00+00:00\n",
      "2009-03-29T00:00:00+00:00\n",
      "2010-03-29T00:00:00+01:00\n"
     ]
    }
   ],
   "source": [
    "# Import datetime and tz\n",
    "from datetime import datetime\n",
    "from dateutil import tz\n",
    "\n",
    "\n",
    "# Create starting date                              # * London, do write it properly\n",
    "dt = datetime(2000, 3, 29, tzinfo = tz.gettz(\"Europe/London\"))\n",
    "\n",
    "# Loop over the dates, replacing the year, and print the ISO timestamp\n",
    "for y in range(2000, 2011):\n",
    "    print(dt.replace(year=y).isoformat())"
   ]
  },
  {
   "cell_type": "code",
   "execution_count": 15,
   "id": "27616a94-3cf3-4c97-adde-cd893765443e",
   "metadata": {},
   "outputs": [
    {
     "name": "stdout",
     "output_type": "stream",
     "text": [
      "2000-03-29T00:00:00+01:00\n",
      "2001-03-29T00:00:00+01:00\n",
      "2002-03-29T00:00:00+00:00\n",
      "2003-03-29T00:00:00+00:00\n",
      "2004-03-29T00:00:00+01:00\n",
      "2005-03-29T00:00:00+01:00\n",
      "2006-03-29T00:00:00+01:00\n",
      "2007-03-29T00:00:00+01:00\n",
      "2008-03-29T00:00:00+00:00\n",
      "2009-03-29T00:00:00+00:00\n",
      "2010-03-29T00:00:00+01:00\n"
     ]
    }
   ],
   "source": [
    "# Import datetime and tz\n",
    "from datetime import datetime\n",
    "from dateutil import tz\n",
    "\n",
    "# Create starting date\n",
    "dt = datetime(2000, 3, 29, tzinfo = tz.gettz('Europe/London'))\n",
    "\n",
    "# Loop over the dates, replacing the year, and print the ISO timestamp\n",
    "for y in range(2000, 2011):\n",
    "    print(dt.replace(year=y).isoformat())"
   ]
  },
  {
   "cell_type": "markdown",
   "id": "a489f4b7-22b2-4cd2-a298-f5c0d6d5845e",
   "metadata": {},
   "source": [
    "## Ending daylight saving time\n",
    "\n",
    "\n",
    "\n",
    "\n",
    "\n",
    "\n",
    "**In the previous lesson, we discussed how to handle when the clock \"springs ahead\" and we enter daylight saving.  In the fall, when the clocks are reset back to standard time, an interesting wrinkle occurs.  In this lesson, we'll finish our discussing of daylight saving time by showing what happens when we \"fall back\", and also talk about how to unambiguously handle events which bridge a daylight savings jump.  \n",
    "\n",
    "Lets look back at our example in Washington DC, on the day that daylight saving time ended.  On November 5th, 2017, at 2AM the clocks jumped back an hour.  That means there were two 1 AMs.  We represented this by folding over our timeline to show the repeat.  As before, in order to make sense of this situation, we need to map everything back to UTC.  The first 1 AM maps to 5 AM UTC.  This is the minus 4 hour offset for Eastern Daylight Timee we discussed in previous lesson.  At 1:59:59 local time, we were at 5:59:59 UTC time.  The next moment, our clock jumps back, but since time has not actually gone backword, the clock continues ti tick in UTC.  We switch to a UTC offset of -5 hours, and the second 1 AM corresponds to 6 AM in UTC.  \n",
    "\n",
    "\n",
    "          2017-11-05                    2017-11-05                    2017-11-05\n",
    "          05:00:00                      06:00:00                      07:00:00\n",
    "UTC ----------*-----------------------------*-----------------------------*------\n",
    "                                        /                              / \n",
    "                                   /                               /\n",
    "          2017-11-05          /          2017-11-05            /\n",
    "          01:00:00       /               01:59:59         /\n",
    "DC -----------*----------------------------*         /\n",
    "                  /                             /\n",
    "              *-----------------------------*-----------------------------*--------\n",
    "          2017-11-05                    2017-11-05\n",
    "          01:00:00                      02:00:00\n",
    "          \n",
    "          \n",
    "# *******************************************************************************************************************\n",
    "First lets make a tzinfo object corresponding to our bike date's timezone.  We make a datetime for November 5th and 1 AM.  Let check and see if this time is ambiguous, meaning we need to tell it apart somehow.  We call \"tz.datetime_ambiguous()\" function, and check if its a datetime which could occur at 2 different UTC moments in this time zone.   Now we create a second datetime, with the same date and time.  This time we call \"tz.enfold()\" func, which takes the argument of the datetime we want to mark.  The \"tz.enfold()\" says this datetime belongs to the second time the clock struct 1 AM this day, and not the first.  \n",
    "\n",
    "# *******************************************************************************************************************\n",
    "The things is \"tz.enfold()\" func itself doesn't change any of the behavior of a datetime.  You can see here that Python doesn't take it into account when doing datetime arthmetric.  Fold is just a placeholder, and its up to further parts of the program to pay attention to fold and do something with it.  What we are going to do?  We need to convert to UTC, which is unambiguous.  When we really want to make sure that everything is accounted for, putting everything into UTC is the way to do it.  Now when we ask Python to take the difference, we see that it correctly tells us these 2 timestamps are an hour apart.  \n",
    "\n",
    "\n",
    "In general, whenever we really want to be sure of the duration between events that might across daylight saving boundary, we need to do our math in UTC.  \n",
    "\n",
    "\n",
    "\n",
    "We've covered how to handle springing forward and falling back, both with hand-coded UTC offsets and with dateutil.  Python often tries to be helpful by glossing over daylight saving time difference, and often times thats what you want.  However, when you do care about it, use dateutil to set the timezone information correctly and then switch into UTC for the most accurate comparisons between events.  \n",
    "\n"
   ]
  },
  {
   "cell_type": "code",
   "execution_count": 159,
   "id": "f14c73a8-19aa-48f1-ad9e-f6063cba5728",
   "metadata": {},
   "outputs": [
    {
     "name": "stdout",
     "output_type": "stream",
     "text": [
      "2017-11-05 01:00:00-04:00\n",
      "True \n",
      "\n",
      "2017-11-05 01:59:59-04:00\n",
      "True \n",
      "\n",
      "2017-11-05 01:00:00-04:00\n",
      "2017-11-05 01:00:00-05:00 \n",
      "\n",
      "0:00:00\n",
      "1:00:00\n"
     ]
    }
   ],
   "source": [
    "eastern = tz.gettz(\"America/New_York\")\n",
    "\n",
    "\n",
    "first_1am = datetime(2017, 11, 5, 1, 0, 0, tzinfo=eastern)\n",
    "print(first_1am)\n",
    "print(tz.datetime_ambiguous(first_1am), '\\n')\n",
    "\n",
    "#\n",
    "first_1am_a = datetime(2017, 11, 5, 1, 59, 59, tzinfo=eastern)\n",
    "print(first_1am_a)\n",
    "print(tz.datetime_ambiguous(first_1am_a), '\\n')  #*******************************************************************\n",
    "#\n",
    "\n",
    "second_1am = datetime(2017, 11, 5, 1, 0, 0, tzinfo=eastern)\n",
    "print(second_1am)\n",
    "second_1am = tz.enfold(second_1am)  #################################################################################\n",
    "print(second_1am, '\\n')   # WHy says its the second time line, cause the \"timezone\" info changed back\n",
    "\n",
    "\n",
    "\n",
    "print(second_1am - first_1am)\n",
    "\n",
    "print(second_1am.astimezone(tz.UTC) - first_1am.astimezone(tz.UTC))   ### Or (timezone.utc)  ########################"
   ]
  },
  {
   "cell_type": "markdown",
   "id": "94d06c1c-153b-42b7-8041-5bc7d8991a6e",
   "metadata": {},
   "source": [
    "# *******************************************************************************************************************\n",
    "# Ambiguous dates\n",
    "\n",
    "You have a DataFrame containing a subscription_date column that was collected from various sources with different Date formats such as YYYY-mm-dd and YYYY-dd-mm. What is the best way to unify the formats for ambiguous values such as 2019-04-07?"
   ]
  },
  {
   "cell_type": "markdown",
   "id": "bec5f8e9-a334-4503-988e-f8baab840311",
   "metadata": {},
   "source": [
    "## Finding ambiguous datetimes\n",
    "\n",
    "At the end of lesson 2, we saw something anomalous in our bike trip duration data. Let's see if we can identify what the problem might be.\n",
    "\n",
    "The data is loaded as onebike_datetimes, and tz has already been imported from dateutil.\n",
    "Instructions\n",
    "100 XP\n",
    "\n",
    "    Loop over the trips in onebike_datetimes:\n",
    "    Print any rides whose start is ambiguous.\n",
    "    Print any rides whose end is ambiguous.\n"
   ]
  },
  {
   "cell_type": "code",
   "execution_count": 51,
   "id": "03dec20e-05df-4df2-bd88-7a1eb0a29966",
   "metadata": {},
   "outputs": [
    {
     "name": "stdout",
     "output_type": "stream",
     "text": [
      "            Start date             End date  Start station number  \\\n",
      "0  2017-10-01 15:23:25  2017-10-01 15:26:26                 31038   \n",
      "1  2017-10-01 15:42:57  2017-10-01 17:49:59                 31036   \n",
      "2  2017-10-02 06:37:10  2017-10-02 06:42:53                 31036   \n",
      "3  2017-10-02 08:56:45  2017-10-02 09:18:03                 31037   \n",
      "4  2017-10-02 18:23:48  2017-10-02 18:45:05                 31295   \n",
      "\n",
      "                          Start station  End station number  \\\n",
      "0                  Glebe Rd & 11th St N               31036   \n",
      "1         George Mason Dr & Wilson Blvd               31036   \n",
      "2         George Mason Dr & Wilson Blvd               31037   \n",
      "3  Ballston Metro / N Stuart & 9th St N               31295   \n",
      "4                     Potomac & M St NW               31230   \n",
      "\n",
      "                            End station Bike number Member type  \n",
      "0         George Mason Dr & Wilson Blvd      W20529      Member  \n",
      "1         George Mason Dr & Wilson Blvd      W20529      Casual  \n",
      "2  Ballston Metro / N Stuart & 9th St N      W20529      Member  \n",
      "3                     Potomac & M St NW      W20529      Member  \n",
      "4         Metro Center / 12th & G St NW      W20529      Member   \n",
      "\n",
      "[{'start': Timestamp('2017-10-01 15:23:25-0400', tz='dateutil//usr/share/zoneinfo/America/New_York'), 'end': Timestamp('2017-10-01 15:26:26-0400', tz='dateutil//usr/share/zoneinfo/America/New_York')}, {'start': Timestamp('2017-10-01 15:42:57-0400', tz='dateutil//usr/share/zoneinfo/America/New_York'), 'end': Timestamp('2017-10-01 17:49:59-0400', tz='dateutil//usr/share/zoneinfo/America/New_York')}, {'start': Timestamp('2017-10-02 06:37:10-0400', tz='dateutil//usr/share/zoneinfo/America/New_York'), 'end': Timestamp('2017-10-02 06:42:53-0400', tz='dateutil//usr/share/zoneinfo/America/New_York')}] \n",
      "\n",
      "Ambiguous start at 2017-11-05 01:56:50-04:00\n",
      "Ambiguous end at 2017-11-05 01:01:04-04:00\n"
     ]
    }
   ],
   "source": [
    "import pandas as pd\n",
    "from dateutil import tz\n",
    "\n",
    "\n",
    "bike = pd.read_csv('capital-onebike.csv')\n",
    "print(bike.head(), '\\n')\n",
    "\n",
    "bike['Start date'] = pd.to_datetime(bike['Start date'])\n",
    "bike['End date'] = pd.to_datetime(bike['End date'])\n",
    "\n",
    "bike['Start date'] = [i.replace(tzinfo=tz.gettz('America/New_York')) for i in bike['Start date']]\n",
    "bike['End date'] = [i.replace(tzinfo=tz.gettz('America/New_York')) for i in bike['End date']]\n",
    "# *******************************************************************************************************************\n",
    "# *******************************************************************************************************************\n",
    "\n",
    "\n",
    "bike_dt = [{'start': j[0], 'end': j[1]} for i, j in bike.iterrows()]\n",
    "print(bike_dt[:3], '\\n')\n",
    "\n",
    "\n",
    "# Loop over trips\n",
    "for trip in bike_dt:\n",
    "    # Rides with ambiguous start\n",
    "    if tz.datetime_ambiguous(trip['start']):\n",
    "        print(\"Ambiguous start at \" + str(trip['start']))\n",
    "    # Rides with ambiguous end\n",
    "    if tz.datetime_ambiguous(trip['end']):\n",
    "        print(\"Ambiguous end at \" + str(trip['end']))"
   ]
  },
  {
   "cell_type": "markdown",
   "id": "1129bc36-591a-4db4-87ec-7469e23eccd8",
   "metadata": {},
   "source": [
    "## Cleaning daylight saving data with fold\n",
    "\n",
    "As we've just discovered, there is a ride in our data set which is being messed up by a Daylight Savings shift. Let's clean up the data set so we actually have a correct minimum ride length. We can use the fact that we know the end of the ride happened after the beginning to fix up the duration messed up by the shift out of Daylight Savings.\n",
    "\n",
    "# Since Python does not handle tz.enfold() when doing arithmetic, we must put our datetime objects into UTC, where ambiguities have been resolved.\n",
    "\n",
    "onebike_datetimes is already loaded and in the right timezone. tz and timezone have been imported. Use tz.UTC for the timezone.\n",
    "Instructions\n",
    "100 XP\n",
    "\n",
    "    Complete the if statement to be true only when a ride's start comes after its end.\n",
    "    When start is after end, call tz.enfold() on the end so you know it refers to the one after the daylight savings time change.\n",
    "    After the if statement, convert the start and end to UTC so you can make a proper comparison.\n"
   ]
  },
  {
   "cell_type": "code",
   "execution_count": 54,
   "id": "013a2004-0805-4d2c-897a-18946c69a4cc",
   "metadata": {},
   "outputs": [
    {
     "name": "stdout",
     "output_type": "stream",
     "text": [
      "Shortest trip: 0 days 00:01:56\n"
     ]
    }
   ],
   "source": [
    "trip_durations = []\n",
    "\n",
    "for trip in bike_dt:\n",
    "    # When the start is later than the end, set the fold to be 1\n",
    "    if trip['start'] > trip['end']:\n",
    "        trip['end'] = tz.enfold(trip['end'])\n",
    "    # Convert to UTC\n",
    "    start = trip['start'].astimezone(tz.UTC)\n",
    "    end = trip['end'].astimezone(tz.UTC)\n",
    "  \n",
    "    # Subtract the difference\n",
    "    trip_length_seconds = (end-start)#.total_seconds()\n",
    "    trip_durations.append(trip_length_seconds)\n",
    "\n",
    "# Take the shortest trip duration\n",
    "print(\"Shortest trip: \" + str(min(trip_durations)))"
   ]
  },
  {
   "cell_type": "code",
   "execution_count": 70,
   "id": "06828eec-e1d9-4ea7-b9d8-27d98a80d101",
   "metadata": {},
   "outputs": [
    {
     "name": "stdout",
     "output_type": "stream",
     "text": [
      "[Timedelta('0 days 00:03:01'), Timedelta('0 days 02:07:02'), Timedelta('0 days 00:05:43')] \n",
      "\n"
     ]
    },
    {
     "data": {
      "image/png": "[encoded data removed]",
      "text/plain": [
       "<Figure size 432x288 with 1 Axes>"
      ]
     },
     "metadata": {
      "needs_background": "light"
     },
     "output_type": "display_data"
    },
    {
     "data": {
      "image/png": "[encoded data removed]",
      "text/plain": [
       "<Figure size 432x288 with 1 Axes>"
      ]
     },
     "metadata": {
      "needs_background": "light"
     },
     "output_type": "display_data"
    }
   ],
   "source": [
    "import matplotlib.pyplot as plt\n",
    "import seaborn as sns\n",
    "\n",
    "\n",
    "print(trip_durations[:3], '\\n')\n",
    "\n",
    "\n",
    "plt.boxplot([i.total_seconds()/60 for i in trip_durations], \n",
    "            showfliers=False)\n",
    "\n",
    "plt.title('Bike trip minutes distribution')\n",
    "\n",
    "plt.show()\n",
    "\n",
    "\n",
    "\n",
    "sns.histplot([i.total_seconds()/60 for i in trip_durations], kde=True )\n",
    "\n",
    "plt.xlim(xmin=0, xmax=100)\n",
    "plt.ylim(ymin=2, ymax=70)\n",
    "\n",
    "plt.title('Trip minutes distribution')\n",
    "plt.ylabel('Count: start from 2 minutes')\n",
    "\n",
    "plt.show()"
   ]
  },
  {
   "cell_type": "markdown",
   "id": "82939320-5009-43ef-98f0-23c3badc2c6b",
   "metadata": {},
   "source": [
    "## Reading date and time data in Pandas\n",
    "\n",
    "\n",
    "\n",
    "\n",
    "\n",
    "\n",
    "# **In this chapter, you will use the Pandas library to work with dates and times.  \n",
    "You should have encountered Pandas before, but now we will add datetimes to the mix.  To start with, we read csv file into Pandas Data Frame through pd.read_csv() func.  Each of these rows has a start date, an end date, a start station and en station, the bike number and wheather the ride was from someone who is a member or who walked up to the kiosk and bought a ride on the spot.  \n",
    "\n",
    "We can use the [] to select specific column, and we can also get the particular column with \".iloc[]\" method.  Because we didn't tell Python to treat the start date and end date columns as datetimes, they are simply strings or objects.  We want them to be datetimes so we can work with themeffectively, using the tools from the first 3 chapters of this course.  \n",
    "\n",
    "# *******************************************************************************************************************\n",
    "If we want Pandas to treat these columns as datetimes, we can make use of the argument \"parse_dates=\" of the \"pd.read_csv()\" function, and set it to be a list of column names passed as strings.  Now Pandas will read these columns and convert them for us to datetimes.  Pandas will try and be intelligent and figure out the format of your datetime strings.  In the rare case that this doesn't work, you can use the \".to_datetime()\" method that lets you specify the format manually.  \n",
    "\n",
    "Now when we ask again for the start date for row 2, we get back a Pandas Timestamp, which for essentially all purpose you can imagine its a Python Datetime object with a different name.  They behave basically exactly the same.  Since our start date and end date columns are now datetimes, we can deal with them the way we usually deal with datetimes.  For example, we can create a new column - duration, by subtracting start date from end date.  We get a timedelta object column.  Pandas has 2 features worth noting (notice) here, lets see an example of converting our duration to total seconds, and look at the first 5 rows.  \n",
    "\n",
    "# First, \n",
    "Pandas code is often written in a \"method chaining\" style, where we call a method, and then another, and then another.  For readability, its common to break them up with a backslash (\\) and a linebreak at the end of each.  \n",
    "# Second, \n",
    "you can access all of the typical datetime methods within the namespace \".dt.XXX\".  For example, we can convert our datetimes into numbers with \".dt.total_seconds()\".  Now when we look at the results, we see that we've goe seconds instead of timedeltas.  Our first ride lasted about 181 seconds (3 minutes), our second ride 7622 seconds (127 minutes), and so on.  \n",
    "\n",
    "\n",
    "\n",
    "In this lesson, we discussed loading data in Pandas, and handling basic datetime elements.  We talked about using (\\) backslashes to continue Pandas' chained method to lines, and selecting subsets of rows.  Time to practice.  \n",
    "\n"
   ]
  },
  {
   "cell_type": "code",
   "execution_count": null,
   "id": "dfee03be-9fc2-4fb3-b421-46e74da035e6",
   "metadata": {},
   "outputs": [],
   "source": [
    "# Will work\n",
    "birthday['Birthday'] = pd.to_datetime(birthday['Birthday'],   #######################################################\n",
    "                                      # Attempt to infer format of each date\n",
    "                                      infer_datetime_format=True,   #++++++++++++++++++++++++++++++++++++++++++++++++\n",
    "                                      # Return NA fpr rows where conversion failed\n",
    "                                      errors='coerce')   #+++++++++++++++++++++++++++++++++++++++++++++++++++++++++++"
   ]
  },
  {
   "cell_type": "code",
   "execution_count": 149,
   "id": "2315e20c-0ea0-4ed8-a81b-3c4de6db4170",
   "metadata": {},
   "outputs": [
    {
     "name": "stdout",
     "output_type": "stream",
     "text": [
      "           Start date            End date  Start station number  \\\n",
      "0 2017-10-01 15:23:25 2017-10-01 15:26:26                 31038   \n",
      "1 2017-10-01 15:42:57 2017-10-01 17:49:59                 31036   \n",
      "2 2017-10-02 06:37:10 2017-10-02 06:42:53                 31036   \n",
      "3 2017-10-02 08:56:45 2017-10-02 09:18:03                 31037   \n",
      "4 2017-10-02 18:23:48 2017-10-02 18:45:05                 31295   \n",
      "\n",
      "                          Start station  End station number  \\\n",
      "0                  Glebe Rd & 11th St N               31036   \n",
      "1         George Mason Dr & Wilson Blvd               31036   \n",
      "2         George Mason Dr & Wilson Blvd               31037   \n",
      "3  Ballston Metro / N Stuart & 9th St N               31295   \n",
      "4                     Potomac & M St NW               31230   \n",
      "\n",
      "                            End station Bike number Member type  \n",
      "0         George Mason Dr & Wilson Blvd      W20529      Member  \n",
      "1         George Mason Dr & Wilson Blvd      W20529      Casual  \n",
      "2  Ballston Metro / N Stuart & 9th St N      W20529      Member  \n",
      "3                     Potomac & M St NW      W20529      Member  \n",
      "4         Metro Center / 12th & G St NW      W20529      Member  \n",
      "\n",
      "\n",
      "<class 'pandas.core.frame.DataFrame'>\n",
      "RangeIndex: 290 entries, 0 to 289\n",
      "Data columns (total 8 columns):\n",
      " #   Column                Non-Null Count  Dtype         \n",
      "---  ------                --------------  -----         \n",
      " 0   Start date            290 non-null    datetime64[ns]\n",
      " 1   End date              290 non-null    datetime64[ns]\n",
      " 2   Start station number  290 non-null    int64         \n",
      " 3   Start station         290 non-null    object        \n",
      " 4   End station number    290 non-null    int64         \n",
      " 5   End station           290 non-null    object        \n",
      " 6   Bike number           290 non-null    object        \n",
      " 7   Member type           290 non-null    object        \n",
      "dtypes: datetime64[ns](2), int64(2), object(4)\n",
      "memory usage: 18.2+ KB\n",
      "None\n",
      "           Start date            End date  Start station number  \\\n",
      "0 2017-10-01 15:23:25 2017-10-01 15:26:26                 31038   \n",
      "1 2017-10-01 15:42:57 2017-10-01 17:49:59                 31036   \n",
      "2 2017-10-02 06:37:10 2017-10-02 06:42:53                 31036   \n",
      "3 2017-10-02 08:56:45 2017-10-02 09:18:03                 31037   \n",
      "4 2017-10-02 18:23:48 2017-10-02 18:45:05                 31295   \n",
      "\n",
      "                          Start station  End station number  \\\n",
      "0                  Glebe Rd & 11th St N               31036   \n",
      "1         George Mason Dr & Wilson Blvd               31036   \n",
      "2         George Mason Dr & Wilson Blvd               31037   \n",
      "3  Ballston Metro / N Stuart & 9th St N               31295   \n",
      "4                     Potomac & M St NW               31230   \n",
      "\n",
      "                            End station Bike number Member type  Duration  \n",
      "0         George Mason Dr & Wilson Blvd      W20529      Member       3.0  \n",
      "1         George Mason Dr & Wilson Blvd      W20529      Casual     127.0  \n",
      "2  Ballston Metro / N Stuart & 9th St N      W20529      Member       6.0  \n",
      "3                     Potomac & M St NW      W20529      Member      21.0  \n",
      "4         Metro Center / 12th & G St NW      W20529      Member      21.0  \n"
     ]
    }
   ],
   "source": [
    "import pandas as pd\n",
    "from dateutil import tz\n",
    "\n",
    "\n",
    "# *******************************************************************************************************************\n",
    "bike_dt = pd.read_csv('capital-onebike.csv', parse_dates=['Start date', 'End date'])\n",
    "print(bike_dt.head())                        ######################################\n",
    "                                             ######################################\n",
    "\n",
    "print('\\n')\n",
    "print(bike_dt.info())\n",
    "\n",
    "\n",
    "\n",
    "# Or \n",
    "bike_dt['Start date'] = pd.to_datetime(bike_dt['Start date'], \n",
    "                                       format='%Y-%m-%d %H:%M:%S')\n",
    "\n",
    "\n",
    "\n",
    "bike_dt['Duration'] = bike_dt['End date'] - bike_dt['Start date']\n",
    "#bike_dt['Duration'] = [round(i.total_seconds()/60) for i in bike_dt['Duration']]\n",
    "#####################################################################################################################\n",
    "\n",
    "# Or\n",
    "bike_dt['Duration'] = round(bike_dt['Duration'].dt.total_seconds()/60)\n",
    "#####################################################################################################################\n",
    "\n",
    "\n",
    "print(bike_dt.head())"
   ]
  },
  {
   "cell_type": "code",
   "execution_count": 1,
   "id": "fd50ad27-5d2f-46c0-88e6-ecd189c59ef2",
   "metadata": {},
   "outputs": [
    {
     "name": "stdout",
     "output_type": "stream",
     "text": [
      "-55.766666666666666 minutes\n",
      "-1 days +23:04:14\n",
      "                 Start date                  End date  Start station number  \\\n",
      "0 2017-10-01 15:23:25-04:00 2017-10-01 15:26:26-04:00                 31038   \n",
      "1 2017-10-01 15:42:57-04:00 2017-10-01 17:49:59-04:00                 31036   \n",
      "2 2017-10-02 06:37:10-04:00 2017-10-02 06:42:53-04:00                 31036   \n",
      "3 2017-10-02 08:56:45-04:00 2017-10-02 09:18:03-04:00                 31037   \n",
      "4 2017-10-02 18:23:48-04:00 2017-10-02 18:45:05-04:00                 31295   \n",
      "\n",
      "                          Start station  End station number  \\\n",
      "0                  Glebe Rd & 11th St N               31036   \n",
      "1         George Mason Dr & Wilson Blvd               31036   \n",
      "2         George Mason Dr & Wilson Blvd               31037   \n",
      "3  Ballston Metro / N Stuart & 9th St N               31295   \n",
      "4                     Potomac & M St NW               31230   \n",
      "\n",
      "                            End station Bike number Member type  \\\n",
      "0         George Mason Dr & Wilson Blvd      W20529      Member   \n",
      "1         George Mason Dr & Wilson Blvd      W20529      Casual   \n",
      "2  Ballston Metro / N Stuart & 9th St N      W20529      Member   \n",
      "3                     Potomac & M St NW      W20529      Member   \n",
      "4         Metro Center / 12th & G St NW      W20529      Member   \n",
      "\n",
      "             Start date UTC              End date UTC        Duration  \\\n",
      "0 2017-10-01 19:23:25+00:00 2017-10-01 19:26:26+00:00 0 days 00:03:01   \n",
      "1 2017-10-01 19:42:57+00:00 2017-10-01 21:49:59+00:00 0 days 02:07:02   \n",
      "2 2017-10-02 10:37:10+00:00 2017-10-02 10:42:53+00:00 0 days 00:05:43   \n",
      "3 2017-10-02 12:56:45+00:00 2017-10-02 13:18:03+00:00 0 days 00:21:18   \n",
      "4 2017-10-02 22:23:48+00:00 2017-10-02 22:45:05+00:00 0 days 00:21:17   \n",
      "\n",
      "   Duration minutes  \n",
      "0               3.0  \n",
      "1             127.0  \n",
      "2               6.0  \n",
      "3              21.0  \n",
      "4              21.0  \n",
      "39     2.0\n",
      "58     2.0\n",
      "145    2.0\n",
      "223    2.0\n",
      "224    2.0\n",
      "Name: Duration minutes, dtype: float64 \n",
      "\n",
      "5.0       22\n",
      "4.0       21\n",
      "6.0       19\n",
      "11.0      19\n",
      "3.0       15\n",
      "10.0      14\n",
      "9.0       14\n",
      "12.0      14\n",
      "7.0       13\n",
      "8.0       13\n",
      "17.0      11\n",
      "16.0      10\n",
      "24.0       9\n",
      "21.0       8\n",
      "14.0       8\n",
      "13.0       8\n",
      "15.0       8\n",
      "22.0       6\n",
      "28.0       5\n",
      "25.0       5\n",
      "20.0       5\n",
      "18.0       5\n",
      "23.0       5\n",
      "2.0        5\n",
      "44.0       3\n",
      "29.0       2\n",
      "34.0       2\n",
      "30.0       2\n",
      "27.0       2\n",
      "138.0      1\n",
      "171.0      1\n",
      "43.0       1\n",
      "48.0       1\n",
      "38.0       1\n",
      "19.0       1\n",
      "31.0       1\n",
      "127.0      1\n",
      "93.0       1\n",
      "1282.0     1\n",
      "46.0       1\n",
      "32.0       1\n",
      "41.0       1\n",
      "37.0       1\n",
      "26.0       1\n",
      "51.0       1\n",
      "189.0      1\n",
      "Name: Duration minutes, dtype: int64\n"
     ]
    }
   ],
   "source": [
    "import pandas as pd\n",
    "from dateutil import tz\n",
    "from datetime import datetime\n",
    "\n",
    "\n",
    "bike_dt = pd.read_csv('capital-onebike.csv', \n",
    "                      parse_dates=['Start date', 'End date'])\n",
    "\n",
    "print(min((bike_dt['End date'] - bike_dt['Start date']).dt.total_seconds()/60), 'minutes')  # -1 days +23:04:14\n",
    "\n",
    "\n",
    "bike_dt['Start date'] = [i.replace(tzinfo=tz.gettz('America/New_York')) for i in bike_dt['Start date']]\n",
    "bike_dt['End date'] = [i.replace(tzinfo=tz.gettz('America/New_York')) for i in bike_dt['End date']]\n",
    "\n",
    "#####################################################################################################################\n",
    "#bike_dt['Start date'] = bike_dt['Start date'].dt.tz_localize('America/New_York')\n",
    "#bike_dt['End date'] = bike_dt['End date'].dt.tz_localize('America/New_York')\n",
    "\n",
    "#bike_dt['Start date'] = [i.astimezone(tz.gettz('America/New_York')) for i in bike_dt['Start date']]\n",
    "#bike_dt['End date'] = [i.astimezone(tz.gettz('America/New_York')) for i in bike_dt['End date']]\n",
    "# TypeError: Cannot convert tz-naive Timestamp, use tz_localize to localize\n",
    "\n",
    "#print(bike_dt.head(), '\\n')\n",
    "\n",
    "\n",
    "\n",
    "\n",
    "print(min(bike_dt['End date'].dt.tz_convert(tz.UTC) - bike_dt['Start date'].dt.tz_convert(tz.UTC)))\n",
    "\n",
    "#####################################################################################################################\n",
    "#bike_dt['Start date UTC'] = bike_dt['Start date'].dt.tz_convert(tz.UTC)\n",
    "#bike_dt['End date UTC'] = bike_dt['End date'].dt.tz_convert(tz.UTC)\n",
    "\n",
    "bike_dt['Start date UTC'] = [i.astimezone(tz.UTC) for i in bike_dt['Start date']]\n",
    "bike_dt['End date UTC'] = [i.astimezone(tz.UTC) for i in bike_dt['End date']]\n",
    "\n",
    "bike_dt['Duration'] = bike_dt['End date UTC'] - bike_dt['Start date UTC']\n",
    "bike_dt['Duration minutes'] = round(bike_dt['Duration'].dt.total_seconds()/60)\n",
    "\n",
    "print(bike_dt.head())\n",
    "\n",
    "###\n",
    "###for i in bike_dt.index:\n",
    "###    if bike_dt['Duration minutes'][i] < 0:\n",
    "###        #print(bike_dt['Duration minutes'][i])\n",
    "###        bike_dt['End date'][i] = tz.enfold(bike_dt['End date'][i])\n",
    "###        bike_dt['End date UTC'][i] = bike_dt['End date'][i].astimezone(tz.UTC)\n",
    "###        \n",
    "###        bike_dt['Duration'][i] = bike_dt['End date UTC'][i] - bike_dt['Start date UTC'][i]\n",
    "###        bike_dt['Duration minutes'][i] = round(bike_dt['Duration'][i].total_seconds()/60)\n",
    "###        \n",
    "        \n",
    "        \n",
    "for i in bike_dt.index:\n",
    "    if bike_dt.loc[i, 'Duration minutes'] < 0:\n",
    "        #print(bike_dt['Duration minutes'][i])\n",
    "        bike_dt.loc[i, 'End date'] = tz.enfold(bike_dt.loc[i, 'End date'])\n",
    "        bike_dt.loc[i, 'End date UTC'] = bike_dt.loc[i, 'End date'].astimezone(tz.UTC)\n",
    "        \n",
    "        bike_dt.loc[i, 'Duration'] = bike_dt.loc[i, 'End date UTC'] - bike_dt.loc[i, 'Start date UTC']\n",
    "        bike_dt.loc[i, 'Duration minutes'] = round(bike_dt.loc[i, 'Duration'].total_seconds()/60)\n",
    "        \n",
    "        \n",
    "\n",
    "\n",
    "# dfmi.loc[:, ('one', 'second')]\n",
    "\n",
    "\n",
    "print(bike_dt['Duration minutes'].nsmallest(5), '\\n')\n",
    "\n",
    "\n",
    "print(bike_dt['Duration minutes'].value_counts())"
   ]
  },
  {
   "cell_type": "markdown",
   "id": "a8a640f1-df82-480b-84e2-bf3f0bd15367",
   "metadata": {},
   "source": [
    "## Loading a csv file in Pandas\n",
    "\n",
    "The capital_onebike.csv file covers the October, November and December rides of the Capital Bikeshare bike W20529.\n",
    "\n",
    "Here are the first two columns:\n",
    "Start date\t\t\t\tEnd date\t\t\t\t...\n",
    "2017-10-01 15:23:25\t\t2017-10-01 15:26:26\t\t...\n",
    "2017-10-01 15:42:57\t\t2017-10-01 17:49:59\t\t...\n",
    "Instructions\n",
    "100 XP\n",
    "\n",
    "    Import Pandas.\n",
    "    Complete the call to read_csv() so that it correctly parses the date columns Start date and End date.\n"
   ]
  },
  {
   "cell_type": "code",
   "execution_count": null,
   "id": "023e56e6-3821-42f2-b7f0-272c06675078",
   "metadata": {},
   "outputs": [],
   "source": [
    "# Import pandas\n",
    "import ____ as pd\n",
    "\n",
    "# Load CSV into the rides variable\n",
    "rides = pd.read_csv('capital-onebike.csv', \n",
    "                    parse_dates = ____)  ############################################################################\n",
    "\n",
    "\n",
    "# Print the initial (0th) row\n",
    "print(rides.iloc[0])"
   ]
  },
  {
   "cell_type": "markdown",
   "id": "6268403a-b675-49de-9974-f5a45ab8b913",
   "metadata": {},
   "source": [
    "## Making timedelta columns\n",
    "\n",
    "Earlier in this course, you wrote a loop to subtract datetime objects and determine how long our sample bike had been out of the docks. Now you'll do the same thing with Pandas.\n",
    "\n",
    "rides has already been loaded for you.\n",
    "Instructions\n",
    "100 XP\n",
    "\n",
    "    Subtract the Start date column from the End date column to get a Series of timedeltas; assign the result to ride_durations.\n",
    "    Convert ride_durations into seconds and assign the result to the 'Duration' column of rides.\n"
   ]
  },
  {
   "cell_type": "code",
   "execution_count": null,
   "id": "ddfa41f3-15a3-404a-ae20-94bd7627de2b",
   "metadata": {},
   "outputs": [],
   "source": [
    "# Subtract the start date from the end date\n",
    "ride_durations = ____ - ____\n",
    "\n",
    "# Convert the results to seconds\n",
    "____[____] = ride_durations.____   ##################################################################################\n",
    "\n",
    "\n",
    "print(rides['Duration'].head())"
   ]
  },
  {
   "cell_type": "markdown",
   "id": "5fae7498-d34d-4756-96fe-b436fa539eab",
   "metadata": {},
   "source": [
    "## Summarizing datetime data in Pandas\n",
    "\n",
    "\n",
    "\n",
    "\n",
    "\n",
    "**In this lesson, we will discuss how to summarize Pandas tables, especially when we have datetime columns.  One note: Pandas continues to evolve quickly.  Many of the techniques in this chapter don't work on versions of Pandas more than a few years old.  If anything breaks on your computer, make sure you're using at least Pandas 0.23.  \n",
    "\n",
    "First things first, lets review some general principles for summarizing data in Pandas.  You can call \".mean()\", \".median()\", \".sum()\" and so on, on any aolumn where it make sense.  For example \"rides['Duration'].mean()\" returns that the average time the bike was out dock was 19 minutes and 38 seconds.  We can also ask: how much is this column in total?  By using the \".sum()\" meythod, we can see that the bike was out of dock for a total of 3 days, 22 hours, 58 minutes and 10 seconds during this time period.  \n",
    "\n",
    "The output of Pandas operations mix perfectly well with the rest of Python.  For example if we divide this sum by 91 days (the number of days from October 1 to December 31), we see that the bike was out about 4.3% of time, meaning about 96% of the time the bike was in dock.  For non-numeric columns, we have other ways of making summaries.  \n",
    "\n",
    "\n",
    "The \".value_counts()\" method tells us how many times a given value appears.  In this case, we want to know how often the member type is Member or Casual.  236 rides were from Members, and 54 were from Casual, who bought a ride at kiosk without membership.  We can also divide by the total nember of rides, using \"len(rides)\" function, and Pandas handles the division for us across our result.  81.4% of rides were from members, whereas 18.6% of rides were from casual riders.  To make this next section easy, lets make a column called \"Duration seconds\", which will be the original column \"Duration\" converted to seconds.  \n",
    "\n",
    "Pandas has powerful ways to group rows together.  \n",
    "# First, \n",
    "we can groupby values in any column, using the \".groupby()\" method, the \".groupby()\" methor takes a column name and does subsequent operations on each group.  For example, we can groupby member type, and ask the mean duration in seconds for each member type.  Rides from casual members last nearly twice as long on average.  \n",
    "# Second, \n",
    "we can also groupby time, using the \".resample()\" method.  The \".resample()\" takes a unit of time (for example 'M' for month), and a datetime column to group on, in this case \"Start date\".  From this we can see that, in the month ending on October 31st, average rides were 1886 seconds (about 31 minutes), whereas for the month ending December 31, average rides were 635 seconds (about 10 minutes).  \n",
    "\n",
    "There are also other methods which operate on groups.  For example, we can call \".size()\" to get the size of each group (or .value_counts()).  Or we can call \".first()\" to get the first row of each group.  Pandas also makes it easy to plot results.  Just add the \".plot()\" method at the ned of your call and it will pass the results to the Python plotting library matplotlib.  It will usually have sensible defaults, though if you want to change things further you can.  We can also change the resampling rate from \"M\" to \"D\" and plot the results.  Now we can see that there is at least one big outlier skewing our data.  \n",
    "\n",
    "Some ride in the middle of October was 25000 seconds long, or nearly 7 hours.  We identified this ride in an earlier chapter as possibly a bike repare.  And we can see that it happened after many days with 0 rides, which lends strength to that idea.  If the bike was broken and sitting the dock for a while, eventually it would have been removed for repares, then returned.  \n",
    "\n",
    "\n",
    "\n",
    "In this lesson, we discussed how to use basic Pandas operations, such as \".mean()\", \".median()\", and \".sum()\", and also \".groupby()\" and \".resample(, on=)\" to combine our rows into different groups.  Time to practice what you've learned.  \n",
    "\n"
   ]
  },
  {
   "cell_type": "code",
   "execution_count": 195,
   "id": "99f40f1a-14e4-48d2-ac93-a46e11168d96",
   "metadata": {},
   "outputs": [
    {
     "name": "stdout",
     "output_type": "stream",
     "text": [
      "Member type\n",
      "Casual    33.203704\n",
      "Member    16.783898\n",
      "Name: Duration minutes, dtype: float64\n",
      "Start date\n",
      "2017-10-31 00:00:00-04:00    31.398148\n",
      "2017-11-30 00:00:00-05:00    14.796117\n",
      "2017-12-31 00:00:00-05:00    10.620253\n",
      "Freq: M, Name: Duration minutes, dtype: float64 \n",
      "\n",
      "Member type\n",
      "Casual     54\n",
      "Member    236\n",
      "dtype: int64 \n",
      "\n",
      "                           Start date                  End date  \\\n",
      "Member type                                                       \n",
      "Casual      2017-10-01 15:42:57-04:00 2017-10-01 17:49:59-04:00   \n",
      "Member      2017-10-01 15:23:25-04:00 2017-10-01 15:26:26-04:00   \n",
      "\n",
      "             Start station number                  Start station  \\\n",
      "Member type                                                        \n",
      "Casual                      31036  George Mason Dr & Wilson Blvd   \n",
      "Member                      31038           Glebe Rd & 11th St N   \n",
      "\n",
      "             End station number                    End station Bike number  \\\n",
      "Member type                                                                  \n",
      "Casual                    31036  George Mason Dr & Wilson Blvd      W20529   \n",
      "Member                    31036  George Mason Dr & Wilson Blvd      W20529   \n",
      "\n",
      "                       Start date UTC              End date UTC  \\\n",
      "Member type                                                       \n",
      "Casual      2017-10-01 19:42:57+00:00 2017-10-01 21:49:59+00:00   \n",
      "Member      2017-10-01 19:23:25+00:00 2017-10-01 19:26:26+00:00   \n",
      "\n",
      "                   Duration  Duration minutes  \n",
      "Member type                                    \n",
      "Casual      0 days 02:07:02             127.0  \n",
      "Member      0 days 00:03:01               3.0  \n"
     ]
    },
    {
     "data": {
      "image/png": "[encoded data removed]",
      "text/plain": [
       "<Figure size 432x288 with 1 Axes>"
      ]
     },
     "metadata": {
      "needs_background": "light"
     },
     "output_type": "display_data"
    }
   ],
   "source": [
    "print(bike_dt.groupby('Member type')['Duration minutes'].mean())\n",
    "\n",
    "\n",
    "\n",
    "hh = bike_dt.resample('M', on='Start date')['Duration minutes'].mean()   ############################################\n",
    "print(hh, '\\n')\n",
    "\n",
    "\n",
    "\n",
    "print(bike_dt.groupby('Member type').size(), '\\n')\n",
    "\n",
    "print(bike_dt.groupby('Member type').first())  ######################################################################\n",
    "\n",
    "\n",
    "\n",
    "bike_dt.resample('D', on='Start date')['Duration minutes'].mean().plot()\n",
    "\n",
    "plt.ylim(ymin=0, ymax=150)\n",
    "\n",
    "\n",
    "plt.show()"
   ]
  },
  {
   "cell_type": "markdown",
   "id": "7d968619-24e1-4c4a-9416-a1715616e7f2",
   "metadata": {},
   "source": [
    "## How many joyrides?\n",
    "\n",
    "# *******************************************************************************************************************\n",
    "# Suppose you have a theory that some people take long bike rides before putting their bike back in the same dock. Let's call these rides \"joyrides\".\n",
    "# *******************************************************************************************************************\n",
    "\n",
    "You only have data on one bike, so while you can't draw any bigger conclusions, it's certainly worth a look.\n",
    "\n",
    "Are there many joyrides? How long were they in our data set? Use the median instead of the mean, because we know there are some very long trips in our data set that might skew the answer, and the median is less sensitive to outliers.\n",
    "Instructions\n",
    "100 XP\n",
    "\n",
    "    Create a Pandas Series which is True when Start station and End station are the same, and assign the result to joyrides.\n",
    "    Calculate the median duration of all rides.\n",
    "    Calculate the median duration of joyrides.\n"
   ]
  },
  {
   "cell_type": "code",
   "execution_count": 204,
   "id": "4314f44b-32f4-4a3d-8845-cae1005a92ae",
   "metadata": {},
   "outputs": [
    {
     "name": "stdout",
     "output_type": "stream",
     "text": [
      "6\n",
      "0    False\n",
      "1     True\n",
      "2    False\n",
      "3    False\n",
      "4    False\n",
      "dtype: bool \n",
      "\n",
      "6 rides were joyrides\n",
      "The median duration overall was 11.00 seconds\n",
      "The median duration for joyrides was 44.00 seconds\n"
     ]
    },
    {
     "data": {
      "image/png": "[encoded data removed]",
      "text/plain": [
       "<Figure size 432x288 with 1 Axes>"
      ]
     },
     "metadata": {
      "needs_background": "light"
     },
     "output_type": "display_data"
    }
   ],
   "source": [
    "# Create joyrides\n",
    "joyrides = (bike_dt['Start station number'] == bike_dt['End station number'])\n",
    "print(sum(joyrides))\n",
    "print(joyrides.head(), '\\n')\n",
    "\n",
    "\n",
    "# Total number of joyrides\n",
    "print(\"{} rides were joyrides\".format(joyrides.sum()))\n",
    "\n",
    "# Median of all rides\n",
    "print(\"The median duration overall was {:.2f} seconds\"\\\n",
    "      .format(bike_dt['Duration minutes'].median()))\n",
    "\n",
    "\n",
    "# Median of joyrides\n",
    "print(\"The median duration for joyrides was {:.2f} seconds\"\\\n",
    "      .format(bike_dt[joyrides]['Duration minutes'].median()))\n",
    "\n",
    "\n",
    "plt.hist(bike_dt[joyrides]['Duration minutes'], bins=30)\n",
    "\n",
    "plt.show()"
   ]
  },
  {
   "cell_type": "markdown",
   "id": "1ad5fbd7-a9dc-4ff5-a251-e1aa241ff58b",
   "metadata": {},
   "source": [
    "## It's getting cold outside, W20529\n",
    "\n",
    "# *******************************************************************************************************************\n",
    "Washington, D.C. has mild weather overall, but the average high temperature in October (68ºF / 20ºC) is certainly higher than the average high temperature in December (47ºF / 8ºC). People also travel more in December, and they work fewer days so they commute less.\n",
    "# *******************************************************************************************************************\n",
    "\n",
    "How might the weather or the season have affected the length of bike trips?\n",
    "Instructions 1/2\n",
    "50 XP\n",
    "\n",
    "    Question 1\n",
    "    Resample rides to the daily level, based on the Start date column.\n",
    "    Plot the .size() of each result.\n",
    "    \n",
    "    \n",
    "    Question 2\n",
    "    Since the daily time series is so noisy for this one bike, change the resampling to be monthly.\n",
    "    "
   ]
  },
  {
   "cell_type": "code",
   "execution_count": 210,
   "id": "fe5b5958-dc6f-4e8e-b78e-e51d29b9d6c8",
   "metadata": {},
   "outputs": [
    {
     "data": {
      "image/png": "[encoded data removed]",
      "text/plain": [
       "<Figure size 432x288 with 1 Axes>"
      ]
     },
     "metadata": {
      "needs_background": "light"
     },
     "output_type": "display_data"
    },
    {
     "data": {
      "image/png": "[encoded data removed]",
      "text/plain": [
       "<Figure size 432x288 with 1 Axes>"
      ]
     },
     "metadata": {
      "needs_background": "light"
     },
     "output_type": "display_data"
    }
   ],
   "source": [
    "# Import matplotlib\n",
    "import matplotlib.pyplot as plt\n",
    "\n",
    "\n",
    "# Resample rides to daily, take the size, plot the results\n",
    "bike_dt.resample('D', on='Start date')\\\n",
    "  .size()\\\n",
    "  .plot(ylim = [0, 15])\n",
    "\n",
    "# Show the results\n",
    "plt.show()\n",
    "\n",
    "\n",
    "\n",
    "# Resample rides to daily, take the size, plot the results\n",
    "bike_dt.resample('M', on='Start date')\\\n",
    "  .size()\\\n",
    "  .plot()#ylim = [0, 15])\n",
    "\n",
    "# Show the results\n",
    "plt.show()"
   ]
  },
  {
   "cell_type": "markdown",
   "id": "8623d3af-d623-403e-8a4b-af4f3e038229",
   "metadata": {},
   "source": [
    "## Members vs casual riders over time\n",
    "\n",
    "Riders can either be \"Members\", meaning they pay yearly for the ability to take a bike at any time, or \"Casual\", meaning they pay at the kiosk attached to the bike dock.\n",
    "\n",
    "# Do members and casual riders drop off at the same rate over October to December, or does one drop off faster than the other?    What do we want to know here ??????\n",
    "\n",
    "As before, rides has been loaded for you. You're going to use the Pandas method .value_counts(), which returns the number of instances of each value in a Series. In this case, the counts of \"Member\" or \"Casual\".\n",
    "Instructions\n",
    "100 XP\n",
    "\n",
    "    Set monthly_rides to be a resampled version of rides, by month, based on start date.\n",
    "    Use the method .value_counts() to find out how many Member and Casual rides there were, and divide them by the total number of rides per month.\n"
   ]
  },
  {
   "cell_type": "code",
   "execution_count": 212,
   "id": "ade88971-e264-493c-a248-084c0ff8dc27",
   "metadata": {},
   "outputs": [
    {
     "name": "stdout",
     "output_type": "stream",
     "text": [
      "Start date                 Member type\n",
      "2017-10-31 00:00:00-04:00  Member         0.768519\n",
      "                           Casual         0.231481\n",
      "2017-11-30 00:00:00-05:00  Member         0.825243\n",
      "                           Casual         0.174757\n",
      "2017-12-31 00:00:00-05:00  Member         0.860759\n",
      "                           Casual         0.139241\n",
      "Name: Member type, dtype: float64\n"
     ]
    }
   ],
   "source": [
    "# Resample rides to be monthly on the basis of Start date\n",
    "monthly_rides = bike_dt.resample('M', on='Start date')['Member type']    ############################################\n",
    "\n",
    "\n",
    "# Take the ratio of the .value_counts() over the total number of rides\n",
    "print(monthly_rides.value_counts() / monthly_rides.size())   ########################################################"
   ]
  },
  {
   "cell_type": "markdown",
   "id": "900d2318-d1b4-4db8-ad19-66890e44e915",
   "metadata": {},
   "source": [
    "## Combining groupby() and resample()\n",
    "\n",
    "A very powerful method in Pandas is .groupby(). Whereas .resample() groups rows by some time or date information, .groupby() groups rows based on the values in one or more columns. For example, rides.groupby('Member type').size() would tell us how many rides there were by member type in our entire DataFrame.\n",
    "\n",
    "# .resample() can be called after .groupby(). For example, how long was the median ride by month, and by Membership type?\n",
    "Instructions\n",
    "100 XP\n",
    "\n",
    "#    Complete the .groupby() call to group by 'Member type', and the .resample() call to resample according to 'Start date', by month.\n",
    "    Print the median Duration for each group.\n"
   ]
  },
  {
   "cell_type": "code",
   "execution_count": 215,
   "id": "d94335a5-67a1-49a5-a699-e1e413470988",
   "metadata": {},
   "outputs": [
    {
     "name": "stdout",
     "output_type": "stream",
     "text": [
      "Member type  Start date               \n",
      "Casual       2017-10-31 00:00:00-04:00    27.0\n",
      "             2017-11-30 00:00:00-05:00    19.0\n",
      "             2017-12-31 00:00:00-05:00    14.0\n",
      "Member       2017-10-31 00:00:00-04:00    11.0\n",
      "             2017-11-30 00:00:00-05:00    11.0\n",
      "             2017-12-31 00:00:00-05:00     6.5\n",
      "Name: Duration minutes, dtype: float64\n"
     ]
    }
   ],
   "source": [
    "# Group rides by member type, and resample to the month\n",
    "grouped = bike_dt.groupby('Member type')\\\n",
    "  .resample('M', on='Start date')              ######################################################################\n",
    "\n",
    "\n",
    "# Print the median duration for each group\n",
    "print(grouped['Duration minutes'].median())    ######################################################################"
   ]
  },
  {
   "cell_type": "markdown",
   "id": "666a4378-9cc4-42eb-8c86-4aa67490f074",
   "metadata": {},
   "source": [
    "## Additional datetime methods in Pandas\n",
    "\n",
    "\n",
    "\n",
    "\n",
    "\n",
    "# *******************************************************************************************************************\n",
    "**In this final lesson, we will cover some additional Pandas methods for working with dates and times.  By the end of this lesson, you will understand how to handle timezones in Pandas, as well as other common datetime operations.  \n",
    "\n",
    "First, a reminder of the importance of timezones.  If we ask Pandas to tell us the smallest ride duration in seconds, using the \".dt.total_seconds()\" method and then the \".min()\" method chained together.  \n",
    "# We get -3346, or 55 minutes.  Yikes!  \n",
    "Something is wrong, since our ride duration shouldnt ever be negative.  The answer, as it was when we looked at this dataset in standard Python, is Daylight Saving Time.  Just like with standard Python, these datetime objects starts off as timezone-naive.  They're not tied to any absolute time with a UTC offset.  \n",
    "\n",
    "\n",
    "# *******************************************************************************************************************\n",
    "Lets see the first Start date so we can see how they're displayed and check that there is no UTC offset.  To start, we want those same 3 datetimes to be put into a timezone.  The method for this in Pandas is \".dt.tz_localize()\".  Now when we look at the localized datetimes, we can see that they have a UTC offset.  However, if we try to convert our entire Start date column to the America/New_York timezone, Pandas will throw an AmbiguousTimeError.  As expected, we have one datetime that occurs during the Daylight Saving shift.  Following the advice of the error message, we can set the \"ambiguous=\" argument in the \"dt.tz_localize()\" method.  By default, it raises an error, as we saw before.  We can also pass the string \"NaT\", which says that if the converter gets confused, it should set the bad result as Not a Time.  Pandas is smart enough to skip over NaTs when it sees them, so our \".min()\" and other methods will just ignore this one row.  \n",
    "\n",
    "Now that we've fixed the timezones (do we really fixed it?), we should recalculate our durations, in case any rides had been across Daylight Saving shift boundries.  This time, when we \n",
    "\n",
    "\n",
    "\n"
   ]
  },
  {
   "cell_type": "code",
   "execution_count": 7,
   "id": "e460c452-c5d1-42d7-b6cf-c6c298876452",
   "metadata": {},
   "outputs": [
    {
     "name": "stdout",
     "output_type": "stream",
     "text": [
      "<class 'pandas.core.frame.DataFrame'>\n",
      "RangeIndex: 290 entries, 0 to 289\n",
      "Data columns (total 8 columns):\n",
      " #   Column                Non-Null Count  Dtype         \n",
      "---  ------                --------------  -----         \n",
      " 0   Start date            290 non-null    datetime64[ns]\n",
      " 1   End date              290 non-null    datetime64[ns]\n",
      " 2   Start station number  290 non-null    int64         \n",
      " 3   Start station         290 non-null    object        \n",
      " 4   End station number    290 non-null    int64         \n",
      " 5   End station           290 non-null    object        \n",
      " 6   Bike number           290 non-null    object        \n",
      " 7   Member type           290 non-null    object        \n",
      "dtypes: datetime64[ns](2), int64(2), object(4)\n",
      "memory usage: 18.2+ KB\n",
      "None \n",
      "\n",
      "1.9333333333333336 \n",
      "\n",
      "                 Start date                  End date  Start station number  \\\n",
      "0 2017-10-01 15:23:25-04:00 2017-10-01 15:26:26-04:00                 31038   \n",
      "1 2017-10-01 15:42:57-04:00 2017-10-01 17:49:59-04:00                 31036   \n",
      "2 2017-10-02 06:37:10-04:00 2017-10-02 06:42:53-04:00                 31036   \n",
      "3 2017-10-02 08:56:45-04:00 2017-10-02 09:18:03-04:00                 31037   \n",
      "4 2017-10-02 18:23:48-04:00 2017-10-02 18:45:05-04:00                 31295   \n",
      "\n",
      "                          Start station  End station number  \\\n",
      "0                  Glebe Rd & 11th St N               31036   \n",
      "1         George Mason Dr & Wilson Blvd               31036   \n",
      "2         George Mason Dr & Wilson Blvd               31037   \n",
      "3  Ballston Metro / N Stuart & 9th St N               31295   \n",
      "4                     Potomac & M St NW               31230   \n",
      "\n",
      "                            End station Bike number Member type    Duration  \n",
      "0         George Mason Dr & Wilson Blvd      W20529      Member    3.016667  \n",
      "1         George Mason Dr & Wilson Blvd      W20529      Casual  127.033333  \n",
      "2  Ballston Metro / N Stuart & 9th St N      W20529      Member    5.716667  \n",
      "3                     Potomac & M St NW      W20529      Member   21.300000  \n",
      "4         Metro Center / 12th & G St NW      W20529      Member   21.283333  \n"
     ]
    }
   ],
   "source": [
    "import pandas as pd\n",
    "from dateutil import tz\n",
    "\n",
    "                                           ############\n",
    "rides = pd.read_csv('capital-onebike.csv', parse_dates=['Start date', 'End date'])\n",
    "print(rides.info(), '\\n')\n",
    "\n",
    "\n",
    "rides['Duration'] = (rides['End date'] - rides['Start date']).dt.total_seconds()/60\n",
    "\n",
    "\n",
    "\n",
    "#rides['Start date'] = rides['Start date'].dt.tz_localize('America/New_York')\n",
    "# AmbiguousTimeError: Cannot infer dst time from 2017-11-05 01:56:50, try using the 'ambiguous' argument\n",
    "\n",
    "rides['Start date'] = [i.replace(tzinfo=tz.gettz('America/New_York')) for i in rides['Start date']]\n",
    "rides['End date'] = [i.replace(tzinfo=tz.gettz('America/New_York')) for i in rides['End date']]\n",
    "\n",
    "\n",
    "\n",
    "for i in rides.index:\n",
    "    if rides.loc[i, 'Duration'] < 0:\n",
    "        rides.loc[i, 'End date'] = tz.enfold(rides.loc[i, 'End date'])\n",
    "        \n",
    "rides['Duration'] = (rides['End date'] - rides['Start date']).dt.total_seconds()/60\n",
    "\n",
    "\n",
    "print(rides['Duration'].min(), '\\n')\n",
    "print(rides.head())\n"
   ]
  },
  {
   "cell_type": "code",
   "execution_count": null,
   "id": "7fb6d118-b69c-45d0-b960-32d9d245bfd0",
   "metadata": {},
   "outputs": [],
   "source": []
  },
  {
   "cell_type": "code",
   "execution_count": null,
   "id": "3c4ed34f-4a03-4507-acb3-5f215e13cd56",
   "metadata": {},
   "outputs": [],
   "source": []
  },
  {
   "cell_type": "code",
   "execution_count": null,
   "id": "34a8fd17-e5c3-4990-a40e-080886c48986",
   "metadata": {},
   "outputs": [],
   "source": []
  },
  {
   "cell_type": "code",
   "execution_count": null,
   "id": "758caab3-05a9-43b4-8019-abd0526942be",
   "metadata": {},
   "outputs": [],
   "source": []
  },
  {
   "cell_type": "code",
   "execution_count": null,
   "id": "2a31de57-03bf-4cdc-876c-65b46f0cd7dc",
   "metadata": {},
   "outputs": [],
   "source": []
  },
  {
   "cell_type": "code",
   "execution_count": null,
   "id": "4e151151-7cd8-4399-be69-c315a1dff045",
   "metadata": {},
   "outputs": [],
   "source": []
  },
  {
   "cell_type": "code",
   "execution_count": null,
   "id": "f969e1e5-a636-44f7-b3a1-07b69e03d111",
   "metadata": {},
   "outputs": [],
   "source": []
  },
  {
   "cell_type": "code",
   "execution_count": null,
   "id": "bade1282-09cb-4f7f-920b-c8bd67d4a4e1",
   "metadata": {},
   "outputs": [],
   "source": []
  },
  {
   "cell_type": "code",
   "execution_count": null,
   "id": "06684f20-e427-4e25-b8da-01b428adc283",
   "metadata": {},
   "outputs": [],
   "source": []
  },
  {
   "cell_type": "code",
   "execution_count": null,
   "id": "74f496ff-6e73-4ff2-bf7c-4971d8d62478",
   "metadata": {},
   "outputs": [],
   "source": []
  },
  {
   "cell_type": "code",
   "execution_count": null,
   "id": "92d4be2b-5256-476f-b532-14c02bd865f8",
   "metadata": {},
   "outputs": [],
   "source": []
  },
  {
   "cell_type": "code",
   "execution_count": null,
   "id": "793c61c8-f124-4466-9482-46d724d99981",
   "metadata": {},
   "outputs": [],
   "source": []
  },
  {
   "cell_type": "code",
   "execution_count": null,
   "id": "a35521e0-e089-46d8-9919-e78cb8e52225",
   "metadata": {},
   "outputs": [],
   "source": []
  },
  {
   "cell_type": "code",
   "execution_count": null,
   "id": "fa9d7080-7c4f-4e36-b6d1-cad78605eee7",
   "metadata": {},
   "outputs": [],
   "source": []
  },
  {
   "cell_type": "code",
   "execution_count": null,
   "id": "bceb9333-f31b-4f2a-9756-59fa2b325676",
   "metadata": {},
   "outputs": [],
   "source": []
  },
  {
   "cell_type": "code",
   "execution_count": null,
   "id": "99591be8-8691-4f98-8cc2-f438d80834ce",
   "metadata": {},
   "outputs": [],
   "source": []
  },
  {
   "cell_type": "code",
   "execution_count": null,
   "id": "4d59199b-3abe-4aaf-b613-a05daf117c22",
   "metadata": {},
   "outputs": [],
   "source": []
  },
  {
   "cell_type": "code",
   "execution_count": null,
   "id": "f89941f5-29f5-4030-af59-70a6b4ea601a",
   "metadata": {},
   "outputs": [],
   "source": []
  },
  {
   "cell_type": "code",
   "execution_count": null,
   "id": "a9f32630-19b0-4148-884c-47db3f669ac2",
   "metadata": {},
   "outputs": [],
   "source": []
  },
  {
   "cell_type": "code",
   "execution_count": null,
   "id": "79fe9c06-13be-424f-927b-e08aaa658e6d",
   "metadata": {},
   "outputs": [],
   "source": []
  },
  {
   "cell_type": "code",
   "execution_count": null,
   "id": "98c4366a-8097-4bf9-b1de-46e13757e101",
   "metadata": {},
   "outputs": [],
   "source": []
  },
  {
   "cell_type": "code",
   "execution_count": null,
   "id": "0d250cd6-782b-410d-8420-eaba125d7d22",
   "metadata": {},
   "outputs": [],
   "source": []
  }
 ],
 "metadata": {
  "kernelspec": {
   "display_name": "Python 3 (ipykernel)",
   "language": "python",
   "name": "python3"
  },
  "language_info": {
   "codemirror_mode": {
    "name": "ipython",
    "version": 3
   },
   "file_extension": ".py",
   "mimetype": "text/x-python",
   "name": "python",
   "nbconvert_exporter": "python",
   "pygments_lexer": "ipython3",
   "version": "3.9.2"
  }
 },
 "nbformat": 4,
 "nbformat_minor": 5
}
