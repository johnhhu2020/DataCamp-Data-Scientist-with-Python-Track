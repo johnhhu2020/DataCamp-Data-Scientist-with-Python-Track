{
 "cells": [
  {
   "cell_type": "markdown",
   "id": "6ca49c26-39a0-4539-9ce6-c04150fcdd8d",
   "metadata": {},
   "source": [
    "## Working with Dates and Times in Python\n",
    "\n",
    "\n"
   ]
  },
  {
   "cell_type": "markdown",
   "id": "17971f32-843b-4762-92ad-73538121cb84",
   "metadata": {},
   "source": [
    "## Course Description\n",
    "\n",
    "You'll probably never have a time machine, but how about a machine for analyzing time? As soon as time enters any analysis, things can get weird. It's easy to get tripped up on day and month boundaries, time zones, daylight saving time, and all sorts of other things that can confuse the unprepared. If you're going to do any kind of analysis involving time, you’ll want to use Python to sort it out. Working with data sets on hurricanes and bike trips, we’ll cover counting events, figuring out how much time has elapsed between events and plotting data over time. You'll work in both standard Python and in Pandas, and we'll touch on the dateutil library, the only timezone library endorsed by the official Python documentation. After this course, you'll confidently handle date and time data in any format like a champion."
   ]
  },
  {
   "cell_type": "markdown",
   "id": "cf122ec0-f28b-4fd1-b455-3c71263e23c9",
   "metadata": {},
   "source": [
    "##  Dates and Calendars\n",
    "Free\n",
    "0%\n",
    "\n",
    "Hurricanes (also known as cyclones or typhoons) hit the U.S. state of Florida several times per year. To start off this course, you'll learn how to work with date objects in Python, starting with the dates of every hurricane to hit Florida since 1950. You'll learn how Python handles dates, common date operations, and the right way to format dates to avoid confusion.\n",
    "\n",
    "    Dates in Python    50 xp\n",
    "    Which day of the week?    100 xp\n",
    "    How many hurricanes come early?    100 xp\n",
    "    Math with dates    50 xp\n",
    "    Subtracting dates    100 xp\n",
    "    Counting events per calendar month    100 xp\n",
    "    Putting a list of dates in order    100 xp\n",
    "    Turning dates into strings    50 xp\n",
    "    Printing dates in a friendly format    100 xp\n",
    "    Representing dates in different ways    100 xp \n",
    "    "
   ]
  },
  {
   "cell_type": "markdown",
   "id": "2e36dbed-78d5-46a8-af84-ac30a293dc23",
   "metadata": {},
   "source": [
    "##  Combining Dates and Times\n",
    "0%\n",
    "\n",
    "Bike sharing programs have swept through cities around the world -- and luckily for us, every trip gets recorded! Working with all of the comings and goings of one bike in Washington, D.C., you'll practice working with dates and times together. You'll parse dates and times from text, analyze peak trip times, calculate ride durations, and more.\n",
    "\n",
    "    Dates and times    50 xp\n",
    "    Creating datetimes by hand    100 xp\n",
    "    Counting events before and after noon    100 xp\n",
    "    Printing and parsing datetimes    50 xp\n",
    "    Turning strings into datetimes    100 xp\n",
    "    Parsing pairs of strings as datetimes    100 xp\n",
    "    Recreating ISO format with strftime()    100 xp\n",
    "    Unix timestamps    100 xp\n",
    "    Working with durations    50 xp\n",
    "    Turning pairs of datetimes into durations    100 xp\n",
    "    Average trip time    100 xp\n",
    "    The long and the short of why time is hard    100 xp \n",
    "    "
   ]
  },
  {
   "cell_type": "markdown",
   "id": "a44991d0-7a76-47ad-805a-051969461e3a",
   "metadata": {},
   "source": [
    "##  Time Zones and Daylight Saving\n",
    "0%\n",
    "\n",
    "In this chapter, you'll learn to confidently tackle the time-related topic that causes people the most trouble: time zones and daylight saving. Continuing with our bike data, you'll learn how to compare clocks around the world, how to gracefully handle \"spring forward\" and \"fall back,\" and how to get up-to-date timezone data from the dateutil library.\n",
    "\n",
    "    UTC offsets    50 xp\n",
    "    Creating timezone aware datetimes    100 xp\n",
    "    Setting timezones    100 xp\n",
    "    What time did the bike leave in UTC?    100 xp\n",
    "    Time zone database    50 xp\n",
    "    Putting the bike trips into the right time zone    100 xp\n",
    "    What time did the bike leave? (Global edition)    100 xp\n",
    "    Starting daylight saving time    50 xp\n",
    "    How many hours elapsed around daylight saving?    100 xp\n",
    "    March 29, throughout a decade    100 xp\n",
    "    Ending daylight saving time    50 xp\n",
    "    Finding ambiguous datetimes    100 xp\n",
    "    Cleaning daylight saving data with fold    100 xp \n",
    "    "
   ]
  },
  {
   "cell_type": "markdown",
   "id": "b9a58a7c-93c0-4a2f-98b3-19b672b24a3c",
   "metadata": {},
   "source": [
    "##  Easy and Powerful: Dates and Times in Pandas\n",
    "0%\n",
    "\n",
    "To conclude this course, you'll apply everything you've learned about working with dates and times in standard Python to working with dates and times in Pandas. With additional information about each bike ride, such as what station it started and stopped at and whether or not the rider had a yearly membership, you'll be able to dig much more deeply into the bike trip data. In this chapter, you'll cover powerful Pandas operations, such as grouping and plotting results by time.\n",
    "\n",
    "    Reading date and time data in Pandas    50 xp\n",
    "    Loading a csv file in Pandas    100 xp\n",
    "    Making timedelta columns    100 xp\n",
    "    Summarizing datetime data in Pandas    50 xp\n",
    "    How many joyrides?    100 xp\n",
    "    It's getting cold outside, W20529    100 xp\n",
    "    Members vs casual riders over time    100 xp\n",
    "    Combining groupby() and resample()    100 xp\n",
    "    Additional datetime methods in Pandas    50 xp\n",
    "    Timezones in Pandas    100 xp\n",
    "    How long per weekday?    100 xp\n",
    "    How long between rides?    100 xp\n",
    "    Wrap-up    50 xp\n"
   ]
  },
  {
   "cell_type": "code",
   "execution_count": null,
   "id": "021907f5-ecfc-44b1-a4be-75ce1317966d",
   "metadata": {},
   "outputs": [],
   "source": []
  },
  {
   "cell_type": "markdown",
   "id": "f1362da5-c4b0-4b18-885f-a2e34cb2691b",
   "metadata": {},
   "source": [
    "## Dates in Python\n",
    "\n",
    "\n",
    "\n",
    "\n",
    "\n",
    "\n",
    "**Name is Max Shron, I will be your instructor for this course on working with dates and times in python.  Dates are everywhere in data science.  \n",
    "\n",
    "Stock prices go up dan down, experiments begin and end, people are born, politicans take votes, and on and on. All these events happen at a particualr point in time.  Knowing how to analysis data over time is a core data science skill.  \n",
    "\n",
    "\n",
    "# *******************************************************************************************************************\n",
    "This course is divided into 4 chapters.  The first chapter will be about working with dates and calendars.  In chapter 2, we will add time into the mix, and combine dates and times.  In chapter 3, we'll tackle one of the toughest parts of working with time: time zones and Daylight Saving.  And finally, in chapter 4, we'll connect what we've learned about working with dates and times to explore how Pandas can make answering even complex questions about dates much easier.  \n",
    "# *******************************************************************************************************************\n",
    "\n",
    "\n",
    "Python has special date class, called \"date\", which you will use to represent dates.  A date, like a string, or a number, or a NumPy array, has special rules for creating it and methods for working with it.  In this lesson, we're going to discuss creating dates and extracting some basic information out of them.  \n",
    "\n",
    "\n",
    "So why do we need a special date class?  To understand how dates work, in this chapter you're going to exlore 67 years of Hurricane landfalls in the US state of Florida.  The \"two_hurricanes\" is a list with dates of two hurricanes represented as string: the last 2016 hurricane (on October 7th, 2016) and the first 2017 hurricane (on June 21st, 2017).  The dates are represented in the US style, with the month, then day, then the year.  \n",
    "\n",
    "\n",
    "# *******************************************************************************************************************\n",
    "Suppose you want to do something interesting with these dates.  How would you figure out how many days had elapsed between them?  How would you check that they were ordered from earliest to latest?  How would you know which day of the week each was?  Doing these things manually would be challenging, but Python makes all of them easy.  By the end of this chapter, you'll know how to do each of these things yourself.  \n",
    "\n",
    "\n",
    "# To create a date object, we start by importing the data class.  The collection of date and time-related classes are stored in the \"datetime\" package.  \n",
    "We create a date using the \"date()\" function.  Here we created dates corresponding to the two hurricanes, now as Python date objects.  The inputs to \"date()\" function are the year, month, and day.  The first date is October 7, 2016 and the second date is June 21, 2017.  The order is easy to remember: it goes from the biggest to smallest.  year, month, day.  \n",
    "\n",
    "Later in this chapter, you'll create dates directly from list of strings, but in this lesson, youre stick to creating dates by hand or using list of already created dates.  You can access indivdual components of a date using the date-object's attributes.  You can access the year of the date using the \".year\" attribute, like so, and the result is 2016.  \n",
    "\n",
    "# You can also ask Python to do more complicated work.  \n",
    "Here we call the \"weekday()\" method on the date-object, and see the weekday is 4.  Python counts weekdays from 0, starting on Monday and so on.  1 is Tuesday, 2 is Wednesday, up to 6 being a Sunday.  So this 4 means its Friday.  \n",
    "\n",
    "\n",
    "In the next few exercises, you'll implement what you've seen in this video to see how much you can already do.  \n",
    "\n",
    "\n",
    "\n",
    "two_hurricanes = [\"10/7/2016\", \"6/21/2017\"]\n",
    "\n",
    "\n",
    "# Import date\n",
    "from datetime import date\n",
    "# Create dates\n",
    "two_hurricanes_dates = [date(2016, 10, 7), date(2017, 6, 21)]   #++++++++++++++++++++++++++++++++++++++++++++++++++++\n",
    "\n",
    "print(two_hurricanes_dates[0].year)\n"
   ]
  },
  {
   "cell_type": "code",
   "execution_count": 4,
   "id": "14735c68-4715-46f1-a406-2373ce4fc6ff",
   "metadata": {},
   "outputs": [
    {
     "name": "stdout",
     "output_type": "stream",
     "text": [
      "10 \n",
      "\n",
      "4 \n",
      "\n"
     ]
    }
   ],
   "source": [
    "from datetime import date\n",
    "\n",
    "\n",
    "two_hurricanes = [\"10/7/2016\", \"6/21/2017\"]\n",
    "\n",
    "two_hurricanes_dates = [date(2016, 10, 7), date(2017, 6, 21)]\n",
    "\n",
    "\n",
    "print(two_hurricanes_dates[0].month, '\\n')\n",
    "\n",
    "print(two_hurricanes_dates[0].weekday(), '\\n')"
   ]
  },
  {
   "cell_type": "code",
   "execution_count": 9,
   "id": "d38e5b4a-96c5-4188-8039-00b61ade8c3e",
   "metadata": {},
   "outputs": [
    {
     "name": "stdout",
     "output_type": "stream",
     "text": [
      "['__add__', '__class__', '__delattr__', '__dir__', '__doc__', '__eq__', '__format__', '__ge__', '__getattribute__', '__gt__', '__hash__', '__init__', '__init_subclass__', '__le__', '__lt__', '__ne__', '__new__', '__radd__', '__reduce__', '__reduce_ex__', '__repr__', '__rsub__', '__setattr__', '__sizeof__', '__str__', '__sub__', '__subclasshook__', 'ctime', 'day', 'fromisocalendar', 'fromisoformat', 'fromordinal', 'fromtimestamp', 'isocalendar', 'isoformat', 'isoweekday', 'max', 'min', 'month', 'replace', 'resolution', 'strftime', 'timetuple', 'today', 'toordinal', 'weekday', 'year']\n"
     ]
    }
   ],
   "source": [
    "print(dir(two_hurricanes_dates[0]))"
   ]
  },
  {
   "cell_type": "markdown",
   "id": "ed04a183-a658-49d4-a0f5-88d6a4af5643",
   "metadata": {},
   "source": [
    "## Which day of the week?\n",
    "\n",
    "Hurricane Andrew, which hit Florida on August 24, 1992, was one of the costliest and deadliest hurricanes in US history. Which day of the week did it make landfall?\n",
    "\n",
    "Let's walk through all of the steps to figure this out.\n",
    "Instructions 1/3\n",
    "35 XP\n",
    "\n",
    "    Question 1\n",
    "    Import date from datetime.\n",
    "    \n",
    "    \n",
    "    \n",
    "    Question 2\n",
    "    Create a date object for August 24, 1992.\n",
    "    \n",
    "    \n",
    "    \n",
    "    Question 3\n",
    "    Now ask Python what day of the week Hurricane Andrew hit (remember that Python counts days of the week starting from Monday as 0, Tuesday as 1, and so on).\n"
   ]
  },
  {
   "cell_type": "code",
   "execution_count": null,
   "id": "9cefb0c7-f2f3-4774-84c8-a44d3f6a9bc7",
   "metadata": {},
   "outputs": [],
   "source": [
    "# Import date from datetime\n",
    "from datetime import date\n",
    "\n",
    "# Create a date object\n",
    "hurricane_andrew = date(1992, 8, 24)\n",
    "\n",
    "\n",
    "\n",
    "# Which day of the week is the date?\n",
    "print(hurricane_andrew.____)"
   ]
  },
  {
   "cell_type": "markdown",
   "id": "233b509b-deab-4580-b270-15839cb1b2c8",
   "metadata": {},
   "source": [
    "## How many hurricanes come early?\n",
    "\n",
    "In this chapter, you will work with a list of the hurricanes that made landfall in Florida from 1950 to 2017. There were 235 in total. Check out the variable \"florida_hurricane_dates\", which has all of these dates.\n",
    "\n",
    "Atlantic hurricane season officially begins on June 1. How many hurricanes since 1950 have made landfall in Florida before the official start of hurricane season?\n",
    "Instructions\n",
    "100 XP\n",
    "\n",
    "    Complete the for loop to iterate through florida_hurricane_dates.\n",
    "    Complete the if statement to increment the counter (early_hurricanes) if the hurricane made landfall before June.\n"
   ]
  },
  {
   "cell_type": "code",
   "execution_count": 7,
   "id": "4744e0e1-f6b3-49eb-8038-5f9b2b0ddacc",
   "metadata": {},
   "outputs": [
    {
     "name": "stdout",
     "output_type": "stream",
     "text": [
      "<class 'datetime.date'>\n",
      "[datetime.date(1950, 8, 31), datetime.date(1950, 9, 5), datetime.date(1950, 10, 18)]\n"
     ]
    }
   ],
   "source": [
    "florida_hurricane = [\n",
    "    (1950, 8, 31), (1950, 9, 5), (1950, 10, 18), (1950, 10, 21), (1951, 5, 18), (1951, 10, 2), (1952, 2, 3), \n",
    " (1952, 8, 30), (1953, 6, 6), (1953, 8, 29), (1953, 9, 20), (1953, 9, 26), (1953, 10, 9), (1955, 8, 21), \n",
    " (1956, 7, 6), (1956, 9, 24), (1956, 10, 15), (1957, 6, 8), (1957, 9, 8), (1958, 9, 4), (1959, 6, 18), \n",
    " (1959, 10, 8), (1959, 10, 18), (1960, 7, 29), (1960, 9, 10), (1960, 9, 15), (1960, 9, 23), (1961, 9, 11),\n",
    " (1961, 10, 29), (1962, 8, 26), (1963, 10, 21), (1964, 6, 6), (1964, 8, 27), (1964, 9, 10), (1964, 9, 20),\n",
    " (1964, 10, 5), (1964, 10, 14), (1965, 6, 15), (1965, 9, 8), (1965, 9, 30), (1966, 6, 9), (1966, 6, 30),\n",
    " (1966, 7, 24), (1966, 10, 4), (1968, 6, 4), (1968, 6, 18), (1968, 7, 5), (1968, 8, 10), (1968, 8, 28),\n",
    " (1968, 9, 26), (1968, 10, 19), (1969, 6, 9), (1969, 8, 18), (1969, 8, 29), (1969, 9, 7), (1969, 9, 21), \n",
    " (1969, 10, 1), (1969, 10, 2), (1969, 10, 21), (1970, 5, 25), (1970, 7, 22), (1970, 8, 6), (1970, 9, 13),\n",
    " (1970, 9, 27), (1971, 8, 10), (1971, 8, 13), (1971, 8, 29), (1971, 9, 1), (1971, 9, 16), (1971, 10, 13),\n",
    " (1972, 5, 28), (1972, 6, 19), (1972, 9, 5), (1973, 6, 7), (1973, 6, 23), (1973, 9, 3), (1973, 9, 25), \n",
    " (1974, 6, 25), (1974, 9, 8), (1974, 9, 27), (1974, 10, 7), (1975, 6, 27), (1975, 7, 29), (1975, 9, 23),\n",
    " (1975, 10, 1), (1975, 10, 16), (1976, 5, 23), (1976, 6, 11), (1976, 8, 19), (1976, 9, 13), (1977, 8, 27), \n",
    " (1977, 9, 5), (1978, 6, 22), (1979, 7, 11), (1979, 9, 3), (1979, 9, 12), (1979, 9, 24), (1980, 8, 7),\n",
    " (1980, 11, 18), (1981, 8, 17), (1982, 6, 18), (1982, 9, 11), (1983, 8, 28), (1984, 9, 9), (1984, 9, 27), \n",
    " (1984, 10, 26), (1985, 7, 23), (1985, 8, 15), (1985, 10, 10), (1985, 11, 21), (1986, 6, 26), (1986, 8, 13), \n",
    " (1987, 8, 14), (1987, 9, 7), (1987, 10, 12), (1987, 11, 4), (1988, 5, 30), (1988, 8, 4), (1988, 8, 13),\n",
    " (1988, 8, 23), (1988, 9, 4), (1988, 9, 10), (1988, 9, 13), (1988, 11, 23), (1989, 9, 22), (1990, 5, 25),\n",
    " (1990, 10, 9), (1990, 10, 12), (1991, 6, 30), (1991, 10, 16), (1992, 6, 25), (1992, 8, 24), (1992, 9, 29), \n",
    " (1993, 6, 1), (1994, 7, 3), (1994, 8, 15), (1994, 10, 2), (1994, 11, 16), (1995, 6, 5), (1995, 7, 27),\n",
    " (1995, 8, 2), (1995, 8, 23), (1995, 10, 4), (1996, 7, 11), (1996, 9, 2), (1996, 10, 8), (1996, 10, 18),\n",
    " (1997, 7, 19), (1998, 9, 3), (1998, 9, 20), (1998, 9, 25), (1998, 11, 5), (1999, 8, 29), (1999, 9, 15),\n",
    " (1999, 9, 21), (1999, 10, 15), (2000, 8, 23), (2000, 9, 9), (2000, 9, 18), (2000, 9, 22), (2000, 10, 3), \n",
    " (2001, 6, 12), (2001, 8, 6), (2001, 9, 14), (2001, 11, 5), (2002, 7, 13), (2002, 8, 4), (2002, 9, 4), \n",
    " (2002, 9, 14), (2002, 9, 26), (2002, 10, 3), (2002, 10, 11), (2003, 4, 20), (2003, 6, 30), (2003, 7, 25),\n",
    " (2003, 8, 14), (2003, 8, 30), (2003, 9, 6), (2003, 9, 13), (2004, 8, 12), (2004, 8, 13), (2004, 9, 5),\n",
    " (2004, 9, 13), (2004, 9, 16), (2004, 10, 10), (2005, 6, 11), (2005, 7, 6), (2005, 7, 10), (2005, 8, 25), \n",
    " (2005, 9, 12), (2005, 9, 20), (2005, 10, 5), (2005, 10, 24), (2006, 6, 13), (2006, 8, 30), (2007, 5, 9),\n",
    " (2007, 6, 2), (2007, 8, 23), (2007, 9, 8), (2007, 9, 13), (2007, 9, 22), (2007, 10, 31), (2007, 12, 13),\n",
    " (2008, 7, 16), (2008, 7, 22), (2008, 8, 18), (2008, 8, 31), (2008, 9, 2), (2009, 8, 16), (2009, 8, 21),\n",
    " (2009, 11, 9), (2010, 6, 30), (2010, 7, 23), (2010, 8, 10), (2010, 8, 31), (2010, 9, 29), (2011, 7, 18),\n",
    " (2011, 8, 25), (2011, 9, 3), (2011, 10, 28), (2011, 11, 9), (2012, 5, 28), (2012, 6, 23), (2012, 8, 25),\n",
    " (2012, 10, 25), (2015, 8, 30), (2015, 10, 1), (2016, 6, 6), (2016, 9, 1), (2016, 9, 14), (2016, 10, 7), \n",
    " (2017, 6, 21), (2017, 7, 31), (2017, 9, 10), (2017, 10, 29)]\n",
    "\n",
    "\n",
    "\n",
    "florida_hurricane_dates = [date(*i) for i in florida_hurricane]\n",
    "\n",
    "print(type(florida_hurricane_dates[0]))\n",
    "\n",
    "print(florida_hurricane_dates[:3])"
   ]
  },
  {
   "cell_type": "code",
   "execution_count": 8,
   "id": "1dedd6af-df58-4de0-89f7-9ba05eabaf18",
   "metadata": {},
   "outputs": [
    {
     "name": "stdout",
     "output_type": "stream",
     "text": [
      "10\n"
     ]
    }
   ],
   "source": [
    "# Counter for how many before June 1\n",
    "early_hurricanes = 0\n",
    "\n",
    "# We loop over the dates\n",
    "for hurricane in florida_hurricane_dates:\n",
    "  # Check if the month is before June (month number 6)\n",
    "  if hurricane.month < 6:\n",
    "    early_hurricanes = early_hurricanes + 1\n",
    "    \n",
    "print(early_hurricanes)"
   ]
  },
  {
   "cell_type": "markdown",
   "id": "ce4c20e3-e43b-4199-ac09-a45247d17117",
   "metadata": {},
   "source": [
    "## Math with dates\n",
    "\n",
    "\n",
    "\n",
    "\n",
    "\n",
    "\n",
    "\n",
    "**In the last lesson, we discussed how to create date objects and access their attributes.  \n",
    "\n",
    "# In this lesson, we're going to talk about how to do math with dates: counting days between events, moving forward or backward by a number of days, putting them in order and so on.  \n",
    "\n",
    "Lets take a step back, Think back when you first learned arithmetic.  You probably started with something like a line of numbers.  A number line tells you what order the numbers go in, and how far apart numbers are from each other.  Lets pick two numbers, 14 and 16, and represent them in Python as teh variable a and b respectively.  We'll put them into a list - l.  Pyhthon can tell us which number in this list is the least, using the \".min()\" function.  We can also subtract numbers.  When we subtrack two numbers, in this case subtracting 11 from 14, the result is 3.  Said another way, if we took 3 steps from 11, we would get 14.  \n",
    "\n",
    "# Now lets think about how this applies to dates.  \n",
    "Lets call the line as calendar line, instead of a number line.  Each dot on this calendar line corresponds to a particular day.  Lets put two dates onto this calendar line: November 5th, 2017 and December 4th, 2017.  Let represents this in Python.  We start by importing the date class from datetime package.  We create two date objects: d1 is November 5th, 2017nd d2 is December 4th, 2017.  As before, we put them into a list, l.  What Python is doing under the hood, so to speak, is not that different from putting the dates onto a calendar line.  For example, if we call \".min()\" of l, we again get the \"least\" date, which means the earliest one.  In this case, thats November 5th, 2017.  \n",
    "And just like numbers, we can subtract two dates.  When we do this, we get an object of type \"timedelta\".  Timedeltas gives us the elapsed time between events.  If you access the \".days\" attribute of this object, you can obtain the number of days between the two dates.  We can also use a timedelta in the other direction.  First, lets import \"timedelta\" from datetime package.  Next, we create a 29-days timedelta, by passing \"days=29\" to \"timedelta()\" function.  Now when we add \"n_datetime\" to our original date we get back new date.  Python handled the fact that November has 30 days in it for us, without us having to remember which months are 30 day months, 31 day months, or 28 day months.  \n",
    "\n",
    "Finally a quick side note: we will use the \"plus-equal\" operation a number of times in the rest of this course, so we should discuss it.  If you arent familiar with it, you can see how it works here.  Just Google it.  Google knows everything.  \n",
    "\n",
    "\n",
    "We talked about how date objects are very similar to numbers, and how you can subtract them to get a timedelta object, or add timedelta to a date object to get a new date.  We also briefly touched on the += operator. Its time for you to practice these concepts.  \n",
    "\n",
    "\n"
   ]
  },
  {
   "cell_type": "code",
   "execution_count": 15,
   "id": "e95de657-186d-4cc5-b1a4-2db5cb40ce4d",
   "metadata": {},
   "outputs": [
    {
     "name": "stdout",
     "output_type": "stream",
     "text": [
      "2016-10-07\n",
      "2017-06-21\n",
      "2017-07-01\n"
     ]
    }
   ],
   "source": [
    "from datetime import date, timedelta\n",
    "\n",
    "\n",
    "two_hurricanes = [\"10/7/2016\", \"6/21/2017\"]\n",
    "\n",
    "two_hurricanes_dates = [date(2016, 10, 7), date(2017, 6, 21)]\n",
    "\n",
    "\n",
    "#print(two_hurricanes_dates.min())   # AttributeError: 'list' object has no attribute 'min'\n",
    "print(min(two_hurricanes_dates))\n",
    "print(max(two_hurricanes_dates))\n",
    "\n",
    "\n",
    "delta = timedelta(days=10)#, months=2, years=20)\n",
    "\n",
    "\n",
    "n_datetime = two_hurricanes_dates[1] + delta\n",
    "\n",
    "print(n_datetime)"
   ]
  },
  {
   "cell_type": "markdown",
   "id": "998650ba-fcaa-46ef-9ade-ec8cfbda734e",
   "metadata": {},
   "source": [
    "## Subtracting dates\n",
    "\n",
    "Python date objects let us treat calendar dates as something similar to numbers: we can compare them, sort them, add, and even subtract them. This lets us do math with dates in a way that would be a pain to do by hand.\n",
    "\n",
    "The 2007 Florida hurricane season was one of the busiest on record, with 8 hurricanes in one year. The first one hit on May 9th, 2007, and the last one hit on December 13th, 2007. How many days elapsed between the first and last hurricane in 2007?\n",
    "Instructions\n",
    "100 XP\n",
    "\n",
    "    Import date from datetime.\n",
    "    Create a date object for May 9th, 2007, and assign it to the start variable.\n",
    "    Create a date object for December 13th, 2007, and assign it to the end variable.\n",
    "    Subtract start from end, to print the number of days in the resulting timedelta object.\n"
   ]
  },
  {
   "cell_type": "code",
   "execution_count": null,
   "id": "a84d124a-5253-45a5-b010-e3a2c634a816",
   "metadata": {},
   "outputs": [],
   "source": [
    "# Import date\n",
    "from ____ import ____\n",
    "\n",
    "# Create a date object for May 9th, 2007\n",
    "start = date(____, ____, ____)\n",
    "\n",
    "# Create a date object for December 13th, 2007\n",
    "end = date(____, ____, ____)\n",
    "\n",
    "# Subtract the two dates and print the number of days\n",
    "print((____ - ____).____)"
   ]
  },
  {
   "cell_type": "code",
   "execution_count": null,
   "id": "efeb7438-e655-45b9-ba53-97460f82d8de",
   "metadata": {},
   "outputs": [],
   "source": []
  },
  {
   "cell_type": "code",
   "execution_count": null,
   "id": "41eb2dee-9280-448a-9331-1e1e1751b57a",
   "metadata": {},
   "outputs": [],
   "source": []
  },
  {
   "cell_type": "code",
   "execution_count": null,
   "id": "6d6f2ac7-1349-4ba6-904a-97a02c226e3e",
   "metadata": {},
   "outputs": [],
   "source": []
  },
  {
   "cell_type": "code",
   "execution_count": null,
   "id": "a6ec7ba0-3b20-4bbf-bfc6-9ba54e5c5561",
   "metadata": {},
   "outputs": [],
   "source": []
  },
  {
   "cell_type": "code",
   "execution_count": null,
   "id": "ce6f18aa-6e43-431e-a55d-b1f63bce4166",
   "metadata": {},
   "outputs": [],
   "source": []
  },
  {
   "cell_type": "code",
   "execution_count": null,
   "id": "f89941f5-29f5-4030-af59-70a6b4ea601a",
   "metadata": {},
   "outputs": [],
   "source": []
  },
  {
   "cell_type": "code",
   "execution_count": null,
   "id": "a9f32630-19b0-4148-884c-47db3f669ac2",
   "metadata": {},
   "outputs": [],
   "source": []
  },
  {
   "cell_type": "code",
   "execution_count": null,
   "id": "79fe9c06-13be-424f-927b-e08aaa658e6d",
   "metadata": {},
   "outputs": [],
   "source": []
  },
  {
   "cell_type": "code",
   "execution_count": null,
   "id": "98c4366a-8097-4bf9-b1de-46e13757e101",
   "metadata": {},
   "outputs": [],
   "source": []
  },
  {
   "cell_type": "code",
   "execution_count": null,
   "id": "0d250cd6-782b-410d-8420-eaba125d7d22",
   "metadata": {},
   "outputs": [],
   "source": []
  }
 ],
 "metadata": {
  "kernelspec": {
   "display_name": "Python 3 (ipykernel)",
   "language": "python",
   "name": "python3"
  },
  "language_info": {
   "codemirror_mode": {
    "name": "ipython",
    "version": 3
   },
   "file_extension": ".py",
   "mimetype": "text/x-python",
   "name": "python",
   "nbconvert_exporter": "python",
   "pygments_lexer": "ipython3",
   "version": "3.9.2"
  }
 },
 "nbformat": 4,
 "nbformat_minor": 5
}
