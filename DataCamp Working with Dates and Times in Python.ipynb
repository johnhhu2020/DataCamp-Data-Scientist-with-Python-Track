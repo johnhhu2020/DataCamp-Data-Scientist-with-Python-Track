{
 "cells": [
  {
   "cell_type": "markdown",
   "id": "6ca49c26-39a0-4539-9ce6-c04150fcdd8d",
   "metadata": {},
   "source": [
    "## Working with Dates and Times in Python\n",
    "\n",
    "\n"
   ]
  },
  {
   "cell_type": "markdown",
   "id": "17971f32-843b-4762-92ad-73538121cb84",
   "metadata": {},
   "source": [
    "## Course Description\n",
    "\n",
    "You'll probably never have a time machine, but how about a machine for analyzing time? As soon as time enters any analysis, things can get weird. It's easy to get tripped up on day and month boundaries, time zones, daylight saving time, and all sorts of other things that can confuse the unprepared. If you're going to do any kind of analysis involving time, you’ll want to use Python to sort it out. Working with data sets on hurricanes and bike trips, we’ll cover counting events, figuring out how much time has elapsed between events and plotting data over time. You'll work in both standard Python and in Pandas, and we'll touch on the dateutil library, the only timezone library endorsed by the official Python documentation. After this course, you'll confidently handle date and time data in any format like a champion."
   ]
  },
  {
   "cell_type": "markdown",
   "id": "cf122ec0-f28b-4fd1-b455-3c71263e23c9",
   "metadata": {},
   "source": [
    "##  Dates and Calendars\n",
    "Free\n",
    "0%\n",
    "\n",
    "Hurricanes (also known as cyclones or typhoons) hit the U.S. state of Florida several times per year. To start off this course, you'll learn how to work with date objects in Python, starting with the dates of every hurricane to hit Florida since 1950. You'll learn how Python handles dates, common date operations, and the right way to format dates to avoid confusion.\n",
    "\n",
    "    Dates in Python    50 xp\n",
    "    Which day of the week?    100 xp\n",
    "    How many hurricanes come early?    100 xp\n",
    "    Math with dates    50 xp\n",
    "    Subtracting dates    100 xp\n",
    "    Counting events per calendar month    100 xp\n",
    "    Putting a list of dates in order    100 xp\n",
    "    Turning dates into strings    50 xp\n",
    "    Printing dates in a friendly format    100 xp\n",
    "    Representing dates in different ways    100 xp \n",
    "    "
   ]
  },
  {
   "cell_type": "markdown",
   "id": "2e36dbed-78d5-46a8-af84-ac30a293dc23",
   "metadata": {},
   "source": [
    "##  Combining Dates and Times\n",
    "0%\n",
    "\n",
    "Bike sharing programs have swept through cities around the world -- and luckily for us, every trip gets recorded! Working with all of the comings and goings of one bike in Washington, D.C., you'll practice working with dates and times together. You'll parse dates and times from text, analyze peak trip times, calculate ride durations, and more.\n",
    "\n",
    "    Dates and times    50 xp\n",
    "    Creating datetimes by hand    100 xp\n",
    "    Counting events before and after noon    100 xp\n",
    "    Printing and parsing datetimes    50 xp\n",
    "    Turning strings into datetimes    100 xp\n",
    "    Parsing pairs of strings as datetimes    100 xp\n",
    "    Recreating ISO format with strftime()    100 xp\n",
    "    Unix timestamps    100 xp\n",
    "    Working with durations    50 xp\n",
    "    Turning pairs of datetimes into durations    100 xp\n",
    "    Average trip time    100 xp\n",
    "    The long and the short of why time is hard    100 xp \n",
    "    "
   ]
  },
  {
   "cell_type": "markdown",
   "id": "a44991d0-7a76-47ad-805a-051969461e3a",
   "metadata": {},
   "source": [
    "##  Time Zones and Daylight Saving\n",
    "0%\n",
    "\n",
    "In this chapter, you'll learn to confidently tackle the time-related topic that causes people the most trouble: time zones and daylight saving. Continuing with our bike data, you'll learn how to compare clocks around the world, how to gracefully handle \"spring forward\" and \"fall back,\" and how to get up-to-date timezone data from the dateutil library.\n",
    "\n",
    "    UTC offsets    50 xp\n",
    "    Creating timezone aware datetimes    100 xp\n",
    "    Setting timezones    100 xp\n",
    "    What time did the bike leave in UTC?    100 xp\n",
    "    Time zone database    50 xp\n",
    "    Putting the bike trips into the right time zone    100 xp\n",
    "    What time did the bike leave? (Global edition)    100 xp\n",
    "    Starting daylight saving time    50 xp\n",
    "    How many hours elapsed around daylight saving?    100 xp\n",
    "    March 29, throughout a decade    100 xp\n",
    "    Ending daylight saving time    50 xp\n",
    "    Finding ambiguous datetimes    100 xp\n",
    "    Cleaning daylight saving data with fold    100 xp \n",
    "    "
   ]
  },
  {
   "cell_type": "markdown",
   "id": "b9a58a7c-93c0-4a2f-98b3-19b672b24a3c",
   "metadata": {},
   "source": [
    "##  Easy and Powerful: Dates and Times in Pandas\n",
    "0%\n",
    "\n",
    "To conclude this course, you'll apply everything you've learned about working with dates and times in standard Python to working with dates and times in Pandas. With additional information about each bike ride, such as what station it started and stopped at and whether or not the rider had a yearly membership, you'll be able to dig much more deeply into the bike trip data. In this chapter, you'll cover powerful Pandas operations, such as grouping and plotting results by time.\n",
    "\n",
    "    Reading date and time data in Pandas    50 xp\n",
    "    Loading a csv file in Pandas    100 xp\n",
    "    Making timedelta columns    100 xp\n",
    "    Summarizing datetime data in Pandas    50 xp\n",
    "    How many joyrides?    100 xp\n",
    "    It's getting cold outside, W20529    100 xp\n",
    "    Members vs casual riders over time    100 xp\n",
    "    Combining groupby() and resample()    100 xp\n",
    "    Additional datetime methods in Pandas    50 xp\n",
    "    Timezones in Pandas    100 xp\n",
    "    How long per weekday?    100 xp\n",
    "    How long between rides?    100 xp\n",
    "    Wrap-up    50 xp\n"
   ]
  },
  {
   "cell_type": "code",
   "execution_count": null,
   "id": "021907f5-ecfc-44b1-a4be-75ce1317966d",
   "metadata": {},
   "outputs": [],
   "source": []
  },
  {
   "cell_type": "markdown",
   "id": "f1362da5-c4b0-4b18-885f-a2e34cb2691b",
   "metadata": {},
   "source": [
    "## Dates in Python\n",
    "\n",
    "\n",
    "\n",
    "\n",
    "\n",
    "\n",
    "**Name is Max Shron, I will be your instructor for this course on working with dates and times in python.  Dates are everywhere in data science.  \n",
    "\n",
    "Stock prices go up dan down, experiments begin and end, people are born, politicans take votes, and on and on. All these events happen at a particualr point in time.  Knowing how to analysis data over time is a core data science skill.  \n",
    "\n",
    "\n",
    "# *******************************************************************************************************************\n",
    "This course is divided into 4 chapters.  The first chapter will be about working with dates and calendars.  In chapter 2, we will add time into the mix, and combine dates and times.  In chapter 3, we'll tackle one of the toughest parts of working with time: time zones and Daylight Saving.  And finally, in chapter 4, we'll connect what we've learned about working with dates and times to explore how Pandas can make answering even complex questions about dates much easier.  \n",
    "# *******************************************************************************************************************\n",
    "\n",
    "\n",
    "Python has special date class, called \"date\", which you will use to represent dates.  A date, like a string, or a number, or a NumPy array, has special rules for creating it and methods for working with it.  In this lesson, we're going to discuss creating dates and extracting some basic information out of them.  \n",
    "\n",
    "\n",
    "So why do we need a special date class?  To understand how dates work, in this chapter you're going to exlore 67 years of Hurricane landfalls in the US state of Florida.  The \"two_hurricanes\" is a list with dates of two hurricanes represented as string: the last 2016 hurricane (on October 7th, 2016) and the first 2017 hurricane (on June 21st, 2017).  The dates are represented in the US style, with the month, then day, then the year.  \n",
    "\n",
    "\n",
    "# *******************************************************************************************************************\n",
    "Suppose you want to do something interesting with these dates.  How would you figure out how many days had elapsed between them?  How would you check that they were ordered from earliest to latest?  How would you know which day of the week each was?  Doing these things manually would be challenging, but Python makes all of them easy.  By the end of this chapter, you'll know how to do each of these things yourself.  \n",
    "\n",
    "\n",
    "# To create a date object, we start by importing the data class.  The collection of date and time-related classes are stored in the \"datetime\" package.  \n",
    "We create a date using the \"date()\" function.  Here we created dates corresponding to the two hurricanes, now as Python date objects.  The inputs to \"date()\" function are the year, month, and day.  The first date is October 7, 2016 and the second date is June 21, 2017.  The order is easy to remember: it goes from the biggest to smallest.  year, month, day.  \n",
    "\n",
    "Later in this chapter, you'll create dates directly from list of strings, but in this lesson, youre stick to creating dates by hand or using list of already created dates.  You can access indivdual components of a date using the date-object's attributes.  You can access the year of the date using the \".year\" attribute, like so, and the result is 2016.  \n",
    "\n",
    "# You can also ask Python to do more complicated work.  \n",
    "Here we call the \"weekday()\" method on the date-object, and see the weekday is 4.  Python counts weekdays from 0, starting on Monday and so on.  1 is Tuesday, 2 is Wednesday, up to 6 being a Sunday.  So this 4 means its Friday.  \n",
    "\n",
    "\n",
    "In the next few exercises, you'll implement what you've seen in this video to see how much you can already do.  \n",
    "\n",
    "\n",
    "\n",
    "two_hurricanes = [\"10/7/2016\", \"6/21/2017\"]\n",
    "\n",
    "\n",
    "# Import date\n",
    "from datetime import date\n",
    "# Create dates\n",
    "two_hurricanes_dates = [date(2016, 10, 7), date(2017, 6, 21)]   #++++++++++++++++++++++++++++++++++++++++++++++++++++\n",
    "\n",
    "print(two_hurricanes_dates[0].year)\n"
   ]
  },
  {
   "cell_type": "code",
   "execution_count": 19,
   "id": "14735c68-4715-46f1-a406-2373ce4fc6ff",
   "metadata": {},
   "outputs": [
    {
     "name": "stdout",
     "output_type": "stream",
     "text": [
      "10 \n",
      "\n",
      "4 \n",
      "\n"
     ]
    }
   ],
   "source": [
    "from datetime import date\n",
    "\n",
    "\n",
    "two_hurricanes = [\"10/7/2016\", \"6/21/2017\"]\n",
    "\n",
    "two_hurricanes_dates = [date(2016, 10, 7), date(2017, 6, 21)]\n",
    "\n",
    "\n",
    "print(two_hurricanes_dates[0].month, '\\n')  #########################################################################\n",
    "\n",
    "print(two_hurricanes_dates[0].weekday(), '\\n')  #####################################################################"
   ]
  },
  {
   "cell_type": "code",
   "execution_count": 9,
   "id": "d38e5b4a-96c5-4188-8039-00b61ade8c3e",
   "metadata": {},
   "outputs": [
    {
     "name": "stdout",
     "output_type": "stream",
     "text": [
      "['__add__', '__class__', '__delattr__', '__dir__', '__doc__', '__eq__', '__format__', '__ge__', '__getattribute__', '__gt__', '__hash__', '__init__', '__init_subclass__', '__le__', '__lt__', '__ne__', '__new__', '__radd__', '__reduce__', '__reduce_ex__', '__repr__', '__rsub__', '__setattr__', '__sizeof__', '__str__', '__sub__', '__subclasshook__', 'ctime', 'day', 'fromisocalendar', 'fromisoformat', 'fromordinal', 'fromtimestamp', 'isocalendar', 'isoformat', 'isoweekday', 'max', 'min', 'month', 'replace', 'resolution', 'strftime', 'timetuple', 'today', 'toordinal', 'weekday', 'year']\n"
     ]
    }
   ],
   "source": [
    "print(dir(two_hurricanes_dates[0]))"
   ]
  },
  {
   "cell_type": "markdown",
   "id": "ed04a183-a658-49d4-a0f5-88d6a4af5643",
   "metadata": {},
   "source": [
    "## Which day of the week?\n",
    "\n",
    "Hurricane Andrew, which hit Florida on August 24, 1992, was one of the costliest and deadliest hurricanes in US history. Which day of the week did it make landfall?\n",
    "\n",
    "Let's walk through all of the steps to figure this out.\n",
    "Instructions 1/3\n",
    "35 XP\n",
    "\n",
    "    Question 1\n",
    "    Import date from datetime.\n",
    "    \n",
    "    \n",
    "    \n",
    "    Question 2\n",
    "    Create a date object for August 24, 1992.\n",
    "    \n",
    "    \n",
    "    \n",
    "    Question 3\n",
    "    Now ask Python what day of the week Hurricane Andrew hit (remember that Python counts days of the week starting from Monday as 0, Tuesday as 1, and so on).\n"
   ]
  },
  {
   "cell_type": "code",
   "execution_count": null,
   "id": "9cefb0c7-f2f3-4774-84c8-a44d3f6a9bc7",
   "metadata": {},
   "outputs": [],
   "source": [
    "# Import date from datetime\n",
    "from datetime import date\n",
    "\n",
    "# Create a date object\n",
    "hurricane_andrew = date(1992, 8, 24)\n",
    "\n",
    "\n",
    "\n",
    "# Which day of the week is the date?\n",
    "print(hurricane_andrew.____)"
   ]
  },
  {
   "cell_type": "markdown",
   "id": "233b509b-deab-4580-b270-15839cb1b2c8",
   "metadata": {},
   "source": [
    "## How many hurricanes come early?\n",
    "\n",
    "In this chapter, you will work with a list of the hurricanes that made landfall in Florida from 1950 to 2017. There were 235 in total. Check out the variable \"florida_hurricane_dates\", which has all of these dates.\n",
    "\n",
    "Atlantic hurricane season officially begins on June 1. How many hurricanes since 1950 have made landfall in Florida before the official start of hurricane season?\n",
    "Instructions\n",
    "100 XP\n",
    "\n",
    "    Complete the for loop to iterate through florida_hurricane_dates.\n",
    "    Complete the if statement to increment the counter (early_hurricanes) if the hurricane made landfall before June.\n"
   ]
  },
  {
   "cell_type": "code",
   "execution_count": 7,
   "id": "4744e0e1-f6b3-49eb-8038-5f9b2b0ddacc",
   "metadata": {},
   "outputs": [
    {
     "name": "stdout",
     "output_type": "stream",
     "text": [
      "<class 'datetime.date'>\n",
      "[datetime.date(1950, 8, 31), datetime.date(1950, 9, 5), datetime.date(1950, 10, 18)]\n"
     ]
    }
   ],
   "source": [
    "florida_hurricane = [\n",
    "    (1950, 8, 31), (1950, 9, 5), (1950, 10, 18), (1950, 10, 21), (1951, 5, 18), (1951, 10, 2), (1952, 2, 3), \n",
    " (1952, 8, 30), (1953, 6, 6), (1953, 8, 29), (1953, 9, 20), (1953, 9, 26), (1953, 10, 9), (1955, 8, 21), \n",
    " (1956, 7, 6), (1956, 9, 24), (1956, 10, 15), (1957, 6, 8), (1957, 9, 8), (1958, 9, 4), (1959, 6, 18), \n",
    " (1959, 10, 8), (1959, 10, 18), (1960, 7, 29), (1960, 9, 10), (1960, 9, 15), (1960, 9, 23), (1961, 9, 11),\n",
    " (1961, 10, 29), (1962, 8, 26), (1963, 10, 21), (1964, 6, 6), (1964, 8, 27), (1964, 9, 10), (1964, 9, 20),\n",
    " (1964, 10, 5), (1964, 10, 14), (1965, 6, 15), (1965, 9, 8), (1965, 9, 30), (1966, 6, 9), (1966, 6, 30),\n",
    " (1966, 7, 24), (1966, 10, 4), (1968, 6, 4), (1968, 6, 18), (1968, 7, 5), (1968, 8, 10), (1968, 8, 28),\n",
    " (1968, 9, 26), (1968, 10, 19), (1969, 6, 9), (1969, 8, 18), (1969, 8, 29), (1969, 9, 7), (1969, 9, 21), \n",
    " (1969, 10, 1), (1969, 10, 2), (1969, 10, 21), (1970, 5, 25), (1970, 7, 22), (1970, 8, 6), (1970, 9, 13),\n",
    " (1970, 9, 27), (1971, 8, 10), (1971, 8, 13), (1971, 8, 29), (1971, 9, 1), (1971, 9, 16), (1971, 10, 13),\n",
    " (1972, 5, 28), (1972, 6, 19), (1972, 9, 5), (1973, 6, 7), (1973, 6, 23), (1973, 9, 3), (1973, 9, 25), \n",
    " (1974, 6, 25), (1974, 9, 8), (1974, 9, 27), (1974, 10, 7), (1975, 6, 27), (1975, 7, 29), (1975, 9, 23),\n",
    " (1975, 10, 1), (1975, 10, 16), (1976, 5, 23), (1976, 6, 11), (1976, 8, 19), (1976, 9, 13), (1977, 8, 27), \n",
    " (1977, 9, 5), (1978, 6, 22), (1979, 7, 11), (1979, 9, 3), (1979, 9, 12), (1979, 9, 24), (1980, 8, 7),\n",
    " (1980, 11, 18), (1981, 8, 17), (1982, 6, 18), (1982, 9, 11), (1983, 8, 28), (1984, 9, 9), (1984, 9, 27), \n",
    " (1984, 10, 26), (1985, 7, 23), (1985, 8, 15), (1985, 10, 10), (1985, 11, 21), (1986, 6, 26), (1986, 8, 13), \n",
    " (1987, 8, 14), (1987, 9, 7), (1987, 10, 12), (1987, 11, 4), (1988, 5, 30), (1988, 8, 4), (1988, 8, 13),\n",
    " (1988, 8, 23), (1988, 9, 4), (1988, 9, 10), (1988, 9, 13), (1988, 11, 23), (1989, 9, 22), (1990, 5, 25),\n",
    " (1990, 10, 9), (1990, 10, 12), (1991, 6, 30), (1991, 10, 16), (1992, 6, 25), (1992, 8, 24), (1992, 9, 29), \n",
    " (1993, 6, 1), (1994, 7, 3), (1994, 8, 15), (1994, 10, 2), (1994, 11, 16), (1995, 6, 5), (1995, 7, 27),\n",
    " (1995, 8, 2), (1995, 8, 23), (1995, 10, 4), (1996, 7, 11), (1996, 9, 2), (1996, 10, 8), (1996, 10, 18),\n",
    " (1997, 7, 19), (1998, 9, 3), (1998, 9, 20), (1998, 9, 25), (1998, 11, 5), (1999, 8, 29), (1999, 9, 15),\n",
    " (1999, 9, 21), (1999, 10, 15), (2000, 8, 23), (2000, 9, 9), (2000, 9, 18), (2000, 9, 22), (2000, 10, 3), \n",
    " (2001, 6, 12), (2001, 8, 6), (2001, 9, 14), (2001, 11, 5), (2002, 7, 13), (2002, 8, 4), (2002, 9, 4), \n",
    " (2002, 9, 14), (2002, 9, 26), (2002, 10, 3), (2002, 10, 11), (2003, 4, 20), (2003, 6, 30), (2003, 7, 25),\n",
    " (2003, 8, 14), (2003, 8, 30), (2003, 9, 6), (2003, 9, 13), (2004, 8, 12), (2004, 8, 13), (2004, 9, 5),\n",
    " (2004, 9, 13), (2004, 9, 16), (2004, 10, 10), (2005, 6, 11), (2005, 7, 6), (2005, 7, 10), (2005, 8, 25), \n",
    " (2005, 9, 12), (2005, 9, 20), (2005, 10, 5), (2005, 10, 24), (2006, 6, 13), (2006, 8, 30), (2007, 5, 9),\n",
    " (2007, 6, 2), (2007, 8, 23), (2007, 9, 8), (2007, 9, 13), (2007, 9, 22), (2007, 10, 31), (2007, 12, 13),\n",
    " (2008, 7, 16), (2008, 7, 22), (2008, 8, 18), (2008, 8, 31), (2008, 9, 2), (2009, 8, 16), (2009, 8, 21),\n",
    " (2009, 11, 9), (2010, 6, 30), (2010, 7, 23), (2010, 8, 10), (2010, 8, 31), (2010, 9, 29), (2011, 7, 18),\n",
    " (2011, 8, 25), (2011, 9, 3), (2011, 10, 28), (2011, 11, 9), (2012, 5, 28), (2012, 6, 23), (2012, 8, 25),\n",
    " (2012, 10, 25), (2015, 8, 30), (2015, 10, 1), (2016, 6, 6), (2016, 9, 1), (2016, 9, 14), (2016, 10, 7), \n",
    " (2017, 6, 21), (2017, 7, 31), (2017, 9, 10), (2017, 10, 29)]\n",
    "\n",
    "\n",
    "\n",
    "florida_hurricane_dates = [date(*i) for i in florida_hurricane]\n",
    "\n",
    "print(type(florida_hurricane_dates[0]))\n",
    "\n",
    "print(florida_hurricane_dates[:3])"
   ]
  },
  {
   "cell_type": "code",
   "execution_count": 8,
   "id": "1dedd6af-df58-4de0-89f7-9ba05eabaf18",
   "metadata": {},
   "outputs": [
    {
     "name": "stdout",
     "output_type": "stream",
     "text": [
      "10\n"
     ]
    }
   ],
   "source": [
    "# Counter for how many before June 1\n",
    "early_hurricanes = 0\n",
    "\n",
    "# We loop over the dates\n",
    "for hurricane in florida_hurricane_dates:\n",
    "  # Check if the month is before June (month number 6)\n",
    "  if hurricane.month < 6:\n",
    "    early_hurricanes = early_hurricanes + 1\n",
    "    \n",
    "print(early_hurricanes)"
   ]
  },
  {
   "cell_type": "markdown",
   "id": "ce4c20e3-e43b-4199-ac09-a45247d17117",
   "metadata": {},
   "source": [
    "## Math with dates\n",
    "\n",
    "\n",
    "\n",
    "\n",
    "\n",
    "\n",
    "\n",
    "**In the last lesson, we discussed how to create date objects and access their attributes.  \n",
    "\n",
    "# In this lesson, we're going to talk about how to do math with dates: counting days between events, moving forward or backward by a number of days, putting them in order and so on.  \n",
    "\n",
    "Lets take a step back, Think back when you first learned arithmetic.  You probably started with something like a line of numbers.  A number line tells you what order the numbers go in, and how far apart numbers are from each other.  Lets pick two numbers, 14 and 16, and represent them in Python as teh variable a and b respectively.  We'll put them into a list - l.  Pyhthon can tell us which number in this list is the least, using the \".min()\" function.  We can also subtract numbers.  When we subtrack two numbers, in this case subtracting 11 from 14, the result is 3.  Said another way, if we took 3 steps from 11, we would get 14.  \n",
    "\n",
    "# Now lets think about how this applies to dates.  \n",
    "Lets call the line as calendar line, instead of a number line.  Each dot on this calendar line corresponds to a particular day.  Lets put two dates onto this calendar line: November 5th, 2017 and December 4th, 2017.  Let represents this in Python.  We start by importing the date class from datetime package.  We create two date objects: d1 is November 5th, 2017nd d2 is December 4th, 2017.  As before, we put them into a list, l.  What Python is doing under the hood, so to speak, is not that different from putting the dates onto a calendar line.  For example, if we call \".min()\" of l, we again get the \"least\" date, which means the earliest one.  In this case, thats November 5th, 2017.  \n",
    "And just like numbers, we can subtract two dates.  When we do this, we get an object of type \"timedelta\".  Timedeltas gives us the elapsed time between events.  If you access the \".days\" attribute of this object, you can obtain the number of days between the two dates.  We can also use a timedelta in the other direction.  First, lets import \"timedelta\" from datetime package.  Next, we create a 29-days timedelta, by passing \"days=29\" to \"timedelta()\" function.  Now when we add \"n_datetime\" to our original date we get back new date.  Python handled the fact that November has 30 days in it for us, without us having to remember which months are 30 day months, 31 day months, or 28 day months.  \n",
    "\n",
    "Finally a quick side note: we will use the \"plus-equal\" operation a number of times in the rest of this course, so we should discuss it.  If you arent familiar with it, you can see how it works here.  Just Google it.  Google knows everything.  \n",
    "\n",
    "\n",
    "We talked about how date objects are very similar to numbers, and how you can subtract them to get a timedelta object, or add timedelta to a date object to get a new date.  We also briefly touched on the += operator. Its time for you to practice these concepts.  \n",
    "\n",
    "\n"
   ]
  },
  {
   "cell_type": "code",
   "execution_count": 15,
   "id": "e95de657-186d-4cc5-b1a4-2db5cb40ce4d",
   "metadata": {},
   "outputs": [
    {
     "name": "stdout",
     "output_type": "stream",
     "text": [
      "2016-10-07\n",
      "2017-06-21\n",
      "2017-07-01\n"
     ]
    }
   ],
   "source": [
    "from datetime import date, timedelta\n",
    "\n",
    "\n",
    "two_hurricanes = [\"10/7/2016\", \"6/21/2017\"]\n",
    "\n",
    "two_hurricanes_dates = [date(2016, 10, 7), date(2017, 6, 21)]\n",
    "\n",
    "\n",
    "#print(two_hurricanes_dates.min())   # AttributeError: 'list' object has no attribute 'min'\n",
    "print(min(two_hurricanes_dates))\n",
    "print(max(two_hurricanes_dates))\n",
    "\n",
    "\n",
    "delta = timedelta(days=10)#, months=2, years=20)\n",
    "\n",
    "\n",
    "n_datetime = two_hurricanes_dates[1] + delta\n",
    "\n",
    "print(n_datetime)"
   ]
  },
  {
   "cell_type": "markdown",
   "id": "998650ba-fcaa-46ef-9ade-ec8cfbda734e",
   "metadata": {},
   "source": [
    "## Subtracting dates\n",
    "\n",
    "Python date objects let us treat calendar dates as something similar to numbers: we can compare them, sort them, add, and even subtract them. This lets us do math with dates in a way that would be a pain to do by hand.\n",
    "\n",
    "The 2007 Florida hurricane season was one of the busiest on record, with 8 hurricanes in one year. The first one hit on May 9th, 2007, and the last one hit on December 13th, 2007. How many days elapsed between the first and last hurricane in 2007?\n",
    "Instructions\n",
    "100 XP\n",
    "\n",
    "    Import date from datetime.\n",
    "    Create a date object for May 9th, 2007, and assign it to the start variable.\n",
    "    Create a date object for December 13th, 2007, and assign it to the end variable.\n",
    "    Subtract start from end, to print the number of days in the resulting timedelta object.\n"
   ]
  },
  {
   "cell_type": "code",
   "execution_count": 28,
   "id": "a84d124a-5253-45a5-b010-e3a2c634a816",
   "metadata": {},
   "outputs": [
    {
     "name": "stdout",
     "output_type": "stream",
     "text": [
      "218\n"
     ]
    }
   ],
   "source": [
    "# Import date\n",
    "from datetime import date\n",
    "\n",
    "# Create a date object for May 9th, 2007\n",
    "start = date(2007, 5, 9)\n",
    "\n",
    "# Create a date object for December 13th, 2007\n",
    "end = date(2007, 12, 13)\n",
    "\n",
    "# Subtract the two dates and print the number of days\n",
    "print((end - start).days)"
   ]
  },
  {
   "cell_type": "code",
   "execution_count": 27,
   "id": "efeb7438-e655-45b9-ba53-97460f82d8de",
   "metadata": {},
   "outputs": [],
   "source": [
    "# MS code interview, two list of nums, find the minimum number of steps needed to equal the sums of two lists.   \n",
    "\n",
    "list_a = [1, 2, 3, 4, 5, 6]\n",
    "list_b = [1, 1, 2, 2, 2, 2]"
   ]
  },
  {
   "cell_type": "markdown",
   "id": "2e653b6d-46a0-44f2-ae74-4a8964819efb",
   "metadata": {},
   "source": [
    "## Counting events per calendar month\n",
    "\n",
    "Hurricanes can make landfall in Florida throughout the year. As we've already discussed, some months are more hurricane-prone than others.\n",
    "\n",
    "Using florida_hurricane_dates, let's see how hurricanes in Florida were distributed across months throughout the year.\n",
    "\n",
    "We've created a dictionary called hurricanes_each_month to hold your counts and set the initial counts to zero. You will loop over the list of hurricanes, incrementing the correct month in hurricanes_each_month as you go, and then print the result.\n",
    "Instructions\n",
    "100 XP\n",
    "\n",
    "    Within the for loop:\n",
    "    Assign month to be the month of that hurricane.\n",
    "    Increment hurricanes_each_month for the relevant month by 1.\n"
   ]
  },
  {
   "cell_type": "code",
   "execution_count": 52,
   "id": "a6ec7ba0-3b20-4bbf-bfc6-9ba54e5c5561",
   "metadata": {},
   "outputs": [
    {
     "name": "stdout",
     "output_type": "stream",
     "text": [
      "[datetime.date(1950, 8, 31), datetime.date(1950, 9, 5), datetime.date(1950, 10, 18), datetime.date(1950, 10, 21), datetime.date(1951, 5, 18), datetime.date(1951, 10, 2), datetime.date(1952, 2, 3), datetime.date(1952, 8, 30), datetime.date(1953, 6, 6), datetime.date(1953, 8, 29), datetime.date(1953, 9, 20), datetime.date(1953, 9, 26), datetime.date(1953, 10, 9), datetime.date(1955, 8, 21), datetime.date(1956, 7, 6), datetime.date(1956, 9, 24), datetime.date(1956, 10, 15), datetime.date(1957, 6, 8), datetime.date(1957, 9, 8), datetime.date(1958, 9, 4), datetime.date(1959, 6, 18), datetime.date(1959, 10, 8), datetime.date(1959, 10, 18), datetime.date(1960, 7, 29), datetime.date(1960, 9, 10), datetime.date(1960, 9, 15), datetime.date(1960, 9, 23), datetime.date(1961, 9, 11), datetime.date(1961, 10, 29), datetime.date(1962, 8, 26), datetime.date(1963, 10, 21), datetime.date(1964, 6, 6), datetime.date(1964, 8, 27), datetime.date(1964, 9, 10), datetime.date(1964, 9, 20), datetime.date(1964, 10, 5), datetime.date(1964, 10, 14), datetime.date(1965, 6, 15), datetime.date(1965, 9, 8), datetime.date(1965, 9, 30), datetime.date(1966, 6, 9), datetime.date(1966, 6, 30), datetime.date(1966, 7, 24), datetime.date(1966, 10, 4), datetime.date(1968, 6, 4), datetime.date(1968, 6, 18), datetime.date(1968, 7, 5), datetime.date(1968, 8, 10), datetime.date(1968, 8, 28), datetime.date(1968, 9, 26), datetime.date(1968, 10, 19), datetime.date(1969, 6, 9), datetime.date(1969, 8, 18), datetime.date(1969, 8, 29), datetime.date(1969, 9, 7), datetime.date(1969, 9, 21), datetime.date(1969, 10, 1), datetime.date(1969, 10, 2), datetime.date(1969, 10, 21), datetime.date(1970, 5, 25), datetime.date(1970, 7, 22), datetime.date(1970, 8, 6), datetime.date(1970, 9, 13), datetime.date(1970, 9, 27), datetime.date(1971, 8, 10), datetime.date(1971, 8, 13), datetime.date(1971, 8, 29), datetime.date(1971, 9, 1), datetime.date(1971, 9, 16), datetime.date(1971, 10, 13), datetime.date(1972, 5, 28), datetime.date(1972, 6, 19), datetime.date(1972, 9, 5), datetime.date(1973, 6, 7), datetime.date(1973, 6, 23), datetime.date(1973, 9, 3), datetime.date(1973, 9, 25), datetime.date(1974, 6, 25), datetime.date(1974, 9, 8), datetime.date(1974, 9, 27), datetime.date(1974, 10, 7), datetime.date(1975, 6, 27), datetime.date(1975, 7, 29), datetime.date(1975, 9, 23), datetime.date(1975, 10, 1), datetime.date(1975, 10, 16), datetime.date(1976, 5, 23), datetime.date(1976, 6, 11), datetime.date(1976, 8, 19), datetime.date(1976, 9, 13), datetime.date(1977, 8, 27), datetime.date(1977, 9, 5), datetime.date(1978, 6, 22), datetime.date(1979, 7, 11), datetime.date(1979, 9, 3), datetime.date(1979, 9, 12), datetime.date(1979, 9, 24), datetime.date(1980, 8, 7), datetime.date(1980, 11, 18), datetime.date(1981, 8, 17), datetime.date(1982, 6, 18), datetime.date(1982, 9, 11), datetime.date(1983, 8, 28), datetime.date(1984, 9, 9), datetime.date(1984, 9, 27), datetime.date(1984, 10, 26), datetime.date(1985, 7, 23), datetime.date(1985, 8, 15), datetime.date(1985, 10, 10), datetime.date(1985, 11, 21), datetime.date(1986, 6, 26), datetime.date(1986, 8, 13), datetime.date(1987, 8, 14), datetime.date(1987, 9, 7), datetime.date(1987, 10, 12), datetime.date(1987, 11, 4), datetime.date(1988, 5, 30), datetime.date(1988, 8, 4), datetime.date(1988, 8, 13), datetime.date(1988, 8, 23), datetime.date(1988, 9, 4), datetime.date(1988, 9, 10), datetime.date(1988, 9, 13), datetime.date(1988, 11, 23), datetime.date(1989, 9, 22), datetime.date(1990, 5, 25), datetime.date(1990, 10, 9), datetime.date(1990, 10, 12), datetime.date(1991, 6, 30), datetime.date(1991, 10, 16), datetime.date(1992, 6, 25), datetime.date(1992, 8, 24), datetime.date(1992, 9, 29), datetime.date(1993, 6, 1), datetime.date(1994, 7, 3), datetime.date(1994, 8, 15), datetime.date(1994, 10, 2), datetime.date(1994, 11, 16), datetime.date(1995, 6, 5), datetime.date(1995, 7, 27), datetime.date(1995, 8, 2), datetime.date(1995, 8, 23), datetime.date(1995, 10, 4), datetime.date(1996, 7, 11), datetime.date(1996, 9, 2), datetime.date(1996, 10, 8), datetime.date(1996, 10, 18), datetime.date(1997, 7, 19), datetime.date(1998, 9, 3), datetime.date(1998, 9, 20), datetime.date(1998, 9, 25), datetime.date(1998, 11, 5), datetime.date(1999, 8, 29), datetime.date(1999, 9, 15), datetime.date(1999, 9, 21), datetime.date(1999, 10, 15), datetime.date(2000, 8, 23), datetime.date(2000, 9, 9), datetime.date(2000, 9, 18), datetime.date(2000, 9, 22), datetime.date(2000, 10, 3), datetime.date(2001, 6, 12), datetime.date(2001, 8, 6), datetime.date(2001, 9, 14), datetime.date(2001, 11, 5), datetime.date(2002, 7, 13), datetime.date(2002, 8, 4), datetime.date(2002, 9, 4), datetime.date(2002, 9, 14), datetime.date(2002, 9, 26), datetime.date(2002, 10, 3), datetime.date(2002, 10, 11), datetime.date(2003, 4, 20), datetime.date(2003, 6, 30), datetime.date(2003, 7, 25), datetime.date(2003, 8, 14), datetime.date(2003, 8, 30), datetime.date(2003, 9, 6), datetime.date(2003, 9, 13), datetime.date(2004, 8, 12), datetime.date(2004, 8, 13), datetime.date(2004, 9, 5), datetime.date(2004, 9, 13), datetime.date(2004, 9, 16), datetime.date(2004, 10, 10), datetime.date(2005, 6, 11), datetime.date(2005, 7, 6), datetime.date(2005, 7, 10), datetime.date(2005, 8, 25), datetime.date(2005, 9, 12), datetime.date(2005, 9, 20), datetime.date(2005, 10, 5), datetime.date(2005, 10, 24), datetime.date(2006, 6, 13), datetime.date(2006, 8, 30), datetime.date(2007, 5, 9), datetime.date(2007, 6, 2), datetime.date(2007, 8, 23), datetime.date(2007, 9, 8), datetime.date(2007, 9, 13), datetime.date(2007, 9, 22), datetime.date(2007, 10, 31), datetime.date(2007, 12, 13), datetime.date(2008, 7, 16), datetime.date(2008, 7, 22), datetime.date(2008, 8, 18), datetime.date(2008, 8, 31), datetime.date(2008, 9, 2), datetime.date(2009, 8, 16), datetime.date(2009, 8, 21), datetime.date(2009, 11, 9), datetime.date(2010, 6, 30), datetime.date(2010, 7, 23), datetime.date(2010, 8, 10), datetime.date(2010, 8, 31), datetime.date(2010, 9, 29), datetime.date(2011, 7, 18), datetime.date(2011, 8, 25), datetime.date(2011, 9, 3), datetime.date(2011, 10, 28), datetime.date(2011, 11, 9), datetime.date(2012, 5, 28), datetime.date(2012, 6, 23), datetime.date(2012, 8, 25), datetime.date(2012, 10, 25), datetime.date(2015, 8, 30), datetime.date(2015, 10, 1), datetime.date(2016, 6, 6), datetime.date(2016, 9, 1), datetime.date(2016, 9, 14), datetime.date(2016, 10, 7), datetime.date(2017, 6, 21), datetime.date(2017, 7, 31), datetime.date(2017, 9, 10), datetime.date(2017, 10, 29)] \n",
      "\n",
      "Counter({9: 70, 8: 49, 10: 43, 6: 32, 7: 21, 11: 9, 5: 8, 2: 1, 4: 1, 12: 1}) \n",
      "\n",
      "dict_keys([8, 9, 10, 5, 2, 6, 7, 11, 4, 12]) \n",
      "\n",
      "[(1, 0), (2, 1), (3, 0), (4, 1), (5, 8), (6, 32), (7, 21), (8, 49), (9, 70), (10, 43), (11, 9), (12, 1)] \n",
      "\n"
     ]
    }
   ],
   "source": [
    "print(florida_hurricane_dates, '\\n')#hurricanes_each_dates)\n",
    "\n",
    "\n",
    "florida_hurricane_month = [i.month for i in florida_hurricane_dates]\n",
    "\n",
    "\n",
    "from collections import Counter\n",
    "\n",
    "hurricanes_each_dates = Counter(florida_hurricane_month)\n",
    "print(hurricanes_each_dates, '\\n')\n",
    "\n",
    "print(hurricanes_each_dates.keys(), '\\n')\n",
    "\n",
    "for i in range(1, 13):\n",
    "    if i not in hurricanes_each_dates.keys():\n",
    "        hurricanes_each_dates[i] = 0\n",
    "        \n",
    "print(sorted(hurricanes_each_dates.items()), '\\n')\n",
    "\n",
    "\n",
    "#print(dir(print(hurricanes_each_dates)))"
   ]
  },
  {
   "cell_type": "code",
   "execution_count": 47,
   "id": "ce6f18aa-6e43-431e-a55d-b1f63bce4166",
   "metadata": {},
   "outputs": [
    {
     "name": "stdout",
     "output_type": "stream",
     "text": [
      "{1: 0, 2: 1, 3: 0, 4: 1, 5: 8, 6: 32, 7: 21, 8: 49, 9: 70, 10: 43, 11: 9, 12: 1}\n"
     ]
    }
   ],
   "source": [
    "# A dictionary to count hurricanes per calendar month\n",
    "hurricanes_each_month = {1: 0, 2: 0, 3: 0, 4: 0, 5: 0, 6:0,\n",
    "\t\t  \t\t\t\t 7: 0, 8:0, 9:0, 10:0, 11:0, 12:0}\n",
    "\n",
    "# Loop over all hurricanes\n",
    "for hurricane in florida_hurricane_dates:\n",
    "    # Pull out the month\n",
    "    month = hurricane.month\n",
    "    # Increment the count in your dictionary by one\n",
    "    hurricanes_each_month[month] += 1\n",
    "    \n",
    "print(hurricanes_each_month)"
   ]
  },
  {
   "cell_type": "markdown",
   "id": "2c6ce498-2ca8-403f-b5d1-f4059201e86e",
   "metadata": {},
   "source": [
    "## Putting a list of dates in order\n",
    "\n",
    "Much like numbers and strings, date objects in Python can be put in order. Earlier dates come before later ones, and so we can sort a list of date objects from earliest to latest.\n",
    "\n",
    "What if our Florida hurricane dates had been scrambled? We've gone ahead and shuffled them so they're in random order and saved the results as dates_scrambled. Your job is to put them back in chronological order, and then print the first and last dates from this sorted list.\n",
    "Instructions 1/2\n",
    "50 XP\n",
    "\n",
    "    Question 1\n",
    "    Print the first and last dates in dates_scrambled.\n",
    "    \n",
    "    \n",
    "    \n",
    "    Question 2\n",
    "#    Sort dates_scrambled using Python's built-in \"sorted()\" method, and save the results to dates_ordered.\n",
    "    Print the first and last dates in dates_ordered.\n",
    "    "
   ]
  },
  {
   "cell_type": "code",
   "execution_count": 19,
   "id": "b8237e58-6c17-489c-a5d4-0d19eeaabadb",
   "metadata": {},
   "outputs": [
    {
     "name": "stdout",
     "output_type": "stream",
     "text": [
      "[datetime.date(1988, 8, 4), datetime.date(1990, 10, 12), datetime.date(2003, 4, 20)] \n",
      "\n",
      "['__add__', '__class__', '__class_getitem__', '__contains__', '__delattr__', '__delitem__', '__dir__', '__doc__', '__eq__', '__format__', '__ge__', '__getattribute__', '__getitem__', '__gt__', '__hash__', '__iadd__', '__imul__', '__init__', '__init_subclass__', '__iter__', '__le__', '__len__', '__lt__', '__mul__', '__ne__', '__new__', '__reduce__', '__reduce_ex__', '__repr__', '__reversed__', '__rmul__', '__setattr__', '__setitem__', '__sizeof__', '__str__', '__subclasshook__', 'append', 'clear', 'copy', 'count', 'extend', 'index', 'insert', 'pop', 'remove', 'reverse', 'sort'] \n",
      "\n",
      "[datetime.date(1950, 8, 31), datetime.date(1950, 9, 5), datetime.date(1950, 10, 18), datetime.date(1950, 10, 21), datetime.date(1951, 5, 18), datetime.date(1951, 10, 2), datetime.date(1952, 2, 3), datetime.date(1952, 8, 30), datetime.date(1953, 6, 6), datetime.date(1953, 8, 29)]\n"
     ]
    }
   ],
   "source": [
    "scrambled = [(1988, 8, 4), (1990, 10, 12), (2003, 4, 20), (1971, 9, 1), (1988, 8, 23), (1994, 8, 15), (2002, 8, 4), \n",
    " (1988, 5, 30), (2003, 9, 13), (2009, 8, 21), (1978, 6, 22), (1969, 6, 9), (1976, 6, 11), (1976, 8, 19), \n",
    " (1966, 6, 9), (1968, 7, 5), (1987, 11, 4), (1988, 8, 13), (2007, 12, 13), (1994, 11, 16), (2003, 9, 6), \n",
    " (1971, 8, 13), (1981, 8, 17), (1998, 9, 25), (1968, 9, 26), (1968, 6, 4), (1998, 11, 5), (2008, 8, 18),\n",
    " (1987, 8, 14), (1988, 11, 23), (2010, 9, 29), (1985, 7, 23), (2017, 7, 31), (1955, 8, 21), (1986, 6, 26),\n",
    " (1963, 10, 21), (2011, 10, 28), (2011, 11, 9), (1997, 7, 19), (2007, 6, 2), (2002, 9, 14), (1992, 9, 29),\n",
    " (1971, 10, 13), (1962, 8, 26), (1964, 8, 27), (1984, 9, 27), (1973, 9, 25), (1969, 10, 21), (1994, 7, 3),\n",
    " (1958, 9, 4), (1985, 11, 21), (2011, 9, 3), (1972, 6, 19), (1991, 6, 30), (2004, 8, 12), (2007, 9, 8),\n",
    " (1952, 2, 3), (1965, 9, 30), (2000, 9, 22), (2002, 9, 26), (1950, 9, 5), (1966, 10, 4), (1970, 5, 25),\n",
    " (1979, 9, 24), (1960, 9, 23), (2007, 8, 23), (2009, 8, 16), (1996, 10, 18), (2012, 10, 25), (2011, 8, 25),\n",
    " (1951, 5, 18), (1980, 8, 7), (1979, 9, 3), (1953, 9, 26), (1968, 10, 19), (2009, 11, 9), (1999, 8, 29),\n",
    " (2015, 10, 1), (2008, 9, 2), (2004, 10, 10), (2004, 9, 16), (1992, 8, 24), (2000, 9, 9), (1971, 9, 16),\n",
    " (1996, 9, 2), (1998, 9, 3), (1951, 10, 2), (1979, 9, 12), (2007, 10, 31), (1953, 10, 9), (1952, 8, 30),\n",
    " (1969, 9, 7), (2015, 8, 30), (1959, 10, 8), (2002, 7, 13), (1961, 10, 29), (2007, 5, 9), (2016, 10, 7), \n",
    " (1964, 9, 20), (1979, 7, 11), (1950, 10, 18), (2008, 8, 31), (2012, 8, 25), (1966, 7, 24), (2010, 8, 10), \n",
    " (2005, 8, 25), (2003, 6, 30), (1956, 7, 6), (1974, 9, 8), (1966, 6, 30), (2016, 9, 14), (1968, 6, 18),\n",
    " (1982, 9, 11), (1976, 9, 13), (1975, 7, 29), (2007, 9, 13), (1970, 9, 27), (1969, 10, 2), (2010, 8, 31),\n",
    " (1995, 10, 4), (1969, 8, 29), (1984, 10, 26), (1973, 9, 3), (1976, 5, 23), (2001, 11, 5), (2010, 6, 30),\n",
    " (1985, 10, 10), (1970, 7, 22), (1972, 5, 28), (1982, 6, 18), (2001, 8, 6), (1953, 8, 29), (1965, 9, 8),\n",
    " (1964, 9, 10), (1959, 10, 18), (1957, 6, 8), (1988, 9, 10), (2005, 6, 11), (1953, 6, 6), (2003, 8, 30),\n",
    " (2002, 10, 3), (1968, 8, 10), (1999, 10, 15), (2002, 9, 4), (2001, 6, 12), (2017, 9, 10), (2005, 10, 5),\n",
    " (2005, 7, 10), (1973, 6, 7), (1999, 9, 15), (2005, 9, 20), (1995, 6, 5), (2003, 7, 25), (2004, 9, 13), \n",
    " (1964, 6, 6), (1973, 6, 23), (2005, 9, 12), (2012, 6, 23), (1961, 9, 11), (1990, 5, 25), (2017, 6, 21),\n",
    " (1975, 6, 27), (1959, 6, 18), (2004, 9, 5), (1987, 10, 12), (1995, 7, 27), (1964, 10, 14), (1970, 8, 6), \n",
    " (1969, 10, 1), (1996, 10, 8), (1968, 8, 28), (1956, 10, 15), (1975, 9, 23), (1970, 9, 13), (1975, 10, 16),\n",
    " (1990, 10, 9), (2005, 10, 24), (1950, 8, 31), (2000, 10, 3), (2002, 10, 11), (1983, 8, 28), (1960, 7, 29), \n",
    " (1950, 10, 21), (1995, 8, 2), (1956, 9, 24), (2016, 9, 1), (1993, 6, 1), (1987, 9, 7), (2012, 5, 28),\n",
    " (1995, 8, 23), (1969, 8, 18), (2001, 9, 14), (2000, 8, 23), (1974, 10, 7), (1986, 8, 13), (1977, 8, 27),\n",
    " (2008, 7, 16), (1996, 7, 11), (1988, 9, 4), (1975, 10, 1), (2003, 8, 14), (1957, 9, 8), (2005, 7, 6),\n",
    " (1960, 9, 15), (1974, 9, 27), (1965, 6, 15), (1999, 9, 21), (2004, 8, 13), (1994, 10, 2), (1971, 8, 10),\n",
    " (2008, 7, 22), (2000, 9, 18), (1960, 9, 10), (2006, 6, 13), (2017, 10, 29), (1972, 9, 5), (1964, 10, 5),\n",
    " (1991, 10, 16), (1969, 9, 21), (1998, 9, 20), (1977, 9, 5), (1988, 9, 13), (1974, 6, 25), (2010, 7, 23),\n",
    " (2007, 9, 22), (1984, 9, 9), (1989, 9, 22), (1992, 6, 25), (1971, 8, 29), (1953, 9, 20), (1985, 8, 15),\n",
    " (2016, 6, 6), (2006, 8, 30), (1980, 11, 18), (2011, 7, 18)]\n",
    "\n",
    "\n",
    "\n",
    "dates_scrambled = [date(*i) for i in scrambled]\n",
    "\n",
    "print(dates_scrambled[:3], '\\n')\n",
    "\n",
    "print(dir(dates_scrambled), '\\n')\n",
    "\n",
    "\n",
    "print(sorted(dates_scrambled)[:10])"
   ]
  },
  {
   "cell_type": "markdown",
   "id": "78e25df5-b8b3-49d6-a671-af93ef2004fd",
   "metadata": {},
   "source": [
    "## Turning dates into strings\n",
    "\n",
    "\n",
    "\n",
    "\n",
    "\n",
    "\n",
    "\n",
    "**Python has a very flexible set of tools for turning dates back into strings to be easily read.  \n",
    "# We want to put dates back into strings when, for example, we want o print resualts, but also if we want to put dates into a filename, or if we want to write dates out to CSV or Excel files.  \n",
    "\n",
    "For example, lets create a date and see how Python prints it by default.  As before, we need to import date from datetime package, and lets again create a datetime object of November 5th, 2017 using \"date(2017, 11, 5)\" function.  And when we ask Python to print the date object ( ?????? ), it prints the year, the month and the day, separated by dashes, and always with 2 digits for the day and month.  We cansee this is probably a YYYY-MM-DD representing date information.  This is the default format which is also know as IOS format, or ISO 8601 format, after the international ISO 8601 that is based on.  The ISO 8601 strings are always the same length since month and day are written with 0s when they are less than 10.  We'll talk about another dvantage of ISO 8601 in a moment.  \n",
    "\n",
    "If we want the ISO representation of a date as a string, say to write it to a CSV file instead of just printing in, you can call the \"isoformat()\" method.  We can put the outcome inside a list or other containers so that you can see that it creates a string.  The ISO 8601 format has another nice advantage.  To demonstrate, we've created a variable called some_dates and represented 2 dates here as strings, January 1, 2000, and December 31, 1999.  The dates formatted as ISO 8601 strings sort correctly.  When we print the \"sorted()\" version of this list, the earlier day is first and teh later date is second.  \n",
    "\n",
    "For example if we use the ISO 8601 dates in file names, they can correctly sorted from earliest to latest.  If we had used month or day first, the strings would not sort in chronological order.  If you don't want to put dates in IOS 8601 format, Python has a flexible set of options for representing dates in other ways, using the \".strftime()\" method.  The \"strftime()\" method works by letting you pass a \"format string\" which Python uses to format your date.  Lets see an example.  ( also can you recall when we learned this skills?  in data science toolbox courses or ? )\n",
    "\n",
    "We again create an example date of January 5th, 2017.  \n",
    "# (so we created a datetime object or just that date? and why sometimes Python print a memory location reference of a object, and other times Python print out the contained data?)\n",
    "We than call \".strftime()\" method on d, with the format string of \"%Y\", the \"strftime()\" reads the %Y and fills in the year in this string for us.  Also the \"strftime()\" metgod is very flexible: we can give it arbitrary strings with %Y in them for the format string, and it will stick the year in.  Pretty interesting.  For example we can use the format string of \"Year is %Y\".  \n",
    "\n",
    "The \".strftime()\" metod has other placeholders besides %Y: %m gives the month, and %d gives the day of the month.  Using these we can represent dates in arbitrary formats for whatever our needs are.  \n",
    "\n",
    "\n",
    "\n",
    "In this lesson, we discussed how Python can represent a date as a string.  We emphasized the importance and utility of ISO 8601 format, but also introduced the \".strftime()\" method, which let you turn dates into a wide variety of strings depending on your needs.  \n",
    "\n"
   ]
  },
  {
   "cell_type": "code",
   "execution_count": 68,
   "id": "fe6aafc0-ef18-4113-941a-52529a57dd02",
   "metadata": {},
   "outputs": [
    {
     "name": "stdout",
     "output_type": "stream",
     "text": [
      "<class 'datetime.date'> \n",
      "\n",
      "2017-11-05 \n",
      "\n",
      "['2017-11-05']\n"
     ]
    }
   ],
   "source": [
    "from datetime import date\n",
    "\n",
    "\n",
    "# Example date\n",
    "d = date(2017, 11, 5)\n",
    "print(type(d), '\\n')\n",
    "\n",
    "print(d, '\\n')\n",
    "\n",
    "\n",
    "#l_d = list(d.isoformat())     # ['2', '0', '1', '7', '-', '1', '1', '-', '0', '5']\n",
    "#print(type(l_d), '\\n')\n",
    "print([d.isoformat()])\n"
   ]
  },
  {
   "cell_type": "markdown",
   "id": "6b795a71-4e3b-4c52-8b88-61fbf651785d",
   "metadata": {},
   "source": [
    "# *******************************************************************************************************************\n",
    "# *******************************************************************************************************************"
   ]
  },
  {
   "cell_type": "code",
   "execution_count": 17,
   "id": "c281d9ba-f366-4446-8e2d-033aa12d44e2",
   "metadata": {},
   "outputs": [
    {
     "name": "stdout",
     "output_type": "stream",
     "text": [
      "['1999-12-31', '2000-01-01']\n",
      "2000 01 01\n",
      "<map object at 0x7f6d7817fe80> \n",
      "\n",
      "2000-01-01\n",
      "\n",
      "\n",
      "Year is this: 2000\n"
     ]
    }
   ],
   "source": [
    "from datetime import date\n",
    "\n",
    "\n",
    "# A few dates that computers once had trouble with\n",
    "some_date = ['2000-01-01', '1999-12-31']\n",
    "\n",
    "print(sorted(some_date))\n",
    "\n",
    "\n",
    "print(*some_date[0].split('-'))\n",
    "\n",
    "dd = some_date[0].split('-')  #**************************************************************************************\n",
    "print(map(int, dd), '\\n')  #*****************************************************************************************\n",
    "\n",
    "print(date(*map(int, dd)))\n",
    "\n",
    "print('\\n')\n",
    "\n",
    "d = date(2000, 12, 23)\n",
    "print(d.strftime(\"Year is this: %Y\"))\n",
    "\n",
    "\n",
    "#print(datetime.strptime(some_date[0]).strftime().strftime(\"Year is %Y\"))"
   ]
  },
  {
   "cell_type": "code",
   "execution_count": 13,
   "id": "f3e5c829-68e0-426c-9965-5c11f0a070d4",
   "metadata": {},
   "outputs": [
    {
     "name": "stdout",
     "output_type": "stream",
     "text": [
      "['__add__', '__class__', '__contains__', '__delattr__', '__dir__', '__doc__', '__eq__', '__format__', '__ge__', '__getattribute__', '__getitem__', '__getnewargs__', '__gt__', '__hash__', '__init__', '__init_subclass__', '__iter__', '__le__', '__len__', '__lt__', '__mod__', '__mul__', '__ne__', '__new__', '__reduce__', '__reduce_ex__', '__repr__', '__rmod__', '__rmul__', '__setattr__', '__sizeof__', '__str__', '__subclasshook__', 'capitalize', 'casefold', 'center', 'count', 'encode', 'endswith', 'expandtabs', 'find', 'format', 'format_map', 'index', 'isalnum', 'isalpha', 'isascii', 'isdecimal', 'isdigit', 'isidentifier', 'islower', 'isnumeric', 'isprintable', 'isspace', 'istitle', 'isupper', 'join', 'ljust', 'lower', 'lstrip', 'maketrans', 'partition', 'removeprefix', 'removesuffix', 'replace', 'rfind', 'rindex', 'rjust', 'rpartition', 'rsplit', 'rstrip', 'split', 'splitlines', 'startswith', 'strip', 'swapcase', 'title', 'translate', 'upper', 'zfill'] \n",
      "\n",
      "Help on class map in module builtins:\n",
      "\n",
      "class map(object)\n",
      " |  map(func, *iterables) --> map object\n",
      " |  \n",
      " |  Make an iterator that computes the function using arguments from\n",
      " |  each of the iterables.  Stops when the shortest iterable is exhausted.\n",
      " |  \n",
      " |  Methods defined here:\n",
      " |  \n",
      " |  __getattribute__(self, name, /)\n",
      " |      Return getattr(self, name).\n",
      " |  \n",
      " |  __iter__(self, /)\n",
      " |      Implement iter(self).\n",
      " |  \n",
      " |  __next__(self, /)\n",
      " |      Implement next(self).\n",
      " |  \n",
      " |  __reduce__(...)\n",
      " |      Return state information for pickling.\n",
      " |  \n",
      " |  ----------------------------------------------------------------------\n",
      " |  Static methods defined here:\n",
      " |  \n",
      " |  __new__(*args, **kwargs) from builtins.type\n",
      " |      Create and return a new object.  See help(type) for accurate signature.\n",
      "\n",
      "None\n"
     ]
    }
   ],
   "source": [
    "print(dir(some_date[0]), '\\n')\n",
    "\n",
    "\n",
    "print(help(map))"
   ]
  },
  {
   "cell_type": "markdown",
   "id": "021e6d70-3b32-4d72-9b9a-0bdfcc3ec9d8",
   "metadata": {},
   "source": [
    "## Printing dates in a friendly format\n",
    "\n",
    "Because people may want to see dates in many different formats, Python comes with very flexible functions for turning date objects into strings.\n",
    "\n",
    "Let's see what event was recorded first in the Florida hurricane data set. In this exercise, you will format the earliest date in the \"florida_hurricane_dates\" list in two ways so you can decide which one you want to use: either the ISO standard or the typical US style.\n",
    "Instructions\n",
    "100 XP\n",
    "\n",
    "#    Assign the earliest date in florida_hurricane_dates to first_date.\n",
    "    Print first_date in the ISO standard. For example, December 1st, 2000 would be \"2000-12-01\".\n",
    "    Print first_date in the US style, using .strftime(). For example, December 1st, 2000 would be \"12/1/2000\".\n",
    "    \n",
    "Hint\n",
    "\n",
    "    Finding the earliest date can be done the same way you find the smallest number, using the min() function.\n",
    "    You can use the .isoformat() method to convert the date into ISO format.\n",
    "    When formatting dates, \"%Y\", \"%m\" and \"%d\" correspond to the year, month, and day of the month, respectively.\n"
   ]
  },
  {
   "cell_type": "code",
   "execution_count": 24,
   "id": "ebc59c17-2a41-4cc9-98c6-86e43b03ad6e",
   "metadata": {},
   "outputs": [
    {
     "name": "stdout",
     "output_type": "stream",
     "text": [
      "ISO: Our earliest hurricane date: 1950-08-31\n",
      "US: Our earliest hurricane date: 08/31/1950\n"
     ]
    }
   ],
   "source": [
    "florida_hurricane_dates = [date(*i) for i in scrambled]\n",
    "\n",
    "\n",
    "\n",
    "# Assign the earliest date to first_date\n",
    "first_date = min(florida_hurricane_dates)\n",
    "\n",
    "# Convert to ISO and US formats\n",
    "iso = \"Our earliest hurricane date: \" + first_date.strftime(\"%Y-%m-%d\")  # \".isoformat()\" ###########################\n",
    "us = \"Our earliest hurricane date: \" + first_date.strftime(\"%m/%d/%Y\")\n",
    "\n",
    "print(\"ISO: \" + iso)\n",
    "print(\"US: \" + us)"
   ]
  },
  {
   "cell_type": "code",
   "execution_count": null,
   "id": "fbf7f3aa-5e83-43aa-b300-ef3707723f73",
   "metadata": {},
   "outputs": [],
   "source": [
    "# Assign the earliest date to first_date\n",
    "first_date = min(florida_hurricane_dates)\n",
    "\n",
    "# Convert to ISO and US formats\n",
    "iso = \"Our earliest hurricane date: \" + first_date.isoformat()\n",
    "us = \"Our earliest hurricane date: \" + first_date.strftime(\"%m/%d/%Y\")\n",
    "\n",
    "print(\"ISO: \" + iso)\n",
    "print(\"US: \" + us)"
   ]
  },
  {
   "cell_type": "markdown",
   "id": "75920b79-9927-49cc-85c6-d9262070840e",
   "metadata": {},
   "source": [
    "## Representing dates in different ways\n",
    "\n",
    "date objects in Python have a great number of ways they can be printed out as strings. In some cases, you want to know the date in a clear, language-agnostic format. In other cases, you want something which can fit into a paragraph and flow naturally.\n",
    "\n",
    "Let's try printing out the same date, August 26, 1992 (the day that Hurricane Andrew made landfall in Florida), in a number of different ways, to practice using the \".strftime()\" method.\n",
    "\n",
    "A date object called andrew has already been created.\n",
    "Instructions 1/3\n",
    "35 XP\n",
    "\n",
    "    Question 1\n",
    "    Print andrew in the format 'YYYY-MM'.\n",
    "    \n",
    "    \n",
    "    \n",
    "    Question 2\n",
    "#    Print andrew in the format 'MONTH (YYYY)', using %B for the month's full name, which in this case will be August.\n",
    "    \n",
    "    \n",
    "    \n",
    "    Question 3\n",
    "#    Print andrew in the format 'YYYY-DDD' (where DDD is the day of the year) using %j.\n",
    "    "
   ]
  },
  {
   "cell_type": "code",
   "execution_count": 27,
   "id": "01c60d2a-502a-4b78-a57b-bc5be3496569",
   "metadata": {},
   "outputs": [
    {
     "name": "stdout",
     "output_type": "stream",
     "text": [
      "1992-08\n",
      "MONTH August\n",
      "1992-239\n"
     ]
    }
   ],
   "source": [
    "# Import date\n",
    "from datetime import date\n",
    "\n",
    "# Create a date object\n",
    "andrew = date(1992, 8, 26)\n",
    "\n",
    "# Print the date in the format 'YYYY-MM'\n",
    "print(andrew.strftime(\"%Y-%m\"))\n",
    "\n",
    "\n",
    "print(andrew.strftime(\"MONTH %B\"))\n",
    "\n",
    "\n",
    "print(andrew.strftime(\"%Y-%j\"))"
   ]
  },
  {
   "cell_type": "markdown",
   "id": "7a73b72a-f530-46c1-9dc1-64c28570e6bb",
   "metadata": {},
   "source": [
    "## Dates and times\n",
    "\n",
    "\n",
    "\n",
    "\n",
    "\n",
    "\n",
    "**In this chapter, you are going to move from only working with dates to working with both dates and times: the calendar day and time on the clock within that day.  As always, lets start with an example.  \n",
    "\n",
    "# Here is an example of a date and a time together: October 1, 2017, at 3:23:25 PM.  \n",
    "Unlike before, where we were only working with the date, we're now going to also include the time.  Lets see how to represent this in Python.  The first thing we have to do is import the datetime from the datetime package.  Yes, \"from datetime import datetime\".  Ideally, these would have different names, but unfortunately for historical reasons they have the same name.  This is just something to get used to.  \n",
    "\n",
    "We're going to create a datetime called \"dt\" and populate the fields together.  The first 3 arguments to the datetime class are exactly the same as the date class.  Year, then month, then day, each as a number.  Next, we fill in the hour, computers generallyuse 24 hour time, meaning that 3 PM is represented as hour 15 of 24.  We then put in the minutes, 23 out of 60.  And finally, the seconds.  The \"October 1, 2017 at 3:23:25 PM\" is represented as a datetime in Python as \"datetime(2017, 11, 1, 15, 23, 25)\".  \n",
    "\n",
    "All of these arguments need to be whole numbers; if you want to represent 0.5 seconds, you can add microseconds to your datetime after the second arg.  Below we added 500,000 microseconds, or 0.5 seconds.  That is Python breaks seconds down into millionths of a second for you when you need that kind of precision.  If you need billionths of a second precision (which happens sometimes in science and finance) We'll cover nanoseconds when we get to Pandas at the end of this course.  Python defaults to 0 microseconds if you dont include it.  Thats a lot of arguments; if it helps, you can always be more explicit and use named arguments.  \n",
    "\n",
    "We can also make new datetime from existing one by using the \".replace()\" method.  For example, we can take datetime we just made, and make a new one which has the same date, but is rounded down to the start of the hour.  We call \"dt.replace(minutes=0, second=0, microsecond=0)\", this creates a new datetime with the same values in all the other fields, but those ones we changed with \".replace()\" method.  \n",
    "\n",
    "\n",
    "\n",
    "\n",
    "Before we wrap up, lets talk about the data we will use for the rest of this course.  You will be working with data from Capital Bikeshare, the oldest municipal shared bike program in the US.  Throughout the Washington DC area, you will find these special bike docks where riders can pay to take a bike, ride it, and return to this or any other station in the network.  We will be following one bike, ID number \"W20529\", on all the trips it took in October, November, and December of 2017.  Each trip consisted of a date and time when a bike was undocked from a station, then times passed, and the date and time when \"W20529\" was docked again.  \n",
    "\n",
    "\n",
    "\n",
    "In this video, we walked through how to create datetime objects in Python.  You're going to practice that in the exercises, and also work with the Capital Bikeshare data and see how we can use Python to understand the trips that \"W20529\" took throughout the 3 months that we're interested in.  \n",
    "\n",
    "\n"
   ]
  },
  {
   "cell_type": "code",
   "execution_count": 33,
   "id": "55dfbf3e-8bfb-42a3-915c-8f4b661d7ec4",
   "metadata": {},
   "outputs": [
    {
     "name": "stdout",
     "output_type": "stream",
     "text": [
      "2017-11-01 15:23:25 \n",
      "\n",
      "2017-11-01 15:23:25.500000 \n",
      "\n",
      "2017-11-01 15:23:25.500000\n",
      "2017-11-01 15:00:00\n"
     ]
    }
   ],
   "source": [
    "from datetime import date, datetime\n",
    "\n",
    "\n",
    "# October 1, 2017, at 3:23:25 PM\n",
    "dt = datetime(2017, 11, 1, 15, 23, 25)\n",
    "\n",
    "print(dt, '\\n')\n",
    "\n",
    "\n",
    "\n",
    "# October 1, 2017, at 3:23:25 PM\n",
    "dt = datetime(2017, 11, 1, 15, 23, 25, 500000)\n",
    "\n",
    "print(dt, '\\n')\n",
    "\n",
    "\n",
    "# October 1, 2017, at 3:23:25 PM\n",
    "dt = datetime(year=2017, month=11, day=1, hour=15, minute=23, second=25, microsecond=500000)\n",
    "print(dt)\n",
    "\n",
    "\n",
    "\n",
    "dt = dt.replace(minute=0, second=0, microsecond=0)\n",
    "print(dt)"
   ]
  },
  {
   "cell_type": "markdown",
   "id": "af3c4a99-44cc-47b5-a6d5-519358e582a4",
   "metadata": {},
   "source": [
    "## Creating datetimes by hand\n",
    "\n",
    "# Often you create datetime objects based on outside data. \n",
    "Sometimes though, you want to create a datetime object from scratch.\n",
    "\n",
    "You're going to create a few different datetime objects from scratch to get the hang of that process. These come from the bikeshare data set that you'll use throughout the rest of the chapter.\n",
    "Instructions 1/3\n",
    "50 XP\n",
    "\n",
    "    Question 1\n",
    "    Import the datetime class.\n",
    "    Create a datetime for October 1, 2017 at 15:26:26.\n",
    "    Print the results in ISO format.\n",
    "    \n",
    "    \n",
    "    \n",
    "    Question 2\n",
    "    Import the datetime class.\n",
    "    Create a datetime for December 31, 2017 at 15:19:13.\n",
    "    Print the results in ISO format.\n",
    "    \n",
    "    \n",
    "    \n",
    "    Question 3\n",
    "    Create a new datetime by replacing the year in dt with 1917 (instead of 2017)\n",
    "    \n",
    "Hint\n",
    "\n",
    "    The syntax for importing a class from a module is from <module> import <class>.\n",
    "    datetime takes six numbers: year, month, day, hour, minute, second.\n",
    "    .isoformat() gives the ISO 8601 format string.\n"
   ]
  },
  {
   "cell_type": "code",
   "execution_count": 4,
   "id": "81636eeb-c68b-458e-9562-1a5f46bea69c",
   "metadata": {},
   "outputs": [
    {
     "name": "stdout",
     "output_type": "stream",
     "text": [
      "            Start date             End date  Start station number  \\\n",
      "0  2017-10-01 15:23:25  2017-10-01 15:26:26                 31038   \n",
      "1  2017-10-01 15:42:57  2017-10-01 17:49:59                 31036   \n",
      "2  2017-10-02 06:37:10  2017-10-02 06:42:53                 31036   \n",
      "3  2017-10-02 08:56:45  2017-10-02 09:18:03                 31037   \n",
      "4  2017-10-02 18:23:48  2017-10-02 18:45:05                 31295   \n",
      "\n",
      "                          Start station  End station number  \\\n",
      "0                  Glebe Rd & 11th St N               31036   \n",
      "1         George Mason Dr & Wilson Blvd               31036   \n",
      "2         George Mason Dr & Wilson Blvd               31037   \n",
      "3  Ballston Metro / N Stuart & 9th St N               31295   \n",
      "4                     Potomac & M St NW               31230   \n",
      "\n",
      "                            End station Bike number Member type  \n",
      "0         George Mason Dr & Wilson Blvd      W20529      Member  \n",
      "1         George Mason Dr & Wilson Blvd      W20529      Casual  \n",
      "2  Ballston Metro / N Stuart & 9th St N      W20529      Member  \n",
      "3                     Potomac & M St NW      W20529      Member  \n",
      "4         Metro Center / 12th & G St NW      W20529      Member   \n",
      "\n",
      "2017-12-31T15:19:13\n",
      "1917-12-31 15:19:13\n"
     ]
    }
   ],
   "source": [
    "import pandas as pd\n",
    "\n",
    "\n",
    "bike = pd.read_csv('capital-onebike.csv')\n",
    "\n",
    "print(bike.head(), '\\n')\n",
    "\n",
    "\n",
    "\n",
    "# Import datetime\n",
    "from datetime import datetime\n",
    "\n",
    "# Create a datetime object\n",
    "dt = datetime(2017, 12, 31, 15, 19, 13)\n",
    "\n",
    "# Print the results in ISO 8601 format\n",
    "print(dt.isoformat())\n",
    "\n",
    "\n",
    "\n",
    "dt = dt.replace(year=1917)\n",
    "print(dt)"
   ]
  },
  {
   "cell_type": "markdown",
   "id": "df61c509-5139-4cec-8af2-cf0320f69018",
   "metadata": {},
   "source": [
    "## Counting events before and after noon\n",
    "\n",
    "In this chapter, you will be working with a list of all bike trips for one Capital Bikeshare bike, W20529, from October 1, 2017 to December 31, 2017. This list has been loaded as \"onebike_datetimes\".\n",
    "\n",
    "Each element of the list is a dictionary with two entries: start is a datetime object corresponding to the start of a trip (when a bike is removed from the dock) and end is a datetime object corresponding to the end of a trip (when a bike is put back into a dock).\n",
    "\n",
    "You can use this data set to understand better how this bike was used. Did more trips start before noon or after noon?\n",
    "Instructions\n",
    "100 XP\n",
    "\n",
    "    Within the for loop, complete the if statement to check if the trip started before noon.\n",
    "    Within the for loop, increment trip_counts['AM'] if the trip started before noon, and trip_counts['PM'] if it started after noon.\n"
   ]
  },
  {
   "cell_type": "code",
   "execution_count": 24,
   "id": "26905326-ea43-4948-9203-73dd8a1837d1",
   "metadata": {},
   "outputs": [
    {
     "name": "stdout",
     "output_type": "stream",
     "text": [
      "           Start date            End date  Start station number  \\\n",
      "0 2017-10-01 15:23:25 2017-10-01 15:26:26                 31038   \n",
      "1 2017-10-01 15:42:57 2017-10-01 17:49:59                 31036   \n",
      "2 2017-10-02 06:37:10 2017-10-02 06:42:53                 31036   \n",
      "3 2017-10-02 08:56:45 2017-10-02 09:18:03                 31037   \n",
      "4 2017-10-02 18:23:48 2017-10-02 18:45:05                 31295   \n",
      "\n",
      "                          Start station  End station number  \\\n",
      "0                  Glebe Rd & 11th St N               31036   \n",
      "1         George Mason Dr & Wilson Blvd               31036   \n",
      "2         George Mason Dr & Wilson Blvd               31037   \n",
      "3  Ballston Metro / N Stuart & 9th St N               31295   \n",
      "4                     Potomac & M St NW               31230   \n",
      "\n",
      "                            End station Bike number Member type  \n",
      "0         George Mason Dr & Wilson Blvd      W20529      Member  \n",
      "1         George Mason Dr & Wilson Blvd      W20529      Casual  \n",
      "2  Ballston Metro / N Stuart & 9th St N      W20529      Member  \n",
      "3                     Potomac & M St NW      W20529      Member  \n",
      "4         Metro Center / 12th & G St NW      W20529      Member   \n",
      "\n",
      "<class 'pandas.core.frame.DataFrame'>\n",
      "RangeIndex: 290 entries, 0 to 289\n",
      "Data columns (total 8 columns):\n",
      " #   Column                Non-Null Count  Dtype         \n",
      "---  ------                --------------  -----         \n",
      " 0   Start date            290 non-null    datetime64[ns]\n",
      " 1   End date              290 non-null    datetime64[ns]\n",
      " 2   Start station number  290 non-null    int64         \n",
      " 3   Start station         290 non-null    object        \n",
      " 4   End station number    290 non-null    int64         \n",
      " 5   End station           290 non-null    object        \n",
      " 6   Bike number           290 non-null    object        \n",
      " 7   Member type           290 non-null    object        \n",
      "dtypes: datetime64[ns](2), int64(2), object(4)\n",
      "memory usage: 18.2+ KB\n",
      "None\n",
      "[{'start': Timestamp('2017-10-01 15:23:25'), 'end': Timestamp('2017-10-01 15:26:26')}, {'start': Timestamp('2017-10-01 15:42:57'), 'end': Timestamp('2017-10-01 17:49:59')}, {'start': Timestamp('2017-10-02 06:37:10'), 'end': Timestamp('2017-10-02 06:42:53')}] \n",
      "\n",
      "[15, 15, 6]\n"
     ]
    }
   ],
   "source": [
    "from datetime import datetime\n",
    "import pandas as pd\n",
    "\n",
    "\n",
    "print(bike.head(), '\\n')\n",
    "\n",
    "#print(dir(bike[\"Start date\"]), '\\n')\n",
    "#print(help(bike[\"Start date\"].transform))\n",
    "#print(help(bike[\"Start date\"].astype))\n",
    "#print(help(bike[[\"Start date\"]].to_datetime))  #********************************************************************\n",
    "bike[\"Start date\"] = pd.to_datetime(bike[\"Start date\"])\n",
    "bike[\"End date\"] = pd.to_datetime(bike[\"End date\"])\n",
    "\n",
    "\n",
    "#bike[\"Start date\"] = bike[\"Start date\"].astype(\"datetime\")\n",
    "#bike[\"Start date\"] = bike[\"Start date\"].transform(datetime)\n",
    "\n",
    "#datetime.strftime(bike[[\"Start date\", \"End date\"]])\n",
    "# TypeError: descriptor 'strftime' for 'datetime.date' objects doesn't apply to a 'DataFrame' object\n",
    "\n",
    "print(bike.info())\n",
    "\n",
    "\n",
    "\n",
    "#bike_dt = {j[0]:j[1] for i,j in bike.iterrows()}   #****************************************************************\n",
    "#####################################################################################################################\n",
    "#####################################################################################################################\n",
    "bike_dt = [{'start': j[0], 'end': j[1]} for i,j in bike.iterrows()]   #**********************************************\n",
    "\n",
    "\n",
    "print(bike_dt[:3], '\\n')   #.keys()\n",
    "\n",
    "print([i['start'].hour for i in bike_dt[:3]])   #####################################################################"
   ]
  },
  {
   "cell_type": "code",
   "execution_count": 25,
   "id": "0137bd4f-9c6a-4cde-910d-4738d50b81f1",
   "metadata": {},
   "outputs": [
    {
     "name": "stdout",
     "output_type": "stream",
     "text": [
      "{'AM': 94, 'PM': 196}\n"
     ]
    }
   ],
   "source": [
    "# Create dictionary to hold results\n",
    "trip_counts = {'AM': 0, 'PM': 0}\n",
    "  \n",
    "# Loop over all trips\n",
    "for trip in bike_dt:\n",
    "    # Check to see if the trip starts before noon\n",
    "    if trip['start'].hour < 12:\n",
    "        # Increment the counter for before noon\n",
    "        trip_counts['AM'] += 1\n",
    "    else:\n",
    "        # Increment the counter for after noon\n",
    "        trip_counts['PM'] += 1\n",
    "        \n",
    "print(trip_counts)"
   ]
  },
  {
   "cell_type": "code",
   "execution_count": null,
   "id": "30a13dcc-e086-40ad-90ce-309d6b5f2376",
   "metadata": {},
   "outputs": [],
   "source": [
    "# *******************************************************************************************************************\n",
    "# In Clearning data in Python course, we learned this approach and many others.  Can you recall it\n",
    "\n",
    "\n",
    "\n",
    "pd.to_datetime() can recognize most formats automatically\n",
    "\n",
    "# Converts to datetime - but won't work cause the error data day-day-year\n",
    "birthdays['Birthday'] = pd.to_datetime(birthdays['Birthday'])\n",
    "    ValueError: month must be in 1..12\n",
    "\n",
    "# Will work\n",
    "birthday['Birthday'] = pd.to_datetime(birthday['Birthday'],   #######################################################\n",
    "                                      # Attempt to infer format of each date\n",
    "                                      infer_datetime_format=True,   #++++++++++++++++++++++++++++++++++++++++++++++++\n",
    "                                      # Return NA fpr rows where conversion failed\n",
    "                                      errors='coerce')   #+++++++++++++++++++++++++++++++++++++++++++++++++++++++++++"
   ]
  },
  {
   "cell_type": "markdown",
   "id": "f34d5852-41ae-41d8-bf52-bc373d00ea03",
   "metadata": {},
   "source": [
    "## Printing and parsing datetimes\n",
    "\n",
    "\n",
    "\n",
    "\n",
    "\n",
    "\n",
    "# **Much like dates, datetimes can be printed in many ways.  Python also has another trick: you can take a string and turn it directly into a datetime.  \n",
    "\n",
    "Lets start with printing dates and then move on to asking Python to parse them.  First lets create a datetime again.  As what we did before, creteing the variable dt corresponding to December 30, 2017 at 15:19:13, the end of the last trip that W20529 takes in our dataset.  Just like date objects, we use the \".strftime()\" method to create a string with a particular format.  First. we'll just print out the year, month and day, using the same format codes we used for dates.  %Y stands for the 4 digits year, %m for the month, and %d for the day of the month.  \n",
    "\n",
    "Now we can add in the hours, minutes and seconds.  Again, we print the year, month and day, and now we add 3 more format codes: %H gives us the hour, %M gives us the minutes, and %S gives us the second.  There are also format codes for 12-hour clocks, and for printing the correct AM or PM.  As before, we can make these formatting strings as complicated as we need.  Here is another version of the previous string.  Finally we can use the \".isoformat()\" method, just like dates, to get a standard-compliant way of writing down a datetime.  \n",
    "\n",
    "\n",
    "The officially correctly way of writing a datetime is the year, month, day then a capital T, then the time in 24 hour time, followed by the minute and second.  When is doubt, this is a good format to use.  We can also parse dates from trings, using the same format codes we used for printing.  You'll use this often when getting date and time data from the internet, since dates and timesare often represented as atrings.  \n",
    "\n",
    "\n",
    "# *******************************************************************************************************************\n",
    "# \"datetime.strptime()\" function\n",
    "We start as before, by importing the datetime class.  The method we're going to use is called \"datetime.strftime()\" function, which is a short for string parse time.  The \"datetime.strptime()\" function takes 2 arguments: the first argument is the string to turn into a datetime, and the second argument is the format strin that says how to do so.  First we pass the string we want to parse.  In this case, a string representing December 30, 2017, at 15:19:13.  Then we pass the format string which, as mentioned before uses the same format code we used for the \".strftime()\" method. In this case, first the month, then the day, then the year, all separated by slashes, then a space, and then the hour, minutes, and seconds separated by colons.  You usually need to figure this out once per dataset.  \n",
    "\n",
    "If we look and see what kind of object we've made, by printing the type of dt, we see that we've got a datetime.  And \n",
    "# if we print that datetime, we get a string representation of the datetime.  (str representation of obj or location)\n",
    "We can see that the parsing worked correctly.  We need an exact match to do string conversion.  For example, if we leave out how to parse the time, Python will throw an error.  And similarly, if there is  errant comma or other symbols, \"datetime.strptime()\" function will not perfor as expected.  \n",
    "\n",
    "\n",
    "Finally, these is another kind of datetime you will sometimes encounter: the Unix timestamp.  Many computers store datetime information behind the scense as the number of the seconds since January 1, 1970.  This date is largely considered the birth of modern-style computers.  To read a Unix timestamp use the \"datetime.fromtimestamp()\" method.  Python will read your timestamp and return a datetime.  \n",
    "\n",
    "\n",
    "\n",
    "We've just covered how to use format codes to turn datetime into strings and strings into datetimes, and what ISO 8601 format looks like with time involved.  Now you're practice moving back and forth between strings and datetimes.  \n",
    "\n"
   ]
  },
  {
   "cell_type": "code",
   "execution_count": 29,
   "id": "d1fb9cab-4b26-4250-b3b3-4984d41930bc",
   "metadata": {},
   "outputs": [
    {
     "name": "stdout",
     "output_type": "stream",
     "text": [
      "2017-12-30 15:19:13\n",
      "2017-12-30T15:19:13\n"
     ]
    }
   ],
   "source": [
    "print(bike_dt[-1]['end'])   #########################################################################################\n",
    "\n",
    "\n",
    "end_dt = bike_dt[-1]['end']\n",
    "\n",
    "end_dt_str = end_dt.isoformat()\n",
    "#end_dt_str = end_dt.strftime('%Y-%m-%d %hour:%min')\n",
    "\n",
    "print(end_dt_str)"
   ]
  },
  {
   "cell_type": "code",
   "execution_count": 30,
   "id": "e926624a-04e9-4c73-8406-d4c85d518ab0",
   "metadata": {},
   "outputs": [
    {
     "name": "stdout",
     "output_type": "stream",
     "text": [
      "Help on method strftime in module pandas._libs.tslibs.timestamps:\n",
      "\n",
      "strftime(format) method of pandas._libs.tslibs.timestamps.Timestamp instance\n",
      "    Timestamp.strftime(format)\n",
      "    \n",
      "    Return a string representing the given POSIX timestamp\n",
      "    controlled by an explicit format string.\n",
      "    \n",
      "    Parameters\n",
      "    ----------\n",
      "    format : str\n",
      "        Format string to convert Timestamp to string.\n",
      "        See strftime documentation for more information on the format string:\n",
      "        https://docs.python.org/3/library/datetime.html#strftime-and-strptime-behavior.\n",
      "    \n",
      "    Examples\n",
      "    --------\n",
      "    >>> ts = pd.Timestamp('2020-03-14T15:32:52.192548651')\n",
      "    >>> ts.strftime('%Y-%m-%d %X')\n",
      "    '2020-03-14 15:32:52'\n",
      "\n",
      "None\n"
     ]
    }
   ],
   "source": [
    "print(help(end_dt.strftime))"
   ]
  },
  {
   "cell_type": "code",
   "execution_count": 44,
   "id": "f626c84e-33c3-482c-ada2-bee8df4dd73e",
   "metadata": {},
   "outputs": [
    {
     "name": "stdout",
     "output_type": "stream",
     "text": [
      "2017-12-30 15:19:13\n",
      "2017-12-30 15:19:13\n",
      "Date is: 2017-12-30 at 15:19:13\n",
      "2017-12-30 15:19:13\n"
     ]
    }
   ],
   "source": [
    "end_dt_str = end_dt.strftime('%Y-%m-%d %X')\n",
    "print(end_dt_str)\n",
    "\n",
    "end_dt_str = end_dt.strftime('%Y-%m-%d %H:%M:%S')\n",
    "print(end_dt_str)\n",
    "\n",
    "end_dt_str = end_dt.strftime('Date is: %Y-%m-%d at %H:%M:%S')\n",
    "print(end_dt_str)\n",
    "\n",
    "\n",
    "dt = datetime.strptime('12/30/2017 15:19:13', '%m/%d/%Y %H:%M:%S')  #################################################\n",
    "# ValueError: time data '12/30/2017 15:19:13' does not match format 'Date is: %Y-%m-%d at %H:%M:%S'\n",
    "# ValueError: time data '12/30/2017 15:19:13' does not match format '%m-%d-%Y %H:%M:%S'\n",
    "print(dt)"
   ]
  },
  {
   "cell_type": "code",
   "execution_count": 45,
   "id": "96f92779-e6b1-4155-9597-7f24f43d283b",
   "metadata": {},
   "outputs": [
    {
     "name": "stdout",
     "output_type": "stream",
     "text": [
      "2017-12-30 15:19:13\n"
     ]
    }
   ],
   "source": [
    "ts = 1514665153.0\n",
    "\n",
    "# Convert to datetime and print\n",
    "print(datetime.fromtimestamp(ts))"
   ]
  },
  {
   "cell_type": "markdown",
   "id": "047069c3-98f7-4c92-adab-d56aa475e8d3",
   "metadata": {},
   "source": [
    "## Turning strings into datetimes\n",
    "\n",
    "When you download data from the Internet, dates and times usually come to you as strings. Often the first step is to turn those strings into datetime objects.\n",
    "\n",
    "In this exercise, you will practice this transformation.\n",
    "Reference\t\n",
    "%Y\t4 digit year (0000-9999)\n",
    "%m\t2 digit month (1-12)\n",
    "%d\t2 digit day (1-31)\n",
    "%H\t2 digit hour (0-23)\n",
    "%M\t2 digit minute (0-59)\n",
    "%S\t2 digit second (0-59)\n",
    "Instructions 1/3\n",
    "35 XP\n",
    "\n",
    "    Question 1\n",
    "    Determine the format needed to convert s to datetime and assign it to fmt.\n",
    "    Convert the string s to datetime using fmt.\n",
    "    \n",
    "    \n",
    "    \n",
    "    Question 2\n",
    "    Determine the format needed to convert s to datetime and assign it to fmt.\n",
    "    Convert the string s to datetime using fmt.\n",
    "    \n",
    "    \n",
    "    \n",
    "    Question 3\n",
    "    Determine the format needed to convert s to datetime and assign it to fmt.\n",
    "    Convert the string s to datetime using fmt.\n"
   ]
  },
  {
   "cell_type": "code",
   "execution_count": null,
   "id": "fde19a84-ec7a-43e0-9c51-19860876e376",
   "metadata": {},
   "outputs": [],
   "source": []
  },
  {
   "cell_type": "code",
   "execution_count": null,
   "id": "86387dda-49a9-4082-9a04-4c7a2604d6a4",
   "metadata": {},
   "outputs": [],
   "source": [
    "# Import the datetime class\n",
    "from datetime import datetime\n",
    "\n",
    "# Starting string, in YYYY-MM-DD HH:MM:SS format\n",
    "s = '2017-02-03 00:00:01'\n",
    "\n",
    "# Write a format string to parse s\n",
    "fmt = '____'\n",
    "\n",
    "# Create a datetime object d\n",
    "d = datetime.____(____, ____)\n",
    "\n",
    "# Print d\n",
    "print(d)"
   ]
  },
  {
   "cell_type": "code",
   "execution_count": null,
   "id": "1cb5f686-7d07-4429-a3b5-617b40f59dae",
   "metadata": {},
   "outputs": [],
   "source": []
  },
  {
   "cell_type": "code",
   "execution_count": null,
   "id": "5de97b5c-bb5b-4efa-8051-37068b22f33c",
   "metadata": {},
   "outputs": [],
   "source": []
  },
  {
   "cell_type": "code",
   "execution_count": null,
   "id": "2462c370-4fed-444b-bb26-ab7e5efcd3d6",
   "metadata": {},
   "outputs": [],
   "source": []
  },
  {
   "cell_type": "code",
   "execution_count": null,
   "id": "cc236e65-34be-4b62-a15a-d0526ebfc7e8",
   "metadata": {},
   "outputs": [],
   "source": []
  },
  {
   "cell_type": "code",
   "execution_count": null,
   "id": "64f589fc-34ec-40fc-9160-4fa37cc253de",
   "metadata": {},
   "outputs": [],
   "source": []
  },
  {
   "cell_type": "code",
   "execution_count": null,
   "id": "de02c153-def4-4840-9f97-82ed4de08a71",
   "metadata": {},
   "outputs": [],
   "source": []
  },
  {
   "cell_type": "code",
   "execution_count": null,
   "id": "4e43d6cf-7350-41ba-9546-e87f2d1fed0e",
   "metadata": {},
   "outputs": [],
   "source": []
  },
  {
   "cell_type": "code",
   "execution_count": null,
   "id": "06408628-cbfa-4ea3-9d0b-5cccd41d1e91",
   "metadata": {},
   "outputs": [],
   "source": []
  },
  {
   "cell_type": "code",
   "execution_count": null,
   "id": "4900894c-c892-47c2-8d59-d01eb09b97b0",
   "metadata": {},
   "outputs": [],
   "source": []
  },
  {
   "cell_type": "code",
   "execution_count": null,
   "id": "9ee7f102-31e6-4ba4-a334-bd999113fcb3",
   "metadata": {},
   "outputs": [],
   "source": []
  },
  {
   "cell_type": "code",
   "execution_count": null,
   "id": "5cc3c730-f69c-4cdf-b66e-c010e48dfab2",
   "metadata": {},
   "outputs": [],
   "source": []
  },
  {
   "cell_type": "code",
   "execution_count": null,
   "id": "4a040591-1f22-48ef-8c72-3d85625c9bd9",
   "metadata": {},
   "outputs": [],
   "source": []
  },
  {
   "cell_type": "code",
   "execution_count": null,
   "id": "5dbe9252-357b-4fc5-a001-59ccf12ab8b6",
   "metadata": {},
   "outputs": [],
   "source": []
  },
  {
   "cell_type": "code",
   "execution_count": null,
   "id": "f4b393e1-6294-447c-ba81-98fae54d994f",
   "metadata": {},
   "outputs": [],
   "source": []
  },
  {
   "cell_type": "code",
   "execution_count": null,
   "id": "bd37962e-7653-4c73-b447-43e0aa0c5438",
   "metadata": {},
   "outputs": [],
   "source": []
  },
  {
   "cell_type": "code",
   "execution_count": null,
   "id": "5b8d2430-710e-4714-b6c0-02018c17ba62",
   "metadata": {},
   "outputs": [],
   "source": []
  },
  {
   "cell_type": "code",
   "execution_count": null,
   "id": "5127c4d1-e894-4835-8f8f-e63d9cdaa23b",
   "metadata": {},
   "outputs": [],
   "source": []
  },
  {
   "cell_type": "code",
   "execution_count": null,
   "id": "1540baf5-e53e-48b3-83de-8f415d86f5f5",
   "metadata": {},
   "outputs": [],
   "source": []
  },
  {
   "cell_type": "code",
   "execution_count": null,
   "id": "7ea49326-b252-4a5e-a960-4d90053529ed",
   "metadata": {},
   "outputs": [],
   "source": []
  },
  {
   "cell_type": "code",
   "execution_count": null,
   "id": "27616a94-3cf3-4c97-adde-cd893765443e",
   "metadata": {},
   "outputs": [],
   "source": []
  },
  {
   "cell_type": "code",
   "execution_count": null,
   "id": "d3b1202d-c52c-409f-8729-ab7683648830",
   "metadata": {},
   "outputs": [],
   "source": []
  },
  {
   "cell_type": "code",
   "execution_count": null,
   "id": "f14c73a8-19aa-48f1-ad9e-f6063cba5728",
   "metadata": {},
   "outputs": [],
   "source": []
  },
  {
   "cell_type": "code",
   "execution_count": null,
   "id": "c624fbda-38c4-45f5-9cff-85f14f2afda9",
   "metadata": {},
   "outputs": [],
   "source": []
  },
  {
   "cell_type": "code",
   "execution_count": null,
   "id": "38009191-67b0-4cb6-8656-42677586a98a",
   "metadata": {},
   "outputs": [],
   "source": []
  },
  {
   "cell_type": "code",
   "execution_count": null,
   "id": "03dec20e-05df-4df2-bd88-7a1eb0a29966",
   "metadata": {},
   "outputs": [],
   "source": []
  },
  {
   "cell_type": "code",
   "execution_count": null,
   "id": "a81bfd41-b9aa-4873-97b7-aafcdd041196",
   "metadata": {},
   "outputs": [],
   "source": []
  },
  {
   "cell_type": "code",
   "execution_count": null,
   "id": "013a2004-0805-4d2c-897a-18946c69a4cc",
   "metadata": {},
   "outputs": [],
   "source": []
  },
  {
   "cell_type": "code",
   "execution_count": null,
   "id": "06828eec-e1d9-4ea7-b9d8-27d98a80d101",
   "metadata": {},
   "outputs": [],
   "source": []
  },
  {
   "cell_type": "code",
   "execution_count": null,
   "id": "d79f7707-af3f-409a-ac35-7dfa9ad0740f",
   "metadata": {},
   "outputs": [],
   "source": []
  },
  {
   "cell_type": "code",
   "execution_count": null,
   "id": "2315e20c-0ea0-4ed8-a81b-3c4de6db4170",
   "metadata": {},
   "outputs": [],
   "source": []
  },
  {
   "cell_type": "code",
   "execution_count": null,
   "id": "f7b717c7-5355-423e-83eb-ed7a9a81dee1",
   "metadata": {},
   "outputs": [],
   "source": []
  },
  {
   "cell_type": "code",
   "execution_count": null,
   "id": "724c2416-0a9c-4e87-9397-e93f69a33006",
   "metadata": {},
   "outputs": [],
   "source": []
  },
  {
   "cell_type": "code",
   "execution_count": null,
   "id": "6cb57cab-77e6-438a-9a4b-b08af6d1f3c5",
   "metadata": {},
   "outputs": [],
   "source": []
  },
  {
   "cell_type": "code",
   "execution_count": null,
   "id": "023e56e6-3821-42f2-b7f0-272c06675078",
   "metadata": {},
   "outputs": [],
   "source": []
  },
  {
   "cell_type": "code",
   "execution_count": null,
   "id": "9492012d-c159-4921-8942-cf691b1b12bd",
   "metadata": {},
   "outputs": [],
   "source": []
  },
  {
   "cell_type": "code",
   "execution_count": null,
   "id": "ddfa41f3-15a3-404a-ae20-94bd7627de2b",
   "metadata": {},
   "outputs": [],
   "source": []
  },
  {
   "cell_type": "code",
   "execution_count": null,
   "id": "7837fa60-1c70-48d3-9916-54fbea332dcb",
   "metadata": {},
   "outputs": [],
   "source": []
  },
  {
   "cell_type": "code",
   "execution_count": null,
   "id": "99f40f1a-14e4-48d2-ac93-a46e11168d96",
   "metadata": {},
   "outputs": [],
   "source": []
  },
  {
   "cell_type": "code",
   "execution_count": null,
   "id": "6f2809bf-166a-4f76-91ec-0139ed450c52",
   "metadata": {},
   "outputs": [],
   "source": []
  },
  {
   "cell_type": "code",
   "execution_count": null,
   "id": "4314f44b-32f4-4a3d-8845-cae1005a92ae",
   "metadata": {},
   "outputs": [],
   "source": []
  },
  {
   "cell_type": "code",
   "execution_count": null,
   "id": "0ecba192-ea5b-4889-b1e2-35c94bc0ee76",
   "metadata": {},
   "outputs": [],
   "source": []
  },
  {
   "cell_type": "code",
   "execution_count": null,
   "id": "fe5b5958-dc6f-4e8e-b78e-e51d29b9d6c8",
   "metadata": {},
   "outputs": [],
   "source": []
  },
  {
   "cell_type": "code",
   "execution_count": null,
   "id": "7d87e862-c4e8-451e-b3e4-d155103f15be",
   "metadata": {},
   "outputs": [],
   "source": []
  },
  {
   "cell_type": "code",
   "execution_count": null,
   "id": "ade88971-e264-493c-a248-084c0ff8dc27",
   "metadata": {},
   "outputs": [],
   "source": []
  },
  {
   "cell_type": "code",
   "execution_count": null,
   "id": "23c93eff-10a4-4cd2-937b-55b063566a7c",
   "metadata": {},
   "outputs": [],
   "source": []
  },
  {
   "cell_type": "code",
   "execution_count": null,
   "id": "d94335a5-67a1-49a5-a699-e1e413470988",
   "metadata": {},
   "outputs": [],
   "source": []
  },
  {
   "cell_type": "code",
   "execution_count": null,
   "id": "6607839d-fe48-46be-bdd4-07ebe65faa09",
   "metadata": {},
   "outputs": [],
   "source": []
  },
  {
   "cell_type": "code",
   "execution_count": null,
   "id": "e460c452-c5d1-42d7-b6cf-c6c298876452",
   "metadata": {},
   "outputs": [],
   "source": []
  },
  {
   "cell_type": "code",
   "execution_count": null,
   "id": "a387dfe6-3ccd-4d05-b302-567bd45d28d7",
   "metadata": {},
   "outputs": [],
   "source": []
  },
  {
   "cell_type": "code",
   "execution_count": null,
   "id": "bceb9333-f31b-4f2a-9756-59fa2b325676",
   "metadata": {},
   "outputs": [],
   "source": []
  },
  {
   "cell_type": "code",
   "execution_count": null,
   "id": "99591be8-8691-4f98-8cc2-f438d80834ce",
   "metadata": {},
   "outputs": [],
   "source": []
  },
  {
   "cell_type": "code",
   "execution_count": null,
   "id": "4d59199b-3abe-4aaf-b613-a05daf117c22",
   "metadata": {},
   "outputs": [],
   "source": []
  },
  {
   "cell_type": "code",
   "execution_count": null,
   "id": "f89941f5-29f5-4030-af59-70a6b4ea601a",
   "metadata": {},
   "outputs": [],
   "source": []
  },
  {
   "cell_type": "code",
   "execution_count": null,
   "id": "a9f32630-19b0-4148-884c-47db3f669ac2",
   "metadata": {},
   "outputs": [],
   "source": []
  },
  {
   "cell_type": "code",
   "execution_count": null,
   "id": "79fe9c06-13be-424f-927b-e08aaa658e6d",
   "metadata": {},
   "outputs": [],
   "source": []
  },
  {
   "cell_type": "code",
   "execution_count": null,
   "id": "98c4366a-8097-4bf9-b1de-46e13757e101",
   "metadata": {},
   "outputs": [],
   "source": []
  },
  {
   "cell_type": "code",
   "execution_count": null,
   "id": "0d250cd6-782b-410d-8420-eaba125d7d22",
   "metadata": {},
   "outputs": [],
   "source": []
  }
 ],
 "metadata": {
  "kernelspec": {
   "display_name": "Python 3 (ipykernel)",
   "language": "python",
   "name": "python3"
  },
  "language_info": {
   "codemirror_mode": {
    "name": "ipython",
    "version": 3
   },
   "file_extension": ".py",
   "mimetype": "text/x-python",
   "name": "python",
   "nbconvert_exporter": "python",
   "pygments_lexer": "ipython3",
   "version": "3.9.2"
  }
 },
 "nbformat": 4,
 "nbformat_minor": 5
}
