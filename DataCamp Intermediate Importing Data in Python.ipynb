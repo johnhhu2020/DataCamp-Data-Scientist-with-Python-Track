{
 "cells": [
  {
   "cell_type": "markdown",
   "id": "2e9b5034-c640-4244-9ec6-23e6c698a9e0",
   "metadata": {},
   "source": [
    "## Intermediate Importing Data in Python\n",
    "\n",
    "\n"
   ]
  },
  {
   "cell_type": "markdown",
   "id": "7603d12f-585a-4b71-b035-6803e1311738",
   "metadata": {},
   "source": [
    "## Course Description\n",
    "\n",
    "As a data scientist, you will need to clean data, wrangle and munge it, visualize it, build predictive models and interpret these models. Before you can do so, however, you will need to know how to get data into Python. In the prequel to this course, you learned many ways to import data into Python: from flat files such as .txt and .csv; from files native to other software such as Excel spreadsheets, Stata, SAS, and MATLAB files; and from relational databases such as SQLite and PostgreSQL. In this course, you'll extend this knowledge base by learning to import data from the web and by pulling data from Application Programming Interfaces— APIs—such as the Twitter streaming API, which allows us to stream real-time tweets."
   ]
  },
  {
   "cell_type": "markdown",
   "id": "eec9bc87-5769-48fc-b924-b877685f7b31",
   "metadata": {},
   "source": [
    "##  Importing data from the Internet\n",
    "Free\n",
    "0%\n",
    "\n",
    "The web is a rich source of data from which you can extract various types of insights and findings. In this chapter, you will learn how to get data from the web, whether it is stored in files or in HTML. You'll also learn the basics of scraping and parsing web data.\n",
    "\n",
    "    Importing flat files from the web    50 xp\n",
    "    Importing flat files from the web: your turn!    100 xp\n",
    "    Opening and reading flat files from the web    100 xp\n",
    "    Importing non-flat files from the web    100 xp\n",
    "    HTTP requests to import files from the web    50 xp\n",
    "    Performing HTTP requests in Python using urllib    100 xp\n",
    "    Printing HTTP request results in Python using urllib    100 xp\n",
    "    Performing HTTP requests in Python using requests    100 xp\n",
    "    Scraping the web in Python    50 xp\n",
    "    Parsing HTML with BeautifulSoup    100 xp\n",
    "    Turning a webpage into data using BeautifulSoup: getting the text    100 xp\n",
    "    Turning a webpage into data using BeautifulSoup: getting the hyperlinks    100 xp\n"
   ]
  },
  {
   "cell_type": "markdown",
   "id": "e3e16fa3-36bf-45af-8ca7-4256cbeeaabc",
   "metadata": {},
   "source": [
    "##  Interacting with APIs to import data from the web\n",
    "0%\n",
    "\n",
    "In this chapter, you will gain a deeper understanding of how to import data from the web. You will learn the basics of extracting data from APIs, gain insight on the importance of APIs, and practice extracting data by diving into the OMDB and Library of Congress APIs.\n",
    "\n",
    "    Introduction to APIs and JSONs    50 xp\n",
    "    Pop quiz: What exactly is a JSON?    50 xp\n",
    "    Loading and exploring a JSON    100 xp\n",
    "    Pop quiz: Exploring your JSON    50 xp\n",
    "    APIs and interacting with the world wide web    50 xp\n",
    "    Pop quiz: What's an API?    50 xp\n",
    "    API requests    100 xp\n",
    "    JSON–from the web to Python    100 xp\n",
    "    Checking out the Wikipedia API    100 xp\n"
   ]
  },
  {
   "cell_type": "markdown",
   "id": "58aa6317-f066-45c7-91cf-9b6f3a7bd956",
   "metadata": {},
   "source": [
    "##  Diving deep into the Twitter API\n",
    "0%\n",
    "\n",
    "In this chapter, you will consolidate your knowledge of interacting with APIs in a deep dive into the Twitter streaming API. You'll learn how to stream real-time Twitter data, and how to analyze and visualize it.\n",
    "\n",
    "    The Twitter API and Authentication    50 xp\n",
    "    API Authentication    100 xp\n",
    "    Streaming tweets    100 xp\n",
    "    Load and explore your Twitter data    100 xp\n",
    "    Twitter data to DataFrame    100 xp\n",
    "    A little bit of Twitter text analysis    100 xp\n",
    "    Plotting your Twitter data    100 xp\n",
    "    Final Thoughts    50 xp \n",
    "    "
   ]
  },
  {
   "cell_type": "markdown",
   "id": "d1a9e9c2-e789-4b03-a847-3033769fdbb5",
   "metadata": {},
   "source": [
    "## Importing flat files from the web\n",
    "\n",
    "\n",
    "\n",
    "\n",
    "\n",
    "\n",
    "**You're now able to import data in Python from all sorts of file types: flat files such as .txt and .csv, other file types such as pickle files, Excel spreadsheets and MATLAB files.  You've also gained valuable experience in querying relational databases to import data from them using SQL.  You have really come a ong way, congratulations.  \n",
    "\n",
    "\n",
    "# *******************************************************************************************************************\n",
    "However, all of these skills involve importing data from files that you have locally.  Much of the time as a Data Scientist, these skills won't be quite enough because you won't always have the data that you need.  You will need to import from the WWW.  Say , for example, you want to import Wine Quality dataset from the Machine Learning Repository hosted by the University of California, Irvine.  How do you get this file form the web?  \n",
    "\n",
    "Now you could use your favourite web browser of choice to navigateto the relevant URL, point and clickon the appropriate hyperlinks to download the file but this poses a couple of series problems.  Firstly, it isnt written in codeand so poses reproducibility issues.  If anothet Data Scientist wanted to reproduce your workflow, he would necessarily to do so outside Python code.  Secondly, it is not scalable.  If you want to download hundred or one thousand such files, it would take 100 or 1000 times as long, respectively, whereas if you wrote it in code, your workflow could scale.  \n",
    "\n",
    "# *******************************************************************************************************************\n",
    "As reproducibility and scalability are situated at the very heart of Data Science, you're going to learn in this chapter how to use Python code to import and locally save datasets from the WWW.  You'll also learn how to load such datasets into Pandas dataframes directly from the web, whether they be flat files or otherwise.  Then you'll place these skills in the wider context of making HTTP request.  \n",
    "\n",
    "# *******************************************************************************************************************\n",
    "In particular, you'll make HTTP GET requests, which in plain English means getting data from the web.  You'll use these new request skills to learn the basics of scraping HTML from the internet and you'll use the wonderful Python package BeautifulSoup to parse the HTML and turn it into data.  \n",
    "\n",
    "# \"urllib\" and \"request\" packages\n",
    "Now there are a number of great packages to help us import the web data: herein, you'll become familiar with the \"rullib\" and \"request\" packages.  We'll first check out the \"urllib\": This module provides a high-level interface for fetching data across the WWW.  \n",
    "\n",
    "# \"urlopen()\" function just like Python build-in \"open()\" function\n",
    "In particular, the \"urlopen()\" function is similar to the build-in function \"open()\", but accepts Universal Resource Locations (URLs) instead of filenames.  Lets now dive directly in to importing data from the web with an example, importing the Wine Quality dataset for white wine.  Dont be jealous: in the first interactive exercise, it will be your job to import the red wine dataset.  \n",
    "\n",
    "# \"urlretrieve()\" function from \"urllib.request\" sub-package\n",
    "All we have done here is imported a fnction called \"urlretrieve()\" from the \"request\" subpackage of the \"urllib\" package, we assigned the relevant URLas a string to the variable \"url\".  We than use the \"urlretrieve()\" function to write the contents of the url to a file \"winequality-white.csv\".  \n",
    "\n",
    "\n",
    "\n"
   ]
  },
  {
   "cell_type": "code",
   "execution_count": 6,
   "id": "30815f82-1dbb-400f-830b-b12f36c3c7a2",
   "metadata": {},
   "outputs": [
    {
     "name": "stdout",
     "output_type": "stream",
     "text": [
      "['__add__', '__class__', '__class_getitem__', '__contains__', '__delattr__', '__dir__', '__doc__', '__eq__', '__format__', '__ge__', '__getattribute__', '__getitem__', '__getnewargs__', '__gt__', '__hash__', '__init__', '__init_subclass__', '__iter__', '__le__', '__len__', '__lt__', '__mul__', '__ne__', '__new__', '__reduce__', '__reduce_ex__', '__repr__', '__rmul__', '__setattr__', '__sizeof__', '__str__', '__subclasshook__', 'count', 'index']\n",
      "['__add__', '__class__', '__class_getitem__', '__contains__', '__delattr__', '__dir__', '__doc__', '__eq__', '__format__', '__ge__', '__getattribute__', '__getitem__', '__getnewargs__', '__gt__', '__hash__', '__init__', '__init_subclass__', '__iter__', '__le__', '__len__', '__lt__', '__mul__', '__ne__', '__new__', '__reduce__', '__reduce_ex__', '__repr__', '__rmul__', '__setattr__', '__sizeof__', '__str__', '__subclasshook__', 'count', 'index']\n"
     ]
    }
   ],
   "source": [
    "print(dir(tuple))\n",
    "\n",
    "print(dir(white_quality))"
   ]
  },
  {
   "cell_type": "code",
   "execution_count": 18,
   "id": "f5f77dbd-7f1f-4be0-9428-23fccdac1738",
   "metadata": {},
   "outputs": [
    {
     "name": "stdout",
     "output_type": "stream",
     "text": [
      "<class 'tuple'>\n",
      "2\n",
      "winequality-white.csv\n",
      "Date: Mon, 24 Jan 2022 15:55:25 GMT\n",
      "Server: Apache/2.4.6 (CentOS) OpenSSL/1.0.2k-fips SVN/1.7.14 Phusion_Passenger/4.0.53 mod_perl/2.0.11 Perl/v5.16.3\n",
      "Last-Modified: Fri, 16 Oct 2009 21:36:53 GMT\n",
      "ETag: \"408ea-4761431c10740\"\n",
      "Accept-Ranges: bytes\n",
      "Content-Length: 264426\n",
      "Connection: close\n",
      "Content-Type: application/x-httpd-php\n",
      "\n",
      "\n",
      "(4898, 12)\n",
      "Index(['fixed acidity', 'volatile acidity', 'citric acid', 'residual sugar',\n",
      "       'chlorides', 'free sulfur dioxide', 'total sulfur dioxide', 'density',\n",
      "       'pH', 'sulphates', 'alcohol', 'quality'],\n",
      "      dtype='object')\n",
      "   fixed acidity  volatile acidity  citric acid  residual sugar  chlorides  \\\n",
      "0            7.0              0.27         0.36            20.7      0.045   \n",
      "1            6.3              0.30         0.34             1.6      0.049   \n",
      "2            8.1              0.28         0.40             6.9      0.050   \n",
      "3            7.2              0.23         0.32             8.5      0.058   \n",
      "4            7.2              0.23         0.32             8.5      0.058   \n",
      "\n",
      "   free sulfur dioxide  total sulfur dioxide  density    pH  sulphates  \\\n",
      "0                 45.0                 170.0   1.0010  3.00       0.45   \n",
      "1                 14.0                 132.0   0.9940  3.30       0.49   \n",
      "2                 30.0                  97.0   0.9951  3.26       0.44   \n",
      "3                 47.0                 186.0   0.9956  3.19       0.40   \n",
      "4                 47.0                 186.0   0.9956  3.19       0.40   \n",
      "\n",
      "   alcohol  quality  \n",
      "0      8.8        6  \n",
      "1      9.5        6  \n",
      "2     10.1        6  \n",
      "3      9.9        6  \n",
      "4      9.9        6  \n"
     ]
    }
   ],
   "source": [
    "import pandas as pd\n",
    "from urllib.request import urlretrieve\n",
    "\n",
    "\n",
    "url = 'https://archive.ics.uci.edu/ml/machine-learning-databases/wine-quality/winequality-white.csv'\n",
    "\n",
    "white_quality = urlretrieve(url, 'winequality-white.csv')\n",
    "\n",
    "\n",
    "print(type(white_quality))\n",
    "\n",
    "print(len(white_quality))\n",
    "\n",
    "print(white_quality[0])\n",
    "\n",
    "print(white_quality[1])\n",
    "\n",
    "\n",
    "\n",
    "w_quality = pd.read_csv(white_quality[0], delimiter=';') ############################################################\n",
    "\n",
    "print(w_quality.shape)\n",
    "print(w_quality.columns)\n",
    "\n",
    "print(w_quality.head())"
   ]
  },
  {
   "cell_type": "code",
   "execution_count": 19,
   "id": "e7f2773f-2db0-4324-b880-7afd5226c48c",
   "metadata": {},
   "outputs": [
    {
     "name": "stdout",
     "output_type": "stream",
     "text": [
      "Help on function urlretrieve in module urllib.request:\n",
      "\n",
      "urlretrieve(url, filename=None, reporthook=None, data=None)\n",
      "    Retrieve a URL into a temporary location on disk.\n",
      "    \n",
      "    Requires a URL argument. If a filename is passed, it is used as\n",
      "    the temporary file location. The reporthook argument should be\n",
      "    a callable that accepts a block number, a read size, and the\n",
      "    total file size of the URL target. The data argument should be\n",
      "    valid URL encoded data.\n",
      "    \n",
      "    If a filename is passed and the URL points to a local resource,\n",
      "    the result is a copy from local file to new file.\n",
      "    \n",
      "    Returns a tuple containing the path to the newly created\n",
      "    data file as well as the resulting HTTPMessage object.\n",
      "\n"
     ]
    }
   ],
   "source": [
    "help(urlretrieve)"
   ]
  },
  {
   "cell_type": "markdown",
   "id": "f7402c42-0e36-44f8-881b-e2dbee5f5d9e",
   "metadata": {},
   "source": [
    "## Importing flat files from the web: your turn!\n",
    "\n",
    "You are about to import your first file from the web! The flat file you will import will be 'winequality-red.csv' from the University of California, Irvine's Machine Learning repository. The flat file contains tabular data of physiochemical properties of red wine, such as pH, alcohol content and citric acid content, along with wine quality rating.\n",
    "\n",
    "The URL of the file is\n",
    "\n",
    "'https://s3.amazonaws.com/assets.datacamp.com/production/course_1606/datasets/winequality-red.csv'\n",
    "\n",
    "After you import it, you'll check your working directory to confirm that it is there and then you'll load it into a pandas DataFrame.\n",
    "Instructions\n",
    "100 XP\n",
    "\n",
    "    Import the function urlretrieve from the subpackage urllib.request.\n",
    "    Assign the URL of the file to the variable url.\n",
    "    Use the function urlretrieve() to save the file locally as 'winequality-red.csv'.\n",
    "    Execute the remaining code to load 'winequality-red.csv' in a pandas DataFrame and to print its head to the shell.\n"
   ]
  },
  {
   "cell_type": "code",
   "execution_count": 22,
   "id": "8a109602-0d61-4f3a-9457-063707323da6",
   "metadata": {},
   "outputs": [
    {
     "name": "stdout",
     "output_type": "stream",
     "text": [
      "   fixed acidity  volatile acidity  citric acid  residual sugar  chlorides  \\\n",
      "0            7.4              0.70         0.00             1.9      0.076   \n",
      "1            7.8              0.88         0.00             2.6      0.098   \n",
      "2            7.8              0.76         0.04             2.3      0.092   \n",
      "3           11.2              0.28         0.56             1.9      0.075   \n",
      "4            7.4              0.70         0.00             1.9      0.076   \n",
      "\n",
      "   free sulfur dioxide  total sulfur dioxide  density    pH  sulphates  \\\n",
      "0                 11.0                  34.0   0.9978  3.51       0.56   \n",
      "1                 25.0                  67.0   0.9968  3.20       0.68   \n",
      "2                 15.0                  54.0   0.9970  3.26       0.65   \n",
      "3                 17.0                  60.0   0.9980  3.16       0.58   \n",
      "4                 11.0                  34.0   0.9978  3.51       0.56   \n",
      "\n",
      "   alcohol  quality  \n",
      "0      9.4        5  \n",
      "1      9.8        5  \n",
      "2      9.8        5  \n",
      "3      9.8        6  \n",
      "4      9.4        5  \n"
     ]
    }
   ],
   "source": [
    "import pandas as pd\n",
    "from urllib.request import urlretrieve\n",
    "\n",
    "\n",
    "url = 'https://s3.amazonaws.com/assets.datacamp.com/production/course_1606/datasets/winequality-red.csv'\n",
    "\n",
    "urlretrieve(url, 'winequality-red.csv')\n",
    "\n",
    "\n",
    "r_quality = pd.read_csv('winequality-red.csv', sep=';')\n",
    "print(r_quality.head())\n"
   ]
  },
  {
   "cell_type": "code",
   "execution_count": null,
   "id": "f38e7a72-0afa-488a-8f6b-c352e9893629",
   "metadata": {},
   "outputs": [],
   "source": [
    "# Import package\n",
    "from urllib.request import urlretrieve\n",
    "\n",
    "# Import pandas\n",
    "import pandas as pd\n",
    "\n",
    "# Assign url of file: url\n",
    "url = 'https://s3.amazonaws.com/assets.datacamp.com/production/course_1606/datasets/winequality-red.csv'\n",
    "\n",
    "#####################################################################################################################\n",
    "# Save file locally\n",
    "urlretrieve(url, 'winequality-red.csv')\n",
    "\n",
    "# Read file into a DataFrame and print its head\n",
    "df = pd.read_csv('winequality-red.csv', sep=';')\n",
    "print(df.head())"
   ]
  },
  {
   "cell_type": "markdown",
   "id": "dd0610f4-4b1c-4e16-8a5f-13b6bfdabd86",
   "metadata": {},
   "source": [
    "## Opening and reading flat files from the web\n",
    "\n",
    "You have just imported a file from the web, saved it locally and loaded it into a DataFrame. If you just wanted to load a file from the web into a DataFrame without first saving it locally, you can do that easily using pandas. In particular, you can use the function pd.read_csv() with the URL as the first argument and the separator sep as the second argument.\n",
    "\n",
    "The URL of the file, once again, is\n",
    "\n",
    "'https://s3.amazonaws.com/assets.datacamp.com/production/course_1606/datasets/winequality-red.csv'\n",
    "\n",
    "Instructions\n",
    "100 XP\n",
    "\n",
    "    Assign the URL of the file to the variable url.\n",
    "    Read file into a DataFrame df using pd.read_csv(), recalling that the separator in the file is ';'.\n",
    "    Print the head of the DataFrame df.\n",
    "    Execute the rest of the code to plot histogram of the first feature in the DataFrame df.\n"
   ]
  },
  {
   "cell_type": "code",
   "execution_count": 28,
   "id": "3a776c51-4ab1-498d-87dd-3656dfc8b7aa",
   "metadata": {},
   "outputs": [
    {
     "name": "stdout",
     "output_type": "stream",
     "text": [
      "   fixed acidity  volatile acidity  citric acid  residual sugar  chlorides  \\\n",
      "0            7.4              0.70         0.00             1.9      0.076   \n",
      "1            7.8              0.88         0.00             2.6      0.098   \n",
      "2            7.8              0.76         0.04             2.3      0.092   \n",
      "3           11.2              0.28         0.56             1.9      0.075   \n",
      "4            7.4              0.70         0.00             1.9      0.076   \n",
      "\n",
      "   free sulfur dioxide  total sulfur dioxide  density    pH  sulphates  \\\n",
      "0                 11.0                  34.0   0.9978  3.51       0.56   \n",
      "1                 25.0                  67.0   0.9968  3.20       0.68   \n",
      "2                 15.0                  54.0   0.9970  3.26       0.65   \n",
      "3                 17.0                  60.0   0.9980  3.16       0.58   \n",
      "4                 11.0                  34.0   0.9978  3.51       0.56   \n",
      "\n",
      "   alcohol  quality  \n",
      "0      9.4        5  \n",
      "1      9.8        5  \n",
      "2      9.8        5  \n",
      "3      9.8        6  \n",
      "4      9.4        5  \n"
     ]
    },
    {
     "data": {
      "image/png": "[encoded data removed]",
      "text/plain": [
       "<Figure size 432x288 with 1 Axes>"
      ]
     },
     "metadata": {
      "needs_background": "light"
     },
     "output_type": "display_data"
    }
   ],
   "source": [
    "# Import packages\n",
    "import matplotlib.pyplot as plt\n",
    "import pandas as pd\n",
    "\n",
    "# Assign url of file: url\n",
    "url = 'https://s3.amazonaws.com/assets.datacamp.com/production/course_1606/datasets/winequality-red.csv'\n",
    "\n",
    "#urlretrieve(url, 'winequality-red.csv')\n",
    "\n",
    "\n",
    "# Read file into a DataFrame: df\n",
    "df = pd.read_csv(url, sep=';') ######################################################################################\n",
    "\n",
    "\n",
    "# Print the head of the DataFrame\n",
    "print(df.head())\n",
    "\n",
    "# Plot first column of df\n",
    "#pd.DataFrame.hist(df.ix[:, 0:1]) ###################################################################################\n",
    "\n",
    "pd.DataFrame.hist(df.iloc[:, :1])\n",
    "\n",
    "plt.xlabel('fixed acidity (g(tartaric acid)/dm$^3$)')\n",
    "plt.ylabel('count')\n",
    "plt.show()\n"
   ]
  },
  {
   "cell_type": "markdown",
   "id": "2860f4aa-ae71-438c-81bb-8357ba6f4bb8",
   "metadata": {},
   "source": [
    "## Exercise\n",
    "Exercise\n",
    "Importing non-flat files from the web\n",
    "\n",
    "Congrats! You've just loaded a flat file from the web into a DataFrame without first saving it locally using the pandas function pd.read_csv(). This function is super cool because it has close relatives that allow you to load all types of files, not only flat ones. In this interactive exercise, you'll use pd.read_excel() to import an Excel spreadsheet.\n",
    "\n",
    "The URL of the spreadsheet is\n",
    "\n",
    "'http://s3.amazonaws.com/assets.datacamp.com/course/importing_data_into_r/latitude.xls'\n",
    "\n",
    "Your job is to use pd.read_excel() to read in all of its sheets, print the sheet names and then print the head of the first sheet using its name, not its index.\n",
    "\n",
    "Note that the output of pd.read_excel() is a Python dictionary with sheet names as keys and corresponding DataFrames as corresponding values.\n",
    "Instructions\n",
    "100 XP\n",
    "\n",
    "    Assign the URL of the file to the variable url.\n",
    "    Read the file in url into a dictionary xls using pd.read_excel() recalling that, in order to import all sheets you need to pass None to the argument sheet_name.\n",
    "    Print the names of the sheets in the Excel spreadsheet; these will be the keys of the dictionary xls.\n",
    "    Print the head of the first sheet using the sheet name, not the index of the sheet! The sheet name is '1700'\n"
   ]
  },
  {
   "cell_type": "code",
   "execution_count": null,
   "id": "6bd4b666-9a3c-4699-b969-5d91bc6bb9ce",
   "metadata": {},
   "outputs": [],
   "source": []
  },
  {
   "cell_type": "code",
   "execution_count": null,
   "id": "27e1a685-9ca0-4e51-b473-b8e3c58bbb61",
   "metadata": {},
   "outputs": [],
   "source": []
  },
  {
   "cell_type": "code",
   "execution_count": null,
   "id": "afaced02-2957-4d6b-a27d-881436636bfa",
   "metadata": {},
   "outputs": [],
   "source": []
  },
  {
   "cell_type": "code",
   "execution_count": null,
   "id": "acdd09c8-b810-472b-864d-f2201b830bce",
   "metadata": {},
   "outputs": [],
   "source": []
  },
  {
   "cell_type": "code",
   "execution_count": null,
   "id": "be36451c-38cd-4e4a-b3dc-d54ebb8277b5",
   "metadata": {},
   "outputs": [],
   "source": []
  },
  {
   "cell_type": "code",
   "execution_count": null,
   "id": "156dfa6b-f4d3-4f61-bd5d-329afea30882",
   "metadata": {},
   "outputs": [],
   "source": []
  },
  {
   "cell_type": "code",
   "execution_count": null,
   "id": "7f575f34-b81b-4bdd-aa9e-b4bb408205af",
   "metadata": {},
   "outputs": [],
   "source": []
  },
  {
   "cell_type": "code",
   "execution_count": null,
   "id": "5ed3d8f2-f1cf-4a7c-9878-ad4b16e205dd",
   "metadata": {},
   "outputs": [],
   "source": []
  },
  {
   "cell_type": "code",
   "execution_count": null,
   "id": "79a0f916-0ee1-4ff5-8d5c-2fb0a0d8e32e",
   "metadata": {},
   "outputs": [],
   "source": []
  },
  {
   "cell_type": "code",
   "execution_count": null,
   "id": "677dd883-a993-45aa-9ff0-cb99201a9e72",
   "metadata": {},
   "outputs": [],
   "source": []
  },
  {
   "cell_type": "code",
   "execution_count": null,
   "id": "3cbee9a6-916d-402f-ba7b-8d82588dcd35",
   "metadata": {},
   "outputs": [],
   "source": []
  },
  {
   "cell_type": "code",
   "execution_count": null,
   "id": "cde98585-291c-4678-adbd-ae1885ef5ae2",
   "metadata": {},
   "outputs": [],
   "source": []
  },
  {
   "cell_type": "code",
   "execution_count": null,
   "id": "be5d7ea9-9151-4e13-9e3c-bf9dd64f2ab3",
   "metadata": {},
   "outputs": [],
   "source": []
  },
  {
   "cell_type": "code",
   "execution_count": null,
   "id": "4690a6e7-f3e2-403e-a3f0-73d24bee17a1",
   "metadata": {},
   "outputs": [],
   "source": []
  },
  {
   "cell_type": "code",
   "execution_count": null,
   "id": "7a6ebb43-bd77-4084-a1e4-be288956cf4c",
   "metadata": {},
   "outputs": [],
   "source": []
  },
  {
   "cell_type": "code",
   "execution_count": null,
   "id": "ee137436-397c-47c7-a33e-9f46a4abd153",
   "metadata": {},
   "outputs": [],
   "source": []
  },
  {
   "cell_type": "code",
   "execution_count": null,
   "id": "82ff3722-eaea-477b-a9fa-ec6c3387ec65",
   "metadata": {},
   "outputs": [],
   "source": []
  },
  {
   "cell_type": "code",
   "execution_count": null,
   "id": "4003111f-3e85-412d-b625-64e9e27afccd",
   "metadata": {},
   "outputs": [],
   "source": []
  },
  {
   "cell_type": "code",
   "execution_count": null,
   "id": "ebbb67ee-2c6a-48e5-a035-37b5e570be9a",
   "metadata": {},
   "outputs": [],
   "source": []
  },
  {
   "cell_type": "code",
   "execution_count": null,
   "id": "3711669e-301b-46a7-9bd3-fa77e6ba5ec1",
   "metadata": {},
   "outputs": [],
   "source": []
  },
  {
   "cell_type": "code",
   "execution_count": null,
   "id": "b33e6f7b-590f-4715-bec9-620f7d206ff1",
   "metadata": {},
   "outputs": [],
   "source": []
  },
  {
   "cell_type": "code",
   "execution_count": null,
   "id": "796e394e-ebda-4b5c-be14-35104074c32b",
   "metadata": {},
   "outputs": [],
   "source": []
  },
  {
   "cell_type": "code",
   "execution_count": null,
   "id": "0e3d3142-cbe3-4326-aa7e-d533910cf459",
   "metadata": {},
   "outputs": [],
   "source": []
  },
  {
   "cell_type": "code",
   "execution_count": null,
   "id": "6d3cd0cc-0b46-4c72-b36b-e3bb3cd4dd61",
   "metadata": {},
   "outputs": [],
   "source": []
  },
  {
   "cell_type": "code",
   "execution_count": null,
   "id": "3ebebbb5-ca5f-4987-a8ce-9850b0903f95",
   "metadata": {},
   "outputs": [],
   "source": []
  },
  {
   "cell_type": "code",
   "execution_count": null,
   "id": "cd17b75b-9639-4809-a553-6dd0cd6b771a",
   "metadata": {},
   "outputs": [],
   "source": []
  },
  {
   "cell_type": "code",
   "execution_count": null,
   "id": "9304d766-4061-4de5-b049-c1dc3cdc8737",
   "metadata": {},
   "outputs": [],
   "source": []
  },
  {
   "cell_type": "code",
   "execution_count": null,
   "id": "816ccf7a-7886-4f37-adce-5c96a579dc6c",
   "metadata": {},
   "outputs": [],
   "source": []
  },
  {
   "cell_type": "code",
   "execution_count": null,
   "id": "876cb6e5-9618-43c1-a1b2-a9435b25b907",
   "metadata": {},
   "outputs": [],
   "source": []
  },
  {
   "cell_type": "code",
   "execution_count": null,
   "id": "08cfafa3-444f-4f52-8699-90908b4445e9",
   "metadata": {},
   "outputs": [],
   "source": []
  },
  {
   "cell_type": "code",
   "execution_count": null,
   "id": "df21206d-9da8-48c8-9f0c-99110aa7f834",
   "metadata": {},
   "outputs": [],
   "source": []
  },
  {
   "cell_type": "code",
   "execution_count": null,
   "id": "87112ba4-b8e5-4b7a-8415-b031085c9b81",
   "metadata": {},
   "outputs": [],
   "source": []
  },
  {
   "cell_type": "code",
   "execution_count": null,
   "id": "3ed6741e-e337-422a-9cd9-9dba8b04d615",
   "metadata": {},
   "outputs": [],
   "source": []
  },
  {
   "cell_type": "code",
   "execution_count": null,
   "id": "8bf77321-8527-4789-bfd8-ddb56beb64d0",
   "metadata": {},
   "outputs": [],
   "source": []
  },
  {
   "cell_type": "code",
   "execution_count": null,
   "id": "67afc1e7-fa3f-4c76-bba0-07effcab4c16",
   "metadata": {},
   "outputs": [],
   "source": []
  },
  {
   "cell_type": "code",
   "execution_count": null,
   "id": "04bfa24f-034e-4c4b-851a-996ffefbc871",
   "metadata": {},
   "outputs": [],
   "source": []
  },
  {
   "cell_type": "code",
   "execution_count": null,
   "id": "344ca083-8f19-41d6-b0e9-cb35b3a0ff37",
   "metadata": {},
   "outputs": [],
   "source": []
  },
  {
   "cell_type": "code",
   "execution_count": null,
   "id": "9c06bb5b-d629-4ed4-a508-22b0207baa8e",
   "metadata": {},
   "outputs": [],
   "source": []
  },
  {
   "cell_type": "code",
   "execution_count": null,
   "id": "61ff7b5d-5d15-4bb1-9fbc-07ffab842fd7",
   "metadata": {},
   "outputs": [],
   "source": []
  },
  {
   "cell_type": "code",
   "execution_count": null,
   "id": "1b2f8147-eb31-49ef-966c-a11f68c77619",
   "metadata": {},
   "outputs": [],
   "source": []
  },
  {
   "cell_type": "code",
   "execution_count": null,
   "id": "c7b3dc11-0083-45f3-aa4e-497d5b251bef",
   "metadata": {},
   "outputs": [],
   "source": []
  },
  {
   "cell_type": "code",
   "execution_count": null,
   "id": "631da2bb-0d9a-48bf-ac48-074a468174bb",
   "metadata": {},
   "outputs": [],
   "source": []
  },
  {
   "cell_type": "code",
   "execution_count": null,
   "id": "6e57c0da-6130-4513-8d0c-ae4d32deb2a1",
   "metadata": {},
   "outputs": [],
   "source": []
  },
  {
   "cell_type": "code",
   "execution_count": null,
   "id": "2d28b9d0-05d3-40a5-a62d-c1088ab41c9b",
   "metadata": {},
   "outputs": [],
   "source": []
  },
  {
   "cell_type": "code",
   "execution_count": null,
   "id": "53b014e2-e8af-46dd-b7fd-7c4b40957171",
   "metadata": {},
   "outputs": [],
   "source": []
  },
  {
   "cell_type": "code",
   "execution_count": null,
   "id": "de51060e-cd38-4565-a839-152d31623e68",
   "metadata": {},
   "outputs": [],
   "source": []
  },
  {
   "cell_type": "code",
   "execution_count": null,
   "id": "fb7648db-78e9-42e2-a694-b355cf7a9ef7",
   "metadata": {},
   "outputs": [],
   "source": []
  },
  {
   "cell_type": "code",
   "execution_count": null,
   "id": "2299b207-6187-4041-8fe4-f4d21e21c3de",
   "metadata": {},
   "outputs": [],
   "source": []
  },
  {
   "cell_type": "code",
   "execution_count": null,
   "id": "8c0e2dbf-a7f4-421b-9f5c-8d7edd72c9ef",
   "metadata": {},
   "outputs": [],
   "source": []
  },
  {
   "cell_type": "code",
   "execution_count": null,
   "id": "8b3cbccc-0556-400c-98ce-e04274e3e570",
   "metadata": {},
   "outputs": [],
   "source": []
  },
  {
   "cell_type": "code",
   "execution_count": null,
   "id": "05824cdc-fe9e-4bba-ac4e-aba955e17206",
   "metadata": {},
   "outputs": [],
   "source": []
  },
  {
   "cell_type": "code",
   "execution_count": null,
   "id": "a507d91c-dae4-4862-be02-9dd83f43177f",
   "metadata": {},
   "outputs": [],
   "source": []
  },
  {
   "cell_type": "code",
   "execution_count": null,
   "id": "e49a90f0-dcb1-417c-aefd-441a58e3af15",
   "metadata": {},
   "outputs": [],
   "source": []
  },
  {
   "cell_type": "code",
   "execution_count": null,
   "id": "9793cdf1-aa53-4c25-b863-0320ddda2b9b",
   "metadata": {},
   "outputs": [],
   "source": []
  },
  {
   "cell_type": "code",
   "execution_count": null,
   "id": "7078001b-6c2d-4f82-b490-dad790476631",
   "metadata": {},
   "outputs": [],
   "source": []
  },
  {
   "cell_type": "code",
   "execution_count": null,
   "id": "1b6f03fe-5663-408c-92b2-56128922e97f",
   "metadata": {},
   "outputs": [],
   "source": []
  },
  {
   "cell_type": "code",
   "execution_count": null,
   "id": "68f0f336-9c7e-4891-8215-90731fe1082a",
   "metadata": {},
   "outputs": [],
   "source": []
  },
  {
   "cell_type": "code",
   "execution_count": null,
   "id": "df68e63c-5153-4ff3-b6c6-ffa98bc038c4",
   "metadata": {},
   "outputs": [],
   "source": []
  },
  {
   "cell_type": "code",
   "execution_count": null,
   "id": "74e38df4-5af6-4a2d-aaf8-93346b5d5ee7",
   "metadata": {},
   "outputs": [],
   "source": []
  },
  {
   "cell_type": "code",
   "execution_count": null,
   "id": "e840d8c3-475a-4c59-83e8-c6c7db570e3a",
   "metadata": {},
   "outputs": [],
   "source": []
  },
  {
   "cell_type": "code",
   "execution_count": null,
   "id": "8fe892ac-013c-4011-b5a2-60b010641953",
   "metadata": {},
   "outputs": [],
   "source": []
  },
  {
   "cell_type": "code",
   "execution_count": null,
   "id": "f86e5dc2-8c26-4e9d-a439-0ae0902133ea",
   "metadata": {},
   "outputs": [],
   "source": []
  },
  {
   "cell_type": "code",
   "execution_count": null,
   "id": "42b132a3-026a-454f-9e58-e36611c45869",
   "metadata": {},
   "outputs": [],
   "source": []
  },
  {
   "cell_type": "code",
   "execution_count": null,
   "id": "e34785ea-95b4-4e8c-825c-7cad72e86c3d",
   "metadata": {},
   "outputs": [],
   "source": []
  },
  {
   "cell_type": "code",
   "execution_count": null,
   "id": "961d19b5-72d0-4f79-8786-b49a71703f56",
   "metadata": {},
   "outputs": [],
   "source": []
  },
  {
   "cell_type": "code",
   "execution_count": null,
   "id": "a11ee57f-5256-4948-8866-c0155fe5856f",
   "metadata": {},
   "outputs": [],
   "source": []
  },
  {
   "cell_type": "code",
   "execution_count": null,
   "id": "5f131514-4f6a-4ebe-9ec3-a8b0bddec88f",
   "metadata": {},
   "outputs": [],
   "source": []
  },
  {
   "cell_type": "code",
   "execution_count": null,
   "id": "0f5c55e0-5d85-40a9-af70-92fd92260a10",
   "metadata": {},
   "outputs": [],
   "source": []
  },
  {
   "cell_type": "code",
   "execution_count": null,
   "id": "35876360-a5f6-453b-bf84-568abd75a3ad",
   "metadata": {},
   "outputs": [],
   "source": []
  },
  {
   "cell_type": "code",
   "execution_count": null,
   "id": "42b1d911-a5c0-4863-b8c3-62a585951577",
   "metadata": {},
   "outputs": [],
   "source": []
  },
  {
   "cell_type": "code",
   "execution_count": null,
   "id": "61d23a86-0095-4222-8f54-0cf07a88f032",
   "metadata": {},
   "outputs": [],
   "source": []
  },
  {
   "cell_type": "code",
   "execution_count": null,
   "id": "4d3fd457-9d52-4fa5-b571-66d37265b0a8",
   "metadata": {},
   "outputs": [],
   "source": []
  },
  {
   "cell_type": "code",
   "execution_count": null,
   "id": "82de786b-38e6-4c55-9b24-0569c2cc5f85",
   "metadata": {},
   "outputs": [],
   "source": []
  },
  {
   "cell_type": "code",
   "execution_count": null,
   "id": "4c428e3d-b902-4e68-b800-22992baece94",
   "metadata": {},
   "outputs": [],
   "source": []
  }
 ],
 "metadata": {
  "kernelspec": {
   "display_name": "Python 3 (ipykernel)",
   "language": "python",
   "name": "python3"
  },
  "language_info": {
   "codemirror_mode": {
    "name": "ipython",
    "version": 3
   },
   "file_extension": ".py",
   "mimetype": "text/x-python",
   "name": "python",
   "nbconvert_exporter": "python",
   "pygments_lexer": "ipython3",
   "version": "3.9.2"
  }
 },
 "nbformat": 4,
 "nbformat_minor": 5
}
