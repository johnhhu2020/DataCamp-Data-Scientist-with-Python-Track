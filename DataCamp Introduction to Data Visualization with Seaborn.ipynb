{
 "cells": [
  {
   "cell_type": "markdown",
   "id": "955900d4-214e-45f2-84fe-328844de3012",
   "metadata": {},
   "source": [
    "## Introduction to Data Visualization with Seaborn\n",
    "\n",
    "\n"
   ]
  },
  {
   "cell_type": "markdown",
   "id": "34860ba5-4e25-4849-8d63-7a737c238f28",
   "metadata": {},
   "source": [
    "## Course Description\n",
    "\n",
    "Seaborn is a powerful Python library that makes it easy to create informative and attractive visualizations. This course provides an introduction to Seaborn and teaches you how to visualize your data using plots such as scatter plots, box plots, and bar plots. You’ll do this while exploring survey responses about student hobbies and the factors that are associated with academic success. You’ll also learn about some of Seaborn’s advantages as a statistical visualization tool, such as how it automatically calculates confidence intervals. By the end of the course, you will be able to use Seaborn in a variety of situations to explore your data and effectively communicate the results of your data analyses to others."
   ]
  },
  {
   "cell_type": "markdown",
   "id": "37d20753-c554-4a08-af0c-ea2834951c38",
   "metadata": {},
   "source": [
    "##  Introduction to Seaborn\n",
    "Free\n",
    "0%\n",
    "\n",
    "What is Seaborn, and when should you use it? In this chapter, you will find out! Plus, you will learn how to create scatter plots and count plots with both lists of data and pandas DataFrames. You will also be introduced to one of the big advantages of using Seaborn - the ability to easily add a third variable to your plots by using color to represent different subgroups.\n",
    "\n",
    "    Introduction to Seaborn    50 xp\n",
    "    Making a scatter plot with lists    100 xp\n",
    "    Making a count plot with a list    100 xp\n",
    "    Using pandas with Seaborn    50 xp\n",
    "    \"Tidy\" vs. \"untidy\" data    100 xp\n",
    "    Making a count plot with a DataFrame    100 xp\n",
    "    Adding a third variable with hue    50 xp\n",
    "    Hue and scatter plots    100 xp\n",
    "    Hue and count plots    100 xp \n",
    "    "
   ]
  },
  {
   "cell_type": "markdown",
   "id": "6150f158-6a67-493c-836a-954a2d48bad1",
   "metadata": {},
   "source": [
    "##  Visualizing Two Quantitative Variables\n",
    "0%\n",
    "\n",
    "In this chapter, you will create and customize plots that visualize the relationship between two quantitative variables. To do this, you will use scatter plots and line plots to explore how the level of air pollution in a city changes over the course of a day and how horsepower relates to fuel efficiency in cars. You will also see another big advantage of using Seaborn - the ability to easily create subplots in a single figure!\n",
    "\n",
    "    Introduction to relational plots and subplots    50 xp\n",
    "    Creating subplots with col and row    100 xp\n",
    "    Creating two-factor subplots    100 xp\n",
    "    Customizing scatter plots    50 xp\n",
    "    Changing the size of scatter plot points    100 xp\n",
    "    Changing the style of scatter plot points    100 xp\n",
    "    Introduction to line plots    50 xp\n",
    "    Interpreting line plots    100 xp\n",
    "    Visualizing standard deviation with line plots    100 xp\n",
    "    Plotting subgroups in line plots    100 xp\n"
   ]
  },
  {
   "cell_type": "markdown",
   "id": "2fd8f034-bfa9-4b97-ad25-99209eec4591",
   "metadata": {},
   "source": [
    "##  Visualizing a Categorical and a Quantitative Variable\n",
    "0%\n",
    "\n",
    "Categorical variables are present in nearly every dataset, but they are especially prominent in survey data. In this chapter, you will learn how to create and customize categorical plots such as box plots, bar plots, count plots, and point plots. Along the way, you will explore survey data from young people about their interests, students about their study habits, and adult men about their feelings about masculinity.\n",
    "\n",
    "    Count plots and bar plots    50 xp\n",
    "    Count plots    100 xp\n",
    "    Bar plots with percentages    100 xp\n",
    "    Customizing bar plots    100 xp\n",
    "    Box plots    50 xp\n",
    "    Create and interpret a box plot    100 xp\n",
    "    Omitting outliers    100 xp\n",
    "    Adjusting the whiskers    100 xp\n",
    "    Point plots    50 xp\n",
    "    Customizing point plots    100 xp\n",
    "    Point plots with subgroups    100 xp\n"
   ]
  },
  {
   "cell_type": "markdown",
   "id": "27a85561-348e-44da-a3a6-7149fffb6ea8",
   "metadata": {},
   "source": [
    "##  Customizing Seaborn Plots\n",
    "0%\n",
    "\n",
    "In this final chapter, you will learn how to add informative plot titles and axis labels, which are one of the most important parts of any data visualization! You will also learn how to customize the style of your visualizations in order to more quickly orient your audience to the key takeaways. Then, you will put everything you have learned together for the final exercises of the course!\n",
    "\n",
    "    Changing plot style and color    50 xp\n",
    "    Changing style and palette    100 xp\n",
    "    Changing the scale    100 xp\n",
    "    Using a custom palette    100 xp\n",
    "    Adding titles and labels: Part 1    50 xp\n",
    "    FacetGrids vs. AxesSubplots    100 xp\n",
    "    Adding a title to a FacetGrid object    100 xp\n",
    "    Adding titles and labels: Part 2    50 xp\n",
    "    Adding a title and axis labels    100 xp\n",
    "    Rotating x-tick labels    100 xp\n",
    "    Putting it all together    50 xp\n",
    "    Box plot with subgroups    100 xp\n",
    "    Bar plot with subgroups and subplots    100 xp\n",
    "    Well done! What's next?    50 xp \n",
    "    "
   ]
  },
  {
   "cell_type": "code",
   "execution_count": null,
   "id": "264b20dd-73a7-4edf-8bfc-c03eb30b7645",
   "metadata": {},
   "outputs": [],
   "source": []
  },
  {
   "cell_type": "markdown",
   "id": "b7360512-cc2b-41c5-8bdf-c744712634da",
   "metadata": {},
   "source": [
    "## Introduction to Seaborn\n",
    "\n",
    "\n",
    "\n",
    "\n",
    "\n",
    "\n",
    "\n",
    "# **Welcome to this introductory course on Seaborn.  \n",
    "\n",
    "My name is Erin Case, and I'll be your instructor.  Seaborn is a powerful Python library for creating data visualizations.  \n",
    "\n",
    "\n"
   ]
  },
  {
   "cell_type": "code",
   "execution_count": null,
   "id": "8092acc3-e35d-42a1-a2b1-5803355db6cc",
   "metadata": {},
   "outputs": [],
   "source": []
  },
  {
   "cell_type": "code",
   "execution_count": null,
   "id": "18d568fb-7fa3-43a5-a685-c7e4420b8120",
   "metadata": {},
   "outputs": [],
   "source": []
  },
  {
   "cell_type": "code",
   "execution_count": null,
   "id": "83e0b0ec-cf1c-465e-9535-872c4bfbc4b1",
   "metadata": {},
   "outputs": [],
   "source": []
  },
  {
   "cell_type": "code",
   "execution_count": null,
   "id": "cb34239d-d000-4589-a220-2b1217e2588c",
   "metadata": {},
   "outputs": [],
   "source": []
  },
  {
   "cell_type": "code",
   "execution_count": null,
   "id": "cda63ffc-a204-422d-9cc2-908b2579eace",
   "metadata": {},
   "outputs": [],
   "source": []
  },
  {
   "cell_type": "code",
   "execution_count": null,
   "id": "61e0fce8-b976-467c-892e-7261d9a4c1e7",
   "metadata": {},
   "outputs": [],
   "source": []
  },
  {
   "cell_type": "code",
   "execution_count": null,
   "id": "8ededbcc-4e14-43e0-ac94-efd8252010e3",
   "metadata": {},
   "outputs": [],
   "source": []
  },
  {
   "cell_type": "code",
   "execution_count": null,
   "id": "33b904e3-9f4c-4799-8c6f-000ab30b6a21",
   "metadata": {},
   "outputs": [],
   "source": []
  },
  {
   "cell_type": "code",
   "execution_count": null,
   "id": "82a8eb1a-1af1-4847-8d5b-759d77f4f6a7",
   "metadata": {},
   "outputs": [],
   "source": []
  },
  {
   "cell_type": "code",
   "execution_count": null,
   "id": "f49b1b99-9009-430c-8816-90e2c651569e",
   "metadata": {},
   "outputs": [],
   "source": []
  },
  {
   "cell_type": "code",
   "execution_count": null,
   "id": "d123d2b4-08e8-484c-bd51-69bd1cf1e3b3",
   "metadata": {},
   "outputs": [],
   "source": []
  },
  {
   "cell_type": "code",
   "execution_count": null,
   "id": "fc67778e-1d5f-44ae-baea-49a36f376ef7",
   "metadata": {},
   "outputs": [],
   "source": []
  },
  {
   "cell_type": "code",
   "execution_count": null,
   "id": "ba720972-d416-4ba7-bf70-caa2bc78c84e",
   "metadata": {},
   "outputs": [],
   "source": []
  },
  {
   "cell_type": "code",
   "execution_count": null,
   "id": "2b081bcd-a72c-477a-b45b-bd871b2d5c78",
   "metadata": {},
   "outputs": [],
   "source": []
  },
  {
   "cell_type": "code",
   "execution_count": null,
   "id": "adeeb9c8-7e0a-4300-923d-94d0da07dd1e",
   "metadata": {},
   "outputs": [],
   "source": []
  },
  {
   "cell_type": "code",
   "execution_count": null,
   "id": "de5b4a75-830b-47dc-9b73-18f3a3444f28",
   "metadata": {},
   "outputs": [],
   "source": []
  },
  {
   "cell_type": "code",
   "execution_count": null,
   "id": "dffb5997-65a2-499d-8f5c-cc2db87d1cd2",
   "metadata": {},
   "outputs": [],
   "source": []
  },
  {
   "cell_type": "code",
   "execution_count": null,
   "id": "ddc8b305-ca51-431a-87fc-633cd6259ab7",
   "metadata": {},
   "outputs": [],
   "source": []
  },
  {
   "cell_type": "code",
   "execution_count": null,
   "id": "92985809-c6f6-4e22-a550-4e94609b91f1",
   "metadata": {},
   "outputs": [],
   "source": []
  },
  {
   "cell_type": "code",
   "execution_count": null,
   "id": "35340311-0479-466d-8dbd-257d98c6e39d",
   "metadata": {},
   "outputs": [],
   "source": []
  },
  {
   "cell_type": "code",
   "execution_count": null,
   "id": "62615258-b15f-4d24-b805-861d00c03d4f",
   "metadata": {},
   "outputs": [],
   "source": []
  },
  {
   "cell_type": "code",
   "execution_count": null,
   "id": "a81448a2-e7cc-45b1-91c5-0ede2cbcb225",
   "metadata": {},
   "outputs": [],
   "source": []
  },
  {
   "cell_type": "code",
   "execution_count": null,
   "id": "614b1b79-599b-48b2-833b-f79e0281673a",
   "metadata": {},
   "outputs": [],
   "source": []
  },
  {
   "cell_type": "code",
   "execution_count": null,
   "id": "f800e7cb-aaa1-46f6-916d-f93e78c7b99f",
   "metadata": {},
   "outputs": [],
   "source": []
  },
  {
   "cell_type": "code",
   "execution_count": null,
   "id": "0778c13d-9963-40d1-b4d6-0b11da58610e",
   "metadata": {},
   "outputs": [],
   "source": []
  },
  {
   "cell_type": "code",
   "execution_count": null,
   "id": "5e3e12d7-ff6f-4f24-9a93-69c4119da830",
   "metadata": {},
   "outputs": [],
   "source": []
  },
  {
   "cell_type": "code",
   "execution_count": null,
   "id": "559ed16f-0c07-4ba3-aa9d-e61cccdc5da8",
   "metadata": {},
   "outputs": [],
   "source": []
  },
  {
   "cell_type": "code",
   "execution_count": null,
   "id": "a4d2da32-dd99-466c-a0c2-ab1666e567bd",
   "metadata": {},
   "outputs": [],
   "source": []
  },
  {
   "cell_type": "code",
   "execution_count": null,
   "id": "5da92609-bdee-42d4-864e-e320d7ff679c",
   "metadata": {},
   "outputs": [],
   "source": []
  },
  {
   "cell_type": "code",
   "execution_count": null,
   "id": "f4edc651-a78d-4fdf-8cf3-11af6ae550de",
   "metadata": {},
   "outputs": [],
   "source": []
  },
  {
   "cell_type": "code",
   "execution_count": null,
   "id": "0bc047fb-17f0-4536-b28e-9bd1a5125f5b",
   "metadata": {},
   "outputs": [],
   "source": []
  },
  {
   "cell_type": "code",
   "execution_count": null,
   "id": "8466ec56-357a-49ca-9c59-6e0d9ff31736",
   "metadata": {},
   "outputs": [],
   "source": []
  },
  {
   "cell_type": "code",
   "execution_count": null,
   "id": "e6f9e6b9-f60e-4c2b-b2cc-81d9aa3d8d19",
   "metadata": {},
   "outputs": [],
   "source": []
  },
  {
   "cell_type": "code",
   "execution_count": null,
   "id": "5d995da2-df6b-447a-96f6-6c19e3d4afa0",
   "metadata": {},
   "outputs": [],
   "source": []
  },
  {
   "cell_type": "code",
   "execution_count": null,
   "id": "b6ceb17f-6427-4b14-8528-6a00a9fe7046",
   "metadata": {},
   "outputs": [],
   "source": []
  },
  {
   "cell_type": "code",
   "execution_count": null,
   "id": "df231b0f-f267-4536-8e37-191fcd72b8d9",
   "metadata": {},
   "outputs": [],
   "source": []
  },
  {
   "cell_type": "code",
   "execution_count": null,
   "id": "28796144-79a4-45fe-800b-a05601faacd3",
   "metadata": {},
   "outputs": [],
   "source": []
  },
  {
   "cell_type": "code",
   "execution_count": null,
   "id": "26c0edf7-63f5-44c0-a06b-01b217f9b27e",
   "metadata": {},
   "outputs": [],
   "source": []
  },
  {
   "cell_type": "code",
   "execution_count": null,
   "id": "a8f745e2-f746-4e7b-8cea-5982c9575466",
   "metadata": {},
   "outputs": [],
   "source": []
  },
  {
   "cell_type": "code",
   "execution_count": null,
   "id": "fdf240b9-8d8e-494c-a5de-eabc29a466d3",
   "metadata": {},
   "outputs": [],
   "source": []
  },
  {
   "cell_type": "code",
   "execution_count": null,
   "id": "ef2788c9-a254-4655-941e-c79dced55ef2",
   "metadata": {},
   "outputs": [],
   "source": []
  },
  {
   "cell_type": "code",
   "execution_count": null,
   "id": "7621fbfb-7ced-43b8-b0ba-17f6878e2cba",
   "metadata": {},
   "outputs": [],
   "source": []
  }
 ],
 "metadata": {
  "kernelspec": {
   "display_name": "Python 3 (ipykernel)",
   "language": "python",
   "name": "python3"
  },
  "language_info": {
   "codemirror_mode": {
    "name": "ipython",
    "version": 3
   },
   "file_extension": ".py",
   "mimetype": "text/x-python",
   "name": "python",
   "nbconvert_exporter": "python",
   "pygments_lexer": "ipython3",
   "version": "3.9.2"
  }
 },
 "nbformat": 4,
 "nbformat_minor": 5
}
