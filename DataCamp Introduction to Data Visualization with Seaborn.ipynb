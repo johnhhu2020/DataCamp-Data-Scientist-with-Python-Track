{
 "cells": [
  {
   "cell_type": "markdown",
   "id": "955900d4-214e-45f2-84fe-328844de3012",
   "metadata": {},
   "source": [
    "## Introduction to Data Visualization with Seaborn\n",
    "\n",
    "\n"
   ]
  },
  {
   "cell_type": "markdown",
   "id": "34860ba5-4e25-4849-8d63-7a737c238f28",
   "metadata": {},
   "source": [
    "## Course Description\n",
    "\n",
    "Seaborn is a powerful Python library that makes it easy to create informative and attractive visualizations. This course provides an introduction to Seaborn and teaches you how to visualize your data using plots such as scatter plots, box plots, and bar plots. You’ll do this while exploring survey responses about student hobbies and the factors that are associated with academic success. You’ll also learn about some of Seaborn’s advantages as a statistical visualization tool, such as how it automatically calculates confidence intervals. By the end of the course, you will be able to use Seaborn in a variety of situations to explore your data and effectively communicate the results of your data analyses to others."
   ]
  },
  {
   "cell_type": "markdown",
   "id": "37d20753-c554-4a08-af0c-ea2834951c38",
   "metadata": {},
   "source": [
    "##  Introduction to Seaborn\n",
    "Free\n",
    "0%\n",
    "\n",
    "What is Seaborn, and when should you use it? In this chapter, you will find out! Plus, you will learn how to create scatter plots and count plots with both lists of data and pandas DataFrames. You will also be introduced to one of the big advantages of using Seaborn - the ability to easily add a third variable to your plots by using color to represent different subgroups.\n",
    "\n",
    "    Introduction to Seaborn    50 xp\n",
    "    Making a scatter plot with lists    100 xp\n",
    "    Making a count plot with a list    100 xp\n",
    "    Using pandas with Seaborn    50 xp\n",
    "    \"Tidy\" vs. \"untidy\" data    100 xp\n",
    "    Making a count plot with a DataFrame    100 xp\n",
    "    Adding a third variable with hue    50 xp\n",
    "    Hue and scatter plots    100 xp\n",
    "    Hue and count plots    100 xp \n",
    "    "
   ]
  },
  {
   "cell_type": "markdown",
   "id": "6150f158-6a67-493c-836a-954a2d48bad1",
   "metadata": {},
   "source": [
    "##  Visualizing Two Quantitative Variables\n",
    "0%\n",
    "\n",
    "In this chapter, you will create and customize plots that visualize the relationship between two quantitative variables. To do this, you will use scatter plots and line plots to explore how the level of air pollution in a city changes over the course of a day and how horsepower relates to fuel efficiency in cars. You will also see another big advantage of using Seaborn - the ability to easily create subplots in a single figure!\n",
    "\n",
    "    Introduction to relational plots and subplots    50 xp\n",
    "    Creating subplots with col and row    100 xp\n",
    "    Creating two-factor subplots    100 xp\n",
    "    Customizing scatter plots    50 xp\n",
    "    Changing the size of scatter plot points    100 xp\n",
    "    Changing the style of scatter plot points    100 xp\n",
    "    Introduction to line plots    50 xp\n",
    "    Interpreting line plots    100 xp\n",
    "    Visualizing standard deviation with line plots    100 xp\n",
    "    Plotting subgroups in line plots    100 xp\n"
   ]
  },
  {
   "cell_type": "markdown",
   "id": "2fd8f034-bfa9-4b97-ad25-99209eec4591",
   "metadata": {},
   "source": [
    "##  Visualizing a Categorical and a Quantitative Variable\n",
    "0%\n",
    "\n",
    "Categorical variables are present in nearly every dataset, but they are especially prominent in survey data. In this chapter, you will learn how to create and customize categorical plots such as box plots, bar plots, count plots, and point plots. Along the way, you will explore survey data from young people about their interests, students about their study habits, and adult men about their feelings about masculinity.\n",
    "\n",
    "    Count plots and bar plots    50 xp\n",
    "    Count plots    100 xp\n",
    "    Bar plots with percentages    100 xp\n",
    "    Customizing bar plots    100 xp\n",
    "    Box plots    50 xp\n",
    "    Create and interpret a box plot    100 xp\n",
    "    Omitting outliers    100 xp\n",
    "    Adjusting the whiskers    100 xp\n",
    "    Point plots    50 xp\n",
    "    Customizing point plots    100 xp\n",
    "    Point plots with subgroups    100 xp\n"
   ]
  },
  {
   "cell_type": "markdown",
   "id": "27a85561-348e-44da-a3a6-7149fffb6ea8",
   "metadata": {},
   "source": [
    "##  Customizing Seaborn Plots\n",
    "0%\n",
    "\n",
    "In this final chapter, you will learn how to add informative plot titles and axis labels, which are one of the most important parts of any data visualization! You will also learn how to customize the style of your visualizations in order to more quickly orient your audience to the key takeaways. Then, you will put everything you have learned together for the final exercises of the course!\n",
    "\n",
    "    Changing plot style and color    50 xp\n",
    "    Changing style and palette    100 xp\n",
    "    Changing the scale    100 xp\n",
    "    Using a custom palette    100 xp\n",
    "    Adding titles and labels: Part 1    50 xp\n",
    "    FacetGrids vs. AxesSubplots    100 xp\n",
    "    Adding a title to a FacetGrid object    100 xp\n",
    "    Adding titles and labels: Part 2    50 xp\n",
    "    Adding a title and axis labels    100 xp\n",
    "    Rotating x-tick labels    100 xp\n",
    "    Putting it all together    50 xp\n",
    "    Box plot with subgroups    100 xp\n",
    "    Bar plot with subgroups and subplots    100 xp\n",
    "    Well done! What's next?    50 xp \n",
    "    "
   ]
  },
  {
   "cell_type": "code",
   "execution_count": null,
   "id": "264b20dd-73a7-4edf-8bfc-c03eb30b7645",
   "metadata": {},
   "outputs": [],
   "source": []
  },
  {
   "cell_type": "markdown",
   "id": "b7360512-cc2b-41c5-8bdf-c744712634da",
   "metadata": {},
   "source": [
    "## Introduction to Seaborn\n",
    "\n",
    "\n",
    "\n",
    "\n",
    "\n",
    "\n",
    "\n",
    "# **Welcome to this introductory course on Seaborn.  \n",
    "\n",
    "My name is Erin Case, and I'll be your instructor.  Seaborn is a powerful Python library for creating data visualizations.  It was developed in order to make it easy to create the most common types of plots.  A boxplot can be created with just a few lines of Seaborn code.  \n",
    "\n",
    "This is a picture of a typical data analysis workflow.  Data visualization is often a huge component of both data exploration phase and the communication of results, so Seaborn will be very useful there.  \n",
    "\n",
    "\n",
    "  Gather Data --> Transform & Clean --> Explore --> Analyze & Build Models --> Communicate Results\n",
    "                        ^------------------+\n",
    "\n",
    "\n",
    "# *******************************************************************************************************************\n",
    "There are several tools that can be used for data visualization, but Seaborn offers several advantages.  \n",
    "\n",
    "First, Seaborn's purpose is to make data visualization easy.  It was built to automatically handle a lot of complexity behind the scenes.  \n",
    "Second, Seaborn works extremely well with Pandas data structures.  Pandas is a Python library that is widely used for data analysis.  \n",
    "Finally, its built on top of Matplotlib, which is another Python visualization library.  Matplotlib is extremely flexible.  Seaborn allows you to take advantage of this flexibility when you need it, while avoiding the complexity that Matplotlib's flexibility can introduce.  \n",
    "\n",
    "\n",
    "To get started, we need to import Seaborn library.  The line 'import seaborn as sns' will import Seaborn as the conventionally used alias 'sns'.  The Seaborn library was apparently named after a character named Samuel Norman Seaborn form the television show 'The West Wing' - thus the standard alias in the character's initials ('sns').  We also need to import Matplotlib, which is the library that Seaborn is builton top of.  'import matplotlib.pyplot as plt'.  \n",
    "\n",
    "\n",
    "Lets now dive into an exampleto illustrate how easily you can create visualization using Seaborn.  Here we have data for 10 people consisting of lists of their heights in inches and their weights in pounds.  \n",
    "# Do taller people tend to weight more?  \n",
    "You can visualize this using a type of plot known as scatter plot, which you'll learn more about later in the course.  Use 'sns.scatterplot()' to call the '.scatterplot()' function from the Seaborn library.  Then specify what to put on the x-axis and y-axis.  Finally, call the 'plt.show()' function from Matplotlib to show the scatterplot.  This plot shows us that taller people tend to have a higher weight.  \n",
    "\n",
    "How many of our observations of heights and weights came from males vs. famales?  You can use another type of plot - the count plot, to investigate this.  Count plots take in a categorical listand return bars that represent the number of list entries per category.  Use the 'sns.countplot()' function and provide the list of every person's gender.  This countplot shows that out of the 10 observations we had in our height and weight scatter plot, 6 were male and 4 were female.  \n",
    "\n",
    "\n",
    "Now, those were a couple of simple examples.  Throughout this course, you'll learn to make more complex visualizations such as scatter plot with category color, categorical line plot with marks of each data point, line plot with error bar, and so on.  \n",
    "\n",
    "More importantly, you'll learn when to use each type of visualization in order to most effectively extract and communicate insight using data.  \n",
    "\n",
    "I'm excited to dive into Seaborn with you throughout this course.  \n",
    "\n"
   ]
  },
  {
   "cell_type": "code",
   "execution_count": 4,
   "id": "8092acc3-e35d-42a1-a2b1-5803355db6cc",
   "metadata": {},
   "outputs": [
    {
     "data": {
      "image/png": "[encoded data removed]",
      "text/plain": [
       "<Figure size 432x288 with 1 Axes>"
      ]
     },
     "metadata": {
      "needs_background": "light"
     },
     "output_type": "display_data"
    },
    {
     "data": {
      "image/png": "[encoded data removed]",
      "text/plain": [
       "<Figure size 432x288 with 1 Axes>"
      ]
     },
     "metadata": {
      "needs_background": "light"
     },
     "output_type": "display_data"
    },
    {
     "data": {
      "image/png": "[encoded data removed]",
      "text/plain": [
       "<Figure size 432x288 with 1 Axes>"
      ]
     },
     "metadata": {
      "needs_background": "light"
     },
     "output_type": "display_data"
    }
   ],
   "source": [
    "import matplotlib.pyplot as plt\n",
    "import seaborn as sns\n",
    "\n",
    "\n",
    "height = [62, 64, 69, 75, 66, 68, 65, 71, 76, 73]\n",
    "weight = [120, 136, 148, 175, 137, 165, 154, 172, 200, 187]\n",
    "gender = ['Female', 'Female', 'Female', 'Female', 'Male', 'Male', 'Male', 'Male', 'Male', 'Male']\n",
    "\n",
    "\n",
    "fig, ax = plt.subplots()\n",
    "\n",
    "\n",
    "ax.scatter(height, weight)\n",
    "\n",
    "plt.show()\n",
    "\n",
    "\n",
    "\n",
    "\n",
    "sns.scatterplot(x=height, y=weight)\n",
    "plt.show()\n",
    "\n",
    "\n",
    "\n",
    "sns.countplot(x=gender)\n",
    "plt.show()"
   ]
  },
  {
   "cell_type": "markdown",
   "id": "a0eac6a1-87b6-4cf5-b96d-c342b526ac96",
   "metadata": {},
   "source": [
    "## Making a scatter plot with lists\n",
    "\n",
    "In this exercise, we'll use a dataset that contains information about 227 countries. This dataset has lots of interesting information on each country, such as the country's birth rates, death rates, and its gross domestic product (GDP). GDP is the value of all the goods and services produced in a year, expressed as dollars per person.\n",
    "\n",
    "We've created three lists of data from this dataset to get you started. 'gdp' is a list that contains the value of GDP per country, expressed as dollars per person. 'phones' is a list of the number of mobile phones per 1,000 people in that country. Finally, 'percent_literate' is a list that contains the percent of each country's population that can read and write.\n",
    "Instructions 1/4\n",
    "25 XP\n",
    "\n",
    "    Question 1\n",
    "    Import Matplotlib and Seaborn using the standard naming convention.\n",
    "    \n",
    "    \n",
    "    \n",
    "    Question 2\n",
    "    Create a scatter plot of GDP (gdp) vs. number of phones per 1000 people (phones).\n",
    "    \n",
    "    \n",
    "    \n",
    "    Question 3\n",
    "    Display the plot.\n",
    "    \n",
    "    \n",
    "    \n",
    "    Question 4\n",
    "    Change the scatter plot so it displays the percent of the population that can read and write (percent_literate) on the y-axis.\n"
   ]
  },
  {
   "cell_type": "code",
   "execution_count": 5,
   "id": "83e0b0ec-cf1c-465e-9535-872c4bfbc4b1",
   "metadata": {},
   "outputs": [
    {
     "name": "stdout",
     "output_type": "stream",
     "text": [
      "Country                                0\n",
      "Region                                 0\n",
      "Population                             0\n",
      "Area (sq. mi.)                         0\n",
      "Pop. Density (per sq. mi.)             0\n",
      "Coastline (coast/area ratio)           0\n",
      "Net migration                          3\n",
      "Infant mortality (per 1000 births)     3\n",
      "GDP ($ per capita)                     1\n",
      "Literacy (%)                          18\n",
      "Phones (per 1000)                      4\n",
      "Arable (%)                             2\n",
      "Crops (%)                              2\n",
      "Other (%)                              2\n",
      "Climate                               22\n",
      "Birthrate                              3\n",
      "Deathrate                              4\n",
      "Agriculture                           15\n",
      "Industry                              16\n",
      "Service                               15\n",
      "dtype: int64\n",
      "             Country                               Region  Population  \\\n",
      "222       West Bank   NEAR EAST                               2460492   \n",
      "223  Western Sahara   NORTHERN AFRICA                          273008   \n",
      "224           Yemen   NEAR EAST                              21456188   \n",
      "225          Zambia   SUB-SAHARAN AFRICA                     11502010   \n",
      "226        Zimbabwe   SUB-SAHARAN AFRICA                     12236805   \n",
      "\n",
      "     Area (sq. mi.) Pop. Density (per sq. mi.) Coastline (coast/area ratio)  \\\n",
      "222            5860                      419,9                         0,00   \n",
      "223          266000                        1,0                         0,42   \n",
      "224          527970                       40,6                         0,36   \n",
      "225          752614                       15,3                         0,00   \n",
      "226          390580                       31,3                         0,00   \n",
      "\n",
      "    Net migration Infant mortality (per 1000 births)  GDP ($ per capita)  \\\n",
      "222          2,98                              19,62               800.0   \n",
      "223           NaN                                NaN                 NaN   \n",
      "224             0                               61,5               800.0   \n",
      "225             0                              88,29               800.0   \n",
      "226             0                              67,69              1900.0   \n",
      "\n",
      "    Literacy (%) Phones (per 1000) Arable (%) Crops (%) Other (%) Climate  \\\n",
      "222          NaN             145,2       16,9     18,97     64,13       3   \n",
      "223          NaN               NaN       0,02         0     99,98       1   \n",
      "224         50,2              37,2       2,78      0,24     96,98       1   \n",
      "225         80,6               8,2       7,08      0,03      92,9       2   \n",
      "226         90,7              26,8       8,32      0,34     91,34       2   \n",
      "\n",
      "    Birthrate Deathrate Agriculture Industry Service  \n",
      "222     31,67      3,92        0,09     0,28    0,63  \n",
      "223       NaN       NaN         NaN      NaN     0,4  \n",
      "224     42,89       8,3       0,135    0,472   0,393  \n",
      "225        41     19,93        0,22     0,29   0,489  \n",
      "226     28,01     21,84       0,179    0,243   0,579  \n",
      "0        700.0\n",
      "1       4500.0\n",
      "2       6000.0\n",
      "3       8000.0\n",
      "4      19000.0\n",
      "        ...   \n",
      "222      800.0\n",
      "223        NaN\n",
      "224      800.0\n",
      "225      800.0\n",
      "226     1900.0\n",
      "Name: GDP ($ per capita), Length: 227, dtype: float64\n",
      "0        32\n",
      "1       712\n",
      "2       781\n",
      "3      2595\n",
      "4      4972\n",
      "       ... \n",
      "222    1452\n",
      "223       0\n",
      "224     372\n",
      "225      82\n",
      "226     268\n",
      "Name: Phones (per 1000), Length: 227, dtype: int64\n"
     ]
    },
    {
     "data": {
      "image/png": "[encoded data removed]",
      "text/plain": [
       "<Figure size 432x288 with 1 Axes>"
      ]
     },
     "metadata": {
      "needs_background": "light"
     },
     "output_type": "display_data"
    },
    {
     "data": {
      "image/png": "[encoded data removed]",
      "text/plain": [
       "<Figure size 432x288 with 1 Axes>"
      ]
     },
     "metadata": {
      "needs_background": "light"
     },
     "output_type": "display_data"
    }
   ],
   "source": [
    "import numpy as np\n",
    "import pandas as pd\n",
    "import matplotlib.pyplot as plt\n",
    "import seaborn as sns\n",
    "\n",
    "\n",
    "countries = pd.read_csv('countries-of-the-world.csv')\n",
    "\n",
    "#countries = countries.fillna(0)\n",
    "#countries = countries.replace(np.nan, 0.0)\n",
    "\n",
    "print(countries.isna().sum())\n",
    "print(countries.tail())\n",
    "\n",
    "\n",
    "\n",
    "\n",
    "\n",
    "gdp = countries['GDP ($ per capita)'].round(0)\n",
    "\n",
    "\n",
    "countries['Phones (per 1000)'] = countries['Phones (per 1000)'].str.replace(',', '')\n",
    "countries['Literacy (%)'] = countries['Literacy (%)'].str.replace(',', '')\n",
    "\n",
    "\n",
    "countries = countries.replace(np.nan, 0.0)\n",
    "\n",
    "phones = countries['Phones (per 1000)'].astype(int)\n",
    "percent_literate = countries['Literacy (%)'].astype(int)\n",
    "\n",
    "\n",
    "print(gdp)\n",
    "print(phones)\n",
    "\n",
    "\n",
    "\n",
    "\n",
    "\n",
    "\n",
    "sns.scatterplot(x=gdp, y=phones)\n",
    "plt.show()\n",
    "\n",
    "\n",
    "\n",
    "fig, ax = plt.subplots()\n",
    "\n",
    "ax.scatter(gdp, phones)\n",
    "plt.show()"
   ]
  },
  {
   "cell_type": "code",
   "execution_count": null,
   "id": "cb34239d-d000-4589-a220-2b1217e2588c",
   "metadata": {},
   "outputs": [],
   "source": [
    "# Import Matplotlib and Seaborn\n",
    "import matplotlib.pyplot as plt\n",
    "import seaborn as sns\n",
    "\n",
    "# Change this scatter plot to have percent literate on the y-axis\n",
    "sns.scatterplot(x=gdp, y=phones)\n",
    "\n",
    "# Show plot\n",
    "plt.show()"
   ]
  },
  {
   "cell_type": "markdown",
   "id": "0cbb9922-675f-4cb6-b553-f6edc13327cc",
   "metadata": {},
   "source": [
    "## Making a count plot with a list\n",
    "\n",
    "In the last exercise, we explored a dataset that contains information about 227 countries. Let's do more exploration of this data - specifically, how many countries are in each region of the world?\n",
    "\n",
    "# To do this, we'll need to use a count plot. Count plots take in a categorical list and return bars that represent the number of list entries per category. You can create one here using a list of regions for each country, which is a variable named 'region'.\n",
    "Instructions\n",
    "100 XP\n",
    "\n",
    "    Import Matplotlib and Seaborn using the standard naming conventions.\n",
    "#    Use Seaborn to create a count plot with region on the y-axis.\n",
    "    Display the plot.\n"
   ]
  },
  {
   "cell_type": "code",
   "execution_count": 27,
   "id": "61e0fce8-b976-467c-892e-7261d9a4c1e7",
   "metadata": {},
   "outputs": [
    {
     "name": "stdout",
     "output_type": "stream",
     "text": [
      "0\n"
     ]
    },
    {
     "data": {
      "image/png": "[encoded data removed]",
      "text/plain": [
       "<Figure size 432x288 with 1 Axes>"
      ]
     },
     "metadata": {
      "needs_background": "light"
     },
     "output_type": "display_data"
    }
   ],
   "source": [
    "region = countries['Region'].str.replace('  ', '')\n",
    "\n",
    "\n",
    "\n",
    "print(region.isna().sum())\n",
    "\n",
    "\n",
    "sns.countplot(y=region)  ## TO try and to think, this is very interesting\n",
    "\n",
    "plt.xticks(rotation=90)  ############################################################################################\n",
    "\n",
    "\n",
    "plt.show()"
   ]
  },
  {
   "cell_type": "markdown",
   "id": "f688cc94-215f-4e89-93a8-744cfcbbeac9",
   "metadata": {},
   "source": [
    "## Using pandas with Seaborn\n",
    "\n",
    "\n",
    "\n",
    "\n",
    "\n",
    "\n",
    "\n",
    "**Data scientist commonly use Pandas to perform data analysis, so its huge advantage that Seaborn works extremely well with Pandas data structures.  \n",
    "\n",
    "Lets see how this works.  Pandas is a Python library for data analysis.  It can easily read datasets from many types of files including .csv and .txt files.  Pandas supports several types of data structures, but the most common one is the DataFrame object.  When you readin a dataset with Pandas, you will create a DataFrame.  Lets look at a example. \n",
    "\n",
    "Import Panndas as pd, then use .read_csv() function from pd to readin the file.  It will create a DF object.  Calling .head() method of DF object will show us the first 5 rows.  This dataset contains the results of a survery of adult men.  It has 4 columns: 'participant_id', 'age', 'how_masculine' which is that person's response to the question: 'How amsculine or manly do you feel?', and 'how_important' which is the response to the question: 'How important is it to you that other people see you as a masculine?'  \n",
    "\n",
    "Now lets look at how to make a Seaborn sns.countplot() with d DF structure.  import necessary libraries as we did before, import pandas as pd, import matplotlib.pyplot as plt, and import seaborn as sns.  Then using or creating a DF with pd.read_csv() function.  To create a count plot with a Pandas DF instead of a list of data, inside the sns.countplot() call, set x='column', and data='df'.  \n",
    "\n",
    "After displaying the Seaborn countplot, we can see that we have a nice count plot of the values in the 'how_masculine' column of our data.  This plot shows us that the most common response to the question: 'How masquline or manly di you fell?' is 'Somewhat', with 'Very' being the second most common response.  \n",
    "\n",
    "Note also that because we're using a named column in the DF, Seaborn automatically adds the name of the column as the x-axis label at the bottom.  \n",
    "\n",
    "# *******************************************************************************************************************\n",
    "Lets pause for an important note here.  Seaborn works great with Pandas DF, but only if the DF is tidy.  The 'Tidy data' means that each observation has its own row and each variable has its own column.  The df we use here is tidy because each row is a survery response with one answer to each survey question in each column.  IN that situation, making a Seaborn sns.countplot() with 'how_masculine' column works just like passing in a list of that column's values.  \n",
    "\n",
    "\n",
    "# *******************************************************************************************************************\n",
    "# *******************************************************************************************************************\n",
    "**In contracts, here is an example of an 'untidy' DF made from the same survey on masculine survery.  In the untidu DF below, notice how each row doesnt contain the same information.  Row 0 contains the age categories, row 1 and 7 contain the question text, and the other rows contain summary data of responses.  This will not work well with Seaborn.  Unlike the tidy DF, values in the 'Age' column dont look like a list of age categories for each observation.  Transforming untidy DFs into tidu ones is possible, but its not in scopefor this course.  There are other DataCamp course that can teach you how to do this.  \n",
    "\n",
    "\n",
    "\n",
    "import pandas as pd\n",
    "\n",
    "df = pd.read_csv('masculinity.csv')\n",
    "df.head()\n",
    "\n",
    "---------------------------------------------------------------\n",
    "   participant_id | age      | how_masculine | how_important\n",
    " 0              1 | 18 - 34  |      Somewhat |      Somewhat\n",
    " 1              2 | 18 - 34  |      Somewhat |      Somewhat\n",
    " 2              3 | 18 - 34  |          Very |      Not Very\n",
    " 3              4 | 18 - 34  |          Very |      Not Very\n",
    " 4              5 | 18 - 34  |          Very |          Very\n",
    "\n",
    "\n",
    "\n",
    "import matplotlib.pyplot as plt\n",
    "import seaborn as sns\n",
    "\n",
    "\n",
    "sns.countplot(x='how_masculine', \n",
    "              data=df)\n",
    "\n",
    "plt.show()\n",
    "\n",
    "\n",
    "\n",
    "\n",
    "\n",
    "\n",
    "----------------------------------------------------------------------------------------\n",
    "   AMONG ADULT MEN     | Unnamed: 1           | Adult Men | Age   | Unnamed: 4  | Unnamed: 5\n",
    "0                      |                      |           | 18-34 | 35-46       | 65 and up\n",
    "1  In general, how mas |                      |           |       |             | \n",
    "   -culine or 'mainly' |                      |           |       |             | \n",
    "   do you feel?        |                      |           |       |             |\n",
    "2                      |       Very Masculine |       37% |   29% |         42% |        37% \n",
    "3                      |   Somewhat Masculine |       46% |   47% |         46% |        47% \n",
    "4                      |   Not very Masculine |       11% |   13% |          9% |        13% \n",
    "5                      | Not at all Masculine |        5% |   10% |          2% |         3% \n",
    "6                      |            No answer |        1% |    0% |          1% |         1% \n",
    "7  How important is it |                      |           |       |             |            \n",
    "   to you that others  |                      |           |       |             |            \n",
    "   see you as masculine|                      |           |       |             |            \n",
    "8                      |       Very important |       16% |   18% |         17% |        13%\n",
    "9                      |   Somewhat important |       37% |   38% |         37% |        32%\n",
    "                       | \n",
    " \n",
    " \n",
    " \n",
    " "
   ]
  },
  {
   "cell_type": "markdown",
   "id": "75de502d-94ac-457e-b33d-4eb5ea9cfd70",
   "metadata": {},
   "source": [
    "## \"Tidy\" vs. \"untidy\" data\n",
    "\n",
    "Here, we have a sample dataset from a survey of children about their favorite animals. But can we use this dataset as-is with Seaborn? Let's use Pandas to import the csv file with the data collected from the survey and determine whether it is tidy, which is essential to having it work well with Seaborn.\n",
    "\n",
    "To get you started, the filepath to the csv file has been assigned to the variable csv_filepath.\n",
    "\n",
    "Note that because csv_filepath is a Python variable, you will not need to put quotation marks around it when you read the csv.\n",
    "Instructions 1/2\n",
    "50 XP\n",
    "\n",
    "    Question 1\n",
    "    Read the csv file located at csv_filepath into a DataFrame named df.\n",
    "    Print the head of df to show the first five rows.\n",
    "    \n",
    "    \n",
    "    \n",
    "    Question 2\n",
    "    View the first five rows of the DataFrame df. Is it tidy? Why or why not?\n",
    "Possible Answers\n",
    "\n",
    "    Yes, because there are no typos or missing values.\n",
    "    Yes, because it is well organized and easy to read.\n",
    "    No, because a single column contains different types of information.\n",
    "\n",
    "<script.py> output:\n",
    "      Unnamed: 0               How old are you?\n",
    "    0     Marion                             12\n",
    "    1      Elroy                             16\n",
    "    2        NaN  What is your favorite animal?\n",
    "    3     Marion                            dog\n",
    "    4      Elroy                            cat\n",
    "    "
   ]
  },
  {
   "cell_type": "markdown",
   "id": "9f2ae492-1d99-44c1-b03f-4eafc136e8ff",
   "metadata": {},
   "source": [
    "## Making a count plot with a DataFrame\n",
    "\n",
    "In this exercise, we'll look at the responses to a survey sent out to young people. Our primary question here is: how many young people surveyed report being scared of spiders? Survey participants were asked to agree or disagree with the statement \"I am afraid of spiders\". Responses vary from 1 to 5, where 1 is \"Strongly disagree\" and 5 is \"Strongly agree\".\n",
    "\n",
    "To get you started, the filepath to the csv file with the survey data has been assigned to the variable csv_filepath.\n",
    "\n",
    "# Note that because csv_filepath is a Python variable, you will not need to put quotation marks around it when you read the csv.\n",
    "Instructions\n",
    "100 XP\n",
    "\n",
    "    Import Matplotlib, Pandas, and Seaborn using the standard names.\n",
    "    Create a DataFrame named df from the csv file located at csv_filepath.\n",
    "    Use the 'countplot()' function with the x= and data= arguments to create a count plot with the \"Spiders\" column values on the x-axis.\n",
    "    Display the plot.\n"
   ]
  },
  {
   "cell_type": "code",
   "execution_count": 28,
   "id": "f49b1b99-9009-430c-8816-90e2c651569e",
   "metadata": {},
   "outputs": [
    {
     "name": "stdout",
     "output_type": "stream",
     "text": [
      "   Unnamed: 0  Music  Techno  Movies  History  Mathematics  Pets  Spiders  \\\n",
      "0           0    5.0     1.0     5.0      1.0          3.0   4.0      1.0   \n",
      "1           1    4.0     1.0     5.0      1.0          5.0   5.0      1.0   \n",
      "2           2    5.0     1.0     5.0      1.0          5.0   5.0      1.0   \n",
      "3           3    5.0     2.0     5.0      4.0          4.0   1.0      5.0   \n",
      "4           4    5.0     2.0     5.0      3.0          2.0   1.0      1.0   \n",
      "\n",
      "   Loneliness  Parents' advice   Internet usage  Finances   Age  Siblings  \\\n",
      "0         3.0              4.0  few hours a day       3.0  20.0       1.0   \n",
      "1         2.0              2.0  few hours a day       3.0  19.0       2.0   \n",
      "2         5.0              3.0  few hours a day       2.0  20.0       2.0   \n",
      "3         5.0              2.0  most of the day       2.0  22.0       1.0   \n",
      "4         3.0              3.0  few hours a day       4.0  20.0       1.0   \n",
      "\n",
      "   Gender Village - town  \n",
      "0  female        village  \n",
      "1  female           city  \n",
      "2  female           city  \n",
      "3  female           city  \n",
      "4  female        village  \n"
     ]
    },
    {
     "data": {
      "image/png": "[encoded data removed]",
      "text/plain": [
       "<Figure size 432x288 with 1 Axes>"
      ]
     },
     "metadata": {
      "needs_background": "light"
     },
     "output_type": "display_data"
    }
   ],
   "source": [
    "import pandas as pd\n",
    "import matplotlib.pyplot as plt\n",
    "import seaborn as sns\n",
    "\n",
    "\n",
    "\n",
    "df = pd.read_csv('young-people-survey-responses.csv')\n",
    "print(df.head())\n",
    "\n",
    "\n",
    "sns.countplot(x=df['Spiders'], data=df)\n",
    "\n",
    "\n",
    "plt.show()\n"
   ]
  },
  {
   "cell_type": "markdown",
   "id": "46168e8d-4746-498e-8df4-019257223965",
   "metadata": {},
   "source": [
    "## Adding a third variable with hue\n",
    "\n",
    "\n",
    "\n",
    "\n",
    "\n",
    "**We saw in the last lesson that a really nice advantage of Seaborn is that it works well with Pandas DF structure.  In this lesson, we'll see another big advantage that Seaborn offers: the ability to quick add a third variable to your plots by adding color.  \n",
    "\n",
    "\n",
    "To showcase this cool feature in Seaborn, we'll be using Seaborn's build-in tips dataset.  You can access it by using the 'sns.load_dataset()' functioon and passing in the name of the dataset.  These are the first few rows of the dataset.  The dataset contains one row for each table served at a restaurant and has information about things like the bill amount, how many people were at the table, and when the table was served.  \n",
    "\n",
    "# *******************************************************************************************************************\n",
    "Lets explore the relationship between the 'total_bill' and 'tip' columns using a scatter plot.  Here is the code to generate it.  The total bill per table is on the x-axis, and the total tip is on y-axis.  We can see from this plot that larger bills are associated with larger tips.  \n",
    "# What if we want to see which of the data points are smokers versus non-smokers?  \n",
    "Seaborn makes this super easy.  You can set the 'hue=' parameter equal to the DF column name 'smoker', and then Seaborn will automatically color each point by colomn category or values.  Plus it will add a legend to the plot automatically.  \n",
    "\n",
    "# 'hue_order='\n",
    "If you dont want to use Pandas, you can set it equal to a list of values instead of column names.  Hue also allows you to assert more control over the ordering and coloring of each value.  The 'hue_order=' parameter takes in a list of values and will set the order of that values in the plot accordingly.  Notice how the legend for smoker now lists 'yes' before 'no'.  \n",
    "\n",
    "# 'palette='\n",
    "You can also control the colors assigned to each value using the 'palette=' parameter.  This parameter (arg) takes in a dictionary, which is a data structure that has key-values pairs.  This dictionary should map the variable valuesto the colors you want to represent the value.  Below, we create a dictionary called 'hue_colors' that maps the value 'Yes' to the color black and the value 'No' to the color red.  When we set \"hue='smoker'\" and the 'pallette=' arg with \"palette=hue_colors\", we have a scatterplot where smokers are represented with black dots and non-smokers are represented with red dots.  \n",
    "\n",
    "# HTML hex code can be used to represent any color, any color\n",
    "In the last example, we used the words 'black' and 'red' to define what the hue colors should be.  This only works for a small set of color names that are defined in Matplotlib.  You can use a single-letter Matplotlib abbreviation instead of the full name.  You can also use HTML hex code which will allow you to choose any color you want to.  \n",
    "\n",
    "\n",
    "As a final note, hue is available in most of the Seaborn plot types.  For example a sns.countplot() showing the number of observations we have for smokers versur non-smokers with a \"hue='sex'\", further divides these smoker or not bars into four with subgroups of males and females.  From this plot, we can see that males outnumber females among both smokers and non-smokers in this dataset.  \n",
    "\n",
    "\n",
    "We'll be using 'hue=' a lot in this course.  \n",
    "\n",
    "\n"
   ]
  },
  {
   "cell_type": "code",
   "execution_count": 51,
   "id": "fc67778e-1d5f-44ae-baea-49a36f376ef7",
   "metadata": {},
   "outputs": [
    {
     "name": "stdout",
     "output_type": "stream",
     "text": [
      "   total_bill   tip     sex smoker  day    time  size\n",
      "0       16.99  1.01  Female     No  Sun  Dinner     2\n",
      "1       10.34  1.66    Male     No  Sun  Dinner     3\n",
      "2       21.01  3.50    Male     No  Sun  Dinner     3\n",
      "3       23.68  3.31    Male     No  Sun  Dinner     2\n",
      "4       24.59  3.61  Female     No  Sun  Dinner     4\n"
     ]
    },
    {
     "data": {
      "image/png": "[encoded data removed]",
      "text/plain": [
       "<Figure size 432x288 with 1 Axes>"
      ]
     },
     "metadata": {
      "needs_background": "light"
     },
     "output_type": "display_data"
    },
    {
     "data": {
      "image/png": "[encoded data removed]",
      "text/plain": [
       "<Figure size 432x288 with 1 Axes>"
      ]
     },
     "metadata": {
      "needs_background": "light"
     },
     "output_type": "display_data"
    },
    {
     "data": {
      "image/png": "[encoded data removed]",
      "text/plain": [
       "<Figure size 432x288 with 1 Axes>"
      ]
     },
     "metadata": {
      "needs_background": "light"
     },
     "output_type": "display_data"
    },
    {
     "data": {
      "image/png": "[encoded data removed]",
      "text/plain": [
       "<Figure size 432x288 with 1 Axes>"
      ]
     },
     "metadata": {
      "needs_background": "light"
     },
     "output_type": "display_data"
    }
   ],
   "source": [
    "import pandas as pd\n",
    "import matplotlib.pyplot as plt\n",
    "import seaborn as sns\n",
    "\n",
    "\n",
    "tips = pd.read_csv('tips.csv')\n",
    "print(tips.head())\n",
    "\n",
    "\n",
    "\n",
    "sns.scatterplot(x='total_bill', \n",
    "                y='tip', \n",
    "                hue='smoker', #######################################################################################\n",
    "                data=tips)\n",
    "\n",
    "\n",
    "plt.show()\n",
    "\n",
    "\n",
    "\n",
    "sns.scatterplot(x='total_bill', \n",
    "                y='tip', \n",
    "                hue='smoker',             ###########################################################################\n",
    "                hue_order=['Yes', 'No'],  ###########################################################################\n",
    "                data=tips)\n",
    "\n",
    "\n",
    "plt.show()\n",
    "\n",
    "\n",
    "\n",
    "\n",
    "hue_colors = {'Yes': 'black', \n",
    "              'No': 'red'}\n",
    "\n",
    "sns.scatterplot(x='total_bill', \n",
    "                y='tip', \n",
    "                hue='smoker', \n",
    "                palette=hue_colors,  ################################################################################\n",
    "                data=tips)\n",
    "\n",
    "\n",
    "plt.show()\n",
    "\n",
    "\n",
    "\n",
    "\n",
    "hue_colors = {'Yes': '#808080',  ### Use HTML hex code to pick any color you want, any color\n",
    "              'No': '#00FF00'}   ####################################################################################\n",
    "\n",
    "sns.scatterplot(x='total_bill', \n",
    "                y='tip', \n",
    "                hue='smoker', \n",
    "                palette=hue_colors,  \n",
    "                data=tips)\n",
    "\n",
    "\n",
    "plt.show()"
   ]
  },
  {
   "cell_type": "markdown",
   "id": "40568be7-f4ae-44d0-8f2f-87243a055ab3",
   "metadata": {},
   "source": [
    "## Hue and scatter plots\n",
    "\n",
    "# In the prior video, we learned how hue allows us to easily make subgroups within Seaborn plots. \n",
    "Let's try it out by exploring data from students in secondary school. We have a lot of information about each student like their age, where they live, their study habits and their extracurricular activities.\n",
    "\n",
    "For now, we'll look at the relationship between the number of absences they have in school and their final grade in the course, segmented by where the student lives (rural vs. urban area).\n",
    "Instructions 1/2\n",
    "50 XP\n",
    "\n",
    "    Question 1\n",
    "    Create a scatter plot with \"absences\" on the x-axis and final grade (\"G3\") on the y-axis using the DataFrame 'student_data'. Color the plot points based on \"location\" (urban vs. rural).\n",
    "    \n",
    "    \n",
    "    \n",
    "    Question 2\n",
    "    Make rural appear before urban in the legend.\n"
   ]
  },
  {
   "cell_type": "code",
   "execution_count": 53,
   "id": "4b5a7047-642a-40dc-99ff-4fd846265bc5",
   "metadata": {},
   "outputs": [
    {
     "name": "stdout",
     "output_type": "stream",
     "text": [
      "   Unnamed: 0 school sex  age famsize Pstatus  Medu  Fedu  traveltime  \\\n",
      "0           0     GP   F   18     GT3       A     4     4           2   \n",
      "1           1     GP   F   17     GT3       T     1     1           1   \n",
      "2           2     GP   F   15     LE3       T     1     1           1   \n",
      "3           3     GP   F   15     GT3       T     4     2           1   \n",
      "4           4     GP   F   16     GT3       T     3     3           1   \n",
      "\n",
      "   failures  ... goout Dalc Walc health absences  G1  G2  G3  location  \\\n",
      "0         0  ...     4    1    1      3        6   5   6   6     Urban   \n",
      "1         0  ...     3    1    1      3        4   5   5   6     Urban   \n",
      "2         3  ...     2    2    3      3       10   7   8  10     Urban   \n",
      "3         0  ...     2    1    1      5        2  15  14  15     Urban   \n",
      "4         0  ...     2    1    2      5        4   6  10  10     Urban   \n",
      "\n",
      "      study_time  \n",
      "0   2 to 5 hours  \n",
      "1   2 to 5 hours  \n",
      "2   2 to 5 hours  \n",
      "3  5 to 10 hours  \n",
      "4   2 to 5 hours  \n",
      "\n",
      "[5 rows x 30 columns]\n"
     ]
    },
    {
     "data": {
      "image/png": "[encoded data removed]",
      "text/plain": [
       "<Figure size 432x288 with 1 Axes>"
      ]
     },
     "metadata": {
      "needs_background": "light"
     },
     "output_type": "display_data"
    },
    {
     "data": {
      "image/png": "[encoded data removed]",
      "text/plain": [
       "<Figure size 432x288 with 1 Axes>"
      ]
     },
     "metadata": {
      "needs_background": "light"
     },
     "output_type": "display_data"
    }
   ],
   "source": [
    "student = pd.read_csv('student-alcohol-consumption.csv')\n",
    "\n",
    "print(student.head())\n",
    "\n",
    "\n",
    "sns.scatterplot(x='absences', \n",
    "                y='G3',\n",
    "                hue='location',\n",
    "                data=student)\n",
    "\n",
    "plt.show()\n",
    "\n",
    "\n",
    "\n",
    "#hue_colors = {'Urban':'#808080', 'Rural': '#00FF00'}\n",
    "sns.scatterplot(x='absences', \n",
    "                y='G3',\n",
    "                \n",
    "                hue='location',\n",
    "                hue_order=['Rural','Urban'],\n",
    "                data=student)\n",
    "plt.show()\n",
    "\n",
    "\n"
   ]
  },
  {
   "cell_type": "markdown",
   "id": "9199ae2d-e9d3-40c6-967a-51fc3c473ab4",
   "metadata": {},
   "source": [
    "## Hue and count plots\n",
    "\n",
    "Let's continue exploring our dataset from students in secondary school by looking at a new variable. The \"school\" column indicates the initials of which school the student attended - either \"GP\" or \"MS\".\n",
    "\n",
    "In the last exercise, we created a scatter plot where the plot points were colored based on whether the student lived in an urban or rural area. How many students live in urban vs. rural areas, and does this vary based on what school the student attends? Let's make a count plot with subgroups to find out.\n",
    "Instructions\n",
    "100 XP\n",
    "\n",
    "    Fill in the 'palette_colors' dictionary to map the \"Rural\" location value to the color \"green\" and the \"Urban\" location value to the color \"blue\".\n",
    "    Create a count plot with \"school\" on the x-axis using the student_data DataFrame.\n",
    "        Add subgroups to the plot using \"location\" variable and use the palette_colors dictionary to make the location subgroups green and blue.\n"
   ]
  },
  {
   "cell_type": "code",
   "execution_count": 55,
   "id": "2c574099-b41e-4791-8797-fba4c3e9aa33",
   "metadata": {},
   "outputs": [
    {
     "data": {
      "image/png": "[encoded data removed]",
      "text/plain": [
       "<Figure size 432x288 with 1 Axes>"
      ]
     },
     "metadata": {
      "needs_background": "light"
     },
     "output_type": "display_data"
    }
   ],
   "source": [
    "palette_colors = {'Rural': 'g', 'Urban': 'b'}\n",
    "\n",
    "\n",
    "sns.countplot(x='school', \n",
    "              hue='location', \n",
    "              palette=palette_colors,  \n",
    "              data=student)\n",
    "\n",
    "plt.show()\n"
   ]
  },
  {
   "cell_type": "markdown",
   "id": "7e313efc-d29f-47c9-afe1-6cf5c76e59fd",
   "metadata": {},
   "source": [
    "## Introduction to relational plots and subplots\n",
    "\n",
    "\n",
    "\n",
    "\n",
    "\n",
    "\n",
    "\n",
    "**\n",
    "\n",
    "\n",
    "\n",
    "\n",
    "\n"
   ]
  },
  {
   "cell_type": "code",
   "execution_count": null,
   "id": "c2843254-c273-44f7-b604-58599d8e1b3a",
   "metadata": {},
   "outputs": [],
   "source": []
  },
  {
   "cell_type": "code",
   "execution_count": null,
   "id": "7eb14ff5-a5e2-49ba-9ce3-1864d7e445dc",
   "metadata": {},
   "outputs": [],
   "source": []
  },
  {
   "cell_type": "code",
   "execution_count": null,
   "id": "1d8df4c8-ef65-49d3-bc08-f95281846630",
   "metadata": {},
   "outputs": [],
   "source": []
  },
  {
   "cell_type": "code",
   "execution_count": null,
   "id": "8731dc61-a066-450b-a4ca-8119ddc2d1da",
   "metadata": {},
   "outputs": [],
   "source": []
  },
  {
   "cell_type": "code",
   "execution_count": null,
   "id": "66e15a33-059f-4faf-afeb-bcc687ebc689",
   "metadata": {},
   "outputs": [],
   "source": []
  },
  {
   "cell_type": "code",
   "execution_count": null,
   "id": "ec3cf1bf-f921-4d65-b111-9aa8ab6de2d9",
   "metadata": {},
   "outputs": [],
   "source": []
  },
  {
   "cell_type": "code",
   "execution_count": null,
   "id": "0438a30f-e7ff-4a05-a5b3-05233fe319dc",
   "metadata": {},
   "outputs": [],
   "source": []
  },
  {
   "cell_type": "code",
   "execution_count": null,
   "id": "6fc65ab3-722e-40f2-89a1-bb6c4d462e19",
   "metadata": {},
   "outputs": [],
   "source": []
  },
  {
   "cell_type": "code",
   "execution_count": null,
   "id": "4323d6d5-7ff5-4fde-9aeb-5cee4a3d3eef",
   "metadata": {},
   "outputs": [],
   "source": []
  },
  {
   "cell_type": "code",
   "execution_count": null,
   "id": "a9774a42-7a86-43ac-90c8-0e87e2cacd56",
   "metadata": {},
   "outputs": [],
   "source": []
  },
  {
   "cell_type": "code",
   "execution_count": null,
   "id": "133a666a-26d9-43ac-b8eb-42f9fb1f9ea6",
   "metadata": {},
   "outputs": [],
   "source": []
  },
  {
   "cell_type": "code",
   "execution_count": null,
   "id": "ab110a96-0608-4a7c-adb9-47ff8830c80f",
   "metadata": {},
   "outputs": [],
   "source": []
  },
  {
   "cell_type": "code",
   "execution_count": null,
   "id": "2926148c-7331-4b0d-8e27-a3d3a4af937b",
   "metadata": {},
   "outputs": [],
   "source": []
  },
  {
   "cell_type": "code",
   "execution_count": null,
   "id": "4a6a5e3e-9775-402f-9383-f884266af348",
   "metadata": {},
   "outputs": [],
   "source": []
  },
  {
   "cell_type": "code",
   "execution_count": null,
   "id": "67f06859-13db-411a-8da8-8b4326694192",
   "metadata": {},
   "outputs": [],
   "source": []
  },
  {
   "cell_type": "code",
   "execution_count": null,
   "id": "40eea5b5-42f1-4b8c-91ae-1bdb4e6e8348",
   "metadata": {},
   "outputs": [],
   "source": []
  },
  {
   "cell_type": "code",
   "execution_count": null,
   "id": "f07da97e-cffe-4934-b870-207313baf21b",
   "metadata": {},
   "outputs": [],
   "source": []
  },
  {
   "cell_type": "code",
   "execution_count": null,
   "id": "2397889b-2ae4-4d66-b5ee-c028447a715d",
   "metadata": {},
   "outputs": [],
   "source": []
  },
  {
   "cell_type": "code",
   "execution_count": null,
   "id": "cc3427c4-77f7-4823-b84a-af15f31ae323",
   "metadata": {},
   "outputs": [],
   "source": []
  },
  {
   "cell_type": "code",
   "execution_count": null,
   "id": "77c8748b-5f4c-4466-a02f-a83a356b98b7",
   "metadata": {},
   "outputs": [],
   "source": []
  },
  {
   "cell_type": "code",
   "execution_count": null,
   "id": "3bcd44e0-2a80-4d46-bd4c-4ead88ac20f1",
   "metadata": {},
   "outputs": [],
   "source": []
  },
  {
   "cell_type": "code",
   "execution_count": null,
   "id": "36231aac-7a9c-449a-a094-5cc3423d09a9",
   "metadata": {},
   "outputs": [],
   "source": []
  },
  {
   "cell_type": "code",
   "execution_count": null,
   "id": "aa41ccba-db26-4a5f-8e14-f8943b4e14d3",
   "metadata": {},
   "outputs": [],
   "source": []
  },
  {
   "cell_type": "code",
   "execution_count": null,
   "id": "dc723944-efab-4d3f-b860-7eae53beb571",
   "metadata": {},
   "outputs": [],
   "source": []
  },
  {
   "cell_type": "code",
   "execution_count": null,
   "id": "74973aaa-a0bd-4007-bc22-e9069deac1cc",
   "metadata": {},
   "outputs": [],
   "source": []
  },
  {
   "cell_type": "code",
   "execution_count": null,
   "id": "33885108-563c-4479-8a06-37f483457ec4",
   "metadata": {},
   "outputs": [],
   "source": []
  },
  {
   "cell_type": "code",
   "execution_count": null,
   "id": "985525a9-f478-4097-9ee6-a353e404372d",
   "metadata": {},
   "outputs": [],
   "source": []
  },
  {
   "cell_type": "code",
   "execution_count": null,
   "id": "2c77d71e-a333-44f9-b6c7-27abae6e307c",
   "metadata": {},
   "outputs": [],
   "source": []
  },
  {
   "cell_type": "code",
   "execution_count": null,
   "id": "926f364d-706f-4ed3-af06-f1cbbd1f0977",
   "metadata": {},
   "outputs": [],
   "source": []
  },
  {
   "cell_type": "code",
   "execution_count": null,
   "id": "bceddde2-360c-416e-b067-fac0a5332fd9",
   "metadata": {},
   "outputs": [],
   "source": []
  },
  {
   "cell_type": "code",
   "execution_count": null,
   "id": "928c6c2a-ab1f-479d-845d-576051fbf238",
   "metadata": {},
   "outputs": [],
   "source": []
  },
  {
   "cell_type": "code",
   "execution_count": null,
   "id": "76c09855-b02e-4fd0-aee3-e3356c2e94ee",
   "metadata": {},
   "outputs": [],
   "source": []
  },
  {
   "cell_type": "code",
   "execution_count": null,
   "id": "fa04c82f-aa54-41b3-8983-91899cbbb3a3",
   "metadata": {},
   "outputs": [],
   "source": []
  },
  {
   "cell_type": "code",
   "execution_count": null,
   "id": "960cb920-11c1-4281-85e6-b1c71896998d",
   "metadata": {},
   "outputs": [],
   "source": []
  },
  {
   "cell_type": "code",
   "execution_count": null,
   "id": "8ef19f5e-86c2-4084-af9e-1663977de67e",
   "metadata": {},
   "outputs": [],
   "source": []
  },
  {
   "cell_type": "code",
   "execution_count": null,
   "id": "e2a741bf-6cf8-4198-94bc-16b67edfe29d",
   "metadata": {},
   "outputs": [],
   "source": []
  },
  {
   "cell_type": "code",
   "execution_count": null,
   "id": "ff776b5f-124b-4691-8028-03f60632522e",
   "metadata": {},
   "outputs": [],
   "source": []
  },
  {
   "cell_type": "code",
   "execution_count": null,
   "id": "20e7c5a8-b818-45e9-8d3d-d8628596e402",
   "metadata": {},
   "outputs": [],
   "source": []
  },
  {
   "cell_type": "code",
   "execution_count": null,
   "id": "79031843-6fae-4a29-ba79-336e83d9effb",
   "metadata": {},
   "outputs": [],
   "source": []
  },
  {
   "cell_type": "code",
   "execution_count": null,
   "id": "c64e894e-4f4a-4db8-ab98-345aa6db5942",
   "metadata": {},
   "outputs": [],
   "source": []
  },
  {
   "cell_type": "code",
   "execution_count": null,
   "id": "2c651b9f-8fc4-45ec-8415-5d5bf0de261a",
   "metadata": {},
   "outputs": [],
   "source": []
  },
  {
   "cell_type": "code",
   "execution_count": null,
   "id": "d3df10e0-2491-4db9-919d-35fef8a97d69",
   "metadata": {},
   "outputs": [],
   "source": []
  },
  {
   "cell_type": "code",
   "execution_count": null,
   "id": "d290ecc7-fe49-4bd2-b63f-1ddb2aae51fc",
   "metadata": {},
   "outputs": [],
   "source": []
  },
  {
   "cell_type": "code",
   "execution_count": null,
   "id": "9d998958-2dd4-42ee-8cf6-ddd45d0626e7",
   "metadata": {},
   "outputs": [],
   "source": []
  },
  {
   "cell_type": "code",
   "execution_count": null,
   "id": "f0a46019-cd3c-470f-980e-5acf5f92ff21",
   "metadata": {},
   "outputs": [],
   "source": []
  },
  {
   "cell_type": "code",
   "execution_count": null,
   "id": "11de7805-ffbe-4c30-a991-de742ddba65c",
   "metadata": {},
   "outputs": [],
   "source": []
  },
  {
   "cell_type": "code",
   "execution_count": null,
   "id": "4595b382-183d-4c86-9fde-e0e4575875ae",
   "metadata": {},
   "outputs": [],
   "source": []
  },
  {
   "cell_type": "code",
   "execution_count": null,
   "id": "8bb3fb7f-faaa-467c-8af8-5dcf0fe95925",
   "metadata": {},
   "outputs": [],
   "source": []
  },
  {
   "cell_type": "code",
   "execution_count": null,
   "id": "075d732c-7d1a-4f8d-93c2-48c4c78afeb4",
   "metadata": {},
   "outputs": [],
   "source": []
  },
  {
   "cell_type": "code",
   "execution_count": null,
   "id": "759183fc-41dc-4f3d-a9ad-1be8b2ae6104",
   "metadata": {},
   "outputs": [],
   "source": []
  },
  {
   "cell_type": "code",
   "execution_count": null,
   "id": "0723ed03-2042-4141-ad85-96af37db4b90",
   "metadata": {},
   "outputs": [],
   "source": []
  },
  {
   "cell_type": "code",
   "execution_count": null,
   "id": "d7657fdd-e4ad-40e5-8c90-2ea9ad4b1ce0",
   "metadata": {},
   "outputs": [],
   "source": []
  },
  {
   "cell_type": "code",
   "execution_count": null,
   "id": "58339f00-3a72-4a80-87fa-7102c9071808",
   "metadata": {},
   "outputs": [],
   "source": []
  },
  {
   "cell_type": "code",
   "execution_count": null,
   "id": "48d06ad6-a5b2-4833-bb93-5b445bd3d884",
   "metadata": {},
   "outputs": [],
   "source": []
  },
  {
   "cell_type": "code",
   "execution_count": null,
   "id": "248cb6cf-7bf7-40ff-8180-aa56103948d3",
   "metadata": {},
   "outputs": [],
   "source": []
  },
  {
   "cell_type": "code",
   "execution_count": null,
   "id": "2aa1e231-4f61-41f1-87ee-41a38f68dba8",
   "metadata": {},
   "outputs": [],
   "source": []
  },
  {
   "cell_type": "code",
   "execution_count": null,
   "id": "f70f1b30-4168-45af-9480-052aaae1c957",
   "metadata": {},
   "outputs": [],
   "source": []
  },
  {
   "cell_type": "code",
   "execution_count": null,
   "id": "7f45ecdb-0a7c-474c-846c-f342f9299d85",
   "metadata": {},
   "outputs": [],
   "source": []
  },
  {
   "cell_type": "code",
   "execution_count": null,
   "id": "0ea27613-a4a3-41b7-b911-c48a7aba13ab",
   "metadata": {},
   "outputs": [],
   "source": []
  },
  {
   "cell_type": "code",
   "execution_count": null,
   "id": "23878814-28c8-477e-9c09-d79db9d6b45a",
   "metadata": {},
   "outputs": [],
   "source": []
  },
  {
   "cell_type": "code",
   "execution_count": null,
   "id": "fa45089c-e5e0-46ba-b0a4-8088aa564b15",
   "metadata": {},
   "outputs": [],
   "source": []
  },
  {
   "cell_type": "code",
   "execution_count": null,
   "id": "1d44713b-4463-423a-9cb0-7d005991e6dd",
   "metadata": {},
   "outputs": [],
   "source": []
  },
  {
   "cell_type": "code",
   "execution_count": null,
   "id": "42cf56a0-c29d-4328-a60f-236ac2958255",
   "metadata": {},
   "outputs": [],
   "source": []
  },
  {
   "cell_type": "code",
   "execution_count": 64,
   "id": "ba720972-d416-4ba7-bf70-caa2bc78c84e",
   "metadata": {},
   "outputs": [
    {
     "name": "stdout",
     "output_type": "stream",
     "text": [
      "[9]\n",
      "[1]\n",
      "[9, 9]\n",
      "[1, 0]\n",
      "[9, 9, 4]\n",
      "[1, 0, 1]\n",
      "6\n"
     ]
    }
   ],
   "source": [
    "# 31: 1 quarter (25),  1 nickle (5),  1 pennies (1)\n",
    "# num_coins(31) => 3 = 1(25) + 1(5) + 1(1)\n",
    "# num_coins(34) => = 1(25) + 1(5) + 1(4)\n",
    "\n",
    "\n",
    "\n",
    "def num_coins(cents):\n",
    "    coins = [25, 10, 5, 1]\n",
    "    nums = []\n",
    "    remains = []\n",
    "    \n",
    "    for i in range(len(coins)):\n",
    "        nums.append(cents // coins[i])\n",
    "        \n",
    "        remain = cents % coins[i]\n",
    "        if remain == 0:\n",
    "            break\n",
    "            \n",
    "        remains.append(remain)\n",
    "        \n",
    "        cents = remain\n",
    "        \n",
    "        print(remains)\n",
    "        print(nums)\n",
    "    return sum(nums)\n",
    "\n",
    "\n",
    "\n",
    "print(num_coins(34))\n",
    "\n"
   ]
  },
  {
   "cell_type": "code",
   "execution_count": 2,
   "id": "f886fba2-eedf-408a-a197-f767c26643a0",
   "metadata": {},
   "outputs": [
    {
     "name": "stdout",
     "output_type": "stream",
     "text": [
      "[1, 0, 1, 1]\n",
      "[1, 0, 1, 4]\n"
     ]
    }
   ],
   "source": [
    "# 31: 1 quarter (25),  1 nickle (5),  1 pennies (1)\n",
    "# num_coins(31) => 3 = 1(25) + 1(5) + 1(1)\n",
    "# num_coins(34) => = 1(25) + 1(5) + 1(4)\n",
    "\n",
    "\n",
    "\n",
    "def num_coins(cents):\n",
    "    coins = [25, 10, 5, 1]\n",
    "    \n",
    "    num = []\n",
    "    \n",
    "    for i in coins:\n",
    "        remains = cents % i\n",
    "        num.append(cents // i)\n",
    "        \n",
    "        cents = remains\n",
    "        \n",
    "        if remains == 0:\n",
    "            break\n",
    "            \n",
    "    return num\n",
    "    \n",
    "    \n",
    "print(num_coins(31))\n",
    "print(num_coins(34))\n",
    "\n",
    "    "
   ]
  },
  {
   "cell_type": "code",
   "execution_count": 35,
   "id": "59f70f50-80ed-4e53-8f36-eaedc2ef3591",
   "metadata": {},
   "outputs": [
    {
     "name": "stdout",
     "output_type": "stream",
     "text": [
      "[3, 0, 5]\n",
      "[1, 1]\n",
      "[3, 0, 3]\n",
      "[3, 0, 3]\n",
      "[13, 0, 3]\n",
      "[5, 0, 8]\n"
     ]
    }
   ],
   "source": [
    "#  quarter (25),  pennies (1),  dime (10)\n",
    "# \n",
    "# 31 => 7   1 (25) + 6 (1)\n",
    "# 31 => 4   3 (10) + 1 (1)  Correck answer, \n",
    "# \n",
    "# You want to minize the number of coins\n",
    "# num_coins(31) => 3 = 3(10) + 1(1)\n",
    "\n",
    "\n",
    "def num_coins(cents):\n",
    "    \n",
    "    cents2 = cents\n",
    "    coins = [25, 10, 1]\n",
    "    \n",
    "    num = []\n",
    "    for i in coins:\n",
    "        remains = cents % i\n",
    "        num.append(cents // i)\n",
    "        \n",
    "        cents = remains\n",
    "        \n",
    "        if remains == 0:\n",
    "            break      \n",
    "            \n",
    "    #def min_coins():\n",
    "    \n",
    "    \n",
    "    coins2 = [10, 25, 1]\n",
    "    \n",
    "    num2 = []\n",
    "    for i in coins2:\n",
    "        remains = cents2 % i\n",
    "        num2.append(cents2 // i)\n",
    "        \n",
    "        cents2 = remains\n",
    "        \n",
    "        if remains == 0:\n",
    "            break     \n",
    "    \n",
    "    print(num2)\n",
    "        \n",
    "    if sum(num) > sum(num2):\n",
    "        return num2\n",
    "    else:\n",
    "        return num\n",
    "    \n",
    "    \n",
    "#print(num_coins(31))\n",
    "\n",
    "print(num_coins(35))\n",
    "print(num_coins(33))\n",
    "print(num_coins(133))"
   ]
  },
  {
   "cell_type": "code",
   "execution_count": 38,
   "id": "456f0cc5-9b0b-4020-9c33-43debcd7c11b",
   "metadata": {},
   "outputs": [
    {
     "name": "stdout",
     "output_type": "stream",
     "text": [
      "[2, 2, 4]\n"
     ]
    }
   ],
   "source": [
    "coins = [89, 26, 1]\n",
    "\n",
    "\n",
    "def num_coins(cents, coins):\n",
    "    nums = []\n",
    "    for i in coins:\n",
    "        \n",
    "        remains = cents % i\n",
    "        nums.append(cents // i)\n",
    "        \n",
    "        if cents // i == 0:\n",
    "            break\n",
    "        cents = remains\n",
    "    \n",
    "    return nums\n",
    "    \n",
    "coins = [89, 26, 1]\n",
    "print(num_coins(234, coins))"
   ]
  },
  {
   "cell_type": "code",
   "execution_count": 39,
   "id": "73f98181-bf0f-4cc8-b416-e10b745e4a8e",
   "metadata": {},
   "outputs": [
    {
     "data": {
      "text/plain": [
       "234"
      ]
     },
     "execution_count": 39,
     "metadata": {},
     "output_type": "execute_result"
    }
   ],
   "source": [
    "89*2+26*2+4*1"
   ]
  },
  {
   "cell_type": "code",
   "execution_count": 34,
   "id": "e6249909-cac6-4010-a79c-92309c7e80aa",
   "metadata": {},
   "outputs": [
    {
     "name": "stdout",
     "output_type": "stream",
     "text": [
      "[0, 0, 0, 0, 0, 0, 0, 0, 0, 0, 0, 0, 0, 0, 0, 0, 0, 0, 0, 0, 0, 0, 0, 0, 0, 0, 0, 0, 0, 0, 0, 0]\n",
      "[0, 1, 0, 0, 0, 0, 0, 0, 0, 0, 0, 0, 0, 0, 0, 0, 0, 0, 0, 0, 0, 0, 0, 0, 0, 0, 0, 0, 0, 0, 0, 0]\n",
      "[0, 1, 2, 0, 0, 0, 0, 0, 0, 0, 0, 0, 0, 0, 0, 0, 0, 0, 0, 0, 0, 0, 0, 0, 0, 0, 0, 0, 0, 0, 0, 0]\n",
      "[0, 1, 2, 3, 0, 0, 0, 0, 0, 0, 0, 0, 0, 0, 0, 0, 0, 0, 0, 0, 0, 0, 0, 0, 0, 0, 0, 0, 0, 0, 0, 0]\n",
      "[0, 1, 2, 3, 4, 0, 0, 0, 0, 0, 0, 0, 0, 0, 0, 0, 0, 0, 0, 0, 0, 0, 0, 0, 0, 0, 0, 0, 0, 0, 0, 0]\n",
      "[0, 1, 2, 3, 4, 5, 0, 0, 0, 0, 0, 0, 0, 0, 0, 0, 0, 0, 0, 0, 0, 0, 0, 0, 0, 0, 0, 0, 0, 0, 0, 0]\n",
      "[0, 1, 2, 3, 4, 5, 6, 0, 0, 0, 0, 0, 0, 0, 0, 0, 0, 0, 0, 0, 0, 0, 0, 0, 0, 0, 0, 0, 0, 0, 0, 0]\n",
      "[0, 1, 2, 3, 4, 5, 6, 7, 0, 0, 0, 0, 0, 0, 0, 0, 0, 0, 0, 0, 0, 0, 0, 0, 0, 0, 0, 0, 0, 0, 0, 0]\n",
      "[0, 1, 2, 3, 4, 5, 6, 7, 8, 0, 0, 0, 0, 0, 0, 0, 0, 0, 0, 0, 0, 0, 0, 0, 0, 0, 0, 0, 0, 0, 0, 0]\n",
      "[0, 1, 2, 3, 4, 5, 6, 7, 8, 9, 0, 0, 0, 0, 0, 0, 0, 0, 0, 0, 0, 0, 0, 0, 0, 0, 0, 0, 0, 0, 0, 0]\n",
      "[0, 1, 2, 3, 4, 5, 6, 7, 8, 9, 1, 0, 0, 0, 0, 0, 0, 0, 0, 0, 0, 0, 0, 0, 0, 0, 0, 0, 0, 0, 0, 0]\n",
      "[0, 1, 2, 3, 4, 5, 6, 7, 8, 9, 1, 1, 0, 0, 0, 0, 0, 0, 0, 0, 0, 0, 0, 0, 0, 0, 0, 0, 0, 0, 0, 0]\n",
      "[0, 1, 2, 3, 4, 5, 6, 7, 8, 9, 1, 1, 1, 0, 0, 0, 0, 0, 0, 0, 0, 0, 0, 0, 0, 0, 0, 0, 0, 0, 0, 0]\n",
      "[0, 1, 2, 3, 4, 5, 6, 7, 8, 9, 1, 1, 1, 1, 0, 0, 0, 0, 0, 0, 0, 0, 0, 0, 0, 0, 0, 0, 0, 0, 0, 0]\n",
      "[0, 1, 2, 3, 4, 5, 6, 7, 8, 9, 1, 1, 1, 1, 1, 0, 0, 0, 0, 0, 0, 0, 0, 0, 0, 0, 0, 0, 0, 0, 0, 0]\n",
      "[0, 1, 2, 3, 4, 5, 6, 7, 8, 9, 1, 1, 1, 1, 1, 1, 0, 0, 0, 0, 0, 0, 0, 0, 0, 0, 0, 0, 0, 0, 0, 0]\n",
      "[0, 1, 2, 3, 4, 5, 6, 7, 8, 9, 1, 1, 1, 1, 1, 1, 1, 0, 0, 0, 0, 0, 0, 0, 0, 0, 0, 0, 0, 0, 0, 0]\n",
      "[0, 1, 2, 3, 4, 5, 6, 7, 8, 9, 1, 1, 1, 1, 1, 1, 1, 1, 0, 0, 0, 0, 0, 0, 0, 0, 0, 0, 0, 0, 0, 0]\n",
      "[0, 1, 2, 3, 4, 5, 6, 7, 8, 9, 1, 1, 1, 1, 1, 1, 1, 1, 1, 0, 0, 0, 0, 0, 0, 0, 0, 0, 0, 0, 0, 0]\n",
      "[0, 1, 2, 3, 4, 5, 6, 7, 8, 9, 1, 1, 1, 1, 1, 1, 1, 1, 1, 1, 0, 0, 0, 0, 0, 0, 0, 0, 0, 0, 0, 0]\n",
      "[0, 1, 2, 3, 4, 5, 6, 7, 8, 9, 1, 1, 1, 1, 1, 1, 1, 1, 1, 1, 3, 0, 0, 0, 0, 0, 0, 0, 0, 0, 0, 0]\n",
      "[0, 1, 2, 3, 4, 5, 6, 7, 8, 9, 1, 1, 1, 1, 1, 1, 1, 1, 1, 1, 3, 3, 0, 0, 0, 0, 0, 0, 0, 0, 0, 0]\n",
      "[0, 1, 2, 3, 4, 5, 6, 7, 8, 9, 1, 1, 1, 1, 1, 1, 1, 1, 1, 1, 3, 3, 3, 0, 0, 0, 0, 0, 0, 0, 0, 0]\n",
      "[0, 1, 2, 3, 4, 5, 6, 7, 8, 9, 1, 1, 1, 1, 1, 1, 1, 1, 1, 1, 3, 3, 3, 3, 0, 0, 0, 0, 0, 0, 0, 0]\n",
      "[0, 1, 2, 3, 4, 5, 6, 7, 8, 9, 1, 1, 1, 1, 1, 1, 1, 1, 1, 1, 3, 3, 3, 3, 3, 0, 0, 0, 0, 0, 0, 0]\n",
      "[0, 1, 2, 3, 4, 5, 6, 7, 8, 9, 1, 1, 1, 1, 1, 1, 1, 1, 1, 1, 3, 3, 3, 3, 3, 3, 0, 0, 0, 0, 0, 0]\n",
      "[0, 1, 2, 3, 4, 5, 6, 7, 8, 9, 1, 1, 1, 1, 1, 1, 1, 1, 1, 1, 3, 3, 3, 3, 3, 3, 3, 0, 0, 0, 0, 0]\n",
      "[0, 1, 2, 3, 4, 5, 6, 7, 8, 9, 1, 1, 1, 1, 1, 1, 1, 1, 1, 1, 3, 3, 3, 3, 3, 3, 3, 3, 0, 0, 0, 0]\n",
      "[0, 1, 2, 3, 4, 5, 6, 7, 8, 9, 1, 1, 1, 1, 1, 1, 1, 1, 1, 1, 3, 3, 3, 3, 3, 3, 3, 3, 3, 0, 0, 0]\n",
      "[0, 1, 2, 3, 4, 5, 6, 7, 8, 9, 1, 1, 1, 1, 1, 1, 1, 1, 1, 1, 3, 3, 3, 3, 3, 3, 3, 3, 3, 3, 0, 0]\n",
      "[0, 1, 2, 3, 4, 5, 6, 7, 8, 9, 1, 1, 1, 1, 1, 1, 1, 1, 1, 1, 3, 3, 3, 3, 3, 3, 3, 3, 3, 3, 4, 0]\n",
      "[0, 1, 2, 3, 4, 5, 6, 7, 8, 9, 1, 1, 1, 1, 1, 1, 1, 1, 1, 1, 3, 3, 3, 3, 3, 3, 3, 3, 3, 3, 4, 4]\n",
      "4\n",
      "[0, 0, 0, 0, 0, 0, 0, 0, 0, 0, 0, 0, 0, 0, 0, 0, 0, 0, 0, 0, 0, 0, 0, 0, 0, 0, 0, 0, 0, 0, 0, 0, 0, 0, 0, 0]\n",
      "[0, 1, 0, 0, 0, 0, 0, 0, 0, 0, 0, 0, 0, 0, 0, 0, 0, 0, 0, 0, 0, 0, 0, 0, 0, 0, 0, 0, 0, 0, 0, 0, 0, 0, 0, 0]\n",
      "[0, 1, 2, 0, 0, 0, 0, 0, 0, 0, 0, 0, 0, 0, 0, 0, 0, 0, 0, 0, 0, 0, 0, 0, 0, 0, 0, 0, 0, 0, 0, 0, 0, 0, 0, 0]\n",
      "[0, 1, 2, 3, 0, 0, 0, 0, 0, 0, 0, 0, 0, 0, 0, 0, 0, 0, 0, 0, 0, 0, 0, 0, 0, 0, 0, 0, 0, 0, 0, 0, 0, 0, 0, 0]\n",
      "[0, 1, 2, 3, 4, 0, 0, 0, 0, 0, 0, 0, 0, 0, 0, 0, 0, 0, 0, 0, 0, 0, 0, 0, 0, 0, 0, 0, 0, 0, 0, 0, 0, 0, 0, 0]\n",
      "[0, 1, 2, 3, 4, 5, 0, 0, 0, 0, 0, 0, 0, 0, 0, 0, 0, 0, 0, 0, 0, 0, 0, 0, 0, 0, 0, 0, 0, 0, 0, 0, 0, 0, 0, 0]\n",
      "[0, 1, 2, 3, 4, 5, 6, 0, 0, 0, 0, 0, 0, 0, 0, 0, 0, 0, 0, 0, 0, 0, 0, 0, 0, 0, 0, 0, 0, 0, 0, 0, 0, 0, 0, 0]\n",
      "[0, 1, 2, 3, 4, 5, 6, 7, 0, 0, 0, 0, 0, 0, 0, 0, 0, 0, 0, 0, 0, 0, 0, 0, 0, 0, 0, 0, 0, 0, 0, 0, 0, 0, 0, 0]\n",
      "[0, 1, 2, 3, 4, 5, 6, 7, 8, 0, 0, 0, 0, 0, 0, 0, 0, 0, 0, 0, 0, 0, 0, 0, 0, 0, 0, 0, 0, 0, 0, 0, 0, 0, 0, 0]\n",
      "[0, 1, 2, 3, 4, 5, 6, 7, 8, 9, 0, 0, 0, 0, 0, 0, 0, 0, 0, 0, 0, 0, 0, 0, 0, 0, 0, 0, 0, 0, 0, 0, 0, 0, 0, 0]\n",
      "[0, 1, 2, 3, 4, 5, 6, 7, 8, 9, 1, 0, 0, 0, 0, 0, 0, 0, 0, 0, 0, 0, 0, 0, 0, 0, 0, 0, 0, 0, 0, 0, 0, 0, 0, 0]\n",
      "[0, 1, 2, 3, 4, 5, 6, 7, 8, 9, 1, 1, 0, 0, 0, 0, 0, 0, 0, 0, 0, 0, 0, 0, 0, 0, 0, 0, 0, 0, 0, 0, 0, 0, 0, 0]\n",
      "[0, 1, 2, 3, 4, 5, 6, 7, 8, 9, 1, 1, 1, 0, 0, 0, 0, 0, 0, 0, 0, 0, 0, 0, 0, 0, 0, 0, 0, 0, 0, 0, 0, 0, 0, 0]\n",
      "[0, 1, 2, 3, 4, 5, 6, 7, 8, 9, 1, 1, 1, 1, 0, 0, 0, 0, 0, 0, 0, 0, 0, 0, 0, 0, 0, 0, 0, 0, 0, 0, 0, 0, 0, 0]\n",
      "[0, 1, 2, 3, 4, 5, 6, 7, 8, 9, 1, 1, 1, 1, 1, 0, 0, 0, 0, 0, 0, 0, 0, 0, 0, 0, 0, 0, 0, 0, 0, 0, 0, 0, 0, 0]\n",
      "[0, 1, 2, 3, 4, 5, 6, 7, 8, 9, 1, 1, 1, 1, 1, 1, 0, 0, 0, 0, 0, 0, 0, 0, 0, 0, 0, 0, 0, 0, 0, 0, 0, 0, 0, 0]\n",
      "[0, 1, 2, 3, 4, 5, 6, 7, 8, 9, 1, 1, 1, 1, 1, 1, 1, 0, 0, 0, 0, 0, 0, 0, 0, 0, 0, 0, 0, 0, 0, 0, 0, 0, 0, 0]\n",
      "[0, 1, 2, 3, 4, 5, 6, 7, 8, 9, 1, 1, 1, 1, 1, 1, 1, 1, 0, 0, 0, 0, 0, 0, 0, 0, 0, 0, 0, 0, 0, 0, 0, 0, 0, 0]\n",
      "[0, 1, 2, 3, 4, 5, 6, 7, 8, 9, 1, 1, 1, 1, 1, 1, 1, 1, 1, 0, 0, 0, 0, 0, 0, 0, 0, 0, 0, 0, 0, 0, 0, 0, 0, 0]\n",
      "[0, 1, 2, 3, 4, 5, 6, 7, 8, 9, 1, 1, 1, 1, 1, 1, 1, 1, 1, 1, 0, 0, 0, 0, 0, 0, 0, 0, 0, 0, 0, 0, 0, 0, 0, 0]\n",
      "[0, 1, 2, 3, 4, 5, 6, 7, 8, 9, 1, 1, 1, 1, 1, 1, 1, 1, 1, 1, 3, 0, 0, 0, 0, 0, 0, 0, 0, 0, 0, 0, 0, 0, 0, 0]\n",
      "[0, 1, 2, 3, 4, 5, 6, 7, 8, 9, 1, 1, 1, 1, 1, 1, 1, 1, 1, 1, 3, 3, 0, 0, 0, 0, 0, 0, 0, 0, 0, 0, 0, 0, 0, 0]\n",
      "[0, 1, 2, 3, 4, 5, 6, 7, 8, 9, 1, 1, 1, 1, 1, 1, 1, 1, 1, 1, 3, 3, 3, 0, 0, 0, 0, 0, 0, 0, 0, 0, 0, 0, 0, 0]\n",
      "[0, 1, 2, 3, 4, 5, 6, 7, 8, 9, 1, 1, 1, 1, 1, 1, 1, 1, 1, 1, 3, 3, 3, 3, 0, 0, 0, 0, 0, 0, 0, 0, 0, 0, 0, 0]\n",
      "[0, 1, 2, 3, 4, 5, 6, 7, 8, 9, 1, 1, 1, 1, 1, 1, 1, 1, 1, 1, 3, 3, 3, 3, 3, 0, 0, 0, 0, 0, 0, 0, 0, 0, 0, 0]\n",
      "[0, 1, 2, 3, 4, 5, 6, 7, 8, 9, 1, 1, 1, 1, 1, 1, 1, 1, 1, 1, 3, 3, 3, 3, 3, 2, 0, 0, 0, 0, 0, 0, 0, 0, 0, 0]\n",
      "[0, 1, 2, 3, 4, 5, 6, 7, 8, 9, 1, 1, 1, 1, 1, 1, 1, 1, 1, 1, 3, 3, 3, 3, 3, 2, 2, 0, 0, 0, 0, 0, 0, 0, 0, 0]\n",
      "[0, 1, 2, 3, 4, 5, 6, 7, 8, 9, 1, 1, 1, 1, 1, 1, 1, 1, 1, 1, 3, 3, 3, 3, 3, 2, 2, 2, 0, 0, 0, 0, 0, 0, 0, 0]\n",
      "[0, 1, 2, 3, 4, 5, 6, 7, 8, 9, 1, 1, 1, 1, 1, 1, 1, 1, 1, 1, 3, 3, 3, 3, 3, 2, 2, 2, 2, 0, 0, 0, 0, 0, 0, 0]\n",
      "[0, 1, 2, 3, 4, 5, 6, 7, 8, 9, 1, 1, 1, 1, 1, 1, 1, 1, 1, 1, 3, 3, 3, 3, 3, 2, 2, 2, 2, 2, 0, 0, 0, 0, 0, 0]\n",
      "[0, 1, 2, 3, 4, 5, 6, 7, 8, 9, 1, 1, 1, 1, 1, 1, 1, 1, 1, 1, 3, 3, 3, 3, 3, 2, 2, 2, 2, 2, 2, 0, 0, 0, 0, 0]\n",
      "[0, 1, 2, 3, 4, 5, 6, 7, 8, 9, 1, 1, 1, 1, 1, 1, 1, 1, 1, 1, 3, 3, 3, 3, 3, 2, 2, 2, 2, 2, 2, 2, 0, 0, 0, 0]\n",
      "[0, 1, 2, 3, 4, 5, 6, 7, 8, 9, 1, 1, 1, 1, 1, 1, 1, 1, 1, 1, 3, 3, 3, 3, 3, 2, 2, 2, 2, 2, 2, 2, 2, 0, 0, 0]\n",
      "[0, 1, 2, 3, 4, 5, 6, 7, 8, 9, 1, 1, 1, 1, 1, 1, 1, 1, 1, 1, 3, 3, 3, 3, 3, 2, 2, 2, 2, 2, 2, 2, 2, 2, 0, 0]\n",
      "[0, 1, 2, 3, 4, 5, 6, 7, 8, 9, 1, 1, 1, 1, 1, 1, 1, 1, 1, 1, 3, 3, 3, 3, 3, 2, 2, 2, 2, 2, 2, 2, 2, 2, 2, 0]\n",
      "[0, 1, 2, 3, 4, 5, 6, 7, 8, 9, 1, 1, 1, 1, 1, 1, 1, 1, 1, 1, 3, 3, 3, 3, 3, 2, 2, 2, 2, 2, 2, 2, 2, 2, 2, 2]\n",
      "2\n",
      "[0, 0, 0, 0, 0, 0, 0, 0, 0, 0, 0, 0, 0, 0, 0, 0, 0, 0, 0, 0, 0, 0, 0, 0, 0, 0]\n",
      "[0, 1, 0, 0, 0, 0, 0, 0, 0, 0, 0, 0, 0, 0, 0, 0, 0, 0, 0, 0, 0, 0, 0, 0, 0, 0]\n",
      "[0, 1, 2, 0, 0, 0, 0, 0, 0, 0, 0, 0, 0, 0, 0, 0, 0, 0, 0, 0, 0, 0, 0, 0, 0, 0]\n",
      "[0, 1, 2, 3, 0, 0, 0, 0, 0, 0, 0, 0, 0, 0, 0, 0, 0, 0, 0, 0, 0, 0, 0, 0, 0, 0]\n",
      "[0, 1, 2, 3, 4, 0, 0, 0, 0, 0, 0, 0, 0, 0, 0, 0, 0, 0, 0, 0, 0, 0, 0, 0, 0, 0]\n",
      "[0, 1, 2, 3, 4, 5, 0, 0, 0, 0, 0, 0, 0, 0, 0, 0, 0, 0, 0, 0, 0, 0, 0, 0, 0, 0]\n",
      "[0, 1, 2, 3, 4, 5, 6, 0, 0, 0, 0, 0, 0, 0, 0, 0, 0, 0, 0, 0, 0, 0, 0, 0, 0, 0]\n",
      "[0, 1, 2, 3, 4, 5, 6, 7, 0, 0, 0, 0, 0, 0, 0, 0, 0, 0, 0, 0, 0, 0, 0, 0, 0, 0]\n",
      "[0, 1, 2, 3, 4, 5, 6, 7, 8, 0, 0, 0, 0, 0, 0, 0, 0, 0, 0, 0, 0, 0, 0, 0, 0, 0]\n",
      "[0, 1, 2, 3, 4, 5, 6, 7, 8, 9, 0, 0, 0, 0, 0, 0, 0, 0, 0, 0, 0, 0, 0, 0, 0, 0]\n",
      "[0, 1, 2, 3, 4, 5, 6, 7, 8, 9, 1, 0, 0, 0, 0, 0, 0, 0, 0, 0, 0, 0, 0, 0, 0, 0]\n",
      "[0, 1, 2, 3, 4, 5, 6, 7, 8, 9, 1, 1, 0, 0, 0, 0, 0, 0, 0, 0, 0, 0, 0, 0, 0, 0]\n",
      "[0, 1, 2, 3, 4, 5, 6, 7, 8, 9, 1, 1, 1, 0, 0, 0, 0, 0, 0, 0, 0, 0, 0, 0, 0, 0]\n",
      "[0, 1, 2, 3, 4, 5, 6, 7, 8, 9, 1, 1, 1, 1, 0, 0, 0, 0, 0, 0, 0, 0, 0, 0, 0, 0]\n",
      "[0, 1, 2, 3, 4, 5, 6, 7, 8, 9, 1, 1, 1, 1, 1, 0, 0, 0, 0, 0, 0, 0, 0, 0, 0, 0]\n",
      "[0, 1, 2, 3, 4, 5, 6, 7, 8, 9, 1, 1, 1, 1, 1, 1, 0, 0, 0, 0, 0, 0, 0, 0, 0, 0]\n",
      "[0, 1, 2, 3, 4, 5, 6, 7, 8, 9, 1, 1, 1, 1, 1, 1, 2, 0, 0, 0, 0, 0, 0, 0, 0, 0]\n",
      "[0, 1, 2, 3, 4, 5, 6, 7, 8, 9, 1, 1, 1, 1, 1, 1, 2, 2, 0, 0, 0, 0, 0, 0, 0, 0]\n",
      "[0, 1, 2, 3, 4, 5, 6, 7, 8, 9, 1, 1, 1, 1, 1, 1, 2, 2, 2, 0, 0, 0, 0, 0, 0, 0]\n",
      "[0, 1, 2, 3, 4, 5, 6, 7, 8, 9, 1, 1, 1, 1, 1, 1, 2, 2, 2, 2, 0, 0, 0, 0, 0, 0]\n",
      "[0, 1, 2, 3, 4, 5, 6, 7, 8, 9, 1, 1, 1, 1, 1, 1, 2, 2, 2, 2, 7, 0, 0, 0, 0, 0]\n",
      "[0, 1, 2, 3, 4, 5, 6, 7, 8, 9, 1, 1, 1, 1, 1, 1, 2, 2, 2, 2, 7, 7, 0, 0, 0, 0]\n",
      "[0, 1, 2, 3, 4, 5, 6, 7, 8, 9, 1, 1, 1, 1, 1, 1, 2, 2, 2, 2, 7, 7, 7, 0, 0, 0]\n",
      "[0, 1, 2, 3, 4, 5, 6, 7, 8, 9, 1, 1, 1, 1, 1, 1, 2, 2, 2, 2, 7, 7, 7, 7, 0, 0]\n",
      "[0, 1, 2, 3, 4, 5, 6, 7, 8, 9, 1, 1, 1, 1, 1, 1, 2, 2, 2, 2, 7, 7, 7, 7, 7, 0]\n",
      "[0, 1, 2, 3, 4, 5, 6, 7, 8, 9, 1, 1, 1, 1, 1, 1, 2, 2, 2, 2, 7, 7, 7, 7, 7, 1]\n",
      "1\n",
      "[0, 0, 0, 0, 0, 0, 0, 0, 0, 0, 0, 0, 0, 0, 0, 0, 0, 0, 0, 0, 0, 0, 0, 0, 0, 0, 0, 0, 0, 0, 0, 0, 0, 0]\n",
      "[0, 1, 0, 0, 0, 0, 0, 0, 0, 0, 0, 0, 0, 0, 0, 0, 0, 0, 0, 0, 0, 0, 0, 0, 0, 0, 0, 0, 0, 0, 0, 0, 0, 0]\n",
      "[0, 1, 2, 0, 0, 0, 0, 0, 0, 0, 0, 0, 0, 0, 0, 0, 0, 0, 0, 0, 0, 0, 0, 0, 0, 0, 0, 0, 0, 0, 0, 0, 0, 0]\n",
      "[0, 1, 2, 3, 0, 0, 0, 0, 0, 0, 0, 0, 0, 0, 0, 0, 0, 0, 0, 0, 0, 0, 0, 0, 0, 0, 0, 0, 0, 0, 0, 0, 0, 0]\n",
      "[0, 1, 2, 3, 4, 0, 0, 0, 0, 0, 0, 0, 0, 0, 0, 0, 0, 0, 0, 0, 0, 0, 0, 0, 0, 0, 0, 0, 0, 0, 0, 0, 0, 0]\n",
      "[0, 1, 2, 3, 4, 5, 0, 0, 0, 0, 0, 0, 0, 0, 0, 0, 0, 0, 0, 0, 0, 0, 0, 0, 0, 0, 0, 0, 0, 0, 0, 0, 0, 0]\n",
      "[0, 1, 2, 3, 4, 5, 6, 0, 0, 0, 0, 0, 0, 0, 0, 0, 0, 0, 0, 0, 0, 0, 0, 0, 0, 0, 0, 0, 0, 0, 0, 0, 0, 0]\n",
      "[0, 1, 2, 3, 4, 5, 6, 7, 0, 0, 0, 0, 0, 0, 0, 0, 0, 0, 0, 0, 0, 0, 0, 0, 0, 0, 0, 0, 0, 0, 0, 0, 0, 0]\n",
      "[0, 1, 2, 3, 4, 5, 6, 7, 8, 0, 0, 0, 0, 0, 0, 0, 0, 0, 0, 0, 0, 0, 0, 0, 0, 0, 0, 0, 0, 0, 0, 0, 0, 0]\n",
      "[0, 1, 2, 3, 4, 5, 6, 7, 8, 9, 0, 0, 0, 0, 0, 0, 0, 0, 0, 0, 0, 0, 0, 0, 0, 0, 0, 0, 0, 0, 0, 0, 0, 0]\n",
      "[0, 1, 2, 3, 4, 5, 6, 7, 8, 9, 1, 0, 0, 0, 0, 0, 0, 0, 0, 0, 0, 0, 0, 0, 0, 0, 0, 0, 0, 0, 0, 0, 0, 0]\n",
      "[0, 1, 2, 3, 4, 5, 6, 7, 8, 9, 1, 1, 0, 0, 0, 0, 0, 0, 0, 0, 0, 0, 0, 0, 0, 0, 0, 0, 0, 0, 0, 0, 0, 0]\n",
      "[0, 1, 2, 3, 4, 5, 6, 7, 8, 9, 1, 1, 1, 0, 0, 0, 0, 0, 0, 0, 0, 0, 0, 0, 0, 0, 0, 0, 0, 0, 0, 0, 0, 0]\n",
      "[0, 1, 2, 3, 4, 5, 6, 7, 8, 9, 1, 1, 1, 1, 0, 0, 0, 0, 0, 0, 0, 0, 0, 0, 0, 0, 0, 0, 0, 0, 0, 0, 0, 0]\n",
      "[0, 1, 2, 3, 4, 5, 6, 7, 8, 9, 1, 1, 1, 1, 1, 0, 0, 0, 0, 0, 0, 0, 0, 0, 0, 0, 0, 0, 0, 0, 0, 0, 0, 0]\n",
      "[0, 1, 2, 3, 4, 5, 6, 7, 8, 9, 1, 1, 1, 1, 1, 1, 0, 0, 0, 0, 0, 0, 0, 0, 0, 0, 0, 0, 0, 0, 0, 0, 0, 0]\n",
      "[0, 1, 2, 3, 4, 5, 6, 7, 8, 9, 1, 1, 1, 1, 1, 1, 1, 0, 0, 0, 0, 0, 0, 0, 0, 0, 0, 0, 0, 0, 0, 0, 0, 0]\n",
      "[0, 1, 2, 3, 4, 5, 6, 7, 8, 9, 1, 1, 1, 1, 1, 1, 1, 1, 0, 0, 0, 0, 0, 0, 0, 0, 0, 0, 0, 0, 0, 0, 0, 0]\n",
      "[0, 1, 2, 3, 4, 5, 6, 7, 8, 9, 1, 1, 1, 1, 1, 1, 1, 1, 1, 0, 0, 0, 0, 0, 0, 0, 0, 0, 0, 0, 0, 0, 0, 0]\n",
      "[0, 1, 2, 3, 4, 5, 6, 7, 8, 9, 1, 1, 1, 1, 1, 1, 1, 1, 1, 1, 0, 0, 0, 0, 0, 0, 0, 0, 0, 0, 0, 0, 0, 0]\n",
      "[0, 1, 2, 3, 4, 5, 6, 7, 8, 9, 1, 1, 1, 1, 1, 1, 1, 1, 1, 1, 3, 0, 0, 0, 0, 0, 0, 0, 0, 0, 0, 0, 0, 0]\n",
      "[0, 1, 2, 3, 4, 5, 6, 7, 8, 9, 1, 1, 1, 1, 1, 1, 1, 1, 1, 1, 3, 3, 0, 0, 0, 0, 0, 0, 0, 0, 0, 0, 0, 0]\n",
      "[0, 1, 2, 3, 4, 5, 6, 7, 8, 9, 1, 1, 1, 1, 1, 1, 1, 1, 1, 1, 3, 3, 3, 0, 0, 0, 0, 0, 0, 0, 0, 0, 0, 0]\n",
      "[0, 1, 2, 3, 4, 5, 6, 7, 8, 9, 1, 1, 1, 1, 1, 1, 1, 1, 1, 1, 3, 3, 3, 3, 0, 0, 0, 0, 0, 0, 0, 0, 0, 0]\n",
      "[0, 1, 2, 3, 4, 5, 6, 7, 8, 9, 1, 1, 1, 1, 1, 1, 1, 1, 1, 1, 3, 3, 3, 3, 3, 0, 0, 0, 0, 0, 0, 0, 0, 0]\n",
      "[0, 1, 2, 3, 4, 5, 6, 7, 8, 9, 1, 1, 1, 1, 1, 1, 1, 1, 1, 1, 3, 3, 3, 3, 3, 3, 0, 0, 0, 0, 0, 0, 0, 0]\n",
      "[0, 1, 2, 3, 4, 5, 6, 7, 8, 9, 1, 1, 1, 1, 1, 1, 1, 1, 1, 1, 3, 3, 3, 3, 3, 3, 3, 0, 0, 0, 0, 0, 0, 0]\n",
      "[0, 1, 2, 3, 4, 5, 6, 7, 8, 9, 1, 1, 1, 1, 1, 1, 1, 1, 1, 1, 3, 3, 3, 3, 3, 3, 3, 3, 0, 0, 0, 0, 0, 0]\n",
      "[0, 1, 2, 3, 4, 5, 6, 7, 8, 9, 1, 1, 1, 1, 1, 1, 1, 1, 1, 1, 3, 3, 3, 3, 3, 3, 3, 3, 3, 0, 0, 0, 0, 0]\n",
      "[0, 1, 2, 3, 4, 5, 6, 7, 8, 9, 1, 1, 1, 1, 1, 1, 1, 1, 1, 1, 3, 3, 3, 3, 3, 3, 3, 3, 3, 3, 0, 0, 0, 0]\n",
      "[0, 1, 2, 3, 4, 5, 6, 7, 8, 9, 1, 1, 1, 1, 1, 1, 1, 1, 1, 1, 3, 3, 3, 3, 3, 3, 3, 3, 3, 3, 6, 0, 0, 0]\n",
      "[0, 1, 2, 3, 4, 5, 6, 7, 8, 9, 1, 1, 1, 1, 1, 1, 1, 1, 1, 1, 3, 3, 3, 3, 3, 3, 3, 3, 3, 3, 6, 6, 0, 0]\n",
      "[0, 1, 2, 3, 4, 5, 6, 7, 8, 9, 1, 1, 1, 1, 1, 1, 1, 1, 1, 1, 3, 3, 3, 3, 3, 3, 3, 3, 3, 3, 6, 6, 6, 0]\n",
      "[0, 1, 2, 3, 4, 5, 6, 7, 8, 9, 1, 1, 1, 1, 1, 1, 1, 1, 1, 1, 3, 3, 3, 3, 3, 3, 3, 3, 3, 3, 6, 6, 6, 6]\n",
      "6\n"
     ]
    }
   ],
   "source": [
    "#  quarter (25),  pennies (1),  dime (10)\n",
    "# \n",
    "# 31 => 7   1 (25) + 6 (1)\n",
    "# 31 => 4   3 (10) + 1 (1)  Correck answer, \n",
    "# \n",
    "# You want to minize the number of coins\n",
    "# num_coins(31) => 3 = 3(10) + 1(1)\n",
    "\n",
    "\n",
    "def num_coins(cents):\n",
    "    \n",
    "    coins = [25, 10, 1]\n",
    "    \n",
    "    num_list = [0] * (cents + 1)\n",
    "    print(num_list)   ### Why Indian guy do this ??  DO I understand his approach ??  If I need to work with Indian guy\n",
    "    \n",
    "    for i in range(1, cents+1):\n",
    "        temp = cents + 1   ### Why we need this ??  \n",
    "        \n",
    "        for j in coins:\n",
    "            coins_num = i // j\n",
    "            if coins_num != 0:\n",
    "                temp = min(temp, coins_num + num_list[cents - coins_num * j])\n",
    "                \n",
    "        num_list[i] = temp\n",
    "        print(num_list)\n",
    "    return num_list[cents]\n",
    "    \n",
    "    \n",
    "    \n",
    "print(num_coins(31))\n",
    "print(num_coins(35))\n",
    "print(num_coins(25))\n",
    "print(num_coins(33))"
   ]
  },
  {
   "cell_type": "code",
   "execution_count": 69,
   "id": "2b081bcd-a72c-477a-b45b-bd871b2d5c78",
   "metadata": {},
   "outputs": [
    {
     "data": {
      "text/plain": [
       "6"
      ]
     },
     "execution_count": 69,
     "metadata": {},
     "output_type": "execute_result"
    }
   ],
   "source": [
    "# 31: 1 quarter (25),  1 nickle (5),  1 pennies (1)\n",
    "# num_coins(31) => 3\n",
    "\n",
    "\n",
    "\n",
    "def num_coins(cents):\n",
    "    if cents < 1:\n",
    "        return 0\n",
    "\n",
    "    coins = [25, 10, 5, 1]\n",
    "    num = 0\n",
    "    \n",
    "    for coin in coins:\n",
    "        num += cents // coin\n",
    "        cents = cents % coin\n",
    "        \n",
    "        if cents == 0:\n",
    "            break\n",
    "            \n",
    "    return num\n",
    "\n",
    "\n",
    "num_coins(34)"
   ]
  },
  {
   "cell_type": "code",
   "execution_count": null,
   "id": "adeeb9c8-7e0a-4300-923d-94d0da07dd1e",
   "metadata": {},
   "outputs": [],
   "source": []
  },
  {
   "cell_type": "code",
   "execution_count": null,
   "id": "de5b4a75-830b-47dc-9b73-18f3a3444f28",
   "metadata": {},
   "outputs": [],
   "source": []
  },
  {
   "cell_type": "code",
   "execution_count": null,
   "id": "dffb5997-65a2-499d-8f5c-cc2db87d1cd2",
   "metadata": {},
   "outputs": [],
   "source": []
  },
  {
   "cell_type": "code",
   "execution_count": null,
   "id": "ddc8b305-ca51-431a-87fc-633cd6259ab7",
   "metadata": {},
   "outputs": [],
   "source": []
  },
  {
   "cell_type": "code",
   "execution_count": null,
   "id": "92985809-c6f6-4e22-a550-4e94609b91f1",
   "metadata": {},
   "outputs": [],
   "source": []
  },
  {
   "cell_type": "code",
   "execution_count": null,
   "id": "35340311-0479-466d-8dbd-257d98c6e39d",
   "metadata": {},
   "outputs": [],
   "source": []
  },
  {
   "cell_type": "code",
   "execution_count": null,
   "id": "62615258-b15f-4d24-b805-861d00c03d4f",
   "metadata": {},
   "outputs": [],
   "source": []
  },
  {
   "cell_type": "code",
   "execution_count": null,
   "id": "a81448a2-e7cc-45b1-91c5-0ede2cbcb225",
   "metadata": {},
   "outputs": [],
   "source": []
  },
  {
   "cell_type": "code",
   "execution_count": null,
   "id": "614b1b79-599b-48b2-833b-f79e0281673a",
   "metadata": {},
   "outputs": [],
   "source": []
  },
  {
   "cell_type": "code",
   "execution_count": null,
   "id": "f800e7cb-aaa1-46f6-916d-f93e78c7b99f",
   "metadata": {},
   "outputs": [],
   "source": []
  },
  {
   "cell_type": "code",
   "execution_count": null,
   "id": "0778c13d-9963-40d1-b4d6-0b11da58610e",
   "metadata": {},
   "outputs": [],
   "source": []
  },
  {
   "cell_type": "code",
   "execution_count": null,
   "id": "5e3e12d7-ff6f-4f24-9a93-69c4119da830",
   "metadata": {},
   "outputs": [],
   "source": []
  },
  {
   "cell_type": "code",
   "execution_count": null,
   "id": "559ed16f-0c07-4ba3-aa9d-e61cccdc5da8",
   "metadata": {},
   "outputs": [],
   "source": []
  },
  {
   "cell_type": "code",
   "execution_count": null,
   "id": "a4d2da32-dd99-466c-a0c2-ab1666e567bd",
   "metadata": {},
   "outputs": [],
   "source": []
  },
  {
   "cell_type": "code",
   "execution_count": null,
   "id": "5da92609-bdee-42d4-864e-e320d7ff679c",
   "metadata": {},
   "outputs": [],
   "source": []
  },
  {
   "cell_type": "code",
   "execution_count": null,
   "id": "f4edc651-a78d-4fdf-8cf3-11af6ae550de",
   "metadata": {},
   "outputs": [],
   "source": []
  },
  {
   "cell_type": "code",
   "execution_count": null,
   "id": "0bc047fb-17f0-4536-b28e-9bd1a5125f5b",
   "metadata": {},
   "outputs": [],
   "source": []
  },
  {
   "cell_type": "code",
   "execution_count": null,
   "id": "8466ec56-357a-49ca-9c59-6e0d9ff31736",
   "metadata": {},
   "outputs": [],
   "source": []
  },
  {
   "cell_type": "code",
   "execution_count": null,
   "id": "e6f9e6b9-f60e-4c2b-b2cc-81d9aa3d8d19",
   "metadata": {},
   "outputs": [],
   "source": []
  },
  {
   "cell_type": "code",
   "execution_count": null,
   "id": "5d995da2-df6b-447a-96f6-6c19e3d4afa0",
   "metadata": {},
   "outputs": [],
   "source": []
  },
  {
   "cell_type": "code",
   "execution_count": null,
   "id": "b6ceb17f-6427-4b14-8528-6a00a9fe7046",
   "metadata": {},
   "outputs": [],
   "source": []
  },
  {
   "cell_type": "code",
   "execution_count": null,
   "id": "df231b0f-f267-4536-8e37-191fcd72b8d9",
   "metadata": {},
   "outputs": [],
   "source": []
  },
  {
   "cell_type": "code",
   "execution_count": null,
   "id": "28796144-79a4-45fe-800b-a05601faacd3",
   "metadata": {},
   "outputs": [],
   "source": []
  },
  {
   "cell_type": "code",
   "execution_count": null,
   "id": "26c0edf7-63f5-44c0-a06b-01b217f9b27e",
   "metadata": {},
   "outputs": [],
   "source": []
  },
  {
   "cell_type": "code",
   "execution_count": null,
   "id": "a8f745e2-f746-4e7b-8cea-5982c9575466",
   "metadata": {},
   "outputs": [],
   "source": []
  },
  {
   "cell_type": "code",
   "execution_count": null,
   "id": "fdf240b9-8d8e-494c-a5de-eabc29a466d3",
   "metadata": {},
   "outputs": [],
   "source": []
  },
  {
   "cell_type": "code",
   "execution_count": null,
   "id": "ef2788c9-a254-4655-941e-c79dced55ef2",
   "metadata": {},
   "outputs": [],
   "source": []
  },
  {
   "cell_type": "code",
   "execution_count": null,
   "id": "7621fbfb-7ced-43b8-b0ba-17f6878e2cba",
   "metadata": {},
   "outputs": [],
   "source": []
  }
 ],
 "metadata": {
  "kernelspec": {
   "display_name": "Python 3 (ipykernel)",
   "language": "python",
   "name": "python3"
  },
  "language_info": {
   "codemirror_mode": {
    "name": "ipython",
    "version": 3
   },
   "file_extension": ".py",
   "mimetype": "text/x-python",
   "name": "python",
   "nbconvert_exporter": "python",
   "pygments_lexer": "ipython3",
   "version": "3.9.2"
  }
 },
 "nbformat": 4,
 "nbformat_minor": 5
}
