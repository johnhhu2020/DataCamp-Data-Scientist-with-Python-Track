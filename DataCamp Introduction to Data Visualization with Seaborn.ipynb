{
 "cells": [
  {
   "cell_type": "markdown",
   "id": "955900d4-214e-45f2-84fe-328844de3012",
   "metadata": {},
   "source": [
    "## Introduction to Data Visualization with Seaborn\n",
    "\n",
    "\n"
   ]
  },
  {
   "cell_type": "markdown",
   "id": "34860ba5-4e25-4849-8d63-7a737c238f28",
   "metadata": {},
   "source": [
    "## Course Description\n",
    "\n",
    "Seaborn is a powerful Python library that makes it easy to create informative and attractive visualizations. This course provides an introduction to Seaborn and teaches you how to visualize your data using plots such as scatter plots, box plots, and bar plots. You’ll do this while exploring survey responses about student hobbies and the factors that are associated with academic success. You’ll also learn about some of Seaborn’s advantages as a statistical visualization tool, such as how it automatically calculates confidence intervals. By the end of the course, you will be able to use Seaborn in a variety of situations to explore your data and effectively communicate the results of your data analyses to others."
   ]
  },
  {
   "cell_type": "markdown",
   "id": "37d20753-c554-4a08-af0c-ea2834951c38",
   "metadata": {},
   "source": [
    "##  Introduction to Seaborn\n",
    "Free\n",
    "0%\n",
    "\n",
    "What is Seaborn, and when should you use it? In this chapter, you will find out! Plus, you will learn how to create scatter plots and count plots with both lists of data and pandas DataFrames. You will also be introduced to one of the big advantages of using Seaborn - the ability to easily add a third variable to your plots by using color to represent different subgroups.\n",
    "\n",
    "    Introduction to Seaborn    50 xp\n",
    "    Making a scatter plot with lists    100 xp\n",
    "    Making a count plot with a list    100 xp\n",
    "    Using pandas with Seaborn    50 xp\n",
    "    \"Tidy\" vs. \"untidy\" data    100 xp\n",
    "    Making a count plot with a DataFrame    100 xp\n",
    "    Adding a third variable with hue    50 xp\n",
    "    Hue and scatter plots    100 xp\n",
    "    Hue and count plots    100 xp \n",
    "    "
   ]
  },
  {
   "cell_type": "markdown",
   "id": "6150f158-6a67-493c-836a-954a2d48bad1",
   "metadata": {},
   "source": [
    "##  Visualizing Two Quantitative Variables\n",
    "0%\n",
    "\n",
    "In this chapter, you will create and customize plots that visualize the relationship between two quantitative variables. To do this, you will use scatter plots and line plots to explore how the level of air pollution in a city changes over the course of a day and how horsepower relates to fuel efficiency in cars. You will also see another big advantage of using Seaborn - the ability to easily create subplots in a single figure!\n",
    "\n",
    "    Introduction to relational plots and subplots    50 xp\n",
    "    Creating subplots with col and row    100 xp\n",
    "    Creating two-factor subplots    100 xp\n",
    "    Customizing scatter plots    50 xp\n",
    "    Changing the size of scatter plot points    100 xp\n",
    "    Changing the style of scatter plot points    100 xp\n",
    "    Introduction to line plots    50 xp\n",
    "    Interpreting line plots    100 xp\n",
    "    Visualizing standard deviation with line plots    100 xp\n",
    "    Plotting subgroups in line plots    100 xp\n"
   ]
  },
  {
   "cell_type": "markdown",
   "id": "2fd8f034-bfa9-4b97-ad25-99209eec4591",
   "metadata": {},
   "source": [
    "##  Visualizing a Categorical and a Quantitative Variable\n",
    "0%\n",
    "\n",
    "Categorical variables are present in nearly every dataset, but they are especially prominent in survey data. In this chapter, you will learn how to create and customize categorical plots such as box plots, bar plots, count plots, and point plots. Along the way, you will explore survey data from young people about their interests, students about their study habits, and adult men about their feelings about masculinity.\n",
    "\n",
    "    Count plots and bar plots    50 xp\n",
    "    Count plots    100 xp\n",
    "    Bar plots with percentages    100 xp\n",
    "    Customizing bar plots    100 xp\n",
    "    Box plots    50 xp\n",
    "    Create and interpret a box plot    100 xp\n",
    "    Omitting outliers    100 xp\n",
    "    Adjusting the whiskers    100 xp\n",
    "    Point plots    50 xp\n",
    "    Customizing point plots    100 xp\n",
    "    Point plots with subgroups    100 xp\n"
   ]
  },
  {
   "cell_type": "markdown",
   "id": "27a85561-348e-44da-a3a6-7149fffb6ea8",
   "metadata": {},
   "source": [
    "##  Customizing Seaborn Plots\n",
    "0%\n",
    "\n",
    "In this final chapter, you will learn how to add informative plot titles and axis labels, which are one of the most important parts of any data visualization! You will also learn how to customize the style of your visualizations in order to more quickly orient your audience to the key takeaways. Then, you will put everything you have learned together for the final exercises of the course!\n",
    "\n",
    "    Changing plot style and color    50 xp\n",
    "    Changing style and palette    100 xp\n",
    "    Changing the scale    100 xp\n",
    "    Using a custom palette    100 xp\n",
    "    Adding titles and labels: Part 1    50 xp\n",
    "    FacetGrids vs. AxesSubplots    100 xp\n",
    "    Adding a title to a FacetGrid object    100 xp\n",
    "    Adding titles and labels: Part 2    50 xp\n",
    "    Adding a title and axis labels    100 xp\n",
    "    Rotating x-tick labels    100 xp\n",
    "    Putting it all together    50 xp\n",
    "    Box plot with subgroups    100 xp\n",
    "    Bar plot with subgroups and subplots    100 xp\n",
    "    Well done! What's next?    50 xp \n",
    "    "
   ]
  },
  {
   "cell_type": "code",
   "execution_count": null,
   "id": "264b20dd-73a7-4edf-8bfc-c03eb30b7645",
   "metadata": {},
   "outputs": [],
   "source": []
  },
  {
   "cell_type": "markdown",
   "id": "b7360512-cc2b-41c5-8bdf-c744712634da",
   "metadata": {},
   "source": [
    "## Introduction to Seaborn\n",
    "\n",
    "\n",
    "\n",
    "\n",
    "\n",
    "\n",
    "\n",
    "# **Welcome to this introductory course on Seaborn.  \n",
    "\n",
    "My name is Erin Case, and I'll be your instructor.  Seaborn is a powerful Python library for creating data visualizations.  It was developed in order to make it easy to create the most common types of plots.  A boxplot can be created with just a few lines of Seaborn code.  \n",
    "\n",
    "This is a picture of a typical data analysis workflow.  Data visualization is often a huge component of both data exploration phase and the communication of results, so Seaborn will be very useful there.  \n",
    "\n",
    "\n",
    "  Gather Data --> Transform & Clean --> Explore --> Analyze & Build Models --> Communicate Results\n",
    "                        ^------------------+\n",
    "\n",
    "\n",
    "# *******************************************************************************************************************\n",
    "There are several tools that can be used for data visualization, but Seaborn offers several advantages.  \n",
    "\n",
    "First, Seaborn's purpose is to make data visualization easy.  It was built to automatically handle a lot of complexity behind the scenes.  \n",
    "Second, Seaborn works extremely well with Pandas data structures.  Pandas is a Python library that is widely used for data analysis.  \n",
    "Finally, its built on top of Matplotlib, which is another Python visualization library.  Matplotlib is extremely flexible.  Seaborn allows you to take advantage of this flexibility when you need it, while avoiding the complexity that Matplotlib's flexibility can introduce.  \n",
    "\n",
    "\n",
    "To get started, we need to import Seaborn library.  The line 'import seaborn as sns' will import Seaborn as the conventionally used alias 'sns'.  The Seaborn library was apparently named after a character named Samuel Norman Seaborn form the television show 'The West Wing' - thus the standard alias in the character's initials ('sns').  We also need to import Matplotlib, which is the library that Seaborn is builton top of.  'import matplotlib.pyplot as plt'.  \n",
    "\n",
    "\n",
    "Lets now dive into an exampleto illustrate how easily you can create visualization using Seaborn.  Here we have data for 10 people consisting of lists of their heights in inches and their weights in pounds.  \n",
    "# Do taller people tend to weight more?  \n",
    "You can visualize this using a type of plot known as scatter plot, which you'll learn more about later in the course.  Use 'sns.scatterplot()' to call the '.scatterplot()' function from the Seaborn library.  Then specify what to put on the x-axis and y-axis.  Finally, call the 'plt.show()' function from Matplotlib to show the scatterplot.  This plot shows us that taller people tend to have a higher weight.  \n",
    "\n",
    "How many of our observations of heights and weights came from males vs. famales?  You can use another type of plot - the count plot, to investigate this.  Count plots take in a categorical listand return bars that represent the number of list entries per category.  Use the 'sns.countplot()' function and provide the list of every person's gender.  This countplot shows that out of the 10 observations we had in our height and weight scatter plot, 6 were male and 4 were female.  \n",
    "\n",
    "\n",
    "Now, those were a couple of simple examples.  Throughout this course, you'll learn to make more complex visualizations such as scatter plot with category color, categorical line plot with marks of each data point, line plot with error bar, and so on.  \n",
    "\n",
    "More importantly, you'll learn when to use each type of visualization in order to most effectively extract and communicate insight using data.  \n",
    "\n",
    "I'm excited to dive into Seaborn with you throughout this course.  \n",
    "\n"
   ]
  },
  {
   "cell_type": "code",
   "execution_count": 4,
   "id": "8092acc3-e35d-42a1-a2b1-5803355db6cc",
   "metadata": {},
   "outputs": [
    {
     "data": {
      "image/png": "[encoded data removed]",
      "text/plain": [
       "<Figure size 432x288 with 1 Axes>"
      ]
     },
     "metadata": {
      "needs_background": "light"
     },
     "output_type": "display_data"
    },
    {
     "data": {
      "image/png": "[encoded data removed]",
      "text/plain": [
       "<Figure size 432x288 with 1 Axes>"
      ]
     },
     "metadata": {
      "needs_background": "light"
     },
     "output_type": "display_data"
    },
    {
     "data": {
      "image/png": "[encoded data removed]",
      "text/plain": [
       "<Figure size 432x288 with 1 Axes>"
      ]
     },
     "metadata": {
      "needs_background": "light"
     },
     "output_type": "display_data"
    }
   ],
   "source": [
    "import matplotlib.pyplot as plt\n",
    "import seaborn as sns\n",
    "\n",
    "\n",
    "height = [62, 64, 69, 75, 66, 68, 65, 71, 76, 73]\n",
    "weight = [120, 136, 148, 175, 137, 165, 154, 172, 200, 187]\n",
    "gender = ['Female', 'Female', 'Female', 'Female', 'Male', 'Male', 'Male', 'Male', 'Male', 'Male']\n",
    "\n",
    "\n",
    "fig, ax = plt.subplots()\n",
    "\n",
    "\n",
    "ax.scatter(height, weight)\n",
    "\n",
    "plt.show()\n",
    "\n",
    "\n",
    "\n",
    "\n",
    "sns.scatterplot(x=height, y=weight)\n",
    "plt.show()\n",
    "\n",
    "\n",
    "\n",
    "sns.countplot(x=gender)\n",
    "plt.show()"
   ]
  },
  {
   "cell_type": "markdown",
   "id": "a0eac6a1-87b6-4cf5-b96d-c342b526ac96",
   "metadata": {},
   "source": [
    "## Making a scatter plot with lists\n",
    "\n",
    "In this exercise, we'll use a dataset that contains information about 227 countries. This dataset has lots of interesting information on each country, such as the country's birth rates, death rates, and its gross domestic product (GDP). GDP is the value of all the goods and services produced in a year, expressed as dollars per person.\n",
    "\n",
    "We've created three lists of data from this dataset to get you started. 'gdp' is a list that contains the value of GDP per country, expressed as dollars per person. 'phones' is a list of the number of mobile phones per 1,000 people in that country. Finally, 'percent_literate' is a list that contains the percent of each country's population that can read and write.\n",
    "Instructions 1/4\n",
    "25 XP\n",
    "\n",
    "    Question 1\n",
    "    Import Matplotlib and Seaborn using the standard naming convention.\n",
    "    \n",
    "    \n",
    "    \n",
    "    Question 2\n",
    "    Create a scatter plot of GDP (gdp) vs. number of phones per 1000 people (phones).\n",
    "    \n",
    "    \n",
    "    \n",
    "    Question 3\n",
    "    Display the plot.\n",
    "    \n",
    "    \n",
    "    \n",
    "    Question 4\n",
    "    Change the scatter plot so it displays the percent of the population that can read and write (percent_literate) on the y-axis.\n"
   ]
  },
  {
   "cell_type": "code",
   "execution_count": 3,
   "id": "83e0b0ec-cf1c-465e-9535-872c4bfbc4b1",
   "metadata": {},
   "outputs": [
    {
     "name": "stdout",
     "output_type": "stream",
     "text": [
      "Country                               0\n",
      "Region                                0\n",
      "Population                            0\n",
      "Area (sq. mi.)                        0\n",
      "Pop. Density (per sq. mi.)            0\n",
      "Coastline (coast/area ratio)          0\n",
      "Net migration                         0\n",
      "Infant mortality (per 1000 births)    0\n",
      "GDP ($ per capita)                    0\n",
      "Literacy (%)                          0\n",
      "Phones (per 1000)                     0\n",
      "Arable (%)                            0\n",
      "Crops (%)                             0\n",
      "Other (%)                             0\n",
      "Climate                               0\n",
      "Birthrate                             0\n",
      "Deathrate                             0\n",
      "Agriculture                           0\n",
      "Industry                              0\n",
      "Service                               0\n",
      "dtype: int64\n",
      "             Country                               Region  Population  \\\n",
      "222       West Bank   NEAR EAST                               2460492   \n",
      "223  Western Sahara   NORTHERN AFRICA                          273008   \n",
      "224           Yemen   NEAR EAST                              21456188   \n",
      "225          Zambia   SUB-SAHARAN AFRICA                     11502010   \n",
      "226        Zimbabwe   SUB-SAHARAN AFRICA                     12236805   \n",
      "\n",
      "     Area (sq. mi.) Pop. Density (per sq. mi.) Coastline (coast/area ratio)  \\\n",
      "222            5860                      419,9                         0,00   \n",
      "223          266000                        1,0                         0,42   \n",
      "224          527970                       40,6                         0,36   \n",
      "225          752614                       15,3                         0,00   \n",
      "226          390580                       31,3                         0,00   \n",
      "\n",
      "    Net migration Infant mortality (per 1000 births)  GDP ($ per capita)  \\\n",
      "222          2,98                              19,62               800.0   \n",
      "223           0.0                                0.0                 0.0   \n",
      "224             0                               61,5               800.0   \n",
      "225             0                              88,29               800.0   \n",
      "226             0                              67,69              1900.0   \n",
      "\n",
      "    Literacy (%) Phones (per 1000) Arable (%) Crops (%) Other (%) Climate  \\\n",
      "222          0.0             145,2       16,9     18,97     64,13       3   \n",
      "223          0.0               0.0       0,02         0     99,98       1   \n",
      "224         50,2              37,2       2,78      0,24     96,98       1   \n",
      "225         80,6               8,2       7,08      0,03      92,9       2   \n",
      "226         90,7              26,8       8,32      0,34     91,34       2   \n",
      "\n",
      "    Birthrate Deathrate Agriculture Industry Service  \n",
      "222     31,67      3,92        0,09     0,28    0,63  \n",
      "223       0.0       0.0         0.0      0.0     0,4  \n",
      "224     42,89       8,3       0,135    0,472   0,393  \n",
      "225        41     19,93        0,22     0,29   0,489  \n",
      "226     28,01     21,84       0,179    0,243   0,579  \n",
      "0        700.0\n",
      "1       4500.0\n",
      "2       6000.0\n",
      "3       8000.0\n",
      "4      19000.0\n",
      "        ...   \n",
      "222      800.0\n",
      "223        0.0\n",
      "224      800.0\n",
      "225      800.0\n",
      "226     1900.0\n",
      "Name: GDP ($ per capita), Length: 227, dtype: float64\n",
      "0        32\n",
      "1       712\n",
      "2       781\n",
      "3      2595\n",
      "4      4972\n",
      "       ... \n",
      "222    1452\n",
      "223       0\n",
      "224     372\n",
      "225      82\n",
      "226     268\n",
      "Name: Phones (per 1000), Length: 227, dtype: int64\n"
     ]
    },
    {
     "data": {
      "image/png": "[encoded data removed]",
      "text/plain": [
       "<Figure size 432x288 with 1 Axes>"
      ]
     },
     "metadata": {
      "needs_background": "light"
     },
     "output_type": "display_data"
    },
    {
     "data": {
      "image/png": "[encoded data removed]",
      "text/plain": [
       "<Figure size 432x288 with 1 Axes>"
      ]
     },
     "metadata": {
      "needs_background": "light"
     },
     "output_type": "display_data"
    }
   ],
   "source": [
    "import numpy as np\n",
    "import pandas as pd\n",
    "import matplotlib.pyplot as plt\n",
    "import seaborn as sns\n",
    "\n",
    "\n",
    "countries = pd.read_csv('countries-of-the-world.csv')\n",
    "\n",
    "#countries = countries.fillna(0)\n",
    "countries = countries.replace(np.nan, 0.0)\n",
    "\n",
    "print(countries.isna().sum())\n",
    "\n",
    "print(countries.tail())\n",
    "\n",
    "\n",
    "\n",
    "\n",
    "\n",
    "gdp = countries['GDP ($ per capita)'].round(0)\n",
    "\n",
    "\n",
    "countries['Phones (per 1000)'] = countries['Phones (per 1000)'].str.replace(',', '')\n",
    "countries['Literacy (%)'] = countries['Literacy (%)'].str.replace(',', '')\n",
    "\n",
    "\n",
    "countries = countries.replace(np.nan, 0.0)\n",
    "\n",
    "phones = countries['Phones (per 1000)'].astype(int)\n",
    "percent_literate = countries['Literacy (%)'].astype(int)\n",
    "\n",
    "\n",
    "#phones.astype(int)\n",
    "#percent_literate.astype(int)\n",
    "\n",
    "\n",
    "\n",
    "print(gdp)\n",
    "print(phones)\n",
    "\n",
    "\n",
    "\n",
    "\n",
    "\n",
    "\n",
    "sns.scatterplot(x=gdp, y=phones)\n",
    "plt.show()\n",
    "\n",
    "\n",
    "\n",
    "fig, ax = plt.subplots()\n",
    "\n",
    "ax.scatter(gdp, phones)\n",
    "plt.show()"
   ]
  },
  {
   "cell_type": "code",
   "execution_count": null,
   "id": "cb34239d-d000-4589-a220-2b1217e2588c",
   "metadata": {},
   "outputs": [],
   "source": [
    "# Import Matplotlib and Seaborn\n",
    "import matplotlib.pyplot as plt\n",
    "import seaborn as sns\n",
    "\n",
    "# Change this scatter plot to have percent literate on the y-axis\n",
    "sns.scatterplot(x=gdp, y=phones)\n",
    "\n",
    "# Show plot\n",
    "plt.show()"
   ]
  },
  {
   "cell_type": "code",
   "execution_count": null,
   "id": "cda63ffc-a204-422d-9cc2-908b2579eace",
   "metadata": {},
   "outputs": [],
   "source": []
  },
  {
   "cell_type": "code",
   "execution_count": null,
   "id": "61e0fce8-b976-467c-892e-7261d9a4c1e7",
   "metadata": {},
   "outputs": [],
   "source": []
  },
  {
   "cell_type": "code",
   "execution_count": null,
   "id": "8ededbcc-4e14-43e0-ac94-efd8252010e3",
   "metadata": {},
   "outputs": [],
   "source": []
  },
  {
   "cell_type": "code",
   "execution_count": null,
   "id": "33b904e3-9f4c-4799-8c6f-000ab30b6a21",
   "metadata": {},
   "outputs": [],
   "source": []
  },
  {
   "cell_type": "code",
   "execution_count": null,
   "id": "82a8eb1a-1af1-4847-8d5b-759d77f4f6a7",
   "metadata": {},
   "outputs": [],
   "source": []
  },
  {
   "cell_type": "code",
   "execution_count": null,
   "id": "f49b1b99-9009-430c-8816-90e2c651569e",
   "metadata": {},
   "outputs": [],
   "source": []
  },
  {
   "cell_type": "code",
   "execution_count": null,
   "id": "d123d2b4-08e8-484c-bd51-69bd1cf1e3b3",
   "metadata": {},
   "outputs": [],
   "source": []
  },
  {
   "cell_type": "code",
   "execution_count": null,
   "id": "fc67778e-1d5f-44ae-baea-49a36f376ef7",
   "metadata": {},
   "outputs": [],
   "source": []
  },
  {
   "cell_type": "code",
   "execution_count": null,
   "id": "ba720972-d416-4ba7-bf70-caa2bc78c84e",
   "metadata": {},
   "outputs": [],
   "source": []
  },
  {
   "cell_type": "code",
   "execution_count": null,
   "id": "2b081bcd-a72c-477a-b45b-bd871b2d5c78",
   "metadata": {},
   "outputs": [],
   "source": []
  },
  {
   "cell_type": "code",
   "execution_count": null,
   "id": "adeeb9c8-7e0a-4300-923d-94d0da07dd1e",
   "metadata": {},
   "outputs": [],
   "source": []
  },
  {
   "cell_type": "code",
   "execution_count": null,
   "id": "de5b4a75-830b-47dc-9b73-18f3a3444f28",
   "metadata": {},
   "outputs": [],
   "source": []
  },
  {
   "cell_type": "code",
   "execution_count": null,
   "id": "dffb5997-65a2-499d-8f5c-cc2db87d1cd2",
   "metadata": {},
   "outputs": [],
   "source": []
  },
  {
   "cell_type": "code",
   "execution_count": null,
   "id": "ddc8b305-ca51-431a-87fc-633cd6259ab7",
   "metadata": {},
   "outputs": [],
   "source": []
  },
  {
   "cell_type": "code",
   "execution_count": null,
   "id": "92985809-c6f6-4e22-a550-4e94609b91f1",
   "metadata": {},
   "outputs": [],
   "source": []
  },
  {
   "cell_type": "code",
   "execution_count": null,
   "id": "35340311-0479-466d-8dbd-257d98c6e39d",
   "metadata": {},
   "outputs": [],
   "source": []
  },
  {
   "cell_type": "code",
   "execution_count": null,
   "id": "62615258-b15f-4d24-b805-861d00c03d4f",
   "metadata": {},
   "outputs": [],
   "source": []
  },
  {
   "cell_type": "code",
   "execution_count": null,
   "id": "a81448a2-e7cc-45b1-91c5-0ede2cbcb225",
   "metadata": {},
   "outputs": [],
   "source": []
  },
  {
   "cell_type": "code",
   "execution_count": null,
   "id": "614b1b79-599b-48b2-833b-f79e0281673a",
   "metadata": {},
   "outputs": [],
   "source": []
  },
  {
   "cell_type": "code",
   "execution_count": null,
   "id": "f800e7cb-aaa1-46f6-916d-f93e78c7b99f",
   "metadata": {},
   "outputs": [],
   "source": []
  },
  {
   "cell_type": "code",
   "execution_count": null,
   "id": "0778c13d-9963-40d1-b4d6-0b11da58610e",
   "metadata": {},
   "outputs": [],
   "source": []
  },
  {
   "cell_type": "code",
   "execution_count": null,
   "id": "5e3e12d7-ff6f-4f24-9a93-69c4119da830",
   "metadata": {},
   "outputs": [],
   "source": []
  },
  {
   "cell_type": "code",
   "execution_count": null,
   "id": "559ed16f-0c07-4ba3-aa9d-e61cccdc5da8",
   "metadata": {},
   "outputs": [],
   "source": []
  },
  {
   "cell_type": "code",
   "execution_count": null,
   "id": "a4d2da32-dd99-466c-a0c2-ab1666e567bd",
   "metadata": {},
   "outputs": [],
   "source": []
  },
  {
   "cell_type": "code",
   "execution_count": null,
   "id": "5da92609-bdee-42d4-864e-e320d7ff679c",
   "metadata": {},
   "outputs": [],
   "source": []
  },
  {
   "cell_type": "code",
   "execution_count": null,
   "id": "f4edc651-a78d-4fdf-8cf3-11af6ae550de",
   "metadata": {},
   "outputs": [],
   "source": []
  },
  {
   "cell_type": "code",
   "execution_count": null,
   "id": "0bc047fb-17f0-4536-b28e-9bd1a5125f5b",
   "metadata": {},
   "outputs": [],
   "source": []
  },
  {
   "cell_type": "code",
   "execution_count": null,
   "id": "8466ec56-357a-49ca-9c59-6e0d9ff31736",
   "metadata": {},
   "outputs": [],
   "source": []
  },
  {
   "cell_type": "code",
   "execution_count": null,
   "id": "e6f9e6b9-f60e-4c2b-b2cc-81d9aa3d8d19",
   "metadata": {},
   "outputs": [],
   "source": []
  },
  {
   "cell_type": "code",
   "execution_count": null,
   "id": "5d995da2-df6b-447a-96f6-6c19e3d4afa0",
   "metadata": {},
   "outputs": [],
   "source": []
  },
  {
   "cell_type": "code",
   "execution_count": null,
   "id": "b6ceb17f-6427-4b14-8528-6a00a9fe7046",
   "metadata": {},
   "outputs": [],
   "source": []
  },
  {
   "cell_type": "code",
   "execution_count": null,
   "id": "df231b0f-f267-4536-8e37-191fcd72b8d9",
   "metadata": {},
   "outputs": [],
   "source": []
  },
  {
   "cell_type": "code",
   "execution_count": null,
   "id": "28796144-79a4-45fe-800b-a05601faacd3",
   "metadata": {},
   "outputs": [],
   "source": []
  },
  {
   "cell_type": "code",
   "execution_count": null,
   "id": "26c0edf7-63f5-44c0-a06b-01b217f9b27e",
   "metadata": {},
   "outputs": [],
   "source": []
  },
  {
   "cell_type": "code",
   "execution_count": null,
   "id": "a8f745e2-f746-4e7b-8cea-5982c9575466",
   "metadata": {},
   "outputs": [],
   "source": []
  },
  {
   "cell_type": "code",
   "execution_count": null,
   "id": "fdf240b9-8d8e-494c-a5de-eabc29a466d3",
   "metadata": {},
   "outputs": [],
   "source": []
  },
  {
   "cell_type": "code",
   "execution_count": null,
   "id": "ef2788c9-a254-4655-941e-c79dced55ef2",
   "metadata": {},
   "outputs": [],
   "source": []
  },
  {
   "cell_type": "code",
   "execution_count": null,
   "id": "7621fbfb-7ced-43b8-b0ba-17f6878e2cba",
   "metadata": {},
   "outputs": [],
   "source": []
  }
 ],
 "metadata": {
  "kernelspec": {
   "display_name": "Python 3 (ipykernel)",
   "language": "python",
   "name": "python3"
  },
  "language_info": {
   "codemirror_mode": {
    "name": "ipython",
    "version": 3
   },
   "file_extension": ".py",
   "mimetype": "text/x-python",
   "name": "python",
   "nbconvert_exporter": "python",
   "pygments_lexer": "ipython3",
   "version": "3.9.2"
  }
 },
 "nbformat": 4,
 "nbformat_minor": 5
}
