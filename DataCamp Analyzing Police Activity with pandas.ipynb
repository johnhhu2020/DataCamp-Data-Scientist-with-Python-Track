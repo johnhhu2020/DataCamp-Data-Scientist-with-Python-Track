{
 "cells": [
  {
   "cell_type": "markdown",
   "id": "4897957a-82f3-4a18-b88d-b7ff7bd45624",
   "metadata": {},
   "source": [
    "## Analyzing Police Activity with pandas\n",
    "\n"
   ]
  },
  {
   "cell_type": "markdown",
   "id": "bde8318c-4d2a-4f7e-a903-ed0f78147597",
   "metadata": {},
   "source": [
    "## Course Description\n",
    "\n",
    "Now that you have learned the foundations of pandas, this course will give you the chance to apply that knowledge by answering interesting questions about a real dataset! You will explore the Stanford Open Policing Project dataset and analyze the impact of gender on police behavior. During the course, you will gain more practice cleaning messy data, creating visualizations, combining and reshaping datasets, and manipulating time series data. Analyzing Police Activity with pandas will give you valuable experience analyzing a dataset from start to finish, preparing you for your data science career!"
   ]
  },
  {
   "cell_type": "markdown",
   "id": "c810f1ea-103e-4fd7-b73c-e97805bee0ae",
   "metadata": {},
   "source": [
    "## reparing the data for analysis\n",
    "Free\n",
    "0%\n",
    "\n",
    "Before beginning your analysis, it is critical that you first examine and clean the dataset, to make working with it a more efficient process. In this chapter, you will practice fixing data types, handling missing values, and dropping columns and rows while learning about the Stanford Open Policing Project dataset.\n",
    "\n",
    "    Stanford Open Policing Project dataset    50 xp\n",
    "    Examining the dataset    100 xp\n",
    "    Dropping columns    100 xp\n",
    "    Dropping rows    100 xp\n",
    "    Using proper data types    50 xp\n",
    "    Finding an incorrect data type    50 xp\n",
    "    Fixing a data type    100 xp\n",
    "    Creating a DatetimeIndex    50 xp\n",
    "    Combining object columns    100 xp\n",
    "    Setting the index    100 xp\n"
   ]
  },
  {
   "cell_type": "markdown",
   "id": "ca04ceb5-d77e-4ee4-9e25-f2bcb1e0795e",
   "metadata": {},
   "source": [
    "##  Exploring the relationship between gender and policing\n",
    "0%\n",
    "\n",
    "Does the gender of a driver have an impact on police behavior during a traffic stop? In this chapter, you will explore that question while practicing filtering, grouping, method chaining, Boolean math, string methods, and more!\n",
    "\n",
    "    Do the genders commit different violations?    50 xp\n",
    "    Examining traffic violations    100 xp\n",
    "    Comparing violations by gender    100 xp\n",
    "    Does gender affect who gets a ticket for speeding?    50 xp\n",
    "    Filtering by multiple conditions    50 xp\n",
    "    Comparing speeding outcomes by gender    100 xp\n",
    "    Does gender affect whose vehicle is searched?    50 xp\n",
    "    Calculating the search rate    100 xp\n",
    "    Comparing search rates by gender    100 xp\n",
    "    Adding a second factor to the analysis    100 xp\n",
    "    Does gender affect who is frisked during a search?    50 xp\n",
    "    Counting protective frisks    100 xp\n",
    "    Comparing frisk rates by gender    100 xp \n",
    "    "
   ]
  },
  {
   "cell_type": "markdown",
   "id": "c169e44b-58ec-4fd1-9cab-fca3d6bd2ee2",
   "metadata": {},
   "source": [
    "##  Visual exploratory data analysis\n",
    "0%\n",
    "\n",
    "Are you more likely to get arrested at a certain time of day? Are drug-related stops on the rise? In this chapter, you will answer these and other questions by analyzing the dataset visually, since plots can help you to understand trends in a way that examining the raw data cannot.\n",
    "\n",
    "    Does time of day affect arrest rate?    50 xp\n",
    "    Calculating the hourly arrest rate    100 xp\n",
    "    Plotting the hourly arrest rate    100 xp\n",
    "    Are drug-related stops on the rise?    50 xp\n",
    "    Plotting drug-related stops    100 xp\n",
    "    Comparing drug and search rates    100 xp\n",
    "    What violations are caught in each district?    50 xp\n",
    "    Tallying violations by district    100 xp\n",
    "    Plotting violations by district   100 xp\n",
    "    How long might you be stopped for a violation?    50 xp\n",
    "    Converting stop durations to numbers    100 xp\n",
    "    Plotting stop length    100 xp\n"
   ]
  },
  {
   "cell_type": "markdown",
   "id": "5a87263d-a7b3-41de-94ad-3cbf2031a919",
   "metadata": {},
   "source": [
    "##  Analyzing the effect of weather on policing\n",
    "0%\n",
    "\n",
    "In this chapter, you will use a second dataset to explore the impact of weather conditions on police behavior during traffic stops. You will practice merging and reshaping datasets, assessing whether a data source is trustworthy, working with categorical data, and other advanced skills.\n",
    "\n",
    "    Exploring the weather dataset    50 xp\n",
    "    Plotting the temperature    100 xp\n",
    "    Plotting the temperature difference    100 xp\n",
    "    Categorizing the weather    50 xp\n",
    "    Counting bad weather conditions    100 xp\n",
    "    Rating the weather conditions    100 xp\n",
    "    Changing the data type to category    100 xp\n",
    "    Merging datasets    50 xp\n",
    "    Preparing the DataFrames    100 xp\n",
    "    Merging the DataFrames    100 xp\n",
    "    Does weather affect the arrest rate?    50 xp\n",
    "    Comparing arrest rates by weather rating    100 xp\n",
    "    Selecting from a multi-indexed Series    100 xp\n",
    "    Reshaping the arrest rate data    100 xp\n",
    "    Conclusion    50 xp \n",
    "    "
   ]
  },
  {
   "cell_type": "code",
   "execution_count": null,
   "id": "b467d8fa-3ddd-451d-a7bb-e0fdd8dcddf8",
   "metadata": {},
   "outputs": [],
   "source": []
  },
  {
   "cell_type": "markdown",
   "id": "5086f1f2-110d-4a3b-8f13-223926fd79ea",
   "metadata": {},
   "source": [
    "## Stanford Open Policing Project dataset\n",
    "\n",
    "\n",
    "\n",
    "Hi, my name is \n"
   ]
  },
  {
   "cell_type": "code",
   "execution_count": null,
   "id": "42c065f1-db7c-41f9-93b6-c5b7e5fd5c6f",
   "metadata": {},
   "outputs": [],
   "source": []
  },
  {
   "cell_type": "code",
   "execution_count": null,
   "id": "a18b8266-2352-4552-bb0c-cdedd6b04a8e",
   "metadata": {},
   "outputs": [],
   "source": []
  },
  {
   "cell_type": "code",
   "execution_count": null,
   "id": "be20ba55-96ff-4930-bac5-6d0da0105926",
   "metadata": {},
   "outputs": [],
   "source": []
  },
  {
   "cell_type": "code",
   "execution_count": null,
   "id": "5b5ad5dc-6121-45c3-951d-bf248d7cde0f",
   "metadata": {},
   "outputs": [],
   "source": []
  },
  {
   "cell_type": "code",
   "execution_count": null,
   "id": "d306175f-c79b-4b52-bcb1-b9b4696cf37f",
   "metadata": {},
   "outputs": [],
   "source": []
  },
  {
   "cell_type": "code",
   "execution_count": null,
   "id": "341bee8d-c294-4099-b70b-198fa3753e10",
   "metadata": {},
   "outputs": [],
   "source": []
  },
  {
   "cell_type": "code",
   "execution_count": null,
   "id": "7e274805-fe8a-4a16-ae64-6a6a776ebf6f",
   "metadata": {},
   "outputs": [],
   "source": []
  },
  {
   "cell_type": "code",
   "execution_count": null,
   "id": "7cc759c3-fb79-4b05-af92-76c94416b92a",
   "metadata": {},
   "outputs": [],
   "source": []
  },
  {
   "cell_type": "code",
   "execution_count": null,
   "id": "3881a18c-8d7b-40df-ab29-3adcc0008e54",
   "metadata": {},
   "outputs": [],
   "source": []
  },
  {
   "cell_type": "code",
   "execution_count": null,
   "id": "0256b204-55c6-4898-9230-b6f9483a1013",
   "metadata": {},
   "outputs": [],
   "source": []
  },
  {
   "cell_type": "code",
   "execution_count": null,
   "id": "daa987d2-632d-4591-aefd-09031a7c1ece",
   "metadata": {},
   "outputs": [],
   "source": []
  },
  {
   "cell_type": "code",
   "execution_count": null,
   "id": "adbb65fd-d512-4b22-9a98-f095c645bf09",
   "metadata": {},
   "outputs": [],
   "source": []
  },
  {
   "cell_type": "code",
   "execution_count": null,
   "id": "9e4a515f-8e2e-4e9a-889d-240c41c46f5b",
   "metadata": {},
   "outputs": [],
   "source": []
  },
  {
   "cell_type": "code",
   "execution_count": null,
   "id": "d4a502f7-8e98-4886-9573-66d0a7d8dec1",
   "metadata": {},
   "outputs": [],
   "source": []
  },
  {
   "cell_type": "code",
   "execution_count": null,
   "id": "d863c414-fe54-4930-90ee-af1d467cefe3",
   "metadata": {},
   "outputs": [],
   "source": []
  },
  {
   "cell_type": "code",
   "execution_count": null,
   "id": "bf264561-bc94-46bc-9589-746d9d52bfd2",
   "metadata": {},
   "outputs": [],
   "source": []
  },
  {
   "cell_type": "code",
   "execution_count": null,
   "id": "6a7b0bbc-2ea4-4b03-9cb6-709bb3af7d87",
   "metadata": {},
   "outputs": [],
   "source": []
  },
  {
   "cell_type": "code",
   "execution_count": null,
   "id": "447d780c-7af8-4d9e-a218-0ccd28aab8f4",
   "metadata": {},
   "outputs": [],
   "source": []
  },
  {
   "cell_type": "code",
   "execution_count": null,
   "id": "ac844e56-1d41-42ee-8e95-d82b1807c1c7",
   "metadata": {},
   "outputs": [],
   "source": []
  },
  {
   "cell_type": "code",
   "execution_count": null,
   "id": "732a5010-8fa7-4e41-b619-b5a5ba1a2feb",
   "metadata": {},
   "outputs": [],
   "source": []
  },
  {
   "cell_type": "code",
   "execution_count": null,
   "id": "88d27fee-c2f5-4c80-aa81-cae93bbb91de",
   "metadata": {},
   "outputs": [],
   "source": []
  },
  {
   "cell_type": "code",
   "execution_count": null,
   "id": "07afba1c-50f9-4ee1-a797-68259667744b",
   "metadata": {},
   "outputs": [],
   "source": []
  },
  {
   "cell_type": "code",
   "execution_count": null,
   "id": "de48f684-ef65-413a-92ed-e09f148f0ec8",
   "metadata": {},
   "outputs": [],
   "source": []
  },
  {
   "cell_type": "code",
   "execution_count": null,
   "id": "dc6a91ff-a90c-455b-b3f0-8bfa3ac0bc46",
   "metadata": {},
   "outputs": [],
   "source": []
  },
  {
   "cell_type": "code",
   "execution_count": null,
   "id": "c26be55a-41d7-41cc-b747-5c988e9b7b67",
   "metadata": {},
   "outputs": [],
   "source": []
  },
  {
   "cell_type": "code",
   "execution_count": null,
   "id": "e6072491-75b6-4638-a28f-df8c0160733c",
   "metadata": {},
   "outputs": [],
   "source": []
  },
  {
   "cell_type": "code",
   "execution_count": null,
   "id": "a44bcb74-a652-42aa-91a2-28e6689d37bd",
   "metadata": {},
   "outputs": [],
   "source": []
  },
  {
   "cell_type": "code",
   "execution_count": null,
   "id": "c62da1be-beec-4f21-ae34-80f0410f7fc6",
   "metadata": {},
   "outputs": [],
   "source": []
  },
  {
   "cell_type": "code",
   "execution_count": null,
   "id": "963f0768-3c66-45c3-8986-2286ad00775b",
   "metadata": {},
   "outputs": [],
   "source": []
  },
  {
   "cell_type": "code",
   "execution_count": null,
   "id": "87730709-8303-4b28-a543-73c53bd00f5a",
   "metadata": {},
   "outputs": [],
   "source": []
  },
  {
   "cell_type": "code",
   "execution_count": null,
   "id": "3bb9028e-3794-4b0b-ba40-3830d6368018",
   "metadata": {},
   "outputs": [],
   "source": []
  },
  {
   "cell_type": "code",
   "execution_count": null,
   "id": "18254598-2bc0-4b68-b97c-5ecdbe6feebc",
   "metadata": {},
   "outputs": [],
   "source": []
  },
  {
   "cell_type": "code",
   "execution_count": null,
   "id": "e7e6f26b-65bf-454c-8d82-a439074d7195",
   "metadata": {},
   "outputs": [],
   "source": []
  },
  {
   "cell_type": "code",
   "execution_count": null,
   "id": "164f33c7-8c44-4c41-98c3-d8ac366b5da9",
   "metadata": {},
   "outputs": [],
   "source": []
  },
  {
   "cell_type": "code",
   "execution_count": null,
   "id": "ac8c15c3-ad49-43d3-9678-7035037d6a3c",
   "metadata": {},
   "outputs": [],
   "source": []
  },
  {
   "cell_type": "code",
   "execution_count": null,
   "id": "403ebf02-e75b-4723-abdf-91f72d39f300",
   "metadata": {},
   "outputs": [],
   "source": []
  },
  {
   "cell_type": "code",
   "execution_count": null,
   "id": "db8f0f3b-fcda-49f8-ada8-07d30e725358",
   "metadata": {},
   "outputs": [],
   "source": []
  },
  {
   "cell_type": "code",
   "execution_count": null,
   "id": "2f3c9b13-2ca3-4f1c-b030-a71d2d6557cb",
   "metadata": {},
   "outputs": [],
   "source": []
  },
  {
   "cell_type": "code",
   "execution_count": null,
   "id": "1830a99a-4f92-4f44-87cf-a36a0814357a",
   "metadata": {},
   "outputs": [],
   "source": []
  },
  {
   "cell_type": "code",
   "execution_count": null,
   "id": "993232cd-d82e-449b-95bf-24f9b7aa0c0a",
   "metadata": {},
   "outputs": [],
   "source": []
  },
  {
   "cell_type": "code",
   "execution_count": null,
   "id": "77b1957b-9253-459f-be15-490909e454b2",
   "metadata": {},
   "outputs": [],
   "source": []
  }
 ],
 "metadata": {
  "kernelspec": {
   "display_name": "Python 3 (ipykernel)",
   "language": "python",
   "name": "python3"
  },
  "language_info": {
   "codemirror_mode": {
    "name": "ipython",
    "version": 3
   },
   "file_extension": ".py",
   "mimetype": "text/x-python",
   "name": "python",
   "nbconvert_exporter": "python",
   "pygments_lexer": "ipython3",
   "version": "3.9.2"
  }
 },
 "nbformat": 4,
 "nbformat_minor": 5
}
