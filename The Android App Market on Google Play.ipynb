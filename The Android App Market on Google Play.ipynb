{
 "cells": [
  {
   "cell_type": "markdown",
   "id": "8eb196c6-6f46-4d68-a1a7-c960324d9748",
   "metadata": {},
   "source": [
    "## The Android App Market on Google Play\n",
    "\n",
    "\n",
    "\n"
   ]
  },
  {
   "cell_type": "markdown",
   "id": "f8ea93a7-7623-454d-98ae-98d4c7ca8be9",
   "metadata": {},
   "source": [
    "## Project Description\n",
    "\n",
    "Mobile apps are everywhere. They are easy to create and can be lucrative. Because of these two factors, more and more apps are being developed. In this project, you will do a comprehensive analysis of the Android app market by comparing over ten thousand apps in Google Play across different categories. You'll look for insights in the data to devise strategies to drive growth and retention. The data for this project was scraped from the Google Play website. While there are many popular datasets for Apple App Store, there aren't many for Google Play apps, which is partially due to the increased difficulty in scraping the latter as compared to the former. The data files are as follows:\n",
    "\n",
    "    apps.csv : contains all the details of the apps on Google Play. These are the features that describe an app.\n",
    "    user_reviews.csv: contains 100 reviews for each app, most helpful first. The text in each review has been pre-processed, passed through a sentiment analyzer engine and tagged with its sentiment score.\n"
   ]
  },
  {
   "cell_type": "markdown",
   "id": "eca50944-6948-4812-af9e-ccf3a5baf4a4",
   "metadata": {},
   "source": [
    "## Guided Project\n",
    "\n",
    "Through a series of guided steps, harness your complete data analyst toolbox to perform data wrangling, create visualizations, and carry out a descriptive and inferential analysis."
   ]
  },
  {
   "cell_type": "markdown",
   "id": "a2c1403e-c960-4062-a8ff-e7ea54f19d38",
   "metadata": {},
   "source": [
    "## Project Tasks\n",
    "\n",
    "    1. Google Play Store apps and reviews\n",
    "    2. Data cleaning\n",
    "    3. Correcting data types\n",
    "    4. Exploring app categories\n",
    "    5. Distribution of app ratings\n",
    "    6. Size and price of an app\n",
    "    7. Relation between app category and app price\n",
    "    8. Filter out \"junk\" apps\n",
    "    9. Popularity of paid apps vs free apps\n",
    "    10. Sentiment analysis of user reviews"
   ]
  },
  {
   "cell_type": "code",
   "execution_count": null,
   "id": "953b84f5-af3d-4732-9c86-5070f2df315d",
   "metadata": {},
   "outputs": [],
   "source": []
  },
  {
   "cell_type": "markdown",
   "id": "df548975-e8ac-48ac-8229-791d67dbd60c",
   "metadata": {},
   "source": [
    "Mobile apps are everywhere. They are easy to create and can be lucrative. Because of these two factors, more and more apps are being developed. In this notebook, we will do a comprehensive analysis of the Android app market by comparing over ten thousand apps in Google Play across different categories. We'll look for insights in the data to devise strategies to drive growth and retention.\n",
    "\n",
    "\n",
    "Let's take a look at the data, which consists of two files:\n",
    "\n",
    "    apps.csv: contains all the details of the applications on Google Play. There are 13 features that describe a given app.\n",
    "    user_reviews.csv: contains 100 reviews for each app, most helpful first. The text in each review has been pre-processed and attributed with three new features: Sentiment (Positive, Negative or Neutral), Sentiment Polarity and Sentiment Subjectivity.\n"
   ]
  },
  {
   "cell_type": "code",
   "execution_count": 45,
   "id": "dbb4adf5-9a5b-49bf-ba41-1ff36d41f85a",
   "metadata": {},
   "outputs": [],
   "source": [
    "import pandas as pd\n",
    "\n",
    "#print(help(pd.DataFrame.drop_duplicates))"
   ]
  },
  {
   "cell_type": "code",
   "execution_count": 46,
   "id": "4067389a-e505-4164-81f5-2ab0c847c854",
   "metadata": {},
   "outputs": [
    {
     "name": "stdout",
     "output_type": "stream",
     "text": [
      "\n",
      "\n",
      "before apps.drop_duplicate, 9659\n",
      "after apps.drop_duplicate, 9659\n",
      "before reviews.drop_duplicate, 64295\n",
      "after reviews.drop_duplicate, 30679\n",
      "\n",
      "\n",
      "      Unnamed: 0                         App         Category  Rating  \\\n",
      "4751        5735  AW Screen Recorder No Root    VIDEO_PLAYERS     4.3   \n",
      "4891        5878                AZ PLAYER HD            TOOLS     3.2   \n",
      "3705        4619   Don't Starve: Shipwrecked             GAME     4.1   \n",
      "7993        9112        Files To SD Card Pro            TOOLS     4.2   \n",
      "4856        5841   Ay Yıldız Duvar Kağıtları  PERSONALIZATION     NaN   \n",
      "\n",
      "      Reviews  Size  Installs  Type  Price Content Rating  \\\n",
      "4751     1659  3.7M  100,000+  Free      0       Everyone   \n",
      "4891       24  4.7M   10,000+  Free      0       Everyone   \n",
      "3705     1468  4.9M   10,000+  Paid  $4.99           Teen   \n",
      "7993      994  2.8M  100,000+  Free      0       Everyone   \n",
      "4856        3  6.5M      100+  Free      0       Everyone   \n",
      "\n",
      "                       Genres       Last Updated Current Ver Android Ver  \n",
      "4751  Video Players & Editors       July 6, 2017         1.1  5.0 and up  \n",
      "4891                    Tools     April 11, 2016         1.0  2.2 and up  \n",
      "3705                Adventure      July 10, 2018        0.16  5.0 and up  \n",
      "7993                    Tools       May 18, 2018       6.0.0  5.0 and up  \n",
      "4856          Personalization  December 10, 2017       1.0.0  4.3 and up  \n"
     ]
    }
   ],
   "source": [
    "import pandas as pd\n",
    "\n",
    "\n",
    "# # Read in dataset\n",
    "#####################################################################################################################\n",
    "apps = pd.read_csv('apps.csv')\n",
    "#print(apps.head(3))\n",
    "print('\\n')\n",
    "\n",
    "reviews = pd.read_csv('user_reviews.csv')\n",
    "#print(reviews.head())\n",
    "\n",
    "\n",
    "\n",
    "# Drop duplicates\n",
    "#####################################################################################################################\n",
    "print('before apps.drop_duplicate, ' + str(len(apps)))\n",
    "apps = apps.drop_duplicates()\n",
    "print('after apps.drop_duplicate, ' + str(len(apps)))\n",
    "\n",
    "print('before reviews.drop_duplicate, ' + str(len(reviews)))\n",
    "reviews = reviews.drop_duplicates()\n",
    "print('after reviews.drop_duplicate, ' + str(len(reviews)))\n",
    "\n",
    "print('\\n')\n",
    "\n",
    "\n",
    "# Have a look at a random sample of 5 rows\n",
    "#####################################################################################################################\n",
    "print(apps.sample(5))\n",
    "\n",
    "\n",
    "# By default, it drop_duplicate rows based on all columns.  all column value of one row equal to another row\n",
    "# To remove duplicates on specific column(s), use 'subset=col_name'.  drop rows if subset columns value are same \n"
   ]
  },
  {
   "cell_type": "markdown",
   "id": "378e5b74-61f9-4e66-a170-f21555861e5b",
   "metadata": {},
   "source": [
    "## 2. Data cleaning\n",
    "\n",
    "The three features that we will be working with most frequently henceforth are Installs, Size, and Price. A careful glance of the dataset reveals that some of these columns mandate data cleaning in order to be consumed by code we'll write later. Specifically, the presence of special characters (, $ +) and letters (M k) in the Installs, Size, and Price columns make their conversion to a numerical data type difficult. Let's clean by removing these and converting each column to a numeric type.\n"
   ]
  },
  {
   "cell_type": "code",
   "execution_count": 3,
   "id": "a3e3ea16-18ec-4f53-b61e-f6c61a0400a8",
   "metadata": {},
   "outputs": [
    {
     "name": "stdout",
     "output_type": "stream",
     "text": [
      "Help on method_descriptor:\n",
      "\n",
      "replace(self, old, new, count=-1, /)\n",
      "    Return a copy with all occurrences of substring old replaced by new.\n",
      "    \n",
      "      count\n",
      "        Maximum number of occurrences to replace.\n",
      "        -1 (the default value) means replace all occurrences.\n",
      "    \n",
      "    If the optional argument count is given, only the first count occurrences are\n",
      "    replaced.\n",
      "\n",
      "None\n"
     ]
    }
   ],
   "source": [
    "print(help(str.replace))\n",
    "#print('\\n')\n",
    "\n",
    "#print(help(pd.to_numeric))"
   ]
  },
  {
   "cell_type": "code",
   "execution_count": 10,
   "id": "da2bf90d-ea1e-40b4-8be6-da08f3b5cbf1",
   "metadata": {},
   "outputs": [
    {
     "name": "stdout",
     "output_type": "stream",
     "text": [
      "<class 'str'>\n",
      "      Unnamed: 0                             App             Category  Rating  \\\n",
      "5308        6316    BJ Bridge Acol Beginner 2018                 GAME     3.7   \n",
      "9637       10819                       Fanfic-FR  BOOKS_AND_REFERENCE     3.3   \n",
      "9387       10562                     FK Atlantas               SPORTS     1.5   \n",
      "6722        7781  Counter Deck Calculator for CR                TOOLS     4.1   \n",
      "8254        9378                     TAXI DRIVER               FAMILY     3.7   \n",
      "\n",
      "      Reviews  Size  Installs  Type  Price Content Rating             Genres  \\\n",
      "5308       11   4.8      5000  Free    0.0       Everyone               Card   \n",
      "9637       52   3.6      5000  Free    0.0           Teen  Books & Reference   \n",
      "9387        2  26.0         5  Free    0.0       Everyone             Sports   \n",
      "6722     3446  19.0    500000  Free    0.0       Everyone              Tools   \n",
      "8254     7203  32.0   1000000  Free    0.0       Everyone         Simulation   \n",
      "\n",
      "           Last Updated Current Ver Android Ver  \n",
      "5308       May 21, 2018  6.2-begina  4.0 and up  \n",
      "9637     August 5, 2017       0.3.4  4.1 and up  \n",
      "9387  February 21, 2018         1.0  4.1 and up  \n",
      "6722   February 4, 2017       1.3.0  4.1 and up  \n",
      "8254   January 11, 2016         1.0  4.0 and up  \n",
      "<class 'numpy.float64'>\n",
      "<class 'numpy.int64'>\n",
      "<class 'numpy.float64'>\n"
     ]
    }
   ],
   "source": [
    "# List of characters to remove\n",
    "characters = [',', '$', '+', 'M', 'k']\n",
    "\n",
    "# List of column names to clean\n",
    "columns = ['Installs', 'Size', 'Price']\n",
    "print(type(apps['Size'][32]))\n",
    "\n",
    "for i in columns:\n",
    "    for c in characters:\n",
    "        apps[i] = apps[i].str.replace(c, '', regex=True)\n",
    "        #############################################################################################################\n",
    "        \n",
    "    apps[i] = pd.to_numeric(apps[i])\n",
    "\n",
    "\n",
    "print(apps.sample(5))\n",
    "\n",
    "print(type(apps['Price'][12]))\n",
    "print(type(apps['Installs'][12]))\n",
    "print(type(apps['Size'][32]))"
   ]
  },
  {
   "cell_type": "code",
   "execution_count": 47,
   "id": "2ab35f51-7b11-4460-ae4b-9763990f31e3",
   "metadata": {},
   "outputs": [
    {
     "name": "stdout",
     "output_type": "stream",
     "text": [
      "      Unnamed: 0                                                App  \\\n",
      "8079        9199                            EB-Chat – For my Events   \n",
      "3944        4885                               5 Minute Ab Workouts   \n",
      "2920        3677                                           Vote for   \n",
      "1232        1520                                              Luffs   \n",
      "2869        3626  The Weather Channel: Rain Forecast & Storm Alerts   \n",
      "\n",
      "                Category  Rating  Reviews  Size  Installs  Type  Price  \\\n",
      "8079              EVENTS     NaN        2  21.0        10  Free    0.0   \n",
      "3944  HEALTH_AND_FITNESS     4.6     2067   8.4     50000  Free    0.0   \n",
      "2920       VIDEO_PLAYERS     4.2   193381  17.0  50000000  Free    0.0   \n",
      "1232  LIBRARIES_AND_DEMO     NaN      487   3.7    100000  Free    0.0   \n",
      "2869             WEATHER     4.4  1558437   NaN  50000000  Free    0.0   \n",
      "\n",
      "     Content Rating                   Genres       Last Updated  \\\n",
      "8079           Teen                   Events  November 16, 2017   \n",
      "3944       Everyone         Health & Fitness       May 18, 2018   \n",
      "2920           Teen  Video Players & Editors     August 3, 2018   \n",
      "1232       Everyone         Libraries & Demo   January 16, 2018   \n",
      "2869       Everyone                  Weather     August 1, 2018   \n",
      "\n",
      "             Current Ver         Android Ver  \n",
      "8079                 1.4          3.0 and up  \n",
      "3944               2.0.4          4.1 and up  \n",
      "2920                1.78        4.0.3 and up  \n",
      "1232                 1.0        4.0.3 and up  \n",
      "2869  Varies with device  Varies with device  \n"
     ]
    }
   ],
   "source": [
    "# List of characters to remove\n",
    "characters = [',', '$', '+', 'M', 'k']\n",
    "\n",
    "# List of column names to clean\n",
    "columns = ['Installs', 'Size', 'Price']\n",
    "\n",
    "\n",
    "# Loop for each column\n",
    "for i in columns:\n",
    "    # Replace each character with an empty string\n",
    "    for j in characters:\n",
    "        apps[i] = apps[i].str.replace(j, '', regex=True)\n",
    "\n",
    "    # Convert col to numeric\n",
    "    apps[i] = pd.to_numeric(apps[i])\n",
    "\n",
    "\n",
    "print(apps.sample(5))\n"
   ]
  },
  {
   "cell_type": "markdown",
   "id": "e767a2dc-693e-4314-bbbd-26e77fe56059",
   "metadata": {},
   "source": [
    "## 3. Exploring app categories\n",
    "\n",
    "With more than 1 billion active users in 190 countries around the world, Google Play continues to be an important distribution platform to build a global audience. For businesses to get their apps in front of users, it's important to make them more quickly and easily discoverable on Google Play. To improve the overall search experience, Google has introduced the concept of grouping apps into categories.\n",
    "\n",
    "This brings us to the following questions:\n",
    "\n",
    "    Which category has the highest share of (active) apps in the market?\n",
    "    Is any specific category dominating the market?\n",
    "    Which categories have the fewest number of apps?\n",
    "\n",
    "We will see that there are 33 unique app categories present in our dataset. Family and Game apps have the highest market prevalence. Interestingly, Tools, Business and Medical apps are also at the top."
   ]
  },
  {
   "cell_type": "code",
   "execution_count": 55,
   "id": "4f5ec8f6-0040-4bce-a6c0-a2a035c68345",
   "metadata": {},
   "outputs": [
    {
     "name": "stdout",
     "output_type": "stream",
     "text": [
      "                        Installs\n",
      "Category                        \n",
      "GAME                 13878924415\n",
      "COMMUNICATION        11038276251\n",
      "TOOLS                 8001771915\n",
      "PRODUCTIVITY          5793091369\n",
      "SOCIAL                5487867902\n",
      "PHOTOGRAPHY           4649147655\n",
      "FAMILY                4427941505\n",
      "VIDEO_PLAYERS         3926902720\n",
      "TRAVEL_AND_LOCAL      2894887146\n",
      "NEWS_AND_MAGAZINES    2369217760\n",
      "ENTERTAINMENT         2113660000\n",
      "BOOKS_AND_REFERENCE   1665969576\n",
      "PERSONALIZATION       1532494782\n",
      "SHOPPING              1400348785\n",
      "HEALTH_AND_FITNESS    1144022512\n",
      "SPORTS                1096474498\n",
      "BUSINESS               697164865\n",
      "LIFESTYLE              503823539\n",
      "MAPS_AND_NAVIGATION    503281890\n",
      "FINANCE                455348734\n",
      "WEATHER                361100520\n",
      "EDUCATION              352952000\n",
      "FOOD_AND_DRINK         211798751\n",
      "DATING                 140926107\n",
      "ART_AND_DESIGN         114338100\n",
      "HOUSE_AND_HOME          97212461\n",
      "AUTO_AND_VEHICLES       53130211\n",
      "LIBRARIES_AND_DEMO      52995910\n",
      "COMICS                  44981150\n",
      "MEDICAL                 38193177\n",
      "PARENTING               31521110\n",
      "BEAUTY                  27197050\n",
      "EVENTS                  15973161\n"
     ]
    },
    {
     "data": {
      "image/png": "[encoded data removed]",
      "text/plain": [
       "<Figure size 432x288 with 1 Axes>"
      ]
     },
     "metadata": {
      "needs_background": "light"
     },
     "output_type": "display_data"
    },
    {
     "data": {
      "image/png": "[encoded data removed]",
      "text/plain": [
       "<Figure size 432x288 with 1 Axes>"
      ]
     },
     "metadata": {
      "needs_background": "light"
     },
     "output_type": "display_data"
    },
    {
     "data": {
      "image/png": "[encoded data removed]",
      "text/plain": [
       "<Figure size 432x288 with 1 Axes>"
      ]
     },
     "metadata": {
      "needs_background": "light"
     },
     "output_type": "display_data"
    }
   ],
   "source": [
    "# Which category has the highest share of (active) apps in the market?\n",
    "\n",
    "import matplotlib.pyplot as plt\n",
    "import numpy as np\n",
    "\n",
    "print(apps.pivot_table(values='Installs', \n",
    "                       index='Category', \n",
    "                       aggfunc=np.sum).sort_values('Installs', ascending=False))#.hist()\n",
    "#plt.show()\n",
    "# Which category has the highest share of (active) apps in the market?    Games, Communication, Tools\n",
    "#####################################################################################################################\n",
    "\n",
    "\n",
    "# Is any specific category dominating the market?   Destribution???   Market share\n",
    "#####################################################################################################################\n",
    "\n",
    "\n",
    "#                                                   , aggfunc=np.sum\n",
    "apps.pivot_table(values='Installs', index='Category').plot(kind='bar')\n",
    "plt.title('Avg_Installs_Per_Category', fontsize=14)\n",
    "plt.show()\n",
    "\n",
    "\n",
    "apps.pivot_table(values='Installs', index='Category', aggfunc=np.sum).plot(kind='bar')\n",
    "plt.title('Sum_Installs_Per_Category', fontsize=14)\n",
    "plt.show()\n",
    "\n",
    "\n",
    "                                                      ###############################################################\n",
    "apps.groupby('Category')['Installs'].sum().hist()     ### Understand what we want and image the outcome of code\n",
    "plt.show()                                            ###############################################################"
   ]
  },
  {
   "cell_type": "markdown",
   "id": "4ae48e78-9119-4918-8f1e-823febba7d2f",
   "metadata": {},
   "source": [
    "## 4. Distribution of app ratings\n",
    "\n",
    "After having witnessed the market share for each category of apps, let's see how all these apps perform on an average. App ratings (on a scale of 1 to 5) impact the discoverability, conversion of apps as well as the company's overall brand image. Ratings are a key performance indicator of an app.\n",
    "\n",
    "From our research, we found that the average volume of ratings across all app categories is 4.17. The histogram plot is skewed to the right indicating that the majority of the apps are highly rated with only a few exceptions in the low-rated apps."
   ]
  },
  {
   "cell_type": "code",
   "execution_count": 44,
   "id": "c03f71ac-576d-4593-bf02-ecc8802f48ad",
   "metadata": {},
   "outputs": [
    {
     "name": "stdout",
     "output_type": "stream",
     "text": [
      "      Unnamed: 0                               App Category  Rating  Reviews  \\\n",
      "9104       10275                         Mobile FC   SPORTS     4.1     5015   \n",
      "3749        4665                             SAY-U   FAMILY     3.2     1011   \n",
      "4124        5074                  Gun Strike Shoot     GAME     4.1    94761   \n",
      "3997        4939  AC Remote for Carrier - NOW FREE    TOOLS     3.7      163   \n",
      "9199       10371              Angry Birds Space HD     GAME     4.5    43645   \n",
      "\n",
      "      Size  Installs  Type  Price Content Rating         Genres  \\\n",
      "9104  57.0    100000  Free    0.0       Everyone         Sports   \n",
      "3749   NaN    100000  Free    0.0           Teen  Entertainment   \n",
      "4124  17.0  10000000  Free    0.0           Teen         Action   \n",
      "3997  26.0     10000  Free    0.0       Everyone          Tools   \n",
      "9199  46.0   5000000  Free    0.0       Everyone         Arcade   \n",
      "\n",
      "           Last Updated         Current Ver   Android Ver  \n",
      "9104       May 25, 2018                 125  4.0.3 and up  \n",
      "3749      July 13, 2018  Varies with device    4.1 and up  \n",
      "4124  February 21, 2017               1.1.4    2.3 and up  \n",
      "3997      July 30, 2018               6.1.7    4.2 and up  \n",
      "9199       May 25, 2018              2.2.13    4.1 and up  \n",
      "Unnamed: 0           0\n",
      "App                  0\n",
      "Category             0\n",
      "Rating            1463\n",
      "Reviews              0\n",
      "Size              1227\n",
      "Installs             0\n",
      "Type                 1\n",
      "Price                0\n",
      "Content Rating       0\n",
      "Genres               0\n",
      "Last Updated         0\n",
      "Current Ver          8\n",
      "Android Ver          2\n",
      "dtype: int64\n",
      "4.173243045387994\n"
     ]
    },
    {
     "data": {
      "image/png": "[encoded data removed]",
      "text/plain": [
       "<Figure size 432x288 with 1 Axes>"
      ]
     },
     "metadata": {
      "needs_background": "light"
     },
     "output_type": "display_data"
    },
    {
     "data": {
      "image/png": "[encoded data removed]",
      "text/plain": [
       "<Figure size 432x288 with 1 Axes>"
      ]
     },
     "metadata": {
      "needs_background": "light"
     },
     "output_type": "display_data"
    }
   ],
   "source": [
    "print(apps.sample(5))\n",
    "\n",
    "\n",
    "print(apps.isna().sum())\n",
    "print(apps['Rating'].mean())\n",
    "\n",
    "\n",
    "# How all these apps perform on an average\n",
    "import matplotlib.pyplot as plt\n",
    "\n",
    "apps['Rating'].hist(bins=20)\n",
    "plt.show()\n",
    "\n",
    "\n",
    "\n",
    "import matplotlib.pyplot as plt\n",
    "import numpy as np\n",
    "\n",
    "apps.pivot_table(values='Rating', index='Category', aggfunc=np.mean).hist()\n",
    "plt.show()"
   ]
  },
  {
   "cell_type": "code",
   "execution_count": null,
   "id": "b1fdb863-971d-4163-ad95-18ee00df1642",
   "metadata": {},
   "outputs": [],
   "source": []
  },
  {
   "cell_type": "code",
   "execution_count": null,
   "id": "1d7e639b-4c02-4611-8390-80ac3d251642",
   "metadata": {},
   "outputs": [],
   "source": []
  },
  {
   "cell_type": "code",
   "execution_count": null,
   "id": "9141fa0c-4796-45f2-ac25-6e36ef25f3ad",
   "metadata": {},
   "outputs": [],
   "source": []
  },
  {
   "cell_type": "code",
   "execution_count": null,
   "id": "133c649c-f500-4da1-8ee2-1d2279f07e77",
   "metadata": {},
   "outputs": [],
   "source": []
  },
  {
   "cell_type": "code",
   "execution_count": null,
   "id": "61112f26-77b5-4f6a-8d71-f237780baeeb",
   "metadata": {},
   "outputs": [],
   "source": []
  },
  {
   "cell_type": "code",
   "execution_count": null,
   "id": "9861a7f2-aa2f-484c-a6f2-e2eae8511b31",
   "metadata": {},
   "outputs": [],
   "source": []
  },
  {
   "cell_type": "code",
   "execution_count": null,
   "id": "3724c411-ddf9-41db-9848-df73e5603a0b",
   "metadata": {},
   "outputs": [],
   "source": []
  },
  {
   "cell_type": "code",
   "execution_count": null,
   "id": "45c93110-9d83-4178-bd9f-4816e09e5306",
   "metadata": {},
   "outputs": [],
   "source": []
  },
  {
   "cell_type": "code",
   "execution_count": null,
   "id": "6dac5217-a77d-41fd-bf42-55735a833930",
   "metadata": {},
   "outputs": [],
   "source": []
  },
  {
   "cell_type": "code",
   "execution_count": null,
   "id": "82dacc5a-e9f9-45ea-afee-40fb8c5c34e4",
   "metadata": {},
   "outputs": [],
   "source": []
  },
  {
   "cell_type": "code",
   "execution_count": null,
   "id": "76c43e6a-4cd8-4667-ae31-9021a58fd477",
   "metadata": {},
   "outputs": [],
   "source": []
  },
  {
   "cell_type": "code",
   "execution_count": null,
   "id": "7c11d958-bcf2-407f-a07b-b1ffae3c9566",
   "metadata": {},
   "outputs": [],
   "source": []
  },
  {
   "cell_type": "code",
   "execution_count": null,
   "id": "cc50d64c-0059-47ae-ac57-3d2972155087",
   "metadata": {},
   "outputs": [],
   "source": []
  },
  {
   "cell_type": "code",
   "execution_count": null,
   "id": "bec1fee9-44fd-48ce-89b7-cd06b4a9db4a",
   "metadata": {},
   "outputs": [],
   "source": []
  }
 ],
 "metadata": {
  "kernelspec": {
   "display_name": "Python 3 (ipykernel)",
   "language": "python",
   "name": "python3"
  },
  "language_info": {
   "codemirror_mode": {
    "name": "ipython",
    "version": 3
   },
   "file_extension": ".py",
   "mimetype": "text/x-python",
   "name": "python",
   "nbconvert_exporter": "python",
   "pygments_lexer": "ipython3",
   "version": "3.9.2"
  }
 },
 "nbformat": 4,
 "nbformat_minor": 5
}
