{
 "cells": [
  {
   "cell_type": "markdown",
   "id": "cde7331d-bc15-4eb1-a91a-1dee358e395f",
   "metadata": {},
   "source": [
    "## Intermediate Data Visualization with Seaborn\n",
    "\n",
    "\n"
   ]
  },
  {
   "cell_type": "markdown",
   "id": "9536afe8-5a1c-4f1c-b316-13aa087b499f",
   "metadata": {},
   "source": [
    "## Course Description\n",
    "\n",
    "Do you want to make beautiful, informative visualizations with ease? If so, then you must learn seaborn! Seaborn is a visualization library that is an essential part of the python data science toolkit. In this course, you will learn how to use seaborn's sophisticated visualization tools to analyze multiple real world datasets including the American Housing Survey, college tuition data, and guests from the popular television series, The Daily Show. Following this course, you will be able to use seaborn functions to visualize your data in several different formats and customize seaborn plots for your unique needs."
   ]
  },
  {
   "cell_type": "markdown",
   "id": "1121767f-19c0-4fcb-9d5a-fb8eed23a1b4",
   "metadata": {},
   "source": [
    "##  Seaborn Introduction\n",
    "Free\n",
    "0%\n",
    "\n",
    "Introduction to the Seaborn library and where it fits in the Python visualization landscape.\n",
    "\n",
    "    Introduction to Seaborn    50 xp\n",
    "    Seaborn foundation    50 xp\n",
    "    Reading a csv file    100 xp\n",
    "    Comparing a histogram and distplot    100 xp\n",
    "    Using the distribution plot    50 xp\n",
    "    Plot a histogram    100 xp\n",
    "    Rug plot and kde shading    100 xp\n",
    "    Interpreting the results    50 xp\n",
    "    Regression Plots in Seaborn    50 xp\n",
    "    Create a regression plot    100 xp\n",
    "    Plotting multiple variables    100 xp\n",
    "    Facetting multiple regressions    100 xp \n",
    "    "
   ]
  },
  {
   "cell_type": "markdown",
   "id": "746d336b-4dfe-46c0-bc3a-16de50344cf7",
   "metadata": {},
   "source": [
    "##  Customizing Seaborn Plots\n",
    "0%\n",
    "\n",
    "Overview of functions for customizing the display of Seaborn plots.\n",
    "\n",
    "    Using Seaborn Styles    50 xp\n",
    "    Setting the default style    100 xp\n",
    "    Comparing styles    100 xp\n",
    "    Removing spines    100 xp\n",
    "    Colors in Seaborn    50 xp\n",
    "    Matplotlib color codes    100 xp\n",
    "    Using default palettes    100 xp\n",
    "    Color Palettes    50 xp\n",
    "    Creating Custom Palettes    100 xp\n",
    "    Customizing with matplotlib    50 xp\n",
    "    Using matplotlib axes    100 xp\n",
    "    Additional plot customizations    100 xp\n",
    "    Adding annotations    100 xp\n",
    "    Multiple plots    100 xp\n"
   ]
  },
  {
   "cell_type": "markdown",
   "id": "ba5820d6-fbe0-4b80-a208-d82bbfa63958",
   "metadata": {},
   "source": [
    "##  Additional Plot Types\n",
    "0%\n",
    "\n",
    "Overview of more complex plot types included in Seaborn.\n",
    "\n",
    "    Categorical Plot Types    50 xp\n",
    "    stripplot() and swarmplot()    100 xp\n",
    "    boxplots, violinplots and lvplots    100 xp\n",
    "    barplots, pointplots and countplots    100 xp\n",
    "    Regression Plots    50 xp\n",
    "    Regression and residual plots    100 xp\n",
    "    Regression plot parameters    100 xp\n",
    "    Binning data    100 xp\n",
    "    Matrix plots    50 xp\n",
    "    Creating heatmaps    100 xp\n",
    "    Customizing heatmaps    100 xp\n"
   ]
  },
  {
   "cell_type": "markdown",
   "id": "dff44ebe-967d-4a2e-a5f0-25cbb483dfe4",
   "metadata": {},
   "source": [
    "##  Creating Plots on Data Aware Grids\n",
    "0%\n",
    "\n",
    "Using Seaborn to draw multiple plots in a single figure.\n",
    "\n",
    "    Using FacetGrid, factorplot and lmplot    50 xp\n",
    "    Building a FacetGrid    100 xp\n",
    "    Using a factorplot    100 xp\n",
    "    Using a lmplot    100 xp\n",
    "    Using PairGrid and pairplot    50 xp\n",
    "    Building a PairGrid    100 xp\n",
    "    Using a pairplot    100 xp\n",
    "    Additional pairplots    100 xp\n",
    "    Using JointGrid and jointplot    50 xp\n",
    "    Building a JointGrid and jointplot    100 xp\n",
    "    Jointplots and regression    100 xp\n",
    "    Complex jointplots    100 xp\n",
    "    Selecting Seaborn Plots    50 xp \n",
    "    "
   ]
  },
  {
   "cell_type": "code",
   "execution_count": null,
   "id": "793d422c-6a69-40bb-89d7-3c3837324b78",
   "metadata": {},
   "outputs": [],
   "source": []
  },
  {
   "cell_type": "code",
   "execution_count": null,
   "id": "33549d3a-0c81-4de0-ad10-7c73191ae875",
   "metadata": {},
   "outputs": [],
   "source": []
  },
  {
   "cell_type": "code",
   "execution_count": null,
   "id": "65ced22a-40c6-4a5f-975f-4679f01ed599",
   "metadata": {},
   "outputs": [],
   "source": []
  },
  {
   "cell_type": "code",
   "execution_count": null,
   "id": "68938b67-abdd-45ba-9b4d-45263c3416c8",
   "metadata": {},
   "outputs": [],
   "source": []
  },
  {
   "cell_type": "code",
   "execution_count": null,
   "id": "3726a155-637e-4a04-aa0a-2665b9a22821",
   "metadata": {},
   "outputs": [],
   "source": []
  },
  {
   "cell_type": "code",
   "execution_count": null,
   "id": "99bfb3c7-b22b-4ce7-a00d-949e668831d1",
   "metadata": {},
   "outputs": [],
   "source": []
  },
  {
   "cell_type": "code",
   "execution_count": null,
   "id": "d6496b82-5943-4234-9778-8b53964c4e30",
   "metadata": {},
   "outputs": [],
   "source": []
  },
  {
   "cell_type": "code",
   "execution_count": null,
   "id": "2351f13a-5140-4dbc-bec5-970ee76b1f02",
   "metadata": {},
   "outputs": [],
   "source": []
  },
  {
   "cell_type": "code",
   "execution_count": null,
   "id": "81e93fd8-f496-4e56-8cb4-55a2b9006988",
   "metadata": {},
   "outputs": [],
   "source": []
  },
  {
   "cell_type": "code",
   "execution_count": null,
   "id": "395aa82c-06b3-4a4a-8ac8-5844d5a2fed3",
   "metadata": {},
   "outputs": [],
   "source": []
  },
  {
   "cell_type": "code",
   "execution_count": null,
   "id": "690f5c35-a0e8-4e1f-8054-109958f92e61",
   "metadata": {},
   "outputs": [],
   "source": []
  },
  {
   "cell_type": "code",
   "execution_count": null,
   "id": "48b3638b-52cb-412e-a633-475f0e1ef6b6",
   "metadata": {},
   "outputs": [],
   "source": []
  },
  {
   "cell_type": "code",
   "execution_count": null,
   "id": "e7c7b4ca-8fb7-40b3-a58a-02906226b2df",
   "metadata": {},
   "outputs": [],
   "source": []
  },
  {
   "cell_type": "code",
   "execution_count": null,
   "id": "7557f0ad-3fb8-4aa1-a0ad-7ac23632b52d",
   "metadata": {},
   "outputs": [],
   "source": []
  },
  {
   "cell_type": "code",
   "execution_count": null,
   "id": "18dced77-8d5b-4dd3-be13-8812dfc80c3b",
   "metadata": {},
   "outputs": [],
   "source": []
  },
  {
   "cell_type": "code",
   "execution_count": null,
   "id": "009da369-ac78-4220-a753-08574711a4e5",
   "metadata": {},
   "outputs": [],
   "source": []
  }
 ],
 "metadata": {
  "kernelspec": {
   "display_name": "Python 3 (ipykernel)",
   "language": "python",
   "name": "python3"
  },
  "language_info": {
   "codemirror_mode": {
    "name": "ipython",
    "version": 3
   },
   "file_extension": ".py",
   "mimetype": "text/x-python",
   "name": "python",
   "nbconvert_exporter": "python",
   "pygments_lexer": "ipython3",
   "version": "3.9.2"
  }
 },
 "nbformat": 4,
 "nbformat_minor": 5
}
