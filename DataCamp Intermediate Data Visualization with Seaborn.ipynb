{
 "cells": [
  {
   "cell_type": "markdown",
   "id": "cde7331d-bc15-4eb1-a91a-1dee358e395f",
   "metadata": {},
   "source": [
    "## Intermediate Data Visualization with Seaborn\n",
    "\n",
    "\n"
   ]
  },
  {
   "cell_type": "markdown",
   "id": "9536afe8-5a1c-4f1c-b316-13aa087b499f",
   "metadata": {},
   "source": [
    "## Course Description\n",
    "\n",
    "Do you want to make beautiful, informative visualizations with ease? If so, then you must learn seaborn! Seaborn is a visualization library that is an essential part of the python data science toolkit. In this course, you will learn how to use seaborn's sophisticated visualization tools to analyze multiple real world datasets including the American Housing Survey, college tuition data, and guests from the popular television series, The Daily Show. Following this course, you will be able to use seaborn functions to visualize your data in several different formats and customize seaborn plots for your unique needs."
   ]
  },
  {
   "cell_type": "markdown",
   "id": "1121767f-19c0-4fcb-9d5a-fb8eed23a1b4",
   "metadata": {},
   "source": [
    "##  Seaborn Introduction\n",
    "Free\n",
    "0%\n",
    "\n",
    "Introduction to the Seaborn library and where it fits in the Python visualization landscape.\n",
    "\n",
    "    Introduction to Seaborn    50 xp\n",
    "    Seaborn foundation    50 xp\n",
    "    Reading a csv file    100 xp\n",
    "    Comparing a histogram and distplot    100 xp\n",
    "    Using the distribution plot    50 xp\n",
    "    Plot a histogram    100 xp\n",
    "    Rug plot and kde shading    100 xp\n",
    "    Interpreting the results    50 xp\n",
    "    Regression Plots in Seaborn    50 xp\n",
    "    Create a regression plot    100 xp\n",
    "    Plotting multiple variables    100 xp\n",
    "    Facetting multiple regressions    100 xp \n",
    "    "
   ]
  },
  {
   "cell_type": "markdown",
   "id": "746d336b-4dfe-46c0-bc3a-16de50344cf7",
   "metadata": {},
   "source": [
    "##  Customizing Seaborn Plots\n",
    "0%\n",
    "\n",
    "Overview of functions for customizing the display of Seaborn plots.\n",
    "\n",
    "    Using Seaborn Styles    50 xp\n",
    "    Setting the default style    100 xp\n",
    "    Comparing styles    100 xp\n",
    "    Removing spines    100 xp\n",
    "    Colors in Seaborn    50 xp\n",
    "    Matplotlib color codes    100 xp\n",
    "    Using default palettes    100 xp\n",
    "    Color Palettes    50 xp\n",
    "    Creating Custom Palettes    100 xp\n",
    "    Customizing with matplotlib    50 xp\n",
    "    Using matplotlib axes    100 xp\n",
    "    Additional plot customizations    100 xp\n",
    "    Adding annotations    100 xp\n",
    "    Multiple plots    100 xp\n"
   ]
  },
  {
   "cell_type": "markdown",
   "id": "ba5820d6-fbe0-4b80-a208-d82bbfa63958",
   "metadata": {},
   "source": [
    "##  Additional Plot Types\n",
    "0%\n",
    "\n",
    "Overview of more complex plot types included in Seaborn.\n",
    "\n",
    "    Categorical Plot Types    50 xp\n",
    "    stripplot() and swarmplot()    100 xp\n",
    "    boxplots, violinplots and lvplots    100 xp\n",
    "    barplots, pointplots and countplots    100 xp\n",
    "    Regression Plots    50 xp\n",
    "    Regression and residual plots    100 xp\n",
    "    Regression plot parameters    100 xp\n",
    "    Binning data    100 xp\n",
    "    Matrix plots    50 xp\n",
    "    Creating heatmaps    100 xp\n",
    "    Customizing heatmaps    100 xp\n"
   ]
  },
  {
   "cell_type": "markdown",
   "id": "dff44ebe-967d-4a2e-a5f0-25cbb483dfe4",
   "metadata": {},
   "source": [
    "##  Creating Plots on Data Aware Grids\n",
    "0%\n",
    "\n",
    "Using Seaborn to draw multiple plots in a single figure.\n",
    "\n",
    "    Using FacetGrid, factorplot and lmplot    50 xp\n",
    "    Building a FacetGrid    100 xp\n",
    "    Using a factorplot    100 xp\n",
    "    Using a lmplot    100 xp\n",
    "    Using PairGrid and pairplot    50 xp\n",
    "    Building a PairGrid    100 xp\n",
    "    Using a pairplot    100 xp\n",
    "    Additional pairplots    100 xp\n",
    "    Using JointGrid and jointplot    50 xp\n",
    "    Building a JointGrid and jointplot    100 xp\n",
    "    Jointplots and regression    100 xp\n",
    "    Complex jointplots    100 xp\n",
    "    Selecting Seaborn Plots    50 xp \n",
    "    "
   ]
  },
  {
   "cell_type": "code",
   "execution_count": null,
   "id": "793d422c-6a69-40bb-89d7-3c3837324b78",
   "metadata": {},
   "outputs": [],
   "source": []
  },
  {
   "cell_type": "markdown",
   "id": "53976084-bd34-48f2-88ce-175e63818864",
   "metadata": {},
   "source": [
    "## Introduction to Seaborn\n",
    "\n",
    "\n",
    "\n",
    "\n",
    "\n",
    "**Welcome to this introduction to Seaborn.  My name is Chris Moffitt and I will be your instructor for this course.  I have been using Python for over 10 years and am currently the creator of the popular blog Practical Business Python.  I am excited to show you how to effectively use the Seaborn libraryfor creating insightful visualizations.  \n",
    "\n",
    "The Python visualization landscape is complex and it an be challenging to find the right tool for the right job.  Before we discuss Seaborn in detail, it is helpful to understand where it stands in the landscope.  The key point is that Matplotlib is a fundational library used by many visuaization tools including Seaborn.  \n",
    "\n",
    "The Matplotlib is a robust library that can support building many types of visualizations.  Seaborn uses it to construct statistical visualizations.  When working with Seaborn, it is helpful to understand some of the underlying matplotlib constructs.  This specific example includes information about the alcohol content of several different types of Portuguese wines.  If you do not understand this code code example, you may want to review some introductory Python courses.  The rest of this course will assume you understand basic Python and Pandas usage.  \n",
    "\n",
    "\n",
    "# *******************************************************************************************************************\n",
    "Pandas is one of the most important Python libraries for manipulating and analyzing data.  In addition to providing powerful data manipulation tools, Pandas supports basic data plotting functions.  The actual API is consistent with other Pandas functions, so it is a very useful tool.  The plotting is carried out by Matplotlib, so the resulting output looks very similar to the pure Matplotlib utput.  This functionality is very useful when you need to quickly look at data that is already in a DF.  \n",
    "# df['Col_Nmae'].plot.hist()\n",
    "\n",
    "\n",
    "# \"sns.distplot()\" shows the Gaussian kernel density extimate\n",
    "Seaborn integrates with the rest of the Python data science landscape by leveraging Matplotlib and integrating with Pandas.  In this example, a plot similar to a histogram can be created using Seaborn's \"distplot()\" function.  The resulting output looks like a histogram but actually is a Gaussian kernel density estimate or KDE.  In the next slide we will compare this output to the Pandas generated histogram.  \n",
    "\n",
    "This relatively simple example is illustrative of how to use Seaborn.  The code is simple but can be used for powerful data analysis.  In addition to the analysis, it makes reasonable assumptions about colors and other visual elements to make visualizations that look more pleasing than the standard Matplotlib plots.  \n",
    "\n",
    "Additionally, Seaborn performs statistics analysis on the data to generate the KDE.  \n",
    "\n",
    "\n",
    "\n",
    "df = pd.read_csv('wines.csv')\n",
    "\n",
    "fig, ax = plt.subplots()\n",
    "\n",
    "ax.hist(df['alcohol'])\n",
    "\n",
    "\n",
    "# *******************************************************************************************************************\n",
    "df['alcohol'].plot.hist()\n"
   ]
  },
  {
   "cell_type": "markdown",
   "id": "523a78c1-81e5-4714-b302-a15215972b36",
   "metadata": {},
   "source": [
    "## Seaborn foundation\n",
    "\n",
    "What library provides the foundation for pandas and Seaborn plotting?\n",
    "Answer the question\n",
    "50XP\n",
    "Possible Answers\n",
    "\n",
    "    javascript\n",
    "    1\n",
    "    matplotlib\n",
    "    2\n",
    "    vega\n",
    "    3\n",
    "    ggplot2\n",
    "    4"
   ]
  },
  {
   "cell_type": "markdown",
   "id": "53b926c2-9f13-48b5-95c3-d99dc97731d9",
   "metadata": {},
   "source": [
    "## Reading a csv file\n",
    "\n",
    "Before you analyze data, you will need to read the data into a pandas DataFrame. In this exercise, you will be looking at data from US School Improvement Grants in 2010. This program gave nearly $4B to schools to help them renovate or improve their programs.\n",
    "\n",
    "This first step in most data analysis is to import pandas and seaborn and read a data file in order to analyze it further.\n",
    "\n",
    "This course introduces a lot of new concepts, so if you ever need a quick refresher, download the Seaborn Cheat Sheet and keep it handy!\n",
    "Instructions\n",
    "100 XP\n",
    "\n",
    "    Import pandas and seaborn using the standard naming conventions.\n",
    "    The path to the csv file is stored in the grant_file variable.\n",
    "    Use pandas to read the file.\n",
    "    Store the resulting DataFrame in the variable df.\n"
   ]
  },
  {
   "cell_type": "code",
   "execution_count": 1,
   "id": "3726a155-637e-4a04-aa0a-2665b9a22821",
   "metadata": {},
   "outputs": [
    {
     "name": "stdout",
     "output_type": "stream",
     "text": [
      "   Unnamed: 0                        School Name      City State  \\\n",
      "0           0  HOGARTH KINGEEKUK MEMORIAL SCHOOL  SAVOONGA    AK   \n",
      "1           1                    AKIACHAK SCHOOL  AKIACHAK    AK   \n",
      "2           2                     GAMBELL SCHOOL   GAMBELL    AK   \n",
      "3           3               BURCHELL HIGH SCHOOL   WASILLA    AK   \n",
      "4           4                       AKIAK SCHOOL     AKIAK    AK   \n",
      "\n",
      "                               District Name  Model Selected  Award_Amount  \\\n",
      "0              BERING STRAIT SCHOOL DISTRICT  Transformation        471014   \n",
      "1                     YUPIIT SCHOOL DISTRICT  Transformation        520579   \n",
      "2              BERING STRAIT SCHOOL DISTRICT  Transformation        449592   \n",
      "3  MATANUSKA-SUSITNA BOROUGH SCHOOL DISTRICT  Transformation        641184   \n",
      "4                     YUPIIT SCHOOL DISTRICT  Transformation        399686   \n",
      "\n",
      "  Region  \n",
      "0   West  \n",
      "1   West  \n",
      "2   West  \n",
      "3   West  \n",
      "4   West  \n"
     ]
    }
   ],
   "source": [
    "import pandas as pd\n",
    "import matplotlib.pyplot as plt\n",
    "import seaborn as sns\n",
    "\n",
    "\n",
    "df = pd.read_csv('schoolimprovement2010grants.csv')\n",
    "print(df.head())\n",
    "\n",
    "\n"
   ]
  },
  {
   "cell_type": "markdown",
   "id": "e469af5b-6f32-4dde-88d2-4cf958d2c0ed",
   "metadata": {},
   "source": [
    "## Comparing a histogram and distplot\n",
    "\n",
    "The pandas library supports simple plotting of data, which is very convenient when data is already likely to be in a pandas DataFrame.\n",
    "\n",
    "Seaborn generally does more statistical analysis on data and can provide more sophisticated insight into the data. In this exercise, we will compare a pandas histogram vs the seaborn distplot.\n",
    "Instructions 1/2\n",
    "50 XP\n",
    "\n",
    "    Question 1\n",
    "    Use the pandas' plot.hist() function to plot a histogram of the Award_Amount column.\n",
    "    \n",
    "    \n",
    "    \n",
    "    Question 2\n",
    "    Use Seaborn's distplot() function to plot a distribution plot of the same column.\n"
   ]
  },
  {
   "cell_type": "code",
   "execution_count": 6,
   "id": "d6496b82-5943-4234-9778-8b53964c4e30",
   "metadata": {},
   "outputs": [
    {
     "name": "stderr",
     "output_type": "stream",
     "text": [
      "/home/jhu/.virtual_environments/py39/lib/python3.9/site-packages/seaborn/distributions.py:2619: FutureWarning: `distplot` is a deprecated function and will be removed in a future version. Please adapt your code to use either `displot` (a figure-level function with similar flexibility) or `histplot` (an axes-level function for histograms).\n",
      "  warnings.warn(msg, FutureWarning)\n"
     ]
    },
    {
     "data": {
      "image/png": "[encoded data removed]",
      "text/plain": [
       "<Figure size 432x288 with 1 Axes>"
      ]
     },
     "metadata": {
      "needs_background": "light"
     },
     "output_type": "display_data"
    },
    {
     "data": {
      "image/png": "[encoded data removed]",
      "text/plain": [
       "<Figure size 432x288 with 1 Axes>"
      ]
     },
     "metadata": {
      "needs_background": "light"
     },
     "output_type": "display_data"
    }
   ],
   "source": [
    "#df.plot.hist('Award_Amount')\n",
    "\n",
    "\n",
    "\n",
    "#df['Award_Amount'].plot.hist(bins=30)\n",
    "\n",
    "\n",
    "sns.distplot(df['Award_Amount'], \n",
    "             #hist=True, \n",
    "             #kde=True\n",
    "            )\n",
    "\n",
    "plt.show()\n",
    "\n",
    "\n",
    "sns.histplot(df['Award_Amount'],  \n",
    "             kde=True, \n",
    "             #stat=\"density\", \n",
    "             #rug=True,  rug= arg not exist in histplot\n",
    "             linewidth=0)\n",
    "plt.show()"
   ]
  },
  {
   "cell_type": "code",
   "execution_count": null,
   "id": "2351f13a-5140-4dbc-bec5-970ee76b1f02",
   "metadata": {},
   "outputs": [],
   "source": [
    "# Display pandas histogram\n",
    "df['Award_Amount'].plot.hist()\n",
    "plt.show()\n",
    "\n",
    "# Clear out the pandas histogram\n",
    "plt.clf()\n",
    "\n",
    "\n",
    "\n",
    "\n",
    "# Display a Seaborn distplot\n",
    "sns.distplot(df['Award_Amount'])\n",
    "plt.show()\n",
    "\n",
    "# Clear the distplot\n",
    "plt.clf()"
   ]
  },
  {
   "cell_type": "markdown",
   "id": "7f915074-b6be-4116-ba2b-f630487872e1",
   "metadata": {},
   "source": [
    "## Using the distribution plot\n",
    "\n",
    "\n",
    "\n",
    "\n",
    "\n",
    "\n",
    "**Now that you have a basic understanding of Seaborn and how it relates to Matplotlib and Pandas.  We will spend some time looking at how to customize distribution plots in Seaborn.  \n",
    "\n",
    "The basic ideas learned with this plot type can be applied to the other Seaborn plotting functions we will see in upcomming exercises.  \n",
    "\n",
    "\n",
    "The Seaborn API supports customizing the type of plot by using different arguments.  In below example, we can use the same \"sns.distplot()\" function to create a standard histogram and customize the number of bins to further understand how the values are distributed.  \n",
    "\n",
    "# *******************************************************************************************************************\n",
    "This basic approach is used by most functions in Seaborn and is a powerful tool for analyzing data quickly.  As you can see, the distplot() function has several options for configuration and customization.  The benefit of this approach is that you can rapidly try different views and settle on the one that seems most appropriate for your analysis.  Trying different combinations of the kde= and rug= plot can yield important insights.  \n",
    "\n",
    "There are many functions in Seaborn that build upon each other.  The \"sns.distplot()\" function we have been discussing relies on using additional Seaborn functions such as the \"sns.kdeplot()\" and \"sns.rugplot()\" function.  By understanding this relationship, you can further customize Seaborn plots by passing additional arguments to the underlying functions.  In this case, we can tell the underlying kde() function to shade the plot by passing the \"ked_kws={'shade': 'True'}\" dictionary.\n",
    "\n",
    "Now that you know about several Seaborn functions, lets practice some more.  \n",
    "\n",
    "\n"
   ]
  },
  {
   "cell_type": "code",
   "execution_count": 24,
   "id": "395aa82c-06b3-4a4a-8ac8-5844d5a2fed3",
   "metadata": {},
   "outputs": [
    {
     "name": "stderr",
     "output_type": "stream",
     "text": [
      "/home/jhu/.virtual_environments/py39/lib/python3.9/site-packages/seaborn/distributions.py:2619: FutureWarning: `distplot` is a deprecated function and will be removed in a future version. Please adapt your code to use either `displot` (a figure-level function with similar flexibility) or `histplot` (an axes-level function for histograms).\n",
      "  warnings.warn(msg, FutureWarning)\n",
      "/home/jhu/.virtual_environments/py39/lib/python3.9/site-packages/seaborn/distributions.py:2103: FutureWarning: The `axis` variable is no longer used and will be removed. Instead, assign variables directly to `x` or `y`.\n",
      "  warnings.warn(msg, FutureWarning)\n"
     ]
    },
    {
     "data": {
      "image/png": "[encoded data removed]",
      "text/plain": [
       "<Figure size 432x288 with 1 Axes>"
      ]
     },
     "metadata": {
      "needs_background": "light"
     },
     "output_type": "display_data"
    },
    {
     "name": "stderr",
     "output_type": "stream",
     "text": [
      "/home/jhu/.virtual_environments/py39/lib/python3.9/site-packages/seaborn/distributions.py:2619: FutureWarning: `distplot` is a deprecated function and will be removed in a future version. Please adapt your code to use either `displot` (a figure-level function with similar flexibility) or `histplot` (an axes-level function for histograms).\n",
      "  warnings.warn(msg, FutureWarning)\n",
      "/home/jhu/.virtual_environments/py39/lib/python3.9/site-packages/seaborn/distributions.py:2103: FutureWarning: The `axis` variable is no longer used and will be removed. Instead, assign variables directly to `x` or `y`.\n",
      "  warnings.warn(msg, FutureWarning)\n"
     ]
    },
    {
     "data": {
      "image/png": "[encoded data removed]",
      "text/plain": [
       "<Figure size 432x288 with 1 Axes>"
      ]
     },
     "metadata": {
      "needs_background": "light"
     },
     "output_type": "display_data"
    }
   ],
   "source": [
    "sns.distplot(df['Award_Amount'], \n",
    "             kde_kws={'shade': 'True'}, #############################################################################\n",
    "             rug=True, ##############################################################################################\n",
    "             bins=10)\n",
    "\n",
    "plt.show()\n",
    "\n",
    "\n",
    "\n",
    "\n",
    "sns.distplot(df['Award_Amount'], \n",
    "             kde=True, ##############################################################################################\n",
    "             rug=True, ##############################################################################################\n",
    "             bins=10)\n",
    "\n",
    "plt.show()"
   ]
  },
  {
   "cell_type": "markdown",
   "id": "7b58226e-c986-4b17-b03d-15d087ee2e47",
   "metadata": {},
   "source": [
    "## Plot a histogram\n",
    "\n",
    "The \"sns.distplot()\" function will return a Kernel Density Estimate (KDE) by default. The KDE helps to smooth the distribution and is a useful way to look at the data. However, Seaborn can also support the more standard histogram approach if that is more meaningful for your analysis.\n",
    "Instructions\n",
    "100 XP\n",
    "\n",
    "    Create a distplot for the data and disable the KDE.\n",
    "    Explicitly pass in the number 20 for the number of bins in the histogram.\n",
    "    Display the plot using plt.show().\n"
   ]
  },
  {
   "cell_type": "code",
   "execution_count": 25,
   "id": "251cb475-6e3c-4f07-b4fa-86ad497daf24",
   "metadata": {},
   "outputs": [
    {
     "name": "stderr",
     "output_type": "stream",
     "text": [
      "/home/jhu/.virtual_environments/py39/lib/python3.9/site-packages/seaborn/distributions.py:2619: FutureWarning: `distplot` is a deprecated function and will be removed in a future version. Please adapt your code to use either `displot` (a figure-level function with similar flexibility) or `histplot` (an axes-level function for histograms).\n",
      "  warnings.warn(msg, FutureWarning)\n"
     ]
    },
    {
     "data": {
      "image/png": "[encoded data removed]",
      "text/plain": [
       "<Figure size 432x288 with 1 Axes>"
      ]
     },
     "metadata": {
      "needs_background": "light"
     },
     "output_type": "display_data"
    }
   ],
   "source": [
    "# Create a distplot\n",
    "sns.distplot(df['Award_Amount'],\n",
    "             kde=False,\n",
    "             bins=20)\n",
    "\n",
    "# Display the plot\n",
    "plt.show()"
   ]
  },
  {
   "cell_type": "markdown",
   "id": "24aa8519-9d0e-4f2e-8224-b64aa017433a",
   "metadata": {},
   "source": [
    "## Rug plot and kde shading\n",
    "\n",
    "Now that you understand some function arguments for \"sns.distplot()\", we can continue further refining the output. This process of creating a visualization and updating it in an incremental fashion is a useful and common approach to look at data from multiple perspectives.\n",
    "\n",
    "Seaborn excels at making this process simple.\n",
    "Instructions\n",
    "100 XP\n",
    "\n",
    "    Create a distplot of the \"Award_Amount\" column in the \"df\".\n",
    "    Configure it to show a shaded kde (using the kde_kws dictionary).\n",
    "    Add a rug plot above the x axis.\n",
    "    Display the plot.\n"
   ]
  },
  {
   "cell_type": "code",
   "execution_count": 29,
   "id": "83328bb0-c72c-458c-9c6e-c5acddae6191",
   "metadata": {},
   "outputs": [
    {
     "name": "stderr",
     "output_type": "stream",
     "text": [
      "/home/jhu/.virtual_environments/py39/lib/python3.9/site-packages/seaborn/distributions.py:2619: FutureWarning: `distplot` is a deprecated function and will be removed in a future version. Please adapt your code to use either `displot` (a figure-level function with similar flexibility) or `kdeplot` (an axes-level function for kernel density plots).\n",
      "  warnings.warn(msg, FutureWarning)\n",
      "/home/jhu/.virtual_environments/py39/lib/python3.9/site-packages/seaborn/distributions.py:2103: FutureWarning: The `axis` variable is no longer used and will be removed. Instead, assign variables directly to `x` or `y`.\n",
      "  warnings.warn(msg, FutureWarning)\n"
     ]
    },
    {
     "data": {
      "image/png": "[encoded data removed]",
      "text/plain": [
       "<Figure size 432x288 with 1 Axes>"
      ]
     },
     "metadata": {
      "needs_background": "light"
     },
     "output_type": "display_data"
    },
    {
     "name": "stderr",
     "output_type": "stream",
     "text": [
      "/home/jhu/.virtual_environments/py39/lib/python3.9/site-packages/seaborn/distributions.py:2619: FutureWarning: `distplot` is a deprecated function and will be removed in a future version. Please adapt your code to use either `displot` (a figure-level function with similar flexibility) or `kdeplot` (an axes-level function for kernel density plots).\n",
      "  warnings.warn(msg, FutureWarning)\n",
      "/home/jhu/.virtual_environments/py39/lib/python3.9/site-packages/seaborn/distributions.py:2103: FutureWarning: The `axis` variable is no longer used and will be removed. Instead, assign variables directly to `x` or `y`.\n",
      "  warnings.warn(msg, FutureWarning)\n"
     ]
    },
    {
     "data": {
      "image/png": "[encoded data removed]",
      "text/plain": [
       "<Figure size 432x288 with 1 Axes>"
      ]
     },
     "metadata": {
      "needs_background": "light"
     },
     "output_type": "display_data"
    }
   ],
   "source": [
    "sns.distplot(df['Award_Amount'], \n",
    "             hist=False,\n",
    "             kde=True, \n",
    "             rug=True)\n",
    "\n",
    "plt.show()\n",
    "\n",
    "\n",
    "\n",
    "\n",
    "# Create a distplot of the Award Amount\n",
    "sns.distplot(df['Award_Amount'],\n",
    "             hist=False,\n",
    "             rug=True,\n",
    "             kde_kws={'shade':True}) ################################################################################\n",
    "\n",
    "# Plot the results\n",
    "plt.show()"
   ]
  },
  {
   "cell_type": "code",
   "execution_count": 2,
   "id": "43411439-4541-42fe-876b-d16321651f2a",
   "metadata": {},
   "outputs": [
    {
     "name": "stdout",
     "output_type": "stream",
     "text": [
      "Help on function distplot in module seaborn.distributions:\n",
      "\n",
      "distplot(a=None, bins=None, hist=True, kde=True, rug=False, fit=None, hist_kws=None, kde_kws=None, rug_kws=None, fit_kws=None, color=None, vertical=False, norm_hist=False, axlabel=None, label=None, ax=None, x=None)\n",
      "    DEPRECATED: Flexibly plot a univariate distribution of observations.\n",
      "    \n",
      "    .. warning::\n",
      "       This function is deprecated and will be removed in a future version.\n",
      "       Please adapt your code to use one of two new functions:\n",
      "    \n",
      "       - :func:`displot`, a figure-level function with a similar flexibility\n",
      "         over the kind of plot to draw\n",
      "       - :func:`histplot`, an axes-level function for plotting histograms,\n",
      "         including with kernel density smoothing\n",
      "    \n",
      "    This function combines the matplotlib ``hist`` function (with automatic\n",
      "    calculation of a good default bin size) with the seaborn :func:`kdeplot`\n",
      "    and :func:`rugplot` functions. It can also fit ``scipy.stats``\n",
      "    distributions and plot the estimated PDF over the data.\n",
      "    \n",
      "    Parameters\n",
      "    ----------\n",
      "    a : Series, 1d-array, or list.\n",
      "        Observed data. If this is a Series object with a ``name`` attribute,\n",
      "        the name will be used to label the data axis.\n",
      "    bins : argument for matplotlib hist(), or None, optional\n",
      "        Specification of hist bins. If unspecified, as reference rule is used\n",
      "        that tries to find a useful default.\n",
      "    hist : bool, optional\n",
      "        Whether to plot a (normed) histogram.\n",
      "    kde : bool, optional\n",
      "        Whether to plot a gaussian kernel density estimate.\n",
      "    rug : bool, optional\n",
      "        Whether to draw a rugplot on the support axis.\n",
      "    fit : random variable object, optional\n",
      "        An object with `fit` method, returning a tuple that can be passed to a\n",
      "        `pdf` method a positional arguments following a grid of values to\n",
      "        evaluate the pdf on.\n",
      "    hist_kws : dict, optional\n",
      "        Keyword arguments for :meth:`matplotlib.axes.Axes.hist`.\n",
      "    kde_kws : dict, optional\n",
      "        Keyword arguments for :func:`kdeplot`.\n",
      "    rug_kws : dict, optional\n",
      "        Keyword arguments for :func:`rugplot`.\n",
      "    color : matplotlib color, optional\n",
      "        Color to plot everything but the fitted curve in.\n",
      "    vertical : bool, optional\n",
      "        If True, observed values are on y-axis.\n",
      "    norm_hist : bool, optional\n",
      "        If True, the histogram height shows a density rather than a count.\n",
      "        This is implied if a KDE or fitted density is plotted.\n",
      "    axlabel : string, False, or None, optional\n",
      "        Name for the support axis label. If None, will try to get it\n",
      "        from a.name if False, do not set a label.\n",
      "    label : string, optional\n",
      "        Legend label for the relevant component of the plot.\n",
      "    ax : matplotlib axis, optional\n",
      "        If provided, plot on this axis.\n",
      "    \n",
      "    Returns\n",
      "    -------\n",
      "    ax : matplotlib Axes\n",
      "        Returns the Axes object with the plot for further tweaking.\n",
      "    \n",
      "    See Also\n",
      "    --------\n",
      "    kdeplot : Show a univariate or bivariate distribution with a kernel\n",
      "              density estimate.\n",
      "    rugplot : Draw small vertical lines to show each observation in a\n",
      "              distribution.\n",
      "    \n",
      "    Examples\n",
      "    --------\n",
      "    \n",
      "    Show a default plot with a kernel density estimate and histogram with bin\n",
      "    size determined automatically with a reference rule:\n",
      "    \n",
      "    .. plot::\n",
      "        :context: close-figs\n",
      "    \n",
      "        >>> import seaborn as sns, numpy as np\n",
      "        >>> sns.set_theme(); np.random.seed(0)\n",
      "        >>> x = np.random.randn(100)\n",
      "        >>> ax = sns.distplot(x)\n",
      "    \n",
      "    Use Pandas objects to get an informative axis label:\n",
      "    \n",
      "    .. plot::\n",
      "        :context: close-figs\n",
      "    \n",
      "        >>> import pandas as pd\n",
      "        >>> x = pd.Series(x, name=\"x variable\")\n",
      "        >>> ax = sns.distplot(x)\n",
      "    \n",
      "    Plot the distribution with a kernel density estimate and rug plot:\n",
      "    \n",
      "    .. plot::\n",
      "        :context: close-figs\n",
      "    \n",
      "        >>> ax = sns.distplot(x, rug=True, hist=False)\n",
      "    \n",
      "    Plot the distribution with a histogram and maximum likelihood gaussian\n",
      "    distribution fit:\n",
      "    \n",
      "    .. plot::\n",
      "        :context: close-figs\n",
      "    \n",
      "        >>> from scipy.stats import norm\n",
      "        >>> ax = sns.distplot(x, fit=norm, kde=False)\n",
      "    \n",
      "    Plot the distribution on the vertical axis:\n",
      "    \n",
      "    .. plot::\n",
      "        :context: close-figs\n",
      "    \n",
      "        >>> ax = sns.distplot(x, vertical=True)\n",
      "    \n",
      "    Change the color of all the plot elements:\n",
      "    \n",
      "    .. plot::\n",
      "        :context: close-figs\n",
      "    \n",
      "        >>> sns.set_color_codes()\n",
      "        >>> ax = sns.distplot(x, color=\"y\")\n",
      "    \n",
      "    Pass specific parameters to the underlying plot functions:\n",
      "    \n",
      "    .. plot::\n",
      "        :context: close-figs\n",
      "    \n",
      "        >>> ax = sns.distplot(x, rug=True, rug_kws={\"color\": \"g\"},\n",
      "        ...                   kde_kws={\"color\": \"k\", \"lw\": 3, \"label\": \"KDE\"},\n",
      "        ...                   hist_kws={\"histtype\": \"step\", \"linewidth\": 3,\n",
      "        ...                             \"alpha\": 1, \"color\": \"g\"})\n",
      "\n"
     ]
    }
   ],
   "source": [
    "import seaborn as sns\n",
    "\n",
    "\n",
    "help(sns.distplot)"
   ]
  },
  {
   "cell_type": "markdown",
   "id": "4d145ad2-249b-4697-9342-a1f81ec0b719",
   "metadata": {},
   "source": [
    "## Interpreting the results\n",
    "\n",
    "Looking at this distplot, which of these choices can you infer based on the visualization?\n",
    "\n",
    "Award Amount Distribution\n",
    "Answer the question\n",
    "50XP\n",
    "Possible Answers\n",
    "\n",
    "    The most frequent award amount range was between $650K and $700K.\n",
    "    1\n",
    "    The award amounts are normally distributed.\n",
    "    2\n",
    "#    There are a large group of award amounts < $400K.\n",
    "    3\n",
    "    The average award is > $900K.\n",
    "    4"
   ]
  },
  {
   "cell_type": "markdown",
   "id": "5c2a4539-21f3-45c6-bb57-d1363e792676",
   "metadata": {},
   "source": [
    "## Regression Plots in Seaborn\n",
    "\n",
    "\n",
    "\n",
    "\n",
    "\n",
    "**Now that we have taken a look at distribution plots in Seaborn, we will transition to another basic visualization process by plotting linear regression lines.  \n",
    "\n",
    "# \"sns.regplot()\" for regression plot\n",
    "The previous analysis we performed is often referred to as univariate analysis because we only look at one variable.  Regression analysis is bivariate because we are looking for relationships between two variables.  The \"sns.regplot()\" function is the basic for building regression plots in Seaborn.  The basic function call is similar to distplot(), but we explicitly define the \"x=\" and \"y=\" variables as well as the source of the data.  Since we are using a Pandas DF, the \"x=\" and \"y=\" variable refer to the columns in the DF.  The basic process is similar for many other Seaborn plots so it is good to make sure you understand this well before moving on the more complex plots.  \n",
    "\n",
    "# \"sns.regplot()\" and higher level \"sns.lmplot()\" are related\n",
    "In this specific plot, we are interested in any relationship between the \"alcohol\" content of the wine and the \"pH\" levels.  The regression line hints that there might be a slightly increase in pH values as the alcohol content increases.  One of the confusing points about Seaborn that it may seen like there is more than one way to do the same plot.  In the previous exercises, we looked at distplots and bridfy discussed kde plots as a building block for the more robust distplot().  In the same manner, the lower level \"sns.regplot()\" and higher level \"sns.lmplot()\" are related.  They are called the same way and produce similar output.  However, the \"sns.lmplot()\" is much more powerful.  In this relationship, we can look at the relationship between alcohol content and quality using both of these plot types.  The output looks similar except for the aspect ratio.  In the next slide, I'll show how the \"sns.lmplot()\" is much more flexible.  \n",
    "\n",
    "The use of \"hue=\" and \"col=\" is a powerful concept that is present throughout many of Seaborn's functions.  \n",
    "# The use of multiple graphs while changing a single variable is often called faceting.  \n",
    "In this case, faceting can be accomplished by using the \"sns.lmplot()\" function.  The base function is very similar to regplot() but it provides much more power by allowing you to add additional information using columns, colors, or rows.  There are an entire class of functions in Seaborn that support this type of faceting and we will continue to explore them throughout the course.  \n",
    "\n",
    "\n",
    "\n",
    "sns.regplot(x='alcohol', \n",
    "            y='pH', \n",
    "            data=df)\n",
    "\n",
    "sns.lmplot(x='alcohol', \n",
    "           y='pH', \n",
    "           data=df)\n",
    "\n",
    "\n",
    "\n",
    "sns.lmplot(x='alcohol', \n",
    "           y='pH', \n",
    "           hue='type', ##########\n",
    "           data=df)\n",
    "           \n",
    "\n",
    "sns.lmplot(x='alcohol', \n",
    "           y='pH', \n",
    "           col='type', ##########\n",
    "           data=df)"
   ]
  },
  {
   "cell_type": "code",
   "execution_count": 4,
   "id": "0d649456-9a18-4a83-8957-a1ed39d5de41",
   "metadata": {},
   "outputs": [
    {
     "name": "stdout",
     "output_type": "stream",
     "text": [
      "   Unnamed: 0                        School Name      City State  \\\n",
      "0           0  HOGARTH KINGEEKUK MEMORIAL SCHOOL  SAVOONGA    AK   \n",
      "1           1                    AKIACHAK SCHOOL  AKIACHAK    AK   \n",
      "2           2                     GAMBELL SCHOOL   GAMBELL    AK   \n",
      "3           3               BURCHELL HIGH SCHOOL   WASILLA    AK   \n",
      "4           4                       AKIAK SCHOOL     AKIAK    AK   \n",
      "\n",
      "                               District Name  Model Selected  Award_Amount  \\\n",
      "0              BERING STRAIT SCHOOL DISTRICT  Transformation        471014   \n",
      "1                     YUPIIT SCHOOL DISTRICT  Transformation        520579   \n",
      "2              BERING STRAIT SCHOOL DISTRICT  Transformation        449592   \n",
      "3  MATANUSKA-SUSITNA BOROUGH SCHOOL DISTRICT  Transformation        641184   \n",
      "4                     YUPIIT SCHOOL DISTRICT  Transformation        399686   \n",
      "\n",
      "  Region  \n",
      "0   West  \n",
      "1   West  \n",
      "2   West  \n",
      "3   West  \n",
      "4   West  \n"
     ]
    }
   ],
   "source": [
    "import pandas as pd\n",
    "import matplotlib.pyplot as plt\n",
    "import seaborn as sns\n",
    "\n",
    "\n",
    "df = pd.read_csv('schoolimprovement2010grants.csv')\n",
    "print(df.head())"
   ]
  },
  {
   "cell_type": "markdown",
   "id": "b21c43fa-3778-44ff-817f-18d1625433ac",
   "metadata": {},
   "source": [
    "## Create a regression plot\n",
    "\n",
    "For this set of exercises, we will be looking at FiveThirtyEight's data on which US State has the worst drivers. The data set includes summary level information about fatal accidents as well as insurance premiums for each state as of 2010.\n",
    "\n",
    "In this exercise, we will look at the difference between the regression plotting functions.\n",
    "Instructions 1/2\n",
    "50 XP\n",
    "\n",
    "    Question 1\n",
    "    The data is available in the dataframe called df.\n",
    "    Create a regression plot using \"regplot()\" with \"insurance_losses\" on the x axis and \"premiums\" on the y axis.\n",
    "    \n",
    "    \n",
    "    \n",
    "    Question 2\n",
    "    Create a regression plot of \"premiums\" versus \"insurance_losses\" using lmplot().\n",
    "    Display the plot.\n"
   ]
  },
  {
   "cell_type": "code",
   "execution_count": 9,
   "id": "c181273f-5a25-47d1-9f4f-a1202e75fb6f",
   "metadata": {},
   "outputs": [
    {
     "name": "stdout",
     "output_type": "stream",
     "text": [
      "        State  fatal_collisions  fatal_collisions_speeding  \\\n",
      "0     Alabama              18.8                         39   \n",
      "1      Alaska              18.1                         41   \n",
      "2     Arizona              18.6                         35   \n",
      "3    Arkansas              22.4                         18   \n",
      "4  California              12.0                         35   \n",
      "\n",
      "   fatal_collisions_alc  fatal_collisions_not_distracted  \\\n",
      "0                    30                               96   \n",
      "1                    25                               90   \n",
      "2                    28                               84   \n",
      "3                    26                               94   \n",
      "4                    28                               91   \n",
      "\n",
      "   fatal_collisions_no_hist  premiums  insurance_losses Region  \n",
      "0                        80    784.55            145.08  South  \n",
      "1                        94   1053.48            133.93   West  \n",
      "2                        96    899.47            110.35   West  \n",
      "3                        95    827.34            142.39  South  \n",
      "4                        89    878.41            165.63   West  \n"
     ]
    },
    {
     "data": {
      "image/png": "[encoded data removed]",
      "text/plain": [
       "<Figure size 432x288 with 1 Axes>"
      ]
     },
     "metadata": {
      "needs_background": "light"
     },
     "output_type": "display_data"
    },
    {
     "data": {
      "image/png": "[encoded data removed]",
      "text/plain": [
       "<Figure size 360x360 with 1 Axes>"
      ]
     },
     "metadata": {
      "needs_background": "light"
     },
     "output_type": "display_data"
    }
   ],
   "source": [
    "df = pd.read_csv('insurance_premiums.csv')\n",
    "\n",
    "print(df.head())\n",
    "\n",
    "\n",
    "sns.regplot(x='insurance_losses', \n",
    "           y='premiums', \n",
    "           data=df)\n",
    "\n",
    "plt.show()\n",
    "\n",
    "\n",
    "\n",
    "\n",
    "sns.lmplot(x='insurance_losses', \n",
    "           y='premiums', \n",
    "           data=df)\n",
    "\n",
    "plt.show()"
   ]
  },
  {
   "cell_type": "markdown",
   "id": "bcb7eaab-8111-4d93-9ce0-6c79f6fec378",
   "metadata": {},
   "source": [
    "## Plotting multiple variables\n",
    "\n",
    "Since we are using \"lmplot()\" now, we can look at the more complex interactions of data. This data set includes geographic information by state and area. It might be interesting to see if there is a difference in relationships based on the Region of the country.\n",
    "Instructions\n",
    "100 XP\n",
    "\n",
    "    Use lmplot() to look at the relationship between \"insurance_losses\" and \"premiums\".\n",
    "    Plot a regression line for each \"Region\" of the country.\n"
   ]
  },
  {
   "cell_type": "code",
   "execution_count": 14,
   "id": "06547d68-c4e1-47b4-88b7-e9627c4b1ee7",
   "metadata": {},
   "outputs": [
    {
     "name": "stdout",
     "output_type": "stream",
     "text": [
      "        State  fatal_collisions  fatal_collisions_speeding  \\\n",
      "0     Alabama              18.8                         39   \n",
      "1      Alaska              18.1                         41   \n",
      "2     Arizona              18.6                         35   \n",
      "3    Arkansas              22.4                         18   \n",
      "4  California              12.0                         35   \n",
      "\n",
      "   fatal_collisions_alc  fatal_collisions_not_distracted  \\\n",
      "0                    30                               96   \n",
      "1                    25                               90   \n",
      "2                    28                               84   \n",
      "3                    26                               94   \n",
      "4                    28                               91   \n",
      "\n",
      "   fatal_collisions_no_hist  premiums  insurance_losses Region  \n",
      "0                        80    784.55            145.08  South  \n",
      "1                        94   1053.48            133.93   West  \n",
      "2                        96    899.47            110.35   West  \n",
      "3                        95    827.34            142.39  South  \n",
      "4                        89    878.41            165.63   West  \n"
     ]
    },
    {
     "data": {
      "image/png": "[encoded data removed]",
      "text/plain": [
       "<Figure size 720x720 with 4 Axes>"
      ]
     },
     "metadata": {
      "needs_background": "light"
     },
     "output_type": "display_data"
    }
   ],
   "source": [
    "print(df.head())\n",
    "\n",
    "\n",
    "\n",
    "g = sns.lmplot(x='insurance_losses', \n",
    "               y='premiums', \n",
    "               \n",
    "               hue='Region', \n",
    "               col='Region',\n",
    "               col_wrap=2,\n",
    "               \n",
    "               data=df)\n",
    "\n",
    "#g.set_title(\"Insurance loss and premiums of each reion\", y=1.03)   # FacetGrid' object has no attribute 'set_title'\n",
    "g.fig.suptitle('Insurance loss and premiums of each reion', y=1.03)\n",
    "\n",
    "plt.show()"
   ]
  },
  {
   "cell_type": "markdown",
   "id": "ff0f55ac-2846-4519-b64e-fcae1df630a7",
   "metadata": {},
   "source": [
    "## Facetting multiple regressions\n",
    "\n",
    "\"lmplot()\" allows us to facet the data across multiple rows and columns. In the previous plot, the multiple lines were difficult to read in one plot. We can try creating multiple plots by Region to see if that is a more useful visualization.\n",
    "Instructions\n",
    "100 XP\n",
    "\n",
    "    Use \"lmplot()\" to look at the relationship between \"insurance_losses\" and \"premiums\".\n",
    "#    Create a plot for each \"Region\" of the country.\n",
    "#    Display the plots across multiple rows.\n"
   ]
  },
  {
   "cell_type": "markdown",
   "id": "bcfa90d9-6698-436f-b3e0-f55c8917af0b",
   "metadata": {},
   "source": [
    "## Using Seaborn Styles\n",
    "\n",
    "\n",
    "\n",
    "\n",
    "\n",
    "\n",
    "**Choosing the right type of plot is only the first step in creating the effective visualizations.  It is also important to configure the other aspects of your visualizations such as the layouts, label and colors.  These traits are referred to as the visualization's aesthetics.  \n",
    "\n",
    "Seaborn provides many functions for fonfiguring your plots so they have the most impact.  In this lesson, we will cover how to use Seaborn's style functions to dramatically alterthe way your data is displayed.  Seabornhas several default built-in themes that are more appealing than the default Matplotlib styles.  ( can you recall the 'ggplot' and \"plt.style.use('Solarize_Light2')\" )  \n",
    "\n",
    "In order to set a default theme, use the \"sns.set()\" function.  In below example, we can look at the distribution of college tuition fee in the US.  The first figure shows the standard Pandas histogram and the second one shows what the histogram looks like with Seaborn's default style.  Notice how the color palette is muted and the grid lines are displayed.  This is the default Seaborn style, also called 'darkgrid'.  \n",
    "\n",
    "The styles control multipleaspects of the final plot including the color palette and the use of grid lines or tick marks.  Depending on the visualization, one style may be more beneficial than others for conveying your message.  \n",
    "\n",
    "\n"
   ]
  },
  {
   "cell_type": "code",
   "execution_count": 1,
   "id": "47e4f899-a030-4f88-b92a-56f848f45520",
   "metadata": {},
   "outputs": [
    {
     "name": "stdout",
     "output_type": "stream",
     "text": [
      "                                INSTNM    OPEID  REGION  SAT_AVG_ALL  PCTPELL  \\\n",
      "0             Alabama A & M University   100200       5        850.0   0.7249   \n",
      "1  University of Alabama at Birmingham   105200       5       1147.0   0.3505   \n",
      "2                   Amridge University  2503400       5          NaN   0.7455   \n",
      "3  University of Alabama in Huntsville   105500       5       1221.0   0.3179   \n",
      "4             Alabama State University   100500       5        844.0   0.7567   \n",
      "\n",
      "   PCTFLOAN  ADM_RATE_ALL       UG  AVGFACSAL COMPL_RPY_5YR_RT  ... CONTROL  \\\n",
      "0    0.8159      0.653841   4380.0     7017.0      0.477631579  ...       1   \n",
      "1    0.5218      0.604275  10331.0    10221.0      0.673230442  ...       1   \n",
      "2    0.8781           NaN     98.0     3217.0      0.636363636  ...       2   \n",
      "3    0.4589      0.811971   5220.0     9514.0      0.762222222  ...       1   \n",
      "4    0.7692      0.463858   4348.0     7940.0       0.43006993  ...       1   \n",
      "\n",
      "  WOMENONLY  MENONLY  LOCALE  Tuition  Degree_Type           Ownership  \\\n",
      "0       0.0      0.0    12.0  13435.0     Graduate              Public   \n",
      "1       0.0      0.0    12.0  16023.0     Graduate              Public   \n",
      "2       0.0      0.0    12.0   8862.0     Graduate  Private non-profit   \n",
      "3       0.0      0.0    12.0  18661.0     Graduate              Public   \n",
      "4       0.0      0.0    12.0   7400.0     Graduate              Public   \n",
      "\n",
      "      Regions        Locales Locale_Short  \n",
      "0  South East  City: Midsize         City  \n",
      "1  South East  City: Midsize         City  \n",
      "2  South East  City: Midsize         City  \n",
      "3  South East  City: Midsize         City  \n",
      "4  South East  City: Midsize         City  \n",
      "\n",
      "[5 rows x 24 columns]\n"
     ]
    },
    {
     "data": {
      "image/png": "[encoded data removed]",
      "text/plain": [
       "<Figure size 432x288 with 1 Axes>"
      ]
     },
     "metadata": {
      "needs_background": "light"
     },
     "output_type": "display_data"
    },
    {
     "data": {
      "image/png": "[encoded data removed]",
      "text/plain": [
       "<Figure size 432x288 with 1 Axes>"
      ]
     },
     "metadata": {},
     "output_type": "display_data"
    }
   ],
   "source": [
    "import pandas as pd\n",
    "import matplotlib.pyplot as plt\n",
    "import seaborn as sns\n",
    "\n",
    "college = pd.read_csv('college_datav3.csv')\n",
    "\n",
    "\n",
    "print(college.head())\n",
    "\n",
    "college['Tuition'].plot.hist()\n",
    "plt.show()\n",
    "\n",
    "\n",
    "sns.set()\n",
    "\n",
    "college['Tuition'].plot.hist()\n",
    "plt.show()"
   ]
  },
  {
   "cell_type": "code",
   "execution_count": null,
   "id": "e0d27128-6a45-48f8-95cd-cc8cd87b1453",
   "metadata": {},
   "outputs": [],
   "source": []
  },
  {
   "cell_type": "code",
   "execution_count": null,
   "id": "3f3735a0-8888-4791-b58e-be41fea87f13",
   "metadata": {},
   "outputs": [],
   "source": []
  },
  {
   "cell_type": "code",
   "execution_count": null,
   "id": "1e9b8987-a63b-4199-b3db-9bc8fcc626ab",
   "metadata": {},
   "outputs": [],
   "source": []
  },
  {
   "cell_type": "code",
   "execution_count": null,
   "id": "96d81c69-2075-41ac-9df4-247f484fef9c",
   "metadata": {},
   "outputs": [],
   "source": []
  },
  {
   "cell_type": "code",
   "execution_count": null,
   "id": "98e16177-30e2-4860-88cc-fe66e93df7ca",
   "metadata": {},
   "outputs": [],
   "source": []
  },
  {
   "cell_type": "code",
   "execution_count": null,
   "id": "667e756e-6b3b-4370-9b74-2b629b7b603f",
   "metadata": {},
   "outputs": [],
   "source": []
  },
  {
   "cell_type": "code",
   "execution_count": null,
   "id": "a29a6a42-1ecf-466b-829f-39a80e32351e",
   "metadata": {},
   "outputs": [],
   "source": []
  },
  {
   "cell_type": "code",
   "execution_count": null,
   "id": "94a8ab21-fc62-4a07-a89a-d625db5955b1",
   "metadata": {},
   "outputs": [],
   "source": []
  },
  {
   "cell_type": "code",
   "execution_count": null,
   "id": "190feb00-09f6-4bcf-82d5-fc27b0f12680",
   "metadata": {},
   "outputs": [],
   "source": []
  },
  {
   "cell_type": "code",
   "execution_count": null,
   "id": "e2fa6580-25ec-4a3d-b525-63ab115078d9",
   "metadata": {},
   "outputs": [],
   "source": []
  },
  {
   "cell_type": "code",
   "execution_count": null,
   "id": "17df45ba-2d9d-4de2-a702-3fb8a139303a",
   "metadata": {},
   "outputs": [],
   "source": []
  },
  {
   "cell_type": "code",
   "execution_count": null,
   "id": "32854fd4-8bc8-4d09-aa72-7428ce7e1644",
   "metadata": {},
   "outputs": [],
   "source": []
  },
  {
   "cell_type": "code",
   "execution_count": null,
   "id": "f2e0a7e0-c118-4f99-acd2-833894494dc1",
   "metadata": {},
   "outputs": [],
   "source": []
  },
  {
   "cell_type": "code",
   "execution_count": null,
   "id": "22eedc83-8c19-4a49-a2df-c4cc563b9466",
   "metadata": {},
   "outputs": [],
   "source": []
  },
  {
   "cell_type": "code",
   "execution_count": null,
   "id": "b4aa62a8-9f2f-4342-9444-a386f5831962",
   "metadata": {},
   "outputs": [],
   "source": []
  },
  {
   "cell_type": "code",
   "execution_count": null,
   "id": "05d7c238-5793-4789-82f9-5bdb9065ac98",
   "metadata": {},
   "outputs": [],
   "source": []
  },
  {
   "cell_type": "code",
   "execution_count": null,
   "id": "e18fe578-93e1-4cd6-b7b6-da1b5a2a29a0",
   "metadata": {},
   "outputs": [],
   "source": []
  },
  {
   "cell_type": "code",
   "execution_count": null,
   "id": "97987dd2-ea32-4206-a55d-e3b82beb2eb4",
   "metadata": {},
   "outputs": [],
   "source": []
  },
  {
   "cell_type": "code",
   "execution_count": null,
   "id": "175419ab-c557-47dd-8309-2481ac6469fd",
   "metadata": {},
   "outputs": [],
   "source": []
  },
  {
   "cell_type": "code",
   "execution_count": null,
   "id": "e676f41d-f510-4204-b28a-489a736ed47e",
   "metadata": {},
   "outputs": [],
   "source": []
  },
  {
   "cell_type": "code",
   "execution_count": null,
   "id": "10067303-ebaa-4d22-b749-6c24582b3a93",
   "metadata": {},
   "outputs": [],
   "source": []
  },
  {
   "cell_type": "code",
   "execution_count": null,
   "id": "3c604c4d-695e-42d8-bf05-4e92e8d12373",
   "metadata": {},
   "outputs": [],
   "source": []
  },
  {
   "cell_type": "code",
   "execution_count": null,
   "id": "0c4824fa-578e-4b1d-8a78-56293df42fb5",
   "metadata": {},
   "outputs": [],
   "source": []
  },
  {
   "cell_type": "code",
   "execution_count": null,
   "id": "eb0422f4-9363-4149-a0ab-6ec4bc5cf9a8",
   "metadata": {},
   "outputs": [],
   "source": []
  },
  {
   "cell_type": "code",
   "execution_count": null,
   "id": "0a06885d-afa4-4222-b513-675376a88227",
   "metadata": {},
   "outputs": [],
   "source": []
  },
  {
   "cell_type": "code",
   "execution_count": null,
   "id": "bf92481d-9a2d-43b2-8b47-e71007dc7c0d",
   "metadata": {},
   "outputs": [],
   "source": []
  },
  {
   "cell_type": "code",
   "execution_count": null,
   "id": "123d4473-b334-42fd-b33f-e57b15a80c7b",
   "metadata": {},
   "outputs": [],
   "source": []
  },
  {
   "cell_type": "code",
   "execution_count": null,
   "id": "fefa516e-211f-4e6b-a542-a33f07f9e37f",
   "metadata": {},
   "outputs": [],
   "source": []
  },
  {
   "cell_type": "code",
   "execution_count": null,
   "id": "0dd5e912-515b-47cc-98c5-c0e7658a25d0",
   "metadata": {},
   "outputs": [],
   "source": []
  },
  {
   "cell_type": "code",
   "execution_count": null,
   "id": "780c7941-f631-4630-96e3-9272b4cd7008",
   "metadata": {},
   "outputs": [],
   "source": []
  },
  {
   "cell_type": "code",
   "execution_count": null,
   "id": "5fa6e624-1d08-465c-9936-cbf74d42536b",
   "metadata": {},
   "outputs": [],
   "source": []
  },
  {
   "cell_type": "code",
   "execution_count": null,
   "id": "8b3480ce-6ca2-4792-90f2-7aaa44d3b9fa",
   "metadata": {},
   "outputs": [],
   "source": []
  },
  {
   "cell_type": "code",
   "execution_count": null,
   "id": "c71cd700-8bb5-4e5f-90d3-afc1090f0dd5",
   "metadata": {},
   "outputs": [],
   "source": []
  },
  {
   "cell_type": "code",
   "execution_count": null,
   "id": "11a87289-d65f-40ac-836d-60b702ff02e7",
   "metadata": {},
   "outputs": [],
   "source": []
  },
  {
   "cell_type": "code",
   "execution_count": null,
   "id": "40b8b6eb-d252-47f5-b66f-f4a74d53d64c",
   "metadata": {},
   "outputs": [],
   "source": []
  },
  {
   "cell_type": "code",
   "execution_count": null,
   "id": "53906481-d811-459b-a64c-3dc3731d7155",
   "metadata": {},
   "outputs": [],
   "source": []
  },
  {
   "cell_type": "code",
   "execution_count": null,
   "id": "28b8bb2d-986c-4486-a862-cac01270b470",
   "metadata": {},
   "outputs": [],
   "source": []
  },
  {
   "cell_type": "code",
   "execution_count": null,
   "id": "85fe87f7-530c-4ca7-9708-4722e596090c",
   "metadata": {},
   "outputs": [],
   "source": []
  },
  {
   "cell_type": "code",
   "execution_count": null,
   "id": "b2ece91c-f1a5-42a7-bbff-1cc0c6950280",
   "metadata": {},
   "outputs": [],
   "source": []
  },
  {
   "cell_type": "code",
   "execution_count": null,
   "id": "304cf982-6821-4758-a2e4-627b18a53ebd",
   "metadata": {},
   "outputs": [],
   "source": []
  },
  {
   "cell_type": "code",
   "execution_count": null,
   "id": "499b61b2-3290-4faa-82bb-dc478b04aa6a",
   "metadata": {},
   "outputs": [],
   "source": []
  },
  {
   "cell_type": "code",
   "execution_count": null,
   "id": "67359d44-5fa1-4bc8-ab57-20e71ec4936f",
   "metadata": {},
   "outputs": [],
   "source": []
  },
  {
   "cell_type": "code",
   "execution_count": null,
   "id": "e50754e5-e257-4054-9777-9e174593a2a5",
   "metadata": {},
   "outputs": [],
   "source": []
  },
  {
   "cell_type": "code",
   "execution_count": null,
   "id": "95257cd4-cfc5-4160-aa45-aeb493ddd814",
   "metadata": {},
   "outputs": [],
   "source": []
  },
  {
   "cell_type": "code",
   "execution_count": null,
   "id": "48b3638b-52cb-412e-a633-475f0e1ef6b6",
   "metadata": {},
   "outputs": [],
   "source": []
  },
  {
   "cell_type": "code",
   "execution_count": null,
   "id": "e7c7b4ca-8fb7-40b3-a58a-02906226b2df",
   "metadata": {},
   "outputs": [],
   "source": []
  },
  {
   "cell_type": "code",
   "execution_count": null,
   "id": "7557f0ad-3fb8-4aa1-a0ad-7ac23632b52d",
   "metadata": {},
   "outputs": [],
   "source": []
  },
  {
   "cell_type": "code",
   "execution_count": null,
   "id": "18dced77-8d5b-4dd3-be13-8812dfc80c3b",
   "metadata": {},
   "outputs": [],
   "source": []
  },
  {
   "cell_type": "code",
   "execution_count": null,
   "id": "009da369-ac78-4220-a753-08574711a4e5",
   "metadata": {},
   "outputs": [],
   "source": []
  }
 ],
 "metadata": {
  "kernelspec": {
   "display_name": "Python 3 (ipykernel)",
   "language": "python",
   "name": "python3"
  },
  "language_info": {
   "codemirror_mode": {
    "name": "ipython",
    "version": 3
   },
   "file_extension": ".py",
   "mimetype": "text/x-python",
   "name": "python",
   "nbconvert_exporter": "python",
   "pygments_lexer": "ipython3",
   "version": "3.9.2"
  }
 },
 "nbformat": 4,
 "nbformat_minor": 5
}
