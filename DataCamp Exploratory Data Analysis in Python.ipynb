{
 "cells": [
  {
   "cell_type": "markdown",
   "id": "15aa4386-f908-41bc-90e6-70a59eac07e0",
   "metadata": {},
   "source": [
    "## Exploratory Data Analysis in Python\n",
    "\n"
   ]
  },
  {
   "cell_type": "markdown",
   "id": "f8ee08dd-d6b6-4c0b-8720-714ecf959d36",
   "metadata": {},
   "source": [
    "## Course Description\n",
    "\n",
    "How do we get from data to answers? Exploratory data analysis is a process for exploring datasets, answering questions, and visualizing results. This course presents the tools you need to clean and validate data, to visualize distributions and relationships between variables, and to use regression models to predict and explain. You'll explore data related to demographics and health, including the National Survey of Family Growth and the General Social Survey. But the methods you learn apply to all areas of science, engineering, and business. You'll use Pandas, a powerful library for working with data, and other core Python libraries including NumPy and SciPy, StatsModels for regression, and Matplotlib for visualization. With these tools and skills, you will be prepared to work with real data, make discoveries, and present compelling results."
   ]
  },
  {
   "cell_type": "markdown",
   "id": "f8202088-aec0-4aa0-a0fb-2e7806b56bfc",
   "metadata": {},
   "source": [
    "##  Read, clean, and validate\n",
    "Free\n",
    "0%\n",
    "\n",
    "The first step of almost any data project is to read the data, check for errors and special cases, and prepare data for analysis. This is exactly what you'll do in this chapter, while working with a dataset obtained from the National Survey of Family Growth.\n",
    "\n",
    "    DataFrames and Series    50 xp\n",
    "    Read the codebook    50 xp\n",
    "    Exploring the NSFG data    100 xp\n",
    "    Clean and Validate    50 xp\n",
    "    Validate a variable    50 xp\n",
    "    Clean a variable    100 xp\n",
    "    Compute a variable    100 xp\n",
    "    Filter and visualize    50 xp\n",
    "    Make a histogram    100 xp\n",
    "    Compute birth weight    100 xp\n",
    "    Filter    100 xp\n"
   ]
  },
  {
   "cell_type": "markdown",
   "id": "730ec9d8-7915-432f-966a-bb737c78369d",
   "metadata": {},
   "source": [
    "##  Distributions\n",
    "0%\n",
    "\n",
    "In the first chapter, having cleaned and validated your data, you began exploring it by using histograms to visualize distributions. In this chapter, you'll learn how to represent distributions using Probability Mass Functions (PMFs) and Cumulative Distribution Functions (CDFs). You'll learn when to use each of them, and why, while working with a new dataset obtained from the General Social Survey.\n",
    "\n",
    "    Probability mass functions    50 xp\n",
    "    Make a PMF    100 xp\n",
    "    Plot a PMF    100 xp\n",
    "    Cumulative distribution functions    50 xp\n",
    "    Make a CDF    100 xp\n",
    "    Compute IQR    100 xp\n",
    "    Plot a CDF    100 xp\n",
    "    Comparing distributions    50 xp\n",
    "    Distribution of education    50 xp\n",
    "    Extract education levels    100 xp\n",
    "    Plot income CDFs    100 xp\n",
    "    Modeling distributions    50 xp\n",
    "    Distribution of income    100 xp\n",
    "    Comparing CDFs    100 xp\n",
    "    Comparing PDFs    100 xp\n"
   ]
  },
  {
   "cell_type": "markdown",
   "id": "dde4d2d0-76dc-486d-9081-94748f72670b",
   "metadata": {},
   "source": [
    "##  Relationships\n",
    "0%\n",
    "\n",
    "Up until this point, you've only looked at one variable at a time. In this chapter, you'll explore relationships between variables two at a time, using scatter plots and other visualizations to extract insights from a new dataset obtained from the Behavioral Risk Factor Surveillance Survey (BRFSS). You'll also learn how to quantify those relationships using correlation and simple regression.\n",
    "\n",
    "    Exploring relationships    50 xp\n",
    "    PMF of age    100 xp\n",
    "    Scatter plot    100 xp\n",
    "    Jittering    100 xp\n",
    "    Visualizing relationships    50 xp\n",
    "    Height and weight    100 xp\n",
    "    Distribution of income    100 xp\n",
    "    Income and height    100 xp\n",
    "    Correlation    50 xp\n",
    "    Computing correlations    100 xp\n",
    "    Interpreting correlations    50 xp\n",
    "    Simple regression    50 xp\n",
    "    Income and vegetables    100 xp\n",
    "    Fit a line    100 xp\n"
   ]
  },
  {
   "cell_type": "markdown",
   "id": "f079e58a-7fb2-4030-a56a-4cc91c5f6ecb",
   "metadata": {},
   "source": [
    "##  Multivariate Thinking\n",
    "0%\n",
    "\n",
    "Explore multivariate relationships using multiple regression to describe non-linear relationships and logistic regression to explain and predict binary variables.\n",
    "\n",
    "    Limits of simple regression    50 xp\n",
    "    Regression and causation    50 xp\n",
    "    Using StatsModels    100 xp\n",
    "    Multiple regression    50 xp\n",
    "    Plot income and education    100 xp\n",
    "    Non-linear model of education    100 xp\n",
    "    Visualizing regression results    50 xp\n",
    "    Making predictions    100 xp\n",
    "    Visualizing predictions    100 xp\n",
    "    Logistic regression    50 xp\n",
    "    Predicting a binary variable    100 xp\n",
    "    Next steps    50 xp \n",
    "    "
   ]
  },
  {
   "cell_type": "code",
   "execution_count": null,
   "id": "4b236a29-5548-4696-bec1-5142245a3acb",
   "metadata": {},
   "outputs": [],
   "source": []
  },
  {
   "cell_type": "markdown",
   "id": "104460e9-b14c-4e06-8b9c-59b56345714c",
   "metadata": {},
   "source": [
    "## DataFrames and Series\n",
    "\n",
    "\n",
    "\n",
    "Welcome to Exploratory Data Analysis in Python.  The instructor's name is Allen Downey.  [The goal of exploratory data analysis is to answer the questions and guide decision making].  As a first example, we'll start with a simple __question: what is the average birth weight of babies in teh United States?__  To answera question like this, we have to find an appropriate dataset or run an experiment to collect it.  Then we have to get the data into our development environment and prepare it for analysis, which involves cleaning and validation.  For this questionwe'll use data from the National Survery of Family Growth, which is available from the National Center for Health Statistics.  The 2012-2015 dataset includes information about a representative sample of women in the USA and their children.  \n",
    "\n",
    "The Python module we'll use to read and analyze data in Pandas.  Pandas can read data in most common formats, including CSV, Excel, and the format NSFG data is in, HDF5 (DO you recall how we test importing data from different sources with Pandas? get remember it ).  The result from \"pd.read_hdf('nsfg.hdf5', 'nsfg')\" is a DataFrame, which is the primary data structure Pandas uses to store data.  Using \"df.head()\" giving us pregnancy for each of women who participated in the survey, and one column for each variable.  The DF has an attribute \".shape\", which is the number of rows and columns.  And the \".columns\" attributes, as an [index] (DF are formed by 3 object, index, columns, data, do you recall when we learned this topic, go back to read it again).  Thats another Pandas data structure, similar to a list; in this case its a list of variables names, which are strings.  For the reliable information about the data, you have to read teh documentation.  Say what does this columns \"birthwgt_lb1\" means?  The documentation tell us that it is the weight in pounds of teh first baby from this pregnancy, for cases of live birth.  \n",
    "\n",
    "In many ways, a DF is like a Python's dictionary, where the variable names are the keys and the columns are the values.  You can select a column from a DF using the bracket operator, with a string as the key.  The result is a Series, which is another Pandas data structure.  In this case the Series contains the birth weights, in pounds, of the live births (or in the case of multiple births, the first baby).  The \"df.head()\" shows the first 5 rows of the Seris and the name of the Series, and the datatype; float64 means that these values are 64-bit floating point numbers.  Notice that one of the values is NaN, which stands for \"Not a Number\".  NaN is a special value that can indicate invalid or missing data.  In that example, the pregnancy did not end in live birth, so birth weight is inapplicable.  \n",
    "\n"
   ]
  },
  {
   "cell_type": "code",
   "execution_count": 12,
   "id": "1c527de8-d8f9-449e-8629-f605e965cb04",
   "metadata": {},
   "outputs": [
    {
     "name": "stdout",
     "output_type": "stream",
     "text": [
      "<class 'pandas.core.frame.DataFrame'> \n",
      "\n",
      "   caseid  outcome  birthwgt_lb1  birthwgt_oz1  prglngth  nbrnaliv  agecon  \\\n",
      "0   60418        1           5.0           4.0        40       1.0    2000   \n",
      "1   60418        1           4.0          12.0        36       1.0    2291   \n",
      "2   60418        1           5.0           4.0        36       1.0    3241   \n",
      "3   60419        6           NaN           NaN        33       NaN    3650   \n",
      "4   60420        1           8.0          13.0        41       1.0    2191   \n",
      "\n",
      "   agepreg  hpagelb  wgt2013_2015  \n",
      "0   2075.0     22.0   3554.964843  \n",
      "1   2358.0     25.0   3554.964843  \n",
      "2   3308.0     52.0   3554.964843  \n",
      "3      NaN      NaN   2484.535358  \n",
      "4   2266.0     24.0   2903.782914   \n",
      "\n",
      "(9358, 10) \n",
      "\n",
      "Index(['caseid', 'outcome', 'birthwgt_lb1', 'birthwgt_oz1', 'prglngth',\n",
      "       'nbrnaliv', 'agecon', 'agepreg', 'hpagelb', 'wgt2013_2015'],\n",
      "      dtype='object') \n",
      "\n",
      "Case Id: \n",
      " 0       60418\n",
      "1       60418\n",
      "2       60418\n",
      "3       60419\n",
      "4       60420\n",
      "        ...  \n",
      "9353    70615\n",
      "9354    70616\n",
      "9355    70616\n",
      "9356    70619\n",
      "9357    70619\n",
      "Name: caseid, Length: 9358, dtype: int64\n"
     ]
    }
   ],
   "source": [
    "import pandas as pd\n",
    "\n",
    "\n",
    "df = pd.read_hdf('nsfg.hdf5', 'nsfg')\n",
    "print(type(df), '\\n')\n",
    "\n",
    "\n",
    "print(df.head(), '\\n')\n",
    "\n",
    "print(df.shape, '\\n')\n",
    "print(df.columns, '\\n')\n",
    "\n",
    "\n",
    "print(\"Case Id: \\n\", df['caseid'])"
   ]
  },
  {
   "cell_type": "markdown",
   "id": "39279dfc-235f-4efa-8583-57f963d9744f",
   "metadata": {},
   "source": [
    "## Read the codebook\n",
    "\n",
    "When you work with datasets like the NSFG, it is important to read the documentation carefully. If you interpret a variable incorrectly, you can generate nonsense results and never realize it. So before you start coding, you'll need to get familiar with the NSFG codebook, which describes every variable.\n",
    "\n",
    "Here is the documentation from the NSFG codebook for \"BIRTHWGT_OZ1\":\n",
    "\n",
    "birthwgt_oz1 codebook\n",
    "\n",
    "How many respondents refused to answer this question?\n",
    "\n",
    "Possible Answers\n",
    "\n",
    "    1\n",
    "    1\n",
    "    35\n",
    "    2\n",
    "    48-49\n",
    "    3\n",
    "    2967\n",
    "    4\n"
   ]
  },
  {
   "cell_type": "markdown",
   "id": "e93eabf1-65dc-426f-b427-82ecb5b0e1f2",
   "metadata": {},
   "source": [
    "<img src='https://assets.datacamp.com/production/repositories/4025/datasets/0d2a0c18b63f3ddf056858c145a6bdc022d8656c/Screenshot%202019-03-31%2019.16.14.png'>"
   ]
  },
  {
   "cell_type": "markdown",
   "id": "4a8e2a5c-a41c-4d13-bdba-91f38fcac76e",
   "metadata": {},
   "source": [
    "## Exploring the NSFG data\n",
    "\n",
    "To get the number of rows and columns in a DataFrame, you can read its shape attribute.\n",
    "\n",
    "To get the column names, you can read the columns attribute. The result is an Index, which is a Pandas data structure that is similar to a list. Let's begin exploring the NSFG data! It has been pre-loaded for you into a DataFrame called nsfg.\n",
    "Instructions 1/4\n",
    "25 XP\n",
    "\n",
    "    Question 1\n",
    "    Calculate the number of rows and columns in the DataFrame nsfg.\n",
    "    \n",
    "    \n",
    "    Question 2\n",
    "    Display the names of the columns in nsfg.\n",
    "    \n",
    "    \n",
    "    Question 3\n",
    "    Select the column 'birthwgt_oz1' and assign it to a new variable called ounces.\n",
    "    \n",
    "    \n",
    "    Question 4\n",
    "    Display the first 5 elements of ounces.\n"
   ]
  },
  {
   "cell_type": "code",
   "execution_count": null,
   "id": "08f9de85-5247-45b2-befd-9df80ce01a5a",
   "metadata": {},
   "outputs": [],
   "source": [
    "# Display the number of rows and columns\n",
    "nsfg.shape\n",
    "\n",
    "# Display the names of the columns\n",
    "nsfg.columns\n",
    "\n",
    "# Select column birthwgt_oz1: ounces\n",
    "ounces = nsfg['birthwgt_oz1']\n",
    "\n",
    "# Print the first 5 elements of ounces\n",
    "print(____)"
   ]
  },
  {
   "cell_type": "markdown",
   "id": "c5e6d8f0-56e5-4ba5-affb-901c829fe157",
   "metadata": {},
   "source": [
    "## Clean and Validate\n",
    "\n",
    "\n",
    "\n",
    "In the previous lesson, we read data from the National Survery of Family Growth and selected a column from a DataFrame.  [In this lesson, we'll check for errors and prepare the data for analysis].  We'll use the same DF we used in the previous lesson - nsfg, which contains one row for each pregnancy  in the survey.  We'll select the variable \"birthwgt_lb1\", which contains the pound part of birth weight, and assign it to pounds.  And \"birthwgt_oz1\" contains the ounce part of birth weight, so we'll assign that to ounces.  \n",
    "\n",
    "[Before we do anything with this data, we have to validate it].  One part of validation is confirming that we are interpreting the data correctly.  We can use the \"df.value_counts()\" method to see what values appear in pounds and how many times each value appears.  By default, the results are sorted with the most frequent value first, so we use \".sort_index()\" method to sort them by value instead (?? You mean use \"df.sort_values()\" method), with the lightest babies first and heaviest babies last.  As we'd expect, the most frequent values are 6-8 pounds, but there are some very light babies, a few very heavy babies, and two values, 98 and 99, that indicate missing data.  We can validate the results by comparing them to the codebook, which lists the values and their frequencies.  The results here agree with the codebook (__He means the data range is okay with documentation, go back the chack data processing with Pandas course or data cleaning course I guess and re-study it__), so we have some confidence that we are reading and interpreting the data correctly.  \n",
    "\n",
    "Another way to validate the data in with \"df.describe()\" method, which computes summary statistics like mean, standard deviation, min, and max (__But be careful with data type and range, as value based categories will appear min, max, mean statistic summary__).  Here we have the results for pounds.  The \"count\" is the number of values, The \"minimum\" and \"maximum\" values are 0 and 99 (Here the 98 and 99 are actually not real values, but specific category labels to represent value missing or bad things), and the 50th percentile, which is the [median] (Why based on statistic knowledge, sometime we don't use avg but use median instead?   {__Why median is used instead of average?__\n",
    "The mean is the most frequently used measure of central tendency because it uses all values in the data set to give you an average. For data from skewed distributions, the median is better than the mean because it isn't influenced by extremely large values.}   [][Google this topic], and I think one of the course talked about this topic), is 7.  \n",
    "\n",
    "The mean is about 8.05, but that doesn't mean much because it includes the special values 98 and 99.  Before we can really compute the mean, we have to replace those values with NaN to represent missing data.  The \"df.replace()\" method does what we want; it takes a list of values we want to replace and the values we want to replace them with.  The \"np.nan\" means we are getting the special value NaN form the NumPy library.  __The result from the \"df.replace()\" method is a new Series, whcih we assign back to replace its origin__.  Remember that the mean of the original Series was about 8.05 pounds.  The mean of the new Series is about 6.7 pounds.  It makes a big difference when you remove a few 98 and 99 pounds values.  \n",
    "\n",
    "[Instead of making a new Series, you can call \"df.replace(inplace=True)\" with \"replace=True\", which modifies the existing Series in place, that is without making a copy].  Here's what that look like for ounces.  Since we didn't make a new Series, we don't have to assign it back to its origin.  \n",
    "\n",
    "\n",
    "Now say we want to combine pounds and ounces into a single Series that contains total birth weight.  Arithmetic operators work with Series objects; so to convert from ounces to pounds, we can divide by 16 (there are 16 ounces in a pound).  Then we can add the two Series objects to get the total (Compare the calculation difference between SQL and Pandas, and recall in which course we learned such topic, re-study it and [][Google this topic]).  And here are the results.  The refreshed more accurate values are mean 7.1 pounds, which is little more than what we got before we added in the ounces part.  [Now we are close to answering our original question, the average birth weight for babiesin the USA] (__See, we need to check its distribution, cause the median will be more representive than mean in the skewed distribution__[][Google charm]).  But as we'll see in the next lesson, we're not there yet.  \n",
    "\n",
    "\n"
   ]
  },
  {
   "cell_type": "markdown",
   "id": "227064a5-a140-41af-904a-2778cdf419d7",
   "metadata": {},
   "source": [
    "## The values are based on how hard you are thinking and how hard you are pursuing"
   ]
  },
  {
   "cell_type": "code",
   "execution_count": 32,
   "id": "6d95d335-d8b3-4106-bb23-3a0b5f4089c9",
   "metadata": {},
   "outputs": [
    {
     "name": "stdout",
     "output_type": "stream",
     "text": [
      "   caseid  outcome  birthwgt_lb1  birthwgt_oz1  prglngth  nbrnaliv  agecon  \\\n",
      "0   60418        1           5.0           4.0        40       1.0    2000   \n",
      "1   60418        1           4.0          12.0        36       1.0    2291   \n",
      "2   60418        1           5.0           4.0        36       1.0    3241   \n",
      "3   60419        6           NaN           NaN        33       NaN    3650   \n",
      "4   60420        1           8.0          13.0        41       1.0    2191   \n",
      "\n",
      "   agepreg  hpagelb  wgt2013_2015  Total_weight_pounds  \n",
      "0   2075.0     22.0   3554.964843               5.2500  \n",
      "1   2358.0     25.0   3554.964843               4.7500  \n",
      "2   3308.0     52.0   3554.964843               5.2500  \n",
      "3      NaN      NaN   2484.535358                  NaN  \n",
      "4   2266.0     24.0   2903.782914               8.8125  \n",
      "\n",
      "\n",
      "39    2384\n",
      "40    1311\n",
      "38     755\n",
      "37     432\n",
      "41     422\n",
      "Name: prglngth, dtype: int64\n",
      "\n",
      "\n",
      "48    1\n",
      "45    3\n",
      "46    3\n",
      "0     7\n",
      "23    7\n",
      "Name: prglngth, dtype: int64\n",
      "\n",
      "\n",
      "0      7\n",
      "1     11\n",
      "2     50\n",
      "3    102\n",
      "4    274\n",
      "Name: prglngth, dtype: int64\n",
      "count    6390.000000\n",
      "mean        6.703286\n",
      "std         1.429265\n",
      "min         0.000000\n",
      "25%         6.000000\n",
      "50%         7.000000\n",
      "75%         8.000000\n",
      "max        17.000000\n",
      "Name: birthwgt_lb1, dtype: float64\n",
      "count    6390.000000\n",
      "mean        6.703286\n",
      "std         1.429265\n",
      "min         0.000000\n",
      "25%         6.000000\n",
      "50%         7.000000\n",
      "75%         8.000000\n",
      "max        17.000000\n",
      "Name: birthwgt_lb1, dtype: float64\n",
      "\n",
      "\n",
      "count    6390.000000\n",
      "mean        7.153267\n",
      "std         1.485002\n",
      "min         0.000000\n",
      "25%         6.375000\n",
      "50%         7.187500\n",
      "75%         8.000000\n",
      "max        17.937500\n",
      "Name: Total_weight_pounds, dtype: float64\n"
     ]
    }
   ],
   "source": [
    "print(df.head())\n",
    "print('\\n')\n",
    "\n",
    "\n",
    "print(df['prglngth'].value_counts()[:5])\n",
    "print('\\n')\n",
    "\n",
    "\n",
    "print(df['prglngth'].value_counts().sort_values()[:5])\n",
    "print('\\n')\n",
    "\n",
    "\n",
    "print(df['prglngth'].value_counts().sort_index()[:5])    # I know the instructor is wrong about this function\n",
    "\n",
    "print(df['birthwgt_lb1'].describe())\n",
    "\n",
    "\n",
    "import numpy as np\n",
    "df['birthwgt_lb1'] = df['birthwgt_lb1'].replace([98, 99], np.nan)\n",
    "df['birthwgt_lb1'].replace('NaN', np.nan, inplace=True)   # =========================================================\n",
    "\n",
    "print(df['birthwgt_lb1'].describe())\n",
    "print('\\n')\n",
    "\n",
    "\n",
    "\n",
    "df['Total_weight_pounds'] = df['birthwgt_lb1'] + df['birthwgt_oz1']/16   # ==========================================\n",
    "\n",
    "print(df['Total_weight_pounds'].describe())"
   ]
  },
  {
   "cell_type": "markdown",
   "id": "b93ec24b-55cb-4621-93ba-f9e7e61121bc",
   "metadata": {},
   "source": [
    "## Validate a variable\n",
    "\n",
    "In the NSFG dataset, the variable 'outcome' encodes the outcome of each pregnancy as shown below:\n",
    "value \tlabel\n",
    "1 \tLive birth\n",
    "2 \tInduced abortion\n",
    "3 \tStillbirth\n",
    "4 \tMiscarriage\n",
    "5 \tEctopic pregnancy\n",
    "6 \tCurrent pregnancy\n",
    "\n",
    "The nsfg DataFrame has been pre-loaded for you. Explore it in the IPython Shell and use the methods Allen showed you in the video to answer the following question: How many pregnancies in this dataset ended with a live birth?\n",
    "Instructions\n",
    "50 XP\n",
    "Possible Answers\n",
    "\n",
    "    6489\n",
    "    9538\n",
    "    1469\n",
    "    6\n",
    "    "
   ]
  },
  {
   "cell_type": "code",
   "execution_count": null,
   "id": "054c32ea-a5d6-4742-b010-ee99f0e45eff",
   "metadata": {},
   "outputs": [],
   "source": [
    "In [1]:\n",
    "nsfg['outcome'].count_values()\n",
    "Traceback (most recent call last):\n",
    "  File \"<stdin>\", line 72, in exceptionCatcher\n",
    "    raise exception\n",
    "  File \"<stdin>\", line 3361, in run_ast_nodes\n",
    "    if (await self.run_code(code, result,  async_=asy)):\n",
    "  File \"<stdin>\", line 3458, in run_code\n",
    "    self.showtraceback(running_compiled_code=True)\n",
    "  File \"<stdin>\", line 2066, in showtraceback\n",
    "    self._showtraceback(etype, value, stb)\n",
    "  File \"<stdin>\", line 72, in exceptionCatcher\n",
    "    raise exception\n",
    "  File \"<stdin>\", line 3441, in run_code\n",
    "    exec(code_obj, self.user_global_ns, self.user_ns)\n",
    "  File \"<stdin>\", line 1, in <module>\n",
    "    nsfg['outcome'].count_values()\n",
    "  File \"<stdin>\", line 5487, in __getattr__\n",
    "    return object.__getattribute__(self, name)\n",
    "AttributeError: 'Series' object has no attribute 'count_values'\n",
    "In [2]:\n",
    "nsfg['outcome'].value_counts()   # ==================================================================================\n",
    "Out[2]:                          # Its value_counts() NOT count_values()\n",
    "\n",
    "1    6489\n",
    "4    1469\n",
    "2     947\n",
    "6     249\n",
    "5     118\n",
    "3      86\n",
    "Name: outcome, dtype: int64"
   ]
  },
  {
   "cell_type": "markdown",
   "id": "afb48a8b-910b-4e1d-b0d7-271329302172",
   "metadata": {},
   "source": [
    "## Clean a variable\n",
    "\n",
    "In the NSFG dataset, the variable 'nbrnaliv' records the number of babies born alive at the end of a pregnancy.\n",
    "\n",
    "If you use .value_counts() to view the responses, you'll see that the value 8 appears once, and if you consult the codebook, you'll see that this value indicates that the respondent refused to answer the question.\n",
    "\n",
    "Your job in this exercise is to replace this value with np.nan. Recall from the video how Allen replaced the values 98 and 99 in the ounces column using the .replace() method:\n",
    "\n",
    "[\n",
    "ounces.replace([98, 99], np.nan, inplace=True)\n",
    "]\n",
    "\n",
    "Instructions\n",
    "100 XP\n",
    "\n",
    "    In the 'nbrnaliv' column, replace the value 8, in place, with the special value NaN.\n",
    "    Confirm that the value 8 no longer appears in this column by printing the values and their frequencies.\n"
   ]
  },
  {
   "cell_type": "code",
   "execution_count": 35,
   "id": "8a9c44f2-649e-40e4-9363-1783d988d381",
   "metadata": {},
   "outputs": [
    {
     "name": "stdout",
     "output_type": "stream",
     "text": [
      "1.0    6379\n",
      "2.0     100\n",
      "3.0       5\n",
      "Name: nbrnaliv, dtype: int64\n"
     ]
    }
   ],
   "source": [
    "# Replace the value 8 with NaN\n",
    "df['nbrnaliv'].replace(8, np.nan, inplace=True)\n",
    "\n",
    "# Print the values and their frequencies\n",
    "print(df['nbrnaliv'].value_counts())"
   ]
  },
  {
   "cell_type": "markdown",
   "id": "5997f6bb-76be-4096-a370-fdb8382d59d9",
   "metadata": {},
   "source": [
    "## Compute a variable\n",
    "\n",
    "For each pregnancy in the NSFG dataset, the variable 'agecon' encodes the respondent's age at conception, and 'agepreg' the respondent's age at the end of the pregnancy.\n",
    "\n",
    "Both variables are recorded as integers with two implicit decimal places, so the value 2575 means that the respondent's age was 25.75.\n",
    "Instructions 1/3\n",
    "35 XP\n",
    "\n",
    "    Question 1\n",
    "    Select 'agecon' and 'agepreg', divide them by 100, and assign them to the local variables agecon and agepreg.\n",
    "    \n",
    "    \n",
    "    Question 2\n",
    "    Compute the difference, which is an estimate of the duration of the pregnancy. Keep in mind that for each pregnancy, agepreg will be larger than agecon.\n",
    "    \n",
    "    \n",
    "    Question 3\n",
    "    Use .describe() to compute the mean duration and other summary statistics.\n",
    "    "
   ]
  },
  {
   "cell_type": "code",
   "execution_count": 37,
   "id": "056c2ac4-132a-4028-99cc-5aa1058238df",
   "metadata": {},
   "outputs": [
    {
     "name": "stdout",
     "output_type": "stream",
     "text": [
      "   agecon  agepreg\n",
      "0    2000   2075.0\n",
      "1    2291   2358.0\n",
      "2    3241   3308.0\n",
      "3    3650      NaN\n",
      "4    2191   2266.0\n",
      "0    20.00\n",
      "1    22.91\n",
      "2    32.41\n",
      "3    36.50\n",
      "4    21.91\n",
      "Name: agecon, dtype: float64\n"
     ]
    }
   ],
   "source": [
    "print(df[['agecon', 'agepreg']].head())\n",
    "\n",
    "\n",
    "df['agecon'] = df['agecon']/100\n",
    "\n",
    "print(df['agecon'].head())\n",
    "\n",
    "\n",
    "\n",
    "# Select the columns and divide by 100\n",
    "agecon = nsfg['agecon'] / 100\n",
    "agepreg = nsfg['agepreg'] / 100\n",
    "\n",
    "# Compute the difference\n",
    "preg_length = agepreg - agecon\n",
    "\n",
    "# Compute summary statistics\n",
    "print(____)"
   ]
  },
  {
   "cell_type": "markdown",
   "id": "2b91de64-0344-4795-a1f6-cb3dddec7ef1",
   "metadata": {},
   "source": [
    "## Filter and visualize\n",
    "\n",
    "\n",
    "\n",
    "\n",
    "Let's get back to the motivating question for this chapter: what is the average birth weight for the babies in the USA.  In the previous lesson, we used data from teh NSFG to compute birth weight in pounds (we convered the ounces part and added it back to modified new pound column) and we stored the result in a Series.  [Lets see what the distribution of those values looks like].  We'll use the pyplot submodule from the Matplotlib visualization library which we import as plt.  The Pyplot provides \"plt.hist()\" function, which takes a Series and plots a histogram; that is, it shows the values and how often they appear.  However, __[pyplot doesn't work with NaNs]__ (How does Tableau deal with NaNs, does that NaNs will effect our calculation?  [Googe this]), so we have to use \"df.dropna()\", which makes a new Series that contains ony the valid values.  The bins tells \"plt.hist()\" function to divide the range of weights into 30 intervals, called \"bins\", and count how many values fall in each bin.  \n",
    "\n",
    "The \"plt.hist()\" function takes other arguments that specify the type and appearance of the histogram; you will have a chance to explore these options in the next exercise.  To label the axes we'll use the \"plt.xlabel()\" and \"plt.ylabel()\", and finally to display teh plot, we use \"plt.show()\".  \n",
    "\n",
    "Checking below plots, the x-axis is birth weight in pounds divided into 30 bins.  While the y-axis is the number of births in each bin.  [__The distribution looks a little like a bell curve, but the tail is longer on the left than on the right; that is, there are more light weight babies than heavy babies__].  That makes sense because the distribution includes some babies that were born preterm.  The most common duration of pregnancy is 39 weeks, which is \"full term\", \"preterm\" is usually defined to be less than 37 weeks.  [Google it yourself].  To check which babies are preterm, we can use the \"prglngth\" column, which records pregnancy length in weeks.  When you compare a Series to a value, the result is a Boolean Series.  If you compute the mean, you get the fraction of Trues; in this case, its close to 0.4, that is about 40% of the births in this dataset are preterm (What happened?  Why there is so much portion of poor babies born earlier).  \n",
    "\n",
    "We can use a Boolean Series as a filter; that is, we can select only rows that satisfy a condition or meet some [][criterion].  For example, we can use preterm and the bracket operator to select values from birth_weight, so preterm_weight contains birth weights for preterm babies.  To select the full-term babies, we can use the tilde (~) operator, which is logical NOT or inverse; it makes the True False diverse.  Not surprisingly, full-term babies are heaver, on average, than preterm babies.  (__but the weight distribution of two baby groups are different, the full-terms are XXX adn teh preterms are YYY, does these tells us any valuable information__)  If you have 2 Boolean Series, you can use logical operators to combine them; ampersand (&) is the logical AND, and the vertical bar (|) or pipe is logical OR.  \n",
    "\n",
    "[There is one more thing we have to do before we can answer our question; resampling].  The NSFG is not exactly representative of the USA population; be design, some groups are more likely to appear in the sample than others; they are [__\"oversampled\"__].  __Oversampling helps to ensure that you have enough people in every subgroup to get teh reliable statistics, but it makes tha analytics a little more complicated__.  However, [__we can correct for oversampling by resampling__].  (How can we identify if there is oversampling happened? and does oversampling is always a bad thing, any cirteria? ab testing, retention calication? [][Google this topic, *****])  We won't get into the details here, but the institor have provided a function [\"resample_rows_weighted()\"] that we can use for the exercise.  If you are interested in learning more about resampling, check out DataCamp's statistics courses.  \n",
    "\n",
    "\n",
    "Now we have everything we need to answer the motivating question.  \n",
    "\n"
   ]
  },
  {
   "cell_type": "code",
   "execution_count": 58,
   "id": "c1d12adb-a8eb-4fe9-b50e-46428edbb54b",
   "metadata": {},
   "outputs": [
    {
     "data": {
      "image/png": "[encoded data removed]",
      "text/plain": [
       "<Figure size 432x288 with 1 Axes>"
      ]
     },
     "metadata": {
      "needs_background": "light"
     },
     "output_type": "display_data"
    },
    {
     "data": {
      "image/png": "[encoded data removed]",
      "text/plain": [
       "<Figure size 432x288 with 1 Axes>"
      ]
     },
     "metadata": {
      "needs_background": "light"
     },
     "output_type": "display_data"
    },
    {
     "name": "stdout",
     "output_type": "stream",
     "text": [
      "   caseid  outcome  birthwgt_lb1  birthwgt_oz1  prglngth  nbrnaliv  agecon  \\\n",
      "0   60418        1           5.0           4.0        40       1.0   20.00   \n",
      "1   60418        1           4.0          12.0        36       1.0   22.91   \n",
      "2   60418        1           5.0           4.0        36       1.0   32.41   \n",
      "3   60419        6           NaN           NaN        33       NaN   36.50   \n",
      "4   60420        1           8.0          13.0        41       1.0   21.91   \n",
      "\n",
      "   agepreg  hpagelb  wgt2013_2015  Total_weight_pounds  \n",
      "0   2075.0     22.0   3554.964843               5.2500  \n",
      "1   2358.0     25.0   3554.964843               4.7500  \n",
      "2   3308.0     52.0   3554.964843               5.2500  \n",
      "3      NaN      NaN   2484.535358                  NaN  \n",
      "4   2266.0     24.0   2903.782914               8.8125   \n",
      "\n",
      "3742\n",
      "0.39987176747168196\n",
      "   caseid  outcome  birthwgt_lb1  birthwgt_oz1  prglngth  nbrnaliv  agecon  \\\n",
      "1   60418        1           4.0          12.0        36       1.0   22.91   \n",
      "2   60418        1           5.0           4.0        36       1.0   32.41   \n",
      "3   60419        6           NaN           NaN        33       NaN   36.50   \n",
      "5   60420        4           NaN           NaN         3       NaN   33.91   \n",
      "6   60423        1           5.0           0.0        35       1.0   23.66   \n",
      "\n",
      "   agepreg  hpagelb  wgt2013_2015  Total_weight_pounds  \n",
      "1   2358.0     25.0   3554.964843                 4.75  \n",
      "2   3308.0     52.0   3554.964843                 5.25  \n",
      "3      NaN      NaN   2484.535358                  NaN  \n",
      "5   3391.0      NaN   2903.782914                  NaN  \n",
      "6   2433.0     23.0   2738.498331                 5.00  \n"
     ]
    },
    {
     "data": {
      "image/png": "[encoded data removed]",
      "text/plain": [
       "<Figure size 432x288 with 1 Axes>"
      ]
     },
     "metadata": {
      "needs_background": "light"
     },
     "output_type": "display_data"
    },
    {
     "data": {
      "image/png": "[encoded data removed]",
      "text/plain": [
       "<Figure size 432x288 with 1 Axes>"
      ]
     },
     "metadata": {
      "needs_background": "light"
     },
     "output_type": "display_data"
    }
   ],
   "source": [
    "import matplotlib.pyplot as plt\n",
    "\n",
    "#print(dir(plt))\n",
    "\n",
    "plt.hist(df['Total_weight_pounds'], bins=30)\n",
    "plt.title('Total weight distribution')\n",
    "plt.show()\n",
    "\n",
    "\n",
    "plt.hist(df['Total_weight_pounds'].dropna(), bins=30)\n",
    "plt.title('Non-NaNs Total weight Distribution')\n",
    "plt.show()\n",
    "\n",
    "\n",
    "print(df.head(), '\\n')\n",
    "\n",
    "preterm = df[df['prglngth']<=37]\n",
    "print(sum(df['prglngth']<37))\n",
    "print(np.mean(df['prglngth']<37))\n",
    "\n",
    "print(preterm.head())\n",
    "\n",
    "\n",
    "plt.hist(df.loc[~df['prglngth']<=37, 'Total_weight_pounds'], bins=30)   # ===========================================\n",
    "plt.title('Full-term babies weight distribution')\n",
    "plt.show()\n",
    "\n",
    "\n",
    "plt.hist(df.loc[df['prglngth']<=37, 'Total_weight_pounds'], bins=30)   # ===========================================\n",
    "plt.title('Preterm babies weight distribution')\n",
    "plt.show()"
   ]
  },
  {
   "cell_type": "markdown",
   "id": "170a3e49-f5b1-4e66-bdea-d14c123d85c9",
   "metadata": {},
   "source": [
    "## Your thinking made who you are, do not lazy\n",
    "\n",
    "## The values are based on how hard you are thinking and how hard you are pursuing"
   ]
  },
  {
   "cell_type": "markdown",
   "id": "978378f4-cf1b-468a-a83f-c701fe5c0e2e",
   "metadata": {},
   "source": [
    "## Make a histogram\n",
    "\n",
    "Histograms are one of the most useful tools in exploratory data analysis. They quickly give you an overview of the distribution of a variable, that is, what values the variable can have, and how many times each value appears.\n",
    "\n",
    "As we saw in a previous exercise, the NSFG dataset includes a variable 'agecon' that records age at conception for each pregnancy. Here, you're going to plot a histogram of this variable. You'll use the bins parameter that you saw in the video, and also a new parameter - histtype - which you can read more about here in the matplotlib documentation. Learning how to read documentation is an essential skill. If you want to learn more about matplotlib, you can check out DataCamp's Introduction to Data Visualization with Matplotlib course.\n",
    "Instructions 1/2\n",
    "50 XP\n",
    "Instructions 1/2\n",
    "50 XP\n",
    "\n",
    "    Question 1\n",
    "    Plot a histogram of agecon with 20 bins.\n",
    "\n",
    "\n",
    "    Question 2\n",
    "    Adapt your code to make an unfilled histogram by setting the parameter histtype to be 'step'.\n",
    "    "
   ]
  },
  {
   "cell_type": "code",
   "execution_count": 59,
   "id": "59e36561-9a33-454f-a41f-72e2ad38a9ba",
   "metadata": {},
   "outputs": [
    {
     "data": {
      "image/png": "[encoded data removed]",
      "text/plain": [
       "<Figure size 432x288 with 1 Axes>"
      ]
     },
     "metadata": {
      "needs_background": "light"
     },
     "output_type": "display_data"
    }
   ],
   "source": [
    "# Plot the histogram\n",
    "plt.hist(df['agecon'], bins=20, histtype='step')   # ================================================================\n",
    "\n",
    "# Label the axes\n",
    "plt.xlabel('Age at conception')\n",
    "plt.ylabel('Number of pregnancies')\n",
    "\n",
    "# Show the figure\n",
    "plt.show()"
   ]
  },
  {
   "cell_type": "markdown",
   "id": "b1da54ea-8667-44e8-91d8-3b176cf9ba78",
   "metadata": {},
   "source": [
    "## Compute birth weight\n",
    "\n",
    "Now let's pull together the steps in this chapter to compute the average birth weight for full-term babies.\n",
    "\n",
    "I've provided a function, resample_rows_weighted, that takes the NSFG data and resamples it using the sampling weights in wgt2013_2015. The result is a sample that is representative of the U.S. population.\n",
    "\n",
    "Then I extract birthwgt_lb1 and birthwgt_oz1, replace special codes with NaN, and compute total birth weight in pounds, birth_weight.\n",
    "\n",
    "# Resample the data\n",
    "nsfg = resample_rows_weighted(nsfg, 'wgt2013_2015')\n",
    "\n",
    "# Clean the weight variables\n",
    "pounds = nsfg['birthwgt_lb1'].replace([98, 99], np.nan)\n",
    "ounces = nsfg['birthwgt_oz1'].replace([98, 99], np.nan)\n",
    "\n",
    "# Compute total birth weight\n",
    "birth_weight = pounds + ounces/16\n",
    "\n",
    "Instructions\n",
    "100 XP\n",
    "\n",
    "    Make a Boolean Series called full_term that is true for babies with 'prglngth' greater than or equal to 37 weeks.\n",
    "    Use full_term and birth_weight to select birth weight in pounds for full-term babies. Store the result in full_term_weight.\n",
    "    Compute the mean weight of full-term babies.\n"
   ]
  },
  {
   "cell_type": "code",
   "execution_count": null,
   "id": "b8e1a344-b22d-4d12-8b94-04e135341b4b",
   "metadata": {},
   "outputs": [],
   "source": [
    "# Create a Boolean Series for full-term babies\n",
    "full_term = df['Total_weight_pounds']>27\n",
    "\n",
    "# Select the weights of full-term babies\n",
    "full_term_weight = df['Total_weight_pounds'][full_term]   # XXXXXXXXXXXXXXXXXXXXXXXXXXXXXXXXXXXXXXXXXXXXXXXXXXXXXXXXX\n",
    "                                                          # Think what is correct, & recall data manipulation course\n",
    "\n",
    "# Compute the mean weight of full-term babies\n",
    "print(____)"
   ]
  },
  {
   "cell_type": "code",
   "execution_count": null,
   "id": "739b4cd4-7252-474c-9e94-9daf73648eef",
   "metadata": {},
   "outputs": [],
   "source": [
    "In [1]:\n",
    "??resample_rows_weighted\n",
    "Signature: resample_rows_weighted(df, column='finalwgt', seed=17)\n",
    "Source:   \n",
    "def resample_rows_weighted(df, column='finalwgt', seed=17):\n",
    "    \"\"\"Resamples a DataFrame using probabilities proportional to given column.\n",
    "\n",
    "    df: DataFrame\n",
    "    column: string column name to use as weights\n",
    "\n",
    "    returns: DataFrame\n",
    "    \"\"\"\n",
    "    np.random.seed(seed)\n",
    "    weights = df[column] / sum(df[column])\n",
    "    indices = np.random.choice(df.index, len(df), replace=True, p=weights)\n",
    "    sample = df.loc[indices]\n",
    "    return sample\n",
    "File:      /tmp/tmph40924vw/<ipython-input-1-8383685dfbe7>\n",
    "Type:      function\n"
   ]
  },
  {
   "cell_type": "markdown",
   "id": "f24cabc0-d740-4cdb-8cf6-e50443474e57",
   "metadata": {},
   "source": [
    "## Filter\n",
    "\n",
    "In the previous exercise, you computed the mean birth weight for full-term babies; you filtered out preterm babies because their distribution of weight is different.\n",
    "\n",
    "The distribution of weight is also different for multiple births, like twins and triplets. In this exercise, you'll filter them out, too, and see what effect it has on the mean.\n",
    "Instructions\n",
    "100 XP\n",
    "\n",
    "    Use the variable 'nbrnaliv' to make a Boolean Series that is True for single births (where 'nbrnaliv' equals 1) and False otherwise.\n",
    "    Use Boolean Series and logical operators to select single, full-term babies and compute their mean birth weight.\n",
    "    For comparison, select multiple, full-term babies and compute their mean birth weight.\n"
   ]
  },
  {
   "cell_type": "code",
   "execution_count": 60,
   "id": "5a6a3426-5441-4d14-aed0-70d5494565cb",
   "metadata": {},
   "outputs": [
    {
     "data": {
      "text/plain": [
       "1.0    6379\n",
       "2.0     100\n",
       "3.0       5\n",
       "Name: nbrnaliv, dtype: int64"
      ]
     },
     "execution_count": 60,
     "metadata": {},
     "output_type": "execute_result"
    }
   ],
   "source": [
    "df['nbrnaliv'].value_counts()\n",
    "\n",
    "\n",
    "# We need to go read document, and understand what does value `3` means in our dataset, \n",
    "# and then devide to clean it or replace it"
   ]
  },
  {
   "cell_type": "code",
   "execution_count": null,
   "id": "8a50d75f-60a0-46aa-9afc-5537f128d34a",
   "metadata": {},
   "outputs": [],
   "source": [
    "# Filter full-term babies\n",
    "full_term = df['prglngth'] >= 37\n",
    "\n",
    "# Filter single births\n",
    "single = df['nbrnaliv']=1\n",
    "\n",
    "# Compute birth weight for single full-term babies\n",
    "single_full_term_weight = birth_weight[____ & ____]\n",
    "print('Single full-term mean:', single_full_term_weight.mean())\n",
    "\n",
    "# Compute birth weight for multiple full-term babies\n",
    "mult_full_term_weight = birth_weight[full_term & ~single]\n",
    "print('Multiple full-term mean:', mult_full_term_weight.mean())\n"
   ]
  },
  {
   "cell_type": "markdown",
   "id": "954f06b5-ba17-4826-a67f-f891c263485d",
   "metadata": {},
   "source": [
    "## Probability mass functions\n",
    "\n",
    "\n",
    "\n",
    "\n",
    "In the previous chapter, we used histograms to visualize distributions.  In this chpater, we'll represent 2 more ways to represent distributions and we'll learn when to use each of them.  And we'll work with a new datase.  The General Social Survey, or GSS, has run annually since 1972, it surverys a __representative sample,__[Define representative][Google this topic][https://www.google.com/search?client=firefox-b-e&q=probability+maff+function+and+distribution+difference]) of the adult population in the USA, and asks questions about demographics and beliefs about social and political issues.  It is widely used by politicians, policy makers, and researchers, including the instructor.  The GSS contains hundreds of variables; we've selected just a few.  And the instructor have already clearned and validated them, so we just have to read the file.  \"gss = pd.read_hdf('gss.hdf5', 'gss')\".  \n",
    "\n",
    "To get started with this dataset, lets look at the distribution of educ, whcih records the number of years of education for each respondent.  First we'll select a column from the DF. And we've already seen one way to visualize distribution, a histogram.  Based on the histogram, we can see the general shape of the distribution and teh central tendency - it looks like the peakis near 12 years of education.  [__But a histogram is not the best way to visualize this distribution__] [How and When can you know that???].  An [alternative is a probability mass function] [Google this topic, and learn statistics, what is a Probability Mass Function, and how it was used in statistics? ] [https://en.wikipedia.org/wiki/Probability_mass_function] [Give me a break here, focus on statistics afterwards], or PMF, that contains the unique values in the dataset and how often each one appears.  \n",
    "\n",
    "The instructor had provided a class called Pmf that computes a probability mass function.  This function is based on a Pandas Series (__Class inheritance, Recall what we learned in Python OOP I suppose, we learned how to write a self modified Panda DataFrame class, with a new timestamp sttribute logging DF creating time__[Re-study it] [And image what would be the class institor wrote, as I saw the bins equal to 1, and round the years column, and that would be my approach, if I'm doing it]) and it provides some methods that aren't in Pandas.  The first argument can be any kind of sequence; in this case, its a Series object.  The second argument indicates that we don't want to normalize this PMF.  I'll explain what that means soon.  The result is a Series that contains the values on the left and the counts on the right.  In this dataset, there are 566 [respondents] who report that they have zero years of formal eduction.  You can use the bracket operator to look up a value in a Pmf and get a count.  The example shows that there are 47689 respondents with 12 years of education, which is the most frequent value.  [__Usually when we make a Pmf, we want to know the fraction of respondents with each value, rather than the counts__].  We can do that by  setting normalize=True, then we get a normalized Pmf, that is a Pmf where the frequencies add up to 1.  Now if we use the bracket operator, the result is a fraction.  In this example, the fraction of people with 12 years of education is 0.306.  The Pmf class provides a \".bar()\" method that plots a PMF as a bar art.  In the slide figure, we can see more clearly that the most common value is 12 years, but there are also peaks at 14 and 16, which correspond to 2 and 4 years of college.  \n",
    "\n",
    "For this data, teh PMF is probably a better hoice than the histogram [WHY saying so? ].  [][__The PMF shows all unique values, so we can see exactly where the peaks are__] (So its like we did on Tableau, but not filtering column as DAY,  Think here, should we do this on our Tableau charts? Need to figure when to use each, a histogram or a PMF).  [][And because the histogram puts values into bins, it obscures some details].  In our example we can't see the peaks at 14and 16 years.  While [__PMF have limitations too__] as we'll see in the next lesson.  \n",
    "\n",
    "\n",
    "[\n",
    "pmf_educ = Pmf(educ, normalize=False)\n",
    "pmd_educ.head()\n",
    "]\n",
    "\n",
    "0.0     566\n",
    "1.0     118\n",
    "2.0     292\n",
    "3.0     686\n",
    "4.0     746\n",
    "\n",
    "pmf_educ.bar(label='educ')\n",
    "plt.xlabel('Years of edu')\n",
    "plt.ylabel('PMF')\n",
    "\n",
    "plt.legend()\n",
    "plt.show()\n",
    "\n"
   ]
  },
  {
   "cell_type": "code",
   "execution_count": 65,
   "id": "7804a897-b7ba-42a0-807d-eb95c15f9e17",
   "metadata": {},
   "outputs": [
    {
     "name": "stdout",
     "output_type": "stream",
     "text": [
      "   year   age  cohort  sex  race  educ  realinc  gunlaw  grass  wtssall\n",
      "0  1972  26.0  1946.0    1     1  18.0  13537.0     2.0    NaN   0.8893\n",
      "1  1972  38.0  1934.0    2     1  12.0  18951.0     1.0    NaN   0.4446\n",
      "2  1972  57.0  1915.0    1     1  12.0  30458.0     1.0    NaN   1.3339\n",
      "3  1972  61.0  1911.0    2     1  14.0  37226.0     1.0    NaN   0.8893\n",
      "4  1972  59.0  1913.0    1     1  12.0  30458.0     2.0    NaN   0.8893 \n",
      "\n"
     ]
    },
    {
     "data": {
      "image/png": "[encoded data removed]",
      "text/plain": [
       "<Figure size 432x288 with 1 Axes>"
      ]
     },
     "metadata": {
      "needs_background": "light"
     },
     "output_type": "display_data"
    }
   ],
   "source": [
    "import pandas as pd\n",
    "\n",
    "\n",
    "gss = pd.read_hdf('gss.hdf5', 'gss')\n",
    "print(gss.head(), '\\n')\n",
    "\n",
    "\n",
    "import matplotlib.pyplot as plt\n",
    "\n",
    "plt.hist(gss['educ'].dropna(), label='educ')\n",
    "plt.legend()\n",
    "plt.show()"
   ]
  },
  {
   "cell_type": "markdown",
   "id": "8fae55ac-2cdc-4db2-b6e7-5356ff80425c",
   "metadata": {},
   "source": [
    "## Make a PMF\n",
    "\n",
    "The GSS dataset has been pre-loaded for you into a DataFrame called gss. You can explore it in the IPython Shell to get familiar with it.\n",
    "\n",
    "In this exercise, you'll focus on one variable in this dataset, 'year', which represents the year each respondent was interviewed.\n",
    "\n",
    "The Pmf class you saw in the video has already been created for you. You can access it outside of DataCamp via the empiricaldist library.\n",
    "Instructions 1/2\n",
    "50 XP\n",
    "\n",
    "    Question 1\n",
    "    Make a PMF for year with normalize=False and display the result.\n",
    "    \n",
    "    \n",
    "    Question 2\n",
    "    How many respondents were interviewed in 2016?\n",
    "Possible Answers\n",
    "\n",
    "    2867\n",
    "    1613\n",
    "    2538\n",
    "    0.045897\n",
    "Answer : 2867\n"
   ]
  },
  {
   "cell_type": "code",
   "execution_count": null,
   "id": "e705c641-5cdd-4f60-a7ce-8b48a0ada9cb",
   "metadata": {},
   "outputs": [],
   "source": [
    "# Compute the PMF for year\n",
    "pmf_year = Pmf(df['year'], normalize=False)\n",
    "\n",
    "# Print the result\n",
    "print(pmf_year)"
   ]
  },
  {
   "cell_type": "markdown",
   "id": "ff314392-82ba-47d7-96a5-0171cfdddae3",
   "metadata": {},
   "source": [
    "## Plot a PMF\n",
    "\n",
    "Now let's plot a PMF for the age of the respondents in the GSS dataset. The variable 'age' contains respondents' age in years.\n",
    "Instructions 1/3\n",
    "35 XP\n",
    "\n",
    "    Question 1\n",
    "    Select the 'age' column from the gss DataFrame and store the result in age.\n",
    "    \n",
    "    \n",
    "    Question 2\n",
    "    Make a normalized PMF of age. Store the result in pmf_age.\n",
    "    \n",
    "    \n",
    "    Question 3\n",
    "    # •\tPlot pmf_age as a bar chart.\n"
   ]
  },
  {
   "cell_type": "code",
   "execution_count": null,
   "id": "c1e38d6f-c9d1-408f-a7e5-220d780e06d6",
   "metadata": {},
   "outputs": [],
   "source": [
    "# Select the age column\n",
    "age = ____\n",
    "\n",
    "\n",
    "# Make a PMF of age\n",
    "pmf_age = Pmf(age, normalize = True)\n",
    "\n",
    "\n",
    "# Make a PMF of age\n",
    "pmf_age = Pmf(age)\n",
    "\n",
    "# Plot the PMF\n",
    "pmf_age.bar()\n",
    "\n",
    "# Label the axes\n",
    "plt.xlabel('Age')\n",
    "plt.ylabel('PMF')\n",
    "plt.show()\n",
    "\n",
    "\n",
    "Just re-read what the institor said before"
   ]
  },
  {
   "cell_type": "markdown",
   "id": "9a6cdf2f-828b-4d62-b41d-cb6a098d02ea",
   "metadata": {},
   "source": [
    "## Cumulative distribution functions\n",
    "\n",
    "\n",
    "\n",
    "\n",
    "In the previous lesson, we saw the probability mass function, or [__PMF, which represent the possible values in a distribution and their probabilities__].  In this lesson, we'll seeanother way to represent a distribution, the [][cumulative distribution function, or CDF] (I can recall the Coursera Harvard Statistic and Biological Science course taught about this, but I didn't kept up).  [__CDFs are useful for some computations; they are also a great way to visualize and compare distributions__].  \n",
    "\n",
    "\n",
    "\n"
   ]
  },
  {
   "cell_type": "code",
   "execution_count": null,
   "id": "34297b4c-c1be-4ee5-b2b4-643ab06646c2",
   "metadata": {},
   "outputs": [],
   "source": []
  },
  {
   "cell_type": "code",
   "execution_count": null,
   "id": "7a668bb8-4eaf-4c2a-8163-5d6e52460fec",
   "metadata": {},
   "outputs": [],
   "source": []
  },
  {
   "cell_type": "code",
   "execution_count": null,
   "id": "0a35039e-8cc8-4a6c-bfd3-f3af60a7b5ce",
   "metadata": {},
   "outputs": [],
   "source": []
  },
  {
   "cell_type": "code",
   "execution_count": null,
   "id": "85bc5e1f-c3a1-475e-912d-6da659b81c1b",
   "metadata": {},
   "outputs": [],
   "source": []
  },
  {
   "cell_type": "code",
   "execution_count": null,
   "id": "09aba3b3-72ed-4394-ae0e-8e7039bb4bd9",
   "metadata": {},
   "outputs": [],
   "source": []
  },
  {
   "cell_type": "code",
   "execution_count": null,
   "id": "7f87752e-c14d-4fc2-8ced-ab6cb030d4f2",
   "metadata": {},
   "outputs": [],
   "source": []
  },
  {
   "cell_type": "code",
   "execution_count": null,
   "id": "9ba7bc0a-3627-4d4e-baeb-414eeb9855fa",
   "metadata": {},
   "outputs": [],
   "source": []
  },
  {
   "cell_type": "code",
   "execution_count": null,
   "id": "2acee1c4-dd68-49c4-b669-d8c0e828d5e2",
   "metadata": {},
   "outputs": [],
   "source": []
  },
  {
   "cell_type": "code",
   "execution_count": null,
   "id": "d6b42210-c2b6-4823-959b-41b91df67e54",
   "metadata": {},
   "outputs": [],
   "source": []
  },
  {
   "cell_type": "code",
   "execution_count": null,
   "id": "bd75c887-ddbc-4aba-8e14-15ab21ae579f",
   "metadata": {},
   "outputs": [],
   "source": []
  },
  {
   "cell_type": "code",
   "execution_count": null,
   "id": "60ef6570-94c0-4e38-ad3c-ca3b648c3182",
   "metadata": {},
   "outputs": [],
   "source": []
  },
  {
   "cell_type": "code",
   "execution_count": null,
   "id": "ae6f56ee-3224-44c9-a485-501a84791951",
   "metadata": {},
   "outputs": [],
   "source": []
  },
  {
   "cell_type": "code",
   "execution_count": null,
   "id": "022fe696-57b8-46a7-96c9-8f1a1942309e",
   "metadata": {},
   "outputs": [],
   "source": []
  },
  {
   "cell_type": "code",
   "execution_count": null,
   "id": "a070edc3-ab9c-473f-90f3-8dbdd809fa60",
   "metadata": {},
   "outputs": [],
   "source": []
  },
  {
   "cell_type": "code",
   "execution_count": null,
   "id": "eaf10fbf-0d3a-4eb9-82f9-69f585f339f1",
   "metadata": {},
   "outputs": [],
   "source": []
  },
  {
   "cell_type": "code",
   "execution_count": null,
   "id": "1ee711a8-65d2-4305-97a8-502d4675c331",
   "metadata": {},
   "outputs": [],
   "source": []
  },
  {
   "cell_type": "code",
   "execution_count": null,
   "id": "1852bd53-1bba-4208-b671-759cee800193",
   "metadata": {},
   "outputs": [],
   "source": []
  },
  {
   "cell_type": "code",
   "execution_count": null,
   "id": "e3155b5c-f8cb-44a1-8fed-2f08909ac52f",
   "metadata": {},
   "outputs": [],
   "source": []
  },
  {
   "cell_type": "code",
   "execution_count": null,
   "id": "f7196a31-e0ca-466e-a3f1-a4fea3717dc9",
   "metadata": {},
   "outputs": [],
   "source": []
  },
  {
   "cell_type": "code",
   "execution_count": null,
   "id": "f0279154-2246-4065-ae03-f405199dd699",
   "metadata": {},
   "outputs": [],
   "source": []
  },
  {
   "cell_type": "code",
   "execution_count": null,
   "id": "055be446-9437-4006-8304-a85b18cc2c57",
   "metadata": {},
   "outputs": [],
   "source": []
  },
  {
   "cell_type": "code",
   "execution_count": null,
   "id": "0c1387e6-f280-4725-8d8c-5043786e044d",
   "metadata": {},
   "outputs": [],
   "source": []
  },
  {
   "cell_type": "code",
   "execution_count": null,
   "id": "c502a5c2-5fef-49ce-a068-7f68b837ee5e",
   "metadata": {},
   "outputs": [],
   "source": []
  },
  {
   "cell_type": "code",
   "execution_count": null,
   "id": "68a2d772-b2d0-4aef-a42b-874e3a1e5baf",
   "metadata": {},
   "outputs": [],
   "source": []
  },
  {
   "cell_type": "code",
   "execution_count": null,
   "id": "5bf27904-de41-4236-bbd1-d4f69917253f",
   "metadata": {},
   "outputs": [],
   "source": []
  },
  {
   "cell_type": "code",
   "execution_count": null,
   "id": "a6bcde61-cc8c-4176-b3e8-d06bc860877f",
   "metadata": {},
   "outputs": [],
   "source": []
  },
  {
   "cell_type": "code",
   "execution_count": null,
   "id": "3e3cc0f2-eded-47e5-800f-4d70733e9705",
   "metadata": {},
   "outputs": [],
   "source": []
  },
  {
   "cell_type": "code",
   "execution_count": null,
   "id": "bee07d38-6570-4550-a9f8-a6b0027a0a13",
   "metadata": {},
   "outputs": [],
   "source": []
  },
  {
   "cell_type": "code",
   "execution_count": null,
   "id": "bd175177-69e8-4027-a3b4-c12003ada6a3",
   "metadata": {},
   "outputs": [],
   "source": []
  },
  {
   "cell_type": "code",
   "execution_count": null,
   "id": "60eff5f0-3c6b-4b03-ac27-bd615bd9c051",
   "metadata": {},
   "outputs": [],
   "source": []
  },
  {
   "cell_type": "code",
   "execution_count": null,
   "id": "26851488-4223-487c-b882-807b1edb4e1a",
   "metadata": {},
   "outputs": [],
   "source": []
  },
  {
   "cell_type": "code",
   "execution_count": null,
   "id": "bdb1b275-5882-44b4-af85-37bcdec54bb9",
   "metadata": {},
   "outputs": [],
   "source": []
  },
  {
   "cell_type": "code",
   "execution_count": null,
   "id": "a4ccb2d9-df9b-4ea8-84d1-ccfb0295488a",
   "metadata": {},
   "outputs": [],
   "source": []
  },
  {
   "cell_type": "code",
   "execution_count": null,
   "id": "38c1c185-78a1-4b4a-9a03-6fc99fc4c3e8",
   "metadata": {},
   "outputs": [],
   "source": []
  },
  {
   "cell_type": "code",
   "execution_count": null,
   "id": "2bb84e73-ccd1-401a-8956-c3e9bf6346fb",
   "metadata": {},
   "outputs": [],
   "source": []
  },
  {
   "cell_type": "code",
   "execution_count": null,
   "id": "19e78cad-d7fe-4a1a-b152-2d9393b9b471",
   "metadata": {},
   "outputs": [],
   "source": []
  },
  {
   "cell_type": "code",
   "execution_count": null,
   "id": "24163d22-7069-421e-bcc7-7dd910b347f8",
   "metadata": {},
   "outputs": [],
   "source": []
  },
  {
   "cell_type": "code",
   "execution_count": null,
   "id": "c14592c4-8fdc-4825-9a5d-74ffa052a24f",
   "metadata": {},
   "outputs": [],
   "source": []
  },
  {
   "cell_type": "code",
   "execution_count": null,
   "id": "e206e7e0-e142-4ba9-b565-a5ddc24be2ee",
   "metadata": {},
   "outputs": [],
   "source": []
  },
  {
   "cell_type": "code",
   "execution_count": null,
   "id": "6ab5f8d6-7829-4aef-a0b1-3cc671a8f535",
   "metadata": {},
   "outputs": [],
   "source": []
  },
  {
   "cell_type": "code",
   "execution_count": null,
   "id": "8a5f993e-90a4-40af-a9d2-1d5597e3db34",
   "metadata": {},
   "outputs": [],
   "source": []
  },
  {
   "cell_type": "code",
   "execution_count": null,
   "id": "7ed43ebb-7d27-463e-b757-b9a916df6998",
   "metadata": {},
   "outputs": [],
   "source": []
  },
  {
   "cell_type": "code",
   "execution_count": null,
   "id": "fc3ae618-1bbc-40bc-a0b0-249717cf5b6c",
   "metadata": {},
   "outputs": [],
   "source": []
  },
  {
   "cell_type": "code",
   "execution_count": null,
   "id": "1d0286bc-2980-43d8-ad9a-a9ae7cb691a7",
   "metadata": {},
   "outputs": [],
   "source": []
  },
  {
   "cell_type": "code",
   "execution_count": null,
   "id": "1132ac3b-bdec-4195-b7c0-4a25cffa3184",
   "metadata": {},
   "outputs": [],
   "source": []
  },
  {
   "cell_type": "code",
   "execution_count": null,
   "id": "acfd6348-d942-420a-8fc1-4136ffb84cbe",
   "metadata": {},
   "outputs": [],
   "source": []
  },
  {
   "cell_type": "code",
   "execution_count": null,
   "id": "e33402d0-97f7-4fa2-9fc8-6a596dcf8f2e",
   "metadata": {},
   "outputs": [],
   "source": []
  },
  {
   "cell_type": "code",
   "execution_count": null,
   "id": "65ef0c34-11cb-4f1e-8d05-42dba784c7ce",
   "metadata": {},
   "outputs": [],
   "source": []
  },
  {
   "cell_type": "code",
   "execution_count": null,
   "id": "167184bb-769a-47df-8b85-e3a28e6349b3",
   "metadata": {},
   "outputs": [],
   "source": []
  },
  {
   "cell_type": "code",
   "execution_count": null,
   "id": "78c16bfb-37f1-4156-828c-18f0b35fba11",
   "metadata": {},
   "outputs": [],
   "source": []
  },
  {
   "cell_type": "code",
   "execution_count": null,
   "id": "f34fb3d5-7148-4fba-9a9d-c0ef40d5edfa",
   "metadata": {},
   "outputs": [],
   "source": []
  },
  {
   "cell_type": "code",
   "execution_count": null,
   "id": "99c5b2c4-9ce4-4abe-8b44-4a65c167bb5f",
   "metadata": {},
   "outputs": [],
   "source": []
  },
  {
   "cell_type": "code",
   "execution_count": null,
   "id": "01b72d13-7547-4335-8a47-776c006b5433",
   "metadata": {},
   "outputs": [],
   "source": []
  },
  {
   "cell_type": "code",
   "execution_count": null,
   "id": "48609729-d9d1-4b3e-93de-819c4a7a46f9",
   "metadata": {},
   "outputs": [],
   "source": []
  },
  {
   "cell_type": "code",
   "execution_count": null,
   "id": "9014e506-cd6a-43e5-97af-7ddfda6c78e3",
   "metadata": {},
   "outputs": [],
   "source": []
  },
  {
   "cell_type": "code",
   "execution_count": null,
   "id": "a20f24d8-4591-4d76-97aa-f46234d8489b",
   "metadata": {},
   "outputs": [],
   "source": []
  },
  {
   "cell_type": "code",
   "execution_count": null,
   "id": "2d9a6bad-ad55-4698-aee1-4729c57725a3",
   "metadata": {},
   "outputs": [],
   "source": []
  },
  {
   "cell_type": "code",
   "execution_count": null,
   "id": "2a593d50-6a43-4a22-b4e3-b8a5b093576a",
   "metadata": {},
   "outputs": [],
   "source": []
  },
  {
   "cell_type": "code",
   "execution_count": null,
   "id": "fffeb7a0-e079-4cac-94ca-b3687bebce59",
   "metadata": {},
   "outputs": [],
   "source": []
  },
  {
   "cell_type": "code",
   "execution_count": null,
   "id": "6b6610a6-b75d-4e7c-ae89-a5e1b90eb9bc",
   "metadata": {},
   "outputs": [],
   "source": []
  },
  {
   "cell_type": "code",
   "execution_count": null,
   "id": "d78dbbbc-2ec7-4b45-a3bc-e5744862bb22",
   "metadata": {},
   "outputs": [],
   "source": []
  }
 ],
 "metadata": {
  "kernelspec": {
   "display_name": "Python 3 (ipykernel)",
   "language": "python",
   "name": "python3"
  },
  "language_info": {
   "codemirror_mode": {
    "name": "ipython",
    "version": 3
   },
   "file_extension": ".py",
   "mimetype": "text/x-python",
   "name": "python",
   "nbconvert_exporter": "python",
   "pygments_lexer": "ipython3",
   "version": "3.9.2"
  }
 },
 "nbformat": 4,
 "nbformat_minor": 5
}
