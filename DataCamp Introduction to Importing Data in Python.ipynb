{
 "cells": [
  {
   "cell_type": "markdown",
   "id": "217b529c-7bee-45ae-abc7-9034174420f8",
   "metadata": {},
   "source": [
    "## Introduction to Importing Data in Python\n",
    "\n"
   ]
  },
  {
   "cell_type": "markdown",
   "id": "3276e71f-4407-4ede-8450-15942a24571c",
   "metadata": {},
   "source": [
    "## Course Description\n",
    "\n",
    "As a data scientist, you will need to clean data, wrangle and munge it, visualize it, build predictive models, and interpret these models. Before you can do so, however, you will need to know how to get data into Python. In this course, you'll learn the many ways to import data into Python: from flat files such as .txt and .csv; from files native to other software such as Excel spreadsheets, Stata, SAS, and MATLAB files; and from relational databases such as SQLite and PostgreSQL."
   ]
  },
  {
   "cell_type": "markdown",
   "id": "113aee70-3b74-4cf2-b394-bb96b50eaa17",
   "metadata": {},
   "source": [
    "##  Introduction and flat files\n",
    "Free\n",
    "0%\n",
    "\n",
    "In this chapter, you'll learn how to import data into Python from all types of flat files, which are a simple and prevalent form of data storage. You've previously learned how to use NumPy and pandas—you will learn how to use these packages to import flat files and customize your imports.\n",
    "\n",
    "    Welcome to the course!    50 xp\n",
    "    Exploring your working directory    50 xp\n",
    "    Importing entire text files    100 xp\n",
    "    Importing text files line by line    100 xp\n",
    "    The importance of flat files in data science    50 xp\n",
    "    Pop quiz: examples of flat files    50 xp\n",
    "    Pop quiz: what exactly are flat files?    50 xp\n",
    "    Why we like flat files and the Zen of Python    50 xp\n",
    "    Importing flat files using NumPy    50 xp\n",
    "    Using NumPy to import flat files    100 xp\n",
    "    Customizing your NumPy import    100 xp\n",
    "    Importing different datatypes    100 xp\n",
    "    Working with mixed datatypes (1)    50 xp\n",
    "    Working with mixed datatypes (2)    100 xp\n",
    "    Importing flat files using pandas    50 xp\n",
    "    Using pandas to import flat files as DataFrames (1)    100 xp\n",
    "    Using pandas to import flat files as DataFrames (2)    100 xp\n",
    "    Customizing your pandas import    100 xp\n",
    "    Final thoughts on data import    50 xp\n"
   ]
  },
  {
   "cell_type": "markdown",
   "id": "a180a55c-1534-4162-867a-f971349d62c3",
   "metadata": {},
   "source": [
    "##  Importing data from other file types\n",
    "0%\n",
    "\n",
    "You've learned how to import flat files, but there are many other file types you will potentially have to work with as a data scientist. In this chapter, you'll learn how to import data into Python from a wide array of important file types. These include pickled files, Excel spreadsheets, SAS and Stata files, HDF5 files, a file type for storing large quantities of numerical data, and MATLAB files.\n",
    "\n",
    "    Introduction to other file types    50 xp\n",
    "    Not so flat any more    50 xp\n",
    "    Loading a pickled file    100 xp\n",
    "    Listing sheets in Excel files    100 xp\n",
    "    Importing sheets from Excel files    100 xp\n",
    "    Customizing your spreadsheet import    100 xp\n",
    "    Importing SAS/Stata files using pandas    50 xp\n",
    "    How to import SAS7BDAT    50 xp\n",
    "    Importing SAS files    100 xp\n",
    "    Using read_stata to import Stata files    50 xp\n",
    "    Importing Stata files    100 xp\n",
    "    Importing HDF5 files    50 xp\n",
    "    Using File to import HDF5 files    50 xp\n",
    "    Using h5py to import HDF5 files    100 xp\n",
    "    Extracting data from your HDF5 file    100 xp\n",
    "    Importing MATLAB files    50 xp\n",
    "    Loading .mat files    100 xp\n",
    "    The structure of .mat in Python    100 xp\n"
   ]
  },
  {
   "cell_type": "markdown",
   "id": "2a4a0256-0cfe-4275-b5bc-3a9781f6d49b",
   "metadata": {},
   "source": [
    "##  Working with relational databases in Python\n",
    "0%\n",
    "\n",
    "In this chapter, you'll learn how to extract meaningful data from relational databases, an essential skill for any data scientist. You will learn about relational models, how to create SQL queries, how to filter and order your SQL records, and how to perform advanced queries by joining database tables.\n",
    "\n",
    "    Introduction to relational databases    50 xp\n",
    "    Pop quiz: The relational model    50 xp\n",
    "    Creating a database engine in Python    50 xp\n",
    "    Creating a database engine    100 xp\n",
    "    What are the tables in the database?    100 xp\n",
    "    Querying relational databases in Python    50 xp\n",
    "    The Hello World of SQL Queries!    100 xp\n",
    "    Customizing the Hello World of SQL Queries    100 xp\n",
    "    Filtering your database records using SQL's WHERE    100 xp\n",
    "    Ordering your SQL records with ORDER BY    100 xp\n",
    "    Querying relational databases directly with pandas    50 xp\n",
    "    Pandas and The Hello World of SQL Queries!    100 xp\n",
    "    Pandas for more complex querying    100 xp\n",
    "    Advanced querying: exploiting table relationships    50 xp\n",
    "    The power of SQL lies in relationships between tables: INNER JOIN    100 xp\n",
    "    Filtering your INNER JOIN    100 xp\n",
    "    Final Thoughts    50 xp\n"
   ]
  },
  {
   "cell_type": "code",
   "execution_count": null,
   "id": "d07c5f10-3ef1-4f18-98f3-56e2266e1f3c",
   "metadata": {},
   "outputs": [],
   "source": []
  },
  {
   "cell_type": "markdown",
   "id": "f869e9bd-2919-4c0a-955d-a8dd2a4b3728",
   "metadata": {},
   "source": [
    "## Welcome to the course!\n",
    "\n",
    "\n",
    "\n",
    "\n",
    "\n",
    "\n",
    "\n",
    "**Welcome to the first course on Importing Data in Python!  \n",
    "\n",
    "The instructor is Hugo Bowne-Anderson, a Data Scientist at DataCamp.  \n",
    "\n",
    "\n",
    "# In this course, you'll learn how to import data from a large variety of import data sources, for example: (1) flat files such as .txt and .csv;  (2) files native to other software such as Excel spreadsheet, Stata, SAS and MATLAB files;  (3) relational databases such as SQLite & MySQL, PostgreSQL.  We'll cover all of these topics in this course.  \n",
    "\n",
    "# *******************************************************************************************************************\n",
    "# *******************************************************************************************************************\n",
    "First of, we're going to learn how to import basic text files, which we can broadly classify into types of files - those containing plain text, such as the opening of Mark Twain's novel The Adventures of Huckleberry Finn, and those containing records, that is, table data, such as titanic.csv, in which each row is s unique passenger onboard and each column is a characteristic or feature, such as sex, carbin and survived or not.  The latter is know as a flat file and we'll come back to these in a minute.  \n",
    "\n",
    "\n",
    "In this section, we'll figure out how to read lines from a plain text file: Lets do it.  \n",
    "\n",
    "# *******************************************************************************************************************\n",
    "To check out any plain text file, you can use Python's basic \"open()\" function to open a connection to the file.  To do so, you assign the filename to a variable as a string, pass the filename to the function \"open()\" and also pass it the argument \"mode='r'\", which makes sure that we can only read it (we wouldn'twant to accidentally write to it), assign the text form the file to a variable \"text\" by applying the method \".read()\" to the connection to the file.  After you do this, make sure that you close the connection to the file using the command \"file.close()\".  \n",
    "# Its always best practice to clean while cooking!  \n",
    "You can then print the file to console and check  it out using the command \"print(text)\".  A brief side note: if you wanted to open a file in order to write to it, you would pass it the argument \"mode='w'\".  We won't use that in this course as this is course on Importing Data but it is good to know.  \n",
    "\n",
    "# *******************************************************************************************************************\n",
    "You can avoid having to \"file.close()\" the conncetionn to the file by using a with statement.  This allows you to create a context in which you can execute commands with the file open.  Once out of this clouse/context, the file is no longer open and, for this reason, with is called a Context Manager.  \n",
    "\n",
    "\n",
    "What you are doing here is called \"binding\" a variable in the context manager construct; while still within this construct, the variable file will be bound to \"open(filename, 'r')\".  It is best practice to use the with statement as you never have to concern yourself with closing the file again.  \n",
    "\n",
    "In the following interactive coding sessions, you'll figure out how to print file content to console.  You'll also learn to print specific lines, which can be very useful for large files.  Then we'll be back to discuss flat files and then I'll show you how to use Python package NumPy to make our job of importing flat files & numerical data a far easier beast to tame.  \n",
    "\n",
    "\n",
    "\n",
    "filename = '1984.txt'\n",
    "file = open(filename, mode='r')\n",
    "\n",
    "text = file.read()\n",
    "\n",
    "file.close()\n",
    "\n",
    "\n",
    "with open('1984.txt', 'r') as file:\n",
    "    print(file.read())"
   ]
  },
  {
   "cell_type": "markdown",
   "id": "72213bdf-e213-44d3-b9bb-08dfd9a72b19",
   "metadata": {},
   "source": [
    "# By the way, can I recall the Hugo tole us hoe to read huge file line-by-line into our memory, also Pandas read_csv() fucntion provide same functionality.  I think we can set the program the read in huge txt file 1000 line per iterate or something.  \n",
    "\n",
    "\n",
    "# *******************************************************************************************************************\n",
    "\n",
    "# In Pandas.read_csv(), we have \"chunksize=\" arg to help us iterate chunk by chunk\n",
    "# In file operation, we can use for line in file, XXXXX\n",
    "\n",
    "\n",
    "Dont just finished the course, keep thinking "
   ]
  },
  {
   "cell_type": "code",
   "execution_count": 11,
   "id": "31e3e91c-5852-41e5-bb1e-a0c150f5800c",
   "metadata": {},
   "outputs": [
    {
     "name": "stdout",
     "output_type": "stream",
     "text": [
      "Alice's Adventures in Wonderland\n",
      "\n",
      "                ALICE'S ADVENTURES IN WONDERLAND\n",
      "\n",
      "                          Lewis Carroll\n",
      "\n",
      "               THE MILLENNIUM FULCRUM EDITION 3.0\n",
      "\n",
      "\n",
      "\n",
      "\n",
      "                            CHAPTER I\n",
      "\n",
      "                      Down the Rabbit-Hole\n",
      "\n",
      "\n",
      "  Alice was beginning to get very tired of sitting by her sister\n",
      "on the bank, and of having nothing to do:  once or twice she had\n",
      "peeped into the book her sister was reading, but it had no\n",
      "pictures or conversations in it, `and what is the use of a book,'\n",
      "thought Alice `without pictures or conversation?'\n",
      "\n",
      "  So she was consider\n",
      "Alice's Adventures in Wonderland\n",
      "\n",
      "                ALICE'S ADVENTURES IN WONDERLAND\n",
      "\n",
      "                          Lewis Carroll\n",
      "\n",
      "               THE MILLENNIUM FULCRUM EDITION 3.0\n",
      "\n",
      "\n",
      "\n",
      "\n",
      "                            CHAPTER I\n",
      "\n",
      "                      Down the Rabbit-Hole\n",
      "\n",
      "\n",
      "  Alice was beginning to get very tired of sitting by her sister\n",
      "on the bank, and of having nothing to do:  once or twice she had\n",
      "peeped into the book her sister was reading, but it had no\n",
      "pictures or conversations in it, `and what is the use of a book,'\n",
      "thought Alice `without pictures or conversation?'\n",
      "\n",
      "  So she was consider\n",
      "[\"Alice's Adventures in Wonderland\\n\", '\\n', \"                ALICE'S ADVENTURES IN WONDERLAND\\n\", '\\n', '                          Lewis Carroll\\n']\n"
     ]
    }
   ],
   "source": [
    "filename = 'alice_in_wonderland.txt'\n",
    "file = open(filename, mode='r')\n",
    "\n",
    "text = file.read()\n",
    "\n",
    "file.close()\n",
    "\n",
    "print(text[:590])\n",
    "\n",
    "\n",
    "\n",
    "\n",
    "with open('alice_in_wonderland.txt', 'r') as file:\n",
    "    text = file.read()\n",
    "    print(text[:590])\n",
    "\n",
    "\n",
    "\n",
    "#####################################################################################################################\n",
    "abc = []\n",
    "with open('alice_in_wonderland.txt', 'r') as file:\n",
    "    for line in file:\n",
    "        abc.append(line)\n",
    "        \n",
    "print(abc[:5])"
   ]
  },
  {
   "cell_type": "markdown",
   "id": "7ac9993f-0038-4a20-9435-61d7b552811e",
   "metadata": {},
   "source": [
    "## Exploring your working directory\n",
    "\n",
    "In order to import data into Python, you should first have an idea of what files are in your working directory.\n",
    "\n",
    "IPython, which is running on DataCamp's servers, has a bunch of cool commands, including its magic commands. For example, starting a line with ! gives you complete system shell access. This means that the IPython magic command ! ls will display the contents of your current directory. Your task is to use the IPython magic command ! ls to check out the contents of your current directory and answer the following question: which of the following files is in your working directory?\n",
    "Instructions\n",
    "50 XP\n",
    "Possible Answers\n",
    "\n",
    "    huck_finn.txt\n",
    "    titanic.csv\n",
    "    moby_dick.txt\n",
    "    "
   ]
  },
  {
   "cell_type": "code",
   "execution_count": null,
   "id": "edf30908-71ab-409a-aeab-0fb93faa00eb",
   "metadata": {},
   "outputs": [],
   "source": [
    "In [1]:\n",
    "ls\n",
    "moby_dick.txt\n",
    "In [2]:\n",
    "! ls\n",
    "moby_dick.txt\n"
   ]
  },
  {
   "cell_type": "markdown",
   "id": "598e2cec-81f3-44d3-9253-ac48932adea4",
   "metadata": {},
   "source": [
    "## Importing entire text files\n",
    "\n",
    "In this exercise, you'll be working with the file moby_dick.txt. It is a text file that contains the opening sentences of Moby Dick, one of the great American novels! Here you'll get experience opening a text file, printing its contents to the shell and, finally, closing it.\n",
    "Instructions\n",
    "100 XP\n",
    "\n",
    "    Open the file \"moby_dick.txt\" as read-only and store it in the variable \"file\". Make sure to pass the filename enclosed in quotation marks ''.\n",
    "#    Print the contents of the file to the shell using the print() function. As Hugo showed in the video, you'll need to apply the method \"read()\" to the object file.\n",
    "    Check whether the file is closed by executing print(file.closed).\n",
    "    Close the file using the close() method.\n",
    "    Check again that the file is closed as you did above.\n"
   ]
  },
  {
   "cell_type": "code",
   "execution_count": 14,
   "id": "f461755e-c42c-4d3e-9ab6-0560da22938a",
   "metadata": {},
   "outputs": [
    {
     "name": "stdout",
     "output_type": "stream",
     "text": [
      "Alice's Adventures in Wonderland\n",
      "\n",
      "                ALICE'S ADVENTURES IN WONDERLAND\n",
      "\n",
      "                          Lewis Carroll\n",
      "\n",
      "               THE MILLENNIUM FULCRUM EDITION 3.0\n",
      "\n",
      "\n",
      "\n",
      "\n",
      "                            CHAPTER I\n",
      "\n",
      "                      Down the Rabbit-Hole\n",
      "\n",
      "\n",
      "  Alice was beginning to get very tir\n"
     ]
    }
   ],
   "source": [
    "filename = 'alice_in_wonderland.txt'\n",
    "\n",
    "file = open(filename, mode='r')\n",
    "\n",
    "print(file.read()[:300])\n",
    "\n",
    "file.close()"
   ]
  },
  {
   "cell_type": "markdown",
   "id": "e7b39f9c-9b28-449b-985b-5f99cce95eff",
   "metadata": {},
   "source": [
    "## Importing text files line by line\n",
    "\n",
    "# For large files, we may not want to print all of their content to the shell: you may wish to print only the first few lines. Enter the \"readline()\" method, which allows you to do this. When a file called file is open, you can print out the first line by executing file.readline(). If you execute the same command again, the second line will print, and so on.\n",
    "\n",
    "In the introductory video, Hugo also introduced the concept of a context manager. He showed that you can bind a variable file by using a context manager construct:\n",
    "\n",
    "with open('huck_finn.txt') as file:\n",
    "\n",
    "While still within this construct, the variable file will be bound to open('huck_finn.txt'); thus, to print the file to the shell, all the code you need to execute is:\n",
    "\n",
    "with open('huck_finn.txt') as file:\n",
    "    print(file.readline())\n",
    "\n",
    "You'll now use these tools to print the first few lines of moby_dick.txt!\n",
    "Instructions\n",
    "100 XP\n",
    "\n",
    "    Open moby_dick.txt using the with context manager and the variable file.\n",
    "    Print the first three lines of the file to the shell by using readline() three times within the context manager.\n"
   ]
  },
  {
   "cell_type": "code",
   "execution_count": 15,
   "id": "5e54d4c8-1711-4fef-b4de-ffe4dee7e01e",
   "metadata": {},
   "outputs": [
    {
     "name": "stdout",
     "output_type": "stream",
     "text": [
      "Alice's Adventures in Wonderland\n",
      "\n",
      "\n",
      "\n"
     ]
    }
   ],
   "source": [
    "with open('alice_in_wonderland.txt', mode='r') as file:\n",
    "    print(file.readline())\n",
    "    print(file.readline())"
   ]
  },
  {
   "cell_type": "markdown",
   "id": "a838c7b9-1cd2-470b-a37c-fab34657862c",
   "metadata": {},
   "source": [
    "## The importance of flat files in data science\n",
    "\n",
    "\n",
    "\n",
    "\n",
    "\n",
    "\n",
    "**Now you know how to import plain text files, we're going to look at flat files, such as titanic.csv file, in which each row is a unique passenger onboard and each column is a feature of attribute, such as gender, cabin and survived or not.  \n",
    "\n",
    "# *******************************************************************************************************************\n",
    "It is essential for any budding data scientist to know precisely what the term flat file means.  Flat files are basic text files containing records, thta is, table data, without structured relationships.  This is in contrast to a relational database, for example, in which columns of distinct tables can be related.  We'll get to these later.  \n",
    "\n",
    "To be even more precise, flat files consist of records, where by a record we mean a row of fields or attributes, each of which contains at most one item of information.  In the flat file titanic.csv, each row or record is a unique passenger onboard and each column is a feature or attribute, such as name, gender and cabin.  \n",
    "\n",
    "It is also essential to note that a flat file can have a header, such as in titanic.csv, which is a row that occurs as the first row and describe the contents of the data columns or states what the corresponding attributes or features in each column are.  It will be important to know wheather or not your file has a header as it may alterour data import.  \n",
    "\n",
    "\n",
    "The reason that flat files are so important in data science is that we Data Scientist really honestly like to think in records or rows of attributes.  Now you may have noticed that the file extensionas .csv.  You may be wondering what this is?  A CSV is an acronym for comma separated value and it means exactly what it says.  The value in each row are separated by commas.  \n",
    "\n",
    "Another common extension for a flat file is .txt, which means a text file.  Values in flat files can be separated by characters or sequences of characters other than commas, such as a tab, and the character or characters in question is called a delimiter.  See below example of a tab-delimited file.  The data consists of the famous MNIST digit recognition images, where each row contains the pixel values of a given image.  Note that all fields in the MINST data are numeric, while the titanic.csv also contained strings.  How do we import such files?  \n",
    "\n",
    "# *******************************************************************************************************************\n",
    "If they consist entirely of numbers and we want to store them as a NumPy array, we could use the package NumPy.  If instead, we want to store the data in a DataFrame, we could use Pandas.  Most of the time, you will use one of these options.  In the rest of this chapter, you'll learn how to import flat files that contain only numerical data, such as the MNIST data, and import flat files that contain both numerical data and strings, such as titanic.csv.  \n",
    "\n",
    "\n",
    "\n"
   ]
  },
  {
   "cell_type": "code",
   "execution_count": 16,
   "id": "68430fca-bcee-4cf1-bf56-1bfea7e9ac01",
   "metadata": {},
   "outputs": [
    {
     "name": "stdout",
     "output_type": "stream",
     "text": [
      "pixel149\tpixel150\tpixel151\tpixel152\tpixel153\n",
      "0\t\t0\t\t0\t\t0\t\t0\n",
      "86\t\t250\t\t254\t\t254\t\t254\n",
      "0\t\t0\t\t0\t\t9\t\t254\n",
      "0\t\t0\t\t0\t\t0\t\t0\n",
      "103\t\t253\t\t253\t\t253\t\t253\n",
      "0\t\t0\t\t0\t\t0\t\t0\n",
      "0\t\t0\t\t0\t\t0\t\t0\n",
      "0\t\t0\t\t0\t\t0\t\t41\n",
      "253\t\t253\t\t253\t\t253\t\t253\n",
      "\n"
     ]
    }
   ],
   "source": [
    "with open('MNIST.txt', 'r') as file:\n",
    "    print(file.read())"
   ]
  },
  {
   "cell_type": "markdown",
   "id": "1c9d7e4a-b2a2-41ff-a092-1b876e3978e9",
   "metadata": {},
   "source": [
    "## Pop quiz: examples of flat files\n",
    "\n",
    "You're now well-versed in importing text files and you're about to become a wiz at importing flat files. But can you remember exactly what a flat file is? Test your knowledge by answering the following question: which of these file types below is NOT an example of a flat file?\n",
    "Answer the question\n",
    "50XP\n",
    "Possible Answers\n",
    "\n",
    "    A .csv file.\n",
    "    1\n",
    "    A tab-delimited .txt.\n",
    "    2\n",
    "#    A relational database (e.g. PostgreSQL).\n",
    "    3"
   ]
  },
  {
   "cell_type": "markdown",
   "id": "2877f093-0b0a-4afb-9c30-81e97c54d84b",
   "metadata": {},
   "source": [
    "## Pop quiz: what exactly are flat files?\n",
    "\n",
    "Which of the following statements about flat files is incorrect?\n",
    "Answer the question\n",
    "50XP\n",
    "Possible Answers\n",
    "\n",
    "    Flat files consist of rows and each row is called a record.\n",
    "    1\n",
    "#    Flat files consist of multiple tables with structured relationships between the tables.\n",
    "    2\n",
    "    A record in a flat file is composed of fields or attributes, each of which contains at most one item of information.\n",
    "    3\n",
    "    Flat files are pervasive in data science.\n",
    "    4"
   ]
  },
  {
   "cell_type": "markdown",
   "id": "3435035c-9df2-4e1c-853d-3a1d236ef439",
   "metadata": {},
   "source": [
    "## Why we like flat files and the Zen of Python\n",
    "\n",
    "In PythonLand, there are currently hundreds of Python Enhancement Proposals, commonly referred to as PEPs. PEP8, for example, is a standard style guide for Python, written by our sensei Guido van Rossum himself. It is the basis for how we here at DataCamp ask our instructors to style their code. Another one of my favorites is PEP20, commonly called the Zen of Python. Its abstract is as follows:\n",
    "\n",
    "    Long time Pythoneer Tim Peters succinctly channels the BDFL's guiding principles for Python's design into 20 aphorisms, only 19 of which have been written down.\n",
    "\n",
    "If you don't know what the acronym BDFL stands for, I suggest that you look here. You can print the Zen of Python in your shell by typing import this into it! You're going to do this now and the 5th aphorism (line) will say something of particular interest.\n",
    "\n",
    "The question you need to answer is: what is the 5th aphorism of the Zen of Python?\n",
    "Instructions\n",
    "50 XP\n",
    "Possible Answers\n",
    "\n",
    "#    Flat is better than nested.\n",
    "    Flat files are essential for data science.\n",
    "    The world is representable as a flat file.\n",
    "    Flatness is in the eye of the beholder.\n",
    "    "
   ]
  },
  {
   "cell_type": "code",
   "execution_count": 18,
   "id": "8d56fee7-b004-4ceb-ae21-c24ed1508b75",
   "metadata": {},
   "outputs": [
    {
     "name": "stdout",
     "output_type": "stream",
     "text": [
      "The Zen of Python, by Tim Peters\n",
      "\n",
      "Beautiful is better than ugly.\n",
      "Explicit is better than implicit.\n",
      "Simple is better than complex.\n",
      "Complex is better than complicated.\n",
      "Flat is better than nested.\n",
      "Sparse is better than dense.\n",
      "Readability counts.\n",
      "Special cases aren't special enough to break the rules.\n",
      "Although practicality beats purity.\n",
      "Errors should never pass silently.\n",
      "Unless explicitly silenced.\n",
      "In the face of ambiguity, refuse the temptation to guess.\n",
      "There should be one-- and preferably only one --obvious way to do it.\n",
      "Although that way may not be obvious at first unless you're Dutch.\n",
      "Now is better than never.\n",
      "Although never is often better than *right* now.\n",
      "If the implementation is hard to explain, it's a bad idea.\n",
      "If the implementation is easy to explain, it may be a good idea.\n",
      "Namespaces are one honking great idea -- let's do more of those!\n",
      "<module 'this' from '/usr/lib/python3.9/this.py'>\n"
     ]
    }
   ],
   "source": [
    "import this\n",
    "\n",
    "print(this)"
   ]
  },
  {
   "cell_type": "markdown",
   "id": "56ec679b-8f29-46c4-afd1-6f079d618052",
   "metadata": {},
   "source": [
    "## Importing flat files using NumPy\n",
    "\n",
    "\n",
    "\n",
    "\n",
    "\n",
    "\n",
    "\n",
    "**Okay, so we now know how to use Python's built-in open functionto open text files.  What if you now want to import a flat file and assign it to a variable?  If all the data are numerical, you can use the package NumPy to import the data as a NumPy array.  Now why would we want to do this?  \n",
    "\n",
    "\n",
    "First off, NumPy arrays are the Python standard for storing numerical data.  They are efficient, fast and clean.  \n",
    "Secondly, NumPy array are often essential for other packages, such as Scikit-learn, a popular Machine Learning package for Python.  \n",
    "# NumPy functions \".loadtxt()\" and \".genfromtxt()\".\n",
    "NumPy itself has a number of built-in functions that makes it far easier and more efficient for us to import data as arrays.  Enter the NumPy functions \".loadtxt()\" and \".genfromtxt()\".  \n",
    "\n",
    "# To use either of these we first need to import NumPy.  We then call \"np.loadtxt()\" and pass it the filename as the first arg, along with the \"delimiter=\" as the 2nd arg.  Note that the default \"delimiter=\" is any white space so we'll usually need to specify it explicitly.  There are a number of additional arguments you may wish to specify.  If, for example, your data consist of numerics and your header has strings in it, such as In the MNIST.txt digits data, youwill want to skip the first row by calling \"np.loadtxt()\" with the argument \"skiprow=\" equal to 1; if you want only the 1st and 3rd column of the data, you want to set the \"usecols=\" equal to the list containing ints 0 and 2.  You can also import different datatypes into NumPy arrays: for example, setting the argument \"dtype=\" equal to \"str\" will ensure that all entries are imported as strings.  The \"np.loadtxt()\" is great for basic cases, but tends to break down when we have mixed datatypes, for example, columns consisting of floats and columns consisting of strings, such as we saw in the titanic.csv dataset.  \n",
    "\n",
    "\n",
    "\n",
    "mnist = np.loadtxt('mnist_kaggle_some_rows.csv', delimiter=',')\n"
   ]
  },
  {
   "cell_type": "code",
   "execution_count": 24,
   "id": "ff4cd950-ddc7-478a-ab61-e108094496a9",
   "metadata": {},
   "outputs": [
    {
     "name": "stdout",
     "output_type": "stream",
     "text": [
      "[[1. 0. 0. ... 0. 0. 0.]\n",
      " [0. 0. 0. ... 0. 0. 0.]\n",
      " [1. 0. 0. ... 0. 0. 0.]\n",
      " ...\n",
      " [2. 0. 0. ... 0. 0. 0.]\n",
      " [0. 0. 0. ... 0. 0. 0.]\n",
      " [5. 0. 0. ... 0. 0. 0.]]\n",
      "[[1. 0.]\n",
      " [0. 0.]\n",
      " [1. 0.]\n",
      " [4. 0.]\n",
      " [0. 0.]\n",
      " [0. 0.]\n",
      " [7. 0.]\n",
      " [3. 0.]\n",
      " [5. 0.]\n",
      " [3. 0.]\n",
      " [8. 0.]\n",
      " [9. 0.]\n",
      " [1. 0.]\n",
      " [3. 0.]\n",
      " [3. 0.]\n",
      " [1. 0.]\n",
      " [2. 0.]\n",
      " [0. 0.]\n",
      " [7. 0.]\n",
      " [5. 0.]\n",
      " [8. 0.]\n",
      " [6. 0.]\n",
      " [2. 0.]\n",
      " [0. 0.]\n",
      " [2. 0.]\n",
      " [3. 0.]\n",
      " [6. 0.]\n",
      " [9. 0.]\n",
      " [9. 0.]\n",
      " [7. 0.]\n",
      " [8. 0.]\n",
      " [9. 0.]\n",
      " [4. 0.]\n",
      " [9. 0.]\n",
      " [2. 0.]\n",
      " [1. 0.]\n",
      " [3. 0.]\n",
      " [1. 0.]\n",
      " [1. 0.]\n",
      " [4. 0.]\n",
      " [9. 0.]\n",
      " [1. 0.]\n",
      " [4. 0.]\n",
      " [4. 0.]\n",
      " [2. 0.]\n",
      " [6. 0.]\n",
      " [3. 0.]\n",
      " [7. 0.]\n",
      " [7. 0.]\n",
      " [4. 0.]\n",
      " [7. 0.]\n",
      " [5. 0.]\n",
      " [1. 0.]\n",
      " [9. 0.]\n",
      " [0. 0.]\n",
      " [2. 0.]\n",
      " [2. 0.]\n",
      " [3. 0.]\n",
      " [9. 0.]\n",
      " [1. 0.]\n",
      " [1. 0.]\n",
      " [1. 0.]\n",
      " [5. 0.]\n",
      " [0. 0.]\n",
      " [6. 0.]\n",
      " [3. 0.]\n",
      " [4. 0.]\n",
      " [8. 0.]\n",
      " [1. 0.]\n",
      " [0. 0.]\n",
      " [3. 0.]\n",
      " [9. 0.]\n",
      " [6. 0.]\n",
      " [2. 0.]\n",
      " [6. 0.]\n",
      " [4. 0.]\n",
      " [7. 0.]\n",
      " [1. 0.]\n",
      " [4. 0.]\n",
      " [1. 0.]\n",
      " [5. 0.]\n",
      " [4. 0.]\n",
      " [8. 0.]\n",
      " [9. 0.]\n",
      " [2. 0.]\n",
      " [9. 0.]\n",
      " [9. 0.]\n",
      " [8. 0.]\n",
      " [9. 0.]\n",
      " [6. 0.]\n",
      " [3. 0.]\n",
      " [6. 0.]\n",
      " [4. 0.]\n",
      " [6. 0.]\n",
      " [2. 0.]\n",
      " [9. 0.]\n",
      " [1. 0.]\n",
      " [2. 0.]\n",
      " [0. 0.]\n",
      " [5. 0.]]\n"
     ]
    }
   ],
   "source": [
    "import numpy as np\n",
    "\n",
    "\n",
    "mnist = np.loadtxt('mnist_kaggle_some_rows.csv', delimiter=',', skiprows=0)\n",
    "\n",
    "print(mnist)\n",
    "\n",
    "\n",
    "\n",
    "mnist2 = np.loadtxt('mnist_kaggle_some_rows.csv', delimiter=',', skiprows=0, usecols=[0,2])\n",
    "\n",
    "print(mnist2)"
   ]
  },
  {
   "cell_type": "markdown",
   "id": "d09f2426-fdb3-4b3e-8afe-e151df8aadf7",
   "metadata": {},
   "source": [
    "## Using NumPy to import flat files\n",
    "\n",
    "In this exercise, you're now going to load the MNIST digit recognition dataset using the numpy function \"np.loadtxt()\" and see just how easy it can be:\n",
    "\n",
    "    The first argument will be the filename.\n",
    "    The second will be the \"delimiter=\" which, in this case, is a comma.\n",
    "\n",
    "You can find more information about the MNIST dataset here on the webpage of Yann LeCun, who is currently Director of AI Research at Facebook and Founding Director of the NYU Center for Data Science, among many other things.\n",
    "Instructions\n",
    "100 XP\n",
    "\n",
    "#    Fill in the arguments of \"np.loadtxt()\" by passing file and a comma ',' for the \"delimiter=\".\n",
    "    Fill in the argument of print() to print the type of the object digits. Use the function type().\n",
    "    Execute the rest of the code to visualize one of the rows of the data.\n"
   ]
  },
  {
   "cell_type": "code",
   "execution_count": 47,
   "id": "ce726f96-d11c-4d55-930a-c2b6c5f19f29",
   "metadata": {},
   "outputs": [
    {
     "name": "stdout",
     "output_type": "stream",
     "text": [
      "(100, 785)\n",
      "784\n",
      "785\n",
      "<class 'numpy.ndarray'>\n",
      "(784,)\n"
     ]
    },
    {
     "data": {
      "image/png": "[encoded data removed]",
      "text/plain": [
       "<Figure size 432x288 with 1 Axes>"
      ]
     },
     "metadata": {
      "needs_background": "light"
     },
     "output_type": "display_data"
    }
   ],
   "source": [
    "import numpy as np\n",
    "\n",
    "file = np.loadtxt('mnist_kaggle_some_rows.csv', delimiter=',')\n",
    "print(file.shape)\n",
    "print(28*28)\n",
    "print(len(file[3, :]))\n",
    "print(type(file))\n",
    "\n",
    "\n",
    "\n",
    "selected = file[5, 1:]\n",
    "print(selected.shape)\n",
    "\n",
    "\n",
    "#####################################################################################################################\n",
    "selected_sq = np.reshape(selected, (28, 28))\n",
    "\n",
    "#####################################################################################################################\n",
    "plt.imshow(selected_sq, cmap='Greys', interpolation='nearest')\n",
    "plt.show()\n",
    "\n"
   ]
  },
  {
   "cell_type": "code",
   "execution_count": 28,
   "id": "0cbb0db8-687b-4254-bb2d-c230f3c99611",
   "metadata": {},
   "outputs": [
    {
     "name": "stdout",
     "output_type": "stream",
     "text": [
      "<class 'numpy.ndarray'>\n"
     ]
    },
    {
     "data": {
      "image/png": "[encoded data removed]",
      "text/plain": [
       "<Figure size 432x288 with 1 Axes>"
      ]
     },
     "metadata": {
      "needs_background": "light"
     },
     "output_type": "display_data"
    }
   ],
   "source": [
    "# Import package\n",
    "import numpy as np\n",
    "import matplotlib.pyplot as plt\n",
    "\n",
    "\n",
    "# Assign filename to variable: file\n",
    "file = 'mnist_kaggle_some_rows.csv'\n",
    "\n",
    "# Load file as array: digits\n",
    "digits = np.loadtxt(file, delimiter=',')\n",
    "\n",
    "# Print datatype of digits\n",
    "print(type(digits))\n",
    "\n",
    "\n",
    "\n",
    "\n",
    "\n",
    "# Select and reshape a row\n",
    "im = digits[21, 1:]\n",
    "im_sq = np.reshape(im, (28, 28))\n",
    "\n",
    "# Plot reshaped data (matplotlib.pyplot already loaded as plt)\n",
    "plt.imshow(im_sq, cmap='Greys', interpolation='nearest')\n",
    "plt.show()\n"
   ]
  },
  {
   "cell_type": "markdown",
   "id": "69457f02-b7a4-4f2d-a482-c7f2c010b307",
   "metadata": {},
   "source": [
    "## Customizing your NumPy import\n",
    "\n",
    "# What if there are rows, such as a header, that you don't want to import? What if your file has a delimiter other than a comma? What if you only wish to import particular columns?\n",
    "\n",
    "There are a number of arguments that \"np.loadtxt()\" takes that you'll find useful:\n",
    "\n",
    "#    delimiter changes the delimiter that loadtxt() is expecting.\n",
    "#        You can use ',' for comma-delimited.\n",
    "#        You can use '\\t' for tab-delimited. \n",
    "#    skiprows allows you to specify how many rows (not indices) you wish to skip\n",
    "#    usecols takes a list of the indices of the columns you wish to keep.\n",
    "\n",
    "The file that you'll be importing, digits_header.txt, has a header and is tab-delimited.\n",
    "Instructions\n",
    "100 XP\n",
    "\n",
    "#    Complete the arguments of np.loadtxt(): the file you're importing is tab-delimited, you want to skip the first row and you only want to import the first and third columns.\n",
    "    Complete the argument of the print() call in order to print the entire array that you just imported.\n"
   ]
  },
  {
   "cell_type": "code",
   "execution_count": null,
   "id": "38fdfcab-fb66-416f-8249-f97c7dcce643",
   "metadata": {},
   "outputs": [],
   "source": [
    "# Import numpy\n",
    "import numpy as np\n",
    "\n",
    "# Assign the filename: file\n",
    "file = 'digits_header.txt'\n",
    "\n",
    "# Load the data: data\n",
    "data = np.loadtxt(____, delimiter='\\t', skiprows=1, usecols=[0,2])\n",
    "\n",
    "# Print data\n",
    "print(____)\n"
   ]
  },
  {
   "cell_type": "markdown",
   "id": "024ecd17-f080-4470-9ed5-9e3d84ba0391",
   "metadata": {},
   "source": [
    "## Importing different datatypes\n",
    "\n",
    "The file seaslug.txt\n",
    "\n",
    "    has a text header, consisting of strings\n",
    "    is tab-delimited.\n",
    "\n",
    "These data consists of percentage of sea slug larvae that had metamorphosed in a given time period. Read more here.\n",
    "\n",
    "Due to the header, if you tried to import it as-is using np.loadtxt(), Python would throw you a ValueError and tell you that it could not convert string to float. There are two ways to deal with this: firstly, you can set the data type argument dtype equal to str (for string).\n",
    "\n",
    "Alternatively, you can skip the first row as we have seen before, using the skiprows argument.\n",
    "Instructions\n",
    "100 XP\n",
    "\n",
    "    Complete the first call to np.loadtxt() by passing file as the first argument.\n",
    "    Execute print(data[0]) to print the first element of data.\n",
    "    Complete the second call to np.loadtxt(). The file you're importing is tab-delimited, the datatype is float, and you want to skip the first row.\n",
    "    Print the 10th element of data_float by completing the print() command. Be guided by the previous print() call.\n",
    "    Execute the rest of the code to visualize the data.\n"
   ]
  },
  {
   "cell_type": "code",
   "execution_count": 54,
   "id": "85b7001a-3b3c-4e22-8bd4-21c3993abdae",
   "metadata": {},
   "outputs": [
    {
     "name": "stdout",
     "output_type": "stream",
     "text": [
      "(47, 2)\n",
      "[[9.90e+01 6.70e-02]\n",
      " [9.90e+01 1.33e-01]]\n"
     ]
    },
    {
     "data": {
      "image/png": "[encoded data removed]",
      "text/plain": [
       "<Figure size 432x288 with 1 Axes>"
      ]
     },
     "metadata": {
      "needs_background": "light"
     },
     "output_type": "display_data"
    }
   ],
   "source": [
    "path = 'seaslug.txt'\n",
    "\n",
    "file = np.loadtxt(path, delimiter='\\t', dtype=float, skiprows=1)\n",
    "\n",
    "print(file.shape)\n",
    "\n",
    "print(file[:2])\n",
    "\n",
    "\n",
    "\n",
    "plt.scatter(x=file[:,0], y=file[:,1])\n",
    "plt.show()"
   ]
  },
  {
   "cell_type": "code",
   "execution_count": 53,
   "id": "12685ceb-960e-4738-8940-62975781fd55",
   "metadata": {},
   "outputs": [
    {
     "name": "stdout",
     "output_type": "stream",
     "text": [
      "['Time' 'Percent']\n",
      "[0.    0.357]\n"
     ]
    },
    {
     "data": {
      "image/png": "[encoded data removed]",
      "text/plain": [
       "<Figure size 432x288 with 1 Axes>"
      ]
     },
     "metadata": {
      "needs_background": "light"
     },
     "output_type": "display_data"
    }
   ],
   "source": [
    "# Assign filename: file\n",
    "file = 'seaslug.txt'\n",
    "\n",
    "# Import file: data\n",
    "data = np.loadtxt(file, delimiter='\\t', dtype=str)\n",
    "\n",
    "# Print the first element of data\n",
    "print(data[0])\n",
    "\n",
    "# Import data as floats and skip the first row: data_float\n",
    "data_float = np.loadtxt(file, delimiter='\\t', dtype=float, skiprows=1)\n",
    "\n",
    "# Print the 10th element of data_float\n",
    "print(data_float[9])\n",
    "\n",
    "# Plot a scatterplot of the data\n",
    "plt.scatter(data_float[:, 0], data_float[:, 1])\n",
    "plt.xlabel('time (min.)')\n",
    "plt.ylabel('percentage of larvae')\n",
    "plt.show()\n"
   ]
  },
  {
   "cell_type": "markdown",
   "id": "5888502b-eda8-4faa-a233-00cfe8f8c663",
   "metadata": {},
   "source": [
    "## Working with mixed datatypes (1)\n",
    "\n",
    "# Much of the time you will need to import datasets which have different datatypes in different columns; one column may contain strings and another floats, for example. The function np.loadtxt() will freak at this. There is another function, np.genfromtxt(), which can handle such structures. If we pass dtype=None to it, it will figure out what types each column should be.\n",
    "\n",
    "Import 'titanic.csv' using the function np.genfromtxt() as follows:\n",
    "\n",
    "# data = np.genfromtxt('titanic.csv', delimiter=',', names=True, dtype=None)\n",
    "\n",
    "Here, the first argument is the filename, the second specifies the delimiter , and the third argument names tells us there is a header. Because the data are of different types, data is an object called a structured array. Because numpy arrays have to contain elements that are all the same type, the structured array solves this by being a 1D array, where each element of the array is a row of the flat file imported. You can test this by checking out the array's shape in the shell by executing np.shape(data).\n",
    "\n",
    "Accessing rows and columns of structured arrays is super-intuitive: to get the ith row, merely execute data[i] and to get the column with name 'Fare', execute data['Fare'].\n",
    "\n",
    "After importing the Titanic data as a structured array (as per the instructions above), print the entire column with the name Survived to the shell. What are the last 4 values of this column?\n",
    "Instructions\n",
    "50 XP\n",
    "Possible Answers\n",
    "\n",
    "    1,0,0,1.\n",
    "    1,2,0,0.\n",
    "    1,0,1,0.\n",
    "    0,1,1,1.\n",
    "    "
   ]
  },
  {
   "cell_type": "code",
   "execution_count": 58,
   "id": "ee8762e0-bda9-4afc-9735-39dfcaeccb42",
   "metadata": {},
   "outputs": [
    {
     "name": "stdout",
     "output_type": "stream",
     "text": [
      "[(1, 0, 3, b'male', 22., 1, 0, b'A/5 21171',  7.25  , b'', b'S')\n",
      " (2, 1, 1, b'female', 38., 1, 0, b'PC 17599', 71.2833, b'C85', b'C')]\n"
     ]
    },
    {
     "name": "stderr",
     "output_type": "stream",
     "text": [
      "/tmp/ipykernel_13047/2535863362.py:4: VisibleDeprecationWarning: Reading unicode strings without specifying the encoding argument is deprecated. Set the encoding, use None for the system default.\n",
      "  file = np.genfromtxt(path, delimiter=',', names=True, dtype=None)\n"
     ]
    }
   ],
   "source": [
    "path = 'titanic_sub.csv'\n",
    "\n",
    "\n",
    "file = np.genfromtxt(path, delimiter=',', names=True, dtype=None)\n",
    "print(file[:2])"
   ]
  },
  {
   "cell_type": "code",
   "execution_count": null,
   "id": "ccab0f42-8295-4d55-ba84-4ee2ec953e61",
   "metadata": {},
   "outputs": [],
   "source": []
  },
  {
   "cell_type": "code",
   "execution_count": null,
   "id": "4a4c1fc7-dad2-4e44-be55-cec9e71b15a8",
   "metadata": {},
   "outputs": [],
   "source": []
  },
  {
   "cell_type": "code",
   "execution_count": null,
   "id": "3159adf6-17f7-40ca-be82-4788a833da6f",
   "metadata": {},
   "outputs": [],
   "source": []
  },
  {
   "cell_type": "code",
   "execution_count": null,
   "id": "021cf918-e870-4757-9f74-1faea7ef0554",
   "metadata": {},
   "outputs": [],
   "source": []
  },
  {
   "cell_type": "code",
   "execution_count": null,
   "id": "351b2bd1-fb2e-4570-9542-8320d1e3a0c0",
   "metadata": {},
   "outputs": [],
   "source": []
  },
  {
   "cell_type": "code",
   "execution_count": null,
   "id": "10dab753-7869-4fb3-b9f9-f07d99215c83",
   "metadata": {},
   "outputs": [],
   "source": []
  },
  {
   "cell_type": "code",
   "execution_count": null,
   "id": "9b3fd763-5bca-436a-8cd8-48b4566d8a04",
   "metadata": {},
   "outputs": [],
   "source": []
  },
  {
   "cell_type": "code",
   "execution_count": null,
   "id": "68969ee5-0be1-4661-9e08-a70d2253a517",
   "metadata": {},
   "outputs": [],
   "source": []
  },
  {
   "cell_type": "code",
   "execution_count": null,
   "id": "b0047ba4-0ed4-4b18-9600-7579c772bbd5",
   "metadata": {},
   "outputs": [],
   "source": []
  },
  {
   "cell_type": "code",
   "execution_count": null,
   "id": "8d3f8cbb-8127-48b2-a08a-63be43e0861c",
   "metadata": {},
   "outputs": [],
   "source": []
  },
  {
   "cell_type": "code",
   "execution_count": null,
   "id": "2d1fa0e5-14ad-414d-8662-bc842fc02bd7",
   "metadata": {},
   "outputs": [],
   "source": []
  },
  {
   "cell_type": "code",
   "execution_count": null,
   "id": "13f9d441-5b84-4a03-b7d4-e6d986870164",
   "metadata": {},
   "outputs": [],
   "source": []
  },
  {
   "cell_type": "code",
   "execution_count": null,
   "id": "54c58863-fc59-4fd7-846e-a2c5097d1b51",
   "metadata": {},
   "outputs": [],
   "source": []
  },
  {
   "cell_type": "code",
   "execution_count": null,
   "id": "25a2b229-90f8-4c50-bdaf-4c5c81674a84",
   "metadata": {},
   "outputs": [],
   "source": []
  },
  {
   "cell_type": "code",
   "execution_count": null,
   "id": "61737464-e4ae-453b-add9-f02bb5bf2861",
   "metadata": {},
   "outputs": [],
   "source": []
  },
  {
   "cell_type": "code",
   "execution_count": null,
   "id": "d08d942a-0a1b-43c4-8428-aa630a804a0f",
   "metadata": {},
   "outputs": [],
   "source": []
  },
  {
   "cell_type": "code",
   "execution_count": null,
   "id": "f1c0b514-cb10-48d7-8880-bc991a5fcdd6",
   "metadata": {},
   "outputs": [],
   "source": []
  },
  {
   "cell_type": "code",
   "execution_count": null,
   "id": "b9437b10-9775-4a47-bdd6-33470f7f11a6",
   "metadata": {},
   "outputs": [],
   "source": []
  },
  {
   "cell_type": "code",
   "execution_count": null,
   "id": "226d95a0-61af-4c9e-84e9-c273d4c82ddb",
   "metadata": {},
   "outputs": [],
   "source": []
  },
  {
   "cell_type": "code",
   "execution_count": null,
   "id": "46f6e64a-87f0-4bde-8d0c-92876768129a",
   "metadata": {},
   "outputs": [],
   "source": []
  },
  {
   "cell_type": "code",
   "execution_count": null,
   "id": "3776a0de-26ee-48d4-95fc-ad232046a5f6",
   "metadata": {},
   "outputs": [],
   "source": []
  },
  {
   "cell_type": "code",
   "execution_count": null,
   "id": "91efce40-bdf4-45ec-823b-915ed412d614",
   "metadata": {},
   "outputs": [],
   "source": []
  },
  {
   "cell_type": "code",
   "execution_count": null,
   "id": "55be0d83-82ff-47d0-95d0-9e86c1e0124d",
   "metadata": {},
   "outputs": [],
   "source": []
  },
  {
   "cell_type": "code",
   "execution_count": null,
   "id": "7f5f6260-aecf-42af-a707-358b7a1242dc",
   "metadata": {},
   "outputs": [],
   "source": []
  },
  {
   "cell_type": "code",
   "execution_count": null,
   "id": "33b117fb-79f9-4774-a168-d765c0da43ed",
   "metadata": {},
   "outputs": [],
   "source": []
  },
  {
   "cell_type": "code",
   "execution_count": null,
   "id": "c74259d9-843c-4258-85dd-7a6e6da5512d",
   "metadata": {},
   "outputs": [],
   "source": []
  },
  {
   "cell_type": "code",
   "execution_count": null,
   "id": "6e7efc62-f0db-4703-acba-dcad27359f0b",
   "metadata": {},
   "outputs": [],
   "source": []
  },
  {
   "cell_type": "code",
   "execution_count": null,
   "id": "63d6e24b-b603-4b64-958d-e8cf49ac61f7",
   "metadata": {},
   "outputs": [],
   "source": []
  },
  {
   "cell_type": "code",
   "execution_count": null,
   "id": "1b49bd9e-bdfc-4e14-a6d3-982a733c1902",
   "metadata": {},
   "outputs": [],
   "source": []
  },
  {
   "cell_type": "code",
   "execution_count": null,
   "id": "afc1e2cd-bd0b-467a-a9d0-441cd95e48cc",
   "metadata": {},
   "outputs": [],
   "source": []
  },
  {
   "cell_type": "code",
   "execution_count": null,
   "id": "412b356d-c683-4e6c-b5ef-c632b28c3546",
   "metadata": {},
   "outputs": [],
   "source": []
  },
  {
   "cell_type": "code",
   "execution_count": null,
   "id": "b9ec5c46-9e15-44d3-943c-8436a9f9ff5a",
   "metadata": {},
   "outputs": [],
   "source": []
  },
  {
   "cell_type": "code",
   "execution_count": null,
   "id": "f554b83a-f314-41a3-bb3e-be96b4572136",
   "metadata": {},
   "outputs": [],
   "source": []
  },
  {
   "cell_type": "code",
   "execution_count": null,
   "id": "ef469aff-629f-42bc-86ab-8a23e1c6fac5",
   "metadata": {},
   "outputs": [],
   "source": []
  },
  {
   "cell_type": "code",
   "execution_count": null,
   "id": "33784e94-5463-4664-abc2-507a369947c5",
   "metadata": {},
   "outputs": [],
   "source": []
  },
  {
   "cell_type": "code",
   "execution_count": null,
   "id": "dc24cf89-1565-414d-ae78-7ac498df109f",
   "metadata": {},
   "outputs": [],
   "source": []
  },
  {
   "cell_type": "code",
   "execution_count": null,
   "id": "162302e4-7a64-40d5-9a50-24e683d9478d",
   "metadata": {},
   "outputs": [],
   "source": []
  },
  {
   "cell_type": "code",
   "execution_count": null,
   "id": "ebf95c52-bbb9-4f59-a24d-ec240d547e6a",
   "metadata": {},
   "outputs": [],
   "source": []
  },
  {
   "cell_type": "code",
   "execution_count": null,
   "id": "ca2476af-3d30-4e6c-b018-29587dfbe03a",
   "metadata": {},
   "outputs": [],
   "source": []
  }
 ],
 "metadata": {
  "kernelspec": {
   "display_name": "Python 3 (ipykernel)",
   "language": "python",
   "name": "python3"
  },
  "language_info": {
   "codemirror_mode": {
    "name": "ipython",
    "version": 3
   },
   "file_extension": ".py",
   "mimetype": "text/x-python",
   "name": "python",
   "nbconvert_exporter": "python",
   "pygments_lexer": "ipython3",
   "version": "3.9.2"
  }
 },
 "nbformat": 4,
 "nbformat_minor": 5
}
