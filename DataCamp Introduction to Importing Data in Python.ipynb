{
 "cells": [
  {
   "cell_type": "markdown",
   "id": "217b529c-7bee-45ae-abc7-9034174420f8",
   "metadata": {},
   "source": [
    "## Introduction to Importing Data in Python\n",
    "\n"
   ]
  },
  {
   "cell_type": "markdown",
   "id": "3276e71f-4407-4ede-8450-15942a24571c",
   "metadata": {},
   "source": [
    "## Course Description\n",
    "\n",
    "As a data scientist, you will need to clean data, wrangle and munge it, visualize it, build predictive models, and interpret these models. Before you can do so, however, you will need to know how to get data into Python. In this course, you'll learn the many ways to import data into Python: from flat files such as .txt and .csv; from files native to other software such as Excel spreadsheets, Stata, SAS, and MATLAB files; and from relational databases such as SQLite and PostgreSQL."
   ]
  },
  {
   "cell_type": "markdown",
   "id": "113aee70-3b74-4cf2-b394-bb96b50eaa17",
   "metadata": {},
   "source": [
    "##  Introduction and flat files\n",
    "Free\n",
    "0%\n",
    "\n",
    "In this chapter, you'll learn how to import data into Python from all types of flat files, which are a simple and prevalent form of data storage. You've previously learned how to use NumPy and pandas—you will learn how to use these packages to import flat files and customize your imports.\n",
    "\n",
    "    Welcome to the course!    50 xp\n",
    "    Exploring your working directory    50 xp\n",
    "    Importing entire text files    100 xp\n",
    "    Importing text files line by line    100 xp\n",
    "    The importance of flat files in data science    50 xp\n",
    "    Pop quiz: examples of flat files    50 xp\n",
    "    Pop quiz: what exactly are flat files?    50 xp\n",
    "    Why we like flat files and the Zen of Python    50 xp\n",
    "    Importing flat files using NumPy    50 xp\n",
    "    Using NumPy to import flat files    100 xp\n",
    "    Customizing your NumPy import    100 xp\n",
    "    Importing different datatypes    100 xp\n",
    "    Working with mixed datatypes (1)    50 xp\n",
    "    Working with mixed datatypes (2)    100 xp\n",
    "    Importing flat files using pandas    50 xp\n",
    "    Using pandas to import flat files as DataFrames (1)    100 xp\n",
    "    Using pandas to import flat files as DataFrames (2)    100 xp\n",
    "    Customizing your pandas import    100 xp\n",
    "    Final thoughts on data import    50 xp\n"
   ]
  },
  {
   "cell_type": "markdown",
   "id": "a180a55c-1534-4162-867a-f971349d62c3",
   "metadata": {},
   "source": [
    "##  Importing data from other file types\n",
    "0%\n",
    "\n",
    "You've learned how to import flat files, but there are many other file types you will potentially have to work with as a data scientist. In this chapter, you'll learn how to import data into Python from a wide array of important file types. These include pickled files, Excel spreadsheets, SAS and Stata files, HDF5 files, a file type for storing large quantities of numerical data, and MATLAB files.\n",
    "\n",
    "    Introduction to other file types    50 xp\n",
    "    Not so flat any more    50 xp\n",
    "    Loading a pickled file    100 xp\n",
    "    Listing sheets in Excel files    100 xp\n",
    "    Importing sheets from Excel files    100 xp\n",
    "    Customizing your spreadsheet import    100 xp\n",
    "    Importing SAS/Stata files using pandas    50 xp\n",
    "    How to import SAS7BDAT    50 xp\n",
    "    Importing SAS files    100 xp\n",
    "    Using read_stata to import Stata files    50 xp\n",
    "    Importing Stata files    100 xp\n",
    "    Importing HDF5 files    50 xp\n",
    "    Using File to import HDF5 files    50 xp\n",
    "    Using h5py to import HDF5 files    100 xp\n",
    "    Extracting data from your HDF5 file    100 xp\n",
    "    Importing MATLAB files    50 xp\n",
    "    Loading .mat files    100 xp\n",
    "    The structure of .mat in Python    100 xp\n"
   ]
  },
  {
   "cell_type": "markdown",
   "id": "2a4a0256-0cfe-4275-b5bc-3a9781f6d49b",
   "metadata": {},
   "source": [
    "##  Working with relational databases in Python\n",
    "0%\n",
    "\n",
    "In this chapter, you'll learn how to extract meaningful data from relational databases, an essential skill for any data scientist. You will learn about relational models, how to create SQL queries, how to filter and order your SQL records, and how to perform advanced queries by joining database tables.\n",
    "\n",
    "    Introduction to relational databases    50 xp\n",
    "    Pop quiz: The relational model    50 xp\n",
    "    Creating a database engine in Python    50 xp\n",
    "    Creating a database engine    100 xp\n",
    "    What are the tables in the database?    100 xp\n",
    "    Querying relational databases in Python    50 xp\n",
    "    The Hello World of SQL Queries!    100 xp\n",
    "    Customizing the Hello World of SQL Queries    100 xp\n",
    "    Filtering your database records using SQL's WHERE    100 xp\n",
    "    Ordering your SQL records with ORDER BY    100 xp\n",
    "    Querying relational databases directly with pandas    50 xp\n",
    "    Pandas and The Hello World of SQL Queries!    100 xp\n",
    "    Pandas for more complex querying    100 xp\n",
    "    Advanced querying: exploiting table relationships    50 xp\n",
    "    The power of SQL lies in relationships between tables: INNER JOIN    100 xp\n",
    "    Filtering your INNER JOIN    100 xp\n",
    "    Final Thoughts    50 xp\n"
   ]
  },
  {
   "cell_type": "code",
   "execution_count": null,
   "id": "d07c5f10-3ef1-4f18-98f3-56e2266e1f3c",
   "metadata": {},
   "outputs": [],
   "source": []
  },
  {
   "cell_type": "markdown",
   "id": "f869e9bd-2919-4c0a-955d-a8dd2a4b3728",
   "metadata": {},
   "source": [
    "## Welcome to the course!\n",
    "\n",
    "\n",
    "\n",
    "\n",
    "\n",
    "\n",
    "\n",
    "**Welcome to the first course on Importing Data in Python!  \n",
    "\n",
    "The instructor is Hugo Bowne-Anderson, a Data Scientist at DataCamp.  \n",
    "\n",
    "\n",
    "# In this course, you'll learn how to import data from a large variety of import data sources, for example: (1) flat files such as .txt and .csv;  (2) files native to other software such as Excel spreadsheet, Stata, SAS and MATLAB files;  (3) relational databases such as SQLite & MySQL, PostgreSQL.  We'll cover all of these topics in this course.  \n",
    "\n",
    "# *******************************************************************************************************************\n",
    "# *******************************************************************************************************************\n",
    "First of, we're going to learn how to import basic text files, which we can broadly classify into types of files - those containing plain text, such as the opening of Mark Twain's novel The Adventures of Huckleberry Finn, and those containing records, that is, table data, such as titanic.csv, in which each row is s unique passenger onboard and each column is a characteristic or feature, such as sex, carbin and survived or not.  The latter is know as a flat file and we'll come back to these in a minute.  \n",
    "\n",
    "\n",
    "In this section, we'll figure out how to read lines from a plain text file: Lets do it.  \n",
    "\n",
    "# *******************************************************************************************************************\n",
    "To check out any plain text file, you can use Python's basic \"open()\" function to open a connection to the file.  To do so, you assign the filename to a variable as a string, pass the filename to the function \"open()\" and also pass it the argument \"mode='r'\", which makes sure that we can only read it (we wouldn'twant to accidentally write to it), assign the text form the file to a variable \"text\" by applying the method \".read()\" to the connection to the file.  After you do this, make sure that you close the connection to the file using the command \"file.close()\".  \n",
    "# Its always best practice to clean while cooking!  \n",
    "You can then print the file to console and check  it out using the command \"print(text)\".  A brief side note: if you wanted to open a file in order to write to it, you would pass it the argument \"mode='w'\".  We won't use that in this course as this is course on Importing Data but it is good to know.  \n",
    "\n",
    "# *******************************************************************************************************************\n",
    "You can avoid having to \"file.close()\" the conncetionn to the file by using a with statement.  This allows you to create a context in which you can execute commands with the file open.  Once out of this clouse/context, the file is no longer open and, for this reason, with is called a Context Manager.  \n",
    "\n",
    "\n",
    "What you are doing here is called \"binding\" a variable in the context manager construct; while still within this construct, the variable file will be bound to \"open(filename, 'r')\".  It is best practice to use the with statement as you never have to concern yourself with closing the file again.  \n",
    "\n",
    "In the following interactive coding sessions, you'll figure out how to print file content to console.  You'll also learn to print specific lines, which can be very useful for large files.  Then we'll be back to discuss flat files and then I'll show you how to use Python package NumPy to make our job of importing flat files & numerical data a far easier beast to tame.  \n",
    "\n",
    "\n",
    "\n",
    "filename = '1984.txt'\n",
    "file = open(filename, mode='r')\n",
    "\n",
    "text = file.read()\n",
    "\n",
    "file.close()\n",
    "\n",
    "\n",
    "with open('1984.txt', 'r') as file:\n",
    "    print(file.read())"
   ]
  },
  {
   "cell_type": "markdown",
   "id": "72213bdf-e213-44d3-b9bb-08dfd9a72b19",
   "metadata": {},
   "source": [
    "# By the way, can I recall the Hugo tole us hoe to read huge file line-by-line into our memory, also Pandas read_csv() fucntion provide same functionality.  I think we can set the program the read in huge txt file 1000 line per iterate or something.  \n",
    "\n",
    "\n",
    "# *******************************************************************************************************************\n",
    "\n",
    "# In Pandas.read_csv(), we have \"chunksize=\" arg to help us iterate chunk by chunk\n",
    "# In file operation, we can use for line in file, XXXXX\n",
    "\n",
    "\n",
    "Dont just finished the course, keep thinking "
   ]
  },
  {
   "cell_type": "code",
   "execution_count": 11,
   "id": "31e3e91c-5852-41e5-bb1e-a0c150f5800c",
   "metadata": {},
   "outputs": [
    {
     "name": "stdout",
     "output_type": "stream",
     "text": [
      "Alice's Adventures in Wonderland\n",
      "\n",
      "                ALICE'S ADVENTURES IN WONDERLAND\n",
      "\n",
      "                          Lewis Carroll\n",
      "\n",
      "               THE MILLENNIUM FULCRUM EDITION 3.0\n",
      "\n",
      "\n",
      "\n",
      "\n",
      "                            CHAPTER I\n",
      "\n",
      "                      Down the Rabbit-Hole\n",
      "\n",
      "\n",
      "  Alice was beginning to get very tired of sitting by her sister\n",
      "on the bank, and of having nothing to do:  once or twice she had\n",
      "peeped into the book her sister was reading, but it had no\n",
      "pictures or conversations in it, `and what is the use of a book,'\n",
      "thought Alice `without pictures or conversation?'\n",
      "\n",
      "  So she was consider\n",
      "Alice's Adventures in Wonderland\n",
      "\n",
      "                ALICE'S ADVENTURES IN WONDERLAND\n",
      "\n",
      "                          Lewis Carroll\n",
      "\n",
      "               THE MILLENNIUM FULCRUM EDITION 3.0\n",
      "\n",
      "\n",
      "\n",
      "\n",
      "                            CHAPTER I\n",
      "\n",
      "                      Down the Rabbit-Hole\n",
      "\n",
      "\n",
      "  Alice was beginning to get very tired of sitting by her sister\n",
      "on the bank, and of having nothing to do:  once or twice she had\n",
      "peeped into the book her sister was reading, but it had no\n",
      "pictures or conversations in it, `and what is the use of a book,'\n",
      "thought Alice `without pictures or conversation?'\n",
      "\n",
      "  So she was consider\n",
      "[\"Alice's Adventures in Wonderland\\n\", '\\n', \"                ALICE'S ADVENTURES IN WONDERLAND\\n\", '\\n', '                          Lewis Carroll\\n']\n"
     ]
    }
   ],
   "source": [
    "filename = 'alice_in_wonderland.txt'\n",
    "file = open(filename, mode='r')\n",
    "\n",
    "text = file.read()\n",
    "\n",
    "file.close()\n",
    "\n",
    "print(text[:590])\n",
    "\n",
    "\n",
    "\n",
    "\n",
    "with open('alice_in_wonderland.txt', 'r') as file:\n",
    "    text = file.read()\n",
    "    print(text[:590])\n",
    "\n",
    "\n",
    "\n",
    "#####################################################################################################################\n",
    "abc = []\n",
    "with open('alice_in_wonderland.txt', 'r') as file:\n",
    "    for line in file:\n",
    "        abc.append(line)\n",
    "        \n",
    "print(abc[:5])"
   ]
  },
  {
   "cell_type": "markdown",
   "id": "7ac9993f-0038-4a20-9435-61d7b552811e",
   "metadata": {},
   "source": [
    "## Exploring your working directory\n",
    "\n",
    "In order to import data into Python, you should first have an idea of what files are in your working directory.\n",
    "\n",
    "IPython, which is running on DataCamp's servers, has a bunch of cool commands, including its magic commands. For example, starting a line with ! gives you complete system shell access. This means that the IPython magic command ! ls will display the contents of your current directory. Your task is to use the IPython magic command ! ls to check out the contents of your current directory and answer the following question: which of the following files is in your working directory?\n",
    "Instructions\n",
    "50 XP\n",
    "Possible Answers\n",
    "\n",
    "    huck_finn.txt\n",
    "    titanic.csv\n",
    "    moby_dick.txt\n",
    "    "
   ]
  },
  {
   "cell_type": "code",
   "execution_count": null,
   "id": "edf30908-71ab-409a-aeab-0fb93faa00eb",
   "metadata": {},
   "outputs": [],
   "source": [
    "In [1]:\n",
    "ls\n",
    "moby_dick.txt\n",
    "In [2]:\n",
    "! ls\n",
    "moby_dick.txt\n"
   ]
  },
  {
   "cell_type": "markdown",
   "id": "598e2cec-81f3-44d3-9253-ac48932adea4",
   "metadata": {},
   "source": [
    "## Importing entire text files\n",
    "\n",
    "In this exercise, you'll be working with the file moby_dick.txt. It is a text file that contains the opening sentences of Moby Dick, one of the great American novels! Here you'll get experience opening a text file, printing its contents to the shell and, finally, closing it.\n",
    "Instructions\n",
    "100 XP\n",
    "\n",
    "    Open the file moby_dick.txt as read-only and store it in the variable file. Make sure to pass the filename enclosed in quotation marks ''.\n",
    "    Print the contents of the file to the shell using the print() function. As Hugo showed in the video, you'll need to apply the method read() to the object file.\n",
    "    Check whether the file is closed by executing print(file.closed).\n",
    "    Close the file using the close() method.\n",
    "    Check again that the file is closed as you did above.\n"
   ]
  },
  {
   "cell_type": "code",
   "execution_count": null,
   "id": "f461755e-c42c-4d3e-9ab6-0560da22938a",
   "metadata": {},
   "outputs": [],
   "source": []
  },
  {
   "cell_type": "code",
   "execution_count": null,
   "id": "7af492af-fdd1-44f8-b963-1d919aa76ec7",
   "metadata": {},
   "outputs": [],
   "source": []
  },
  {
   "cell_type": "code",
   "execution_count": null,
   "id": "5e54d4c8-1711-4fef-b4de-ffe4dee7e01e",
   "metadata": {},
   "outputs": [],
   "source": []
  },
  {
   "cell_type": "code",
   "execution_count": null,
   "id": "f26d68f7-dd0e-4af4-8e16-6452ceaaa8b3",
   "metadata": {},
   "outputs": [],
   "source": []
  },
  {
   "cell_type": "code",
   "execution_count": null,
   "id": "68430fca-bcee-4cf1-bf56-1bfea7e9ac01",
   "metadata": {},
   "outputs": [],
   "source": []
  },
  {
   "cell_type": "code",
   "execution_count": null,
   "id": "6b2a7748-4ebd-44d2-a1b3-5acfde7aba2c",
   "metadata": {},
   "outputs": [],
   "source": []
  },
  {
   "cell_type": "code",
   "execution_count": null,
   "id": "0b01b280-1b34-44ec-ac1a-3c9855e8e51a",
   "metadata": {},
   "outputs": [],
   "source": []
  },
  {
   "cell_type": "code",
   "execution_count": null,
   "id": "ef469aff-629f-42bc-86ab-8a23e1c6fac5",
   "metadata": {},
   "outputs": [],
   "source": []
  },
  {
   "cell_type": "code",
   "execution_count": null,
   "id": "33784e94-5463-4664-abc2-507a369947c5",
   "metadata": {},
   "outputs": [],
   "source": []
  },
  {
   "cell_type": "code",
   "execution_count": null,
   "id": "dc24cf89-1565-414d-ae78-7ac498df109f",
   "metadata": {},
   "outputs": [],
   "source": []
  },
  {
   "cell_type": "code",
   "execution_count": null,
   "id": "162302e4-7a64-40d5-9a50-24e683d9478d",
   "metadata": {},
   "outputs": [],
   "source": []
  },
  {
   "cell_type": "code",
   "execution_count": null,
   "id": "ebf95c52-bbb9-4f59-a24d-ec240d547e6a",
   "metadata": {},
   "outputs": [],
   "source": []
  },
  {
   "cell_type": "code",
   "execution_count": null,
   "id": "ca2476af-3d30-4e6c-b018-29587dfbe03a",
   "metadata": {},
   "outputs": [],
   "source": []
  }
 ],
 "metadata": {
  "kernelspec": {
   "display_name": "Python 3 (ipykernel)",
   "language": "python",
   "name": "python3"
  },
  "language_info": {
   "codemirror_mode": {
    "name": "ipython",
    "version": 3
   },
   "file_extension": ".py",
   "mimetype": "text/x-python",
   "name": "python",
   "nbconvert_exporter": "python",
   "pygments_lexer": "ipython3",
   "version": "3.9.2"
  }
 },
 "nbformat": 4,
 "nbformat_minor": 5
}
