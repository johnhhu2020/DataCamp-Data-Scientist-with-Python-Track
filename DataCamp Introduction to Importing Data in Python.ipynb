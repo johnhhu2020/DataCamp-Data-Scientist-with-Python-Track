{
 "cells": [
  {
   "cell_type": "markdown",
   "id": "217b529c-7bee-45ae-abc7-9034174420f8",
   "metadata": {},
   "source": [
    "## Introduction to Importing Data in Python\n",
    "\n"
   ]
  },
  {
   "cell_type": "markdown",
   "id": "3276e71f-4407-4ede-8450-15942a24571c",
   "metadata": {},
   "source": [
    "## Course Description\n",
    "\n",
    "As a data scientist, you will need to clean data, wrangle and munge it, visualize it, build predictive models, and interpret these models. Before you can do so, however, you will need to know how to get data into Python. In this course, you'll learn the many ways to import data into Python: from flat files such as .txt and .csv; from files native to other software such as Excel spreadsheets, Stata, SAS, and MATLAB files; and from relational databases such as SQLite and PostgreSQL."
   ]
  },
  {
   "cell_type": "markdown",
   "id": "113aee70-3b74-4cf2-b394-bb96b50eaa17",
   "metadata": {},
   "source": [
    "##  Introduction and flat files\n",
    "Free\n",
    "0%\n",
    "\n",
    "In this chapter, you'll learn how to import data into Python from all types of flat files, which are a simple and prevalent form of data storage. You've previously learned how to use NumPy and pandas—you will learn how to use these packages to import flat files and customize your imports.\n",
    "\n",
    "    Welcome to the course!    50 xp\n",
    "    Exploring your working directory    50 xp\n",
    "    Importing entire text files    100 xp\n",
    "    Importing text files line by line    100 xp\n",
    "    The importance of flat files in data science    50 xp\n",
    "    Pop quiz: examples of flat files    50 xp\n",
    "    Pop quiz: what exactly are flat files?    50 xp\n",
    "    Why we like flat files and the Zen of Python    50 xp\n",
    "    Importing flat files using NumPy    50 xp\n",
    "    Using NumPy to import flat files    100 xp\n",
    "    Customizing your NumPy import    100 xp\n",
    "    Importing different datatypes    100 xp\n",
    "    Working with mixed datatypes (1)    50 xp\n",
    "    Working with mixed datatypes (2)    100 xp\n",
    "    Importing flat files using pandas    50 xp\n",
    "    Using pandas to import flat files as DataFrames (1)    100 xp\n",
    "    Using pandas to import flat files as DataFrames (2)    100 xp\n",
    "    Customizing your pandas import    100 xp\n",
    "    Final thoughts on data import    50 xp\n"
   ]
  },
  {
   "cell_type": "markdown",
   "id": "a180a55c-1534-4162-867a-f971349d62c3",
   "metadata": {},
   "source": [
    "##  Importing data from other file types\n",
    "0%\n",
    "\n",
    "You've learned how to import flat files, but there are many other file types you will potentially have to work with as a data scientist. In this chapter, you'll learn how to import data into Python from a wide array of important file types. These include pickled files, Excel spreadsheets, SAS and Stata files, HDF5 files, a file type for storing large quantities of numerical data, and MATLAB files.\n",
    "\n",
    "    Introduction to other file types    50 xp\n",
    "    Not so flat any more    50 xp\n",
    "    Loading a pickled file    100 xp\n",
    "    Listing sheets in Excel files    100 xp\n",
    "    Importing sheets from Excel files    100 xp\n",
    "    Customizing your spreadsheet import    100 xp\n",
    "    Importing SAS/Stata files using pandas    50 xp\n",
    "    How to import SAS7BDAT    50 xp\n",
    "    Importing SAS files    100 xp\n",
    "    Using read_stata to import Stata files    50 xp\n",
    "    Importing Stata files    100 xp\n",
    "    Importing HDF5 files    50 xp\n",
    "    Using File to import HDF5 files    50 xp\n",
    "    Using h5py to import HDF5 files    100 xp\n",
    "    Extracting data from your HDF5 file    100 xp\n",
    "    Importing MATLAB files    50 xp\n",
    "    Loading .mat files    100 xp\n",
    "    The structure of .mat in Python    100 xp\n"
   ]
  },
  {
   "cell_type": "markdown",
   "id": "2a4a0256-0cfe-4275-b5bc-3a9781f6d49b",
   "metadata": {},
   "source": [
    "##  Working with relational databases in Python\n",
    "0%\n",
    "\n",
    "In this chapter, you'll learn how to extract meaningful data from relational databases, an essential skill for any data scientist. You will learn about relational models, how to create SQL queries, how to filter and order your SQL records, and how to perform advanced queries by joining database tables.\n",
    "\n",
    "    Introduction to relational databases    50 xp\n",
    "    Pop quiz: The relational model    50 xp\n",
    "    Creating a database engine in Python    50 xp\n",
    "    Creating a database engine    100 xp\n",
    "    What are the tables in the database?    100 xp\n",
    "    Querying relational databases in Python    50 xp\n",
    "    The Hello World of SQL Queries!    100 xp\n",
    "    Customizing the Hello World of SQL Queries    100 xp\n",
    "    Filtering your database records using SQL's WHERE    100 xp\n",
    "    Ordering your SQL records with ORDER BY    100 xp\n",
    "    Querying relational databases directly with pandas    50 xp\n",
    "    Pandas and The Hello World of SQL Queries!    100 xp\n",
    "    Pandas for more complex querying    100 xp\n",
    "    Advanced querying: exploiting table relationships    50 xp\n",
    "    The power of SQL lies in relationships between tables: INNER JOIN    100 xp\n",
    "    Filtering your INNER JOIN    100 xp\n",
    "    Final Thoughts    50 xp\n"
   ]
  },
  {
   "cell_type": "code",
   "execution_count": null,
   "id": "d07c5f10-3ef1-4f18-98f3-56e2266e1f3c",
   "metadata": {},
   "outputs": [],
   "source": []
  },
  {
   "cell_type": "markdown",
   "id": "f869e9bd-2919-4c0a-955d-a8dd2a4b3728",
   "metadata": {},
   "source": [
    "## Welcome to the course!\n",
    "\n",
    "\n",
    "\n",
    "\n",
    "\n",
    "\n",
    "\n",
    "**Welcome to the first course on Importing Data in Python!  \n",
    "\n",
    "The instructor is Hugo Bowne-Anderson, a Data Scientist at DataCamp.  \n",
    "\n",
    "\n",
    "# In this course, you'll learn how to import data from a large variety of import data sources, for example: (1) flat files such as .txt and .csv;  (2) files native to other software such as Excel spreadsheet, Stata, SAS and MATLAB files;  (3) relational databases such as SQLite & MySQL, PostgreSQL.  We'll cover all of these topics in this course.  \n",
    "\n",
    "# *******************************************************************************************************************\n",
    "# *******************************************************************************************************************\n",
    "First of, we're going to learn how to import basic text files, which we can broadly classify into types of files - those containing plain text, such as the opening of Mark Twain's novel The Adventures of Huckleberry Finn, and those containing records, that is, table data, such as titanic.csv, in which each row is s unique passenger onboard and each column is a characteristic or feature, such as sex, carbin and survived or not.  The latter is know as a flat file and we'll come back to these in a minute.  \n",
    "\n",
    "\n",
    "In this section, we'll figure out how to read lines from a plain text file: Lets do it.  \n",
    "\n",
    "# *******************************************************************************************************************\n",
    "To check out any plain text file, you can use Python's basic \"open()\" function to open a connection to the file.  To do so, you assign the filename to a variable as a string, pass the filename to the function \"open()\" and also pass it the argument \"mode='r'\", which makes sure that we can only read it (we wouldn'twant to accidentally write to it), assign the text form the file to a variable \"text\" by applying the method \".read()\" to the connection to the file.  After you do this, make sure that you close the connection to the file using the command \"file.close()\".  \n",
    "# Its always best practice to clean while cooking!  \n",
    "You can then print the file to console and check  it out using the command \"print(text)\".  A brief side note: if you wanted to open a file in order to write to it, you would pass it the argument \"mode='w'\".  We won't use that in this course as this is course on Importing Data but it is good to know.  \n",
    "\n",
    "# *******************************************************************************************************************\n",
    "You can avoid having to \"file.close()\" the conncetionn to the file by using a with statement.  This allows you to create a context in which you can execute commands with the file open.  Once out of this clouse/context, the file is no longer open and, for this reason, with is called a Context Manager.  \n",
    "\n",
    "\n",
    "What you are doing here is called \"binding\" a variable in the context manager construct; while still within this construct, the variable file will be bound to \"open(filename, 'r')\".  It is best practice to use the with statement as you never have to concern yourself with closing the file again.  \n",
    "\n",
    "In the following interactive coding sessions, you'll figure out how to print file content to console.  You'll also learn to print specific lines, which can be very useful for large files.  Then we'll be back to discuss flat files and then I'll show you how to use Python package NumPy to make our job of importing flat files & numerical data a far easier beast to tame.  \n",
    "\n",
    "\n",
    "\n",
    "filename = '1984.txt'\n",
    "file = open(filename, mode='r')\n",
    "\n",
    "text = file.read()\n",
    "\n",
    "file.close()\n",
    "\n",
    "\n",
    "with open('1984.txt', 'r') as file:\n",
    "    print(file.read())"
   ]
  },
  {
   "cell_type": "markdown",
   "id": "72213bdf-e213-44d3-b9bb-08dfd9a72b19",
   "metadata": {},
   "source": [
    "# By the way, can I recall the Hugo tole us hoe to read huge file line-by-line into our memory, also Pandas read_csv() fucntion provide same functionality.  I think we can set the program the read in huge txt file 1000 line per iterate or something.  \n",
    "\n",
    "\n",
    "# *******************************************************************************************************************\n",
    "\n",
    "# In Pandas.read_csv(), we have \"chunksize=\" arg to help us iterate chunk by chunk\n",
    "# In file operation, we can use for line in file, XXXXX\n",
    "\n",
    "\n",
    "Dont just finished the course, keep thinking "
   ]
  },
  {
   "cell_type": "code",
   "execution_count": 11,
   "id": "31e3e91c-5852-41e5-bb1e-a0c150f5800c",
   "metadata": {},
   "outputs": [
    {
     "name": "stdout",
     "output_type": "stream",
     "text": [
      "Alice's Adventures in Wonderland\n",
      "\n",
      "                ALICE'S ADVENTURES IN WONDERLAND\n",
      "\n",
      "                          Lewis Carroll\n",
      "\n",
      "               THE MILLENNIUM FULCRUM EDITION 3.0\n",
      "\n",
      "\n",
      "\n",
      "\n",
      "                            CHAPTER I\n",
      "\n",
      "                      Down the Rabbit-Hole\n",
      "\n",
      "\n",
      "  Alice was beginning to get very tired of sitting by her sister\n",
      "on the bank, and of having nothing to do:  once or twice she had\n",
      "peeped into the book her sister was reading, but it had no\n",
      "pictures or conversations in it, `and what is the use of a book,'\n",
      "thought Alice `without pictures or conversation?'\n",
      "\n",
      "  So she was consider\n",
      "Alice's Adventures in Wonderland\n",
      "\n",
      "                ALICE'S ADVENTURES IN WONDERLAND\n",
      "\n",
      "                          Lewis Carroll\n",
      "\n",
      "               THE MILLENNIUM FULCRUM EDITION 3.0\n",
      "\n",
      "\n",
      "\n",
      "\n",
      "                            CHAPTER I\n",
      "\n",
      "                      Down the Rabbit-Hole\n",
      "\n",
      "\n",
      "  Alice was beginning to get very tired of sitting by her sister\n",
      "on the bank, and of having nothing to do:  once or twice she had\n",
      "peeped into the book her sister was reading, but it had no\n",
      "pictures or conversations in it, `and what is the use of a book,'\n",
      "thought Alice `without pictures or conversation?'\n",
      "\n",
      "  So she was consider\n",
      "[\"Alice's Adventures in Wonderland\\n\", '\\n', \"                ALICE'S ADVENTURES IN WONDERLAND\\n\", '\\n', '                          Lewis Carroll\\n']\n"
     ]
    }
   ],
   "source": [
    "filename = 'alice_in_wonderland.txt'\n",
    "file = open(filename, mode='r')\n",
    "\n",
    "text = file.read()\n",
    "\n",
    "file.close()\n",
    "\n",
    "print(text[:590])\n",
    "\n",
    "\n",
    "\n",
    "\n",
    "with open('alice_in_wonderland.txt', 'r') as file:\n",
    "    text = file.read()\n",
    "    print(text[:590])\n",
    "\n",
    "\n",
    "\n",
    "#####################################################################################################################\n",
    "abc = []\n",
    "with open('alice_in_wonderland.txt', 'r') as file:\n",
    "    for line in file:\n",
    "        abc.append(line)\n",
    "        \n",
    "print(abc[:5])"
   ]
  },
  {
   "cell_type": "markdown",
   "id": "7ac9993f-0038-4a20-9435-61d7b552811e",
   "metadata": {},
   "source": [
    "## Exploring your working directory\n",
    "\n",
    "In order to import data into Python, you should first have an idea of what files are in your working directory.\n",
    "\n",
    "IPython, which is running on DataCamp's servers, has a bunch of cool commands, including its magic commands. For example, starting a line with ! gives you complete system shell access. This means that the IPython magic command ! ls will display the contents of your current directory. Your task is to use the IPython magic command ! ls to check out the contents of your current directory and answer the following question: which of the following files is in your working directory?\n",
    "Instructions\n",
    "50 XP\n",
    "Possible Answers\n",
    "\n",
    "    huck_finn.txt\n",
    "    titanic.csv\n",
    "    moby_dick.txt\n",
    "    "
   ]
  },
  {
   "cell_type": "code",
   "execution_count": null,
   "id": "edf30908-71ab-409a-aeab-0fb93faa00eb",
   "metadata": {},
   "outputs": [],
   "source": [
    "In [1]:\n",
    "ls\n",
    "moby_dick.txt\n",
    "In [2]:\n",
    "! ls\n",
    "moby_dick.txt\n"
   ]
  },
  {
   "cell_type": "markdown",
   "id": "598e2cec-81f3-44d3-9253-ac48932adea4",
   "metadata": {},
   "source": [
    "## Importing entire text files\n",
    "\n",
    "In this exercise, you'll be working with the file moby_dick.txt. It is a text file that contains the opening sentences of Moby Dick, one of the great American novels! Here you'll get experience opening a text file, printing its contents to the shell and, finally, closing it.\n",
    "Instructions\n",
    "100 XP\n",
    "\n",
    "    Open the file \"moby_dick.txt\" as read-only and store it in the variable \"file\". Make sure to pass the filename enclosed in quotation marks ''.\n",
    "#    Print the contents of the file to the shell using the print() function. As Hugo showed in the video, you'll need to apply the method \"read()\" to the object file.\n",
    "    Check whether the file is closed by executing print(file.closed).\n",
    "    Close the file using the close() method.\n",
    "    Check again that the file is closed as you did above.\n"
   ]
  },
  {
   "cell_type": "code",
   "execution_count": 14,
   "id": "f461755e-c42c-4d3e-9ab6-0560da22938a",
   "metadata": {},
   "outputs": [
    {
     "name": "stdout",
     "output_type": "stream",
     "text": [
      "Alice's Adventures in Wonderland\n",
      "\n",
      "                ALICE'S ADVENTURES IN WONDERLAND\n",
      "\n",
      "                          Lewis Carroll\n",
      "\n",
      "               THE MILLENNIUM FULCRUM EDITION 3.0\n",
      "\n",
      "\n",
      "\n",
      "\n",
      "                            CHAPTER I\n",
      "\n",
      "                      Down the Rabbit-Hole\n",
      "\n",
      "\n",
      "  Alice was beginning to get very tir\n"
     ]
    }
   ],
   "source": [
    "filename = 'alice_in_wonderland.txt'\n",
    "\n",
    "file = open(filename, mode='r')\n",
    "\n",
    "print(file.read()[:300])\n",
    "\n",
    "file.close()"
   ]
  },
  {
   "cell_type": "markdown",
   "id": "e7b39f9c-9b28-449b-985b-5f99cce95eff",
   "metadata": {},
   "source": [
    "## Importing text files line by line\n",
    "\n",
    "# For large files, we may not want to print all of their content to the shell: you may wish to print only the first few lines. Enter the \"readline()\" method, which allows you to do this. When a file called file is open, you can print out the first line by executing file.readline(). If you execute the same command again, the second line will print, and so on.\n",
    "\n",
    "In the introductory video, Hugo also introduced the concept of a context manager. He showed that you can bind a variable file by using a context manager construct:\n",
    "\n",
    "with open('huck_finn.txt') as file:\n",
    "\n",
    "While still within this construct, the variable file will be bound to open('huck_finn.txt'); thus, to print the file to the shell, all the code you need to execute is:\n",
    "\n",
    "with open('huck_finn.txt') as file:\n",
    "    print(file.readline())\n",
    "\n",
    "You'll now use these tools to print the first few lines of moby_dick.txt!\n",
    "Instructions\n",
    "100 XP\n",
    "\n",
    "    Open moby_dick.txt using the with context manager and the variable file.\n",
    "    Print the first three lines of the file to the shell by using readline() three times within the context manager.\n"
   ]
  },
  {
   "cell_type": "code",
   "execution_count": 15,
   "id": "5e54d4c8-1711-4fef-b4de-ffe4dee7e01e",
   "metadata": {},
   "outputs": [
    {
     "name": "stdout",
     "output_type": "stream",
     "text": [
      "Alice's Adventures in Wonderland\n",
      "\n",
      "\n",
      "\n"
     ]
    }
   ],
   "source": [
    "with open('alice_in_wonderland.txt', mode='r') as file:\n",
    "    print(file.readline())\n",
    "    print(file.readline())"
   ]
  },
  {
   "cell_type": "markdown",
   "id": "a838c7b9-1cd2-470b-a37c-fab34657862c",
   "metadata": {},
   "source": [
    "## The importance of flat files in data science\n",
    "\n",
    "\n",
    "\n",
    "\n",
    "\n",
    "\n",
    "**Now you know how to import plain text files, we're going to look at flat files, such as titanic.csv file, in which each row is a unique passenger onboard and each column is a feature of attribute, such as gender, cabin and survived or not.  \n",
    "\n",
    "# *******************************************************************************************************************\n",
    "It is essential for any budding data scientist to know precisely what the term flat file means.  Flat files are basic text files containing records, thta is, table data, without structured relationships.  This is in contrast to a relational database, for example, in which columns of distinct tables can be related.  We'll get to these later.  \n",
    "\n",
    "To be even more precise, flat files consist of records, where by a record we mean a row of fields or attributes, each of which contains at most one item of information.  In the flat file titanic.csv, each row or record is a unique passenger onboard and each column is a feature or attribute, such as name, gender and cabin.  \n",
    "\n",
    "It is also essential to note that a flat file can have a header, such as in titanic.csv, which is a row that occurs as the first row and describe the contents of the data columns or states what the corresponding attributes or features in each column are.  It will be important to know wheather or not your file has a header as it may alterour data import.  \n",
    "\n",
    "\n",
    "The reason that flat files are so important in data science is that we Data Scientist really honestly like to think in records or rows of attributes.  Now you may have noticed that the file extensionas .csv.  You may be wondering what this is?  A CSV is an acronym for comma separated value and it means exactly what it says.  The value in each row are separated by commas.  \n",
    "\n",
    "Another common extension for a flat file is .txt, which means a text file.  Values in flat files can be separated by characters or sequences of characters other than commas, such as a tab, and the character or characters in question is called a delimiter.  See below example of a tab-delimited file.  The data consists of the famous MNIST digit recognition images, where each row contains the pixel values of a given image.  Note that all fields in the MINST data are numeric, while the titanic.csv also contained strings.  How do we import such files?  \n",
    "\n",
    "# *******************************************************************************************************************\n",
    "If they consist entirely of numbers and we want to store them as a NumPy array, we could use the package NumPy.  If instead, we want to store the data in a DataFrame, we could use Pandas.  Most of the time, you will use one of these options.  In the rest of this chapter, you'll learn how to import flat files that contain only numerical data, such as the MNIST data, and import flat files that contain both numerical data and strings, such as titanic.csv.  \n",
    "\n",
    "\n",
    "\n"
   ]
  },
  {
   "cell_type": "code",
   "execution_count": 16,
   "id": "68430fca-bcee-4cf1-bf56-1bfea7e9ac01",
   "metadata": {},
   "outputs": [
    {
     "name": "stdout",
     "output_type": "stream",
     "text": [
      "pixel149\tpixel150\tpixel151\tpixel152\tpixel153\n",
      "0\t\t0\t\t0\t\t0\t\t0\n",
      "86\t\t250\t\t254\t\t254\t\t254\n",
      "0\t\t0\t\t0\t\t9\t\t254\n",
      "0\t\t0\t\t0\t\t0\t\t0\n",
      "103\t\t253\t\t253\t\t253\t\t253\n",
      "0\t\t0\t\t0\t\t0\t\t0\n",
      "0\t\t0\t\t0\t\t0\t\t0\n",
      "0\t\t0\t\t0\t\t0\t\t41\n",
      "253\t\t253\t\t253\t\t253\t\t253\n",
      "\n"
     ]
    }
   ],
   "source": [
    "with open('MNIST.txt', 'r') as file:\n",
    "    print(file.read())"
   ]
  },
  {
   "cell_type": "markdown",
   "id": "1c9d7e4a-b2a2-41ff-a092-1b876e3978e9",
   "metadata": {},
   "source": [
    "## Pop quiz: examples of flat files\n",
    "\n",
    "You're now well-versed in importing text files and you're about to become a wiz at importing flat files. But can you remember exactly what a flat file is? Test your knowledge by answering the following question: which of these file types below is NOT an example of a flat file?\n",
    "Answer the question\n",
    "50XP\n",
    "Possible Answers\n",
    "\n",
    "    A .csv file.\n",
    "    1\n",
    "    A tab-delimited .txt.\n",
    "    2\n",
    "#    A relational database (e.g. PostgreSQL).\n",
    "    3"
   ]
  },
  {
   "cell_type": "markdown",
   "id": "2877f093-0b0a-4afb-9c30-81e97c54d84b",
   "metadata": {},
   "source": [
    "## Pop quiz: what exactly are flat files?\n",
    "\n",
    "Which of the following statements about flat files is incorrect?\n",
    "Answer the question\n",
    "50XP\n",
    "Possible Answers\n",
    "\n",
    "    Flat files consist of rows and each row is called a record.\n",
    "    1\n",
    "#    Flat files consist of multiple tables with structured relationships between the tables.\n",
    "    2\n",
    "    A record in a flat file is composed of fields or attributes, each of which contains at most one item of information.\n",
    "    3\n",
    "    Flat files are pervasive in data science.\n",
    "    4"
   ]
  },
  {
   "cell_type": "markdown",
   "id": "3435035c-9df2-4e1c-853d-3a1d236ef439",
   "metadata": {},
   "source": [
    "## Why we like flat files and the Zen of Python\n",
    "\n",
    "In PythonLand, there are currently hundreds of Python Enhancement Proposals, commonly referred to as PEPs. PEP8, for example, is a standard style guide for Python, written by our sensei Guido van Rossum himself. It is the basis for how we here at DataCamp ask our instructors to style their code. Another one of my favorites is PEP20, commonly called the Zen of Python. Its abstract is as follows:\n",
    "\n",
    "    Long time Pythoneer Tim Peters succinctly channels the BDFL's guiding principles for Python's design into 20 aphorisms, only 19 of which have been written down.\n",
    "\n",
    "If you don't know what the acronym BDFL stands for, I suggest that you look here. You can print the Zen of Python in your shell by typing import this into it! You're going to do this now and the 5th aphorism (line) will say something of particular interest.\n",
    "\n",
    "The question you need to answer is: what is the 5th aphorism of the Zen of Python?\n",
    "Instructions\n",
    "50 XP\n",
    "Possible Answers\n",
    "\n",
    "#    Flat is better than nested.\n",
    "    Flat files are essential for data science.\n",
    "    The world is representable as a flat file.\n",
    "    Flatness is in the eye of the beholder.\n",
    "    "
   ]
  },
  {
   "cell_type": "code",
   "execution_count": 18,
   "id": "8d56fee7-b004-4ceb-ae21-c24ed1508b75",
   "metadata": {},
   "outputs": [
    {
     "name": "stdout",
     "output_type": "stream",
     "text": [
      "The Zen of Python, by Tim Peters\n",
      "\n",
      "Beautiful is better than ugly.\n",
      "Explicit is better than implicit.\n",
      "Simple is better than complex.\n",
      "Complex is better than complicated.\n",
      "Flat is better than nested.\n",
      "Sparse is better than dense.\n",
      "Readability counts.\n",
      "Special cases aren't special enough to break the rules.\n",
      "Although practicality beats purity.\n",
      "Errors should never pass silently.\n",
      "Unless explicitly silenced.\n",
      "In the face of ambiguity, refuse the temptation to guess.\n",
      "There should be one-- and preferably only one --obvious way to do it.\n",
      "Although that way may not be obvious at first unless you're Dutch.\n",
      "Now is better than never.\n",
      "Although never is often better than *right* now.\n",
      "If the implementation is hard to explain, it's a bad idea.\n",
      "If the implementation is easy to explain, it may be a good idea.\n",
      "Namespaces are one honking great idea -- let's do more of those!\n",
      "<module 'this' from '/usr/lib/python3.9/this.py'>\n"
     ]
    }
   ],
   "source": [
    "import this\n",
    "\n",
    "print(this)"
   ]
  },
  {
   "cell_type": "markdown",
   "id": "56ec679b-8f29-46c4-afd1-6f079d618052",
   "metadata": {},
   "source": [
    "## Importing flat files using NumPy\n",
    "\n",
    "\n",
    "\n",
    "\n",
    "\n",
    "\n",
    "\n",
    "**Okay, so we now know how to use Python's built-in open functionto open text files.  What if you now want to import a flat file and assign it to a variable?  If all the data are numerical, you can use the package NumPy to import the data as a NumPy array.  Now why would we want to do this?  \n",
    "\n",
    "\n",
    "First off, NumPy arrays are the Python standard for storing numerical data.  They are efficient, fast and clean.  \n",
    "Secondly, NumPy array are often essential for other packages, such as Scikit-learn, a popular Machine Learning package for Python.  \n",
    "# NumPy functions \".loadtxt()\" and \".genfromtxt()\".\n",
    "NumPy itself has a number of built-in functions that makes it far easier and more efficient for us to import data as arrays.  Enter the NumPy functions \".loadtxt()\" and \".genfromtxt()\".  \n",
    "\n",
    "# To use either of these we first need to import NumPy.  We then call \"np.loadtxt()\" and pass it the filename as the first arg, along with the \"delimiter=\" as the 2nd arg.  Note that the default \"delimiter=\" is any white space so we'll usually need to specify it explicitly.  There are a number of additional arguments you may wish to specify.  If, for example, your data consist of numerics and your header has strings in it, such as In the MNIST.txt digits data, you will want to skip the first row by calling \"np.loadtxt()\" with the argument \"skiprow=\" equal to 1; if you want only the 1st and 3rd column of the data, you want to set the \"usecols=\" equal to the list containing ints 0 and 2.  You can also import different datatypes into NumPy arrays: for example, setting the argument \"dtype=\" equal to \"str\" will ensure that all entries are imported as strings.  The \"np.loadtxt()\" is great for basic cases, but tends to break down when we have mixed datatypes, for example, columns consisting of floats and columns consisting of strings, such as we saw in the titanic.csv dataset.  \n",
    "\n",
    "\n",
    "\n",
    "mnist = np.loadtxt('mnist_kaggle_some_rows.csv', delimiter=',')\n"
   ]
  },
  {
   "cell_type": "code",
   "execution_count": 24,
   "id": "ff4cd950-ddc7-478a-ab61-e108094496a9",
   "metadata": {},
   "outputs": [
    {
     "name": "stdout",
     "output_type": "stream",
     "text": [
      "[[1. 0. 0. ... 0. 0. 0.]\n",
      " [0. 0. 0. ... 0. 0. 0.]\n",
      " [1. 0. 0. ... 0. 0. 0.]\n",
      " ...\n",
      " [2. 0. 0. ... 0. 0. 0.]\n",
      " [0. 0. 0. ... 0. 0. 0.]\n",
      " [5. 0. 0. ... 0. 0. 0.]]\n",
      "[[1. 0.]\n",
      " [0. 0.]\n",
      " [1. 0.]\n",
      " [4. 0.]\n",
      " [0. 0.]\n",
      " [0. 0.]\n",
      " [7. 0.]\n",
      " [3. 0.]\n",
      " [5. 0.]\n",
      " [3. 0.]\n",
      " [8. 0.]\n",
      " [9. 0.]\n",
      " [1. 0.]\n",
      " [3. 0.]\n",
      " [3. 0.]\n",
      " [1. 0.]\n",
      " [2. 0.]\n",
      " [0. 0.]\n",
      " [7. 0.]\n",
      " [5. 0.]\n",
      " [8. 0.]\n",
      " [6. 0.]\n",
      " [2. 0.]\n",
      " [0. 0.]\n",
      " [2. 0.]\n",
      " [3. 0.]\n",
      " [6. 0.]\n",
      " [9. 0.]\n",
      " [9. 0.]\n",
      " [7. 0.]\n",
      " [8. 0.]\n",
      " [9. 0.]\n",
      " [4. 0.]\n",
      " [9. 0.]\n",
      " [2. 0.]\n",
      " [1. 0.]\n",
      " [3. 0.]\n",
      " [1. 0.]\n",
      " [1. 0.]\n",
      " [4. 0.]\n",
      " [9. 0.]\n",
      " [1. 0.]\n",
      " [4. 0.]\n",
      " [4. 0.]\n",
      " [2. 0.]\n",
      " [6. 0.]\n",
      " [3. 0.]\n",
      " [7. 0.]\n",
      " [7. 0.]\n",
      " [4. 0.]\n",
      " [7. 0.]\n",
      " [5. 0.]\n",
      " [1. 0.]\n",
      " [9. 0.]\n",
      " [0. 0.]\n",
      " [2. 0.]\n",
      " [2. 0.]\n",
      " [3. 0.]\n",
      " [9. 0.]\n",
      " [1. 0.]\n",
      " [1. 0.]\n",
      " [1. 0.]\n",
      " [5. 0.]\n",
      " [0. 0.]\n",
      " [6. 0.]\n",
      " [3. 0.]\n",
      " [4. 0.]\n",
      " [8. 0.]\n",
      " [1. 0.]\n",
      " [0. 0.]\n",
      " [3. 0.]\n",
      " [9. 0.]\n",
      " [6. 0.]\n",
      " [2. 0.]\n",
      " [6. 0.]\n",
      " [4. 0.]\n",
      " [7. 0.]\n",
      " [1. 0.]\n",
      " [4. 0.]\n",
      " [1. 0.]\n",
      " [5. 0.]\n",
      " [4. 0.]\n",
      " [8. 0.]\n",
      " [9. 0.]\n",
      " [2. 0.]\n",
      " [9. 0.]\n",
      " [9. 0.]\n",
      " [8. 0.]\n",
      " [9. 0.]\n",
      " [6. 0.]\n",
      " [3. 0.]\n",
      " [6. 0.]\n",
      " [4. 0.]\n",
      " [6. 0.]\n",
      " [2. 0.]\n",
      " [9. 0.]\n",
      " [1. 0.]\n",
      " [2. 0.]\n",
      " [0. 0.]\n",
      " [5. 0.]]\n"
     ]
    }
   ],
   "source": [
    "import numpy as np\n",
    "\n",
    "\n",
    "mnist = np.loadtxt('mnist_kaggle_some_rows.csv', delimiter=',', skiprows=0)\n",
    "\n",
    "print(mnist)\n",
    "\n",
    "\n",
    "\n",
    "mnist2 = np.loadtxt('mnist_kaggle_some_rows.csv', delimiter=',', skiprows=0, usecols=[0,2])\n",
    "\n",
    "print(mnist2)"
   ]
  },
  {
   "cell_type": "markdown",
   "id": "d09f2426-fdb3-4b3e-8afe-e151df8aadf7",
   "metadata": {},
   "source": [
    "## Using NumPy to import flat files\n",
    "\n",
    "In this exercise, you're now going to load the MNIST digit recognition dataset using the numpy function \"np.loadtxt()\" and see just how easy it can be:\n",
    "\n",
    "    The first argument will be the filename.\n",
    "    The second will be the \"delimiter=\" which, in this case, is a comma.\n",
    "\n",
    "You can find more information about the MNIST dataset here on the webpage of Yann LeCun, who is currently Director of AI Research at Facebook and Founding Director of the NYU Center for Data Science, among many other things.\n",
    "Instructions\n",
    "100 XP\n",
    "\n",
    "#    Fill in the arguments of \"np.loadtxt()\" by passing file and a comma ',' for the \"delimiter=\".\n",
    "    Fill in the argument of print() to print the type of the object digits. Use the function type().\n",
    "    Execute the rest of the code to visualize one of the rows of the data.\n"
   ]
  },
  {
   "cell_type": "code",
   "execution_count": 47,
   "id": "ce726f96-d11c-4d55-930a-c2b6c5f19f29",
   "metadata": {},
   "outputs": [
    {
     "name": "stdout",
     "output_type": "stream",
     "text": [
      "(100, 785)\n",
      "784\n",
      "785\n",
      "<class 'numpy.ndarray'>\n",
      "(784,)\n"
     ]
    },
    {
     "data": {
      "image/png": "[encoded data removed]",
      "text/plain": [
       "<Figure size 432x288 with 1 Axes>"
      ]
     },
     "metadata": {
      "needs_background": "light"
     },
     "output_type": "display_data"
    }
   ],
   "source": [
    "import numpy as np\n",
    "\n",
    "file = np.loadtxt('mnist_kaggle_some_rows.csv', delimiter=',')\n",
    "print(file.shape)\n",
    "print(28*28)\n",
    "print(len(file[3, :]))\n",
    "print(type(file))\n",
    "\n",
    "\n",
    "\n",
    "selected = file[5, 1:]\n",
    "print(selected.shape)\n",
    "\n",
    "\n",
    "#####################################################################################################################\n",
    "selected_sq = np.reshape(selected, (28, 28))\n",
    "\n",
    "#####################################################################################################################\n",
    "plt.imshow(selected_sq, cmap='Greys', interpolation='nearest')\n",
    "plt.show()\n",
    "\n"
   ]
  },
  {
   "cell_type": "code",
   "execution_count": 28,
   "id": "0cbb0db8-687b-4254-bb2d-c230f3c99611",
   "metadata": {},
   "outputs": [
    {
     "name": "stdout",
     "output_type": "stream",
     "text": [
      "<class 'numpy.ndarray'>\n"
     ]
    },
    {
     "data": {
      "image/png": "[encoded data removed]",
      "text/plain": [
       "<Figure size 432x288 with 1 Axes>"
      ]
     },
     "metadata": {
      "needs_background": "light"
     },
     "output_type": "display_data"
    }
   ],
   "source": [
    "# Import package\n",
    "import numpy as np\n",
    "import matplotlib.pyplot as plt\n",
    "\n",
    "\n",
    "# Assign filename to variable: file\n",
    "file = 'mnist_kaggle_some_rows.csv'\n",
    "\n",
    "# Load file as array: digits\n",
    "digits = np.loadtxt(file, delimiter=',')\n",
    "\n",
    "# Print datatype of digits\n",
    "print(type(digits))\n",
    "\n",
    "\n",
    "\n",
    "\n",
    "\n",
    "# Select and reshape a row\n",
    "im = digits[21, 1:]\n",
    "im_sq = np.reshape(im, (28, 28))\n",
    "\n",
    "# Plot reshaped data (matplotlib.pyplot already loaded as plt)\n",
    "plt.imshow(im_sq, cmap='Greys', interpolation='nearest')\n",
    "plt.show()\n"
   ]
  },
  {
   "cell_type": "markdown",
   "id": "69457f02-b7a4-4f2d-a482-c7f2c010b307",
   "metadata": {},
   "source": [
    "## Customizing your NumPy import\n",
    "\n",
    "# What if there are rows, such as a header, that you don't want to import? What if your file has a delimiter other than a comma? What if you only wish to import particular columns?\n",
    "\n",
    "There are a number of arguments that \"np.loadtxt()\" takes that you'll find useful:\n",
    "\n",
    "#    delimiter changes the delimiter that loadtxt() is expecting.\n",
    "#        You can use ',' for comma-delimited.\n",
    "#        You can use '\\t' for tab-delimited. \n",
    "#    skiprows allows you to specify how many rows (not indices) you wish to skip\n",
    "#    usecols takes a list of the indices of the columns you wish to keep.\n",
    "\n",
    "The file that you'll be importing, digits_header.txt, has a header and is tab-delimited.\n",
    "Instructions\n",
    "100 XP\n",
    "\n",
    "#    Complete the arguments of np.loadtxt(): the file you're importing is tab-delimited, you want to skip the first row and you only want to import the first and third columns.\n",
    "    Complete the argument of the print() call in order to print the entire array that you just imported.\n"
   ]
  },
  {
   "cell_type": "code",
   "execution_count": null,
   "id": "38fdfcab-fb66-416f-8249-f97c7dcce643",
   "metadata": {},
   "outputs": [],
   "source": [
    "# Import numpy\n",
    "import numpy as np\n",
    "\n",
    "# Assign the filename: file\n",
    "file = 'digits_header.txt'\n",
    "\n",
    "# Load the data: data\n",
    "data = np.loadtxt(____, delimiter='\\t', skiprows=1, usecols=[0,2])\n",
    "\n",
    "# Print data\n",
    "print(____)\n"
   ]
  },
  {
   "cell_type": "markdown",
   "id": "024ecd17-f080-4470-9ed5-9e3d84ba0391",
   "metadata": {},
   "source": [
    "## Importing different datatypes\n",
    "\n",
    "The file seaslug.txt\n",
    "\n",
    "    has a text header, consisting of strings\n",
    "    is tab-delimited.\n",
    "\n",
    "These data consists of percentage of sea slug larvae that had metamorphosed in a given time period. Read more here.\n",
    "\n",
    "Due to the header, if you tried to import it as-is using np.loadtxt(), Python would throw you a ValueError and tell you that it could not convert string to float. There are two ways to deal with this: firstly, you can set the data type argument dtype equal to str (for string).\n",
    "\n",
    "Alternatively, you can skip the first row as we have seen before, using the skiprows argument.\n",
    "Instructions\n",
    "100 XP\n",
    "\n",
    "    Complete the first call to np.loadtxt() by passing file as the first argument.\n",
    "    Execute print(data[0]) to print the first element of data.\n",
    "    Complete the second call to np.loadtxt(). The file you're importing is tab-delimited, the datatype is float, and you want to skip the first row.\n",
    "    Print the 10th element of data_float by completing the print() command. Be guided by the previous print() call.\n",
    "    Execute the rest of the code to visualize the data.\n"
   ]
  },
  {
   "cell_type": "code",
   "execution_count": 14,
   "id": "85b7001a-3b3c-4e22-8bd4-21c3993abdae",
   "metadata": {},
   "outputs": [
    {
     "name": "stdout",
     "output_type": "stream",
     "text": [
      "['Time' 'Percent']\n",
      "(47, 2)\n",
      "[[9.90e+01 6.70e-02]\n",
      " [9.90e+01 1.33e-01]]\n"
     ]
    },
    {
     "data": {
      "image/png": "[encoded data removed]",
      "text/plain": [
       "<Figure size 432x288 with 1 Axes>"
      ]
     },
     "metadata": {
      "needs_background": "light"
     },
     "output_type": "display_data"
    }
   ],
   "source": [
    "import numpy as np\n",
    "import matplotlib.pyplot as plt\n",
    "\n",
    "path = 'seaslug.txt'\n",
    "\n",
    "file = np.loadtxt(path, delimiter='\\t', dtype=float, skiprows=1)\n",
    "file2 = np.genfromtxt(path, delimiter='\\t', dtype=None, encoding='ascii')\n",
    "print(file2[0,:])\n",
    "\n",
    "print(file.shape)\n",
    "\n",
    "print(file[:2])\n",
    "\n",
    "\n",
    "\n",
    "plt.scatter(x=file[:,0], y=file[:,1])\n",
    "\n",
    "plt.xlabel(file2[0, 0]) #############################################################################################\n",
    "plt.ylabel(file2[0, 1])\n",
    "\n",
    "plt.show()"
   ]
  },
  {
   "cell_type": "code",
   "execution_count": 15,
   "id": "12685ceb-960e-4738-8940-62975781fd55",
   "metadata": {},
   "outputs": [
    {
     "name": "stdout",
     "output_type": "stream",
     "text": [
      "[['Time' 'Percent']\n",
      " ['99' '0.067']\n",
      " ['99' '0.133']\n",
      " ['99' '0.067']\n",
      " ['99' '0']]\n",
      "[0.    0.357]\n"
     ]
    },
    {
     "data": {
      "image/png": "[encoded data removed]",
      "text/plain": [
       "<Figure size 432x288 with 1 Axes>"
      ]
     },
     "metadata": {
      "needs_background": "light"
     },
     "output_type": "display_data"
    }
   ],
   "source": [
    "# Assign filename: file\n",
    "file = 'seaslug.txt'\n",
    "\n",
    "# Import file: data\n",
    "data = np.loadtxt(file, delimiter='\\t', dtype=str)\n",
    "\n",
    "# Print the first element of data\n",
    "print(data[:5])\n",
    "\n",
    "# Import data as floats and skip the first row: data_float\n",
    "data_float = np.loadtxt(file, delimiter='\\t', dtype=float, skiprows=1)\n",
    "\n",
    "# Print the 10th element of data_float\n",
    "print(data_float[9])\n",
    "\n",
    "# Plot a scatterplot of the data\n",
    "plt.scatter(data_float[:, 0], data_float[:, 1])\n",
    "\n",
    "plt.xlabel(data[0,0]) ###############################################################################################\n",
    "plt.ylabel(data[0,1])\n",
    "\n",
    "plt.show()\n"
   ]
  },
  {
   "cell_type": "markdown",
   "id": "5888502b-eda8-4faa-a233-00cfe8f8c663",
   "metadata": {},
   "source": [
    "## Working with mixed datatypes (1)\n",
    "\n",
    "# Much of the time you will need to import datasets which have different datatypes in different columns; one column may contain strings and another floats, for example. The function np.loadtxt() will freak at this. There is another function, np.genfromtxt(), which can handle such structures. If we pass dtype=None to it, it will figure out what types each column should be.\n",
    "\n",
    "Import 'titanic.csv' using the function np.genfromtxt() as follows:\n",
    "\n",
    "# data = np.genfromtxt('titanic.csv', delimiter=',', names=True, dtype=None)\n",
    "\n",
    "Here, the first argument is the filename, the second specifies the delimiter , and the third argument names tells us there is a header. Because the data are of different types, data is an object called a structured array. Because numpy arrays have to contain elements that are all the same type, the structured array solves this by being a 1D array, where each element of the array is a row of the flat file imported. You can test this by checking out the array's shape in the shell by executing np.shape(data).\n",
    "\n",
    "Accessing rows and columns of structured arrays is super-intuitive: to get the ith row, merely execute data[i] and to get the column with name 'Fare', execute data['Fare'].\n",
    "\n",
    "After importing the Titanic data as a structured array (as per the instructions above), print the entire column with the name Survived to the shell. What are the last 4 values of this column?\n",
    "Instructions\n",
    "50 XP\n",
    "Possible Answers\n",
    "\n",
    "    1,0,0,1.\n",
    "    1,2,0,0.\n",
    "    1,0,1,0.\n",
    "    0,1,1,1.\n",
    "    "
   ]
  },
  {
   "cell_type": "code",
   "execution_count": 1,
   "id": "ee8762e0-bda9-4afc-9735-39dfcaeccb42",
   "metadata": {},
   "outputs": [
    {
     "name": "stdout",
     "output_type": "stream",
     "text": [
      "[(1, 0, 3, 'male', 22., 1, 0, 'A/5 21171',  7.25  , '', 'S')\n",
      " (2, 1, 1, 'female', 38., 1, 0, 'PC 17599', 71.2833, 'C85', 'C')\n",
      " (3, 1, 3, 'female', 26., 0, 0, 'STON/O2. 3101282',  7.925 , '', 'S')]\n",
      "(891,)\n",
      "[(1, 0, 3, 'male', 22., 1, 0, 'A/5 21171',  7.25  , '', 'S')\n",
      " (2, 1, 1, 'female', 38., 1, 0, 'PC 17599', 71.2833, 'C85', 'C')\n",
      " (3, 1, 3, 'female', 26., 0, 0, 'STON/O2. 3101282',  7.925 , '', 'S')\n",
      " (4, 1, 1, 'female', 35., 1, 0, '113803', 53.1   , 'C123', 'S')\n",
      " (5, 0, 3, 'male', 35., 0, 0, '373450',  8.05  , '', 'S')]\n",
      "[(2, 1, 1, 'female', 38., 1, 0, 'PC 17599', 71.2833, 'C85', 'C'), (3, 1, 3, 'female', 26., 0, 0, 'STON/O2. 3101282', 7.925, '', 'S'), (4, 1, 1, 'female', 35., 1, 0, '113803', 53.1, 'C123', 'S'), (5, 0, 3, 'male', 35., 0, 0, '373450', 8.05, '', 'S')]\n",
      "\n",
      "\n",
      "[(1, 0, 3, 'male', 22.) (2, 1, 1, 'female', 38.) (3, 1, 3, 'female', 26.)\n",
      " (4, 1, 1, 'female', 35.) (5, 0, 3, 'male', 35.) (6, 0, 3, 'male', nan)\n",
      " (7, 0, 1, 'male', 54.) (8, 0, 3, 'male',  2.)]\n",
      "[['PassengerId' 'Survived' 'Pclass' 'Sex' 'Age' 'SibSp' 'Parch' 'Ticket'\n",
      "  'Fare' 'Cabin' 'Embarked']]\n",
      "[0 1 1 1 0 0 0 0 1 1]\n",
      "[['PassengerId' 'Survived' 'Pclass' 'Sex' 'Age' 'SibSp' 'Parch' 'Ticket'\n",
      "  'Fare']\n",
      " ['1' '0' '3' 'male' '22.0' '1' '0' 'A/5 21171' '7.25']\n",
      " ['2' '1' '1' 'female' '38.0' '1' '0' 'PC 17599' '71.2833']\n",
      " ['3' '1' '3' 'female' '26.0' '0' '0' 'STON/O2. 3101282' '7.925']\n",
      " ['4' '1' '1' 'female' '35.0' '1' '0' '113803' '53.1']]\n"
     ]
    }
   ],
   "source": [
    "import numpy as np\n",
    "\n",
    "path = 'titanic_sub.csv'\n",
    "\n",
    "\n",
    "file = np.genfromtxt(path, delimiter=',', names=True, dtype=None, encoding='ascii')\n",
    "print(file[:3])\n",
    "print(file.shape)\n",
    "#print(file)\n",
    "\n",
    "\n",
    "print(file[:5])     #################################################################################################\n",
    "print([*file[1:5]]) #################################################################################################\n",
    "\n",
    "\n",
    "print('\\n')  # Slicing though call the names of fields, than use indexing slicing to subsetting rows\n",
    "print(file[['PassengerId', 'Survived', 'Pclass', 'Sex', 'Age']][:8]) ################################################\n",
    "\n",
    "\n",
    "# above we got a list of tuples\n",
    "#####################################################################################################################\n",
    "# below we got a list of lists\n",
    "\n",
    "file2 = np.genfromtxt(path, delimiter=',', dtype=None, encoding='ascii')\n",
    "print(file2[:1])\n",
    "\n",
    "\n",
    "########### Name of the field\n",
    "print(file['Survived'][:10]) ########################################################################################\n",
    "#names : {None, True, str, sequence}, optional\n",
    "#        If `names` is True, the field names are read from the first line after\n",
    "#        the first `skip_header` lines.\n",
    "\n",
    "\n",
    "print(file2[:5, :9]) ################################################################################################"
   ]
  },
  {
   "cell_type": "code",
   "execution_count": 90,
   "id": "ccab0f42-8295-4d55-ba84-4ee2ec953e61",
   "metadata": {},
   "outputs": [],
   "source": [
    "#help(np.genfromtxt)"
   ]
  },
  {
   "cell_type": "markdown",
   "id": "b542f80c-8688-4720-9406-81bad5fe18bd",
   "metadata": {},
   "source": [
    "## Working with mixed datatypes (2)\n",
    "\n",
    "# You have just used \"np.genfromtxt()\" to import data containing mixed datatypes. There is also another function \"np.recfromcsv()\" that behaves similarly to \"np.genfromtxt()\", except that its default dtype is None. In this exercise, you'll practice using this to achieve the same result.\n",
    "Instructions\n",
    "100 XP\n",
    "\n",
    "#    Import titanic.csv using the function np.recfromcsv() and assign it to the variable, d. You'll only need to pass file to it because it has the defaults delimiter=',' and names=True in addition to dtype=None!\n",
    "    Run the remaining code to print the first three entries of the resulting array d.\n"
   ]
  },
  {
   "cell_type": "code",
   "execution_count": 5,
   "id": "3159adf6-17f7-40ca-be82-4788a833da6f",
   "metadata": {},
   "outputs": [
    {
     "name": "stdout",
     "output_type": "stream",
     "text": [
      "[(1, 0, 3, b'male', 22., 1, 0, b'A/5 21171',  7.25  , b'', b'S')\n",
      " (2, 1, 1, b'female', 38., 1, 0, b'PC 17599', 71.2833, b'C85', b'C')\n",
      " (3, 1, 3, b'female', 26., 0, 0, b'STON/O2. 3101282',  7.925 , b'', b'S')]\n",
      "\n",
      "\n",
      "[(1, 0, 3, b'male', 22., 1, 0, b'A/5 21171',  7.25  , b'', b'S')\n",
      " (2, 1, 1, b'female', 38., 1, 0, b'PC 17599', 71.2833, b'C85', b'C')]\n",
      "\n",
      "\n",
      "[['PassengerId' 'Survived' 'Pclass' 'Sex' 'Age' 'SibSp' 'Parch' 'Ticket'\n",
      "  'Fare' 'Cabin' 'Embarked']\n",
      " ['1' '0' '3' 'male' '22.0' '1' '0' 'A/5 21171' '7.25' '' 'S']\n",
      " ['2' '1' '1' 'female' '38.0' '1' '0' 'PC 17599' '71.2833' 'C85' 'C']\n",
      " ['3' '1' '3' 'female' '26.0' '0' '0' 'STON/O2. 3101282' '7.925' '' 'S']\n",
      " ['4' '1' '1' 'female' '35.0' '1' '0' '113803' '53.1' 'C123' 'S']\n",
      " ['5' '0' '3' 'male' '35.0' '0' '0' '373450' '8.05' '' 'S']]\n",
      "[['PassengerId' 'Survived' 'Pclass' 'Sex' 'Age' 'SibSp']\n",
      " ['1' '0' '3' 'male' '22.0' '1']\n",
      " ['2' '1' '1' 'female' '38.0' '1']\n",
      " ['3' '1' '3' 'female' '26.0' '0']\n",
      " ['4' '1' '1' 'female' '35.0' '1']\n",
      " ['5' '0' '3' 'male' '35.0' '0']\n",
      " ['6' '0' '3' 'male' '' '0']\n",
      " ['7' '0' '1' 'male' '54.0' '0']]\n"
     ]
    },
    {
     "name": "stderr",
     "output_type": "stream",
     "text": [
      "/tmp/ipykernel_26210/922833131.py:25: FutureWarning: Using a non-tuple sequence for multidimensional indexing is deprecated; use `arr[tuple(seq)]` instead of `arr[seq]`. In the future this will be interpreted as an array index, `arr[np.array(seq)]`, which will result either in an error or a different result.\n",
      "  print(file2[['PassengerId', 'Survived', 'Pclass', 'Sex', 'Age']][:8])\n"
     ]
    },
    {
     "ename": "IndexError",
     "evalue": "only integers, slices (`:`), ellipsis (`...`), numpy.newaxis (`None`) and integer or boolean arrays are valid indices",
     "output_type": "error",
     "traceback": [
      "\u001b[0;31m---------------------------------------------------------------------------\u001b[0m",
      "\u001b[0;31mIndexError\u001b[0m                                Traceback (most recent call last)",
      "\u001b[0;32m/tmp/ipykernel_26210/922833131.py\u001b[0m in \u001b[0;36m<module>\u001b[0;34m\u001b[0m\n\u001b[1;32m     23\u001b[0m \u001b[0;31m# Whereas if we change \"names=\" argument equal to \"True\", it supposed to perform just like \"np.genfromtxt()\" BUT\u001b[0m\u001b[0;34m\u001b[0m\u001b[0;34m\u001b[0m\u001b[0;34m\u001b[0m\u001b[0m\n\u001b[1;32m     24\u001b[0m \u001b[0mfile\u001b[0m \u001b[0;34m=\u001b[0m \u001b[0mnp\u001b[0m\u001b[0;34m.\u001b[0m\u001b[0mrecfromcsv\u001b[0m\u001b[0;34m(\u001b[0m\u001b[0mpath\u001b[0m\u001b[0;34m,\u001b[0m \u001b[0mnames\u001b[0m\u001b[0;34m=\u001b[0m\u001b[0;32mTrue\u001b[0m\u001b[0;34m,\u001b[0m \u001b[0mdtype\u001b[0m\u001b[0;34m=\u001b[0m\u001b[0;32mNone\u001b[0m\u001b[0;34m,\u001b[0m \u001b[0mencoding\u001b[0m\u001b[0;34m=\u001b[0m\u001b[0;34m'ascii'\u001b[0m\u001b[0;34m)\u001b[0m\u001b[0;34m\u001b[0m\u001b[0;34m\u001b[0m\u001b[0m\n\u001b[0;32m---> 25\u001b[0;31m \u001b[0mprint\u001b[0m\u001b[0;34m(\u001b[0m\u001b[0mfile2\u001b[0m\u001b[0;34m[\u001b[0m\u001b[0;34m[\u001b[0m\u001b[0;34m'PassengerId'\u001b[0m\u001b[0;34m,\u001b[0m \u001b[0;34m'Survived'\u001b[0m\u001b[0;34m,\u001b[0m \u001b[0;34m'Pclass'\u001b[0m\u001b[0;34m,\u001b[0m \u001b[0;34m'Sex'\u001b[0m\u001b[0;34m,\u001b[0m \u001b[0;34m'Age'\u001b[0m\u001b[0;34m]\u001b[0m\u001b[0;34m]\u001b[0m\u001b[0;34m[\u001b[0m\u001b[0;34m:\u001b[0m\u001b[0;36m8\u001b[0m\u001b[0;34m]\u001b[0m\u001b[0;34m)\u001b[0m\u001b[0;34m\u001b[0m\u001b[0;34m\u001b[0m\u001b[0m\n\u001b[0m",
      "\u001b[0;31mIndexError\u001b[0m: only integers, slices (`:`), ellipsis (`...`), numpy.newaxis (`None`) and integer or boolean arrays are valid indices"
     ]
    }
   ],
   "source": [
    "path = 'titanic_sub.csv'\n",
    "\n",
    "\n",
    "file = np.recfromcsv(path)\n",
    "print(file[:3])\n",
    "\n",
    "\n",
    "print('\\n')\n",
    "print(file[:2][:3])\n",
    "print('\\n')\n",
    "\n",
    "\n",
    "\n",
    "file = np.recfromcsv(path, names=None, dtype=None, encoding='ascii')\n",
    "\n",
    "\n",
    "print(file[:8][:6])\n",
    "print(file[:8, :6])\n",
    "\n",
    "\n",
    "\n",
    "#####################################################################################################################\n",
    "# Whereas if we change \"names=\" argument equal to \"True\", it supposed to perform just like \"np.genfromtxt()\" BUT\n",
    "file = np.recfromcsv(path, names=True, dtype=None, encoding='ascii')\n",
    "print(file2[['PassengerId', 'Survived', 'Pclass', 'Sex', 'Age']][:8])"
   ]
  },
  {
   "cell_type": "code",
   "execution_count": 114,
   "id": "2a3f9f9d-0859-4050-8375-cf77f836fdae",
   "metadata": {},
   "outputs": [
    {
     "name": "stdout",
     "output_type": "stream",
     "text": [
      "Help on function recfromcsv in module numpy.lib.npyio:\n",
      "\n",
      "recfromcsv(fname, **kwargs)\n",
      "    Load ASCII data stored in a comma-separated file.\n",
      "    \n",
      "    The returned array is a record array (if ``usemask=False``, see\n",
      "    `recarray`) or a masked record array (if ``usemask=True``,\n",
      "    see `ma.mrecords.MaskedRecords`).\n",
      "    \n",
      "    Parameters\n",
      "    ----------\n",
      "    fname, kwargs : For a description of input parameters, see `genfromtxt`.\n",
      "    \n",
      "    See Also\n",
      "    --------\n",
      "    numpy.genfromtxt : generic function to load ASCII data.\n",
      "    \n",
      "    Notes\n",
      "    -----\n",
      "    By default, `dtype` is None, which means that the data-type of the output\n",
      "    array will be determined from the data.\n",
      "\n"
     ]
    }
   ],
   "source": [
    "help(np.recfromcsv)"
   ]
  },
  {
   "cell_type": "markdown",
   "id": "be647276-02e7-4f1f-8dea-644cd823d752",
   "metadata": {},
   "source": [
    "## Importing flat files using pandas\n",
    "\n",
    "\n",
    "\n",
    "\n",
    "\n",
    "\n",
    "**You are now suppose to be able to import a bunch of different types of flat files into Python as NumPy arrays.  \n",
    "\n",
    "Although arrays are increadibly powerful and serve a number of essential purposes they cannot fulfill one of most basic needs of a Data Scientist.  --- to have a 2-dimensional labeled data structures with columns of potentially different types that you can easily perform a plethora of Data Sciencey type things on: manipulate, slice reshaped, groupby, join, merge, perform statistics in a missing-value-friendly manner, deal with times series.  \n",
    "\n",
    "The need for such data structure, among other issues, prompted Wes McKinney to develop the Pandas library for Python.  Nothing speaks to the projectof Pandas more than the documentation itself: Python has long been for great for data munging and preparation , but less so for data analysis and modeling.  \n",
    "\n",
    "Pandas' help fill this gap, enabling you to carry out your entire data analysis workflow in Python without having to switch to a more domain specific langurage like R.  The data structure most relevant to the data manipulation and analysis workflow that Pandas offers is the DF, and it is the Pythonic analogue of R's dataframe.  As Hadley Wickham twitted, \"A matris has rows and columns, a data frame has observations and variables\".  \n",
    "\n",
    "Manipulating DFs in Pandas can be useful in all steps of the data scientific method, from exploratory data analysis to data wrangling, preprosessing, building models and visualization.  Here we will see its great utility in importing flat files, even merely (just) in the way that it deals with missing data, comments along with many other issues that plague working data scientists today.  \n",
    "# For all of these reasons, it is now standard and best practice in Data Science to use Pandas to import flat files as DFs.  \n",
    "Later in this coures, we'll see how many other types of data whether they're stored in relational database, hdf5, MATLAB or Excel files, can easilybe be imported as DFs.  \n",
    "\n",
    "# *******************************************************************************************************************\n",
    "To use Pandas we \"import pandas as pd\", then if we wish to import a CSV in the most basic case all we need to do is to call the function \"pd.read_csv()\" ans supply it with a single arg the name of the file.  Having assigned the DF to the variable 'data', we can then check the informations of our data frame, such as \".head\", \".tail()\", \".sample()\", \".info()\", \".describe()\" and many others.  \n",
    "\n",
    "We can also easily convert to the DF to a NumPy array by calling the DF attribute values.  ( remember that Medium post?  The India guy talk about how to boost Pandas calculation by adding \".values\" )\n",
    "\n",
    "\n",
    "\n"
   ]
  },
  {
   "cell_type": "markdown",
   "id": "5ef11880-4d32-49a9-b628-cb30e894214c",
   "metadata": {},
   "source": [
    "## Using pandas to import flat files as DataFrames (1)\n",
    "\n",
    "In the last exercise, you were able to import flat files containing columns with different datatypes as numpy arrays. However, the DataFrame object in pandas is a more appropriate structure in which to store such data and, thankfully, we can easily import files of mixed data types as DataFrames using the pandas functions \"read_csv()\" and \"read_table()\".\n",
    "Instructions\n",
    "100 XP\n",
    "\n",
    "    Import the pandas package using the alias pd.\n",
    "    Read titanic.csv into a DataFrame called df. The file name is already stored in the file object.\n",
    "    In a print() call, view the head of the DataFrame.\n"
   ]
  },
  {
   "cell_type": "code",
   "execution_count": 10,
   "id": "10dab753-7869-4fb3-b9f9-f07d99215c83",
   "metadata": {},
   "outputs": [
    {
     "name": "stdout",
     "output_type": "stream",
     "text": [
      "Index(['PassengerId', 'Survived', 'Pclass', 'Sex', 'Age', 'SibSp', 'Parch',\n",
      "       'Ticket', 'Fare', 'Cabin', 'Embarked'],\n",
      "      dtype='object')\n",
      "   PassengerId  Survived  Pclass     Sex   Age  SibSp  Parch  \\\n",
      "0            1         0       3    male  22.0      1      0   \n",
      "1            2         1       1  female  38.0      1      0   \n",
      "2            3         1       3  female  26.0      0      0   \n",
      "3            4         1       1  female  35.0      1      0   \n",
      "4            5         0       3    male  35.0      0      0   \n",
      "\n",
      "             Ticket     Fare Cabin Embarked  \n",
      "0         A/5 21171   7.2500   NaN        S  \n",
      "1          PC 17599  71.2833   C85        C  \n",
      "2  STON/O2. 3101282   7.9250   NaN        S  \n",
      "3            113803  53.1000  C123        S  \n",
      "4            373450   8.0500   NaN        S  \n",
      "Index(['PassengerId', 'Survived', 'Pclass', 'Sex', 'Age', 'SibSp', 'Parch',\n",
      "       'Ticket', 'Fare', 'Cabin', 'Embarked'],\n",
      "      dtype='object')\n"
     ]
    }
   ],
   "source": [
    "import pandas as pd\n",
    "\n",
    "\n",
    "path = 'titanic_sub.csv'\n",
    "\n",
    "df = pd.read_csv(path)\n",
    "print(df.columns)\n",
    "print(df.head())\n",
    "\n",
    "\n",
    "df2 = pd.read_table(path)\n",
    "print(df.columns)"
   ]
  },
  {
   "cell_type": "markdown",
   "id": "d028328d-3abe-4b6a-8f5d-c0fd4cd2f2f8",
   "metadata": {},
   "source": [
    "## Using pandas to import flat files as DataFrames (2)\n",
    "\n",
    "In the last exercise, you were able to import flat files into a pandas DataFrame. As a bonus, it is then straightforward to retrieve the corresponding numpy array using the attribute values. You'll now have a chance to do this using the MNIST dataset, which is available as digits.csv.\n",
    "Instructions\n",
    "100 XP\n",
    "\n",
    "    Import the first 5 rows of the file into a DataFrame using the function pd.read_csv() and assign the result to data. You'll need to use the arguments \"nrows=\" and \"header=\" (there is no header in this file).\n",
    "    Build a numpy array from the resulting DataFrame in data and assign to data_array.\n",
    "    Execute print(type(data_array)) to print the datatype of data_array.\n"
   ]
  },
  {
   "cell_type": "code",
   "execution_count": 15,
   "id": "b0047ba4-0ed4-4b18-9600-7579c772bbd5",
   "metadata": {},
   "outputs": [
    {
     "name": "stdout",
     "output_type": "stream",
     "text": [
      "(8, 785)\n",
      "   0    1    2    3    4    5    6    7    8    9    ...  775  776  777  778  \\\n",
      "0  1.0  0.0  0.0  0.0  0.0  0.0  0.0  0.0  0.0  0.0  ...  0.0  0.0  0.0  0.0   \n",
      "1  0.0  0.0  0.0  0.0  0.0  0.0  0.0  0.0  0.0  0.0  ...  0.0  0.0  0.0  0.0   \n",
      "2  1.0  0.0  0.0  0.0  0.0  0.0  0.0  0.0  0.0  0.0  ...  0.0  0.0  0.0  0.0   \n",
      "3  4.0  0.0  0.0  0.0  0.0  0.0  0.0  0.0  0.0  0.0  ...  0.0  0.0  0.0  0.0   \n",
      "4  0.0  0.0  0.0  0.0  0.0  0.0  0.0  0.0  0.0  0.0  ...  0.0  0.0  0.0  0.0   \n",
      "5  0.0  0.0  0.0  0.0  0.0  0.0  0.0  0.0  0.0  0.0  ...  0.0  0.0  0.0  0.0   \n",
      "6  7.0  0.0  0.0  0.0  0.0  0.0  0.0  0.0  0.0  0.0  ...  0.0  0.0  0.0  0.0   \n",
      "7  3.0  0.0  0.0  0.0  0.0  0.0  0.0  0.0  0.0  0.0  ...  0.0  0.0  0.0  0.0   \n",
      "\n",
      "   779  780  781  782  783  784  \n",
      "0  0.0  0.0  0.0  0.0  0.0  0.0  \n",
      "1  0.0  0.0  0.0  0.0  0.0  0.0  \n",
      "2  0.0  0.0  0.0  0.0  0.0  0.0  \n",
      "3  0.0  0.0  0.0  0.0  0.0  0.0  \n",
      "4  0.0  0.0  0.0  0.0  0.0  0.0  \n",
      "5  0.0  0.0  0.0  0.0  0.0  0.0  \n",
      "6  0.0  0.0  0.0  0.0  0.0  0.0  \n",
      "7  0.0  0.0  0.0  0.0  0.0  0.0  \n",
      "\n",
      "[8 rows x 785 columns]\n",
      "[[1. 0. 0. ... 0. 0. 0.]\n",
      " [0. 0. 0. ... 0. 0. 0.]\n",
      " [1. 0. 0. ... 0. 0. 0.]\n",
      " ...\n",
      " [0. 0. 0. ... 0. 0. 0.]\n",
      " [7. 0. 0. ... 0. 0. 0.]\n",
      " [3. 0. 0. ... 0. 0. 0.]]\n"
     ]
    }
   ],
   "source": [
    "df = pd.read_csv('mnist_kaggle_some_rows.csv', header=None, nrows=8)  # header=1, \n",
    "print(df.shape)\n",
    "print(df)\n",
    "\n",
    "\n",
    "df_array = df.values\n",
    "print(df_array)"
   ]
  },
  {
   "cell_type": "markdown",
   "id": "709e4c92-eb25-468f-9055-d1ba52fc9831",
   "metadata": {},
   "source": [
    "## Customizing your pandas import\n",
    "\n",
    "# *******************************************************************************************************************\n",
    "The pandas package is also great at dealing with many of the issues you will encounter when importing data as a data scientist, such as comments occurring in flat files, empty lines and missing values. Note that missing values are also commonly referred to as NA or NaN. To wrap up this chapter, you're now going to import a slightly corrupted copy of the Titanic dataset titanic_corrupt.txt, which\n",
    "\n",
    "    contains comments after the character '#'\n",
    "    is tab-delimited.\n",
    "\n",
    "Instructions\n",
    "100 XP\n",
    "\n",
    "# *******************************************************************************************************************\n",
    "#    Complete the \"sep=\" (\"read_csv()\" version of \"delimiter=\" arg), \"comment=\" and \"na_values=\" arguments of \"pd.read_csv()\". the \"comment=\" takes characters that comments occur after in the file, which in this case is '#'. \"na_values=\" takes a list of strings to recognize as NA/NaN, in this case the string 'Nothing'.\n",
    "    Execute the rest of the code to print the head of the resulting DataFrame and plot the histogram of the 'Age' of passengers aboard the Titanic.\n"
   ]
  },
  {
   "cell_type": "code",
   "execution_count": 18,
   "id": "f935f44d-c27b-4afa-9a82-5f31523f214c",
   "metadata": {
    "collapsed": true,
    "jupyter": {
     "outputs_hidden": true
    },
    "tags": []
   },
   "outputs": [
    {
     "name": "stdout",
     "output_type": "stream",
     "text": [
      "Help on function read_table in module pandas.io.parsers.readers:\n",
      "\n",
      "read_table(filepath_or_buffer: 'FilePathOrBuffer', sep=<no_default>, delimiter=None, header='infer', names=<no_default>, index_col=None, usecols=None, squeeze=False, prefix=<no_default>, mangle_dupe_cols=True, dtype: 'DtypeArg | None' = None, engine=None, converters=None, true_values=None, false_values=None, skipinitialspace=False, skiprows=None, skipfooter=0, nrows=None, na_values=None, keep_default_na=True, na_filter=True, verbose=False, skip_blank_lines=True, parse_dates=False, infer_datetime_format=False, keep_date_col=False, date_parser=None, dayfirst=False, cache_dates=True, iterator=False, chunksize=None, compression='infer', thousands=None, decimal: 'str' = '.', lineterminator=None, quotechar='\"', quoting=0, doublequote=True, escapechar=None, comment=None, encoding=None, dialect=None, error_bad_lines=None, warn_bad_lines=None, on_bad_lines=None, encoding_errors: 'str | None' = 'strict', delim_whitespace=False, low_memory=True, memory_map=False, float_precision=None)\n",
      "    Read general delimited file into DataFrame.\n",
      "    \n",
      "    Also supports optionally iterating or breaking of the file\n",
      "    into chunks.\n",
      "    \n",
      "    Additional help can be found in the online docs for\n",
      "    `IO Tools <https://pandas.pydata.org/pandas-docs/stable/user_guide/io.html>`_.\n",
      "    \n",
      "    Parameters\n",
      "    ----------\n",
      "    filepath_or_buffer : str, path object or file-like object\n",
      "        Any valid string path is acceptable. The string could be a URL. Valid\n",
      "        URL schemes include http, ftp, s3, gs, and file. For file URLs, a host is\n",
      "        expected. A local file could be: file://localhost/path/to/table.csv.\n",
      "    \n",
      "        If you want to pass in a path object, pandas accepts any ``os.PathLike``.\n",
      "    \n",
      "        By file-like object, we refer to objects with a ``read()`` method, such as\n",
      "        a file handle (e.g. via builtin ``open`` function) or ``StringIO``.\n",
      "    sep : str, default '\\\\t' (tab-stop)\n",
      "        Delimiter to use. If sep is None, the C engine cannot automatically detect\n",
      "        the separator, but the Python parsing engine can, meaning the latter will\n",
      "        be used and automatically detect the separator by Python's builtin sniffer\n",
      "        tool, ``csv.Sniffer``. In addition, separators longer than 1 character and\n",
      "        different from ``'\\s+'`` will be interpreted as regular expressions and\n",
      "        will also force the use of the Python parsing engine. Note that regex\n",
      "        delimiters are prone to ignoring quoted data. Regex example: ``'\\r\\t'``.\n",
      "    delimiter : str, default ``None``\n",
      "        Alias for sep.\n",
      "    header : int, list of int, default 'infer'\n",
      "        Row number(s) to use as the column names, and the start of the\n",
      "        data.  Default behavior is to infer the column names: if no names\n",
      "        are passed the behavior is identical to ``header=0`` and column\n",
      "        names are inferred from the first line of the file, if column\n",
      "        names are passed explicitly then the behavior is identical to\n",
      "        ``header=None``. Explicitly pass ``header=0`` to be able to\n",
      "        replace existing names. The header can be a list of integers that\n",
      "        specify row locations for a multi-index on the columns\n",
      "        e.g. [0,1,3]. Intervening rows that are not specified will be\n",
      "        skipped (e.g. 2 in this example is skipped). Note that this\n",
      "        parameter ignores commented lines and empty lines if\n",
      "        ``skip_blank_lines=True``, so ``header=0`` denotes the first line of\n",
      "        data rather than the first line of the file.\n",
      "    names : array-like, optional\n",
      "        List of column names to use. If the file contains a header row,\n",
      "        then you should explicitly pass ``header=0`` to override the column names.\n",
      "        Duplicates in this list are not allowed.\n",
      "    index_col : int, str, sequence of int / str, or False, default ``None``\n",
      "      Column(s) to use as the row labels of the ``DataFrame``, either given as\n",
      "      string name or column index. If a sequence of int / str is given, a\n",
      "      MultiIndex is used.\n",
      "    \n",
      "      Note: ``index_col=False`` can be used to force pandas to *not* use the first\n",
      "      column as the index, e.g. when you have a malformed file with delimiters at\n",
      "      the end of each line.\n",
      "    usecols : list-like or callable, optional\n",
      "        Return a subset of the columns. If list-like, all elements must either\n",
      "        be positional (i.e. integer indices into the document columns) or strings\n",
      "        that correspond to column names provided either by the user in `names` or\n",
      "        inferred from the document header row(s). For example, a valid list-like\n",
      "        `usecols` parameter would be ``[0, 1, 2]`` or ``['foo', 'bar', 'baz']``.\n",
      "        Element order is ignored, so ``usecols=[0, 1]`` is the same as ``[1, 0]``.\n",
      "        To instantiate a DataFrame from ``data`` with element order preserved use\n",
      "        ``pd.read_csv(data, usecols=['foo', 'bar'])[['foo', 'bar']]`` for columns\n",
      "        in ``['foo', 'bar']`` order or\n",
      "        ``pd.read_csv(data, usecols=['foo', 'bar'])[['bar', 'foo']]``\n",
      "        for ``['bar', 'foo']`` order.\n",
      "    \n",
      "        If callable, the callable function will be evaluated against the column\n",
      "        names, returning names where the callable function evaluates to True. An\n",
      "        example of a valid callable argument would be ``lambda x: x.upper() in\n",
      "        ['AAA', 'BBB', 'DDD']``. Using this parameter results in much faster\n",
      "        parsing time and lower memory usage.\n",
      "    squeeze : bool, default False\n",
      "        If the parsed data only contains one column then return a Series.\n",
      "    prefix : str, optional\n",
      "        Prefix to add to column numbers when no header, e.g. 'X' for X0, X1, ...\n",
      "    mangle_dupe_cols : bool, default True\n",
      "        Duplicate columns will be specified as 'X', 'X.1', ...'X.N', rather than\n",
      "        'X'...'X'. Passing in False will cause data to be overwritten if there\n",
      "        are duplicate names in the columns.\n",
      "    dtype : Type name or dict of column -> type, optional\n",
      "        Data type for data or columns. E.g. {'a': np.float64, 'b': np.int32,\n",
      "        'c': 'Int64'}\n",
      "        Use `str` or `object` together with suitable `na_values` settings\n",
      "        to preserve and not interpret dtype.\n",
      "        If converters are specified, they will be applied INSTEAD\n",
      "        of dtype conversion.\n",
      "    engine : {'c', 'python'}, optional\n",
      "        Parser engine to use. The C engine is faster while the python engine is\n",
      "        currently more feature-complete.\n",
      "    converters : dict, optional\n",
      "        Dict of functions for converting values in certain columns. Keys can either\n",
      "        be integers or column labels.\n",
      "    true_values : list, optional\n",
      "        Values to consider as True.\n",
      "    false_values : list, optional\n",
      "        Values to consider as False.\n",
      "    skipinitialspace : bool, default False\n",
      "        Skip spaces after delimiter.\n",
      "    skiprows : list-like, int or callable, optional\n",
      "        Line numbers to skip (0-indexed) or number of lines to skip (int)\n",
      "        at the start of the file.\n",
      "    \n",
      "        If callable, the callable function will be evaluated against the row\n",
      "        indices, returning True if the row should be skipped and False otherwise.\n",
      "        An example of a valid callable argument would be ``lambda x: x in [0, 2]``.\n",
      "    skipfooter : int, default 0\n",
      "        Number of lines at bottom of file to skip (Unsupported with engine='c').\n",
      "    nrows : int, optional\n",
      "        Number of rows of file to read. Useful for reading pieces of large files.\n",
      "    na_values : scalar, str, list-like, or dict, optional\n",
      "        Additional strings to recognize as NA/NaN. If dict passed, specific\n",
      "        per-column NA values.  By default the following values are interpreted as\n",
      "        NaN: '', '#N/A', '#N/A N/A', '#NA', '-1.#IND', '-1.#QNAN', '-NaN', '-nan',\n",
      "        '1.#IND', '1.#QNAN', '<NA>', 'N/A', 'NA', 'NULL', 'NaN', 'n/a',\n",
      "        'nan', 'null'.\n",
      "    keep_default_na : bool, default True\n",
      "        Whether or not to include the default NaN values when parsing the data.\n",
      "        Depending on whether `na_values` is passed in, the behavior is as follows:\n",
      "    \n",
      "        * If `keep_default_na` is True, and `na_values` are specified, `na_values`\n",
      "          is appended to the default NaN values used for parsing.\n",
      "        * If `keep_default_na` is True, and `na_values` are not specified, only\n",
      "          the default NaN values are used for parsing.\n",
      "        * If `keep_default_na` is False, and `na_values` are specified, only\n",
      "          the NaN values specified `na_values` are used for parsing.\n",
      "        * If `keep_default_na` is False, and `na_values` are not specified, no\n",
      "          strings will be parsed as NaN.\n",
      "    \n",
      "        Note that if `na_filter` is passed in as False, the `keep_default_na` and\n",
      "        `na_values` parameters will be ignored.\n",
      "    na_filter : bool, default True\n",
      "        Detect missing value markers (empty strings and the value of na_values). In\n",
      "        data without any NAs, passing na_filter=False can improve the performance\n",
      "        of reading a large file.\n",
      "    verbose : bool, default False\n",
      "        Indicate number of NA values placed in non-numeric columns.\n",
      "    skip_blank_lines : bool, default True\n",
      "        If True, skip over blank lines rather than interpreting as NaN values.\n",
      "    parse_dates : bool or list of int or names or list of lists or dict, default False\n",
      "        The behavior is as follows:\n",
      "    \n",
      "        * boolean. If True -> try parsing the index.\n",
      "        * list of int or names. e.g. If [1, 2, 3] -> try parsing columns 1, 2, 3\n",
      "          each as a separate date column.\n",
      "        * list of lists. e.g.  If [[1, 3]] -> combine columns 1 and 3 and parse as\n",
      "          a single date column.\n",
      "        * dict, e.g. {'foo' : [1, 3]} -> parse columns 1, 3 as date and call\n",
      "          result 'foo'\n",
      "    \n",
      "        If a column or index cannot be represented as an array of datetimes,\n",
      "        say because of an unparsable value or a mixture of timezones, the column\n",
      "        or index will be returned unaltered as an object data type. For\n",
      "        non-standard datetime parsing, use ``pd.to_datetime`` after\n",
      "        ``pd.read_csv``. To parse an index or column with a mixture of timezones,\n",
      "        specify ``date_parser`` to be a partially-applied\n",
      "        :func:`pandas.to_datetime` with ``utc=True``. See\n",
      "        :ref:`io.csv.mixed_timezones` for more.\n",
      "    \n",
      "        Note: A fast-path exists for iso8601-formatted dates.\n",
      "    infer_datetime_format : bool, default False\n",
      "        If True and `parse_dates` is enabled, pandas will attempt to infer the\n",
      "        format of the datetime strings in the columns, and if it can be inferred,\n",
      "        switch to a faster method of parsing them. In some cases this can increase\n",
      "        the parsing speed by 5-10x.\n",
      "    keep_date_col : bool, default False\n",
      "        If True and `parse_dates` specifies combining multiple columns then\n",
      "        keep the original columns.\n",
      "    date_parser : function, optional\n",
      "        Function to use for converting a sequence of string columns to an array of\n",
      "        datetime instances. The default uses ``dateutil.parser.parser`` to do the\n",
      "        conversion. Pandas will try to call `date_parser` in three different ways,\n",
      "        advancing to the next if an exception occurs: 1) Pass one or more arrays\n",
      "        (as defined by `parse_dates`) as arguments; 2) concatenate (row-wise) the\n",
      "        string values from the columns defined by `parse_dates` into a single array\n",
      "        and pass that; and 3) call `date_parser` once for each row using one or\n",
      "        more strings (corresponding to the columns defined by `parse_dates`) as\n",
      "        arguments.\n",
      "    dayfirst : bool, default False\n",
      "        DD/MM format dates, international and European format.\n",
      "    cache_dates : bool, default True\n",
      "        If True, use a cache of unique, converted dates to apply the datetime\n",
      "        conversion. May produce significant speed-up when parsing duplicate\n",
      "        date strings, especially ones with timezone offsets.\n",
      "    \n",
      "        .. versionadded:: 0.25.0\n",
      "    iterator : bool, default False\n",
      "        Return TextFileReader object for iteration or getting chunks with\n",
      "        ``get_chunk()``.\n",
      "    \n",
      "        .. versionchanged:: 1.2\n",
      "    \n",
      "           ``TextFileReader`` is a context manager.\n",
      "    chunksize : int, optional\n",
      "        Return TextFileReader object for iteration.\n",
      "        See the `IO Tools docs\n",
      "        <https://pandas.pydata.org/pandas-docs/stable/io.html#io-chunking>`_\n",
      "        for more information on ``iterator`` and ``chunksize``.\n",
      "    \n",
      "        .. versionchanged:: 1.2\n",
      "    \n",
      "           ``TextFileReader`` is a context manager.\n",
      "    compression : {'infer', 'gzip', 'bz2', 'zip', 'xz', None}, default 'infer'\n",
      "        For on-the-fly decompression of on-disk data. If 'infer' and\n",
      "        `filepath_or_buffer` is path-like, then detect compression from the\n",
      "        following extensions: '.gz', '.bz2', '.zip', or '.xz' (otherwise no\n",
      "        decompression). If using 'zip', the ZIP file must contain only one data\n",
      "        file to be read in. Set to None for no decompression.\n",
      "    thousands : str, optional\n",
      "        Thousands separator.\n",
      "    decimal : str, default '.'\n",
      "        Character to recognize as decimal point (e.g. use ',' for European data).\n",
      "    lineterminator : str (length 1), optional\n",
      "        Character to break file into lines. Only valid with C parser.\n",
      "    quotechar : str (length 1), optional\n",
      "        The character used to denote the start and end of a quoted item. Quoted\n",
      "        items can include the delimiter and it will be ignored.\n",
      "    quoting : int or csv.QUOTE_* instance, default 0\n",
      "        Control field quoting behavior per ``csv.QUOTE_*`` constants. Use one of\n",
      "        QUOTE_MINIMAL (0), QUOTE_ALL (1), QUOTE_NONNUMERIC (2) or QUOTE_NONE (3).\n",
      "    doublequote : bool, default ``True``\n",
      "       When quotechar is specified and quoting is not ``QUOTE_NONE``, indicate\n",
      "       whether or not to interpret two consecutive quotechar elements INSIDE a\n",
      "       field as a single ``quotechar`` element.\n",
      "    escapechar : str (length 1), optional\n",
      "        One-character string used to escape other characters.\n",
      "    comment : str, optional\n",
      "        Indicates remainder of line should not be parsed. If found at the beginning\n",
      "        of a line, the line will be ignored altogether. This parameter must be a\n",
      "        single character. Like empty lines (as long as ``skip_blank_lines=True``),\n",
      "        fully commented lines are ignored by the parameter `header` but not by\n",
      "        `skiprows`. For example, if ``comment='#'``, parsing\n",
      "        ``#empty\\na,b,c\\n1,2,3`` with ``header=0`` will result in 'a,b,c' being\n",
      "        treated as the header.\n",
      "    encoding : str, optional\n",
      "        Encoding to use for UTF when reading/writing (ex. 'utf-8'). `List of Python\n",
      "        standard encodings\n",
      "        <https://docs.python.org/3/library/codecs.html#standard-encodings>`_ .\n",
      "    \n",
      "        .. versionchanged:: 1.2\n",
      "    \n",
      "           When ``encoding`` is ``None``, ``errors=\"replace\"`` is passed to\n",
      "           ``open()``. Otherwise, ``errors=\"strict\"`` is passed to ``open()``.\n",
      "           This behavior was previously only the case for ``engine=\"python\"``.\n",
      "    \n",
      "        .. versionchanged:: 1.3.0\n",
      "    \n",
      "           ``encoding_errors`` is a new argument. ``encoding`` has no longer an\n",
      "           influence on how encoding errors are handled.\n",
      "    \n",
      "    encoding_errors : str, optional, default \"strict\"\n",
      "        How encoding errors are treated. `List of possible values\n",
      "        <https://docs.python.org/3/library/codecs.html#error-handlers>`_ .\n",
      "    \n",
      "        .. versionadded:: 1.3.0\n",
      "    \n",
      "    dialect : str or csv.Dialect, optional\n",
      "        If provided, this parameter will override values (default or not) for the\n",
      "        following parameters: `delimiter`, `doublequote`, `escapechar`,\n",
      "        `skipinitialspace`, `quotechar`, and `quoting`. If it is necessary to\n",
      "        override values, a ParserWarning will be issued. See csv.Dialect\n",
      "        documentation for more details.\n",
      "    error_bad_lines : bool, default ``None``\n",
      "        Lines with too many fields (e.g. a csv line with too many commas) will by\n",
      "        default cause an exception to be raised, and no DataFrame will be returned.\n",
      "        If False, then these \"bad lines\" will be dropped from the DataFrame that is\n",
      "        returned.\n",
      "    \n",
      "        .. deprecated:: 1.3.0\n",
      "           The ``on_bad_lines`` parameter should be used instead to specify behavior upon\n",
      "           encountering a bad line instead.\n",
      "    warn_bad_lines : bool, default ``None``\n",
      "        If error_bad_lines is False, and warn_bad_lines is True, a warning for each\n",
      "        \"bad line\" will be output.\n",
      "    \n",
      "        .. deprecated:: 1.3.0\n",
      "           The ``on_bad_lines`` parameter should be used instead to specify behavior upon\n",
      "           encountering a bad line instead.\n",
      "    on_bad_lines : {'error', 'warn', 'skip'}, default 'error'\n",
      "        Specifies what to do upon encountering a bad line (a line with too many fields).\n",
      "        Allowed values are :\n",
      "    \n",
      "            - 'error', raise an Exception when a bad line is encountered.\n",
      "            - 'warn', raise a warning when a bad line is encountered and skip that line.\n",
      "            - 'skip', skip bad lines without raising or warning when they are encountered.\n",
      "    \n",
      "        .. versionadded:: 1.3.0\n",
      "    \n",
      "    delim_whitespace : bool, default False\n",
      "        Specifies whether or not whitespace (e.g. ``' '`` or ``'    '``) will be\n",
      "        used as the sep. Equivalent to setting ``sep='\\s+'``. If this option\n",
      "        is set to True, nothing should be passed in for the ``delimiter``\n",
      "        parameter.\n",
      "    low_memory : bool, default True\n",
      "        Internally process the file in chunks, resulting in lower memory use\n",
      "        while parsing, but possibly mixed type inference.  To ensure no mixed\n",
      "        types either set False, or specify the type with the `dtype` parameter.\n",
      "        Note that the entire file is read into a single DataFrame regardless,\n",
      "        use the `chunksize` or `iterator` parameter to return the data in chunks.\n",
      "        (Only valid with C parser).\n",
      "    memory_map : bool, default False\n",
      "        If a filepath is provided for `filepath_or_buffer`, map the file object\n",
      "        directly onto memory and access the data directly from there. Using this\n",
      "        option can improve performance because there is no longer any I/O overhead.\n",
      "    float_precision : str, optional\n",
      "        Specifies which converter the C engine should use for floating-point\n",
      "        values. The options are ``None`` or 'high' for the ordinary converter,\n",
      "        'legacy' for the original lower precision pandas converter, and\n",
      "        'round_trip' for the round-trip converter.\n",
      "    \n",
      "        .. versionchanged:: 1.2\n",
      "    \n",
      "    storage_options : dict, optional\n",
      "        Extra options that make sense for a particular storage connection, e.g.\n",
      "        host, port, username, password, etc. For HTTP(S) URLs the key-value pairs\n",
      "        are forwarded to ``urllib`` as header options. For other URLs (e.g.\n",
      "        starting with \"s3://\", and \"gcs://\") the key-value pairs are forwarded to\n",
      "        ``fsspec``. Please see ``fsspec`` and ``urllib`` for more details.\n",
      "    \n",
      "        .. versionadded:: 1.2\n",
      "    \n",
      "    Returns\n",
      "    -------\n",
      "    DataFrame or TextParser\n",
      "        A comma-separated values (csv) file is returned as two-dimensional\n",
      "        data structure with labeled axes.\n",
      "    \n",
      "    See Also\n",
      "    --------\n",
      "    DataFrame.to_csv : Write DataFrame to a comma-separated values (csv) file.\n",
      "    read_csv : Read a comma-separated values (csv) file into DataFrame.\n",
      "    read_fwf : Read a table of fixed-width formatted lines into DataFrame.\n",
      "    \n",
      "    Examples\n",
      "    --------\n",
      "    >>> pd.read_table('data.csv')  # doctest: +SKIP\n",
      "\n"
     ]
    }
   ],
   "source": [
    "help(pd.read_table)"
   ]
  },
  {
   "cell_type": "code",
   "execution_count": null,
   "id": "a23f8743-57d5-4cbc-9f37-0bdb9cf93acd",
   "metadata": {},
   "outputs": [],
   "source": [
    "# Import matplotlib.pyplot as plt\n",
    "import matplotlib.pyplot as plt\n",
    "\n",
    "# Assign filename: file\n",
    "file = 'titanic_corrupt.txt'\n",
    "\n",
    "# Import file: data\n",
    "data = pd.read_csv(file, sep=____, comment=____, na_values=____)\n",
    "\n",
    "# Print the head of the DataFrame\n",
    "print(data.head())\n",
    "\n",
    "# Plot 'Age' variable in a histogram\n",
    "pd.DataFrame.hist(data[['Age']])\n",
    "plt.xlabel('Age (years)')\n",
    "plt.ylabel('count')\n",
    "plt.show()\n"
   ]
  },
  {
   "cell_type": "code",
   "execution_count": 40,
   "id": "2d1fa0e5-14ad-414d-8662-bc842fc02bd7",
   "metadata": {},
   "outputs": [
    {
     "name": "stdout",
     "output_type": "stream",
     "text": [
      "(891, 11)\n",
      "Index(['PassengerId', 'Survived', 'Pclass', 'Sex', 'Age', 'SibSp', 'Parch',\n",
      "       'Ticket', 'Fare', 'Cabin', 'Embarked'],\n",
      "      dtype='object')\n",
      "   PassengerId  Survived   Pclass     Sex   Age  SibSp  Parch  \\\n",
      "0            1         0  Nothing    male  22.0      1      0   \n",
      "1            2         1  Nothing  female  38.0      1      0   \n",
      "2            3         1        3  female  26.0      0      0   \n",
      "3            4         1        1  female  35.0      1      0   \n",
      "4            5         0        3    male  35.0      0      0   \n",
      "\n",
      "             Ticket     Fare Cabin Embarked  \n",
      "0         A/5 21171   7.2500   NaN        S  \n",
      "1          PC 17599  71.2833   C85        C  \n",
      "2  STON/O2. 3101282   7.9250   NaN        S  \n",
      "3            113803  53.1000  C123        S  \n",
      "4            373450   8.0500   NaN        S  \n",
      "(891, 11)\n",
      "Index(['PassengerId', 'Survived', 'Pclass', 'Sex', 'Age', 'SibSp', 'Parch',\n",
      "       'Ticket', 'Fare', 'Cabin', 'Embarked'],\n",
      "      dtype='object')\n",
      "   PassengerId  Survived   Pclass     Sex   Age  SibSp  Parch  \\\n",
      "0            1         0  Nothing    male  22.0      1      0   \n",
      "1            2         1  Nothing  female  38.0      1      0   \n",
      "2            3         1        3  female  26.0      0      0   \n",
      "3            4         1        1  female  35.0      1      0   \n",
      "4            5         0        3    male  35.0      0      0   \n",
      "\n",
      "             Ticket     Fare Cabin Embarked  \n",
      "0         A/5 21171   7.2500   NaN        S  \n",
      "1          PC 17599  71.2833   C85        C  \n",
      "2  STON/O2. 3101282   7.9250   NaN        S  \n",
      "3            113803  53.1000  C123        S  \n",
      "4            373450   8.0500   NaN        S  \n"
     ]
    },
    {
     "data": {
      "image/png": "[encoded data removed]",
      "text/plain": [
       "<Figure size 432x288 with 1 Axes>"
      ]
     },
     "metadata": {
      "needs_background": "light"
     },
     "output_type": "display_data"
    },
    {
     "data": {
      "image/png": "[encoded data removed]",
      "text/plain": [
       "<Figure size 432x288 with 1 Axes>"
      ]
     },
     "metadata": {
      "needs_background": "light"
     },
     "output_type": "display_data"
    },
    {
     "data": {
      "image/png": "[encoded data removed]",
      "text/plain": [
       "<Figure size 432x288 with 1 Axes>"
      ]
     },
     "metadata": {
      "needs_background": "light"
     },
     "output_type": "display_data"
    }
   ],
   "source": [
    "path = 'titanic_corrupt.txt'\n",
    "\n",
    "\n",
    "#####################################################################################################################\n",
    "df = pd.read_table(path, delimiter=',', comment='#')  # , skiprows=1\n",
    "print(df.shape)\n",
    "print(df.columns)\n",
    "print(df.head())\n",
    "\n",
    "\n",
    "\n",
    "df2 = pd.read_csv(path, comment='#')\n",
    "print(df2.shape)\n",
    "print(df2.columns)\n",
    "print(df2.head())\n",
    "\n",
    "\n",
    "\n",
    "import matplotlib.pyplot as plt\n",
    "import seaborn as sns\n",
    "\n",
    "df['Age'].plot.hist()\n",
    "plt.show()\n",
    "\n",
    "df['Age'].hist(bins=20)\n",
    "plt.show()\n",
    "\n",
    "\n",
    "pd.DataFrame.hist(df[['Age']])  #####################################################################################\n",
    "plt.xlabel('Age (years)')\n",
    "plt.ylabel('count')\n",
    "plt.show()"
   ]
  },
  {
   "cell_type": "markdown",
   "id": "b6be6af5-1789-4560-9c48-22eb66ca4941",
   "metadata": {},
   "source": [
    "## Final thoughts on data import\n",
    "\n",
    "\n",
    "\n",
    "\n",
    "\n",
    "**We have seen a number of ways to read, print and import flat files.  As a Data Scientist, you will most often wish to use Pandas, however it was important check out all the possible ways to import because you never know when they will be useful.  In the next chapter, we'll see just how useful Pandas can be when attempting to import a varity of other file types, such as Excel spreadsheets, along with native SAS & Stata files.  \n",
    "\n",
    "It is also important to remember to that, due to the active development community in open source software, there is constant activity in file formats and ways to import data: for example on March 29 2016, Wes McKinney, the creator of Pandas, and Hadley Wickham, of R development fame, announced a new and fast on-disk format for dataframes for R and Python, called feather.  As dataframes are one of the most important data structures for Data Scientists, lets definitely keep our eyes on feather.  \n",
    "\n",
    "\n",
    "# After learning to import many other file types in the next chapter, you'll learn how to interact with relational databases in Python.  Then, in the second part to this course, you'll learn how to tear all types of data down from the web and how to interact with APIs to fulfill your big data fix.  These are all essential techniques for the modern day Data Scientist to master, and the upcomming chapters and course will place you in good stead to becoming an Importing Data Ninja Pythonista.  \n",
    "\n"
   ]
  },
  {
   "cell_type": "markdown",
   "id": "42a76c1b-acd0-4068-b428-1bc981acfcd1",
   "metadata": {},
   "source": [
    "## Introduction to other file types\n",
    "\n",
    "\n",
    "\n",
    "\n",
    "**Now that you have mastered the art of importing flat files in Python, it is time to check out a number of other file types that you will find yourself needing to work with as a Data Scientist.  In this chapter, you will learn how to import Excel spreadsheets, which professionals from all disciplines use to store their data.  You will also gain familiarity with importing MATLAB, SAS and Stata files, all of which are common place.  You will also learn how to import HDF5 files and you'll actually import an HDF5 file containing data from the Laster Interferomester Gravitational-Wave Observatory project that provide empirical support for Einstein's Theory of Gravitational Waves in 2016.  \n",
    "\n",
    "HDF5 files are becoming a more prevalent way to store large datasets, as demonstrated by the fact that the LIGO researchesuse it to store their data.  Another file type you'll learn about in this chapter is that of a \"pickled\" file.  This is a file type native to Python.  The concept of pickling a file in motivated by the following: while it may be easy to save a NumPy array or a Pandas DF to a flat file, there are many other data types, such as dictionaries and lists, for which isn't obvious how to store them.  \"Pickle\" is the rescure.  \n",
    "\n",
    "If you want your files to be human readable, you may want to save them as text files in a clever manner (JSONs which you will see in a later chapter, are appropriate for Python dictionaries for example).  If however, you merely want to be able to import them into Python, you can serialize them - Pickling them.  All this means in converting the object into a sequence of bytes, or bytestream.  As this is a course in importing data in Python, you'll learn how to import files that have already been Pickled.  \n",
    "\n",
    "As before, when opening such a file, you'll want to specify that it is read only; you'll also want to specify that it is a binary file, meaning that it is computer-readable nd not human-readable.  To specify both read only and binary, you'll want pass the string 'rb' as the second argument of \"open()\" function.  \n",
    "\n",
    "You'll then dive head-first into Excel spreadsheets, the use of which is so widespread that they need next to no introduction at all.  An Excel file generally consists of a number of sheets.  There are meny ways to import Exel files and you'll use Pandas to do so because it produces DFs natively, whcih is great for you practiceas a Data Scientist.  \n",
    "\n",
    "As you can see in this example, you can use the functionn \"pd.ExcelFile()\" to assign an Excel file to a variable data.  As an Excel file consists of sheets, the first thing to do is figure out what the sheets are.  This is straightforwardwith the command \"df.sheet_names\".  To then load a particular sheet as a dataframe, you need only apply the method \"df.parse()\" to the object data with a single argument, which is either the name as a string or the index as a float of the sheet you wish to load: Pandas is clover enough to know if you're telling it the sheet name or the index.  \n",
    "\n",
    "You'll also learn how to customize your spreadsheet import in order to skip rows, how to import only certain columns and how to change the column names.  \n",
    "\n",
    "\n"
   ]
  },
  {
   "cell_type": "code",
   "execution_count": null,
   "id": "25a2b229-90f8-4c50-bdaf-4c5c81674a84",
   "metadata": {},
   "outputs": [],
   "source": [
    "import pickle\n",
    "\n",
    "\n",
    "with open('pickled_fruit.pkl', 'rb') as file:\n",
    "    data = pickle.load(file)\n",
    "    \n",
    "print(data)\n",
    "\n",
    "#{'peaches',: 13, 'apples': 4, 'oranges': 11}\n",
    "\n",
    "\n",
    "\n",
    "exc_df = pd.ExcelFile('en_US.xlsx')\n",
    "\n",
    "print(exc_df.sheet_names)\n",
    "\n",
    "#['1960-1966', '1967-1974', '1975-2011']\n",
    "\n",
    "\n",
    "\n",
    "#####################################################################################################################\n",
    "df1 = exc_df.parse('1960-1966')  #sheet name, as a string\n",
    "\n",
    "df2 = exc_df.parse(1)  #sheet index, as a float\n"
   ]
  },
  {
   "cell_type": "code",
   "execution_count": 45,
   "id": "35f9bfe2-dd67-4777-a21d-2c993c99f640",
   "metadata": {},
   "outputs": [
    {
     "name": "stdout",
     "output_type": "stream",
     "text": [
      "[{'hello': 'world', 'peaches': 13, 'apples': 4, 'oranges': 11}, 1, 2, 3, 4, (1, 'John', 12.3)]\n",
      "True\n"
     ]
    }
   ],
   "source": [
    "import pickle #credits to stack overflow user= blender\n",
    "\n",
    "\n",
    "a = {'hello': 'world', 'peaches': 13, 'apples': 4, 'oranges': 11}\n",
    "\n",
    "a = [{'hello': 'world', 'peaches': 13, 'apples': 4, 'oranges': 11}, 1, 2, 3, 4, (1, 'John', 12.3)]\n",
    "\n",
    "\n",
    "with open('pickled_fruit.pkl', 'wb') as handle:\n",
    "    pickle.dump(a, handle, protocol=pickle.HIGHEST_PROTOCOL)\n",
    "\n",
    "    \n",
    "with open('pickled_fruit.pkl', 'rb') as handle:\n",
    "    b = pickle.load(handle)\n",
    "\n",
    "print(b)\n",
    "\n",
    "print (a == b)"
   ]
  },
  {
   "cell_type": "code",
   "execution_count": 46,
   "id": "cd918593-97a3-436c-b18c-23ae5aeb35c8",
   "metadata": {},
   "outputs": [
    {
     "name": "stdout",
     "output_type": "stream",
     "text": [
      "Help on built-in function dump in module _pickle:\n",
      "\n",
      "dump(obj, file, protocol=None, *, fix_imports=True, buffer_callback=None)\n",
      "    Write a pickled representation of obj to the open file object file.\n",
      "    \n",
      "    This is equivalent to ``Pickler(file, protocol).dump(obj)``, but may\n",
      "    be more efficient.\n",
      "    \n",
      "    The optional *protocol* argument tells the pickler to use the given\n",
      "    protocol; supported protocols are 0, 1, 2, 3, 4 and 5.  The default\n",
      "    protocol is 4. It was introduced in Python 3.4, and is incompatible\n",
      "    with previous versions.\n",
      "    \n",
      "    Specifying a negative protocol version selects the highest protocol\n",
      "    version supported.  The higher the protocol used, the more recent the\n",
      "    version of Python needed to read the pickle produced.\n",
      "    \n",
      "    The *file* argument must have a write() method that accepts a single\n",
      "    bytes argument.  It can thus be a file object opened for binary\n",
      "    writing, an io.BytesIO instance, or any other custom object that meets\n",
      "    this interface.\n",
      "    \n",
      "    If *fix_imports* is True and protocol is less than 3, pickle will try\n",
      "    to map the new Python 3 names to the old module names used in Python\n",
      "    2, so that the pickle data stream is readable with Python 2.\n",
      "    \n",
      "    If *buffer_callback* is None (the default), buffer views are serialized\n",
      "    into *file* as part of the pickle stream.  It is an error if\n",
      "    *buffer_callback* is not None and *protocol* is None or smaller than 5.\n",
      "\n"
     ]
    }
   ],
   "source": [
    "help(pickle.dump)"
   ]
  },
  {
   "cell_type": "markdown",
   "id": "60de226e-bafa-4721-98ca-ea1b511a9fa0",
   "metadata": {},
   "source": [
    "## Not so flat any more\n",
    "\n",
    "In Chapter 1, you learned how to use the IPython magic command ! ls to explore your current working directory. You can also do this natively in Python using the library os, which consists of miscellaneous operating system interfaces.\n",
    "\n",
    "The first line of the following code imports the library os, the second line stores the name of the current directory in a string called wd and the third outputs the contents of the directory in a list to the shell.\n",
    "\n",
    "import os\n",
    "wd = os.getcwd()\n",
    "os.listdir(wd)\n",
    "\n",
    "Run this code in the IPython shell and answer the following questions. Ignore the files that begin with ..\n",
    "\n",
    "Check out the contents of your current directory and answer the following questions: (1) which file is in your directory and NOT an example of a flat file; (2) why is it not a flat file?\n",
    "Instructions\n",
    "50 XP\n",
    "Possible Answers\n",
    "\n",
    "#    database.db is not a flat file because relational databases contain structured relationships and flat files do not.\n",
    "    battledeath.xlsx is not a flat because it is a spreadsheet consisting of many sheets, not a single table.\n",
    "    titanic.txt is not a flat file because it is a .txt, not a .csv."
   ]
  },
  {
   "cell_type": "code",
   "execution_count": 49,
   "id": "d08d942a-0a1b-43c4-8428-aa630a804a0f",
   "metadata": {},
   "outputs": [
    {
     "name": "stdout",
     "output_type": "stream",
     "text": [
      "/home/jhu/.virtual_environments\n"
     ]
    },
    {
     "data": {
      "text/plain": [
       "['bmi_lists.py', 'insurance_premiums.csv', 'nyc-wi-fi-hotspot-locations.csv']"
      ]
     },
     "execution_count": 49,
     "metadata": {},
     "output_type": "execute_result"
    }
   ],
   "source": [
    "import os\n",
    "\n",
    "\n",
    "\n",
    "wd = os.getcwd()\n",
    "\n",
    "print(wd)\n",
    "\n",
    "os.listdir(wd)[:3]"
   ]
  },
  {
   "cell_type": "markdown",
   "id": "08c6bb89-0130-43f9-a47d-816f92cca964",
   "metadata": {},
   "source": [
    "## Loading a pickled file\n",
    "\n",
    "There are a number of datatypes that cannot be saved easily to flat files, such as lists and dictionaries. If you want your files to be human readable, you may want to save them as text files in a clever manner. JSONs, which you will see in a later chapter, are appropriate for Python dictionaries.\n",
    "\n",
    "However, if you merely want to be able to import them into Python, you can serialize them. All this means is converting the object into a sequence of bytes, or a bytestream.\n",
    "\n",
    "In this exercise, you'll import the pickle package, open a previously pickled data structure from a file and load it.\n",
    "Instructions\n",
    "100 XP\n",
    "\n",
    "    Import the \"pickle\" package.\n",
    "    Complete the second argument of \"open()\" so that it is read only for a binary file. This argument will be a string of two letters, one signifying 'read only', the other 'binary'.\n",
    "    Pass the correct argument to pickle.load(); it should use the variable that is bound to open.\n",
    "    Print the data, d.\n",
    "    Print the datatype of d; take your mind back to your previous use of the function type().\n"
   ]
  },
  {
   "cell_type": "code",
   "execution_count": 2,
   "id": "b9437b10-9775-4a47-bdd6-33470f7f11a6",
   "metadata": {},
   "outputs": [
    {
     "name": "stdout",
     "output_type": "stream",
     "text": [
      "[{'hello': 'world', 'peaches': 13, 'apples': 4, 'oranges': 11}, 1, 2, 3, 4, (1, 'John', 12.3)]\n",
      "<class 'list'>\n"
     ]
    }
   ],
   "source": [
    "import pickle\n",
    "\n",
    "\n",
    "with open('pickled_fruit.pkl', 'rb') as file:\n",
    "    data = pickle.load(file)\n",
    "    \n",
    "    \n",
    "print(data)\n",
    "print(type(data))"
   ]
  },
  {
   "cell_type": "markdown",
   "id": "11765087-25b5-496c-acc6-ba3a65c8e6da",
   "metadata": {},
   "source": [
    "## Listing sheets in Excel files\n",
    "\n",
    "Whether you like it or not, any working data scientist will need to deal with Excel spreadsheets at some point in time. You won't always want to do so in Excel, however!\n",
    "\n",
    "Here, you'll learn how to use pandas to import Excel spreadsheets and how to list the names of the sheets in any loaded .xlsx file.\n",
    "\n",
    "Recall from the video that, given an Excel file imported into a variable spreadsheet, you can retrieve a list of the sheet names using the attribute \"spreadsheet.sheet_names\".\n",
    "\n",
    "Specifically, you'll be loading and checking out the spreadsheet 'battledeath.xlsx', modified from the Peace Research Institute Oslo's (PRIO) dataset. This data contains age-adjusted mortality rates due to war in various countries over several years.\n",
    "Instructions\n",
    "100 XP\n",
    "\n",
    "    Assign the spreadsheet filename (provided above) to the variable file.\n",
    "    Pass the correct argument to pd.ExcelFile() to load the file using pandas, assigning the result to the variable xls.\n",
    "    Print the sheetnames of the Excel spreadsheet by passing the necessary argument to the print() function.\n"
   ]
  },
  {
   "cell_type": "code",
   "execution_count": 13,
   "id": "46f6e64a-87f0-4bde-8d0c-92876768129a",
   "metadata": {},
   "outputs": [
    {
     "name": "stdout",
     "output_type": "stream",
     "text": [
      "['2002', '2004']\n",
      "  War, age-adjusted mortality due to       2002\n",
      "0                        Afghanistan  36.083990\n",
      "1                            Albania   0.128908\n",
      "2                            Algeria  18.314120\n",
      "3                            Andorra   0.000000\n",
      "4                             Angola  18.964560\n",
      "(192, 2)\n"
     ]
    }
   ],
   "source": [
    "import pandas as pd\n",
    "\n",
    "\n",
    "file = pd.ExcelFile('battledeath.xlsx')\n",
    "\n",
    "print(file.sheet_names) #############################################################################################\n",
    "\n",
    "\n",
    "\n",
    "file_2002_df = file.parse(0)\n",
    "print(file_2002_df.head())\n",
    "\n",
    "print(file_2002_df.shape)\n",
    "\n",
    "\n",
    "file.close()"
   ]
  },
  {
   "cell_type": "markdown",
   "id": "3dc42754-6e36-4ed0-8b9a-e7fef8ab2c6f",
   "metadata": {},
   "source": [
    "## Importing sheets from Excel files\n",
    "\n",
    "In the previous exercises, you saw that the Excel file contains two sheets, '2002' and '2004'. The next step is to import these.\n",
    "\n",
    "In this exercise, you'll learn how to import any given sheet of your loaded .xlsx file as a DataFrame. You'll be able to do so by specifying either the sheet's name or its index.\n",
    "\n",
    "The spreadsheet 'battledeath.xlsx' is already loaded as xls.\n",
    "Instructions\n",
    "100 XP\n",
    "\n",
    "    Load the sheet '2004' into the DataFrame df1 using its name as a string.\n",
    "    Print the head of df1 to the shell.\n",
    "    Load the sheet 2002 into the DataFrame df2 using its index (0).\n",
    "    Print the head of df2 to the shell.\n"
   ]
  },
  {
   "cell_type": "code",
   "execution_count": 12,
   "id": "91efce40-bdf4-45ec-823b-915ed412d614",
   "metadata": {},
   "outputs": [
    {
     "name": "stdout",
     "output_type": "stream",
     "text": [
      "  War(country)      2004\n",
      "0  Afghanistan  9.451028\n",
      "1      Albania  0.130354\n",
      "2      Algeria  3.407277\n",
      "3      Andorra  0.000000\n",
      "4       Angola  2.597931\n",
      "  War(country)      2004\n",
      "0  Afghanistan  9.451028\n",
      "1      Albania  0.130354\n",
      "2      Algeria  3.407277\n",
      "3      Andorra  0.000000\n",
      "4       Angola  2.597931\n"
     ]
    }
   ],
   "source": [
    "df1 = file.parse('2004')\n",
    "\n",
    "print(df1.head())\n",
    "\n",
    "\n",
    "df2 = file.parse(1)\n",
    "print(df2.head())"
   ]
  },
  {
   "cell_type": "markdown",
   "id": "6256112c-3038-4cee-a8c9-e088ebdf68fc",
   "metadata": {},
   "source": [
    "## Customizing your spreadsheet import\n",
    "\n",
    "Here, you'll parse your spreadsheets and use additional arguments to skip rows, rename columns and select only particular columns.\n",
    "\n",
    "The spreadsheet 'battledeath.xlsx' is already loaded as xls.\n",
    "\n",
    "# As before, you'll use the method \"parse()\". This time, however, you'll add the additional arguments skiprows, names and usecols. These skip rows, name the columns and designate which columns to parse, respectively. All these arguments can be assigned to lists containing the specific row numbers, strings and column numbers, as appropriate.\n",
    "Instructions\n",
    "100 XP\n",
    "\n",
    "#    Parse the first sheet by index. In doing so, skip the first row of data and name the columns 'Country' and 'AAM due to War (2002)' using the argument names. The values passed to skiprows and names all need to be of type list.\n",
    "#    Parse the second sheet by index. In doing so, parse only the first column with the usecols parameter, skip the first row and rename the column 'Country'. The argument passed to usecols also needs to be of type list.\n"
   ]
  },
  {
   "cell_type": "code",
   "execution_count": 29,
   "id": "2d877ac5-6326-4ecb-9766-60bbb52eb5de",
   "metadata": {},
   "outputs": [],
   "source": [
    "#help(pd.ExcelFile)"
   ]
  },
  {
   "cell_type": "code",
   "execution_count": 28,
   "id": "7f5f6260-aecf-42af-a707-358b7a1242dc",
   "metadata": {},
   "outputs": [
    {
     "name": "stdout",
     "output_type": "stream",
     "text": [
      "['2002', '2004']\n",
      "       Country  AAM due to War(2002)\n",
      "0  Afghanistan             36.083990\n",
      "1      Albania              0.128908\n",
      "2      Algeria             18.314120\n",
      "3      Andorra              0.000000\n",
      "4       Angola             18.964560\n"
     ]
    }
   ],
   "source": [
    "with open('battledeath.xlsx', 'rb') as file:\n",
    "    data = pd.ExcelFile(file)\n",
    "    df1 = data.parse(0, skiprows=0, names=['Country', 'AAM due to War(2002)'])  #####################################\n",
    "    df2 = data.parse(1)     # The word 'parse' mean teardown\n",
    "    \n",
    "    \n",
    "print(data.sheet_names)\n",
    "\n",
    "\n",
    "#df1 = data.parse(0)   # ValueError: seek of closed file\n",
    "print(df1.head())"
   ]
  },
  {
   "cell_type": "code",
   "execution_count": null,
   "id": "33b117fb-79f9-4774-a168-d765c0da43ed",
   "metadata": {},
   "outputs": [],
   "source": [
    "# Parse the first sheet and rename the columns: df1\n",
    "df1 = xls.parse(____, skiprows=____, names=____)\n",
    "\n",
    "# Print the head of the DataFrame df1\n",
    "print(df1.head())\n",
    "\n",
    "# Parse the first column of the second sheet and rename the column: df2\n",
    "df2 = xls.parse(____, usecols=____, skiprows=____, names=____)\n",
    "\n",
    "# Print the head of the DataFrame df2\n",
    "print(df2.head())\n"
   ]
  },
  {
   "cell_type": "markdown",
   "id": "9e0af8c1-a305-4a31-8143-72e1b685d0d3",
   "metadata": {},
   "source": [
    "## Importing SAS/Stata files using pandas\n",
    "\n",
    "\n",
    "\n",
    "\n",
    "\n",
    "\n",
    "**There are many statistical software packages out there and, although you may not need to do so all the time, it will be important for you, as a working Data Scientist, to be able to import these files into your Python environment.  \n",
    "\n",
    "The most common examples are SAS, which is an acronym for Statistical Analysis System, and Stata, which is a constraction of Statistics and Data.  The formeris used in great deal in business analytics and biostatistics, while the later is popular in academic social sciences research such as economics and epidemiology.  \n",
    "\n",
    "\n",
    "# with SAS7BDAT('XXXXX.sas7bdat') as file: df = file.to_data_frame()\n",
    "# *******************************************************************************************************************\n",
    "SAS files re important because SAS is a software suite that performs advanced analytics, multivariate analysis, business intelligence, data management, predictive analyticsand is a standard for statisticans to do computational analysis.  The most common SAS file have the extension \".sas7bdat\" and \".sas7bcat\", which are dataset files  and catalog files respectively.  You'll learn how to import former as dataframes using the function \"SAS7BDAT()\" from the package \"sas7bdat\".  \n",
    "\n",
    "In below case, you can bind the variable file to a connection to our .sas7bat file in a context manager.  Within this context, you can assign to a variable - df_sas the result of applying method \".to_data_frame()\" to the file.  \n",
    "\n",
    "\n",
    "# \"pd.read_stata()\"\n",
    "# *******************************************************************************************************************\n",
    "Stata files have extension \".dta\" and we can import them using just Pandas.  We don't even need to initialize a context manager in this case.  We merely pass the filename to the function \"pd.read_stata()\" and assign it to a variable, just like we did below.  \n",
    "\n",
    "\n",
    "In the following exercises, you'll gain invaluable experience as importing these important files formats in Python as Pandas DFs and then seeing what was inside them.   \n",
    "\n",
    "\n"
   ]
  },
  {
   "cell_type": "code",
   "execution_count": 34,
   "id": "6e7efc62-f0db-4703-acba-dcad27359f0b",
   "metadata": {},
   "outputs": [
    {
     "name": "stdout",
     "output_type": "stream",
     "text": [
      "(36, 3)\n",
      "     YEAR     P           S\n",
      "0  1950.0  12.9  181.899994\n",
      "1  1951.0  11.9  245.000000\n",
      "2  1952.0  10.7  250.199997\n",
      "3  1953.0  11.3  265.899994\n",
      "4  1954.0  11.2  248.500000\n",
      "(164, 27)\n",
      "  wbcode               country  disa1  disa2  disa3  disa4  disa5  disa6  \\\n",
      "0    AFG           Afghanistan   0.00   0.00   0.76   0.73    0.0   0.00   \n",
      "1    AGO                Angola   0.32   0.02   0.56   0.00    0.0   0.00   \n",
      "2    ALB               Albania   0.00   0.00   0.02   0.00    0.0   0.00   \n",
      "3    ARE  United Arab Emirates   0.00   0.00   0.00   0.00    0.0   0.00   \n",
      "4    ARG             Argentina   0.00   0.24   0.24   0.00    0.0   0.23   \n",
      "\n",
      "   disa7  disa8  ...  disa16  disa17  disa18  disa19  disa20  disa21  disa22  \\\n",
      "0   0.00    0.0  ...     0.0     0.0     0.0    0.00    0.00     0.0    0.00   \n",
      "1   0.56    0.0  ...     0.0     0.4     0.0    0.61    0.00     0.0    0.99   \n",
      "2   0.00    0.0  ...     0.0     0.0     0.0    0.00    0.00     0.0    0.00   \n",
      "3   0.00    0.0  ...     0.0     0.0     0.0    0.00    0.00     0.0    0.00   \n",
      "4   0.00    0.0  ...     0.0     0.0     0.0    0.00    0.05     0.0    0.00   \n",
      "\n",
      "   disa23  disa24  disa25  \n",
      "0    0.02    0.00    0.00  \n",
      "1    0.98    0.61    0.00  \n",
      "2    0.00    0.00    0.16  \n",
      "3    0.00    0.00    0.00  \n",
      "4    0.01    0.00    0.11  \n",
      "\n",
      "[5 rows x 27 columns]\n"
     ]
    }
   ],
   "source": [
    "import pandas as pd\n",
    "from sas7bdat import SAS7BDAT\n",
    "\n",
    "\n",
    "with SAS7BDAT('sales.sas7bdat') as file:\n",
    "    df_sas = file.to_data_frame()\n",
    "    \n",
    "\n",
    "print(df_sas.shape)\n",
    "print(df_sas.head())\n",
    "\n",
    "\n",
    "\n",
    "\n",
    "stata_df = pd.read_stata('disarea.dta')\n",
    "print(stata_df.shape)\n",
    "print(stata_df.head())"
   ]
  },
  {
   "cell_type": "markdown",
   "id": "ffbddd8d-d7c7-4f92-9a01-108f258da233",
   "metadata": {},
   "source": [
    "## How to import SAS7BDAT\n",
    "\n",
    "How do you correctly import the function SAS7BDAT() from the package sas7bdat?\n",
    "Answer the question\n",
    "50XP\n",
    "Possible Answers\n",
    "\n",
    "#    import SAS7BDAT from sas7bdat\n",
    "    1\n",
    "    from SAS7BDAT import sas7bdat\n",
    "    2\n",
    "    import sas7bdat from SAS7BDAT\n",
    "    3\n",
    "    from sas7bdat import SAS7BDAT\n",
    "    4"
   ]
  },
  {
   "cell_type": "markdown",
   "id": "ee4a2f53-d964-4f56-8a67-471833f107ac",
   "metadata": {},
   "source": [
    "## Importing SAS files\n",
    "\n",
    "In this exercise, you'll figure out how to import a SAS file as a DataFrame using \"SAS7BDAT()\" function and pandas. The file 'sales.sas7bdat' is already in your working directory and both pandas and matplotlib.pyplot have already been imported as follows:\n",
    "\n",
    "import pandas as pd\n",
    "import matplotlib.pyplot as plt\n",
    "\n",
    "The data are adapted from the website of the undergraduate text book Principles of Econometrics by Hill, Griffiths and Lim.\n",
    "Instructions\n",
    "100 XP\n",
    "\n",
    "    Import the module SAS7BDAT from the library sas7bdat.\n",
    "#    In the context of the file 'sales.sas7bdat', load its contents to a DataFrame df_sas, using the method to_data_frame() on the object file.\n",
    "    Print the head of the DataFrame df_sas.\n",
    "    Execute your entire script to produce a histogram plot!\n"
   ]
  },
  {
   "cell_type": "code",
   "execution_count": 40,
   "id": "afc1e2cd-bd0b-467a-a9d0-441cd95e48cc",
   "metadata": {},
   "outputs": [
    {
     "name": "stdout",
     "output_type": "stream",
     "text": [
      "     YEAR     P           S\n",
      "0  1950.0  12.9  181.899994\n",
      "1  1951.0  11.9  245.000000\n",
      "2  1952.0  10.7  250.199997\n",
      "3  1953.0  11.3  265.899994\n",
      "4  1954.0  11.2  248.500000\n"
     ]
    },
    {
     "data": {
      "image/png": "[encoded data removed]",
      "text/plain": [
       "<Figure size 432x288 with 1 Axes>"
      ]
     },
     "metadata": {
      "needs_background": "light"
     },
     "output_type": "display_data"
    },
    {
     "data": {
      "image/png": "[encoded data removed]",
      "text/plain": [
       "<Figure size 432x288 with 1 Axes>"
      ]
     },
     "metadata": {
      "needs_background": "light"
     },
     "output_type": "display_data"
    }
   ],
   "source": [
    "import matplotlib.pyplot as plt\n",
    "from sas7bdat import SAS7BDAT\n",
    "\n",
    "\n",
    "\n",
    "with SAS7BDAT('sales.sas7bdat') as file:\n",
    "    sas_df = file.to_data_frame()\n",
    "    \n",
    "    \n",
    "print(sas_df.head())\n",
    "\n",
    "\n",
    "sas_df['P'].hist()\n",
    "plt.show()\n",
    "\n",
    "\n",
    "\n",
    "# Plot histogram of DataFrame features (pandas and pyplot already imported)\n",
    "pd.DataFrame.hist(sas_df[['P']])\n",
    "plt.ylabel('count')\n",
    "plt.show()"
   ]
  },
  {
   "cell_type": "markdown",
   "id": "97af5181-f29e-4fa3-8319-b3da1fe4490e",
   "metadata": {},
   "source": [
    "## Using read_stata to import Stata files\n",
    "\n",
    "The pandas package has been imported in the environment as pd and the file disarea.dta is in your working directory. The data consist of disease extents for several diseases in various countries (more information can be found here).\n",
    "\n",
    "What is the correct way of using the read_stata() function to import disarea.dta into the object df?\n",
    "Instructions\n",
    "50 XP\n",
    "Possible Answers\n",
    "\n",
    "    df = 'disarea.dta'\n",
    "    df = read_stata.pd('disarea.dta')\n",
    "#    df = pd.read_stata('disarea.dta')\n",
    "    df = pd.read_stata(disarea.dta)\n",
    "    "
   ]
  },
  {
   "cell_type": "markdown",
   "id": "fb81b58f-9b7e-4179-b74b-5a4412255a0d",
   "metadata": {},
   "source": [
    "## Importing Stata files\n",
    "\n",
    "Here, you'll gain expertise in importing Stata files as DataFrames using the pd.read_stata() function from pandas. The last exercise's file, 'disarea.dta', is still in your working directory.\n",
    "Instructions\n",
    "100 XP\n",
    "\n",
    "    Use pd.read_stata() to load the file 'disarea.dta' into the DataFrame df.\n",
    "    Print the head of the DataFrame df.\n",
    "    Visualize your results by plotting a histogram of the column \"disa10\". We’ve already provided this code for you, so just run it!\n"
   ]
  },
  {
   "cell_type": "code",
   "execution_count": 46,
   "id": "af4b36df-6a19-4eb3-8b60-e905d9db6234",
   "metadata": {},
   "outputs": [
    {
     "name": "stdout",
     "output_type": "stream",
     "text": [
      "  wbcode               country  disa1  disa2  disa3  disa4  disa5  disa6  \\\n",
      "0    AFG           Afghanistan   0.00   0.00   0.76   0.73    0.0   0.00   \n",
      "1    AGO                Angola   0.32   0.02   0.56   0.00    0.0   0.00   \n",
      "2    ALB               Albania   0.00   0.00   0.02   0.00    0.0   0.00   \n",
      "3    ARE  United Arab Emirates   0.00   0.00   0.00   0.00    0.0   0.00   \n",
      "4    ARG             Argentina   0.00   0.24   0.24   0.00    0.0   0.23   \n",
      "\n",
      "   disa7  disa8  ...  disa16  disa17  disa18  disa19  disa20  disa21  disa22  \\\n",
      "0   0.00    0.0  ...     0.0     0.0     0.0    0.00    0.00     0.0    0.00   \n",
      "1   0.56    0.0  ...     0.0     0.4     0.0    0.61    0.00     0.0    0.99   \n",
      "2   0.00    0.0  ...     0.0     0.0     0.0    0.00    0.00     0.0    0.00   \n",
      "3   0.00    0.0  ...     0.0     0.0     0.0    0.00    0.00     0.0    0.00   \n",
      "4   0.00    0.0  ...     0.0     0.0     0.0    0.00    0.05     0.0    0.00   \n",
      "\n",
      "   disa23  disa24  disa25  \n",
      "0    0.02    0.00    0.00  \n",
      "1    0.98    0.61    0.00  \n",
      "2    0.00    0.00    0.16  \n",
      "3    0.00    0.00    0.00  \n",
      "4    0.01    0.00    0.11  \n",
      "\n",
      "[5 rows x 27 columns]\n"
     ]
    },
    {
     "data": {
      "image/png": "[encoded data removed]",
      "text/plain": [
       "<Figure size 432x288 with 1 Axes>"
      ]
     },
     "metadata": {
      "needs_background": "light"
     },
     "output_type": "display_data"
    },
    {
     "data": {
      "image/png": "[encoded data removed]",
      "text/plain": [
       "<Figure size 432x288 with 1 Axes>"
      ]
     },
     "metadata": {
      "needs_background": "light"
     },
     "output_type": "display_data"
    }
   ],
   "source": [
    "df_stata = pd.read_stata('disarea.dta')\n",
    "\n",
    "\n",
    "print(df_stata.head())\n",
    "\n",
    "\n",
    "df_stata['disa10'].hist()\n",
    "plt.show()\n",
    "\n",
    "\n",
    "\n",
    "# Plot histogram of one column of the DataFrame\n",
    "pd.DataFrame.hist(df_stata[['disa10']])  ############################################################################\n",
    "plt.xlabel('Extent of disease')          # Automatically gained a Header of given DF\n",
    "plt.ylabel('Number of countries')\n",
    "plt.show()"
   ]
  },
  {
   "cell_type": "markdown",
   "id": "5b6a7ce2-9d00-4f91-a32b-9bc9457f05bd",
   "metadata": {},
   "source": [
    "## Importing HDF5 files\n",
    "\n",
    "\n",
    "\n",
    "\n",
    "\n",
    "\n",
    "\n",
    "**According to the 2013 O'Reilly book Python and HDF5 by Andrew Collette, in the Python world, consensus is rapidly converging on Hierarchical Data Format version 5 or \"HDF5\", as the standard mechanism for storing large quantities of numerical data.  But how large are we talking here?  According to Collette, \"Its now relatively common to deal with datasets hundreds of gigabytes or even terabytes in size; HDF5 itself can scale up to exabytes\"\n",
    "\n",
    "\n",
    "# *******************************************************************************************************************\n",
    "Lets explore with a concrete example from LIGO, the Laser Interferometer Gravitational-Wave Observatory project.  You first import the package h5py and then import the file using \"h5py.File()\" function, also remember to use \"r\" in order to to specify read only.  Printing the datatype to the shell reveals that we are dealing with an h5py.  \n",
    "\n",
    "# BUT what is the structure of this file???  \n",
    "You can explore its hierarchical structure as you would that of a Python dictionary using the method \".keys()\".  In below example, you see that there are three keys, \"meta\", \"quality\", \"strain\".  Each of these is an HDF group.  You can think of these groups as directories.  \n",
    "\n",
    "The LIGO documentation tells us that \"meta\" contains meta-data for the file, \"quality\" contains information about data quality and \"strain\" contains strain data from the interferometer, the main measurement performed by LIGO, the data of interest.  If you knew what data and metadata should be in each group, you could access it atraightforwardly.  \n",
    "However, if not, due to the hierarchical nature of the file structure, it is easy to explore.  For example, lets say you wanted to find out what type of metadata there is, you could easily print out the keys.  Now you know the keys, you can access any metadata of interest.  If you are interested in \"Description\" and \"Detector\", all you need to do is print the corresponding values just like dictionaries ( But do not use \".value\" or \".values()\" of dict, need to use \"[()]\" instead ).  You see that the data in the file is \"Strain data time series from LIGO\" and that the detector used was 'H1'.  Next perhaps you wouldlike to check out the actual data?  Great ideaand thats precisely what you're going to do in the upcomming exercises.  \n",
    "\n",
    "\n",
    "Before you do so, it is also worth noting that the HDF project is actively maintained by the HDF Group, based in Champaign, Illinois and formerly part of the university of Illinois Urbana-Champaign.  \n",
    "\n",
    "\n"
   ]
  },
  {
   "cell_type": "code",
   "execution_count": 9,
   "id": "9961227c-9f21-4b90-9945-977fcec3c1ab",
   "metadata": {},
   "outputs": [
    {
     "name": "stdout",
     "output_type": "stream",
     "text": [
      "<class 'h5py._hl.files.File'>\n",
      "<KeysViewHDF5 ['meta', 'quality', 'strain']>\n",
      "<class 'h5py._hl.group.Group'>\n",
      "<KeysViewHDF5 ['Description', 'DescriptionURL', 'Detector', 'Duration', 'GPSstart', 'Observatory', 'Type', 'UTCstart']>\n",
      "b'L'\n",
      "\n",
      "\n",
      "b'Strain data time series from LIGO'\n",
      "b'http://losc.ligo.org/'\n",
      "b'L1'\n",
      "32\n",
      "1126259446\n",
      "b'L'\n",
      "b'StrainTimeSeries'\n",
      "b'2015-09-14T09:50:30'\n"
     ]
    }
   ],
   "source": [
    "path = 'L-L1_LOSC_4_V1-1126259446-32.hdf5'\n",
    "\n",
    "\n",
    "\n",
    "import h5py\n",
    "import pandas as pd\n",
    "import matplotlib.pyplot as plt\n",
    "\n",
    "\n",
    "df = h5py.File(path, 'r')\n",
    "\n",
    "\n",
    "print(type(df))\n",
    "\n",
    "print(df.keys())\n",
    "\n",
    "print(type(df['meta']))\n",
    "\n",
    "print(df['meta'].keys())\n",
    "\n",
    "\n",
    "#print(df['meta']['Observatory'].value)\n",
    "print(df['meta']['Observatory'][()])  ###############################################################################\n",
    "                                      # Pretty interesting\n",
    "\n",
    "print('\\n')\n",
    "    \n",
    "for i in df['meta'].keys():\n",
    "    print(df['meta'][i][()])"
   ]
  },
  {
   "cell_type": "markdown",
   "id": "b41d6278-8166-479a-bdaa-8e1f21e4f68b",
   "metadata": {},
   "source": [
    "## Using File to import HDF5 files\n",
    "\n",
    "The h5py package has been imported in the environment and the file LIGO_data.hdf5 is loaded in the object h5py_file.\n",
    "\n",
    "What is the correct way of using the h5py function, File(), to import the file in h5py_file into an object, h5py_data, for reading only?\n",
    "Instructions\n",
    "50 XP\n",
    "Possible Answers\n",
    "\n",
    "    h5py_data = File(h5py_file, 'r')\n",
    "#    h5py_data = h5py.File(h5py_file, 'r')\n",
    "    h5py_data = h5py.File(h5py_file, read)\n",
    "    h5py_data = h5py.File(h5py_file, 'read')\n",
    "    "
   ]
  },
  {
   "cell_type": "markdown",
   "id": "e44b6bbf-bb3b-4325-a2fb-e54dae3f39fc",
   "metadata": {},
   "source": [
    "## Using h5py to import HDF5 files\n",
    "\n",
    "The file 'LIGO_data.hdf5' is already in your working directory. In this exercise, you'll import it using the h5py library. You'll also print out its datatype to confirm you have imported it correctly. You'll then study the structure of the file in order to see precisely what HDF groups it contains.\n",
    "\n",
    "You can find the LIGO data plus loads of documentation and tutorials here. There is also a great tutorial on Signal Processing with the data here.\n",
    "Instructions\n",
    "100 XP\n",
    "\n",
    "    Import the package h5py.\n",
    "    Assign the name of the file to the variable file.\n",
    "    Load the file as read only into the variable data.\n",
    "    Print the datatype of data.\n",
    "    Print the names of the groups in the HDF5 file 'LIGO_data.hdf5'.\n"
   ]
  },
  {
   "cell_type": "code",
   "execution_count": 18,
   "id": "c88d2935-53a8-417c-b2f3-8dfdd5d3eece",
   "metadata": {},
   "outputs": [
    {
     "name": "stdout",
     "output_type": "stream",
     "text": [
      "<KeysViewHDF5 ['meta', 'quality', 'strain']>\n",
      "<class 'h5py._hl.files.File'>\n",
      "\n",
      "\n",
      "meta\n",
      "<KeysViewHDF5 ['Description', 'DescriptionURL', 'Detector', 'Duration', 'GPSstart', 'Observatory', 'Type', 'UTCstart']>\n",
      "quality\n",
      "<KeysViewHDF5 ['detail', 'injections', 'simple']>\n",
      "strain\n",
      "<KeysViewHDF5 ['Strain']>\n"
     ]
    }
   ],
   "source": [
    "import h5py\n",
    "\n",
    "\n",
    "path = 'LIGO_data.hdf5'\n",
    "\n",
    "h5_df = h5py.File(path, 'r')\n",
    "\n",
    "\n",
    "print(h5_df.keys())\n",
    "\n",
    "print(type(h5_df))\n",
    "print('\\n')\n",
    "\n",
    "\n",
    "for i in h5_df.keys():\n",
    "    print(i)\n",
    "    print(h5_df[i].keys())"
   ]
  },
  {
   "cell_type": "markdown",
   "id": "734caa75-5d84-4e5b-b7f9-62b6faa70edb",
   "metadata": {},
   "source": [
    "## Extracting data from your HDF5 file\n",
    "\n",
    "In this exercise, you'll extract some of the LIGO experiment's actual data from the HDF5 file and you'll visualize it.\n",
    "\n",
    "To do so, you'll need to first explore the HDF5 group 'strain'.\n",
    "Instructions\n",
    "100 XP\n",
    "\n",
    "    Assign the HDF5 group data['strain'] to group.\n",
    "    In the for loop, print out the keys of the HDF5 group in group.\n",
    "#    Assign to the variable strain the values of the time series data data['strain']['Strain'] using the attribute .value. ( remember what I said? use what instead? keep thinking )\n",
    "    Set num_samples equal to 10000, the number of time points we wish to sample.\n",
    "    Execute the rest of the code to produce a plot of the time series data in LIGO_data.hdf5.\n"
   ]
  },
  {
   "cell_type": "code",
   "execution_count": 31,
   "id": "1fc1fffe-ac4a-498c-a83d-ccfcf7fa0ef7",
   "metadata": {},
   "outputs": [
    {
     "name": "stdout",
     "output_type": "stream",
     "text": [
      "<KeysViewHDF5 ['Strain']>\n",
      "[-1.77955839e-18 -1.76552067e-18 -1.71049117e-18 ... -1.76375155e-18\n",
      " -1.72364846e-18 -1.71969299e-18]\n",
      "(131072,)\n"
     ]
    },
    {
     "data": {
      "image/png": "[encoded data removed]",
      "text/plain": [
       "<Figure size 864x576 with 1 Axes>"
      ]
     },
     "metadata": {
      "needs_background": "light"
     },
     "output_type": "display_data"
    }
   ],
   "source": [
    "import numpy as np\n",
    "import matplotlib.pyplot as plt\n",
    "\n",
    "\n",
    "\n",
    "group = h5_df['strain']\n",
    "\n",
    "print(group.keys())\n",
    "\n",
    "\n",
    "\n",
    "strain_data = group['Strain'][()]\n",
    "print(group['Strain'][()])\n",
    "\n",
    "print(strain_data.shape)\n",
    "\n",
    "\n",
    "num_samples = 10000\n",
    "\n",
    "time = np.arange(0, 1, 1/10000)\n",
    "\n",
    "\n",
    "\n",
    "plt.figure(figsize=(12, 8))  ########################################################################################\n",
    "plt.plot(time, strain_data[:10000])\n",
    "\n",
    "\n",
    "\n",
    "plt.show()"
   ]
  },
  {
   "cell_type": "code",
   "execution_count": null,
   "id": "46e147a3-5096-4e3f-b837-8db8ea27e797",
   "metadata": {},
   "outputs": [],
   "source": [
    "import numpy as np\n",
    "\n",
    "\n",
    "#help(np.arange)\n",
    "\n",
    "\n",
    "#help(plt.plot)\n",
    "\n",
    "\n",
    "\n",
    "# Get the HDF5 group: group\n",
    "\n",
    "\n",
    "# Check out keys of group\n",
    "for key in ____:\n",
    "    print(____)\n",
    "\n",
    "# Set variable equal to time series data: strain\n",
    "\n",
    "\n",
    "# Set number of time points to sample: num_samples\n",
    "\n",
    "\n",
    "# Set time vector\n",
    "time = np.arange(0, 1, 1/num_samples)\n",
    "\n",
    "# Plot data\n",
    "plt.plot(time, strain[:num_samples])\n",
    "plt.xlabel('GPS Time (s)')\n",
    "plt.ylabel('strain')\n",
    "plt.show()\n"
   ]
  },
  {
   "cell_type": "markdown",
   "id": "6b4e1e55-a749-40d0-aa90-52b0919b6115",
   "metadata": {},
   "source": [
    "## Importing MATLAB files\n",
    "\n",
    "\n",
    "\n",
    "\n",
    "\n",
    "**MATLIB, which is short for Matrix Laboratory, is a numerical computing environment that is that is an industry standard in the disciplines of engineering and science.  This is due to its powerful linear algebra and matrix capabilities, in part to its proprietary nature and in part to how difficult the academic world finds it to shake off old habits.  Regardless of the reasons for itswidespread use, \n",
    "\n"
   ]
  },
  {
   "cell_type": "code",
   "execution_count": null,
   "id": "fc4d500f-1af8-4706-aa9b-8594e4357d79",
   "metadata": {},
   "outputs": [],
   "source": []
  },
  {
   "cell_type": "code",
   "execution_count": null,
   "id": "9c4d311b-3709-4f8d-892d-2a3007034eaa",
   "metadata": {},
   "outputs": [],
   "source": []
  },
  {
   "cell_type": "code",
   "execution_count": null,
   "id": "77c90d27-c4db-4982-9754-c734a40f61c9",
   "metadata": {},
   "outputs": [],
   "source": []
  },
  {
   "cell_type": "code",
   "execution_count": null,
   "id": "2866fc39-bb22-4619-93ce-db24d8c92bb0",
   "metadata": {},
   "outputs": [],
   "source": []
  },
  {
   "cell_type": "code",
   "execution_count": null,
   "id": "f5366c18-3ec0-49d1-a51e-a1a5fddad51e",
   "metadata": {},
   "outputs": [],
   "source": []
  },
  {
   "cell_type": "code",
   "execution_count": null,
   "id": "5df90ec4-4daf-45d3-baee-2ab2dc56d14b",
   "metadata": {},
   "outputs": [],
   "source": []
  },
  {
   "cell_type": "code",
   "execution_count": null,
   "id": "b9b7f2a8-6f20-4c3e-8e10-daba4f48e47c",
   "metadata": {},
   "outputs": [],
   "source": []
  },
  {
   "cell_type": "code",
   "execution_count": null,
   "id": "b2a4be84-87b2-4d6f-8f7d-1f192d186a91",
   "metadata": {},
   "outputs": [],
   "source": []
  },
  {
   "cell_type": "code",
   "execution_count": null,
   "id": "31027e3f-aa38-4337-9027-a297df2ae838",
   "metadata": {},
   "outputs": [],
   "source": []
  },
  {
   "cell_type": "code",
   "execution_count": null,
   "id": "93c5dda4-c429-4e70-ae9e-fce301cf064f",
   "metadata": {},
   "outputs": [],
   "source": []
  },
  {
   "cell_type": "code",
   "execution_count": null,
   "id": "ce097099-19ae-4fcc-87ea-5f0732fb1d50",
   "metadata": {},
   "outputs": [],
   "source": []
  },
  {
   "cell_type": "code",
   "execution_count": null,
   "id": "ad12e97d-7ec6-4566-94b5-b3a344ee6cad",
   "metadata": {},
   "outputs": [],
   "source": []
  },
  {
   "cell_type": "code",
   "execution_count": null,
   "id": "890984c6-8842-46f0-9fec-8ed875c26d6d",
   "metadata": {},
   "outputs": [],
   "source": []
  },
  {
   "cell_type": "code",
   "execution_count": null,
   "id": "a1434803-242f-4235-a036-bc0a2675a44d",
   "metadata": {},
   "outputs": [],
   "source": []
  },
  {
   "cell_type": "code",
   "execution_count": null,
   "id": "b3aa2205-cc30-4a5c-b0fe-cbad92d9f39b",
   "metadata": {},
   "outputs": [],
   "source": []
  },
  {
   "cell_type": "code",
   "execution_count": null,
   "id": "f8b5b173-af5d-4cee-a94c-0da6e793b52d",
   "metadata": {},
   "outputs": [],
   "source": []
  },
  {
   "cell_type": "code",
   "execution_count": null,
   "id": "7a0dc779-b999-4268-8296-9ad380992936",
   "metadata": {},
   "outputs": [],
   "source": []
  },
  {
   "cell_type": "code",
   "execution_count": null,
   "id": "41631c10-f10d-49b6-98e4-24ff307bf5de",
   "metadata": {},
   "outputs": [],
   "source": []
  },
  {
   "cell_type": "code",
   "execution_count": null,
   "id": "ac4b96a7-9c74-411b-9e47-89825cca6da9",
   "metadata": {},
   "outputs": [],
   "source": []
  },
  {
   "cell_type": "code",
   "execution_count": null,
   "id": "c3246e8d-9f8c-47cf-95c4-3b79efe66a1a",
   "metadata": {},
   "outputs": [],
   "source": []
  },
  {
   "cell_type": "code",
   "execution_count": null,
   "id": "1aa4e971-9d41-4755-ae04-8170f68b2e71",
   "metadata": {},
   "outputs": [],
   "source": []
  },
  {
   "cell_type": "code",
   "execution_count": null,
   "id": "bd0ce939-8d43-482c-9e7d-7ef79c0ab95c",
   "metadata": {},
   "outputs": [],
   "source": []
  },
  {
   "cell_type": "code",
   "execution_count": null,
   "id": "e19f579c-24fb-42ae-87d1-ac937410ea67",
   "metadata": {},
   "outputs": [],
   "source": []
  },
  {
   "cell_type": "code",
   "execution_count": null,
   "id": "78134c5f-9c7a-46e3-900a-61c88aa8585b",
   "metadata": {},
   "outputs": [],
   "source": []
  },
  {
   "cell_type": "code",
   "execution_count": null,
   "id": "f5f50cae-d308-41a8-9b76-5d7307cbde0e",
   "metadata": {},
   "outputs": [],
   "source": []
  },
  {
   "cell_type": "code",
   "execution_count": null,
   "id": "c1d65884-77f6-40e4-a972-adfd711312e0",
   "metadata": {},
   "outputs": [],
   "source": []
  },
  {
   "cell_type": "code",
   "execution_count": null,
   "id": "245b9db4-35d2-4562-946c-0ce5374ef474",
   "metadata": {},
   "outputs": [],
   "source": []
  },
  {
   "cell_type": "code",
   "execution_count": null,
   "id": "9ecea3d5-e785-4dfe-acce-af453a0f1a93",
   "metadata": {},
   "outputs": [],
   "source": []
  },
  {
   "cell_type": "code",
   "execution_count": null,
   "id": "e6cc9d9d-3c6c-486f-a19f-16489283d87c",
   "metadata": {},
   "outputs": [],
   "source": []
  },
  {
   "cell_type": "code",
   "execution_count": null,
   "id": "3410dbef-91f7-4354-b771-79bd0ee78680",
   "metadata": {},
   "outputs": [],
   "source": []
  },
  {
   "cell_type": "code",
   "execution_count": null,
   "id": "79f92f75-2aba-449e-8134-47955851d481",
   "metadata": {},
   "outputs": [],
   "source": []
  },
  {
   "cell_type": "code",
   "execution_count": null,
   "id": "9df17276-ae0d-4b2e-b89e-633b0df408b4",
   "metadata": {},
   "outputs": [],
   "source": []
  },
  {
   "cell_type": "code",
   "execution_count": null,
   "id": "d419280b-2d36-4abc-a70b-cccd4d8be810",
   "metadata": {},
   "outputs": [],
   "source": []
  },
  {
   "cell_type": "code",
   "execution_count": null,
   "id": "92ce7860-5d76-4ba4-a44e-682ce6370291",
   "metadata": {},
   "outputs": [],
   "source": []
  },
  {
   "cell_type": "code",
   "execution_count": null,
   "id": "e5c74a80-8393-4294-8210-82e90b87cc5f",
   "metadata": {},
   "outputs": [],
   "source": []
  },
  {
   "cell_type": "code",
   "execution_count": null,
   "id": "b717753d-8395-4562-bfd9-2be4f829d89a",
   "metadata": {},
   "outputs": [],
   "source": []
  },
  {
   "cell_type": "code",
   "execution_count": null,
   "id": "57897827-a701-4a76-9cad-b423d94f257b",
   "metadata": {},
   "outputs": [],
   "source": []
  },
  {
   "cell_type": "code",
   "execution_count": null,
   "id": "b9ec5c46-9e15-44d3-943c-8436a9f9ff5a",
   "metadata": {},
   "outputs": [],
   "source": []
  },
  {
   "cell_type": "code",
   "execution_count": null,
   "id": "f554b83a-f314-41a3-bb3e-be96b4572136",
   "metadata": {},
   "outputs": [],
   "source": []
  },
  {
   "cell_type": "code",
   "execution_count": null,
   "id": "ef469aff-629f-42bc-86ab-8a23e1c6fac5",
   "metadata": {},
   "outputs": [],
   "source": []
  },
  {
   "cell_type": "code",
   "execution_count": null,
   "id": "33784e94-5463-4664-abc2-507a369947c5",
   "metadata": {},
   "outputs": [],
   "source": []
  },
  {
   "cell_type": "code",
   "execution_count": null,
   "id": "dc24cf89-1565-414d-ae78-7ac498df109f",
   "metadata": {},
   "outputs": [],
   "source": []
  },
  {
   "cell_type": "code",
   "execution_count": null,
   "id": "162302e4-7a64-40d5-9a50-24e683d9478d",
   "metadata": {},
   "outputs": [],
   "source": []
  },
  {
   "cell_type": "code",
   "execution_count": null,
   "id": "ebf95c52-bbb9-4f59-a24d-ec240d547e6a",
   "metadata": {},
   "outputs": [],
   "source": []
  },
  {
   "cell_type": "code",
   "execution_count": null,
   "id": "ca2476af-3d30-4e6c-b018-29587dfbe03a",
   "metadata": {},
   "outputs": [],
   "source": []
  }
 ],
 "metadata": {
  "kernelspec": {
   "display_name": "Python 3 (ipykernel)",
   "language": "python",
   "name": "python3"
  },
  "language_info": {
   "codemirror_mode": {
    "name": "ipython",
    "version": 3
   },
   "file_extension": ".py",
   "mimetype": "text/x-python",
   "name": "python",
   "nbconvert_exporter": "python",
   "pygments_lexer": "ipython3",
   "version": "3.9.2"
  }
 },
 "nbformat": 4,
 "nbformat_minor": 5
}
